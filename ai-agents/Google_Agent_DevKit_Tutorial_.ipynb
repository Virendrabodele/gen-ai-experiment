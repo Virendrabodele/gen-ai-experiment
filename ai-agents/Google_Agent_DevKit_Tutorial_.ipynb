{
  "cells": [
    {
      "cell_type": "markdown",
      "metadata": {
        "id": "IlCNZngUqM1d"
      },
      "source": [
        "<img src=\"https://drive.google.com/uc?export=view&id=1wYSMgJtARFdvTt5g7E20mE4NmwUFUuog\" width=\"200\">\n",
        "\n",
        "[![Gen AI Experiments](https://img.shields.io/badge/Gen%20AI%20Experiments-GenAI%20Bootcamp-blue?style=for-the-badge&logo=artificial-intelligence)](https://github.com/buildfastwithai/gen-ai-experiments)\n",
        "[![Gen AI Experiments GitHub](https://img.shields.io/github/stars/buildfastwithai/gen-ai-experiments?style=for-the-badge&logo=github&color=gold)](http://github.com/buildfastwithai/gen-ai-experiments)\n",
        "\n",
        "\n",
        "[![Open In Colab](https://colab.research.google.com/assets/colab-badge.svg)](https://colab.research.google.com/drive/11RH-EJwRcSX401Kh52ZwSiXdi85MSn2n?usp=sharing)\n"
      ]
    },
    {
      "cell_type": "markdown",
      "metadata": {},
      "source": [
        "\n",
        "## Master Generative AI in 8 Weeks\n",
        "**What You'll Learn:**\n",
        "- Master cutting-edge AI tools & frameworks\n",
        "- 6 weeks of hands-on, project-based learning\n",
        "- Weekly live mentorship sessions\n",
        "- Join Innovation Community\n",
        "\n",
        "Learn by building. Get expert mentorship and work on real AI projects.\n",
        "[Start Your Journey](https://www.buildfastwithai.com/genai-course)"
      ]
    },
    {
      "cell_type": "markdown",
      "metadata": {
        "id": "Vsf1E_sQqTXq"
      },
      "source": [
        "##📘 Google ADK (Agent Development Kit) Notebook: Search Assistant"
      ]
    },
    {
      "cell_type": "markdown",
      "metadata": {
        "id": "D7LEI__zqbWq"
      },
      "source": [
        "An open-source, code-first Python toolkit for building, evaluating, and deploying sophisticated AI agents with flexibility and control.\n",
        "\n",
        "Agent Development Kit (ADK) is designed for developers seeking fine-grained control and flexibility when building advanced AI agents that are tightly integrated with services in Google Cloud. It allows you to define agent behavior, orchestration, and tool use directly in code, enabling robust debugging, versioning, and deployment anywhere – from your laptop to the cloud."
      ]
    },
    {
      "cell_type": "markdown",
      "metadata": {
        "id": "E26jhUD2p6Gf"
      },
      "source": [
        "<img src=\"https://github.com/google/adk-docs/blob/main/docs/assets/agent-development-kit.png?raw=true\" width=\"200\">"
      ]
    },
    {
      "cell_type": "markdown",
      "metadata": {
        "id": "xE17asIHnzwE"
      },
      "source": [
        "###✅ Installing Required Packages"
      ]
    },
    {
      "cell_type": "code",
      "execution_count": null,
      "metadata": {
        "colab": {
          "base_uri": "https://localhost:8080/",
          "height": 1000
        },
        "collapsed": true,
        "id": "b7y6yc7Umh7t",
        "outputId": "965813c2-dbd7-4113-8029-dee0a8e70a4b"
      },
      "outputs": [
        {
          "name": "stdout",
          "output_type": "stream",
          "text": [
            "Collecting google-adk\n",
            "  Downloading google_adk-0.1.0-py3-none-any.whl.metadata (7.0 kB)\n",
            "Collecting authlib>=1.5.1 (from google-adk)\n",
            "  Downloading authlib-1.5.2-py2.py3-none-any.whl.metadata (3.9 kB)\n",
            "Requirement already satisfied: click>=8.1.8 in /usr/local/lib/python3.11/dist-packages (from google-adk) (8.1.8)\n",
            "Collecting fastapi>=0.115.0 (from google-adk)\n",
            "  Downloading fastapi-0.115.12-py3-none-any.whl.metadata (27 kB)\n",
            "Requirement already satisfied: google-api-python-client>=2.157.0 in /usr/local/lib/python3.11/dist-packages (from google-adk) (2.164.0)\n",
            "Requirement already satisfied: google-cloud-aiplatform>=1.87.0 in /usr/local/lib/python3.11/dist-packages (from google-adk) (1.88.0)\n",
            "Collecting google-cloud-secret-manager>=2.22.0 (from google-adk)\n",
            "  Downloading google_cloud_secret_manager-2.23.2-py3-none-any.whl.metadata (9.5 kB)\n",
            "Collecting google-cloud-speech>=2.30.0 (from google-adk)\n",
            "  Downloading google_cloud_speech-2.32.0-py3-none-any.whl.metadata (9.5 kB)\n",
            "Requirement already satisfied: google-cloud-storage<3.0.0,>=2.18.0 in /usr/local/lib/python3.11/dist-packages (from google-adk) (2.19.0)\n",
            "Requirement already satisfied: google-genai>=1.9.0 in /usr/local/lib/python3.11/dist-packages (from google-adk) (1.10.0)\n",
            "Requirement already satisfied: graphviz>=0.20.2 in /usr/local/lib/python3.11/dist-packages (from google-adk) (0.20.3)\n",
            "Collecting mcp>=1.5.0 (from google-adk)\n",
            "  Downloading mcp-1.6.0-py3-none-any.whl.metadata (20 kB)\n",
            "Requirement already satisfied: opentelemetry-api>=1.31.0 in /usr/local/lib/python3.11/dist-packages (from google-adk) (1.31.1)\n",
            "Collecting opentelemetry-exporter-gcp-trace>=1.9.0 (from google-adk)\n",
            "  Downloading opentelemetry_exporter_gcp_trace-1.9.0-py3-none-any.whl.metadata (3.3 kB)\n",
            "Requirement already satisfied: opentelemetry-sdk>=1.31.0 in /usr/local/lib/python3.11/dist-packages (from google-adk) (1.31.1)\n",
            "Requirement already satisfied: pydantic<3.0.0,>=2.0 in /usr/local/lib/python3.11/dist-packages (from google-adk) (2.11.3)\n",
            "Collecting python-dotenv>=1.0.0 (from google-adk)\n",
            "  Downloading python_dotenv-1.1.0-py3-none-any.whl.metadata (24 kB)\n",
            "Requirement already satisfied: PyYAML>=6.0.2 in /usr/local/lib/python3.11/dist-packages (from google-adk) (6.0.2)\n",
            "Requirement already satisfied: sqlalchemy>=2.0 in /usr/local/lib/python3.11/dist-packages (from google-adk) (2.0.40)\n",
            "Requirement already satisfied: tzlocal>=5.3 in /usr/local/lib/python3.11/dist-packages (from google-adk) (5.3.1)\n",
            "Collecting uvicorn>=0.34.0 (from google-adk)\n",
            "  Downloading uvicorn-0.34.1-py3-none-any.whl.metadata (6.5 kB)\n",
            "Requirement already satisfied: cryptography in /usr/local/lib/python3.11/dist-packages (from authlib>=1.5.1->google-adk) (43.0.3)\n",
            "Collecting starlette<0.47.0,>=0.40.0 (from fastapi>=0.115.0->google-adk)\n",
            "  Downloading starlette-0.46.2-py3-none-any.whl.metadata (6.2 kB)\n",
            "Requirement already satisfied: typing-extensions>=4.8.0 in /usr/local/lib/python3.11/dist-packages (from fastapi>=0.115.0->google-adk) (4.13.1)\n",
            "Requirement already satisfied: httplib2<1.dev0,>=0.19.0 in /usr/local/lib/python3.11/dist-packages (from google-api-python-client>=2.157.0->google-adk) (0.22.0)\n",
            "Requirement already satisfied: google-auth!=2.24.0,!=2.25.0,<3.0.0.dev0,>=1.32.0 in /usr/local/lib/python3.11/dist-packages (from google-api-python-client>=2.157.0->google-adk) (2.38.0)\n",
            "Requirement already satisfied: google-auth-httplib2<1.0.0,>=0.2.0 in /usr/local/lib/python3.11/dist-packages (from google-api-python-client>=2.157.0->google-adk) (0.2.0)\n",
            "Requirement already satisfied: google-api-core!=2.0.*,!=2.1.*,!=2.2.*,!=2.3.0,<3.0.0.dev0,>=1.31.5 in /usr/local/lib/python3.11/dist-packages (from google-api-python-client>=2.157.0->google-adk) (2.24.2)\n",
            "Requirement already satisfied: uritemplate<5,>=3.0.1 in /usr/local/lib/python3.11/dist-packages (from google-api-python-client>=2.157.0->google-adk) (4.1.1)\n",
            "Requirement already satisfied: proto-plus<2.0.0,>=1.22.3 in /usr/local/lib/python3.11/dist-packages (from google-cloud-aiplatform>=1.87.0->google-adk) (1.26.1)\n",
            "Requirement already satisfied: protobuf!=4.21.0,!=4.21.1,!=4.21.2,!=4.21.3,!=4.21.4,!=4.21.5,<6.0.0,>=3.20.2 in /usr/local/lib/python3.11/dist-packages (from google-cloud-aiplatform>=1.87.0->google-adk) (5.29.4)\n",
            "Requirement already satisfied: packaging>=14.3 in /usr/local/lib/python3.11/dist-packages (from google-cloud-aiplatform>=1.87.0->google-adk) (24.2)\n",
            "Requirement already satisfied: google-cloud-bigquery!=3.20.0,<4.0.0,>=1.15.0 in /usr/local/lib/python3.11/dist-packages (from google-cloud-aiplatform>=1.87.0->google-adk) (3.31.0)\n",
            "Requirement already satisfied: google-cloud-resource-manager<3.0.0,>=1.3.3 in /usr/local/lib/python3.11/dist-packages (from google-cloud-aiplatform>=1.87.0->google-adk) (1.14.2)\n",
            "Requirement already satisfied: shapely<3.0.0 in /usr/local/lib/python3.11/dist-packages (from google-cloud-aiplatform>=1.87.0->google-adk) (2.1.0)\n",
            "Requirement already satisfied: docstring-parser<1 in /usr/local/lib/python3.11/dist-packages (from google-cloud-aiplatform>=1.87.0->google-adk) (0.16)\n",
            "Requirement already satisfied: grpc-google-iam-v1<1.0.0,>=0.14.0 in /usr/local/lib/python3.11/dist-packages (from google-cloud-secret-manager>=2.22.0->google-adk) (0.14.2)\n",
            "Requirement already satisfied: google-cloud-core<3.0dev,>=2.3.0 in /usr/local/lib/python3.11/dist-packages (from google-cloud-storage<3.0.0,>=2.18.0->google-adk) (2.4.3)\n",
            "Requirement already satisfied: google-resumable-media>=2.7.2 in /usr/local/lib/python3.11/dist-packages (from google-cloud-storage<3.0.0,>=2.18.0->google-adk) (2.7.2)\n",
            "Requirement already satisfied: requests<3.0.0dev,>=2.18.0 in /usr/local/lib/python3.11/dist-packages (from google-cloud-storage<3.0.0,>=2.18.0->google-adk) (2.32.3)\n",
            "Requirement already satisfied: google-crc32c<2.0dev,>=1.0 in /usr/local/lib/python3.11/dist-packages (from google-cloud-storage<3.0.0,>=2.18.0->google-adk) (1.7.1)\n",
            "Requirement already satisfied: anyio<5.0.0,>=4.8.0 in /usr/local/lib/python3.11/dist-packages (from google-genai>=1.9.0->google-adk) (4.9.0)\n",
            "Requirement already satisfied: httpx<1.0.0,>=0.28.1 in /usr/local/lib/python3.11/dist-packages (from google-genai>=1.9.0->google-adk) (0.28.1)\n",
            "Requirement already satisfied: websockets<15.1.0,>=13.0.0 in /usr/local/lib/python3.11/dist-packages (from google-genai>=1.9.0->google-adk) (15.0.1)\n",
            "Collecting httpx-sse>=0.4 (from mcp>=1.5.0->google-adk)\n",
            "  Downloading httpx_sse-0.4.0-py3-none-any.whl.metadata (9.0 kB)\n",
            "Collecting pydantic-settings>=2.5.2 (from mcp>=1.5.0->google-adk)\n",
            "  Downloading pydantic_settings-2.8.1-py3-none-any.whl.metadata (3.5 kB)\n",
            "Collecting sse-starlette>=1.6.1 (from mcp>=1.5.0->google-adk)\n",
            "  Downloading sse_starlette-2.2.1-py3-none-any.whl.metadata (7.8 kB)\n",
            "Requirement already satisfied: deprecated>=1.2.6 in /usr/local/lib/python3.11/dist-packages (from opentelemetry-api>=1.31.0->google-adk) (1.2.18)\n",
            "Requirement already satisfied: importlib-metadata<8.7.0,>=6.0 in /usr/local/lib/python3.11/dist-packages (from opentelemetry-api>=1.31.0->google-adk) (8.6.1)\n",
            "Collecting google-cloud-trace~=1.1 (from opentelemetry-exporter-gcp-trace>=1.9.0->google-adk)\n",
            "  Downloading google_cloud_trace-1.16.1-py3-none-any.whl.metadata (9.5 kB)\n",
            "Collecting opentelemetry-resourcedetector-gcp==1.*,>=1.5.0dev0 (from opentelemetry-exporter-gcp-trace>=1.9.0->google-adk)\n",
            "  Downloading opentelemetry_resourcedetector_gcp-1.9.0a0-py3-none-any.whl.metadata (2.4 kB)\n",
            "Requirement already satisfied: opentelemetry-semantic-conventions==0.52b1 in /usr/local/lib/python3.11/dist-packages (from opentelemetry-sdk>=1.31.0->google-adk) (0.52b1)\n",
            "Requirement already satisfied: annotated-types>=0.6.0 in /usr/local/lib/python3.11/dist-packages (from pydantic<3.0.0,>=2.0->google-adk) (0.7.0)\n",
            "Requirement already satisfied: pydantic-core==2.33.1 in /usr/local/lib/python3.11/dist-packages (from pydantic<3.0.0,>=2.0->google-adk) (2.33.1)\n",
            "Requirement already satisfied: typing-inspection>=0.4.0 in /usr/local/lib/python3.11/dist-packages (from pydantic<3.0.0,>=2.0->google-adk) (0.4.0)\n",
            "Requirement already satisfied: greenlet>=1 in /usr/local/lib/python3.11/dist-packages (from sqlalchemy>=2.0->google-adk) (3.1.1)\n",
            "Requirement already satisfied: h11>=0.8 in /usr/local/lib/python3.11/dist-packages (from uvicorn>=0.34.0->google-adk) (0.14.0)\n",
            "Requirement already satisfied: idna>=2.8 in /usr/local/lib/python3.11/dist-packages (from anyio<5.0.0,>=4.8.0->google-genai>=1.9.0->google-adk) (3.10)\n",
            "Requirement already satisfied: sniffio>=1.1 in /usr/local/lib/python3.11/dist-packages (from anyio<5.0.0,>=4.8.0->google-genai>=1.9.0->google-adk) (1.3.1)\n",
            "Requirement already satisfied: wrapt<2,>=1.10 in /usr/local/lib/python3.11/dist-packages (from deprecated>=1.2.6->opentelemetry-api>=1.31.0->google-adk) (1.17.2)\n",
            "Requirement already satisfied: googleapis-common-protos<2.0.0,>=1.56.2 in /usr/local/lib/python3.11/dist-packages (from google-api-core!=2.0.*,!=2.1.*,!=2.2.*,!=2.3.0,<3.0.0.dev0,>=1.31.5->google-api-python-client>=2.157.0->google-adk) (1.69.2)\n",
            "Requirement already satisfied: grpcio<2.0dev,>=1.33.2 in /usr/local/lib/python3.11/dist-packages (from google-api-core[grpc]!=2.0.*,!=2.1.*,!=2.2.*,!=2.3.*,!=2.4.*,!=2.5.*,!=2.6.*,!=2.7.*,<3.0.0,>=1.34.1->google-cloud-aiplatform>=1.87.0->google-adk) (1.71.0)\n",
            "Requirement already satisfied: grpcio-status<2.0.dev0,>=1.33.2 in /usr/local/lib/python3.11/dist-packages (from google-api-core[grpc]!=2.0.*,!=2.1.*,!=2.2.*,!=2.3.*,!=2.4.*,!=2.5.*,!=2.6.*,!=2.7.*,<3.0.0,>=1.34.1->google-cloud-aiplatform>=1.87.0->google-adk) (1.71.0)\n",
            "Requirement already satisfied: cachetools<6.0,>=2.0.0 in /usr/local/lib/python3.11/dist-packages (from google-auth!=2.24.0,!=2.25.0,<3.0.0.dev0,>=1.32.0->google-api-python-client>=2.157.0->google-adk) (5.5.2)\n",
            "Requirement already satisfied: pyasn1-modules>=0.2.1 in /usr/local/lib/python3.11/dist-packages (from google-auth!=2.24.0,!=2.25.0,<3.0.0.dev0,>=1.32.0->google-api-python-client>=2.157.0->google-adk) (0.4.2)\n",
            "Requirement already satisfied: rsa<5,>=3.1.4 in /usr/local/lib/python3.11/dist-packages (from google-auth!=2.24.0,!=2.25.0,<3.0.0.dev0,>=1.32.0->google-api-python-client>=2.157.0->google-adk) (4.9)\n",
            "Requirement already satisfied: python-dateutil<3.0.0,>=2.8.2 in /usr/local/lib/python3.11/dist-packages (from google-cloud-bigquery!=3.20.0,<4.0.0,>=1.15.0->google-cloud-aiplatform>=1.87.0->google-adk) (2.8.2)\n",
            "Requirement already satisfied: pyparsing!=3.0.0,!=3.0.1,!=3.0.2,!=3.0.3,<4,>=2.4.2 in /usr/local/lib/python3.11/dist-packages (from httplib2<1.dev0,>=0.19.0->google-api-python-client>=2.157.0->google-adk) (3.2.3)\n",
            "Requirement already satisfied: certifi in /usr/local/lib/python3.11/dist-packages (from httpx<1.0.0,>=0.28.1->google-genai>=1.9.0->google-adk) (2025.1.31)\n",
            "Requirement already satisfied: httpcore==1.* in /usr/local/lib/python3.11/dist-packages (from httpx<1.0.0,>=0.28.1->google-genai>=1.9.0->google-adk) (1.0.7)\n",
            "Requirement already satisfied: zipp>=3.20 in /usr/local/lib/python3.11/dist-packages (from importlib-metadata<8.7.0,>=6.0->opentelemetry-api>=1.31.0->google-adk) (3.21.0)\n",
            "Requirement already satisfied: charset-normalizer<4,>=2 in /usr/local/lib/python3.11/dist-packages (from requests<3.0.0dev,>=2.18.0->google-cloud-storage<3.0.0,>=2.18.0->google-adk) (3.4.1)\n",
            "Requirement already satisfied: urllib3<3,>=1.21.1 in /usr/local/lib/python3.11/dist-packages (from requests<3.0.0dev,>=2.18.0->google-cloud-storage<3.0.0,>=2.18.0->google-adk) (2.3.0)\n",
            "Requirement already satisfied: numpy>=1.21 in /usr/local/lib/python3.11/dist-packages (from shapely<3.0.0->google-cloud-aiplatform>=1.87.0->google-adk) (2.0.2)\n",
            "Requirement already satisfied: cffi>=1.12 in /usr/local/lib/python3.11/dist-packages (from cryptography->authlib>=1.5.1->google-adk) (1.17.1)\n",
            "Requirement already satisfied: pycparser in /usr/local/lib/python3.11/dist-packages (from cffi>=1.12->cryptography->authlib>=1.5.1->google-adk) (2.22)\n",
            "Requirement already satisfied: pyasn1<0.7.0,>=0.6.1 in /usr/local/lib/python3.11/dist-packages (from pyasn1-modules>=0.2.1->google-auth!=2.24.0,!=2.25.0,<3.0.0.dev0,>=1.32.0->google-api-python-client>=2.157.0->google-adk) (0.6.1)\n",
            "Requirement already satisfied: six>=1.5 in /usr/local/lib/python3.11/dist-packages (from python-dateutil<3.0.0,>=2.8.2->google-cloud-bigquery!=3.20.0,<4.0.0,>=1.15.0->google-cloud-aiplatform>=1.87.0->google-adk) (1.17.0)\n",
            "Downloading google_adk-0.1.0-py3-none-any.whl (1.2 MB)\n",
            "\u001b[2K   \u001b[90m━━━━━━━━━━━━━━━━━━━━━━━━━━━━━━━━━━━━━━━━\u001b[0m \u001b[32m1.2/1.2 MB\u001b[0m \u001b[31m15.0 MB/s\u001b[0m eta \u001b[36m0:00:00\u001b[0m\n",
            "\u001b[?25hDownloading authlib-1.5.2-py2.py3-none-any.whl (232 kB)\n",
            "\u001b[2K   \u001b[90m━━━━━━━━━━━━━━━━━━━━━━━━━━━━━━━━━━━━━━━━\u001b[0m \u001b[32m232.1/232.1 kB\u001b[0m \u001b[31m15.2 MB/s\u001b[0m eta \u001b[36m0:00:00\u001b[0m\n",
            "\u001b[?25hDownloading fastapi-0.115.12-py3-none-any.whl (95 kB)\n",
            "\u001b[2K   \u001b[90m━━━━━━━━━━━━━━━━━━━━━━━━━━━━━━━━━━━━━━━━\u001b[0m \u001b[32m95.2/95.2 kB\u001b[0m \u001b[31m5.0 MB/s\u001b[0m eta \u001b[36m0:00:00\u001b[0m\n",
            "\u001b[?25hDownloading google_cloud_secret_manager-2.23.2-py3-none-any.whl (215 kB)\n",
            "\u001b[2K   \u001b[90m━━━━━━━━━━━━━━━━━━━━━━━━━━━━━━━━━━━━━━━━\u001b[0m \u001b[32m215.5/215.5 kB\u001b[0m \u001b[31m10.0 MB/s\u001b[0m eta \u001b[36m0:00:00\u001b[0m\n",
            "\u001b[?25hDownloading google_cloud_speech-2.32.0-py3-none-any.whl (334 kB)\n",
            "\u001b[2K   \u001b[90m━━━━━━━━━━━━━━━━━━━━━━━━━━━━━━━━━━━━━━━━\u001b[0m \u001b[32m334.1/334.1 kB\u001b[0m \u001b[31m8.6 MB/s\u001b[0m eta \u001b[36m0:00:00\u001b[0m\n",
            "\u001b[?25hDownloading mcp-1.6.0-py3-none-any.whl (76 kB)\n",
            "\u001b[2K   \u001b[90m━━━━━━━━━━━━━━━━━━━━━━━━━━━━━━━━━━━━━━━━\u001b[0m \u001b[32m76.1/76.1 kB\u001b[0m \u001b[31m4.3 MB/s\u001b[0m eta \u001b[36m0:00:00\u001b[0m\n",
            "\u001b[?25hDownloading opentelemetry_exporter_gcp_trace-1.9.0-py3-none-any.whl (13 kB)\n",
            "Downloading opentelemetry_resourcedetector_gcp-1.9.0a0-py3-none-any.whl (20 kB)\n",
            "Downloading python_dotenv-1.1.0-py3-none-any.whl (20 kB)\n",
            "Downloading uvicorn-0.34.1-py3-none-any.whl (62 kB)\n",
            "\u001b[2K   \u001b[90m━━━━━━━━━━━━━━━━━━━━━━━━━━━━━━━━━━━━━━━━\u001b[0m \u001b[32m62.4/62.4 kB\u001b[0m \u001b[31m3.2 MB/s\u001b[0m eta \u001b[36m0:00:00\u001b[0m\n",
            "\u001b[?25hDownloading google_cloud_trace-1.16.1-py3-none-any.whl (103 kB)\n",
            "\u001b[2K   \u001b[90m━━━━━━━━━━━━━━━━━━━━━━━━━━━━━━━━━━━━━━━━\u001b[0m \u001b[32m103.3/103.3 kB\u001b[0m \u001b[31m2.8 MB/s\u001b[0m eta \u001b[36m0:00:00\u001b[0m\n",
            "\u001b[?25hDownloading httpx_sse-0.4.0-py3-none-any.whl (7.8 kB)\n",
            "Downloading pydantic_settings-2.8.1-py3-none-any.whl (30 kB)\n",
            "Downloading sse_starlette-2.2.1-py3-none-any.whl (10 kB)\n",
            "Downloading starlette-0.46.2-py3-none-any.whl (72 kB)\n",
            "\u001b[2K   \u001b[90m━━━━━━━━━━━━━━━━━━━━━━━━━━━━━━━━━━━━━━━━\u001b[0m \u001b[32m72.0/72.0 kB\u001b[0m \u001b[31m3.8 MB/s\u001b[0m eta \u001b[36m0:00:00\u001b[0m\n",
            "\u001b[?25hInstalling collected packages: uvicorn, python-dotenv, httpx-sse, starlette, sse-starlette, pydantic-settings, fastapi, authlib, mcp, opentelemetry-resourcedetector-gcp, google-cloud-trace, google-cloud-speech, google-cloud-secret-manager, opentelemetry-exporter-gcp-trace, google-adk\n",
            "Successfully installed authlib-1.5.2 fastapi-0.115.12 google-adk-0.1.0 google-cloud-secret-manager-2.23.2 google-cloud-speech-2.32.0 google-cloud-trace-1.16.1 httpx-sse-0.4.0 mcp-1.6.0 opentelemetry-exporter-gcp-trace-1.9.0 opentelemetry-resourcedetector-gcp-1.9.0a0 pydantic-settings-2.8.1 python-dotenv-1.1.0 sse-starlette-2.2.1 starlette-0.46.2 uvicorn-0.34.1\n"
          ]
        },
        {
          "data": {
            "application/vnd.colab-display-data+json": {
              "id": "9617075a62314f77a32a71938cac7cb5",
              "pip_warning": {
                "packages": [
                  "google"
                ]
              }
            }
          },
          "metadata": {},
          "output_type": "display_data"
        }
      ],
      "source": [
        "!pip install google-adk"
      ]
    },
    {
      "cell_type": "markdown",
      "metadata": {
        "id": "np38z3-ToByj"
      },
      "source": [
        "###🔑 Setting API Keys from Colab userdata"
      ]
    },
    {
      "cell_type": "code",
      "execution_count": null,
      "metadata": {
        "id": "pu2jCJPeoEKM"
      },
      "outputs": [],
      "source": [
        "from google.colab import userdata\n",
        "import os\n",
        "\n",
        "# Set API keys securely from Colab secret store\n",
        "os.environ[\"GOOGLE_API_KEY\"] = userdata.get(\"GOOGLE_API_KEY\")\n",
        "\n",
        "# Disable VertexAI usage for local Gemini access\n",
        "os.environ[\"GOOGLE_GENAI_USE_VERTEXAI\"] = \"0\""
      ]
    },
    {
      "cell_type": "markdown",
      "metadata": {
        "id": "_PZ-LNaeoyDA"
      },
      "source": [
        "### 1. Imports and Environment Setup\n"
      ]
    },
    {
      "cell_type": "code",
      "execution_count": null,
      "metadata": {
        "id": "q1ifmG1WorXZ"
      },
      "outputs": [],
      "source": [
        "# Core ADK and Gemini Imports\n",
        "import os\n",
        "from google.adk.agents import Agent\n",
        "from google.adk.runners import Runner\n",
        "from google.adk.sessions import InMemorySessionService\n",
        "from google.adk.tools import google_search\n",
        "\n",
        "# For structured message content\n",
        "from google.genai import types  # Content, Part"
      ]
    },
    {
      "cell_type": "markdown",
      "metadata": {
        "id": "RluZQqIBo9IY"
      },
      "source": [
        "### 2. Create the Agent with Google Search Tool"
      ]
    },
    {
      "cell_type": "code",
      "execution_count": null,
      "metadata": {
        "id": "NOYM-6zto_Gl"
      },
      "outputs": [],
      "source": [
        "# Initialize agent with search capabilities\n",
        "root_agent = Agent(\n",
        "    name=\"search_assistant\",\n",
        "    model=\"gemini-2.0-flash-exp\",\n",
        "    instruction=\"You are a helpful assistant. Use Google Search when needed.\",\n",
        "    description=\"An assistant with search capabilities.\",\n",
        "    tools=[google_search]\n",
        ")"
      ]
    },
    {
      "cell_type": "markdown",
      "metadata": {
        "id": "Utc1Y6ZIpFry"
      },
      "source": [
        "### 3. Initialize Session and Runner"
      ]
    },
    {
      "cell_type": "code",
      "execution_count": null,
      "metadata": {
        "id": "dV24PxhipH_w"
      },
      "outputs": [],
      "source": [
        "# Setup in-memory session\n",
        "session_service = InMemorySessionService()\n",
        "\n",
        "# Define identifiers\n",
        "app_name = \"search_app\"\n",
        "user_id = \"user_1\"\n",
        "session_id = \"session_001\"\n",
        "\n",
        "# Create a session\n",
        "session_service.create_session(app_name=app_name, user_id=user_id, session_id=session_id)\n",
        "\n",
        "# Attach session and agent to the runner\n",
        "runner = Runner(agent=root_agent, app_name=app_name, session_service=session_service)"
      ]
    },
    {
      "cell_type": "markdown",
      "metadata": {
        "id": "RvFbI3yNpJ15"
      },
      "source": [
        "###4. Define Async Function to Interact with Agent"
      ]
    },
    {
      "cell_type": "code",
      "execution_count": null,
      "metadata": {
        "id": "ubmY27IUpJhu"
      },
      "outputs": [],
      "source": [
        "from IPython.display import display, Markdown\n",
        "from google.genai import types\n",
        "\n",
        "async def call_agent_async(query: str, runner, user_id, session_id):\n",
        "    \"\"\"Sends a query to the agent and displays final response as Markdown.\"\"\"\n",
        "    print(f\"\\n>>> User Query: {query}\")\n",
        "\n",
        "    content = types.Content(role='user', parts=[types.Part(text=query)])\n",
        "    final_response_text = \"Agent did not produce a final response.\"\n",
        "\n",
        "    async for event in runner.run_async(user_id=user_id, session_id=session_id, new_message=content):\n",
        "        if event.is_final_response():\n",
        "            if event.content and event.content.parts:\n",
        "                final_response_text = event.content.parts[0].text\n",
        "            elif event.actions and event.actions.escalate:\n",
        "                final_response_text = f\"Agent escalated: {event.error_message or 'No specific message.'}\"\n",
        "            break\n",
        "\n",
        "    # ✅ Render agent response in Markdown\n",
        "    display(Markdown(f\"### 🤖 Agent Response\\n\\n{final_response_text}\"))"
      ]
    },
    {
      "cell_type": "markdown",
      "metadata": {
        "id": "U1RN0QmEpiSo"
      },
      "source": [
        "### 5. Run the Agent Query (Asynchronous Execution)"
      ]
    },
    {
      "cell_type": "code",
      "execution_count": null,
      "metadata": {
        "colab": {
          "base_uri": "https://localhost:8080/",
          "height": 757
        },
        "id": "m4LTcOD6pk5G",
        "outputId": "724bb76b-7c5b-4516-fc92-dcbe8cb26e5a"
      },
      "outputs": [
        {
          "name": "stdout",
          "output_type": "stream",
          "text": [
            "\n",
            ">>> User Query: 2025 AI News Updates on April\n"
          ]
        },
        {
          "data": {
            "text/markdown": [
              "### 🤖 Agent Response\n",
              "\n",
              "Here's a summary of AI news and updates for April 2025:\n",
              "\n",
              "**AI Advancements & New Models**\n",
              "\n",
              "*   **New AI Models:** OpenAI is expected to release 5 new AI models this week, including GPT-4.1, 4.1 nano, and 4.1 mini. OpenAI is also working on a new AI agent, A-SWE, that can replace a software engineer and conduct self-testing.\n",
              "*   **Open Source AI Model:** OpenAI is planning to release its first open-source language model since 2019.\n",
              "*   **Chinese AI Models:** Alibaba Cloud released its Qwenb 2.5-Omni-7B multimodal model that can process text, images, audio, and video and generate real-time text and natural speech responses. Baidu released two new AI models: a natively multimodal one called Ernie 4.5 and a \"deep thinking\" reasoning model called Ernie X1. Tencent unveiled its Hunyuan T1 reasoning model.\n",
              "*   **Gemini:** Google has unveiled Gemini 2.5, the newest iteration of its AI reasoning model, designed to enhance complex problem-solving and multimodal understanding. Google also released Gemini Robotics and Gemini Robotics-ER to bring AI into the physical world.\n",
              "*   **Grok:** xAI launched Grok 3 in February 2025.\n",
              "*   **AI Co-scientist:** Google introduced AI co-scientist, a multi-agent AI system built with Gemini 2.0 to help scientists generate novel hypotheses and research proposals.\n",
              "\n",
              "**AI Applications**\n",
              "\n",
              "*   **Cybersecurity:** Microsoft has announced an expansion of its Security Copilot platform with new AI agents designed to autonomously handle security incidents.\n",
              "*   **Healthcare:** An AI model, Lunit SCOPE Genotype Predictor, can accurately predict EGFR mutations in non-small cell lung cancer (NSCLC) using tissue samples.\n",
              "*   **Energy:** AI has the potential to transform the energy sector, driving a surge in electricity demand from data centers and unlocking opportunities to cut costs, enhance competitiveness, and reduce emissions.\n",
              "*   **Robotics:** Google released Gemini Robotics to help bring AI into the physical world.\n",
              "*   **Lung Cancer Detection**: Revolutionary AI tech detects lung cancer mutations non-invasively.\n",
              "\n",
              "**AI Trends & Industry**\n",
              "\n",
              "*   **AI Agents:** Industry leaders predict that 2025 would be a transformative year for AI agents.\n",
              "*   **AI Integration:** AI is becoming more conversational and integrated into everyday tools, capable of handling complex tasks.\n",
              "*   **AI Ethics:** There are rising concerns about the social and ethical implications of large-scale AI implementation, including automation, fake information, and the need for authenticity verification standards.\n",
              "*   **AI for Europe:** Meta will begin training its AI models using public content shared by adults on its platforms in the EU. The April 2025 AI Continent Action Plan aims to make Europe a global leader in AI.\n",
              "\n",
              "**Other News**\n",
              "\n",
              "*   **AI Index Report:** The 2025 AI Index Report shows a maturing field, improvements in AI optimization, and a growing saturation of use. Smaller models are getting better, and models are becoming cheaper to use.\n",
              "*   **Meta User Data:** Meta resumes E.U. AI training using public user data after regulator approval\n",
              "*   **Data center electricity demand:** AI is set to drive surging electricity demand from data centers.\n",
              "*   **OpenAI Users:** OpenAI has reached approximately 800 million users.\n"
            ],
            "text/plain": [
              "<IPython.core.display.Markdown object>"
            ]
          },
          "metadata": {},
          "output_type": "display_data"
        }
      ],
      "source": [
        "# Run inside an async loop in Colab\n",
        "await call_agent_async(\"2025 AI News Updates on April\", runner, user_id, session_id)"
      ]
    },
    {
      "cell_type": "code",
      "execution_count": null,
      "metadata": {
        "colab": {
          "base_uri": "https://localhost:8080/",
          "height": 136
        },
        "id": "SvY3ckOfqIo9",
        "outputId": "15b46035-2065-4330-c176-46286a0a419b"
      },
      "outputs": [
        {
          "name": "stdout",
          "output_type": "stream",
          "text": [
            "\n",
            ">>> User Query: who won ICC 2025 Finals\n"
          ]
        },
        {
          "data": {
            "text/markdown": [
              "### 🤖 Agent Response\n",
              "\n",
              "India won the ICC Champions Trophy 2025, defeating New Zealand in the final by four wickets. The match was held at the Dubai International Cricket Stadium. This win marked India's third Champions Trophy title.\n"
            ],
            "text/plain": [
              "<IPython.core.display.Markdown object>"
            ]
          },
          "metadata": {},
          "output_type": "display_data"
        }
      ],
      "source": [
        "# Run inside an async loop in Colab\n",
        "await call_agent_async(\"who won ICC 2025 Finals\", runner, user_id, session_id)"
      ]
    }
  ],
  "metadata": {
    "colab": {
      "provenance": []
    },
    "kernelspec": {
      "display_name": "Python 3",
      "name": "python3"
    },
    "language_info": {
      "name": "python"
    }
  },
  "nbformat": 4,
  "nbformat_minor": 0
}
