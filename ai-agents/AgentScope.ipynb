{
  "nbformat": 4,
  "nbformat_minor": 0,
  "metadata": {
    "colab": {
      "provenance": [],
      "toc_visible": true
    },
    "kernelspec": {
      "name": "python3",
      "display_name": "Python 3"
    },
    "language_info": {
      "name": "python"
    }
  },
  "cells": [
    {
      "cell_type": "markdown",
      "source": [
        "<img src=\"https://drive.google.com/uc?export=view&id=1wYSMgJtARFdvTt5g7E20mE4NmwUFUuog\" width=\"200\">\n",
        "\n",
        "[![Gen AI Experiments](https://img.shields.io/badge/Gen%20AI%20Experiments-GenAI%20Bootcamp-blue?style=for-the-badge&logo=artificial-intelligence)](https://github.com/buildfastwithai/gen-ai-experiments)\n",
        "[![Gen AI Experiments GitHub](https://img.shields.io/github/stars/buildfastwithai/gen-ai-experiments?style=for-the-badge&logo=github&color=gold)](http://github.com/buildfastwithai/gen-ai-experiments)\n",
        "\n",
        "\n",
        "[![Open In Colab](https://colab.research.google.com/assets/colab-badge.svg)](https://colab.research.google.com/drive/1DvSkJZaHteEmpSt21GCElS0fVxhXNGYR?usp=sharing)\n",
        "\n",
        "## Master Generative AI in 8 Weeks\n",
        "**What You'll Learn:**\n",
        "- Master cutting-edge AI tools & frameworks\n",
        "- 6 weeks of hands-on, project-based learning\n",
        "- Weekly live mentorship sessions\n",
        "\n",
        "Learn by building. Get expert mentorship and work on real AI projects.\n",
        "[Start Your Journey](https://www.buildfastwithai.com/genai-course)\n",
        "\n",
        "\n"
      ],
      "metadata": {
        "id": "sc1YWhMStUsH"
      }
    },
    {
      "cell_type": "markdown",
      "source": [
        "### **AgentScope: Agent-Oriented Programming for Building LLM Applications**"
      ],
      "metadata": {
        "id": "_jlBX25NuD0x"
      }
    },
    {
      "cell_type": "markdown",
      "source": [
        "### **Installation**"
      ],
      "metadata": {
        "id": "6rm-iYvlwxd3"
      }
    },
    {
      "cell_type": "code",
      "execution_count": 13,
      "metadata": {
        "colab": {
          "base_uri": "https://localhost:8080/"
        },
        "collapsed": true,
        "id": "yfGBPEvdwvTj",
        "outputId": "6abba75e-0090-48e6-ded3-0059d2dba41f"
      },
      "outputs": [
        {
          "output_type": "stream",
          "name": "stdout",
          "text": [
            "Requirement already satisfied: agentscope in /usr/local/lib/python3.12/dist-packages (1.0.3)\n",
            "Requirement already satisfied: pydantic in /usr/local/lib/python3.12/dist-packages (2.11.7)\n",
            "Requirement already satisfied: aioitertools in /usr/local/lib/python3.12/dist-packages (from agentscope) (0.12.0)\n",
            "Requirement already satisfied: anthropic in /usr/local/lib/python3.12/dist-packages (from agentscope) (0.67.0)\n",
            "Requirement already satisfied: dashscope in /usr/local/lib/python3.12/dist-packages (from agentscope) (1.24.5)\n",
            "Requirement already satisfied: docstring_parser in /usr/local/lib/python3.12/dist-packages (from agentscope) (0.17.0)\n",
            "Requirement already satisfied: json5 in /usr/local/lib/python3.12/dist-packages (from agentscope) (0.12.1)\n",
            "Requirement already satisfied: json_repair in /usr/local/lib/python3.12/dist-packages (from agentscope) (0.50.1)\n",
            "Requirement already satisfied: mcp>=1.13 in /usr/local/lib/python3.12/dist-packages (from agentscope) (1.13.1)\n",
            "Requirement already satisfied: numpy in /usr/local/lib/python3.12/dist-packages (from agentscope) (2.0.2)\n",
            "Requirement already satisfied: openai in /usr/local/lib/python3.12/dist-packages (from agentscope) (1.107.0)\n",
            "Requirement already satisfied: python-datauri in /usr/local/lib/python3.12/dist-packages (from agentscope) (3.0.2)\n",
            "Requirement already satisfied: opentelemetry-api in /usr/local/lib/python3.12/dist-packages (from agentscope) (1.37.0)\n",
            "Requirement already satisfied: opentelemetry-sdk in /usr/local/lib/python3.12/dist-packages (from agentscope) (1.37.0)\n",
            "Requirement already satisfied: opentelemetry-exporter-otlp in /usr/local/lib/python3.12/dist-packages (from agentscope) (1.37.0)\n",
            "Requirement already satisfied: python-socketio in /usr/local/lib/python3.12/dist-packages (from agentscope) (5.13.0)\n",
            "Requirement already satisfied: shortuuid in /usr/local/lib/python3.12/dist-packages (from agentscope) (1.0.13)\n",
            "Requirement already satisfied: tiktoken in /usr/local/lib/python3.12/dist-packages (from agentscope) (0.11.0)\n",
            "Requirement already satisfied: annotated-types>=0.6.0 in /usr/local/lib/python3.12/dist-packages (from pydantic) (0.7.0)\n",
            "Requirement already satisfied: pydantic-core==2.33.2 in /usr/local/lib/python3.12/dist-packages (from pydantic) (2.33.2)\n",
            "Requirement already satisfied: typing-extensions>=4.12.2 in /usr/local/lib/python3.12/dist-packages (from pydantic) (4.15.0)\n",
            "Requirement already satisfied: typing-inspection>=0.4.0 in /usr/local/lib/python3.12/dist-packages (from pydantic) (0.4.1)\n",
            "Requirement already satisfied: anyio>=4.5 in /usr/local/lib/python3.12/dist-packages (from mcp>=1.13->agentscope) (4.10.0)\n",
            "Requirement already satisfied: httpx-sse>=0.4 in /usr/local/lib/python3.12/dist-packages (from mcp>=1.13->agentscope) (0.4.1)\n",
            "Requirement already satisfied: httpx>=0.27.1 in /usr/local/lib/python3.12/dist-packages (from mcp>=1.13->agentscope) (0.28.1)\n",
            "Requirement already satisfied: jsonschema>=4.20.0 in /usr/local/lib/python3.12/dist-packages (from mcp>=1.13->agentscope) (4.25.1)\n",
            "Requirement already satisfied: pydantic-settings>=2.5.2 in /usr/local/lib/python3.12/dist-packages (from mcp>=1.13->agentscope) (2.10.1)\n",
            "Requirement already satisfied: python-multipart>=0.0.9 in /usr/local/lib/python3.12/dist-packages (from mcp>=1.13->agentscope) (0.0.20)\n",
            "Requirement already satisfied: sse-starlette>=1.6.1 in /usr/local/lib/python3.12/dist-packages (from mcp>=1.13->agentscope) (3.0.2)\n",
            "Requirement already satisfied: starlette>=0.27 in /usr/local/lib/python3.12/dist-packages (from mcp>=1.13->agentscope) (0.47.3)\n",
            "Requirement already satisfied: uvicorn>=0.31.1 in /usr/local/lib/python3.12/dist-packages (from mcp>=1.13->agentscope) (0.35.0)\n",
            "Requirement already satisfied: distro<2,>=1.7.0 in /usr/local/lib/python3.12/dist-packages (from anthropic->agentscope) (1.9.0)\n",
            "Requirement already satisfied: jiter<1,>=0.4.0 in /usr/local/lib/python3.12/dist-packages (from anthropic->agentscope) (0.10.0)\n",
            "Requirement already satisfied: sniffio in /usr/local/lib/python3.12/dist-packages (from anthropic->agentscope) (1.3.1)\n",
            "Requirement already satisfied: aiohttp in /usr/local/lib/python3.12/dist-packages (from dashscope->agentscope) (3.12.15)\n",
            "Requirement already satisfied: requests in /usr/local/lib/python3.12/dist-packages (from dashscope->agentscope) (2.32.4)\n",
            "Requirement already satisfied: websocket-client in /usr/local/lib/python3.12/dist-packages (from dashscope->agentscope) (1.8.0)\n",
            "Requirement already satisfied: cryptography in /usr/local/lib/python3.12/dist-packages (from dashscope->agentscope) (43.0.3)\n",
            "Requirement already satisfied: certifi in /usr/local/lib/python3.12/dist-packages (from dashscope->agentscope) (2025.8.3)\n",
            "Requirement already satisfied: tqdm>4 in /usr/local/lib/python3.12/dist-packages (from openai->agentscope) (4.67.1)\n",
            "Requirement already satisfied: importlib-metadata<8.8.0,>=6.0 in /usr/local/lib/python3.12/dist-packages (from opentelemetry-api->agentscope) (8.7.0)\n",
            "Requirement already satisfied: opentelemetry-exporter-otlp-proto-grpc==1.37.0 in /usr/local/lib/python3.12/dist-packages (from opentelemetry-exporter-otlp->agentscope) (1.37.0)\n",
            "Requirement already satisfied: opentelemetry-exporter-otlp-proto-http==1.37.0 in /usr/local/lib/python3.12/dist-packages (from opentelemetry-exporter-otlp->agentscope) (1.37.0)\n",
            "Requirement already satisfied: googleapis-common-protos~=1.57 in /usr/local/lib/python3.12/dist-packages (from opentelemetry-exporter-otlp-proto-grpc==1.37.0->opentelemetry-exporter-otlp->agentscope) (1.70.0)\n",
            "Requirement already satisfied: grpcio<2.0.0,>=1.63.2 in /usr/local/lib/python3.12/dist-packages (from opentelemetry-exporter-otlp-proto-grpc==1.37.0->opentelemetry-exporter-otlp->agentscope) (1.74.0)\n",
            "Requirement already satisfied: opentelemetry-exporter-otlp-proto-common==1.37.0 in /usr/local/lib/python3.12/dist-packages (from opentelemetry-exporter-otlp-proto-grpc==1.37.0->opentelemetry-exporter-otlp->agentscope) (1.37.0)\n",
            "Requirement already satisfied: opentelemetry-proto==1.37.0 in /usr/local/lib/python3.12/dist-packages (from opentelemetry-exporter-otlp-proto-grpc==1.37.0->opentelemetry-exporter-otlp->agentscope) (1.37.0)\n",
            "Requirement already satisfied: protobuf<7.0,>=5.0 in /usr/local/lib/python3.12/dist-packages (from opentelemetry-proto==1.37.0->opentelemetry-exporter-otlp-proto-grpc==1.37.0->opentelemetry-exporter-otlp->agentscope) (5.29.5)\n",
            "Requirement already satisfied: opentelemetry-semantic-conventions==0.58b0 in /usr/local/lib/python3.12/dist-packages (from opentelemetry-sdk->agentscope) (0.58b0)\n",
            "Requirement already satisfied: cached-property in /usr/local/lib/python3.12/dist-packages (from python-datauri->agentscope) (2.0.1)\n",
            "Requirement already satisfied: bidict>=0.21.0 in /usr/local/lib/python3.12/dist-packages (from python-socketio->agentscope) (0.23.1)\n",
            "Requirement already satisfied: python-engineio>=4.11.0 in /usr/local/lib/python3.12/dist-packages (from python-socketio->agentscope) (4.12.2)\n",
            "Requirement already satisfied: regex>=2022.1.18 in /usr/local/lib/python3.12/dist-packages (from tiktoken->agentscope) (2024.11.6)\n",
            "Requirement already satisfied: idna>=2.8 in /usr/local/lib/python3.12/dist-packages (from anyio>=4.5->mcp>=1.13->agentscope) (3.10)\n",
            "Requirement already satisfied: httpcore==1.* in /usr/local/lib/python3.12/dist-packages (from httpx>=0.27.1->mcp>=1.13->agentscope) (1.0.9)\n",
            "Requirement already satisfied: h11>=0.16 in /usr/local/lib/python3.12/dist-packages (from httpcore==1.*->httpx>=0.27.1->mcp>=1.13->agentscope) (0.16.0)\n",
            "Requirement already satisfied: zipp>=3.20 in /usr/local/lib/python3.12/dist-packages (from importlib-metadata<8.8.0,>=6.0->opentelemetry-api->agentscope) (3.23.0)\n",
            "Requirement already satisfied: attrs>=22.2.0 in /usr/local/lib/python3.12/dist-packages (from jsonschema>=4.20.0->mcp>=1.13->agentscope) (25.3.0)\n",
            "Requirement already satisfied: jsonschema-specifications>=2023.03.6 in /usr/local/lib/python3.12/dist-packages (from jsonschema>=4.20.0->mcp>=1.13->agentscope) (2025.9.1)\n",
            "Requirement already satisfied: referencing>=0.28.4 in /usr/local/lib/python3.12/dist-packages (from jsonschema>=4.20.0->mcp>=1.13->agentscope) (0.36.2)\n",
            "Requirement already satisfied: rpds-py>=0.7.1 in /usr/local/lib/python3.12/dist-packages (from jsonschema>=4.20.0->mcp>=1.13->agentscope) (0.27.1)\n",
            "Requirement already satisfied: python-dotenv>=0.21.0 in /usr/local/lib/python3.12/dist-packages (from pydantic-settings>=2.5.2->mcp>=1.13->agentscope) (1.1.1)\n",
            "Requirement already satisfied: simple-websocket>=0.10.0 in /usr/local/lib/python3.12/dist-packages (from python-engineio>=4.11.0->python-socketio->agentscope) (1.1.0)\n",
            "Requirement already satisfied: charset_normalizer<4,>=2 in /usr/local/lib/python3.12/dist-packages (from requests->dashscope->agentscope) (3.4.3)\n",
            "Requirement already satisfied: urllib3<3,>=1.21.1 in /usr/local/lib/python3.12/dist-packages (from requests->dashscope->agentscope) (2.5.0)\n",
            "Requirement already satisfied: click>=7.0 in /usr/local/lib/python3.12/dist-packages (from uvicorn>=0.31.1->mcp>=1.13->agentscope) (8.2.1)\n",
            "Requirement already satisfied: aiohappyeyeballs>=2.5.0 in /usr/local/lib/python3.12/dist-packages (from aiohttp->dashscope->agentscope) (2.6.1)\n",
            "Requirement already satisfied: aiosignal>=1.4.0 in /usr/local/lib/python3.12/dist-packages (from aiohttp->dashscope->agentscope) (1.4.0)\n",
            "Requirement already satisfied: frozenlist>=1.1.1 in /usr/local/lib/python3.12/dist-packages (from aiohttp->dashscope->agentscope) (1.7.0)\n",
            "Requirement already satisfied: multidict<7.0,>=4.5 in /usr/local/lib/python3.12/dist-packages (from aiohttp->dashscope->agentscope) (6.6.4)\n",
            "Requirement already satisfied: propcache>=0.2.0 in /usr/local/lib/python3.12/dist-packages (from aiohttp->dashscope->agentscope) (0.3.2)\n",
            "Requirement already satisfied: yarl<2.0,>=1.17.0 in /usr/local/lib/python3.12/dist-packages (from aiohttp->dashscope->agentscope) (1.20.1)\n",
            "Requirement already satisfied: cffi>=1.12 in /usr/local/lib/python3.12/dist-packages (from cryptography->dashscope->agentscope) (2.0.0)\n",
            "Requirement already satisfied: pycparser in /usr/local/lib/python3.12/dist-packages (from cffi>=1.12->cryptography->dashscope->agentscope) (2.23)\n",
            "Requirement already satisfied: wsproto in /usr/local/lib/python3.12/dist-packages (from simple-websocket>=0.10.0->python-engineio>=4.11.0->python-socketio->agentscope) (1.2.0)\n"
          ]
        }
      ],
      "source": [
        "!pip install agentscope pydantic"
      ]
    },
    {
      "cell_type": "markdown",
      "source": [
        "###**Imports**"
      ],
      "metadata": {
        "id": "DQG29qHTn9i7"
      }
    },
    {
      "cell_type": "code",
      "source": [
        "from agentscope.agent import ReActAgent, AgentBase\n",
        "from agentscope.formatter import OpenAIChatFormatter\n",
        "from agentscope.memory import InMemoryMemory\n",
        "from agentscope.message import Msg\n",
        "from agentscope.model import OpenAIChatModel\n",
        "import asyncio\n",
        "import os\n",
        "from google.colab import userdata\n",
        "import os\n",
        "from agentscope.tool import Toolkit, execute_python_code\n",
        "from pydantic import BaseModel, Field\n",
        "import json\n",
        "from agentscope.message import Msg\n",
        "from agentscope.pipeline import MsgHub"
      ],
      "metadata": {
        "id": "3UIFJiUrw8Eb"
      },
      "execution_count": 21,
      "outputs": []
    },
    {
      "cell_type": "markdown",
      "source": [
        "### **Configure API Keys**"
      ],
      "metadata": {
        "id": "k26N7w7vbWyv"
      }
    },
    {
      "cell_type": "code",
      "source": [
        "api_key = userdata.get('OPENAI_API_KEY')\n",
        "os.environ['OPENAI_API_KEY'] = api_key"
      ],
      "metadata": {
        "id": "At4Ikzmv4exb"
      },
      "execution_count": 16,
      "outputs": []
    },
    {
      "cell_type": "markdown",
      "source": [
        "### **Tool Usage and Creating ReAct Agent**"
      ],
      "metadata": {
        "id": "UULM6uTT3eHW"
      }
    },
    {
      "cell_type": "code",
      "source": [
        "async def creating_react_agent() -> None:\n",
        "    \"\"\"Create a ReAct agent and run a simple task.\"\"\"\n",
        "    # Prepare tools\n",
        "    toolkit = Toolkit()\n",
        "    toolkit.register_tool_function(execute_python_code)\n",
        "\n",
        "    jojo= ReActAgent(\n",
        "        name=\"Jojo\",\n",
        "        sys_prompt=\"You're a helpful assistant named Jojo\",\n",
        "        model=OpenAIChatModel(\n",
        "            model_name=\"gpt-4o-mini\",\n",
        "            api_key=api_key,\n",
        "            stream=True,\n",
        "\n",
        "        ),\n",
        "        formatter= OpenAIChatFormatter(),\n",
        "        toolkit=toolkit,\n",
        "        memory=InMemoryMemory(),\n",
        "    )\n",
        "\n",
        "    msg = Msg(\n",
        "        name=\"user\",\n",
        "        content=\"Hi! Jojo, run bubble sorting program in Python.\",\n",
        "        role=\"user\",\n",
        "    )\n",
        "    response = await jojo(msg)   # get response\n",
        "    print(\"🤖 Jojo:\", response.content)  # show reply\n",
        "await creating_react_agent()\n"
      ],
      "metadata": {
        "colab": {
          "base_uri": "https://localhost:8080/"
        },
        "id": "0R5Yjvbu36Cq",
        "outputId": "3a5e7b69-7841-4bb2-dd82-d753394da3a0"
      },
      "execution_count": 11,
      "outputs": [
        {
          "output_type": "stream",
          "name": "stdout",
          "text": [
            "Jojo: {\n",
            "    \"type\": \"tool_use\",\n",
            "    \"id\": \"call_6ypG7QNr6eR3F4UGXktHF8V9\",\n",
            "    \"name\": \"execute_python_code\",\n",
            "    \"input\": {\n",
            "        \"code\": \"def bubble_sort(arr):\\n    n = len(arr)\\n    # Traverse through all array elements\\n    for i in range(n):\\n        # Last i elements are already in place\\n        for j in range(0, n-i-1):\\n            # Traverse the array from 0 to n-i-1\\n            # Swap if the element found is greater\\n            # than the next element\\n            if arr[j] > arr[j+1]:\\n                arr[j], arr[j+1] = arr[j+1], arr[j]\\n    return arr\\n\\n# Example usage:\\narr = [64, 34, 25, 12, 22, 11, 90]\\nsorted_arr = bubble_sort(arr)\\nprint(sorted_arr)\"\n",
            "    }\n",
            "}\n",
            "system: {\n",
            "    \"type\": \"tool_result\",\n",
            "    \"id\": \"call_6ypG7QNr6eR3F4UGXktHF8V9\",\n",
            "    \"name\": \"execute_python_code\",\n",
            "    \"output\": [\n",
            "        {\n",
            "            \"type\": \"text\",\n",
            "            \"text\": \"<returncode>0</returncode><stdout>[11, 12, 22, 25, 34, 64, 90]\\n</stdout><stderr></stderr>\"\n",
            "        }\n",
            "    ]\n",
            "}\n",
            "Jojo: The bubble sorting program has been executed successfully. The sorted array is: [11, 12, 22, 25, 34, 64, 90]\n",
            "🤖 Jojo: The bubble sorting program has been executed successfully. The sorted array is: [11, 12, 22, 25, 34, 64, 90]\n"
          ]
        }
      ]
    },
    {
      "cell_type": "markdown",
      "source": [
        " ### **Structured Output Using Pydantic**"
      ],
      "metadata": {
        "id": "vL5_zDP_mLHV"
      }
    },
    {
      "cell_type": "code",
      "source": [
        "# Create an ReAct agent\n",
        "agent = ReActAgent(\n",
        "    name=\"Jarvis\",\n",
        "    sys_prompt=\"You're a helpful assistant named Jarvis.\",\n",
        "    model=OpenAIChatModel(\n",
        "            model_name=\"gpt-4o-mini\",\n",
        "            api_key=api_key,\n",
        "            stream=True,\n",
        "\n",
        "        ),\n",
        "        formatter= OpenAIChatFormatter(),\n",
        "    toolkit=Toolkit(),\n",
        "    parallel_tool_calls=True,\n",
        ")\n",
        "\n",
        "\n",
        "# The structured model\n",
        "class Model(BaseModel):\n",
        "    name: str = Field(description=\"The name of the person\")\n",
        "    description: str = Field(\n",
        "        description=\"A one-sentence description of the person\",\n",
        "    )\n",
        "    age: int = Field(description=\"The age\")\n",
        "    honor: list[str] = Field(description=\"A list of honors of the person\")\n",
        "\n",
        "\n",
        "async def example_structured_output() -> None:\n",
        "    \"\"\"The example structured output\"\"\"\n",
        "    res = await agent(\n",
        "        Msg(\n",
        "            \"user\",\n",
        "            \"Introduce Einstein\",\n",
        "            \"user\",\n",
        "        ),\n",
        "        structured_model=Model,\n",
        "    )\n",
        "\n",
        "    print(\"\\nThe structured output:\")\n",
        "    print(json.dumps(res.metadata, indent=4))\n",
        "\n",
        "\n",
        "await example_structured_output()"
      ],
      "metadata": {
        "colab": {
          "base_uri": "https://localhost:8080/"
        },
        "id": "S3Z56HBH7f4x",
        "outputId": "2c2150e3-2720-4c86-edb2-4ffbc8b532ce"
      },
      "execution_count": 20,
      "outputs": [
        {
          "output_type": "stream",
          "name": "stdout",
          "text": [
            "Jarvis: Albert Einstein was a theoretical physicist who developed the theory of relativity, one of the two pillars of modern physics (the other being quantum mechanics). His work revolutionized our understanding of space, time, and energy, leading to groundbreaking advancements in various scientific fields. Einstein is best known for his famous equation E=mc², which expresses the equivalence of mass and energy. He was awarded the Nobel Prize in Physics in 1921 for his explanation of the photoelectric effect, providing significant evidence for the particle theory of light.\n",
            "\n",
            "The structured output:\n",
            "{\n",
            "    \"name\": \"Albert Einstein\",\n",
            "    \"description\": \"One of the most influential physicists of the 20th century, known for developing the theory of relativity.\",\n",
            "    \"age\": 76,\n",
            "    \"honor\": [\n",
            "        \"Nobel Prize in Physics (1921)\",\n",
            "        \"Copley Medal (1925)\",\n",
            "        \"Max Planck Medal (1929)\"\n",
            "    ]\n",
            "}\n"
          ]
        }
      ]
    },
    {
      "cell_type": "markdown",
      "source": [
        "### **Message Sharing**\n",
        "\n",
        "In multi-agent conversation, exchanging messages explicitly may not be efficient and convenient, especially when broadcasting messages among multiple agents"
      ],
      "metadata": {
        "id": "mAdk0yOakfiY"
      }
    },
    {
      "cell_type": "code",
      "source": [
        "model=OpenAIChatModel(model_name=\"gpt-4o-mini\", api_key=api_key)\n",
        "formatter= OpenAIChatFormatter()\n",
        "\n",
        "alice = ReActAgent(\n",
        "    name=\"Alice\",\n",
        "    sys_prompt=\"You're a student named Alice.\",\n",
        "    model=model,\n",
        "    formatter=formatter,\n",
        "    toolkit=Toolkit(),\n",
        "    memory=InMemoryMemory(),\n",
        ")\n",
        "\n",
        "bob = ReActAgent(\n",
        "    name=\"Bob\",\n",
        "    sys_prompt=\"You're a student named Bob.\",\n",
        "    model=model,\n",
        "    formatter=formatter,\n",
        "    toolkit=Toolkit(),\n",
        "    memory=InMemoryMemory(),\n",
        ")\n",
        "\n",
        "charlie = ReActAgent(\n",
        "    name=\"Charlie\",\n",
        "    sys_prompt=\"You're a student named Charlie.\",\n",
        "    model=model,\n",
        "    formatter=formatter,\n",
        "    toolkit=Toolkit(),\n",
        "    memory=InMemoryMemory(),\n",
        ")\n",
        "\n",
        "\n",
        "async def example_msghub() -> None:\n",
        "    \"\"\"Example of using MsgHub for multi-agent conversation.\"\"\"\n",
        "    async with MsgHub(\n",
        "        [alice, bob, charlie],\n",
        "        announcement=Msg(\n",
        "            \"system\",\n",
        "            \"Now you meet each other with a brief self-introduction.\",\n",
        "            \"system\",\n",
        "        ),\n",
        "    ) as hub:\n",
        "        await alice()\n",
        "        await bob()\n",
        "        await charlie()\n",
        "\n",
        "\n",
        "\n",
        "\n",
        "await(example_msghub())"
      ],
      "metadata": {
        "colab": {
          "base_uri": "https://localhost:8080/"
        },
        "id": "sozyHbWk6EQ1",
        "outputId": "63ebe16e-5b77-4c0e-cf5a-f5adf3ed3ba6"
      },
      "execution_count": 23,
      "outputs": [
        {
          "output_type": "stream",
          "name": "stdout",
          "text": [
            "Alice: Hello! I'm Alice, a student currently pursuing my studies. I have a keen interest in learning new things and engaging in discussions on a variety of topics. I enjoy reading, exploring new ideas, and sharing knowledge with others. Nice to meet you!\n",
            "Bob: Hi, I'm Bob! I'm a student with a passion for learning and exploring new subjects. I'm particularly interested in science and technology, but I enjoy delving into literature and arts as well. I love collaborating with others and sharing ideas. Looking forward to our interactions!\n",
            "Charlie: Hi everyone! I'm Charlie, a fellow student, and I'm excited to connect with you all. I have a diverse range of interests, including technology, literature, and sports. I love diving deep into subjects that pique my curiosity and sharing insights with friends. Can't wait to learn and grow together!\n",
            "\n",
            "=== Conversation Log ===\n"
          ]
        }
      ]
    }
  ]
}