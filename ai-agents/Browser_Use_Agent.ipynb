{
  "cells": [
    {
      "cell_type": "markdown",
      "metadata": {
        "id": "J_Y4IqQyqAkh"
      },
      "source": [
        "<img src=\"https://drive.google.com/uc?export=view&id=1wYSMgJtARFdvTt5g7E20mE4NmwUFUuog\" width=\"200\">\n",
        "\n",
        "[![Gen AI Experiments](https://img.shields.io/badge/Gen%20AI%20Experiments-GenAI%20Bootcamp-blue?style=for-the-badge&logo=artificial-intelligence)](https://github.com/buildfastwithai/gen-ai-experiments)\n",
        "[![Gen AI Experiments GitHub](https://img.shields.io/github/stars/buildfastwithai/gen-ai-experiments?style=for-the-badge&logo=github&color=gold)](http://github.com/buildfastwithai/gen-ai-experiments)\n",
        "\n",
        "[![Open In Colab](https://colab.research.google.com/assets/colab-badge.svg)](https://colab.research.google.com/drive/1hnSRtgsAt2P0tc0ciXq3kzJ2orWC101t?usp=sharing)\n"
      ]
    },
    {
      "cell_type": "markdown",
      "metadata": {},
      "source": [
        "\n",
        "## Master Generative AI in 8 Weeks\n",
        "**What You'll Learn:**\n",
        "- Master cutting-edge AI tools & frameworks\n",
        "- 6 weeks of hands-on, project-based learning\n",
        "- Weekly live mentorship sessions\n",
        "- Join Innovation Community\n",
        "\n",
        "Learn by building. Get expert mentorship and work on real AI projects.\n",
        "[Start Your Journey](https://www.buildfastwithai.com/genai-course)"
      ]
    },
    {
      "cell_type": "markdown",
      "metadata": {
        "id": "o1AqOuybu6mr"
      },
      "source": [
        "#### Install Required Libraries\n"
      ]
    },
    {
      "cell_type": "code",
      "execution_count": null,
      "metadata": {
        "id": "Hq2ByacruDJA"
      },
      "outputs": [],
      "source": [
        "!pip install browser-use"
      ]
    },
    {
      "cell_type": "markdown",
      "metadata": {
        "id": "O30UCpy1vGYl"
      },
      "source": [
        "### Setup API Keys"
      ]
    },
    {
      "cell_type": "code",
      "execution_count": null,
      "metadata": {
        "id": "o3Rr41BnuDJC"
      },
      "outputs": [],
      "source": [
        "import os\n",
        "from dotenv import load_dotenv\n",
        "\n",
        "load_dotenv('../.env', override=True)"
      ]
    },
    {
      "cell_type": "code",
      "execution_count": null,
      "metadata": {
        "id": "rT1vIEj4uDJC"
      },
      "outputs": [],
      "source": [
        "import os\n",
        "\n",
        "os.environ['OPENAI_API_KEY'] = os.getenv('OPENAI_API_KEY')"
      ]
    },
    {
      "cell_type": "markdown",
      "metadata": {
        "id": "cE_D0FYVvR1J"
      },
      "source": [
        "###Browser Agent"
      ]
    },
    {
      "cell_type": "code",
      "execution_count": null,
      "metadata": {
        "id": "SVxh3ACQuDJC",
        "outputId": "07446b71-fbe1-47dc-b9f1-f5a49db52788"
      },
      "outputs": [
        {
          "name": "stdout",
          "output_type": "stream",
          "text": [
            "INFO     [agent] 🚀 Starting task: Find a one-way flight from Los Angeles to Washington DC on 20 January 2025 on Google Flights. Return me the cheapest option.\n",
            "INFO     [agent] \n",
            "📍 Step 1\n",
            "INFO     [agent] 🤷 Eval: Unknown - No previous actions to evaluate.\n",
            "INFO     [agent] 🧠 Memory: Need to search for flights from Los Angeles to Washington DC on 20 January 2025.\n",
            "INFO     [agent] 🎯 Next goal: Search for flights on Google Flights.\n",
            "INFO     [agent] 🛠️  Action 1/1: {\"search_google\":{\"query\":\"Google Flights Los Angeles to Washington DC one-way 20 January 2025\"}}\n",
            "INFO     [controller] 🔍  Searched for \"Google Flights Los Angeles to Washington DC one-way 20 January 2025\" in Google\n",
            "INFO     [agent] \n",
            "📍 Step 2\n",
            "INFO     [agent] 👍 Eval: Success - The search for flights was successfully initiated with relevant results displayed.\n",
            "INFO     [agent] 🧠 Memory: Need to find the cheapest flight for the specified date.\n",
            "INFO     [agent] 🎯 Next goal: Find the cheapest flight option for January 20, 2025.\n",
            "INFO     [agent] 🛠️  Action 1/1: {\"click_element\":{\"index\":68}}\n",
            "INFO     [controller] 🖱️  Clicked index 68\n",
            "INFO     [agent] \n",
            "📍 Step 3\n",
            "INFO     [agent] 👍 Eval: Success - The flight details page loaded with relevant options.\n",
            "INFO     [agent] 🧠 Memory: Need to select the cheapest flight option available.\n",
            "INFO     [agent] 🎯 Next goal: Select the cheapest flight option for January 20, 2025.\n",
            "INFO     [agent] 🛠️  Action 1/1: {\"click_element\":{\"index\":31}}\n",
            "INFO     [controller] 🖱️  Clicked index 31\n",
            "INFO     [agent] \n",
            "📍 Step 4\n",
            "INFO     [agent] 👍 Eval: Success - The cheapest flight option was found and displayed.\n",
            "INFO     [agent] 🧠 Memory: The cheapest flight is with Frontier for $151 on January 20, 2025.\n",
            "INFO     [agent] 🎯 Next goal: Provide the details of the cheapest flight option.\n",
            "INFO     [agent] 🛠️  Action 1/1: {\"done\":{\"text\":\"The cheapest flight from Los Angeles to Washington DC on January 20, 2025, is with Frontier Airlines. It costs $151 and includes a stop in Denver with a total travel time of 26 hours and 36 minutes.\"}}\n",
            "INFO     [agent] 📄 Result: The cheapest flight from Los Angeles to Washington DC on January 20, 2025, is with Frontier Airlines. It costs $151 and includes a stop in Denver with a total travel time of 26 hours and 36 minutes.\n",
            "INFO     [agent] ✅ Task completed successfully\n",
            "INFO     [agent] Created GIF at agent_history.gif\n",
            "AgentHistoryList(all_results=[ActionResult(is_done=False, extracted_content='🔍  Searched for \"Google Flights Los Angeles to Washington DC one-way 20 January 2025\" in Google', error=None, include_in_memory=True), ActionResult(is_done=False, extracted_content='🖱️  Clicked index 68', error=None, include_in_memory=True), ActionResult(is_done=False, extracted_content='🖱️  Clicked index 31', error=None, include_in_memory=True), ActionResult(is_done=True, extracted_content='The cheapest flight from Los Angeles to Washington DC on January 20, 2025, is with Frontier Airlines. It costs $151 and includes a stop in Denver with a total travel time of 26 hours and 36 minutes.', error=None, include_in_memory=False)], all_model_outputs=[{'search_google': {'query': 'Google Flights Los Angeles to Washington DC one-way 20 January 2025'}}, {'click_element': {'index': 68}}, {'click_element': {'index': 31}}, {'done': {'text': 'The cheapest flight from Los Angeles to Washington DC on January 20, 2025, is with Frontier Airlines. It costs $151 and includes a stop in Denver with a total travel time of 26 hours and 36 minutes.'}}])\n"
          ]
        }
      ],
      "source": [
        "from langchain_openai import ChatOpenAI\n",
        "from browser_use import Agent\n",
        "import asyncio\n",
        "\n",
        "async def main():\n",
        "    agent = Agent(\n",
        "        task=\"Find a one-way flight from Los Angeles to Washington DC on 20 January 2025 on Google Flights. Return me the cheapest option.\",\n",
        "        llm=ChatOpenAI(model=\"gpt-4o\"),\n",
        "    )\n",
        "    result = await agent.run()\n",
        "    print(result)\n",
        "\n",
        "await main()"
      ]
    },
    {
      "cell_type": "code",
      "execution_count": null,
      "metadata": {
        "id": "C_YDAIU_uDJE"
      },
      "outputs": [],
      "source": [
        "from langchain_openai import ChatOpenAI\n",
        "from browser_use import Agent\n",
        "import asyncio\n",
        "\n",
        "async def main():\n",
        "    agent = Agent(\n",
        "        task=\"Go to r/LocalLLaMA subreddit and search for news on latest vision models.\",\n",
        "        llm=ChatOpenAI(model=\"gpt-4o\"),\n",
        "    )\n",
        "    result = await agent.run()\n",
        "    print(result)\n",
        "\n",
        "await main()"
      ]
    },
    {
      "cell_type": "code",
      "execution_count": null,
      "metadata": {
        "id": "6M9xvCr7uDJE"
      },
      "outputs": [],
      "source": [
        "import asyncio\n",
        "import os\n",
        "\n",
        "from langchain_google_genai import ChatGoogleGenerativeAI\n",
        "from browser_use import Agent\n",
        "\n",
        "llm = ChatGoogleGenerativeAI(model='gemini-2.0-flash-exp')\n",
        "\n",
        "\n",
        "async def run_search():\n",
        "\tagent = Agent(\n",
        "\t\ttask=(\n",
        "\t\t\t'Go to url r/LocalLLaMA subreddit and search for \"browser use\" in the search bar and click on the first post and find the funniest comment'\n",
        "\t\t),\n",
        "\t\tllm=llm,\n",
        "\t\tmax_actions_per_step=4,\n",
        "\t\ttool_call_in_content=False,\n",
        "\t)\n",
        "\n",
        "await run_search()"
      ]
    }
  ],
  "metadata": {
    "colab": {
      "provenance": []
    },
    "kernelspec": {
      "display_name": "Python 3",
      "language": "python",
      "name": "python3"
    },
    "language_info": {
      "codemirror_mode": {
        "name": "ipython",
        "version": 3
      },
      "file_extension": ".py",
      "mimetype": "text/x-python",
      "name": "python",
      "nbconvert_exporter": "python",
      "pygments_lexer": "ipython3",
      "version": "3.11.11"
    }
  },
  "nbformat": 4,
  "nbformat_minor": 0
}
