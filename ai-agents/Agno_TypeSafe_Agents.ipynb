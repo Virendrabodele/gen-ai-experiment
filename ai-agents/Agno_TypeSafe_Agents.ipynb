{
  "nbformat": 4,
  "nbformat_minor": 0,
  "metadata": {
    "colab": {
      "provenance": [],
      "toc_visible": true
    },
    "kernelspec": {
      "name": "python3",
      "display_name": "Python 3"
    },
    "language_info": {
      "name": "python"
    }
  },
  "cells": [
    {
      "cell_type": "markdown",
      "source": [
        "<img src=\"https://drive.google.com/uc?export=view&id=1wYSMgJtARFdvTt5g7E20mE4NmwUFUuog\" width=\"200\">\n",
        "\n",
        "[![Gen AI Experiments](https://img.shields.io/badge/Gen%20AI%20Experiments-GenAI%20Bootcamp-blue?style=for-the-badge&logo=artificial-intelligence)](https://github.com/buildfastwithai/gen-ai-experiments)\n",
        "[![Gen AI Experiments GitHub](https://img.shields.io/github/stars/buildfastwithai/gen-ai-experiments?style=for-the-badge&logo=github&color=gold)](http://github.com/buildfastwithai/gen-ai-experiments)\n",
        "\n",
        "\n",
        "[![Open In Colab](https://colab.research.google.com/assets/colab-badge.svg)](https://colab.research.google.com/drive/13ybd7Wf3PvdSDEButRh7G4OQsgZRZWdn?usp=sharing)\n",
        "\n",
        "## Master Generative AI in 8 Weeks\n",
        "**What You'll Learn:**\n",
        "- Master cutting-edge AI tools & frameworks\n",
        "- 6 weeks of hands-on, project-based learning\n",
        "- Weekly live mentorship sessions\n",
        "\n",
        "Learn by building. Get expert mentorship and work on real AI projects.\n",
        "[Start Your Journey](https://www.buildfastwithai.com/genai-course)\n",
        "\n",
        "\n"
      ],
      "metadata": {
        "id": "BQ7t1ZE8F-iU"
      }
    },
    {
      "cell_type": "markdown",
      "source": [
        "# **Agno 2.0 introduces Typesafe Agents.**\n",
        "They take in structured input, and return structured output, making agentic software more reliable and deterministic."
      ],
      "metadata": {
        "id": "kUs1qRgoGB-P"
      }
    },
    {
      "cell_type": "markdown",
      "source": [
        "## **Building Stock Market Analyzer Agent Using Typesafe Agents.**"
      ],
      "metadata": {
        "id": "t5DVT9s5PpkB"
      }
    },
    {
      "cell_type": "markdown",
      "source": [
        "### **Installations**"
      ],
      "metadata": {
        "id": "4HZq8AWYGZDN"
      }
    },
    {
      "cell_type": "code",
      "source": [
        "!pip install rich agno pydantic"
      ],
      "metadata": {
        "colab": {
          "base_uri": "https://localhost:8080/"
        },
        "collapsed": true,
        "id": "gIljSk_GFSPm",
        "outputId": "52c157c4-dbed-410d-a5b6-b3cdd65239a0"
      },
      "execution_count": null,
      "outputs": [
        {
          "output_type": "stream",
          "name": "stdout",
          "text": [
            "Requirement already satisfied: rich in /usr/local/lib/python3.12/dist-packages (13.9.4)\n",
            "Collecting agno\n",
            "  Downloading agno-2.0.3-py3-none-any.whl.metadata (21 kB)\n",
            "Requirement already satisfied: pydantic in /usr/local/lib/python3.12/dist-packages (2.11.7)\n",
            "Requirement already satisfied: markdown-it-py>=2.2.0 in /usr/local/lib/python3.12/dist-packages (from rich) (4.0.0)\n",
            "Requirement already satisfied: pygments<3.0.0,>=2.13.0 in /usr/local/lib/python3.12/dist-packages (from rich) (2.19.2)\n",
            "Requirement already satisfied: docstring-parser in /usr/local/lib/python3.12/dist-packages (from agno) (0.17.0)\n",
            "Requirement already satisfied: gitpython in /usr/local/lib/python3.12/dist-packages (from agno) (3.1.45)\n",
            "Requirement already satisfied: httpx in /usr/local/lib/python3.12/dist-packages (from agno) (0.28.1)\n",
            "Requirement already satisfied: packaging in /usr/local/lib/python3.12/dist-packages (from agno) (25.0)\n",
            "Requirement already satisfied: pydantic-settings in /usr/local/lib/python3.12/dist-packages (from agno) (2.10.1)\n",
            "Requirement already satisfied: python-dotenv in /usr/local/lib/python3.12/dist-packages (from agno) (1.1.1)\n",
            "Requirement already satisfied: python-multipart in /usr/local/lib/python3.12/dist-packages (from agno) (0.0.20)\n",
            "Requirement already satisfied: pyyaml in /usr/local/lib/python3.12/dist-packages (from agno) (6.0.2)\n",
            "Requirement already satisfied: typer in /usr/local/lib/python3.12/dist-packages (from agno) (0.17.3)\n",
            "Requirement already satisfied: typing-extensions in /usr/local/lib/python3.12/dist-packages (from agno) (4.15.0)\n",
            "Requirement already satisfied: annotated-types>=0.6.0 in /usr/local/lib/python3.12/dist-packages (from pydantic) (0.7.0)\n",
            "Requirement already satisfied: pydantic-core==2.33.2 in /usr/local/lib/python3.12/dist-packages (from pydantic) (2.33.2)\n",
            "Requirement already satisfied: typing-inspection>=0.4.0 in /usr/local/lib/python3.12/dist-packages (from pydantic) (0.4.1)\n",
            "Requirement already satisfied: mdurl~=0.1 in /usr/local/lib/python3.12/dist-packages (from markdown-it-py>=2.2.0->rich) (0.1.2)\n",
            "Requirement already satisfied: gitdb<5,>=4.0.1 in /usr/local/lib/python3.12/dist-packages (from gitpython->agno) (4.0.12)\n",
            "Requirement already satisfied: anyio in /usr/local/lib/python3.12/dist-packages (from httpx->agno) (4.10.0)\n",
            "Requirement already satisfied: certifi in /usr/local/lib/python3.12/dist-packages (from httpx->agno) (2025.8.3)\n",
            "Requirement already satisfied: httpcore==1.* in /usr/local/lib/python3.12/dist-packages (from httpx->agno) (1.0.9)\n",
            "Requirement already satisfied: idna in /usr/local/lib/python3.12/dist-packages (from httpx->agno) (3.10)\n",
            "Requirement already satisfied: h11>=0.16 in /usr/local/lib/python3.12/dist-packages (from httpcore==1.*->httpx->agno) (0.16.0)\n",
            "Requirement already satisfied: click>=8.0.0 in /usr/local/lib/python3.12/dist-packages (from typer->agno) (8.2.1)\n",
            "Requirement already satisfied: shellingham>=1.3.0 in /usr/local/lib/python3.12/dist-packages (from typer->agno) (1.5.4)\n",
            "Requirement already satisfied: smmap<6,>=3.0.1 in /usr/local/lib/python3.12/dist-packages (from gitdb<5,>=4.0.1->gitpython->agno) (5.0.2)\n",
            "Requirement already satisfied: sniffio>=1.1 in /usr/local/lib/python3.12/dist-packages (from anyio->httpx->agno) (1.3.1)\n",
            "Downloading agno-2.0.3-py3-none-any.whl (1.1 MB)\n",
            "\u001b[2K   \u001b[90m━━━━━━━━━━━━━━━━━━━━━━━━━━━━━━━━━━━━━━━━\u001b[0m \u001b[32m1.1/1.1 MB\u001b[0m \u001b[31m20.6 MB/s\u001b[0m eta \u001b[36m0:00:00\u001b[0m\n",
            "\u001b[?25hInstalling collected packages: agno\n",
            "Successfully installed agno-2.0.3\n"
          ]
        }
      ]
    },
    {
      "cell_type": "markdown",
      "source": [
        "###**Imports**"
      ],
      "metadata": {
        "id": "FzYcfxg5Gkom"
      }
    },
    {
      "cell_type": "code",
      "source": [
        "from typing import List\n",
        "from agno.agent import Agent\n",
        "from agno.models.openai import OpenAIChat\n",
        "from agno.tools.yfinance import YFinanceTools\n",
        "from pydantic import BaseModel, Field\n",
        "from rich.pretty import pprint\n",
        "import os\n",
        "from google.colab import userdata"
      ],
      "metadata": {
        "id": "ou_KK8i4FruG"
      },
      "execution_count": null,
      "outputs": []
    },
    {
      "cell_type": "markdown",
      "source": [
        "###**Set OpenAI API Key**"
      ],
      "metadata": {
        "id": "PBS_3eFRIRoJ"
      }
    },
    {
      "cell_type": "code",
      "source": [
        "os.environ[\"OPENAI_API_KEY\"] = userdata.get(\"OPENAI_API_KEY\")\n"
      ],
      "metadata": {
        "id": "uAddL6rJIaYE"
      },
      "execution_count": null,
      "outputs": []
    },
    {
      "cell_type": "markdown",
      "source": [
        "###**Define Input Schema**"
      ],
      "metadata": {
        "id": "wkBjvvbeGzaK"
      }
    },
    {
      "cell_type": "code",
      "source": [
        "class StockMarketTopic(BaseModel):\n",
        "    stock_symbol: str\n",
        "    days_required: int = Field(description=\"Number of days of data required\", default=30)"
      ],
      "metadata": {
        "id": "Gjov_DcSG5Ak"
      },
      "execution_count": null,
      "outputs": []
    },
    {
      "cell_type": "markdown",
      "source": [
        "### **Define Output Schema**"
      ],
      "metadata": {
        "id": "xH5bsvqZHIEN"
      }
    },
    {
      "cell_type": "code",
      "source": [
        "class StockMarketOutput(BaseModel):\n",
        "    summary: str = Field(..., description=\"Executive summary of the stock market analysis\")\n",
        "    insights: List[str] = Field(..., description=\"Key insights discovered from the analysis\")\n",
        "    recent_trends: List[str] = Field(..., description=\"Recent trends observed in the stock\")\n",
        "    financial_metrics: List[str] = Field(\n",
        "        ..., description=\"Important financial metrics of the stock\"\n",
        "    )\n",
        "    sources: List[str] = Field(..., description=\"Links to the most relevant data sources\")"
      ],
      "metadata": {
        "id": "8upAmzp3HUTP"
      },
      "execution_count": null,
      "outputs": []
    },
    {
      "cell_type": "markdown",
      "source": [
        "###**Define Agent**"
      ],
      "metadata": {
        "id": "ZY5iQO24HbM6"
      }
    },
    {
      "cell_type": "code",
      "source": [
        "stock_market_analyzer_agent = Agent(\n",
        "    # Model to use\n",
        "    model=OpenAIChat(id=\"gpt-4o-mini\"),\n",
        "    # Tools to use\n",
        "    tools=[YFinanceTools()],\n",
        "    instructions=\"Analyze stock market data for a given stock symbol\",\n",
        "    input_schema=StockMarketTopic,\n",
        "    output_schema=StockMarketOutput,\n",
        "    # Model to use to convert the output to the JSON schema\n",
        "    parser_model=OpenAIChat(id=\"gpt-4o-mini\")\n",
        ")"
      ],
      "metadata": {
        "id": "6_8IHwKRHjf4"
      },
      "execution_count": null,
      "outputs": []
    },
    {
      "cell_type": "markdown",
      "source": [
        "###**Run the Agent**"
      ],
      "metadata": {
        "id": "ImeTs0M-H6h4"
      }
    },
    {
      "cell_type": "code",
      "execution_count": null,
      "metadata": {
        "colab": {
          "base_uri": "https://localhost:8080/",
          "height": 381
        },
        "id": "SjmQxyBcEjre",
        "outputId": "4f371c40-1247-46d8-d8c3-fd9bd50d3c69"
      },
      "outputs": [
        {
          "output_type": "display_data",
          "data": {
            "text/plain": [
              "\u001b[1;35mStockMarketOutput\u001b[0m\u001b[1m(\u001b[0m\n",
              "\u001b[2;32m│   \u001b[0m\u001b[33msummary\u001b[0m=\u001b[32m\"AAPL\u001b[0m\u001b[32m is currently trading at $228.46, reflecting a robust position within the consumer electronics sector. Apple's recent performance has been influenced by its ongoing product innovation and market strategy, amidst an overall favorable outlook from analysts.\"\u001b[0m,\n",
              "\u001b[2;32m│   \u001b[0m\u001b[33minsights\u001b[0m=\u001b[1m[\u001b[0m\n",
              "\u001b[2;32m│   │   \u001b[0m\u001b[32m'Analysts recommend a buy rating for AAPL, indicating strong growth potential and confidence in its financial health.'\u001b[0m,\n",
              "\u001b[2;32m│   │   \u001b[0m\u001b[32m\"The company's current market capitalization stands at approximately $3.39 trillion, signaling its stature in the market.\"\u001b[0m\n",
              "\u001b[2;32m│   \u001b[0m\u001b[1m]\u001b[0m,\n",
              "\u001b[2;32m│   \u001b[0m\u001b[33mrecent_trends\u001b[0m=\u001b[1m[\u001b[0m\n",
              "\u001b[2;32m│   │   \u001b[0m\u001b[32m'AAPL shares experienced fluctuations over the past 30 days, peaking at $240.15.'\u001b[0m,\n",
              "\u001b[2;32m│   │   \u001b[0m\u001b[32m'Recent activity shows a slight corrective trend as the stock rebalances after reaching these highs.'\u001b[0m,\n",
              "\u001b[2;32m│   │   \u001b[0m\u001b[32m'The average trading volume has decreased compared to prior weeks, suggesting a contraction in trading activity.'\u001b[0m\n",
              "\u001b[2;32m│   \u001b[0m\u001b[1m]\u001b[0m,\n",
              "\u001b[2;32m│   \u001b[0m\u001b[33mfinancial_metrics\u001b[0m=\u001b[1m[\u001b[0m\n",
              "\u001b[2;32m│   │   \u001b[0m\u001b[32m'Market Cap: $3.39 trillion'\u001b[0m,\n",
              "\u001b[2;32m│   │   \u001b[0m\u001b[32m'PE Ratio: 27.49'\u001b[0m,\n",
              "\u001b[2;32m│   │   \u001b[0m\u001b[32m'EPS: $6.60'\u001b[0m,\n",
              "\u001b[2;32m│   │   \u001b[0m\u001b[32m'Dividend Yield: 0.46%'\u001b[0m,\n",
              "\u001b[2;32m│   │   \u001b[0m\u001b[32m'Revenue Growth: 9.6%'\u001b[0m,\n",
              "\u001b[2;32m│   │   \u001b[0m\u001b[32m'Gross Margins: 46.68%'\u001b[0m,\n",
              "\u001b[2;32m│   │   \u001b[0m\u001b[32m'Operating Margins: 29.99%'\u001b[0m\n",
              "\u001b[2;32m│   \u001b[0m\u001b[1m]\u001b[0m,\n",
              "\u001b[2;32m│   \u001b[0m\u001b[33msources\u001b[0m=\u001b[1m[\u001b[0m\u001b[32m'https://www.apple.com'\u001b[0m, \u001b[32m'http://finance.yahoo.com/'\u001b[0m, \u001b[32m'http://investor.apple.com/'\u001b[0m\u001b[1m]\u001b[0m\n",
              "\u001b[1m)\u001b[0m\n"
            ],
            "text/html": [
              "<pre style=\"white-space:pre;overflow-x:auto;line-height:normal;font-family:Menlo,'DejaVu Sans Mono',consolas,'Courier New',monospace\"><span style=\"color: #800080; text-decoration-color: #800080; font-weight: bold\">StockMarketOutput</span><span style=\"font-weight: bold\">(</span>\n",
              "<span style=\"color: #7fbf7f; text-decoration-color: #7fbf7f\">│   </span><span style=\"color: #808000; text-decoration-color: #808000\">summary</span>=<span style=\"color: #008000; text-decoration-color: #008000\">\"AAPL is currently trading at $228.46, reflecting a robust position within the consumer electronics sector. Apple's recent performance has been influenced by its ongoing product innovation and market strategy, amidst an overall favorable outlook from analysts.\"</span>,\n",
              "<span style=\"color: #7fbf7f; text-decoration-color: #7fbf7f\">│   </span><span style=\"color: #808000; text-decoration-color: #808000\">insights</span>=<span style=\"font-weight: bold\">[</span>\n",
              "<span style=\"color: #7fbf7f; text-decoration-color: #7fbf7f\">│   │   </span><span style=\"color: #008000; text-decoration-color: #008000\">'Analysts recommend a buy rating for AAPL, indicating strong growth potential and confidence in its financial health.'</span>,\n",
              "<span style=\"color: #7fbf7f; text-decoration-color: #7fbf7f\">│   │   </span><span style=\"color: #008000; text-decoration-color: #008000\">\"The company's current market capitalization stands at approximately $3.39 trillion, signaling its stature in the market.\"</span>\n",
              "<span style=\"color: #7fbf7f; text-decoration-color: #7fbf7f\">│   </span><span style=\"font-weight: bold\">]</span>,\n",
              "<span style=\"color: #7fbf7f; text-decoration-color: #7fbf7f\">│   </span><span style=\"color: #808000; text-decoration-color: #808000\">recent_trends</span>=<span style=\"font-weight: bold\">[</span>\n",
              "<span style=\"color: #7fbf7f; text-decoration-color: #7fbf7f\">│   │   </span><span style=\"color: #008000; text-decoration-color: #008000\">'AAPL shares experienced fluctuations over the past 30 days, peaking at $240.15.'</span>,\n",
              "<span style=\"color: #7fbf7f; text-decoration-color: #7fbf7f\">│   │   </span><span style=\"color: #008000; text-decoration-color: #008000\">'Recent activity shows a slight corrective trend as the stock rebalances after reaching these highs.'</span>,\n",
              "<span style=\"color: #7fbf7f; text-decoration-color: #7fbf7f\">│   │   </span><span style=\"color: #008000; text-decoration-color: #008000\">'The average trading volume has decreased compared to prior weeks, suggesting a contraction in trading activity.'</span>\n",
              "<span style=\"color: #7fbf7f; text-decoration-color: #7fbf7f\">│   </span><span style=\"font-weight: bold\">]</span>,\n",
              "<span style=\"color: #7fbf7f; text-decoration-color: #7fbf7f\">│   </span><span style=\"color: #808000; text-decoration-color: #808000\">financial_metrics</span>=<span style=\"font-weight: bold\">[</span>\n",
              "<span style=\"color: #7fbf7f; text-decoration-color: #7fbf7f\">│   │   </span><span style=\"color: #008000; text-decoration-color: #008000\">'Market Cap: $3.39 trillion'</span>,\n",
              "<span style=\"color: #7fbf7f; text-decoration-color: #7fbf7f\">│   │   </span><span style=\"color: #008000; text-decoration-color: #008000\">'PE Ratio: 27.49'</span>,\n",
              "<span style=\"color: #7fbf7f; text-decoration-color: #7fbf7f\">│   │   </span><span style=\"color: #008000; text-decoration-color: #008000\">'EPS: $6.60'</span>,\n",
              "<span style=\"color: #7fbf7f; text-decoration-color: #7fbf7f\">│   │   </span><span style=\"color: #008000; text-decoration-color: #008000\">'Dividend Yield: 0.46%'</span>,\n",
              "<span style=\"color: #7fbf7f; text-decoration-color: #7fbf7f\">│   │   </span><span style=\"color: #008000; text-decoration-color: #008000\">'Revenue Growth: 9.6%'</span>,\n",
              "<span style=\"color: #7fbf7f; text-decoration-color: #7fbf7f\">│   │   </span><span style=\"color: #008000; text-decoration-color: #008000\">'Gross Margins: 46.68%'</span>,\n",
              "<span style=\"color: #7fbf7f; text-decoration-color: #7fbf7f\">│   │   </span><span style=\"color: #008000; text-decoration-color: #008000\">'Operating Margins: 29.99%'</span>\n",
              "<span style=\"color: #7fbf7f; text-decoration-color: #7fbf7f\">│   </span><span style=\"font-weight: bold\">]</span>,\n",
              "<span style=\"color: #7fbf7f; text-decoration-color: #7fbf7f\">│   </span><span style=\"color: #808000; text-decoration-color: #808000\">sources</span>=<span style=\"font-weight: bold\">[</span><span style=\"color: #008000; text-decoration-color: #008000\">'https://www.apple.com'</span>, <span style=\"color: #008000; text-decoration-color: #008000\">'http://finance.yahoo.com/'</span>, <span style=\"color: #008000; text-decoration-color: #008000\">'http://investor.apple.com/'</span><span style=\"font-weight: bold\">]</span>\n",
              "<span style=\"font-weight: bold\">)</span>\n",
              "</pre>\n"
            ]
          },
          "metadata": {}
        }
      ],
      "source": [
        "response = stock_market_analyzer_agent.run(input=StockMarketTopic(stock_symbol=\"AAPL\", days_required=30))\n",
        "\n",
        "# Print the response\n",
        "pprint(response.content)"
      ]
    }
  ]
}