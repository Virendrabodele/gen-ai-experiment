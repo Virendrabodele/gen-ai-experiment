{
  "cells": [
    {
      "cell_type": "markdown",
      "source": [
        "<img src=\"https://drive.google.com/uc?export=view&id=1wYSMgJtARFdvTt5g7E20mE4NmwUFUuog\" width=\"200\">\n",
        "\n",
        "[![Gen AI Experiments](https://img.shields.io/badge/Gen%20AI%20Experiments-GenAI%20Bootcamp-blue?style=for-the-badge&logo=artificial-intelligence)](https://github.com/buildfastwithai/gen-ai-experiments)\n",
        "[![Gen AI Experiments GitHub](https://img.shields.io/github/stars/buildfastwithai/gen-ai-experiments?style=for-the-badge&logo=github&color=gold)](http://github.com/buildfastwithai/gen-ai-experiments)\n",
        "\n",
        "\n",
        "[![Open In Colab](https://colab.research.google.com/assets/colab-badge.svg)](https://colab.research.google.com/drive/1ApogupYVyWlOIro1p6z-qBq42TMttsFI?usp=sharing)\n",
        "\n",
        "## Master Generative AI in 8 Weeks\n",
        "**What You'll Learn:**\n",
        "- Master cutting-edge AI tools & frameworks\n",
        "- 6 weeks of hands-on, project-based learning\n",
        "- Weekly live mentorship sessions\n",
        "- No coding experience required\n",
        "- Join Innovation Community\n",
        "Transform your AI ideas into reality through hands-on projects and expert mentorship.\n",
        "[Start Your Journey](https://www.buildfastwithai.com/genai-course)\n",
        "\n",
        "\n"
      ],
      "metadata": {
        "id": "jMH9qxhmbBxL"
      },
      "id": "jMH9qxhmbBxL"
    },
    {
      "cell_type": "markdown",
      "id": "4402ae7f",
      "metadata": {
        "id": "4402ae7f"
      },
      "source": [
        "# Day 1 — AI AGENT BOOTCAMP\n",
        "The notebook below represents a fully functional agent that uses an LLM to decide which tools to use. It is equipped with a generic search tool.It has conversational memory - meaning that it can be used as a multi-turn chatbot."
      ]
    },
    {
      "cell_type": "markdown",
      "id": "1927b5b2",
      "metadata": {
        "id": "1927b5b2"
      },
      "source": [
        "## Agents 🤖\n",
        "\n",
        " AI agent is an autonomous software system that can reason, plan, and take action to achieve a specific goal, much like a digital employee. Unlike simple chatbots that just follow a script, an AI agent can proactively break down complex tasks, gather necessary information, and execute the steps to reach a solution without constant human supervision\n",
        "\n",
        "\n"
      ]
    },
    {
      "cell_type": "markdown",
      "source": [
        "## Setup and Installation of required libraries\n",
        "We'll start by installing the prerequisite libraries that we'll be using in this example."
      ],
      "metadata": {
        "id": "08W9EqpNtzfD"
      },
      "id": "08W9EqpNtzfD"
    },
    {
      "cell_type": "code",
      "execution_count": null,
      "id": "39314197",
      "metadata": {
        "colab": {
          "base_uri": "https://localhost:8080/"
        },
        "id": "39314197",
        "outputId": "05625153-a168-4723-a774-8c3bfc48b16d"
      },
      "outputs": [
        {
          "output_type": "stream",
          "name": "stdout",
          "text": [
            "\u001b[?25l   \u001b[90m━━━━━━━━━━━━━━━━━━━━━━━━━━━━━━━━━━━━━━━━\u001b[0m \u001b[32m0.0/75.0 kB\u001b[0m \u001b[31m?\u001b[0m eta \u001b[36m-:--:--\u001b[0m\r\u001b[2K   \u001b[90m━━━━━━━━━━━━━━━━━━━━━━━━━━━━━━━━━━━━━━━━\u001b[0m \u001b[32m75.0/75.0 kB\u001b[0m \u001b[31m5.1 MB/s\u001b[0m eta \u001b[36m0:00:00\u001b[0m\n",
            "\u001b[?25h\u001b[?25l   \u001b[90m━━━━━━━━━━━━━━━━━━━━━━━━━━━━━━━━━━━━━━━━\u001b[0m \u001b[32m0.0/447.5 kB\u001b[0m \u001b[31m?\u001b[0m eta \u001b[36m-:--:--\u001b[0m\r\u001b[2K   \u001b[90m━━━━━━━━━━━━━━━━━━━━━━━━━━━━━━━━━━━━━━━━\u001b[0m \u001b[32m447.5/447.5 kB\u001b[0m \u001b[31m29.3 MB/s\u001b[0m eta \u001b[36m0:00:00\u001b[0m\n",
            "\u001b[?25h"
          ]
        }
      ],
      "source": [
        "!pip install -q langchain-openai langgraph langchain-tavily"
      ]
    },
    {
      "cell_type": "markdown",
      "source": [
        "## Setup of search tool using Tavily\n",
        "Agent needs some tools to interact with real world data or environmnet, so let us setup Tavily search tool which can search any query over web and that result can be used by agent"
      ],
      "metadata": {
        "id": "mxivK2IDzlxg"
      },
      "id": "mxivK2IDzlxg"
    },
    {
      "cell_type": "code",
      "execution_count": null,
      "id": "d0b54dcf",
      "metadata": {
        "id": "d0b54dcf"
      },
      "outputs": [],
      "source": [
        "from langchain_tavily import TavilySearch\n",
        "import os\n",
        "from google.colab import userdata\n",
        "os.environ['TAVILY_API_KEY'] = userdata.get('TAVILY_API_KEY')\n",
        "\n",
        "search = TavilySearch(max_results=2)\n",
        "# If we want, we can create other tools.\n",
        "# Once we have all the tools we want, we can put them in a list that we will reference later.\n",
        "tools = [search]\n"
      ]
    },
    {
      "cell_type": "code",
      "source": [
        "search_results = search.invoke(\"What is the weather in SF\") # testing with a test query, that how our tool is working\n",
        "for r in search_results[\"results\"]: # printing the response\n",
        "    print(\"Title:\", r[\"title\"])\n",
        "    print(\"URL:\", r[\"url\"])\n",
        "    print(\"Score:\", r[\"score\"])\n",
        "    print(\"Content:\", r[\"content\"][:100], \"...\")  # print only first 100 chars\n",
        "    print()"
      ],
      "metadata": {
        "colab": {
          "base_uri": "https://localhost:8080/"
        },
        "id": "VEE7arQT0Axu",
        "outputId": "69d7902a-3e02-439b-9223-4b1a8ff0d522"
      },
      "id": "VEE7arQT0Axu",
      "execution_count": null,
      "outputs": [
        {
          "output_type": "stream",
          "name": "stdout",
          "text": [
            "Title: Weather in San Francisco\n",
            "URL: https://www.weatherapi.com/\n",
            "Score: 0.9754234\n",
            "Content: {'location': {'name': 'San Francisco', 'region': 'California', 'country': 'United States of America' ...\n",
            "\n",
            "Title: Weather in San Francisco in September 2025\n",
            "URL: https://world-weather.info/forecast/usa/san_francisco/september-2025/\n",
            "Score: 0.903098\n",
            "Content: * Weather in San Francisco # Weather in San Francisco in September 2025 * +73° +72° +59° +68° +61° + ...\n",
            "\n"
          ]
        }
      ]
    },
    {
      "cell_type": "markdown",
      "source": [
        "## LLM setup\n",
        "The language model (e.g., OpenAI API) that generates text and reasoning which is the heart of an AI Agent"
      ],
      "metadata": {
        "id": "T56ZJByo1IIG"
      },
      "id": "T56ZJByo1IIG"
    },
    {
      "cell_type": "code",
      "source": [
        "from langchain.chat_models import init_chat_model\n",
        "\n",
        "os.environ['OPENAI_API_KEY'] = userdata.get('OPENAI_API_KEY')\n",
        "model = init_chat_model(\"gpt-4.1\", model_provider=\"openai\")"
      ],
      "metadata": {
        "id": "izriSC3e1Kxs"
      },
      "id": "izriSC3e1Kxs",
      "execution_count": null,
      "outputs": []
    },
    {
      "cell_type": "code",
      "source": [
        "query = \"Hi!\"\n",
        "response = model.invoke([{\"role\": \"user\", \"content\": query}])\n",
        "response.text()"
      ],
      "metadata": {
        "colab": {
          "base_uri": "https://localhost:8080/",
          "height": 36
        },
        "id": "IKNHdoTc1Pbr",
        "outputId": "4562b4cf-d989-4cfa-c161-419aa2043780"
      },
      "id": "IKNHdoTc1Pbr",
      "execution_count": null,
      "outputs": [
        {
          "output_type": "execute_result",
          "data": {
            "text/plain": [
              "'Hello! How can I help you today? 😊'"
            ],
            "application/vnd.google.colaboratory.intrinsic+json": {
              "type": "string"
            }
          },
          "metadata": {},
          "execution_count": 16
        }
      ]
    },
    {
      "cell_type": "markdown",
      "source": [
        "### Creation of agent"
      ],
      "metadata": {
        "id": "U_d9uQc63myN"
      },
      "id": "U_d9uQc63myN"
    },
    {
      "cell_type": "code",
      "source": [
        "from langgraph.prebuilt import create_react_agent\n",
        "\n",
        "agent_executor = create_react_agent(model, tools)"
      ],
      "metadata": {
        "id": "8jkX_K1o1YE1"
      },
      "id": "8jkX_K1o1YE1",
      "execution_count": null,
      "outputs": []
    },
    {
      "cell_type": "markdown",
      "source": [
        "### Querying to the agent"
      ],
      "metadata": {
        "id": "VDjfqVNj39Zz"
      },
      "id": "VDjfqVNj39Zz"
    },
    {
      "cell_type": "code",
      "source": [
        "input_message = {\"role\": \"user\", \"content\": \"Hi!\"}\n",
        "response = agent_executor.invoke({\"messages\": [input_message]})\n",
        "\n",
        "for message in response[\"messages\"]:\n",
        "    message.pretty_print()"
      ],
      "metadata": {
        "colab": {
          "base_uri": "https://localhost:8080/"
        },
        "id": "xjwhBcMt1cYV",
        "outputId": "73da8d3a-60d3-4d90-cd0e-c440bde7a87b"
      },
      "id": "xjwhBcMt1cYV",
      "execution_count": null,
      "outputs": [
        {
          "output_type": "stream",
          "name": "stdout",
          "text": [
            "================================\u001b[1m Human Message \u001b[0m=================================\n",
            "\n",
            "Hi!\n",
            "==================================\u001b[1m Ai Message \u001b[0m==================================\n",
            "\n",
            "Hello! How can I help you today?\n"
          ]
        }
      ]
    },
    {
      "cell_type": "code",
      "source": [
        "input_message = {\"role\": \"user\", \"content\": \"Search for the weather in SF\"}\n",
        "response = agent_executor.invoke({\"messages\": [input_message]})\n",
        "\n",
        "for message in response[\"messages\"]:\n",
        "    message.pretty_print()"
      ],
      "metadata": {
        "colab": {
          "base_uri": "https://localhost:8080/"
        },
        "id": "LQ7S_4gL1uTS",
        "outputId": "dd41336b-fbb7-4456-ada6-7727dccad433"
      },
      "id": "LQ7S_4gL1uTS",
      "execution_count": null,
      "outputs": [
        {
          "output_type": "stream",
          "name": "stdout",
          "text": [
            "================================\u001b[1m Human Message \u001b[0m=================================\n",
            "\n",
            "Search for the weather in SF\n",
            "==================================\u001b[1m Ai Message \u001b[0m==================================\n",
            "Tool Calls:\n",
            "  tavily_search (call_h7sspoL4TYtca2kh9YlIn3JP)\n",
            " Call ID: call_h7sspoL4TYtca2kh9YlIn3JP\n",
            "  Args:\n",
            "    query: current weather in San Francisco\n",
            "=================================\u001b[1m Tool Message \u001b[0m=================================\n",
            "Name: tavily_search\n",
            "\n",
            "{\"query\": \"current weather in San Francisco\", \"follow_up_questions\": null, \"answer\": null, \"images\": [], \"results\": [{\"title\": \"Weather in San Francisco\", \"url\": \"https://www.weatherapi.com/\", \"content\": \"{'location': {'name': 'San Francisco', 'region': 'California', 'country': 'United States of America', 'lat': 37.775, 'lon': -122.4183, 'tz_id': 'America/Los_Angeles', 'localtime_epoch': 1758031060, 'localtime': '2025-09-16 06:57'}, 'current': {'last_updated_epoch': 1758030300, 'last_updated': '2025-09-16 06:45', 'temp_c': 16.7, 'temp_f': 62.1, 'is_day': 1, 'condition': {'text': 'Fog', 'icon': '//cdn.weatherapi.com/weather/64x64/day/248.png', 'code': 1135}, 'wind_mph': 2.2, 'wind_kph': 3.6, 'wind_degree': 227, 'wind_dir': 'SW', 'pressure_mb': 1012.0, 'pressure_in': 29.89, 'precip_mm': 0.0, 'precip_in': 0.0, 'humidity': 93, 'cloud': 0, 'feelslike_c': 16.7, 'feelslike_f': 62.1, 'windchill_c': 13.6, 'windchill_f': 56.5, 'heatindex_c': 13.4, 'heatindex_f': 56.2, 'dewpoint_c': 13.1, 'dewpoint_f': 55.5, 'vis_km': 16.0, 'vis_miles': 9.0, 'uv': 0.0, 'gust_mph': 6.7, 'gust_kph': 10.8}}\", \"score\": 0.9643667, \"raw_content\": null}, {\"url\": \"https://weathershogun.com/weather/usa/ca/san-francisco/480/september/2025-09-16\", \"title\": \"Tuesday, September 16, 2025. San Francisco, CA - Weather Forecast\", \"content\": \"San Francisco, California Weather: Tuesday, September 16, 2025. Day 73°. Night 59°. Precipitation 0 %. Wind 7 mph. UV Index (0 - 11+) 11\", \"score\": 0.9485422, \"raw_content\": null}], \"response_time\": 1.79, \"request_id\": \"d1c7c115-d4a9-4fc1-8cbb-3cd0d7806ba0\"}\n",
            "==================================\u001b[1m Ai Message \u001b[0m==================================\n",
            "\n",
            "The current weather in San Francisco is foggy, with a temperature of about 16.7°C (62.1°F). Humidity is high at 93%, and winds are mild from the southwest at 2.2 mph. Visibility is good at 16 km (about 9 miles).\n",
            "\n",
            "For more details, you can visit weatherapi.com.\n"
          ]
        }
      ]
    },
    {
      "cell_type": "markdown",
      "source": [
        "## Adding Memory layer\n",
        "Adding memory to agent that will make it remember chats which can be refrenced to future messages"
      ],
      "metadata": {
        "id": "YP57pGr6TPYc"
      },
      "id": "YP57pGr6TPYc"
    },
    {
      "cell_type": "code",
      "source": [
        "from langgraph.checkpoint.memory import MemorySaver\n",
        "memory = MemorySaver()\n",
        "agent_executor = create_react_agent(model, tools, checkpointer=memory)"
      ],
      "metadata": {
        "id": "9fBLGlXrSGtj"
      },
      "id": "9fBLGlXrSGtj",
      "execution_count": null,
      "outputs": []
    },
    {
      "cell_type": "code",
      "source": [
        "config = {\"configurable\": {\"thread_id\": \"abc123\"}}\n",
        "\n",
        "input_message = {\n",
        "    \"role\": \"user\",\n",
        "    \"content\": \"Hi, I'm Bob and I live in SF.\",\n",
        "}\n",
        "for step in agent_executor.stream(\n",
        "    {\"messages\": [input_message]}, config, stream_mode=\"values\"\n",
        "):\n",
        "    step[\"messages\"][-1].pretty_print()"
      ],
      "metadata": {
        "colab": {
          "base_uri": "https://localhost:8080/"
        },
        "id": "TTQ6G5ntSRdk",
        "outputId": "fc879c09-9744-49b1-da5e-193416bd1631"
      },
      "id": "TTQ6G5ntSRdk",
      "execution_count": null,
      "outputs": [
        {
          "output_type": "stream",
          "name": "stdout",
          "text": [
            "================================\u001b[1m Human Message \u001b[0m=================================\n",
            "\n",
            "Hi, I'm Bob and I live in SF.\n",
            "==================================\u001b[1m Ai Message \u001b[0m==================================\n",
            "\n",
            "Hi Bob! Nice to meet you. How can I help you today?\n"
          ]
        }
      ]
    },
    {
      "cell_type": "code",
      "source": [
        "input_message = {\n",
        "    \"role\": \"user\",\n",
        "    \"content\": \"What's the weather where I live?\",\n",
        "}\n",
        "\n",
        "for step in agent_executor.stream(\n",
        "    {\"messages\": [input_message]}, config, stream_mode=\"values\"\n",
        "):\n",
        "    step[\"messages\"][-1].pretty_print()"
      ],
      "metadata": {
        "colab": {
          "base_uri": "https://localhost:8080/"
        },
        "id": "NCL7guZ5SWAR",
        "outputId": "1eec0f95-6063-4769-d647-f1ed3ba85622"
      },
      "id": "NCL7guZ5SWAR",
      "execution_count": null,
      "outputs": [
        {
          "output_type": "stream",
          "name": "stdout",
          "text": [
            "================================\u001b[1m Human Message \u001b[0m=================================\n",
            "\n",
            "What's the weather where I live?\n",
            "==================================\u001b[1m Ai Message \u001b[0m==================================\n",
            "Tool Calls:\n",
            "  tavily_search (call_s8TjXT9ppuF1wPDdeomFSKs8)\n",
            " Call ID: call_s8TjXT9ppuF1wPDdeomFSKs8\n",
            "  Args:\n",
            "    query: current weather in San Francisco, CA\n",
            "    search_depth: basic\n",
            "=================================\u001b[1m Tool Message \u001b[0m=================================\n",
            "Name: tavily_search\n",
            "\n",
            "{\"query\": \"current weather in San Francisco, CA\", \"follow_up_questions\": null, \"answer\": null, \"images\": [], \"results\": [{\"title\": \"Weather in San Francisco, CA\", \"url\": \"https://www.weatherapi.com/\", \"content\": \"{'location': {'name': 'San Francisco', 'region': 'California', 'country': 'United States of America', 'lat': 37.775, 'lon': -122.4183, 'tz_id': 'America/Los_Angeles', 'localtime_epoch': 1758038979, 'localtime': '2025-09-16 09:09'}, 'current': {'last_updated_epoch': 1758038400, 'last_updated': '2025-09-16 09:00', 'temp_c': 14.2, 'temp_f': 57.6, 'is_day': 1, 'condition': {'text': 'Fog', 'icon': '//cdn.weatherapi.com/weather/64x64/day/248.png', 'code': 1135}, 'wind_mph': 2.2, 'wind_kph': 3.6, 'wind_degree': 70, 'wind_dir': 'ENE', 'pressure_mb': 1014.0, 'pressure_in': 29.95, 'precip_mm': 0.0, 'precip_in': 0.0, 'humidity': 100, 'cloud': 100, 'feelslike_c': 14.9, 'feelslike_f': 58.8, 'windchill_c': 14.0, 'windchill_f': 57.1, 'heatindex_c': 13.7, 'heatindex_f': 56.6, 'dewpoint_c': 13.0, 'dewpoint_f': 55.4, 'vis_km': 0.4, 'vis_miles': 0.0, 'uv': 1.2, 'gust_mph': 6.7, 'gust_kph': 10.8}}\", \"score\": 0.9766013, \"raw_content\": null}, {\"url\": \"https://weathershogun.com/weather/usa/ca/san-francisco/480/september/2025-09-16\", \"title\": \"Tuesday, September 16, 2025. San Francisco, CA - Weather Forecast\", \"content\": \"San Francisco, California Weather: Tuesday, September 16, 2025. Day 73°. Night 59°. Precipitation 0 %. Wind 7 mph. UV Index (0 - 11+) 11\", \"score\": 0.95407325, \"raw_content\": null}], \"response_time\": 1.77, \"request_id\": \"e539faf1-42bf-4a70-a905-cc4cd04b5354\"}\n",
            "==================================\u001b[1m Ai Message \u001b[0m==================================\n",
            "\n",
            "Right now in San Francisco, it’s about 57.6°F (14.2°C) and foggy. Humidity is 100%, the wind is light at around 2 mph (ENE), and visibility is low due to fog.\n",
            "\n",
            "Let me know if you want a more detailed forecast or anything else!\n"
          ]
        }
      ]
    },
    {
      "cell_type": "markdown",
      "id": "a65ddf6a",
      "metadata": {
        "id": "a65ddf6a"
      },
      "source": [
        "\n",
        "---\n",
        "### Conclusion\n",
        "That's a wrap! In this quick start we covered how to create a simple agent, just keep in mind whenever writing prompt Be explicit about **format** and Keep tool descriptions short and precise so the agent knows when to call them\n",
        "\n",
        "\n"
      ]
    },
    {
      "cell_type": "markdown",
      "source": [
        "### Next steps (Day 1 -> Day 2)\n",
        "\n",
        "- Try extending this agent with a small, read-only web-scraping tool (requires API or internet access).\n",
        "- Day 2: multi-agent patterns (Crew-like crews) and task decomposition."
      ],
      "metadata": {
        "id": "3v7ZNZ8PUqvd"
      },
      "id": "3v7ZNZ8PUqvd"
    }
  ],
  "metadata": {
    "colab": {
      "provenance": []
    },
    "language_info": {
      "name": "python"
    },
    "kernelspec": {
      "name": "python3",
      "display_name": "Python 3"
    }
  },
  "nbformat": 4,
  "nbformat_minor": 5
}