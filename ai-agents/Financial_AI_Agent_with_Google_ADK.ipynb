{
  "cells": [
    {
      "cell_type": "markdown",
      "metadata": {
        "id": "wLx_gncHt336"
      },
      "source": [
        "<img src=\"https://drive.google.com/uc?export=view&id=1wYSMgJtARFdvTt5g7E20mE4NmwUFUuog\" width=\"200\">\n",
        "\n",
        "[![Gen AI Experiments](https://img.shields.io/badge/Gen%20AI%20Experiments-GenAI%20Bootcamp-blue?style=for-the-badge&logo=artificial-intelligence)](https://github.com/buildfastwithai/gen-ai-experiments)\n",
        "[![Gen AI Experiments GitHub](https://img.shields.io/github/stars/buildfastwithai/gen-ai-experiments?style=for-the-badge&logo=github&color=gold)](http://github.com/buildfastwithai/gen-ai-experiments)\n",
        "\n",
        "[![Open In Colab](https://colab.research.google.com/assets/colab-badge.svg)](https://colab.research.google.com/drive/1SRAFllEx_kFdy_FXXNzaQarnd6s5Xr20?usp=sharing)\n"
      ]
    },
    {
      "cell_type": "markdown",
      "metadata": {},
      "source": [
        "\n",
        "## Master Generative AI in 8 Weeks\n",
        "**What You'll Learn:**\n",
        "- Master cutting-edge AI tools & frameworks\n",
        "- 6 weeks of hands-on, project-based learning\n",
        "- Weekly live mentorship sessions\n",
        "- Join Innovation Community\n",
        "\n",
        "Learn by building. Get expert mentorship and work on real AI projects.\n",
        "[Start Your Journey](https://www.buildfastwithai.com/genai-course)"
      ]
    },
    {
      "cell_type": "markdown",
      "metadata": {
        "id": "w_MZDV_gipE4"
      },
      "source": [
        "<div style=\"display: flex; align-items: center; gap: 40px;\">\n",
        "\n",
        "<img src=\"https://miro.medium.com/v2/resize:fit:1400/1*MU3ZjY0IMHdE0SCu57i5sA.gif\" width=\"200\">\n",
        "\n",
        "\n",
        "<div>\n",
        "  <h2>Agent Development Kit</h2>\n",
        "  <p>Agent Development Kit (ADK) is a flexible and modular framework for developing and deploying AI agents. While optimized for Gemini and the Google ecosystem, ADK is model-agnostic, deployment-agnostic, and is built for compatibility with other frameworks. ADK was designed to make agent development feel more like software development, to make it easier for developers to create, deploy, and orchestrate agentic architectures that range from simple tasks to complex workflows.</p>\n",
        "  </div>"
      ]
    },
    {
      "cell_type": "markdown",
      "metadata": {
        "id": "863weiO3jxeD"
      },
      "source": [
        "###✅ Installing Required Packages"
      ]
    },
    {
      "cell_type": "code",
      "execution_count": null,
      "metadata": {
        "collapsed": true,
        "id": "QYfHhyJFZSrX"
      },
      "outputs": [],
      "source": [
        "# 🛠️ Step 1: Install Required Libraries\n",
        "!pip install google-adk yfinance --quiet"
      ]
    },
    {
      "cell_type": "markdown",
      "metadata": {
        "id": "pnRUyvnjj-ID"
      },
      "source": [
        "####Setup API Keys"
      ]
    },
    {
      "cell_type": "code",
      "execution_count": null,
      "metadata": {
        "id": "Cp_820QdZjxF"
      },
      "outputs": [],
      "source": [
        "# 🔐 Step 2: Set Up API Key Securely\n",
        "from google.colab import userdata\n",
        "import os\n",
        "\n",
        "os.environ[\"GOOGLE_API_KEY\"] = userdata.get(\"GOOGLE_API_KEY\")\n",
        "os.environ[\"GOOGLE_GENAI_USE_VERTEXAI\"] = \"0\"  # Disable VertexAI usage for local Gemini"
      ]
    },
    {
      "cell_type": "markdown",
      "metadata": {
        "id": "pCO6XAglj1Ep"
      },
      "source": [
        "###🧩 Imports and Dependencies"
      ]
    },
    {
      "cell_type": "code",
      "execution_count": null,
      "metadata": {
        "id": "uk2AA83yZl5F"
      },
      "outputs": [],
      "source": [
        "# 📦 Step 3: Import Core Libraries\n",
        "from google.adk.agents import Agent, LlmAgent\n",
        "from google.adk.runners import Runner\n",
        "from google.adk.sessions import InMemorySessionService\n",
        "from google.adk.tools.tool_context import ToolContext\n",
        "from google.adk.tools import google_search\n",
        "from google.adk.tools.base_tool import BaseTool\n",
        "from google.genai import types\n",
        "from typing import Dict, Any, Optional\n",
        "from pydantic import BaseModel, Field\n",
        "from IPython.display import display, Markdown\n",
        "import matplotlib.pyplot as plt\n",
        "import yfinance as yf"
      ]
    },
    {
      "cell_type": "markdown",
      "metadata": {
        "id": "zVX8W7RgkJWn"
      },
      "source": [
        "###Define Basic Agent"
      ]
    },
    {
      "cell_type": "code",
      "execution_count": null,
      "metadata": {
        "id": "2lmAyx-_Zn6z"
      },
      "outputs": [],
      "source": [
        "basic_agent = Agent(\n",
        "    name=\"basic_agent\",\n",
        "    model=\"gemini-2.0-flash\",\n",
        "    description=\"A simple agent that answers questions\",\n",
        "    instruction=\"\"\"\n",
        "    You are a helpful stock market assistant. Be concise.\n",
        "    If you don't know something, just say so.\n",
        "    \"\"\"\n",
        ")"
      ]
    },
    {
      "cell_type": "markdown",
      "metadata": {
        "id": "w7EQ-OtDkQ6s"
      },
      "source": [
        "###Tool Agent: Stock Price Tool"
      ]
    },
    {
      "cell_type": "code",
      "execution_count": null,
      "metadata": {
        "id": "9JJ83qlRkT6i"
      },
      "outputs": [],
      "source": [
        "def get_stock_price(ticker: str):\n",
        "    stock = yf.Ticker(ticker)\n",
        "    price = stock.info.get(\"currentPrice\", \"Price not available\")\n",
        "    return {\"price\": price, \"ticker\": ticker}\n",
        "\n",
        "tool_agent = Agent(\n",
        "    name=\"tool_agent\",\n",
        "    model=\"gemini-2.0-flash\",\n",
        "    description=\"A simple agent that gets stock prices\",\n",
        "    instruction=\"\"\"\n",
        "    You are a stock price assistant. Always use the get_stock_price tool.\n",
        "    Include the ticker symbol in your response.\n",
        "    \"\"\",\n",
        "    tools=[get_stock_price],\n",
        ")"
      ]
    },
    {
      "cell_type": "markdown",
      "metadata": {
        "id": "WWBkY7uDkWxr"
      },
      "source": [
        "###Stateful Agent: Remember Recent Searches"
      ]
    },
    {
      "cell_type": "code",
      "execution_count": null,
      "metadata": {
        "id": "VGDBI79okbjj"
      },
      "outputs": [],
      "source": [
        "def get_stock_price_stateful(ticker: str, tool_context: ToolContext):\n",
        "    stock = yf.Ticker(ticker)\n",
        "    price = stock.info.get(\"currentPrice\", \"Price not available\")\n",
        "\n",
        "    if \"recent_searches\" not in tool_context.state:\n",
        "        tool_context.state[\"recent_searches\"] = []\n",
        "\n",
        "    recent_searches = tool_context.state[\"recent_searches\"]\n",
        "    if ticker not in recent_searches:\n",
        "        recent_searches.append(ticker)\n",
        "        tool_context.state[\"recent_searches\"] = recent_searches\n",
        "\n",
        "    return {\"price\": price, \"ticker\": ticker}\n",
        "\n",
        "stateful_agent = Agent(\n",
        "    name=\"stateful_agent\",\n",
        "    model=\"gemini-2.0-flash\",\n",
        "    description=\"An agent that remembers recent searches\",\n",
        "    instruction=\"\"\"\n",
        "    You are a stock price assistant. Use the get_stock_price tool.\n",
        "    I'll remember your previous searches and can tell you about them if you ask.\n",
        "    \"\"\",\n",
        "    tools=[get_stock_price_stateful],\n",
        ")"
      ]
    },
    {
      "cell_type": "markdown",
      "metadata": {
        "id": "sPLOL5HukfFb"
      },
      "source": [
        "###Multi-Tool Agent: Info + Graph"
      ]
    },
    {
      "cell_type": "code",
      "execution_count": null,
      "metadata": {
        "id": "mTJgr593khIb"
      },
      "outputs": [],
      "source": [
        "def get_stock_info(ticker: str):\n",
        "    stock = yf.Ticker(ticker)\n",
        "    return {\n",
        "        \"ticker\": ticker,\n",
        "        \"company_name\": stock.info.get(\"shortName\", \"Name not available\"),\n",
        "        \"sector\": stock.info.get(\"sector\", \"Sector not available\")\n",
        "    }\n",
        "\n",
        "def plot_stock_graph(ticker: str):\n",
        "    df = yf.download(ticker, period=\"1mo\", interval=\"1d\")\n",
        "    plt.figure(figsize=(10, 4))\n",
        "    plt.plot(df.index, df['Close'], label=f\"{ticker} Price\")\n",
        "    plt.title(f\"{ticker} - Past 1 Month Stock Price\")\n",
        "    plt.xlabel(\"Date\")\n",
        "    plt.ylabel(\"Closing Price\")\n",
        "    plt.grid(True)\n",
        "    plt.legend()\n",
        "    plt.tight_layout()\n",
        "    plt.show()\n",
        "    return {\"message\": f\"Displayed price graph for {ticker}\"}\n",
        "\n",
        "multi_tool_agent = Agent(\n",
        "    name=\"multi_tool_agent\",\n",
        "    model=\"gemini-2.0-flash\",\n",
        "    description=\"An agent with multiple stock information tools\",\n",
        "    instruction=\"\"\"\n",
        "    You are a stock information assistant. You have tools to:\n",
        "    - Get stock prices\n",
        "    - Get company info\n",
        "    - Plot a stock graph\n",
        "    \"\"\",\n",
        "    tools=[get_stock_price_stateful, get_stock_info, plot_stock_graph],\n",
        ")\n"
      ]
    },
    {
      "cell_type": "markdown",
      "metadata": {
        "id": "6QR31q_akkgL"
      },
      "source": [
        "###Structured Output Agent"
      ]
    },
    {
      "cell_type": "code",
      "execution_count": null,
      "metadata": {
        "colab": {
          "base_uri": "https://localhost:8080/"
        },
        "id": "SOk__jmvkmLw",
        "outputId": "fb132247-6463-4b9e-fade-32db913fb9aa"
      },
      "outputs": [
        {
          "name": "stderr",
          "output_type": "stream",
          "text": [
            "WARNING:google_adk.google.adk.agents.llm_agent:Invalid config for agent structured_agent: output_schema cannot co-exist with agent transfer configurations. Setting disallow_transfer_to_parent=True, disallow_transfer_to_peers=True\n"
          ]
        }
      ],
      "source": [
        "class StockAnalysis(BaseModel):\n",
        "    ticker: str = Field(description=\"Stock symbol\")\n",
        "    recommendation: str = Field(description=\"Buy or Sell recommendation\")\n",
        "\n",
        "def get_stock_data_for_prompt(ticker):\n",
        "    stock = yf.Ticker(ticker)\n",
        "    return stock.info.get(\"currentPrice\", 0), stock.info.get(\"targetMeanPrice\", 0)\n",
        "\n",
        "structured_agent = LlmAgent(\n",
        "    name=\"structured_agent\",\n",
        "    model=\"gemini-2.0-flash\",\n",
        "    description=\"An agent with structured output\",\n",
        "    instruction=\"\"\"\n",
        "    You are a stock advisor. Analyze the stock ticker provided by the user.\n",
        "    Return Buy or Sell recommendation in JSON format.\n",
        "    If target price > current price: recommend Buy. Otherwise: recommend Sell.\n",
        "    \"\"\",\n",
        "    output_schema=StockAnalysis,\n",
        "    output_key=\"stock_analysis\"\n",
        ")\n"
      ]
    },
    {
      "cell_type": "markdown",
      "metadata": {
        "id": "Hx0yZYK_kpGn"
      },
      "source": [
        "###Callback Agent"
      ]
    },
    {
      "cell_type": "code",
      "execution_count": null,
      "metadata": {
        "id": "1iKQnpQMkrYr"
      },
      "outputs": [],
      "source": [
        "def get_stock_data(ticker: str, tool_context: ToolContext):\n",
        "    stock = yf.Ticker(ticker)\n",
        "    price = stock.info.get(\"currentPrice\", 0)\n",
        "    if \"tool_usage\" not in tool_context.state:\n",
        "        tool_context.state[\"tool_usage\"] = {}\n",
        "    return {\"ticker\": ticker, \"price\": price}\n",
        "\n",
        "def before_tool_callback(tool: BaseTool, args: Dict[str, Any], tool_context: ToolContext) -> Optional[Dict]:\n",
        "    if \"tool_usage\" not in tool_context.state:\n",
        "        tool_context.state[\"tool_usage\"] = {}\n",
        "    tool_usage = tool_context.state[\"tool_usage\"]\n",
        "    tool_usage[tool.name] = tool_usage.get(tool.name, 0) + 1\n",
        "    tool_context.state[\"tool_usage\"] = tool_usage\n",
        "    print(f\"[LOG] Running tool: {tool.name}\")\n",
        "    return None\n",
        "\n",
        "def after_tool_callback(tool: BaseTool, args: Dict[str, Any], tool_context: ToolContext, tool_response: Dict) -> Optional[Dict]:\n",
        "    print(f\"[LOG] Tool {tool.name} completed\")\n",
        "    return None\n",
        "\n",
        "callback_agent = Agent(\n",
        "    name=\"callback_agent\",\n",
        "    model=\"gemini-2.0-flash\",\n",
        "    description=\"An agent with callbacks\",\n",
        "    instruction=\"\"\"\n",
        "    You are a stock assistant. Use get_stock_data tool to check stock prices.\n",
        "    This agent keeps track of how many times tools have been used.\n",
        "    \"\"\",\n",
        "    tools=[get_stock_data],\n",
        "    before_tool_callback=before_tool_callback,\n",
        "    after_tool_callback=after_tool_callback,\n",
        ")\n"
      ]
    },
    {
      "cell_type": "markdown",
      "metadata": {
        "id": "62Uyl2s9kvKo"
      },
      "source": [
        "###Session Setup and Runner Configuration"
      ]
    },
    {
      "cell_type": "code",
      "execution_count": null,
      "metadata": {
        "id": "_SBuZgXxkz21"
      },
      "outputs": [],
      "source": [
        "APP_NAME = \"financial_agent\"\n",
        "USER_ID = \"user_001\"\n",
        "SESSION_ID = \"session_001\"\n",
        "\n",
        "session_service = InMemorySessionService()\n",
        "await session_service.create_session(app_name=APP_NAME, user_id=USER_ID, session_id=SESSION_ID)\n",
        "\n",
        "runner = Runner(agent=multi_tool_agent, app_name=APP_NAME, session_service=session_service)\n"
      ]
    },
    {
      "cell_type": "markdown",
      "metadata": {
        "id": "fjy17r4Bk3v4"
      },
      "source": [
        "###Async Execution Handler"
      ]
    },
    {
      "cell_type": "code",
      "execution_count": null,
      "metadata": {
        "id": "z1EOWsQqk6Dh"
      },
      "outputs": [],
      "source": [
        "async def call_agent_async(query: str, runner, user_id: str, session_id: str):\n",
        "    print(f\"\\n>>> User Query: {query}\")\n",
        "    content = types.Content(role=\"user\", parts=[types.Part(text=query)])\n",
        "    final_response = \"Agent did not respond.\"\n",
        "\n",
        "    async for event in runner.run_async(user_id=user_id, session_id=session_id, new_message=content):\n",
        "        if event.is_final_response():\n",
        "            if event.content and event.content.parts:\n",
        "                final_response = event.content.parts[0].text\n",
        "            break\n",
        "\n",
        "    display(Markdown(f\"### 🤖 Agent Response\\n\\n{final_response}\"))\n"
      ]
    },
    {
      "cell_type": "markdown",
      "metadata": {
        "id": "lTLfs0Vqk815"
      },
      "source": [
        "###Run Example Query"
      ]
    },
    {
      "cell_type": "code",
      "execution_count": null,
      "metadata": {
        "colab": {
          "base_uri": "https://localhost:8080/",
          "height": 155
        },
        "id": "SjG-YWtek_D5",
        "outputId": "3f1979ec-36ea-433c-de9f-5601056e8b10"
      },
      "outputs": [],
      "source": [
        "await call_agent_async(\"What is the current price and sector of TSLA?\", runner, USER_ID, SESSION_ID)"
      ]
    },
    {
      "cell_type": "code",
      "execution_count": null,
      "metadata": {
        "colab": {
          "base_uri": "https://localhost:8080/",
          "height": 597
        },
        "id": "mbMZd_BXlaDX",
        "outputId": "eca520e2-4010-478b-f422-b1bed3356098"
      },
      "outputs": [],
      "source": [
        "await call_agent_async(\"Plot the stock price graph for TSLA\", runner, USER_ID, SESSION_ID)"
      ]
    },
    {
      "cell_type": "code",
      "execution_count": null,
      "metadata": {
        "colab": {
          "base_uri": "https://localhost:8080/",
          "height": 155
        },
        "id": "FHT9iKUWmYHq",
        "outputId": "6356ed5a-8fb9-4263-ff58-31e826f5dd56"
      },
      "outputs": [
        {
          "name": "stdout",
          "output_type": "stream",
          "text": [
            "\n",
            ">>> User Query: What is the current price and sector of NVDA?\n"
          ]
        },
        {
          "name": "stderr",
          "output_type": "stream",
          "text": [
            "WARNING:google_genai.types:Warning: there are non-text parts in the response: ['function_call', 'function_call'], returning concatenated text result from text parts. Check the full candidates.content.parts accessor to get the full model response.\n"
          ]
        },
        {
          "data": {
            "text/markdown": [
              "### 🤖 Agent Response\n",
              "\n",
              "The current price of NVDA is $159.34 and it is in the Technology sector."
            ],
            "text/plain": [
              "<IPython.core.display.Markdown object>"
            ]
          },
          "metadata": {},
          "output_type": "display_data"
        }
      ],
      "source": [
        "await call_agent_async(\"What is the current price and sector of NVDA?\", runner, USER_ID, SESSION_ID)"
      ]
    },
    {
      "cell_type": "code",
      "execution_count": null,
      "metadata": {
        "colab": {
          "base_uri": "https://localhost:8080/",
          "height": 597
        },
        "id": "N1TMfLwhmdP-",
        "outputId": "b4c58e88-332e-4678-bdb3-bee148f443a8"
      },
      "outputs": [],
      "source": [
        "await call_agent_async(\"Plot the stock price graph for NVDA\", runner, USER_ID, SESSION_ID)"
      ]
    }
  ],
  "metadata": {
    "accelerator": "GPU",
    "colab": {
      "gpuType": "T4",
      "provenance": []
    },
    "kernelspec": {
      "display_name": "Python 3",
      "name": "python3"
    },
    "language_info": {
      "name": "python"
    }
  },
  "nbformat": 4,
  "nbformat_minor": 0
}
