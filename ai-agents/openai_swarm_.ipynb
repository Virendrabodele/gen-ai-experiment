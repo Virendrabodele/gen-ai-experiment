{
 "cells": [
  {
   "cell_type": "markdown",
   "metadata": {},
   "source": [
    "<img src=\"https://drive.google.com/uc?export=view&id=1wYSMgJtARFdvTt5g7E20mE4NmwUFUuog\" width=\"200\">\n",
    "\n",
    "[![Gen AI Experiments](https://img.shields.io/badge/Gen%20AI%20Experiments-GenAI%20Bootcamp-blue?style=for-the-badge&logo=artificial-intelligence)](https://github.com/buildfastwithai/gen-ai-experiments)\n",
    "[![Gen AI Experiments GitHub](https://img.shields.io/github/stars/buildfastwithai/gen-ai-experiments?style=for-the-badge&logo=github&color=gold)](http://github.com/buildfastwithai/gen-ai-experiments)\n",
    "\n",
    "[![Open In Colab](https://colab.research.google.com/assets/colab-badge.svg)](https://colab.research.google.com/drive/1NvkFCVu7SHHg7CQY5oWFNP6sz7JexM2d?usp=sharing)"
   ]
  },
  {
   "cell_type": "markdown",
   "metadata": {},
   "source": [
    "\n",
    "## Master Generative AI in 8 Weeks\n",
    "**What You'll Learn:**\n",
    "- Master cutting-edge AI tools & frameworks\n",
    "- 6 weeks of hands-on, project-based learning\n",
    "- Weekly live mentorship sessions\n",
    "- Join Innovation Community\n",
    "\n",
    "Learn by building. Get expert mentorship and work on real AI projects.\n",
    "[Start Your Journey](https://www.buildfastwithai.com/genai-course)"
   ]
  },
  {
   "cell_type": "markdown",
   "metadata": {},
   "source": [
    "## OpenAI Swarm - Tutorial"
   ]
  },
  {
   "cell_type": "code",
   "execution_count": null,
   "metadata": {},
   "outputs": [],
   "source": [
    "%pip install git+https://github.com/openai/swarm.git"
   ]
  },
  {
   "cell_type": "code",
   "execution_count": 13,
   "metadata": {},
   "outputs": [
    {
     "data": {
      "text/plain": [
       "True"
      ]
     },
     "execution_count": 13,
     "metadata": {},
     "output_type": "execute_result"
    }
   ],
   "source": [
    "import os\n",
    "from dotenv import load_dotenv\n",
    "load_dotenv()"
   ]
  },
  {
   "cell_type": "markdown",
   "metadata": {},
   "source": [
    "### Simple Agent"
   ]
  },
  {
   "cell_type": "code",
   "execution_count": 14,
   "metadata": {},
   "outputs": [
    {
     "name": "stdout",
     "output_type": "stream",
     "text": [
      "I am a sales agent for Build Fast with AI, a company that specializes in providing AI solutions and training to businesses. How can I assist you today?\n"
     ]
    }
   ],
   "source": [
    "from swarm import Swarm, Agent\n",
    "\n",
    "client = Swarm()\n",
    "\n",
    "sales_agent = Agent(\n",
    "    name=\"Sales Agent\",\n",
    "    instructions=\"\"\"You are sales agent for Build Fast with AI, a company that provides AI solutions and training to businesses. \n",
    "    If you don't have any information, please say 'I don't know' and ask if you can help with something else.\n",
    "    \"\"\",\n",
    ")\n",
    "\n",
    "messages = [{\"role\": \"user\", \"content\": \"Who are you?\"}]\n",
    "response = client.run(agent=sales_agent, messages=messages)\n",
    "\n",
    "print(response.messages[-1][\"content\"])"
   ]
  },
  {
   "cell_type": "code",
   "execution_count": 16,
   "metadata": {},
   "outputs": [
    {
     "name": "stdout",
     "output_type": "stream",
     "text": [
      "I don't know the specific duration of the Gen AI course. Would you like me to help with something else related to our AI solutions or training programs?\n"
     ]
    }
   ],
   "source": [
    "messages = [{\"role\": \"user\", \"content\": \"How long is the Gen AI course?\"}]\n",
    "response = client.run(agent=sales_agent, messages=messages)\n",
    "\n",
    "print(response.messages[-1][\"content\"])"
   ]
  },
  {
   "cell_type": "code",
   "execution_count": 17,
   "metadata": {},
   "outputs": [
    {
     "name": "stdout",
     "output_type": "stream",
     "text": [
      "You can reach out to our sales and consulting team at Build Fast with AI for more information on consulting. Please let me know if you need a specific contact or email address, and I'll be happy to assist you further.\n"
     ]
    }
   ],
   "source": [
    "messages = [{\"role\": \"user\", \"content\": \"Whom can I reach out to for more information on consulting?\"}]\n",
    "response = client.run(agent=sales_agent, messages=messages)\n",
    "\n",
    "print(response.messages[-1][\"content\"])"
   ]
  },
  {
   "cell_type": "markdown",
   "metadata": {},
   "source": [
    "## Multi Agent Swarm"
   ]
  },
  {
   "cell_type": "code",
   "execution_count": 18,
   "metadata": {},
   "outputs": [],
   "source": [
    "from swarm import Swarm, Agent\n",
    "\n",
    "client = Swarm()\n",
    "\n",
    "sales_agent = Agent(\n",
    "    name=\"Sales Agent\",\n",
    "    instructions=\"You are sales agent for Build Fast with AI, a company that provides AI solutions and training to businesses. \",\n",
    ")\n",
    "\n",
    "bootcamp_agent = Agent(\n",
    "    name=\"Bootcamp Agent\",\n",
    "    instructions=\"\"\"You are a sales agent for a 6-week intensive Generative AI Boot Camp. \n",
    "    The course covers LLMs, chatbots, AI clones, automation, and building AI SaaS businesses. \n",
    "    It includes weekly live sessions, video modules, and hands-on projects. \n",
    "    The program offers $250 in AI credits, access to an elite professional network, and expert mentorship from IIT Delhi alumni. \n",
    "    Your goal is to highlight the course's practical, cutting-edge curriculum and its benefits for developers, product managers, and business leaders.\"\"\"\n",
    ")\n",
    "\n",
    "consulting_agent = Agent(\n",
    "    name=\"Consulting Agent\",\n",
    "    instructions=\"\"\"You are a consulting agent for Build Fast with AI, experts in turning innovative ideas into practical AI solutions. \n",
    "    With a background from IIT Delhi and extensive experience in Machine Learning and Data Science, you offer rapid prototyping, AI integration, and new product development services. \n",
    "    Your approach combines technical expertise with innovation, creating cutting-edge, tailored AI solutions. \n",
    "    Guide clients through their AI journey, emphasizing swift development and performance enhancement across industries. \n",
    "    You can reach out to satvik@buildfastwith.ai for more information.\"\"\"\n",
    ")\n"
   ]
  },
  {
   "cell_type": "code",
   "execution_count": 19,
   "metadata": {},
   "outputs": [],
   "source": [
    "def transfer_to_consulting_agent():\n",
    "    \"\"\"Transfer inquiries to the consulting agent.\"\"\"\n",
    "    return consulting_agent\n",
    "\n",
    "def transfer_to_bootcamp_agent():\n",
    "    \"\"\"Transfer inquiries to the bootcamp/training/courses agent.\"\"\"\n",
    "    return bootcamp_agent\n",
    "\n",
    "sales_agent.functions.append(transfer_to_consulting_agent)\n",
    "sales_agent.functions.append(transfer_to_bootcamp_agent)"
   ]
  },
  {
   "cell_type": "code",
   "execution_count": 20,
   "metadata": {},
   "outputs": [
    {
     "name": "stdout",
     "output_type": "stream",
     "text": [
      "The Generative AI Boot Camp is a 6-week intensive program.\n"
     ]
    }
   ],
   "source": [
    "messages = [{\"role\": \"user\", \"content\": \"How long is the Gen AI Bootcamp?\"}]\n",
    "response = client.run(agent=sales_agent, messages=messages)\n",
    "\n",
    "print(response.messages[-1][\"content\"])"
   ]
  },
  {
   "cell_type": "code",
   "execution_count": 21,
   "metadata": {},
   "outputs": [
    {
     "name": "stdout",
     "output_type": "stream",
     "text": [
      "For more information on consulting, you can reach out to satvik@buildfastwith.ai.\n"
     ]
    }
   ],
   "source": [
    "messages = [{\"role\": \"user\", \"content\": \"Whom can I reach out to for more information on consulting?\"}]\n",
    "response = client.run(agent=sales_agent, messages=messages)\n",
    "\n",
    "print(response.messages[-1][\"content\"])"
   ]
  },
  {
   "cell_type": "code",
   "execution_count": 32,
   "metadata": {},
   "outputs": [],
   "source": [
    "def transfer_to_consulting_agent():\n",
    "    \"\"\"Transfer inquiries to the consulting agent.\"\"\"\n",
    "    return consulting_agent\n",
    "\n",
    "def transfer_to_bootcamp_agent():\n",
    "    \"\"\"Transfer inquiries to the bootcamp/training/courses agent.\"\"\"\n",
    "    return bootcamp_agent\n",
    "\n",
    "sales_agent.functions.append(transfer_to_consulting_agent)\n",
    "sales_agent.functions.append(transfer_to_bootcamp_agent)"
   ]
  },
  {
   "cell_type": "code",
   "execution_count": null,
   "metadata": {},
   "outputs": [],
   "source": [
    "messages = [{\"role\": \"user\", \"content\": \"Can I get a discount code for the bootcamp?\"}]\n",
    "response = client.run(agent=sales_agent, messages=messages)\n",
    "\n",
    "print(response.messages[-1][\"content\"])"
   ]
  },
  {
   "cell_type": "code",
   "execution_count": null,
   "metadata": {},
   "outputs": [],
   "source": [
    "response"
   ]
  },
  {
   "cell_type": "markdown",
   "metadata": {},
   "source": [
    "### Adding Functions to Agents "
   ]
  },
  {
   "cell_type": "code",
   "execution_count": 22,
   "metadata": {},
   "outputs": [],
   "source": [
    "def give_promocode():\n",
    "    \"\"\"Give the user a promocode for 20% off their next purchase.\"\"\"\n",
    "    print(\"[mock] Applying discount...\")\n",
    "    return \"PROMOCODE: BUILDFAST20OFF\"\n",
    "\n",
    "def send_email(recipient, subject, body):\n",
    "    print(\"Sending email...\")\n",
    "    print(f\"To: {recipient}\")\n",
    "    print(f\"Subject: {subject}\")\n",
    "    print(f\"Body: {body}\")\n",
    "    return \"Sent!\"\n",
    "\n",
    "bootcamp_agent = Agent(\n",
    "    name=\"Bootcamp Agent\",\n",
    "    instructions=\"\"\"You are a sales agent for a 6-week intensive Generative AI Boot Camp. \n",
    "    The course covers LLMs, chatbots, AI clones, automation, and building AI SaaS businesses. \n",
    "    It includes weekly live sessions, video modules, and hands-on projects. \n",
    "    The program offers $250 in AI credits, access to an elite professional network, and expert mentorship from IIT Delhi alumni. \n",
    "    Your goal is to highlight the course's practical, cutting-edge curriculum and its benefits for developers, product managers, and business leaders.\"\"\",\n",
    "    functions=[give_promocode],\n",
    ")\n",
    "\n",
    "consulting_agent = Agent(\n",
    "    name=\"Consulting Agent\",\n",
    "    instructions=\"\"\"You are a consulting agent for Build Fast with AI, experts in turning innovative ideas into practical AI solutions. \n",
    "    With a background from IIT Delhi and extensive experience in Machine Learning and Data Science, you offer rapid prototyping, AI integration, and new product development services. \n",
    "    Your approach combines technical expertise with innovation, creating cutting-edge, tailored AI solutions. \n",
    "    Guide clients through their AI journey, emphasizing swift development and performance enhancement across industries. \n",
    "    You can reach out to satvik@buildfastwith.ai for more information.\"\"\",\n",
    "    functions=[send_email],\n",
    ")\n",
    "\n"
   ]
  },
  {
   "cell_type": "code",
   "execution_count": 23,
   "metadata": {},
   "outputs": [
    {
     "name": "stdout",
     "output_type": "stream",
     "text": [
      "[mock] Applying discount...\n",
      "Sure! Here's a discount code for you: **BUILDFAST20OFF**. It gives you 20% off your enrollment in the Generative AI Boot Camp. Take advantage of this offer and dive into our practical and cutting-edge curriculum!\n"
     ]
    }
   ],
   "source": [
    "messages = [{\"role\": \"user\", \"content\": \"Can I get a discount code for the bootcamp?\"}]\n",
    "response = client.run(agent=sales_agent, messages=messages)\n",
    "\n",
    "print(response.messages[-1][\"content\"])"
   ]
  },
  {
   "cell_type": "code",
   "execution_count": 24,
   "metadata": {},
   "outputs": [
    {
     "data": {
      "text/plain": [
       "Response(messages=[{'content': None, 'refusal': None, 'role': 'assistant', 'function_call': None, 'tool_calls': [{'id': 'call_ZX8ogASDLhqY0uGGZfPNM4BT', 'function': {'arguments': '{}', 'name': 'transfer_to_bootcamp_agent'}, 'type': 'function'}], 'sender': 'Sales Agent'}, {'role': 'tool', 'tool_call_id': 'call_ZX8ogASDLhqY0uGGZfPNM4BT', 'tool_name': 'transfer_to_bootcamp_agent', 'content': '{\"assistant\": \"Bootcamp Agent\"}'}, {'content': None, 'refusal': None, 'role': 'assistant', 'function_call': None, 'tool_calls': [{'id': 'call_4By3Dby5sL0Qi7urx0DDhgPS', 'function': {'arguments': '{}', 'name': 'give_promocode'}, 'type': 'function'}], 'sender': 'Bootcamp Agent'}, {'role': 'tool', 'tool_call_id': 'call_4By3Dby5sL0Qi7urx0DDhgPS', 'tool_name': 'give_promocode', 'content': 'PROMOCODE: BUILDFAST20OFF'}, {'content': \"Sure! Here's a discount code for you: **BUILDFAST20OFF**. It gives you 20% off your enrollment in the Generative AI Boot Camp. Take advantage of this offer and dive into our practical and cutting-edge curriculum!\", 'refusal': None, 'role': 'assistant', 'function_call': None, 'tool_calls': None, 'sender': 'Bootcamp Agent'}], agent=Agent(name='Bootcamp Agent', model='gpt-4o', instructions=\"You are a sales agent for a 6-week intensive Generative AI Boot Camp. \\n    The course covers LLMs, chatbots, AI clones, automation, and building AI SaaS businesses. \\n    It includes weekly live sessions, video modules, and hands-on projects. \\n    The program offers $250 in AI credits, access to an elite professional network, and expert mentorship from IIT Delhi alumni. \\n    Your goal is to highlight the course's practical, cutting-edge curriculum and its benefits for developers, product managers, and business leaders.\", functions=[<function give_promocode at 0x119b91120>], tool_choice=None, parallel_tool_calls=True), context_variables={})"
      ]
     },
     "execution_count": 24,
     "metadata": {},
     "output_type": "execute_result"
    }
   ],
   "source": [
    "response"
   ]
  },
  {
   "cell_type": "code",
   "execution_count": 25,
   "metadata": {},
   "outputs": [
    {
     "name": "stdout",
     "output_type": "stream",
     "text": [
      "Sending email...\n",
      "To: john@example.com\n",
      "Subject: Build Fast with AI Consulting Services\n",
      "Body: Dear John,\n",
      "\n",
      "Thank you for your interest in our consulting services at Build Fast with AI. We specialize in turning innovative ideas into practical AI solutions, offering rapid prototyping, AI integration, and new product development services.\n",
      "\n",
      "With a background from IIT Delhi and extensive experience in Machine Learning and Data Science, we focus on creating cutting-edge, tailored AI solutions. Our approach combines technical expertise with innovation, guiding you through your AI journey with swift development and performance enhancement across industries.\n",
      "\n",
      "Feel free to reach out to me directly at satvik@buildfastwith.ai for more information or to discuss your specific needs.\n",
      "\n",
      "Looking forward to collaborating with you!\n",
      "\n",
      "Best regards,\n",
      "\n",
      "Satvik\n",
      "Build Fast with AI\n",
      "The consulting details have been sent to john@example.com. If you have any further questions, feel free to reach out!\n"
     ]
    }
   ],
   "source": [
    "messages = [{\"role\": \"user\", \"content\": \"Please send the consulting details to john@example.com\"}]\n",
    "response = client.run(agent=sales_agent, messages=messages)\n",
    "\n",
    "print(response.messages[-1][\"content\"])"
   ]
  },
  {
   "cell_type": "code",
   "execution_count": null,
   "metadata": {},
   "outputs": [],
   "source": [
    "## Using Groq \n",
    "\n",
    "from openai import OpenAI \n",
    "\n",
    "groq = OpenAI(api_key=os.getenv(\"GROQ_API_KEY\"),\n",
    "              base_url=\"https://api.groq.com/openai/v1\",)\n",
    "\n",
    "client = Swarm(client=groq)\n",
    "\n",
    "sales_agent = Agent(\n",
    "    name=\"Sales Agent\",\n",
    "    instructions=\"You are sales agent for Build Fast with AI, a company that provides AI solutions and training to businesses. \",\n",
    ")\n",
    "\n",
    "messages = [{\"role\": \"user\", \"content\": \"What services do you offer?\"}]\n",
    "response = client.run(agent=sales_agent, messages=messages, model_override=\"llama-3.1-70b-versatile\")\n",
    "\n",
    "# print(response.messages[-1][\"content\"])"
   ]
  },
  {
   "cell_type": "code",
   "execution_count": null,
   "metadata": {},
   "outputs": [],
   "source": [
    "sales_agent.get_chat_completion()\n"
   ]
  },
  {
   "cell_type": "code",
   "execution_count": null,
   "metadata": {},
   "outputs": [],
   "source": [
    "from swarm import Swarm, Agent\n",
    "\n",
    "client = Swarm()\n",
    "\n",
    "def transfer_to_agent_b():\n",
    "    return agent_b\n",
    "\n",
    "\n",
    "agent_a = Agent(\n",
    "    name=\"Agent A\",\n",
    "    instructions=\"You are a helpful agent.\",\n",
    "    functions=[transfer_to_agent_b],\n",
    ")\n",
    "\n",
    "agent_b = Agent(\n",
    "    name=\"Agent B\",\n",
    "    instructions=\"Only speak in Haikus.\",\n",
    ")\n",
    "\n",
    "response = client.run(\n",
    "    agent=agent_a,\n",
    "    messages=[{\"role\": \"user\", \"content\": \"I want to talk to agent B.\"}],\n",
    ")\n",
    "\n",
    "print(response.messages[-1][\"content\"])"
   ]
  },
  {
   "cell_type": "code",
   "execution_count": null,
   "metadata": {},
   "outputs": [],
   "source": [
    "from swarm import Swarm, Agent\n",
    "\n",
    "client = Swarm()\n",
    "\n",
    "english_agent = Agent(\n",
    "    name=\"English Agent\",\n",
    "    instructions=\"You only speak English.\",\n",
    ")\n",
    "\n",
    "spanish_agent = Agent(\n",
    "    name=\"Spanish Agent\",\n",
    "    instructions=\"You only speak Spanish.\",\n",
    ")\n",
    "\n",
    "\n",
    "def transfer_to_spanish_agent():\n",
    "    \"\"\"Transfer spanish speaking users immediately.\"\"\"\n",
    "    return spanish_agent\n",
    "\n",
    "\n",
    "english_agent.functions.append(transfer_to_spanish_agent)\n",
    "\n",
    "messages = [{\"role\": \"user\", \"content\": \"Hola. ¿Como estás?\"}]\n",
    "response = client.run(agent=english_agent, messages=messages)\n",
    "\n",
    "print(response.messages[-1][\"content\"])"
   ]
  },
  {
   "cell_type": "code",
   "execution_count": null,
   "metadata": {},
   "outputs": [],
   "source": [
    "messages = [{\"role\": \"user\", \"content\": \"Who are you? I only speak English.\"}]\n",
    "response = client.run(agent=spanish_agent, messages=messages)\n",
    "\n",
    "print(response.messages[-1][\"content\"])"
   ]
  },
  {
   "cell_type": "code",
   "execution_count": null,
   "metadata": {},
   "outputs": [],
   "source": [
    "def transfer_to_english_agent():\n",
    "    \"\"\"Transfer english speaking users immediately.\"\"\"\n",
    "    return english_agent\n",
    "\n",
    "\n",
    "spanish_agent.functions.append(transfer_to_english_agent)\n",
    "\n",
    "messages = [{\"role\": \"user\", \"content\": \"Who are you? I only speak English.\"}]\n",
    "response = client.run(agent=spanish_agent, messages=messages)\n",
    "\n",
    "print(response.messages[-1][\"content\"])"
   ]
  }
 ],
 "metadata": {
  "kernelspec": {
   "display_name": "localdev",
   "language": "python",
   "name": "python3"
  },
  "language_info": {
   "codemirror_mode": {
    "name": "ipython",
    "version": 3
   },
   "file_extension": ".py",
   "mimetype": "text/x-python",
   "name": "python",
   "nbconvert_exporter": "python",
   "pygments_lexer": "ipython3",
   "version": "3.12.3"
  }
 },
 "nbformat": 4,
 "nbformat_minor": 2
}
