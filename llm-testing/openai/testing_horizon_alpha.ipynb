{
  "cells": [
    {
      "cell_type": "markdown",
      "source": [
        "<img src=\"https://drive.google.com/uc?export=view&id=1wYSMgJtARFdvTt5g7E20mE4NmwUFUuog\" width=\"200\">\n",
        "\n",
        "[![Gen AI Experiments](https://img.shields.io/badge/Gen%20AI%20Experiments-GenAI%20Bootcamp-blue?style=for-the-badge&logo=artificial-intelligence)](https://github.com/buildfastwithai/gen-ai-experiments)\n",
        "[![Gen AI Experiments GitHub](https://img.shields.io/github/stars/buildfastwithai/gen-ai-experiments?style=for-the-badge&logo=github&color=gold)](http://github.com/buildfastwithai/gen-ai-experiments)\n",
        "\n",
        "\n",
        "[![Open In Colab](https://colab.research.google.com/assets/colab-badge.svg)](https://colab.research.google.com/drive/1javgioAI6eSXQ3KNnhNvYbAhwIKmVJXB?usp=sharing)\n",
        "\n",
        "## Master Generative AI in 8 Weeks\n",
        "**What You'll Learn:**\n",
        "- Master cutting-edge AI tools & frameworks\n",
        "- 6 weeks of hands-on, project-based learning\n",
        "- Weekly live mentorship sessions\n",
        "- Join Innovation Community\n",
        "\n",
        "Learn by building. Get expert mentorship and work on real AI projects.\n",
        "[Start Your Journey](https://www.buildfastwithai.com/genai-course)\n",
        "\n",
        "\n"
      ],
      "metadata": {
        "id": "_ZKrP-_36l23"
      }
    },
    {
      "cell_type": "markdown",
      "metadata": {
        "id": "qKy3SpsM6jiJ"
      },
      "source": [
        "# Testing Horizon-Alpha Model Using OpenRouter\n",
        "\n",
        "This notebook provides a comprehensive guide to using the Horizon Alpha model via OpenRouter's API within the LangChain framework. We will cover everything from basic setup to advanced examples.\n",
        "\n",
        "**Note:** You will need an API key from [OpenRouter](https://openrouter.ai/) to run the examples."
      ]
    },
    {
      "cell_type": "markdown",
      "metadata": {
        "id": "nfaRziHC6jiM"
      },
      "source": [
        "###Installation\n",
        "\n",
        "First, let's install the necessary Python libraries."
      ]
    },
    {
      "cell_type": "code",
      "execution_count": null,
      "metadata": {
        "collapsed": true,
        "id": "TjlR0IIK6jiN"
      },
      "outputs": [],
      "source": [
        "!pip install langchain langchain-openai langchain_community"
      ]
    },
    {
      "cell_type": "markdown",
      "source": [
        "###import API Keys"
      ],
      "metadata": {
        "id": "GzofWxWtxHgU"
      }
    },
    {
      "cell_type": "code",
      "source": [
        "import os\n",
        "from google.colab import userdata\n",
        "\n",
        "os.environ[\"OPENROUTER_API_KEY\"] = userdata.get(\"OPENROUTER_API_KEY\")\n",
        "os.environ[\"TAVILY_API_KEY\"] = userdata.get(\"TAVILY_API_KEY\")"
      ],
      "metadata": {
        "id": "fPXW1N1ZxHCI"
      },
      "execution_count": null,
      "outputs": []
    },
    {
      "cell_type": "markdown",
      "metadata": {
        "id": "8dTJ4-AV6jiO"
      },
      "source": [
        "###Basic Usage with ChatOpenAI and OpenRouter\n",
        "\n",
        "- Here’s how to set up the `ChatOpenAI` class to connect to the Qwen model through OpenRouter."
      ]
    },
    {
      "cell_type": "code",
      "execution_count": null,
      "metadata": {
        "colab": {
          "base_uri": "https://localhost:8080/"
        },
        "id": "y5A3jXql6jiO",
        "outputId": "a369329c-9b11-4879-b053-c47279fd8eb4"
      },
      "outputs": [
        {
          "output_type": "stream",
          "name": "stdout",
          "text": [
            "I was created by OpenAI, a research organization focused on developing and advancing artificial intelligence. If you’re curious about a specific model: I’m based on the GPT-4 family, developed and maintained by OpenAI’s engineering and research teams.\n"
          ]
        }
      ],
      "source": [
        "import os\n",
        "from langchain_openai import ChatOpenAI\n",
        "from google.colab import userdata\n",
        "\n",
        "# It's recommended to set your API key as an environment variable\n",
        "api_key = userdata.get(\"OPENROUTER_API_KEY\")\n",
        "\n",
        "# Initialize the ChatOpenAI model for Qwen\n",
        "horizon_llm = ChatOpenAI(\n",
        "    model=\"openrouter/horizon-alpha\",\n",
        "    openai_api_key=api_key,\n",
        "    openai_api_base=\"https://openrouter.ai/api/v1\"\n",
        ")\n",
        "\n",
        "# Let's test it with a simple prompt\n",
        "response = horizon_llm.invoke(\"who developed you\")\n",
        "print(response.content)"
      ]
    },
    {
      "cell_type": "markdown",
      "metadata": {
        "id": "QBYsDNig6jiP"
      },
      "source": [
        "### Multilingual Capabilities\n",
        "\n",
        "Qwen models are proficient in multiple languages. Let's test this by sending prompts in Hindi and Spanish."
      ]
    },
    {
      "cell_type": "code",
      "execution_count": null,
      "metadata": {
        "id": "s_tC8vos6jiP",
        "colab": {
          "base_uri": "https://localhost:8080/"
        },
        "outputId": "27eac4d9-c628-4f82-bc03-92972a8ddf8b"
      },
      "outputs": [
        {
          "output_type": "stream",
          "name": "stdout",
          "text": [
            "\n",
            "Response in Hindi:\n",
            "कृत्रिम बुद्धिमत्ता (AI) वह तकनीक है जिसमें कंप्यूटर और मशीनें उन कामों को सीखकर करती हैं जिन्हें सामान्यतः मानव बुद्धि की जरूरत होती है—जैसे सीखना, तर्क करना, निर्णय लेना, भाषा समझना, पैटर्न पहचानना और समस्याएँ सुलझाना।\n",
            "\n",
            "मुख्य प्रकार:\n",
            "1) नैरो/कमज़ोर AI: किसी खास काम में विशेषज्ञ (जैसे वॉयस असिस्टेंट, स्पैम फ़िल्टर, सिफारिश सिस्टम)।\n",
            "2) जनरल/मज़बूत AI: मानव-जैसी व्यापक बुद्धि—यह अभी शोध का लक्ष्य है, वास्तविक रूप से मौजूद नहीं।\n",
            "3) जनरेटिव AI: टेक्स्ट, चित्र, कोड, संगीत जैसी नई सामग्री बनाता है।\n",
            "\n",
            "यह कैसे काम करता है:\n",
            "- डेटा से पैटर्न सीखता है (मशीन लर्निंग)\n",
            "- डीप लर्निंग में कृत्रिम न्यूरल नेटवर्क का प्रयोग होता है\n",
            "- प्राकृतिक भाषा प्रसंस्करण (NLP) से भाषा समझना/बनाना\n",
            "- कंप्यूटर विज़न से छवियों/वीडियो की पहचान\n",
            "\n",
            "उपयोग:\n",
            "स्वास्थ्य (डायग्नोसिस), शिक्षा (व्यक्तिगत सीख), वित्त (धोखाधड़ी पहचान), परिवहन (स्वचालित वाहन), कृषि, ग्राहक सेवा, कंटेंट जनरेशन आदि।\n",
            "\n",
            "चुनौतियाँ और सावधानियाँ:\n",
            "डेटा बायस, गोपनीयता, पारदर्शिता, जिम्मेदारी, गलत सूचना, नौकरी पर असर—इसलिए जिम्मेदार AI, नियम-कानून और नैतिकता महत्वपूर्ण हैं।\n",
            "\n",
            "Response in Spanish:\n",
            "La capital de Argentina es Buenos Aires.\n"
          ]
        }
      ],
      "source": [
        "# Example in Hindi\n",
        "hindi_prompt = \"कृत्रिम बुद्धिमत्ता क्या है?\" # Translation: What is Artificial Intelligence?\n",
        "hindi_response = horizon_llm.invoke(hindi_prompt)\n",
        "print(f\"\"\"\n",
        "Response in Hindi:\n",
        "{hindi_response.content}\"\"\")\n",
        "\n",
        "# Example in Spanish\n",
        "spanish_prompt = \"¿Cuál es la capital de Argentina?\" # Translation: What is the capital of Argentina?\n",
        "spanish_response = horizon_llm.invoke(spanish_prompt)\n",
        "print(f\"\"\"\n",
        "Response in Spanish:\n",
        "{spanish_response.content}\"\"\")"
      ]
    },
    {
      "cell_type": "markdown",
      "metadata": {
        "id": "CAu9BXF46jiQ"
      },
      "source": [
        "### Advanced Parameter Tuning\n",
        "\n",
        "You can control the model's output by tuning parameters like `temperature` and `top_p`.\n",
        "\n",
        "- **`temperature`**: Controls randomness. Lower values (e.g., 0.1) make the output more deterministic, while higher values (e.g., 0.9) make it more creative.\n",
        "- **`top_p`**: Controls nucleus sampling. It considers only the tokens with the highest probability mass.\n",
        "- **`max_tokens`**: Sets the maximum length of the generated response."
      ]
    },
    {
      "cell_type": "code",
      "execution_count": null,
      "metadata": {
        "id": "cgpxAxGy6jiQ",
        "colab": {
          "base_uri": "https://localhost:8080/"
        },
        "outputId": "3f69fe2c-42db-467f-9172-1fdba8355606"
      },
      "outputs": [
        {
          "output_type": "stream",
          "name": "stdout",
          "text": [
            "Creative Story:\n",
            "On the fifty-fifth floor of a glass needle in New Cairo, the building’s night janitor named the strays. The soft, dust-grey one who watched him mop became Byte.\n",
            "\n",
            "Byte watched everything. Janitors. Pigeons surfing thermal drafts. The spiral of light from holo-billboards. And lines—always lines—cascading down the maintenance terminal when the janitor, Salim, queued diagnostics for the building’s caretaker AI. The terminal’s sleep glow made a warm square on the floor where Byte would sprawl, tail flicking, eyes wide. The screen whispered in glyphs and symbols that looked like birds mid-turn, and Byte’s pupils dilated with the same\n",
            "\n",
            "Factual Explanation:\n",
            "Here’s a simple way to think about Einstein’s theory of relativity:\n",
            "\n",
            "1) Two parts: There are actually two related theories.\n",
            "- Special relativity (1905): Deals with objects moving at constant speeds (no gravity).\n",
            "- General relativity (1915): Extends the idea to include gravity and acceleration.\n",
            "\n",
            "2) Special relativity key ideas:\n",
            "- The speed of light is the same for everyone, no matter how fast you’re moving.\n",
            "- Because of this, measurements of time and space can differ for people moving relative to each other.\n",
            "  - Time dilation: A moving clock runs slower compared to a stationary one.\n",
            "  - Length contraction: Moving objects are measured shorter along the direction of motion.\n",
            "  - Relativity of simultaneity: Events that seem simultaneous to one observer may not be to another.\n",
            "- E=mc²: Energy and mass are two forms of the same thing.\n",
            "\n",
            "3) General relativity key ideas:\n",
            "- Gravity isn’t a pull through space; it’s the bending of space and time (spacetime) caused by mass and energy.\n",
            "- Objects move along the straightest possible paths in this curved spacetime, which looks like gravity to us.\n",
            "- Predictions and effects:\n",
            "  - Light bends around massive objects (gravitational lensing).\n",
            "  - Time runs slower in stronger gravity (gravitational time dilation).\n",
            "  - Orbits precess slightly (like Mercury’s orbit).\n",
            "  - Gravitational waves: ripples in spacetime from massive accelerating objects (e.g., merging black holes).\n",
            "\n",
            "4) Everyday consequences:\n",
            "- GPS needs relativity corrections (both special and general) to stay accurate.\n",
            "- Particle accelerators observe time dilation in fast-moving particles.\n",
            "- Astronomers use relativity to understand black holes, neutron stars, and the expanding universe.\n",
            "\n",
            "In short: Special relativity says space and time adjust so the speed of light is constant. General relativity says mass and energy curve spacetime, and that curvature is what we experience as gravity.\n"
          ]
        }
      ],
      "source": [
        "# Creative response with high temperature\n",
        "creative_llm = ChatOpenAI(\n",
        "    model=\"openrouter/horizon-alpha\",\n",
        "    openai_api_key=api_key,\n",
        "    openai_api_base=\"https://openrouter.ai/api/v1\",\n",
        "    temperature=0.9,\n",
        "    max_tokens=150\n",
        ")\n",
        "\n",
        "prompt = \"Write a short, futuristic story about a cat who can code.\"\n",
        "creative_response = creative_llm.invoke(prompt)\n",
        "print(f\"\"\"Creative Story:\n",
        "{creative_response.content}\"\"\")\n",
        "\n",
        "# Factual response with low temperature\n",
        "factual_llm = ChatOpenAI(\n",
        "    model=\"openrouter/horizon-alpha\",\n",
        "    openai_api_key=api_key,\n",
        "    openai_api_base=\"https://openrouter.ai/api/v1\",\n",
        "    temperature=0.1\n",
        ")\n",
        "\n",
        "prompt = \"Explain the theory of relativity in simple terms.\"\n",
        "factual_response = factual_llm.invoke(prompt)\n",
        "print(f\"\"\"\n",
        "Factual Explanation:\n",
        "{factual_response.content}\"\"\")"
      ]
    },
    {
      "cell_type": "markdown",
      "metadata": {
        "id": "YILCRBuG6jiQ"
      },
      "source": [
        "### Building a Simple Chatbot\n",
        "\n",
        "We can create a simple conversational chatbot by managing the chat history."
      ]
    },
    {
      "cell_type": "code",
      "execution_count": null,
      "metadata": {
        "id": "ksog2Dsr6jiR",
        "colab": {
          "base_uri": "https://localhost:8080/"
        },
        "outputId": "c9c7519a-bf14-4a65-cc0b-be596075863f"
      },
      "outputs": [
        {
          "output_type": "stream",
          "name": "stdout",
          "text": [
            "Hello! I am ready to chat. Type 'quit' to end the conversation.\n",
            "You: hi\n",
            "Assistant: Hi! How can I help you today?\n",
            "You: who are you\n",
            "Assistant: I’m an AI assistant here to help answer questions, explain things, and assist with tasks. What would you like to know or do?\n",
            "You: quit\n",
            "Goodbye!\n"
          ]
        }
      ],
      "source": [
        "from langchain_core.messages import HumanMessage, SystemMessage\n",
        "\n",
        "messages = [\n",
        "    SystemMessage(content=\"You are a helpful assistant.\"),\n",
        "]\n",
        "\n",
        "print(\"Hello! I am ready to chat. Type 'quit' to end the conversation.\")\n",
        "\n",
        "while True:\n",
        "    user_input = input(\"You: \")\n",
        "    if user_input.lower() == 'quit':\n",
        "        break\n",
        "\n",
        "    messages.append(HumanMessage(content=user_input))\n",
        "\n",
        "    response = horizon_llm.invoke(messages)\n",
        "    print(f\"Assistant: {response.content}\")\n",
        "\n",
        "    # Add the bot's response to the history\n",
        "    messages.append(response)\n",
        "\n",
        "print(\"Goodbye!\")"
      ]
    },
    {
      "cell_type": "markdown",
      "source": [
        "###Tool Calling and Tavily Search Using GLM"
      ],
      "metadata": {
        "id": "HC59dEUCHWoh"
      }
    },
    {
      "cell_type": "code",
      "source": [
        "from langchain_openai import ChatOpenAI\n",
        "from langchain.agents import AgentExecutor, create_tool_calling_agent\n",
        "from langchain.prompts import ChatPromptTemplate\n",
        "from langchain_community.tools import TavilySearchResults\n",
        "\n",
        "# 1. Setup LLM via OpenRouter\n",
        "llm = ChatOpenAI(\n",
        "    model=\"openrouter/horizon-alpha\", # Check OpenRouter.ai for valid IDs\n",
        "    openai_api_base=\"https://openrouter.ai/api/v1\",\n",
        "    openai_api_key=userdata.get(\"OPENROUTER_API_KEY\")\n",
        ")\n",
        "\n",
        "# 2. Setup Tavily Search Tool\n",
        "tavily_tool = TavilySearchResults(max_results=2)\n",
        "\n",
        "# 3. Create Agent\n",
        "prompt = ChatPromptTemplate.from_messages([\n",
        "    (\"system\", \"You are a helpful AI assistant.\"),\n",
        "    (\"user\", \"{input}\"),\n",
        "    (\"placeholder\", \"{agent_scratchpad}\"),\n",
        "])\n",
        "agent = create_tool_calling_agent(llm, [tavily_tool], prompt)\n",
        "agent_executor = AgentExecutor(agent=agent, tools=[tavily_tool], verbose=True)\n",
        "\n",
        "# 4. Run Agent\n",
        "response = agent_executor.invoke({\"input\": \"How do central bank interest rate changes affect the stock market?\"})\n",
        "print(response['output'])"
      ],
      "metadata": {
        "id": "bfug1PTgHU1b",
        "colab": {
          "base_uri": "https://localhost:8080/"
        },
        "outputId": "dc254f3b-2284-4cc9-9914-c81169a384d1"
      },
      "execution_count": null,
      "outputs": [
        {
          "output_type": "stream",
          "name": "stderr",
          "text": [
            "/tmp/ipython-input-2416028805.py:14: LangChainDeprecationWarning: The class `TavilySearchResults` was deprecated in LangChain 0.3.25 and will be removed in 1.0. An updated version of the class exists in the :class:`~langchain-tavily package and should be used instead. To use it run `pip install -U :class:`~langchain-tavily` and import as `from :class:`~langchain_tavily import TavilySearch``.\n",
            "  tavily_tool = TavilySearchResults(max_results=2)\n"
          ]
        },
        {
          "output_type": "stream",
          "name": "stdout",
          "text": [
            "\n",
            "\n",
            "\u001b[1m> Entering new AgentExecutor chain...\u001b[0m\n",
            "\u001b[32;1m\u001b[1;3mCentral bank interest rate changes influence the stock market through several channels. The effects can vary by sector, time horizon, and market expectations, but the main mechanisms are:\n",
            "\n",
            "1) Discount rates and valuations\n",
            "- Higher policy rates increase the risk-free rate used in discounted cash flow (DCF) models, raising discount rates and lowering the present value of future earnings. This tends to pressure equity valuations, especially for long-duration assets like growth and tech stocks.\n",
            "- Lower rates do the opposite, supporting higher price-to-earnings multiples.\n",
            "\n",
            "2) Cost of capital and corporate profits\n",
            "- Rate hikes raise borrowing costs for companies (loans, bonds), which can reduce investment, slow expansion, and squeeze margins—particularly for highly leveraged firms.\n",
            "- Cuts reduce financing costs, potentially boosting profitability and capital spending.\n",
            "\n",
            "3) Consumer demand and the real economy\n",
            "- Higher rates cool consumer spending via more expensive credit (mortgages, auto loans, credit cards). Slower demand can hit cyclical sectors (discretionary, industrials).\n",
            "- Lower rates support demand, benefiting sectors sensitive to consumer and business spending.\n",
            "\n",
            "4) Sector rotation effects\n",
            "- Growth/tech: More sensitive to discount-rate changes; often fall when rates rise and outperform when rates fall, all else equal.\n",
            "- Financials: Banks can benefit from rising rates if net interest margins improve, but aggressive hikes that slow growth or raise credit risk can offset benefits.\n",
            "- Utilities/REITs: Often trade like bond-proxies; higher rates can hurt due to competition from bonds and higher financing costs.\n",
            "- Energy/materials/industrials: More tied to growth expectations and commodity dynamics; rate changes influence them via growth outlook and dollar moves.\n",
            "\n",
            "5) Currency and global linkages\n",
            "- Higher rates can strengthen the domestic currency by attracting capital flows, which can weigh on exporters’ earnings when converted back and affect multinationals.\n",
            "- Lower rates can weaken the currency, potentially aiding exporters but also raising import costs.\n",
            "\n",
            "6) Liquidity and risk appetite\n",
            "- Tightening (rate hikes, balance-sheet reduction) drains liquidity, often reducing risk appetite and increasing volatility.\n",
            "- Easing adds liquidity, typically supporting risk assets.\n",
            "\n",
            "7) Inflation expectations and real rates\n",
            "- Markets care about real (inflation-adjusted) rates. If nominal rates rise but inflation expectations fall more, real rates can rise significantly, pressuring equities.\n",
            "- Conversely, falling real rates are generally supportive for equities.\n",
            "\n",
            "8) Expectations vs. surprises\n",
            "- Stocks often move on surprises relative to expectations. If a rate change is fully anticipated, the market reaction may be muted; unexpected hawkish/dovish shifts can cause sharp moves.\n",
            "- Forward guidance from central banks shapes future-rate expectations and can be as important as the current decision.\n",
            "\n",
            "9) Time horizon dynamics\n",
            "- Short term: Re-pricing of discount rates and sector rotations dominate; volatility often increases on policy days.\n",
            "- Medium to long term: The net effect depends on how policy affects growth and inflation. A moderate hiking cycle that reins in inflation without causing recession (a “soft landing”) can be constructive for equities; overtightening that triggers recession is typically negative.\n",
            "\n",
            "Key takeaways for investors\n",
            "- Focus on real rates, the yield curve, and forward guidance, not just the headline move.\n",
            "- Watch sector sensitivities: growth and bond-proxy sectors are rate-sensitive; financials hinge on net interest margins and credit quality.\n",
            "- Consider balance sheet strength; highly leveraged firms are more exposed.\n",
            "- Remember that the macro context (inflation, labor market, growth) determines whether the same rate move is interpreted as good or bad news for stocks.\u001b[0m\n",
            "\n",
            "\u001b[1m> Finished chain.\u001b[0m\n",
            "Central bank interest rate changes influence the stock market through several channels. The effects can vary by sector, time horizon, and market expectations, but the main mechanisms are:\n",
            "\n",
            "1) Discount rates and valuations\n",
            "- Higher policy rates increase the risk-free rate used in discounted cash flow (DCF) models, raising discount rates and lowering the present value of future earnings. This tends to pressure equity valuations, especially for long-duration assets like growth and tech stocks.\n",
            "- Lower rates do the opposite, supporting higher price-to-earnings multiples.\n",
            "\n",
            "2) Cost of capital and corporate profits\n",
            "- Rate hikes raise borrowing costs for companies (loans, bonds), which can reduce investment, slow expansion, and squeeze margins—particularly for highly leveraged firms.\n",
            "- Cuts reduce financing costs, potentially boosting profitability and capital spending.\n",
            "\n",
            "3) Consumer demand and the real economy\n",
            "- Higher rates cool consumer spending via more expensive credit (mortgages, auto loans, credit cards). Slower demand can hit cyclical sectors (discretionary, industrials).\n",
            "- Lower rates support demand, benefiting sectors sensitive to consumer and business spending.\n",
            "\n",
            "4) Sector rotation effects\n",
            "- Growth/tech: More sensitive to discount-rate changes; often fall when rates rise and outperform when rates fall, all else equal.\n",
            "- Financials: Banks can benefit from rising rates if net interest margins improve, but aggressive hikes that slow growth or raise credit risk can offset benefits.\n",
            "- Utilities/REITs: Often trade like bond-proxies; higher rates can hurt due to competition from bonds and higher financing costs.\n",
            "- Energy/materials/industrials: More tied to growth expectations and commodity dynamics; rate changes influence them via growth outlook and dollar moves.\n",
            "\n",
            "5) Currency and global linkages\n",
            "- Higher rates can strengthen the domestic currency by attracting capital flows, which can weigh on exporters’ earnings when converted back and affect multinationals.\n",
            "- Lower rates can weaken the currency, potentially aiding exporters but also raising import costs.\n",
            "\n",
            "6) Liquidity and risk appetite\n",
            "- Tightening (rate hikes, balance-sheet reduction) drains liquidity, often reducing risk appetite and increasing volatility.\n",
            "- Easing adds liquidity, typically supporting risk assets.\n",
            "\n",
            "7) Inflation expectations and real rates\n",
            "- Markets care about real (inflation-adjusted) rates. If nominal rates rise but inflation expectations fall more, real rates can rise significantly, pressuring equities.\n",
            "- Conversely, falling real rates are generally supportive for equities.\n",
            "\n",
            "8) Expectations vs. surprises\n",
            "- Stocks often move on surprises relative to expectations. If a rate change is fully anticipated, the market reaction may be muted; unexpected hawkish/dovish shifts can cause sharp moves.\n",
            "- Forward guidance from central banks shapes future-rate expectations and can be as important as the current decision.\n",
            "\n",
            "9) Time horizon dynamics\n",
            "- Short term: Re-pricing of discount rates and sector rotations dominate; volatility often increases on policy days.\n",
            "- Medium to long term: The net effect depends on how policy affects growth and inflation. A moderate hiking cycle that reins in inflation without causing recession (a “soft landing”) can be constructive for equities; overtightening that triggers recession is typically negative.\n",
            "\n",
            "Key takeaways for investors\n",
            "- Focus on real rates, the yield curve, and forward guidance, not just the headline move.\n",
            "- Watch sector sensitivities: growth and bond-proxy sectors are rate-sensitive; financials hinge on net interest margins and credit quality.\n",
            "- Consider balance sheet strength; highly leveraged firms are more exposed.\n",
            "- Remember that the macro context (inflation, labor market, growth) determines whether the same rate move is interpreted as good or bad news for stocks.\n"
          ]
        }
      ]
    },
    {
      "cell_type": "markdown",
      "metadata": {
        "id": "Gy2X3T7U6jiR"
      },
      "source": [
        "###  Code Generation"
      ]
    },
    {
      "cell_type": "code",
      "execution_count": null,
      "metadata": {
        "id": "HZvB_lvr6jiR",
        "colab": {
          "base_uri": "https://localhost:8080/"
        },
        "outputId": "785db5ef-13cd-4c68-a90c-13757f1e9017"
      },
      "outputs": [
        {
          "output_type": "stream",
          "name": "stdout",
          "text": [
            "Generated Code:\n",
            "def sum_of_evens(numbers):\n",
            "    \"\"\"\n",
            "    Return the sum of all even integers in the given iterable.\n",
            "\n",
            "    Args:\n",
            "        numbers (iterable): Iterable of numbers (ints/floats).\n",
            "\n",
            "    Returns:\n",
            "        int: Sum of values that are even integers.\n",
            "\n",
            "    Notes:\n",
            "        - Values are considered even if they are integers and divisible by 2.\n",
            "        - Floats that represent whole even numbers (e.g., 4.0) are included.\n",
            "    \"\"\"\n",
            "    total = 0\n",
            "    for x in numbers:\n",
            "        # Treat as integer if it's an int or a float that is an integer value\n",
            "        if isinstance(x, int):\n",
            "            if x % 2 == 0:\n",
            "                total += x\n",
            "        elif isinstance(x, float) and x.is_integer():\n",
            "            xi = int(x)\n",
            "            if xi % 2 == 0:\n",
            "                total += xi\n",
            "    return total\n",
            "\n",
            "# Example:\n",
            "# sum_of_evens([1, 2, 3, 4, 5, 6.0, 7.5, -8]) -> 4 + 2 + 6 + (-8) = 4\n",
            "# Actually: 2 + 4 + 6 + (-8) = 4\n",
            "# print(sum_of_evens([1, 2, 3, 4, 5, 6.0, 7.5, -8]))  # 4\n"
          ]
        }
      ],
      "source": [
        "prompt = \"Write a Python function that takes a list of numbers and returns the sum of all even numbers in the list.\"\n",
        "code_response = horizon_llm.invoke(prompt)\n",
        "print(f\"\"\"Generated Code:\n",
        "{code_response.content}\"\"\")"
      ]
    },
    {
      "cell_type": "markdown",
      "metadata": {
        "id": "4t05mJ526jiS"
      },
      "source": [
        "###  Few-Shot Prompting\n",
        "\n",
        "Few-shot prompting provides the model with examples to guide its response format."
      ]
    },
    {
      "cell_type": "code",
      "execution_count": null,
      "metadata": {
        "id": "wDUW2gov6jiS",
        "colab": {
          "base_uri": "https://localhost:8080/"
        },
        "outputId": "68576ea8-3873-436d-c8df-6aa4f38a4a59"
      },
      "outputs": [
        {
          "output_type": "stream",
          "name": "stdout",
          "text": [
            "Translation of 'house': \"sea -> mer\"\n",
            "\"sky -> ciel\"\n",
            "\"book -> livre\"\n",
            "\"house -> maison\"\n"
          ]
        }
      ],
      "source": [
        "prompt = (\n",
        "    \"\"\"Translate the following English words to French:\n",
        "\n",
        "    \"sea -> mer\"\n",
        "    \"sky -> ciel\"\n",
        "    \"book -> livre\"\n",
        "    \"house ->\"\n",
        "    \"\"\"\n",
        ")\n",
        "\n",
        "few_shot_response = horizon_llm.invoke(prompt)\n",
        "print(f\"Translation of 'house': {few_shot_response.content}\")"
      ]
    }
  ],
  "metadata": {
    "kernelspec": {
      "display_name": "Python 3",
      "language": "python",
      "name": "python3"
    },
    "language_info": {
      "codemirror_mode": {
        "name": "ipython",
        "version": 3
      },
      "file_extension": ".py",
      "mimetype": "text/x-python",
      "name": "python",
      "nbconvert_exporter": "python",
      "pygments_lexer": "ipython3",
      "version": "3.9.7"
    },
    "colab": {
      "provenance": []
    }
  },
  "nbformat": 4,
  "nbformat_minor": 0
}
