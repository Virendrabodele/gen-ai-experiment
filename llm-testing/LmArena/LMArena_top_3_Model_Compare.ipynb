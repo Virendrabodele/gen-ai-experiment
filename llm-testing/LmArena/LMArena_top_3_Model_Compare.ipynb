{
  "cells": [
    {
      "cell_type": "markdown",
      "source": [
        "<img src=\"https://drive.google.com/uc?export=view&id=1wYSMgJtARFdvTt5g7E20mE4NmwUFUuog\" width=\"200\">\n",
        "\n",
        "[![Gen AI Experiments](https://img.shields.io/badge/Gen%20AI%20Experiments-GenAI%20Bootcamp-blue?style=for-the-badge&logo=artificial-intelligence)](https://github.com/buildfastwithai/gen-ai-experiments)\n",
        "[![Gen AI Experiments GitHub](https://img.shields.io/github/stars/buildfastwithai/gen-ai-experiments?style=for-the-badge&logo=github&color=gold)](http://github.com/buildfastwithai/gen-ai-experiments)\n",
        "\n",
        "\n",
        "[![Open In Colab](https://colab.research.google.com/assets/colab-badge.svg)](https://colab.research.google.com/drive/1iHtEzN_Bb9nfN4TJL_H46sy7b_PoZO-w#scrollTo=lVkgCDANH0u_)\n",
        "\n",
        "## Master Generative AI in 8 Weeks\n",
        "**What You'll Learn:**\n",
        "- Master cutting-edge AI tools & frameworks\n",
        "- 6 weeks of hands-on, project-based learning\n",
        "- Weekly live mentorship sessions\n",
        "- No coding experience required\n",
        "- Join Innovation Community\n",
        "Transform your AI ideas into reality through hands-on projects and expert mentorship.\n",
        "[Start Your Journey](https://www.buildfastwithai.com/genai-course)\n",
        "\n",
        "\n"
      ],
      "metadata": {
        "id": "H58Uz4-_JyCB"
      }
    },
    {
      "cell_type": "markdown",
      "metadata": {
        "id": "lVkgCDANH0u_"
      },
      "source": [
        "# Top 3: Text [LMArena](https://lmarena.ai/leaderboard/text) Model Comparison\n",
        "\n",
        "This notebook compares three top-performing models via OpenRouter:\n",
        "\n",
        "- `google/gemini-2.5-pro`\n",
        "- `openai/gpt-5`\n",
        "- `anthropic/claude-opus-4.1`\n",
        "\n",
        "We will:\n",
        "- Do a quick primer on OpenRouter usage\n",
        "- Set up a lightweight comparison harness\n",
        "- Run demos: Q&A, summarization, information extraction, and coding help\n",
        "\n",
        "Prerequisites:\n",
        "- Get an OpenRouter API key and set environment variable `OPENROUTER_API_KEY`.\n",
        "- Install `openai` (the new unified client) for simple API calls.\n",
        "\n",
        "Note: Replace or parameterize models as availability/quotas may vary.\n"
      ]
    },
    {
      "cell_type": "markdown",
      "source": [
        "## Basic Setup"
      ],
      "metadata": {
        "id": "fclaxsL9L9ZP"
      }
    },
    {
      "cell_type": "code",
      "execution_count": null,
      "metadata": {
        "vscode": {
          "languageId": "plaintext"
        },
        "id": "NtSKWciGH0vO"
      },
      "outputs": [],
      "source": [
        "#Installing Necessary libraries\n",
        "!pip install --quiet openai python-dotenv --quiet"
      ]
    },
    {
      "cell_type": "code",
      "source": [
        "# Setting Up Environment Varibles\n",
        "from google.colab import userdata\n",
        "OPENROUTER_API_KEY=userdata.get('OPENROUTER_API_KEY')"
      ],
      "metadata": {
        "id": "5ImulSfcIHry"
      },
      "execution_count": null,
      "outputs": []
    },
    {
      "cell_type": "code",
      "execution_count": null,
      "metadata": {
        "id": "aheRUEcyH0vV"
      },
      "outputs": [],
      "source": [
        "import os\n",
        "from typing import List, Dict, Any\n",
        "\n",
        "from dotenv import load_dotenv\n",
        "load_dotenv()\n",
        "\n",
        "# Use the official OpenAI python client pointed to OpenRouter.\n",
        "# Docs: https://openrouter.ai/docs\n",
        "from openai import OpenAI\n",
        "\n",
        "client = OpenAI(\n",
        "    base_url=\"https://openrouter.ai/api/v1\",\n",
        "    api_key=OPENROUTER_API_KEY,\n",
        ")\n",
        "\n",
        "MODELS = [\n",
        "    \"google/gemini-2.5-pro\",\n",
        "    \"openai/gpt-5\",\n",
        "    \"anthropic/claude-opus-4.1\",\n",
        "]\n",
        "\n",
        "SYSTEM_PRIMER = (\n",
        "    \"You are a helpful, concise assistant. Prefer clear bullet points and short code.\"\n",
        ")\n",
        "\n",
        "def call_model(model: str, user_prompt: str, system_prompt: str = SYSTEM_PRIMER, **kwargs: Any) -> str:\n",
        "    \"\"\"Call a single model with a chat completion and return its text output.\"\"\"\n",
        "    response = client.chat.completions.create(\n",
        "        model=model,\n",
        "        messages=[\n",
        "            {\"role\": \"system\", \"content\": system_prompt},\n",
        "            {\"role\": \"user\", \"content\": user_prompt},\n",
        "        ],\n",
        "        **kwargs,\n",
        "    )\n",
        "    return response.choices[0].message.content\n",
        "\n",
        "def compare_models(user_prompt: str, system_prompt: str = SYSTEM_PRIMER, **kwargs: Any) -> Dict[str, str]:\n",
        "    \"\"\"Run the same prompt across all models and return a mapping of model->output.\"\"\"\n",
        "    outputs: Dict[str, str] = {}\n",
        "    for model in MODELS:\n",
        "        try:\n",
        "            outputs[model] = call_model(model, user_prompt, system_prompt, **kwargs)\n",
        "        except Exception as e:\n",
        "            outputs[model] = f\"<error: {type(e).__name__}: {e}>\"\n",
        "    return outputs\n",
        "\n",
        "def display_side_by_side(results: Dict[str, str]):\n",
        "    \"\"\"Nicely print results for quick visual comparison.\"\"\"\n",
        "    for model, text in results.items():\n",
        "        print(\"\\n\" + \"=\" * 80)\n",
        "        print(f\"Model: {model}\")\n",
        "        print(\"-\" * 80)\n",
        "        print(text)\n",
        "        print(\"\\n\")\n"
      ]
    },
    {
      "cell_type": "markdown",
      "metadata": {
        "id": "N7bPKvYgH0vY"
      },
      "source": [
        "## Quick OpenRouter usage primer\n",
        "\n",
        "OpenRouter is an API gateway for many frontier models under one endpoint.\n",
        "\n",
        "Basic call structure using the unified `openai` client:\n",
        "\n",
        "```python\n",
        "from openai import OpenAI\n",
        "client = OpenAI(base_url=\"https://openrouter.ai/api/v1\", api_key=OPENROUTER_API_KEY)\n",
        "resp = client.chat.completions.create(\n",
        "    model=\"openai/gpt-5\",\n",
        "    messages=[{\"role\":\"user\",\"content\":\"Say hi in one sentence\"}]\n",
        ")\n",
        "print(resp.choices[0].message.content)\n",
        "```\n",
        "\n",
        "We’ll reuse this structure for all models by switching the `model` name.\n"
      ]
    },
    {
      "cell_type": "code",
      "execution_count": null,
      "metadata": {
        "id": "5MV8JFgmH0va"
      },
      "outputs": [],
      "source": [
        "# Demo 1: General Q&A\n",
        "prompt = \"Explain the difference between concurrency and parallelism with a short example.\"\n",
        "results = compare_models(prompt, temperature=0.2)\n",
        "display_side_by_side(results)\n"
      ]
    },
    {
      "cell_type": "code",
      "execution_count": null,
      "metadata": {
        "id": "x3AvaLIaH0vc"
      },
      "outputs": [],
      "source": [
        "# Demo 2: Summarization\n",
        "text = (\n",
        "    \"\"\"\n",
        "OpenRouter provides access to many models like GPT, Claude, and Gemini via a single API.\n",
        "It simplifies experimenting across providers and comparing outputs. With one client and\n",
        "endpoint, you can switch `model` names to test speed, style, and quality differences.\n",
        "This enables faster iteration and systematic evaluation.\n",
        "\"\"\"\n",
        ")\n",
        "\n",
        "prompt = f\"Summarize the following in 2-3 bullet points:\\n\\n{text}\"\n",
        "results = compare_models(prompt, temperature=0.2)\n",
        "display_side_by_side(results)\n"
      ]
    },
    {
      "cell_type": "code",
      "execution_count": null,
      "metadata": {
        "id": "g9yhM3cGH0ve"
      },
      "outputs": [],
      "source": [
        "# Demo 3: Information extraction\n",
        "snippet = \"Order #A219 ships to 221B Baker Street, London on 2025-02-10. Total: $149.99 USD.\"\n",
        "\n",
        "prompt = (\n",
        "    \"Extract a JSON object with keys: order_id, street, city, date, total_amount, currency. \"\n",
        "    f\"Text: {snippet}\"\n",
        ")\n",
        "results = compare_models(prompt, temperature=0)\n",
        "display_side_by_side(results)\n"
      ]
    },
    {
      "cell_type": "code",
      "execution_count": null,
      "metadata": {
        "id": "movIOfeaH0vg"
      },
      "outputs": [],
      "source": [
        "# Demo 4: Coding assistance\n",
        "prompt = (\n",
        "    \"Write a Python function `fizz_buzz(n)` that returns a list of strings from 1..n \"\n",
        "    \"with 'Fizz' for multiples of 3, 'Buzz' for multiples of 5, and 'FizzBuzz' for multiples of both.\"\n",
        ")\n",
        "results = compare_models(prompt, temperature=0)\n",
        "display_side_by_side(results)\n"
      ]
    },
    {
      "cell_type": "markdown",
      "metadata": {
        "id": "QLtJZiumH0vi"
      },
      "source": [
        "### Notes and tips\n",
        "\n",
        "- Ensure `OPENROUTER_API_KEY` is set. Using a `.env` file is supported via `python-dotenv`.\n",
        "- Some models require provider-specific routing or may be rate-limited.\n",
        "- For reproducibility, keep `temperature` low for deterministic tasks like extraction.\n",
        "- Extend `MODELS` with other candidates from the Text Arena leaderboard.\n",
        "- Consider adding simple cost/latency tracking if you need deeper evaluation.\n"
      ]
    }
  ],
  "metadata": {
    "language_info": {
      "name": "python"
    },
    "colab": {
      "provenance": []
    },
    "kernelspec": {
      "name": "python3",
      "display_name": "Python 3"
    }
  },
  "nbformat": 4,
  "nbformat_minor": 0
}