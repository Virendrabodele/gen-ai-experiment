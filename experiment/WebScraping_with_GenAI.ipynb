{
  "cells": [
    {
      "cell_type": "markdown",
      "metadata": {
        "id": "JnvwDQH14eVK"
      },
      "source": [
        "<img src=\"https://drive.google.com/uc?export=view&id=1wYSMgJtARFdvTt5g7E20mE4NmwUFUuog\" width=\"200\">\n",
        "\n",
        "[![Gen AI Experiments](https://img.shields.io/badge/Gen%20AI%20Experiments-GenAI%20Bootcamp-blue?style=for-the-badge&logo=artificial-intelligence)](https://github.com/buildfastwithai/gen-ai-experiments)\n",
        "[![Gen AI Experiments GitHub](https://img.shields.io/github/stars/buildfastwithai/gen-ai-experiments?style=for-the-badge&logo=github&color=gold)](http://github.com/buildfastwithai/gen-ai-experiments)\n",
        "\n",
        "[![Open In Colab](https://colab.research.google.com/assets/colab-badge.svg)](https://colab.research.google.com/drive/1cOlv_y_RnIdhgvX9LosMTlzjTcJZgQ9h?usp=sharing)\n"
      ]
    },
    {
      "cell_type": "markdown",
      "metadata": {
        "id": "I3QLAO3W4kMp"
      },
      "source": [
        "\n",
        "## Master Generative AI in 8 Weeks\n",
        "**What You'll Learn:**\n",
        "- Master cutting-edge AI tools & frameworks\n",
        "- 6 weeks of hands-on, project-based learning\n",
        "- Weekly live mentorship sessions\n",
        "- Join Innovation Community\n",
        "\n",
        "Learn by building. Get expert mentorship and work on real AI projects.\n",
        "[Start Your Journey](https://www.buildfastwithai.com/genai-course)"
      ]
    },
    {
      "cell_type": "markdown",
      "metadata": {
        "id": "It6nvg7LfPgw"
      },
      "source": [
        "# WebScraping with AI\n"
      ]
    },
    {
      "cell_type": "markdown",
      "metadata": {
        "id": "KtN--QWPfSys"
      },
      "source": [
        "  ## 1. Traditional WebScraping using Beautiful Soup\n",
        "\n",
        "\n",
        "> Beautiful Soup (Python) parses HTML/XML, turning it into a navigable structure. This lets you easily search and extract data from websites, making it useful for web scraping tasks.\n",
        "\n",
        "\n"
      ]
    },
    {
      "cell_type": "code",
      "execution_count": null,
      "metadata": {
        "id": "Dw5GEguqfNeK"
      },
      "outputs": [],
      "source": [
        "!pip install requests beautifulsoup4 tiktoken"
      ]
    },
    {
      "cell_type": "code",
      "execution_count": null,
      "metadata": {
        "id": "mJGdOgoKgsJ6"
      },
      "outputs": [],
      "source": [
        "import requests\n",
        "from bs4 import BeautifulSoup\n",
        "\n",
        "def beautiful_soup_scrape_url(url):\n",
        "    response = requests.get(url)\n",
        "    soup = BeautifulSoup(response.content, 'html.parser')\n",
        "    return str(soup)"
      ]
    },
    {
      "cell_type": "code",
      "execution_count": null,
      "metadata": {
        "id": "SOWBXIcfg_Dn"
      },
      "outputs": [],
      "source": [
        "url = \"https://buildfastwithai.com/courses\""
      ]
    },
    {
      "cell_type": "code",
      "execution_count": null,
      "metadata": {
        "id": "CPr0-EJ1hBM5"
      },
      "outputs": [],
      "source": [
        "data = beautiful_soup_scrape_url(url)\n",
        "print(data)"
      ]
    },
    {
      "cell_type": "code",
      "execution_count": null,
      "metadata": {
        "colab": {
          "base_uri": "https://localhost:8080/"
        },
        "id": "Gz8CDWhxWeEy",
        "outputId": "840131ac-99ac-423e-cf61-e0ada2feae53"
      },
      "outputs": [
        {
          "name": "stdout",
          "output_type": "stream",
          "text": [
            "[{'tag': 'h1', 'text': '404'}]\n"
          ]
        }
      ],
      "source": [
        "import requests\n",
        "from bs4 import BeautifulSoup\n",
        "\n",
        "def scrape_headings(url):\n",
        "    \"\"\"\n",
        "    Scrape all headings (h1 to h6) from a webpage.\n",
        "\n",
        "    :param url: The URL of the webpage to scrape\n",
        "    :return: A list of dictionaries containing heading tag and text\n",
        "    \"\"\"\n",
        "    response = requests.get(url)\n",
        "    soup = BeautifulSoup(response.content, 'html.parser')\n",
        "\n",
        "    headings = []\n",
        "    for tag in soup.find_all(['h1', 'h2', 'h3', 'h4', 'h5', 'h6']): ## \"fetch the headings\"\n",
        "        headings.append({\n",
        "            'tag': tag.name,\n",
        "            'text': tag.get_text(strip=True)\n",
        "        })\n",
        "\n",
        "    return headings\n",
        "\n",
        "\n",
        "url = \"https://buildfastwithai.com/courses\"\n",
        "data = scrape_headings(url)\n",
        "print(data)"
      ]
    },
    {
      "cell_type": "markdown",
      "metadata": {
        "id": "0SQ3hkVPf4rl"
      },
      "source": [
        "\n",
        "\n",
        "---\n",
        "\n",
        "\n",
        "## 2. Scraping ScrapegraphAI\n",
        "\n",
        "\n",
        "\n",
        "\n",
        "> Scrapegraph uses AI to simplify web scraping. Instead of writing complex code, you tell it what data you want, and it figures out how to extract it. It works on websites and even local files like HTML.\n",
        "\n"
      ]
    },
    {
      "cell_type": "code",
      "execution_count": null,
      "metadata": {
        "id": "jNsrDE86iijC"
      },
      "outputs": [],
      "source": [
        "%%capture\n",
        "!pip install scrapegraphai --upgrade\n",
        "!apt install chromium-chromedriver\n",
        "!pip install nest_asyncio\n",
        "!pip install playwright\n",
        "!playwright install"
      ]
    },
    {
      "cell_type": "code",
      "execution_count": null,
      "metadata": {
        "id": "k6FeclrUrTHf"
      },
      "outputs": [],
      "source": [
        "!pip install -qU scrapegraphai[burr]"
      ]
    },
    {
      "cell_type": "code",
      "execution_count": null,
      "metadata": {
        "id": "1qlceB-VimJf"
      },
      "outputs": [],
      "source": [
        "import nest_asyncio\n",
        "nest_asyncio.apply()"
      ]
    },
    {
      "cell_type": "code",
      "execution_count": null,
      "metadata": {
        "id": "bQHTxBpBintQ"
      },
      "outputs": [],
      "source": [
        "from google.colab import userdata\n",
        "\n",
        "OPENAI_API_KEY = userdata.get('OPENAI_API_KEY')"
      ]
    },
    {
      "cell_type": "markdown",
      "metadata": {
        "id": "0EKy0W05zdW6"
      },
      "source": [
        "### 2.2.1 SmartScraperGraph\n",
        "\n",
        "single-page scraper that only needs a user prompt and an input source;\n",
        "\n"
      ]
    },
    {
      "cell_type": "code",
      "execution_count": null,
      "metadata": {
        "id": "4hLzjuQJiqgu"
      },
      "outputs": [],
      "source": [
        "graph_config_openai = {\n",
        "    \"llm\": {\n",
        "        \"api_key\": OPENAI_API_KEY,\n",
        "        \"model\": \"gpt-4o-mini\",\n",
        "        \"temperature\":0,\n",
        "    },\n",
        "    \"verbose\":True,\n",
        "}"
      ]
    },
    {
      "cell_type": "code",
      "execution_count": null,
      "metadata": {
        "colab": {
          "base_uri": "https://localhost:8080/"
        },
        "id": "yZjZ_nsxisqz",
        "outputId": "d7efe5ed-aeae-4559-ae76-385eeb09f8a8"
      },
      "outputs": [
        {
          "name": "stderr",
          "output_type": "stream",
          "text": [
            "--- Executing Fetch Node ---\n",
            "--- (Fetching HTML from: https://www.buildfastwithai.com/resources) ---\n",
            "--- Executing Parse Node ---\n",
            "--- Executing GenerateAnswer Node ---\n"
          ]
        }
      ],
      "source": [
        "from scrapegraphai.graphs import SmartScraperGraph\n",
        "\n",
        "\n",
        "smart_scraper_graph = SmartScraperGraph(\n",
        "    prompt=\"List all courses and their description.\",\n",
        "    # also accepts a string with the already downloaded HTML code\n",
        "    source=\"https://www.buildfastwithai.com/resources\",\n",
        "    config=graph_config_openai\n",
        ")\n",
        "\n",
        "result = smart_scraper_graph.run()"
      ]
    },
    {
      "cell_type": "code",
      "execution_count": null,
      "metadata": {
        "colab": {
          "base_uri": "https://localhost:8080/"
        },
        "id": "04U3hGr3rhxj",
        "outputId": "01dc08f5-d15b-45b9-b49a-82f3ff0cd671"
      },
      "outputs": [
        {
          "data": {
            "text/plain": [
              "{'courses': [{'title': 'Basics of Python for Gen AI',\n",
              "   'description': 'This comprehensive course covers essential Python fundamentals, guiding participants from basic syntax and data structures to more advanced concepts like functions, loops, and working with external libraries. Perfect for beginners and tech enthusiasts alike, the course culminates in a practical exploration of using Python to interact with GPT models, providing a solid foundation for future AI endeavors.'},\n",
              "  {'title': 'Create Your AI Girlfriend',\n",
              "   'description': 'This comprehensive course explores the cutting-edge technologies behind creating an AI girlfriend. Participants will learn to generate photo-realistic images using AI tools, simulate engaging conversations with Large Language Models, and bring their creation to life with Text-to-Speech technologies. The course covers step-by-step guides for image creation, chat setup, and voice integration, culminating in an interactive Q&A session.'},\n",
              "  {'title': 'Gen AI 2024 Half-yearly Rewind',\n",
              "   'description': 'Discover the cutting-edge world of Generative AI with this comprehensive course. Designed for AI enthusiasts, curious professionals, and those seeking to future-proof their careers, this course offers a deep dive into the major breakthroughs and evolving landscape of AI in 2024.'},\n",
              "  {'title': 'Claude 3.5 Sonnet',\n",
              "   'description': 'Discover the cutting-edge capabilities of Claude 3.5 Sonnet in our upcoming event. Gain comprehensive insights into the Claude family of models, explore the innovative Artifacts feature, and learn how to effectively integrate Sonnet into your projects using APIs.'},\n",
              "  {'title': 'Web Scraping with AI',\n",
              "   'description': 'In this comprehensive course, you will explore the evolving field of web scraping, enhanced by the power of Generative AI (Gen AI). Starting with the basics, you will understand fundamental concepts and techniques, along with the legal and ethical considerations of web scraping.'},\n",
              "  {'title': 'Function Calling with LLM',\n",
              "   'description': \"This comprehensive session delves into the fascinating world of Large Language Models (LLMs) and their remarkable ability to invoke functions. Whether you're an experienced developer or just beginning your exploration of Generative AI, this event promises an engaging and informative experience.\"},\n",
              "  {'title': 'GPT-4o: Deep Dive',\n",
              "   'description': \"In this course, you will get to know about: Introduction to GPT-4o, Gain a comprehensive understanding of GPT-4o's capabilities, key features, and the innovative technology behind its development.\"},\n",
              "  {'title': '10x Developer Productivity with AI',\n",
              "   'description': 'Discover the top AI tools for developers that can streamline tasks, improve efficiency, and enhance overall productivity. Learn how AI-powered code generation and completion tools can accelerate the coding process, reduce errors, and improve code quality.'},\n",
              "  {'title': 'Llama 3 - Deep Dive',\n",
              "   'description': 'In this immersive course, our expert panel will guide you through: The Fascinating Story Behind Llama Models, Discover the evolution and key milestones that led to the development of Llama 3.'},\n",
              "  {'title': 'How to fine-tune a LLM?',\n",
              "   'description': 'This interactive session is designed for both beginners and experienced professionals who are eager to enhance their understanding of fine-tuning in AI.'},\n",
              "  {'title': 'Build AI Apps with Google AI Studio',\n",
              "   'description': 'Google AI Studio is an amazing web-based editor for creating AI applications with no code! With an intuitive web interface, anyone can start developing AI projects right away.'},\n",
              "  {'title': 'Build ChatGPT replica in 1 hour!',\n",
              "   'description': 'Throughout the session, you will gain practical knowledge and hands-on experience with the following topics: Introduction to Langchain, Interactive, step-by-step live tutorial.'},\n",
              "  {'title': 'Mastering Audio Models and Voice Cloning with AI',\n",
              "   'description': \"Whether you're a developer looking to enhance your skills or an enthusiast eager to explore the latest AI technologies, this workshop is tailored to provide an immersive learning experience for all.\"},\n",
              "  {'title': 'Build Your First AI App',\n",
              "   'description': 'In this course, we are going to explore the basics of building apps using LLMs, go over the fundamentals of creating apps with LLMs, and guide you through the development of a live mini-app.'},\n",
              "  {'title': 'AI & Cybersecurity: Opportunities and Challenges',\n",
              "   'description': \"Join our interactive workshop on 'AI and Cybersecurity,' where we'll delve into the fascinating intersection of artificial intelligence and cybersecurity.\"},\n",
              "  {'title': 'Build a Personal Assistant with AI',\n",
              "   'description': 'In this course, you will acquire knowledge on the following topics: How AI Agents Work, Autogen by Microsoft.'},\n",
              "  {'title': 'Build AI Apps with Google AI Studio! (No-code)',\n",
              "   'description': \"The inception of 'Built Fast Today' and its focus on consulting startups on AI development; an upcoming course on generative AI.\"},\n",
              "  {'title': 'Crash Course on Building RAG Applications',\n",
              "   'description': \"Want to build customized chatbots on your data but don't know where to start? 'Build RAG Applications' is a 1-hour crash course geared towards helping you build chatbots on your data.\"},\n",
              "  {'title': 'GenAI Rewind ⏪ and 2024 Forecast',\n",
              "   'description': '2023 has been a phenomenal year for AI overall and GenAI in particular. If it all seemed a little too much to keep track of, no worries, in this session we will highlight the key developments that you need to know.'},\n",
              "  {'title': 'Fine-tuning Llama and Mistral Models',\n",
              "   'description': 'Introduced the use of large language models (LLMs) such as 7B and 13B in various use cases and discussed the growth in the generative AI space.'},\n",
              "  {'title': 'Building AI Agents 101',\n",
              "   'description': 'In this lecture, we will dive into the world of AI Agents. We will understand the basics of how AI agents work and build some cool applications using them.'},\n",
              "  {'title': 'Intro to Langchain',\n",
              "   'description': 'A langchain is not a recognized term or concept in the English language as of my last knowledge update in September 2021.'},\n",
              "  {'title': 'No-Code AI App development',\n",
              "   'description': 'No-code AI app development refers to the process of creating artificial intelligence-powered applications without requiring extensive programming knowledge.'}]}"
            ]
          },
          "execution_count": 35,
          "metadata": {},
          "output_type": "execute_result"
        }
      ],
      "source": [
        "result"
      ]
    },
    {
      "cell_type": "code",
      "execution_count": null,
      "metadata": {
        "id": "eGGPbUPDiviQ"
      },
      "outputs": [],
      "source": [
        "import json\n",
        "\n",
        "# https://www.buildfastwithai.com/genai-course\n",
        "\n",
        "smart_scraper_graph = SmartScraperGraph(\n",
        "    prompt=\"Give me a summary of this webpage\",\n",
        "    source=\"https://www.buildfastwithai.com/genai-course\",\n",
        "    config=graph_config_openai\n",
        ")\n",
        "\n",
        "result = smart_scraper_graph.run()\n",
        "print(json.dumps(result,indent=2))"
      ]
    },
    {
      "cell_type": "code",
      "execution_count": null,
      "metadata": {
        "colab": {
          "base_uri": "https://localhost:8080/"
        },
        "id": "xUbvDlp-zr0w",
        "outputId": "587ddda3-5797-4d37-cc5a-58d66b1ed10b"
      },
      "outputs": [
        {
          "name": "stderr",
          "output_type": "stream",
          "text": [
            "--- Executing Fetch Node ---\n",
            "--- (Fetching HTML from: https://www.orae.in/) ---\n",
            "--- Executing Parse Node ---\n",
            "--- Executing GenerateAnswer Node ---\n"
          ]
        },
        {
          "name": "stdout",
          "output_type": "stream",
          "text": [
            "{\n",
            "  \"products\": [\n",
            "    {\n",
            "      \"name\": \"Sequence Cork Yoga Mat\",\n",
            "      \"description\": \"Regular price Rs. 5,499.00 Regular price ~~Rs. 7,000.00~~ Sale price Rs. 5,499.00\",\n",
            "      \"price\": \"Rs. 5,499.00\"\n",
            "    },\n",
            "    {\n",
            "      \"name\": \"Rise Cork Yoga Mat\",\n",
            "      \"description\": \"Regular price Rs. 5,499.00 Regular price ~~Rs. 7,000.00~~ Sale price Rs. 5,499.00\",\n",
            "      \"price\": \"Rs. 5,499.00\"\n",
            "    },\n",
            "    {\n",
            "      \"name\": \"Pose Cork Yoga Mat\",\n",
            "      \"description\": \"Regular price Rs. 5,499.00 Regular price ~~Rs. 7,000.00~~ Sale price Rs. 5,499.00\",\n",
            "      \"price\": \"Rs. 5,499.00\"\n",
            "    },\n",
            "    {\n",
            "      \"name\": \"Cork Support Block\",\n",
            "      \"description\": \"Regular price Rs. 999.00 Regular price ~~Rs. 1,500.00~~ Sale price Rs. 999.00\",\n",
            "      \"price\": \"Rs. 999.00\"\n",
            "    },\n",
            "    {\n",
            "      \"name\": \"Cork Yoga Roller\",\n",
            "      \"description\": \"Regular price Rs. 1,199.00 Regular price ~~Rs. 1,700.00~~ Sale price Rs. 1,199.00\",\n",
            "      \"price\": \"Rs. 1,199.00\"\n",
            "    },\n",
            "    {\n",
            "      \"name\": \"Yoga Starter Kit\",\n",
            "      \"description\": \"Regular price Rs. 6,999.00 Regular price ~~~~ Sale price Rs. 6,999.00\",\n",
            "      \"price\": \"Rs. 6,999.00\"\n",
            "    },\n",
            "    {\n",
            "      \"name\": \"Yoga Essentials Kit\",\n",
            "      \"description\": \"Regular price Rs. 7,199.00 Regular price ~~~~ Sale price Rs. 7,199.00\",\n",
            "      \"price\": \"Rs. 7,199.00\"\n",
            "    }\n",
            "  ]\n",
            "}\n"
          ]
        }
      ],
      "source": [
        "smart_scraper_graph = SmartScraperGraph(\n",
        "    prompt=\"List of the products and their description with prices\",\n",
        "    # also accepts a string with the already downloaded HTML code\n",
        "    source=\"https://www.orae.in/\",\n",
        "    config=graph_config_openai\n",
        ")\n",
        "\n",
        "result = smart_scraper_graph.run()\n",
        "\n",
        "print(json.dumps(result,indent=2))"
      ]
    },
    {
      "cell_type": "code",
      "execution_count": null,
      "metadata": {
        "colab": {
          "base_uri": "https://localhost:8080/"
        },
        "id": "jy7Rh4xsV5kq",
        "outputId": "da4e5c2a-f02c-4ef2-fabb-13a9fff51fd0"
      },
      "outputs": [
        {
          "name": "stderr",
          "output_type": "stream",
          "text": [
            "--- Executing Fetch Node ---\n",
            "--- (Fetching HTML from: https://www.moneycontrol.com/) ---\n",
            "--- Executing Parse Node ---\n",
            "--- Executing GenerateAnswer Node ---\n"
          ]
        },
        {
          "name": "stdout",
          "output_type": "stream",
          "text": [
            "{\n",
            "  \"top_10_bank_stocks\": \"NA\"\n",
            "}\n"
          ]
        }
      ],
      "source": [
        "smart_scraper_graph = SmartScraperGraph(\n",
        "    prompt=\"List and prices of top 10 bank stocks\",\n",
        "    # also accepts a string with the already downloaded HTML code\n",
        "    source=\"https://www.moneycontrol.com/\",\n",
        "    config=graph_config_openai\n",
        ")\n",
        "\n",
        "result = smart_scraper_graph.run()\n",
        "\n",
        "print(json.dumps(result,indent=2))"
      ]
    },
    {
      "cell_type": "markdown",
      "metadata": {
        "id": "TQrRPm12ziap"
      },
      "source": [
        "### 2.2.2 SpeechGraph\n",
        "  WebScrape -> Audio"
      ]
    },
    {
      "cell_type": "code",
      "execution_count": null,
      "metadata": {
        "id": "QZitT5PMzqNs"
      },
      "outputs": [],
      "source": [
        "from scrapegraphai.graphs import SpeechGraph\n",
        "\n",
        "# slight changes in graph_config.\n",
        "graph_config = {\n",
        "    \"llm\": {\n",
        "        \"api_key\": OPENAI_API_KEY,\n",
        "        \"model\": \"gpt-3.5-turbo\",\n",
        "    },\n",
        "    \"tts_model\": {\n",
        "        \"api_key\": OPENAI_API_KEY,\n",
        "        \"model\": \"tts-1\",\n",
        "        \"voice\": \"alloy\"\n",
        "    },\n",
        "    \"output_path\": \"website_summary.mp3\",\n",
        "}\n",
        "\n",
        "speech_graph = SpeechGraph(\n",
        "    prompt=\"Make an Audio Summary on this blog\",\n",
        "    source=\"https://www.marktechpost.com/2024/06/18/meet-deepseek-coder-v2-by-deepseek-ai-the-first-open-source-ai-model-to-surpass-gpt4-turbo-in-coding-and-math-supporting-338-languages-and-128k-context-length/\",\n",
        "    config=graph_config\n",
        ")"
      ]
    },
    {
      "cell_type": "code",
      "execution_count": null,
      "metadata": {
        "id": "9KPRCog4z-eg"
      },
      "outputs": [],
      "source": [
        "result = speech_graph.run()\n",
        "answer = result.get(\"answer\", \"No answer found\")"
      ]
    },
    {
      "cell_type": "code",
      "execution_count": null,
      "metadata": {
        "id": "3_x4pygI0Flg"
      },
      "outputs": [],
      "source": [
        "from IPython.display import Audio\n",
        "wn = Audio(\"website_summary.mp3\", autoplay=True)\n",
        "display(wn)"
      ]
    },
    {
      "cell_type": "markdown",
      "metadata": {
        "id": "UZccQRVrf9i4"
      },
      "source": [
        "\n",
        "\n",
        "---\n",
        "\n",
        "\n",
        "## 3. Web Scraping using Jina\n",
        "\n",
        "\n",
        "\n",
        "> Jina (AI) cleans webpages for AI. It grabs a URL, removes extra elements, and gives you the main content in a format perfect for AI tools.\n",
        "\n"
      ]
    },
    {
      "cell_type": "markdown",
      "metadata": {
        "id": "sYLvANBtusxb"
      },
      "source": [
        "### 3.1 Intro to Jina"
      ]
    },
    {
      "cell_type": "code",
      "execution_count": null,
      "metadata": {
        "id": "1EJttBMUusG4"
      },
      "outputs": [],
      "source": [
        "def scrape_jina_ai(url: str) -> str:\n",
        "  response = requests.get(\"https://r.jina.ai/\" + url)\n",
        "  return response.text"
      ]
    },
    {
      "cell_type": "code",
      "execution_count": null,
      "metadata": {
        "id": "TowiLUO5iJCQ"
      },
      "outputs": [],
      "source": [
        "result = scrape_jina_ai(\"https://www.buildfastwithai.com/genai-course\")\n",
        "print(result)"
      ]
    },
    {
      "cell_type": "markdown",
      "metadata": {
        "id": "iYL7kLo3uzRr"
      },
      "source": [
        "### 3.2 Competitors analysis using Jina"
      ]
    },
    {
      "cell_type": "code",
      "execution_count": null,
      "metadata": {
        "id": "jMvVY_g0gEMd"
      },
      "outputs": [],
      "source": [
        "# List of cometitors\n",
        "\n",
        "competitor_sites = [\n",
        "    {\n",
        "        \"name\": \"Articulate 360 by Adobe\",\n",
        "        \"url\": \"https://www.articulate.com/360/pricing/freelancers\"\n",
        "    },\n",
        "    {\n",
        "        \"name\": \"7taps\",\n",
        "        \"url\": \"https://www.7taps.com/pricing\"\n",
        "    },\n",
        "    {\n",
        "        \"name\": \"Mindsmith AI\",\n",
        "        \"url\": \"https://www.mindsmith.ai/pricing\"\n",
        "    },\n",
        "    {\n",
        "        \"name\": \"Cards-microlearning\",\n",
        "        \"url\": \"https://www.cards-microlearning.com/en/tarifs\"\n",
        "    },\n",
        "]\n"
      ]
    },
    {
      "cell_type": "code",
      "execution_count": null,
      "metadata": {
        "id": "GdsRIFkypcug"
      },
      "outputs": [],
      "source": [
        "pip install prettytable tqdm --quiet"
      ]
    },
    {
      "cell_type": "code",
      "execution_count": null,
      "metadata": {
        "id": "Jmnjqwn-p_Wk"
      },
      "outputs": [],
      "source": [
        "from typing import List, Callable, Dict\n",
        "from prettytable import PrettyTable, ALL\n",
        "from tqdm import tqdm\n",
        "\n",
        "def view_scraped_content(scrape_url_functions: List[Dict[str, Callable[[str], str]]], sites_list: List[Dict[str, str]], characters_to_display: int = 500, table_max_width: int = 50) -> List[Dict[str, str]]:\n",
        "    content_table_headers = [\"Site Name\"] + [f\"{func['name']} content\" for func in scrape_url_functions]\n",
        "    cost_table_headers = [\"Site Name\"] + [f\"{func['name']} cost\" for func in scrape_url_functions]\n",
        "\n",
        "    content_table = PrettyTable()\n",
        "    content_table.field_names = content_table_headers\n",
        "\n",
        "    cost_table = PrettyTable()\n",
        "    cost_table.field_names = cost_table_headers\n",
        "\n",
        "    scraped_data = []\n",
        "\n",
        "    for site in sites_list:\n",
        "        content_row = [site['name']]\n",
        "        cost_row = [site['name']]\n",
        "        site_data = {\"provider\": site['name'], \"sites\": []}\n",
        "\n",
        "        for scrape_function in scrape_url_functions:\n",
        "            function_name = scrape_function['name']\n",
        "            for _ in tqdm([site], desc=f\"Processing site {site['name']} using {function_name}\"):\n",
        "                try:\n",
        "                    content = scrape_function['function'](site['url'])\n",
        "                    content_snippet = content[:characters_to_display]\n",
        "                    content_row.append(content_snippet)\n",
        "\n",
        "                    cost = calculate_cost(content)\n",
        "                    cost_row.append(f\"${cost:.6f}\")\n",
        "\n",
        "                    site_data[\"sites\"].append({\"name\": function_name, \"content\": content})\n",
        "                except Exception as e:\n",
        "                    error_message = f\"Error: {str(e)}\"\n",
        "                    content_row.append(error_message)\n",
        "                    cost_row.append(\"Error\")\n",
        "\n",
        "                    site_data[\"sites\"].append({\"name\": function_name, \"content\": error_message})\n",
        "                    continue\n",
        "\n",
        "        content_table.add_row(content_row)\n",
        "        cost_table.add_row(cost_row)\n",
        "        scraped_data.append(site_data)\n",
        "\n",
        "    content_table.max_width = table_max_width\n",
        "    content_table.hrules = ALL\n",
        "\n",
        "    cost_table.max_width = table_max_width\n",
        "    cost_table.hrules = ALL\n",
        "\n",
        "    print(\"Content Table:\")\n",
        "    print(content_table)\n",
        "\n",
        "    print(\"\\nCost Table:\\nThis is how much it would cost to use gpt-4o to parse this content for extraction.\")\n",
        "    print(cost_table)\n",
        "\n",
        "    return scraped_data"
      ]
    },
    {
      "cell_type": "code",
      "execution_count": null,
      "metadata": {
        "id": "KTC8kbwVqCFD"
      },
      "outputs": [],
      "source": [
        "list_of_scraper_functions = [\n",
        "      {\"name\": \"Jina AI\", \"function\": scrape_jina_ai}\n",
        "      ]"
      ]
    },
    {
      "cell_type": "code",
      "execution_count": null,
      "metadata": {
        "id": "hL312vYEqM44"
      },
      "outputs": [],
      "source": [
        "all_content = view_scraped_content(list_of_scraper_functions, competitor_sites, 700, 20)"
      ]
    },
    {
      "cell_type": "code",
      "execution_count": null,
      "metadata": {
        "id": "IagMBGOCqZSR"
      },
      "outputs": [],
      "source": [
        "pip install openai --quiet"
      ]
    },
    {
      "cell_type": "code",
      "execution_count": null,
      "metadata": {
        "id": "UCXzRAT7q6q_"
      },
      "outputs": [],
      "source": [
        "from google.colab import userdata\n",
        "from openai import OpenAI\n",
        "\n",
        "OPENAI_API_KEY = userdata.get('OPENAI_API_KEY')\n",
        "\n",
        "client = OpenAI(api_key=OPENAI_API_KEY)\n",
        "\n",
        "def extract(user_input: str):\n",
        "  entity_extraction_system_message = {\"role\": \"system\", \"content\": \"Get me the three pricing tiers from this website's content, and return as a JSON with three keys: {cheapest: {name: str, price: float}, middle: {name: str, price: float}, most_expensive: {name: str, price: float}}\"}\n",
        "\n",
        "  messages = [entity_extraction_system_message]\n",
        "  messages.append({\"role\": \"user\", \"content\": user_input})\n",
        "\n",
        "  response = client.chat.completions.create(\n",
        "        model=\"gpt-4o\",\n",
        "        messages=messages,\n",
        "        stream=False,\n",
        "        response_format={\"type\": \"json_object\"}\n",
        "    )\n",
        "\n",
        "  return response.choices[0].message.content"
      ]
    },
    {
      "cell_type": "code",
      "execution_count": null,
      "metadata": {
        "id": "-v87ec_8rK_c"
      },
      "outputs": [],
      "source": [
        "def display_extracted_content(results: List[Dict[str, any]], num_objects: int):\n",
        "    table = PrettyTable()\n",
        "    table.field_names = [\"Site\", \"Provider Name\", \"Extracted Content\"]\n",
        "\n",
        "    # Ensure num_objects does not exceed the length of the results list\n",
        "    num_objects = min(num_objects, len(results))\n",
        "\n",
        "    # Process the specified number of items from the results list with a progress bar\n",
        "    for result in tqdm(results[:num_objects], desc=\"Processing results\"):\n",
        "        provider_name = result[\"provider\"]\n",
        "\n",
        "        for site in result[\"sites\"]:\n",
        "            function_name = site[\"name\"]\n",
        "            content = site[\"content\"]\n",
        "\n",
        "            # Progress bar for each function\n",
        "            for _ in tqdm(range(1), desc=f\"Extracting content with {provider_name} for {function_name}\"):\n",
        "                extracted_content = extract(content)\n",
        "                table.add_row([provider_name, function_name, extracted_content])\n",
        "\n",
        "    table.max_width = 50  # Set the maximum width for better display\n",
        "    table.hrules = ALL\n",
        "\n",
        "    print(\"Extracted Content Table:\")\n",
        "    print(table)\n"
      ]
    },
    {
      "cell_type": "code",
      "execution_count": null,
      "metadata": {
        "id": "_V1_sBA6rLNx"
      },
      "outputs": [],
      "source": [
        "display_extracted_content(all_content, num_objects=9)"
      ]
    }
  ],
  "metadata": {
    "colab": {
      "provenance": []
    },
    "kernelspec": {
      "display_name": "Python 3",
      "name": "python3"
    },
    "language_info": {
      "name": "python"
    }
  },
  "nbformat": 4,
  "nbformat_minor": 0
}
