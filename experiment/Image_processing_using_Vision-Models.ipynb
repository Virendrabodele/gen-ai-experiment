{
  "cells": [
    {
      "cell_type": "markdown",
      "metadata": {},
      "source": [
        "<img src=\"https://drive.google.com/uc?export=view&id=1wYSMgJtARFdvTt5g7E20mE4NmwUFUuog\" width=\"200\">\n",
        "\n",
        "[![Gen AI Experiments](https://img.shields.io/badge/Gen%20AI%20Experiments-GenAI%20Bootcamp-blue?style=for-the-badge&logo=artificial-intelligence)](https://github.com/buildfastwithai/gen-ai-experiments)\n",
        "[![Gen AI Experiments GitHub](https://img.shields.io/github/stars/buildfastwithai/gen-ai-experiments?style=for-the-badge&logo=github&color=gold)](http://github.com/buildfastwithai/gen-ai-experiments)\n",
        "\n",
        "[![Open In Colab](https://colab.research.google.com/assets/colab-badge.svg)](https://colab.research.google.com/drive/16sjbemkoiApXv1wkxyh5REFXmvex1NB9?usp=sharing)\n",
        "\n",
        "\n"
      ]
    },
    {
      "cell_type": "markdown",
      "metadata": {},
      "source": [
        "\n",
        "## Master Generative AI in 8 Weeks\n",
        "**What You'll Learn:**\n",
        "- Master cutting-edge AI tools & frameworks\n",
        "- 6 weeks of hands-on, project-based learning\n",
        "- Weekly live mentorship sessions\n",
        "- Join Innovation Community\n",
        "\n",
        "Learn by building. Get expert mentorship and work on real AI projects.\n",
        "[Start Your Journey](https://www.buildfastwithai.com/genai-course)"
      ]
    },
    {
      "cell_type": "markdown",
      "metadata": {
        "id": "rBpJbG4ovh69"
      },
      "source": [
        "# IMAGE PROCESSING USING GPT-40,CLAUDE-3-OPUS,GEMINI-PRO\n",
        "\n",
        "![download (1).png](data:image/png;base64,iVBORw0KGgoAAAANSUhEUgAAAWkAAACMCAMAAACJW6j5AAAAyVBMVEX///93GoB+Kobl1+bu5e+BNYl9K4V7JoN6I4N+Lob79/t5IIL9+/3y7vPj2uV7JIOeW6F0JX6UWZvfz+GFO4zcyt7Ns9DCo8a1j7rn2+lxAHqOTJWug7OicKiIQZD09PSeaaS0tLaaYqDXw9moeq1yAHu7mL/HqsrMzM2yirfPuNK0jrmNSpTUvdbV1tbq6uvBwcLIuMygh6eBW4tfLW1dPWtfH2uKdJSTf5yvnLZ6M4NXF2VvVny4q71yTX6sra6enqGTlJaAgoSTor3kAAAJH0lEQVR4nO2dC3ubOBaGJYwkhGDVAQzmam6BmODL7GV2d2Zn0+7//1ErnCZxHbtxW7uArfdpYhtIopwqn875kGQAJBKJRCK5GvRd+m7MFWMsPuzSAOAtFgvPBHrdhX06FZ8mBTBqE3SfjEoFfvWwNPpu9/gwAyrAhBPcPVrARAQrMNGnQSXOolBcY1FgB56I+F0tHn0GYRD13e7xYUKEsFPOvMqiCFHLMJ3UNN2gAZbigwguxTWW8znSsJ4G0wdWmAto9t3w0SEijWe//vVvf//HEn2OdAzA8q4BUxhPWdxd8xppT4/BA3TFl/Xd7vEhIk2a3zFFv/0zps+RtnAuTkUEaWp3zU6kxSuVQmvZb6NHybZPp51w/Ct/iXQOHTESmi3zttd8GWmgewiWvTZ6lIhI03yBEfrt3w1+UQ8DteLcjJtgKUL+wQF+MAOgeIq0OF0Gdq+tHiPdiEg90ad//+M/LqE52EYaJEjkeA+aCRwF6KwFJrN0UAZdzuekBnCDuu+Gj44u0sQLxWiI/vjToSLLc1CSQNilcQuoggoKxBA46x6t7ivKQEuYIofEb2XbpyMxGAr9+DMR6gHKMAzzbZctUtGxayt3uxdNnldP9UodJqnfY5NHShdplLgEUfLfJekifQKyQvwOtpEmLkV5tXS6EdHIHler7an1+vWy+er5Sfbz23gdbCNNo6VbpXhbuYB1Nv+YzbN7sLoH99l8c39/v8lW4mOdZQbIPs7Fs00277vho2MbaUQTgin6HOnNfLN5zDIR6fmnzf3mU2ZkqywTHysR3/9l2eP8cSP+FwaGvhz4IK2Hv+zAHjqhMFardbYC60fRm9ebjeja69Xqfr3OPs3X9/PNx2z1cXB9Wreg4/bdiK8z/8suXx3r7p868mr7b1gYOcaY5TIlujgxgQ85xMqDvJdxWWLCZgC4CiFO03dbrpoF17aWlx5Byi0pIRdjwcizt+iHDMOFrKwugwdJ/hpblyoESwm5BB7E+W4nNiNCoZSQ89MwbO3VLLbFMZzJLOS8NBCHb4tD15FZyJmZctqqB46bEcdMervnw2bUORTo7lROqVJJCTkPPqJ0cuzkFCPMW3kX/xyIQKNjAqHPFJo8cKxJCflx1JYi5B6sUow64cSZgonFMJZZyA9itpQolLfeG6FWvUSkedE2JamxyEKkhPwIukVh41sQE2x59ku31W3PEoeg9azfZgmpZh0ZNiXvY1gYdjfw7Rhq3UxZZMUCC3WTZjUY746Tk4TR7haH5LvICauenplNTjSNky1c05S02RfmmmFCpYR8F0+G9At+4UVdn4684mCqoZeMwlxKyLcTaeQb58pPQlE0VtJO/UYeXg3pZ4qqy0EMr+NwMVOLQiYpLt+4a6JiON7rnWXgKNAHesAgvHPBJI7fToY1IwXDWErI6ewb0gIbRrpKcqAGtar6pkGLKTxQr0wtDXPphZyKSCTy/WBVgcgsUgam0FZFp1UVAPihodGoRRooJeQ0lhC3bwzpuptDH2qqqyUBKw3g1C4/PPqZJcNaLL2Q91keNKRVBS1SQtRamdmpqGjURXRUj+2QYSol5D1shSqHYmhbSpxrajff2H9acPYVaoUQaad+HZtSfijQRrcOOySgKAygsneXO3VeCE9lFnIcFVF4MFn2Yao3MALpnatHwQkzIe1WFOjVudt3NagOhUfWjC3uYJDowCcBvNtPAQ9Ta5g4Mgs5iJlQeDQ0trsVXmPpnrp+z9x6IQOfdN0LZovZeYcxuyUYSi9kHyPH7OyLID0svZB9jJxo3vm/rRpzzKQXsktJ+Oz9q76Dacix4slC5plS44sLfWvDQ0QLpYQ8ccCQPiNqqWGtlBICLh1o8GSnUk9mIQcM6XNjeBRr4fSyP2TweAyftpz9h1C7eSG3nYU0nCY/pZKzHX7TErLUKP1ZOVgFMWlvVUKOGdKXwYwhhfFNeiETftiQvhjThGB4gxLiI6ocnYp+ISqKeXJrEqIiqv38TczUmFNY3pSEqC1WeqmSi5BjcgE/a6joLdZ6uq9qVLdUyOgWJv3tyqfG7Ga8kJywXv+Ai5YTdAtZSEx4z/eu9UrB3Lp6CYn5xQzp01FjUTReuYRE2oV90hMpks4L6bsVF2TGSNp3G54wKnbNhUylbbcaHwZqCimLr/NGYw1x0ncbdikQwdo1bgPtMhoOrAtVHLP26jY3Lxh1Bmc6qKl2dV5IodBkiHnVMiEY11dUyEzo8Z0k+kWvKGbW1UjIBFH0sw3pk/FjDbMrkRDVwXjIueuyFYXMNWQhaoLpkAPdSYhI+Mbvhegh5oPfek0UMphH45YQEWgy8M26txTdzkOjlpAcs3Gs8dEr0a1HnIW87o0yfDovRBtrFlISNqa3tywowcooJaTkfEyBBsCYieQ6GWzuf5SZNhRD+nT8fIReSMXIe4u9h8jSGZuE1BxbA/NJT0OfKaPyQmptpIEW+KmQ68VIJGSJcThEn/REmlYUMmOouEBB8CAN6QOY06Jrqdq9m9Nrk7t5ISwffhZiU+oM05B+g+0EgdIAkAaCVLxuPqtGJyFk6F6IjykdSaCNkNoTBAForcZ1C1BZi5d1IU1CCBp0FqIiSscydJuxB0AemABu11UbyAT5y1xYc8apZg1XQkxMtTGZvb5LU6AHuYNKHbRT4Ow0fooRJdFAcyg9oWfesuPC5AF3wSRQvByWYoSBuwbCDFOHKGiYWUhC4TAbdgxzEgYq8E1gJGhvADQRjsACUi0cnoQYFu53hvQ3onp2t7K60VVD5B/7a/dqDrvdJy0mevrQJGRMhnSHGuQGSO/8OqiAr1h7Z0P85Nw0DhnaO6yVRBvZlvIldBwYA53CluzvveVj9vmIvlDwoN5hLeLauAxpIXdNHHfjilml0b4Ye/x1I1U/5xguhiIhD5wPYir6uUi/sH3drpAZhoRUg5mKfh70ln9RIZoLPgwvxOMkHcpf11kQMr1XgU1yhknvdqrL6GgN6cNM2Ns93JuEkqTfeqHhyCn8yRXhVwS9PTj9gBDv893mVYgQospVQRHChw6KXxT2Z76r8Lbo8TaHrt4SfQ+KEolEIpFIJBKJRCKRSCQSiUQikUgkEolEIpFIJBKJRPLD/B8tlaiKrWBL7AAAAABJRU5ErkJggg==)\n",
        "\n",
        "Checking how all the models compare when given the same image and same prompts to calculate the missing angle of the image\n",
        "\n",
        "## Correct Answer : 50 DEGREES"
      ]
    },
    {
      "cell_type": "markdown",
      "metadata": {
        "id": "9tt0nwpkyL7k"
      },
      "source": [
        "| Model          | Predicted Values  |\n",
        "|----------------|-------------------|\n",
        "| ChatGPT-4o    | 50 |\n",
        "| Claude3-Opus    | 48 |\n",
        "| Gemini-Pro     | 60 |\n"
      ]
    },
    {
      "cell_type": "markdown",
      "metadata": {
        "id": "JuEHirKPvxue"
      },
      "source": []
    },
    {
      "cell_type": "code",
      "execution_count": 62,
      "metadata": {
        "id": "JBDfPR91Yubo"
      },
      "outputs": [],
      "source": [
        "!pip install anthropic --quiet\n",
        "!pip install portkey-ai --quiet"
      ]
    },
    {
      "cell_type": "markdown",
      "metadata": {
        "id": "Ot9-K2NEvdiy"
      },
      "source": [
        "# OPENAI GPT-4o"
      ]
    },
    {
      "cell_type": "code",
      "execution_count": 63,
      "metadata": {
        "id": "w1kQ4gagvKJn"
      },
      "outputs": [],
      "source": [
        "from openai import OpenAI\n",
        "from portkey_ai import PORTKEY_GATEWAY_URL, createHeaders\n",
        "from google.colab import userdata"
      ]
    },
    {
      "cell_type": "code",
      "execution_count": 64,
      "metadata": {
        "id": "Z5Eds4jcvKD8"
      },
      "outputs": [],
      "source": [
        "portkey = OpenAI(\n",
        "    api_key= userdata.get('OPENAI_API_KEY'), ## replace it your OpenAI API key\n",
        "    base_url=PORTKEY_GATEWAY_URL,\n",
        "    default_headers=createHeaders(\n",
        "        provider=\"openai\",\n",
        "        api_key= userdata.get('PORTKEY_API_KEY'), ## replace it your Portkey API key\n",
        "    )\n",
        ")"
      ]
    },
    {
      "cell_type": "code",
      "execution_count": 65,
      "metadata": {
        "id": "DYCPymHivKBM"
      },
      "outputs": [],
      "source": [
        "## URL Image Processing\n",
        "\n",
        "img_url = \"data:image/png;base64,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\"\n",
        "\n",
        "response = portkey.chat.completions.create(\n",
        "    model=\"gpt-4o\",\n",
        "    messages=[\n",
        "        {\"role\": \"system\", \"content\": \"You are a helpful assistant that responds in Markdown. Help me with my math homework!\"},\n",
        "        {\"role\": \"user\", \"content\": [\n",
        "            {\"type\": \"text\", \"text\": \"Find the 3rd angle of the triangle\"},\n",
        "            {\"type\": \"image_url\", \"image_url\": {\n",
        "                \"url\": img_url}\n",
        "            }\n",
        "        ]}\n",
        "    ],\n",
        "    temperature=0.0,\n",
        ")\n"
      ]
    },
    {
      "cell_type": "code",
      "execution_count": 66,
      "metadata": {
        "colab": {
          "base_uri": "https://localhost:8080/"
        },
        "id": "OMWTwwj4vJpa",
        "outputId": "9ff4eaac-5a75-43a1-e931-868dde3b82c7"
      },
      "outputs": [
        {
          "name": "stdout",
          "output_type": "stream",
          "text": [
            "To find the third angle of a triangle, you can use the fact that the sum of the angles in a triangle is always 180 degrees.\n",
            "\n",
            "Given:\n",
            "- First angle = 95°\n",
            "- Second angle = 35°\n",
            "\n",
            "Let's denote the third angle as \\( x \\).\n",
            "\n",
            "Using the sum of angles in a triangle:\n",
            "\\[ 95° + 35° + x = 180° \\]\n",
            "\n",
            "Now, solve for \\( x \\):\n",
            "\\[ 130° + x = 180° \\]\n",
            "\\[ x = 180° - 130° \\]\n",
            "\\[ x = 50° \\]\n",
            "\n",
            "So, the third angle of the triangle is \\( 50° \\).\n"
          ]
        }
      ],
      "source": [
        "\n",
        "print(response.choices[0].message.content)"
      ]
    },
    {
      "cell_type": "markdown",
      "metadata": {
        "id": "s3aDwn8yn0wF"
      },
      "source": [
        "# ANTHROPIC CLAUDE 3 OPUS"
      ]
    },
    {
      "cell_type": "code",
      "execution_count": 67,
      "metadata": {
        "id": "lWEyf6EwYtI3"
      },
      "outputs": [],
      "source": [
        "from anthropic import Anthropic\n",
        "from portkey_ai import PORTKEY_GATEWAY_URL, createHeaders\n",
        "\n",
        "client = Anthropic(\n",
        "    api_key=\"ANTHROPIC_API_KEY\",\n",
        "    base_url=PORTKEY_GATEWAY_URL,\n",
        "    default_headers=createHeaders(\n",
        "        api_key=\"PORTKEY_API_KEY\",\n",
        "        provider=\"anthropic\"\n",
        "    )\n",
        ")"
      ]
    },
    {
      "cell_type": "code",
      "execution_count": 68,
      "metadata": {
        "id": "5nSwBv6pgrPH"
      },
      "outputs": [],
      "source": [
        "client = Anthropic(\n",
        "    api_key= userdata.get('ANTHROPIC_API_KEY'), ## replace it your OpenAI API key\n",
        "    base_url=PORTKEY_GATEWAY_URL,\n",
        "    default_headers=createHeaders(\n",
        "        provider=\"anthropic\",\n",
        "        api_key= userdata.get('PORTKEY_API_KEY'), ## replace it your Portkey API key\n",
        "    )\n",
        ")"
      ]
    },
    {
      "cell_type": "code",
      "execution_count": 69,
      "metadata": {
        "id": "577ZOVtRavlN"
      },
      "outputs": [],
      "source": [
        "# message = client.messages.create(\n",
        "#     messages= [{ \"role\": 'user', \"content\": 'Say this is a test' }],\n",
        "#     model= 'claude-3-opus-20240229',\n",
        "#     max_tokens=250\n",
        "# )\n",
        "\n",
        "# print(message.content)"
      ]
    },
    {
      "cell_type": "code",
      "execution_count": 70,
      "metadata": {
        "colab": {
          "base_uri": "https://localhost:8080/"
        },
        "id": "Q3sEL2hnZSBE",
        "outputId": "c13d4301-e145-4379-edbb-042c590713fb"
      },
      "outputs": [
        {
          "name": "stdout",
          "output_type": "stream",
          "text": [
            "To find the third angle of the triangle, we can use the fact that the sum of all angles in a triangle is always 180°.\n",
            "\n",
            "Given:\n",
            "- Angle 1 = 90°\n",
            "- Angle 2 = 42°\n",
            "\n",
            "Let's call the third angle x.\n",
            "\n",
            "Using the triangle angle sum property:\n",
            "Angle 1 + Angle 2 + x = 180°\n",
            "\n",
            "Substituting the known values:\n",
            "90° + 42° + x = 180°\n",
            "\n",
            "Simplifying:\n",
            "132° + x = 180°\n",
            "\n",
            "Subtracting 132° from both sides:\n",
            "x = 180° - 132°\n",
            "x = 48°\n",
            "\n",
            "Therefore, the measure of the third angle in the triangle is 48°.\n"
          ]
        }
      ],
      "source": [
        "img_url = \"data:image/png;base64,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\"\n",
        "\n",
        "response = client.messages.create(\n",
        "    system=\"You are a helpful assistant that responds in Markdown. Help me with my math homework!\",\n",
        "    messages=[\n",
        "        {\"role\": \"user\", \"content\": \"Find the 3rd angle of the triangle\"},\n",
        "        {\"role\": \"assistant\", \"content\": \"Sure, let's proceed with finding the third angle.\"},  # New assistant message\n",
        "        {\"role\": \"user\", \"content\": f\"Image URL: {img_url}\"}\n",
        "    ],\n",
        "    model=\"claude-3-opus-20240229\",\n",
        "    max_tokens=250,\n",
        ")\n",
        "\n",
        "content = response.content[0].text\n",
        "\n",
        "# Printing the content in a legible way\n",
        "print(content)\n"
      ]
    },
    {
      "cell_type": "markdown",
      "metadata": {
        "id": "Eb3y7BaavEfd"
      },
      "source": [
        "# GOOGLE GEMINI-PRO"
      ]
    },
    {
      "cell_type": "code",
      "execution_count": 71,
      "metadata": {
        "id": "U6bCO88TZLyJ"
      },
      "outputs": [],
      "source": [
        "from portkey_ai import Portkey\n",
        "\n",
        "portkey = Portkey(\n",
        "    api_key= userdata.get('PORTKEY_API_KEY'),  # Replace with your Portkey API key\n",
        "    virtual_key=userdata.get('VIRTUAL_GOOGLE_KEY')   # Replace with your virtual key for Google\n",
        ")"
      ]
    },
    {
      "cell_type": "code",
      "execution_count": 73,
      "metadata": {
        "id": "7B2VyHutn5wy"
      },
      "outputs": [],
      "source": [
        "# completion = portkey.chat.completions.create(\n",
        "#     messages= [{ \"role\": 'user', \"content\": 'Say this is a test' }],\n",
        "#     model= 'gemini-pro'\n",
        "# )\n",
        "\n",
        "# print(completion)"
      ]
    },
    {
      "cell_type": "code",
      "execution_count": 74,
      "metadata": {
        "colab": {
          "base_uri": "https://localhost:8080/"
        },
        "id": "hkHy_8kVo2a-",
        "outputId": "c03351a2-89c2-4d8b-cc4d-f38f959197e1"
      },
      "outputs": [
        {
          "name": "stdout",
          "output_type": "stream",
          "text": [
            "Given the triangle in the image, we can find the third angle using the angle sum property of a triangle. The angle sum property states that the sum of the interior angles of a triangle is always $180^\\circ$.\n",
            "\n",
            "In this triangle, we are given two angles: $50^\\circ$ and $70^\\circ$. Let's call the third angle $x$.\n",
            "\n",
            "Using the angle sum property, we have:\n",
            "\n",
            "``` \n",
            "50^\\circ + 70^\\circ + x = 180^\\circ\n",
            "```\n",
            "\n",
            "```\n",
            "120^\\circ + x = 180^\\circ\n",
            "```\n",
            "\n",
            "```\n",
            "x = 180^\\circ - 120^\\circ\n",
            "```\n",
            "\n",
            "```\n",
            "x = 60^\\circ\n",
            "```\n",
            "\n",
            "Therefore, the third angle of the triangle is $60^\\circ$.\n"
          ]
        }
      ],
      "source": [
        "import json\n",
        "img_url = \"data:image/png;base64,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\"\n",
        "\n",
        "completions = portkey.chat.completions.create(\n",
        "    messages=[\n",
        "        {\"role\": \"system\", \"content\": \"You are a helpful assistant that responds in Markdown. Help me with my math homework\"},\n",
        "        {\"role\": \"user\", \"content\": \"Find the 3rd angle of the triangle\"},\n",
        "        {\"role\": \"assistant\", \"content\": \"Sure, let's proceed with finding the third angle.\"},\n",
        "        {\"role\": \"user\", \"content\": f\"Image URL: {img_url}\"}\n",
        "    ],\n",
        "    model='gemini-pro',\n",
        ")\n",
        "choice_object = completions.choices[0]\n",
        "\n",
        "content = choice_object.message.content\n",
        "\n",
        "# Printing the content in a legible way\n",
        "print(content)"
      ]
    },
    {
      "cell_type": "markdown",
      "metadata": {
        "id": "b4GgGcn3w7jv"
      },
      "source": [
        "# Observation\n",
        "\n",
        "| Model          | Predicted Values  |\n",
        "|----------------|-------------------|\n",
        "| ChatGPT-4o    | 50 |\n",
        "| Claude3-Opus    | 48 |\n",
        "| Gemini-Pro     | 60 |\n"
      ]
    },
    {
      "cell_type": "code",
      "execution_count": 47,
      "metadata": {
        "id": "p1MQFNNftEAP"
      },
      "outputs": [],
      "source": []
    }
  ],
  "metadata": {
    "colab": {
      "provenance": []
    },
    "kernelspec": {
      "display_name": "Python 3",
      "name": "python3"
    },
    "language_info": {
      "name": "python"
    }
  },
  "nbformat": 4,
  "nbformat_minor": 0
}
