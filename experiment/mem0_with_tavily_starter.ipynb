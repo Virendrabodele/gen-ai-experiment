{
  "cells": [
    {
      "cell_type": "markdown",
      "source": [
        "<img src=\"https://drive.google.com/uc?export=view&id=1wYSMgJtARFdvTt5g7E20mE4NmwUFUuog\" width=\"200\">\n",
        "\n",
        "[![Gen AI Experiments](https://img.shields.io/badge/Gen%20AI%20Experiments-GenAI%20Bootcamp-blue?style=for-the-badge&logo=artificial-intelligence)](https://github.com/buildfastwithai/gen-ai-experiments)\n",
        "[![Gen AI Experiments GitHub](https://img.shields.io/github/stars/buildfastwithai/gen-ai-experiments?style=for-the-badge&logo=github&color=gold)](http://github.com/buildfastwithai/gen-ai-experiments)\n",
        "\n",
        "\n",
        "[![Open In Colab](https://colab.research.google.com/assets/colab-badge.svg)](https://colab.research.google.com/drive/1MvzejZCb_26jS-EqqfiWEpYQWq8xoKKc?usp=sharing)\n",
        "\n",
        "## Master Generative AI in 8 Weeks\n",
        "**What You'll Learn:**\n",
        "- Master cutting-edge AI tools & frameworks\n",
        "- 6 weeks of hands-on, project-based learning\n",
        "- Weekly live mentorship sessions\n",
        "- No coding experience required\n",
        "- Join Innovation Community\n",
        "Transform your AI ideas into reality through hands-on projects and expert mentorship.\n",
        "[Start Your Journey](https://www.buildfastwithai.com/genai-course)\n",
        "\n",
        "\n"
      ],
      "metadata": {
        "id": "yAqhDPrlLnNR"
      }
    },
    {
      "cell_type": "markdown",
      "metadata": {
        "id": "title_cell"
      },
      "source": [
        "# Personalized AI Search with Mem0, LangChain, and Tavily\n",
        "\n",
        "## Getting Started\n",
        "\n",
        "This notebook demonstrates how to build a personalized search assistant that combines:\n",
        "- **Mem0**: For storing and retrieving user context and preferences\n",
        "- **Tavily**: For performing web searches optimized for LLMs\n",
        "- **LangChain**: For orchestrating the AI agent workflow\n",
        "\n",
        "The system works by:\n",
        "1. Storing user context and preferences in Mem0\n",
        "2. Using that context to personalize search queries\n",
        "3. Retrieving relevant information from the web via Tavily\n",
        "4. Using an AI agent to synthesize personalized responses\n",
        "\n",
        "Let's get started by installing the required dependencies."
      ]
    },
    {
      "cell_type": "code",
      "execution_count": 1,
      "metadata": {
        "id": "install_dependencies",
        "colab": {
          "base_uri": "https://localhost:8080/"
        },
        "outputId": "646ae8ef-3599-4066-f75b-ac2febda3c7e"
      },
      "outputs": [
        {
          "output_type": "stream",
          "name": "stdout",
          "text": [
            "\u001b[?25l   \u001b[90m━━━━━━━━━━━━━━━━━━━━━━━━━━━━━━━━━━━━━━━━\u001b[0m \u001b[32m0.0/190.3 kB\u001b[0m \u001b[31m?\u001b[0m eta \u001b[36m-:--:--\u001b[0m\r\u001b[2K   \u001b[90m━━━━━━━━━━━━━━━━━━━━━━━━━━━━━━━━━━━━━━━━\u001b[0m \u001b[32m190.3/190.3 kB\u001b[0m \u001b[31m8.1 MB/s\u001b[0m eta \u001b[36m0:00:00\u001b[0m\n",
            "\u001b[2K   \u001b[90m━━━━━━━━━━━━━━━━━━━━━━━━━━━━━━━━━━━━━━━━\u001b[0m \u001b[32m74.5/74.5 kB\u001b[0m \u001b[31m4.7 MB/s\u001b[0m eta \u001b[36m0:00:00\u001b[0m\n",
            "\u001b[2K   \u001b[90m━━━━━━━━━━━━━━━━━━━━━━━━━━━━━━━━━━━━━━━━\u001b[0m \u001b[32m122.3/122.3 kB\u001b[0m \u001b[31m2.6 MB/s\u001b[0m eta \u001b[36m0:00:00\u001b[0m\n",
            "\u001b[2K   \u001b[90m━━━━━━━━━━━━━━━━━━━━━━━━━━━━━━━━━━━━━━━━\u001b[0m \u001b[32m337.3/337.3 kB\u001b[0m \u001b[31m12.7 MB/s\u001b[0m eta \u001b[36m0:00:00\u001b[0m\n",
            "\u001b[?25h"
          ]
        }
      ],
      "source": [
        "# Install required packages\n",
        "!pip install mem0ai langchain_tavily langchain_openai --quiet"
      ]
    },
    {
      "cell_type": "markdown",
      "metadata": {
        "id": "api_keys_explanation"
      },
      "source": [
        "## Setting up API Keys\n",
        "\n",
        "We need to set up API keys for the services we'll be using:\n",
        "- **OpenAI API Key**: For the language model (gpt-4o-mini)\n",
        "- **Mem0 API Key**: For memory management\n",
        "- **Tavily API Key**: For web search capabilities\n",
        "\n",
        "In Google Colab, we use `userdata.get()` to securely retrieve these keys from the Secrets manager."
      ]
    },
    {
      "cell_type": "code",
      "execution_count": 2,
      "metadata": {
        "id": "api_keys"
      },
      "outputs": [],
      "source": [
        "# Set up API keys\n",
        "import os\n",
        "from google.colab import userdata\n",
        "\n",
        "# Set OpenAI API key\n",
        "os.environ['OPENAI_API_KEY'] = userdata.get('OPENAI_API_KEY')\n",
        "\n",
        "# Set Mem0 API key\n",
        "os.environ['MEM0_API_KEY'] = userdata.get('MEM0_API_KEY')\n",
        "\n",
        "# Set Tavily API key\n",
        "os.environ['TAVILY_API_KEY'] = userdata.get('TAVILY_API_KEY')"
      ]
    },
    {
      "cell_type": "markdown",
      "metadata": {
        "id": "initialize_components_explanation"
      },
      "source": [
        "## Initializing Components\n",
        "\n",
        "Here we initialize the core components of our system:\n",
        "- **ChatOpenAI**: Our language model (gpt-4o-mini with a temperature of 0.2 for balanced creativity)\n",
        "- **MemoryClient**: The Mem0 client for managing user memories\n",
        "- **TavilySearch**: Our search tool with advanced search depth and up to 10 results"
      ]
    },
    {
      "cell_type": "code",
      "execution_count": 3,
      "metadata": {
        "id": "initialize_components",
        "colab": {
          "base_uri": "https://localhost:8080/"
        },
        "outputId": "5fed009c-504b-4fe9-b9ca-ec12965c499d"
      },
      "outputs": [
        {
          "output_type": "stream",
          "name": "stderr",
          "text": [
            "/usr/local/lib/python3.12/dist-packages/jupyter_client/session.py:151: DeprecationWarning: datetime.datetime.utcnow() is deprecated and scheduled for removal in a future version. Use timezone-aware objects to represent datetimes in UTC: datetime.datetime.now(datetime.UTC).\n",
            "  return datetime.utcnow().replace(tzinfo=utc)\n"
          ]
        }
      ],
      "source": [
        "from mem0 import MemoryClient\n",
        "from langchain_tavily import TavilySearch\n",
        "from langchain.agents import create_openai_tools_agent, AgentExecutor\n",
        "from langchain_core.prompts import ChatPromptTemplate, MessagesPlaceholder\n",
        "from langchain_openai import ChatOpenAI\n",
        "from langchain.schema import HumanMessage\n",
        "\n",
        "# Initialize components\n",
        "llm = ChatOpenAI(model=\"gpt-4o-mini\", temperature=0.2)\n",
        "mem0_client = MemoryClient()\n",
        "\n",
        "# Tavily search tool\n",
        "tavily_search = TavilySearch(max_results=10, search_depth=\"advanced\")"
      ]
    },
    {
      "cell_type": "markdown",
      "metadata": {
        "id": "add_user_memory_explanation"
      },
      "source": [
        "## Adding User Memory\n",
        "\n",
        "We'll add some initial context about our user. In this case, we're storing that the user lives in Greater Noida, Delhi. This information will be used to personalize future search results.\n",
        "\n",
        "The `add()` method stores memories associated with a specific user ID, and `list()` retrieves all stored memories for that user."
      ]
    },
    {
      "cell_type": "code",
      "execution_count": 7,
      "metadata": {
        "id": "add_user_memory",
        "colab": {
          "base_uri": "https://localhost:8080/"
        },
        "outputId": "b392e87c-c664-4fcb-dff5-d8f4e8bdba78"
      },
      "outputs": [
        {
          "output_type": "stream",
          "name": "stderr",
          "text": [
            "/usr/local/lib/python3.12/dist-packages/mem0/client/utils.py:21: DeprecationWarning: output_format='v1.0' is deprecated therefore setting it to 'v1.1' by default. Check out the docs for more information: https://docs.mem0.ai/platform/quickstart#4-1-create-memories\n",
            "  return func(*args, **kwargs)\n"
          ]
        }
      ],
      "source": [
        "# Add user history for personalization\n",
        "client = MemoryClient()\n",
        "\n",
        "client.add(\n",
        "    [\n",
        "        {\"role\": \"user\", \"content\": \"I live in Greater Noida, Delhi.\"}\n",
        "    ],\n",
        "    user_id=\"john\"\n",
        ")\n",
        "\n",
        "# View added memories\n",
        "filters = {\n",
        "   \"AND\": [\n",
        "      {\n",
        "         \"user_id\": \"john\"\n",
        "      }\n",
        "   ]\n",
        "}\n",
        "\n",
        "all_memories = client.get_all(version=\"v2\", filters=filters, page=1, page_size=50)"
      ]
    },
    {
      "cell_type": "code",
      "source": [
        "all_memories"
      ],
      "metadata": {
        "colab": {
          "base_uri": "https://localhost:8080/"
        },
        "id": "523TODkcMwrf",
        "outputId": "a2454000-670e-4bd1-b802-58ed3a20318d"
      },
      "execution_count": 8,
      "outputs": [
        {
          "output_type": "execute_result",
          "data": {
            "text/plain": [
              "{'count': 1,\n",
              " 'next': None,\n",
              " 'previous': None,\n",
              " 'results': [{'id': 'f2d1a125-7e6c-4034-a04a-3bb55b8719ed',\n",
              "   'memory': 'User Lives in Greater Noida, Delhi',\n",
              "   'user_id': 'john',\n",
              "   'metadata': None,\n",
              "   'categories': ['personal_details'],\n",
              "   'created_at': '2025-08-28T02:36:55.967625-07:00',\n",
              "   'updated_at': '2025-08-28T02:36:56.030710-07:00',\n",
              "   'expiration_date': None,\n",
              "   'structured_attributes': {'day': 28,\n",
              "    'hour': 9,\n",
              "    'year': 2025,\n",
              "    'month': 8,\n",
              "    'minute': 36,\n",
              "    'quarter': 3,\n",
              "    'is_weekend': False,\n",
              "    'day_of_week': 'thursday',\n",
              "    'day_of_year': 240,\n",
              "    'week_of_year': 35}}]}"
            ]
          },
          "metadata": {},
          "execution_count": 8
        }
      ]
    },
    {
      "cell_type": "markdown",
      "metadata": {
        "id": "retrieve_context_explanation"
      },
      "source": [
        "## Retrieving Context for Queries\n",
        "\n",
        "When a user makes a query, we use Mem0's `search()` method to find relevant context from their stored memories. This ensures that search results are personalized based on what we know about the user.\n",
        "\n",
        "In this example, when the user asks about \"best coffee shops nearby\", we retrieve their location context to provide location-relevant results."
      ]
    },
    {
      "cell_type": "code",
      "execution_count": 9,
      "metadata": {
        "id": "retrieve_context",
        "colab": {
          "base_uri": "https://localhost:8080/"
        },
        "outputId": "99b7b6ac-712d-44bd-b945-c0a49290f8b2"
      },
      "outputs": [
        {
          "output_type": "stream",
          "name": "stdout",
          "text": [
            "Query: best coffee shops nearby\n",
            "\n",
            "Relevant user context:\n",
            "- User Lives in Greater Noida, Delhi\n"
          ]
        }
      ],
      "source": [
        "# New user search query\n",
        "query = \"best coffee shops nearby\"\n",
        "\n",
        "# Retrieve user context relevant to this query\n",
        "user_context = \"\\n\".join(\n",
        "    [f\"- {m['memory']}\" for m in mem0_client.search(query=query, user_id=\"john\")]\n",
        ")\n",
        "\n",
        "print(\"Query:\", query)\n",
        "print(\"\\nRelevant user context:\")\n",
        "print(user_context if user_context else \"No relevant context found\")"
      ]
    },
    {
      "cell_type": "markdown",
      "metadata": {
        "id": "create_agent_explanation"
      },
      "source": [
        "## Creating the AI Agent\n",
        "\n",
        "We create an AI agent using LangChain that will:\n",
        "1. Use our prompt template which includes the user context\n",
        "2. Have access to the Tavily search tool\n",
        "3. Be powered by our OpenAI language model\n",
        "\n",
        "The agent will use this setup to intelligently search the web and synthesize personalized responses based on both the user's query and their stored context."
      ]
    },
    {
      "cell_type": "code",
      "execution_count": 10,
      "metadata": {
        "id": "create_agent",
        "colab": {
          "base_uri": "https://localhost:8080/"
        },
        "outputId": "b1e1cdea-0313-4a5f-dab7-a750ebe9198e"
      },
      "outputs": [
        {
          "output_type": "stream",
          "name": "stderr",
          "text": [
            "/usr/local/lib/python3.12/dist-packages/jupyter_client/session.py:151: DeprecationWarning: datetime.datetime.utcnow() is deprecated and scheduled for removal in a future version. Use timezone-aware objects to represent datetimes in UTC: datetime.datetime.now(datetime.UTC).\n",
            "  return datetime.utcnow().replace(tzinfo=utc)\n"
          ]
        }
      ],
      "source": [
        "# Create prompt template\n",
        "prompt = ChatPromptTemplate.from_messages([\n",
        "    (\"system\", \"\"\"You are a personalized search assistant.\n",
        "USER CONTEXT: {user_context}\n",
        "Tailor results to preferences like dietary needs, family context, and lifestyle.\"\"\"),\n",
        "    MessagesPlaceholder(\"messages\"),\n",
        "    MessagesPlaceholder(\"agent_scratchpad\")\n",
        "])\n",
        "\n",
        "# Create agent\n",
        "agent = create_openai_tools_agent(\n",
        "    llm=llm,\n",
        "    tools=[tavily_search],\n",
        "    prompt=prompt\n",
        ")\n",
        "\n",
        "# Create executor\n",
        "executor = AgentExecutor(\n",
        "    agent=agent,\n",
        "    tools=[tavily_search],\n",
        "    return_intermediate_steps=True\n",
        ")"
      ]
    },
    {
      "cell_type": "markdown",
      "metadata": {
        "id": "run_agent_explanation"
      },
      "source": [
        "## Running the Agent\n",
        "\n",
        "Now we execute the agent with our query and the retrieved user context. The agent will:\n",
        "1. Use the Tavily tool to search for relevant information\n",
        "2. Process the search results\n",
        "3. Generate a personalized response based on both the search results and user context\n",
        "\n",
        "The `return_intermediate_steps=True` parameter allows us to see the search results in the next step."
      ]
    },
    {
      "cell_type": "code",
      "execution_count": 11,
      "metadata": {
        "id": "run_agent",
        "colab": {
          "base_uri": "https://localhost:8080/"
        },
        "outputId": "5eda2587-f67d-4906-a8dd-b7c692749159"
      },
      "outputs": [
        {
          "output_type": "stream",
          "name": "stdout",
          "text": [
            "Agent response:\n",
            "Here are some of the best coffee shops in Greater Noida:\n",
            "\n",
            "1. **[Wanderlog - Best Coffee Shops and Cafes](https://wanderlog.com/list/geoCategory/282945/best-coffee-shops-and-best-cafes-in-greater-noida)**: This list includes popular spots like:\n",
            "   - Alma Bakery & Cafe\n",
            "   - Starbucks\n",
            "   - The Desi Firangi\n",
            "   - Cold Rock Cafe\n",
            "   - Brewtiful\n",
            "   - The Little Pink Café\n",
            "\n",
            "2. **[Tripadvisor - The 10 Best Cafés](https://www.tripadvisor.com/Restaurants-g2140594-c8-Greater_Noida_Gautam_Buddha_Nagar_District_Uttar_Pradesh.html)**: Highlights include:\n",
            "   - Cafe Honey Hut\n",
            "   - Bakers N Brewers\n",
            "   - The Little Pink Café\n",
            "\n",
            "3. **[Zomato - Cafe Restaurants in Greater Noida](https://www.zomato.com/ncr/greater-noida-restaurants/cafes)**: Features various cafes like:\n",
            "   - Starbucks Coffee\n",
            "   - D' Wood Cafe\n",
            "   - Modern Basket Cafe\n",
            "\n",
            "4. **[Party Witty - Top 7 Cafes](https://partywitty.com/blogs/top-7-cafes-in-greater-noida-for-weekend-brunch-&-bachelorette-scenes)**: A curated list of cafes perfect for weekend brunches.\n",
            "\n",
            "These options should cater to different tastes and preferences, whether you're looking for a cozy spot to relax or a place to grab a quick coffee. Enjoy exploring!\n"
          ]
        },
        {
          "output_type": "stream",
          "name": "stderr",
          "text": [
            "/usr/local/lib/python3.12/dist-packages/jupyter_client/session.py:151: DeprecationWarning: datetime.datetime.utcnow() is deprecated and scheduled for removal in a future version. Use timezone-aware objects to represent datetimes in UTC: datetime.datetime.now(datetime.UTC).\n",
            "  return datetime.utcnow().replace(tzinfo=utc)\n"
          ]
        }
      ],
      "source": [
        "# Run the agent with the query\n",
        "response = executor.invoke(\n",
        "    {\n",
        "        \"messages\": [HumanMessage(content=query)],\n",
        "        \"user_context\": user_context\n",
        "    }\n",
        ")\n",
        "\n",
        "print(\"Agent response:\")\n",
        "print(response[\"output\"])"
      ]
    },
    {
      "cell_type": "markdown",
      "metadata": {
        "id": "process_results_explanation"
      },
      "source": [
        "## Processing Search Results\n",
        "\n",
        "We can examine the raw search results from Tavily that the agent used to generate its response. This shows the actual sources and information that informed the personalized answer."
      ]
    },
    {
      "cell_type": "code",
      "execution_count": 12,
      "metadata": {
        "id": "process_results",
        "colab": {
          "base_uri": "https://localhost:8080/"
        },
        "outputId": "dab99e34-3cf0-420b-d9e6-7b1894ce1b5c"
      },
      "outputs": [
        {
          "output_type": "stream",
          "name": "stdout",
          "text": [
            "Found 10 results:\n",
            "\n",
            "1. The 35 best coffee shops and best cafes in Greater Noida - Wanderlog\n",
            "   URL: https://wanderlog.com/list/geoCategory/282945/best-coffee-shops-and-best-cafes-in-greater-noida\n",
            "   Snippet: ## 22Alma Bakery & Cafe Noida sector 104\n",
            "\n",
            "## 23Starbucks\n",
            "\n",
            "## 24The Desi Firangi\n",
            "\n",
            "## 25Cold Rock Cafe\n",
            "\n",
            "## 26Chelvies Coffee | Noida 104\n",
            "\n",
            "## 27Imperfecto Rainbow\n",
            "\n",
            "## 28Cafe Delhi Heights\n",
            "\n",
            "## 29Saltoro Coffee Roasters\n",
            "\n",
            "## 30Tan Coffee\n",
            "\n",
            "## 31Pind balluchi\n",
            "\n",
            "## 32Brewtiful\n",
            "\n",
            "## 33The Little Pink Café - Coffee, Cakes and Small-Bites\n",
            "\n",
            "## 34Bakers N Brewers\n",
            "\n",
            "## 35Mera Pizza\n",
            "\n",
            "Popular\n",
            "\n",
            "Food\n",
            "\n",
            "Popular [...] ## 6Bark Street | Dog Food & Grooming Cafe in Noida\n",
            "\n",
            "## 7Uncle's Patty\n",
            "\n",
            "## 8Sparrows At Home Cafe\n",
            "\n",
            "## 9Spezia Bistro\n",
            "\n",
            "## 10Roastery Coffee House | Noida\n",
            "\n",
            "## 11Café Ciro\n",
            "\n",
            "## 12Scarlet Bar\n",
            "\n",
            "## 13Palm Garden Restaurant (The Circle Cafe)\n",
            "\n",
            "## 14Creme Castle\n",
            "\n",
            "## 15Cafe Street 1\n",
            "\n",
            "## 16Sip & Social\n",
            "\n",
            "## 17Blue Tokai Coffee Roasters | Noida Sector 104\n",
            "\n",
            "## 18Chaayos Cafe at Ithum Galleria\n",
            "\n",
            "## 19The Reader's Cafe\n",
            "\n",
            "## 20Dasaprakash - Sector 104\n",
            "\n",
            "## 21Our Story Bistro & Tea Room [...] As you explore the diverse culinary landscape of Greater Noida, you’ll discover a mix of well-known favorites and hidden gems. Whether you’re in the mood for a hearty breakfast at Sparrows At Home Cafe or a casual hangout at Bunkers Adda, there’s no shortage of options to satisfy your cravings. Each cafe has its own unique charm, from the artistic decor of Bark Street, where your furry friends are welcome, to the luxurious setting of Cafe Resto within the Jaypee Greens Golf & Spa Resort. So\n",
            "\n",
            "2. THE 10 BEST Cafés in Greater Noida (Updated 2025)\n",
            "   URL: https://www.tripadvisor.com/Restaurants-g2140594-c8-Greater_Noida_Gautam_Buddha_Nagar_District_Uttar_Pradesh.html\n",
            "   Snippet: 1. Cafe Honey Hut, Greater Noida. 5.0. (6 reviews). Bakeries, Cafe. Open now · 2. Bakers N Brewers. 5.0. (2 reviews). Cafe · 3. The Little\n",
            "\n",
            "3. Top 5 Aesthetic Cafes in Greater Noida Perfect for a Cozy ...\n",
            "   URL: https://www.instagram.com/reel/DKWiOyWT1iD/\n",
            "   Snippet: Top 5 Aesthetic Cafes in Greater Noida Perfect for a Cozy Date , Hangout or fun. 1. Dine House Cafe, Gamma 1 2. D'Wood Cafe, Jagat Farm 3. Appetito, Knowledge\n",
            "\n",
            "4. Cafe Restaurants in Greater Noida - Zomato\n",
            "   URL: https://www.zomato.com/ncr/greater-noida-restaurants/cafes\n",
            "   Snippet: Greater Noida Restaurants · Starbucks Coffee · HB Cafe · Costa Coffee · Modern Basket Cafe · Carnivale · Bekal Cafe · Xero Courtyard · D' Wood.\n",
            "\n",
            "5. Greater Noida Restaurants, Restaurants in Greater Noida\n",
            "   URL: https://www.zomato.com/ncr/greater-noida-restaurants/caf%C3%A9\n",
            "   Snippet: Appetito · Bekal Cafe · Haveli Of Grill · Xero Courtyard · EFC Cafe - For All Your Food Cravings · Starbucks Coffee · Flavours - The Gaur Sarovar premiere · Cafe\n",
            "\n",
            "6. Top 7 Cafes in Greater Noida for Weekend Brunch & Bachelorette ...\n",
            "   URL: https://partywitty.com/blogs/top-7-cafes-in-greater-noida-for-weekend-brunch-&-bachelorette-scenes\n",
            "   Snippet: Here are the Top 7 Cafes in Greater Noida you must try.\n",
            "\n",
            "7. 30 Best Cafes in Greater Noida with Price & Packages\n",
            "   URL: https://www.venuelook.com/greater-noida/cafes\n",
            "   Snippet: Check and compare the best Cafes in Greater Noida for your special day, Find luxury Cafes for birthday party, corporate and family events, get exclusive\n",
            "\n",
            "8. Cafes in Greater Noida : r/greaternoida - Reddit\n",
            "   URL: https://www.reddit.com/r/greaternoida/comments/1lekzra/cafes_in_greater_noida/\n",
            "   Snippet: Jun 18, 2025·There are pretty good cafes in jaypee greens like rukma, bonjuk. But they are a bit expensive, well for me. P.s you'll have to make a ...Good food in Greater Noida : r/greaternoidaGood Places to eat in NoidaMore results from www.reddit.com\n",
            "\n",
            "9. What are some great coffee shops in Noida? leaving out ...\n",
            "   URL: https://so.city/delhi/question/what-are-some-great-coffee-shops-in-noida-leaving-out-the-obvious-choices-like-starbucks-ccd-barista-and-costa-coffee-1600677138283\n",
            "   Snippet: so city logo\n",
            "city icon\n",
            "city icon\n",
            "city icon\n",
            "city icon\n",
            "city icon\n",
            "city icon\n",
            "city icon\n",
            "city icon\n",
            "city icon\n",
            "city icon\n",
            "city icon\n",
            "city icon\n",
            "city icon\n",
            "so city logo\n",
            "search icon\n",
            "arrow icon\n",
            "so city logo\n",
            "city icon\n",
            "city icon\n",
            "city icon\n",
            "city icon\n",
            "city icon\n",
            "city icon\n",
            "city icon\n",
            "city icon\n",
            "city icon\n",
            "city icon\n",
            "city icon\n",
            "city icon\n",
            "city icon\n",
            "akritibedi\n",
            "akritibedi\n",
            "facebook\n",
            "aanchalarora3\n",
            "top answer badge\n",
            "chosen answer badge\n",
            "chavisingh\n",
            "arushiwadhawan\n",
            "ishitasahni2\n",
            "shubikksharamalingam\n",
            "hemantsaini3\n",
            "yavanikasharma [...] sugndhadhamija\n",
            "prajwaljain\n",
            "latikajoshi\n",
            "Ask A Question/Start A Poll\n",
            "\n",
            "10. Dear coffee enthusiasts, suggest some of the best ...\n",
            "   URL: https://www.reddit.com/r/noida/comments/1km8ito/dear_coffee_enthusiasts_suggest_some_of_the_best/\n",
            "   Snippet: Colocal and Haven sec 75 are the best. Tea Shop if you want nostalgia and cheap coffee. Roastery is OK. Rest all other places are average.\n",
            "\n"
          ]
        }
      ],
      "source": [
        "# Extract the tavily results\n",
        "tavily_results = response[\"intermediate_steps\"][0][1][\"results\"]\n",
        "\n",
        "print(f\"Found {len(tavily_results)} results:\\n\")\n",
        "\n",
        "# Print each result's title and content\n",
        "for i, r in enumerate(tavily_results, 1):\n",
        "    print(f\"{i}. {r['title']}\")\n",
        "    print(f\"   URL: {r['url']}\")\n",
        "    print(f\"   Snippet: {r['content']}\\n\")"
      ]
    },
    {
      "cell_type": "markdown",
      "metadata": {
        "id": "complex_example"
      },
      "source": [
        "## Complex Use Case: Personalized Travel Planning Assistant\n",
        "\n",
        "Let's build a more sophisticated example that demonstrates the full power of our personalized search system. We'll create a travel planning assistant that:\n",
        "\n",
        "1. Stores detailed user preferences (dietary restrictions, interests, budget)\n",
        "2. Uses those preferences to find highly personalized travel recommendations\n",
        "3. Synthesizes information from multiple sources into a cohesive travel plan\n",
        "\n",
        "This example shows how the system can handle complex, multi-faceted queries that require combining various pieces of user context."
      ]
    },
    {
      "cell_type": "code",
      "execution_count": 16,
      "metadata": {
        "id": "travel_example_setup",
        "colab": {
          "base_uri": "https://localhost:8080/"
        },
        "outputId": "4b640369-34e4-4f84-c0c2-ee2aaf12ca6f"
      },
      "outputs": [
        {
          "output_type": "stream",
          "name": "stderr",
          "text": [
            "/usr/local/lib/python3.12/dist-packages/mem0/client/utils.py:21: DeprecationWarning: output_format='v1.0' is deprecated therefore setting it to 'v1.1' by default. Check out the docs for more information: https://docs.mem0.ai/platform/quickstart#4-1-create-memories\n",
            "  return func(*args, **kwargs)\n"
          ]
        }
      ],
      "source": [
        "# Create a new user with detailed travel preferences\n",
        "traveler_context = [\n",
        "    {\"role\": \"user\", \"content\": \"I'm planning a 5-day trip to Kyoto, Japan in November\"},\n",
        "    {\"role\": \"user\", \"content\": \"I'm a vegetarian and prefer traditional Japanese cuisine\"},\n",
        "    {\"role\": \"user\", \"content\": \"I'm interested in visiting temples, gardens, and experiencing traditional tea ceremonies\"},\n",
        "    {\"role\": \"user\", \"content\": \"I prefer staying in ryokans (traditional inns) over hotels\"},\n",
        "    {\"role\": \"user\", \"content\": \"My budget is $200 per day excluding accommodation\"},\n",
        "    {\"role\": \"user\", \"content\": \"I enjoy walking and prefer neighborhoods with narrow streets and traditional architecture\"}\n",
        "]\n",
        "\n",
        "# Add context to Mem0 for our new user\n",
        "mem0_client.add(traveler_context, user_id=\"traveler_alex\")\n",
        "\n",
        "# View the stored context\n",
        "filters = {\n",
        "   \"AND\": [\n",
        "      {\n",
        "         \"user_id\": \"traveler_alex\"\n",
        "      }\n",
        "   ]\n",
        "}\n",
        "\n",
        "all_memories = client.get_all(version=\"v2\", filters=filters, page=1, page_size=50)"
      ]
    },
    {
      "cell_type": "code",
      "source": [
        "all_memories"
      ],
      "metadata": {
        "colab": {
          "base_uri": "https://localhost:8080/"
        },
        "id": "Y-mvqUidNXbq",
        "outputId": "0000ab8e-a77f-4000-e389-84a26327ca3a"
      },
      "execution_count": 17,
      "outputs": [
        {
          "output_type": "execute_result",
          "data": {
            "text/plain": [
              "{'count': 7,\n",
              " 'next': None,\n",
              " 'previous': None,\n",
              " 'results': [{'id': '8f7a7f1c-bbea-4f97-923a-5ca1bc392c98',\n",
              "   'memory': 'User enjoys walking and prefers neighborhoods with narrow streets and traditional architecture',\n",
              "   'user_id': 'traveler_alex',\n",
              "   'metadata': None,\n",
              "   'categories': None,\n",
              "   'created_at': '2025-08-28T03:23:47.576503-07:00',\n",
              "   'updated_at': '2025-08-28T03:23:47.639696-07:00',\n",
              "   'expiration_date': None,\n",
              "   'structured_attributes': {'day': 28,\n",
              "    'hour': 10,\n",
              "    'year': 2025,\n",
              "    'month': 8,\n",
              "    'minute': 23,\n",
              "    'quarter': 3,\n",
              "    'is_weekend': False,\n",
              "    'day_of_week': 'thursday',\n",
              "    'day_of_year': 240,\n",
              "    'week_of_year': 35}},\n",
              "  {'id': 'f1511a6e-6ea7-4a40-b4a6-e5e7e7d17723',\n",
              "   'memory': \"User's budget is $200 per day excluding accommodation\",\n",
              "   'user_id': 'traveler_alex',\n",
              "   'metadata': None,\n",
              "   'categories': None,\n",
              "   'created_at': '2025-08-28T03:23:46.333861-07:00',\n",
              "   'updated_at': '2025-08-28T03:23:46.396306-07:00',\n",
              "   'expiration_date': None,\n",
              "   'structured_attributes': {'day': 28,\n",
              "    'hour': 10,\n",
              "    'year': 2025,\n",
              "    'month': 8,\n",
              "    'minute': 23,\n",
              "    'quarter': 3,\n",
              "    'is_weekend': False,\n",
              "    'day_of_week': 'thursday',\n",
              "    'day_of_year': 240,\n",
              "    'week_of_year': 35}},\n",
              "  {'id': '861e8800-5f73-4c18-954e-dc587188209e',\n",
              "   'memory': 'User prefers staying in ryokans (traditional inns) over hotels',\n",
              "   'user_id': 'traveler_alex',\n",
              "   'metadata': None,\n",
              "   'categories': None,\n",
              "   'created_at': '2025-08-28T03:23:45.005279-07:00',\n",
              "   'updated_at': '2025-08-28T03:23:45.088074-07:00',\n",
              "   'expiration_date': None,\n",
              "   'structured_attributes': {'day': 28,\n",
              "    'hour': 10,\n",
              "    'year': 2025,\n",
              "    'month': 8,\n",
              "    'minute': 23,\n",
              "    'quarter': 3,\n",
              "    'is_weekend': False,\n",
              "    'day_of_week': 'thursday',\n",
              "    'day_of_year': 240,\n",
              "    'week_of_year': 35}},\n",
              "  {'id': 'baf08978-6e05-48fb-ad7a-ee87ccd78e1b',\n",
              "   'memory': 'User is interested in visiting temples, gardens, and experiencing traditional tea ceremonies',\n",
              "   'user_id': 'traveler_alex',\n",
              "   'metadata': None,\n",
              "   'categories': None,\n",
              "   'created_at': '2025-08-28T03:23:43.694132-07:00',\n",
              "   'updated_at': '2025-08-28T03:23:43.758586-07:00',\n",
              "   'expiration_date': None,\n",
              "   'structured_attributes': {'day': 28,\n",
              "    'hour': 10,\n",
              "    'year': 2025,\n",
              "    'month': 8,\n",
              "    'minute': 23,\n",
              "    'quarter': 3,\n",
              "    'is_weekend': False,\n",
              "    'day_of_week': 'thursday',\n",
              "    'day_of_year': 240,\n",
              "    'week_of_year': 35}},\n",
              "  {'id': 'e0ef8c57-3a53-4265-a8ff-b8c13b3a19c0',\n",
              "   'memory': 'User prefers traditional Japanese cuisine',\n",
              "   'user_id': 'traveler_alex',\n",
              "   'metadata': None,\n",
              "   'categories': None,\n",
              "   'created_at': '2025-08-28T03:23:42.670686-07:00',\n",
              "   'updated_at': '2025-08-28T03:23:42.732594-07:00',\n",
              "   'expiration_date': None,\n",
              "   'structured_attributes': {'day': 28,\n",
              "    'hour': 10,\n",
              "    'year': 2025,\n",
              "    'month': 8,\n",
              "    'minute': 23,\n",
              "    'quarter': 3,\n",
              "    'is_weekend': False,\n",
              "    'day_of_week': 'thursday',\n",
              "    'day_of_year': 240,\n",
              "    'week_of_year': 35}},\n",
              "  {'id': 'eeebade5-f458-41a2-be86-1c3567a2283f',\n",
              "   'memory': 'User is a vegetarian',\n",
              "   'user_id': 'traveler_alex',\n",
              "   'metadata': None,\n",
              "   'categories': None,\n",
              "   'created_at': '2025-08-28T03:23:42.040048-07:00',\n",
              "   'updated_at': '2025-08-28T03:23:42.102602-07:00',\n",
              "   'expiration_date': None,\n",
              "   'structured_attributes': {'day': 28,\n",
              "    'hour': 10,\n",
              "    'year': 2025,\n",
              "    'month': 8,\n",
              "    'minute': 23,\n",
              "    'quarter': 3,\n",
              "    'is_weekend': False,\n",
              "    'day_of_week': 'thursday',\n",
              "    'day_of_year': 240,\n",
              "    'week_of_year': 35}},\n",
              "  {'id': '4c0863aa-fc79-4de7-b79c-e29c58ee58ac',\n",
              "   'memory': 'User is planning a 5-day trip to Kyoto, Japan in November',\n",
              "   'user_id': 'traveler_alex',\n",
              "   'metadata': None,\n",
              "   'categories': None,\n",
              "   'created_at': '2025-08-28T03:23:41.283221-07:00',\n",
              "   'updated_at': '2025-08-28T03:23:41.355472-07:00',\n",
              "   'expiration_date': None,\n",
              "   'structured_attributes': {'day': 28,\n",
              "    'hour': 10,\n",
              "    'year': 2025,\n",
              "    'month': 8,\n",
              "    'minute': 23,\n",
              "    'quarter': 3,\n",
              "    'is_weekend': False,\n",
              "    'day_of_week': 'thursday',\n",
              "    'day_of_year': 240,\n",
              "    'week_of_year': 35}}]}"
            ]
          },
          "metadata": {},
          "execution_count": 17
        }
      ]
    },
    {
      "cell_type": "code",
      "execution_count": 18,
      "metadata": {
        "id": "travel_example_execution",
        "colab": {
          "base_uri": "https://localhost:8080/"
        },
        "outputId": "e2166916-f763-40ae-838c-dbeb6c185470"
      },
      "outputs": [
        {
          "output_type": "stream",
          "name": "stdout",
          "text": [
            "Complex travel query:\n",
            "\n",
            "Based on my preferences, please provide:\n",
            "1. A list of 3 highly-rated ryokans in Kyoto with vegetarian-friendly options\n",
            "2. 5 must-visit temples and gardens that are within walking distance of each other\n",
            "3. Recommendations for authentic vegetarian Japanese restaurants near these locations\n",
            "4. Information about tea ceremony experiences that align with my interest in tradition\n",
            "5. Any seasonal events or festivals happening in November that would match my interests\n",
            "\n",
            "\n",
            "Relevant user context:\n",
            "- User is planning a 5-day trip to Kyoto, Japan in November\n",
            "- User is interested in visiting temples, gardens, and experiencing traditional tea ceremonies\n",
            "- User prefers staying in ryokans (traditional inns) over hotels\n",
            "- User prefers traditional Japanese cuisine\n",
            "- User enjoys walking and prefers neighborhoods with narrow streets and traditional architecture\n",
            "- User is a vegetarian\n",
            "\n",
            "Generating personalized travel recommendations...\n"
          ]
        },
        {
          "output_type": "stream",
          "name": "stderr",
          "text": [
            "/usr/local/lib/python3.12/dist-packages/jupyter_client/session.py:151: DeprecationWarning: datetime.datetime.utcnow() is deprecated and scheduled for removal in a future version. Use timezone-aware objects to represent datetimes in UTC: datetime.datetime.now(datetime.UTC).\n",
            "  return datetime.utcnow().replace(tzinfo=utc)\n"
          ]
        },
        {
          "output_type": "stream",
          "name": "stdout",
          "text": [
            "\n",
            "Personalized travel recommendations:\n",
            "Here’s a tailored itinerary for your 5-day trip to Kyoto in November, focusing on your interests in temples, gardens, traditional tea ceremonies, vegetarian cuisine, and seasonal events.\n",
            "\n",
            "### 1. Highly-Rated Ryokans in Kyoto with Vegetarian-Friendly Options\n",
            "- **Rangetsu**: Located near the Arashiyama bamboo grove, this ryokan offers private onsens and traditional Japanese meals, including vegetarian options. [More Info](https://www.erikastravelventures.com/japanese-ryokan-with-vegetarian-options/)\n",
            "- **Kyoto Nanzenji Ryokan Yachiyo**: Offers vegan and vegetarian breakfast and dinner options. Prices start around $627 per night for two people. [More Info](https://www.erikastravelventures.com/japanese-ryokan-with-vegetarian-options/)\n",
            "- **Kyonoyado Gekkoan**: Features luxury suites with kaiseki meals that include vegan and vegetarian options. Prices start at $583 per night for two people. [More Info](https://www.erikastravelventures.com/japanese-ryokan-with-vegetarian-options/)\n",
            "\n",
            "### 2. Must-Visit Temples and Gardens (Within Walking Distance)\n",
            "- **Tenryu-ji Temple**: A UNESCO World Heritage site with beautiful gardens.\n",
            "- **Arashiyama Bamboo Grove**: A stunning bamboo forest perfect for walking.\n",
            "- **Okochi Sanso Garden**: A serene garden with a traditional tea house.\n",
            "- **Jojakko-ji Temple**: A quiet temple with beautiful views and gardens.\n",
            "- **Nanzen-ji Temple**: Known for its impressive gate and gardens.\n",
            "\n",
            "These locations are all within a reasonable walking distance in the Arashiyama area.\n",
            "\n",
            "### 3. Authentic Vegetarian Japanese Restaurants Near Temples\n",
            "- **Shigetsu**: Located within Tenryu-ji Temple, this restaurant serves traditional vegan shojin ryori. [More Info](https://www.neverendingvoyage.com/vegetarian-kyoto/)\n",
            "- **Ajiro Honten**: Near Myoshin-ji Temple, known for its multi-course vegan meals. [More Info](https://www.insidekyoto.com/best-shojin-ryori-japanese-buddhist-vegetarian-cuisine)\n",
            "- **Yoshuji**: Located in Kurama, offering Buddhist vegetarian cuisine and noodle dishes. [More Info](https://www.neverendingvoyage.com/vegetarian-kyoto/)\n",
            "\n",
            "### 4. Traditional Tea Ceremony Experiences\n",
            "- **Kyoto Maikoya**: Offers a traditional tea ceremony experience in the Gion district, with the option to wear a kimono. [More Info](https://mai-ko.com/culture/tea-ceremony/)\n",
            "- **Tea Ceremony Experience En**: Located near Daitokuji, this experience includes a participatory introduction to the tea ceremony. [More Info](https://www.tripadvisor.com/Attraction_Review-g298564-d2221045-Reviews-Tea_Ceremony_Experience_En-Kyoto_Kyoto_Prefecture_Kinki.html)\n",
            "- **Ran Hotei**: A tea master offers unique tea ceremonies in a beautifully renovated townhouse. [More Info](https://www.byfood.com/blog/kyoto/kyoto-tea-ceremony)\n",
            "\n",
            "### 5. Seasonal Events and Festivals in November\n",
            "- **Gion Odori (November 1-10)**: A traditional dance performed by geishas, offering a rare opportunity to see them in action.\n",
            "- **Higashiyama Temple Illuminations (All November)**: Major temples in the Southern Higashiyama District hold special evening illuminations, enhancing the beauty of the autumn foliage.\n",
            "- **Arashiyama Momiji Festival (November 10)**: Celebrate the autumn leaves with traditional performances and activities.\n",
            "\n",
            "This itinerary should provide a rich and immersive experience in Kyoto, aligning perfectly with your interests! Enjoy your trip!\n"
          ]
        },
        {
          "output_type": "stream",
          "name": "stderr",
          "text": [
            "/usr/local/lib/python3.12/dist-packages/jupyter_client/session.py:151: DeprecationWarning: datetime.datetime.utcnow() is deprecated and scheduled for removal in a future version. Use timezone-aware objects to represent datetimes in UTC: datetime.datetime.now(datetime.UTC).\n",
            "  return datetime.utcnow().replace(tzinfo=utc)\n"
          ]
        }
      ],
      "source": [
        "# Define a complex travel query that requires combining multiple preferences\n",
        "complex_travel_query = \"\"\"\n",
        "Based on my preferences, please provide:\n",
        "1. A list of 3 highly-rated ryokans in Kyoto with vegetarian-friendly options\n",
        "2. 5 must-visit temples and gardens that are within walking distance of each other\n",
        "3. Recommendations for authentic vegetarian Japanese restaurants near these locations\n",
        "4. Information about tea ceremony experiences that align with my interest in tradition\n",
        "5. Any seasonal events or festivals happening in November that would match my interests\n",
        "\"\"\"\n",
        "\n",
        "# Retrieve relevant context from Mem0\n",
        "travel_context = \"\\n\".join(\n",
        "    [f\"- {m['memory']}\" for m in mem0_client.search(query=complex_travel_query, user_id=\"traveler_alex\")]\n",
        ")\n",
        "\n",
        "print(\"Complex travel query:\")\n",
        "print(complex_travel_query)\n",
        "print(\"\\nRelevant user context:\")\n",
        "print(travel_context)\n",
        "\n",
        "# Run the agent with our complex travel query\n",
        "print(\"\\nGenerating personalized travel recommendations...\")\n",
        "complex_response = executor.invoke(\n",
        "    {\n",
        "        \"messages\": [HumanMessage(content=complex_travel_query)],\n",
        "        \"user_context\": travel_context\n",
        "    }\n",
        ")\n",
        "\n",
        "print(\"\\nPersonalized travel recommendations:\")\n",
        "print(complex_response[\"output\"])"
      ]
    },
    {
      "cell_type": "code",
      "execution_count": 19,
      "metadata": {
        "id": "travel_example_results",
        "colab": {
          "base_uri": "https://localhost:8080/"
        },
        "outputId": "d7551170-36e7-4677-be89-05e541362006"
      },
      "outputs": [
        {
          "output_type": "stream",
          "name": "stdout",
          "text": [
            "Found 10 sources for travel recommendations:\n",
            "\n",
            "1. 21 Japanese Ryokan with Vegetarian Kaiseki Options\n",
            "   URL: https://www.erikastravelventures.com/japanese-ryokan-with-vegetarian-options/\n",
            "   Relevance Score: 0.92\n",
            "   Snippet: Rangetsu is a highly-rated Kyoto ryokan with private onsen located in the western part of the city, near Arashiyama bamboo grove. This traditional ryokan has rooms with Japanese futon bedding on tatami mats, as well as traditional Japanese seating areas on _zabuton_ cushions. The private onsen attached to some rooms are located on an outdoor terrace, and is fed from hot springs water from the Arashiyama hot springs. The private onsen overlooks the nearby Katsura River and the bamboo forest, and [...] This Kyoto ryokan with vegetarian meal options is about as traditional as it gets, and is perfect for visitors seeking an authentic Japanese experience in Kyoto!\n",
            "\n",
            "Check the latest rates and availabilityhere.\n",
            "\n",
            "21. Kyoto Nanzenji Ryokan Yachiyo - Vegan and Vegetarian Options\n",
            "\n",
            "Japanese Style Standard Twin Room, Breakfast and Dinner Included– $627 per night for two people, vegan or vegetarian breakfast and dinner included. Breakfast only options can also be reserved. [...] 19. Kyonoyado Gekkoan / Kyoto Ryokan Gekkoan - Vegan and Vegetarian Options\n",
            "\n",
            "Luxury Suite, Breakfast and Dinner Included – $583 USD per night for two people. All meals are ryokan-style, Japanese _kaiseki_ multi-course meals. Both vegan and vegetarian options are available. You can also reserve a room with a breakfast-only option.\n",
            "\n",
            "2. Vegetarian/Vegan Ryokan in Kyoto - Kyoto Forum - Tripadvisor\n",
            "   URL: https://www.tripadvisor.com/ShowTopic-g298564-i2712-k12344635-Vegetarian_Vegan_Ryokan_in_Kyoto-Kyoto_Kyoto_Prefecture_Kinki.html\n",
            "   Relevance Score: 0.88\n",
            "   Snippet: Vegetarian/Vegan Ryokan in Kyoto ; RyokanYuhara. 57 reviews ; Downtown Inn Kyoto. 25 reviews ; Vegan Minshuku Sanbiki Neko. 11 reviews ; Higashiyama\n",
            "\n",
            "3. Kyoto Ryokans | Ryokan Experts, Reviews, Personalized Service\n",
            "   URL: https://www.japaneseguesthouses.com/ryokan-search-results/Kyoto/\n",
            "   Relevance Score: 0.83\n",
            "   Snippet: + Hakone\n",
            "  + Mt. Fuji\n",
            "  + Nikko\n",
            "  + Shuzenji\n",
            "  + Takaragawa Onsen\n",
            "  + Mt Koya\n",
            "  + Nara\n",
            "  + Kyoto\n",
            "  + Miyajima\n",
            "  + Yufuin\n",
            "  + Ainokura\n",
            "  + Top 10 ryokans in Kyoto\n",
            "  + Off the beaten path\n",
            "  + Select and Reserve a Shukubo\n",
            "  + Vegan Friendly Ryokans or Temple\n",
            "  + Best Ryokans with Garden\n",
            "  + Best Weekend Getaways Ideas [...] + Discover Japan\n",
            "  + Friends of JGH\n",
            "  + Trains in Japan\n",
            "  + Sport of Sumo\n",
            "  + Restaurants in Japan\n",
            "  + Hidden Spots\n",
            "  + Japanese Kaiseki\n",
            "  + Refresh in Kibune\n",
            "  + Japanese Carpentry\n",
            "  + Vegan Friendly\n",
            "  + Reserve a Shukubo\n",
            "  + Ryokans with Garden\n",
            " Help\n",
            "\n",
            "  ## Help\n",
            "\n",
            "  + How to use our service\n",
            "  + Prepare for your stay\n",
            "  + FAQ\n",
            " Map\n",
            " Deluxe\n",
            " Rediscover Tours\n",
            "\n",
            "MENU\n",
            "\n",
            "LOGIN\n",
            "\n",
            " Destinations\n",
            " Hot Springs\n",
            " Travel tips\n",
            " FAQ\n",
            " Map\n",
            " Rediscover Tours\n",
            "\n",
            "Ticker news is disabled.\n",
            "\n",
            "## Kyoto [...] #### Looking for something outside of the city? How about a home stay with Fukiko-san in Kameoka?\n",
            "\n",
            "Kyoto is wonderful but you might also enjoy a few days in rural Japan. Your host will show you around her neighborhood and town. In the evening she will prepare home cooked meals grown from her organic garden and you will chat about Japanese culture.\n",
            "\n",
            "MORE INFORMATION\n",
            "\n",
            "### Show map for Kyoto\n",
            "\n",
            "## Hiiragiya Ryokan\n",
            "\n",
            "### Style: Luxurious Ryokan\n",
            "\n",
            "4. 20 Best Vegan and Vegetarian Restaurants in Kyoto\n",
            "   URL: https://www.neverendingvoyage.com/vegetarian-kyoto/\n",
            "   Relevance Score: 0.83\n",
            "   Snippet: All these restaurants and cafes are entirely vegetarian (most are vegan), so you can safely choose anything from the menu.\n",
            "\n",
            "Uzu and Uno Yokiko in the ramen section above are also 100% vegan.\n",
            "\n",
            "### 5) Shigetsu (TOP PICK)\n",
            "\n",
            "Image 15: Shojin ryori in Kyoto at Shigetsu vegetarian restaurant in Tenruji temple in Arashiyama\n",
            "\n",
            "Shigetsu is the best place for traditional vegan food in Kyoto [...] Image 27: Vegan sushi at Little Heaven vegetarian restaurant in Kyoto\n",
            "\n",
            "Vegan sushi at Little Heaven\n",
            "\n",
            "For high-end, creative vegan food in Kyoto, head to Little Heaven. They make a modern version of shojin ryori—there are many courses of beautifully presented, seasonal dishes but some westernised dishes are mixed with the traditional Japanese.\n",
            "\n",
            "We were seated in a private room on a western-style table and chairs overlooking a small garden. [...] It’s worth checking their Instagram (or sometimes Facebook) pages before you visit for any unexpected closures (you may have to use Google Translate). It’s always a good idea to have a backup plan.\n",
            "\n",
            "Note that some restaurants don’t accept credit cards. 7-Eleven is the best place to withdraw cash with international cards for free.\n",
            "\n",
            "Downtown Kyoto and Gion are the best areas to stay to have veggie options nearby. See our guide to where to stay in Kyoto for our recommended hotels and ryokans.\n",
            "\n",
            "5. A Kyoto ryokan for couples | Ryokan Urushitei Sakura\n",
            "   URL: https://www.kyoto-ryokan-sakura.com/archives/251\n",
            "   Relevance Score: 0.80\n",
            "   Snippet: Vegeatarian Vegan breakfast meal in a ryokan in Kyoto\n",
            "\n",
            "Vegeatarian Vegan breakfast meal in a ryokan in Kyoto\n",
            "\n",
            "## TRY TRADITIONAL JAPANESE CULTURE TOGETHER [...] ## A MEAL FOR EVERYONE\n",
            "\n",
            "Are you an experiencing type and want to try the traditional Japanese dinner? Is your boyfriend vegetarian or vegan? Are you both the types who wants to start the morning with bacon and eggs? Do you wish to just start the day with a couple of fruits, a  hot coffee with some sweet bakeries or a piece of cheese with bread? No worries, our meal options cover any taste. Enjoy your choice of meal with your loved one in your traditional Yukata rope. [...] your napping spot in private with your partner.\n",
            "\n",
            "6. 16 Best Kyoto Ryokans With Private Onsens And Baths For Ultimate ...\n",
            "   URL: https://hannahonhorizon.com/best-kyoto-ryokans-with-private-onsen/\n",
            "   Relevance Score: 0.78\n",
            "   Snippet: You can enjoy breakfast cooked from irori, a sunken Japanese-style fireplace with charcoal. The dishes fired from the irori are made from local, seasonal, and healthy ingredients.\n",
            "\n",
            "For dinner, Nazuna Kyoto Nijo-jo offers sukiyaki with toppings like wagyu beef, shiitake mushrooms, tofu, and vegetables. The sukiyaki comes with a glass of sparkling wine to toast and sherbet for dessert.\n",
            "\n",
            "You are minutes away from Nijo Castle, Kyoto International Manga Museum, and Kyoto Imperial Palace. [...] There is breakfast available as room service for 1,800 yen with, vegetarian options. And just around the corner, you can walk to the Kyoto Beer Lab for a refreshing pint.\n",
            "\n",
            "The ryokan overlooks the picturesque Takase River, where the trees have stunning fall foliage. It’s also a few minutes away from the Kamo River, where you can cross the Shichijo Bridge and head to the Shichijo Station to take the train. [...] Ohara snows in the winter, making it cozy and magical when dipping in the onsens.\n",
            "\n",
            "In Seryo, you can enjoy different food options, like kaiseki meal (traditional Japanese multicourse dinner), shabu-shabu (Japanese hot pot), botan nabe (wild boar meat hot pot), and a healthy breakfast with boiled tofu and seasonal vegetables.\n",
            "\n",
            "Seryo\n",
            "\n",
            "⭐️ Rating: 9.3 stars | 📍 Location: Ohara | 🏩 Check prices and availability!\n",
            "\n",
            "7. The 10 Best Vegetarian Restaurants in Kyoto (Updated 2025)\n",
            "   URL: https://www.tripadvisor.com/Restaurants-g298564-zfz10665-Kyoto_Kyoto_Prefecture_Kinki.html\n",
            "   Relevance Score: 0.76\n",
            "   Snippet: The dumpling shell isn't too thick so it allows you to enjoy the filling...Beat gyoza ever!\n",
            "\n",
            " Image 30  Image 31  Image 32\n",
            "\n",
            "10. Sugarhill Kyoto\n",
            "\n",
            "4.7\n",
            "\n",
            "(693 reviews)\n",
            "\n",
            "Japanese, International$$ - $$$\n",
            "\n",
            "Closed now\n",
            "\n",
            "True Vegetarian friendly in Japan Great food and amazing service Everything we...Delicious!\n",
            "\n",
            " Image 33  Image 34  Image 35\n",
            "\n",
            "11. TEPPAN TAVERN TENAMONYA\n",
            "\n",
            "4.8\n",
            "\n",
            "(741 reviews)\n",
            "\n",
            "Japanese, Steakhouse$$ - $$$\n",
            "\n",
            "Closed now\n",
            "\n",
            "Menu [...] It is a cafe in front of the main gate of Daitoku-ji, which is famous for Zen...FANTASTIC SMALL CAFE NEXT TO TEMPLE\n",
            "\n",
            " Hotels in KyotoHotels Resol in KyotoOYO Hotels in KyotoWyndham Hotels in KyotoHotels Via Inns in KyotoOkura Hotels & Resorts in KyotoMarriott Hotels in KyotoAccor Hotels in KyotoHyatt Hotels in KyotoHotels Wing International in KyotoMitsui Garden Hotels in KyotoComfort Hotels in Kyoto\n",
            "\n",
            "Popular Amenities [...] I can’t remember the last time I had a curry this good! The food is incredible...Best Indian food I’ve had in a long time\n",
            "\n",
            " Image 9  Image 10  Image 11\n",
            "\n",
            "3. Yasakadori Enraku\n",
            "\n",
            "4.8\n",
            "\n",
            "(459 reviews)\n",
            "\n",
            "Japanese, Kappo$$ - $$$\n",
            "\n",
            "Closed now\n",
            "\n",
            "Menu\n",
            "\n",
            "I really enjoyed our night with Maiko, I think we learnt a lot about her and...Amazing Maiko Experience\n",
            "\n",
            " Image 12  Image 13  Image 14\n",
            "\n",
            "4. Goichi Pizza\n",
            "\n",
            "4.7\n",
            "\n",
            "(592 reviews)\n",
            "\n",
            "Italian, Pizza$$ - $$$\n",
            "\n",
            "Closed now\n",
            "\n",
            "8. A Night at Tawaraya – Japan's Finest Ryokan - Inside Kyoto\n",
            "   URL: https://www.insidekyoto.com/a-night-at-tawaraya-japans-finest-ryokan\n",
            "   Relevance Score: 0.74\n",
            "   Snippet: Best Shojin Ryori (Japanese Buddhist vegetarian cuisine)\n",
            "   Best Shokudo (All Round Restaurants) in Kyoto\n",
            "   Best Soba and Udon in Kyoto\n",
            "   Best Sukiyaki in Kyoto\n",
            "   Best Tempura in Kyoto\n",
            "   Best Tofu Cuisine In Kyoto\n",
            "   Best Tonkatsu in Kyoto\n",
            "   Best Unagi in Kyoto\n",
            "   Best Vegan and Vegetarian in Kyoto\n",
            "   Best Yakitori in Kyoto [...] ebi-imo hakata (steamed shrimp-shaped potato)\n",
            "   shrimp and with green soybean paste\n",
            "   sweet potato cracker, pine needle-shaped burdock leaves, carrot leaves\n",
            "\n",
            "Image 42: Saki-zuke\n",
            "\n",
            "Saki-zuke – image © Chris Rowthorn\n",
            "\n",
            "Ko-suimono (small soup course)\n",
            "\n",
            "   pureed soup of lotus root\n",
            "   fried tofu, roasted pine nuts\n",
            "\n",
            "Image 44: Ko-suimono\n",
            "\n",
            "Ko-suimono – image © Chris Rowthorn\n",
            "\n",
            "Muko-zuke (sashimi course)\n",
            "\n",
            "   kue (longtooth grouper) sashimi\n",
            "   fugu (puffer fish) sashimi\n",
            "\n",
            "Image 46: Muko-zuke [...] Muko-zuke – image © Chris Rowthorn\n",
            "\n",
            "Mushi-mono (steamed food course)\n",
            "\n",
            "   pike conger eel, clams, yuba, shimeji mushroom, mitsuba (Japanese parsley) steam-boiled in an earthenware teapot\n",
            "   sudachi (Japanese citrus fruit)\n",
            "\n",
            "Image 48: Mushi-mono\n",
            "\n",
            "Mushi-mono – image © Chris Rowthorn\n",
            "\n",
            "Yaki-mono (grilled fish course)\n",
            "\n",
            "   ayu (sweetfish) kenchin-yaki\n",
            "   nameko mushroom with daikon dressing\n",
            "   broiled conger eel sushi, citrus grilled shrimp\n",
            "   roasted chestnuts, salt-roasted ginkgo nuts, gingerroot\n",
            "\n",
            "9. Best Ryokan Near Kyoto 2025\n",
            "   URL: https://www.insidekyoto.com/best-ryokan-near-kyoto\n",
            "   Relevance Score: 0.70\n",
            "   Snippet: Best Shojin Ryori (Japanese Buddhist vegetarian cuisine)\n",
            "   Best Shokudo (All Round Restaurants) in Kyoto\n",
            "   Best Soba and Udon in Kyoto\n",
            "   Best Sukiyaki in Kyoto\n",
            "   Best Tempura in Kyoto\n",
            "   Best Tofu Cuisine In Kyoto\n",
            "   Best Tonkatsu in Kyoto\n",
            "   Best Unagi in Kyoto\n",
            "   Best Vegan and Vegetarian in Kyoto\n",
            "   Best Yakitori in Kyoto [...] Tawaraya (Read guest reviews of Tawaraya on TripAdvisor.com)\n",
            "   Hiiragiya Ryokan (Read guest reviews of Hiiragiya on TripAdvisor.com)\n",
            "   Ugenta (Read guest reviews of Ugenta on TripAdvisor.com)\n",
            "   Hoshinoya (Read guest reviews of Hoshinoya on TripAdvisor.com)\n",
            "   Seikoro (check availability on Booking.com and Agoda.com)\n",
            "   Yoshida Sanso (check availability on Booking.com and Agoda.com)\n",
            "   Garden Ryokan Yachiyo (check availability on Booking.com and Agoda.com)\n",
            "\n",
            "Popular Kyoto Ryokan [...] ### Momijiya Bekkan Kawa No Iori (Takao, Kyoto Prefecture)\n",
            "\n",
            "(View on Agoda.com)\n",
            "\n",
            "10. Ryokan with vegetarian options? : r/JapanTravelTips - Reddit\n",
            "   URL: https://www.reddit.com/r/JapanTravelTips/comments/1c2hbix/ryokan_with_vegetarian_options/\n",
            "   Relevance Score: 0.69\n",
            "   Snippet: Looking to see if anyone has experience going to a ryokan in the Hakone or Kyoto area that has options for vegetarians or with religious dietary restrictions.\n",
            "\n"
          ]
        }
      ],
      "source": [
        "# Examine the raw search results that informed our travel recommendations\n",
        "travel_results = complex_response[\"intermediate_steps\"][0][1][\"results\"]\n",
        "\n",
        "print(f\"Found {len(travel_results)} sources for travel recommendations:\\n\")\n",
        "\n",
        "# Print each result's title and content\n",
        "for i, r in enumerate(travel_results, 1):\n",
        "    print(f\"{i}. {r['title']}\")\n",
        "    print(f\"   URL: {r['url']}\")\n",
        "    print(f\"   Relevance Score: {r['score']:.2f}\")\n",
        "    print(f\"   Snippet: {r['content']}\\n\")"
      ]
    },
    {
      "cell_type": "markdown",
      "metadata": {
        "id": "conclusion"
      },
      "source": [
        "## Conclusion\n",
        "\n",
        "This notebook demonstrated how to build a powerful personalized search assistant by combining:\n",
        "\n",
        "1. **Mem0** for persistent user context storage and retrieval\n",
        "2. **Tavily** for high-quality, LLM-optimized web search\n",
        "3. **LangChain** for orchestrating the AI agent workflow\n",
        "\n",
        "Key takeaways:\n",
        "- User context significantly improves the relevance of search results\n",
        "- The system can handle both simple queries and complex, multi-faceted requests\n",
        "- Personalization works best when detailed user preferences are stored\n",
        "- The agent can synthesize information from multiple sources into coherent responses\n",
        "\n",
        "Possible extensions:\n",
        "- Adding more memory types (preferences, past interactions, feedback)\n",
        "- Integrating more tools (maps, booking APIs, weather services)\n",
        "- Implementing feedback loops to improve personalization over time\n",
        "- Adding support for multiple users with different preference profiles"
      ]
    }
  ],
  "metadata": {
    "colab": {
      "provenance": []
    },
    "kernelspec": {
      "display_name": "Python 3",
      "name": "python3"
    },
    "language_info": {
      "name": "python"
    }
  },
  "nbformat": 4,
  "nbformat_minor": 0
}