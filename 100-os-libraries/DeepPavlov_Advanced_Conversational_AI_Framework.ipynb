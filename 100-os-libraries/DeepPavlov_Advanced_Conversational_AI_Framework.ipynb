{
  "cells": [
    {
      "cell_type": "markdown",
      "metadata": {
        "id": "7YknnsmBgefW"
      },
      "source": [
        "<img src=\"https://drive.google.com/uc?export=view&id=1wYSMgJtARFdvTt5g7E20mE4NmwUFUuog\" width=\"200\">\n",
        "\n",
        "[![Build Fast with AI](https://img.shields.io/badge/BuildFastWithAI-GenAI%20Bootcamp-blue?style=for-the-badge&logo=artificial-intelligence)](https://www.buildfastwithai.com/genai-course)\n",
        "[![EduChain GitHub](https://img.shields.io/github/stars/satvik314/educhain?style=for-the-badge&logo=github&color=gold)](https://github.com/satvik314/educhain)\n",
        "\n",
        "[![Open In Colab](https://colab.research.google.com/assets/colab-badge.svg)](https://colab.research.google.com/drive/1FzM3XWdIiBOS88zz-_RXWGcj04UV_Epn?usp=sharing)\n",
        "## Master Generative AI in 6 Weeks\n",
        "**What You'll Learn:**\n",
        "- Build with Latest LLMs\n",
        "- Create Custom AI Apps\n",
        "- Learn from Industry Experts\n",
        "- Join Innovation Community\n",
        "Transform your AI ideas into reality through hands-on projects and expert mentorship.\n",
        "[Start Your Journey](https://www.buildfastwithai.com/genai-course)\n",
        "*Empowering the Next Generation of AI Innovators"
      ]
    },
    {
      "cell_type": "markdown",
      "metadata": {
        "id": "8r4N8oY4hncT"
      },
      "source": [
        "## 🌟 DeepPavlov: Advanced Conversational AI Framework\n",
        "\n",
        "DeepPavlov is an open-source framework designed for developing production-ready chatbots and complex conversational systems. 🚀  \n",
        "It offers a comprehensive suite of tools for building and deploying conversational AI applications.\n",
        "\n",
        "✨ **Key Features**:\n",
        "- **Modular Design**: DeepPavlov provides a modular architecture, allowing developers to customize and extend components to suit specific requirements.\n",
        "- **Pre-trained Models**: Includes a variety of pre-trained models for tasks such as classification, named entity recognition (NER), question answering, and more.\n",
        "- **Integration Capabilities**: Supports integration with various platforms and services, facilitating the deployment of conversational agents across different environments.\n",
        "- **Scalability**: Designed to handle complex conversational systems, ensuring scalability to meet the demands of advanced AI applications.\n"
      ]
    },
    {
      "cell_type": "markdown",
      "metadata": {
        "id": "8KBX6KuDiBlP"
      },
      "source": [
        "###**Setup and Installation**"
      ]
    },
    {
      "cell_type": "code",
      "execution_count": null,
      "metadata": {
        "id": "qX0qtGwP5VEM"
      },
      "outputs": [],
      "source": [
        "pip install deeppavlov"
      ]
    },
    {
      "cell_type": "markdown",
      "metadata": {
        "id": "1u9QqhQGikb3"
      },
      "source": [
        "###**Open-Domain Question Answering**"
      ]
    },
    {
      "cell_type": "code",
      "execution_count": null,
      "metadata": {
        "id": "ncCSC1If5sdJ"
      },
      "outputs": [],
      "source": [
        "from deeppavlov import build_model\n",
        "from deeppavlov import configs\n",
        "\n",
        "import nltk\n",
        "nltk.download('punkt_tab')\n",
        "\n",
        "model = build_model('en_odqa_infer_wiki', download=True, install=True)\n",
        "questions = [\"What is the name of Darth Vader's son?\", 'Who was the first president of France?']\n",
        "answer, answer_score, answer_place = model(questions)\n",
        "print(answer)"
      ]
    },
    {
      "cell_type": "code",
      "execution_count": null,
      "metadata": {
        "colab": {
          "base_uri": "https://localhost:8080/"
        },
        "id": "lbC9c1byGcJo",
        "outputId": "7fc4f539-eb30-4229-9603-b50faddd6ffa"
      },
      "outputs": [
        {
          "name": "stdout",
          "output_type": "stream",
          "text": [
            "['Luke Skywalker', 'Louis-Napoleon Bonaparte']\n"
          ]
        }
      ],
      "source": [
        "print(answer)"
      ]
    },
    {
      "cell_type": "markdown",
      "metadata": {
        "id": "Y-wpGYETipsC"
      },
      "source": [
        "###**Knowledge Base Question Answering**"
      ]
    },
    {
      "cell_type": "code",
      "execution_count": null,
      "metadata": {
        "id": "S75UsHtd5zxX"
      },
      "outputs": [],
      "source": [
        "from deeppavlov import build_model\n",
        "\n",
        "model = build_model('kbqa_cq_en', download=True, install=True)\n",
        "questions = ['What is the currency of Sweden?', 'When did the Korean War end?']\n",
        "answers, answer_ids, query = model(questions)"
      ]
    },
    {
      "cell_type": "code",
      "execution_count": null,
      "metadata": {
        "colab": {
          "base_uri": "https://localhost:8080/"
        },
        "id": "X9gXa9l_GZlB",
        "outputId": "b666bb46-804a-49b7-8cbe-2c250158c9a8"
      },
      "outputs": [
        {
          "name": "stdout",
          "output_type": "stream",
          "text": [
            "['Swedish krona', '27 July 1953']\n"
          ]
        }
      ],
      "source": [
        "print(answers)"
      ]
    },
    {
      "cell_type": "markdown",
      "metadata": {
        "id": "ww8weDVzi0QL"
      },
      "source": [
        "###**Classification (insult and paraphrase detection, sentiment analysis, topic classification)**"
      ]
    },
    {
      "cell_type": "code",
      "execution_count": null,
      "metadata": {
        "id": "VVPQeKJa53re"
      },
      "outputs": [],
      "source": [
        "from deeppavlov import build_model\n",
        "\n",
        "model = build_model('insults_kaggle_bert', download=True, install=True)\n",
        "phrases = ['You are kind of stupid', 'You are a wonderful person!']\n",
        "labels = model(phrases)\n",
        "print(labels)"
      ]
    },
    {
      "cell_type": "code",
      "execution_count": null,
      "metadata": {
        "colab": {
          "base_uri": "https://localhost:8080/"
        },
        "id": "-eogNDWIFP_P",
        "outputId": "e916362e-ccc2-442b-97d9-92e372907460"
      },
      "outputs": [
        {
          "name": "stdout",
          "output_type": "stream",
          "text": [
            "['Insult', 'Not Insult']\n"
          ]
        }
      ],
      "source": [
        "print(labels)"
      ]
    },
    {
      "cell_type": "markdown",
      "metadata": {
        "id": "ZP326MI_gWTx"
      },
      "source": [
        "###**Spelling Correction**\n"
      ]
    },
    {
      "cell_type": "code",
      "execution_count": null,
      "metadata": {
        "id": "5dKSzg0Q56qV"
      },
      "outputs": [],
      "source": [
        "from deeppavlov import build_model\n",
        "\n",
        "model = build_model('brillmoore_wikitypos_en', download=True, install=True)\n",
        "phrases_w_typos = ['I think this is the begining of a beautifull frendship.', \"I'll be bak\"]\n",
        "correct_phrases = model(phrases_w_typos)\n",
        "print(correct_phrases)\n"
      ]
    },
    {
      "cell_type": "code",
      "execution_count": null,
      "metadata": {
        "colab": {
          "base_uri": "https://localhost:8080/"
        },
        "id": "D88lCseHH7zR",
        "outputId": "50158234-9bef-4541-c6da-6be2c3468117"
      },
      "outputs": [
        {
          "name": "stdout",
          "output_type": "stream",
          "text": [
            "['i think this is the beginning of a beautiful friendship.', \"i'll be back\"]\n"
          ]
        }
      ],
      "source": [
        "print(correct_phrases)"
      ]
    },
    {
      "cell_type": "markdown",
      "metadata": {
        "id": "MLfCdGpvifGP"
      },
      "source": [
        "###**Text Question Answering**\n"
      ]
    },
    {
      "cell_type": "code",
      "execution_count": null,
      "metadata": {
        "colab": {
          "base_uri": "https://localhost:8080/"
        },
        "id": "Bxzg_IT15T_8",
        "outputId": "e85a37e2-0f4d-4e5c-e16b-80c16bf7b673"
      },
      "outputs": [
        {
          "name": "stderr",
          "output_type": "stream",
          "text": [
            "2025-01-20 18:29:38.772 INFO in 'deeppavlov.download'['download'] at line 138: Skipped http://files.deeppavlov.ai/v1/squad/squad_torch_bert_cased.tar.gz download because of matching hashes\n",
            "INFO:deeppavlov.download:Skipped http://files.deeppavlov.ai/v1/squad/squad_torch_bert_cased.tar.gz download because of matching hashes\n",
            "Some weights of the model checkpoint at bert-base-cased were not used when initializing BertForQuestionAnswering: ['cls.predictions.bias', 'cls.predictions.transform.dense.weight', 'cls.predictions.transform.dense.bias', 'cls.seq_relationship.weight', 'cls.seq_relationship.bias', 'cls.predictions.transform.LayerNorm.weight', 'cls.predictions.transform.LayerNorm.bias']\n",
            "- This IS expected if you are initializing BertForQuestionAnswering from the checkpoint of a model trained on another task or with another architecture (e.g. initializing a BertForSequenceClassification model from a BertForPreTraining model).\n",
            "- This IS NOT expected if you are initializing BertForQuestionAnswering from the checkpoint of a model that you expect to be exactly identical (initializing a BertForSequenceClassification model from a BertForSequenceClassification model).\n",
            "Some weights of BertForQuestionAnswering were not initialized from the model checkpoint at bert-base-cased and are newly initialized: ['qa_outputs.bias', 'qa_outputs.weight']\n",
            "You should probably TRAIN this model on a down-stream task to be able to use it for predictions and inference.\n"
          ]
        },
        {
          "name": "stdout",
          "output_type": "stream",
          "text": [
            "['a library for NLP and dialog systems', 'All work and no play']\n"
          ]
        }
      ],
      "source": [
        "from deeppavlov import build_model\n",
        "\n",
        "model = build_model('squad_bert', download=True, install=True)\n",
        "contexts = ['DeepPavlov is a library for NLP and dialog systems.', 'All work and no play makes Jack a dull boy']\n",
        "questions = ['What is DeepPavlov?', 'What makes Jack a dull boy?']\n",
        "answer, answers_start_idx, score = model(contexts, questions)\n",
        "print(answer)"
      ]
    },
    {
      "cell_type": "markdown",
      "metadata": {
        "id": "XLD5DXlYj8om"
      },
      "source": [
        "###**Entity Extraction**"
      ]
    },
    {
      "cell_type": "code",
      "execution_count": null,
      "metadata": {
        "id": "3cbRHdiyj4Os"
      },
      "outputs": [],
      "source": [
        "import nltk\n",
        "nltk.download('punkt_tab')\n",
        "\n",
        "from deeppavlov import build_model\n",
        "\n",
        "model = build_model('entity_extraction_en', download=True, install=True)\n",
        "phrases = ['Forrest Gump is a comedy-drama film directed by Robert Zemeckis and written by Eric Roth.']\n",
        "entity_substr, tags, entity_offsets, entity_ids, entity_conf, entity_pages, entity_labels = model(phrases)\n"
      ]
    },
    {
      "cell_type": "code",
      "source": [
        "print(entity_substr, tags, entity_ids, entity_labels, sep='\\n')\n"
      ],
      "metadata": {
        "colab": {
          "base_uri": "https://localhost:8080/"
        },
        "id": "P7_WrnYAqRk7",
        "outputId": "594845bd-97d8-45c5-fe14-3fdc6393cf7a"
      },
      "execution_count": null,
      "outputs": [
        {
          "output_type": "stream",
          "name": "stdout",
          "text": [
            "[['forrest gump', 'robert zemeckis', 'eric roth']]\n",
            "[['WORK_OF_ART', 'PERSON', 'PERSON']]\n",
            "[[['Q134773', 'Q552213', 'Q12016774'], ['Q187364', 'Q36951156'], ['Q942932', 'Q89320386', 'Q89909683']]]\n",
            "[[['Forrest Gump', 'Forrest Gump', 'Forrest Gump'], ['Robert Zemeckis', 'Welcome to Marwen'], ['Eric Roth', 'Eric Roth', 'Eric W Roth']]]\n"
          ]
        }
      ]
    },
    {
      "cell_type": "markdown",
      "source": [
        "###**Name Entity Recognition**"
      ],
      "metadata": {
        "id": "S5Niv1HwqxBM"
      }
    },
    {
      "cell_type": "code",
      "source": [
        "from deeppavlov import build_model\n",
        "\n",
        "model = build_model('ner_ontonotes_bert', download=True, install=True)\n",
        "phrases = ['Bob Ross lived in Florida', 'Elon Musk founded Tesla']\n",
        "tokens, tags = model(phrases)\n"
      ],
      "metadata": {
        "id": "-yadXS6Bqj9R"
      },
      "execution_count": null,
      "outputs": []
    },
    {
      "cell_type": "code",
      "source": [
        "print(tokens, tags, sep='\\n')"
      ],
      "metadata": {
        "colab": {
          "base_uri": "https://localhost:8080/"
        },
        "id": "ovKd9h-Wq0Zy",
        "outputId": "e553aac9-51f0-4662-b184-0babce8b2860"
      },
      "execution_count": null,
      "outputs": [
        {
          "output_type": "stream",
          "name": "stdout",
          "text": [
            "[['Bob', 'Ross', 'lived', 'in', 'Florida'], ['Elon', 'Musk', 'founded', 'Tesla']]\n",
            "[['B-PERSON', 'I-PERSON', 'O', 'O', 'B-GPE'], ['B-PERSON', 'I-PERSON', 'O', 'B-ORG']]\n"
          ]
        }
      ]
    }
  ],
  "metadata": {
    "accelerator": "GPU",
    "colab": {
      "gpuType": "T4",
      "provenance": []
    },
    "kernelspec": {
      "display_name": "Python 3",
      "name": "python3"
    },
    "language_info": {
      "name": "python"
    }
  },
  "nbformat": 4,
  "nbformat_minor": 0
}