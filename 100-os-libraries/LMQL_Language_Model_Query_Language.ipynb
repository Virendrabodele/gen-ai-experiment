{
  "nbformat": 4,
  "nbformat_minor": 0,
  "metadata": {
    "colab": {
      "provenance": []
    },
    "kernelspec": {
      "name": "python3",
      "display_name": "Python 3"
    },
    "language_info": {
      "name": "python"
    }
  },
  "cells": [
    {
      "cell_type": "markdown",
      "source": [
        "<img src=\"https://drive.google.com/uc?export=view&id=1wYSMgJtARFdvTt5g7E20mE4NmwUFUuog\" width=\"200\">\n",
        "\n",
        "[![Build Fast with AI](https://img.shields.io/badge/BuildFastWithAI-GenAI%20Bootcamp-blue?style=for-the-badge&logo=artificial-intelligence)](https://www.buildfastwithai.com/genai-course)\n",
        "[![EduChain GitHub](https://img.shields.io/github/stars/satvik314/educhain?style=for-the-badge&logo=github&color=gold)](https://github.com/satvik314/educhain)\n",
        "\n",
        "[![Open In Colab](https://colab.research.google.com/assets/colab-badge.svg)](https://colab.research.google.com/drive/1fLSLh6CacRY_fTW_Xuf4LVXYIyaiHM9O?usp=sharing)\n",
        "## Master Generative AI in 6 Weeks\n",
        "**What You'll Learn:**\n",
        "- Build with Latest LLMs\n",
        "- Create Custom AI Apps\n",
        "- Learn from Industry Experts\n",
        "- Join Innovation Community\n",
        "Transform your AI ideas into reality through hands-on projects and expert mentorship.\n",
        "[Start Your Journey](https://www.buildfastwithai.com/genai-course)\n",
        "*Empowering the Next Generation of AI Innovators"
      ],
      "metadata": {
        "id": "03qVUnHAe_gb"
      }
    },
    {
      "cell_type": "markdown",
      "source": [
        "# 🚀 LMQL: Language Model Query Language  \n",
        "\n",
        "LMQL is an open-source programming language that seamlessly integrates **Large Language Models (LLMs)** into Python. It enables developers to combine traditional programming with LLM interactions for efficient AI applications.  \n",
        "\n",
        "## 🔥 Features  \n",
        "- 🐍 **Python-Based** – Extends Python syntax for seamless integration  \n",
        "- 🎯 **Rich Control Flow** – Supports Python logic within LLM queries  \n",
        "- ⚡ **Optimized Execution** – Uses speculative execution & caching  \n",
        "- 🎭 **Advanced Decoding** – Supports beam search & best-k sampling  \n",
        "- 🔐 **Constraint Handling** – Enforces token limits, logit masking, & structured output  \n",
        "- 🚀 **Async API** – Enables parallel query execution  \n",
        "- 🤖 **Multi-Model Support** – Works with OpenAI API, Azure, and Hugging Face models  \n",
        "- 🛠️ **Library Integration** – Compatible with LangChain, LlamaIndex, and more  \n"
      ],
      "metadata": {
        "id": "aAKCAKo7e_Vn"
      }
    },
    {
      "cell_type": "markdown",
      "source": [
        "### 📦 **Dependency Installation**  \n",
        "\n",
        "\n",
        "\n",
        "\n",
        "\n",
        "\n"
      ],
      "metadata": {
        "id": "r_4Ble8Xe_L-"
      }
    },
    {
      "cell_type": "code",
      "source": [
        "pip install lmql"
      ],
      "metadata": {
        "id": "n1TZbMgtVi7D"
      },
      "execution_count": null,
      "outputs": []
    },
    {
      "cell_type": "code",
      "source": [
        "pip install -U langchain-community"
      ],
      "metadata": {
        "id": "p0P7Pp_4cxit"
      },
      "execution_count": null,
      "outputs": []
    },
    {
      "cell_type": "markdown",
      "source": [
        "### 🔑 **Setup API Key**\n",
        "\n",
        "\n",
        "\n",
        "\n",
        "\n",
        "\n"
      ],
      "metadata": {
        "id": "qzISEXyeyKt4"
      }
    },
    {
      "cell_type": "code",
      "source": [
        "from google.colab import userdata\n",
        "import os\n",
        "\n",
        "os.environ['OPENAI_API_KEY']=userdata.get('OPENAI_API_KEY')"
      ],
      "metadata": {
        "id": "V6FiAq94ULaA"
      },
      "execution_count": null,
      "outputs": []
    },
    {
      "cell_type": "markdown",
      "source": [
        "### 🚀 **Text Generation**  \n",
        "\n",
        "\n",
        "\n",
        "\n",
        "\n",
        "\n"
      ],
      "metadata": {
        "id": "_frSIJ2Uagg7"
      }
    },
    {
      "cell_type": "code",
      "source": [
        "import lmql\n",
        "import os\n",
        "\n",
        "m: lmql.LLM = lmql.model(\"openai/gpt-3.5-turbo\")\n",
        "print(m.generate_sync(\"Hello\", max_tokens=10))"
      ],
      "metadata": {
        "colab": {
          "base_uri": "https://localhost:8080/"
        },
        "id": "lt-jv_uQYeNp",
        "outputId": "a02712d8-e478-42e9-9ed1-9ed144511af3"
      },
      "execution_count": null,
      "outputs": [
        {
          "output_type": "stream",
          "name": "stdout",
          "text": [
            " Hello! How can I assist you today?\n"
          ]
        }
      ]
    },
    {
      "cell_type": "markdown",
      "source": [
        "### 🔄 **Streaming**  \n",
        "\n",
        "\n",
        "\n",
        "\n",
        "\n",
        "\n"
      ],
      "metadata": {
        "id": "LuJW7814ahrX"
      }
    },
    {
      "cell_type": "code",
      "source": [
        "await lmql.run(\"'{:user} Hello\\\\n {:assistant}[RESPONSE]'\",\n",
        "               model=\"chatgpt\",\n",
        "               output_writer=lmql.stream(\"RESPONSE\"))"
      ],
      "metadata": {
        "colab": {
          "base_uri": "https://localhost:8080/"
        },
        "id": "DfpxZr_LajeO",
        "outputId": "cc56a831-b9f5-4cb0-8486-91043fb981ae"
      },
      "execution_count": null,
      "outputs": [
        {
          "output_type": "stream",
          "name": "stdout",
          "text": [
            "Hello! How can I assist you today?"
          ]
        },
        {
          "output_type": "execute_result",
          "data": {
            "text/plain": [
              "LMQLResult(prompt='<lmql:user/> Hello\\n <lmql:assistant/> Hello! How can I assist you today?', variables={'RESPONSE': ' Hello! How can I assist you today?'}, distribution_variable=None, distribution_values=None)"
            ]
          },
          "metadata": {},
          "execution_count": 27
        }
      ]
    },
    {
      "cell_type": "markdown",
      "source": [
        "### ❓ **LMQL Query**  \n",
        "\n",
        "\n",
        "\n",
        "\n",
        "\n",
        "\n"
      ],
      "metadata": {
        "id": "wj_aoL1CzPxX"
      }
    },
    {
      "cell_type": "code",
      "source": [
        "@lmql.query\n",
        "def chain_of_thought(question):\n",
        "    '''lmql\n",
        "    # Q&A prompt template\n",
        "    \"Q: {question}\\n\"\n",
        "    \"A: Let's think step by step.\\n\"\n",
        "    \"[REASONING]\"\n",
        "    \"Thus, the answer is:[ANSWER].\"\n",
        "\n",
        "    # return just the ANSWER to the caller\n",
        "    return ANSWER\n",
        "    '''\n",
        "\n",
        "print(chain_of_thought('Today is the 12th of June, what day was it 1 week ago?'))"
      ],
      "metadata": {
        "colab": {
          "base_uri": "https://localhost:8080/"
        },
        "id": "pRDIJRUQae-z",
        "outputId": "bfb689ef-73bc-4a10-f1c8-78088fdb5b8e"
      },
      "execution_count": null,
      "outputs": [
        {
          "output_type": "stream",
          "name": "stdout",
          "text": [
            " 5th of June.\n"
          ]
        }
      ]
    },
    {
      "cell_type": "markdown",
      "source": [
        "### 📥 **Variable Capturing**  \n",
        "\n",
        "\n",
        "\n",
        "\n",
        "\n",
        "\n"
      ],
      "metadata": {
        "id": "eEpc4EvpbxPt"
      }
    },
    {
      "cell_type": "code",
      "source": [
        "import re\n",
        "\n",
        "a = 12\n",
        "\n",
        "@lmql.query\n",
        "def query():\n",
        "    '''lmql\n",
        "    # access 'a' from the global namespace\n",
        "    \"Tell me a fun fact about {a}: [FACT]\"\n",
        "    # use imported 're' module\n",
        "    return re.sub(r'\\d+', '[NUMBER]', FACT)\n",
        "    '''\n",
        "\n",
        "print(query())"
      ],
      "metadata": {
        "colab": {
          "base_uri": "https://localhost:8080/"
        },
        "id": "oe8KIzAsa_Fu",
        "outputId": "c2a936c2-7712-4c8b-8ab7-5623205798a3"
      },
      "execution_count": null,
      "outputs": [
        {
          "output_type": "stream",
          "name": "stdout",
          "text": [
            "\n",
            "\n",
            "[NUMBER] is the smallest number with exactly six divisors ([NUMBER], [NUMBER], [NUMBER], [NUMBER], [NUMBER], [NUMBER]).\n"
          ]
        }
      ]
    },
    {
      "cell_type": "markdown",
      "source": [
        "### 🚀 **LMQL Run**  "
      ],
      "metadata": {
        "id": "wNYTRW9xzvGJ"
      }
    },
    {
      "cell_type": "code",
      "source": [
        "query_string = \"\"\"\n",
        "    \"Q: {question}\\\\n\"\n",
        "    \"A: Let's think step by step.\\\\n\"\n",
        "    \"[ANSWER]\"\n",
        "\"\"\"\n",
        "\n",
        "await lmql.run(query_string, question=\"What is 2x3?\")\n"
      ],
      "metadata": {
        "colab": {
          "base_uri": "https://localhost:8080/"
        },
        "id": "QpDpTna1b1z8",
        "outputId": "20c1ae52-e3cd-49ea-d98b-111fc4ab60a7"
      },
      "execution_count": null,
      "outputs": [
        {
          "output_type": "execute_result",
          "data": {
            "text/plain": [
              "LMQLResult(prompt=\"Q: What is 2x3?\\nA: Let's think step by step.\\n2x3 can be written as 2+2+2 or 3+3.\\nSo, 2x3 is equal to 6.\", variables={'ANSWER': '2x3 can be written as 2+2+2 or 3+3.\\nSo, 2x3 is equal to 6.'}, distribution_variable=None, distribution_values=None)"
            ]
          },
          "metadata": {},
          "execution_count": 30
        }
      ]
    },
    {
      "cell_type": "markdown",
      "source": [
        "### 🔄 **Query with Return Statement**  "
      ],
      "metadata": {
        "id": "sQVThS23cLzk"
      }
    },
    {
      "cell_type": "code",
      "source": [
        "number = lmql.F(\"A random number: [JOKE: int]\")\n",
        "\n",
        "number(decoder=\"sample\", n=2)\n"
      ],
      "metadata": {
        "colab": {
          "base_uri": "https://localhost:8080/"
        },
        "id": "eLvL-Tmabvgt",
        "outputId": "c1be3165-8d8e-488b-c1eb-9b92476d96f0"
      },
      "execution_count": null,
      "outputs": [
        {
          "output_type": "execute_result",
          "data": {
            "text/plain": [
              "[10, 3939]"
            ]
          },
          "metadata": {},
          "execution_count": 33
        }
      ]
    },
    {
      "cell_type": "markdown",
      "source": [
        "### 🔄 **Query without Return Statement**  "
      ],
      "metadata": {
        "id": "qklJnEVncf6P"
      }
    },
    {
      "cell_type": "code",
      "source": [
        "joke = lmql.query(\"\"\"\n",
        "    \"Q: Tell me a joke about plants\\\\n\"\n",
        "    \"A: [JOKE]\"\n",
        "\"\"\", is_async=False)\n",
        "\n",
        "joke()\n"
      ],
      "metadata": {
        "colab": {
          "base_uri": "https://localhost:8080/"
        },
        "id": "wK1TD-G0b5x3",
        "outputId": "d0f9fa12-9fcf-4a85-8ca0-5d1ea357de26"
      },
      "execution_count": null,
      "outputs": [
        {
          "output_type": "execute_result",
          "data": {
            "text/plain": [
              "LMQLResult(prompt='Q: Tell me a joke about plants\\nA: Why did the tomato turn red?\\n\\nBecause it saw the salad dressing!', variables={'JOKE': 'Why did the tomato turn red?\\n\\nBecause it saw the salad dressing!'}, distribution_variable=None, distribution_values=None)"
            ]
          },
          "metadata": {},
          "execution_count": 36
        }
      ]
    },
    {
      "cell_type": "markdown",
      "source": [
        "##**Using LMQL from LangChain**\n"
      ],
      "metadata": {
        "id": "wDXAEDL10PN0"
      }
    },
    {
      "cell_type": "code",
      "source": [
        "from langchain import LLMChain, PromptTemplate\n",
        "from langchain.chat_models import ChatOpenAI\n",
        "from langchain.prompts.chat import (ChatPromptTemplate,HumanMessagePromptTemplate)\n",
        "from langchain.llms import OpenAI\n",
        "\n",
        "import lmql"
      ],
      "metadata": {
        "id": "bgVl0UvGdFYn"
      },
      "execution_count": null,
      "outputs": []
    },
    {
      "cell_type": "markdown",
      "source": [
        "### 🏢 **Defining LangChain Prompt for Company Name**  \n"
      ],
      "metadata": {
        "id": "ljb7NRKD0qiK"
      }
    },
    {
      "cell_type": "code",
      "source": [
        "llm = OpenAI(temperature=0.9)\n",
        "\n",
        "human_message_prompt = HumanMessagePromptTemplate(\n",
        "        prompt=PromptTemplate(\n",
        "            template=\"What is a good name for a company that makes {product}?\",\n",
        "            input_variables=[\"product\"],\n",
        "        )\n",
        "    )\n",
        "chat_prompt_template = ChatPromptTemplate.from_messages([human_message_prompt])\n",
        "chat = ChatOpenAI(temperature=0.9)\n",
        "chain = LLMChain(llm=chat, prompt=chat_prompt_template)\n"
      ],
      "metadata": {
        "id": "fsBrx9ZSdJsV"
      },
      "execution_count": null,
      "outputs": []
    },
    {
      "cell_type": "markdown",
      "source": [
        "### 🚀 **Executing LangChain Prompt**  \n"
      ],
      "metadata": {
        "id": "AJSupXQX0tIB"
      }
    },
    {
      "cell_type": "code",
      "source": [
        "chain.run(\"colorful socks\")\n"
      ],
      "metadata": {
        "colab": {
          "base_uri": "https://localhost:8080/",
          "height": 70
        },
        "id": "F7tMPcwudMhi",
        "outputId": "2e5a00e1-a15c-4bae-dfa9-80ef035cfca1"
      },
      "execution_count": null,
      "outputs": [
        {
          "output_type": "stream",
          "name": "stderr",
          "text": [
            "<ipython-input-44-50b28d707c1c>:1: LangChainDeprecationWarning: The method `Chain.run` was deprecated in langchain 0.1.0 and will be removed in 1.0. Use :meth:`~invoke` instead.\n",
            "  chain.run(\"colorful socks\")\n"
          ]
        },
        {
          "output_type": "execute_result",
          "data": {
            "text/plain": [
              "'Rainbow Footwear Co.'"
            ],
            "application/vnd.google.colaboratory.intrinsic+json": {
              "type": "string"
            }
          },
          "metadata": {},
          "execution_count": 44
        }
      ]
    },
    {
      "cell_type": "markdown",
      "source": [
        "### ✍️ **Defining LMQL Query for Catchphrase**  \n"
      ],
      "metadata": {
        "id": "a_zA9w1h0vbt"
      }
    },
    {
      "cell_type": "code",
      "source": [
        "@lmql.query(model=\"chatgpt\")\n",
        "async def write_catch_phrase(company_name: str):\n",
        "    '''\n",
        "    \"Write a catchphrase for the following company: {company_name}. [catchphrase]\"\n",
        "    '''\n"
      ],
      "metadata": {
        "id": "VpJnB-y3dQEJ"
      },
      "execution_count": null,
      "outputs": []
    },
    {
      "cell_type": "markdown",
      "source": [
        "\n",
        "### **Executing LMQL Query**  \n"
      ],
      "metadata": {
        "id": "QQ-fjhEn0wbo"
      }
    },
    {
      "cell_type": "code",
      "source": [
        "(await write_catch_phrase(\"Socks Inc\")).variables[\"catchphrase\"]\n"
      ],
      "metadata": {
        "colab": {
          "base_uri": "https://localhost:8080/",
          "height": 36
        },
        "id": "0s_YbehIdR0n",
        "outputId": "34c1eda6-ad0f-429f-fda1-d481af1348fe"
      },
      "execution_count": null,
      "outputs": [
        {
          "output_type": "execute_result",
          "data": {
            "text/plain": [
              "' \"Step up your sock game with Socks Inc.!\"'"
            ],
            "application/vnd.google.colaboratory.intrinsic+json": {
              "type": "string"
            }
          },
          "metadata": {},
          "execution_count": 46
        }
      ]
    },
    {
      "cell_type": "markdown",
      "source": [
        "### 🔗 **Chaining LangChain and LMQL with SimpleSequentialChain**  \n"
      ],
      "metadata": {
        "id": "-UY-E5Me02Nt"
      }
    },
    {
      "cell_type": "code",
      "source": [
        "from langchain.chains import SimpleSequentialChain\n",
        "overall_chain = SimpleSequentialChain(chains=[chain, write_catch_phrase.aschain()], verbose=True)\n"
      ],
      "metadata": {
        "id": "nVqdIaqQdX8M"
      },
      "execution_count": null,
      "outputs": []
    },
    {
      "cell_type": "markdown",
      "source": [
        "### 🏁 **Running the Overall Chain**  \n",
        "\n",
        "\n",
        "\n",
        "\n",
        "\n",
        "\n"
      ],
      "metadata": {
        "id": "NJRbhRXJ02y8"
      }
    },
    {
      "cell_type": "code",
      "source": [
        "catchphrase = overall_chain.run(\"colorful socks\")\n",
        "print(catchphrase)"
      ],
      "metadata": {
        "colab": {
          "base_uri": "https://localhost:8080/"
        },
        "id": "ucRSfCRKdaBU",
        "outputId": "fdeef8ad-92e7-4442-b6a4-3324b5f39c96"
      },
      "execution_count": null,
      "outputs": [
        {
          "output_type": "stream",
          "name": "stdout",
          "text": [
            "\n",
            "\n",
            "\u001b[1m> Entering new SimpleSequentialChain chain...\u001b[0m\n",
            "\u001b[36;1m\u001b[1;3mRainbow Footwear Co.\u001b[0m\n",
            "\u001b[33;1m\u001b[1;3m \"Step into a world of color with Rainbow Footwear Co.!\"\u001b[0m\n",
            "\n",
            "\u001b[1m> Finished chain.\u001b[0m\n",
            " \"Step into a world of color with Rainbow Footwear Co.!\"\n"
          ]
        }
      ]
    },
    {
      "cell_type": "markdown",
      "source": [
        "### 📊 **Processing LMQL Results as Pandas DataFrames**  \n",
        "\n",
        "\n",
        "\n",
        "\n",
        "\n",
        "\n"
      ],
      "metadata": {
        "id": "rk3wbI3106zb"
      }
    },
    {
      "cell_type": "code",
      "source": [
        "import lmql\n",
        "import pandas as pd\n",
        "\n",
        "@lmql.query\n",
        "async def generate_dogs(n):\n",
        "    '''lmql\n",
        "    sample(temperature=1.0, n=n)\n",
        "\n",
        "    \"\"\"Generate a dog with the following characteristics:\n",
        "    Name:[NAME]\n",
        "    Age: [AGE]\n",
        "    Breed:[BREED]\n",
        "    Quirky Move:[MOVE]\n",
        "    \"\"\" where STOPS_BEFORE(NAME, \"\\n\") and STOPS_BEFORE(BREED, \"\\n\") and \\\n",
        "              STOPS_BEFORE(MOVE, \"\\n\") and INT(AGE) and len(TOKENS(AGE)) < 3\n",
        "    '''\n",
        "\n",
        "result = await generate_dogs(8)"
      ],
      "metadata": {
        "id": "EOphvWIGdbMM"
      },
      "execution_count": null,
      "outputs": []
    },
    {
      "cell_type": "code",
      "source": [
        "df = pd.DataFrame([r.variables for r in result])\n",
        "df"
      ],
      "metadata": {
        "colab": {
          "base_uri": "https://localhost:8080/",
          "height": 300
        },
        "id": "jwK5oWytdhGl",
        "outputId": "8cbddde6-3c0d-479b-e566-7d0f98051fde"
      },
      "execution_count": null,
      "outputs": [
        {
          "output_type": "execute_result",
          "data": {
            "text/plain": [
              "                NAME  AGE                BREED  \\\n",
              "0            Biscuit    4     Golden Retriever   \n",
              "1             Dianne    5   Labrador Retriever   \n",
              "2             'Thor'    5     Golden Retriever   \n",
              "3                Max    3     Golden Retriever   \n",
              "4   Miniature Poodle    5               Poodle   \n",
              "5             Snuffy   12             Shih Tzu   \n",
              "6              poppy    6   Labrador Retriever   \n",
              "7                Rex    4     Golden Retriever   \n",
              "\n",
              "                                          MOVE  \n",
              "0        Biscuit loves to chase their own tail  \n",
              "1   Dianne loves to carry around a stuffed toy  \n",
              "2                 Does a backflip when excited  \n",
              "3       Waves his tail vigorously when excited  \n",
              "4                           Walks on hind legs  \n",
              "5                        Snuffles when excited  \n",
              "6                          spinning in circles  \n",
              "7                                     Bouncing  "
            ],
            "text/html": [
              "\n",
              "  <div id=\"df-3d2d095c-7165-4b05-83b4-737c584d983b\" class=\"colab-df-container\">\n",
              "    <div>\n",
              "<style scoped>\n",
              "    .dataframe tbody tr th:only-of-type {\n",
              "        vertical-align: middle;\n",
              "    }\n",
              "\n",
              "    .dataframe tbody tr th {\n",
              "        vertical-align: top;\n",
              "    }\n",
              "\n",
              "    .dataframe thead th {\n",
              "        text-align: right;\n",
              "    }\n",
              "</style>\n",
              "<table border=\"1\" class=\"dataframe\">\n",
              "  <thead>\n",
              "    <tr style=\"text-align: right;\">\n",
              "      <th></th>\n",
              "      <th>NAME</th>\n",
              "      <th>AGE</th>\n",
              "      <th>BREED</th>\n",
              "      <th>MOVE</th>\n",
              "    </tr>\n",
              "  </thead>\n",
              "  <tbody>\n",
              "    <tr>\n",
              "      <th>0</th>\n",
              "      <td>Biscuit</td>\n",
              "      <td>4</td>\n",
              "      <td>Golden Retriever</td>\n",
              "      <td>Biscuit loves to chase their own tail</td>\n",
              "    </tr>\n",
              "    <tr>\n",
              "      <th>1</th>\n",
              "      <td>Dianne</td>\n",
              "      <td>5</td>\n",
              "      <td>Labrador Retriever</td>\n",
              "      <td>Dianne loves to carry around a stuffed toy</td>\n",
              "    </tr>\n",
              "    <tr>\n",
              "      <th>2</th>\n",
              "      <td>'Thor'</td>\n",
              "      <td>5</td>\n",
              "      <td>Golden Retriever</td>\n",
              "      <td>Does a backflip when excited</td>\n",
              "    </tr>\n",
              "    <tr>\n",
              "      <th>3</th>\n",
              "      <td>Max</td>\n",
              "      <td>3</td>\n",
              "      <td>Golden Retriever</td>\n",
              "      <td>Waves his tail vigorously when excited</td>\n",
              "    </tr>\n",
              "    <tr>\n",
              "      <th>4</th>\n",
              "      <td>Miniature Poodle</td>\n",
              "      <td>5</td>\n",
              "      <td>Poodle</td>\n",
              "      <td>Walks on hind legs</td>\n",
              "    </tr>\n",
              "    <tr>\n",
              "      <th>5</th>\n",
              "      <td>Snuffy</td>\n",
              "      <td>12</td>\n",
              "      <td>Shih Tzu</td>\n",
              "      <td>Snuffles when excited</td>\n",
              "    </tr>\n",
              "    <tr>\n",
              "      <th>6</th>\n",
              "      <td>poppy</td>\n",
              "      <td>6</td>\n",
              "      <td>Labrador Retriever</td>\n",
              "      <td>spinning in circles</td>\n",
              "    </tr>\n",
              "    <tr>\n",
              "      <th>7</th>\n",
              "      <td>Rex</td>\n",
              "      <td>4</td>\n",
              "      <td>Golden Retriever</td>\n",
              "      <td>Bouncing</td>\n",
              "    </tr>\n",
              "  </tbody>\n",
              "</table>\n",
              "</div>\n",
              "    <div class=\"colab-df-buttons\">\n",
              "\n",
              "  <div class=\"colab-df-container\">\n",
              "    <button class=\"colab-df-convert\" onclick=\"convertToInteractive('df-3d2d095c-7165-4b05-83b4-737c584d983b')\"\n",
              "            title=\"Convert this dataframe to an interactive table.\"\n",
              "            style=\"display:none;\">\n",
              "\n",
              "  <svg xmlns=\"http://www.w3.org/2000/svg\" height=\"24px\" viewBox=\"0 -960 960 960\">\n",
              "    <path d=\"M120-120v-720h720v720H120Zm60-500h600v-160H180v160Zm220 220h160v-160H400v160Zm0 220h160v-160H400v160ZM180-400h160v-160H180v160Zm440 0h160v-160H620v160ZM180-180h160v-160H180v160Zm440 0h160v-160H620v160Z\"/>\n",
              "  </svg>\n",
              "    </button>\n",
              "\n",
              "  <style>\n",
              "    .colab-df-container {\n",
              "      display:flex;\n",
              "      gap: 12px;\n",
              "    }\n",
              "\n",
              "    .colab-df-convert {\n",
              "      background-color: #E8F0FE;\n",
              "      border: none;\n",
              "      border-radius: 50%;\n",
              "      cursor: pointer;\n",
              "      display: none;\n",
              "      fill: #1967D2;\n",
              "      height: 32px;\n",
              "      padding: 0 0 0 0;\n",
              "      width: 32px;\n",
              "    }\n",
              "\n",
              "    .colab-df-convert:hover {\n",
              "      background-color: #E2EBFA;\n",
              "      box-shadow: 0px 1px 2px rgba(60, 64, 67, 0.3), 0px 1px 3px 1px rgba(60, 64, 67, 0.15);\n",
              "      fill: #174EA6;\n",
              "    }\n",
              "\n",
              "    .colab-df-buttons div {\n",
              "      margin-bottom: 4px;\n",
              "    }\n",
              "\n",
              "    [theme=dark] .colab-df-convert {\n",
              "      background-color: #3B4455;\n",
              "      fill: #D2E3FC;\n",
              "    }\n",
              "\n",
              "    [theme=dark] .colab-df-convert:hover {\n",
              "      background-color: #434B5C;\n",
              "      box-shadow: 0px 1px 3px 1px rgba(0, 0, 0, 0.15);\n",
              "      filter: drop-shadow(0px 1px 2px rgba(0, 0, 0, 0.3));\n",
              "      fill: #FFFFFF;\n",
              "    }\n",
              "  </style>\n",
              "\n",
              "    <script>\n",
              "      const buttonEl =\n",
              "        document.querySelector('#df-3d2d095c-7165-4b05-83b4-737c584d983b button.colab-df-convert');\n",
              "      buttonEl.style.display =\n",
              "        google.colab.kernel.accessAllowed ? 'block' : 'none';\n",
              "\n",
              "      async function convertToInteractive(key) {\n",
              "        const element = document.querySelector('#df-3d2d095c-7165-4b05-83b4-737c584d983b');\n",
              "        const dataTable =\n",
              "          await google.colab.kernel.invokeFunction('convertToInteractive',\n",
              "                                                    [key], {});\n",
              "        if (!dataTable) return;\n",
              "\n",
              "        const docLinkHtml = 'Like what you see? Visit the ' +\n",
              "          '<a target=\"_blank\" href=https://colab.research.google.com/notebooks/data_table.ipynb>data table notebook</a>'\n",
              "          + ' to learn more about interactive tables.';\n",
              "        element.innerHTML = '';\n",
              "        dataTable['output_type'] = 'display_data';\n",
              "        await google.colab.output.renderOutput(dataTable, element);\n",
              "        const docLink = document.createElement('div');\n",
              "        docLink.innerHTML = docLinkHtml;\n",
              "        element.appendChild(docLink);\n",
              "      }\n",
              "    </script>\n",
              "  </div>\n",
              "\n",
              "\n",
              "<div id=\"df-a642c957-aa1b-4545-bae7-e67a1fdb18a7\">\n",
              "  <button class=\"colab-df-quickchart\" onclick=\"quickchart('df-a642c957-aa1b-4545-bae7-e67a1fdb18a7')\"\n",
              "            title=\"Suggest charts\"\n",
              "            style=\"display:none;\">\n",
              "\n",
              "<svg xmlns=\"http://www.w3.org/2000/svg\" height=\"24px\"viewBox=\"0 0 24 24\"\n",
              "     width=\"24px\">\n",
              "    <g>\n",
              "        <path d=\"M19 3H5c-1.1 0-2 .9-2 2v14c0 1.1.9 2 2 2h14c1.1 0 2-.9 2-2V5c0-1.1-.9-2-2-2zM9 17H7v-7h2v7zm4 0h-2V7h2v10zm4 0h-2v-4h2v4z\"/>\n",
              "    </g>\n",
              "</svg>\n",
              "  </button>\n",
              "\n",
              "<style>\n",
              "  .colab-df-quickchart {\n",
              "      --bg-color: #E8F0FE;\n",
              "      --fill-color: #1967D2;\n",
              "      --hover-bg-color: #E2EBFA;\n",
              "      --hover-fill-color: #174EA6;\n",
              "      --disabled-fill-color: #AAA;\n",
              "      --disabled-bg-color: #DDD;\n",
              "  }\n",
              "\n",
              "  [theme=dark] .colab-df-quickchart {\n",
              "      --bg-color: #3B4455;\n",
              "      --fill-color: #D2E3FC;\n",
              "      --hover-bg-color: #434B5C;\n",
              "      --hover-fill-color: #FFFFFF;\n",
              "      --disabled-bg-color: #3B4455;\n",
              "      --disabled-fill-color: #666;\n",
              "  }\n",
              "\n",
              "  .colab-df-quickchart {\n",
              "    background-color: var(--bg-color);\n",
              "    border: none;\n",
              "    border-radius: 50%;\n",
              "    cursor: pointer;\n",
              "    display: none;\n",
              "    fill: var(--fill-color);\n",
              "    height: 32px;\n",
              "    padding: 0;\n",
              "    width: 32px;\n",
              "  }\n",
              "\n",
              "  .colab-df-quickchart:hover {\n",
              "    background-color: var(--hover-bg-color);\n",
              "    box-shadow: 0 1px 2px rgba(60, 64, 67, 0.3), 0 1px 3px 1px rgba(60, 64, 67, 0.15);\n",
              "    fill: var(--button-hover-fill-color);\n",
              "  }\n",
              "\n",
              "  .colab-df-quickchart-complete:disabled,\n",
              "  .colab-df-quickchart-complete:disabled:hover {\n",
              "    background-color: var(--disabled-bg-color);\n",
              "    fill: var(--disabled-fill-color);\n",
              "    box-shadow: none;\n",
              "  }\n",
              "\n",
              "  .colab-df-spinner {\n",
              "    border: 2px solid var(--fill-color);\n",
              "    border-color: transparent;\n",
              "    border-bottom-color: var(--fill-color);\n",
              "    animation:\n",
              "      spin 1s steps(1) infinite;\n",
              "  }\n",
              "\n",
              "  @keyframes spin {\n",
              "    0% {\n",
              "      border-color: transparent;\n",
              "      border-bottom-color: var(--fill-color);\n",
              "      border-left-color: var(--fill-color);\n",
              "    }\n",
              "    20% {\n",
              "      border-color: transparent;\n",
              "      border-left-color: var(--fill-color);\n",
              "      border-top-color: var(--fill-color);\n",
              "    }\n",
              "    30% {\n",
              "      border-color: transparent;\n",
              "      border-left-color: var(--fill-color);\n",
              "      border-top-color: var(--fill-color);\n",
              "      border-right-color: var(--fill-color);\n",
              "    }\n",
              "    40% {\n",
              "      border-color: transparent;\n",
              "      border-right-color: var(--fill-color);\n",
              "      border-top-color: var(--fill-color);\n",
              "    }\n",
              "    60% {\n",
              "      border-color: transparent;\n",
              "      border-right-color: var(--fill-color);\n",
              "    }\n",
              "    80% {\n",
              "      border-color: transparent;\n",
              "      border-right-color: var(--fill-color);\n",
              "      border-bottom-color: var(--fill-color);\n",
              "    }\n",
              "    90% {\n",
              "      border-color: transparent;\n",
              "      border-bottom-color: var(--fill-color);\n",
              "    }\n",
              "  }\n",
              "</style>\n",
              "\n",
              "  <script>\n",
              "    async function quickchart(key) {\n",
              "      const quickchartButtonEl =\n",
              "        document.querySelector('#' + key + ' button');\n",
              "      quickchartButtonEl.disabled = true;  // To prevent multiple clicks.\n",
              "      quickchartButtonEl.classList.add('colab-df-spinner');\n",
              "      try {\n",
              "        const charts = await google.colab.kernel.invokeFunction(\n",
              "            'suggestCharts', [key], {});\n",
              "      } catch (error) {\n",
              "        console.error('Error during call to suggestCharts:', error);\n",
              "      }\n",
              "      quickchartButtonEl.classList.remove('colab-df-spinner');\n",
              "      quickchartButtonEl.classList.add('colab-df-quickchart-complete');\n",
              "    }\n",
              "    (() => {\n",
              "      let quickchartButtonEl =\n",
              "        document.querySelector('#df-a642c957-aa1b-4545-bae7-e67a1fdb18a7 button');\n",
              "      quickchartButtonEl.style.display =\n",
              "        google.colab.kernel.accessAllowed ? 'block' : 'none';\n",
              "    })();\n",
              "  </script>\n",
              "</div>\n",
              "\n",
              "  <div id=\"id_8295fdba-ee17-461b-9acd-26d25ada54d3\">\n",
              "    <style>\n",
              "      .colab-df-generate {\n",
              "        background-color: #E8F0FE;\n",
              "        border: none;\n",
              "        border-radius: 50%;\n",
              "        cursor: pointer;\n",
              "        display: none;\n",
              "        fill: #1967D2;\n",
              "        height: 32px;\n",
              "        padding: 0 0 0 0;\n",
              "        width: 32px;\n",
              "      }\n",
              "\n",
              "      .colab-df-generate:hover {\n",
              "        background-color: #E2EBFA;\n",
              "        box-shadow: 0px 1px 2px rgba(60, 64, 67, 0.3), 0px 1px 3px 1px rgba(60, 64, 67, 0.15);\n",
              "        fill: #174EA6;\n",
              "      }\n",
              "\n",
              "      [theme=dark] .colab-df-generate {\n",
              "        background-color: #3B4455;\n",
              "        fill: #D2E3FC;\n",
              "      }\n",
              "\n",
              "      [theme=dark] .colab-df-generate:hover {\n",
              "        background-color: #434B5C;\n",
              "        box-shadow: 0px 1px 3px 1px rgba(0, 0, 0, 0.15);\n",
              "        filter: drop-shadow(0px 1px 2px rgba(0, 0, 0, 0.3));\n",
              "        fill: #FFFFFF;\n",
              "      }\n",
              "    </style>\n",
              "    <button class=\"colab-df-generate\" onclick=\"generateWithVariable('df')\"\n",
              "            title=\"Generate code using this dataframe.\"\n",
              "            style=\"display:none;\">\n",
              "\n",
              "  <svg xmlns=\"http://www.w3.org/2000/svg\" height=\"24px\"viewBox=\"0 0 24 24\"\n",
              "       width=\"24px\">\n",
              "    <path d=\"M7,19H8.4L18.45,9,17,7.55,7,17.6ZM5,21V16.75L18.45,3.32a2,2,0,0,1,2.83,0l1.4,1.43a1.91,1.91,0,0,1,.58,1.4,1.91,1.91,0,0,1-.58,1.4L9.25,21ZM18.45,9,17,7.55Zm-12,3A5.31,5.31,0,0,0,4.9,8.1,5.31,5.31,0,0,0,1,6.5,5.31,5.31,0,0,0,4.9,4.9,5.31,5.31,0,0,0,6.5,1,5.31,5.31,0,0,0,8.1,4.9,5.31,5.31,0,0,0,12,6.5,5.46,5.46,0,0,0,6.5,12Z\"/>\n",
              "  </svg>\n",
              "    </button>\n",
              "    <script>\n",
              "      (() => {\n",
              "      const buttonEl =\n",
              "        document.querySelector('#id_8295fdba-ee17-461b-9acd-26d25ada54d3 button.colab-df-generate');\n",
              "      buttonEl.style.display =\n",
              "        google.colab.kernel.accessAllowed ? 'block' : 'none';\n",
              "\n",
              "      buttonEl.onclick = () => {\n",
              "        google.colab.notebook.generateWithVariable('df');\n",
              "      }\n",
              "      })();\n",
              "    </script>\n",
              "  </div>\n",
              "\n",
              "    </div>\n",
              "  </div>\n"
            ],
            "application/vnd.google.colaboratory.intrinsic+json": {
              "type": "dataframe",
              "variable_name": "df",
              "summary": "{\n  \"name\": \"df\",\n  \"rows\": 8,\n  \"fields\": [\n    {\n      \"column\": \"NAME\",\n      \"properties\": {\n        \"dtype\": \"string\",\n        \"num_unique_values\": 8,\n        \"samples\": [\n          \" Dianne\",\n          \" Snuffy\",\n          \" Biscuit\"\n        ],\n        \"semantic_type\": \"\",\n        \"description\": \"\"\n      }\n    },\n    {\n      \"column\": \"AGE\",\n      \"properties\": {\n        \"dtype\": \"number\",\n        \"std\": 2,\n        \"min\": 3,\n        \"max\": 12,\n        \"num_unique_values\": 5,\n        \"samples\": [\n          5,\n          6,\n          3\n        ],\n        \"semantic_type\": \"\",\n        \"description\": \"\"\n      }\n    },\n    {\n      \"column\": \"BREED\",\n      \"properties\": {\n        \"dtype\": \"string\",\n        \"num_unique_values\": 4,\n        \"samples\": [\n          \" Labrador Retriever\",\n          \" Shih Tzu\",\n          \" Golden Retriever\"\n        ],\n        \"semantic_type\": \"\",\n        \"description\": \"\"\n      }\n    },\n    {\n      \"column\": \"MOVE\",\n      \"properties\": {\n        \"dtype\": \"string\",\n        \"num_unique_values\": 8,\n        \"samples\": [\n          \" Dianne loves to carry around a stuffed toy\",\n          \" Snuffles when excited\",\n          \" Biscuit loves to chase their own tail\"\n        ],\n        \"semantic_type\": \"\",\n        \"description\": \"\"\n      }\n    }\n  ]\n}"
            }
          },
          "metadata": {},
          "execution_count": 50
        }
      ]
    },
    {
      "cell_type": "markdown",
      "source": [
        "### 👋 **Defining and Running LMQL Function**  \n"
      ],
      "metadata": {
        "id": "RnkWr-Cp1GQq"
      }
    },
    {
      "cell_type": "code",
      "source": [
        "say_hello = lmql.F(\"Greet the world:[GREETING]\")\n",
        "\n",
        "say_hello(certificate=\"my-certificate.json\")\n"
      ],
      "metadata": {
        "colab": {
          "base_uri": "https://localhost:8080/",
          "height": 53
        },
        "id": "SQsofERhehaV",
        "outputId": "c71f4419-a56b-491d-d6eb-b2e01cb2195e"
      },
      "execution_count": null,
      "outputs": [
        {
          "output_type": "execute_result",
          "data": {
            "text/plain": [
              "\"\\n\\nHello world! It's nice to meet you. I am excited to explore and learn from all the different cultures, people, and experiences you have to offer. Let's make the most of our time together and create meaningful connections. Cheers to new beginnings!\""
            ],
            "application/vnd.google.colaboratory.intrinsic+json": {
              "type": "string"
            }
          },
          "metadata": {},
          "execution_count": 53
        }
      ]
    },
    {
      "cell_type": "markdown",
      "source": [
        "### 📌 **Tracing LMQL Execution**  \n",
        "\n",
        "\n",
        "\n",
        "\n",
        "\n",
        "\n"
      ],
      "metadata": {
        "id": "FMXVBTYI2D83"
      }
    },
    {
      "cell_type": "code",
      "source": [
        "with lmql.traced(\"my-context\") as t:\n",
        "\n",
        "    res1 = say_hello(verbose=True)\n",
        "\n",
        "    res2 = lmql.generate_sync(\"Greet the animals of the world:\", max_tokens=10, verbose=True)\n",
        "\n",
        "    print(lmql.certificate(t))\n"
      ],
      "metadata": {
        "id": "hc8hXZYsdxRJ"
      },
      "execution_count": null,
      "outputs": []
    }
  ]
}