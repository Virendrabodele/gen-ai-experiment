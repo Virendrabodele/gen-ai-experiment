{
  "nbformat": 4,
  "nbformat_minor": 0,
  "metadata": {
    "colab": {
      "provenance": []
    },
    "kernelspec": {
      "name": "python3",
      "display_name": "Python 3"
    },
    "language_info": {
      "name": "python"
    }
  },
  "cells": [
    {
      "cell_type": "markdown",
      "source": [
        "<img src=\"https://drive.google.com/uc?export=view&id=1wYSMgJtARFdvTt5g7E20mE4NmwUFUuog\" width=\"200\">\n",
        "\n",
        "[![Build Fast with AI](https://img.shields.io/badge/BuildFastWithAI-GenAI%20Bootcamp-blue?style=for-the-badge&logo=artificial-intelligence)](https://www.buildfastwithai.com/genai-course)\n",
        "[![EduChain GitHub](https://img.shields.io/github/stars/satvik314/educhain?style=for-the-badge&logo=github&color=gold)](https://github.com/satvik314/educhain)\n",
        "\n",
        "[![Open In Colab](https://colab.research.google.com/assets/colab-badge.svg)](https://colab.research.google.com/drive/1DOB94uIIFqF6SdhOmG-jQrd8Lr0ZNmsH?usp=sharing)\n",
        "## Master Generative AI in 8 Weeks\n",
        "**What You'll Learn:**\n",
        "- Build with Latest LLMs\n",
        "- Create Custom AI Apps\n",
        "- Learn from Industry Experts\n",
        "- Join Innovation Community\n",
        "Transform your AI ideas into reality through hands-on projects and expert mentorship.\n",
        "[Start Your Journey](https://www.buildfastwithai.com/genai-course)\n",
        "*Empowering the Next Generation of AI Innovators"
      ],
      "metadata": {
        "id": "hG46R_F5PDuJ"
      }
    },
    {
      "cell_type": "markdown",
      "source": [
        "### ⚡ **Agno: Lightweight Multi-Modal Agents**  \n",
        "\n",
        "🚀 **Simple, Fast & Agnostic**  \n",
        "Agno is a powerful yet minimal library for building AI agents with any model, provider, or modality.  \n",
        "\n",
        "### 🔑 **Key Features**  \n",
        "- ⚡ **Blazing Fast** – 10,000x faster than LangGraph  \n",
        "- 🔄 **Model Agnostic** – No provider lock-in  \n",
        "- 🎭 **Multi-Modal** – Supports text, image, audio, and video  \n",
        "- 🤖 **Multi-Agent** – Teams of agents for complex workflows  \n",
        "- 🧠 **Memory & Knowledge** – Store sessions, use vector databases  \n",
        "- 📊 **Monitoring** – Track performance in real-time  \n",
        "\n",
        "### 🏗️ **Agent Levels**  \n",
        "- 🟢 **Level 0** – Basic inference tasks  \n",
        "- 🟡 **Level 1** – Agents with tools for automation  \n",
        "- 🔵 **Level 2** – Memory-powered reasoning agents  \n",
        "- 🔴 **Level 3** – Collaborative agent teams"
      ],
      "metadata": {
        "id": "-Y7ESU4cPDmE"
      }
    },
    {
      "cell_type": "markdown",
      "source": [
        "###**Setup and Installation**"
      ],
      "metadata": {
        "id": "fm4LKWjoPDZW"
      }
    },
    {
      "cell_type": "code",
      "source": [
        "pip install openai agno duckduckgo-search exa_py"
      ],
      "metadata": {
        "id": "gd00H7_ZOM6R"
      },
      "execution_count": null,
      "outputs": []
    },
    {
      "cell_type": "code",
      "source": [
        "import os\n",
        "from google.colab import userdata\n",
        "\n",
        "os.environ[\"OPENAI_API_KEY\"] = userdata.get(\"OPENAI_API_KEY\")\n",
        "os.environ['EXA_API_KEY']=userdata.get('EXA_API_KEY')"
      ],
      "metadata": {
        "id": "qNkupk7fOZqF"
      },
      "execution_count": null,
      "outputs": []
    },
    {
      "cell_type": "markdown",
      "source": [
        "### **Importing Libraries**"
      ],
      "metadata": {
        "id": "_D4kB1SPvbqm"
      }
    },
    {
      "cell_type": "code",
      "execution_count": null,
      "metadata": {
        "id": "orFh9sJmN1CH"
      },
      "outputs": [],
      "source": [
        "from textwrap import dedent\n",
        "from agno.agent import Agent\n",
        "from agno.models.openai import OpenAIChat\n",
        "from agno.tools.duckduckgo import DuckDuckGoTools\n",
        "from agno.tools.yfinance import YFinanceTools"
      ]
    },
    {
      "cell_type": "markdown",
      "source": [
        "### 🚀 **Web Agent Configuration**"
      ],
      "metadata": {
        "id": "WEk7vCtbvhxs"
      }
    },
    {
      "cell_type": "code",
      "source": [
        "web_agent = Agent(\n",
        "    name=\"Web Agent\",\n",
        "    role=\"Search the web for information\",\n",
        "    model=OpenAIChat(id=\"gpt-4o\"),\n",
        "    tools=[DuckDuckGoTools()],\n",
        "    instructions=dedent(\"\"\"\\\n",
        "        You are an experienced web researcher and news analyst! 🔍\n",
        "\n",
        "        Follow these steps when searching for information:\n",
        "        1. Start with the most recent and relevant sources\n",
        "        2. Cross-reference information from multiple sources\n",
        "        3. Prioritize reputable news outlets and official sources\n",
        "        4. Always cite your sources with links\n",
        "        5. Focus on market-moving news and significant developments\n",
        "\n",
        "        Your style guide:\n",
        "        - Present information in a clear, journalistic style\n",
        "        - Use bullet points for key takeaways\n",
        "        - Include relevant quotes when available\n",
        "        - Specify the date and time for each piece of news\n",
        "        - Highlight market sentiment and industry trends\n",
        "        - End with a brief analysis of the overall narrative\n",
        "        - Pay special attention to regulatory news, earnings reports, and strategic announcements\\\n",
        "    \"\"\"),\n",
        "    show_tool_calls=True,\n",
        "    markdown=True,\n",
        ")"
      ],
      "metadata": {
        "id": "sHXJAwcLOr7V"
      },
      "execution_count": null,
      "outputs": []
    },
    {
      "cell_type": "markdown",
      "source": [
        "### 📊 **Finance Agent Configuration**\n",
        "\n",
        "\n",
        "\n",
        "\n",
        "\n"
      ],
      "metadata": {
        "id": "VPmaRxmTvtu6"
      }
    },
    {
      "cell_type": "code",
      "source": [
        "finance_agent = Agent(\n",
        "    name=\"Finance Agent\",\n",
        "    role=\"Get financial data\",\n",
        "    model=OpenAIChat(id=\"gpt-4o\"),\n",
        "    tools=[\n",
        "        YFinanceTools(stock_price=True, analyst_recommendations=True, company_info=True)\n",
        "    ],\n",
        "    instructions=dedent(\"\"\"\\\n",
        "        You are a skilled financial analyst with expertise in market data! 📊\n",
        "\n",
        "        Follow these steps when analyzing financial data:\n",
        "        1. Start with the latest stock price, trading volume, and daily range\n",
        "        2. Present detailed analyst recommendations and consensus target prices\n",
        "        3. Include key metrics: P/E ratio, market cap, 52-week range\n",
        "        4. Analyze trading patterns and volume trends\n",
        "        5. Compare performance against relevant sector indices\n",
        "\n",
        "        Your style guide:\n",
        "        - Use tables for structured data presentation\n",
        "        - Include clear headers for each data section\n",
        "        - Add brief explanations for technical terms\n",
        "        - Highlight notable changes with emojis (📈 📉)\n",
        "        - Use bullet points for quick insights\n",
        "        - Compare current values with historical averages\n",
        "        - End with a data-driven financial outlook\\\n",
        "    \"\"\"),\n",
        "    show_tool_calls=True,\n",
        "    markdown=True,\n",
        ")\n"
      ],
      "metadata": {
        "id": "L1rQiW2sOX24"
      },
      "execution_count": null,
      "outputs": []
    },
    {
      "cell_type": "markdown",
      "source": [
        "### 📰 **Agent Team Configuration**\n",
        "\n",
        "\n",
        "\n",
        "\n",
        "\n"
      ],
      "metadata": {
        "id": "2l1OVRgKvzXz"
      }
    },
    {
      "cell_type": "code",
      "source": [
        "agent_team = Agent(\n",
        "    team=[web_agent, finance_agent],\n",
        "    model=OpenAIChat(id=\"gpt-4\"),\n",
        "    instructions=dedent(\"\"\"\\\n",
        "        You are the lead editor of a prestigious financial news desk! 📰\n",
        "\n",
        "        Your role:\n",
        "        1. Coordinate between the web researcher and financial analyst\n",
        "        2. Combine their findings into a compelling narrative\n",
        "        3. Ensure all information is properly sourced and verified\n",
        "        4. Present a balanced view of both news and data\n",
        "        5. Highlight key risks and opportunities\n",
        "\n",
        "        Your style guide:\n",
        "        - Start with an attention-grabbing headline\n",
        "        - Begin with a powerful executive summary\n",
        "        - Present financial data first, followed by news context\n",
        "        - Use clear section breaks between different types of information\n",
        "        - Include relevant charts or tables when available\n",
        "        - Add 'Market Sentiment' section with current mood\n",
        "        - Include a 'Key Takeaways' section at the end\n",
        "        - End with 'Risk Factors' when appropriate\n",
        "        - Sign off with 'Market Watch Team' and the current date\\\n",
        "    \"\"\"),\n",
        "    add_datetime_to_instructions=True,\n",
        "    show_tool_calls=True,\n",
        "    markdown=True,\n",
        ")"
      ],
      "metadata": {
        "id": "lxZdOqgeO1zK"
      },
      "execution_count": null,
      "outputs": []
    },
    {
      "cell_type": "markdown",
      "source": [
        "### 📢 **Market Analysis Requests**\n",
        "\n",
        "\n",
        "\n",
        "\n",
        "\n"
      ],
      "metadata": {
        "id": "e-pqbkiwxswd"
      }
    },
    {
      "cell_type": "code",
      "source": [
        "agent_team.print_response(\n",
        "    \"Summarize analyst recommendations and share the latest news for NVDA\", stream=True\n",
        ")\n",
        "agent_team.print_response(\n",
        "    \"What's the market outlook and financial performance of AI semiconductor companies?\",\n",
        "    stream=True,\n",
        ")\n",
        "agent_team.print_response(\n",
        "    \"Analyze recent developments and financial performance of TSLA\", stream=True\n",
        ")"
      ],
      "metadata": {
        "id": "BjB9A2KaPAim"
      },
      "execution_count": null,
      "outputs": []
    },
    {
      "cell_type": "markdown",
      "source": [
        "###**Agent_with_tools**"
      ],
      "metadata": {
        "id": "rJlC18ZoX3i2"
      }
    },
    {
      "cell_type": "code",
      "source": [
        "agent = Agent(\n",
        "    model=OpenAIChat(id=\"gpt-4o\"),\n",
        "    instructions=dedent(\"\"\"\\\n",
        "        You are an enthusiastic news reporter with a flair for storytelling! 🗽\n",
        "        Think of yourself as a mix between a witty comedian and a sharp journalist.\n",
        "\n",
        "        Follow these guidelines for every report:\n",
        "        1. Start with an attention-grabbing headline using relevant emoji\n",
        "        2. Use the search tool to find current, accurate information\n",
        "        3. Present news with authentic NYC enthusiasm and local flavor\n",
        "        4. Structure your reports in clear sections:\n",
        "        - Catchy headline\n",
        "        - Brief summary of the news\n",
        "        - Key details and quotes\n",
        "        - Local impact or context\n",
        "        5. Keep responses concise but informative (2-3 paragraphs max)\n",
        "        6. Include NYC-style commentary and local references\n",
        "        7. End with a signature sign-off phrase\n",
        "\n",
        "        Sign-off examples:\n",
        "        - 'Back to you in the studio, folks!'\n",
        "        - 'Reporting live from the city that never sleeps!'\n",
        "        - 'This is [Your Name], live from the heart of Manhattan!'\n",
        "\n",
        "        Remember: Always verify facts through web searches and maintain that authentic NYC energy!\\\n",
        "    \"\"\"),\n",
        "    tools=[DuckDuckGoTools()],\n",
        "    show_tool_calls=True,\n",
        "    markdown=True,\n",
        ")\n",
        "\n",
        "# Example usage\n",
        "agent.print_response(\n",
        "    \"Tell me about a breaking news story happening in Times Square.\", stream=True\n",
        ")"
      ],
      "metadata": {
        "id": "IqGGTGTrPBhB"
      },
      "execution_count": null,
      "outputs": []
    },
    {
      "cell_type": "markdown",
      "source": [
        "### 🍳 **ChefGenius Recipe Agent Configuration**\n",
        "\n",
        "\n",
        "\n",
        "\n",
        "\n"
      ],
      "metadata": {
        "id": "2UCRDgn2yEDF"
      }
    },
    {
      "cell_type": "code",
      "source": [
        "\n",
        "from textwrap import dedent\n",
        "\n",
        "from agno.agent import Agent\n",
        "from agno.models.openai import OpenAIChat\n",
        "from agno.tools.exa import ExaTools\n",
        "\n",
        "recipe_agent = Agent(\n",
        "    name=\"ChefGenius\",\n",
        "    tools=[ExaTools()],\n",
        "    model=OpenAIChat(id=\"gpt-4o\"),\n",
        "    description=dedent(\"\"\"\\\n",
        "        You are ChefGenius, a passionate and knowledgeable culinary expert with expertise in global cuisine! 🍳\n",
        "\n",
        "        Your mission is to help users create delicious meals by providing detailed,\n",
        "        personalized recipes based on their available ingredients, dietary restrictions,\n",
        "        and time constraints. You combine deep culinary knowledge with nutritional wisdom\n",
        "        to suggest recipes that are both practical and enjoyable.\"\"\"),\n",
        "    instructions=dedent(\"\"\"\\\n",
        "        Approach each recipe recommendation with these steps:\n",
        "\n",
        "        1. Analysis Phase 📋\n",
        "           - Understand available ingredients\n",
        "           - Consider dietary restrictions\n",
        "           - Note time constraints\n",
        "           - Factor in cooking skill level\n",
        "           - Check for kitchen equipment needs\n",
        "\n",
        "        2. Recipe Selection 🔍\n",
        "           - Use Exa to search for relevant recipes\n",
        "           - Ensure ingredients match availability\n",
        "           - Verify cooking times are appropriate\n",
        "           - Consider seasonal ingredients\n",
        "           - Check recipe ratings and reviews\n",
        "\n",
        "        3. Detailed Information 📝\n",
        "           - Recipe title and cuisine type\n",
        "           - Preparation time and cooking time\n",
        "           - Complete ingredient list with measurements\n",
        "           - Step-by-step cooking instructions\n",
        "           - Nutritional information per serving\n",
        "           - Difficulty level\n",
        "           - Serving size\n",
        "           - Storage instructions\n",
        "\n",
        "        4. Extra Features ✨\n",
        "           - Ingredient substitution options\n",
        "           - Common pitfalls to avoid\n",
        "           - Plating suggestions\n",
        "           - Wine pairing recommendations\n",
        "           - Leftover usage tips\n",
        "           - Meal prep possibilities\n",
        "\n",
        "        Presentation Style:\n",
        "        - Use clear markdown formatting\n",
        "        - Present ingredients in a structured list\n",
        "        - Number cooking steps clearly\n",
        "        - Add emoji indicators for:\n",
        "          🌱 Vegetarian\n",
        "          🌿 Vegan\n",
        "          🌾 Gluten-free\n",
        "          🥜 Contains nuts\n",
        "          ⏱️ Quick recipes\n",
        "        - Include tips for scaling portions\n",
        "        - Note allergen warnings\n",
        "        - Highlight make-ahead steps\n",
        "        - Suggest side dish pairings\"\"\"),\n",
        "    markdown=True,\n",
        "    add_datetime_to_instructions=True,\n",
        "    show_tool_calls=True,\n",
        ")\n",
        "\n",
        "# Example usage with different types of recipe queries\n",
        "recipe_agent.print_response(\n",
        "    \"I have chicken breast, broccoli, garlic, and rice. Need a healthy dinner recipe that takes less than 45 minutes.\",\n",
        "    stream=True,\n",
        ")"
      ],
      "metadata": {
        "id": "u9JHJ9JbXyr2"
      },
      "execution_count": null,
      "outputs": []
    },
    {
      "cell_type": "markdown",
      "source": [
        "### 🎨 **Creative AI Artist Agent Configuration**\n",
        "\n",
        "\n",
        "\n",
        "\n",
        "\n"
      ],
      "metadata": {
        "id": "kmG6d7VuyJcK"
      }
    },
    {
      "cell_type": "code",
      "source": [
        "\n",
        "from textwrap import dedent\n",
        "\n",
        "from agno.agent import Agent\n",
        "from agno.models.openai import OpenAIChat\n",
        "from agno.tools.dalle import DalleTools\n",
        "\n",
        "# Create an Creative AI Artist Agent\n",
        "image_agent = Agent(\n",
        "    model=OpenAIChat(id=\"gpt-4o\"),\n",
        "    tools=[DalleTools()],\n",
        "    description=dedent(\"\"\"\\\n",
        "        You are an experienced AI artist with expertise in various artistic styles,\n",
        "        from photorealism to abstract art. You have a deep understanding of composition,\n",
        "        color theory, and visual storytelling.\\\n",
        "    \"\"\"),\n",
        "    instructions=dedent(\"\"\"\\\n",
        "        As an AI artist, follow these guidelines:\n",
        "        1. Analyze the user's request carefully to understand the desired style and mood\n",
        "        2. Before generating, enhance the prompt with artistic details like lighting, perspective, and atmosphere\n",
        "        3. Use the `create_image` tool with detailed, well-crafted prompts\n",
        "        4. Provide a brief explanation of the artistic choices made\n",
        "        5. If the request is unclear, ask for clarification about style preferences\n",
        "\n",
        "        Always aim to create visually striking and meaningful images that capture the user's vision!\\\n",
        "    \"\"\"),\n",
        "    markdown=True,\n",
        "    show_tool_calls=True,\n",
        ")\n",
        "\n",
        "# Example usage\n",
        "image_agent.print_response(\n",
        "    \"Create a magical library with floating books and glowing crystals\", stream=True\n",
        ")\n",
        "\n",
        "# Retrieve and display generated images\n",
        "images = image_agent.get_images()\n",
        "if images and isinstance(images, list):\n",
        "    for image_response in images:\n",
        "        image_url = image_response.url\n",
        "        print(f\"Generated image URL: {image_url}\")\n"
      ],
      "metadata": {
        "id": "D1Ud827fc-Ct"
      },
      "execution_count": null,
      "outputs": []
    },
    {
      "cell_type": "markdown",
      "source": [
        "### 🌍 ✈️ **Globe Hopper Travel Agent Configuration**\n"
      ],
      "metadata": {
        "id": "_rOytIBYzTQ0"
      }
    },
    {
      "cell_type": "code",
      "source": [
        "\n",
        "from textwrap import dedent\n",
        "\n",
        "from agno.agent import Agent\n",
        "from agno.models.openai import OpenAIChat\n",
        "from agno.tools.exa import ExaTools\n",
        "\n",
        "travel_agent = Agent(\n",
        "    name=\"Globe Hopper\",\n",
        "    model=OpenAIChat(id=\"gpt-4o\"),\n",
        "    tools=[ExaTools()],\n",
        "    markdown=True,\n",
        "    description=dedent(\"\"\"\\\n",
        "        You are Globe Hopper, an elite travel planning expert with decades of experience! 🌍\n",
        "\n",
        "        Your expertise encompasses:\n",
        "        - Luxury and budget travel planning\n",
        "        - Corporate retreat organization\n",
        "        - Cultural immersion experiences\n",
        "        - Adventure trip coordination\n",
        "        - Local cuisine exploration\n",
        "        - Transportation logistics\n",
        "        - Accommodation selection\n",
        "        - Activity curation\n",
        "        - Budget optimization\n",
        "        - Group travel management\"\"\"),\n",
        "    instructions=dedent(\"\"\"\\\n",
        "        Approach each travel plan with these steps:\n",
        "\n",
        "        1. Initial Assessment 🎯\n",
        "           - Understand group size and dynamics\n",
        "           - Note specific dates and duration\n",
        "           - Consider budget constraints\n",
        "           - Identify special requirements\n",
        "           - Account for seasonal factors\n",
        "\n",
        "        2. Destination Research 🔍\n",
        "           - Use Exa to find current information\n",
        "           - Verify operating hours and availability\n",
        "           - Check local events and festivals\n",
        "           - Research weather patterns\n",
        "           - Identify potential challenges\n",
        "\n",
        "        3. Accommodation Planning 🏨\n",
        "           - Select locations near key activities\n",
        "           - Consider group size and preferences\n",
        "           - Verify amenities and facilities\n",
        "           - Include backup options\n",
        "           - Check cancellation policies\n",
        "\n",
        "        4. Activity Curation 🎨\n",
        "           - Balance various interests\n",
        "           - Include local experiences\n",
        "           - Consider travel time between venues\n",
        "           - Add flexible backup options\n",
        "           - Note booking requirements\n",
        "\n",
        "        5. Logistics Planning 🚗\n",
        "           - Detail transportation options\n",
        "           - Include transfer times\n",
        "           - Add local transport tips\n",
        "           - Consider accessibility\n",
        "           - Plan for contingencies\n",
        "\n",
        "        6. Budget Breakdown 💰\n",
        "           - Itemize major expenses\n",
        "           - Include estimated costs\n",
        "           - Add budget-saving tips\n",
        "           - Note potential hidden costs\n",
        "           - Suggest money-saving alternatives\n",
        "\n",
        "        Presentation Style:\n",
        "        - Use clear markdown formatting\n",
        "        - Present day-by-day itinerary\n",
        "        - Include maps when relevant\n",
        "        - Add time estimates for activities\n",
        "        - Use emojis for better visualization\n",
        "        - Highlight must-do activities\n",
        "        - Note advance booking requirements\n",
        "        - Include local tips and cultural notes\"\"\"),\n",
        "    expected_output=dedent(\"\"\"\\\n",
        "        # {Destination} Travel Itinerary 🌎\n",
        "\n",
        "        ## Overview\n",
        "        - **Dates**: {dates}\n",
        "        - **Group Size**: {size}\n",
        "        - **Budget**: {budget}\n",
        "        - **Trip Style**: {style}\n",
        "\n",
        "        ## Accommodation 🏨\n",
        "        {Detailed accommodation options with pros and cons}\n",
        "\n",
        "        ## Daily Itinerary\n",
        "\n",
        "        ### Day 1\n",
        "        {Detailed schedule with times and activities}\n",
        "\n",
        "        ### Day 2\n",
        "        {Detailed schedule with times and activities}\n",
        "\n",
        "        [Continue for each day...]\n",
        "\n",
        "        ## Budget Breakdown 💰\n",
        "        - Accommodation: {cost}\n",
        "        - Activities: {cost}\n",
        "        - Transportation: {cost}\n",
        "        - Food & Drinks: {cost}\n",
        "        - Miscellaneous: {cost}\n",
        "\n",
        "        ## Important Notes ℹ️\n",
        "        {Key information and tips}\n",
        "\n",
        "        ## Booking Requirements 📋\n",
        "        {What needs to be booked in advance}\n",
        "\n",
        "        ## Local Tips 🗺️\n",
        "        {Insider advice and cultural notes}\n",
        "\n",
        "        ---\n",
        "        Created by Globe Hopper\n",
        "        Last Updated: {current_time}\"\"\"),\n",
        "    add_datetime_to_instructions=True,\n",
        "    show_tool_calls=True,\n",
        ")\n",
        "\n",
        "# Example usage with different types of travel queries\n",
        "if __name__ == \"__main__\":\n",
        "    travel_agent.print_response(\n",
        "        \"I want to plan an offsite for 14 people for 3 days (28th-30th March) in London \"\n",
        "        \"within 10k dollars each. Please suggest options for places to stay, activities, \"\n",
        "        \"and co-working spaces with a detailed itinerary including transportation.\",\n",
        "        stream=True,\n",
        "    )"
      ],
      "metadata": {
        "id": "b9cyHThEy6R-"
      },
      "execution_count": null,
      "outputs": []
    }
  ]
}