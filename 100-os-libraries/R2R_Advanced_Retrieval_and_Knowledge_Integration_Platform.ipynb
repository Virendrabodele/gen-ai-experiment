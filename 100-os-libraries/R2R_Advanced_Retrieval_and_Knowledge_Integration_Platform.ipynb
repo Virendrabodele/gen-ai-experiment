{
  "nbformat": 4,
  "nbformat_minor": 0,
  "metadata": {
    "colab": {
      "provenance": []
    },
    "kernelspec": {
      "name": "python3",
      "display_name": "Python 3"
    },
    "language_info": {
      "name": "python"
    }
  },
  "cells": [
    {
      "cell_type": "markdown",
      "source": [
        "<img src=\"https://drive.google.com/uc?export=view&id=1wYSMgJtARFdvTt5g7E20mE4NmwUFUuog\" width=\"200\">\n",
        "\n",
        "[![Build Fast with AI](https://img.shields.io/badge/BuildFastWithAI-GenAI%20Bootcamp-blue?style=for-the-badge&logo=artificial-intelligence)](https://www.buildfastwithai.com/genai-course)\n",
        "[![EduChain GitHub](https://img.shields.io/github/stars/satvik314/educhain?style=for-the-badge&logo=github&color=gold)](https://github.com/satvik314/educhain)\n",
        "\n",
        "[![Open In Colab](https://colab.research.google.com/assets/colab-badge.svg)](https://colab.research.google.com/drive/1x5QHc17i3zzDFSGWjenF9D-2n9Th-3s2#scrollTo=rFzJkhYJupaF)\n",
        "## Master Generative AI in 6 Weeks\n",
        "**What You'll Learn:**\n",
        "- Build with Latest LLMs\n",
        "- Create Custom AI Apps\n",
        "- Learn from Industry Experts\n",
        "- Join Innovation Community\n",
        "Transform your AI ideas into reality through hands-on projects and expert mentorship.\n",
        "[Start Your Journey](https://www.buildfastwithai.com/genai-course)\n",
        "*Empowering the Next Generation of AI Innovators"
      ],
      "metadata": {
        "id": "kr7pnBzLupQg"
      }
    },
    {
      "cell_type": "markdown",
      "source": [
        "## 🌟 R2R: Advanced Retrieval and Knowledge Integration Platform\n",
        "\n",
        "R2R is a powerful platform for **retrieval, reasoning, and knowledge graph integration**, designed to streamline complex information workflows.\n",
        "\n",
        "\n",
        "### ✨ Key Features:\n",
        "- **Flexible Ingestion Pipeline**: Supports text, documents, PDFs, images, audio, and video for seamless ingestion and parsing. 📂\n",
        "- **Search Modes**: Offers **basic semantic search**, **advanced hybrid search**, and **custom search** configurations. 🔍\n",
        "- **Retrieval-Augmented Generation (RAG)**: Combines search results with generative AI to provide context-aware, intelligent responses. 🤖\n",
        "- **Knowledge Graph Integration**: Extracts entities and relationships to construct advanced knowledge graphs. 🌐\n",
        "- **Customizable Workflows**: Tailor ingestion, search, and generation settings to match your application needs. 🎛️\n"
      ],
      "metadata": {
        "id": "gP0st0v1up12"
      }
    },
    {
      "cell_type": "markdown",
      "source": [
        "###**Setup and Installation**"
      ],
      "metadata": {
        "id": "rFzJkhYJupaF"
      }
    },
    {
      "cell_type": "code",
      "source": [
        "pip install r2r"
      ],
      "metadata": {
        "id": "mBAiOWuhrBpy"
      },
      "execution_count": null,
      "outputs": []
    },
    {
      "cell_type": "markdown",
      "source": [
        "### **Setting Up API Keys**"
      ],
      "metadata": {
        "id": "Ke8OM4fA3T4I"
      }
    },
    {
      "cell_type": "code",
      "source": [
        "from r2r import R2RClient\n",
        "from google.colab import userdata\n",
        "import os\n",
        "\n",
        "os.environ['R2R_API_KEY']=userdata.get('R2R_API_KEY')\n",
        "\n",
        "client = R2RClient()"
      ],
      "metadata": {
        "id": "OM_qK_zkuwSH"
      },
      "execution_count": null,
      "outputs": []
    },
    {
      "cell_type": "markdown",
      "source": [
        "### **Document Ingestion: Raw Text**"
      ],
      "metadata": {
        "id": "O2w3ireX3Y3Y"
      }
    },
    {
      "cell_type": "code",
      "source": [
        "raw_text = \"This is my first document.\"\n",
        "ingest_response = client.documents.create(\n",
        "    raw_text=raw_text,\n",
        ")"
      ],
      "metadata": {
        "id": "ei-n2XvYvKet"
      },
      "execution_count": null,
      "outputs": []
    },
    {
      "cell_type": "code",
      "source": [
        "print(ingest_response)"
      ],
      "metadata": {
        "colab": {
          "base_uri": "https://localhost:8080/"
        },
        "id": "vGOytq9GvWVt",
        "outputId": "bcb281cd-5261-44ce-e806-ee150fac73f4"
      },
      "execution_count": null,
      "outputs": [
        {
          "output_type": "stream",
          "name": "stdout",
          "text": [
            "{'results': {'message': 'Ingest files task queued successfully.', 'task_id': 'a47a5c9f-552c-488f-9f6d-a8e65efe6f31', 'document_id': '0a0e7df3-6e1b-5298-9acf-6fd9c07925dc'}}\n"
          ]
        }
      ]
    },
    {
      "cell_type": "markdown",
      "source": [
        "### **Document Ingestion: Pre-Processed Chunks**"
      ],
      "metadata": {
        "id": "ENRm-E0V3eG6"
      }
    },
    {
      "cell_type": "code",
      "source": [
        "chunks = [\"This is my first parsed chunk\", \"This is my second parsed chunk\"]\n",
        "ingest_response = client.documents.create(\n",
        "    chunks=chunks,\n",
        ")"
      ],
      "metadata": {
        "id": "qtXsh1cav7Fe"
      },
      "execution_count": null,
      "outputs": []
    },
    {
      "cell_type": "code",
      "source": [
        "print(ingest_response)\n"
      ],
      "metadata": {
        "colab": {
          "base_uri": "https://localhost:8080/"
        },
        "id": "24h_VFTiwAcc",
        "outputId": "38793348-c2b5-45c3-fc10-640f4bc412a0"
      },
      "execution_count": null,
      "outputs": [
        {
          "output_type": "stream",
          "name": "stdout",
          "text": [
            "{'results': {'message': 'Ingest chunks task queued successfully.', 'task_id': '67ce5beb-ca31-456d-8063-228652f9f721', 'document_id': 'd00af545-56e4-5eae-9041-df1ae26d541f'}}\n"
          ]
        }
      ]
    },
    {
      "cell_type": "markdown",
      "source": [
        "### **Document Deletion**"
      ],
      "metadata": {
        "id": "HtA6oa293isv"
      }
    },
    {
      "cell_type": "code",
      "source": [
        "# Extract the document_id from the response\n",
        "document_id = ingest_response['results']['document_id']\n",
        "\n",
        "# Delete the document\n",
        "delete_response = client.documents.delete(document_id)\n",
        "print(f\"Delete Response: {delete_response}\")"
      ],
      "metadata": {
        "colab": {
          "base_uri": "https://localhost:8080/"
        },
        "id": "arWed4NbwH19",
        "outputId": "e7cf8a25-8ce4-4eb4-c134-2b8505d9af10"
      },
      "execution_count": null,
      "outputs": [
        {
          "output_type": "stream",
          "name": "stdout",
          "text": [
            "Delete Response: {'results': {'success': True}}\n"
          ]
        }
      ]
    },
    {
      "cell_type": "markdown",
      "source": [
        "###**Basic Search**"
      ],
      "metadata": {
        "id": "6LzKajru4NaD"
      }
    },
    {
      "cell_type": "code",
      "source": [
        "results = client.retrieval.search(\n",
        "    query=\"What are the effects of climate change?\",\n",
        "    search_mode=\"basic\"\n",
        ")"
      ],
      "metadata": {
        "id": "WYzrMWczxJ7y"
      },
      "execution_count": null,
      "outputs": []
    },
    {
      "cell_type": "code",
      "source": [
        "print(results)"
      ],
      "metadata": {
        "colab": {
          "base_uri": "https://localhost:8080/"
        },
        "id": "ZiFUOfBfxqDW",
        "outputId": "0721e834-9a7d-4594-d859-812b7020d6e6"
      },
      "execution_count": null,
      "outputs": [
        {
          "output_type": "stream",
          "name": "stdout",
          "text": [
            "{'results': {'chunk_search_results': [{'id': '656814e9-fc30-549c-bc0b-240b4aa2fc71', 'document_id': '0a0e7df3-6e1b-5298-9acf-6fd9c07925dc', 'owner_id': 'fa63a2e4-b26e-5454-afe4-92e2ab298b6c', 'collection_ids': ['dc02dc09-e50c-51ce-b94e-ed4a5a82a9ab'], 'score': 0.0028249232761493603, 'text': 'This is my first document.', 'metadata': {'version': 'v0', 'chunk_order': 0, 'document_type': 'txt', 'unstructured_filetype': 'text/plain', 'unstructured_languages': ['eng'], 'partitioned_by_unstructured': True, 'associated_query': 'What are the effects of climate change?'}}], 'graph_search_results': [{'content': {'name': 'Relativistic Effects', 'description': \"Relativistic effects are the consequences of Einstein's theory of relativity that influence the dynamics of celestial bodies, considered in the study of WASP-49Ab.\", 'metadata': None}, 'result_type': 'entity', 'chunk_ids': None, 'metadata': {'associated_query': 'What are the effects of climate change?'}, 'score': 0.2867634125492968}, {'content': {'name': 'Relativistic Effects', 'description': \"Relativistic effects are the consequences of Einstein's theory of relativity that influence the orbital dynamics of WASP-49Ab due to its proximity to its host star.\", 'metadata': None}, 'result_type': 'entity', 'chunk_ids': None, 'metadata': {'associated_query': 'What are the effects of climate change?'}, 'score': 0.28254503465786573}, {'content': {'name': 'Extreme Conditions', 'description': 'Extreme conditions refer to the harsh environmental factors present in the WASP-49Ab system that challenge the stability of potential exomoons.', 'metadata': None}, 'result_type': 'entity', 'chunk_ids': None, 'metadata': {'associated_query': 'What are the effects of climate change?'}, 'score': 0.23039538588565378}, {'content': {'name': 'Transit Duration Variations (TDVs)', 'description': \"Transit Duration Variations are changes in the duration of a planet's transit, which can provide insights into the presence of moons.\", 'metadata': None}, 'result_type': 'entity', 'chunk_ids': None, 'metadata': {'associated_query': 'What are the effects of climate change?'}, 'score': 0.21194539381375455}, {'content': {'name': 'Volcanic moon', 'description': 'A volcanic moon is a type of moon characterized by geological activity, such as volcanism, which can influence the atmosphere of its host planet.', 'metadata': None}, 'result_type': 'entity', 'chunk_ids': None, 'metadata': {'associated_query': 'What are the effects of climate change?'}, 'score': 0.21069744697839798}, {'content': {'name': 'Planetary Oblateness', 'description': 'Planetary oblateness refers to the flattening of a planet at the poles due to its rotation, which affects the dynamics of moons around WASP-49Ab.', 'metadata': None}, 'result_type': 'entity', 'chunk_ids': None, 'metadata': {'associated_query': 'What are the effects of climate change?'}, 'score': 0.19912304893916}, {'content': {'name': 'Transit Duration Variations (TDV)', 'description': \"Transit Duration Variations (TDV) are changes in the duration of a planet's transit, which can be affected by the gravitational influence of moons.\", 'metadata': None}, 'result_type': 'entity', 'chunk_ids': None, 'metadata': {'associated_query': 'What are the effects of climate change?'}, 'score': 0.18660013199447611}, {'content': {'name': 'Transit Timing Variations (TTV)', 'description': \"Transit Timing Variations (TTV) are changes in the timing of a planet's transit across its star, which can indicate the presence of moons or other bodies influencing the planet's motion.\", 'metadata': None}, 'result_type': 'entity', 'chunk_ids': None, 'metadata': {'associated_query': 'What are the effects of climate change?'}, 'score': 0.18183369257048587}, {'content': {'name': 'Gravitational Perturbations', 'description': 'Gravitational perturbations are variations in gravitational forces that can affect the orbits of moons around planets, significant in the context of WASP-49Ab.', 'metadata': None}, 'result_type': 'entity', 'chunk_ids': None, 'metadata': {'associated_query': 'What are the effects of climate change?'}, 'score': 0.17475787702109025}, {'content': {'name': 'Transit Timing Variations (TTVs)', 'description': \"Transit Timing Variations are variations in the timing of a planet's transit across its star, which can indicate the presence of moons or other bodies.\", 'metadata': None}, 'result_type': 'entity', 'chunk_ids': None, 'metadata': {'associated_query': 'What are the effects of climate change?'}, 'score': 0.17390126897081637}, {'content': {'subject': 'Event', 'predicate': 'Subject To Change', 'object': 'Date and Time', 'metadata': None, 'score': None}, 'result_type': 'relationship', 'chunk_ids': None, 'metadata': {'associated_query': 'What are the effects of climate change?'}, 'score': 0.2091347325879669}, {'content': {'subject': 'Caltrain', 'predicate': 'Stops At', 'object': 'Santa Clara', 'metadata': None, 'score': None}, 'result_type': 'relationship', 'chunk_ids': None, 'metadata': {'associated_query': 'What are the effects of climate change?'}, 'score': 0.157809343003114}, {'content': {'subject': 'selenity', 'predicate': 'Quantifies', 'object': 'dynamics', 'metadata': None, 'score': None}, 'result_type': 'relationship', 'chunk_ids': None, 'metadata': {'associated_query': 'What are the effects of climate change?'}, 'score': 0.153763374461929}, {'content': {'subject': 'Caltrain', 'predicate': 'Stops At', 'object': 'Santa Clara', 'metadata': None, 'score': None}, 'result_type': 'relationship', 'chunk_ids': None, 'metadata': {'associated_query': 'What are the effects of climate change?'}, 'score': 0.1482928367504086}, {'content': {'subject': 'Train Schedule', 'predicate': 'Effective From', 'object': 'December 5, 2022', 'metadata': None, 'score': None}, 'result_type': 'relationship', 'chunk_ids': None, 'metadata': {'associated_query': 'What are the effects of climate change?'}, 'score': 0.14702550804311043}, {'content': {'subject': 'Caltrain', 'predicate': 'Stops At', 'object': 'Santa Clara', 'metadata': None, 'score': None}, 'result_type': 'relationship', 'chunk_ids': None, 'metadata': {'associated_query': 'What are the effects of climate change?'}, 'score': 0.14594109106766195}, {'content': {'subject': 'Team Dynamics', 'predicate': 'Affects', 'object': 'Employee', 'metadata': None, 'score': None}, 'result_type': 'relationship', 'chunk_ids': None, 'metadata': {'associated_query': 'What are the effects of climate change?'}, 'score': 0.13167554060512388}, {'content': {'subject': 'April 22 & 23, April 29 & 30, May 6 & 7, May 13 & 14, 2023', 'predicate': 'Effective Dates', 'object': 'Caltrain', 'metadata': None, 'score': None}, 'result_type': 'relationship', 'chunk_ids': None, 'metadata': {'associated_query': 'What are the effects of climate change?'}, 'score': 0.130356705721014}, {'content': {'subject': 'Caltrain', 'predicate': 'Serves', 'object': 'Santa Clara', 'metadata': None, 'score': None}, 'result_type': 'relationship', 'chunk_ids': None, 'metadata': {'associated_query': 'What are the effects of climate change?'}, 'score': 0.12987767101792536}, {'content': {'subject': 'WASP-49Ab', 'predicate': 'Influences', 'object': 'Roche Limit', 'metadata': None, 'score': None}, 'result_type': 'relationship', 'chunk_ids': None, 'metadata': {'associated_query': 'What are the effects of climate change?'}, 'score': 0.12976990526440013}]}}\n"
          ]
        }
      ]
    },
    {
      "cell_type": "markdown",
      "source": [
        "### **Ingest Document and Perform Search Operations on Knowledge Base**\n"
      ],
      "metadata": {
        "id": "AWdx-Lcg5WCo"
      }
    },
    {
      "cell_type": "code",
      "source": [
        "from r2r import R2RClient\n",
        "\n",
        "client = R2RClient()\n",
        "\n",
        "raw_text = \"\"\"\n",
        "Climate change refers to long-term shifts in weather patterns. Key impacts include rising sea levels, increased frequency of extreme weather events, and changes in biodiversity. Renewable energy sources like solar and wind power are vital for reducing greenhouse gas emissions. Global efforts to mitigate climate change include agreements like the Paris Accord.\n",
        "\"\"\"\n",
        "\n",
        "ingest_response = client.documents.create(raw_text=raw_text)\n",
        "print(f\"Ingest Response: {ingest_response}\")\n"
      ],
      "metadata": {
        "colab": {
          "base_uri": "https://localhost:8080/"
        },
        "id": "ae6J3XNZxsIb",
        "outputId": "97598b9a-175e-40bd-c4e1-085dad6ad8da"
      },
      "execution_count": null,
      "outputs": [
        {
          "output_type": "stream",
          "name": "stdout",
          "text": [
            "Ingest Response: {'results': {'message': 'Ingest files task queued successfully.', 'task_id': 'ba5f3d3b-8ec3-4a7a-96d8-2be6297d3aae', 'document_id': '3074d0aa-1617-5207-86af-76c13af6c4c3'}}\n"
          ]
        }
      ]
    },
    {
      "cell_type": "markdown",
      "source": [
        "### **Listing All Documents**"
      ],
      "metadata": {
        "id": "cxdGykuc4_AY"
      }
    },
    {
      "cell_type": "code",
      "source": [
        "# List all documents\n",
        "documents = client.documents.list()\n",
        "print(f\"Documents: {documents}\")\n"
      ],
      "metadata": {
        "colab": {
          "base_uri": "https://localhost:8080/"
        },
        "id": "PTRUk_TCzQ8r",
        "outputId": "e18b7cb5-b0ee-4640-861a-e2d858f1c196"
      },
      "execution_count": null,
      "outputs": [
        {
          "output_type": "stream",
          "name": "stdout",
          "text": [
            "Documents: {'results': [{'id': '3074d0aa-1617-5207-86af-76c13af6c4c3', 'collection_ids': ['dc02dc09-e50c-51ce-b94e-ed4a5a82a9ab'], 'owner_id': 'fa63a2e4-b26e-5454-afe4-92e2ab298b6c', 'document_type': 'txt', 'metadata': {'version': 'v0'}, 'title': 'N/A', 'version': 'v0', 'size_in_bytes': 363, 'ingestion_status': 'success', 'extraction_status': 'processing', 'created_at': '2025-01-15T07:10:56.650069Z', 'updated_at': '2025-01-15T07:10:56.754715Z', 'ingestion_attempt_number': None, 'summary': 'The document contains an overview of climate change, highlighting its long-term effects such as rising sea levels, extreme weather events, and biodiversity changes. It emphasizes the importance of renewable energy sources, like solar and wind power, in reducing greenhouse gas emissions and mentions global initiatives, including the Paris Accord, aimed at mitigating climate change.', 'summary_embedding': None}, {'id': '0a0e7df3-6e1b-5298-9acf-6fd9c07925dc', 'collection_ids': ['dc02dc09-e50c-51ce-b94e-ed4a5a82a9ab'], 'owner_id': 'fa63a2e4-b26e-5454-afe4-92e2ab298b6c', 'document_type': 'txt', 'metadata': {'version': 'v0'}, 'title': 'N/A', 'version': 'v0', 'size_in_bytes': 26, 'ingestion_status': 'success', 'extraction_status': 'success', 'created_at': '2025-01-15T06:55:04.104613Z', 'updated_at': '2025-01-15T06:55:04.190611Z', 'ingestion_attempt_number': None, 'summary': \"The document contains a brief statement indicating that it is the author's first document.\", 'summary_embedding': None}], 'total_entries': 2}\n"
          ]
        }
      ]
    },
    {
      "cell_type": "markdown",
      "source": [
        "###**Basic Semantic Search**"
      ],
      "metadata": {
        "id": "JUP3OtQu5Evc"
      }
    },
    {
      "cell_type": "code",
      "source": [
        "results = client.retrieval.search(\n",
        "    query=\"What causes rising sea levels?\",\n",
        "    search_mode=\"basic\"\n",
        ")\n",
        "print(f\"Basic Search Results: {results}\")\n"
      ],
      "metadata": {
        "colab": {
          "base_uri": "https://localhost:8080/"
        },
        "id": "553i6vhYzVtB",
        "outputId": "ab62cb6c-0824-46ce-e5ac-b83950d18959"
      },
      "execution_count": null,
      "outputs": [
        {
          "output_type": "stream",
          "name": "stdout",
          "text": [
            "Basic Search Results: {'results': {'chunk_search_results': [{'id': '4080f369-e54f-5e41-9c33-3bd40e329533', 'document_id': '3074d0aa-1617-5207-86af-76c13af6c4c3', 'owner_id': 'fa63a2e4-b26e-5454-afe4-92e2ab298b6c', 'collection_ids': ['dc02dc09-e50c-51ce-b94e-ed4a5a82a9ab'], 'score': 0.332794348430971, 'text': 'Climate change refers to long-term shifts in weather patterns. Key impacts include rising sea levels, increased frequency of extreme weather events, and changes in biodiversity. Renewable energy sources like solar and wind power are vital for reducing greenhouse gas emissions. Global efforts to mitigate climate change include agreements like the Paris Accord.', 'metadata': {'version': 'v0', 'chunk_order': 0, 'document_type': 'txt', 'unstructured_filetype': 'text/plain', 'unstructured_languages': ['eng'], 'partitioned_by_unstructured': True, 'associated_query': 'What causes rising sea levels?'}}, {'id': '656814e9-fc30-549c-bc0b-240b4aa2fc71', 'document_id': '0a0e7df3-6e1b-5298-9acf-6fd9c07925dc', 'owner_id': 'fa63a2e4-b26e-5454-afe4-92e2ab298b6c', 'collection_ids': ['dc02dc09-e50c-51ce-b94e-ed4a5a82a9ab'], 'score': 0.02273338728348573, 'text': 'This is my first document.', 'metadata': {'version': 'v0', 'chunk_order': 0, 'document_type': 'txt', 'unstructured_filetype': 'text/plain', 'unstructured_languages': ['eng'], 'partitioned_by_unstructured': True, 'associated_query': 'What causes rising sea levels?'}}], 'graph_search_results': [{'content': {'name': 'Relativistic Effects', 'description': \"Relativistic effects are the consequences of Einstein's theory of relativity that influence the dynamics of celestial bodies, considered in the study of WASP-49Ab.\", 'metadata': None}, 'result_type': 'entity', 'chunk_ids': None, 'metadata': {'associated_query': 'What causes rising sea levels?'}, 'score': 0.22361658356288616}, {'content': {'name': 'Volcanic moon', 'description': 'A volcanic moon is a type of moon characterized by geological activity, such as volcanism, which can influence the atmosphere of its host planet.', 'metadata': None}, 'result_type': 'entity', 'chunk_ids': None, 'metadata': {'associated_query': 'What causes rising sea levels?'}, 'score': 0.21705566346645355}, {'content': {'name': 'Doppler-shifted sodium', 'description': 'Doppler-shifted sodium refers to the detection of sodium in the atmosphere of WASP-49Ab, suggesting potential volcanic activity from a nearby exomoon.', 'metadata': None}, 'result_type': 'entity', 'chunk_ids': None, 'metadata': {'associated_query': 'What causes rising sea levels?'}, 'score': 0.20885802805423737}, {'content': {'name': 'Roche limit', 'description': 'The Roche limit is the minimum distance at which a satellite can orbit a planet without being torn apart by tidal forces.', 'metadata': None}, 'result_type': 'entity', 'chunk_ids': None, 'metadata': {'associated_query': 'What causes rising sea levels?'}, 'score': 0.2079766305678079}, {'content': {'name': 'Selenity', 'description': \"Selenity is a metric introduced in the study to quantify the stability of a moon's orbit around a planet, indicating the likelihood of remaining bound to the planet.\", 'metadata': None}, 'result_type': 'entity', 'chunk_ids': None, 'metadata': {'associated_query': 'What causes rising sea levels?'}, 'score': 0.19964826707264716}, {'content': {'name': 'Relativistic Effects', 'description': \"Relativistic effects are the consequences of Einstein's theory of relativity that influence the orbital dynamics of WASP-49Ab due to its proximity to its host star.\", 'metadata': None}, 'result_type': 'entity', 'chunk_ids': None, 'metadata': {'associated_query': 'What causes rising sea levels?'}, 'score': 0.1947370229583092}, {'content': {'name': 'Roche limit', 'description': 'The Roche limit is the minimum distance to which a celestial body can approach another body without being torn apart by tidal forces.', 'metadata': None}, 'result_type': 'entity', 'chunk_ids': None, 'metadata': {'associated_query': 'What causes rising sea levels?'}, 'score': 0.18865247070789337}, {'content': {'name': 'selenity', 'description': 'Selenity is a metric introduced in the study to quantify the stability of moons in orbit around planets.', 'metadata': None}, 'result_type': 'entity', 'chunk_ids': None, 'metadata': {'associated_query': 'What causes rising sea levels?'}, 'score': 0.18728606776678192}, {'content': {'name': 'Transit Radius Variations (TRVs)', 'description': 'Transit Radius Variations are changes in the apparent size of a planet during transit, which can suggest the presence of nearby moons.', 'metadata': None}, 'result_type': 'entity', 'chunk_ids': None, 'metadata': {'associated_query': 'What causes rising sea levels?'}, 'score': 0.18508109063393452}, {'content': {'name': 'Selenity', 'description': \"Selenity is a metric introduced in the study to quantify the stability of a moon's orbit around a planet, indicating the likelihood of survival in various orbital conditions.\", 'metadata': None}, 'result_type': 'entity', 'chunk_ids': None, 'metadata': {'associated_query': 'What causes rising sea levels?'}, 'score': 0.18462219834327698}, {'content': {'subject': 'selenity', 'predicate': 'Quantifies', 'object': 'dynamics', 'metadata': None, 'score': None}, 'result_type': 'relationship', 'chunk_ids': None, 'metadata': {'associated_query': 'What causes rising sea levels?'}, 'score': 0.20283725576622857}, {'content': {'subject': 'WASP-49Ab', 'predicate': 'Concept', 'object': 'Roche Limit', 'metadata': None, 'score': None}, 'result_type': 'relationship', 'chunk_ids': None, 'metadata': {'associated_query': 'What causes rising sea levels?'}, 'score': 0.18214723467826843}, {'content': {'subject': 'WASP-49Ab', 'predicate': 'Influences', 'object': 'Roche Limit', 'metadata': None, 'score': None}, 'result_type': 'relationship', 'chunk_ids': None, 'metadata': {'associated_query': 'What causes rising sea levels?'}, 'score': 0.17899874699130813}, {'content': {'subject': 'WASP-49Ab', 'predicate': 'Metric', 'object': 'Selenity', 'metadata': None, 'score': None}, 'result_type': 'relationship', 'chunk_ids': None, 'metadata': {'associated_query': 'What causes rising sea levels?'}, 'score': 0.16064933899935152}, {'content': {'subject': 'WASP-49Ab', 'predicate': 'Quantifies', 'object': 'Selenity', 'metadata': None, 'score': None}, 'result_type': 'relationship', 'chunk_ids': None, 'metadata': {'associated_query': 'What causes rising sea levels?'}, 'score': 0.1429819145224207}, {'content': {'subject': 'RAG Pilot Program', 'predicate': 'Includes', 'object': 'OpenAI credits', 'metadata': None, 'score': None}, 'result_type': 'relationship', 'chunk_ids': None, 'metadata': {'associated_query': 'What causes rising sea levels?'}, 'score': 0.13928468525409698}, {'content': {'subject': 'Emergent AGI Inc.', 'predicate': 'Operates Under', 'object': 'SciPhi', 'metadata': None, 'score': None}, 'result_type': 'relationship', 'chunk_ids': None, 'metadata': {'associated_query': 'What causes rising sea levels?'}, 'score': 0.11225737631320953}, {'content': {'subject': 'WASP-49Ab', 'predicate': 'Orbits Around', 'object': 'Host Star', 'metadata': None, 'score': None}, 'result_type': 'relationship', 'chunk_ids': None, 'metadata': {'associated_query': 'What causes rising sea levels?'}, 'score': 0.09885440177593241}, {'content': {'subject': 'eccentricity', 'predicate': 'Affects', 'object': 'stability', 'metadata': None, 'score': None}, 'result_type': 'relationship', 'chunk_ids': None, 'metadata': {'associated_query': 'What causes rising sea levels?'}, 'score': 0.08992892503738403}, {'content': {'subject': 'Participant', 'predicate': 'Engages In', 'object': 'RAG Pilot Program', 'metadata': None, 'score': None}, 'result_type': 'relationship', 'chunk_ids': None, 'metadata': {'associated_query': 'What causes rising sea levels?'}, 'score': 0.08086174244512678}]}}\n"
          ]
        }
      ]
    },
    {
      "cell_type": "markdown",
      "source": [
        "###**Advanced Search**"
      ],
      "metadata": {
        "id": "ZP3B3dod5GYf"
      }
    },
    {
      "cell_type": "code",
      "source": [
        "results = client.retrieval.search(\n",
        "    query=\"What are renewable energy sources?\",\n",
        "    search_mode=\"advanced\",\n",
        "    search_settings={\n",
        "        \"filters\": {\n",
        "            \"document_type\": {\"$eq\": \"text\"},\n",
        "            \"year\": {\"$gt\": 2020}  # Example filter\n",
        "        },\n",
        "        \"limit\": 5\n",
        "    }\n",
        ")\n",
        "print(f\"Advanced Search Results: {results}\")\n"
      ],
      "metadata": {
        "colab": {
          "base_uri": "https://localhost:8080/"
        },
        "id": "w7aN1ElgzlrL",
        "outputId": "b64aecfa-4a97-40e9-e687-a25efc97976c"
      },
      "execution_count": null,
      "outputs": [
        {
          "output_type": "stream",
          "name": "stdout",
          "text": [
            "Advanced Search Results: {'results': {'chunk_search_results': [], 'graph_search_results': [{'content': {'name': 'Unauthorized Sources', 'description': 'Unauthorized sources refer to individuals or entities from which tickets should not be purchased, as tickets from these sources may be invalid.', 'metadata': None}, 'result_type': 'entity', 'chunk_ids': None, 'metadata': {'associated_query': 'What are renewable energy sources?'}, 'score': 0.25905157679626845}, {'content': {'name': 'Employee Rights', 'description': 'Employee Rights include the entitlements and responsibilities regarding time off and work hours as outlined in the guidelines.', 'metadata': None}, 'result_type': 'entity', 'chunk_ids': None, 'metadata': {'associated_query': 'What are renewable energy sources?'}, 'score': 0.18508521496233898}, {'content': {'name': 'Employee Rights', 'description': 'Employee Rights include the entitlements and responsibilities regarding time off and work hours as outlined in the guidelines.', 'metadata': None}, 'result_type': 'entity', 'chunk_ids': None, 'metadata': {'associated_query': 'What are renewable energy sources?'}, 'score': 0.18508521496233898}, {'content': {'name': 'April 22 & 23, April 29 & 30, May 6 & 7, May 13 & 14, 2023', 'description': 'These are the specific dates when the Caltrain weekend service schedule is effective.', 'metadata': None}, 'result_type': 'entity', 'chunk_ids': None, 'metadata': {'associated_query': 'What are renewable energy sources?'}, 'score': 0.1710896688050232}, {'content': {'name': 'Weekend Service', 'description': 'Weekend Service refers to the specific operational schedule of Caltrain trains on Saturdays and Sundays.', 'metadata': None}, 'result_type': 'entity', 'chunk_ids': None, 'metadata': {'associated_query': 'What are renewable energy sources?'}, 'score': 0.16641926765441895}, {'content': {'subject': 'April 22 & 23, April 29 & 30, May 6 & 7, May 13 & 14, 2023', 'predicate': 'Effective Dates', 'object': 'Caltrain', 'metadata': None, 'score': None}, 'result_type': 'relationship', 'chunk_ids': None, 'metadata': {'associated_query': 'What are renewable energy sources?'}, 'score': 0.19175030638275736}, {'content': {'subject': 'Ticket', 'predicate': 'Invalid If Obtained From', 'object': 'Unauthorized Sources', 'metadata': None, 'score': None}, 'result_type': 'relationship', 'chunk_ids': None, 'metadata': {'associated_query': 'What are renewable energy sources?'}, 'score': 0.15034538507461548}, {'content': {'subject': 'Weekend Service', 'predicate': 'Type Of', 'object': 'Caltrain', 'metadata': None, 'score': None}, 'result_type': 'relationship', 'chunk_ids': None, 'metadata': {'associated_query': 'What are renewable energy sources?'}, 'score': 0.14793363213539124}, {'content': {'subject': 'Train Schedule', 'predicate': 'Details', 'object': 'Caltrain', 'metadata': None, 'score': None}, 'result_type': 'relationship', 'chunk_ids': None, 'metadata': {'associated_query': 'What are renewable energy sources?'}, 'score': 0.13336022098538725}, {'content': {'subject': 'Train Schedule', 'predicate': 'Details', 'object': 'Caltrain', 'metadata': None, 'score': None}, 'result_type': 'relationship', 'chunk_ids': None, 'metadata': {'associated_query': 'What are renewable energy sources?'}, 'score': 0.130817218921517}]}}\n"
          ]
        }
      ]
    },
    {
      "cell_type": "markdown",
      "source": [
        "###**Custom Search**"
      ],
      "metadata": {
        "id": "VAZ_Wir75J5E"
      }
    },
    {
      "cell_type": "code",
      "source": [
        "results = client.retrieval.search(\n",
        "    query=\"What agreements help mitigate climate change?\",\n",
        "    search_mode=\"custom\",\n",
        "    search_settings={\n",
        "        \"filters\": {\n",
        "            \"keywords\": {\"$in\": [\"Paris Accord\", \"climate change\"]}\n",
        "        },\n",
        "        \"limit\": 3,\n",
        "        \"use_hybrid_search\": True\n",
        "    }\n",
        ")\n",
        "print(f\"Custom Search Results: {results}\")\n"
      ],
      "metadata": {
        "colab": {
          "base_uri": "https://localhost:8080/"
        },
        "id": "FcOhxVCl0xSO",
        "outputId": "c949dcb4-23cb-41c8-9454-064485678965"
      },
      "execution_count": null,
      "outputs": [
        {
          "output_type": "stream",
          "name": "stdout",
          "text": [
            "Custom Search Results: {'results': {'chunk_search_results': [], 'graph_search_results': [{'content': {'name': 'Contractual Agreements', 'description': 'Legal documents outlining the terms of employment, including IP assignment and non-compete clauses.', 'metadata': None}, 'result_type': 'entity', 'chunk_ids': None, 'metadata': {'associated_query': 'What agreements help mitigate climate change?'}, 'score': 0.29434844851493835}, {'content': {'name': 'Delaware', 'description': 'Delaware is the state in which Emergent AGI Inc. is incorporated and whose laws govern the SciPhi RAG Pilot Program Agreement.', 'metadata': None}, 'result_type': 'entity', 'chunk_ids': None, 'metadata': {'associated_query': 'What agreements help mitigate climate change?'}, 'score': 0.2773832513461565}, {'content': {'name': 'Participant', 'description': 'The Participant is the entity that engages with Emergent AGI Inc. in the SciPhi RAG Pilot Program Agreement, details of which are to be inserted.', 'metadata': None}, 'result_type': 'entity', 'chunk_ids': None, 'metadata': {'associated_query': 'What agreements help mitigate climate change?'}, 'score': 0.24046795070171356}, {'content': {'subject': 'Contractual Agreements', 'predicate': 'Involves', 'object': 'Employee', 'metadata': None, 'score': None}, 'result_type': 'relationship', 'chunk_ids': None, 'metadata': {'associated_query': 'What agreements help mitigate climate change?'}, 'score': 0.27783918380737305}, {'content': {'subject': 'October 3, 2024', 'predicate': 'Effective Date', 'object': 'RAG Pilot Program', 'metadata': None, 'score': None}, 'result_type': 'relationship', 'chunk_ids': None, 'metadata': {'associated_query': 'What agreements help mitigate climate change?'}, 'score': 0.26138007640838623}, {'content': {'subject': 'RAG Pilot Program', 'predicate': 'Includes', 'object': 'OpenAI credits', 'metadata': None, 'score': None}, 'result_type': 'relationship', 'chunk_ids': None, 'metadata': {'associated_query': 'What agreements help mitigate climate change?'}, 'score': 0.22844058275222778}]}}\n"
          ]
        }
      ]
    },
    {
      "cell_type": "markdown",
      "source": [
        "### **RAG: Retrieval-Augmented Generation**"
      ],
      "metadata": {
        "id": "pd6wOLUZ39Vr"
      }
    },
    {
      "cell_type": "code",
      "source": [
        "from r2r import R2RClient\n",
        "\n",
        "client = R2RClient()\n",
        "\n",
        "with open(\"test1.txt\", \"w\") as file:\n",
        "    file.write(\"John is a person that works at Google.\")\n",
        "\n",
        "client.documents.create(file_path=\"test1.txt\")\n",
        "\n",
        "# Call RAG directly\n",
        "rag_response = client.retrieval.rag(\n",
        "    query=\"Who is john\",\n",
        "    rag_generation_config={\"model\": \"openai/gpt-4o-mini\", \"temperature\": 0.0},\n",
        ")\n",
        "results = rag_response[\"results\"]\n",
        "\n",
        "print(f\"Search Results:\\n{results['search_results']}\")\n",
        "\n",
        "print(f\"Completion:\\n{results['completion']}\")\n"
      ],
      "metadata": {
        "colab": {
          "base_uri": "https://localhost:8080/"
        },
        "id": "DDYClLsC08Nb",
        "outputId": "4b5017b3-f7b7-440a-c7a3-937b2d5c05a7"
      },
      "execution_count": null,
      "outputs": [
        {
          "output_type": "stream",
          "name": "stdout",
          "text": [
            "Search Results:\n",
            "{'chunk_search_results': [{'id': '3524f9dc-53c3-59eb-80aa-a134f431eeb5', 'document_id': 'c25ed6b8-6b36-5e2f-9f3e-f02aef41e4c2', 'owner_id': 'fa63a2e4-b26e-5454-afe4-92e2ab298b6c', 'collection_ids': ['dc02dc09-e50c-51ce-b94e-ed4a5a82a9ab'], 'score': 0.6847736051543716, 'text': 'John is a person that works at Google.', 'metadata': {'version': 'v0', 'chunk_order': 0, 'document_type': 'txt', 'unstructured_filetype': 'text/plain', 'unstructured_languages': ['eng'], 'partitioned_by_unstructured': True, 'associated_query': 'Who is john'}}, {'id': '656814e9-fc30-549c-bc0b-240b4aa2fc71', 'document_id': '0a0e7df3-6e1b-5298-9acf-6fd9c07925dc', 'owner_id': 'fa63a2e4-b26e-5454-afe4-92e2ab298b6c', 'collection_ids': ['dc02dc09-e50c-51ce-b94e-ed4a5a82a9ab'], 'score': 0.2095065241757944, 'text': 'This is my first document.', 'metadata': {'version': 'v0', 'chunk_order': 0, 'document_type': 'txt', 'unstructured_filetype': 'text/plain', 'unstructured_languages': ['eng'], 'partitioned_by_unstructured': True, 'associated_query': 'Who is john'}}, {'id': '4080f369-e54f-5e41-9c33-3bd40e329533', 'document_id': '3074d0aa-1617-5207-86af-76c13af6c4c3', 'owner_id': 'fa63a2e4-b26e-5454-afe4-92e2ab298b6c', 'collection_ids': ['dc02dc09-e50c-51ce-b94e-ed4a5a82a9ab'], 'score': 0.031123590659392297, 'text': 'Climate change refers to long-term shifts in weather patterns. Key impacts include rising sea levels, increased frequency of extreme weather events, and changes in biodiversity. Renewable energy sources like solar and wind power are vital for reducing greenhouse gas emissions. Global efforts to mitigate climate change include agreements like the Paris Accord.', 'metadata': {'version': 'v0', 'chunk_order': 0, 'document_type': 'txt', 'unstructured_filetype': 'text/plain', 'unstructured_languages': ['eng'], 'partitioned_by_unstructured': True, 'associated_query': 'Who is john'}}], 'graph_search_results': [{'content': {'name': 'Io', 'description': \"Io is one of Jupiter's moons, known for its volcanic activity and is used as a mass reference in the study of potential exomoons around WASP-49Ab.\", 'metadata': None}, 'result_type': 'entity', 'chunk_ids': None, 'metadata': {'associated_query': 'Who is john'}, 'score': 0.3458752345331224}, {'content': {'name': 'Io', 'description': \"Io is one of Jupiter's moons, known for its volcanic activity, and is used as a mass reference in the study of exomoons around WASP-49Ab.\", 'metadata': None}, 'result_type': 'entity', 'chunk_ids': None, 'metadata': {'associated_query': 'Who is john'}, 'score': 0.34581698936769534}, {'content': {'name': 'Io', 'description': \"Io is one of Jupiter's moons, known for its volcanic activity, and serves as a reference for mass and radius scaling in the study of exomoons around WASP-49Ab.\", 'metadata': None}, 'result_type': 'entity', 'chunk_ids': None, 'metadata': {'associated_query': 'Who is john'}, 'score': 0.3300993639289953}, {'content': {'name': 'Io', 'description': \"Io is one of Jupiter's moons, known for its volcanic activity and is used as a mass reference in the study of exomoons.\", 'metadata': None}, 'result_type': 'entity', 'chunk_ids': None, 'metadata': {'associated_query': 'Who is john'}, 'score': 0.3236700988909633}, {'content': {'name': 'Employee', 'description': 'An individual who works for a company, contributing to its operations and objectives.', 'metadata': None}, 'result_type': 'entity', 'chunk_ids': None, 'metadata': {'associated_query': 'Who is john'}, 'score': 0.30923979552865766}, {'content': {'name': 'Authors', 'description': 'The authors of the study are researchers who conducted the investigation into the dynamics and detectability of exomoons around WASP-49Ab.', 'metadata': None}, 'result_type': 'entity', 'chunk_ids': None, 'metadata': {'associated_query': 'Who is john'}, 'score': 0.2943389626044356}, {'content': {'name': 'Interviewer', 'description': 'An individual who conducts interviews to assess candidates for job positions, asking questions about the company and the role.', 'metadata': None}, 'result_type': 'entity', 'chunk_ids': None, 'metadata': {'associated_query': 'Who is john'}, 'score': 0.2763324893613919}, {'content': {'name': 'Owen Colegrove', 'description': 'Owen Colegrove is the CEO and Founder of Emergent AGI Inc., who signs the agreement on behalf of the provider.', 'metadata': None}, 'result_type': 'entity', 'chunk_ids': None, 'metadata': {'associated_query': 'Who is john'}, 'score': 0.2625047925855434}, {'content': {'name': 'Participant', 'description': 'The Participant is the entity that engages with Emergent AGI Inc. in the SciPhi RAG Pilot Program Agreement, details of which are to be inserted.', 'metadata': None}, 'result_type': 'entity', 'chunk_ids': None, 'metadata': {'associated_query': 'Who is john'}, 'score': 0.24616459745659236}, {'content': {'name': 'N-body Simulations', 'description': 'N-body simulations are computational methods used in the study to evaluate the dynamics and stability of potential exomoons around WASP-49Ab.', 'metadata': None}, 'result_type': 'entity', 'chunk_ids': None, 'metadata': {'associated_query': 'Who is john'}, 'score': 0.24416444433225537}, {'content': {'subject': 'WASP-49Ab', 'predicate': 'Reference', 'object': 'Io', 'metadata': None, 'score': None}, 'result_type': 'relationship', 'chunk_ids': None, 'metadata': {'associated_query': 'Who is john'}, 'score': 0.33471284314134264}, {'content': {'subject': 'Io', 'predicate': 'Reference', 'object': 'mass', 'metadata': None, 'score': None}, 'result_type': 'relationship', 'chunk_ids': None, 'metadata': {'associated_query': 'Who is john'}, 'score': 0.3098785558234356}, {'content': {'subject': 'WASP-49Ab', 'predicate': 'Reference For', 'object': 'Io', 'metadata': None, 'score': None}, 'result_type': 'relationship', 'chunk_ids': None, 'metadata': {'associated_query': 'Who is john'}, 'score': 0.29045629117992156}, {'content': {'subject': 'N-body simulations', 'predicate': 'Method', 'object': 'dynamics', 'metadata': None, 'score': None}, 'result_type': 'relationship', 'chunk_ids': None, 'metadata': {'associated_query': 'Who is john'}, 'score': 0.21536806867623537}, {'content': {'subject': 'WASP-49Ab', 'predicate': 'Orbits Around', 'object': 'Host Star', 'metadata': None, 'score': None}, 'result_type': 'relationship', 'chunk_ids': None, 'metadata': {'associated_query': 'Who is john'}, 'score': 0.21455245570682213}, {'content': {'subject': 'Interviewer', 'predicate': 'Works For', 'object': 'Company', 'metadata': None, 'score': None}, 'result_type': 'relationship', 'chunk_ids': None, 'metadata': {'associated_query': 'Who is john'}, 'score': 0.20841760064415937}, {'content': {'subject': 'eccentricity', 'predicate': 'Affects', 'object': 'stability', 'metadata': None, 'score': None}, 'result_type': 'relationship', 'chunk_ids': None, 'metadata': {'associated_query': 'Who is john'}, 'score': 0.20641530175254652}, {'content': {'subject': 'Participant', 'predicate': 'Engages In', 'object': 'RAG Pilot Program', 'metadata': None, 'score': None}, 'result_type': 'relationship', 'chunk_ids': None, 'metadata': {'associated_query': 'Who is john'}, 'score': 0.20414877819571642}, {'content': {'subject': 'WASP-49Ab', 'predicate': 'Orbits', 'object': 'Sun-like star', 'metadata': None, 'score': None}, 'result_type': 'relationship', 'chunk_ids': None, 'metadata': {'associated_query': 'Who is john'}, 'score': 0.19789853660740586}, {'content': {'subject': 'Makenzie Wilson', 'predicate': 'Purchased', 'object': 'Ticket', 'metadata': None, 'score': None}, 'result_type': 'relationship', 'chunk_ids': None, 'metadata': {'associated_query': 'Who is john'}, 'score': 0.19587387405698375}], 'web_search_results': None}\n",
            "Completion:\n",
            "{'id': 'chatcmpl-AprzmRYEAtXyiY2wsm60A6psidkvP', 'choices': [{'finish_reason': 'stop', 'index': 0, 'logprobs': None, 'message': {'content': 'John is a person that works at Google [1].', 'refusal': None, 'role': 'assistant', 'audio': None, 'function_call': None, 'tool_calls': None}}], 'created': 1736925650, 'model': 'gpt-4o-mini-2024-07-18', 'object': 'chat.completion', 'service_tier': 'default', 'system_fingerprint': 'fp_72ed7ab54c', 'usage': {'completion_tokens': 12, 'prompt_tokens': 760, 'total_tokens': 772, 'completion_tokens_details': {'accepted_prediction_tokens': 0, 'audio_tokens': 0, 'reasoning_tokens': 0, 'rejected_prediction_tokens': 0}, 'prompt_tokens_details': {'audio_tokens': 0, 'cached_tokens': 0}}}\n"
          ]
        }
      ]
    },
    {
      "cell_type": "markdown",
      "source": [
        "### **RAG: Hybrid Search Configuration**"
      ],
      "metadata": {
        "id": "JIMdnoHo4DfY"
      }
    },
    {
      "cell_type": "code",
      "source": [
        "results = client.retrieval.rag(\"Who is John?\", {\"use_hybrid_search\": True})"
      ],
      "metadata": {
        "id": "kS1J4uRk19sZ"
      },
      "execution_count": null,
      "outputs": []
    },
    {
      "cell_type": "code",
      "source": [
        "print(results)"
      ],
      "metadata": {
        "colab": {
          "base_uri": "https://localhost:8080/"
        },
        "id": "MbvKJV0V1Mqt",
        "outputId": "40e1a061-eeaf-4a40-fa0e-497604c0c90e"
      },
      "execution_count": null,
      "outputs": [
        {
          "output_type": "stream",
          "name": "stdout",
          "text": [
            "{'results': {'completion': {'id': 'chatcmpl-Aps2IVC9fJEhvRJtmUo7TnfIOHdjs', 'choices': [{'finish_reason': 'stop', 'index': 0, 'logprobs': None, 'message': {'content': 'John is a person that works at Google [1], [2].', 'refusal': None, 'role': 'assistant', 'audio': None, 'function_call': None, 'tool_calls': None}}], 'created': 1736925806, 'model': 'gpt-4o-2024-05-13', 'object': 'chat.completion', 'service_tier': None, 'system_fingerprint': 'fp_65792305e4', 'usage': {'completion_tokens': 14, 'prompt_tokens': 819, 'total_tokens': 833, 'completion_tokens_details': None, 'prompt_tokens_details': None}}, 'search_results': {'chunk_search_results': [{'id': '3524f9dc-53c3-59eb-80aa-a134f431eeb5', 'document_id': 'c25ed6b8-6b36-5e2f-9f3e-f02aef41e4c2', 'owner_id': 'fa63a2e4-b26e-5454-afe4-92e2ab298b6c', 'collection_ids': ['dc02dc09-e50c-51ce-b94e-ed4a5a82a9ab'], 'score': 0.6972872226621876, 'text': 'John is a person that works at Google.', 'metadata': {'version': 'v0', 'chunk_order': 0, 'document_type': 'txt', 'unstructured_filetype': 'text/plain', 'unstructured_languages': ['eng'], 'partitioned_by_unstructured': True, 'associated_query': 'Who is John?'}}, {'id': '642be29c-44f4-5f1f-9f39-e51a67aec6fd', 'document_id': '0e3bbc05-ab75-5eb3-a8c8-0b9f0de55fc7', 'owner_id': 'fa63a2e4-b26e-5454-afe4-92e2ab298b6c', 'collection_ids': ['dc02dc09-e50c-51ce-b94e-ed4a5a82a9ab'], 'score': 0.6972872226621876, 'text': 'John is a person that works at Google.', 'metadata': {'version': 'v0', 'chunk_order': 0, 'document_type': 'txt', 'unstructured_filetype': 'text/plain', 'unstructured_languages': ['eng'], 'partitioned_by_unstructured': True, 'associated_query': 'Who is John?'}}, {'id': '656814e9-fc30-549c-bc0b-240b4aa2fc71', 'document_id': '0a0e7df3-6e1b-5298-9acf-6fd9c07925dc', 'owner_id': 'fa63a2e4-b26e-5454-afe4-92e2ab298b6c', 'collection_ids': ['dc02dc09-e50c-51ce-b94e-ed4a5a82a9ab'], 'score': 0.19338529388264702, 'text': 'This is my first document.', 'metadata': {'version': 'v0', 'chunk_order': 0, 'document_type': 'txt', 'unstructured_filetype': 'text/plain', 'unstructured_languages': ['eng'], 'partitioned_by_unstructured': True, 'associated_query': 'Who is John?'}}, {'id': '4080f369-e54f-5e41-9c33-3bd40e329533', 'document_id': '3074d0aa-1617-5207-86af-76c13af6c4c3', 'owner_id': 'fa63a2e4-b26e-5454-afe4-92e2ab298b6c', 'collection_ids': ['dc02dc09-e50c-51ce-b94e-ed4a5a82a9ab'], 'score': 0.034356104024880985, 'text': 'Climate change refers to long-term shifts in weather patterns. Key impacts include rising sea levels, increased frequency of extreme weather events, and changes in biodiversity. Renewable energy sources like solar and wind power are vital for reducing greenhouse gas emissions. Global efforts to mitigate climate change include agreements like the Paris Accord.', 'metadata': {'version': 'v0', 'chunk_order': 0, 'document_type': 'txt', 'unstructured_filetype': 'text/plain', 'unstructured_languages': ['eng'], 'partitioned_by_unstructured': True, 'associated_query': 'Who is John?'}}], 'graph_search_results': [{'content': {'name': 'Io', 'description': \"Io is one of Jupiter's moons, known for its volcanic activity, and is used as a mass reference in the study of exomoons around WASP-49Ab.\", 'metadata': None}, 'result_type': 'entity', 'chunk_ids': None, 'metadata': {'associated_query': 'Who is John?'}, 'score': 0.32009858129645985}, {'content': {'name': 'Io', 'description': \"Io is one of Jupiter's moons, known for its volcanic activity and is used as a mass reference in the study of potential exomoons around WASP-49Ab.\", 'metadata': None}, 'result_type': 'entity', 'chunk_ids': None, 'metadata': {'associated_query': 'Who is John?'}, 'score': 0.3199170935203428}, {'content': {'name': 'Io', 'description': \"Io is one of Jupiter's moons, known for its volcanic activity, and serves as a reference for mass and radius scaling in the study of exomoons around WASP-49Ab.\", 'metadata': None}, 'result_type': 'entity', 'chunk_ids': None, 'metadata': {'associated_query': 'Who is John?'}, 'score': 0.3073317729832171}, {'content': {'name': 'Io', 'description': \"Io is one of Jupiter's moons, known for its volcanic activity and is used as a mass reference in the study of exomoons.\", 'metadata': None}, 'result_type': 'entity', 'chunk_ids': None, 'metadata': {'associated_query': 'Who is John?'}, 'score': 0.30089684714116705}, {'content': {'name': 'Employee', 'description': 'An individual who works for a company, contributing to its operations and objectives.', 'metadata': None}, 'result_type': 'entity', 'chunk_ids': None, 'metadata': {'associated_query': 'Who is John?'}, 'score': 0.26799676990566845}, {'content': {'name': 'Interviewer', 'description': 'An individual who conducts interviews to assess candidates for job positions, asking questions about the company and the role.', 'metadata': None}, 'result_type': 'entity', 'chunk_ids': None, 'metadata': {'associated_query': 'Who is John?'}, 'score': 0.2589157952816856}, {'content': {'name': 'Authors', 'description': 'The authors of the study are researchers who conducted the investigation into the dynamics and detectability of exomoons around WASP-49Ab.', 'metadata': None}, 'result_type': 'entity', 'chunk_ids': None, 'metadata': {'associated_query': 'Who is John?'}, 'score': 0.2524982537332324}, {'content': {'name': 'N-body Simulations', 'description': 'N-body simulations are computational methods used in the study to evaluate the dynamics and stability of potential exomoons around WASP-49Ab.', 'metadata': None}, 'result_type': 'entity', 'chunk_ids': None, 'metadata': {'associated_query': 'Who is John?'}, 'score': 0.21682356693463878}, {'content': {'name': 'WASP-49Ab', 'description': 'WASP-49Ab is a low-density, Saturn-like exoplanet in a close orbit around a Sun-like star, part of a wide binary system. It has a mass of 0.37 times that of Jupiter and a radius of 1.19 times that of Jupiter, orbiting at a distance of 0.03 AU.', 'metadata': None}, 'result_type': 'entity', 'chunk_ids': None, 'metadata': {'associated_query': 'Who is John?'}, 'score': 0.21263078300586102}, {'content': {'name': 'N-body Simulations', 'description': 'N-body simulations are computational methods used in the study to evaluate the dynamics and stability of hypothetical moons around WASP-49Ab.', 'metadata': None}, 'result_type': 'entity', 'chunk_ids': None, 'metadata': {'associated_query': 'Who is John?'}, 'score': 0.21230039899339703}, {'content': {'subject': 'WASP-49Ab', 'predicate': 'Reference', 'object': 'Io', 'metadata': None, 'score': None}, 'result_type': 'relationship', 'chunk_ids': None, 'metadata': {'associated_query': 'Who is John?'}, 'score': 0.32885344876606115}, {'content': {'subject': 'Io', 'predicate': 'Reference', 'object': 'mass', 'metadata': None, 'score': None}, 'result_type': 'relationship', 'chunk_ids': None, 'metadata': {'associated_query': 'Who is John?'}, 'score': 0.2910460656257875}, {'content': {'subject': 'WASP-49Ab', 'predicate': 'Reference For', 'object': 'Io', 'metadata': None, 'score': None}, 'result_type': 'relationship', 'chunk_ids': None, 'metadata': {'associated_query': 'Who is John?'}, 'score': 0.26981381953872763}, {'content': {'subject': 'WASP-49Ab', 'predicate': 'Orbits', 'object': 'Sun-like star', 'metadata': None, 'score': None}, 'result_type': 'relationship', 'chunk_ids': None, 'metadata': {'associated_query': 'Who is John?'}, 'score': 0.20895087718964223}, {'content': {'subject': 'WASP-49Ab', 'predicate': 'Orbits Around', 'object': 'Host Star', 'metadata': None, 'score': None}, 'result_type': 'relationship', 'chunk_ids': None, 'metadata': {'associated_query': 'Who is John?'}, 'score': 0.2059885491153215}, {'content': {'subject': 'N-body simulations', 'predicate': 'Method', 'object': 'dynamics', 'metadata': None, 'score': None}, 'result_type': 'relationship', 'chunk_ids': None, 'metadata': {'associated_query': 'Who is John?'}, 'score': 0.19661145548684078}, {'content': {'subject': 'eccentricity', 'predicate': 'Affects', 'object': 'stability', 'metadata': None, 'score': None}, 'result_type': 'relationship', 'chunk_ids': None, 'metadata': {'associated_query': 'Who is John?'}, 'score': 0.1957951401716318}, {'content': {'subject': 'Interviewer', 'predicate': 'Works For', 'object': 'Company', 'metadata': None, 'score': None}, 'result_type': 'relationship', 'chunk_ids': None, 'metadata': {'associated_query': 'Who is John?'}, 'score': 0.18009881018414498}, {'content': {'subject': 'WASP-49Ab', 'predicate': 'Type', 'object': 'Saturn-like planet', 'metadata': None, 'score': None}, 'result_type': 'relationship', 'chunk_ids': None, 'metadata': {'associated_query': 'Who is John?'}, 'score': 0.16961280975227455}, {'content': {'subject': 'WASP-49Ab', 'predicate': 'Influences', 'object': 'Roche Limit', 'metadata': None, 'score': None}, 'result_type': 'relationship', 'chunk_ids': None, 'metadata': {'associated_query': 'Who is John?'}, 'score': 0.16626851766860062}], 'web_search_results': None}}}\n"
          ]
        }
      ]
    }
  ]
}