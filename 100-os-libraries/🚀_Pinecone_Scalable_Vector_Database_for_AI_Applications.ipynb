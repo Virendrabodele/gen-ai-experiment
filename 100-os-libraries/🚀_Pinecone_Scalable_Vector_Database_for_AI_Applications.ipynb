{
  "nbformat": 4,
  "nbformat_minor": 0,
  "metadata": {
    "colab": {
      "provenance": []
    },
    "kernelspec": {
      "name": "python3",
      "display_name": "Python 3"
    },
    "language_info": {
      "name": "python"
    }
  },
  "cells": [
    {
      "cell_type": "markdown",
      "source": [
        "<img src=\"https://drive.google.com/uc?export=view&id=1wYSMgJtARFdvTt5g7E20mE4NmwUFUuog\" width=\"200\">\n",
        "\n",
        "[![Build Fast with AI](https://img.shields.io/badge/BuildFastWithAI-GenAI%20Bootcamp-blue?style=for-the-badge&logo=artificial-intelligence)](https://www.buildfastwithai.com/genai-course)\n",
        "[![EduChain GitHub](https://img.shields.io/github/stars/satvik314/educhain?style=for-the-badge&logo=github&color=gold)](https://github.com/satvik314/educhain)\n",
        "\n",
        "[![Open In Colab](https://colab.research.google.com/assets/colab-badge.svg)](https://colab.research.google.com/drive/12gPwR5QoAtjp72L8tTkXKmojwmywGcGM#scrollTo=FOucE8In5aGg)\n",
        "## Master Generative AI in 6 Weeks\n",
        "**What You'll Learn:**\n",
        "- Build with Latest LLMs\n",
        "- Create Custom AI Apps\n",
        "- Learn from Industry Experts\n",
        "- Join Innovation Community\n",
        "Transform your AI ideas into reality through hands-on projects and expert mentorship.\n",
        "[Start Your Journey](https://www.buildfastwithai.com/genai-course)\n",
        "*Empowering the Next Generation of AI Innovators"
      ],
      "metadata": {
        "id": "Pd6lXz6j5tjH"
      }
    },
    {
      "cell_type": "markdown",
      "source": [
        "## 🚀 **Pinecone: Scalable Vector Database for AI Applications**  \n",
        "Pinecone is a fully managed vector database optimized for managing and searching high-dimensional data.  \n",
        "It supports AI and machine learning applications by enabling efficient similarity search and real-time data ingestion.  \n",
        "Pinecone offers features like scalability, high availability, and seamless integration.\n"
      ],
      "metadata": {
        "id": "DWDu803F8p-u"
      }
    },
    {
      "cell_type": "markdown",
      "source": [
        "###**Setup and Installation**\n"
      ],
      "metadata": {
        "id": "fnWlq-XU8rPC"
      }
    },
    {
      "cell_type": "code",
      "execution_count": null,
      "metadata": {
        "id": "FOucE8In5aGg"
      },
      "outputs": [],
      "source": [
        "!pip install \"pinecone[grpc]\""
      ]
    },
    {
      "cell_type": "markdown",
      "source": [
        "### **Setup the API Key**\n"
      ],
      "metadata": {
        "id": "GxMU_Cdx9AJd"
      }
    },
    {
      "cell_type": "code",
      "source": [
        "from google.colab import userdata\n",
        "import os\n",
        "os.environ['PINECONE_API_KEY']=userdata.get('PINECONE_API_KEY')\n",
        "PINECONE_API_KEY=os.getenv('PINECONE_API_KEY')"
      ],
      "metadata": {
        "id": "slluy7AJ5oxi"
      },
      "execution_count": null,
      "outputs": []
    },
    {
      "cell_type": "markdown",
      "source": [
        "###**Generate vectors**"
      ],
      "metadata": {
        "id": "2spMgaky9J71"
      }
    },
    {
      "cell_type": "code",
      "source": [
        "from pinecone.grpc import PineconeGRPC as Pinecone\n",
        "from pinecone import ServerlessSpec\n",
        "import time\n",
        "\n",
        "pc = Pinecone(api_key=PINECONE_API_KEY)\n",
        "\n",
        "data = [\n",
        "    {\"id\": \"vec1\", \"text\": \"Apple is a popular fruit known for its sweetness and crisp texture.\"},\n",
        "    {\"id\": \"vec2\", \"text\": \"The tech company Apple is known for its innovative products like the iPhone.\"},\n",
        "    {\"id\": \"vec3\", \"text\": \"Many people enjoy eating apples as a healthy snack.\"},\n",
        "    {\"id\": \"vec4\", \"text\": \"Apple Inc. has revolutionized the tech industry with its sleek designs and user-friendly interfaces.\"},\n",
        "    {\"id\": \"vec5\", \"text\": \"An apple a day keeps the doctor away, as the saying goes.\"},\n",
        "    {\"id\": \"vec6\", \"text\": \"Apple Computer Company was founded on April 1, 1976, by Steve Jobs, Steve Wozniak, and Ronald Wayne as a partnership.\"}\n",
        "]\n",
        "\n",
        "embeddings = pc.inference.embed(\n",
        "    model=\"multilingual-e5-large\",\n",
        "    inputs=[d['text'] for d in data],\n",
        "    parameters={\"input_type\": \"passage\", \"truncate\": \"END\"}\n",
        ")\n",
        "\n",
        "print(embeddings)\n"
      ],
      "metadata": {
        "colab": {
          "base_uri": "https://localhost:8080/"
        },
        "id": "r86tovNG57N9",
        "outputId": "374d8174-efdc-4048-ea25-b1fbc64a4766"
      },
      "execution_count": null,
      "outputs": [
        {
          "output_type": "stream",
          "name": "stdout",
          "text": [
            "EmbeddingsList(\n",
            "  model='multilingual-e5-large',\n",
            "  vector_type='dense',\n",
            "  data=[\n",
            "    {'vector_type': dense, 'values': [0.04913330078125, -0.01306915283203125, ..., -0.0196990966796875, -0.0110321044921875]},\n",
            "    {'vector_type': dense, 'values': [0.032470703125, -0.027923583984375, ..., -0.020050048828125, -0.02099609375]},\n",
            "    ... (2 more embeddings) ...,\n",
            "    {'vector_type': dense, 'values': [0.0312347412109375, -0.0186309814453125, ..., -0.02996826171875, -0.033111572265625]},\n",
            "    {'vector_type': dense, 'values': [0.039520263671875, -0.00997161865234375, ..., 0.0011930465698242188, -0.042755126953125]}\n",
            "  ],\n",
            "  usage={'total_tokens': 130}\n",
            ")\n"
          ]
        }
      ]
    },
    {
      "cell_type": "markdown",
      "source": [
        "###**Create an index**"
      ],
      "metadata": {
        "id": "FpHNDyYQ9MJc"
      }
    },
    {
      "cell_type": "code",
      "source": [
        "index_name = \"example-index\"\n",
        "\n",
        "if not pc.has_index(index_name):\n",
        "    pc.create_index(\n",
        "        name=index_name,\n",
        "        dimension=1024,\n",
        "        metric=\"cosine\",\n",
        "        spec=ServerlessSpec(\n",
        "            cloud='aws',\n",
        "            region='us-east-1'\n",
        "        )\n",
        "    )\n",
        "\n",
        "while not pc.describe_index(index_name).status['ready']:\n",
        "    time.sleep(1)\n"
      ],
      "metadata": {
        "id": "fAHJU3oI6IVb"
      },
      "execution_count": null,
      "outputs": []
    },
    {
      "cell_type": "markdown",
      "source": [
        "###**Upsert vectors**"
      ],
      "metadata": {
        "id": "CkSjI-yq9UAi"
      }
    },
    {
      "cell_type": "code",
      "source": [
        "index = pc.Index(\"example-index\")\n",
        "\n",
        "\n",
        "records = []\n",
        "for d, e in zip(data, embeddings):\n",
        "    records.append({\n",
        "        \"id\": d['id'],\n",
        "        \"values\": e['values'],\n",
        "        \"metadata\": {'text': d['text']}\n",
        "    })\n",
        "\n",
        "\n",
        "index.upsert(\n",
        "    vectors=records,\n",
        "    namespace=\"example-namespace\"\n",
        ")\n"
      ],
      "metadata": {
        "colab": {
          "base_uri": "https://localhost:8080/"
        },
        "id": "QjUfA9y_7CU1",
        "outputId": "daf9f382-407b-4e2b-b736-c7bb42031b37"
      },
      "execution_count": null,
      "outputs": [
        {
          "output_type": "execute_result",
          "data": {
            "text/plain": [
              "upserted_count: 6"
            ]
          },
          "metadata": {},
          "execution_count": 5
        }
      ]
    },
    {
      "cell_type": "code",
      "source": [
        "time.sleep(10)\n",
        "\n",
        "print(index.describe_index_stats())\n"
      ],
      "metadata": {
        "colab": {
          "base_uri": "https://localhost:8080/"
        },
        "id": "3TPRFdAx7FlF",
        "outputId": "0ac3222e-e934-4668-8bee-b6071e6243d2"
      },
      "execution_count": null,
      "outputs": [
        {
          "output_type": "stream",
          "name": "stdout",
          "text": [
            "{'dimension': 1024,\n",
            " 'index_fullness': 0.0,\n",
            " 'namespaces': {'example-namespace': {'vector_count': 6}},\n",
            " 'total_vector_count': 6}\n"
          ]
        }
      ]
    },
    {
      "cell_type": "markdown",
      "source": [
        "###**Search the index**"
      ],
      "metadata": {
        "id": "AKQ2kbqB9ZDU"
      }
    },
    {
      "cell_type": "code",
      "source": [
        "# Define your query\n",
        "query = \"Tell me about the tech company known as Apple.\"\n",
        "\n",
        "# Convert the query into a numerical vector that Pinecone can search with\n",
        "query_embedding = pc.inference.embed(\n",
        "    model=\"multilingual-e5-large\",\n",
        "    inputs=[query],\n",
        "    parameters={\n",
        "        \"input_type\": \"query\"\n",
        "    }\n",
        ")\n",
        "\n",
        "# Search the index for the three most similar vectors\n",
        "results = index.query(\n",
        "    namespace=\"example-namespace\",\n",
        "    vector=query_embedding[0].values,\n",
        "    top_k=3,\n",
        "    include_values=False,\n",
        "    include_metadata=True\n",
        ")\n",
        "\n",
        "print(results)\n"
      ],
      "metadata": {
        "colab": {
          "base_uri": "https://localhost:8080/"
        },
        "id": "Aa-WykT77Ioj",
        "outputId": "3d2bda34-cbb0-43d2-df9a-1374c4681c2a"
      },
      "execution_count": null,
      "outputs": [
        {
          "output_type": "stream",
          "name": "stdout",
          "text": [
            "{'matches': [{'id': 'vec2',\n",
            "              'metadata': {'text': 'The tech company Apple is known for its '\n",
            "                                   'innovative products like the iPhone.'},\n",
            "              'score': 0.8727282,\n",
            "              'sparse_values': {'indices': [], 'values': []},\n",
            "              'values': []},\n",
            "             {'id': 'vec4',\n",
            "              'metadata': {'text': 'Apple Inc. has revolutionized the tech '\n",
            "                                   'industry with its sleek designs and '\n",
            "                                   'user-friendly interfaces.'},\n",
            "              'score': 0.85236675,\n",
            "              'sparse_values': {'indices': [], 'values': []},\n",
            "              'values': []},\n",
            "             {'id': 'vec6',\n",
            "              'metadata': {'text': 'Apple Computer Company was founded on '\n",
            "                                   'April 1, 1976, by Steve Jobs, Steve '\n",
            "                                   'Wozniak, and Ronald Wayne as a '\n",
            "                                   'partnership.'},\n",
            "              'score': 0.85015154,\n",
            "              'sparse_values': {'indices': [], 'values': []},\n",
            "              'values': []}],\n",
            " 'namespace': 'example-namespace',\n",
            " 'usage': {'read_units': 6}}\n"
          ]
        }
      ]
    },
    {
      "cell_type": "markdown",
      "source": [
        "###**Clean up**"
      ],
      "metadata": {
        "id": "ETsbLovc9fNE"
      }
    },
    {
      "cell_type": "code",
      "source": [
        "pc.delete_index(index_name)"
      ],
      "metadata": {
        "id": "j2iHwjW07PBR"
      },
      "execution_count": null,
      "outputs": []
    },
    {
      "cell_type": "markdown",
      "source": [
        "###**Reranking**"
      ],
      "metadata": {
        "id": "RwOxXIgg9hPR"
      }
    },
    {
      "cell_type": "code",
      "source": [
        "query = \"Tell me about Apple's products\"\n",
        "documents = [\n",
        "    \"Apple is a popular fruit known for its sweetness and crisp texture.\",\n",
        "    \"Apple is known for its innovative products like the iPhone.\",\n",
        "    \"Many people enjoy eating apples as a healthy snack.\",\n",
        "    \"Apple Inc. has revolutionized the tech industry with its sleek designs and user-friendly interfaces.\",\n",
        "    \"An apple a day keeps the doctor away, as the saying goes.\"\n",
        "]"
      ],
      "metadata": {
        "id": "A0UejyoS7RYB"
      },
      "execution_count": null,
      "outputs": []
    },
    {
      "cell_type": "code",
      "source": [
        "documents\n"
      ],
      "metadata": {
        "colab": {
          "base_uri": "https://localhost:8080/"
        },
        "id": "7GTGJy8V8PNQ",
        "outputId": "71de9c93-b18f-43fd-db53-662cd152ee4f"
      },
      "execution_count": null,
      "outputs": [
        {
          "output_type": "execute_result",
          "data": {
            "text/plain": [
              "['Apple is a popular fruit known for its sweetness and crisp texture.',\n",
              " 'Apple is known for its innovative products like the iPhone.',\n",
              " 'Many people enjoy eating apples as a healthy snack.',\n",
              " 'Apple Inc. has revolutionized the tech industry with its sleek designs and user-friendly interfaces.',\n",
              " 'An apple a day keeps the doctor away, as the saying goes.']"
            ]
          },
          "metadata": {},
          "execution_count": 10
        }
      ]
    },
    {
      "cell_type": "markdown",
      "source": [
        "###**Perform reranking to get top_n results based on the query**"
      ],
      "metadata": {
        "id": "zF0Drg1a9wIv"
      }
    },
    {
      "cell_type": "code",
      "source": [
        "reranked_results = pc.inference.rerank(\n",
        "    model=\"bge-reranker-v2-m3\",\n",
        "    query=query,\n",
        "    documents=documents,\n",
        "    top_n=3,\n",
        "    return_documents=True\n",
        ")"
      ],
      "metadata": {
        "id": "DX6rVZOU8UeZ"
      },
      "execution_count": null,
      "outputs": []
    },
    {
      "cell_type": "markdown",
      "source": [
        "### **Display the reranked result**\n",
        "Note the reranker ranks Apple the company over apple the fruit based on the context of the query"
      ],
      "metadata": {
        "id": "eNa12-nI9sMN"
      }
    },
    {
      "cell_type": "code",
      "source": [
        "print(\"Top 3 Reranked Documents:\")\n",
        "for i, entry in enumerate(reranked_results.data):\n",
        "    document_text = entry['document']['text']\n",
        "    score = entry['score']\n",
        "    print(f\"{i+1}: Score: {score}, Document: {document_text}\")"
      ],
      "metadata": {
        "colab": {
          "base_uri": "https://localhost:8080/"
        },
        "id": "jyt4YLuq8WtX",
        "outputId": "b1a7df8c-94a6-4672-fe53-99ea20ef9eb8"
      },
      "execution_count": null,
      "outputs": [
        {
          "output_type": "stream",
          "name": "stdout",
          "text": [
            "Top 3 Reranked Documents:\n",
            "1: Score: 0.8401279, Document: Apple is known for its innovative products like the iPhone.\n",
            "2: Score: 0.23318209, Document: Apple Inc. has revolutionized the tech industry with its sleek designs and user-friendly interfaces.\n",
            "3: Score: 0.17384852, Document: Apple is a popular fruit known for its sweetness and crisp texture.\n"
          ]
        }
      ]
    }
  ]
}