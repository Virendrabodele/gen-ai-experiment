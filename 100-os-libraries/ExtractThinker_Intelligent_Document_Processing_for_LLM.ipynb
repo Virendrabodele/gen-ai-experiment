{
  "nbformat": 4,
  "nbformat_minor": 0,
  "metadata": {
    "colab": {
      "provenance": []
    },
    "kernelspec": {
      "name": "python3",
      "display_name": "Python 3"
    },
    "language_info": {
      "name": "python"
    },
    "widgets": {
      "application/vnd.jupyter.widget-state+json": {
        "eb93aa784ec140519b6f32ec00d19a4a": {
          "model_module": "@jupyter-widgets/controls",
          "model_name": "FileUploadModel",
          "model_module_version": "1.5.0",
          "state": {
            "_counter": 0,
            "_dom_classes": [],
            "_model_module": "@jupyter-widgets/controls",
            "_model_module_version": "1.5.0",
            "_model_name": "FileUploadModel",
            "_view_count": null,
            "_view_module": "@jupyter-widgets/controls",
            "_view_module_version": "1.5.0",
            "_view_name": "FileUploadView",
            "accept": ".pdf",
            "button_style": "",
            "data": [],
            "description": "Upload PDF",
            "description_tooltip": null,
            "disabled": false,
            "error": "",
            "icon": "upload",
            "layout": "IPY_MODEL_0a89f89d68604df9a2fec8a33917c8e2",
            "metadata": [],
            "multiple": false,
            "style": "IPY_MODEL_08fc0773bee04c46a7ad4a7a739dbc49"
          }
        },
        "0a89f89d68604df9a2fec8a33917c8e2": {
          "model_module": "@jupyter-widgets/base",
          "model_name": "LayoutModel",
          "model_module_version": "1.2.0",
          "state": {
            "_model_module": "@jupyter-widgets/base",
            "_model_module_version": "1.2.0",
            "_model_name": "LayoutModel",
            "_view_count": null,
            "_view_module": "@jupyter-widgets/base",
            "_view_module_version": "1.2.0",
            "_view_name": "LayoutView",
            "align_content": null,
            "align_items": null,
            "align_self": null,
            "border": null,
            "bottom": null,
            "display": null,
            "flex": null,
            "flex_flow": null,
            "grid_area": null,
            "grid_auto_columns": null,
            "grid_auto_flow": null,
            "grid_auto_rows": null,
            "grid_column": null,
            "grid_gap": null,
            "grid_row": null,
            "grid_template_areas": null,
            "grid_template_columns": null,
            "grid_template_rows": null,
            "height": null,
            "justify_content": null,
            "justify_items": null,
            "left": null,
            "margin": null,
            "max_height": null,
            "max_width": null,
            "min_height": null,
            "min_width": null,
            "object_fit": null,
            "object_position": null,
            "order": null,
            "overflow": null,
            "overflow_x": null,
            "overflow_y": null,
            "padding": null,
            "right": null,
            "top": null,
            "visibility": null,
            "width": null
          }
        },
        "08fc0773bee04c46a7ad4a7a739dbc49": {
          "model_module": "@jupyter-widgets/controls",
          "model_name": "ButtonStyleModel",
          "model_module_version": "1.5.0",
          "state": {
            "_model_module": "@jupyter-widgets/controls",
            "_model_module_version": "1.5.0",
            "_model_name": "ButtonStyleModel",
            "_view_count": null,
            "_view_module": "@jupyter-widgets/base",
            "_view_module_version": "1.2.0",
            "_view_name": "StyleView",
            "button_color": null,
            "font_weight": ""
          }
        },
        "2fceb16a18f64e8590c64aceba92ee7a": {
          "model_module": "@jupyter-widgets/controls",
          "model_name": "TextModel",
          "model_module_version": "1.5.0",
          "state": {
            "_dom_classes": [],
            "_model_module": "@jupyter-widgets/controls",
            "_model_module_version": "1.5.0",
            "_model_name": "TextModel",
            "_view_count": null,
            "_view_module": "@jupyter-widgets/controls",
            "_view_module_version": "1.5.0",
            "_view_name": "TextView",
            "continuous_update": true,
            "description": "File Path:",
            "description_tooltip": null,
            "disabled": false,
            "layout": "IPY_MODEL_35dc655aba7b4ad6bd8f15b73f83d428",
            "placeholder": "Enter the downloaded PDF file path",
            "style": "IPY_MODEL_72630708ee644eea9ab7499633c9ae30",
            "value": "/content/invoice.pdf"
          }
        },
        "35dc655aba7b4ad6bd8f15b73f83d428": {
          "model_module": "@jupyter-widgets/base",
          "model_name": "LayoutModel",
          "model_module_version": "1.2.0",
          "state": {
            "_model_module": "@jupyter-widgets/base",
            "_model_module_version": "1.2.0",
            "_model_name": "LayoutModel",
            "_view_count": null,
            "_view_module": "@jupyter-widgets/base",
            "_view_module_version": "1.2.0",
            "_view_name": "LayoutView",
            "align_content": null,
            "align_items": null,
            "align_self": null,
            "border": null,
            "bottom": null,
            "display": null,
            "flex": null,
            "flex_flow": null,
            "grid_area": null,
            "grid_auto_columns": null,
            "grid_auto_flow": null,
            "grid_auto_rows": null,
            "grid_column": null,
            "grid_gap": null,
            "grid_row": null,
            "grid_template_areas": null,
            "grid_template_columns": null,
            "grid_template_rows": null,
            "height": null,
            "justify_content": null,
            "justify_items": null,
            "left": null,
            "margin": null,
            "max_height": null,
            "max_width": null,
            "min_height": null,
            "min_width": null,
            "object_fit": null,
            "object_position": null,
            "order": null,
            "overflow": null,
            "overflow_x": null,
            "overflow_y": null,
            "padding": null,
            "right": null,
            "top": null,
            "visibility": null,
            "width": "80%"
          }
        },
        "72630708ee644eea9ab7499633c9ae30": {
          "model_module": "@jupyter-widgets/controls",
          "model_name": "DescriptionStyleModel",
          "model_module_version": "1.5.0",
          "state": {
            "_model_module": "@jupyter-widgets/controls",
            "_model_module_version": "1.5.0",
            "_model_name": "DescriptionStyleModel",
            "_view_count": null,
            "_view_module": "@jupyter-widgets/base",
            "_view_module_version": "1.2.0",
            "_view_name": "StyleView",
            "description_width": ""
          }
        },
        "224ad6e2d617470e9196fc7b5fa6bda9": {
          "model_module": "@jupyter-widgets/output",
          "model_name": "OutputModel",
          "model_module_version": "1.0.0",
          "state": {
            "_dom_classes": [],
            "_model_module": "@jupyter-widgets/output",
            "_model_module_version": "1.0.0",
            "_model_name": "OutputModel",
            "_view_count": null,
            "_view_module": "@jupyter-widgets/output",
            "_view_module_version": "1.0.0",
            "_view_name": "OutputView",
            "layout": "IPY_MODEL_7e75e9533161458ebe83d9aabff7c05b",
            "msg_id": "",
            "outputs": [
              {
                "output_type": "stream",
                "name": "stdout",
                "text": [
                  "Processing File: /content/invoice.pdf\n"
                ]
              },
              {
                "output_type": "stream",
                "name": "stdout",
                "text": [
                  "invoice_number='00012' invoice_date='1/30/23'\n"
                ]
              }
            ]
          }
        },
        "7e75e9533161458ebe83d9aabff7c05b": {
          "model_module": "@jupyter-widgets/base",
          "model_name": "LayoutModel",
          "model_module_version": "1.2.0",
          "state": {
            "_model_module": "@jupyter-widgets/base",
            "_model_module_version": "1.2.0",
            "_model_name": "LayoutModel",
            "_view_count": null,
            "_view_module": "@jupyter-widgets/base",
            "_view_module_version": "1.2.0",
            "_view_name": "LayoutView",
            "align_content": null,
            "align_items": null,
            "align_self": null,
            "border": null,
            "bottom": null,
            "display": null,
            "flex": null,
            "flex_flow": null,
            "grid_area": null,
            "grid_auto_columns": null,
            "grid_auto_flow": null,
            "grid_auto_rows": null,
            "grid_column": null,
            "grid_gap": null,
            "grid_row": null,
            "grid_template_areas": null,
            "grid_template_columns": null,
            "grid_template_rows": null,
            "height": null,
            "justify_content": null,
            "justify_items": null,
            "left": null,
            "margin": null,
            "max_height": null,
            "max_width": null,
            "min_height": null,
            "min_width": null,
            "object_fit": null,
            "object_position": null,
            "order": null,
            "overflow": null,
            "overflow_x": null,
            "overflow_y": null,
            "padding": null,
            "right": null,
            "top": null,
            "visibility": null,
            "width": null
          }
        }
      }
    }
  },
  "cells": [
    {
      "cell_type": "markdown",
      "source": [
        "<img src=\"https://drive.google.com/uc?export=view&id=1wYSMgJtARFdvTt5g7E20mE4NmwUFUuog\" width=\"200\">\n",
        "\n",
        "[![Build Fast with AI](https://img.shields.io/badge/BuildFastWithAI-GenAI%20Bootcamp-blue?style=for-the-badge&logo=artificial-intelligence)](https://www.buildfastwithai.com/genai-course)\n",
        "[![EduChain GitHub](https://img.shields.io/github/stars/satvik314/educhain?style=for-the-badge&logo=github&color=gold)](https://github.com/satvik314/educhain)\n",
        "\n",
        "[![Open In Colab](https://colab.research.google.com/assets/colab-badge.svg)](https://colab.research.google.com/drive/1mTNZbL1G5BFjzE2JpQOdexUoZbZ-u_RO?usp=sharing)\n",
        "## Master Generative AI in 6 Weeks\n",
        "**What You'll Learn:**\n",
        "- Build with Latest LLMs\n",
        "- Create Custom AI Apps\n",
        "- Learn from Industry Experts\n",
        "- Join Innovation Community\n",
        "Transform your AI ideas into reality through hands-on projects and expert mentorship.\n",
        "[Start Your Journey](https://www.buildfastwithai.com/genai-course)\n",
        "*Empowering the Next Generation of AI Innovators"
      ],
      "metadata": {
        "id": "-TwzeZJKUkCH"
      }
    },
    {
      "cell_type": "markdown",
      "source": [
        "##**🧠 ExtractThinker: Intelligent Document Processing for LLMs**\n",
        "\n",
        " ExtractThinker is an open-source **Document Intelligence** framework designed for seamless\n",
        " integration with **Large Language Models (LLMs)**. It provides an ORM-style interface for\n",
        " **efficient document processing**, **customizable data extraction**, and **flexible classification**. 🚀  \n",
        "\n",
        "✨ **Key Features**:  \n",
        " - 📄 **Multi-format Document Support** – Works with PDFs, images, and spreadsheets.  \n",
        " - 🔍 **Advanced Data Extraction** – Define precise extraction contracts using Pydantic models.  \n",
        " - ⚡ **Asynchronous Processing** – Optimized for handling large documents efficiently.  \n",
        " - 🏗 **Flexible Document Loaders** – Supports Tesseract OCR, Azure Form Recognizer, AWS Textract, and more.  \n",
        " - 🤖 **Seamless LLM Integration** – Compatible with OpenAI, Anthropic, Cohere, and other AI models.  \n",
        " - 🔧 **ORM-style Interface** – Intuitive, developer-friendly API for document processing.  \n",
        "\n",
        " ExtractThinker is a powerful tool for **automating document understanding, classification,\n",
        " and knowledge extraction** in AI-driven applications. 📚  \n",
        "\n"
      ],
      "metadata": {
        "id": "1Sm0YRZMUjyR"
      }
    },
    {
      "cell_type": "markdown",
      "source": [
        "###**Setup and Installation**"
      ],
      "metadata": {
        "id": "lleQmHtPUhmI"
      }
    },
    {
      "cell_type": "code",
      "execution_count": null,
      "metadata": {
        "id": "lIAaQGmS12BL"
      },
      "outputs": [],
      "source": [
        "!pip install extract-thinker pypdf"
      ]
    },
    {
      "cell_type": "code",
      "source": [
        "import os\n",
        "from google.colab import userdata\n",
        "\n",
        "os.environ[\"OPENAI_API_KEY\"] = userdata.get('OPENAI_API_KEY')"
      ],
      "metadata": {
        "id": "fm8_D4DNjx-R"
      },
      "execution_count": null,
      "outputs": []
    },
    {
      "cell_type": "markdown",
      "source": [
        "###**Create a DocumentLoader**"
      ],
      "metadata": {
        "id": "2HAp0CtNVdkD"
      }
    },
    {
      "cell_type": "code",
      "source": [
        "from extract_thinker import DocumentLoaderPyPdf\n",
        "\n",
        "document_loader = DocumentLoaderPyPdf()"
      ],
      "metadata": {
        "id": "_cDCNAVPUU3x"
      },
      "execution_count": null,
      "outputs": []
    },
    {
      "cell_type": "markdown",
      "source": [
        "###**Create an Extractor**"
      ],
      "metadata": {
        "id": "ApFpIIqXVnnS"
      }
    },
    {
      "cell_type": "code",
      "source": [
        "from extract_thinker import Extractor\n",
        "\n",
        "extractor = Extractor()"
      ],
      "metadata": {
        "id": "TyLJXO_sVb9d"
      },
      "execution_count": null,
      "outputs": []
    },
    {
      "cell_type": "code",
      "source": [
        "extractor.load_document_loader(document_loader)\n",
        "\n",
        "extractor.load_llm(\"gpt-4o-mini\")"
      ],
      "metadata": {
        "id": "ijPP4L3XVqA5"
      },
      "execution_count": null,
      "outputs": []
    },
    {
      "cell_type": "markdown",
      "source": [
        "###**Define the contract and extract the data**"
      ],
      "metadata": {
        "id": "NWwcAvgiVuTF"
      }
    },
    {
      "cell_type": "code",
      "source": [
        "from extract_thinker import Contract\n",
        "\n",
        "class InvoiceContract(Contract):\n",
        "    invoice_number: str\n",
        "    invoice_date: str"
      ],
      "metadata": {
        "id": "phlVCnI7VsKn"
      },
      "execution_count": null,
      "outputs": []
    },
    {
      "cell_type": "code",
      "source": [
        "!pip install ipywidgets\n",
        "!pip install IPython"
      ],
      "metadata": {
        "id": "znDh0pG2Wuu3"
      },
      "execution_count": null,
      "outputs": []
    },
    {
      "cell_type": "markdown",
      "source": [
        "###**Download invoice.pdf from GitHub**\n"
      ],
      "metadata": {
        "id": "9nyovinKXjJ_"
      }
    },
    {
      "cell_type": "code",
      "source": [
        "!wget -O invoice.pdf \"https://github.com/enoch3712/ExtractThinker/raw/main/examples/invoice.pdf\""
      ],
      "metadata": {
        "id": "NZBTEYPmXeaM"
      },
      "execution_count": null,
      "outputs": []
    },
    {
      "cell_type": "markdown",
      "source": [
        "###**Extract Data from Uploaded File according to the contract**"
      ],
      "metadata": {
        "id": "1AxMN_AvW0ty"
      }
    },
    {
      "cell_type": "code",
      "source": [
        "import ipywidgets as widgets\n",
        "from IPython.display import display\n",
        "import tempfile\n",
        "\n",
        "file_upload = widgets.FileUpload(accept='.pdf', description='Upload PDF')\n",
        "\n",
        "file_path_input = widgets.Text(\n",
        "    placeholder=\"Enter the downloaded PDF file path\",\n",
        "    description=\"File Path:\",\n",
        "    layout=widgets.Layout(width='80%')\n",
        ")\n",
        "\n",
        "output = widgets.Output()\n",
        "\n",
        "def process_pdf(file_path):\n",
        "    \"\"\"Extract data from the provided PDF file.\"\"\"\n",
        "    with output:\n",
        "        print(f\"Processing File: {file_path}\")\n",
        "        result = extractor.extract(file_path, InvoiceContract)\n",
        "        print(result)\n",
        "\n",
        "def on_file_uploaded(change):\n",
        "    \"\"\"Handle uploaded file processing.\"\"\"\n",
        "    if change['new']:\n",
        "        uploaded_file = next(iter(change['new'].values()))\n",
        "\n",
        "        with output:\n",
        "            print(f\"File uploaded: {uploaded_file['metadata']['name']}\")\n",
        "            print(f\"File size: {len(uploaded_file['content'])} bytes\")\n",
        "\n",
        "            with tempfile.NamedTemporaryFile(delete=False, suffix=\".pdf\") as temp_file:\n",
        "                temp_file.write(uploaded_file['content'])\n",
        "                temp_file_path = temp_file.name\n",
        "                process_pdf(temp_file_path)\n",
        "\n",
        "def on_path_submit(change):\n",
        "    \"\"\"Handle file processing via specified path.\"\"\"\n",
        "    if file_path_input.value:\n",
        "        process_pdf(file_path_input.value)\n",
        "\n",
        "file_upload.observe(on_file_uploaded, names='value')\n",
        "file_path_input.on_submit(on_path_submit)\n",
        "\n",
        "display(file_upload, file_path_input, output)\n"
      ],
      "metadata": {
        "colab": {
          "base_uri": "https://localhost:8080/",
          "height": 116,
          "referenced_widgets": [
            "eb93aa784ec140519b6f32ec00d19a4a",
            "0a89f89d68604df9a2fec8a33917c8e2",
            "08fc0773bee04c46a7ad4a7a739dbc49",
            "2fceb16a18f64e8590c64aceba92ee7a",
            "35dc655aba7b4ad6bd8f15b73f83d428",
            "72630708ee644eea9ab7499633c9ae30",
            "224ad6e2d617470e9196fc7b5fa6bda9",
            "7e75e9533161458ebe83d9aabff7c05b"
          ]
        },
        "id": "uqd4yNfoWwOk",
        "outputId": "e92d72d6-d6f4-40b0-b881-23bdc492a4a1"
      },
      "execution_count": null,
      "outputs": [
        {
          "output_type": "display_data",
          "data": {
            "text/plain": [
              "FileUpload(value={}, accept='.pdf', description='Upload PDF')"
            ],
            "application/vnd.jupyter.widget-view+json": {
              "version_major": 2,
              "version_minor": 0,
              "model_id": "eb93aa784ec140519b6f32ec00d19a4a"
            }
          },
          "metadata": {}
        },
        {
          "output_type": "display_data",
          "data": {
            "text/plain": [
              "Text(value='', description='File Path:', layout=Layout(width='80%'), placeholder='Enter the downloaded PDF fil…"
            ],
            "application/vnd.jupyter.widget-view+json": {
              "version_major": 2,
              "version_minor": 0,
              "model_id": "2fceb16a18f64e8590c64aceba92ee7a"
            }
          },
          "metadata": {}
        },
        {
          "output_type": "display_data",
          "data": {
            "text/plain": [
              "Output()"
            ],
            "application/vnd.jupyter.widget-view+json": {
              "version_major": 2,
              "version_minor": 0,
              "model_id": "224ad6e2d617470e9196fc7b5fa6bda9"
            }
          },
          "metadata": {}
        }
      ]
    },
    {
      "cell_type": "markdown",
      "source": [
        "###**Classification Example**"
      ],
      "metadata": {
        "id": "_WkJpdEPYpx7"
      }
    },
    {
      "cell_type": "markdown",
      "source": [
        "###**Document Classification and Extraction with ExtractThinker**"
      ],
      "metadata": {
        "id": "AT7vP1iViVld"
      }
    },
    {
      "cell_type": "code",
      "source": [
        "import os\n",
        "from dotenv import load_dotenv\n",
        "from extract_thinker import (\n",
        "    Extractor, Classification, Process, ClassificationStrategy,\n",
        "    DocumentLoaderPyPdf, Contract\n",
        ")\n"
      ],
      "metadata": {
        "id": "_dYD8uhFh7AP"
      },
      "execution_count": null,
      "outputs": []
    },
    {
      "cell_type": "markdown",
      "source": [
        "###**Define Contracts for Document Extraction**"
      ],
      "metadata": {
        "id": "ouDXYdB2idYa"
      }
    },
    {
      "cell_type": "code",
      "source": [
        "load_dotenv()\n",
        "\n",
        "class InvoiceContract(Contract):\n",
        "    invoice_number: str\n",
        "    invoice_date: str\n",
        "\n",
        "class DriverLicenseContract(Contract):\n",
        "    name: str\n",
        "    license_number: str"
      ],
      "metadata": {
        "id": "D3dkByylh9Qm"
      },
      "execution_count": null,
      "outputs": []
    },
    {
      "cell_type": "markdown",
      "source": [
        "##**Initialize Extractor with Document Loader and LLM**\n",
        "\n",
        "\n",
        "\n",
        "\n",
        "\n",
        "\n"
      ],
      "metadata": {
        "id": "6yo0PV0iijKt"
      }
    },
    {
      "cell_type": "code",
      "source": [
        "extractor = Extractor()\n",
        "extractor.load_document_loader(DocumentLoaderPyPdf())\n",
        "extractor.load_llm(\"gpt-4o-mini\")\n"
      ],
      "metadata": {
        "id": "PyrKjfs2h_48"
      },
      "execution_count": null,
      "outputs": []
    },
    {
      "cell_type": "markdown",
      "source": [
        "##**Classify Document with Extractor and Contracts**"
      ],
      "metadata": {
        "id": "2R2p6Du2ins9"
      }
    },
    {
      "cell_type": "code",
      "source": [
        "classifications = [\n",
        "    Classification(\n",
        "        name=\"Invoice\",\n",
        "        description=\"An invoice document\",\n",
        "        contract=InvoiceContract,\n",
        "        extractor=extractor,\n",
        "    ),\n",
        "    Classification(\n",
        "        name=\"Driver License\",\n",
        "        description=\"A driver's license document\",\n",
        "        contract=DriverLicenseContract,\n",
        "        extractor=extractor,\n",
        "    ),\n",
        "]\n",
        "\n",
        "result = extractor.classify(\n",
        "    \"invoice.pdf\",\n",
        "    classifications,\n",
        ")\n",
        "\n",
        "print(f\"Document classified as: {result.name}\")\n",
        "print(f\"Confidence level: {result.confidence}\")"
      ],
      "metadata": {
        "colab": {
          "base_uri": "https://localhost:8080/"
        },
        "id": "4RCWB_RhiDOF",
        "outputId": "1743fe78-31a2-4624-9d72-7b5f154232c9"
      },
      "execution_count": null,
      "outputs": [
        {
          "output_type": "stream",
          "name": "stdout",
          "text": [
            "Document classified as: Invoice\n",
            "Confidence level: 10\n"
          ]
        }
      ]
    }
  ]
}