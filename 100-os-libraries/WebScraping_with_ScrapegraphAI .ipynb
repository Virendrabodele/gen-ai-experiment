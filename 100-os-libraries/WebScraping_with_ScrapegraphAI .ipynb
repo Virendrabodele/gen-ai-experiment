{
  "cells": [
    {
      "cell_type": "markdown",
      "source": [
        "<img src=\"https://drive.google.com/uc?export=view&id=1wYSMgJtARFdvTt5g7E20mE4NmwUFUuog\" width=\"200\">\n",
        "\n",
        "[![Build Fast with AI](https://img.shields.io/badge/BuildFastWithAI-GenAI%20Bootcamp-blue?style=for-the-badge&logo=artificial-intelligence)](https://www.buildfastwithai.com/genai-course)\n",
        "[![EduChain GitHub](https://img.shields.io/github/stars/satvik314/educhain?style=for-the-badge&logo=github&color=gold)](https://github.com/satvik314/educhain)\n",
        "\n",
        "[![Open In Colab](https://colab.research.google.com/assets/colab-badge.svg)](https://colab.research.google.com/drive/1jJqOwDo3PnQcR_1Zq1eb0z8xauuET8T2)\n",
        "## Master Generative AI in 6 Weeks\n",
        "**What You'll Learn:**\n",
        "- Build with Latest LLMs\n",
        "- Create Custom AI Apps\n",
        "- Learn from Industry Experts\n",
        "- Join Innovation Community\n",
        "Transform your AI ideas into reality through hands-on projects and expert mentorship.\n",
        "[Start Your Journey](https://www.buildfastwithai.com/genai-course)\n",
        "*Empowering the Next Generation of AI Innovators"
      ],
      "metadata": {
        "id": "AJStIqDU2Qwa"
      }
    },
    {
      "cell_type": "markdown",
      "metadata": {
        "id": "0SQ3hkVPf4rl"
      },
      "source": [
        "## WebScraping using ScrapegraphAI\n",
        "\n",
        "\n",
        "\n",
        " Scrapegraph uses AI to simplify web scraping. Instead of writing complex code, you tell it what data you want, and it figures out how to extract it. It works on websites and even local files like HTML.\n",
        "\n"
      ]
    },
    {
      "cell_type": "markdown",
      "source": [
        "###Setup and Installation\n",
        "Install Required Libraries"
      ],
      "metadata": {
        "id": "NpZkIptJ2X-J"
      }
    },
    {
      "cell_type": "code",
      "execution_count": 1,
      "metadata": {
        "id": "jNsrDE86iijC"
      },
      "outputs": [],
      "source": [
        "%%capture\n",
        "!pip install scrapegraphai==1.31.1\n",
        "!apt install chromium-chromedriver\n",
        "!pip install nest-asyncio==1.6.0\n",
        "!pip install playwright==1.48.0\n",
        "!playwright install"
      ]
    },
    {
      "cell_type": "markdown",
      "source": [
        "###Import Necessary Libraries"
      ],
      "metadata": {
        "id": "tMU9RyCB2dv8"
      }
    },
    {
      "cell_type": "code",
      "execution_count": 2,
      "metadata": {
        "id": "1qlceB-VimJf"
      },
      "outputs": [],
      "source": [
        "from google.colab import userdata\n",
        "import json\n",
        "from scrapegraphai.graphs import SmartScraperGraph"
      ]
    },
    {
      "cell_type": "code",
      "source": [
        "import nest_asyncio\n",
        "\n",
        "# Apply nest_asyncio to resolve event loop issues\n",
        "nest_asyncio.apply()"
      ],
      "metadata": {
        "id": "S_Xf2YPU9QC8"
      },
      "execution_count": 3,
      "outputs": []
    },
    {
      "cell_type": "markdown",
      "metadata": {
        "id": "0EKy0W05zdW6"
      },
      "source": [
        "###Web Scraping with ScrapegraphAI"
      ]
    },
    {
      "cell_type": "markdown",
      "source": [
        "###Configure OpenAI API"
      ],
      "metadata": {
        "id": "WXWWPM862zRE"
      }
    },
    {
      "cell_type": "code",
      "execution_count": 4,
      "metadata": {
        "id": "bQHTxBpBintQ"
      },
      "outputs": [],
      "source": [
        "# Replace with your actual OpenAI API key\n",
        "OPENAI_API_KEY = userdata.get('OPENAI_API_KEY')\n",
        "\n",
        "# Define configuration for ScrapegraphAI\n",
        "graph_config_openai = {\n",
        "    \"llm\": {\n",
        "        \"api_key\": userdata.get('OPENAI_API_KEY'),\n",
        "        \"model\": \"openai/gpt-4o\",\n",
        "    },\n",
        "    \"verbose\": True,\n",
        "    \"headless\": True,\n",
        "\n",
        "}"
      ]
    },
    {
      "cell_type": "markdown",
      "source": [
        "###Scraping a Single Website"
      ],
      "metadata": {
        "id": "KjrZzdCX29CT"
      }
    },
    {
      "cell_type": "code",
      "execution_count": null,
      "metadata": {
        "id": "WRRbiyZuvvrs"
      },
      "outputs": [],
      "source": [
        "# Create the SmartScraperGraph instance\n",
        "smart_scraper_graph = SmartScraperGraph(\n",
        "    prompt=\"Find some information about what does the company do, the name and a contact email.\",\n",
        "    source=\"https://www.buildfastwithai.com\",\n",
        "    config=graph_config_openai\n",
        ")\n",
        "\n",
        "# Run the pipeline\n",
        "result = smart_scraper_graph.run()\n",
        "print(json.dumps(result, indent=4))"
      ]
    },
    {
      "cell_type": "markdown",
      "source": [
        "###Scraping Pricing Information"
      ],
      "metadata": {
        "id": "mAT5VAvZ-x-Z"
      }
    },
    {
      "cell_type": "code",
      "execution_count": null,
      "metadata": {
        "id": "gkTec1dkvvrt"
      },
      "outputs": [],
      "source": [
        "smart_scraper_graph = SmartScraperGraph(\n",
        "    prompt=\"Fetch the prices of all the latest LLMs\",\n",
        "    # also accepts a string with the already downloaded HTML code\n",
        "    source=\"https://openai.com/api/pricing/\",\n",
        "    config=graph_config_openai\n",
        ")\n",
        "\n",
        "result = smart_scraper_graph.run()\n",
        "\n",
        "print(json.dumps(result,indent=2))"
      ]
    },
    {
      "cell_type": "code",
      "execution_count": null,
      "metadata": {
        "id": "z27Po_zhvvrt"
      },
      "outputs": [],
      "source": [
        "smart_scraper_graph = SmartScraperGraph(\n",
        "    prompt=\"Fetch all the products and their prices\",\n",
        "    # also accepts a string with the already downloaded HTML code\n",
        "    source=\"https://orae.in\",\n",
        "    config=graph_config_openai\n",
        ")\n",
        "\n",
        "result = smart_scraper_graph.run()\n",
        "\n",
        "print(json.dumps(result,indent=2))"
      ]
    },
    {
      "cell_type": "markdown",
      "metadata": {
        "id": "MiH0tIldvvru"
      },
      "source": [
        "### Scraping Multiple Websites Simultaneously"
      ]
    },
    {
      "cell_type": "code",
      "execution_count": null,
      "metadata": {
        "id": "LGs8VT9Ovvru"
      },
      "outputs": [],
      "source": [
        "import json\n",
        "from scrapegraphai.graphs import SmartScraperMultiGraph\n",
        "\n",
        "multiple_search_graph = SmartScraperMultiGraph(\n",
        "    prompt=\"Fetch the prices of Llama Models\",\n",
        "    source= [\n",
        "        \"https://www.together.ai/pricing\",\n",
        "        \"https://deepinfra.com/\"\n",
        "        ],\n",
        "    schema=None,\n",
        "    config=graph_config_openai\n",
        ")\n",
        "\n",
        "result = multiple_search_graph.run()\n",
        "print(json.dumps(result, indent=4))"
      ]
    },
    {
      "cell_type": "markdown",
      "source": [
        "###Extracting Tech Job Market Insights"
      ],
      "metadata": {
        "id": "QFFP17GF_VsV"
      }
    },
    {
      "cell_type": "code",
      "source": [
        "# Scrape job market information from multiple sources\n",
        "multiple_job_graph = SmartScraperMultiGraph(\n",
        "    prompt=\"\"\"\n",
        "    Extract current job market insights for tech roles:\n",
        "    - Average salaries for software engineers\n",
        "    - Most in-demand programming languages\n",
        "    - Top tech companies hiring\n",
        "    - Emerging job trends in tech\n",
        "    \"\"\",\n",
        "    source=[\n",
        "        \"https://www.levels.fyi/\",\n",
        "        \"https://stackoverflow.com/jobs\",\n",
        "        \"https://www.indeed.com/career/software-engineer\"\n",
        "    ],\n",
        "    config=graph_config_openai\n",
        ")\n",
        "\n",
        "# Run the multi-site scraper\n",
        "result = multiple_job_graph.run()\n",
        "print(json.dumps(result, indent=4))"
      ],
      "metadata": {
        "id": "qxmUqCaH_VRy"
      },
      "execution_count": null,
      "outputs": []
    }
  ],
  "metadata": {
    "colab": {
      "provenance": []
    },
    "kernelspec": {
      "display_name": "Python 3",
      "name": "python3"
    },
    "language_info": {
      "codemirror_mode": {
        "name": "ipython",
        "version": 3
      },
      "file_extension": ".py",
      "mimetype": "text/x-python",
      "name": "python",
      "nbconvert_exporter": "python",
      "pygments_lexer": "ipython3",
      "version": "3.10.15"
    }
  },
  "nbformat": 4,
  "nbformat_minor": 0
}
