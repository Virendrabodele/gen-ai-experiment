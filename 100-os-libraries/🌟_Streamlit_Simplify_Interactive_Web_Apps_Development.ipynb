{
  "nbformat": 4,
  "nbformat_minor": 0,
  "metadata": {
    "colab": {
      "provenance": []
    },
    "kernelspec": {
      "name": "python3",
      "display_name": "Python 3"
    },
    "language_info": {
      "name": "python"
    }
  },
  "cells": [
    {
      "cell_type": "markdown",
      "source": [
        "<img src=\"https://drive.google.com/uc?export=view&id=1wYSMgJtARFdvTt5g7E20mE4NmwUFUuog\" width=\"200\">\n",
        "\n",
        "[![Build Fast with AI](https://img.shields.io/badge/BuildFastWithAI-GenAI%20Bootcamp-blue?style=for-the-badge&logo=artificial-intelligence)](https://www.buildfastwithai.com/genai-course)\n",
        "[![EduChain GitHub](https://img.shields.io/github/stars/satvik314/educhain?style=for-the-badge&logo=github&color=gold)](https://github.com/satvik314/educhain)\n",
        "\n",
        "[![Open In Colab](https://colab.research.google.com/assets/colab-badge.svg)](https://colab.research.google.com/drive/1jyX5ss14XU1F6ktQQijEH1yN-LsCMVIE?usp=sharing)\n",
        "## Master Generative AI in 6 Weeks\n",
        "**What You'll Learn:**\n",
        "- Build with Latest LLMs\n",
        "- Create Custom AI Apps\n",
        "- Learn from Industry Experts\n",
        "- Join Innovation Community\n",
        "Transform your AI ideas into reality through hands-on projects and expert mentorship.\n",
        "[Start Your Journey](https://www.buildfastwithai.com/genai-course)\n",
        "*Empowering the Next Generation of AI Innovators"
      ],
      "metadata": {
        "id": "GDURcPpKc7_A"
      }
    },
    {
      "cell_type": "markdown",
      "source": [
        "## 🌟 Streamlit in Colab: Simplify Interactive Web Apps Development\n",
        "\n",
        "**Streamlit** is an open-source app framework for creating interactive web applications directly from Python scripts. 🐍 Now, you can seamlessly run **Streamlit apps** in **Google Colab** using a few simple steps. 🚀\n",
        "\n",
        "✨ **Key Features**:  \n",
        "- Create rich, interactive UI elements with minimal code.  \n",
        "- Leverage Python's extensive ecosystem for data visualization and AI.  \n",
        "- Quick and easy setup for building dashboards, prototypes, and applications.  \n",
        "- Perfect for developers, researchers, and data enthusiasts. 📊  "
      ],
      "metadata": {
        "id": "9FMsW0hwc3M9"
      }
    },
    {
      "cell_type": "markdown",
      "source": [
        "###**Setup and Installation**"
      ],
      "metadata": {
        "id": "S-WQiaxzc5oi"
      }
    },
    {
      "cell_type": "code",
      "source": [
        "!pip install -U langchain-community tiktoken duckduckgo-search streamlit"
      ],
      "metadata": {
        "id": "VIqhFUQepzFg"
      },
      "execution_count": null,
      "outputs": []
    },
    {
      "cell_type": "markdown",
      "source": [
        "### **💬 Streamlit Chatbot: OpenAI-Powered Conversational App**"
      ],
      "metadata": {
        "id": "Ajg8EebOdRS8"
      }
    },
    {
      "cell_type": "code",
      "source": [
        "%%writefile app.py\n",
        "from openai import OpenAI\n",
        "import streamlit as st\n",
        "\n",
        "with st.sidebar:\n",
        "    openai_api_key = st.text_input(\"OpenAI API Key\", key=\"chatbot_api_key\", type=\"password\")\n",
        "    \"[Get an OpenAI API key](https://platform.openai.com/account/api-keys)\"\n",
        "\n",
        "st.title(\"💬 Chatbot\")\n",
        "st.caption(\"🚀 A Streamlit chatbot powered by OpenAI\")\n",
        "if \"messages\" not in st.session_state:\n",
        "    st.session_state[\"messages\"] = [{\"role\": \"assistant\", \"content\": \"How can I help you?\"}]\n",
        "\n",
        "for msg in st.session_state.messages:\n",
        "    st.chat_message(msg[\"role\"]).write(msg[\"content\"])\n",
        "\n",
        "if prompt := st.chat_input():\n",
        "    if not openai_api_key:\n",
        "        st.info(\"Please add your OpenAI API key to continue.\")\n",
        "        st.stop()\n",
        "\n",
        "    client = OpenAI(api_key=openai_api_key)\n",
        "    st.session_state.messages.append({\"role\": \"user\", \"content\": prompt})\n",
        "    st.chat_message(\"user\").write(prompt)\n",
        "    response = client.chat.completions.create(model=\"gpt-3.5-turbo\", messages=st.session_state.messages)\n",
        "    msg = response.choices[0].message.content\n",
        "    st.session_state.messages.append({\"role\": \"assistant\", \"content\": msg})\n",
        "    st.chat_message(\"assistant\").write(msg)"
      ],
      "metadata": {
        "id": "SFgCF0guaZZI",
        "colab": {
          "base_uri": "https://localhost:8080/"
        },
        "outputId": "f862c2f4-ff49-4b84-b2ef-fb72820c475b"
      },
      "execution_count": 2,
      "outputs": [
        {
          "output_type": "stream",
          "name": "stdout",
          "text": [
            "Writing app.py\n"
          ]
        }
      ]
    },
    {
      "cell_type": "markdown",
      "source": [
        "### **🌐 Fetch Public IP Address using wget**"
      ],
      "metadata": {
        "id": "rdeYX-iMdXzJ"
      }
    },
    {
      "cell_type": "code",
      "source": [
        "!wget -q -O - ipv4.icanhazip.com"
      ],
      "metadata": {
        "id": "vTlJeR6JZA5p",
        "colab": {
          "base_uri": "https://localhost:8080/"
        },
        "outputId": "5ff2dd46-a703-4e7c-ea8e-0eb362c68201"
      },
      "execution_count": 3,
      "outputs": [
        {
          "output_type": "stream",
          "name": "stdout",
          "text": [
            "35.234.33.244\n"
          ]
        }
      ]
    },
    {
      "cell_type": "markdown",
      "source": [
        "### **🚀 Run Streamlit App with LocalTunnel**"
      ],
      "metadata": {
        "id": "eW3RURxWddHq"
      }
    },
    {
      "cell_type": "code",
      "source": [
        "! streamlit run app.py & npx localtunnel --port 8501"
      ],
      "metadata": {
        "id": "xbqHGG9Ea1Nv"
      },
      "execution_count": null,
      "outputs": []
    },
    {
      "cell_type": "markdown",
      "source": [
        "### **🦜🔗 LangChain-Powered Text Summarization App**"
      ],
      "metadata": {
        "id": "2mxhNHEtdiqh"
      }
    },
    {
      "cell_type": "code",
      "source": [
        "%%writefile webapp.py\n",
        "import streamlit as st\n",
        "from langchain import OpenAI\n",
        "from langchain.docstore.document import Document\n",
        "from langchain.text_splitter import CharacterTextSplitter\n",
        "from langchain.chains.summarize import load_summarize_chain\n",
        "\n",
        "def generate_response(txt):\n",
        "    # Instantiate the LLM model\n",
        "    llm = OpenAI(temperature=0, openai_api_key=openai_api_key)\n",
        "    # Split text\n",
        "    text_splitter = CharacterTextSplitter()\n",
        "    texts = text_splitter.split_text(txt)\n",
        "    # Create multiple documents\n",
        "    docs = [Document(page_content=t) for t in texts]\n",
        "    # Text summarization\n",
        "    chain = load_summarize_chain(llm, chain_type='map_reduce')\n",
        "    return chain.run(docs)\n",
        "\n",
        "# Page title\n",
        "st.set_page_config(page_title='🦜🔗 Text Summarization App')\n",
        "st.title('🦜🔗 Text Summarization App')\n",
        "\n",
        "# Text input\n",
        "txt_input = st.text_area('Enter your text', '', height=200)\n",
        "\n",
        "# Form to accept user's text input for summarization\n",
        "result = []\n",
        "with st.form('summarize_form', clear_on_submit=True):\n",
        "    openai_api_key = st.text_input('OpenAI API Key', type = 'password', disabled=not txt_input)\n",
        "    submitted = st.form_submit_button('Submit')\n",
        "    if submitted and openai_api_key.startswith('sk-'):\n",
        "        with st.spinner('Calculating...'):\n",
        "            response = generate_response(txt_input)\n",
        "            result.append(response)\n",
        "            del openai_api_key\n",
        "\n",
        "if len(result):\n",
        "    st.info(response)"
      ],
      "metadata": {
        "colab": {
          "base_uri": "https://localhost:8080/"
        },
        "id": "3GD2aqFcCsNz",
        "outputId": "50e8d6a6-3915-4a0b-b551-1083de9cb98e"
      },
      "execution_count": 6,
      "outputs": [
        {
          "output_type": "stream",
          "name": "stdout",
          "text": [
            "Writing webapp.py\n"
          ]
        }
      ]
    },
    {
      "cell_type": "markdown",
      "source": [
        "### **🚀 Run Streamlit App with LocalTunnel**"
      ],
      "metadata": {
        "id": "QVIbVC3BdocO"
      }
    },
    {
      "cell_type": "code",
      "source": [
        "! streamlit run webapp.py & npx localtunnel --port 8501"
      ],
      "metadata": {
        "id": "3ZSyrHL37aZU"
      },
      "execution_count": null,
      "outputs": []
    },
    {
      "cell_type": "markdown",
      "source": [
        "### **🔎 LangChain-Powered Search and Chat App**"
      ],
      "metadata": {
        "id": "d1Q_1jledsMv"
      }
    },
    {
      "cell_type": "code",
      "source": [
        "%%writefile searchapp.py\n",
        "import streamlit as st\n",
        "\n",
        "from langchain.agents import initialize_agent, AgentType\n",
        "from langchain.callbacks import StreamlitCallbackHandler\n",
        "from langchain.chat_models import ChatOpenAI\n",
        "from langchain.tools import DuckDuckGoSearchRun\n",
        "\n",
        "with st.sidebar:\n",
        "    openai_api_key = st.text_input(\n",
        "        \"OpenAI API Key\", key=\"langchain_search_api_key_openai\", type=\"password\"\n",
        "    )\n",
        "    \"[Get an OpenAI API key](https://platform.openai.com/account/api-keys)\"\n",
        "\n",
        "\n",
        "st.title(\"🔎 LangChain - Chat with search\")\n",
        "\n",
        "\n",
        "\n",
        "if \"messages\" not in st.session_state:\n",
        "    st.session_state[\"messages\"] = [\n",
        "        {\"role\": \"assistant\", \"content\": \"Hi, I'm a chatbot who can search the web. How can I help you?\"}\n",
        "    ]\n",
        "\n",
        "for msg in st.session_state.messages:\n",
        "    st.chat_message(msg[\"role\"]).write(msg[\"content\"])\n",
        "\n",
        "if prompt := st.chat_input(placeholder=\"Who won the Women's U.S. Open in 2018?\"):\n",
        "    st.session_state.messages.append({\"role\": \"user\", \"content\": prompt})\n",
        "    st.chat_message(\"user\").write(prompt)\n",
        "\n",
        "    if not openai_api_key:\n",
        "        st.info(\"Please add your OpenAI API key to continue.\")\n",
        "        st.stop()\n",
        "\n",
        "    llm = ChatOpenAI(model_name=\"gpt-3.5-turbo\", openai_api_key=openai_api_key, streaming=True)\n",
        "    search = DuckDuckGoSearchRun(name=\"Search\")\n",
        "    search_agent = initialize_agent(\n",
        "        [search], llm, agent=AgentType.ZERO_SHOT_REACT_DESCRIPTION, handle_parsing_errors=True\n",
        "    )\n",
        "    with st.chat_message(\"assistant\"):\n",
        "        st_cb = StreamlitCallbackHandler(st.container(), expand_new_thoughts=False)\n",
        "        response = search_agent.run(st.session_state.messages, callbacks=[st_cb])\n",
        "        st.session_state.messages.append({\"role\": \"assistant\", \"content\": response})\n",
        "        st.write(response)"
      ],
      "metadata": {
        "colab": {
          "base_uri": "https://localhost:8080/"
        },
        "id": "NklZvquy7c8E",
        "outputId": "dd889014-5911-4f67-f73a-43599b2384c4"
      },
      "execution_count": null,
      "outputs": [
        {
          "output_type": "stream",
          "name": "stdout",
          "text": [
            "Overwriting searchapp.py\n"
          ]
        }
      ]
    },
    {
      "cell_type": "markdown",
      "source": [
        "### **🚀 Run Streamlit App with LocalTunnel**"
      ],
      "metadata": {
        "id": "9EJDwBVJdxKf"
      }
    },
    {
      "cell_type": "code",
      "source": [
        "! streamlit run searchapp.py & npx localtunnel --port 8501"
      ],
      "metadata": {
        "id": "ysieQn43RbgA"
      },
      "execution_count": null,
      "outputs": []
    }
  ]
}