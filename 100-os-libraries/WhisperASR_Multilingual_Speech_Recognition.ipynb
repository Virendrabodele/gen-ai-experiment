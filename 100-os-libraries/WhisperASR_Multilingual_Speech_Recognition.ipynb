{
  "nbformat": 4,
  "nbformat_minor": 0,
  "metadata": {
    "colab": {
      "provenance": []
    },
    "kernelspec": {
      "name": "python3",
      "display_name": "Python 3"
    },
    "language_info": {
      "name": "python"
    }
  },
  "cells": [
    {
      "cell_type": "markdown",
      "source": [
        "<img src=\"https://drive.google.com/uc?export=view&id=1wYSMgJtARFdvTt5g7E20mE4NmwUFUuog\" width=\"200\">\n",
        "\n",
        "[![Build Fast with AI](https://img.shields.io/badge/BuildFastWithAI-GenAI%20Bootcamp-blue?style=for-the-badge&logo=artificial-intelligence)](https://www.buildfastwithai.com/genai-course)\n",
        "[![EduChain GitHub](https://img.shields.io/github/stars/satvik314/educhain?style=for-the-badge&logo=github&color=gold)](https://github.com/satvik314/educhain)\n",
        "\n",
        "[![Open In Colab](https://colab.research.google.com/assets/colab-badge.svg)](https://colab.research.google.com/drive/1Iv4eTMQP69a5Q7n_YxxLFsxp2--otpYb?usp=sharing)\n",
        "## Master Generative AI in 6 Weeks\n",
        "**What You'll Learn:**\n",
        "- Build with Latest LLMs\n",
        "- Create Custom AI Apps\n",
        "- Learn from Industry Experts\n",
        "- Join Innovation Community\n",
        "Transform your AI ideas into reality through hands-on projects and expert mentorship.\n",
        "[Start Your Journey](https://www.buildfastwithai.com/genai-course)\n",
        "*Empowering the Next Generation of AI Innovators"
      ],
      "metadata": {
        "id": "jHx1Y-hB2nbS"
      }
    },
    {
      "cell_type": "markdown",
      "source": [
        "### 🎙️ **WhisperASR: Multilingual Speech Recognition**  \n",
        "Whisper OpenSource is an advanced, open-source automatic speech recognition (ASR) system designed for high accuracy and multilingual transcription. It excels in diverse audio scenarios, including noisy environments, and supports a wide range of applications such as subtitles, accessibility, and real-time transcription."
      ],
      "metadata": {
        "id": "Zd8RcOW82qkS"
      }
    },
    {
      "cell_type": "markdown",
      "source": [
        "###**Setup and Installation**\n",
        "\n"
      ],
      "metadata": {
        "id": "yZUZjFrm2_ku"
      }
    },
    {
      "cell_type": "code",
      "source": [
        "pip install pydub"
      ],
      "metadata": {
        "id": "Lc5kmB2nz1dC"
      },
      "execution_count": null,
      "outputs": []
    },
    {
      "cell_type": "code",
      "execution_count": null,
      "metadata": {
        "id": "wn8dxB4utTP3"
      },
      "outputs": [],
      "source": [
        "from openai import OpenAI\n",
        "import urllib\n",
        "import os\n",
        "\n",
        "from google.colab import userdata\n",
        "os.environ[\"OPENAI_API_KEY\"]=userdata.get('OPENAI_API_KEY')\n",
        "\n",
        "client = OpenAI(api_key=os.environ.get(\"OPENAI_API_KEY\"))"
      ]
    },
    {
      "cell_type": "markdown",
      "source": [
        "###⬇️**Download BBQ Plans Dataset**  \n"
      ],
      "metadata": {
        "id": "AYvv467C3fXg"
      }
    },
    {
      "cell_type": "code",
      "source": [
        "bbq_plans_remote_filepath = \"https://cdn.openai.com/API/examples/data/bbq_plans.wav\"\n",
        "\n",
        "bbq_plans_filepath = \"bbq_plans.wav\"\n",
        "\n",
        "urllib.request.urlretrieve(bbq_plans_remote_filepath, bbq_plans_filepath)\n"
      ],
      "metadata": {
        "colab": {
          "base_uri": "https://localhost:8080/"
        },
        "id": "MFBPjE1yyar-",
        "outputId": "d926ef1e-16ed-4ce4-da3e-3c88cbacdef6"
      },
      "execution_count": null,
      "outputs": [
        {
          "output_type": "execute_result",
          "data": {
            "text/plain": [
              "('bbq_plans.wav', <http.client.HTTPMessage at 0x7ce8ab445330>)"
            ]
          },
          "metadata": {},
          "execution_count": 5
        }
      ]
    },
    {
      "cell_type": "markdown",
      "source": [
        "## **Audio Transcription Function**  \n"
      ],
      "metadata": {
        "id": "KLuYCrdC3xkD"
      }
    },
    {
      "cell_type": "code",
      "source": [
        "def transcribe(audio_filepath, prompt: str) -> str:\n",
        "    \"\"\"Given a prompt, transcribe the audio file.\"\"\"\n",
        "    transcript = client.audio.transcriptions.create(\n",
        "        file=open(audio_filepath, \"rb\"),\n",
        "        model=\"whisper-1\",\n",
        "        prompt=prompt,\n",
        "    )\n",
        "    return transcript.text"
      ],
      "metadata": {
        "id": "t062XCFOymqz"
      },
      "execution_count": null,
      "outputs": []
    },
    {
      "cell_type": "markdown",
      "source": [
        "### **Baseline Transcript with No Prompt**"
      ],
      "metadata": {
        "id": "QELVKCd44IDN"
      }
    },
    {
      "cell_type": "code",
      "source": [
        "transcribe(bbq_plans_filepath, prompt=\"\")\n"
      ],
      "metadata": {
        "colab": {
          "base_uri": "https://localhost:8080/",
          "height": 70
        },
        "id": "kLrNwfKuy4Qy",
        "outputId": "a7d625b9-9808-402a-b151-22c220a92fce"
      },
      "execution_count": null,
      "outputs": [
        {
          "output_type": "execute_result",
          "data": {
            "text/plain": [
              "\"Hello, my name is Preston Tuggle. I'm based in New York City. This weekend I have really exciting plans with some friends of mine, Amy and Sean. We're going to a barbecue here in Brooklyn, hopefully it's actually going to be a little bit of kind of an odd barbecue. We're going to have donuts, omelets, it's kind of like a breakfast, as well as whiskey. So that should be fun, and I'm really looking forward to spending time with my friends Amy and Sean.\""
            ],
            "application/vnd.google.colaboratory.intrinsic+json": {
              "type": "string"
            }
          },
          "metadata": {},
          "execution_count": 7
        }
      ]
    },
    {
      "cell_type": "markdown",
      "source": [
        "### **Spelling Prompt**"
      ],
      "metadata": {
        "id": "s1G3iBHx4S6c"
      }
    },
    {
      "cell_type": "code",
      "source": [
        "transcribe(bbq_plans_filepath, prompt=\"Friends: Aimee, Shawn\")"
      ],
      "metadata": {
        "colab": {
          "base_uri": "https://localhost:8080/",
          "height": 70
        },
        "id": "fDqeCc8oy8c4",
        "outputId": "4879dfd4-b23e-4a43-9bea-49d0fb0184fd"
      },
      "execution_count": null,
      "outputs": [
        {
          "output_type": "execute_result",
          "data": {
            "text/plain": [
              "\"Hello, my name is Preston Tuggle. I'm based in New York City. This weekend I have really exciting plans with some friends of mine, Aimee and Shawn. We're going to a barbecue here in Brooklyn. Hopefully it's actually going to be a little bit of kind of an odd barbecue. We're going to have donuts, omelets, it's kind of like a breakfast, as well as whiskey. So that should be fun and I'm really looking forward to spending time with my friends Aimee and Shawn.\""
            ],
            "application/vnd.google.colaboratory.intrinsic+json": {
              "type": "string"
            }
          },
          "metadata": {},
          "execution_count": 8
        }
      ]
    },
    {
      "cell_type": "markdown",
      "source": [
        "###**longer spelling prompt**\n"
      ],
      "metadata": {
        "id": "wVGupSzB4YXB"
      }
    },
    {
      "cell_type": "code",
      "source": [
        "transcribe(bbq_plans_filepath, prompt=\"Glossary: Aimee, Shawn, BBQ, Whisky, Doughnuts, Omelet\")"
      ],
      "metadata": {
        "colab": {
          "base_uri": "https://localhost:8080/",
          "height": 70
        },
        "id": "SwTZ03EfzPuH",
        "outputId": "4c6bdb59-a0d6-45a3-98ef-2cabf3eed0cd"
      },
      "execution_count": null,
      "outputs": [
        {
          "output_type": "execute_result",
          "data": {
            "text/plain": [
              "\"Hello, my name is Preston Tuggle. I'm based in New York City. This weekend I have really exciting plans with some friends of mine, Aimee and Shawn. We're going to a barbecue here in Brooklyn. Hopefully, it's actually going to be a little bit of an odd barbecue. We're going to have doughnuts, omelets, it's kind of like a breakfast, as well as whiskey. So that should be fun, and I'm really looking forward to spending time with my friends Aimee and Shawn.\""
            ],
            "application/vnd.google.colaboratory.intrinsic+json": {
              "type": "string"
            }
          },
          "metadata": {},
          "execution_count": 10
        }
      ]
    },
    {
      "cell_type": "markdown",
      "source": [
        "### **more natural, sentence-style prompt**"
      ],
      "metadata": {
        "id": "wccS5DFX4d0N"
      }
    },
    {
      "cell_type": "code",
      "source": [
        "transcribe(bbq_plans_filepath, prompt=\"\"\"\"Aimee and Shawn ate whisky, doughnuts, omelets at a BBQ.\"\"\")\n"
      ],
      "metadata": {
        "colab": {
          "base_uri": "https://localhost:8080/",
          "height": 70
        },
        "id": "t6b33f_JzLSU",
        "outputId": "ef2a6244-4151-45df-aede-43c3c318b11d"
      },
      "execution_count": null,
      "outputs": [
        {
          "output_type": "execute_result",
          "data": {
            "text/plain": [
              "\"Hello, my name is Preston Tuggle. I'm based in New York City. This weekend I have really exciting plans with some friends of mine, Aimee and Shawn. We're going to a BBQ here in Brooklyn. Hopefully it's actually going to be a little bit of kind of an odd BBQ. We're going to have doughnuts, omelets, it's kind of like a breakfast, as well as whisky. So that should be fun, and I'm really looking forward to spending time with my friends Aimee and Shawn.\""
            ],
            "application/vnd.google.colaboratory.intrinsic+json": {
              "type": "string"
            }
          },
          "metadata": {},
          "execution_count": 9
        }
      ]
    },
    {
      "cell_type": "markdown",
      "source": [
        "### **Enhancing Whisper Transcriptions: Pre- & Post-Processing Techniques**"
      ],
      "metadata": {
        "id": "IZhqIqrg4kVh"
      }
    },
    {
      "cell_type": "code",
      "source": [
        "from openai import OpenAI\n",
        "import os\n",
        "import urllib\n",
        "from IPython.display import Audio\n",
        "from pathlib import Path\n",
        "from pydub import AudioSegment\n",
        "import ssl"
      ],
      "metadata": {
        "id": "LswSOXF8zO2x"
      },
      "execution_count": null,
      "outputs": []
    },
    {
      "cell_type": "markdown",
      "source": [
        "###⬇️**Download Dataset**  \n"
      ],
      "metadata": {
        "id": "7bB37llr47VG"
      }
    },
    {
      "cell_type": "code",
      "source": [
        "# set download paths\n",
        "earnings_call_remote_filepath = \"https://cdn.openai.com/API/examples/data/EarningsCall.wav\"\n",
        "\n",
        "# set local save locations\n",
        "earnings_call_filepath = \"/EarningsCall.wav\"\n",
        "\n",
        "# download example audio files and save locally\n",
        "ssl._create_default_https_context = ssl._create_unverified_context\n",
        "urllib.request.urlretrieve(earnings_call_remote_filepath, earnings_call_filepath)"
      ],
      "metadata": {
        "colab": {
          "base_uri": "https://localhost:8080/"
        },
        "id": "c6xROhgpzvcE",
        "outputId": "eab85ae7-f589-41cf-b916-a9aa69aa7049"
      },
      "execution_count": null,
      "outputs": [
        {
          "output_type": "execute_result",
          "data": {
            "text/plain": [
              "('/EarningsCall.wav', <http.client.HTTPMessage at 0x7ce8ab42b160>)"
            ]
          },
          "metadata": {},
          "execution_count": 15
        }
      ]
    },
    {
      "cell_type": "markdown",
      "source": [
        "### **Function to detect leading silence**\n"
      ],
      "metadata": {
        "id": "O_RItNOk5Ceo"
      }
    },
    {
      "cell_type": "code",
      "source": [
        "def milliseconds_until_sound(sound, silence_threshold_in_decibels=-20.0, chunk_size=10):\n",
        "    trim_ms = 0  # ms\n",
        "\n",
        "    assert chunk_size > 0  # to avoid infinite loop\n",
        "    while sound[trim_ms:trim_ms+chunk_size].dBFS < silence_threshold_in_decibels and trim_ms < len(sound):\n",
        "\n",
        "        trim_ms += chunk_size\n",
        "\n",
        "    return trim_ms"
      ],
      "metadata": {
        "id": "0N7oP8a-zrZL"
      },
      "execution_count": null,
      "outputs": []
    },
    {
      "cell_type": "code",
      "source": [
        "def trim_start(filepath):\n",
        "    path = Path(filepath)\n",
        "    directory = path.parent\n",
        "    filename = path.name\n",
        "    audio = AudioSegment.from_file(filepath, format=\"wav\")\n",
        "    start_trim = milliseconds_until_sound(audio)\n",
        "    trimmed = audio[start_trim:]\n",
        "    new_filename = directory / f\"trimmed_{filename}\"\n",
        "    trimmed.export(new_filename, format=\"wav\")\n",
        "    return trimmed, new_filename"
      ],
      "metadata": {
        "id": "epUBLfguz9QV"
      },
      "execution_count": null,
      "outputs": []
    },
    {
      "cell_type": "code",
      "source": [
        "def transcribe_audio(file,output_dir):\n",
        "    audio_path = os.path.join(output_dir, file)\n",
        "    with open(audio_path, 'rb') as audio_data:\n",
        "        transcription = client.audio.transcriptions.create(\n",
        "            model=\"whisper-1\", file=audio_data)\n",
        "        return transcription.text"
      ],
      "metadata": {
        "id": "pKVa62W9z-rN"
      },
      "execution_count": null,
      "outputs": []
    },
    {
      "cell_type": "markdown",
      "source": [
        "### **Define function to remove non-ascii characters**\n"
      ],
      "metadata": {
        "id": "Pp-5oC---enb"
      }
    },
    {
      "cell_type": "code",
      "source": [
        "def remove_non_ascii(text):\n",
        "    return ''.join(i for i in text if ord(i)<128)"
      ],
      "metadata": {
        "id": "vb0Jz9LMz_2d"
      },
      "execution_count": null,
      "outputs": []
    },
    {
      "cell_type": "markdown",
      "source": [
        "### **Define function to add punctuation**"
      ],
      "metadata": {
        "id": "rEY6manu-jrH"
      }
    },
    {
      "cell_type": "code",
      "source": [
        "def punctuation_assistant(ascii_transcript):\n",
        "\n",
        "    system_prompt = \"\"\"You are a helpful assistant that adds punctuation to text.\n",
        "      Preserve the original words and only insert necessary punctuation such as periods,\n",
        "     commas, capialization, symbols like dollar sings or percentage signs, and formatting.\n",
        "     Use only the context provided. If there is no context provided say, 'No context provided'\\n\"\"\"\n",
        "    response = client.chat.completions.create(\n",
        "        model=\"gpt-3.5-turbo\",\n",
        "        temperature=0,\n",
        "        messages=[\n",
        "            {\n",
        "                \"role\": \"system\",\n",
        "                \"content\": system_prompt\n",
        "            },\n",
        "            {\n",
        "                \"role\": \"user\",\n",
        "                \"content\": ascii_transcript\n",
        "            }\n",
        "        ]\n",
        "    )\n",
        "    return response"
      ],
      "metadata": {
        "id": "s819W9Tm0CW-"
      },
      "execution_count": null,
      "outputs": []
    },
    {
      "cell_type": "markdown",
      "source": [
        "### **Define function to fix product mispellings**"
      ],
      "metadata": {
        "id": "vHXZt5iQ-o-l"
      }
    },
    {
      "cell_type": "code",
      "source": [
        "\n",
        "def product_assistant(ascii_transcript):\n",
        "    system_prompt = \"\"\"You are an intelligent assistant specializing in financial products;\n",
        "    your task is to process transcripts of earnings calls, ensuring that all references to\n",
        "     financial products and common financial terms are in the correct format. For each\n",
        "     financial product or common term that is typically abbreviated as an acronym, the full term\n",
        "    should be spelled out followed by the acronym in parentheses. For example, '401k' should be\n",
        "     transformed to '401(k) retirement savings plan', 'HSA' should be transformed to 'Health Savings Account (HSA)'\n",
        "    , 'ROA' should be transformed to 'Return on Assets (ROA)', 'VaR' should be transformed to 'Value at Risk (VaR)'\n",
        ", and 'PB' should be transformed to 'Price to Book (PB) ratio'. Similarly, transform spoken numbers representing\n",
        "financial products into their numeric representations, followed by the full name of the product in parentheses.\n",
        "For instance, 'five two nine' to '529 (Education Savings Plan)' and 'four zero one k' to '401(k) (Retirement Savings Plan)'.\n",
        " However, be aware that some acronyms can have different meanings based on the context (e.g., 'LTV' can stand for\n",
        "'Loan to Value' or 'Lifetime Value'). You will need to discern from the context which term is being referred to\n",
        "and apply the appropriate transformation. In cases where numerical figures or metrics are spelled out but do not\n",
        "represent specific financial products (like 'twenty three percent'), these should be left as is. Your role is to\n",
        " analyze and adjust financial product terminology in the text. Once you've done that, produce the adjusted\n",
        " transcript and a list of the words you've changed\"\"\"\n",
        "    response = client.chat.completions.create(\n",
        "        model=\"gpt-4\",\n",
        "        temperature=0,\n",
        "        messages=[\n",
        "            {\n",
        "                \"role\": \"system\",\n",
        "                \"content\": system_prompt\n",
        "            },\n",
        "            {\n",
        "                \"role\": \"user\",\n",
        "                \"content\": ascii_transcript\n",
        "            }\n",
        "        ]\n",
        "    )\n",
        "    return response"
      ],
      "metadata": {
        "id": "mSjIxfZQ0EEp"
      },
      "execution_count": null,
      "outputs": []
    },
    {
      "cell_type": "markdown",
      "source": [
        "### **Trim the start of the original audio file**"
      ],
      "metadata": {
        "id": "9FRqTLzR-5xx"
      }
    },
    {
      "cell_type": "code",
      "source": [
        "trimmed_audio = trim_start(earnings_call_filepath)\n"
      ],
      "metadata": {
        "id": "gWnqP8bd0Hg3"
      },
      "execution_count": null,
      "outputs": []
    },
    {
      "cell_type": "code",
      "source": [
        "trimmed_audio, trimmed_filename = trim_start(earnings_call_filepath)\n"
      ],
      "metadata": {
        "id": "MYDG8xOP0UUb"
      },
      "execution_count": null,
      "outputs": []
    },
    {
      "cell_type": "markdown",
      "source": [
        "### **Segment audio**"
      ],
      "metadata": {
        "id": "aIl0kawq_A6t"
      }
    },
    {
      "cell_type": "code",
      "source": [
        "trimmed_audio = AudioSegment.from_wav(trimmed_filename)  # Load the trimmed audio file\n",
        "\n",
        "one_minute = 1 * 60 * 1000  # Duration for each segment (in milliseconds)\n",
        "\n",
        "start_time = 0  # Start time for the first segment\n",
        "\n",
        "i = 0  # Index for naming the segmented files\n",
        "\n",
        "output_dir_trimmed = \"trimmed_earnings_directory\"  # Output directory for the segmented files\n",
        "\n",
        "if not os.path.isdir(output_dir_trimmed):  # Create the output directory if it does not exist\n",
        "    os.makedirs(output_dir_trimmed)\n",
        "\n",
        "while start_time < len(trimmed_audio):  # Loop over the trimmed audio file\n",
        "    segment = trimmed_audio[start_time:start_time + one_minute]  # Extract a segment\n",
        "    segment.export(os.path.join(output_dir_trimmed, f\"trimmed_{i:02d}.wav\"), format=\"wav\")  # Save the segment\n",
        "    start_time += one_minute  # Update the start time for the next segment\n",
        "    i += 1  # Increment the index for naming the next file"
      ],
      "metadata": {
        "id": "Y8mViJFE0JY2"
      },
      "execution_count": null,
      "outputs": []
    },
    {
      "cell_type": "code",
      "source": [
        "audio_files = sorted(\n",
        "    (f for f in os.listdir(output_dir_trimmed) if f.endswith(\".wav\")),\n",
        "    key=lambda f: int(''.join(filter(str.isdigit, f)))\n",
        ")"
      ],
      "metadata": {
        "id": "do-fPvDt0MEL"
      },
      "execution_count": null,
      "outputs": []
    },
    {
      "cell_type": "markdown",
      "source": [
        "### **Use a loop to apply the transcribe function to all audio files**\n"
      ],
      "metadata": {
        "id": "K33mpwgJ_EZF"
      }
    },
    {
      "cell_type": "code",
      "source": [
        "transcriptions = [transcribe_audio(file, output_dir_trimmed) for file in audio_files]\n"
      ],
      "metadata": {
        "id": "XVqeOJWi0XzQ"
      },
      "execution_count": null,
      "outputs": []
    },
    {
      "cell_type": "markdown",
      "source": [
        "### **Concatenate the transcriptions**\n"
      ],
      "metadata": {
        "id": "Xo-e9AvgBqqe"
      }
    },
    {
      "cell_type": "code",
      "source": [
        "full_transcript = ' '.join(transcriptions)\n"
      ],
      "metadata": {
        "id": "XmJnEstE0Z1I"
      },
      "execution_count": null,
      "outputs": []
    },
    {
      "cell_type": "code",
      "source": [
        "print(full_transcript)\n"
      ],
      "metadata": {
        "colab": {
          "base_uri": "https://localhost:8080/"
        },
        "id": "IEF5mUaX0bkT",
        "outputId": "feb08141-3529-4d88-b8a4-89b16ad9b364"
      },
      "execution_count": null,
      "outputs": [
        {
          "output_type": "stream",
          "name": "stdout",
          "text": [
            "Good afternoon, everyone. And welcome to FinTech Plus Sync's second quarter 2023 earnings call. I'm John Doe, CEO of FinTech Plus. We've had a stellar Q2 with a revenue of 125 million, a 25% increase year over year. Our gross profit margin stands at a solid 58%, due in part to cost efficiencies gained from our scalable business model. Our EBITDA has surged to 37.5 million, translating to a remarkable 30% EBITDA margin. Our net income for the quarter rose to 16 million, which is a noteworthy increase from 10 million in Q2 2022. Our total addressable market has grown substantially thanks to the expansion of our high yield savings product line and the new RoboAdvisor platform. We've been diversifying our asset-backed securities portfolio, investing heavily in collateralized. debt obligations, and residential mortgage-backed securities. We've also invested $25 million in AAA rated corporate bonds, enhancing our risk adjusted returns. As for our balance sheet, total assets reached $1.5 billion with total liabilities at $900 million, leaving us with a solid equity base of $600 million. Our debt-to-equity ratio stands at 1.5, a healthy figure considering our expansionary phase. We continue to see substantial organic user growth, with customer acquisition cost dropping by 15% and lifetime value growing by 25%. Our LTVCAC ratio is at an impressive 3.5%. In terms of risk management, we have a value-at-risk model in place with a 99%... confidence level indicating that our maximum loss will not exceed 5 million in the next trading day. We've adopted a conservative approach to managing our leverage and have a healthy tier one capital ratio of 12.5%. Our forecast for the coming quarter is positive. We expect revenue to be around 135 million and 8% quarter over quarter growth driven primarily by our cutting edge blockchain solutions and AI driven predictive analytics. We're also excited about the upcoming IPO of our FinTech subsidiary Pay Plus, which we expect to raise 200 million, significantly bolstering our liquidity and paving the way for aggressive growth strategies. We thank our shareholders for their continued faith in us and we look forward to an even more successful Q3. Thank you so much.\n"
          ]
        }
      ]
    },
    {
      "cell_type": "markdown",
      "source": [
        "### **Remove non-ascii characters from the transcript**\n"
      ],
      "metadata": {
        "id": "MXLXiDQwBuHA"
      }
    },
    {
      "cell_type": "code",
      "source": [
        "ascii_transcript = remove_non_ascii(full_transcript)\n"
      ],
      "metadata": {
        "id": "yGVR7CU60dc0"
      },
      "execution_count": null,
      "outputs": []
    },
    {
      "cell_type": "code",
      "source": [
        "print(ascii_transcript)\n"
      ],
      "metadata": {
        "colab": {
          "base_uri": "https://localhost:8080/"
        },
        "id": "4mfBMnbY0rL3",
        "outputId": "664db64e-1308-4ded-f9f9-281017f8b5db"
      },
      "execution_count": null,
      "outputs": [
        {
          "output_type": "stream",
          "name": "stdout",
          "text": [
            "Good afternoon, everyone. And welcome to FinTech Plus Sync's second quarter 2023 earnings call. I'm John Doe, CEO of FinTech Plus. We've had a stellar Q2 with a revenue of 125 million, a 25% increase year over year. Our gross profit margin stands at a solid 58%, due in part to cost efficiencies gained from our scalable business model. Our EBITDA has surged to 37.5 million, translating to a remarkable 30% EBITDA margin. Our net income for the quarter rose to 16 million, which is a noteworthy increase from 10 million in Q2 2022. Our total addressable market has grown substantially thanks to the expansion of our high yield savings product line and the new RoboAdvisor platform. We've been diversifying our asset-backed securities portfolio, investing heavily in collateralized. debt obligations, and residential mortgage-backed securities. We've also invested $25 million in AAA rated corporate bonds, enhancing our risk adjusted returns. As for our balance sheet, total assets reached $1.5 billion with total liabilities at $900 million, leaving us with a solid equity base of $600 million. Our debt-to-equity ratio stands at 1.5, a healthy figure considering our expansionary phase. We continue to see substantial organic user growth, with customer acquisition cost dropping by 15% and lifetime value growing by 25%. Our LTVCAC ratio is at an impressive 3.5%. In terms of risk management, we have a value-at-risk model in place with a 99%... confidence level indicating that our maximum loss will not exceed 5 million in the next trading day. We've adopted a conservative approach to managing our leverage and have a healthy tier one capital ratio of 12.5%. Our forecast for the coming quarter is positive. We expect revenue to be around 135 million and 8% quarter over quarter growth driven primarily by our cutting edge blockchain solutions and AI driven predictive analytics. We're also excited about the upcoming IPO of our FinTech subsidiary Pay Plus, which we expect to raise 200 million, significantly bolstering our liquidity and paving the way for aggressive growth strategies. We thank our shareholders for their continued faith in us and we look forward to an even more successful Q3. Thank you so much.\n"
          ]
        }
      ]
    },
    {
      "cell_type": "markdown",
      "source": [
        "### **Use punctuation assistant function**"
      ],
      "metadata": {
        "id": "QjsvJtgWB2OZ"
      }
    },
    {
      "cell_type": "code",
      "source": [
        "response = punctuation_assistant(ascii_transcript)\n"
      ],
      "metadata": {
        "id": "nnxPEVfI0ykn"
      },
      "execution_count": null,
      "outputs": []
    },
    {
      "cell_type": "code",
      "source": [
        "punctuated_transcript = response.choices[0].message.content\n"
      ],
      "metadata": {
        "id": "I_uTzqQ800cT"
      },
      "execution_count": null,
      "outputs": []
    },
    {
      "cell_type": "code",
      "source": [
        "print(punctuated_transcript)\n"
      ],
      "metadata": {
        "colab": {
          "base_uri": "https://localhost:8080/"
        },
        "id": "XSE9lnQT01vR",
        "outputId": "d837047b-0783-4bf5-a0b7-eb07d6fab33c"
      },
      "execution_count": null,
      "outputs": [
        {
          "output_type": "stream",
          "name": "stdout",
          "text": [
            "Good afternoon, everyone, and welcome to FinTech Plus Sync's second quarter 2023 earnings call. I'm John Doe, CEO of FinTech Plus. We've had a stellar Q2 with a revenue of $125 million, a 25% increase year over year. Our gross profit margin stands at a solid 58%, due in part to cost efficiencies gained from our scalable business model. Our EBITDA has surged to $37.5 million, translating to a remarkable 30% EBITDA margin. Our net income for the quarter rose to $16 million, which is a noteworthy increase from $10 million in Q2 2022. Our total addressable market has grown substantially thanks to the expansion of our high yield savings product line and the new RoboAdvisor platform. We've been diversifying our asset-backed securities portfolio, investing heavily in collateralized debt obligations, and residential mortgage-backed securities. We've also invested $25 million in AAA rated corporate bonds, enhancing our risk-adjusted returns. As for our balance sheet, total assets reached $1.5 billion with total liabilities at $900 million, leaving us with a solid equity base of $600 million. Our debt-to-equity ratio stands at 1.5, a healthy figure considering our expansionary phase. We continue to see substantial organic user growth, with customer acquisition cost dropping by 15% and lifetime value growing by 25%. Our LTVCAC ratio is at an impressive 3.5%. In terms of risk management, we have a value-at-risk model in place with a 99% confidence level indicating that our maximum loss will not exceed $5 million in the next trading day. We've adopted a conservative approach to managing our leverage and have a healthy tier one capital ratio of 12.5%. Our forecast for the coming quarter is positive. We expect revenue to be around $135 million and 8% quarter over quarter growth driven primarily by our cutting-edge blockchain solutions and AI-driven predictive analytics. We're also excited about the upcoming IPO of our FinTech subsidiary Pay Plus, which we expect to raise $200 million, significantly bolstering our liquidity and paving the way for aggressive growth strategies. We thank our shareholders for their continued faith in us, and we look forward to an even more successful Q3. Thank you so much.\n"
          ]
        }
      ]
    },
    {
      "cell_type": "markdown",
      "source": [
        "### **Use product assistant function**\n"
      ],
      "metadata": {
        "id": "WTqfb6wiB8kP"
      }
    },
    {
      "cell_type": "code",
      "source": [
        "response = product_assistant(punctuated_transcript)\n"
      ],
      "metadata": {
        "id": "VqU_PS5I025S"
      },
      "execution_count": null,
      "outputs": []
    },
    {
      "cell_type": "code",
      "source": [
        "final_transcript = response.choices[0].message.content\n"
      ],
      "metadata": {
        "id": "p4jXrZyP05Fi"
      },
      "execution_count": null,
      "outputs": []
    },
    {
      "cell_type": "code",
      "source": [
        "print(final_transcript)\n"
      ],
      "metadata": {
        "colab": {
          "base_uri": "https://localhost:8080/"
        },
        "id": "MkIfFIya07h3",
        "outputId": "ee8c60ef-3802-4481-8282-48af9e0b3aa8"
      },
      "execution_count": null,
      "outputs": [
        {
          "output_type": "stream",
          "name": "stdout",
          "text": [
            "Good afternoon, everyone, and welcome to FinTech Plus Sync's second quarter 2023 earnings call. I'm John Doe, CEO of FinTech Plus. We've had a stellar second quarter (Q2) with a revenue of $125 million, a 25% increase year over year. Our gross profit margin stands at a solid 58%, due in part to cost efficiencies gained from our scalable business model. Our Earnings Before Interest, Taxes, Depreciation, and Amortization (EBITDA) has surged to $37.5 million, translating to a remarkable 30% EBITDA margin. Our net income for the quarter rose to $16 million, which is a noteworthy increase from $10 million in Q2 2022. Our total addressable market has grown substantially thanks to the expansion of our high yield savings product line and the new RoboAdvisor platform. We've been diversifying our Asset-Backed Securities (ABS) portfolio, investing heavily in Collateralized Debt Obligations (CDOs), and Residential Mortgage-Backed Securities (RMBS). We've also invested $25 million in AAA rated corporate bonds, enhancing our risk-adjusted returns. As for our balance sheet, total assets reached $1.5 billion with total liabilities at $900 million, leaving us with a solid equity base of $600 million. Our Debt-to-Equity (D/E) ratio stands at 1.5, a healthy figure considering our expansionary phase. We continue to see substantial organic user growth, with Customer Acquisition Cost (CAC) dropping by 15% and Lifetime Value (LTV) growing by 25%. Our LTV to CAC (LTVCAC) ratio is at an impressive 3.5%. In terms of risk management, we have a Value at Risk (VaR) model in place with a 99% confidence level indicating that our maximum loss will not exceed $5 million in the next trading day. We've adopted a conservative approach to managing our leverage and have a healthy Tier 1 Capital ratio of 12.5%. Our forecast for the coming quarter is positive. We expect revenue to be around $135 million and 8% quarter over quarter growth driven primarily by our cutting-edge blockchain solutions and AI-driven predictive analytics. We're also excited about the upcoming Initial Public Offering (IPO) of our FinTech subsidiary Pay Plus, which we expect to raise $200 million, significantly bolstering our liquidity and paving the way for aggressive growth strategies. We thank our shareholders for their continued faith in us, and we look forward to an even more successful third quarter (Q3). Thank you so much.\n",
            "\n",
            "Changes made:\n",
            "1. Q2 to second quarter (Q2)\n",
            "2. EBITDA to Earnings Before Interest, Taxes, Depreciation, and Amortization (EBITDA)\n",
            "3. ABS to Asset-Backed Securities (ABS)\n",
            "4. CDOs to Collateralized Debt Obligations (CDOs)\n",
            "5. RMBS to Residential Mortgage-Backed Securities (RMBS)\n",
            "6. D/E to Debt-to-Equity (D/E)\n",
            "7. CAC to Customer Acquisition Cost (CAC)\n",
            "8. LTV to Lifetime Value (LTV)\n",
            "9. LTVCAC to LTV to CAC (LTVCAC)\n",
            "10. VaR to Value at Risk (VaR)\n",
            "11. IPO to Initial Public Offering (IPO)\n",
            "12. Q3 to third quarter (Q3)\n"
          ]
        }
      ]
    }
  ]
}