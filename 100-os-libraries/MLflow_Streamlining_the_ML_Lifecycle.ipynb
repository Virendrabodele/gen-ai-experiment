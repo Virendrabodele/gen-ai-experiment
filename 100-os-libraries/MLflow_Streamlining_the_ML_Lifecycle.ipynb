{
  "nbformat": 4,
  "nbformat_minor": 0,
  "metadata": {
    "colab": {
      "provenance": []
    },
    "kernelspec": {
      "name": "python3",
      "display_name": "Python 3"
    },
    "language_info": {
      "name": "python"
    },
    "widgets": {
      "application/vnd.jupyter.widget-state+json": {
        "11cb7d1c1efd404e84a766724b156ad2": {
          "model_module": "@jupyter-widgets/controls",
          "model_name": "HBoxModel",
          "model_module_version": "1.5.0",
          "state": {
            "_dom_classes": [],
            "_model_module": "@jupyter-widgets/controls",
            "_model_module_version": "1.5.0",
            "_model_name": "HBoxModel",
            "_view_count": null,
            "_view_module": "@jupyter-widgets/controls",
            "_view_module_version": "1.5.0",
            "_view_name": "HBoxView",
            "box_style": "",
            "children": [
              "IPY_MODEL_2084b6149e2841f4897339ed31641f58",
              "IPY_MODEL_6758f66a060844679171fe1ff5a0ddbc",
              "IPY_MODEL_fcd0f458be3348a0a48694fb8e462096"
            ],
            "layout": "IPY_MODEL_7f0ececa923c4a838bd4165ab0f5939f"
          }
        },
        "2084b6149e2841f4897339ed31641f58": {
          "model_module": "@jupyter-widgets/controls",
          "model_name": "HTMLModel",
          "model_module_version": "1.5.0",
          "state": {
            "_dom_classes": [],
            "_model_module": "@jupyter-widgets/controls",
            "_model_module_version": "1.5.0",
            "_model_name": "HTMLModel",
            "_view_count": null,
            "_view_module": "@jupyter-widgets/controls",
            "_view_module_version": "1.5.0",
            "_view_name": "HTMLView",
            "description": "",
            "description_tooltip": null,
            "layout": "IPY_MODEL_b93855e98dad4f15aa175f84441bec61",
            "placeholder": "​",
            "style": "IPY_MODEL_f2ad6f8f28e649f694a9ab83712c24ed",
            "value": "README.md: 100%"
          }
        },
        "6758f66a060844679171fe1ff5a0ddbc": {
          "model_module": "@jupyter-widgets/controls",
          "model_name": "FloatProgressModel",
          "model_module_version": "1.5.0",
          "state": {
            "_dom_classes": [],
            "_model_module": "@jupyter-widgets/controls",
            "_model_module_version": "1.5.0",
            "_model_name": "FloatProgressModel",
            "_view_count": null,
            "_view_module": "@jupyter-widgets/controls",
            "_view_module_version": "1.5.0",
            "_view_name": "ProgressView",
            "bar_style": "success",
            "description": "",
            "description_tooltip": null,
            "layout": "IPY_MODEL_3381b1efccf44911bfc99220c6167d9e",
            "max": 5898,
            "min": 0,
            "orientation": "horizontal",
            "style": "IPY_MODEL_d090d213016f48d0ae9d1c935cbe443c",
            "value": 5898
          }
        },
        "fcd0f458be3348a0a48694fb8e462096": {
          "model_module": "@jupyter-widgets/controls",
          "model_name": "HTMLModel",
          "model_module_version": "1.5.0",
          "state": {
            "_dom_classes": [],
            "_model_module": "@jupyter-widgets/controls",
            "_model_module_version": "1.5.0",
            "_model_name": "HTMLModel",
            "_view_count": null,
            "_view_module": "@jupyter-widgets/controls",
            "_view_module_version": "1.5.0",
            "_view_name": "HTMLView",
            "description": "",
            "description_tooltip": null,
            "layout": "IPY_MODEL_3130a7c91ebd42a48c661738f4565c31",
            "placeholder": "​",
            "style": "IPY_MODEL_14739632cc6c4f5d927a386d3451d612",
            "value": " 5.90k/5.90k [00:00&lt;00:00, 224kB/s]"
          }
        },
        "7f0ececa923c4a838bd4165ab0f5939f": {
          "model_module": "@jupyter-widgets/base",
          "model_name": "LayoutModel",
          "model_module_version": "1.2.0",
          "state": {
            "_model_module": "@jupyter-widgets/base",
            "_model_module_version": "1.2.0",
            "_model_name": "LayoutModel",
            "_view_count": null,
            "_view_module": "@jupyter-widgets/base",
            "_view_module_version": "1.2.0",
            "_view_name": "LayoutView",
            "align_content": null,
            "align_items": null,
            "align_self": null,
            "border": null,
            "bottom": null,
            "display": null,
            "flex": null,
            "flex_flow": null,
            "grid_area": null,
            "grid_auto_columns": null,
            "grid_auto_flow": null,
            "grid_auto_rows": null,
            "grid_column": null,
            "grid_gap": null,
            "grid_row": null,
            "grid_template_areas": null,
            "grid_template_columns": null,
            "grid_template_rows": null,
            "height": null,
            "justify_content": null,
            "justify_items": null,
            "left": null,
            "margin": null,
            "max_height": null,
            "max_width": null,
            "min_height": null,
            "min_width": null,
            "object_fit": null,
            "object_position": null,
            "order": null,
            "overflow": null,
            "overflow_x": null,
            "overflow_y": null,
            "padding": null,
            "right": null,
            "top": null,
            "visibility": null,
            "width": null
          }
        },
        "b93855e98dad4f15aa175f84441bec61": {
          "model_module": "@jupyter-widgets/base",
          "model_name": "LayoutModel",
          "model_module_version": "1.2.0",
          "state": {
            "_model_module": "@jupyter-widgets/base",
            "_model_module_version": "1.2.0",
            "_model_name": "LayoutModel",
            "_view_count": null,
            "_view_module": "@jupyter-widgets/base",
            "_view_module_version": "1.2.0",
            "_view_name": "LayoutView",
            "align_content": null,
            "align_items": null,
            "align_self": null,
            "border": null,
            "bottom": null,
            "display": null,
            "flex": null,
            "flex_flow": null,
            "grid_area": null,
            "grid_auto_columns": null,
            "grid_auto_flow": null,
            "grid_auto_rows": null,
            "grid_column": null,
            "grid_gap": null,
            "grid_row": null,
            "grid_template_areas": null,
            "grid_template_columns": null,
            "grid_template_rows": null,
            "height": null,
            "justify_content": null,
            "justify_items": null,
            "left": null,
            "margin": null,
            "max_height": null,
            "max_width": null,
            "min_height": null,
            "min_width": null,
            "object_fit": null,
            "object_position": null,
            "order": null,
            "overflow": null,
            "overflow_x": null,
            "overflow_y": null,
            "padding": null,
            "right": null,
            "top": null,
            "visibility": null,
            "width": null
          }
        },
        "f2ad6f8f28e649f694a9ab83712c24ed": {
          "model_module": "@jupyter-widgets/controls",
          "model_name": "DescriptionStyleModel",
          "model_module_version": "1.5.0",
          "state": {
            "_model_module": "@jupyter-widgets/controls",
            "_model_module_version": "1.5.0",
            "_model_name": "DescriptionStyleModel",
            "_view_count": null,
            "_view_module": "@jupyter-widgets/base",
            "_view_module_version": "1.2.0",
            "_view_name": "StyleView",
            "description_width": ""
          }
        },
        "3381b1efccf44911bfc99220c6167d9e": {
          "model_module": "@jupyter-widgets/base",
          "model_name": "LayoutModel",
          "model_module_version": "1.2.0",
          "state": {
            "_model_module": "@jupyter-widgets/base",
            "_model_module_version": "1.2.0",
            "_model_name": "LayoutModel",
            "_view_count": null,
            "_view_module": "@jupyter-widgets/base",
            "_view_module_version": "1.2.0",
            "_view_name": "LayoutView",
            "align_content": null,
            "align_items": null,
            "align_self": null,
            "border": null,
            "bottom": null,
            "display": null,
            "flex": null,
            "flex_flow": null,
            "grid_area": null,
            "grid_auto_columns": null,
            "grid_auto_flow": null,
            "grid_auto_rows": null,
            "grid_column": null,
            "grid_gap": null,
            "grid_row": null,
            "grid_template_areas": null,
            "grid_template_columns": null,
            "grid_template_rows": null,
            "height": null,
            "justify_content": null,
            "justify_items": null,
            "left": null,
            "margin": null,
            "max_height": null,
            "max_width": null,
            "min_height": null,
            "min_width": null,
            "object_fit": null,
            "object_position": null,
            "order": null,
            "overflow": null,
            "overflow_x": null,
            "overflow_y": null,
            "padding": null,
            "right": null,
            "top": null,
            "visibility": null,
            "width": null
          }
        },
        "d090d213016f48d0ae9d1c935cbe443c": {
          "model_module": "@jupyter-widgets/controls",
          "model_name": "ProgressStyleModel",
          "model_module_version": "1.5.0",
          "state": {
            "_model_module": "@jupyter-widgets/controls",
            "_model_module_version": "1.5.0",
            "_model_name": "ProgressStyleModel",
            "_view_count": null,
            "_view_module": "@jupyter-widgets/base",
            "_view_module_version": "1.2.0",
            "_view_name": "StyleView",
            "bar_color": null,
            "description_width": ""
          }
        },
        "3130a7c91ebd42a48c661738f4565c31": {
          "model_module": "@jupyter-widgets/base",
          "model_name": "LayoutModel",
          "model_module_version": "1.2.0",
          "state": {
            "_model_module": "@jupyter-widgets/base",
            "_model_module_version": "1.2.0",
            "_model_name": "LayoutModel",
            "_view_count": null,
            "_view_module": "@jupyter-widgets/base",
            "_view_module_version": "1.2.0",
            "_view_name": "LayoutView",
            "align_content": null,
            "align_items": null,
            "align_self": null,
            "border": null,
            "bottom": null,
            "display": null,
            "flex": null,
            "flex_flow": null,
            "grid_area": null,
            "grid_auto_columns": null,
            "grid_auto_flow": null,
            "grid_auto_rows": null,
            "grid_column": null,
            "grid_gap": null,
            "grid_row": null,
            "grid_template_areas": null,
            "grid_template_columns": null,
            "grid_template_rows": null,
            "height": null,
            "justify_content": null,
            "justify_items": null,
            "left": null,
            "margin": null,
            "max_height": null,
            "max_width": null,
            "min_height": null,
            "min_width": null,
            "object_fit": null,
            "object_position": null,
            "order": null,
            "overflow": null,
            "overflow_x": null,
            "overflow_y": null,
            "padding": null,
            "right": null,
            "top": null,
            "visibility": null,
            "width": null
          }
        },
        "14739632cc6c4f5d927a386d3451d612": {
          "model_module": "@jupyter-widgets/controls",
          "model_name": "DescriptionStyleModel",
          "model_module_version": "1.5.0",
          "state": {
            "_model_module": "@jupyter-widgets/controls",
            "_model_module_version": "1.5.0",
            "_model_name": "DescriptionStyleModel",
            "_view_count": null,
            "_view_module": "@jupyter-widgets/base",
            "_view_module_version": "1.2.0",
            "_view_name": "StyleView",
            "description_width": ""
          }
        },
        "f6b69f133a0148cc9c51db202663d5a6": {
          "model_module": "@jupyter-widgets/controls",
          "model_name": "HBoxModel",
          "model_module_version": "1.5.0",
          "state": {
            "_dom_classes": [],
            "_model_module": "@jupyter-widgets/controls",
            "_model_module_version": "1.5.0",
            "_model_name": "HBoxModel",
            "_view_count": null,
            "_view_module": "@jupyter-widgets/controls",
            "_view_module_version": "1.5.0",
            "_view_name": "HBoxView",
            "box_style": "",
            "children": [
              "IPY_MODEL_846afeed3fba4d09ac158c46732e94ee",
              "IPY_MODEL_cd8861c689a049a6950775621081f320",
              "IPY_MODEL_1c2df08ef595457d91ddbf57b04e3633"
            ],
            "layout": "IPY_MODEL_6dd404f562a84027829423a1732927de"
          }
        },
        "846afeed3fba4d09ac158c46732e94ee": {
          "model_module": "@jupyter-widgets/controls",
          "model_name": "HTMLModel",
          "model_module_version": "1.5.0",
          "state": {
            "_dom_classes": [],
            "_model_module": "@jupyter-widgets/controls",
            "_model_module_version": "1.5.0",
            "_model_name": "HTMLModel",
            "_view_count": null,
            "_view_module": "@jupyter-widgets/controls",
            "_view_module_version": "1.5.0",
            "_view_name": "HTMLView",
            "description": "",
            "description_tooltip": null,
            "layout": "IPY_MODEL_220de7343daa46c199a1ca01ec3adbfc",
            "placeholder": "​",
            "style": "IPY_MODEL_fbd23e25b34843b489e6b860dc88cb08",
            "value": "Loading checkpoint shards: 100%"
          }
        },
        "cd8861c689a049a6950775621081f320": {
          "model_module": "@jupyter-widgets/controls",
          "model_name": "FloatProgressModel",
          "model_module_version": "1.5.0",
          "state": {
            "_dom_classes": [],
            "_model_module": "@jupyter-widgets/controls",
            "_model_module_version": "1.5.0",
            "_model_name": "FloatProgressModel",
            "_view_count": null,
            "_view_module": "@jupyter-widgets/controls",
            "_view_module_version": "1.5.0",
            "_view_name": "ProgressView",
            "bar_style": "success",
            "description": "",
            "description_tooltip": null,
            "layout": "IPY_MODEL_e2562927ba334274b726cf59618e2e70",
            "max": 2,
            "min": 0,
            "orientation": "horizontal",
            "style": "IPY_MODEL_c2b76e92e8a04c67abd157c1afd79a38",
            "value": 2
          }
        },
        "1c2df08ef595457d91ddbf57b04e3633": {
          "model_module": "@jupyter-widgets/controls",
          "model_name": "HTMLModel",
          "model_module_version": "1.5.0",
          "state": {
            "_dom_classes": [],
            "_model_module": "@jupyter-widgets/controls",
            "_model_module_version": "1.5.0",
            "_model_name": "HTMLModel",
            "_view_count": null,
            "_view_module": "@jupyter-widgets/controls",
            "_view_module_version": "1.5.0",
            "_view_name": "HTMLView",
            "description": "",
            "description_tooltip": null,
            "layout": "IPY_MODEL_c218ab3ce9f44882ac2d20d60d48e1cf",
            "placeholder": "​",
            "style": "IPY_MODEL_e8da009dfbc141d9a09c74712fd5d315",
            "value": " 2/2 [00:01&lt;00:00,  1.16it/s]"
          }
        },
        "6dd404f562a84027829423a1732927de": {
          "model_module": "@jupyter-widgets/base",
          "model_name": "LayoutModel",
          "model_module_version": "1.2.0",
          "state": {
            "_model_module": "@jupyter-widgets/base",
            "_model_module_version": "1.2.0",
            "_model_name": "LayoutModel",
            "_view_count": null,
            "_view_module": "@jupyter-widgets/base",
            "_view_module_version": "1.2.0",
            "_view_name": "LayoutView",
            "align_content": null,
            "align_items": null,
            "align_self": null,
            "border": null,
            "bottom": null,
            "display": null,
            "flex": null,
            "flex_flow": null,
            "grid_area": null,
            "grid_auto_columns": null,
            "grid_auto_flow": null,
            "grid_auto_rows": null,
            "grid_column": null,
            "grid_gap": null,
            "grid_row": null,
            "grid_template_areas": null,
            "grid_template_columns": null,
            "grid_template_rows": null,
            "height": null,
            "justify_content": null,
            "justify_items": null,
            "left": null,
            "margin": null,
            "max_height": null,
            "max_width": null,
            "min_height": null,
            "min_width": null,
            "object_fit": null,
            "object_position": null,
            "order": null,
            "overflow": null,
            "overflow_x": null,
            "overflow_y": null,
            "padding": null,
            "right": null,
            "top": null,
            "visibility": null,
            "width": null
          }
        },
        "220de7343daa46c199a1ca01ec3adbfc": {
          "model_module": "@jupyter-widgets/base",
          "model_name": "LayoutModel",
          "model_module_version": "1.2.0",
          "state": {
            "_model_module": "@jupyter-widgets/base",
            "_model_module_version": "1.2.0",
            "_model_name": "LayoutModel",
            "_view_count": null,
            "_view_module": "@jupyter-widgets/base",
            "_view_module_version": "1.2.0",
            "_view_name": "LayoutView",
            "align_content": null,
            "align_items": null,
            "align_self": null,
            "border": null,
            "bottom": null,
            "display": null,
            "flex": null,
            "flex_flow": null,
            "grid_area": null,
            "grid_auto_columns": null,
            "grid_auto_flow": null,
            "grid_auto_rows": null,
            "grid_column": null,
            "grid_gap": null,
            "grid_row": null,
            "grid_template_areas": null,
            "grid_template_columns": null,
            "grid_template_rows": null,
            "height": null,
            "justify_content": null,
            "justify_items": null,
            "left": null,
            "margin": null,
            "max_height": null,
            "max_width": null,
            "min_height": null,
            "min_width": null,
            "object_fit": null,
            "object_position": null,
            "order": null,
            "overflow": null,
            "overflow_x": null,
            "overflow_y": null,
            "padding": null,
            "right": null,
            "top": null,
            "visibility": null,
            "width": null
          }
        },
        "fbd23e25b34843b489e6b860dc88cb08": {
          "model_module": "@jupyter-widgets/controls",
          "model_name": "DescriptionStyleModel",
          "model_module_version": "1.5.0",
          "state": {
            "_model_module": "@jupyter-widgets/controls",
            "_model_module_version": "1.5.0",
            "_model_name": "DescriptionStyleModel",
            "_view_count": null,
            "_view_module": "@jupyter-widgets/base",
            "_view_module_version": "1.2.0",
            "_view_name": "StyleView",
            "description_width": ""
          }
        },
        "e2562927ba334274b726cf59618e2e70": {
          "model_module": "@jupyter-widgets/base",
          "model_name": "LayoutModel",
          "model_module_version": "1.2.0",
          "state": {
            "_model_module": "@jupyter-widgets/base",
            "_model_module_version": "1.2.0",
            "_model_name": "LayoutModel",
            "_view_count": null,
            "_view_module": "@jupyter-widgets/base",
            "_view_module_version": "1.2.0",
            "_view_name": "LayoutView",
            "align_content": null,
            "align_items": null,
            "align_self": null,
            "border": null,
            "bottom": null,
            "display": null,
            "flex": null,
            "flex_flow": null,
            "grid_area": null,
            "grid_auto_columns": null,
            "grid_auto_flow": null,
            "grid_auto_rows": null,
            "grid_column": null,
            "grid_gap": null,
            "grid_row": null,
            "grid_template_areas": null,
            "grid_template_columns": null,
            "grid_template_rows": null,
            "height": null,
            "justify_content": null,
            "justify_items": null,
            "left": null,
            "margin": null,
            "max_height": null,
            "max_width": null,
            "min_height": null,
            "min_width": null,
            "object_fit": null,
            "object_position": null,
            "order": null,
            "overflow": null,
            "overflow_x": null,
            "overflow_y": null,
            "padding": null,
            "right": null,
            "top": null,
            "visibility": null,
            "width": null
          }
        },
        "c2b76e92e8a04c67abd157c1afd79a38": {
          "model_module": "@jupyter-widgets/controls",
          "model_name": "ProgressStyleModel",
          "model_module_version": "1.5.0",
          "state": {
            "_model_module": "@jupyter-widgets/controls",
            "_model_module_version": "1.5.0",
            "_model_name": "ProgressStyleModel",
            "_view_count": null,
            "_view_module": "@jupyter-widgets/base",
            "_view_module_version": "1.2.0",
            "_view_name": "StyleView",
            "bar_color": null,
            "description_width": ""
          }
        },
        "c218ab3ce9f44882ac2d20d60d48e1cf": {
          "model_module": "@jupyter-widgets/base",
          "model_name": "LayoutModel",
          "model_module_version": "1.2.0",
          "state": {
            "_model_module": "@jupyter-widgets/base",
            "_model_module_version": "1.2.0",
            "_model_name": "LayoutModel",
            "_view_count": null,
            "_view_module": "@jupyter-widgets/base",
            "_view_module_version": "1.2.0",
            "_view_name": "LayoutView",
            "align_content": null,
            "align_items": null,
            "align_self": null,
            "border": null,
            "bottom": null,
            "display": null,
            "flex": null,
            "flex_flow": null,
            "grid_area": null,
            "grid_auto_columns": null,
            "grid_auto_flow": null,
            "grid_auto_rows": null,
            "grid_column": null,
            "grid_gap": null,
            "grid_row": null,
            "grid_template_areas": null,
            "grid_template_columns": null,
            "grid_template_rows": null,
            "height": null,
            "justify_content": null,
            "justify_items": null,
            "left": null,
            "margin": null,
            "max_height": null,
            "max_width": null,
            "min_height": null,
            "min_width": null,
            "object_fit": null,
            "object_position": null,
            "order": null,
            "overflow": null,
            "overflow_x": null,
            "overflow_y": null,
            "padding": null,
            "right": null,
            "top": null,
            "visibility": null,
            "width": null
          }
        },
        "e8da009dfbc141d9a09c74712fd5d315": {
          "model_module": "@jupyter-widgets/controls",
          "model_name": "DescriptionStyleModel",
          "model_module_version": "1.5.0",
          "state": {
            "_model_module": "@jupyter-widgets/controls",
            "_model_module_version": "1.5.0",
            "_model_name": "DescriptionStyleModel",
            "_view_count": null,
            "_view_module": "@jupyter-widgets/base",
            "_view_module_version": "1.2.0",
            "_view_name": "StyleView",
            "description_width": ""
          }
        },
        "1a9481bec07f465b85cce4232da94b2b": {
          "model_module": "@jupyter-widgets/controls",
          "model_name": "HBoxModel",
          "model_module_version": "1.5.0",
          "state": {
            "_dom_classes": [],
            "_model_module": "@jupyter-widgets/controls",
            "_model_module_version": "1.5.0",
            "_model_name": "HBoxModel",
            "_view_count": null,
            "_view_module": "@jupyter-widgets/controls",
            "_view_module_version": "1.5.0",
            "_view_name": "HBoxView",
            "box_style": "",
            "children": [
              "IPY_MODEL_a219e1394916430a83db60a97848754d",
              "IPY_MODEL_5fd6499846ce4b6b91cd1b3efe7ce751",
              "IPY_MODEL_03758a8a77144e5ab4f81cfadae7a13f"
            ],
            "layout": "IPY_MODEL_baea86386de2421ea3e01ce1a8a9afda"
          }
        },
        "a219e1394916430a83db60a97848754d": {
          "model_module": "@jupyter-widgets/controls",
          "model_name": "HTMLModel",
          "model_module_version": "1.5.0",
          "state": {
            "_dom_classes": [],
            "_model_module": "@jupyter-widgets/controls",
            "_model_module_version": "1.5.0",
            "_model_name": "HTMLModel",
            "_view_count": null,
            "_view_module": "@jupyter-widgets/controls",
            "_view_module_version": "1.5.0",
            "_view_name": "HTMLView",
            "description": "",
            "description_tooltip": null,
            "layout": "IPY_MODEL_b97f0f6b05444297989a7263cc63b167",
            "placeholder": "​",
            "style": "IPY_MODEL_06d75fc3da1f45f4b2012d29b55538c5",
            "value": "Loading checkpoint shards: 100%"
          }
        },
        "5fd6499846ce4b6b91cd1b3efe7ce751": {
          "model_module": "@jupyter-widgets/controls",
          "model_name": "FloatProgressModel",
          "model_module_version": "1.5.0",
          "state": {
            "_dom_classes": [],
            "_model_module": "@jupyter-widgets/controls",
            "_model_module_version": "1.5.0",
            "_model_name": "FloatProgressModel",
            "_view_count": null,
            "_view_module": "@jupyter-widgets/controls",
            "_view_module_version": "1.5.0",
            "_view_name": "ProgressView",
            "bar_style": "success",
            "description": "",
            "description_tooltip": null,
            "layout": "IPY_MODEL_d94d2fc4a38f44d1a6bc20f018983be8",
            "max": 2,
            "min": 0,
            "orientation": "horizontal",
            "style": "IPY_MODEL_7c85c0914036426ba0f83c564bd8d752",
            "value": 2
          }
        },
        "03758a8a77144e5ab4f81cfadae7a13f": {
          "model_module": "@jupyter-widgets/controls",
          "model_name": "HTMLModel",
          "model_module_version": "1.5.0",
          "state": {
            "_dom_classes": [],
            "_model_module": "@jupyter-widgets/controls",
            "_model_module_version": "1.5.0",
            "_model_name": "HTMLModel",
            "_view_count": null,
            "_view_module": "@jupyter-widgets/controls",
            "_view_module_version": "1.5.0",
            "_view_name": "HTMLView",
            "description": "",
            "description_tooltip": null,
            "layout": "IPY_MODEL_991aaba0a8eb47f4a4831b6788952645",
            "placeholder": "​",
            "style": "IPY_MODEL_1e039d6e19ce4fad8a5169c0e528504a",
            "value": " 2/2 [00:01&lt;00:00,  1.12it/s]"
          }
        },
        "baea86386de2421ea3e01ce1a8a9afda": {
          "model_module": "@jupyter-widgets/base",
          "model_name": "LayoutModel",
          "model_module_version": "1.2.0",
          "state": {
            "_model_module": "@jupyter-widgets/base",
            "_model_module_version": "1.2.0",
            "_model_name": "LayoutModel",
            "_view_count": null,
            "_view_module": "@jupyter-widgets/base",
            "_view_module_version": "1.2.0",
            "_view_name": "LayoutView",
            "align_content": null,
            "align_items": null,
            "align_self": null,
            "border": null,
            "bottom": null,
            "display": null,
            "flex": null,
            "flex_flow": null,
            "grid_area": null,
            "grid_auto_columns": null,
            "grid_auto_flow": null,
            "grid_auto_rows": null,
            "grid_column": null,
            "grid_gap": null,
            "grid_row": null,
            "grid_template_areas": null,
            "grid_template_columns": null,
            "grid_template_rows": null,
            "height": null,
            "justify_content": null,
            "justify_items": null,
            "left": null,
            "margin": null,
            "max_height": null,
            "max_width": null,
            "min_height": null,
            "min_width": null,
            "object_fit": null,
            "object_position": null,
            "order": null,
            "overflow": null,
            "overflow_x": null,
            "overflow_y": null,
            "padding": null,
            "right": null,
            "top": null,
            "visibility": null,
            "width": null
          }
        },
        "b97f0f6b05444297989a7263cc63b167": {
          "model_module": "@jupyter-widgets/base",
          "model_name": "LayoutModel",
          "model_module_version": "1.2.0",
          "state": {
            "_model_module": "@jupyter-widgets/base",
            "_model_module_version": "1.2.0",
            "_model_name": "LayoutModel",
            "_view_count": null,
            "_view_module": "@jupyter-widgets/base",
            "_view_module_version": "1.2.0",
            "_view_name": "LayoutView",
            "align_content": null,
            "align_items": null,
            "align_self": null,
            "border": null,
            "bottom": null,
            "display": null,
            "flex": null,
            "flex_flow": null,
            "grid_area": null,
            "grid_auto_columns": null,
            "grid_auto_flow": null,
            "grid_auto_rows": null,
            "grid_column": null,
            "grid_gap": null,
            "grid_row": null,
            "grid_template_areas": null,
            "grid_template_columns": null,
            "grid_template_rows": null,
            "height": null,
            "justify_content": null,
            "justify_items": null,
            "left": null,
            "margin": null,
            "max_height": null,
            "max_width": null,
            "min_height": null,
            "min_width": null,
            "object_fit": null,
            "object_position": null,
            "order": null,
            "overflow": null,
            "overflow_x": null,
            "overflow_y": null,
            "padding": null,
            "right": null,
            "top": null,
            "visibility": null,
            "width": null
          }
        },
        "06d75fc3da1f45f4b2012d29b55538c5": {
          "model_module": "@jupyter-widgets/controls",
          "model_name": "DescriptionStyleModel",
          "model_module_version": "1.5.0",
          "state": {
            "_model_module": "@jupyter-widgets/controls",
            "_model_module_version": "1.5.0",
            "_model_name": "DescriptionStyleModel",
            "_view_count": null,
            "_view_module": "@jupyter-widgets/base",
            "_view_module_version": "1.2.0",
            "_view_name": "StyleView",
            "description_width": ""
          }
        },
        "d94d2fc4a38f44d1a6bc20f018983be8": {
          "model_module": "@jupyter-widgets/base",
          "model_name": "LayoutModel",
          "model_module_version": "1.2.0",
          "state": {
            "_model_module": "@jupyter-widgets/base",
            "_model_module_version": "1.2.0",
            "_model_name": "LayoutModel",
            "_view_count": null,
            "_view_module": "@jupyter-widgets/base",
            "_view_module_version": "1.2.0",
            "_view_name": "LayoutView",
            "align_content": null,
            "align_items": null,
            "align_self": null,
            "border": null,
            "bottom": null,
            "display": null,
            "flex": null,
            "flex_flow": null,
            "grid_area": null,
            "grid_auto_columns": null,
            "grid_auto_flow": null,
            "grid_auto_rows": null,
            "grid_column": null,
            "grid_gap": null,
            "grid_row": null,
            "grid_template_areas": null,
            "grid_template_columns": null,
            "grid_template_rows": null,
            "height": null,
            "justify_content": null,
            "justify_items": null,
            "left": null,
            "margin": null,
            "max_height": null,
            "max_width": null,
            "min_height": null,
            "min_width": null,
            "object_fit": null,
            "object_position": null,
            "order": null,
            "overflow": null,
            "overflow_x": null,
            "overflow_y": null,
            "padding": null,
            "right": null,
            "top": null,
            "visibility": null,
            "width": null
          }
        },
        "7c85c0914036426ba0f83c564bd8d752": {
          "model_module": "@jupyter-widgets/controls",
          "model_name": "ProgressStyleModel",
          "model_module_version": "1.5.0",
          "state": {
            "_model_module": "@jupyter-widgets/controls",
            "_model_module_version": "1.5.0",
            "_model_name": "ProgressStyleModel",
            "_view_count": null,
            "_view_module": "@jupyter-widgets/base",
            "_view_module_version": "1.2.0",
            "_view_name": "StyleView",
            "bar_color": null,
            "description_width": ""
          }
        },
        "991aaba0a8eb47f4a4831b6788952645": {
          "model_module": "@jupyter-widgets/base",
          "model_name": "LayoutModel",
          "model_module_version": "1.2.0",
          "state": {
            "_model_module": "@jupyter-widgets/base",
            "_model_module_version": "1.2.0",
            "_model_name": "LayoutModel",
            "_view_count": null,
            "_view_module": "@jupyter-widgets/base",
            "_view_module_version": "1.2.0",
            "_view_name": "LayoutView",
            "align_content": null,
            "align_items": null,
            "align_self": null,
            "border": null,
            "bottom": null,
            "display": null,
            "flex": null,
            "flex_flow": null,
            "grid_area": null,
            "grid_auto_columns": null,
            "grid_auto_flow": null,
            "grid_auto_rows": null,
            "grid_column": null,
            "grid_gap": null,
            "grid_row": null,
            "grid_template_areas": null,
            "grid_template_columns": null,
            "grid_template_rows": null,
            "height": null,
            "justify_content": null,
            "justify_items": null,
            "left": null,
            "margin": null,
            "max_height": null,
            "max_width": null,
            "min_height": null,
            "min_width": null,
            "object_fit": null,
            "object_position": null,
            "order": null,
            "overflow": null,
            "overflow_x": null,
            "overflow_y": null,
            "padding": null,
            "right": null,
            "top": null,
            "visibility": null,
            "width": null
          }
        },
        "1e039d6e19ce4fad8a5169c0e528504a": {
          "model_module": "@jupyter-widgets/controls",
          "model_name": "DescriptionStyleModel",
          "model_module_version": "1.5.0",
          "state": {
            "_model_module": "@jupyter-widgets/controls",
            "_model_module_version": "1.5.0",
            "_model_name": "DescriptionStyleModel",
            "_view_count": null,
            "_view_module": "@jupyter-widgets/base",
            "_view_module_version": "1.2.0",
            "_view_name": "StyleView",
            "description_width": ""
          }
        }
      }
    }
  },
  "cells": [
    {
      "cell_type": "markdown",
      "source": [
        "<img src=\"https://drive.google.com/uc?export=view&id=1wYSMgJtARFdvTt5g7E20mE4NmwUFUuog\" width=\"200\">\n",
        "\n",
        "[![Build Fast with AI](https://img.shields.io/badge/BuildFastWithAI-GenAI%20Bootcamp-blue?style=for-the-badge&logo=artificial-intelligence)](https://www.buildfastwithai.com/genai-course)\n",
        "[![EduChain GitHub](https://img.shields.io/github/stars/satvik314/educhain?style=for-the-badge&logo=github&color=gold)](https://github.com/satvik314/educhain)\n",
        "\n",
        "[![Open In Colab](https://colab.research.google.com/assets/colab-badge.svg)](https://colab.research.google.com/drive/1s8GLCUD8KBizbqpydzbsCfn81IqLEWR1?usp=sharing)\n",
        "## Master Generative AI in 6 Weeks\n",
        "**What You'll Learn:**\n",
        "- Build with Latest LLMs\n",
        "- Create Custom AI Apps\n",
        "- Learn from Industry Experts\n",
        "- Join Innovation Community\n",
        "Transform your AI ideas into reality through hands-on projects and expert mentorship.\n",
        "[Start Your Journey](https://www.buildfastwithai.com/genai-course)\n",
        "*Empowering the Next Generation of AI Innovators"
      ],
      "metadata": {
        "id": "QHihX4EyBq8I"
      }
    },
    {
      "cell_type": "markdown",
      "source": [
        "## 🛠️✨ **MLflow: A Machine Learning Lifecycle Platform**  \n",
        "\n",
        "MLflow is an open-source platform designed to manage the complexities of machine learning workflows, enabling seamless tracking, packaging, deployment, and monitoring of ML models.  \n",
        "\n",
        "### Core Components:  \n",
        "- **Experiment Tracking 📝**: APIs and UI for logging parameters, models, and results, with tools to compare experiments interactively.  \n",
        "- **Model Packaging 📦**: A standardized format for packaging models with metadata to ensure reliable deployment.  \n",
        "- **Model Registry 💾**: A centralized hub for managing models' lifecycle, including versioning and annotations.  \n",
        "- **Model Serving 🚀**: Deployment tools for batch or real-time scoring across platforms like Docker and AWS SageMaker.  \n",
        "- **Evaluation 📊**: Automated tools to evaluate and compare model performance seamlessly integrated with tracking.  \n",
        "- **Observability 🔍**: Debugging tools and integrations for online monitoring, enhancing transparency and troubleshooting.  \n",
        "\n"
      ],
      "metadata": {
        "id": "kxtJH2yEBs_4"
      }
    },
    {
      "cell_type": "markdown",
      "source": [
        "###**Install Required Libraries**\n"
      ],
      "metadata": {
        "id": "D2PfiFosBtVf"
      }
    },
    {
      "cell_type": "code",
      "source": [
        "pip install autogen mlflow"
      ],
      "metadata": {
        "id": "YhO8mjE-FKn1"
      },
      "execution_count": null,
      "outputs": []
    },
    {
      "cell_type": "markdown",
      "source": [
        "### **Import the SDK and configure your API key.**\n"
      ],
      "metadata": {
        "id": "Y___yYWkH8QL"
      }
    },
    {
      "cell_type": "code",
      "source": [
        "import os\n",
        "\n",
        "import mlflow\n",
        "\n",
        "mlflow.gemini.autolog()"
      ],
      "metadata": {
        "id": "Li3uQwE9Hz2x"
      },
      "execution_count": null,
      "outputs": []
    },
    {
      "cell_type": "code",
      "source": [
        "import google.generativeai as genai\n",
        "\n",
        "genai.configure(api_key=os.environ[\"GEMINI_API_KEY\"])\n",
        "\n",
        "model = genai.GenerativeModel(\"gemini-1.5-flash\")\n",
        "response = model.generate_content(\"The opposite of hot is\")\n",
        "print(response.text)"
      ],
      "metadata": {
        "colab": {
          "base_uri": "https://localhost:8080/",
          "height": 52
        },
        "id": "GdUx-CCJHmgP",
        "outputId": "f605a73c-2b1b-441f-ff8b-be066fba043b"
      },
      "execution_count": null,
      "outputs": [
        {
          "output_type": "stream",
          "name": "stdout",
          "text": [
            "cold\n",
            "\n"
          ]
        }
      ]
    },
    {
      "cell_type": "markdown",
      "source": [
        "###**leverage the chat feature to conduct multi-turn interactions**"
      ],
      "metadata": {
        "id": "0YTyMMsgIMlV"
      }
    },
    {
      "cell_type": "code",
      "source": [
        "chat = model.start_chat(history=[])\n",
        "response = chat.send_message(\"In one sentence, explain how a computer works to a young child.\")\n",
        "print(response.text)\n",
        "response = chat.send_message(\"Okay, how about a more detailed explanation to a high schooler?\")\n",
        "print(response.text)\n",
        "\n"
      ],
      "metadata": {
        "colab": {
          "base_uri": "https://localhost:8080/",
          "height": 106
        },
        "id": "WbMksuGNIKyJ",
        "outputId": "d113188f-5e83-48ac-fa69-5dc3307a219e"
      },
      "execution_count": null,
      "outputs": [
        {
          "output_type": "stream",
          "name": "stdout",
          "text": [
            "A computer follows instructions, like a recipe, to do things like show pictures and play games.\n",
            "\n",
            "Computers work by executing a series of instructions, called a program, written in a language they understand. These instructions manipulate data stored in memory, performing calculations, moving information, and interacting with input/output devices like screens and keyboards, ultimately producing the results we see and use.\n",
            "\n"
          ]
        }
      ]
    },
    {
      "cell_type": "markdown",
      "source": [
        "### **Count tokens for your statement**\n"
      ],
      "metadata": {
        "id": "wUSYTR9SIXCM"
      }
    },
    {
      "cell_type": "code",
      "source": [
        "response = model.count_tokens(\"The quick brown fox jumps over the lazy dog.\")\n",
        "print(response.total_tokens)"
      ],
      "metadata": {
        "colab": {
          "base_uri": "https://localhost:8080/",
          "height": 34
        },
        "id": "vLxQ0neBHrY4",
        "outputId": "53f65576-7f07-405b-dbb7-a946294776bf"
      },
      "execution_count": null,
      "outputs": [
        {
          "output_type": "stream",
          "name": "stdout",
          "text": [
            "10\n"
          ]
        }
      ]
    },
    {
      "cell_type": "markdown",
      "source": [
        "###**Generate text embeddings for your content**"
      ],
      "metadata": {
        "id": "u5xWktsGIe0U"
      }
    },
    {
      "cell_type": "code",
      "source": [
        "text = \"Hello world\"\n",
        "result = genai.embed_content(model=\"models/text-embedding-004\", content=text)\n",
        "print(result[\"embedding\"])"
      ],
      "metadata": {
        "colab": {
          "base_uri": "https://localhost:8080/",
          "height": 54
        },
        "id": "clOkqpHQHtxB",
        "outputId": "b47e5a46-536c-4225-c399-46a5e2604bd4"
      },
      "execution_count": null,
      "outputs": [
        {
          "output_type": "stream",
          "name": "stdout",
          "text": [
            "[0.013168517, -0.00871193, -0.046782672, 0.00069969177, -0.009518872, -0.008720178, 0.06010358, 0.024755737, 0.026053527, 0.054356426, -0.03793384, -0.0014235445, 0.030605137, -0.015512642, -0.012904964, -0.02880739, -0.007819577, 0.012152762, -0.1139952, 0.010654231, 0.005365246, -0.001178891, -0.029781109, -0.060107403, -0.015272871, -0.0036046242, 0.006147686, 0.031175768, 0.021421982, 0.03710434, -0.037202735, 0.046146937, 0.002196372, -0.031793054, 0.009660255, 0.012500477, -0.0509635, 0.0211728, 0.014332891, -0.057802226, -0.027034516, 0.03680537, 0.0016361808, 0.0085209, 0.04331588, -0.032519087, 0.018076202, -0.0031592466, 0.0045996527, -0.0063372543, 0.047213722, 0.0019673, -0.096703835, 0.039132748, -0.009261216, 0.00052189105, -0.03477181, -0.06110101, 0.111299425, -0.026392847, -0.03357019, -0.046336852, 0.04834363, 0.013755109, -0.045889065, -0.032731514, -0.00030687085, -0.0018447321, -0.04022458, 0.015202559, -0.06210209, 0.016816527, -0.0041033207, 0.0068335505, -0.04558194, -0.005694488, -0.01361119, 0.0153506, 0.0047637466, 0.014354645, -0.025091767, 0.030549971, 0.017842941, 0.008922101, -0.009913633, -0.0055191424, 0.0042662965, 0.034164958, -0.0415497, 0.02839316, 0.05274615, -0.019696133, -0.04317359, 0.008692135, 0.0378953, 0.011172264, -0.09257832, -0.0699248, 0.03688776, 0.054841068, -0.005101628, -0.015530042, 0.016115474, -0.039008606, 0.019041913, 0.06792719, -0.052621875, -0.0043116757, -0.03210347, -0.021890674, 0.029227898, -0.043584872, 0.04653876, -0.00022003335, -0.018515196, -0.06541224, -0.06567944, 0.025559686, -0.039458655, 0.010062294, 0.024458569, 0.024860987, -0.017300852, 0.024546698, 0.06439869, -0.021440854, 0.049738657, -0.00949008, -0.026653234, -0.034761775, 0.060390174, -0.045406546, 0.027124438, 0.008904918, -0.066732794, -0.041469876, 0.029826136, 0.012291809, -0.0072709266, -0.021745358, 0.023864806, -0.0067209927, -0.022400754, -0.003923009, 0.01881305, -0.049228318, 0.03400974, 0.044017073, -0.015930958, -0.00056868297, 0.016617727, 0.017419007, 0.056691997, -0.016414465, -0.026645714, 0.024278726, 0.040953644, -0.079184204, 0.055093966, 0.031068943, -0.023969304, -0.037983075, 0.011807936, -0.027495774, -0.016409926, 0.030110555, 0.00700206, -0.038740028, 0.003465744, -0.052127123, -0.0016720894, -0.06303467, -0.007846052, 0.055178847, 0.017969852, -0.0005042441, -0.050244756, -0.02273374, -0.022418197, -0.06987652, 0.1217357, 0.020601038, -0.017856559, -0.072523735, 0.023574503, 0.038720574, 0.012136116, 0.038173683, 0.07942199, 0.059125192, -0.05539393, 0.014219417, 0.00039195345, 0.0097837085, 0.03989159, -0.015511196, 0.09057199, -0.028641386, -0.010561261, -0.00072985847, 0.038702644, 0.026200535, 0.012094378, -0.015184014, -4.8700604e-06, 0.042798497, -0.067037486, -0.06712322, 0.04396472, 0.039446104, 0.0070506176, -0.00610351, 0.016315117, -0.02147067, -0.017218903, 0.04198218, 0.0792451, -0.03551275, 0.01971139, 0.012528084, 0.037658155, 0.032231476, 0.03120865, 0.0027622073, 0.06945816, 0.051191166, -0.020126302, -0.024578154, -0.026414057, 0.007390801, -0.05957928, 0.010089398, -0.021090928, 0.06729722, 0.013002833, 0.026297001, 0.08103928, 0.006110567, -0.02581688, 0.009760218, -0.009835284, -0.063677736, 0.035396058, 0.022232857, -0.010335639, -0.025122339, -0.005754994, 0.016599266, 0.032025464, -0.0520555, -0.076380156, 0.013837912, -0.043807063, -0.0013459269, -0.011419363, -0.03759185, 0.0061968374, -0.038195904, 0.0049901055, 0.010539029, 0.066891186, -0.050521076, -0.00096296263, -0.096950434, -0.038730007, -0.05186615, 0.03481374, 0.0017409265, 0.0047249356, -0.09459019, 0.015568682, -0.054853693, -0.019087583, -0.023971522, -0.031653695, 0.016145652, -0.045164302, 0.018818736, -0.07525632, -0.044481147, -0.0147667015, -0.009869341, 0.0052657165, 0.020442402, -0.02338545, -0.02787328, 0.058970317, 0.0414361, -0.029256603, 0.002872542, 0.040745832, -0.0041983756, 0.0075644446, -0.017805178, 0.024010329, 0.009071799, 0.041441288, 0.026769754, 0.059945397, 0.013750311, 0.01005346, 0.06505295, -0.04235249, -0.014582758, -0.026071275, 0.0048906254, 0.017222298, -0.033309467, -0.0135606015, -0.019053046, -0.0077306866, 0.028113155, 0.017721614, -0.017248439, -0.041523196, -0.017539276, -0.10393039, 0.026919447, -0.06688562, -0.05088429, 0.071815625, 0.03739201, -0.06518404, -0.036841597, -0.016413227, -0.031597514, 0.040168993, 0.029215027, 0.0067764185, -0.02686211, 0.029445268, 0.032679986, 0.018063977, -0.06616588, 0.0072234217, 0.0686223, -0.034785427, 0.03230709, 0.046360213, 0.061791077, -0.02266544, 0.040278144, 0.06814073, 0.025023563, 0.010892942, 0.0025026258, 0.02852551, 0.0019467423, -0.009952895, -0.052322544, 0.0013286328, 0.024738695, 0.021694113, -0.027086504, -0.07637617, 0.014915284, 0.070483685, -0.0005769163, 0.00390971, -0.032663763, 0.01924289, 0.03757995, -0.019704038, 0.033775833, -0.05655502, 0.03365816, -0.0015508272, 0.061794773, 0.031368382, -0.047705356, 0.043007284, 0.07139835, -0.026844393, -0.016394278, -0.012808837, -0.06422296, -0.055255573, -0.022325162, 0.04199648, -0.08627175, -0.03344056, 0.016519798, -0.034938183, 0.007643018, -0.084132634, 0.06341454, -0.059088133, 0.011732718, 0.004953409, -0.010624275, -0.027934408, 0.06452036, 0.049938306, 0.031810474, 0.0082210135, 0.02065425, -0.06512078, 0.009794603, 0.02604196, 0.029172111, 0.0002541223, 0.02939234, 0.034797266, -0.022962747, 0.006140017, -0.041712694, 0.05321545, 0.037581205, 0.060373705, -0.0014935201, -0.040906098, 0.057984725, 0.0077439924, 0.013275495, -0.015270892, -0.011789695, -0.043173354, 0.0061686924, 0.0007281646, 0.0045316704, -0.037370265, -0.037820537, 0.03662579, -0.0406495, 1.2084284e-05, -0.04601883, -0.02754795, 0.031443574, 0.038312957, -0.02045304, 0.0027796328, 0.03485869, -0.010103556, -0.012371149, -0.049376093, -0.0076438226, -0.016707411, 0.029443182, -0.012649181, 0.034053184, -0.033300858, -0.012671128, 0.021615181, 0.04402618, -0.04190251, 0.044863794, 0.034961782, -0.027479462, -0.023338553, 0.011501919, -0.002747153, -0.0010888693, -0.008619768, -0.00073421816, -0.033028476, 0.03153284, -0.028915651, 0.047381543, 0.014506601, 0.039103273, -0.06262317, 0.02674905, 0.07419203, -0.041567978, -0.01689899, 0.0037142523, -0.040704943, 0.008140221, -0.0014477816, 0.06751852, 0.045026764, 0.045497887, 0.0075754216, -0.0015312628, 0.021032102, 0.025878437, 0.00458398, 0.010390022, -0.01029515, 0.042052295, 1.2328367e-05, -0.0009661961, -0.0066712983, 0.010767207, 0.073086984, -0.019957205, -0.038455367, 0.008925235, 0.015611783, -0.004050363, -0.012765363, 0.048578177, 0.028977219, 0.012619767, -0.10013761, 0.037754577, 0.03162507, 0.019132981, -0.0028593126, -0.010472777, 0.025786115, -0.0036663697, -0.0037890596, -0.0039463225, -0.04544869, -0.01638059, -0.030301295, -0.054451007, 0.01393278, -0.030415945, 0.048666786, -0.012940216, 0.057140097, 0.020532383, -0.011876898, 0.021582047, -0.08439042, 0.013520349, -0.062647894, 0.037974592, -0.06367828, -0.026256064, 0.022763642, -0.027767375, 0.008139962, -0.01201632, -0.03028523, -0.03209237, 0.06109999, -0.0152122, -0.01518432, 0.0161417, 0.006810411, 0.002923029, -0.0329866, 0.034889836, -0.03178378, 0.046237927, -0.07509085, 0.029381242, -0.014639801, -0.021956166, 0.02019072, 0.01731075, 0.004238795, 0.04013655, -0.029937241, 0.014631369, -0.019482281, 0.03667237, 0.013073171, -0.03939492, -0.046975106, 0.0050561917, -0.0018816367, -0.020683957, -0.026621811, -0.0028166543, 0.0004428855, 0.0015141866, 0.042968232, -0.034774613, 0.026134612, -0.02073075, 0.043178357, 0.033809286, -0.01659652, 0.06863376, 0.012216329, 0.0063570556, -0.0011822685, -0.0012277337, 0.019620484, -0.017390868, 0.018826025, 0.019662797, -0.071375936, -0.00095073285, -0.00447629, -0.0035778922, 0.038702406, 0.0052900338, 0.089304544, 0.02794027, -0.03244356, 0.004415747, -0.005650484, -0.043552514, 0.06570202, 0.0037315045, -0.006119723, 0.037742212, -0.052776616, 0.0022544744, 0.0061499816, -0.00044793438, 0.012600256, 0.023525296, -0.009803638, 0.000279288, -0.0047437213, -0.029611478, -0.0016685959, -0.030744525, 0.0048140557, 0.0075248727, -0.056745857, -0.008747317, 0.0055587487, -0.0069568367, 0.00826219, -0.005383186, -0.0123178875, -0.0062282695, -0.104065344, 0.018016392, -0.020104455, -0.014975005, -0.047514297, 0.019035403, 0.017717002, 0.025371587, 0.027658718, 0.021886606, -0.038572427, -0.02263891, 0.024858044, 0.024119535, 0.03907904, 0.014218727, -0.03952902, 0.0103451265, 0.034022134, -0.007860201, -0.025442628, -0.014992497, -0.0038069352, 0.02044106, -0.04054297, -0.076724306, 0.014529256, 0.008197495, 0.055651724, 0.070666336, -0.036163874, 0.024863154, -0.010065885, -0.024126025, 0.041965093, 0.02778995, -0.029446332, 0.046977866, -0.027026251, 0.01017889, 0.01889121, 0.009676607, -0.035884283, -0.040325824, 0.063892074, -0.007869805, 0.015060419, -0.06826747, -0.015550768, -0.017306289, -0.008567895, -0.055789016, -0.031094499, 0.00072746404, 0.011383816, 0.0036669225, 0.0011559675, -0.008140854, -0.054175295, -0.023684131, -0.008697208, -0.001756607, 0.028200345, -0.026669206, -0.009185993, 0.031342253, -0.005149191, -0.030871525, 0.06947774, -0.077572815, -0.021413172, -0.028171645, -0.013645316, -0.023552718, 0.049151614, -0.006216141, 0.020684268, 0.017339915, -0.047044933, 0.016868956, -0.061364263, 0.027867854, 0.0062817656, 0.04550735, -0.032788977, -0.007169284, -0.012530192, -0.026431752, -0.072581485, 0.017581897, 0.014007512, -0.0006134024, 0.09011279, 0.01616112, -0.044886064, -0.009645127, -0.0725159, -0.023749292, 0.035358332, 0.008650988, 0.031847917, 0.03612922, 0.003157335, 0.021348234, -0.016207905, 0.035152823, -0.022374704, 0.023197437, 0.042488255, 0.051976632, 0.053009618, -0.03787191, -0.015085368, -0.0015294058, -0.03527521, 0.07546173, -0.019526465, -0.02671999, 0.009364239, 0.021002278, -0.010287936, -0.0009920947, -0.016989091, -0.04017152, -0.007779808, -0.0015624561, 0.0044376994, -0.0343109, -0.07172588, -0.00063980103, 0.01561367, 0.011399966, -0.03708158, 0.053447217, -0.035486102, -0.0876669, -0.06767029, 0.031979863, -0.0091825, 0.051519558, 0.029968249, -0.007276348, 0.04008593, -0.020452574, 0.028415956, -0.0043749083, 0.002593258, 0.08470567, -0.00733228, 0.04950726, -0.025075689, -0.03989258, 0.0037120343, 0.04019696]\n"
          ]
        }
      ]
    },
    {
      "cell_type": "code",
      "source": [
        "mlflow.end_run()"
      ],
      "metadata": {
        "id": "6KEiNJ1cLn9p"
      },
      "execution_count": null,
      "outputs": []
    },
    {
      "cell_type": "markdown",
      "source": [
        "###**simple embedding**"
      ],
      "metadata": {
        "id": "ZbmYnQvvJijW"
      }
    },
    {
      "cell_type": "code",
      "source": [
        "pip install -U langchain-community"
      ],
      "metadata": {
        "id": "LOWr_r2PKWKa"
      },
      "execution_count": null,
      "outputs": []
    },
    {
      "cell_type": "code",
      "source": [
        "from google.colab import userdata\n",
        "import os\n",
        "\n",
        "os.environ['OPENAI_API_KEY']=userdata.get('OPENAI_API_KEY')"
      ],
      "metadata": {
        "id": "BLvCLyNNI10y"
      },
      "execution_count": null,
      "outputs": []
    },
    {
      "cell_type": "code",
      "source": [
        "from sentence_transformers import SentenceTransformer\n",
        "\n",
        "import mlflow\n",
        "import mlflow.sentence_transformers\n",
        "\n",
        "model = SentenceTransformer(\"all-MiniLM-L6-v2\")\n",
        "\n",
        "example_sentences = [\"This is a sentence.\", \"This is another sentence.\"]\n",
        "\n",
        "# Define the signature\n",
        "signature = mlflow.models.infer_signature(\n",
        "    model_input=example_sentences,\n",
        "    model_output=model.encode(example_sentences),\n",
        ")\n"
      ],
      "metadata": {
        "id": "oddix_QUKhZJ"
      },
      "execution_count": null,
      "outputs": []
    },
    {
      "cell_type": "markdown",
      "source": [
        "###**Log the model using mlflow**"
      ],
      "metadata": {
        "id": "jIrTUfJTMGap"
      }
    },
    {
      "cell_type": "code",
      "source": [
        "with mlflow.start_run():\n",
        "    logged_model = mlflow.sentence_transformers.log_model(\n",
        "        model=model,\n",
        "        artifact_path=\"sbert_model\",\n",
        "        signature=signature,\n",
        "        input_example=example_sentences,\n",
        "    )\n"
      ],
      "metadata": {
        "colab": {
          "base_uri": "https://localhost:8080/"
        },
        "id": "cyELCs1pKlWv",
        "outputId": "a359b260-63f0-4dd5-a3f8-c83f96550bb0"
      },
      "execution_count": null,
      "outputs": [
        {
          "output_type": "stream",
          "name": "stderr",
          "text": [
            "2025/01/02 18:05:13 WARNING mlflow.utils.requirements_utils: Found torch version (2.5.1+cu121) contains a local version label (+cu121). MLflow logged a pip requirement for this package as 'torch==2.5.1' without the local version label to make it installable from PyPI. To specify pip requirements containing local version labels, please use `conda_env` or `pip_requirements`.\n",
            "2025/01/02 18:05:31 WARNING mlflow.utils.requirements_utils: The following packages were not found in the public PyPI package index as of 2024-12-04; if these packages are not present in the public PyPI index, you must install them manually before loading your model: {'google-genai'}\n",
            "2025/01/02 18:05:31 WARNING mlflow.utils.requirements_utils: Found torchvision version (0.20.1+cu121) contains a local version label (+cu121). MLflow logged a pip requirement for this package as 'torchvision==0.20.1' without the local version label to make it installable from PyPI. To specify pip requirements containing local version labels, please use `conda_env` or `pip_requirements`.\n"
          ]
        }
      ]
    },
    {
      "cell_type": "markdown",
      "source": [
        "###**Load option 1: mlflow.pyfunc.load_model returns a PyFuncModel**"
      ],
      "metadata": {
        "id": "ioF_-nEKMOJp"
      }
    },
    {
      "cell_type": "code",
      "source": [
        "loaded_model = mlflow.pyfunc.load_model(logged_model.model_uri)\n",
        "embeddings1 = loaded_model.predict([\"hello world\", \"i am mlflow\"])"
      ],
      "metadata": {
        "id": "6WEQqKMELelt"
      },
      "execution_count": null,
      "outputs": []
    },
    {
      "cell_type": "markdown",
      "source": [
        "### **Load option 2: mlflow.sentence_transformers.load_model returns a SentenceTransformer**\n"
      ],
      "metadata": {
        "id": "ZcIuRqPmMRA_"
      }
    },
    {
      "cell_type": "code",
      "source": [
        "loaded_model = mlflow.sentence_transformers.load_model(logged_model.model_uri)\n",
        "embeddings2 = loaded_model.encode([\"hello world\", \"i am mlflow\"])\n",
        "\n",
        "print(embeddings1)\n"
      ],
      "metadata": {
        "id": "hiTZjdDxLwSY"
      },
      "execution_count": null,
      "outputs": []
    },
    {
      "cell_type": "code",
      "source": [
        "print(embeddings2)"
      ],
      "metadata": {
        "id": "fw-5eCgFL2kv"
      },
      "execution_count": null,
      "outputs": []
    },
    {
      "cell_type": "markdown",
      "source": [
        "###**chain_as_code_driver**"
      ],
      "metadata": {
        "id": "VoB3OYwlNJ__"
      }
    },
    {
      "cell_type": "code",
      "source": [
        "import os\n",
        "\n",
        "from langchain.llms import OpenAI\n",
        "from langchain_core.output_parsers import StrOutputParser\n",
        "\n",
        "import mlflow\n",
        "\n",
        "assert \"OPENAI_API_KEY\" in os.environ, \"Please set the OPENAI_API_KEY environment variable.\"\n",
        "\n",
        "llm = OpenAI()"
      ],
      "metadata": {
        "id": "0b8Dpr_DNjIc"
      },
      "execution_count": null,
      "outputs": []
    },
    {
      "cell_type": "markdown",
      "source": [
        "### **Create the LLMChain with the specified model and prompt**\n"
      ],
      "metadata": {
        "id": "nWNTe0kPOHpK"
      }
    },
    {
      "cell_type": "code",
      "source": [
        "chain = llm | StrOutputParser()\n",
        "\n",
        "with mlflow.start_run() as run:\n",
        "    model_info = mlflow.langchain.log_model(chain, \"model\")\n",
        "\n",
        "loaded_model = mlflow.pyfunc.load_model(model_info.model_uri)\n",
        "\n",
        "for chunk in loaded_model.predict_stream(\"Count to 10. E.g., 1, 2, 3, ...\"):\n",
        "    print(chunk, end=\"|\")"
      ],
      "metadata": {
        "colab": {
          "base_uri": "https://localhost:8080/"
        },
        "id": "YM7WY7aON559",
        "outputId": "7dde5d4f-04ab-4fd4-d924-32b854d927ff"
      },
      "execution_count": null,
      "outputs": [
        {
          "output_type": "stream",
          "name": "stderr",
          "text": [
            "\u001b[31m2025/01/02 18:16:17 WARNING mlflow.models.model: Model logged without a signature and input example. Please set `input_example` parameter when logging the model to auto infer the model signature.\u001b[0m\n"
          ]
        },
        {
          "output_type": "stream",
          "name": "stdout",
          "text": [
            "\n",
            "\n",
            "|1|,| |2|,| |3|,| |4|,| |5|,| |6|,| |7|,| |8|,| |9|,| |10||"
          ]
        }
      ]
    },
    {
      "cell_type": "markdown",
      "source": [
        "###**chain_autolog**"
      ],
      "metadata": {
        "id": "Pw9zuIItOgNJ"
      }
    },
    {
      "cell_type": "code",
      "source": [
        "import os\n",
        "from operator import itemgetter\n",
        "\n",
        "from langchain.llms import OpenAI\n",
        "from langchain.prompts import PromptTemplate\n",
        "from langchain.schema.output_parser import StrOutputParser\n",
        "from langchain.schema.runnable import RunnableLambda\n",
        "\n",
        "import mlflow\n",
        "\n",
        "assert \"OPENAI_API_KEY\" in os.environ, \"Please set the OPENAI_API_KEY environment variable.\"\n",
        "\n",
        "mlflow.langchain.autolog(\n",
        "    log_input_examples=True,\n",
        "    log_model_signatures=True,\n",
        "    log_models=True,\n",
        "    registered_model_name=\"lc_model\",\n",
        ")\n",
        "\n",
        "prompt_with_history_str = \"\"\"\n",
        "Here is a history between you and a human: {chat_history}\n",
        "\n",
        "Now, please answer this question: {question}\n",
        "\"\"\"\n",
        "prompt_with_history = PromptTemplate(\n",
        "    input_variables=[\"chat_history\", \"question\"], template=prompt_with_history_str\n",
        ")\n",
        "\n",
        "\n",
        "def extract_question(input):\n",
        "    return input[-1][\"content\"]\n",
        "\n",
        "\n",
        "def extract_history(input):\n",
        "    return input[:-1]\n",
        "\n",
        "\n",
        "llm = OpenAI(temperature=0.9)\n",
        "\n",
        "# Build a chain with LCEL\n",
        "chain_with_history = (\n",
        "    {\n",
        "        \"question\": itemgetter(\"messages\") | RunnableLambda(extract_question),\n",
        "        \"chat_history\": itemgetter(\"messages\") | RunnableLambda(extract_history),\n",
        "    }\n",
        "    | prompt_with_history\n",
        "    | llm\n",
        "    | StrOutputParser()\n",
        ")\n",
        "\n",
        "inputs = {\"messages\": [{\"role\": \"user\", \"content\": \"Who owns MLflow?\"}]}\n",
        "\n",
        "print(chain_with_history.invoke(inputs))\n",
        "\n",
        "model_name = \"lc_model\"\n",
        "model_version = 1\n",
        "loaded_model = mlflow.pyfunc.load_model(f\"models:/{model_name}/{model_version}\")\n",
        "print(loaded_model.predict(inputs))\n",
        "\n",
        "# sample output:\n",
        "# \"1. Databricks\\n2. Microsoft\\n3. Google\\n4. Amazon\\n\\nEnter your answer: 1\\n\\n\n",
        "# Correct! MLflow is an open source project developed by Databricks. ...\n",
        "\n",
        "# We automatically log the model and trace related artifacts\n",
        "# A model with name `lc_model` is registered, we can load it back as a PyFunc model"
      ],
      "metadata": {
        "colab": {
          "base_uri": "https://localhost:8080/"
        },
        "id": "e4N4osjGOXOA",
        "outputId": "6e05ee01-99a9-47d7-bb61-62eee6dbc0de"
      },
      "execution_count": null,
      "outputs": [
        {
          "output_type": "stream",
          "name": "stderr",
          "text": [
            "2025/01/02 18:18:38 WARNING mlflow.tracing.processor.mlflow: Creating a trace within the default experiment with id '0'. It is strongly recommended to not use the default experiment to log traces due to ambiguous search results and probable performance issues over time due to directory table listing performance degradation with high volumes of directories within a specific path. To avoid performance and disambiguation issues, set the experiment for your environment using `mlflow.set_experiment()` API.\n",
            "2025/01/02 18:18:40 WARNING mlflow.utils.autologging_utils: MLflow autologging encountered a warning: \"/usr/local/lib/python3.10/dist-packages/mlflow/langchain/_langchain_autolog.py:424: UserWarning: MLflow autologging does not support logging models containing BaseRetriever because logging the model requires `loader_fn` and `persist_dir`. Please log the model manually using `mlflow.langchain.log_model(model, artifact_path, loader_fn=..., persist_dir=...)`\"\n",
            "2025/01/02 18:18:49 INFO mlflow.models.model: Found the following environment variables used during model inference: [OPENAI_API_KEY]. Please check if you need to set them when deploying the model. To disable this message, set environment variable `MLFLOW_RECORD_ENV_VARS_IN_MODEL_LOGGING` to `false`.\n",
            "Successfully registered model 'lc_model'.\n",
            "Created version '1' of model 'lc_model'.\n"
          ]
        },
        {
          "output_type": "stream",
          "name": "stdout",
          "text": [
            "\n",
            "MLflow is owned by Databricks.\n"
          ]
        },
        {
          "output_type": "stream",
          "name": "stderr",
          "text": [
            "2025/01/02 18:18:50 WARNING mlflow.tracing.processor.mlflow: Creating a trace within the default experiment with id '0'. It is strongly recommended to not use the default experiment to log traces due to ambiguous search results and probable performance issues over time due to directory table listing performance degradation with high volumes of directories within a specific path. To avoid performance and disambiguation issues, set the experiment for your environment using `mlflow.set_experiment()` API.\n"
          ]
        },
        {
          "output_type": "stream",
          "name": "stdout",
          "text": [
            "['\\nMLflow is owned by the open-source community and is currently governed by Databricks.']\n"
          ]
        }
      ]
    },
    {
      "cell_type": "code",
      "source": [
        "mlflow.end_run()"
      ],
      "metadata": {
        "id": "aChgFVJ_Q6eL"
      },
      "execution_count": null,
      "outputs": []
    },
    {
      "cell_type": "markdown",
      "source": [
        "###**Integrating Simple Transformers with MLflow**"
      ],
      "metadata": {
        "id": "1WmvcH8aQ0OH"
      }
    },
    {
      "cell_type": "code",
      "source": [
        "\n",
        "import transformers\n",
        "\n",
        "import mlflow\n",
        "\n",
        "task = \"text2text-generation\"\n",
        "\n",
        "generation_pipeline = transformers.pipeline(\n",
        "    task=task,\n",
        "    model=\"declare-lab/flan-alpaca-base\",\n",
        ")\n",
        "\n",
        "input_example = [\"prompt 1\", \"prompt 2\", \"prompt 3\"]\n",
        "\n",
        "parameters = {\"max_length\": 512, \"do_sample\": True}\n",
        "\n",
        "with mlflow.start_run() as run:\n",
        "    model_info = mlflow.transformers.log_model(\n",
        "        transformers_model=generation_pipeline,\n",
        "        artifact_path=\"text_generator\",\n",
        "        input_example=([\"prompt 1\", \"prompt 2\", \"prompt 3\"], parameters),\n",
        "    )\n",
        "\n",
        "sentence_generator = mlflow.pyfunc.load_model(model_info.model_uri)\n",
        "\n",
        "print(\n",
        "    sentence_generator.predict(\n",
        "        [\"tell me a story about rocks\", \"Tell me a joke about a dog that likes spaghetti\"],\n",
        "        # pass in additional parameters applied to the pipeline during inference\n",
        "        params=parameters,\n",
        "    )\n",
        ")\n"
      ],
      "metadata": {
        "colab": {
          "base_uri": "https://localhost:8080/",
          "height": 341,
          "referenced_widgets": [
            "11cb7d1c1efd404e84a766724b156ad2",
            "2084b6149e2841f4897339ed31641f58",
            "6758f66a060844679171fe1ff5a0ddbc",
            "fcd0f458be3348a0a48694fb8e462096",
            "7f0ececa923c4a838bd4165ab0f5939f",
            "b93855e98dad4f15aa175f84441bec61",
            "f2ad6f8f28e649f694a9ab83712c24ed",
            "3381b1efccf44911bfc99220c6167d9e",
            "d090d213016f48d0ae9d1c935cbe443c",
            "3130a7c91ebd42a48c661738f4565c31",
            "14739632cc6c4f5d927a386d3451d612",
            "f6b69f133a0148cc9c51db202663d5a6",
            "846afeed3fba4d09ac158c46732e94ee",
            "cd8861c689a049a6950775621081f320",
            "1c2df08ef595457d91ddbf57b04e3633",
            "6dd404f562a84027829423a1732927de",
            "220de7343daa46c199a1ca01ec3adbfc",
            "fbd23e25b34843b489e6b860dc88cb08",
            "e2562927ba334274b726cf59618e2e70",
            "c2b76e92e8a04c67abd157c1afd79a38",
            "c218ab3ce9f44882ac2d20d60d48e1cf",
            "e8da009dfbc141d9a09c74712fd5d315",
            "1a9481bec07f465b85cce4232da94b2b",
            "a219e1394916430a83db60a97848754d",
            "5fd6499846ce4b6b91cd1b3efe7ce751",
            "03758a8a77144e5ab4f81cfadae7a13f",
            "baea86386de2421ea3e01ce1a8a9afda",
            "b97f0f6b05444297989a7263cc63b167",
            "06d75fc3da1f45f4b2012d29b55538c5",
            "d94d2fc4a38f44d1a6bc20f018983be8",
            "7c85c0914036426ba0f83c564bd8d752",
            "991aaba0a8eb47f4a4831b6788952645",
            "1e039d6e19ce4fad8a5169c0e528504a"
          ]
        },
        "id": "Uo-fZqSKOeNP",
        "outputId": "1d36e295-5b65-4fa8-e513-128943526de2"
      },
      "execution_count": null,
      "outputs": [
        {
          "output_type": "stream",
          "name": "stderr",
          "text": [
            "Device set to use cpu\n"
          ]
        },
        {
          "output_type": "display_data",
          "data": {
            "text/plain": [
              "README.md:   0%|          | 0.00/5.90k [00:00<?, ?B/s]"
            ],
            "application/vnd.jupyter.widget-view+json": {
              "version_major": 2,
              "version_minor": 0,
              "model_id": "11cb7d1c1efd404e84a766724b156ad2"
            }
          },
          "metadata": {}
        },
        {
          "output_type": "stream",
          "name": "stderr",
          "text": [
            "2025/01/02 18:28:26 INFO mlflow.transformers.signature: Running model prediction to infer the model output signature with a timeout of 180 seconds. You can specify a different timeout by setting the environment variable MLFLOW_INPUT_EXAMPLE_INFERENCE_TIMEOUT.\n",
            "2025/01/02 18:28:26 WARNING mlflow.transformers: params provided to the `predict` method will override the inference configuration saved with the model. If the params provided are not valid for the pipeline, MlflowException will be raised.\n",
            "2025/01/02 18:28:44 WARNING mlflow.utils.requirements_utils: Found torch version (2.5.1+cu121) contains a local version label (+cu121). MLflow logged a pip requirement for this package as 'torch==2.5.1' without the local version label to make it installable from PyPI. To specify pip requirements containing local version labels, please use `conda_env` or `pip_requirements`.\n",
            "2025/01/02 18:28:44 WARNING mlflow.utils.requirements_utils: Found torchvision version (0.20.1+cu121) contains a local version label (+cu121). MLflow logged a pip requirement for this package as 'torchvision==0.20.1' without the local version label to make it installable from PyPI. To specify pip requirements containing local version labels, please use `conda_env` or `pip_requirements`.\n",
            "2025/01/02 18:29:05 WARNING mlflow.utils.requirements_utils: The following packages were not found in the public PyPI package index as of 2024-12-04; if these packages are not present in the public PyPI index, you must install them manually before loading your model: {'google-genai'}\n",
            "2025/01/02 18:29:05 WARNING mlflow.utils.requirements_utils: Found torchvision version (0.20.1+cu121) contains a local version label (+cu121). MLflow logged a pip requirement for this package as 'torchvision==0.20.1' without the local version label to make it installable from PyPI. To specify pip requirements containing local version labels, please use `conda_env` or `pip_requirements`.\n"
          ]
        },
        {
          "output_type": "display_data",
          "data": {
            "text/plain": [
              "Loading checkpoint shards:   0%|          | 0/2 [00:00<?, ?it/s]"
            ],
            "application/vnd.jupyter.widget-view+json": {
              "version_major": 2,
              "version_minor": 0,
              "model_id": "f6b69f133a0148cc9c51db202663d5a6"
            }
          },
          "metadata": {}
        },
        {
          "output_type": "stream",
          "name": "stderr",
          "text": [
            "Device set to use cpu\n",
            "2025/01/02 18:29:07 WARNING mlflow.transformers: params provided to the `predict` method will override the inference configuration saved with the model. If the params provided are not valid for the pipeline, MlflowException will be raised.\n"
          ]
        },
        {
          "output_type": "display_data",
          "data": {
            "text/plain": [
              "Loading checkpoint shards:   0%|          | 0/2 [00:00<?, ?it/s]"
            ],
            "application/vnd.jupyter.widget-view+json": {
              "version_major": 2,
              "version_minor": 0,
              "model_id": "1a9481bec07f465b85cce4232da94b2b"
            }
          },
          "metadata": {}
        },
        {
          "output_type": "stream",
          "name": "stderr",
          "text": [
            "Device set to use cpu\n",
            "2025/01/02 18:29:21 WARNING mlflow.transformers: params provided to the `predict` method will override the inference configuration saved with the model. If the params provided are not valid for the pipeline, MlflowException will be raised.\n"
          ]
        },
        {
          "output_type": "stream",
          "name": "stdout",
          "text": [
            "['Once there in a forest, there was a little girl named Sarah who lived a very independent life. Even though she was small, she still had a love for rocks. One day, while out exploring, she bumped into a bear. She hopped onto the road and snatched the snatches from her feet. She had a magical love that would last as long as any day.', 'What did my dog like to do when it ran over a soup that had potatoes? I told it it was a spaghetti stew, but it was so familar!']\n"
          ]
        }
      ]
    }
  ]
}