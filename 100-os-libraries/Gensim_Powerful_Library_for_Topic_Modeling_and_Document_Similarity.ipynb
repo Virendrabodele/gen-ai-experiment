{
  "nbformat": 4,
  "nbformat_minor": 0,
  "metadata": {
    "colab": {
      "provenance": []
    },
    "kernelspec": {
      "name": "python3",
      "display_name": "Python 3"
    },
    "language_info": {
      "name": "python"
    }
  },
  "cells": [
    {
      "cell_type": "markdown",
      "source": [
        "<img src=\"https://drive.google.com/uc?export=view&id=1wYSMgJtARFdvTt5g7E20mE4NmwUFUuog\" width=\"200\">\n",
        "\n",
        "[![Build Fast with AI](https://img.shields.io/badge/BuildFastWithAI-GenAI%20Bootcamp-blue?style=for-the-badge&logo=artificial-intelligence)](https://www.buildfastwithai.com/genai-course)\n",
        "[![EduChain GitHub](https://img.shields.io/github/stars/satvik314/educhain?style=for-the-badge&logo=github&color=gold)](https://github.com/satvik314/educhain)\n",
        "\n",
        "[![Open In Colab](https://colab.research.google.com/assets/colab-badge.svg)](https://colab.research.google.com/drive/1C1p5zaqjw085HHhxWfaoHn2T5vr5r9y7?usp=sharingZ)\n",
        "## Master Generative AI in 6 Weeks\n",
        "**What You'll Learn:**\n",
        "- Build with Latest LLMs\n",
        "- Create Custom AI Apps\n",
        "- Learn from Industry Experts\n",
        "- Join Innovation Community\n",
        "Transform your AI ideas into reality through hands-on projects and expert mentorship.\n",
        "[Start Your Journey](https://www.buildfastwithai.com/genai-course)\n",
        "*Empowering the Next Generation of AI Innovators"
      ],
      "metadata": {
        "id": "QzVn4aEzBUaq"
      }
    },
    {
      "cell_type": "markdown",
      "source": [
        "## 🌟 Gensim: Powerful Library for Topic Modeling and Document Similarity\n",
        "\n",
        "Gensim is an open-source Python library tailored for **unsupervised topic modeling and natural language processing**, providing robust tools to work with large corpora. 🚀\n",
        "\n",
        "✨ **Key Features**:\n",
        "- Efficient algorithms for topic modeling like LDA, LSI, and Word2Vec.\n",
        "- Scalable to handle massive text datasets with ease.\n",
        "- Flexible integration with various NLP pipelines for similarity computation and semantic analysis.\n",
        "- Supports streaming for processing data that doesn't fit in memory. 📚\n",
        "\n",
        "Gensim simplifies building advanced text analysis and machine learning applications. 🌐\n"
      ],
      "metadata": {
        "id": "U5oeRi6UBVzh"
      }
    },
    {
      "cell_type": "markdown",
      "source": [
        "###**Setup and Installation**"
      ],
      "metadata": {
        "id": "Zwt5V1y9BWDn"
      }
    },
    {
      "cell_type": "code",
      "execution_count": null,
      "metadata": {
        "id": "2tt_mqYgBJDl"
      },
      "outputs": [],
      "source": [
        "import logging\n",
        "logging.basicConfig(format='%(asctime)s : %(levelname)s : %(message)s', level=logging.INFO)"
      ]
    },
    {
      "cell_type": "markdown",
      "source": [
        "### **Similarity Queries**\n"
      ],
      "metadata": {
        "id": "bW3lzSHaH6IG"
      }
    },
    {
      "cell_type": "markdown",
      "source": [
        "###**Creating the Corpus**"
      ],
      "metadata": {
        "id": "VHAoSNK_KKDA"
      }
    },
    {
      "cell_type": "code",
      "source": [
        "from collections import defaultdict\n",
        "from gensim import corpora\n",
        "\n",
        "documents = [\n",
        "    \"Human machine interface for lab abc computer applications\",\n",
        "    \"A survey of user opinion of computer system response time\",\n",
        "    \"The EPS user interface management system\",\n",
        "    \"System and human system engineering testing of EPS\",\n",
        "    \"Relation of user perceived response time to error measurement\",\n",
        "    \"The generation of random binary unordered trees\",\n",
        "    \"The intersection graph of paths in trees\",\n",
        "    \"Graph minors IV Widths of trees and well quasi ordering\",\n",
        "    \"Graph minors A survey\",\n",
        "]\n",
        "\n",
        "stoplist = set('for a of the and to in'.split())\n",
        "texts = [\n",
        "    [word for word in document.lower().split() if word not in stoplist]\n",
        "    for document in documents\n",
        "]\n",
        "\n",
        "# remove words that appear only once\n",
        "frequency = defaultdict(int)\n",
        "for text in texts:\n",
        "    for token in text:\n",
        "        frequency[token] += 1\n",
        "\n",
        "texts = [\n",
        "    [token for token in text if frequency[token] > 1]\n",
        "    for text in texts\n",
        "]\n",
        "\n",
        "dictionary = corpora.Dictionary(texts)\n",
        "corpus = [dictionary.doc2bow(text) for text in texts]"
      ],
      "metadata": {
        "id": "QtdIcIdDE_BR"
      },
      "execution_count": null,
      "outputs": []
    },
    {
      "cell_type": "markdown",
      "source": [
        "### **Similarity interface**\n",
        "\n",
        "\n",
        "\n",
        "\n",
        "\n",
        "\n"
      ],
      "metadata": {
        "id": "r5hwW0YbH_m7"
      }
    },
    {
      "cell_type": "code",
      "source": [
        "from gensim import models\n",
        "lsi = models.LsiModel(corpus, id2word=dictionary, num_topics=2)"
      ],
      "metadata": {
        "id": "AqagS28GFG2w"
      },
      "execution_count": null,
      "outputs": []
    },
    {
      "cell_type": "markdown",
      "source": [
        "### **Document Similarity Using LSI**\n",
        "\n",
        "\n",
        "\n",
        "\n",
        "\n",
        "\n"
      ],
      "metadata": {
        "id": "n7Qber7UIDZa"
      }
    },
    {
      "cell_type": "code",
      "source": [
        "doc = \"Human computer interaction\"\n",
        "vec_bow = dictionary.doc2bow(doc.lower().split())\n",
        "vec_lsi = lsi[vec_bow]\n",
        "print(vec_lsi)"
      ],
      "metadata": {
        "colab": {
          "base_uri": "https://localhost:8080/"
        },
        "id": "jbuKTJOLFIl7",
        "outputId": "9bc6d1c5-3a71-4aa8-e10e-038837ea4089"
      },
      "execution_count": null,
      "outputs": [
        {
          "output_type": "stream",
          "name": "stdout",
          "text": [
            "[(0, 0.46182100453271535), (1, -0.07002766527900064)]\n"
          ]
        }
      ]
    },
    {
      "cell_type": "markdown",
      "source": [
        "###**Initializing query structures**"
      ],
      "metadata": {
        "id": "jK2yPZfiKWuq"
      }
    },
    {
      "cell_type": "code",
      "source": [
        "from gensim import similarities\n",
        "index = similarities.MatrixSimilarity(lsi[corpus])"
      ],
      "metadata": {
        "id": "Sd1TMfzCFKem"
      },
      "execution_count": null,
      "outputs": []
    },
    {
      "cell_type": "markdown",
      "source": [
        "### **Saving and Loading Similarity Index**\n",
        "\n",
        "\n",
        "\n",
        "\n",
        "\n",
        "\n"
      ],
      "metadata": {
        "id": "zOsrEUt7IJRf"
      }
    },
    {
      "cell_type": "code",
      "source": [
        "index.save('/tmp/deerwester.index')\n",
        "index = similarities.MatrixSimilarity.load('/tmp/deerwester.index')"
      ],
      "metadata": {
        "id": "9iaqZrpJFMkf"
      },
      "execution_count": null,
      "outputs": []
    },
    {
      "cell_type": "markdown",
      "source": [
        "###**Performing queries**"
      ],
      "metadata": {
        "id": "98s4gJWYKc1P"
      }
    },
    {
      "cell_type": "code",
      "source": [
        "sims = index[vec_lsi]\n",
        "print(list(enumerate(sims)))"
      ],
      "metadata": {
        "colab": {
          "base_uri": "https://localhost:8080/"
        },
        "id": "U2RhP6uuFOWS",
        "outputId": "d3864ae1-4429-4d2b-b0f2-4442ddbfc6fb"
      },
      "execution_count": null,
      "outputs": [
        {
          "output_type": "stream",
          "name": "stdout",
          "text": [
            "[(0, 0.998093), (1, 0.93748635), (2, 0.9984453), (3, 0.9865886), (4, 0.90755945), (5, -0.12416792), (6, -0.10639259), (7, -0.09879464), (8, 0.050041765)]\n"
          ]
        }
      ]
    },
    {
      "cell_type": "markdown",
      "source": [
        "### **Sorting and Displaying Similarity Scores**\n",
        "\n",
        "\n",
        "\n",
        "\n",
        "\n",
        "\n"
      ],
      "metadata": {
        "id": "MkYDpJVxINii"
      }
    },
    {
      "cell_type": "code",
      "source": [
        "sims = sorted(enumerate(sims), key=lambda item: -item[1])\n",
        "for doc_position, doc_score in sims:\n",
        "    print(doc_score, documents[doc_position])"
      ],
      "metadata": {
        "colab": {
          "base_uri": "https://localhost:8080/"
        },
        "id": "y23OD1qmFTD9",
        "outputId": "b50de372-e20e-48c5-d378-0a48873d30c6"
      },
      "execution_count": null,
      "outputs": [
        {
          "output_type": "stream",
          "name": "stdout",
          "text": [
            "0.9984453 The EPS user interface management system\n",
            "0.998093 Human machine interface for lab abc computer applications\n",
            "0.9865886 System and human system engineering testing of EPS\n",
            "0.93748635 A survey of user opinion of computer system response time\n",
            "0.90755945 Relation of user perceived response time to error measurement\n",
            "0.050041765 Graph minors A survey\n",
            "-0.09879464 Graph minors IV Widths of trees and well quasi ordering\n",
            "-0.10639259 The intersection graph of paths in trees\n",
            "-0.12416792 The generation of random binary unordered trees\n"
          ]
        }
      ]
    },
    {
      "cell_type": "markdown",
      "source": [
        "### **Document Corpus Preprocessing**"
      ],
      "metadata": {
        "id": "ms2bL1iQIaSA"
      }
    },
    {
      "cell_type": "code",
      "source": [
        "import pprint\n",
        "document = \"Human machine interface for lab abc computer applications\"\n",
        "\n",
        "text_corpus = [\n",
        "    \"Human machine interface for lab abc computer applications\",\n",
        "    \"A survey of user opinion of computer system response time\",\n",
        "    \"The EPS user interface management system\",\n",
        "    \"System and human system engineering testing of EPS\",\n",
        "    \"Relation of user perceived response time to error measurement\",\n",
        "    \"The generation of random binary unordered trees\",\n",
        "    \"The intersection graph of paths in trees\",\n",
        "    \"Graph minors IV Widths of trees and well quasi ordering\",\n",
        "    \"Graph minors A survey\",\n",
        "]\n",
        "stoplist = set('for a of the and to in'.split(' '))\n",
        "texts = [[word for word in document.lower().split() if word not in stoplist]\n",
        "         for document in text_corpus]\n",
        "\n",
        "from collections import defaultdict\n",
        "frequency = defaultdict(int)\n",
        "for text in texts:\n",
        "    for token in text:\n",
        "        frequency[token] += 1\n",
        "\n",
        "processed_corpus = [[token for token in text if frequency[token] > 1] for text in texts]\n",
        "pprint.pprint(processed_corpus)"
      ],
      "metadata": {
        "colab": {
          "base_uri": "https://localhost:8080/"
        },
        "id": "S9te5MVhFjth",
        "outputId": "76a43126-ea2a-4404-edc6-1ad903c0e3f5"
      },
      "execution_count": null,
      "outputs": [
        {
          "output_type": "stream",
          "name": "stdout",
          "text": [
            "[['human', 'interface', 'computer'],\n",
            " ['survey', 'user', 'computer', 'system', 'response', 'time'],\n",
            " ['eps', 'user', 'interface', 'system'],\n",
            " ['system', 'human', 'system', 'eps'],\n",
            " ['user', 'response', 'time'],\n",
            " ['trees'],\n",
            " ['graph', 'trees'],\n",
            " ['graph', 'minors', 'trees'],\n",
            " ['graph', 'minors', 'survey']]\n"
          ]
        }
      ]
    },
    {
      "cell_type": "markdown",
      "source": [
        "### **Creating Dictionary from Corpus**\n",
        "\n",
        "\n",
        "\n",
        "\n",
        "\n",
        "\n"
      ],
      "metadata": {
        "id": "qLEE4ahqIqB-"
      }
    },
    {
      "cell_type": "code",
      "source": [
        "from gensim import corpora\n",
        "\n",
        "dictionary = corpora.Dictionary(processed_corpus)\n",
        "print(dictionary)"
      ],
      "metadata": {
        "colab": {
          "base_uri": "https://localhost:8080/"
        },
        "id": "gmPOkrxCHYjm",
        "outputId": "57c1fda4-0338-4157-e2dc-790e937dfa11"
      },
      "execution_count": null,
      "outputs": [
        {
          "output_type": "stream",
          "name": "stdout",
          "text": [
            "Dictionary<12 unique tokens: ['computer', 'human', 'interface', 'response', 'survey']...>\n"
          ]
        }
      ]
    },
    {
      "cell_type": "markdown",
      "source": [
        "###**Vector**"
      ],
      "metadata": {
        "id": "Ovuoa6x6Jnoz"
      }
    },
    {
      "cell_type": "code",
      "source": [
        "pprint.pprint(dictionary.token2id)\n"
      ],
      "metadata": {
        "colab": {
          "base_uri": "https://localhost:8080/"
        },
        "id": "sP4utgdhHdRN",
        "outputId": "0c31a576-9ce8-4934-d878-1060b3ade4e8"
      },
      "execution_count": null,
      "outputs": [
        {
          "output_type": "stream",
          "name": "stdout",
          "text": [
            "{'computer': 0,\n",
            " 'eps': 8,\n",
            " 'graph': 10,\n",
            " 'human': 1,\n",
            " 'interface': 2,\n",
            " 'minors': 11,\n",
            " 'response': 3,\n",
            " 'survey': 4,\n",
            " 'system': 5,\n",
            " 'time': 6,\n",
            " 'trees': 9,\n",
            " 'user': 7}\n"
          ]
        }
      ]
    },
    {
      "cell_type": "code",
      "source": [
        "new_doc = \"Human computer interaction\"\n",
        "new_vec = dictionary.doc2bow(new_doc.lower().split())\n",
        "print(new_vec)"
      ],
      "metadata": {
        "colab": {
          "base_uri": "https://localhost:8080/"
        },
        "id": "l9D2aDGPHg3b",
        "outputId": "e9840fad-dcca-469f-affe-635a4fc4e1f9"
      },
      "execution_count": null,
      "outputs": [
        {
          "output_type": "stream",
          "name": "stdout",
          "text": [
            "[(0, 1), (1, 1)]\n"
          ]
        }
      ]
    },
    {
      "cell_type": "code",
      "source": [
        "bow_corpus = [dictionary.doc2bow(text) for text in processed_corpus]\n",
        "pprint.pprint(bow_corpus)"
      ],
      "metadata": {
        "colab": {
          "base_uri": "https://localhost:8080/"
        },
        "id": "058Pa4vsHj0t",
        "outputId": "65853f16-f89e-43aa-c5e8-ec004e3dd3e2"
      },
      "execution_count": null,
      "outputs": [
        {
          "output_type": "stream",
          "name": "stdout",
          "text": [
            "[[(0, 1), (1, 1), (2, 1)],\n",
            " [(0, 1), (3, 1), (4, 1), (5, 1), (6, 1), (7, 1)],\n",
            " [(2, 1), (5, 1), (7, 1), (8, 1)],\n",
            " [(1, 1), (5, 2), (8, 1)],\n",
            " [(3, 1), (6, 1), (7, 1)],\n",
            " [(9, 1)],\n",
            " [(9, 1), (10, 1)],\n",
            " [(9, 1), (10, 1), (11, 1)],\n",
            " [(4, 1), (10, 1), (11, 1)]]\n"
          ]
        }
      ]
    }
  ]
}