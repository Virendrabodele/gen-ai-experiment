{
  "cells": [
    {
      "cell_type": "markdown",
      "metadata": {
        "id": "SswTB4UC3AK7"
      },
      "source": [
        "<img src=\"https://drive.google.com/uc?export=view&id=1wYSMgJtARFdvTt5g7E20mE4NmwUFUuog\" width=\"200\">\n",
        "\n",
        "[![Build Fast with AI](https://img.shields.io/badge/BuildFastWithAI-GenAI%20Bootcamp-blue?style=for-the-badge&logo=artificial-intelligence)](https://www.buildfastwithai.com/genai-course)\n",
        "[![EduChain GitHub](https://img.shields.io/github/stars/satvik314/educhain?style=for-the-badge&logo=github&color=gold)](https://github.com/satvik314/educhain)\n",
        "\n",
        "[![Open In Colab](https://colab.research.google.com/assets/colab-badge.svg)](https://colab.research.google.com/drive/12TOxopyRs1xfFg8nb542U9wTehSLouzL#scrollTo=EDJ18EXZ5BUZ)\n",
        "## Master Generative AI in 6 Weeks\n",
        "**What You'll Learn:**\n",
        "- Build with Latest LLMs\n",
        "- Create Custom AI Apps\n",
        "- Learn from Industry Experts\n",
        "- Join Innovation Community\n",
        "Transform your AI ideas into reality through hands-on projects and expert mentorship.\n",
        "[Start Your Journey](https://www.buildfastwithai.com/genai-course)\n",
        "*Empowering the Next Generation of AI Innovators"
      ]
    },
    {
      "cell_type": "markdown",
      "metadata": {
        "id": "rr20HXWi3BI4"
      },
      "source": [
        "## 🌟 RAGLite: Efficient Retrieval-Augmented Generation Framework\n",
        "\n",
        "RAGLite is an open-source framework designed for **Retrieval-Augmented Generation (RAG)**, enabling seamless integration of retrieval and language models. 🚀\n",
        "\n",
        "✨ **Key Features**:\n",
        "- Supports hybrid search, document retrieval, and context-aware generation.\n",
        "- Easy to configure with various databases and LLMs.\n",
        "- Scalable solution for building advanced, knowledge-driven AI applications. 📚\n"
      ]
    },
    {
      "cell_type": "markdown",
      "metadata": {
        "id": "M6XutgV93BVR"
      },
      "source": [
        "###**Setup and Installation**"
      ]
    },
    {
      "cell_type": "code",
      "execution_count": null,
      "metadata": {
        "id": "03H6L397lU8l"
      },
      "outputs": [],
      "source": [
        "!pip install raglite"
      ]
    },
    {
      "cell_type": "markdown",
      "metadata": {
        "id": "IB20RPFLxTX4"
      },
      "source": [
        "###Import API Keys"
      ]
    },
    {
      "cell_type": "code",
      "execution_count": null,
      "metadata": {
        "id": "Tx1wmRCyuLUr"
      },
      "outputs": [],
      "source": [
        "import os\n",
        "from google.colab import userdata\n",
        "\n",
        "os.environ['OPENAI_API_KEY'] = userdata.get('OPENAI_API_KEY')"
      ]
    },
    {
      "cell_type": "markdown",
      "metadata": {
        "id": "Fb1q26Mn3xMR"
      },
      "source": [
        "###**Configuring RAGLite**\n"
      ]
    },
    {
      "cell_type": "code",
      "execution_count": null,
      "metadata": {
        "id": "L8VW--D3sGVO"
      },
      "outputs": [],
      "source": [
        "from raglite import RAGLiteConfig\n",
        "\n",
        "my_config = RAGLiteConfig(\n",
        "    db_url=\"sqlite:///raglite.db\",\n",
        "     llm=\"gpt-4o-mini\",\n",
        "    embedder=\"text-embedding-3-large\",\n",
        ")"
      ]
    },
    {
      "cell_type": "markdown",
      "metadata": {
        "id": "ild2SJiu4Erz"
      },
      "source": [
        "##**RAGLite Configuration with Reranker**"
      ]
    },
    {
      "cell_type": "code",
      "execution_count": null,
      "metadata": {
        "id": "TlF57lyNt_5P"
      },
      "outputs": [],
      "source": [
        "from rerankers import Reranker\n",
        "\n",
        "my_config = RAGLiteConfig(\n",
        "    db_url=\"sqlite:///raglite.db\",\n",
        "    reranker=(\n",
        "        (\"en\", Reranker(\"ms-marco-MiniLM-L-12-v2\", model_type=\"flashrank\")),  # English\n",
        "    )\n",
        ")"
      ]
    },
    {
      "cell_type": "markdown",
      "metadata": {
        "id": "HgZ0C-xB4ZHk"
      },
      "source": [
        "###**Downloading Dataset**"
      ]
    },
    {
      "cell_type": "code",
      "execution_count": null,
      "metadata": {
        "id": "N2eAjO11uuD3"
      },
      "outputs": [],
      "source": [
        "!wget -P /content/ https://arxiv.org/pdf/1911.01547.pdf"
      ]
    },
    {
      "cell_type": "markdown",
      "metadata": {
        "id": "eF0gk2Bn4ed1"
      },
      "source": [
        "###**Inserting documents**"
      ]
    },
    {
      "cell_type": "code",
      "execution_count": null,
      "metadata": {
        "colab": {
          "background_save": true
        },
        "id": "pMS5mIdRvga_"
      },
      "outputs": [],
      "source": [
        "from raglite import insert_document\n",
        "from raglite import RAGLiteConfig\n",
        "from pathlib import Path\n",
        "\n",
        "\n",
        "pdf_path = Path('/content/1911.01547.pdf')\n",
        "insert_document(pdf_path, config=my_config)"
      ]
    },
    {
      "cell_type": "markdown",
      "metadata": {
        "id": "sWfVPACz41Cz"
      },
      "source": [
        "###**Adaptive RAG**"
      ]
    },
    {
      "cell_type": "code",
      "execution_count": null,
      "metadata": {
        "id": "yNpZUF3_vlU9"
      },
      "outputs": [],
      "source": [
        "from raglite import rag\n",
        "\n",
        "messages = []\n",
        "messages.append({\n",
        "    \"role\": \"user\",\n",
        "    \"content\": \"How is intelligence measured?\"\n",
        "})\n",
        "\n",
        "chunk_spans = []\n",
        "stream = rag(messages, on_retrieval=lambda x: chunk_spans.extend(x), config=my_config)\n",
        "for update in stream:\n",
        "    print(update, end=\"\")\n",
        "\n",
        "documents = [chunk_span.document for chunk_span in chunk_spans]"
      ]
    },
    {
      "cell_type": "markdown",
      "metadata": {
        "id": "z6i-Fwhwv-A0"
      },
      "source": [
        "###Programmable RAG\n"
      ]
    },
    {
      "cell_type": "code",
      "execution_count": null,
      "metadata": {
        "id": "OICw-20Nv_EZ"
      },
      "outputs": [],
      "source": [
        "from raglite import create_rag_instruction, rag, retrieve_rag_context\n",
        "\n",
        "# Retrieve relevant chunk spans with hybrid search and reranking:\n",
        "user_prompt = \"How is intelligence measured?\"\n",
        "chunk_spans = retrieve_rag_context(query=user_prompt, num_chunks=5, config=my_config)\n",
        "\n",
        "# Append a RAG instruction based on the user prompt and context to the message history:\n",
        "messages = []  # Or start with an existing message history.\n",
        "messages.append(create_rag_instruction(user_prompt=user_prompt, context=chunk_spans))\n",
        "\n",
        "# Stream the RAG response and append it to the message history:\n",
        "stream = rag(messages, config=my_config)\n",
        "for update in stream:\n",
        "    print(update, end=\"\")\n",
        "\n",
        "# Access the documents referenced in the RAG context:\n",
        "documents = [chunk_span.document for chunk_span in chunk_spans]"
      ]
    }
  ],
  "metadata": {
    "accelerator": "GPU",
    "colab": {
      "gpuType": "T4",
      "provenance": []
    },
    "kernelspec": {
      "display_name": "Python 3",
      "name": "python3"
    },
    "language_info": {
      "name": "python"
    }
  },
  "nbformat": 4,
  "nbformat_minor": 0
}