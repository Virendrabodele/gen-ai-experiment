{
  "nbformat": 4,
  "nbformat_minor": 0,
  "metadata": {
    "colab": {
      "provenance": []
    },
    "kernelspec": {
      "name": "python3",
      "display_name": "Python 3"
    },
    "language_info": {
      "name": "python"
    }
  },
  "cells": [
    {
      "cell_type": "markdown",
      "source": [
        "<img src=\"https://drive.google.com/uc?export=view&id=1wYSMgJtARFdvTt5g7E20mE4NmwUFUuog\" width=\"200\">\n",
        "\n",
        "[![Build Fast with AI](https://img.shields.io/badge/BuildFastWithAI-GenAI%20Bootcamp-blue?style=for-the-badge&logo=artificial-intelligence)](https://www.buildfastwithai.com/genai-course)\n",
        "[![EduChain GitHub](https://img.shields.io/github/stars/satvik314/educhain?style=for-the-badge&logo=github&color=gold)](https://github.com/satvik314/educhain)\n",
        "\n",
        "[![Open In Colab](https://colab.research.google.com/assets/colab-badge.svg)](https://colab.research.google.com/drive/1wncyeuVYalHgNLwSh57JLM4jpmuIuHnZ?usp=sharing)\n",
        "## Master Generative AI in 6 Weeks\n",
        "**What You'll Learn:**\n",
        "- Build with Latest LLMs\n",
        "- Create Custom AI Apps\n",
        "- Learn from Industry Experts\n",
        "- Join Innovation Community\n",
        "Transform your AI ideas into reality through hands-on projects and expert mentorship.\n",
        "[Start Your Journey](https://www.buildfastwithai.com/genai-course)\n",
        "*Empowering the Next Generation of AI Innovators"
      ],
      "metadata": {
        "id": "If_7peoTvPIF"
      }
    },
    {
      "cell_type": "markdown",
      "source": [
        "# 🤖 Griptape: AI Workflow Automation Framework\n",
        "\n",
        "## 🔹 Key Features\n",
        "\n",
        "- **🧠 Agent-Oriented Framework** - Create AI agents that perform tasks autonomously.  \n",
        "- **🔀 Workflow Orchestration** - Build multi-step AI workflows with branching logic.  \n",
        "- **🤖 Seamless LLM Integration** - Supports OpenAI, Hugging Face, and other LLMs.  \n",
        "- **📝 Built-in Memory & Data Handling** - Maintains context with short-term & long-term memory.  \n",
        "- **🔧 Tool-Usage for AI Agents** - Integrates with APIs, databases, and document processing tools."
      ],
      "metadata": {
        "id": "CpIO56JqvO_f"
      }
    },
    {
      "cell_type": "markdown",
      "source": [
        "###**Setup and Installation**"
      ],
      "metadata": {
        "id": "TGRqYMH5vO0u"
      }
    },
    {
      "cell_type": "code",
      "execution_count": null,
      "metadata": {
        "id": "sUsDA5VQ0WDn"
      },
      "outputs": [],
      "source": [
        "pip install \"griptape[all]\" -U"
      ]
    },
    {
      "cell_type": "code",
      "source": [
        "from google.colab import userdata\n",
        "import os\n",
        "\n",
        "os.environ['OPENAI_API_KEY'] = userdata.get('OPENAI_API_KEY')"
      ],
      "metadata": {
        "id": "rQ-Ol_6etpFA"
      },
      "execution_count": null,
      "outputs": []
    },
    {
      "cell_type": "markdown",
      "source": [
        "### **📌 Griptape AI Agent: Web Scraping, Summarization, and File Storage**\n"
      ],
      "metadata": {
        "id": "GAc-PxnHxhfL"
      }
    },
    {
      "cell_type": "code",
      "source": [
        "from griptape.structures import Agent\n",
        "from griptape.tools import WebScraperTool, FileManagerTool, PromptSummaryTool\n",
        "\n",
        "agent = Agent(\n",
        "    input=\"Load {{ args[0] }}, summarize it, and store it in a file called {{ args[1] }}.\",\n",
        "    tools=[\n",
        "        WebScraperTool(off_prompt=True),\n",
        "        PromptSummaryTool(off_prompt=True),\n",
        "        FileManagerTool()\n",
        "    ]\n",
        ")\n",
        "agent.run(\"https://griptape.ai\", \"griptape.txt\")"
      ],
      "metadata": {
        "id": "Ui-eULFOrmDP"
      },
      "execution_count": null,
      "outputs": []
    },
    {
      "cell_type": "markdown",
      "source": [
        "### **📄 Display File Contents**\n",
        "\n",
        "\n",
        "\n",
        "\n",
        "\n",
        "\n"
      ],
      "metadata": {
        "id": "n6aNypI2xrpX"
      }
    },
    {
      "cell_type": "code",
      "source": [
        "def display_file(filename):\n",
        "      with open(filename, 'r', encoding='utf-8') as file:\n",
        "          content = file.read()\n",
        "          print(\"Contents of\", filename, \":\\n\")\n",
        "          print(content)\n",
        "display_file(\"griptape.txt\")"
      ],
      "metadata": {
        "colab": {
          "base_uri": "https://localhost:8080/"
        },
        "id": "kioVHWXIuRu3",
        "outputId": "9fa53384-67c8-4bae-ba1c-7d92503c003f"
      },
      "execution_count": null,
      "outputs": [
        {
          "output_type": "stream",
          "name": "stdout",
          "text": [
            "Contents of griptape.txt :\n",
            "\n",
            "Griptape offers a comprehensive solution for developers to build, deploy, and scale AI-powered applications. It provides an open-source AI framework and a cloud-based execution runtime, enabling developers to create secure and efficient business logic using Python. Griptape's platform supports the development of ETL pipelines, AI agents, and workflows, while offering features like Off-Prompt™ for enhanced security and cost efficiency. The Griptape AI Cloud handles infrastructure management, allowing users to focus on building and scaling applications. It includes automated data preparation, retrieval as a service, and a structure runtime for creating and managing AI agents and workflows. The platform also offers monitoring and performance measurement tools to ensure reliability and enforce organizational policies.\n"
          ]
        }
      ]
    },
    {
      "cell_type": "markdown",
      "source": [
        "### **🌐 Chat with URL using Griptape AI**\n",
        "\n",
        "\n",
        "\n",
        "\n",
        "\n",
        "\n"
      ],
      "metadata": {
        "id": "pTI7xb7pxueE"
      }
    },
    {
      "cell_type": "code",
      "source": [
        "import os\n",
        "from griptape.chunkers import TextChunker\n",
        "from griptape.drivers.embedding.openai import OpenAiEmbeddingDriver\n",
        "from griptape.drivers.vector.local import LocalVectorStoreDriver\n",
        "from griptape.loaders import WebLoader"
      ],
      "metadata": {
        "id": "UmIpSykNt2-T"
      },
      "execution_count": null,
      "outputs": []
    },
    {
      "cell_type": "markdown",
      "source": [
        "### **📚 Store and Query Vectors with Griptape AI**\n",
        "\n",
        "\n",
        "\n",
        "\n",
        "\n",
        "\n"
      ],
      "metadata": {
        "id": "HeSa_bm4x2O6"
      }
    },
    {
      "cell_type": "code",
      "source": [
        "vector_store = LocalVectorStoreDriver(embedding_driver=OpenAiEmbeddingDriver(api_key=os.environ[\"OPENAI_API_KEY\"]))\n",
        "\n",
        "artifacts = WebLoader().load(\"https://www.griptape.ai\")\n",
        "chunks = TextChunker().chunk(artifacts)\n",
        "\n",
        "vector_store.upsert_text_artifacts({\"griptape\": chunks})\n",
        "\n",
        "results = vector_store.query(\"creativity\", count=3, namespace=\"griptape\")\n"
      ],
      "metadata": {
        "id": "d2EREj3QuukW"
      },
      "execution_count": null,
      "outputs": []
    },
    {
      "cell_type": "markdown",
      "source": [
        "### **📊 Display Queried Vector Results**\n",
        "\n",
        "\n",
        "\n",
        "\n",
        "\n",
        "\n"
      ],
      "metadata": {
        "id": "2M_C3zt1x6sC"
      }
    },
    {
      "cell_type": "code",
      "source": [
        "\n",
        "values = [r.to_artifact().value for r in results]\n",
        "\n",
        "print(\"\\n\\n\".join(values))"
      ],
      "metadata": {
        "id": "1wYrcFOCuyDt"
      },
      "execution_count": null,
      "outputs": []
    },
    {
      "cell_type": "markdown",
      "source": [
        "### **🖼️ Chat with Images using Griptape AI**\n",
        "\n",
        "\n",
        "\n",
        "\n",
        "\n",
        "\n"
      ],
      "metadata": {
        "id": "Q4YrGHzsx_N4"
      }
    },
    {
      "cell_type": "markdown",
      "source": [
        "### **🗂️ Import Libraries for Chat with Images**\n",
        "\n",
        "\n",
        "\n",
        "\n",
        "\n",
        "\n"
      ],
      "metadata": {
        "id": "VlfdZCrZx79q"
      }
    },
    {
      "cell_type": "code",
      "source": [
        "import os\n",
        "import requests\n",
        "from griptape.drivers.file_manager.local import LocalFileManagerDriver\n",
        "from griptape.drivers.prompt.openai import OpenAiChatPromptDriver\n",
        "from griptape.loaders import ImageLoader\n",
        "from griptape.structures import Agent\n",
        "from griptape.tools import FileManagerTool, ImageQueryTool"
      ],
      "metadata": {
        "id": "8RER8zMwuzVA"
      },
      "execution_count": null,
      "outputs": []
    },
    {
      "cell_type": "markdown",
      "source": [
        "### **📥 Download and Save Image**\n",
        "\n",
        "\n",
        "\n",
        "\n",
        "\n",
        "\n"
      ],
      "metadata": {
        "id": "m1nqr3HeyHUw"
      }
    },
    {
      "cell_type": "code",
      "source": [
        "images_dir = f\"{os.getcwd()}/images\"\n",
        "os.makedirs(images_dir, exist_ok=True)\n",
        "\n",
        "image_url = \"https://picsum.photos/200/300\"\n",
        "image_path = f\"{images_dir}/image.jpg\"\n",
        "response = requests.get(image_url)\n",
        "with open(image_path, \"wb\") as file:\n",
        "    file.write(response.content)"
      ],
      "metadata": {
        "id": "ITB3-7Q_vl9u"
      },
      "execution_count": null,
      "outputs": []
    },
    {
      "cell_type": "markdown",
      "source": [
        "### **🤖 Initialize Griptape Agent with Image Tools**\n",
        "\n",
        "\n",
        "\n",
        "\n",
        "\n",
        "\n"
      ],
      "metadata": {
        "id": "dJhVJmPDyLGf"
      }
    },
    {
      "cell_type": "code",
      "source": [
        "driver = LocalFileManagerDriver(workdir=images_dir)\n",
        "agent = Agent(\n",
        "    tools=[\n",
        "        FileManagerTool(file_manager_driver=driver),\n",
        "        ImageQueryTool(\n",
        "            prompt_driver=OpenAiChatPromptDriver(model=\"gpt-4o\"), image_loader=ImageLoader(file_manager_driver=driver)\n",
        "        ),\n",
        "    ]\n",
        ")\n"
      ],
      "metadata": {
        "id": "Bfbs6W6IvwoH"
      },
      "execution_count": null,
      "outputs": []
    },
    {
      "cell_type": "markdown",
      "source": [
        "### **📂 List Files and Analyze Image**\n",
        "\n",
        "\n",
        "\n",
        "\n",
        "\n",
        "\n"
      ],
      "metadata": {
        "id": "OGwahXwsyO-i"
      }
    },
    {
      "cell_type": "code",
      "source": [
        "agent.run(\"What files are in the current directory?\")\n",
        "agent.run(\"What is in the file image.jpg?\")"
      ],
      "metadata": {
        "id": "c55aV63bv0dZ"
      },
      "execution_count": null,
      "outputs": []
    }
  ]
}