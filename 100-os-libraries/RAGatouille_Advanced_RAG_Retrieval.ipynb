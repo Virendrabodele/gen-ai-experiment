{
  "cells": [
    {
      "cell_type": "markdown",
      "source": [
        "<img src=\"https://drive.google.com/uc?export=view&id=1wYSMgJtARFdvTt5g7E20mE4NmwUFUuog\" width=\"200\">\n",
        "\n",
        "[![Build Fast with AI](https://img.shields.io/badge/BuildFastWithAI-GenAI%20Bootcamp-blue?style=for-the-badge&logo=artificial-intelligence)](https://www.buildfastwithai.com/genai-course)\n",
        "[![EduChain GitHub](https://img.shields.io/github/stars/satvik314/educhain?style=for-the-badge&logo=github&color=gold)](https://github.com/satvik314/educhain)\n",
        "\n",
        "[![Open In Colab](https://colab.research.google.com/assets/colab-badge.svg)](https://colab.research.google.com/drive/1gIQIGURhSn8-z5hS0VZSgye6AJg_1D6e?usp=sharing)\n",
        "## Master Generative AI in 6 Weeks\n",
        "**What You'll Learn:**\n",
        "- Build with Latest LLMs\n",
        "- Create Custom AI Apps\n",
        "- Learn from Industry Experts\n",
        "- Join Innovation Community\n",
        "Transform your AI ideas into reality through hands-on projects and expert mentorship.\n",
        "[Start Your Journey](https://www.buildfastwithai.com/genai-course)\n",
        "*Empowering the Next Generation of AI Innovators"
      ],
      "metadata": {
        "id": "v64L3Cli5SzJ"
      }
    },
    {
      "cell_type": "markdown",
      "source": [
        "### 🚀 RAGatouille :- Advanced_RAG_Retrieval 🌟\n",
        "\n",
        "RAGatouille is a Python library designed to simplify the integration and training of state-of-the-art late-interaction retrieval methods, particularly ColBERT, within Retrieval-Augmented Generation (RAG) pipelines. 🤖💡\n",
        "\n",
        "It offers a modular and user-friendly interface, enabling developers to efficiently incorporate advanced retrieval techniques into their applications. 🔧⚡\n",
        "\n",
        "\n",
        "### 🔑 Key Features:\n",
        "\n",
        "- **Training and Fine-Tuning ColBERT Models:** 🏋️‍♂️\n",
        "  RAGatouille provides tools to train and fine-tune ColBERT models, facilitating the development of retrieval systems tailored to specific datasets and requirements.\n",
        "\n",
        "- **Embedding and Indexing Documents:** 📚💻\n",
        "  The library supports the embedding and indexing of documents, allowing for efficient retrieval operations. It includes functionalities for processing and managing large collections of text data.\n",
        "\n",
        "- **Retrieving Documents:** 🔍\n",
        "  RAGatouille enables the retrieval of documents based on queries, integrating seamlessly with generative models to enhance the quality and relevance of generated responses.\n"
      ],
      "metadata": {
        "id": "EjRAm69m5Soe"
      }
    },
    {
      "cell_type": "markdown",
      "source": [
        "###**Setup and Installation**"
      ],
      "metadata": {
        "id": "ufuADtN15SZ9"
      }
    },
    {
      "cell_type": "code",
      "execution_count": null,
      "metadata": {
        "id": "6PZk4pAspL-S"
      },
      "outputs": [],
      "source": [
        "!pip install ragatouille"
      ]
    },
    {
      "cell_type": "code",
      "source": [
        "from ragatouille import RAGPretrainedModel\n",
        "\n",
        "RAG = RAGPretrainedModel.from_pretrained(\"colbert-ir/colbertv2.0\")"
      ],
      "metadata": {
        "id": "hj78Dubg-WDI"
      },
      "execution_count": null,
      "outputs": []
    },
    {
      "cell_type": "markdown",
      "source": [
        "### **Wikipedia Page Content Retriever 🌍**"
      ],
      "metadata": {
        "id": "Yu7ZaIXcIOAe"
      }
    },
    {
      "cell_type": "code",
      "source": [
        "import requests\n",
        "\n",
        "def get_wikipedia_page(title: str):\n",
        "    \"\"\"\n",
        "    Retrieve the full text content of a Wikipedia page.\n",
        "\n",
        "    :param title: str - Title of the Wikipedia page.\n",
        "    :return: str - Full text content of the page as raw string.\n",
        "    \"\"\"\n",
        "    # Wikipedia API endpoint\n",
        "    URL = \"https://en.wikipedia.org/w/api.php\"\n",
        "\n",
        "    # Parameters for the API request\n",
        "    params = {\n",
        "        \"action\": \"query\",\n",
        "        \"format\": \"json\",\n",
        "        \"titles\": title,\n",
        "        \"prop\": \"extracts\",\n",
        "        \"explaintext\": True,\n",
        "    }\n",
        "\n",
        "    # Custom User-Agent header to comply with Wikipedia's best practices\n",
        "    headers = {\n",
        "        \"User-Agent\": \"RAGatouille_tutorial/0.0.1 (ben@clavie.eu)\"\n",
        "    }\n",
        "\n",
        "    response = requests.get(URL, params=params, headers=headers)\n",
        "    data = response.json()\n",
        "\n",
        "    # Extracting page content\n",
        "    page = next(iter(data['query']['pages'].values()))\n",
        "    return page['extract'] if 'extract' in page else None"
      ],
      "metadata": {
        "id": "G75hffu_-l6Z"
      },
      "execution_count": null,
      "outputs": []
    },
    {
      "cell_type": "markdown",
      "source": [
        "### **Retrieve Wikipedia Page Content Length 📄🔢**"
      ],
      "metadata": {
        "id": "Ye-bVQ0HIYUf"
      }
    },
    {
      "cell_type": "code",
      "source": [
        "full_document = get_wikipedia_page(\"Hayao_Miyazaki\")\n",
        "len(full_document)"
      ],
      "metadata": {
        "colab": {
          "base_uri": "https://localhost:8080/"
        },
        "id": "n5b0vBpi-plN",
        "outputId": "80d3da04-f653-4139-fad5-c19e20c5ba0d"
      },
      "execution_count": null,
      "outputs": [
        {
          "output_type": "execute_result",
          "data": {
            "text/plain": [
              "68505"
            ]
          },
          "metadata": {},
          "execution_count": 13
        }
      ]
    },
    {
      "cell_type": "markdown",
      "source": [
        "### **Indexing Wikipedia Content with RAG 🔍📚**\n",
        "\n",
        "\n"
      ],
      "metadata": {
        "id": "4f_zslEkIewA"
      }
    },
    {
      "cell_type": "code",
      "source": [
        "RAG.index(\n",
        "    collection=[full_document],\n",
        "    document_ids=['miyazaki'],\n",
        "    document_metadatas=[{\"entity\": \"person\", \"source\": \"wikipedia\"}],\n",
        "    index_name=\"Miyazaki\",\n",
        "    max_document_length=180,\n",
        "    split_documents=True\n",
        "    )"
      ],
      "metadata": {
        "id": "RhvdRIu0-scX"
      },
      "execution_count": null,
      "outputs": []
    },
    {
      "cell_type": "markdown",
      "source": [
        "### **Retrieving Relevant Information with RAG 🔎🎥**\n"
      ],
      "metadata": {
        "id": "Mi5eUy7RI2JF"
      }
    },
    {
      "cell_type": "code",
      "source": [
        "k = 3\n",
        "results = RAG.search(query=\"What animation studio did Miyazaki found?\", k=k)\n",
        "results"
      ],
      "metadata": {
        "colab": {
          "base_uri": "https://localhost:8080/"
        },
        "id": "UX6jNqmB-ulH",
        "outputId": "c274c5e8-3741-44a8-9e4f-8e3420b6ad5c"
      },
      "execution_count": null,
      "outputs": [
        {
          "output_type": "stream",
          "name": "stdout",
          "text": [
            "Loading searcher for index Miyazaki for the first time... This may take a few seconds\n",
            "[Feb 02, 14:08:05] #> Loading codec...\n",
            "[Feb 02, 14:08:05] #> Loading IVF...\n",
            "[Feb 02, 14:08:05] #> Loading doclens...\n"
          ]
        },
        {
          "output_type": "stream",
          "name": "stderr",
          "text": [
            "/usr/local/lib/python3.11/dist-packages/colbert/utils/amp.py:12: FutureWarning: `torch.cuda.amp.GradScaler(args...)` is deprecated. Please use `torch.amp.GradScaler('cuda', args...)` instead.\n",
            "  self.scaler = torch.cuda.amp.GradScaler()\n",
            "/usr/local/lib/python3.11/dist-packages/colbert/search/index_loader.py:33: FutureWarning: You are using `torch.load` with `weights_only=False` (the current default value), which uses the default pickle module implicitly. It is possible to construct malicious pickle data which will execute arbitrary code during unpickling (See https://github.com/pytorch/pytorch/blob/main/SECURITY.md#untrusted-models for more details). In a future release, the default value for `weights_only` will be flipped to `True`. This limits the functions that could be executed during unpickling. Arbitrary objects will no longer be allowed to be loaded via this mode unless they are explicitly allowlisted by the user via `torch.serialization.add_safe_globals`. We recommend you start setting `weights_only=True` for any use case where you don't have full control of the loaded file. Please open an issue on GitHub for any issues related to this experimental feature.\n",
            "  ivf, ivf_lengths = torch.load(os.path.join(self.index_path, \"ivf.pid.pt\"), map_location='cpu')\n",
            "100%|██████████| 1/1 [00:00<00:00, 755.32it/s]"
          ]
        },
        {
          "output_type": "stream",
          "name": "stdout",
          "text": [
            "[Feb 02, 14:08:05] #> Loading codes and residuals...\n"
          ]
        },
        {
          "output_type": "stream",
          "name": "stderr",
          "text": [
            "\n",
            "  0%|          | 0/1 [00:00<?, ?it/s]/usr/local/lib/python3.11/dist-packages/colbert/indexing/codecs/residual_embeddings.py:93: FutureWarning: You are using `torch.load` with `weights_only=False` (the current default value), which uses the default pickle module implicitly. It is possible to construct malicious pickle data which will execute arbitrary code during unpickling (See https://github.com/pytorch/pytorch/blob/main/SECURITY.md#untrusted-models for more details). In a future release, the default value for `weights_only` will be flipped to `True`. This limits the functions that could be executed during unpickling. Arbitrary objects will no longer be allowed to be loaded via this mode unless they are explicitly allowlisted by the user via `torch.serialization.add_safe_globals`. We recommend you start setting `weights_only=True` for any use case where you don't have full control of the loaded file. Please open an issue on GitHub for any issues related to this experimental feature.\n",
            "  return torch.load(residuals_path, map_location='cpu')\n",
            "100%|██████████| 1/1 [00:00<00:00, 333.94it/s]\n"
          ]
        },
        {
          "output_type": "stream",
          "name": "stdout",
          "text": [
            "Searcher loaded!\n",
            "\n",
            "#> QueryTokenizer.tensorize(batch_text[0], batch_background[0], bsize) ==\n",
            "#> Input: . What animation studio did Miyazaki found?, \t\t True, \t\t None\n",
            "#> Output IDs: torch.Size([32]), tensor([  101,     1,  2054,  7284,  2996,  2106,  2771,  3148, 18637,  2179,\n",
            "         1029,   102,   103,   103,   103,   103,   103,   103,   103,   103,\n",
            "          103,   103,   103,   103,   103,   103,   103,   103,   103,   103,\n",
            "          103,   103], device='cuda:0')\n",
            "#> Output Mask: torch.Size([32]), tensor([1, 1, 1, 1, 1, 1, 1, 1, 1, 1, 1, 1, 0, 0, 0, 0, 0, 0, 0, 0, 0, 0, 0, 0,\n",
            "        0, 0, 0, 0, 0, 0, 0, 0], device='cuda:0')\n",
            "\n"
          ]
        },
        {
          "output_type": "execute_result",
          "data": {
            "text/plain": [
              "[{'content': '=== Studio Ghibli ===\\n\\n\\n==== Early films (1985–1995) ====\\nFollowing the success of Nausicaä of the Valley of the Wind, Miyazaki and Takahata founded the animation production company Studio Ghibli on June 15, 1985, as a subsidiary of Tokuma Shoten, with offices in Kichijōji designed by Miyazaki. The studio\\'s name had been registered a year earlier; Miyazaki named it after the nickname of the Caproni Ca.309 aircraft, meaning \"a hot wind that blows in the desert\" in Italian.',\n",
              "  'score': 25.71875,\n",
              "  'rank': 1,\n",
              "  'document_id': 'miyazaki',\n",
              "  'passage_id': 42,\n",
              "  'document_metadata': {'entity': 'person', 'source': 'wikipedia'}},\n",
              " {'content': 'Hayao Miyazaki (宮崎 駿 or 宮﨑 駿, Miyazaki Hayao, [mijaꜜzaki hajao]; born January 5, 1941) is a Japanese animator, filmmaker, and manga artist. He co-founded Studio Ghibli and serves as its honorary chairman. Over the course of his career, Miyazaki has attained international acclaim as a masterful storyteller and creator of Japanese animated feature films, and is widely regarded as one of the most accomplished filmmakers in the history of animation.\\nBorn in Tokyo City, Miyazaki expressed interest in manga and animation from an early age.',\n",
              "  'score': 25.453125,\n",
              "  'rank': 2,\n",
              "  'document_id': 'miyazaki',\n",
              "  'passage_id': 0,\n",
              "  'document_metadata': {'entity': 'person', 'source': 'wikipedia'}},\n",
              " {'content': \"Miyazaki, initially reluctant, countered that an hour-long animation would be more suitable, and Tokuma Shoten agreed on a feature-length film.\\nProduction began on May 31, 1983, with animation beginning in August; funding was provided through a joint venture between Tokuma Shoten and the advertising agency Hakuhodo, for whom Miyazaki's youngest brother worked. Animation studio Topcraft was chosen as the production house. Miyazaki found some of Topcraft's staff unreliable, and brought on several of his previous collaborators, including Takahata, who served as producer, though he was reluctant to do so. Pre-production began on May 31, 1983; Miyazaki encountered difficulties in creating the screenplay, with only sixteen chapters of the manga to work with.\",\n",
              "  'score': 25.21875,\n",
              "  'rank': 3,\n",
              "  'document_id': 'miyazaki',\n",
              "  'passage_id': 38,\n",
              "  'document_metadata': {'entity': 'person', 'source': 'wikipedia'}}]"
            ]
          },
          "metadata": {},
          "execution_count": 15
        }
      ]
    },
    {
      "cell_type": "markdown",
      "source": [
        "### **Measuring RAG Search Performance ⏱️🚀**\n"
      ],
      "metadata": {
        "id": "08BeO2CjI9W8"
      }
    },
    {
      "cell_type": "code",
      "source": [
        "%%timeit\n",
        "RAG.search(query=\"What animation studio did Miyazaki found?\")"
      ],
      "metadata": {
        "colab": {
          "base_uri": "https://localhost:8080/"
        },
        "id": "0XfLQkWQ-yiY",
        "outputId": "c1bda536-d24c-4ddd-e7c8-70e20eb79b95"
      },
      "execution_count": null,
      "outputs": [
        {
          "output_type": "stream",
          "name": "stdout",
          "text": [
            "20.7 ms ± 2.57 ms per loop (mean ± std. dev. of 7 runs, 10 loops each)\n"
          ]
        }
      ]
    },
    {
      "cell_type": "markdown",
      "source": [
        "### **Batch Search in RAG 🔍📚**"
      ],
      "metadata": {
        "id": "InqyIaPmJE30"
      }
    },
    {
      "cell_type": "code",
      "source": [
        "all_results = RAG.search(query=[\"What animation studio did Miyazaki found?\", \"Miyazaki son name\"], k=k)\n",
        "all_results"
      ],
      "metadata": {
        "colab": {
          "base_uri": "https://localhost:8080/"
        },
        "id": "PBFuJ-wQ-1km",
        "outputId": "407cdba0-650f-414e-a59d-927a93184168"
      },
      "execution_count": null,
      "outputs": [
        {
          "output_type": "stream",
          "name": "stderr",
          "text": [
            "2it [00:00, 89.42it/s]\n"
          ]
        },
        {
          "output_type": "execute_result",
          "data": {
            "text/plain": [
              "[[{'content': '=== Studio Ghibli ===\\n\\n\\n==== Early films (1985–1995) ====\\nFollowing the success of Nausicaä of the Valley of the Wind, Miyazaki and Takahata founded the animation production company Studio Ghibli on June 15, 1985, as a subsidiary of Tokuma Shoten, with offices in Kichijōji designed by Miyazaki. The studio\\'s name had been registered a year earlier; Miyazaki named it after the nickname of the Caproni Ca.309 aircraft, meaning \"a hot wind that blows in the desert\" in Italian.',\n",
              "   'score': 25.71875,\n",
              "   'rank': 1,\n",
              "   'document_id': 'miyazaki',\n",
              "   'passage_id': 42,\n",
              "   'document_metadata': {'entity': 'person', 'source': 'wikipedia'}},\n",
              "  {'content': 'Hayao Miyazaki (宮崎 駿 or 宮﨑 駿, Miyazaki Hayao, [mijaꜜzaki hajao]; born January 5, 1941) is a Japanese animator, filmmaker, and manga artist. He co-founded Studio Ghibli and serves as its honorary chairman. Over the course of his career, Miyazaki has attained international acclaim as a masterful storyteller and creator of Japanese animated feature films, and is widely regarded as one of the most accomplished filmmakers in the history of animation.\\nBorn in Tokyo City, Miyazaki expressed interest in manga and animation from an early age.',\n",
              "   'score': 25.453125,\n",
              "   'rank': 2,\n",
              "   'document_id': 'miyazaki',\n",
              "   'passage_id': 0,\n",
              "   'document_metadata': {'entity': 'person', 'source': 'wikipedia'}},\n",
              "  {'content': \"Miyazaki, initially reluctant, countered that an hour-long animation would be more suitable, and Tokuma Shoten agreed on a feature-length film.\\nProduction began on May 31, 1983, with animation beginning in August; funding was provided through a joint venture between Tokuma Shoten and the advertising agency Hakuhodo, for whom Miyazaki's youngest brother worked. Animation studio Topcraft was chosen as the production house. Miyazaki found some of Topcraft's staff unreliable, and brought on several of his previous collaborators, including Takahata, who served as producer, though he was reluctant to do so. Pre-production began on May 31, 1983; Miyazaki encountered difficulties in creating the screenplay, with only sixteen chapters of the manga to work with.\",\n",
              "   'score': 25.21875,\n",
              "   'rank': 3,\n",
              "   'document_id': 'miyazaki',\n",
              "   'passage_id': 38,\n",
              "   'document_metadata': {'entity': 'person', 'source': 'wikipedia'}}],\n",
              " [{'content': \"They have two sons: Goro, born in January 1967, and Keisuke, born in April 1969. Becoming a father changed Miyazaki and he tried to produce work to please his children.\\nMiyazaki initially fulfilled a promise to his wife that they would both continue to work after Goro's birth, dropping him off at preschool for the day; however, upon seeing Goro's exhaustion walking home one day, Miyazaki decided they could not continue, and his wife quit in 1972 to stay at home and raise their children. She was reluctant to do so but considered it necessary to allow Miyazaki to focus on his work. Miyazaki's dedication to his work harmed his relationship with his children as he was often absent.\",\n",
              "   'score': 25.484375,\n",
              "   'rank': 1,\n",
              "   'document_id': 'miyazaki',\n",
              "   'passage_id': 110,\n",
              "   'document_metadata': {'entity': 'person', 'source': 'wikipedia'}},\n",
              "  {'content': \"When animating young children, Miyazaki often takes inspiration from his friends' children and memories of his own childhood.\\n\\n\\n== Personal life ==\\n\\nMiyazaki's wife, Akemi Ōta (大田朱美), was born in 1938 and hired as an inbetween artist at Toei Animation in 1958, working on Panda and the Magic Serpent and Alakazam the Great (1960). She and Miyazaki met at Toei in 1964, and they married in October 1965. At Toei, they worked together on The Great Adventure of Horus, Prince of the Sun and The Wonderful World of Puss 'n Boots. They have two sons: Goro, born in January 1967, and Keisuke, born in April 1969.\",\n",
              "   'score': 25.125,\n",
              "   'rank': 2,\n",
              "   'document_id': 'miyazaki',\n",
              "   'passage_id': 109,\n",
              "   'document_metadata': {'entity': 'person', 'source': 'wikipedia'}},\n",
              "  {'content': \"Miyazaki moved to a residence in Higashimurayama after his wedding in October 1965, to Ōizumigakuenchō after the birth of his second son in April 1969, and to Tokorozawa in 1970.\\nMiyazaki provided key animation for The Wonderful World of Puss 'n Boots (1969), directed by Kimio Yabuki. He created a 12-chapter manga series as a promotional tie-in for the film; the series ran in the Sunday edition of Tokyo Shimbun from January to March 1969. Miyazaki later proposed scenes in the screenplay for Flying Phantom Ship (1969) in which military tanks would cause mass hysteria in downtown Tokyo, and was hired to storyboard and animate the scenes.\",\n",
              "   'score': 25.09375,\n",
              "   'rank': 3,\n",
              "   'document_id': 'miyazaki',\n",
              "   'passage_id': 18,\n",
              "   'document_metadata': {'entity': 'person', 'source': 'wikipedia'}}]]"
            ]
          },
          "metadata": {},
          "execution_count": 17
        }
      ]
    },
    {
      "cell_type": "markdown",
      "source": [
        "### **Loading Pretrained RAG Index for Miyazaki 📂🔍**\n",
        "\n",
        "\n",
        "\n",
        "\n",
        "\n",
        "\n"
      ],
      "metadata": {
        "id": "ppY3TsDjJNU_"
      }
    },
    {
      "cell_type": "code",
      "source": [
        "path_to_index = \".ragatouille/colbert/indexes/Miyazaki/\"\n",
        "RAG = RAGPretrainedModel.from_index(path_to_index)"
      ],
      "metadata": {
        "id": "oqHDBth-BXhv"
      },
      "execution_count": null,
      "outputs": []
    },
    {
      "cell_type": "markdown",
      "source": [
        "### **Adding New Documents to RAG Index 📄➕**\n",
        "\n",
        "\n",
        "\n",
        "\n",
        "\n",
        "\n"
      ],
      "metadata": {
        "id": "G-YTh8q_JUNw"
      }
    },
    {
      "cell_type": "code",
      "source": [
        "new_documents = get_wikipedia_page(\"Studio_Ghibli\")\n",
        "\n",
        "RAG.add_to_index([new_documents])"
      ],
      "metadata": {
        "id": "7zJnYNzO--lE"
      },
      "execution_count": null,
      "outputs": []
    },
    {
      "cell_type": "markdown",
      "source": [
        "### **Reranking with Custom Retrieval Pipeline 🏁🔍**\n",
        "\n",
        "\n",
        "\n",
        "\n",
        "\n",
        "\n"
      ],
      "metadata": {
        "id": "1_DX1E-oJbiX"
      }
    },
    {
      "cell_type": "code",
      "source": [
        "from sentence_transformers import SentenceTransformer\n",
        "from voyager import Index, Space\n",
        "\n",
        "class MyExistingRetrievalPipeline:\n",
        "    index: Index\n",
        "    embedder: SentenceTransformer\n",
        "\n",
        "    def __init__(self, embedder_name: str = \"BAAI/bge-small-en-v1.5\"):\n",
        "        self.embedder = SentenceTransformer(embedder_name)\n",
        "        self.collection_map = {}\n",
        "        self.index = Index(\n",
        "            Space.Cosine,\n",
        "            num_dimensions=self.embedder.get_sentence_embedding_dimension(),\n",
        "        )\n",
        "\n",
        "    def index_documents(self, documents: list[str]) -> None:\n",
        "        # There's very few documents in our example, so we don't bother with batching\n",
        "        for document in documents:\n",
        "            self.collection_map[self.index.add_item(self.embedder.encode(document['content']))] = document['content']\n",
        "\n",
        "    def query(self, query: str, k: int = 10) -> list[str]:\n",
        "        query_embedding = self.embedder.encode(query)\n",
        "        to_return = []\n",
        "        for idx in self.index.query(query_embedding, k=k)[0]:\n",
        "            to_return.append(self.collection_map[idx])\n",
        "        return to_return"
      ],
      "metadata": {
        "id": "UvsUQYHEBbrq"
      },
      "execution_count": null,
      "outputs": []
    },
    {
      "cell_type": "markdown",
      "source": [
        "### **Initializing Existing Retrieval Pipeline 🔄**\n",
        "\n",
        "\n",
        "\n",
        "\n",
        "\n",
        "\n"
      ],
      "metadata": {
        "id": "TEpVpcDGJihW"
      }
    },
    {
      "cell_type": "code",
      "source": [
        "existing_pipeline = MyExistingRetrievalPipeline()"
      ],
      "metadata": {
        "id": "pajqphYwCHDb"
      },
      "execution_count": null,
      "outputs": []
    },
    {
      "cell_type": "markdown",
      "source": [
        "### **Processing Wikipedia Corpus 🧠**\n",
        "\n",
        "\n",
        "\n",
        "\n",
        "\n",
        "\n"
      ],
      "metadata": {
        "id": "gE9mRIFvJofj"
      }
    },
    {
      "cell_type": "code",
      "source": [
        "from ragatouille.utils import get_wikipedia_page\n",
        "from ragatouille.data import CorpusProcessor\n",
        "\n",
        "corpus_processor = CorpusProcessor()\n",
        "\n",
        "documents = [get_wikipedia_page(\"Hayao Miyazaki\"), get_wikipedia_page(\"Studio Ghibli\"), get_wikipedia_page(\"Princess Mononoke\"), get_wikipedia_page(\"Shrek\")]\n",
        "documents = corpus_processor.process_corpus(documents, chunk_size=200)"
      ],
      "metadata": {
        "id": "mCY8ivhvCLHy"
      },
      "execution_count": null,
      "outputs": []
    },
    {
      "cell_type": "markdown",
      "source": [
        "### **Indexing Documents in Existing Pipeline 🔍**\n",
        "\n",
        "\n",
        "\n",
        "\n",
        "\n",
        "\n"
      ],
      "metadata": {
        "id": "a8rFULIgJv8g"
      }
    },
    {
      "cell_type": "code",
      "source": [
        "existing_pipeline.index_documents(documents)\n"
      ],
      "metadata": {
        "id": "HRXP9wOPCNyT"
      },
      "execution_count": null,
      "outputs": []
    },
    {
      "cell_type": "markdown",
      "source": [
        "### **Querying the Existing Pipeline 🔍**\n",
        "\n",
        "\n",
        "\n",
        "\n",
        "\n",
        "\n"
      ],
      "metadata": {
        "id": "1qzMSYzRJ2ts"
      }
    },
    {
      "cell_type": "code",
      "source": [
        "query = \"What's Gihbli's famous policy?\"\n",
        "raw_results = existing_pipeline.query(query, k=10)\n",
        "raw_results"
      ],
      "metadata": {
        "colab": {
          "base_uri": "https://localhost:8080/"
        },
        "id": "wvkzxpWFCQuu",
        "outputId": "022acae1-b434-4ac8-eccf-24a1e1cc2479"
      },
      "execution_count": null,
      "outputs": [
        {
          "output_type": "execute_result",
          "data": {
            "text/plain": [
              "['The Boy and the Heron won the 2024 Golden Globe Award for Best Animated Feature Film, BAFTA Award for Best Animated Film, and the 2024 Academy Award for Best Animated Feature.\\n\\n\\n== Name ==\\nThe name \"Ghibli\" was chosen by Miyazaki from the Italian noun ghibli (also used in English), the nickname of Italy\\'s Saharan scouting plane Caproni Ca.309, in turn derived from the Italianization of the Libyan Arabic name for a hot desert wind (قبلي qibliyy). The name was chosen by Miyazaki due to his passion for aircraft and also for the idea that the studio would \"blow a new wind through the anime industry\". Although the Italian word would be more accurately transliterated as \"Giburi\" (ギブリ), with a hard g sound, the studio\\'s name is written in Japanese as Jiburi (ジブリ, [dʑiꜜbɯɾi] ).',\n",
              " '=== Feature films ===\\n\\n\\n=== Television ===\\n\\n\\n== Style and themes ==\\n\\nStudio Ghibli films are mostly hand-drawn using rich watercolor and acrylic paints. The films use traditional methods of making animation where every frame is drawn and colored by hand. Computer animation techniques are used sparingly. All the Studio Ghibli films use bright colors, and have a \"whimsical and joyful aesthetic\". Studio Ghibli\\'s art style tends to be more of a cozy European style that put a lot of undertones on the background and nature in the scene. A notable exception is The Tale of the Princess Kaguya, directed by Takahata, which departs from Ghibli\\'s typical style by employing a soft watercolor palette and storybook-like aesthetic reminiscent of Japanese folk art. This approach aimed to reflect the emotions and inner struggles of the characters and highlight the hand-drawn animation.',\n",
              " '== See also ==\\n\\nGhibli Museum in Mitaka, Tokyo\\nGhibli Park in Nagakute, Aichi\\nStudio Kajino, a subsidiary of Studio Ghibli\\nYasuo Ōtsuka\\nStudio Ponoc, founded by former members of Studio Ghibli\\nList of Japanese animation studios\\n\\n\\n== Notes ==\\n\\n\\n== References ==\\n\\n\\n== Further reading ==\\nAlpert, Steve (2020). Sharing a House with the Never-Ending Man. Stone Bridge Press. ISBN 978-1-61172-057-0.\\nDenison, Rayna (2023). Studio Ghibli: An Industrial History. Palgrave MacMillan. ISBN 978-3-031-16843-7.\\nMcCarthy, Helen (2002) [1999]. Hayao Miyazaki: Master of Japanese Animation. Stone Bridge Press.',\n",
              " 'Studio Ghibli, Inc. (Japanese: 株式会社スタジオジブリ, Hepburn: Kabushiki-gaisha Sutajio Jiburi) is a Japanese animation studio based in Koganei, Tokyo. It has a strong presence in the animation industry and has expanded its portfolio to include various media formats, such as short subjects, television commercials, and two television films. Their work has been well received by audiences and recognized with numerous awards. Their mascot and most recognizable symbol, the character Totoro from the 1988 film My Neighbor Totoro, is a giant spirit inspired by raccoon dogs (tanuki) and cats (neko).',\n",
              " \"== History ==\\n\\n\\n=== Tokuma Shoten era ===\\n\\nFounded on June 15, 1985, Studio Ghibli was headed by directors Hayao Miyazaki and Isao Takahata and producer Toshio Suzuki. Miyazaki and Takahata had already had long careers in Japanese film and television animation and had worked together on The Great Adventure of Horus, Prince of the Sun in 1968 and the Panda! Go, Panda! films in 1972 and 1973. Suzuki had been an editor at Tokuma Shoten's Animage manga magazine.\\nThe studio was founded after the success of the 1984 film Nausicaä of the Valley of the Wind. Suzuki was part of the film's production team, and founded Studio Ghibli with Miyazaki, who also invited Takahata to join them.\",\n",
              " \"== External links ==\\n\\nOfficial website (in Japanese)\\nStudio Ghibli  at Anime News Network's encyclopedia\",\n",
              " \"The film was announced as the first full 3D CG animated Ghibli film and slated for a television premiere on NHK in late 2020. The company had a net income of ¥1.253 billion, and a total asset worth ¥24.521 billion by August 2021.\\nOn November 1, 2022, the Studio Ghibli themed amusement park Ghibli Park opened.\\nOn April 4, 2023, Koji Hoshino announced that he had stepped down as chairman, and would serve as a representative director before planning to exit Studio Ghibli completely during the company's annual general shareholder's meeting in June, one month prior to the release of director Hayao Miyazaki's final movie The Boy and the Heron on July 14.\",\n",
              " 'Studio Ghibli became a subsidiary of Nippon Television Holdings in October 2023, with Miyazaki as its honorary chairman.\\n\\n\\n== Views ==\\n\\nMiyazaki has often criticized the state of the animation industry, stating that some animators lack a foundational understanding of their subjects and do not prioritize realism. He is particularly critical of Japanese animation, saying that anime is \"produced by humans who can\\'t stand looking at other humans ... that\\'s why the industry is full of otaku\\u200a!\". He has frequently criticized otaku, including \"fanatics\" of guns and fighter aircraft, declaring it a \"fetish\" and refusing to identify himself as such. He bemoaned the state of Disney animated films in 1988, saying \"they show nothing but contempt for the audience\".\\nMiyazaki considers himself \"traditionally ... a leftist in terms of emotional affinity\", emphasizing his commitment to his ideals despite changing political and economic landscapes.',\n",
              " 'In 2024, the studio received an honorary Palme d\\'Or at the 2024 Cannes Film Festival, the first film production company to receive the award.\\n\\n\\n== Distribution rights ==\\n\\n\\n=== Theatrical and home media rights ===\\n\\n\\n==== Japan ====\\nIn Japan, most of the company\\'s films are distributed by Toho theatrically, except for Castle in the Sky, Kiki\\'s Delivery Service (which were distributed by Toei Company along with Nausicaä of the Valley of the Wind) and My Neighbors the Yamadas, which was distributed by Shochiku.\\nFor home media, a majority of Studio Ghibli releases are distributed by Walt Disney Studios Japan. Pony Canyon occasionally releases Ghibli documentaries on home media, and also distributes rental versions of Ghibli\\'s movies under a deal with Disney. Pony Canyon also fully distributed the standalone version of Earwig and the Witch on home media.\\nBefore the Disney deal, Tokuma Shoten released Ghibli movies themselves through their \"Animage Video\" imprint, as well as all LaserDisc releases of the movies, as the Disney deal did not include that format.',\n",
              " '== Legacy ==\\n\\nAccording to Napier, the film is commonly considered to be Miyazaki\\'s most significant feature film. She wrote that it marked a \"new chapter\" in his filmography on account of its nuanced and intermingled themes and the unprecedented scope of its production. The film was longer and more expensive to produce than any Studio Ghibli film up to that point, which Napier reported induced a high level of stress and demanded \"almost superhuman efforts\" from the entire staff, including Miyazaki. Some senior employees, worn out from the film\\'s production, left Studio Ghibli in its aftermath, with Miyazaki himself increasingly withdrawing from public relations. Suzuki recounted that Miyazaki was overtaxed from supervising the storyboards, music, and vocal recordings and had \"given his body and soul\" to the production.']"
            ]
          },
          "metadata": {},
          "execution_count": 24
        }
      ]
    },
    {
      "cell_type": "markdown",
      "source": [
        "### **Reranking Results 🔄**\n",
        "\n",
        "\n",
        "\n",
        "\n",
        "\n",
        "\n"
      ],
      "metadata": {
        "id": "9lFZWuvbJ88c"
      }
    },
    {
      "cell_type": "code",
      "source": [
        "RAG.rerank(query=query, documents=raw_results, k=5)\n"
      ],
      "metadata": {
        "colab": {
          "base_uri": "https://localhost:8080/"
        },
        "id": "qs2YHVyBCV2v",
        "outputId": "037e68c9-8968-44b3-94c2-8bb00634b1a4"
      },
      "execution_count": null,
      "outputs": [
        {
          "output_type": "stream",
          "name": "stderr",
          "text": [
            "100%|██████████| 1/1 [00:00<00:00, 20.74it/s]\n"
          ]
        },
        {
          "output_type": "execute_result",
          "data": {
            "text/plain": [
              "[{'content': 'Studio Ghibli, Inc. (Japanese: 株式会社スタジオジブリ, Hepburn: Kabushiki-gaisha Sutajio Jiburi) is a Japanese animation studio based in Koganei, Tokyo. It has a strong presence in the animation industry and has expanded its portfolio to include various media formats, such as short subjects, television commercials, and two television films. Their work has been well received by audiences and recognized with numerous awards. Their mascot and most recognizable symbol, the character Totoro from the 1988 film My Neighbor Totoro, is a giant spirit inspired by raccoon dogs (tanuki) and cats (neko).',\n",
              "  'score': 12.4609375,\n",
              "  'rank': 0,\n",
              "  'result_index': 3},\n",
              " {'content': 'The Boy and the Heron won the 2024 Golden Globe Award for Best Animated Feature Film, BAFTA Award for Best Animated Film, and the 2024 Academy Award for Best Animated Feature.\\n\\n\\n== Name ==\\nThe name \"Ghibli\" was chosen by Miyazaki from the Italian noun ghibli (also used in English), the nickname of Italy\\'s Saharan scouting plane Caproni Ca.309, in turn derived from the Italianization of the Libyan Arabic name for a hot desert wind (قبلي qibliyy). The name was chosen by Miyazaki due to his passion for aircraft and also for the idea that the studio would \"blow a new wind through the anime industry\". Although the Italian word would be more accurately transliterated as \"Giburi\" (ギブリ), with a hard g sound, the studio\\'s name is written in Japanese as Jiburi (ジブリ, [dʑiꜜbɯɾi] ).',\n",
              "  'score': 12.0703125,\n",
              "  'rank': 1,\n",
              "  'result_index': 0},\n",
              " {'content': 'Studio Ghibli became a subsidiary of Nippon Television Holdings in October 2023, with Miyazaki as its honorary chairman.\\n\\n\\n== Views ==\\n\\nMiyazaki has often criticized the state of the animation industry, stating that some animators lack a foundational understanding of their subjects and do not prioritize realism. He is particularly critical of Japanese animation, saying that anime is \"produced by humans who can\\'t stand looking at other humans ... that\\'s why the industry is full of otaku\\u200a!\". He has frequently criticized otaku, including \"fanatics\" of guns and fighter aircraft, declaring it a \"fetish\" and refusing to identify himself as such. He bemoaned the state of Disney animated films in 1988, saying \"they show nothing but contempt for the audience\".\\nMiyazaki considers himself \"traditionally ... a leftist in terms of emotional affinity\", emphasizing his commitment to his ideals despite changing political and economic landscapes.',\n",
              "  'score': 11.71875,\n",
              "  'rank': 2,\n",
              "  'result_index': 7},\n",
              " {'content': '=== Feature films ===\\n\\n\\n=== Television ===\\n\\n\\n== Style and themes ==\\n\\nStudio Ghibli films are mostly hand-drawn using rich watercolor and acrylic paints. The films use traditional methods of making animation where every frame is drawn and colored by hand. Computer animation techniques are used sparingly. All the Studio Ghibli films use bright colors, and have a \"whimsical and joyful aesthetic\". Studio Ghibli\\'s art style tends to be more of a cozy European style that put a lot of undertones on the background and nature in the scene. A notable exception is The Tale of the Princess Kaguya, directed by Takahata, which departs from Ghibli\\'s typical style by employing a soft watercolor palette and storybook-like aesthetic reminiscent of Japanese folk art. This approach aimed to reflect the emotions and inner struggles of the characters and highlight the hand-drawn animation.',\n",
              "  'score': 10.5546875,\n",
              "  'rank': 3,\n",
              "  'result_index': 1},\n",
              " {'content': '== Legacy ==\\n\\nAccording to Napier, the film is commonly considered to be Miyazaki\\'s most significant feature film. She wrote that it marked a \"new chapter\" in his filmography on account of its nuanced and intermingled themes and the unprecedented scope of its production. The film was longer and more expensive to produce than any Studio Ghibli film up to that point, which Napier reported induced a high level of stress and demanded \"almost superhuman efforts\" from the entire staff, including Miyazaki. Some senior employees, worn out from the film\\'s production, left Studio Ghibli in its aftermath, with Miyazaki himself increasingly withdrawing from public relations. Suzuki recounted that Miyazaki was overtaxed from supervising the storyboards, music, and vocal recordings and had \"given his body and soul\" to the production.',\n",
              "  'score': 10.34375,\n",
              "  'rank': 4,\n",
              "  'result_index': 9}]"
            ]
          },
          "metadata": {},
          "execution_count": 25
        }
      ]
    }
  ],
  "metadata": {
    "colab": {
      "provenance": [],
      "gpuType": "T4"
    },
    "kernelspec": {
      "display_name": "Python 3",
      "name": "python3"
    },
    "language_info": {
      "name": "python"
    },
    "accelerator": "GPU"
  },
  "nbformat": 4,
  "nbformat_minor": 0
}