{
  "nbformat": 4,
  "nbformat_minor": 0,
  "metadata": {
    "colab": {
      "provenance": []
    },
    "kernelspec": {
      "name": "python3",
      "display_name": "Python 3"
    },
    "language_info": {
      "name": "python"
    }
  },
  "cells": [
    {
      "cell_type": "markdown",
      "source": [
        "<img src=\"https://drive.google.com/uc?export=view&id=1wYSMgJtARFdvTt5g7E20mE4NmwUFUuog\" width=\"200\">\n",
        "\n",
        "[![Build Fast with AI](https://img.shields.io/badge/BuildFastWithAI-GenAI%20Bootcamp-blue?style=for-the-badge&logo=artificial-intelligence)](https://www.buildfastwithai.com/genai-course)\n",
        "[![EduChain GitHub](https://img.shields.io/github/stars/satvik314/educhain?style=for-the-badge&logo=github&color=gold)](https://github.com/satvik314/educhain)\n",
        "\n",
        "[![Open In Colab](https://colab.research.google.com/assets/colab-badge.svg)](https://colab.research.google.com/drive/1uYCXmWSms6oYC93GXBCU4_ewQ_2ZNWmP?usp=sharingZ)\n",
        "## Master Generative AI in 6 Weeks\n",
        "**What You'll Learn:**\n",
        "- Build with Latest LLMs\n",
        "- Create Custom AI Apps\n",
        "- Learn from Industry Experts\n",
        "- Join Innovation Community\n",
        "Transform your AI ideas into reality through hands-on projects and expert mentorship.\n",
        "[Start Your Journey](https://www.buildfastwithai.com/genai-course)\n",
        "*Empowering the Next Generation of AI Innovators"
      ],
      "metadata": {
        "id": "0HgsiXrX6r5n"
      }
    },
    {
      "cell_type": "markdown",
      "source": [
        "# 🚀 AgentOps Overview ⚡\n",
        "\n",
        "AgentOps helps developers build, evaluate, and monitor AI agents. From prototype to production. 🛠️🤖  \n",
        "\n",
        "## 📊 Key Features  \n",
        "\n",
        "✅ **Replay Analytics and Debugging** – Step-by-step agent execution graphs  \n",
        "💸 **LLM Cost Management** – Track spend with LLM foundation model providers  \n",
        "🧪 **Agent Benchmarking** – Test your agents against 1,000+ evals  \n",
        "🔐 **Compliance and Security** – Detect common prompt injection and data exfiltration exploits  \n",
        "🤝 **Framework Integrations** – Native integrations with CrewAI, AG2 (AutoGen), Camel AI, & LangChain  \n"
      ],
      "metadata": {
        "id": "PgsPsO7G6rwv"
      }
    },
    {
      "cell_type": "markdown",
      "source": [
        "### **🚀 Installation & Setup**  \n",
        "\n",
        "\n",
        "\n",
        "\n",
        "\n",
        "\n"
      ],
      "metadata": {
        "id": "NNg0mVkI6rob"
      }
    },
    {
      "cell_type": "code",
      "execution_count": null,
      "metadata": {
        "id": "krTNxw9o9eRw"
      },
      "outputs": [],
      "source": [
        "!pip install agentops langchain_community"
      ]
    },
    {
      "cell_type": "markdown",
      "source": [
        "### 🔑 **Setup API Keys**  \n",
        "\n",
        "\n",
        "\n",
        "\n",
        "\n",
        "\n"
      ],
      "metadata": {
        "id": "k5Ko_Ixq8U3H"
      }
    },
    {
      "cell_type": "code",
      "source": [
        "from google.colab import userdata\n",
        "import os\n",
        "\n",
        "OPENAI_API_KEY = userdata.get('OPENAI_API_KEY')\n",
        "GEMINI_API_KEY= userdata.get('GOOGLE_API_KEY')\n",
        "AGENTOPS_API_KEY = userdata.get('AGENTOPS_API_KEY')"
      ],
      "metadata": {
        "id": "lH-zqqmRreoP"
      },
      "execution_count": null,
      "outputs": []
    },
    {
      "cell_type": "markdown",
      "source": [
        "### 🚀 **Initialize OpenAI and AgentOps**  \n",
        "\n",
        "\n",
        "\n",
        "\n",
        "\n",
        "\n"
      ],
      "metadata": {
        "id": "pGUDp9rD8V3G"
      }
    },
    {
      "cell_type": "code",
      "source": [
        "from openai import OpenAI\n",
        "import agentops\n",
        "\n",
        "openai = OpenAI(api_key=OPENAI_API_KEY)\n",
        "agentops.init(AGENTOPS_API_KEY, default_tags=[\"openai-gpt-notebook\"])"
      ],
      "metadata": {
        "id": "eY2BaFEVre07"
      },
      "execution_count": null,
      "outputs": []
    },
    {
      "cell_type": "markdown",
      "source": [
        "###**AgentOps Basic Monitoring**\n"
      ],
      "metadata": {
        "id": "4OiOUdCQ9FPO"
      }
    },
    {
      "cell_type": "code",
      "source": [
        "message = [{\"role\": \"user\", \"content\": \"Write a 12 word poem about secret agents.\"}]\n",
        "response = openai.chat.completions.create(\n",
        "    model=\"gpt-3.5-turbo\", messages=message, temperature=0.5, stream=False\n",
        ")\n",
        "print(response.choices[0].message.content)"
      ],
      "metadata": {
        "colab": {
          "base_uri": "https://localhost:8080/"
        },
        "id": "xE42bzhWrpu7",
        "outputId": "663ebd76-123c-4a37-a356-1fbdf2233ea1"
      },
      "execution_count": null,
      "outputs": [
        {
          "output_type": "stream",
          "name": "stdout",
          "text": [
            "Silent shadows move, secrets kept in the dark, agents unseen, unknown.\n"
          ]
        }
      ]
    },
    {
      "cell_type": "markdown",
      "source": [
        "### ✅ **End AgentOps Session**  \n",
        "\n",
        "\n",
        "\n",
        "\n",
        "\n",
        "\n"
      ],
      "metadata": {
        "id": "lCx4HD3y9LC6"
      }
    },
    {
      "cell_type": "code",
      "source": [
        "agentops.end_session(\"Success\")\n"
      ],
      "metadata": {
        "colab": {
          "base_uri": "https://localhost:8080/"
        },
        "id": "_1EnGIZSxx9n",
        "outputId": "5ea1b195-0e3d-4994-96bf-675726da1f2b"
      },
      "execution_count": null,
      "outputs": [
        {
          "output_type": "stream",
          "name": "stderr",
          "text": [
            "🖇 AgentOps: Session Stats - Duration: 3m 26.3s | Cost: $0.00 | LLMs: 0 | Tools: 0 | Actions: 0 | Errors: 0\n",
            "🖇 AgentOps: \u001b[34mSession Replay: https://app.agentops.ai/drilldown?session_id=bebcd8e6-65d5-4e52-a12e-26fc5284ad51\u001b[0m\n"
          ]
        }
      ]
    },
    {
      "cell_type": "markdown",
      "source": [
        "### 🔄 **Start AgentOps Session**  \n",
        "\n",
        "\n",
        "\n",
        "\n",
        "\n",
        "\n"
      ],
      "metadata": {
        "id": "lpTyD5zO9Oco"
      }
    },
    {
      "cell_type": "code",
      "source": [
        "agentops.start_session(tags=[\"openai-gpt-notebook-events\"])\n"
      ],
      "metadata": {
        "colab": {
          "base_uri": "https://localhost:8080/"
        },
        "id": "90cjFCzvx0xO",
        "outputId": "5d1be9e3-df99-4989-ca43-9ec5f928b13c"
      },
      "execution_count": null,
      "outputs": [
        {
          "output_type": "stream",
          "name": "stderr",
          "text": [
            "🖇 AgentOps: \u001b[34mSession Replay: https://app.agentops.ai/drilldown?session_id=55d8fa39-2e5a-452d-b60d-7e4efd4fc0be\u001b[0m\n"
          ]
        },
        {
          "output_type": "execute_result",
          "data": {
            "text/plain": [
              "<agentops.session.Session at 0x7a55a852b050>"
            ]
          },
          "metadata": {},
          "execution_count": 11
        }
      ]
    },
    {
      "cell_type": "markdown",
      "source": [
        "### ➕ **Record Action with AgentOps**  \n",
        "\n",
        "\n",
        "\n",
        "\n",
        "\n",
        "\n"
      ],
      "metadata": {
        "id": "9dqTS5D39SHa"
      }
    },
    {
      "cell_type": "code",
      "source": [
        "from agentops import record_action\n",
        "\n",
        "\n",
        "@record_action(\"add numbers\")\n",
        "def add(x, y):\n",
        "    return x + y\n",
        "\n",
        "\n",
        "add(2, 4)"
      ],
      "metadata": {
        "colab": {
          "base_uri": "https://localhost:8080/"
        },
        "id": "w3G6xRkxx8QC",
        "outputId": "0ac8a597-e31c-40f5-a02e-b4104f7f5fec"
      },
      "execution_count": null,
      "outputs": [
        {
          "output_type": "execute_result",
          "data": {
            "text/plain": [
              "6"
            ]
          },
          "metadata": {},
          "execution_count": 12
        }
      ]
    },
    {
      "cell_type": "markdown",
      "source": [
        "### 💬 **Record Agent Response with AgentOps**  \n",
        "\n",
        "\n",
        "\n",
        "\n",
        "\n",
        "\n"
      ],
      "metadata": {
        "id": "tGRG3k2H9VmM"
      }
    },
    {
      "cell_type": "code",
      "source": [
        "from agentops import ActionEvent\n",
        "\n",
        "message = ({\"role\": \"user\", \"content\": \"Hello\"},)\n",
        "response = openai.chat.completions.create(\n",
        "    model=\"gpt-3.5-turbo\", messages=message, temperature=0.5\n",
        ")\n",
        "\n",
        "if \"hello\" in str(response.choices[0].message.content).lower():\n",
        "    agentops.record(\n",
        "        ActionEvent(\n",
        "            action_type=\"Agent says hello\",\n",
        "            logs=str(message),\n",
        "            returns=str(response.choices[0].message.content),\n",
        "        )\n",
        "    )"
      ],
      "metadata": {
        "id": "HFe-nYdFyA7x"
      },
      "execution_count": null,
      "outputs": []
    },
    {
      "cell_type": "code",
      "source": [
        "print(response)"
      ],
      "metadata": {
        "colab": {
          "base_uri": "https://localhost:8080/"
        },
        "id": "gKBcrgKXyJhH",
        "outputId": "b8979fcd-6bf2-4916-cb58-534a173bcfef"
      },
      "execution_count": null,
      "outputs": [
        {
          "output_type": "stream",
          "name": "stdout",
          "text": [
            "ChatCompletion(id='chatcmpl-B1cdO6hLPlZSNIZ2QEqPhXWSb1xJe', choices=[Choice(finish_reason='stop', index=0, logprobs=None, message=ChatCompletionMessage(content='Hello! How can I assist you today?', refusal=None, role='assistant', audio=None, function_call=None, tool_calls=None))], created=1739726538, model='gpt-3.5-turbo-0125', object='chat.completion', service_tier='default', system_fingerprint=None, usage=CompletionUsage(completion_tokens=10, prompt_tokens=8, total_tokens=18, completion_tokens_details=CompletionTokensDetails(accepted_prediction_tokens=0, audio_tokens=0, reasoning_tokens=0, rejected_prediction_tokens=0), prompt_tokens_details=PromptTokensDetails(audio_tokens=0, cached_tokens=0)))\n"
          ]
        }
      ]
    },
    {
      "cell_type": "code",
      "source": [
        "agentops.end_session(\"Success\")"
      ],
      "metadata": {
        "colab": {
          "base_uri": "https://localhost:8080/"
        },
        "id": "Ons5DD_cyDXc",
        "outputId": "1db9328f-79e0-4060-b19b-e46cb034a3cf"
      },
      "execution_count": null,
      "outputs": [
        {
          "output_type": "stream",
          "name": "stderr",
          "text": [
            "🖇 AgentOps: Session Stats - Duration: 3m 20.4s | Cost: $0.00 | LLMs: 0 | Tools: 0 | Actions: 2 | Errors: 0\n",
            "🖇 AgentOps: \u001b[34mSession Replay: https://app.agentops.ai/drilldown?session_id=55d8fa39-2e5a-452d-b60d-7e4efd4fc0be\u001b[0m\n"
          ]
        }
      ]
    },
    {
      "cell_type": "code",
      "source": [
        "agentops.start_session(AGENTOPS_API_KEY)\n"
      ],
      "metadata": {
        "colab": {
          "base_uri": "https://localhost:8080/"
        },
        "id": "Mk6JiY3hytKc",
        "outputId": "1a2bbd50-a878-4fbb-f09d-6af3f1ce08d3"
      },
      "execution_count": null,
      "outputs": [
        {
          "output_type": "stream",
          "name": "stderr",
          "text": [
            "🖇 AgentOps: \u001b[34mSession Replay: https://app.agentops.ai/drilldown?session_id=8e9ad429-f3fb-4127-8d23-41a6116df689\u001b[0m\n"
          ]
        },
        {
          "output_type": "execute_result",
          "data": {
            "text/plain": [
              "<agentops.session.Session at 0x7a55a836f550>"
            ]
          },
          "metadata": {},
          "execution_count": 25
        }
      ]
    },
    {
      "cell_type": "markdown",
      "source": [
        "###**Streaming Version**"
      ],
      "metadata": {
        "id": "tr0D13Z32hD_"
      }
    },
    {
      "cell_type": "code",
      "source": [
        "client = OpenAI(api_key=OPENAI_API_KEY)\n",
        "\n",
        "system_prompt = \"\"\"\n",
        "You are a master storyteller, with the ability to create vivid and engaging stories.\n",
        "You have experience in writing for children and adults alike.\n",
        "You are given a prompt and you need to generate a story based on the prompt.\n",
        "\"\"\"\n",
        "\n",
        "user_prompt = \"Write a story about a cyber-warrior trapped in the imperial time period.\"\n",
        "\"\"\n",
        "messages = [\n",
        "    {\"role\": \"system\", \"content\": system_prompt},\n",
        "    {\"role\": \"user\", \"content\": user_prompt},\n",
        "]"
      ],
      "metadata": {
        "id": "E19GBREG1sAX"
      },
      "execution_count": null,
      "outputs": []
    },
    {
      "cell_type": "code",
      "source": [
        "stream = client.chat.completions.create(\n",
        "    model=\"gpt-4o-mini\",\n",
        "    messages=messages,\n",
        "    stream=True,\n",
        ")\n",
        "\n",
        "for chunk in stream:\n",
        "  print(chunk.choices[0].delta.content or \"\", end=\"\")"
      ],
      "metadata": {
        "colab": {
          "base_uri": "https://localhost:8080/"
        },
        "id": "euMmqhvT13TN",
        "outputId": "927593ff-793b-4b2c-f9b7-d25940185864"
      },
      "execution_count": null,
      "outputs": [
        {
          "output_type": "stream",
          "name": "stdout",
          "text": [
            "**Title: The Digital Samurai**\n",
            "\n",
            "In the far reaches of the 22nd century, the world had become an intricate web of digital warfare, rising and falling with the whims of hackers and AIs. Among them was Kira, a skilled cyber-warrior trained in the most advanced technologies, capable of manipulating networks and controlling information flows. She fought for a future free from oppression, and her last mission had taken a turn for the worst.\n",
            "\n",
            "During a high-stakes infiltration, Kira had stumbled upon an ancient artifact—a crystalline data shard, rumored to contain the echoes of a forgotten age. In her eagerness to unlock its secrets, she activated it, only to be engulfed in a blinding flash of light. When the glow subsided, she found herself not in a server room filled with monitors, but in a dense forest beneath an unfamiliar sky. \n",
            "\n",
            "Kira looked around, her heart racing. The world was vibrant and colorful, teeming with life, but everything felt decidedly medieval. The sounds of metal clanking and voices shouting in the distance drew her attention. Cautiously, she crept toward the source, her instincts as a cyber-warrior on high alert.\n",
            "\n",
            "Emerging from the foliage, she witnessed a fierce battle between two factions: one side dressed in ornate armor, the other wearing simpler, rough-hewn garments. Clashing swords, the scent of sweat and smoke hung thick in the air. Kira realized with a jolt that she was not merely a spectator; she had somehow landed in feudal Japan.\n",
            "\n",
            "Determined to stay hidden, Kira ducked behind a tree. As she observed, she noticed how the simpler fighters, known as the Ronin, were outnumbered. Their leader, a striking woman named Yumi, fought valiantly, wielding a katana with grace and precision. Kira's heart swelled with admiration. She recognized a kindred spirit in Yumi—a warrior who embodied strength and justice.\n",
            "\n",
            "When the battle turned against the Ronin, Kira felt a surge of urgency. She couldn't remain a bystander. With a flick of her wrist, she activated a holographic interface from her arm, an augmentation gifted by her cybernetic training. This was her weapon—the very essence of her power harnessed from the digital realm. \n",
            "\n",
            "Summoning the energy contained within her device, she manipulated sunlight into dazzling beams of energy that danced and flickered like lightning. With a powerful thrust of her arm, she unleashed a blinding barrage. The energy struck the ground, creating shockwaves that disrupted the enemy soldiers, giving the Ronin a fleeting upper hand.\n",
            "\n",
            "Yumi, taken aback by the sudden burst of power, caught Kira’s eye. Without understanding the origins of this new ally, the two warriors synchronized their movements. Together, they fought like a tempest, Kira blending her digital prowess with Yumi’s mastery of the sword.\n",
            "\n",
            "In moments, the tide of battle shifted, the Ronin driving away their attackers. When the dust settled and the cacophony of clashing weapons faded into the serene chirping of crickets, Kira stood panting beside Yumi. \n",
            "\n",
            "“Who are you?” Yumi asked, her voice both curious and wary.\n",
            "\n",
            "Kira hesitated. \"I come from a place called the future. I was… displaced into your time.\"\n",
            "\n",
            "Yumi narrowed her eyes, incredulity swirling with intrigue. “The future? You wield powers that are unlike anything we know. But you fought with honor.”\n",
            "\n",
            "“I couldn’t stand by while you were in danger. I was trained to defend the weak,” Kira replied, her voice steady, resonating with the principles that guided her life.\n",
            "\n",
            "With the battle won, the remaining Ronin gathered round, their faces etched with both suspicion and hope. Kira shared her story, revealing the travails of her world—a society threatened by oppressive machines that sought to control every human aspect. As she spoke, a glimmer of inspiration flickered in their eyes.\n",
            "\n",
            "Days turned into weeks, and in that time, Kira learned more about this era—the rich traditions, the value of loyalty, and the importance of honor. And in return, she shared her knowledge of strategy and technology, adapting her tactics to match the ways of the samurai. With each lesson, they forged a deep bond, turning their ragtag group into an unstoppable force.\n",
            "\n",
            "In the final battle against the tyrannical warlord seeking to dominate the land, Kira and Yumi led the Ronin with a blend of ancient wisdom and futuristic tactics. As they faced down their foes, Kira unleashed the full extent of her abilities—creating protective barriers and defensive measures that shimmered in the twilight. Together, they toppled the warlord's fortress, restoring hope to the people of the mountains.\n",
            "\n",
            "Victory echoed through the valleys. Yet, amidst the celebration, a longing tugged at Kira's heart. She knew her time in the past was fleeting. The crystalline data shard had driven her here, and it was time to find it again, to return to her own world and bring hope to a future that desperately needed it.\n",
            "\n",
            "As she prepared to say goodbye, Yumi clasped Kira's hands, her grip conveying both strength and understanding. \"You have shown us that the spirit of a warrior transcends time. Wherever you go, carry us in your heart.\"\n",
            "\n",
            "With a heavy heart, Kira activated the shard one last time. A brilliant portal opened before her, swirling with colors and whispers of time. She stepped forward, looking back to see Yumi and the Ronin standing proud against the horizon. In that moment, Kira understood that she was not just a cyber-warrior from the future; she was now a bridge between worlds, an unyielding force for justice throughout time itself.\n",
            "\n",
            "As the portal engulfed her, she felt the warmth of their spirits wrap around her, and Kira knew that the bond they had forged would live on, resilient and unbreakable, in the annals of history."
          ]
        }
      ]
    },
    {
      "cell_type": "markdown",
      "source": [
        "### ✅ **End AgentOps Session with Status**  \n",
        "\n",
        "\n",
        "\n",
        "\n",
        "\n",
        "\n"
      ],
      "metadata": {
        "id": "RXQefUGw4jw1"
      }
    },
    {
      "cell_type": "code",
      "source": [
        "agentops.end_session(end_state=\"Success\", end_state_reason=\"The story was generated successfully.\")\n"
      ],
      "metadata": {
        "colab": {
          "base_uri": "https://localhost:8080/"
        },
        "id": "h7ayrU7m1-Bo",
        "outputId": "efd3b900-7943-4236-e196-05002659e382"
      },
      "execution_count": null,
      "outputs": [
        {
          "output_type": "stream",
          "name": "stderr",
          "text": [
            "🖇 AgentOps: Session Stats - Duration: 29.5s | Cost: $0.00 | LLMs: 0 | Tools: 0 | Actions: 0 | Errors: 0\n",
            "🖇 AgentOps: \u001b[34mSession Replay: https://app.agentops.ai/drilldown?session_id=8e9ad429-f3fb-4127-8d23-41a6116df689\u001b[0m\n"
          ]
        }
      ]
    },
    {
      "cell_type": "code",
      "source": [
        "import agentops\n",
        "from agentops import track_agent\n",
        "from openai import OpenAI\n",
        "import os\n",
        "from dotenv import load_dotenv\n",
        "import logging\n",
        "from IPython.display import display, Markdown\n",
        "\n",
        "logging.basicConfig(\n",
        "    level=logging.DEBUG\n",
        ")"
      ],
      "metadata": {
        "id": "I79_Mrqn2F1f"
      },
      "execution_count": null,
      "outputs": []
    },
    {
      "cell_type": "code",
      "source": [
        "agentops.init(AGENTOPS_API_KEY, default_tags=[\"multi-agent-notebook\"])\n",
        "openai_client = OpenAI(api_key=OPENAI_API_KEY)"
      ],
      "metadata": {
        "colab": {
          "base_uri": "https://localhost:8080/"
        },
        "id": "UmmiBXMw3kyl",
        "outputId": "0adc1e6c-13ae-4156-d540-b3722ea046bc"
      },
      "execution_count": null,
      "outputs": [
        {
          "output_type": "stream",
          "name": "stderr",
          "text": [
            "🖇 AgentOps: AgentOps has already been initialized. If you are trying to start a session, call agentops.start_session() instead.\n"
          ]
        }
      ]
    },
    {
      "cell_type": "markdown",
      "source": [
        "### 🤖 **Multi-Agent Support in AgentOps**  \n",
        "\n",
        "\n",
        "\n",
        "\n",
        "\n",
        "\n"
      ],
      "metadata": {
        "id": "JU9QT-cE4lHS"
      }
    },
    {
      "cell_type": "code",
      "source": [
        "@track_agent(name=\"qa\")\n",
        "class QaAgent:\n",
        "    def completion(self, prompt: str):\n",
        "        res = openai_client.chat.completions.create(\n",
        "            model=\"gpt-4o\",\n",
        "            messages=[\n",
        "                {\n",
        "                    \"role\": \"system\",\n",
        "                    \"content\": \"You are a qa engineer and only output python code, no markdown tags.\",\n",
        "                },\n",
        "                {\"role\": \"user\", \"content\": prompt},\n",
        "            ],\n",
        "            temperature=0.5,\n",
        "        )\n",
        "        return res.choices[0].message.content\n",
        "\n",
        "\n",
        "@track_agent(name=\"engineer\")\n",
        "class EngineerAgent:\n",
        "    def completion(self, prompt: str):\n",
        "        res = openai_client.chat.completions.create(\n",
        "            model=\"gpt-3.5-turbo\",\n",
        "            messages=[\n",
        "                {\n",
        "                    \"role\": \"system\",\n",
        "                    \"content\": \"You are a software engineer and only output python code, no markdown tags.\",\n",
        "                },\n",
        "                {\"role\": \"user\", \"content\": prompt},\n",
        "            ],\n",
        "            temperature=0.5,\n",
        "        )\n",
        "        return res.choices[0].message.content"
      ],
      "metadata": {
        "id": "z4n2KgPu3qrv"
      },
      "execution_count": null,
      "outputs": []
    },
    {
      "cell_type": "markdown",
      "source": [
        "### 🏗️ **Initialize QA and Engineer Agents**  \n",
        "\n",
        "\n",
        "\n",
        "\n",
        "\n",
        "\n"
      ],
      "metadata": {
        "id": "g_fSfXSz90h6"
      }
    },
    {
      "cell_type": "code",
      "source": [
        "qa = QaAgent()\n",
        "engineer = EngineerAgent()"
      ],
      "metadata": {
        "id": "q64p3UI73v9d"
      },
      "execution_count": null,
      "outputs": []
    },
    {
      "cell_type": "markdown",
      "source": [
        "### 📝 **Generate Prime Number Test Function**  \n",
        "\n",
        "\n",
        "\n",
        "\n",
        "\n",
        "\n"
      ],
      "metadata": {
        "id": "r8YWNR7T97He"
      }
    },
    {
      "cell_type": "code",
      "source": [
        "generated_func = engineer.completion(\"python function to test prime number\")\n"
      ],
      "metadata": {
        "id": "uqylVuWt3xvt"
      },
      "execution_count": null,
      "outputs": []
    },
    {
      "cell_type": "code",
      "source": [
        "display(Markdown(\"```python\\n\" + generated_func + \"\\n```\"))\n"
      ],
      "metadata": {
        "colab": {
          "base_uri": "https://localhost:8080/",
          "height": 138
        },
        "id": "J6ItXqVD3zBe",
        "outputId": "de0be56b-fa8c-4a8d-811e-56d671c6efeb"
      },
      "execution_count": null,
      "outputs": [
        {
          "output_type": "display_data",
          "data": {
            "text/plain": [
              "<IPython.core.display.Markdown object>"
            ],
            "text/markdown": "```python\ndef is_prime(num):\n    if num < 2:\n        return False\n    for i in range(2, int(num ** 0.5) + 1):\n        if num % i == 0:\n            return False\n    return True\n```"
          },
          "metadata": {}
        }
      ]
    },
    {
      "cell_type": "code",
      "source": [
        "generated_test = qa.completion(\n",
        "    \"Write a python unit test that test the following function: \\n \" + generated_func\n",
        ")"
      ],
      "metadata": {
        "id": "DnTmarDa30NP"
      },
      "execution_count": null,
      "outputs": []
    },
    {
      "cell_type": "code",
      "source": [
        "display(Markdown(\"```python\\n\" + generated_test + \"\\n```\"))\n"
      ],
      "metadata": {
        "colab": {
          "base_uri": "https://localhost:8080/",
          "height": 468
        },
        "id": "-mZyYta8318h",
        "outputId": "8aa01467-23db-40d7-fe21-06677ae1da74"
      },
      "execution_count": null,
      "outputs": [
        {
          "output_type": "display_data",
          "data": {
            "text/plain": [
              "<IPython.core.display.Markdown object>"
            ],
            "text/markdown": "```python\nimport unittest\n\ndef is_prime(num):\n    if num < 2:\n        return False\n    for i in range(2, int(num ** 0.5) + 1):\n        if num % i == 0:\n            return False\n    return True\n\nclass TestIsPrime(unittest.TestCase):\n    \n    def test_is_prime(self):\n        self.assertFalse(is_prime(0))\n        self.assertFalse(is_prime(1))\n        self.assertTrue(is_prime(2))\n        self.assertTrue(is_prime(3))\n        self.assertFalse(is_prime(4))\n        self.assertTrue(is_prime(5))\n        self.assertFalse(is_prime(6))\n        self.assertTrue(is_prime(7))\n        self.assertFalse(is_prime(8))\n        self.assertTrue(is_prime(11))\n\nif __name__ == '__main__':\n    unittest.main()\n```"
          },
          "metadata": {}
        }
      ]
    },
    {
      "cell_type": "markdown",
      "source": [
        "###**Verifying Default Agent**"
      ],
      "metadata": {
        "id": "agkDxXsn4bbL"
      }
    },
    {
      "cell_type": "code",
      "source": [
        "res = openai_client.chat.completions.create(\n",
        "    model=\"gpt-3.5-turbo\",\n",
        "    messages=[\n",
        "        {\"role\": \"system\", \"content\": \"You are not a tracked agent\"},\n",
        "        {\"role\": \"user\", \"content\": \"Say hello\"},\n",
        "    ],\n",
        ")\n",
        "res.choices[0].message.content"
      ],
      "metadata": {
        "colab": {
          "base_uri": "https://localhost:8080/",
          "height": 36
        },
        "id": "TNkbFPBN33st",
        "outputId": "24654357-d665-4469-bbc0-52daa7b973f1"
      },
      "execution_count": null,
      "outputs": [
        {
          "output_type": "execute_result",
          "data": {
            "text/plain": [
              "'Hello! How can I assist you today?'"
            ],
            "application/vnd.google.colaboratory.intrinsic+json": {
              "type": "string"
            }
          },
          "metadata": {},
          "execution_count": 38
        }
      ]
    },
    {
      "cell_type": "markdown",
      "source": [
        "###  **Initialize Gemini Model with AgentOps**  \n",
        "\n",
        "\n",
        "\n",
        "\n",
        "\n",
        "\n"
      ],
      "metadata": {
        "id": "J2yVXy4G-A-a"
      }
    },
    {
      "cell_type": "code",
      "source": [
        "import google.generativeai as genai\n",
        "\n",
        "genai.configure(api_key=GEMINI_API_KEY)\n",
        "agentops.start_session(AGENTOPS_API_KEY)\n",
        "model = genai.GenerativeModel(\"gemini-1.5-flash\")"
      ],
      "metadata": {
        "colab": {
          "base_uri": "https://localhost:8080/"
        },
        "id": "B1oQZJT336Df",
        "outputId": "b7befdae-8407-4e48-fb33-b027b3c0cff7"
      },
      "execution_count": null,
      "outputs": [
        {
          "output_type": "stream",
          "name": "stderr",
          "text": [
            "🖇 AgentOps: \u001b[34mSession Replay: https://app.agentops.ai/drilldown?session_id=1ac72df3-ebe7-46cc-888c-1a5b36a421d7\u001b[0m\n"
          ]
        }
      ]
    },
    {
      "cell_type": "markdown",
      "source": [
        "### 🤖 **Test Synchronous Generation with Gemini**  \n",
        "\n",
        "\n",
        "\n",
        "\n",
        "\n",
        "\n"
      ],
      "metadata": {
        "id": "ed9lcQ2j-F21"
      }
    },
    {
      "cell_type": "code",
      "source": [
        "print(\"Testing synchronous generation:\")\n",
        "response = model.generate_content(\n",
        "    \"What are the three laws of robotics?\",\n",
        ")\n",
        "print(response.text)"
      ],
      "metadata": {
        "colab": {
          "base_uri": "https://localhost:8080/",
          "height": 138
        },
        "id": "UJz1yQnZ4tg7",
        "outputId": "b4c31626-7a49-4e21-b297-275c8680f16c"
      },
      "execution_count": null,
      "outputs": [
        {
          "output_type": "stream",
          "name": "stdout",
          "text": [
            "Testing synchronous generation:\n",
            "The Three Laws of Robotics, as conceived by Isaac Asimov, are:\n",
            "\n",
            "1. A robot may not injure a human being or, through inaction, allow a human being to come to harm.\n",
            "2. A robot must obey the orders given it by human beings except where such orders would conflict with the First Law.\n",
            "3. A robot must protect its own existence as long as such protection does not conflict with the First or Second Law.\n",
            "\n"
          ]
        }
      ]
    },
    {
      "cell_type": "code",
      "source": [
        "agentops.end_session(end_state=\"Success\")"
      ],
      "metadata": {
        "colab": {
          "base_uri": "https://localhost:8080/"
        },
        "id": "j6ptcKtu6Hm4",
        "outputId": "1ab7dae6-8155-4739-ee3c-7dece3a0cc4b"
      },
      "execution_count": null,
      "outputs": [
        {
          "output_type": "stream",
          "name": "stderr",
          "text": [
            "🖇 AgentOps: Session Stats - Duration: 6.9s | Cost: $0.00 | LLMs: 0 | Tools: 0 | Actions: 0 | Errors: 0\n",
            "🖇 AgentOps: \u001b[34mSession Replay: https://app.agentops.ai/drilldown?session_id=1ac72df3-ebe7-46cc-888c-1a5b36a421d7\u001b[0m\n"
          ]
        }
      ]
    }
  ]
}