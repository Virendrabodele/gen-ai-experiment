{
  "nbformat": 4,
  "nbformat_minor": 0,
  "metadata": {
    "colab": {
      "provenance": [],
      "gpuType": "T4"
    },
    "kernelspec": {
      "name": "python3",
      "display_name": "Python 3"
    },
    "language_info": {
      "name": "python"
    },
    "accelerator": "GPU"
  },
  "cells": [
    {
      "cell_type": "markdown",
      "source": [
        "<img src=\"https://drive.google.com/uc?export=view&id=1wYSMgJtARFdvTt5g7E20mE4NmwUFUuog\" width=\"200\">\n",
        "\n",
        "[![Build Fast with AI](https://img.shields.io/badge/BuildFastWithAI-GenAI%20Bootcamp-blue?style=for-the-badge&logo=artificial-intelligence)](https://www.buildfastwithai.com/genai-course)\n",
        "[![EduChain GitHub](https://img.shields.io/github/stars/satvik314/educhain?style=for-the-badge&logo=github&color=gold)](https://github.com/satvik314/educhain)\n",
        "\n",
        "[![Open In Colab](https://colab.research.google.com/assets/colab-badge.svg)](https://colab.research.google.com/drive/1KkazcuFd8MoKNUAG3hMsWtxcWQDdfJpk?usp=sharing)\n",
        "## Master Generative AI in 6 Weeks\n",
        "**What You'll Learn:**\n",
        "- Build with Latest LLMs\n",
        "- Create Custom AI Apps\n",
        "- Learn from Industry Experts\n",
        "- Join Innovation Community\n",
        "Transform your AI ideas into reality through hands-on projects and expert mentorship.\n",
        "[Start Your Journey](https://www.buildfastwithai.com/genai-course)\n",
        "*Empowering the Next Generation of AI Innovators"
      ],
      "metadata": {
        "id": "-2duc5kO0Jlm"
      }
    },
    {
      "cell_type": "markdown",
      "source": [
        "# 📝 Redis for Generative AI: High-Speed Data Management  \n",
        "\n",
        "Redis (Remote Dictionary Server) is a **blazing-fast, in-memory key-value store** that enhances Generative AI applications with **low-latency, high-performance data handling**. It is widely used for **caching, session storage, and real-time AI pipelines** to optimize model interactions.\n",
        "\n",
        "### ⚡ Key Features:\n",
        "\n",
        "🚀 **Ultra-Fast Performance**  \n",
        "   - In-memory operations provide sub-millisecond latency, ideal for AI inference and real-time chatbots.\n",
        "\n",
        "🔗 **Vector Search & Embeddings Storage**  \n",
        "   - Redis can store and index embeddings for **fast similarity search**, improving retrieval-augmented generation (RAG) systems.\n",
        "\n",
        "📌 **Persistent & Ephemeral Storage**  \n",
        "   - Allows **persistent storage for long-term memory** and **ephemeral caching** for temporary responses in AI conversations.\n",
        "\n",
        "⚙️ **Scalability & High Availability**  \n",
        "   - Supports **clustering and replication**, ensuring reliability for large-scale AI applications.\n",
        "\n",
        "🧠 **Real-Time Feature Store**  \n",
        "   - Helps AI models access **user context, historical data, and session state** instantly for personalized interactions.\n"
      ],
      "metadata": {
        "id": "07LBxNgT0Jbm"
      }
    },
    {
      "cell_type": "markdown",
      "source": [
        "###**Setup and Installation**"
      ],
      "metadata": {
        "id": "K9_td7cP0JYq"
      }
    },
    {
      "cell_type": "code",
      "source": [
        "!pip install redis"
      ],
      "metadata": {
        "id": "te9vcDlr6mn9"
      },
      "execution_count": null,
      "outputs": []
    },
    {
      "cell_type": "code",
      "source": [
        "from google.colab import userdata\n",
        "\n",
        "Redis_host=userdata.get('Redis_host')\n",
        "Redis_password=userdata.get('Redis_password')\n"
      ],
      "metadata": {
        "id": "UwgEmilb1cRS"
      },
      "execution_count": null,
      "outputs": []
    },
    {
      "cell_type": "markdown",
      "source": [
        "### **🔌 Setting Up Redis Connection**"
      ],
      "metadata": {
        "id": "c6OyBu8s1XNZ"
      }
    },
    {
      "cell_type": "code",
      "source": [
        "\n",
        "import redis\n",
        "\n",
        "redis_host = Redis_host\n",
        "redis_port = 17158\n",
        "redis_password = Redis_password\n",
        "\n",
        "\n",
        "redis_client = redis.Redis(host=redis_host, port=redis_port, password=redis_password, decode_responses=True)\n",
        "redis_client.ping()\n",
        "print(\"Connected to Redis successfully!\")"
      ],
      "metadata": {
        "colab": {
          "base_uri": "https://localhost:8080/"
        },
        "id": "zS9fqpCQ6oJt",
        "outputId": "b7a7a5e3-053e-4071-b270-05db9561872d"
      },
      "execution_count": null,
      "outputs": [
        {
          "output_type": "stream",
          "name": "stdout",
          "text": [
            "Connected to Redis successfully!\n"
          ]
        }
      ]
    },
    {
      "cell_type": "markdown",
      "source": [
        "### **💾 Storing and Retrieving User Context in Redis**\n",
        "\n",
        "\n",
        "\n",
        "\n",
        "\n",
        "\n"
      ],
      "metadata": {
        "id": "6r4cSx1D3HqG"
      }
    },
    {
      "cell_type": "code",
      "source": [
        "if redis_client:\n",
        "    key = \"user_context:123\"\n",
        "    value = {\"name\": \"Alice\", \"last_message\": \"Hello\"}\n",
        "    redis_client.hset(key, mapping=value)\n",
        "    print(f\"Stored data: {value} with key: {key}\")\n",
        "\n",
        "    retrieved_data = redis_client.hgetall(key)\n",
        "    print(f\"Retrieved data: {retrieved_data}\")\n",
        "else:\n",
        "    print(\"Redis client not initialized, skipping data operations.\")"
      ],
      "metadata": {
        "colab": {
          "base_uri": "https://localhost:8080/"
        },
        "id": "JCKo3ZI-_DV_",
        "outputId": "a5ecceac-3b15-4019-b361-c72f35f2f862"
      },
      "execution_count": null,
      "outputs": [
        {
          "output_type": "stream",
          "name": "stdout",
          "text": [
            "Stored data: {'name': 'Alice', 'last_message': 'Hello'} with key: user_context:123\n",
            "Retrieved data: {'name': 'Alice', 'last_message': 'Hello'}\n"
          ]
        }
      ]
    },
    {
      "cell_type": "markdown",
      "source": [
        "### **🔍 Checking Redis Connection Status**"
      ],
      "metadata": {
        "id": "Rtg9O6Hp3IOZ"
      }
    },
    {
      "cell_type": "code",
      "source": [
        "print(redis_client.ping())"
      ],
      "metadata": {
        "colab": {
          "base_uri": "https://localhost:8080/"
        },
        "id": "PrzImoRwHkHi",
        "outputId": "e6554684-4a7a-429a-812b-1617a05cb40b"
      },
      "execution_count": null,
      "outputs": [
        {
          "output_type": "stream",
          "name": "stdout",
          "text": [
            "True\n"
          ]
        }
      ]
    },
    {
      "cell_type": "markdown",
      "source": [
        "### **📝 Inserting Data into Redis**\n",
        "\n",
        "\n",
        "\n",
        "\n",
        "\n",
        "\n"
      ],
      "metadata": {
        "id": "21JP7ApJ3UV2"
      }
    },
    {
      "cell_type": "code",
      "source": [
        "redis_client.set(\"name\", \"Alice\")\n",
        "redis_client.set(\"age\", 25)\n",
        "\n",
        "print(\"Data inserted!\")"
      ],
      "metadata": {
        "colab": {
          "base_uri": "https://localhost:8080/"
        },
        "id": "tB0whYhkN87X",
        "outputId": "b34f55ed-c44d-47d7-cd7c-e6e5221a34cf"
      },
      "execution_count": null,
      "outputs": [
        {
          "output_type": "stream",
          "name": "stdout",
          "text": [
            "Data inserted!\n"
          ]
        }
      ]
    },
    {
      "cell_type": "markdown",
      "source": [
        "### **📥 Retrieving Data from Redis**\n",
        "\n",
        "\n",
        "\n",
        "\n",
        "\n",
        "\n"
      ],
      "metadata": {
        "id": "HjWgcaXD3Y8h"
      }
    },
    {
      "cell_type": "code",
      "source": [
        "name = redis_client.get(\"name\")\n",
        "age = redis_client.get(\"age\")\n",
        "\n",
        "print(f\"Name: {name}, Age: {age}\")"
      ],
      "metadata": {
        "colab": {
          "base_uri": "https://localhost:8080/"
        },
        "id": "T5eb5u_ZN-Dx",
        "outputId": "a8391f54-5004-4874-f557-b6c8ba0ffad8"
      },
      "execution_count": null,
      "outputs": [
        {
          "output_type": "stream",
          "name": "stdout",
          "text": [
            "Name: Alice, Age: 25\n"
          ]
        }
      ]
    },
    {
      "cell_type": "markdown",
      "source": [
        "### **🗑️ Deleting a Key in Redis**\n",
        "\n",
        "\n",
        "\n",
        "\n",
        "\n",
        "\n"
      ],
      "metadata": {
        "id": "eTokKw1u3d8-"
      }
    },
    {
      "cell_type": "code",
      "source": [
        "redis_client.delete(\"age\")\n",
        "\n",
        "print(\"Deleted Value\")"
      ],
      "metadata": {
        "colab": {
          "base_uri": "https://localhost:8080/"
        },
        "id": "tOiIx1onOVVt",
        "outputId": "1e06adf2-9a11-4c16-a12f-0ae0ef0d9a8e"
      },
      "execution_count": null,
      "outputs": [
        {
          "output_type": "stream",
          "name": "stdout",
          "text": [
            "Deleted Value\n"
          ]
        }
      ]
    },
    {
      "cell_type": "markdown",
      "source": [
        "### **📊 Creating a Vector Index in Redis**\n",
        "\n",
        "\n",
        "\n",
        "\n",
        "\n",
        "\n"
      ],
      "metadata": {
        "id": "ln386UXd3h0J"
      }
    },
    {
      "cell_type": "code",
      "source": [
        "from redis.commands.search.field import TagField, VectorField\n",
        "from redis.commands.search.indexDefinition import IndexDefinition, IndexType\n",
        "\n",
        "INDEX_NAME = \"vector_index\"\n",
        "\n",
        "try:\n",
        "    redis_client.ft(INDEX_NAME).dropindex(delete_documents=True)\n",
        "except:\n",
        "    pass\n",
        "\n",
        "schema = [\n",
        "    TagField(\"id\"),\n",
        "    VectorField(\"vector\", \"HNSW\", {\n",
        "        \"TYPE\": \"FLOAT32\",\n",
        "        \"DIM\": 128,\n",
        "        \"DISTANCE_METRIC\": \"COSINE\"\n",
        "    })\n",
        "]\n",
        "\n",
        "redis_client.ft(INDEX_NAME).create_index(fields=schema, definition=IndexDefinition(prefix=[\"vec:\"], index_type=IndexType.HASH))\n",
        "\n",
        "print(\"Vector index created successfully!\")"
      ],
      "metadata": {
        "colab": {
          "base_uri": "https://localhost:8080/"
        },
        "id": "VnF7dnXhIGLD",
        "outputId": "7eaeb07c-ab98-44a8-d367-265346969bd8"
      },
      "execution_count": null,
      "outputs": [
        {
          "output_type": "stream",
          "name": "stdout",
          "text": [
            "Vector index created successfully!\n"
          ]
        }
      ]
    },
    {
      "cell_type": "markdown",
      "source": [
        "### **📜 Listing Redis Search Indexes**\n",
        "\n",
        "\n",
        "\n",
        "\n",
        "\n",
        "\n"
      ],
      "metadata": {
        "id": "FHwmLoi-3nit"
      }
    },
    {
      "cell_type": "code",
      "source": [
        "print(redis_client.execute_command(\"FT._LIST\"))"
      ],
      "metadata": {
        "colab": {
          "base_uri": "https://localhost:8080/"
        },
        "id": "dtdva_VrH3rr",
        "outputId": "c17bf55a-d24d-4139-dfaa-7fa841b3bd61"
      },
      "execution_count": null,
      "outputs": [
        {
          "output_type": "stream",
          "name": "stdout",
          "text": [
            "['vector_index', 'movies_index']\n"
          ]
        }
      ]
    },
    {
      "cell_type": "markdown",
      "source": [
        "### **🛠️ Inserting Vectors into Redis**\n",
        "\n",
        "\n",
        "\n",
        "\n",
        "\n",
        "\n"
      ],
      "metadata": {
        "id": "1_MEbtAV3rEV"
      }
    },
    {
      "cell_type": "code",
      "source": [
        "import numpy as np\n",
        "\n",
        "def insert_vector(redis_client, id, vector):\n",
        "    key = f\"vec:{id}\"\n",
        "    redis_client.hset(key, mapping={\n",
        "        \"id\": id,\n",
        "        \"vector\": vector.tobytes()\n",
        "    })\n",
        "    print(f\"Inserted {key}\")\n",
        "\n",
        "for i in range(100):\n",
        "    vec = np.random.rand(128).astype(np.float32)\n",
        "    insert_vector(redis_client, f\"item_{i}\", vec)\n",
        "\n",
        "print(\"Inserted 100 vectors!\")"
      ],
      "metadata": {
        "id": "-MK7a5RpIm-w"
      },
      "execution_count": null,
      "outputs": []
    },
    {
      "cell_type": "markdown",
      "source": [
        "### **🔑 Retrieving Stored Vector Keys in Redis**\n",
        "\n",
        "\n",
        "\n",
        "\n",
        "\n",
        "\n",
        "\n"
      ],
      "metadata": {
        "id": "zG3Sxfbc4B3e"
      }
    },
    {
      "cell_type": "code",
      "source": [
        "keys = redis_client.keys(\"vec:*\")\n",
        "print(\"Stored Vector Keys:\", keys)"
      ],
      "metadata": {
        "colab": {
          "base_uri": "https://localhost:8080/"
        },
        "id": "-MeOMSZnH-Eq",
        "outputId": "a69f2bc5-2802-49d8-c0df-fb17e8243eb8"
      },
      "execution_count": null,
      "outputs": [
        {
          "output_type": "stream",
          "name": "stdout",
          "text": [
            "Stored Vector Keys: ['vec:item_92', 'vec:item_66', 'vec:item_17', 'vec:item_62', 'vec:item_68', 'vec:item_14', 'vec:item_39', 'vec:item_11', 'vec:item_24', 'vec:item_56', 'vec:item_94', 'vec:item_61', 'vec:item_60', 'vec:item_93', 'vec:item_65', 'vec:item_22', 'vec:item_21', 'vec:item_16', 'vec:item_8', 'vec:item_91', 'vec:item_80', 'vec:item_0', 'vec:item_37', 'vec:item_12', 'vec:item_45', 'vec:item_47', 'vec:item_41', 'vec:item_18', 'vec:item_31', 'vec:item_52', 'vec:item_71', 'vec:item_70', 'vec:item_6', 'vec:item_95', 'vec:item_10', 'vec:item_32', 'vec:item_97', 'vec:item_3', 'vec:item_50', 'vec:item_72', 'vec:item_36', 'vec:item_78', 'vec:item_89', 'vec:item_34', 'vec:item_29', 'vec:item_76', 'vec:item_86', 'vec:item_63', 'vec:item_7', 'vec:item_27', 'vec:item_43', 'vec:item_19', 'vec:item_54', 'vec:item_69', 'vec:item_55', 'vec:item_28', 'vec:item_51', 'vec:item_33', 'vec:item_13', 'vec:item_75', 'vec:item_87', 'vec:item_88', 'vec:item_30', 'vec:item_2', 'vec:item_5', 'vec:item_82', 'vec:item_64', 'vec:item_84', 'vec:item_1', 'vec:item_96', 'vec:item_9', 'vec:item_25', 'vec:item_26', 'vec:item_57', 'vec:item_74', 'vec:item_20', 'vec:item_85', 'vec:item_90', 'vec:item_46', 'vec:item_15', 'vec:item_42', 'vec:item_23', 'vec:item_35', 'vec:item_49', 'vec:item_98', 'vec:item_79', 'vec:item_59', 'vec:item_40', 'vec:item_58', 'vec:item_73', 'vec:item_81', 'vec:item_77', 'vec:item_53', 'vec:item_83', 'vec:item_44', 'vec:item_99', 'vec:item_67', 'vec:item_4', 'vec:item_38', 'vec:item_48']\n"
          ]
        }
      ]
    },
    {
      "cell_type": "markdown",
      "source": [
        "### **🔎 Performing KNN Search in Redis**"
      ],
      "metadata": {
        "id": "kdCidci24ImV"
      }
    },
    {
      "cell_type": "code",
      "source": [
        "from redis.commands.search.query import Query\n",
        "\n",
        "query_vector = np.random.rand(128).astype(np.float32)\n",
        "\n",
        "query = Query(\"*=>[KNN 5 @vector $vec AS score]\").return_fields(\"id\", \"score\").paging(0, 5).dialect(2)\n",
        "\n",
        "# Perform search\n",
        "try:\n",
        "    res = redis_client.ft(INDEX_NAME).search(query, query_params={\"vec\": query_vector.tobytes()})\n",
        "\n",
        "    if res.total == 0:\n",
        "        print(\"No results found! Try inserting more vectors.\")\n",
        "    else:\n",
        "        for doc in res.docs:\n",
        "            print(f\"ID: {doc.id}, Score: {doc.score}\")\n",
        "\n",
        "except Exception as e:\n",
        "    print(\"Search failed:\", e)"
      ],
      "metadata": {
        "colab": {
          "base_uri": "https://localhost:8080/"
        },
        "id": "qoCdvjfDI62c",
        "outputId": "adf29813-87d0-42b0-9f81-e01ed2a5fc7c"
      },
      "execution_count": null,
      "outputs": [
        {
          "output_type": "stream",
          "name": "stdout",
          "text": [
            "ID: vec:item_4, Score: 0.210143089294\n",
            "ID: vec:item_40, Score: 0.221729815006\n",
            "ID: vec:item_56, Score: 0.210548818111\n",
            "ID: vec:item_81, Score: 0.224302589893\n",
            "ID: vec:item_90, Score: 0.217894077301\n"
          ]
        }
      ]
    },
    {
      "cell_type": "markdown",
      "source": [
        "### **🎬 Creating a Movie Index in Redis**\n",
        "\n",
        "\n",
        "\n",
        "\n",
        "\n",
        "\n"
      ],
      "metadata": {
        "id": "ERdYn1Py4MsS"
      }
    },
    {
      "cell_type": "code",
      "source": [
        "from redis.commands.search.field import TagField, VectorField\n",
        "from redis.commands.search.indexDefinition import IndexDefinition, IndexType\n",
        "\n",
        "INDEX_NAME = \"movies_index\"\n",
        "\n",
        "try:\n",
        "    redis_client.ft(INDEX_NAME).dropindex(delete_documents=True)\n",
        "except:\n",
        "    pass\n",
        "\n",
        "schema = [\n",
        "    TagField(\"title\"),\n",
        "    VectorField(\"vector\", \"HNSW\", {\n",
        "        \"TYPE\": \"FLOAT32\",\n",
        "        \"DIM\": 5,\n",
        "        \"DISTANCE_METRIC\": \"COSINE\"\n",
        "    })\n",
        "]\n",
        "\n",
        "redis_client.ft(INDEX_NAME).create_index(fields=schema, definition=IndexDefinition(prefix=[\"movie:\"], index_type=IndexType.HASH))\n",
        "\n",
        "print(\"Movie index created!\")"
      ],
      "metadata": {
        "colab": {
          "base_uri": "https://localhost:8080/"
        },
        "id": "KqolNBQjJz8q",
        "outputId": "78926ca5-ef5c-4fad-cafe-f5ffe06e07e1"
      },
      "execution_count": null,
      "outputs": [
        {
          "output_type": "stream",
          "name": "stdout",
          "text": [
            "Movie index created!\n"
          ]
        }
      ]
    },
    {
      "cell_type": "markdown",
      "source": [
        "### **🍿 Inserting Movies into Redis**\n",
        "\n",
        "\n",
        "\n",
        "\n",
        "\n",
        "\n"
      ],
      "metadata": {
        "id": "toZIteEu5hgo"
      }
    },
    {
      "cell_type": "code",
      "source": [
        "\n",
        "import numpy as np\n",
        "\n",
        "movies = {\n",
        "    \"Inception\": np.array([0.8, 0.1, 0.2, 0.9, 0.5], dtype=np.float32),\n",
        "    \"Interstellar\": np.array([0.9, 0.2, 0.1, 0.8, 0.6], dtype=np.float32),\n",
        "    \"Titanic\": np.array([0.1, 0.9, 0.8, 0.2, 0.3], dtype=np.float32),\n",
        "    \"Avengers\": np.array([0.7, 0.2, 0.1, 0.6, 0.9], dtype=np.float32),\n",
        "    \"The Matrix\": np.array([0.9, 0.1, 0.3, 0.7, 0.4], dtype=np.float32),\n",
        "}\n",
        "\n",
        "for title, vector in movies.items():\n",
        "    key = f\"movie:{title}\"\n",
        "    redis_client.hset(key, mapping={\n",
        "        \"title\": title,\n",
        "        \"vector\": vector.tobytes()\n",
        "    })\n",
        "\n",
        "print(\"Movies inserted into Redis!\")"
      ],
      "metadata": {
        "colab": {
          "base_uri": "https://localhost:8080/"
        },
        "id": "CtzWKUi7K4tg",
        "outputId": "c1430711-0cc4-44ed-9f98-ff4e166019e4"
      },
      "execution_count": null,
      "outputs": [
        {
          "output_type": "stream",
          "name": "stdout",
          "text": [
            "Movies inserted into Redis!\n"
          ]
        }
      ]
    },
    {
      "cell_type": "markdown",
      "source": [
        "### **🎥 Performing Movie Recommendation Search in Redis**\n",
        "\n",
        "\n",
        "\n",
        "\n",
        "\n",
        "\n"
      ],
      "metadata": {
        "id": "jNHectk_5k38"
      }
    },
    {
      "cell_type": "code",
      "source": [
        "\n",
        "from redis.commands.search.query import Query\n",
        "\n",
        "query_vector = movies[\"Inception\"]\n",
        "\n",
        "query = Query(\"*=>[KNN 3 @vector $vec AS score]\").return_fields(\"title\", \"score\").paging(0, 3).dialect(2)\n",
        "\n",
        "res = redis_client.ft(INDEX_NAME).search(query, query_params={\"vec\": query_vector.tobytes()})\n",
        "\n",
        "for doc in res.docs:\n",
        "    print(f\"Movie: {doc.title}, Score: {doc.score}\")"
      ],
      "metadata": {
        "colab": {
          "base_uri": "https://localhost:8080/"
        },
        "id": "jiwKndtsK9ee",
        "outputId": "c4e3584c-962d-4ddd-f26d-0c75d4561d6f"
      },
      "execution_count": null,
      "outputs": [
        {
          "output_type": "stream",
          "name": "stdout",
          "text": [
            "Movie: Inception, Score: -1.19209289551e-07\n",
            "Movie: Interstellar, Score: 0.0133922696114\n",
            "Movie: The Matrix, Score: 0.0195313096046\n"
          ]
        }
      ]
    },
    {
      "cell_type": "code",
      "source": [
        "import google.generativeai as genai\n",
        "from google.colab import userdata\n",
        "\n",
        "\n",
        "genai.configure(api_key=userdata.get('GOOGLE_API_KEY'))"
      ],
      "metadata": {
        "id": "Yws1oZFQP1Or"
      },
      "execution_count": null,
      "outputs": []
    },
    {
      "cell_type": "markdown",
      "source": [
        "### **💬 Storing Chat Messages in Redis**\n",
        "\n",
        "\n",
        "\n",
        "\n",
        "\n",
        "\n"
      ],
      "metadata": {
        "id": "UtxyEdaL5slz"
      }
    },
    {
      "cell_type": "code",
      "source": [
        "\n",
        "def store_message(session_id, role, message):\n",
        "    \"\"\"\n",
        "    Stores messages in Redis under a session-specific key.\n",
        "    session_id: Unique ID for the chat session\n",
        "    role: \"user\" or \"assistant\"\n",
        "    message: Chat message to store\n",
        "    \"\"\"\n",
        "    key = f\"chat:{session_id}\"\n",
        "    redis_client.rpush(key, f\"{role}: {message}\")"
      ],
      "metadata": {
        "id": "CnmNSJK_Q87J"
      },
      "execution_count": null,
      "outputs": []
    },
    {
      "cell_type": "markdown",
      "source": [
        "### **📜 Retrieving Chat History from Redis**\n",
        "\n",
        "\n",
        "\n",
        "\n",
        "\n",
        "\n"
      ],
      "metadata": {
        "id": "ANrqc2aM5toU"
      }
    },
    {
      "cell_type": "code",
      "source": [
        "def get_chat_history(session_id, last_n=5):\n",
        "    \"\"\"\n",
        "    Retrieves the last `n` messages from chat history.\n",
        "    session_id: Unique ID for the chat session\n",
        "    last_n: Number of messages to retrieve\n",
        "    \"\"\"\n",
        "    key = f\"chat:{session_id}\"\n",
        "    return redis_client.lrange(key, -last_n, -1)"
      ],
      "metadata": {
        "id": "5mo_RGLWRGl_"
      },
      "execution_count": null,
      "outputs": []
    },
    {
      "cell_type": "markdown",
      "source": [
        "### **🤖 Building a Chatbot with Redis and LLM**\n",
        "\n",
        "\n",
        "\n",
        "\n",
        "\n",
        "\n"
      ],
      "metadata": {
        "id": "BnmEhdCy5zqi"
      }
    },
    {
      "cell_type": "code",
      "source": [
        "def chat_with_llm(session_id):\n",
        "    \"\"\"\n",
        "    Runs an interactive chatbot loop using Redis for history.\n",
        "    \"\"\"\n",
        "    print(\"🤖 AI Chatbot: Type 'exit' to end the conversation.\")\n",
        "\n",
        "    while True:\n",
        "        user_message = input(\"You: \").strip()\n",
        "        if user_message.lower() == \"exit\":\n",
        "            print(\"Chat ended. Goodbye!\")\n",
        "            break\n",
        "\n",
        "        store_message(session_id, \"user\", user_message)\n",
        "\n",
        "        history = get_chat_history(session_id)\n",
        "\n",
        "        context = \"\\n\".join(history) + \"\\nAssistant:\"\n",
        "\n",
        "        model = genai.GenerativeModel(\"gemini-pro\")\n",
        "        response = model.generate_content(context)\n",
        "\n",
        "        ai_response = response.text.strip()\n",
        "        store_message(session_id, \"assistant\", ai_response)\n",
        "\n",
        "        print(f\"🤖 AI: {ai_response}\\n\")\n",
        "\n",
        "chat_with_llm(\"user123\")"
      ],
      "metadata": {
        "id": "VeYbpsKLRHPj"
      },
      "execution_count": null,
      "outputs": []
    },
    {
      "cell_type": "markdown",
      "source": [
        "### **🧹 Clearing Chat History in Redis**\n",
        "\n",
        "\n",
        "\n",
        "\n",
        "\n",
        "\n"
      ],
      "metadata": {
        "id": "DN3D9UdC53RC"
      }
    },
    {
      "cell_type": "code",
      "source": [
        "def clear_chat_history(session_id):\n",
        "    redis_client.delete(f\"chat:{session_id}\")\n",
        "    print(\"Chat history cleared!\")\n",
        "\n",
        "clear_chat_history(\"user123\")"
      ],
      "metadata": {
        "colab": {
          "base_uri": "https://localhost:8080/"
        },
        "id": "NbTgmpY6RKDt",
        "outputId": "df9a12ae-663e-46bc-90f4-2b8e8aff5619"
      },
      "execution_count": null,
      "outputs": [
        {
          "output_type": "stream",
          "name": "stdout",
          "text": [
            "Chat history cleared!\n"
          ]
        }
      ]
    }
  ]
}