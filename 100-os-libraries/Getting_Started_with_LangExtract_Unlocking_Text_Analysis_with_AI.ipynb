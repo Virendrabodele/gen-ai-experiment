{
  "nbformat": 4,
  "nbformat_minor": 0,
  "metadata": {
    "colab": {
      "provenance": []
    },
    "kernelspec": {
      "name": "python3",
      "display_name": "Python 3"
    },
    "language_info": {
      "name": "python"
    }
  },
  "cells": [
    {
      "cell_type": "markdown",
      "source": [
        "<img src=\"https://drive.google.com/uc?export=view&id=1wYSMgJtARFdvTt5g7E20mE4NmwUFUuog\" width=\"200\">\n",
        "\n",
        "[![Gen AI Experiments](https://img.shields.io/badge/Gen%20AI%20Experiments-GenAI%20Bootcamp-blue?style=for-the-badge&logo=artificial-intelligence)](https://github.com/buildfastwithai/gen-ai-experiments)\n",
        "[![Gen AI Experiments GitHub](https://img.shields.io/github/stars/buildfastwithai/gen-ai-experiments?style=for-the-badge&logo=github&color=gold)](http://github.com/buildfastwithai/gen-ai-experiments)\n",
        "\n",
        "[![Open In Colab](https://colab.research.google.com/assets/colab-badge.svg)](https://colab.research.google.com/drive/1MGi72aFeRsmgI717Fl_YqApposi4wz3X?usp=sharing)\n",
        "\n",
        "\n",
        "\n",
        "\n"
      ],
      "metadata": {
        "id": "NuE16dyTWFcw"
      }
    },
    {
      "cell_type": "markdown",
      "source": [
        "## Master Generative AI in 8 Weeks\n",
        "**What You'll Learn:**\n",
        "- Master cutting-edge AI tools & frameworks\n",
        "- 6 weeks of hands-on, project-based learning\n",
        "- Weekly live mentorship sessions\n",
        "\n",
        "[Start Your Journey](https://www.buildfastwithai.com/genai-course)\n"
      ],
      "metadata": {
        "id": "TMAnt1OXWIKw"
      }
    },
    {
      "cell_type": "markdown",
      "source": [
        "#Getting Started with LangExtract: Unlocking Text Analysis with AI"
      ],
      "metadata": {
        "id": "mfrOMXU2yjlP"
      }
    },
    {
      "cell_type": "markdown",
      "source": [
        "###install requirements"
      ],
      "metadata": {
        "id": "y50PMGWMKwyD"
      }
    },
    {
      "cell_type": "code",
      "execution_count": null,
      "metadata": {
        "id": "wrRxH-FSiOuT",
        "colab": {
          "base_uri": "https://localhost:8080/"
        },
        "outputId": "962f4c8b-cc73-4b32-aa90-0a5b8731f31e"
      },
      "outputs": [
        {
          "output_type": "stream",
          "name": "stdout",
          "text": [
            "\u001b[?25l   \u001b[90m━━━━━━━━━━━━━━━━━━━━━━━━━━━━━━━━━━━━━━━━\u001b[0m \u001b[32m0.0/62.4 kB\u001b[0m \u001b[31m?\u001b[0m eta \u001b[36m-:--:--\u001b[0m\r\u001b[2K   \u001b[90m━━━━━━━━━━━━━━━━━━━━━━━━━━━━━━━━━━━━━━━━\u001b[0m \u001b[32m62.4/62.4 kB\u001b[0m \u001b[31m4.3 MB/s\u001b[0m eta \u001b[36m0:00:00\u001b[0m\n",
            "\u001b[?25h\u001b[?25l   \u001b[90m━━━━━━━━━━━━━━━━━━━━━━━━━━━━━━━━━━━━━━━━\u001b[0m \u001b[32m0.0/76.7 kB\u001b[0m \u001b[31m?\u001b[0m eta \u001b[36m-:--:--\u001b[0m\r\u001b[2K   \u001b[90m━━━━━━━━━━━━━━━━━━━━━━━━━━━━━━━━━━━━━━━━\u001b[0m \u001b[32m76.7/76.7 kB\u001b[0m \u001b[31m2.6 MB/s\u001b[0m eta \u001b[36m0:00:00\u001b[0m\n",
            "\u001b[?25h"
          ]
        }
      ],
      "source": [
        "!pip -q install langextract"
      ]
    },
    {
      "cell_type": "markdown",
      "source": [
        "###import API Keys"
      ],
      "metadata": {
        "id": "ff5iLI4kK3Jk"
      }
    },
    {
      "cell_type": "code",
      "source": [
        "import os\n",
        "from google.colab import userdata\n",
        "\n",
        "os.environ[\"LANGEXTRACT_API_KEY\"] = userdata.get('GOOGLE_API_KEY')\n",
        "os.environ[\"OPENAI_API_KEY\"] = userdata.get('OPENAI_API_KEY')"
      ],
      "metadata": {
        "id": "r31CsYKoTYJ1"
      },
      "execution_count": null,
      "outputs": []
    },
    {
      "cell_type": "markdown",
      "source": [
        "###Define Your Extraction Task\n",
        "First, create a prompt that clearly describes what you want to extract. Then, provide a high-quality example to guide the model."
      ],
      "metadata": {
        "id": "hLX3HEdYLCv9"
      }
    },
    {
      "cell_type": "code",
      "source": [
        "import textwrap\n",
        "import langextract as lx\n",
        "\n",
        "# 1. Define a concise prompt\n",
        "prompt = textwrap.dedent(\"\"\"\\\n",
        "Extract characters, emotions, and relationships in order of appearance.\n",
        "Use exact text for extractions. Do not paraphrase or overlap entities.\n",
        "Provide meaningful attributes for each entity to add context.\"\"\")\n",
        "\n",
        "# 2. Provide a high-quality example to guide the model\n",
        "examples = [\n",
        "    lx.data.ExampleData(\n",
        "        text=(\n",
        "            \"ROMEO. But soft! What light through yonder window breaks? It is\"\n",
        "            \" the east, and Juliet is the sun.\"\n",
        "        ),\n",
        "        extractions=[\n",
        "            lx.data.Extraction(\n",
        "                extraction_class=\"character\",\n",
        "                extraction_text=\"ROMEO\",\n",
        "                attributes={\"emotional_state\": \"wonder\"},\n",
        "            ),\n",
        "            lx.data.Extraction(\n",
        "                extraction_class=\"emotion\",\n",
        "                extraction_text=\"But soft!\",\n",
        "                attributes={\"feeling\": \"gentle awe\"},\n",
        "            ),\n",
        "            lx.data.Extraction(\n",
        "                extraction_class=\"relationship\",\n",
        "                extraction_text=\"Juliet is the sun\",\n",
        "                attributes={\"type\": \"metaphor\"},\n",
        "            ),\n",
        "        ],\n",
        "    )\n",
        "]"
      ],
      "metadata": {
        "id": "DbvExE2wibg5"
      },
      "execution_count": null,
      "outputs": []
    },
    {
      "cell_type": "markdown",
      "source": [
        "###Run the Extraction\n",
        "Provide your input text and the prompt materials to the lx.extract function.\n",
        "\n"
      ],
      "metadata": {
        "id": "oy6gm0B6LH9m"
      }
    },
    {
      "cell_type": "code",
      "source": [
        "# 3. Run the extraction on your input text\n",
        "input_text = (\n",
        "    \"Lady Juliet gazed longingly at the stars, her heart aching for Romeo\"\n",
        ")\n",
        "result = lx.extract(\n",
        "    text_or_documents=input_text,\n",
        "    prompt_description=prompt,\n",
        "    examples=examples,\n",
        "    model_id=\"gemini-2.5-pro\",\n",
        ")"
      ],
      "metadata": {
        "colab": {
          "base_uri": "https://localhost:8080/"
        },
        "id": "SGLLaKqqTxtI",
        "outputId": "596462bb-640e-433b-8487-bb862e1bc51c"
      },
      "execution_count": null,
      "outputs": [
        {
          "output_type": "stream",
          "name": "stderr",
          "text": [
            "\u001b[94m\u001b[1mLangExtract\u001b[0m: model=\u001b[92mgemini-2.5-pro\u001b[0m, current=\u001b[92m68\u001b[0m chars, processed=\u001b[92m68\u001b[0m chars:  [00:12]"
          ]
        },
        {
          "output_type": "stream",
          "name": "stdout",
          "text": [
            "\u001b[92m✓\u001b[0m Extraction processing complete\n",
            "\u001b[92m✓\u001b[0m Extracted \u001b[1m4\u001b[0m entities (\u001b[1m2\u001b[0m unique types)\n",
            "  \u001b[96m•\u001b[0m Time: \u001b[1m12.94s\u001b[0m\n",
            "  \u001b[96m•\u001b[0m Speed: \u001b[1m5\u001b[0m chars/sec\n",
            "  \u001b[96m•\u001b[0m Chunks: \u001b[1m1\u001b[0m\n"
          ]
        },
        {
          "output_type": "stream",
          "name": "stderr",
          "text": [
            "\n"
          ]
        }
      ]
    },
    {
      "cell_type": "code",
      "source": [
        "result"
      ],
      "metadata": {
        "colab": {
          "base_uri": "https://localhost:8080/"
        },
        "id": "BtRE_FFoLS4i",
        "outputId": "713ba39a-fbca-40dd-baec-93fb09cfa035"
      },
      "execution_count": null,
      "outputs": [
        {
          "output_type": "execute_result",
          "data": {
            "text/plain": [
              "AnnotatedDocument(extractions=[Extraction(extraction_class='character', extraction_text='Lady Juliet', char_interval=CharInterval(start_pos=0, end_pos=11), alignment_status=<AlignmentStatus.MATCH_EXACT: 'match_exact'>, extraction_index=1, group_index=0, description=None, attributes={'emotional_state': 'longing'}), Extraction(extraction_class='emotion', extraction_text='gazed longingly', char_interval=CharInterval(start_pos=12, end_pos=27), alignment_status=<AlignmentStatus.MATCH_EXACT: 'match_exact'>, extraction_index=2, group_index=1, description=None, attributes={'feeling': 'yearning'}), Extraction(extraction_class='emotion', extraction_text='heart aching', char_interval=CharInterval(start_pos=46, end_pos=58), alignment_status=<AlignmentStatus.MATCH_EXACT: 'match_exact'>, extraction_index=3, group_index=2, description=None, attributes={'feeling': 'sorrow'}), Extraction(extraction_class='character', extraction_text='Romeo', char_interval=CharInterval(start_pos=63, end_pos=68), alignment_status=<AlignmentStatus.MATCH_EXACT: 'match_exact'>, extraction_index=4, group_index=3, description=None, attributes={'emotional_state': 'object of affection'})], text='Lady Juliet gazed longingly at the stars, her heart aching for Romeo')"
            ]
          },
          "metadata": {},
          "execution_count": 21
        }
      ]
    },
    {
      "cell_type": "markdown",
      "source": [
        "###Visualize the Results\n"
      ],
      "metadata": {
        "id": "eSM56XqJLVjo"
      }
    },
    {
      "cell_type": "code",
      "source": [
        "# Save the results to a JSONL file\n",
        "lx.io.save_annotated_documents([result], output_name=\"extraction_results.jsonl\", output_dir=\".\")\n",
        "\n",
        "# visualize returns an IPython HTML object\n",
        "html_object = lx.visualize(\"extraction_results.jsonl\")\n",
        "\n",
        "# extract the raw HTML string\n",
        "html_string = html_object.data  # Not str(html_object), but .data\n",
        "\n",
        "# Get HTML as string\n",
        "html_string = html_object.data\n",
        "\n",
        "# Inject custom CSS for better contrast\n",
        "custom_css = \"\"\"\n",
        "<style>\n",
        "body {\n",
        "    background-color: white !important;\n",
        "    color: black !important;\n",
        "}\n",
        ".entity.character {\n",
        "    background-color: #DDEEFF !important;\n",
        "    color: black !important;\n",
        "}\n",
        ".entity.emotion {\n",
        "    background-color: #C0F5C0 !important;\n",
        "    color: black !important;\n",
        "}\n",
        ".entity.relationship {\n",
        "    background-color: #FFEDB3 !important;\n",
        "    color: black !important;\n",
        "}\n",
        "</style>\n",
        "\"\"\"\n",
        "\n",
        "# Prepend the CSS to the HTML string\n",
        "patched_html = custom_css + html_string\n",
        "\n",
        "# Save patched HTML\n",
        "with open(\"visualization.html\", \"w\") as f:\n",
        "    f.write(patched_html)\n",
        "\n",
        "# Display\n",
        "from IPython.display import HTML\n",
        "HTML(patched_html)"
      ],
      "metadata": {
        "colab": {
          "base_uri": "https://localhost:8080/",
          "height": 439
        },
        "id": "2AaBzE9mOUy0",
        "outputId": "59345978-fcfc-4d03-9483-e961cccc7bc8"
      },
      "execution_count": null,
      "outputs": [
        {
          "output_type": "stream",
          "name": "stderr",
          "text": [
            "\u001b[94m\u001b[1mLangExtract\u001b[0m: Saving to \u001b[92mextraction_results.jsonl\u001b[0m: 1 docs [00:00, 979.06 docs/s]"
          ]
        },
        {
          "output_type": "stream",
          "name": "stdout",
          "text": [
            "\u001b[92m✓\u001b[0m Saved \u001b[1m1\u001b[0m documents to \u001b[92mextraction_results.jsonl\u001b[0m\n"
          ]
        },
        {
          "output_type": "stream",
          "name": "stderr",
          "text": [
            "\n",
            "\u001b[94m\u001b[1mLangExtract\u001b[0m: Loading \u001b[92mextraction_results.jsonl\u001b[0m: 100%|██████████| 1.17k/1.17k [00:00<00:00, 4.24MB/s]"
          ]
        },
        {
          "output_type": "stream",
          "name": "stdout",
          "text": [
            "\u001b[92m✓\u001b[0m Loaded \u001b[1m1\u001b[0m documents from \u001b[92mextraction_results.jsonl\u001b[0m\n"
          ]
        },
        {
          "output_type": "stream",
          "name": "stderr",
          "text": [
            "\n"
          ]
        },
        {
          "output_type": "execute_result",
          "data": {
            "text/plain": [
              "<IPython.core.display.HTML object>"
            ],
            "text/html": [
              "\n",
              "<style>\n",
              "body {\n",
              "    background-color: white !important;\n",
              "    color: black !important;\n",
              "}\n",
              ".entity.character {\n",
              "    background-color: #DDEEFF !important;\n",
              "    color: black !important;\n",
              "}\n",
              ".entity.emotion {\n",
              "    background-color: #C0F5C0 !important;\n",
              "    color: black !important;\n",
              "}\n",
              ".entity.relationship {\n",
              "    background-color: #FFEDB3 !important;\n",
              "    color: black !important;\n",
              "}\n",
              "</style>\n",
              "<style>\n",
              ".lx-highlight { position: relative; border-radius:3px; padding:1px 2px;}\n",
              ".lx-highlight .lx-tooltip {\n",
              "  visibility: hidden;\n",
              "  opacity: 0;\n",
              "  transition: opacity 0.2s ease-in-out;\n",
              "  background: #333;\n",
              "  color: #fff;\n",
              "  text-align: left;\n",
              "  border-radius: 4px;\n",
              "  padding: 6px 8px;\n",
              "  position: absolute;\n",
              "  z-index: 1000;\n",
              "  bottom: 125%;\n",
              "  left: 50%;\n",
              "  transform: translateX(-50%);\n",
              "  font-size: 12px;\n",
              "  max-width: 240px;\n",
              "  white-space: normal;\n",
              "  box-shadow: 0 2px 6px rgba(0,0,0,0.3);\n",
              "}\n",
              ".lx-highlight:hover .lx-tooltip { visibility: visible; opacity:1; }\n",
              ".lx-animated-wrapper { max-width: 100%; font-family: Arial, sans-serif; }\n",
              ".lx-controls {\n",
              "  background: #fafafa; border: 1px solid #90caf9; border-radius: 8px;\n",
              "  padding: 12px; margin-bottom: 16px;\n",
              "}\n",
              ".lx-button-row {\n",
              "  display: flex; justify-content: center; gap: 8px; margin-bottom: 12px;\n",
              "}\n",
              ".lx-control-btn {\n",
              "  background: #4285f4; color: white; border: none; border-radius: 4px;\n",
              "  padding: 8px 16px; cursor: pointer; font-size: 13px; font-weight: 500;\n",
              "  transition: background-color 0.2s;\n",
              "}\n",
              ".lx-control-btn:hover { background: #3367d6; }\n",
              ".lx-progress-container {\n",
              "  margin-bottom: 8px;\n",
              "}\n",
              ".lx-progress-slider {\n",
              "  width: 100%; margin: 0; appearance: none; height: 6px;\n",
              "  background: #ddd; border-radius: 3px; outline: none;\n",
              "}\n",
              ".lx-progress-slider::-webkit-slider-thumb {\n",
              "  appearance: none; width: 18px; height: 18px; background: #4285f4;\n",
              "  border-radius: 50%; cursor: pointer;\n",
              "}\n",
              ".lx-progress-slider::-moz-range-thumb {\n",
              "  width: 18px; height: 18px; background: #4285f4; border-radius: 50%;\n",
              "  cursor: pointer; border: none;\n",
              "}\n",
              ".lx-status-text {\n",
              "  text-align: center; font-size: 12px; color: #666; margin-top: 4px;\n",
              "}\n",
              ".lx-text-window {\n",
              "  font-family: monospace; white-space: pre-wrap; border: 1px solid #90caf9;\n",
              "  padding: 12px; max-height: 260px; overflow-y: auto; margin-bottom: 12px;\n",
              "  line-height: 1.6;\n",
              "}\n",
              ".lx-attributes-panel {\n",
              "  background: #fafafa; border: 1px solid #90caf9; border-radius: 6px;\n",
              "  padding: 8px 10px; margin-top: 8px; font-size: 13px;\n",
              "}\n",
              ".lx-current-highlight {\n",
              "  border-bottom: 4px solid #ff4444;\n",
              "  font-weight: bold;\n",
              "  animation: lx-pulse 1s ease-in-out;\n",
              "}\n",
              "@keyframes lx-pulse {\n",
              "  0% { text-decoration-color: #ff4444; }\n",
              "  50% { text-decoration-color: #ff0000; }\n",
              "  100% { text-decoration-color: #ff4444; }\n",
              "}\n",
              ".lx-legend {\n",
              "  font-size: 12px; margin-bottom: 8px;\n",
              "  padding-bottom: 8px; border-bottom: 1px solid #e0e0e0;\n",
              "}\n",
              ".lx-label {\n",
              "  display: inline-block;\n",
              "  padding: 2px 4px;\n",
              "  border-radius: 3px;\n",
              "  margin-right: 4px;\n",
              "  color: #000;\n",
              "}\n",
              ".lx-attr-key {\n",
              "  font-weight: 600;\n",
              "  color: #1565c0;\n",
              "  letter-spacing: 0.3px;\n",
              "}\n",
              ".lx-attr-value {\n",
              "  font-weight: 400;\n",
              "  opacity: 0.85;\n",
              "  letter-spacing: 0.2px;\n",
              "}\n",
              "\n",
              "/* Add optimizations with larger fonts and better readability for GIFs */\n",
              ".lx-gif-optimized .lx-text-window { font-size: 16px; line-height: 1.8; }\n",
              ".lx-gif-optimized .lx-attributes-panel { font-size: 15px; }\n",
              ".lx-gif-optimized .lx-current-highlight { text-decoration-thickness: 4px; }\n",
              "</style>\n",
              "<div class=\"lx-animated-wrapper lx-gif-optimized\">\n",
              "  <div class=\"lx-attributes-panel\">\n",
              "    <div class=\"lx-legend\">Highlights Legend: <span class=\"lx-label\" style=\"background-color:#D2E3FC;\">character</span> <span class=\"lx-label\" style=\"background-color:#C8E6C9;\">emotion</span></div>\n",
              "    <div id=\"attributesContainer\"></div>\n",
              "  </div>\n",
              "  <div class=\"lx-text-window\" id=\"textWindow\">\n",
              "    <span class=\"lx-highlight lx-current-highlight\" data-idx=\"0\" style=\"background-color:#D2E3FC;\">Lady Juliet</span> <span class=\"lx-highlight\" data-idx=\"1\" style=\"background-color:#C8E6C9;\">gazed longingly</span> at the stars, her <span class=\"lx-highlight\" data-idx=\"2\" style=\"background-color:#C8E6C9;\">heart aching</span> for <span class=\"lx-highlight\" data-idx=\"3\" style=\"background-color:#D2E3FC;\">Romeo</span>\n",
              "  </div>\n",
              "  <div class=\"lx-controls\">\n",
              "    <div class=\"lx-button-row\">\n",
              "      <button class=\"lx-control-btn\" onclick=\"playPause()\">▶️ Play</button>\n",
              "      <button class=\"lx-control-btn\" onclick=\"prevExtraction()\">⏮ Previous</button>\n",
              "      <button class=\"lx-control-btn\" onclick=\"nextExtraction()\">⏭ Next</button>\n",
              "    </div>\n",
              "    <div class=\"lx-progress-container\">\n",
              "      <input type=\"range\" id=\"progressSlider\" class=\"lx-progress-slider\"\n",
              "             min=\"0\" max=\"3\" value=\"0\"\n",
              "             onchange=\"jumpToExtraction(this.value)\">\n",
              "    </div>\n",
              "    <div class=\"lx-status-text\">\n",
              "      Entity <span id=\"entityInfo\">1/4</span> |\n",
              "      Pos <span id=\"posInfo\">[0-11]</span>\n",
              "    </div>\n",
              "  </div>\n",
              "</div>\n",
              "\n",
              "<script>\n",
              "  (function() {\n",
              "    const extractions = [{\"index\": 0, \"class\": \"character\", \"text\": \"Lady Juliet\", \"color\": \"#D2E3FC\", \"startPos\": 0, \"endPos\": 11, \"beforeText\": \"\", \"extractionText\": \"Lady Juliet\", \"afterText\": \" gazed longingly at the stars, her heart aching for Romeo\", \"attributesHtml\": \"<div><strong>class:</strong> character</div><div><strong>attributes:</strong> {<span class=\\\"lx-attr-key\\\">emotional_state</span>: <span class=\\\"lx-attr-value\\\">longing</span>}</div>\"}, {\"index\": 1, \"class\": \"emotion\", \"text\": \"gazed longingly\", \"color\": \"#C8E6C9\", \"startPos\": 12, \"endPos\": 27, \"beforeText\": \"Lady Juliet \", \"extractionText\": \"gazed longingly\", \"afterText\": \" at the stars, her heart aching for Romeo\", \"attributesHtml\": \"<div><strong>class:</strong> emotion</div><div><strong>attributes:</strong> {<span class=\\\"lx-attr-key\\\">feeling</span>: <span class=\\\"lx-attr-value\\\">yearning</span>}</div>\"}, {\"index\": 2, \"class\": \"emotion\", \"text\": \"heart aching\", \"color\": \"#C8E6C9\", \"startPos\": 46, \"endPos\": 58, \"beforeText\": \"Lady Juliet gazed longingly at the stars, her \", \"extractionText\": \"heart aching\", \"afterText\": \" for Romeo\", \"attributesHtml\": \"<div><strong>class:</strong> emotion</div><div><strong>attributes:</strong> {<span class=\\\"lx-attr-key\\\">feeling</span>: <span class=\\\"lx-attr-value\\\">sorrow</span>}</div>\"}, {\"index\": 3, \"class\": \"character\", \"text\": \"Romeo\", \"color\": \"#D2E3FC\", \"startPos\": 63, \"endPos\": 68, \"beforeText\": \"Lady Juliet gazed longingly at the stars, her heart aching for \", \"extractionText\": \"Romeo\", \"afterText\": \"\", \"attributesHtml\": \"<div><strong>class:</strong> character</div><div><strong>attributes:</strong> {<span class=\\\"lx-attr-key\\\">emotional_state</span>: <span class=\\\"lx-attr-value\\\">object of affection</span>}</div>\"}];\n",
              "    let currentIndex = 0;\n",
              "    let isPlaying = false;\n",
              "    let animationInterval = null;\n",
              "    let animationSpeed = 1.0;\n",
              "\n",
              "    function updateDisplay() {\n",
              "      const extraction = extractions[currentIndex];\n",
              "      if (!extraction) return;\n",
              "\n",
              "      document.getElementById('attributesContainer').innerHTML = extraction.attributesHtml;\n",
              "      document.getElementById('entityInfo').textContent = (currentIndex + 1) + '/' + extractions.length;\n",
              "      document.getElementById('posInfo').textContent = '[' + extraction.startPos + '-' + extraction.endPos + ']';\n",
              "      document.getElementById('progressSlider').value = currentIndex;\n",
              "\n",
              "      const playBtn = document.querySelector('.lx-control-btn');\n",
              "      if (playBtn) playBtn.textContent = isPlaying ? '⏸ Pause' : '▶️ Play';\n",
              "\n",
              "      const prevHighlight = document.querySelector('.lx-text-window .lx-current-highlight');\n",
              "      if (prevHighlight) prevHighlight.classList.remove('lx-current-highlight');\n",
              "      const currentSpan = document.querySelector('.lx-text-window span[data-idx=\"' + currentIndex + '\"]');\n",
              "      if (currentSpan) {\n",
              "        currentSpan.classList.add('lx-current-highlight');\n",
              "        currentSpan.scrollIntoView({block: 'center', behavior: 'smooth'});\n",
              "      }\n",
              "    }\n",
              "\n",
              "    function nextExtraction() {\n",
              "      currentIndex = (currentIndex + 1) % extractions.length;\n",
              "      updateDisplay();\n",
              "    }\n",
              "\n",
              "    function prevExtraction() {\n",
              "      currentIndex = (currentIndex - 1 + extractions.length) % extractions.length;\n",
              "      updateDisplay();\n",
              "    }\n",
              "\n",
              "    function jumpToExtraction(index) {\n",
              "      currentIndex = parseInt(index);\n",
              "      updateDisplay();\n",
              "    }\n",
              "\n",
              "    function playPause() {\n",
              "      if (isPlaying) {\n",
              "        clearInterval(animationInterval);\n",
              "        isPlaying = false;\n",
              "      } else {\n",
              "        animationInterval = setInterval(nextExtraction, animationSpeed * 1000);\n",
              "        isPlaying = true;\n",
              "      }\n",
              "      updateDisplay();\n",
              "    }\n",
              "\n",
              "    window.playPause = playPause;\n",
              "    window.nextExtraction = nextExtraction;\n",
              "    window.prevExtraction = prevExtraction;\n",
              "    window.jumpToExtraction = jumpToExtraction;\n",
              "\n",
              "    updateDisplay();\n",
              "  })();\n",
              "</script>"
            ]
          },
          "metadata": {},
          "execution_count": 22
        }
      ]
    },
    {
      "cell_type": "markdown",
      "source": [
        "### Custom example"
      ],
      "metadata": {
        "id": "9ErXivtbU5Qk"
      }
    },
    {
      "cell_type": "code",
      "source": [
        "ARTICLE = \"\"\"OpenAI’s Sam Altman teases GPT-5 as ChatGPT platform nears 700 million active users\n",
        "By: Tech Desk\n",
        "\n",
        "After months of wait, GPT‑5 may have made its first public appearance. On Sunday, August 3, OpenAI CEO Sam Altman posted a screenshot on X showing an interaction with the highly anticipated large language model (LLM).\n",
        "\n",
        "The post showed Altman asking GPT‑5, ‘What is the most thought‑provoking show about AI?’ to which the model responded with high praise for the science fiction series Pantheon.\n",
        "\n",
        "turns out yes! pic.twitter.com/yVsZXKSmKR\n",
        "— Sam Altman (@sama) August 3, 2025\n",
        "\n",
        "According to GPT‑5, Pantheon is “cerebral, emotional, and philosophically intense” and holds a “100% critic rating on Rotten Tomatoes.”\n",
        "\n",
        "Also read | Can’t afford ChatGPT Plus? OpenAI may launch a cheaper Go plan\n",
        "\n",
        "GPT‑5 is said to have a larger context window than its predecessors. As a result, it is capable of handling more agentic tasks and comes with multimodal capabilities. GPT‑5 is also widely rumoured to be adept at coding.\n",
        "\n",
        "The upcoming launch of GPT‑5 comes at a time when OpenAI is facing significant pressure from its competitors who have launched new iterations of AI models over the past few months such as Google’s Gemini 2.5 Pro, XAI’s Grok 4, and Anthropic’s Claude Opus 4.\n",
        "\n",
        "However, ChatGPT continues to witness substantial growth with the AI chatbot platform on track to reach 700 million weekly active users this week, according to Nick Turley, a vice president at OpenAI and head of the ChatGPT app.\n",
        "\n",
        "This week, ChatGPT is on track to reach 700M weekly active users — up from 500M at the end of March and 4× since last year. Every day, people and teams are learning, creating, and solving harder problems. Big week ahead. Grateful to the team for making ChatGPT more useful and…\n",
        "— Nick Turley (@nickaturley) August 4, 2025\n",
        "\n",
        "Its popularity surged in March this year after OpenAI integrated an image generation feature into ChatGPT that kicked off the viral Ghibli trend on social media.\n",
        "\n",
        "Also Read | OpenAI’s new image generator for ChatGPT triggers Ghibli fest: 10 best posts on X\n",
        "\n",
        "OpenAI chief operating officer Brad Lightcap stated that more than 130 million users generated over 700 million images after launching the image generation feature. Its active user base grew to 500 million that month.\n",
        "\n",
        "Furthermore, the number of ChatGPT subscribers has also increased. According to Lightcap, paying corporate customers rose from 3 million in June to 5 million last week.\n",
        "\n",
        "ChatGPT users utilise the app more than 12 days each month on average, ranking second only to Google and X, according to data from Sensor Tower. It also found that users spent an average of 16 minutes per day on the AI chatbot app in the first half of 2025.\"\"\"\n",
        "\n"
      ],
      "metadata": {
        "id": "w_Sy58unT9ps"
      },
      "execution_count": null,
      "outputs": []
    },
    {
      "cell_type": "markdown",
      "source": [
        "###Define Your Extraction Task\n",
        "First, create a prompt that clearly describes what you want to extract. Then, provide a high-quality example to guide the model."
      ],
      "metadata": {
        "id": "gjgpfBdvYzSA"
      }
    },
    {
      "cell_type": "code",
      "source": [
        "# 1. Define a concise prompt\n",
        "prompt = textwrap.dedent(\"\"\"\\\n",
        "Extract people's name, ai models, products and company names in order of appearance.\n",
        "Use exact text for extractions. Do not paraphrase or overlap entities.\n",
        "Provide meaningful related entities for each entity to add context.\"\"\")\n",
        "\n",
        "# 2. Provide a high-quality example to guide the model\n",
        "examples = [\n",
        "    lx.data.ExampleData(\n",
        "        text=(\n",
        "            \"David Ha from Sakana AI labs has trained many models\"\n",
        "            \" including the early 'WM1' and his company makes a product called 'AI Scientist' .\"\n",
        "        ),\n",
        "        extractions=[\n",
        "            lx.data.Extraction(\n",
        "                extraction_class=\"person_name\",\n",
        "                extraction_text=\"David Ha\",\n",
        "                attributes={\"company\": \"Sakana AI\"},\n",
        "            ),\n",
        "            lx.data.Extraction(\n",
        "                extraction_class=\"company_name\",\n",
        "                extraction_text=\"Sakana AI\",\n",
        "                attributes={\"employee\": \"David Ha\"},\n",
        "            ),\n",
        "            lx.data.Extraction(\n",
        "                extraction_class=\"ai_model\",\n",
        "                extraction_text=\"WM1\",\n",
        "                attributes={\"company\": \"Sakana AI\"},\n",
        "            ),\n",
        "            lx.data.Extraction(\n",
        "                extraction_class=\"product\",\n",
        "                extraction_text=\"'AI Scientist'\",\n",
        "                attributes={\"company\": \"Sakana AI\"},\n",
        "            ),\n",
        "        ],\n",
        "    )\n",
        "]\n",
        "\n"
      ],
      "metadata": {
        "id": "YxRjCgcWUA4o"
      },
      "execution_count": null,
      "outputs": []
    },
    {
      "cell_type": "markdown",
      "source": [
        "###Run the Extraction\n",
        "Provide your input text and the prompt materials to the lx.extract function.\n",
        "\n"
      ],
      "metadata": {
        "id": "N8x09tIbY4Cd"
      }
    },
    {
      "cell_type": "code",
      "source": [
        "# 3. Run the extraction on your input text\n",
        "input_text = (\n",
        "    ARTICLE\n",
        ")\n",
        "result = lx.extract(\n",
        "    text_or_documents=input_text,\n",
        "    prompt_description=prompt,\n",
        "    examples=examples,\n",
        "    model_id=\"gemini-2.0-flash\",\n",
        ")"
      ],
      "metadata": {
        "colab": {
          "base_uri": "https://localhost:8080/"
        },
        "id": "Z6POWqCtY1hQ",
        "outputId": "50d63b6a-428e-4b93-e5a6-d141ec19e7b9"
      },
      "execution_count": null,
      "outputs": [
        {
          "output_type": "stream",
          "name": "stderr",
          "text": [
            "\u001b[94m\u001b[1mLangExtract\u001b[0m: model=\u001b[92mgemini-2.0-flash\u001b[0m, current=\u001b[92m2,721\u001b[0m chars, processed=\u001b[92m2,721\u001b[0m chars:  [00:09]"
          ]
        },
        {
          "output_type": "stream",
          "name": "stdout",
          "text": [
            "\u001b[92m✓\u001b[0m Extraction processing complete\n",
            "\u001b[92m✓\u001b[0m Extracted \u001b[1m27\u001b[0m entities (\u001b[1m4\u001b[0m unique types)\n",
            "  \u001b[96m•\u001b[0m Time: \u001b[1m9.57s\u001b[0m\n",
            "  \u001b[96m•\u001b[0m Speed: \u001b[1m285\u001b[0m chars/sec\n",
            "  \u001b[96m•\u001b[0m Chunks: \u001b[1m3\u001b[0m\n"
          ]
        },
        {
          "output_type": "stream",
          "name": "stderr",
          "text": [
            "\n"
          ]
        }
      ]
    },
    {
      "cell_type": "code",
      "source": [
        "result"
      ],
      "metadata": {
        "colab": {
          "base_uri": "https://localhost:8080/"
        },
        "id": "96A2tS-VXnEy",
        "outputId": "561be996-a666-48cf-d7a8-d93ca22f00c0"
      },
      "execution_count": null,
      "outputs": [
        {
          "output_type": "execute_result",
          "data": {
            "text/plain": [
              "AnnotatedDocument(extractions=[Extraction(extraction_class='company_name', extraction_text='OpenAI', char_interval=CharInterval(start_pos=0, end_pos=6), alignment_status=<AlignmentStatus.MATCH_EXACT: 'match_exact'>, extraction_index=1, group_index=0, description=None, attributes={'employee': 'Sam Altman'}), Extraction(extraction_class='person_name', extraction_text='Sam Altman', char_interval=CharInterval(start_pos=9, end_pos=19), alignment_status=<AlignmentStatus.MATCH_EXACT: 'match_exact'>, extraction_index=2, group_index=1, description=None, attributes={'company': 'OpenAI'}), Extraction(extraction_class='ai_model', extraction_text='GPT-5', char_interval=CharInterval(start_pos=27, end_pos=32), alignment_status=<AlignmentStatus.MATCH_EXACT: 'match_exact'>, extraction_index=3, group_index=2, description=None, attributes={'company': 'OpenAI'}), Extraction(extraction_class='product', extraction_text='ChatGPT', char_interval=CharInterval(start_pos=36, end_pos=43), alignment_status=<AlignmentStatus.MATCH_EXACT: 'match_exact'>, extraction_index=4, group_index=3, description=None, attributes={'company': 'OpenAI'}), Extraction(extraction_class='ai_model', extraction_text='GPT‑5', char_interval=CharInterval(start_pos=121, end_pos=126), alignment_status=<AlignmentStatus.MATCH_EXACT: 'match_exact'>, extraction_index=5, group_index=4, description=None, attributes={'company': 'OpenAI'}), Extraction(extraction_class='ai_model', extraction_text='GPT‑5', char_interval=CharInterval(start_pos=348, end_pos=353), alignment_status=<AlignmentStatus.MATCH_EXACT: 'match_exact'>, extraction_index=6, group_index=5, description=None, attributes={'company': 'OpenAI'}), Extraction(extraction_class='product', extraction_text='Pantheon', char_interval=CharInterval(start_pos=484, end_pos=492), alignment_status=<AlignmentStatus.MATCH_EXACT: 'match_exact'>, extraction_index=7, group_index=6, description=None, attributes=None), Extraction(extraction_class='ai_model', extraction_text='GPT‑5', char_interval=CharInterval(start_pos=587, end_pos=592), alignment_status=<AlignmentStatus.MATCH_EXACT: 'match_exact'>, extraction_index=8, group_index=7, description=None, attributes={'company': 'OpenAI'}), Extraction(extraction_class='product', extraction_text='ChatGPT Plus', char_interval=CharInterval(start_pos=736, end_pos=748), alignment_status=<AlignmentStatus.MATCH_EXACT: 'match_exact'>, extraction_index=9, group_index=8, description=None, attributes={'company': 'OpenAI'}), Extraction(extraction_class='product', extraction_text='Go plan', char_interval=CharInterval(start_pos=778, end_pos=785), alignment_status=<AlignmentStatus.MATCH_EXACT: 'match_exact'>, extraction_index=10, group_index=9, description=None, attributes={'company': 'OpenAI'}), Extraction(extraction_class='ai_model', extraction_text='GPT‑5', char_interval=CharInterval(start_pos=954, end_pos=959), alignment_status=<AlignmentStatus.MATCH_EXACT: 'match_exact'>, extraction_index=1, group_index=0, description=None, attributes={'company': 'OpenAI'}), Extraction(extraction_class='company_name', extraction_text='OpenAI', char_interval=CharInterval(start_pos=1058, end_pos=1064), alignment_status=<AlignmentStatus.MATCH_EXACT: 'match_exact'>, extraction_index=2, group_index=1, description=None, attributes={'employee': 'Nick Turley'}), Extraction(extraction_class='ai_model', extraction_text='Gemini\\u202f2.5\\u202fPro', char_interval=CharInterval(start_pos=1205, end_pos=1219), alignment_status=<AlignmentStatus.MATCH_EXACT: 'match_exact'>, extraction_index=3, group_index=2, description=None, attributes={'company': 'Google'}), Extraction(extraction_class='company_name', extraction_text='Google', char_interval=CharInterval(start_pos=1196, end_pos=1202), alignment_status=<AlignmentStatus.MATCH_FUZZY: 'match_fuzzy'>, extraction_index=4, group_index=3, description=None, attributes={'employee': 'Unknown'}), Extraction(extraction_class='ai_model', extraction_text='Grok\\u202f4', char_interval=CharInterval(start_pos=1227, end_pos=1233), alignment_status=<AlignmentStatus.MATCH_EXACT: 'match_exact'>, extraction_index=5, group_index=4, description=None, attributes={'company': 'XAI'}), Extraction(extraction_class='company_name', extraction_text='XAI', char_interval=CharInterval(start_pos=1221, end_pos=1224), alignment_status=<AlignmentStatus.MATCH_FUZZY: 'match_fuzzy'>, extraction_index=6, group_index=5, description=None, attributes={'employee': 'Unknown'}), Extraction(extraction_class='ai_model', extraction_text='Claude\\u202fOpus\\u202f4', char_interval=CharInterval(start_pos=1251, end_pos=1264), alignment_status=<AlignmentStatus.MATCH_EXACT: 'match_exact'>, extraction_index=7, group_index=6, description=None, attributes={'company': 'Anthropic'}), Extraction(extraction_class='company_name', extraction_text='Anthropic', char_interval=CharInterval(start_pos=1239, end_pos=1248), alignment_status=<AlignmentStatus.MATCH_FUZZY: 'match_fuzzy'>, extraction_index=8, group_index=7, description=None, attributes={'employee': 'Unknown'}), Extraction(extraction_class='product', extraction_text='ChatGPT', char_interval=CharInterval(start_pos=1276, end_pos=1283), alignment_status=<AlignmentStatus.MATCH_EXACT: 'match_exact'>, extraction_index=9, group_index=8, description=None, attributes={'company': 'OpenAI'}), Extraction(extraction_class='person_name', extraction_text='Nick Turley', char_interval=CharInterval(start_pos=1427, end_pos=1438), alignment_status=<AlignmentStatus.MATCH_EXACT: 'match_exact'>, extraction_index=10, group_index=9, description=None, attributes={'company': 'OpenAI'}), Extraction(extraction_class='company_name', extraction_text='OpenAI', char_interval=CharInterval(start_pos=1867, end_pos=1873), alignment_status=<AlignmentStatus.MATCH_EXACT: 'match_exact'>, extraction_index=1, group_index=0, description=None, attributes={'employee': 'Brad Lightcap'}), Extraction(extraction_class='product', extraction_text='ChatGPT', char_interval=CharInterval(start_pos=1918, end_pos=1925), alignment_status=<AlignmentStatus.MATCH_EXACT: 'match_exact'>, extraction_index=2, group_index=1, description=None, attributes={'company': 'OpenAI'}), Extraction(extraction_class='person_name', extraction_text='Brad Lightcap', char_interval=CharInterval(start_pos=2109, end_pos=2122), alignment_status=<AlignmentStatus.MATCH_EXACT: 'match_exact'>, extraction_index=3, group_index=2, description=None, attributes={'company': 'OpenAI'}), Extraction(extraction_class='product', extraction_text='ChatGPT', char_interval=CharInterval(start_pos=2324, end_pos=2331), alignment_status=<AlignmentStatus.MATCH_EXACT: 'match_exact'>, extraction_index=4, group_index=3, description=None, attributes={'company': 'OpenAI'}), Extraction(extraction_class='company_name', extraction_text='Google', char_interval=CharInterval(start_pos=2561, end_pos=2567), alignment_status=<AlignmentStatus.MATCH_EXACT: 'match_exact'>, extraction_index=5, group_index=4, description=None, attributes=None), Extraction(extraction_class='company_name', extraction_text='X', char_interval=CharInterval(start_pos=2572, end_pos=2573), alignment_status=<AlignmentStatus.MATCH_EXACT: 'match_exact'>, extraction_index=6, group_index=5, description=None, attributes=None), Extraction(extraction_class='product', extraction_text='AI chatbot app', char_interval=CharInterval(start_pos=2683, end_pos=2697), alignment_status=<AlignmentStatus.MATCH_EXACT: 'match_exact'>, extraction_index=7, group_index=6, description=None, attributes=None)], text='OpenAI’s Sam Altman teases GPT-5 as ChatGPT platform nears 700 million active users\\nBy: Tech Desk\\n\\nAfter months of wait, GPT‑5 may have made its first public appearance. On Sunday, August\\u202f3, OpenAI CEO Sam Altman posted a screenshot on X showing an interaction with the highly anticipated large language model (LLM).\\n\\nThe post showed Altman asking GPT‑5, ‘What is the most thought‑provoking show about AI?’ to which the model responded with high praise for the science fiction series Pantheon.\\n\\nturns out yes! pic.twitter.com/yVsZXKSmKR\\n— Sam\\u202fAltman (@sama) August\\u202f3,\\u202f2025\\n\\nAccording to GPT‑5, Pantheon is “cerebral, emotional, and philosophically intense” and holds a “100% critic rating on Rotten Tomatoes.”\\n\\nAlso read | Can’t afford ChatGPT Plus? OpenAI may launch a cheaper Go plan\\n\\nGPT‑5 is said to have a larger context window than its predecessors. As a result, it is capable of handling more agentic tasks and comes with multimodal capabilities. GPT‑5 is also widely rumoured to be adept at coding.\\n\\nThe upcoming launch of GPT‑5 comes at a time when OpenAI is facing significant pressure from its competitors who have launched new iterations of AI models over the past few months such as Google’s Gemini\\u202f2.5\\u202fPro, XAI’s Grok\\u202f4, and Anthropic’s Claude\\u202fOpus\\u202f4.\\n\\nHowever, ChatGPT continues to witness substantial growth with the AI chatbot platform on track to reach 700 million weekly active users this week, according to Nick Turley, a vice president at OpenAI and head of the ChatGPT app.\\n\\nThis week, ChatGPT is on track to reach 700M weekly active users — up from 500M at the end of March and 4× since last year. Every day, people and teams are learning, creating, and solving harder problems. Big week ahead. Grateful to the team for making ChatGPT more useful and…\\n— Nick Turley (@nickaturley) August\\u202f4,\\u202f2025\\n\\nIts popularity surged in March this year after OpenAI integrated an image generation feature into ChatGPT that kicked off the viral Ghibli trend on social media.\\n\\nAlso Read | OpenAI’s new image generator for ChatGPT triggers Ghibli fest: 10 best posts on X\\n\\nOpenAI chief operating officer Brad Lightcap stated that more than 130 million users generated over 700 million images after launching the image generation feature. Its active user base grew to 500 million that month.\\n\\nFurthermore, the number of ChatGPT subscribers has also increased. According to Lightcap, paying corporate customers rose from 3 million in June to 5 million last week.\\n\\nChatGPT users utilise the app more than 12 days each month on average, ranking second only to Google and X, according to data from Sensor Tower. It also found that users spent an average of 16\\u202fminutes per day on the AI chatbot app in the first half of 2025.')"
            ]
          },
          "metadata": {},
          "execution_count": 26
        }
      ]
    },
    {
      "cell_type": "markdown",
      "source": [
        "###Visualize the Results\n"
      ],
      "metadata": {
        "id": "CyL_MNkmYSnJ"
      }
    },
    {
      "cell_type": "code",
      "source": [
        "# Save the results to a JSONL file\n",
        "lx.io.save_annotated_documents([result], output_name=\"extraction_results.jsonl\", output_dir=\".\")\n",
        "\n",
        "# visualize returns an IPython HTML object\n",
        "html_object = lx.visualize(\"extraction_results.jsonl\")\n",
        "\n",
        "# extract the raw HTML string\n",
        "html_string = html_object.data  # Not str(html_object), but .data\n",
        "\n",
        "# Get HTML as string\n",
        "html_string = html_object.data\n",
        "\n",
        "# Inject custom CSS for better contrast\n",
        "custom_css = \"\"\"\n",
        "<style>\n",
        "body {\n",
        "    background-color: white !important;\n",
        "    color: black !important;\n",
        "}\n",
        ".entity.character {\n",
        "    background-color: #DDEEFF !important;\n",
        "    color: black !important;\n",
        "}\n",
        ".entity.emotion {\n",
        "    background-color: #C0F5C0 !important;\n",
        "    color: black !important;\n",
        "}\n",
        ".entity.relationship {\n",
        "    background-color: #FFEDB3 !important;\n",
        "    color: black !important;\n",
        "}\n",
        "</style>\n",
        "\"\"\"\n",
        "\n",
        "# Prepend the CSS to the HTML string\n",
        "patched_html = custom_css + html_string\n",
        "\n",
        "# Save patched HTML\n",
        "with open(\"visualization.html\", \"w\") as f:\n",
        "    f.write(patched_html)\n",
        "\n",
        "# Display\n",
        "from IPython.display import HTML\n",
        "HTML(patched_html)"
      ],
      "metadata": {
        "colab": {
          "base_uri": "https://localhost:8080/",
          "height": 613
        },
        "id": "t10hpaBTX92h",
        "outputId": "1ed496d9-9cba-431e-8d9f-5de2dbeafb8a"
      },
      "execution_count": null,
      "outputs": [
        {
          "output_type": "stream",
          "name": "stderr",
          "text": [
            "\u001b[94m\u001b[1mLangExtract\u001b[0m: Saving to \u001b[92mextraction_results.jsonl\u001b[0m: 1 docs [00:00, 353.98 docs/s]"
          ]
        },
        {
          "output_type": "stream",
          "name": "stdout",
          "text": [
            "\u001b[92m✓\u001b[0m Saved \u001b[1m1\u001b[0m documents to \u001b[92mextraction_results.jsonl\u001b[0m\n"
          ]
        },
        {
          "output_type": "stream",
          "name": "stderr",
          "text": [
            "\n",
            "\u001b[94m\u001b[1mLangExtract\u001b[0m: Loading \u001b[92mextraction_results.jsonl\u001b[0m: 100%|██████████| 9.71k/9.71k [00:00<00:00, 9.52MB/s]"
          ]
        },
        {
          "output_type": "stream",
          "name": "stdout",
          "text": [
            "\u001b[92m✓\u001b[0m Loaded \u001b[1m1\u001b[0m documents from \u001b[92mextraction_results.jsonl\u001b[0m\n"
          ]
        },
        {
          "output_type": "stream",
          "name": "stderr",
          "text": [
            "\n"
          ]
        },
        {
          "output_type": "execute_result",
          "data": {
            "text/plain": [
              "<IPython.core.display.HTML object>"
            ],
            "text/html": [
              "\n",
              "<style>\n",
              "body {\n",
              "    background-color: white !important;\n",
              "    color: black !important;\n",
              "}\n",
              ".entity.character {\n",
              "    background-color: #DDEEFF !important;\n",
              "    color: black !important;\n",
              "}\n",
              ".entity.emotion {\n",
              "    background-color: #C0F5C0 !important;\n",
              "    color: black !important;\n",
              "}\n",
              ".entity.relationship {\n",
              "    background-color: #FFEDB3 !important;\n",
              "    color: black !important;\n",
              "}\n",
              "</style>\n",
              "<style>\n",
              ".lx-highlight { position: relative; border-radius:3px; padding:1px 2px;}\n",
              ".lx-highlight .lx-tooltip {\n",
              "  visibility: hidden;\n",
              "  opacity: 0;\n",
              "  transition: opacity 0.2s ease-in-out;\n",
              "  background: #333;\n",
              "  color: #fff;\n",
              "  text-align: left;\n",
              "  border-radius: 4px;\n",
              "  padding: 6px 8px;\n",
              "  position: absolute;\n",
              "  z-index: 1000;\n",
              "  bottom: 125%;\n",
              "  left: 50%;\n",
              "  transform: translateX(-50%);\n",
              "  font-size: 12px;\n",
              "  max-width: 240px;\n",
              "  white-space: normal;\n",
              "  box-shadow: 0 2px 6px rgba(0,0,0,0.3);\n",
              "}\n",
              ".lx-highlight:hover .lx-tooltip { visibility: visible; opacity:1; }\n",
              ".lx-animated-wrapper { max-width: 100%; font-family: Arial, sans-serif; }\n",
              ".lx-controls {\n",
              "  background: #fafafa; border: 1px solid #90caf9; border-radius: 8px;\n",
              "  padding: 12px; margin-bottom: 16px;\n",
              "}\n",
              ".lx-button-row {\n",
              "  display: flex; justify-content: center; gap: 8px; margin-bottom: 12px;\n",
              "}\n",
              ".lx-control-btn {\n",
              "  background: #4285f4; color: white; border: none; border-radius: 4px;\n",
              "  padding: 8px 16px; cursor: pointer; font-size: 13px; font-weight: 500;\n",
              "  transition: background-color 0.2s;\n",
              "}\n",
              ".lx-control-btn:hover { background: #3367d6; }\n",
              ".lx-progress-container {\n",
              "  margin-bottom: 8px;\n",
              "}\n",
              ".lx-progress-slider {\n",
              "  width: 100%; margin: 0; appearance: none; height: 6px;\n",
              "  background: #ddd; border-radius: 3px; outline: none;\n",
              "}\n",
              ".lx-progress-slider::-webkit-slider-thumb {\n",
              "  appearance: none; width: 18px; height: 18px; background: #4285f4;\n",
              "  border-radius: 50%; cursor: pointer;\n",
              "}\n",
              ".lx-progress-slider::-moz-range-thumb {\n",
              "  width: 18px; height: 18px; background: #4285f4; border-radius: 50%;\n",
              "  cursor: pointer; border: none;\n",
              "}\n",
              ".lx-status-text {\n",
              "  text-align: center; font-size: 12px; color: #666; margin-top: 4px;\n",
              "}\n",
              ".lx-text-window {\n",
              "  font-family: monospace; white-space: pre-wrap; border: 1px solid #90caf9;\n",
              "  padding: 12px; max-height: 260px; overflow-y: auto; margin-bottom: 12px;\n",
              "  line-height: 1.6;\n",
              "}\n",
              ".lx-attributes-panel {\n",
              "  background: #fafafa; border: 1px solid #90caf9; border-radius: 6px;\n",
              "  padding: 8px 10px; margin-top: 8px; font-size: 13px;\n",
              "}\n",
              ".lx-current-highlight {\n",
              "  border-bottom: 4px solid #ff4444;\n",
              "  font-weight: bold;\n",
              "  animation: lx-pulse 1s ease-in-out;\n",
              "}\n",
              "@keyframes lx-pulse {\n",
              "  0% { text-decoration-color: #ff4444; }\n",
              "  50% { text-decoration-color: #ff0000; }\n",
              "  100% { text-decoration-color: #ff4444; }\n",
              "}\n",
              ".lx-legend {\n",
              "  font-size: 12px; margin-bottom: 8px;\n",
              "  padding-bottom: 8px; border-bottom: 1px solid #e0e0e0;\n",
              "}\n",
              ".lx-label {\n",
              "  display: inline-block;\n",
              "  padding: 2px 4px;\n",
              "  border-radius: 3px;\n",
              "  margin-right: 4px;\n",
              "  color: #000;\n",
              "}\n",
              ".lx-attr-key {\n",
              "  font-weight: 600;\n",
              "  color: #1565c0;\n",
              "  letter-spacing: 0.3px;\n",
              "}\n",
              ".lx-attr-value {\n",
              "  font-weight: 400;\n",
              "  opacity: 0.85;\n",
              "  letter-spacing: 0.2px;\n",
              "}\n",
              "\n",
              "/* Add optimizations with larger fonts and better readability for GIFs */\n",
              ".lx-gif-optimized .lx-text-window { font-size: 16px; line-height: 1.8; }\n",
              ".lx-gif-optimized .lx-attributes-panel { font-size: 15px; }\n",
              ".lx-gif-optimized .lx-current-highlight { text-decoration-thickness: 4px; }\n",
              "</style>\n",
              "    <div class=\"lx-animated-wrapper lx-gif-optimized\">\n",
              "      <div class=\"lx-attributes-panel\">\n",
              "        <div class=\"lx-legend\">Highlights Legend: <span class=\"lx-label\" style=\"background-color:#D2E3FC;\">ai_model</span> <span class=\"lx-label\" style=\"background-color:#C8E6C9;\">company_name</span> <span class=\"lx-label\" style=\"background-color:#FEF0C3;\">person_name</span> <span class=\"lx-label\" style=\"background-color:#F9DEDC;\">product</span></div>\n",
              "        <div id=\"attributesContainer\"></div>\n",
              "      </div>\n",
              "      <div class=\"lx-text-window\" id=\"textWindow\">\n",
              "        <span class=\"lx-highlight lx-current-highlight\" data-idx=\"0\" style=\"background-color:#C8E6C9;\">OpenAI</span>’s <span class=\"lx-highlight\" data-idx=\"1\" style=\"background-color:#FEF0C3;\">Sam Altman</span> teases <span class=\"lx-highlight\" data-idx=\"2\" style=\"background-color:#D2E3FC;\">GPT-5</span> as <span class=\"lx-highlight\" data-idx=\"3\" style=\"background-color:#F9DEDC;\">ChatGPT</span> platform nears 700 million active users\n",
              "By: Tech Desk\n",
              "\n",
              "After months of wait, <span class=\"lx-highlight\" data-idx=\"4\" style=\"background-color:#D2E3FC;\">GPT‑5</span> may have made its first public appearance. On Sunday, August 3, OpenAI CEO Sam Altman posted a screenshot on X showing an interaction with the highly anticipated large language model (LLM).\n",
              "\n",
              "The post showed Altman asking <span class=\"lx-highlight\" data-idx=\"5\" style=\"background-color:#D2E3FC;\">GPT‑5</span>, ‘What is the most thought‑provoking show about AI?’ to which the model responded with high praise for the science fiction series <span class=\"lx-highlight\" data-idx=\"6\" style=\"background-color:#F9DEDC;\">Pantheon</span>.\n",
              "\n",
              "turns out yes! pic.twitter.com/yVsZXKSmKR\n",
              "— Sam Altman (@sama) August 3, 2025\n",
              "\n",
              "According to <span class=\"lx-highlight\" data-idx=\"7\" style=\"background-color:#D2E3FC;\">GPT‑5</span>, Pantheon is “cerebral, emotional, and philosophically intense” and holds a “100% critic rating on Rotten Tomatoes.”\n",
              "\n",
              "Also read | Can’t afford <span class=\"lx-highlight\" data-idx=\"8\" style=\"background-color:#F9DEDC;\">ChatGPT Plus</span>? OpenAI may launch a cheaper <span class=\"lx-highlight\" data-idx=\"9\" style=\"background-color:#F9DEDC;\">Go plan</span>\n",
              "\n",
              "GPT‑5 is said to have a larger context window than its predecessors. As a result, it is capable of handling more agentic tasks and comes with multimodal capabilities. <span class=\"lx-highlight\" data-idx=\"10\" style=\"background-color:#D2E3FC;\">GPT‑5</span> is also widely rumoured to be adept at coding.\n",
              "\n",
              "The upcoming launch of GPT‑5 comes at a time when <span class=\"lx-highlight\" data-idx=\"11\" style=\"background-color:#C8E6C9;\">OpenAI</span> is facing significant pressure from its competitors who have launched new iterations of AI models over the past few months such as <span class=\"lx-highlight\" data-idx=\"12\" style=\"background-color:#C8E6C9;\">Google</span>’s <span class=\"lx-highlight\" data-idx=\"13\" style=\"background-color:#D2E3FC;\">Gemini 2.5 Pro</span>, <span class=\"lx-highlight\" data-idx=\"14\" style=\"background-color:#C8E6C9;\">XAI</span>’s <span class=\"lx-highlight\" data-idx=\"15\" style=\"background-color:#D2E3FC;\">Grok 4</span>, and <span class=\"lx-highlight\" data-idx=\"16\" style=\"background-color:#C8E6C9;\">Anthropic</span>’s <span class=\"lx-highlight\" data-idx=\"17\" style=\"background-color:#D2E3FC;\">Claude Opus 4</span>.\n",
              "\n",
              "However, <span class=\"lx-highlight\" data-idx=\"18\" style=\"background-color:#F9DEDC;\">ChatGPT</span> continues to witness substantial growth with the AI chatbot platform on track to reach 700 million weekly active users this week, according to <span class=\"lx-highlight\" data-idx=\"19\" style=\"background-color:#FEF0C3;\">Nick Turley</span>, a vice president at OpenAI and head of the ChatGPT app.\n",
              "\n",
              "This week, ChatGPT is on track to reach 700M weekly active users — up from 500M at the end of March and 4× since last year. Every day, people and teams are learning, creating, and solving harder problems. Big week ahead. Grateful to the team for making ChatGPT more useful and…\n",
              "— Nick Turley (@nickaturley) August 4, 2025\n",
              "\n",
              "Its popularity surged in March this year after <span class=\"lx-highlight\" data-idx=\"20\" style=\"background-color:#C8E6C9;\">OpenAI</span> integrated an image generation feature into <span class=\"lx-highlight\" data-idx=\"21\" style=\"background-color:#F9DEDC;\">ChatGPT</span> that kicked off the viral Ghibli trend on social media.\n",
              "\n",
              "Also Read | OpenAI’s new image generator for ChatGPT triggers Ghibli fest: 10 best posts on X\n",
              "\n",
              "OpenAI chief operating officer <span class=\"lx-highlight\" data-idx=\"22\" style=\"background-color:#FEF0C3;\">Brad Lightcap</span> stated that more than 130 million users generated over 700 million images after launching the image generation feature. Its active user base grew to 500 million that month.\n",
              "\n",
              "Furthermore, the number of <span class=\"lx-highlight\" data-idx=\"23\" style=\"background-color:#F9DEDC;\">ChatGPT</span> subscribers has also increased. According to Lightcap, paying corporate customers rose from 3 million in June to 5 million last week.\n",
              "\n",
              "ChatGPT users utilise the app more than 12 days each month on average, ranking second only to <span class=\"lx-highlight\" data-idx=\"24\" style=\"background-color:#C8E6C9;\">Google</span> and <span class=\"lx-highlight\" data-idx=\"25\" style=\"background-color:#C8E6C9;\">X</span>, according to data from Sensor Tower. It also found that users spent an average of 16 minutes per day on the <span class=\"lx-highlight\" data-idx=\"26\" style=\"background-color:#F9DEDC;\">AI chatbot app</span> in the first half of 2025.\n",
              "      </div>\n",
              "      <div class=\"lx-controls\">\n",
              "        <div class=\"lx-button-row\">\n",
              "          <button class=\"lx-control-btn\" onclick=\"playPause()\">▶️ Play</button>\n",
              "          <button class=\"lx-control-btn\" onclick=\"prevExtraction()\">⏮ Previous</button>\n",
              "          <button class=\"lx-control-btn\" onclick=\"nextExtraction()\">⏭ Next</button>\n",
              "        </div>\n",
              "        <div class=\"lx-progress-container\">\n",
              "          <input type=\"range\" id=\"progressSlider\" class=\"lx-progress-slider\"\n",
              "                 min=\"0\" max=\"26\" value=\"0\"\n",
              "                 onchange=\"jumpToExtraction(this.value)\">\n",
              "        </div>\n",
              "        <div class=\"lx-status-text\">\n",
              "          Entity <span id=\"entityInfo\">1/27</span> |\n",
              "          Pos <span id=\"posInfo\">[0-6]</span>\n",
              "        </div>\n",
              "      </div>\n",
              "    </div>\n",
              "\n",
              "    <script>\n",
              "      (function() {\n",
              "        const extractions = [{\"index\": 0, \"class\": \"company_name\", \"text\": \"OpenAI\", \"color\": \"#C8E6C9\", \"startPos\": 0, \"endPos\": 6, \"beforeText\": \"\", \"extractionText\": \"OpenAI\", \"afterText\": \"\\u2019s Sam Altman teases GPT-5 as ChatGPT platform nears 700 million active users\\nBy: Tech Desk\\n\\nAfter months of wait, GPT\\u20115 may have made its first publi\", \"attributesHtml\": \"<div><strong>class:</strong> company_name</div><div><strong>attributes:</strong> {<span class=\\\"lx-attr-key\\\">employee</span>: <span class=\\\"lx-attr-value\\\">Sam Altman</span>}</div>\"}, {\"index\": 1, \"class\": \"person_name\", \"text\": \"Sam Altman\", \"color\": \"#FEF0C3\", \"startPos\": 9, \"endPos\": 19, \"beforeText\": \"OpenAI\\u2019s \", \"extractionText\": \"Sam Altman\", \"afterText\": \" teases GPT-5 as ChatGPT platform nears 700 million active users\\nBy: Tech Desk\\n\\nAfter months of wait, GPT\\u20115 may have made its first public appearance.\", \"attributesHtml\": \"<div><strong>class:</strong> person_name</div><div><strong>attributes:</strong> {<span class=\\\"lx-attr-key\\\">company</span>: <span class=\\\"lx-attr-value\\\">OpenAI</span>}</div>\"}, {\"index\": 2, \"class\": \"ai_model\", \"text\": \"GPT-5\", \"color\": \"#D2E3FC\", \"startPos\": 27, \"endPos\": 32, \"beforeText\": \"OpenAI\\u2019s Sam Altman teases \", \"extractionText\": \"GPT-5\", \"afterText\": \" as ChatGPT platform nears 700 million active users\\nBy: Tech Desk\\n\\nAfter months of wait, GPT\\u20115 may have made its first public appearance. On Sunday, A\", \"attributesHtml\": \"<div><strong>class:</strong> ai_model</div><div><strong>attributes:</strong> {<span class=\\\"lx-attr-key\\\">company</span>: <span class=\\\"lx-attr-value\\\">OpenAI</span>}</div>\"}, {\"index\": 3, \"class\": \"product\", \"text\": \"ChatGPT\", \"color\": \"#F9DEDC\", \"startPos\": 36, \"endPos\": 43, \"beforeText\": \"OpenAI\\u2019s Sam Altman teases GPT-5 as \", \"extractionText\": \"ChatGPT\", \"afterText\": \" platform nears 700 million active users\\nBy: Tech Desk\\n\\nAfter months of wait, GPT\\u20115 may have made its first public appearance. On Sunday, August\\u202f3, Op\", \"attributesHtml\": \"<div><strong>class:</strong> product</div><div><strong>attributes:</strong> {<span class=\\\"lx-attr-key\\\">company</span>: <span class=\\\"lx-attr-value\\\">OpenAI</span>}</div>\"}, {\"index\": 4, \"class\": \"ai_model\", \"text\": \"GPT\\u20115\", \"color\": \"#D2E3FC\", \"startPos\": 121, \"endPos\": 126, \"beforeText\": \"OpenAI\\u2019s Sam Altman teases GPT-5 as ChatGPT platform nears 700 million active users\\nBy: Tech Desk\\n\\nAfter months of wait, \", \"extractionText\": \"GPT\\u20115\", \"afterText\": \" may have made its first public appearance. On Sunday, August\\u202f3, OpenAI CEO Sam Altman posted a screenshot on X showing an interaction with the highly\", \"attributesHtml\": \"<div><strong>class:</strong> ai_model</div><div><strong>attributes:</strong> {<span class=\\\"lx-attr-key\\\">company</span>: <span class=\\\"lx-attr-value\\\">OpenAI</span>}</div>\"}, {\"index\": 5, \"class\": \"ai_model\", \"text\": \"GPT\\u20115\", \"color\": \"#D2E3FC\", \"startPos\": 348, \"endPos\": 353, \"beforeText\": \"CEO Sam Altman posted a screenshot on X showing an interaction with the highly anticipated large language model (LLM).\\n\\nThe post showed Altman asking \", \"extractionText\": \"GPT\\u20115\", \"afterText\": \", \\u2018What is the most thought\\u2011provoking show about AI?\\u2019 to which the model responded with high praise for the science fiction series Pantheon.\\n\\nturns ou\", \"attributesHtml\": \"<div><strong>class:</strong> ai_model</div><div><strong>attributes:</strong> {<span class=\\\"lx-attr-key\\\">company</span>: <span class=\\\"lx-attr-value\\\">OpenAI</span>}</div>\"}, {\"index\": 6, \"class\": \"product\", \"text\": \"Pantheon\", \"color\": \"#F9DEDC\", \"startPos\": 484, \"endPos\": 492, \"beforeText\": \"Altman asking GPT\\u20115, \\u2018What is the most thought\\u2011provoking show about AI?\\u2019 to which the model responded with high praise for the science fiction series \", \"extractionText\": \"Pantheon\", \"afterText\": \".\\n\\nturns out yes! pic.twitter.com/yVsZXKSmKR\\n\\u2014 Sam\\u202fAltman (@sama) August\\u202f3,\\u202f2025\\n\\nAccording to GPT\\u20115, Pantheon is \\u201ccerebral, emotional, and philosophi\", \"attributesHtml\": \"<div><strong>class:</strong> product</div><div><strong>attributes:</strong> {}</div>\"}, {\"index\": 7, \"class\": \"ai_model\", \"text\": \"GPT\\u20115\", \"color\": \"#D2E3FC\", \"startPos\": 587, \"endPos\": 592, \"beforeText\": \"ith high praise for the science fiction series Pantheon.\\n\\nturns out yes! pic.twitter.com/yVsZXKSmKR\\n\\u2014 Sam\\u202fAltman (@sama) August\\u202f3,\\u202f2025\\n\\nAccording to \", \"extractionText\": \"GPT\\u20115\", \"afterText\": \", Pantheon is \\u201ccerebral, emotional, and philosophically intense\\u201d and holds a \\u201c100% critic rating on Rotten Tomatoes.\\u201d\\n\\nAlso read | Can\\u2019t afford ChatGP\", \"attributesHtml\": \"<div><strong>class:</strong> ai_model</div><div><strong>attributes:</strong> {<span class=\\\"lx-attr-key\\\">company</span>: <span class=\\\"lx-attr-value\\\">OpenAI</span>}</div>\"}, {\"index\": 8, \"class\": \"product\", \"text\": \"ChatGPT Plus\", \"color\": \"#F9DEDC\", \"startPos\": 736, \"endPos\": 748, \"beforeText\": \" GPT\\u20115, Pantheon is \\u201ccerebral, emotional, and philosophically intense\\u201d and holds a \\u201c100% critic rating on Rotten Tomatoes.\\u201d\\n\\nAlso read | Can\\u2019t afford \", \"extractionText\": \"ChatGPT Plus\", \"afterText\": \"? OpenAI may launch a cheaper Go plan\\n\\nGPT\\u20115 is said to have a larger context window than its predecessors. As a result, it is capable of handling mor\", \"attributesHtml\": \"<div><strong>class:</strong> product</div><div><strong>attributes:</strong> {<span class=\\\"lx-attr-key\\\">company</span>: <span class=\\\"lx-attr-value\\\">OpenAI</span>}</div>\"}, {\"index\": 9, \"class\": \"product\", \"text\": \"Go plan\", \"color\": \"#F9DEDC\", \"startPos\": 778, \"endPos\": 785, \"beforeText\": \"and philosophically intense\\u201d and holds a \\u201c100% critic rating on Rotten Tomatoes.\\u201d\\n\\nAlso read | Can\\u2019t afford ChatGPT Plus? OpenAI may launch a cheaper \", \"extractionText\": \"Go plan\", \"afterText\": \"\\n\\nGPT\\u20115 is said to have a larger context window than its predecessors. As a result, it is capable of handling more agentic tasks and comes with multim\", \"attributesHtml\": \"<div><strong>class:</strong> product</div><div><strong>attributes:</strong> {<span class=\\\"lx-attr-key\\\">company</span>: <span class=\\\"lx-attr-value\\\">OpenAI</span>}</div>\"}, {\"index\": 10, \"class\": \"ai_model\", \"text\": \"GPT\\u20115\", \"color\": \"#D2E3FC\", \"startPos\": 954, \"endPos\": 959, \"beforeText\": \"have a larger context window than its predecessors. As a result, it is capable of handling more agentic tasks and comes with multimodal capabilities. \", \"extractionText\": \"GPT\\u20115\", \"afterText\": \" is also widely rumoured to be adept at coding.\\n\\nThe upcoming launch of GPT\\u20115 comes at a time when OpenAI is facing significant pressure from its comp\", \"attributesHtml\": \"<div><strong>class:</strong> ai_model</div><div><strong>attributes:</strong> {<span class=\\\"lx-attr-key\\\">company</span>: <span class=\\\"lx-attr-value\\\">OpenAI</span>}</div>\"}, {\"index\": 11, \"class\": \"company_name\", \"text\": \"OpenAI\", \"color\": \"#C8E6C9\", \"startPos\": 1058, \"endPos\": 1064, \"beforeText\": \"tasks and comes with multimodal capabilities. GPT\\u20115 is also widely rumoured to be adept at coding.\\n\\nThe upcoming launch of GPT\\u20115 comes at a time when \", \"extractionText\": \"OpenAI\", \"afterText\": \" is facing significant pressure from its competitors who have launched new iterations of AI models over the past few months such as Google\\u2019s Gemini\\u202f2.\", \"attributesHtml\": \"<div><strong>class:</strong> company_name</div><div><strong>attributes:</strong> {<span class=\\\"lx-attr-key\\\">employee</span>: <span class=\\\"lx-attr-value\\\">Nick Turley</span>}</div>\"}, {\"index\": 12, \"class\": \"company_name\", \"text\": \"Google\", \"color\": \"#C8E6C9\", \"startPos\": 1196, \"endPos\": 1202, \"beforeText\": \"a time when OpenAI is facing significant pressure from its competitors who have launched new iterations of AI models over the past few months such as \", \"extractionText\": \"Google\", \"afterText\": \"\\u2019s Gemini\\u202f2.5\\u202fPro, XAI\\u2019s Grok\\u202f4, and Anthropic\\u2019s Claude\\u202fOpus\\u202f4.\\n\\nHowever, ChatGPT continues to witness substantial growth with the AI chatbot platform\", \"attributesHtml\": \"<div><strong>class:</strong> company_name</div><div><strong>attributes:</strong> {<span class=\\\"lx-attr-key\\\">employee</span>: <span class=\\\"lx-attr-value\\\">Unknown</span>}</div>\"}, {\"index\": 13, \"class\": \"ai_model\", \"text\": \"Gemini\\u202f2.5\\u202fPro\", \"color\": \"#D2E3FC\", \"startPos\": 1205, \"endPos\": 1219, \"beforeText\": \"en OpenAI is facing significant pressure from its competitors who have launched new iterations of AI models over the past few months such as Google\\u2019s \", \"extractionText\": \"Gemini\\u202f2.5\\u202fPro\", \"afterText\": \", XAI\\u2019s Grok\\u202f4, and Anthropic\\u2019s Claude\\u202fOpus\\u202f4.\\n\\nHowever, ChatGPT continues to witness substantial growth with the AI chatbot platform on track to reac\", \"attributesHtml\": \"<div><strong>class:</strong> ai_model</div><div><strong>attributes:</strong> {<span class=\\\"lx-attr-key\\\">company</span>: <span class=\\\"lx-attr-value\\\">Google</span>}</div>\"}, {\"index\": 14, \"class\": \"company_name\", \"text\": \"XAI\", \"color\": \"#C8E6C9\", \"startPos\": 1221, \"endPos\": 1224, \"beforeText\": \"ing significant pressure from its competitors who have launched new iterations of AI models over the past few months such as Google\\u2019s Gemini\\u202f2.5\\u202fPro, \", \"extractionText\": \"XAI\", \"afterText\": \"\\u2019s Grok\\u202f4, and Anthropic\\u2019s Claude\\u202fOpus\\u202f4.\\n\\nHowever, ChatGPT continues to witness substantial growth with the AI chatbot platform on track to reach 700\", \"attributesHtml\": \"<div><strong>class:</strong> company_name</div><div><strong>attributes:</strong> {<span class=\\\"lx-attr-key\\\">employee</span>: <span class=\\\"lx-attr-value\\\">Unknown</span>}</div>\"}, {\"index\": 15, \"class\": \"ai_model\", \"text\": \"Grok\\u202f4\", \"color\": \"#D2E3FC\", \"startPos\": 1227, \"endPos\": 1233, \"beforeText\": \"gnificant pressure from its competitors who have launched new iterations of AI models over the past few months such as Google\\u2019s Gemini\\u202f2.5\\u202fPro, XAI\\u2019s \", \"extractionText\": \"Grok\\u202f4\", \"afterText\": \", and Anthropic\\u2019s Claude\\u202fOpus\\u202f4.\\n\\nHowever, ChatGPT continues to witness substantial growth with the AI chatbot platform on track to reach 700 million \", \"attributesHtml\": \"<div><strong>class:</strong> ai_model</div><div><strong>attributes:</strong> {<span class=\\\"lx-attr-key\\\">company</span>: <span class=\\\"lx-attr-value\\\">XAI</span>}</div>\"}, {\"index\": 16, \"class\": \"company_name\", \"text\": \"Anthropic\", \"color\": \"#C8E6C9\", \"startPos\": 1239, \"endPos\": 1248, \"beforeText\": \"essure from its competitors who have launched new iterations of AI models over the past few months such as Google\\u2019s Gemini\\u202f2.5\\u202fPro, XAI\\u2019s Grok\\u202f4, and \", \"extractionText\": \"Anthropic\", \"afterText\": \"\\u2019s Claude\\u202fOpus\\u202f4.\\n\\nHowever, ChatGPT continues to witness substantial growth with the AI chatbot platform on track to reach 700 million weekly active u\", \"attributesHtml\": \"<div><strong>class:</strong> company_name</div><div><strong>attributes:</strong> {<span class=\\\"lx-attr-key\\\">employee</span>: <span class=\\\"lx-attr-value\\\">Unknown</span>}</div>\"}, {\"index\": 17, \"class\": \"ai_model\", \"text\": \"Claude\\u202fOpus\\u202f4\", \"color\": \"#D2E3FC\", \"startPos\": 1251, \"endPos\": 1264, \"beforeText\": \"its competitors who have launched new iterations of AI models over the past few months such as Google\\u2019s Gemini\\u202f2.5\\u202fPro, XAI\\u2019s Grok\\u202f4, and Anthropic\\u2019s \", \"extractionText\": \"Claude\\u202fOpus\\u202f4\", \"afterText\": \".\\n\\nHowever, ChatGPT continues to witness substantial growth with the AI chatbot platform on track to reach 700 million weekly active users this week, \", \"attributesHtml\": \"<div><strong>class:</strong> ai_model</div><div><strong>attributes:</strong> {<span class=\\\"lx-attr-key\\\">company</span>: <span class=\\\"lx-attr-value\\\">Anthropic</span>}</div>\"}, {\"index\": 18, \"class\": \"product\", \"text\": \"ChatGPT\", \"color\": \"#F9DEDC\", \"startPos\": 1276, \"endPos\": 1283, \"beforeText\": \"launched new iterations of AI models over the past few months such as Google\\u2019s Gemini\\u202f2.5\\u202fPro, XAI\\u2019s Grok\\u202f4, and Anthropic\\u2019s Claude\\u202fOpus\\u202f4.\\n\\nHowever, \", \"extractionText\": \"ChatGPT\", \"afterText\": \" continues to witness substantial growth with the AI chatbot platform on track to reach 700 million weekly active users this week, according to Nick T\", \"attributesHtml\": \"<div><strong>class:</strong> product</div><div><strong>attributes:</strong> {<span class=\\\"lx-attr-key\\\">company</span>: <span class=\\\"lx-attr-value\\\">OpenAI</span>}</div>\"}, {\"index\": 19, \"class\": \"person_name\", \"text\": \"Nick Turley\", \"color\": \"#FEF0C3\", \"startPos\": 1427, \"endPos\": 1438, \"beforeText\": \"hatGPT continues to witness substantial growth with the AI chatbot platform on track to reach 700 million weekly active users this week, according to \", \"extractionText\": \"Nick Turley\", \"afterText\": \", a vice president at OpenAI and head of the ChatGPT app.\\n\\nThis week, ChatGPT is on track to reach 700M weekly active users \\u2014 up from 500M at the end \", \"attributesHtml\": \"<div><strong>class:</strong> person_name</div><div><strong>attributes:</strong> {<span class=\\\"lx-attr-key\\\">company</span>: <span class=\\\"lx-attr-value\\\">OpenAI</span>}</div>\"}, {\"index\": 20, \"class\": \"company_name\", \"text\": \"OpenAI\", \"color\": \"#C8E6C9\", \"startPos\": 1867, \"endPos\": 1873, \"beforeText\": \" Grateful to the team for making ChatGPT more useful and\\u2026\\n\\u2014 Nick Turley (@nickaturley) August\\u202f4,\\u202f2025\\n\\nIts popularity surged in March this year after \", \"extractionText\": \"OpenAI\", \"afterText\": \" integrated an image generation feature into ChatGPT that kicked off the viral Ghibli trend on social media.\\n\\nAlso Read | OpenAI\\u2019s new image generator\", \"attributesHtml\": \"<div><strong>class:</strong> company_name</div><div><strong>attributes:</strong> {<span class=\\\"lx-attr-key\\\">employee</span>: <span class=\\\"lx-attr-value\\\">Brad Lightcap</span>}</div>\"}, {\"index\": 21, \"class\": \"product\", \"text\": \"ChatGPT\", \"color\": \"#F9DEDC\", \"startPos\": 1918, \"endPos\": 1925, \"beforeText\": \"l and\\u2026\\n\\u2014 Nick Turley (@nickaturley) August\\u202f4,\\u202f2025\\n\\nIts popularity surged in March this year after OpenAI integrated an image generation feature into \", \"extractionText\": \"ChatGPT\", \"afterText\": \" that kicked off the viral Ghibli trend on social media.\\n\\nAlso Read | OpenAI\\u2019s new image generator for ChatGPT triggers Ghibli fest: 10 best posts on \", \"attributesHtml\": \"<div><strong>class:</strong> product</div><div><strong>attributes:</strong> {<span class=\\\"lx-attr-key\\\">company</span>: <span class=\\\"lx-attr-value\\\">OpenAI</span>}</div>\"}, {\"index\": 22, \"class\": \"person_name\", \"text\": \"Brad Lightcap\", \"color\": \"#FEF0C3\", \"startPos\": 2109, \"endPos\": 2122, \"beforeText\": \"trend on social media.\\n\\nAlso Read | OpenAI\\u2019s new image generator for ChatGPT triggers Ghibli fest: 10 best posts on X\\n\\nOpenAI chief operating officer \", \"extractionText\": \"Brad Lightcap\", \"afterText\": \" stated that more than 130 million users generated over 700 million images after launching the image generation feature. Its active user base grew to \", \"attributesHtml\": \"<div><strong>class:</strong> person_name</div><div><strong>attributes:</strong> {<span class=\\\"lx-attr-key\\\">company</span>: <span class=\\\"lx-attr-value\\\">OpenAI</span>}</div>\"}, {\"index\": 23, \"class\": \"product\", \"text\": \"ChatGPT\", \"color\": \"#F9DEDC\", \"startPos\": 2324, \"endPos\": 2331, \"beforeText\": \"ver 700 million images after launching the image generation feature. Its active user base grew to 500 million that month.\\n\\nFurthermore, the number of \", \"extractionText\": \"ChatGPT\", \"afterText\": \" subscribers has also increased. According to Lightcap, paying corporate customers rose from 3 million in June to 5 million last week.\\n\\nChatGPT users \", \"attributesHtml\": \"<div><strong>class:</strong> product</div><div><strong>attributes:</strong> {<span class=\\\"lx-attr-key\\\">company</span>: <span class=\\\"lx-attr-value\\\">OpenAI</span>}</div>\"}, {\"index\": 24, \"class\": \"company_name\", \"text\": \"Google\", \"color\": \"#C8E6C9\", \"startPos\": 2561, \"endPos\": 2567, \"beforeText\": \"rs rose from 3 million in June to 5 million last week.\\n\\nChatGPT users utilise the app more than 12 days each month on average, ranking second only to \", \"extractionText\": \"Google\", \"afterText\": \" and X, according to data from Sensor Tower. It also found that users spent an average of 16\\u202fminutes per day on the AI chatbot app in the first half o\", \"attributesHtml\": \"<div><strong>class:</strong> company_name</div><div><strong>attributes:</strong> {}</div>\"}, {\"index\": 25, \"class\": \"company_name\", \"text\": \"X\", \"color\": \"#C8E6C9\", \"startPos\": 2572, \"endPos\": 2573, \"beforeText\": \"m 3 million in June to 5 million last week.\\n\\nChatGPT users utilise the app more than 12 days each month on average, ranking second only to Google and \", \"extractionText\": \"X\", \"afterText\": \", according to data from Sensor Tower. It also found that users spent an average of 16\\u202fminutes per day on the AI chatbot app in the first half of 2025\", \"attributesHtml\": \"<div><strong>class:</strong> company_name</div><div><strong>attributes:</strong> {}</div>\"}, {\"index\": 26, \"class\": \"product\", \"text\": \"AI chatbot app\", \"color\": \"#F9DEDC\", \"startPos\": 2683, \"endPos\": 2697, \"beforeText\": \"age, ranking second only to Google and X, according to data from Sensor Tower. It also found that users spent an average of 16\\u202fminutes per day on the \", \"extractionText\": \"AI chatbot app\", \"afterText\": \" in the first half of 2025.\", \"attributesHtml\": \"<div><strong>class:</strong> product</div><div><strong>attributes:</strong> {}</div>\"}];\n",
              "        let currentIndex = 0;\n",
              "        let isPlaying = false;\n",
              "        let animationInterval = null;\n",
              "        let animationSpeed = 1.0;\n",
              "\n",
              "        function updateDisplay() {\n",
              "          const extraction = extractions[currentIndex];\n",
              "          if (!extraction) return;\n",
              "\n",
              "          document.getElementById('attributesContainer').innerHTML = extraction.attributesHtml;\n",
              "          document.getElementById('entityInfo').textContent = (currentIndex + 1) + '/' + extractions.length;\n",
              "          document.getElementById('posInfo').textContent = '[' + extraction.startPos + '-' + extraction.endPos + ']';\n",
              "          document.getElementById('progressSlider').value = currentIndex;\n",
              "\n",
              "          const playBtn = document.querySelector('.lx-control-btn');\n",
              "          if (playBtn) playBtn.textContent = isPlaying ? '⏸ Pause' : '▶️ Play';\n",
              "\n",
              "          const prevHighlight = document.querySelector('.lx-text-window .lx-current-highlight');\n",
              "          if (prevHighlight) prevHighlight.classList.remove('lx-current-highlight');\n",
              "          const currentSpan = document.querySelector('.lx-text-window span[data-idx=\"' + currentIndex + '\"]');\n",
              "          if (currentSpan) {\n",
              "            currentSpan.classList.add('lx-current-highlight');\n",
              "            currentSpan.scrollIntoView({block: 'center', behavior: 'smooth'});\n",
              "          }\n",
              "        }\n",
              "\n",
              "        function nextExtraction() {\n",
              "          currentIndex = (currentIndex + 1) % extractions.length;\n",
              "          updateDisplay();\n",
              "        }\n",
              "\n",
              "        function prevExtraction() {\n",
              "          currentIndex = (currentIndex - 1 + extractions.length) % extractions.length;\n",
              "          updateDisplay();\n",
              "        }\n",
              "\n",
              "        function jumpToExtraction(index) {\n",
              "          currentIndex = parseInt(index);\n",
              "          updateDisplay();\n",
              "        }\n",
              "\n",
              "        function playPause() {\n",
              "          if (isPlaying) {\n",
              "            clearInterval(animationInterval);\n",
              "            isPlaying = false;\n",
              "          } else {\n",
              "            animationInterval = setInterval(nextExtraction, animationSpeed * 1000);\n",
              "            isPlaying = true;\n",
              "          }\n",
              "          updateDisplay();\n",
              "        }\n",
              "\n",
              "        window.playPause = playPause;\n",
              "        window.nextExtraction = nextExtraction;\n",
              "        window.prevExtraction = prevExtraction;\n",
              "        window.jumpToExtraction = jumpToExtraction;\n",
              "\n",
              "        updateDisplay();\n",
              "      })();\n",
              "    </script>"
            ]
          },
          "metadata": {},
          "execution_count": 27
        }
      ]
    },
    {
      "cell_type": "markdown",
      "source": [
        "### Print out the people mentioned"
      ],
      "metadata": {
        "id": "whLDWVpwYg_y"
      }
    },
    {
      "cell_type": "code",
      "source": [
        "for ex in result.extractions:\n",
        "    if ex.extraction_class == \"person_name\":\n",
        "        print(ex.extraction_class)\n",
        "        print(ex.extraction_text)\n",
        "        print(ex.attributes)\n",
        "        print(ex.char_interval)\n",
        "        print(\"====================\")"
      ],
      "metadata": {
        "colab": {
          "base_uri": "https://localhost:8080/"
        },
        "id": "jIyOvfC7UA9j",
        "outputId": "4453d826-1768-4db0-d16a-f762d958d87a"
      },
      "execution_count": null,
      "outputs": [
        {
          "output_type": "stream",
          "name": "stdout",
          "text": [
            "person_name\n",
            "Sam Altman\n",
            "{'company': 'OpenAI'}\n",
            "CharInterval(start_pos=9, end_pos=19)\n",
            "====================\n",
            "person_name\n",
            "Nick Turley\n",
            "{'company': 'OpenAI'}\n",
            "CharInterval(start_pos=1427, end_pos=1438)\n",
            "====================\n",
            "person_name\n",
            "Brad Lightcap\n",
            "{'company': 'OpenAI'}\n",
            "CharInterval(start_pos=2109, end_pos=2122)\n",
            "====================\n"
          ]
        }
      ]
    },
    {
      "cell_type": "markdown",
      "source": [
        "## Companies mentioned"
      ],
      "metadata": {
        "id": "TQO5s_ZGZB81"
      }
    },
    {
      "cell_type": "code",
      "source": [
        "unique_companies = set()\n",
        "for ex in result.extractions:\n",
        "    if ex.extraction_class == \"company_name\":\n",
        "        unique_companies.add(ex.extraction_text)\n",
        "\n",
        "for ex in result.extractions:\n",
        "    if ex.extraction_class == \"company_name\":\n",
        "        print(ex.extraction_text)\n",
        "        print(ex.char_interval)\n",
        "        print(\"====================\")\n",
        "\n",
        "print(unique_companies)"
      ],
      "metadata": {
        "colab": {
          "base_uri": "https://localhost:8080/"
        },
        "id": "W-6EuJv1WqPh",
        "outputId": "0be281f8-dddd-4c9f-d621-617e9a691fcd"
      },
      "execution_count": null,
      "outputs": [
        {
          "output_type": "stream",
          "name": "stdout",
          "text": [
            "OpenAI\n",
            "CharInterval(start_pos=0, end_pos=6)\n",
            "====================\n",
            "OpenAI\n",
            "CharInterval(start_pos=1058, end_pos=1064)\n",
            "====================\n",
            "Google\n",
            "CharInterval(start_pos=1196, end_pos=1202)\n",
            "====================\n",
            "XAI\n",
            "CharInterval(start_pos=1221, end_pos=1224)\n",
            "====================\n",
            "Anthropic\n",
            "CharInterval(start_pos=1239, end_pos=1248)\n",
            "====================\n",
            "OpenAI\n",
            "CharInterval(start_pos=1867, end_pos=1873)\n",
            "====================\n",
            "Google\n",
            "CharInterval(start_pos=2561, end_pos=2567)\n",
            "====================\n",
            "X\n",
            "CharInterval(start_pos=2572, end_pos=2573)\n",
            "====================\n",
            "{'Anthropic', 'OpenAI', 'XAI', 'X', 'Google'}\n"
          ]
        }
      ]
    },
    {
      "cell_type": "markdown",
      "source": [
        "##Using OpenAI Models\n"
      ],
      "metadata": {
        "id": "3KUfi9dSYeEx"
      }
    },
    {
      "cell_type": "markdown",
      "source": [
        "###Define Your Extraction Task\n",
        "First, create a prompt that clearly describes what you want to extract. Then, provide a high-quality example to guide the model."
      ],
      "metadata": {
        "id": "mbPztijWaT66"
      }
    },
    {
      "cell_type": "code",
      "source": [
        "import langextract as lx\n",
        "\n",
        "# Text with interleaved medication mentions\n",
        "input_text = \"\"\"\n",
        "The patient was prescribed Lisinopril and Metformin last month.\n",
        "He takes the Lisinopril 10mg daily for hypertension, but often misses\n",
        "his Metformin 500mg dose which should be taken twice daily for diabetes.\n",
        "\"\"\"\n",
        "\n",
        "# Define extraction prompt\n",
        "prompt_description = \"\"\"\n",
        "Extract medications with their details, using attributes to group related information:\n",
        "\n",
        "1. Extract entities in the order they appear in the text\n",
        "2. Each entity must have a 'medication_group' attribute linking it to its medication\n",
        "3. All details about a medication should share the same medication_group value\n",
        "\"\"\"\n",
        "\n",
        "# Define example data with medication groups\n",
        "examples = [\n",
        "    lx.data.ExampleData(\n",
        "        text=\"Patient takes Aspirin 100mg daily for heart health and Simvastatin 20mg at bedtime.\",\n",
        "        extractions=[\n",
        "            # First medication group\n",
        "            lx.data.Extraction(\n",
        "                extraction_class=\"medication\",\n",
        "                extraction_text=\"Aspirin\",\n",
        "                attributes={\"medication_group\": \"Aspirin\"}  # Group identifier\n",
        "            ),\n",
        "            lx.data.Extraction(\n",
        "                extraction_class=\"dosage\",\n",
        "                extraction_text=\"100mg\",\n",
        "                attributes={\"medication_group\": \"Aspirin\"}\n",
        "            ),\n",
        "            lx.data.Extraction(\n",
        "                extraction_class=\"frequency\",\n",
        "                extraction_text=\"daily\",\n",
        "                attributes={\"medication_group\": \"Aspirin\"}\n",
        "            ),\n",
        "            lx.data.Extraction(\n",
        "                extraction_class=\"condition\",\n",
        "                extraction_text=\"heart health\",\n",
        "                attributes={\"medication_group\": \"Aspirin\"}\n",
        "            ),\n",
        "\n",
        "            # Second medication group\n",
        "            lx.data.Extraction(\n",
        "                extraction_class=\"medication\",\n",
        "                extraction_text=\"Simvastatin\",\n",
        "                attributes={\"medication_group\": \"Simvastatin\"}\n",
        "            ),\n",
        "            lx.data.Extraction(\n",
        "                extraction_class=\"dosage\",\n",
        "                extraction_text=\"20mg\",\n",
        "                attributes={\"medication_group\": \"Simvastatin\"}\n",
        "            ),\n",
        "            lx.data.Extraction(\n",
        "                extraction_class=\"frequency\",\n",
        "                extraction_text=\"at bedtime\",\n",
        "                attributes={\"medication_group\": \"Simvastatin\"}\n",
        "            )\n",
        "        ]\n",
        "    )\n",
        "]\n"
      ],
      "metadata": {
        "id": "Fb8iLN81Ye6G"
      },
      "execution_count": null,
      "outputs": []
    },
    {
      "cell_type": "markdown",
      "source": [
        "###Run the Extraction\n",
        "Provide your input text and the prompt materials to the lx.extract function.\n",
        "\n"
      ],
      "metadata": {
        "id": "L6HuwYH2aaVa"
      }
    },
    {
      "cell_type": "code",
      "source": [
        "result = lx.extract(\n",
        "    text_or_documents=input_text,\n",
        "    prompt_description=prompt,\n",
        "    examples=examples,\n",
        "    language_model_type=lx.inference.OpenAILanguageModel,\n",
        "    model_id=\"gpt-4o\",\n",
        "    api_key=os.environ.get('OPENAI_API_KEY'),\n",
        "    fence_output=True,\n",
        "    use_schema_constraints=False\n",
        ")"
      ],
      "metadata": {
        "colab": {
          "base_uri": "https://localhost:8080/"
        },
        "id": "GFBmNVKfZ-ht",
        "outputId": "223a365e-187d-4a00-d3b9-9d92f00d274e"
      },
      "execution_count": null,
      "outputs": [
        {
          "output_type": "stream",
          "name": "stderr",
          "text": [
            "\u001b[94m\u001b[1mLangExtract\u001b[0m: model=\u001b[92mgpt-4o\u001b[0m, current=\u001b[92m206\u001b[0m chars, processed=\u001b[92m206\u001b[0m chars:  [00:02]"
          ]
        },
        {
          "output_type": "stream",
          "name": "stdout",
          "text": [
            "\u001b[92m✓\u001b[0m Extraction processing complete\n",
            "\u001b[92m✓\u001b[0m Extracted \u001b[1m8\u001b[0m entities (\u001b[1m4\u001b[0m unique types)\n",
            "  \u001b[96m•\u001b[0m Time: \u001b[1m2.83s\u001b[0m\n",
            "  \u001b[96m•\u001b[0m Speed: \u001b[1m73\u001b[0m chars/sec\n",
            "  \u001b[96m•\u001b[0m Chunks: \u001b[1m1\u001b[0m\n"
          ]
        },
        {
          "output_type": "stream",
          "name": "stderr",
          "text": [
            "\n"
          ]
        }
      ]
    },
    {
      "cell_type": "code",
      "source": [
        "result"
      ],
      "metadata": {
        "colab": {
          "base_uri": "https://localhost:8080/"
        },
        "id": "xyzVFWLwbbFa",
        "outputId": "0e68964f-1928-4187-fbec-245ec276e4a0"
      },
      "execution_count": null,
      "outputs": [
        {
          "output_type": "execute_result",
          "data": {
            "text/plain": [
              "AnnotatedDocument(extractions=[Extraction(extraction_class='medication', extraction_text='Lisinopril', char_interval=CharInterval(start_pos=28, end_pos=38), alignment_status=<AlignmentStatus.MATCH_EXACT: 'match_exact'>, extraction_index=1, group_index=0, description=None, attributes={'medication_group': 'Lisinopril'}), Extraction(extraction_class='medication', extraction_text='Metformin', char_interval=CharInterval(start_pos=43, end_pos=52), alignment_status=<AlignmentStatus.MATCH_EXACT: 'match_exact'>, extraction_index=2, group_index=1, description=None, attributes={'medication_group': 'Metformin'}), Extraction(extraction_class='dosage', extraction_text='10mg', char_interval=CharInterval(start_pos=89, end_pos=93), alignment_status=<AlignmentStatus.MATCH_EXACT: 'match_exact'>, extraction_index=3, group_index=2, description=None, attributes={'medication_group': 'Lisinopril'}), Extraction(extraction_class='frequency', extraction_text='daily', char_interval=CharInterval(start_pos=94, end_pos=99), alignment_status=<AlignmentStatus.MATCH_EXACT: 'match_exact'>, extraction_index=4, group_index=3, description=None, attributes={'medication_group': 'Lisinopril'}), Extraction(extraction_class='condition', extraction_text='hypertension', char_interval=CharInterval(start_pos=104, end_pos=116), alignment_status=<AlignmentStatus.MATCH_EXACT: 'match_exact'>, extraction_index=5, group_index=4, description=None, attributes={'medication_group': 'Lisinopril'}), Extraction(extraction_class='dosage', extraction_text='500mg', char_interval=CharInterval(start_pos=149, end_pos=154), alignment_status=<AlignmentStatus.MATCH_EXACT: 'match_exact'>, extraction_index=6, group_index=5, description=None, attributes={'medication_group': 'Metformin'}), Extraction(extraction_class='frequency', extraction_text='twice daily', char_interval=CharInterval(start_pos=182, end_pos=193), alignment_status=<AlignmentStatus.MATCH_EXACT: 'match_exact'>, extraction_index=7, group_index=6, description=None, attributes={'medication_group': 'Metformin'}), Extraction(extraction_class='condition', extraction_text='diabetes', char_interval=CharInterval(start_pos=198, end_pos=206), alignment_status=<AlignmentStatus.MATCH_EXACT: 'match_exact'>, extraction_index=8, group_index=7, description=None, attributes={'medication_group': 'Metformin'})], text='\\nThe patient was prescribed Lisinopril and Metformin last month.\\nHe takes the Lisinopril 10mg daily for hypertension, but often misses\\nhis Metformin 500mg dose which should be taken twice daily for diabetes.\\n')"
            ]
          },
          "metadata": {},
          "execution_count": 33
        }
      ]
    },
    {
      "cell_type": "markdown",
      "source": [
        "###Visualize the Results\n"
      ],
      "metadata": {
        "id": "hccSzIPybnXV"
      }
    },
    {
      "cell_type": "code",
      "source": [
        "# Save the results to a JSONL file\n",
        "lx.io.save_annotated_documents([result], output_name=\"extraction_results.jsonl\", output_dir=\".\")\n",
        "\n",
        "# visualize returns an IPython HTML object\n",
        "html_object = lx.visualize(\"extraction_results.jsonl\")\n",
        "\n",
        "# extract the raw HTML string\n",
        "html_string = html_object.data  # Not str(html_object), but .data\n",
        "\n",
        "# Get HTML as string\n",
        "html_string = html_object.data\n",
        "\n",
        "# Inject custom CSS for better contrast\n",
        "custom_css = \"\"\"\n",
        "<style>\n",
        "body {\n",
        "    background-color: white !important;\n",
        "    color: black !important;\n",
        "}\n",
        ".entity.character {\n",
        "    background-color: #DDEEFF !important;\n",
        "    color: black !important;\n",
        "}\n",
        ".entity.emotion {\n",
        "    background-color: #C0F5C0 !important;\n",
        "    color: black !important;\n",
        "}\n",
        ".entity.relationship {\n",
        "    background-color: #FFEDB3 !important;\n",
        "    color: black !important;\n",
        "}\n",
        "</style>\n",
        "\"\"\"\n",
        "\n",
        "# Prepend the CSS to the HTML string\n",
        "patched_html = custom_css + html_string\n",
        "\n",
        "# Save patched HTML\n",
        "with open(\"visualization.html\", \"w\") as f:\n",
        "    f.write(patched_html)\n",
        "\n",
        "# Display\n",
        "from IPython.display import HTML\n",
        "HTML(patched_html)"
      ],
      "metadata": {
        "colab": {
          "base_uri": "https://localhost:8080/",
          "height": 554
        },
        "id": "7krelDMNbfBM",
        "outputId": "53128489-c1fd-4b73-b957-51956ed784e7"
      },
      "execution_count": null,
      "outputs": [
        {
          "output_type": "stream",
          "name": "stderr",
          "text": [
            "\u001b[94m\u001b[1mLangExtract\u001b[0m: Saving to \u001b[92mextraction_results.jsonl\u001b[0m: 1 docs [00:00, 566.26 docs/s]"
          ]
        },
        {
          "output_type": "stream",
          "name": "stdout",
          "text": [
            "\u001b[92m✓\u001b[0m Saved \u001b[1m1\u001b[0m documents to \u001b[92mextraction_results.jsonl\u001b[0m\n"
          ]
        },
        {
          "output_type": "stream",
          "name": "stderr",
          "text": [
            "\n",
            "\u001b[94m\u001b[1mLangExtract\u001b[0m: Loading \u001b[92mextraction_results.jsonl\u001b[0m: 100%|██████████| 2.38k/2.38k [00:00<00:00, 3.72MB/s]"
          ]
        },
        {
          "output_type": "stream",
          "name": "stdout",
          "text": [
            "\u001b[92m✓\u001b[0m Loaded \u001b[1m1\u001b[0m documents from \u001b[92mextraction_results.jsonl\u001b[0m\n"
          ]
        },
        {
          "output_type": "stream",
          "name": "stderr",
          "text": [
            "\n"
          ]
        },
        {
          "output_type": "execute_result",
          "data": {
            "text/plain": [
              "<IPython.core.display.HTML object>"
            ],
            "text/html": [
              "\n",
              "<style>\n",
              "body {\n",
              "    background-color: white !important;\n",
              "    color: black !important;\n",
              "}\n",
              ".entity.character {\n",
              "    background-color: #DDEEFF !important;\n",
              "    color: black !important;\n",
              "}\n",
              ".entity.emotion {\n",
              "    background-color: #C0F5C0 !important;\n",
              "    color: black !important;\n",
              "}\n",
              ".entity.relationship {\n",
              "    background-color: #FFEDB3 !important;\n",
              "    color: black !important;\n",
              "}\n",
              "</style>\n",
              "<style>\n",
              ".lx-highlight { position: relative; border-radius:3px; padding:1px 2px;}\n",
              ".lx-highlight .lx-tooltip {\n",
              "  visibility: hidden;\n",
              "  opacity: 0;\n",
              "  transition: opacity 0.2s ease-in-out;\n",
              "  background: #333;\n",
              "  color: #fff;\n",
              "  text-align: left;\n",
              "  border-radius: 4px;\n",
              "  padding: 6px 8px;\n",
              "  position: absolute;\n",
              "  z-index: 1000;\n",
              "  bottom: 125%;\n",
              "  left: 50%;\n",
              "  transform: translateX(-50%);\n",
              "  font-size: 12px;\n",
              "  max-width: 240px;\n",
              "  white-space: normal;\n",
              "  box-shadow: 0 2px 6px rgba(0,0,0,0.3);\n",
              "}\n",
              ".lx-highlight:hover .lx-tooltip { visibility: visible; opacity:1; }\n",
              ".lx-animated-wrapper { max-width: 100%; font-family: Arial, sans-serif; }\n",
              ".lx-controls {\n",
              "  background: #fafafa; border: 1px solid #90caf9; border-radius: 8px;\n",
              "  padding: 12px; margin-bottom: 16px;\n",
              "}\n",
              ".lx-button-row {\n",
              "  display: flex; justify-content: center; gap: 8px; margin-bottom: 12px;\n",
              "}\n",
              ".lx-control-btn {\n",
              "  background: #4285f4; color: white; border: none; border-radius: 4px;\n",
              "  padding: 8px 16px; cursor: pointer; font-size: 13px; font-weight: 500;\n",
              "  transition: background-color 0.2s;\n",
              "}\n",
              ".lx-control-btn:hover { background: #3367d6; }\n",
              ".lx-progress-container {\n",
              "  margin-bottom: 8px;\n",
              "}\n",
              ".lx-progress-slider {\n",
              "  width: 100%; margin: 0; appearance: none; height: 6px;\n",
              "  background: #ddd; border-radius: 3px; outline: none;\n",
              "}\n",
              ".lx-progress-slider::-webkit-slider-thumb {\n",
              "  appearance: none; width: 18px; height: 18px; background: #4285f4;\n",
              "  border-radius: 50%; cursor: pointer;\n",
              "}\n",
              ".lx-progress-slider::-moz-range-thumb {\n",
              "  width: 18px; height: 18px; background: #4285f4; border-radius: 50%;\n",
              "  cursor: pointer; border: none;\n",
              "}\n",
              ".lx-status-text {\n",
              "  text-align: center; font-size: 12px; color: #666; margin-top: 4px;\n",
              "}\n",
              ".lx-text-window {\n",
              "  font-family: monospace; white-space: pre-wrap; border: 1px solid #90caf9;\n",
              "  padding: 12px; max-height: 260px; overflow-y: auto; margin-bottom: 12px;\n",
              "  line-height: 1.6;\n",
              "}\n",
              ".lx-attributes-panel {\n",
              "  background: #fafafa; border: 1px solid #90caf9; border-radius: 6px;\n",
              "  padding: 8px 10px; margin-top: 8px; font-size: 13px;\n",
              "}\n",
              ".lx-current-highlight {\n",
              "  border-bottom: 4px solid #ff4444;\n",
              "  font-weight: bold;\n",
              "  animation: lx-pulse 1s ease-in-out;\n",
              "}\n",
              "@keyframes lx-pulse {\n",
              "  0% { text-decoration-color: #ff4444; }\n",
              "  50% { text-decoration-color: #ff0000; }\n",
              "  100% { text-decoration-color: #ff4444; }\n",
              "}\n",
              ".lx-legend {\n",
              "  font-size: 12px; margin-bottom: 8px;\n",
              "  padding-bottom: 8px; border-bottom: 1px solid #e0e0e0;\n",
              "}\n",
              ".lx-label {\n",
              "  display: inline-block;\n",
              "  padding: 2px 4px;\n",
              "  border-radius: 3px;\n",
              "  margin-right: 4px;\n",
              "  color: #000;\n",
              "}\n",
              ".lx-attr-key {\n",
              "  font-weight: 600;\n",
              "  color: #1565c0;\n",
              "  letter-spacing: 0.3px;\n",
              "}\n",
              ".lx-attr-value {\n",
              "  font-weight: 400;\n",
              "  opacity: 0.85;\n",
              "  letter-spacing: 0.2px;\n",
              "}\n",
              "\n",
              "/* Add optimizations with larger fonts and better readability for GIFs */\n",
              ".lx-gif-optimized .lx-text-window { font-size: 16px; line-height: 1.8; }\n",
              ".lx-gif-optimized .lx-attributes-panel { font-size: 15px; }\n",
              ".lx-gif-optimized .lx-current-highlight { text-decoration-thickness: 4px; }\n",
              "</style>\n",
              "    <div class=\"lx-animated-wrapper lx-gif-optimized\">\n",
              "      <div class=\"lx-attributes-panel\">\n",
              "        <div class=\"lx-legend\">Highlights Legend: <span class=\"lx-label\" style=\"background-color:#D2E3FC;\">condition</span> <span class=\"lx-label\" style=\"background-color:#C8E6C9;\">dosage</span> <span class=\"lx-label\" style=\"background-color:#FEF0C3;\">frequency</span> <span class=\"lx-label\" style=\"background-color:#F9DEDC;\">medication</span></div>\n",
              "        <div id=\"attributesContainer\"></div>\n",
              "      </div>\n",
              "      <div class=\"lx-text-window\" id=\"textWindow\">\n",
              "\n",
              "The patient was prescribed <span class=\"lx-highlight lx-current-highlight\" data-idx=\"0\" style=\"background-color:#F9DEDC;\">Lisinopril</span> and <span class=\"lx-highlight\" data-idx=\"1\" style=\"background-color:#F9DEDC;\">Metformin</span> last month.\n",
              "He takes the Lisinopril <span class=\"lx-highlight\" data-idx=\"2\" style=\"background-color:#C8E6C9;\">10mg</span> <span class=\"lx-highlight\" data-idx=\"3\" style=\"background-color:#FEF0C3;\">daily</span> for <span class=\"lx-highlight\" data-idx=\"4\" style=\"background-color:#D2E3FC;\">hypertension</span>, but often misses\n",
              "his Metformin <span class=\"lx-highlight\" data-idx=\"5\" style=\"background-color:#C8E6C9;\">500mg</span> dose which should be taken <span class=\"lx-highlight\" data-idx=\"6\" style=\"background-color:#FEF0C3;\">twice daily</span> for <span class=\"lx-highlight\" data-idx=\"7\" style=\"background-color:#D2E3FC;\">diabetes</span>.\n",
              "\n",
              "      </div>\n",
              "      <div class=\"lx-controls\">\n",
              "        <div class=\"lx-button-row\">\n",
              "          <button class=\"lx-control-btn\" onclick=\"playPause()\">▶️ Play</button>\n",
              "          <button class=\"lx-control-btn\" onclick=\"prevExtraction()\">⏮ Previous</button>\n",
              "          <button class=\"lx-control-btn\" onclick=\"nextExtraction()\">⏭ Next</button>\n",
              "        </div>\n",
              "        <div class=\"lx-progress-container\">\n",
              "          <input type=\"range\" id=\"progressSlider\" class=\"lx-progress-slider\"\n",
              "                 min=\"0\" max=\"7\" value=\"0\"\n",
              "                 onchange=\"jumpToExtraction(this.value)\">\n",
              "        </div>\n",
              "        <div class=\"lx-status-text\">\n",
              "          Entity <span id=\"entityInfo\">1/8</span> |\n",
              "          Pos <span id=\"posInfo\">[28-38]</span>\n",
              "        </div>\n",
              "      </div>\n",
              "    </div>\n",
              "\n",
              "    <script>\n",
              "      (function() {\n",
              "        const extractions = [{\"index\": 0, \"class\": \"medication\", \"text\": \"Lisinopril\", \"color\": \"#F9DEDC\", \"startPos\": 28, \"endPos\": 38, \"beforeText\": \"\\nThe patient was prescribed \", \"extractionText\": \"Lisinopril\", \"afterText\": \" and Metformin last month.\\nHe takes the Lisinopril 10mg daily for hypertension, but often misses\\nhis Metformin 500mg dose which should be taken twice \", \"attributesHtml\": \"<div><strong>class:</strong> medication</div><div><strong>attributes:</strong> {<span class=\\\"lx-attr-key\\\">medication_group</span>: <span class=\\\"lx-attr-value\\\">Lisinopril</span>}</div>\"}, {\"index\": 1, \"class\": \"medication\", \"text\": \"Metformin\", \"color\": \"#F9DEDC\", \"startPos\": 43, \"endPos\": 52, \"beforeText\": \"\\nThe patient was prescribed Lisinopril and \", \"extractionText\": \"Metformin\", \"afterText\": \" last month.\\nHe takes the Lisinopril 10mg daily for hypertension, but often misses\\nhis Metformin 500mg dose which should be taken twice daily for diab\", \"attributesHtml\": \"<div><strong>class:</strong> medication</div><div><strong>attributes:</strong> {<span class=\\\"lx-attr-key\\\">medication_group</span>: <span class=\\\"lx-attr-value\\\">Metformin</span>}</div>\"}, {\"index\": 2, \"class\": \"dosage\", \"text\": \"10mg\", \"color\": \"#C8E6C9\", \"startPos\": 89, \"endPos\": 93, \"beforeText\": \"\\nThe patient was prescribed Lisinopril and Metformin last month.\\nHe takes the Lisinopril \", \"extractionText\": \"10mg\", \"afterText\": \" daily for hypertension, but often misses\\nhis Metformin 500mg dose which should be taken twice daily for diabetes.\\n\", \"attributesHtml\": \"<div><strong>class:</strong> dosage</div><div><strong>attributes:</strong> {<span class=\\\"lx-attr-key\\\">medication_group</span>: <span class=\\\"lx-attr-value\\\">Lisinopril</span>}</div>\"}, {\"index\": 3, \"class\": \"frequency\", \"text\": \"daily\", \"color\": \"#FEF0C3\", \"startPos\": 94, \"endPos\": 99, \"beforeText\": \"\\nThe patient was prescribed Lisinopril and Metformin last month.\\nHe takes the Lisinopril 10mg \", \"extractionText\": \"daily\", \"afterText\": \" for hypertension, but often misses\\nhis Metformin 500mg dose which should be taken twice daily for diabetes.\\n\", \"attributesHtml\": \"<div><strong>class:</strong> frequency</div><div><strong>attributes:</strong> {<span class=\\\"lx-attr-key\\\">medication_group</span>: <span class=\\\"lx-attr-value\\\">Lisinopril</span>}</div>\"}, {\"index\": 4, \"class\": \"condition\", \"text\": \"hypertension\", \"color\": \"#D2E3FC\", \"startPos\": 104, \"endPos\": 116, \"beforeText\": \"\\nThe patient was prescribed Lisinopril and Metformin last month.\\nHe takes the Lisinopril 10mg daily for \", \"extractionText\": \"hypertension\", \"afterText\": \", but often misses\\nhis Metformin 500mg dose which should be taken twice daily for diabetes.\\n\", \"attributesHtml\": \"<div><strong>class:</strong> condition</div><div><strong>attributes:</strong> {<span class=\\\"lx-attr-key\\\">medication_group</span>: <span class=\\\"lx-attr-value\\\">Lisinopril</span>}</div>\"}, {\"index\": 5, \"class\": \"dosage\", \"text\": \"500mg\", \"color\": \"#C8E6C9\", \"startPos\": 149, \"endPos\": 154, \"beforeText\": \"\\nThe patient was prescribed Lisinopril and Metformin last month.\\nHe takes the Lisinopril 10mg daily for hypertension, but often misses\\nhis Metformin \", \"extractionText\": \"500mg\", \"afterText\": \" dose which should be taken twice daily for diabetes.\\n\", \"attributesHtml\": \"<div><strong>class:</strong> dosage</div><div><strong>attributes:</strong> {<span class=\\\"lx-attr-key\\\">medication_group</span>: <span class=\\\"lx-attr-value\\\">Metformin</span>}</div>\"}, {\"index\": 6, \"class\": \"frequency\", \"text\": \"twice daily\", \"color\": \"#FEF0C3\", \"startPos\": 182, \"endPos\": 193, \"beforeText\": \"nopril and Metformin last month.\\nHe takes the Lisinopril 10mg daily for hypertension, but often misses\\nhis Metformin 500mg dose which should be taken \", \"extractionText\": \"twice daily\", \"afterText\": \" for diabetes.\\n\", \"attributesHtml\": \"<div><strong>class:</strong> frequency</div><div><strong>attributes:</strong> {<span class=\\\"lx-attr-key\\\">medication_group</span>: <span class=\\\"lx-attr-value\\\">Metformin</span>}</div>\"}, {\"index\": 7, \"class\": \"condition\", \"text\": \"diabetes\", \"color\": \"#D2E3FC\", \"startPos\": 198, \"endPos\": 206, \"beforeText\": \"rmin last month.\\nHe takes the Lisinopril 10mg daily for hypertension, but often misses\\nhis Metformin 500mg dose which should be taken twice daily for \", \"extractionText\": \"diabetes\", \"afterText\": \".\\n\", \"attributesHtml\": \"<div><strong>class:</strong> condition</div><div><strong>attributes:</strong> {<span class=\\\"lx-attr-key\\\">medication_group</span>: <span class=\\\"lx-attr-value\\\">Metformin</span>}</div>\"}];\n",
              "        let currentIndex = 0;\n",
              "        let isPlaying = false;\n",
              "        let animationInterval = null;\n",
              "        let animationSpeed = 1.0;\n",
              "\n",
              "        function updateDisplay() {\n",
              "          const extraction = extractions[currentIndex];\n",
              "          if (!extraction) return;\n",
              "\n",
              "          document.getElementById('attributesContainer').innerHTML = extraction.attributesHtml;\n",
              "          document.getElementById('entityInfo').textContent = (currentIndex + 1) + '/' + extractions.length;\n",
              "          document.getElementById('posInfo').textContent = '[' + extraction.startPos + '-' + extraction.endPos + ']';\n",
              "          document.getElementById('progressSlider').value = currentIndex;\n",
              "\n",
              "          const playBtn = document.querySelector('.lx-control-btn');\n",
              "          if (playBtn) playBtn.textContent = isPlaying ? '⏸ Pause' : '▶️ Play';\n",
              "\n",
              "          const prevHighlight = document.querySelector('.lx-text-window .lx-current-highlight');\n",
              "          if (prevHighlight) prevHighlight.classList.remove('lx-current-highlight');\n",
              "          const currentSpan = document.querySelector('.lx-text-window span[data-idx=\"' + currentIndex + '\"]');\n",
              "          if (currentSpan) {\n",
              "            currentSpan.classList.add('lx-current-highlight');\n",
              "            currentSpan.scrollIntoView({block: 'center', behavior: 'smooth'});\n",
              "          }\n",
              "        }\n",
              "\n",
              "        function nextExtraction() {\n",
              "          currentIndex = (currentIndex + 1) % extractions.length;\n",
              "          updateDisplay();\n",
              "        }\n",
              "\n",
              "        function prevExtraction() {\n",
              "          currentIndex = (currentIndex - 1 + extractions.length) % extractions.length;\n",
              "          updateDisplay();\n",
              "        }\n",
              "\n",
              "        function jumpToExtraction(index) {\n",
              "          currentIndex = parseInt(index);\n",
              "          updateDisplay();\n",
              "        }\n",
              "\n",
              "        function playPause() {\n",
              "          if (isPlaying) {\n",
              "            clearInterval(animationInterval);\n",
              "            isPlaying = false;\n",
              "          } else {\n",
              "            animationInterval = setInterval(nextExtraction, animationSpeed * 1000);\n",
              "            isPlaying = true;\n",
              "          }\n",
              "          updateDisplay();\n",
              "        }\n",
              "\n",
              "        window.playPause = playPause;\n",
              "        window.nextExtraction = nextExtraction;\n",
              "        window.prevExtraction = prevExtraction;\n",
              "        window.jumpToExtraction = jumpToExtraction;\n",
              "\n",
              "        updateDisplay();\n",
              "      })();\n",
              "    </script>"
            ]
          },
          "metadata": {},
          "execution_count": 34
        }
      ]
    }
  ]
}