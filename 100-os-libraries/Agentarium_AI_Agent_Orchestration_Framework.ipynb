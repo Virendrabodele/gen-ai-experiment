{
  "nbformat": 4,
  "nbformat_minor": 0,
  "metadata": {
    "colab": {
      "provenance": []
    },
    "kernelspec": {
      "name": "python3",
      "display_name": "Python 3"
    },
    "language_info": {
      "name": "python"
    }
  },
  "cells": [
    {
      "cell_type": "markdown",
      "source": [
        "<img src=\"https://drive.google.com/uc?export=view&id=1wYSMgJtARFdvTt5g7E20mE4NmwUFUuog\" width=\"200\">\n",
        "\n",
        "[![Build Fast with AI](https://img.shields.io/badge/BuildFastWithAI-GenAI%20Bootcamp-blue?style=for-the-badge&logo=artificial-intelligence)](https://www.buildfastwithai.com/genai-course)\n",
        "[![EduChain GitHub](https://img.shields.io/github/stars/satvik314/educhain?style=for-the-badge&logo=github&color=gold)](https://github.com/satvik314/educhain)\n",
        "\n",
        "[![Open In Colab](https://colab.research.google.com/assets/colab-badge.svg)](https://colab.research.google.com/drive/1JZCePOEnb0HnvUhod5_u4BezORhmJK8U?usp=sharing)\n",
        "## Master Generative AI in 6 Weeks\n",
        "**What You'll Learn:**\n",
        "- Build with Latest LLMs\n",
        "- Create Custom AI Apps\n",
        "- Learn from Industry Experts\n",
        "- Join Innovation Community\n",
        "Transform your AI ideas into reality through hands-on projects and expert mentorship.\n",
        "[Start Your Journey](https://www.buildfastwithai.com/genai-course)\n",
        "*Empowering the Next Generation of AI Innovators"
      ],
      "metadata": {
        "id": "K96mX1fYs0YE"
      }
    },
    {
      "cell_type": "markdown",
      "source": [
        "### **🚀 Agentarium: AI Agent Orchestration Framework**  \n",
        "\n",
        "A powerful Python framework for managing and orchestrating AI agents with ease. Agentarium provides a flexible and intuitive way to create, manage, and coordinate interactions between multiple AI agents in various environments.  \n",
        "\n",
        "#### ✨ Features  \n",
        "- 🤖 **Advanced Agent Management**: Create and orchestrate multiple AI agents with different roles and capabilities.  \n",
        "- 🔄 **Autonomous Decision Making**: Agents can make decisions and take actions based on their context.  \n",
        "- 💾 **Checkpoint System**: Save and restore agent states and interactions for reproducibility.  \n",
        "- 🎭 **Customizable Actions**: Define custom actions beyond the default talk/think capabilities.  \n",
        "- 🧠 **Memory & Context**: Agents maintain memory of past interactions for contextual responses.  \n",
        "- ⚡ **AI Integration**: Seamless integration with various AI providers through aisuite.  \n",
        "- ⚡ **Performance Optimized**: Built for efficiency and scalability.  \n",
        "- 🛠️ **Extensible Architecture**: Easy to extend and customize for your specific needs.  \n"
      ],
      "metadata": {
        "id": "z5clz-JTszyZ"
      }
    },
    {
      "cell_type": "markdown",
      "source": [
        "###**Setup and Installation**"
      ],
      "metadata": {
        "id": "YKcl9tImszmh"
      }
    },
    {
      "cell_type": "code",
      "source": [
        "pip install agentarium"
      ],
      "metadata": {
        "id": "XNeZBxbNkVfh"
      },
      "execution_count": null,
      "outputs": []
    },
    {
      "cell_type": "code",
      "source": [
        "from google.colab import userdata\n",
        "import os\n",
        "\n",
        "os.environ['OPENAI_API_KEY']=userdata.get('OPENAI_API_KEY')"
      ],
      "metadata": {
        "id": "SqfTybfrlJgu"
      },
      "execution_count": null,
      "outputs": []
    },
    {
      "cell_type": "markdown",
      "source": [
        "### **🤖 Creating AI Agents with Agentarium**\n",
        "\n",
        "\n",
        "\n",
        "\n",
        "\n",
        "\n"
      ],
      "metadata": {
        "id": "Z50eWbjw4bJg"
      }
    },
    {
      "cell_type": "code",
      "source": [
        "from agentarium import Agent\n",
        "\n",
        "alice = Agent.create_agent(name=\"Alice\", occupation=\"Software Engineer\")\n",
        "bob = Agent.create_agent(name=\"Bob\", occupation=\"Data Scientist\")"
      ],
      "metadata": {
        "id": "J17dZv6skWbv"
      },
      "execution_count": null,
      "outputs": []
    },
    {
      "cell_type": "markdown",
      "source": [
        "### **💬 Agent Communication in Agentarium**\n",
        "\n",
        "\n",
        "\n",
        "\n",
        "\n",
        "\n"
      ],
      "metadata": {
        "id": "nFA9nVpn4fu3"
      }
    },
    {
      "cell_type": "code",
      "source": [
        "alice.talk_to(bob, \"Hello Bob! I heard you're working on some interesting ML projects.\")\n",
        "bob.talk_to(alice, \"Hi Alice! Yes, I am. We're trying to predict customer churn.\")"
      ],
      "metadata": {
        "colab": {
          "base_uri": "https://localhost:8080/"
        },
        "id": "g4A4lig-rnrA",
        "outputId": "1a3054bb-a3cf-477e-cbae-15ff1274cf96"
      },
      "execution_count": null,
      "outputs": [
        {
          "output_type": "execute_result",
          "data": {
            "text/plain": [
              "{'sender': 'd0bc3515-92d2-46c0-be1e-0d11c7095442',\n",
              " 'receiver': ['cebf077c-1d5b-45d3-9682-db135df96e0b'],\n",
              " 'message': \"Hi Alice! Yes, I am. We're trying to predict customer churn.\",\n",
              " 'action': 'talk'}"
            ]
          },
          "metadata": {},
          "execution_count": 4
        }
      ]
    },
    {
      "cell_type": "markdown",
      "source": [
        "### **🧠 Agent Thought Process in Agentarium**\n",
        "\n"
      ],
      "metadata": {
        "id": "cJU1K-7P4mks"
      }
    },
    {
      "cell_type": "code",
      "source": [
        "alice.think(\"I should probably learn more about customer churn.\")\n"
      ],
      "metadata": {
        "id": "1RYbB40qsmWX"
      },
      "execution_count": null,
      "outputs": []
    },
    {
      "cell_type": "markdown",
      "source": [
        "### **🔄 Agent Decision-Making in Agentarium**\n",
        "\n",
        "\n",
        "\n",
        "\n",
        "\n",
        "\n"
      ],
      "metadata": {
        "id": "AgryaxGO4rGo"
      }
    },
    {
      "cell_type": "code",
      "source": [
        "alice_action_result = alice.act()\n",
        "print(f\"Alice's action result: {alice_action_result['message']}\")"
      ],
      "metadata": {
        "colab": {
          "base_uri": "https://localhost:8080/"
        },
        "id": "v-LOF6VSr_SV",
        "outputId": "9366e5e6-e492-4525-fea7-60be8cfe9850"
      },
      "execution_count": null,
      "outputs": [
        {
          "output_type": "stream",
          "name": "stdout",
          "text": [
            "Alice's action result: Hey Bob, I'd love to hear more about your customer churn project. Do you have any resources or insights you could share? It sounds like a fascinating area to explore!\n"
          ]
        }
      ]
    },
    {
      "cell_type": "markdown",
      "source": [
        "### **🗣️ Agent Conversation in Agentarium**\n",
        "\n",
        "\n",
        "\n",
        "\n",
        "\n",
        "\n"
      ],
      "metadata": {
        "id": "fbqSpWST44B5"
      }
    },
    {
      "cell_type": "code",
      "source": [
        "print(\"\\nBob's next action:\")\n",
        "bob_action_result = bob.act()\n",
        "print(f\"Bob's action result: {bob_action_result['message']}\")"
      ],
      "metadata": {
        "colab": {
          "base_uri": "https://localhost:8080/"
        },
        "id": "6tZD57zCsPDW",
        "outputId": "bcd337a6-dfc6-4848-cca7-4abecb284430"
      },
      "execution_count": null,
      "outputs": [
        {
          "output_type": "stream",
          "name": "stdout",
          "text": [
            "\n",
            "Bob's next action:\n",
            "Bob's action result: Hey Alice! I'd be happy to share more about the customer churn project. We're using a combination of historical customer data and machine learning algorithms to identify patterns that indicate when customers are likely to leave. I'm focusing on features like usage frequency, customer service interactions, and demographic information. If you're interested, I can also share some resources on predictive analytics and churn modeling techniques. What specific aspects are you curious about?\n"
          ]
        }
      ]
    },
    {
      "cell_type": "code",
      "source": [
        "for interaction in bob.get_interactions():\n",
        "    print(interaction.message)\n"
      ],
      "metadata": {
        "colab": {
          "base_uri": "https://localhost:8080/"
        },
        "id": "p1vFWJUmp65g",
        "outputId": "227b8513-db39-4d74-8f0d-6bf26c6e2cc4"
      },
      "execution_count": null,
      "outputs": [
        {
          "output_type": "stream",
          "name": "stdout",
          "text": [
            "Hello Bob! I heard you're working on some interesting ML projects.\n",
            "Hi Alice! Yes, I am. We're trying to predict customer churn.\n",
            "Hey Bob, I'd love to hear more about your customer churn project. Do you have any resources or insights you could share? It sounds like a fascinating area to explore!\n",
            "Hey Alice! I'd be happy to share more about the customer churn project. We're using a combination of historical customer data and machine learning algorithms to identify patterns that indicate when customers are likely to leave. I'm focusing on features like usage frequency, customer service interactions, and demographic information. If you're interested, I can also share some resources on predictive analytics and churn modeling techniques. What specific aspects are you curious about?\n"
          ]
        }
      ]
    },
    {
      "cell_type": "markdown",
      "source": [
        "### **🛠️ Defining and Executing Custom Actions in Agentarium**\n",
        "\n",
        "\n",
        "\n",
        "\n",
        "\n",
        "\n"
      ],
      "metadata": {
        "id": "aj3utz7T5KZY"
      }
    },
    {
      "cell_type": "code",
      "source": [
        "from agentarium import Agent, Action\n",
        "\n",
        "def greet(name: str, **kwargs) -> str:\n",
        "    return f\"Hello, {name}!\"\n"
      ],
      "metadata": {
        "id": "cvUBvPHFsdmV"
      },
      "execution_count": null,
      "outputs": []
    },
    {
      "cell_type": "code",
      "source": [
        "agent = Agent.create_agent(name=\"Alice\")\n",
        "agent.add_action(\n",
        "    Action(\n",
        "        name=\"GREET\",\n",
        "        description=\"Greet someone by name\",\n",
        "        parameters=[\"name\"],\n",
        "        function=greet\n",
        "    )\n",
        ")\n"
      ],
      "metadata": {
        "id": "zoQUYfh6uWAM"
      },
      "execution_count": null,
      "outputs": []
    },
    {
      "cell_type": "code",
      "source": [
        "agent.execute_action(\"GREET\", \"Bob\")"
      ],
      "metadata": {
        "colab": {
          "base_uri": "https://localhost:8080/"
        },
        "id": "6_joQ7fsuXR1",
        "outputId": "f6a4660a-7e79-42e3-ad32-ddf70b4b6058"
      },
      "execution_count": null,
      "outputs": [
        {
          "output_type": "execute_result",
          "data": {
            "text/plain": [
              "{'output': 'Hello, Bob!', 'action': 'GREET'}"
            ]
          },
          "metadata": {},
          "execution_count": 26
        }
      ]
    },
    {
      "cell_type": "markdown",
      "source": [
        "### **🗨️ Using ChatGPT for AI Conversations in Agentarium**\n"
      ],
      "metadata": {
        "id": "P5DDSdZr5p4s"
      }
    },
    {
      "cell_type": "code",
      "source": [
        "\n",
        "from agentarium import Action\n",
        "import aisuite as ai\n",
        "llm_client = ai.Client()\n",
        "\n",
        "\n",
        "def use_chatgpt(prompt: str, *args, **kwargs) -> dict:\n",
        "    \"\"\"A custom action that allows an agent to interact with ChatGPT.\"\"\"\n",
        "\n",
        "    agent: Agent = kwargs[\"agent\"]\n",
        "    response = llm_client.chat.completions.create(\n",
        "        model=\"openai:gpt-4o-mini\",\n",
        "        messages=[{\"role\": \"user\", \"content\": prompt}],\n",
        "        temperature=0.2,\n",
        "        timeout=60\n",
        "    ).choices[0].message.content.strip()\n",
        "\n",
        "    return {\n",
        "        \"agent_prompt\": prompt,\n",
        "        \"chatgpt_response\": response\n",
        "    }\n"
      ],
      "metadata": {
        "id": "qRbAnF-FuKKZ"
      },
      "execution_count": null,
      "outputs": []
    },
    {
      "cell_type": "markdown",
      "source": [
        "### **🛠️ Adding ChatGPT Action to Agentarium Agent**\n",
        "\n",
        "\n",
        "\n",
        "\n",
        "\n",
        "\n"
      ],
      "metadata": {
        "id": "8xZGmEHJ5m_e"
      }
    },
    {
      "cell_type": "code",
      "source": [
        "\n",
        "alice.add_action(\n",
        "    Action(\n",
        "        name=\"CHATGPT\",\n",
        "        description=\"Use ChatGPT to have a conversation or ask questions.\",\n",
        "        parameters=[\"prompt\"],\n",
        "        function=use_chatgpt\n",
        "    )\n",
        ")\n",
        "\n"
      ],
      "metadata": {
        "id": "89LtW0K-umKS"
      },
      "execution_count": null,
      "outputs": []
    },
    {
      "cell_type": "markdown",
      "source": [
        "### **🌍 Agent Querying ChatGPT in Agentarium**\n",
        "\n",
        "\n",
        "\n",
        "\n",
        "\n",
        "\n"
      ],
      "metadata": {
        "id": "IhRpLUi15isg"
      }
    },
    {
      "cell_type": "code",
      "source": [
        "print(\"\\nAlice uses ChatGPT:\")\n",
        "chatgpt_output = alice.execute_action(\"CHATGPT\", \"What is the capital of France?\")\n",
        "print(f\"ChatGPT Response: {chatgpt_output['chatgpt_response']}\")"
      ],
      "metadata": {
        "colab": {
          "base_uri": "https://localhost:8080/"
        },
        "id": "TUNanaZuu5B1",
        "outputId": "6b93762f-3255-4750-a191-ed8c1df88b67"
      },
      "execution_count": null,
      "outputs": [
        {
          "output_type": "stream",
          "name": "stdout",
          "text": [
            "\n",
            "Alice uses ChatGPT:\n",
            "ChatGPT Response: The capital of France is Paris.\n"
          ]
        }
      ]
    },
    {
      "cell_type": "markdown",
      "source": [
        "### **🤖 Creating a Custom Agent with Attributes**\n",
        "\n",
        "\n",
        "\n",
        "\n",
        "\n",
        "\n"
      ],
      "metadata": {
        "id": "TeVNoFsz5wAv"
      }
    },
    {
      "cell_type": "code",
      "source": [
        "from agentarium import Agent\n",
        "\n",
        "agent = Agent.create_agent(\n",
        "    name=\"Alice\",\n",
        "    age=28,\n",
        "    occupation=\"Software Engineer\",\n",
        "    location=\"San Francisco\",\n",
        "    bio=\"A passionate developer who loves AI\"\n",
        ")"
      ],
      "metadata": {
        "id": "Z_Q9KPYvvBGe"
      },
      "execution_count": null,
      "outputs": []
    },
    {
      "cell_type": "markdown",
      "source": [
        "### **📋 Displaying Agent Attributes**\n",
        "\n",
        "\n",
        "\n",
        "\n",
        "\n",
        "\n"
      ],
      "metadata": {
        "id": "I9Md1_ku5ykf"
      }
    },
    {
      "cell_type": "code",
      "source": [
        "print(f\"Agent Name: {agent.name}\")\n",
        "print(f\"Agent Age: {agent.age}\")\n",
        "print(f\"Agent Occupation: {agent.occupation}\")\n",
        "print(f\"Agent Location: {agent.location}\")\n",
        "print(f\"Agent Bio: {agent.bio}\")"
      ],
      "metadata": {
        "colab": {
          "base_uri": "https://localhost:8080/"
        },
        "id": "YG1t0xi5v51O",
        "outputId": "2a83d6d9-34ad-48ca-b4c5-2ec7d6ad5b09"
      },
      "execution_count": null,
      "outputs": [
        {
          "output_type": "stream",
          "name": "stdout",
          "text": [
            "Agent Name: Alice\n",
            "Agent Age: 28\n",
            "Agent Occupation: Software Engineer\n",
            "Agent Location: San Francisco\n",
            "Agent Bio: A passionate developer who loves AI\n"
          ]
        }
      ]
    },
    {
      "cell_type": "markdown",
      "source": [
        "### **💭 Agent Thinking Process**\n",
        "\n",
        "\n",
        "\n",
        "\n",
        "\n",
        "\n"
      ],
      "metadata": {
        "id": "kevepV8H54IQ"
      }
    },
    {
      "cell_type": "code",
      "source": [
        "agent.think(\"I should contribute to Agentarium!\")\n"
      ],
      "metadata": {
        "id": "gJ-AdwHhv5yM"
      },
      "execution_count": null,
      "outputs": []
    },
    {
      "cell_type": "code",
      "source": [
        "print(\"\\nAgent Interactions:\")\n",
        "for interaction in agent.get_interactions():\n",
        "    print(interaction.message)\n"
      ],
      "metadata": {
        "colab": {
          "base_uri": "https://localhost:8080/"
        },
        "id": "Ii8uXkb0vzvx",
        "outputId": "d87cc560-7be6-4bdf-b276-f38a7917099e"
      },
      "execution_count": null,
      "outputs": [
        {
          "output_type": "stream",
          "name": "stdout",
          "text": [
            "\n",
            "Agent Interactions:\n",
            "I should contribute to Agentarium!\n"
          ]
        }
      ]
    },
    {
      "cell_type": "code",
      "source": [
        "print(\"\\nAgent's Next Action:\")\n",
        "action_result = agent.act()\n",
        "print(f\"Action Message: {action_result['message']}\")"
      ],
      "metadata": {
        "colab": {
          "base_uri": "https://localhost:8080/"
        },
        "id": "uZCuzBO-wEBA",
        "outputId": "d0ec70da-c303-4de4-c6d4-d06ae2c6fcb7"
      },
      "execution_count": null,
      "outputs": [
        {
          "output_type": "stream",
          "name": "stdout",
          "text": [
            "\n",
            "Agent's Next Action:\n",
            "Action Message: Let's brainstorm some ideas on how I can contribute to Agentarium! I’m thinking about AI projects, open-source contributions, or mentorship. What do you all think?\n"
          ]
        }
      ]
    }
  ]
}