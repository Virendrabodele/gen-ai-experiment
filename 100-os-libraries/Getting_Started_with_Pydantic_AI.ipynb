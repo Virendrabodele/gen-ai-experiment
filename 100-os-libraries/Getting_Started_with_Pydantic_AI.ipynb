{
  "nbformat": 4,
  "nbformat_minor": 0,
  "metadata": {
    "colab": {
      "provenance": []
    },
    "kernelspec": {
      "name": "python3",
      "display_name": "Python 3"
    },
    "language_info": {
      "name": "python"
    }
  },
  "cells": [
    {
      "cell_type": "markdown",
      "source": [
        "<img src=\"https://drive.google.com/uc?export=view&id=1wYSMgJtARFdvTt5g7E20mE4NmwUFUuog\" width=\"200\">\n",
        "\n",
        "[![Build Fast with AI](https://img.shields.io/badge/BuildFastWithAI-GenAI%20Bootcamp-blue?style=for-the-badge&logo=artificial-intelligence)](https://www.buildfastwithai.com/genai-course)\n",
        "[![EduChain GitHub](https://img.shields.io/github/stars/satvik314/educhain?style=for-the-badge&logo=github&color=gold)](https://github.com/satvik314/educhain)\n",
        "\n",
        "[![Open In Colab](https://colab.research.google.com/assets/colab-badge.svg)](https://colab.research.google.com/drive/1VTMZunYgIf-VqKEYDkurtm61Hm3Ucgtx#scrollTo=yRaTWbHOc9M9)\n",
        "## Master Generative AI in 6 Weeks\n",
        "**What You'll Learn:**\n",
        "- Build with Latest LLMs\n",
        "- Create Custom AI Apps\n",
        "- Learn from Industry Experts\n",
        "- Join Innovation Community\n",
        "Transform your AI ideas into reality through hands-on projects and expert mentorship.\n",
        "[Start Your Journey](https://www.buildfastwithai.com/genai-course)\n",
        "- Empowering the Next Generation of AI Innovators\n"
      ],
      "metadata": {
        "id": "AXC8tTvTiYde"
      }
    },
    {
      "cell_type": "markdown",
      "source": [
        "##Introduction to Pydantic AI\n",
        "Pydantic AI is an extension of Pydantic that allows for the creation of models that can interact with AI systems. It provides a way to define data structures with validation and serialization capabilities while integrating with AI."
      ],
      "metadata": {
        "id": "AIAcRq8RR_iE"
      }
    },
    {
      "cell_type": "markdown",
      "source": [
        "###Setup\n",
        "First, we need to install the required libraries. Pydantic AI is built on top of Pydantic, so we will install both."
      ],
      "metadata": {
        "id": "-yqN3N1oSctP"
      }
    },
    {
      "cell_type": "code",
      "execution_count": 38,
      "metadata": {
        "id": "fSK3hupSigN-"
      },
      "outputs": [],
      "source": [
        "!pip install -qU pydantic-ai"
      ]
    },
    {
      "cell_type": "markdown",
      "source": [
        "###Importing Libraries"
      ],
      "metadata": {
        "id": "H5xGvY1ajw0O"
      }
    },
    {
      "cell_type": "code",
      "source": [
        "from pydantic_ai import Agent\n",
        "from pydantic import BaseModel\n",
        "import os\n",
        "from google.colab import userdata\n",
        "import asyncio\n",
        "import nest_asyncio\n",
        "nest_asyncio.apply()"
      ],
      "metadata": {
        "id": "H5p7aiMqhhHC"
      },
      "execution_count": 39,
      "outputs": []
    },
    {
      "cell_type": "markdown",
      "source": [
        "###Setup API Keys"
      ],
      "metadata": {
        "id": "qkcBfRUgj0F1"
      }
    },
    {
      "cell_type": "code",
      "source": [
        "os.environ['GEMINI_API_KEY'] = userdata.get('GEMINI_API_KEY')\n",
        "os.environ[\"OPENAI_API_KEY\"] = userdata.get('OPENAI_API_KEY')\n",
        "os.environ[\"GROQ_API_KEY\"] = userdata.get('GROQ_API_KEY')"
      ],
      "metadata": {
        "id": "uCBv0qyrimEL"
      },
      "execution_count": 40,
      "outputs": []
    },
    {
      "cell_type": "markdown",
      "source": [
        "###Basic Example Using Basic Pydantic Class\n"
      ],
      "metadata": {
        "id": "j8VZRQUUkKgg"
      }
    },
    {
      "cell_type": "markdown",
      "source": [
        "This is Basic Example How to use Pydantic Class with Pydantic AI"
      ],
      "metadata": {
        "id": "Assd8HUk7vxV"
      }
    },
    {
      "cell_type": "code",
      "source": [
        "#Define the Class\n",
        "class CityLocation(BaseModel):\n",
        "    city: str\n",
        "    country: str\n",
        "\n",
        "# Run the agent synchronously to conduct a conversation\n",
        "agent = Agent('gemini-1.5-flash-8b', result_type=CityLocation)\n",
        "result = agent.run_sync('Where the olympics held in 2012?')\n",
        "print(result.data)\n",
        "print(result.cost())"
      ],
      "metadata": {
        "colab": {
          "base_uri": "https://localhost:8080/"
        },
        "id": "VJnIchEKjI4i",
        "outputId": "79f673cf-722b-4090-c92b-8674432386b2"
      },
      "execution_count": 41,
      "outputs": [
        {
          "output_type": "stream",
          "name": "stdout",
          "text": [
            "city='London' country='United Kingdom'\n",
            "Cost(request_tokens=63, response_tokens=8, total_tokens=71, details=None)\n"
          ]
        }
      ]
    },
    {
      "cell_type": "markdown",
      "source": [
        "###Example 2"
      ],
      "metadata": {
        "id": "xX3Fy6ip8Uqf"
      }
    },
    {
      "cell_type": "markdown",
      "source": [
        "Simple example of using PydanticAI to construct a Pydantic model from a text input.\n",
        "\n"
      ],
      "metadata": {
        "id": "phgefKS68Oay"
      }
    },
    {
      "cell_type": "code",
      "source": [
        "import os\n",
        "from pydantic import BaseModel\n",
        "from pydantic_ai import Agent\n",
        "\n",
        "# Define a Pydantic model for the expected output\n",
        "class MyModel(BaseModel):\n",
        "    city: str\n",
        "    country: str\n",
        "\n",
        "# Get the model name from environment variable or use a default\n",
        "model_name = os.getenv('PYDANTIC_AI_MODEL', 'openai:gpt-4o')\n",
        "print(f'Using model: {model_name}')\n",
        "\n",
        "# Create the agent with the specified model and result type\n",
        "agent = Agent(model_name, result_type=MyModel)\n",
        "\n",
        "\n",
        "# Run the agent with a sample query\n",
        "result = agent.run_sync('The windy city in the US of A.')\n",
        "\n",
        "# Print the output data and cost\n",
        "print(result.data)\n",
        "print(f'Cost: {result.cost()}')"
      ],
      "metadata": {
        "colab": {
          "base_uri": "https://localhost:8080/"
        },
        "outputId": "f3e39407-4219-4ff5-f377-a5c866a1d807",
        "id": "nZVcm0p98LXp"
      },
      "execution_count": 42,
      "outputs": [
        {
          "output_type": "stream",
          "name": "stdout",
          "text": [
            "Using model: openai:gpt-4o\n",
            "city='Chicago' country='USA'\n",
            "Cost: Cost(request_tokens=67, response_tokens=18, total_tokens=85, details={'accepted_prediction_tokens': 0, 'audio_tokens': 0, 'reasoning_tokens': 0, 'rejected_prediction_tokens': 0, 'cached_tokens': 0})\n"
          ]
        }
      ]
    },
    {
      "cell_type": "markdown",
      "source": [
        "###Hello World with Pydantic AI Agent"
      ],
      "metadata": {
        "id": "yRaTWbHOc9M9"
      }
    },
    {
      "cell_type": "markdown",
      "source": [
        "Here's a minimal example of PydanticAI Agent:\n",
        "\n"
      ],
      "metadata": {
        "id": "lqgYYZiz7WHG"
      }
    },
    {
      "cell_type": "code",
      "source": [
        "# Define a simple agent with a static system prompt\n",
        "agent = Agent(\n",
        "    model='openai:gpt-4o',\n",
        "    system_prompt='Be concise, reply with one sentence.'\n",
        ")\n",
        "\n",
        "# Run the agent synchronously to conduct a conversation\n",
        "result = agent.run_sync('Where does \"hello world\" come from?')\n",
        "print(result.data)"
      ],
      "metadata": {
        "colab": {
          "base_uri": "https://localhost:8080/"
        },
        "id": "fm11eHnYdANt",
        "outputId": "bd206d95-7aa9-42a8-ea7c-57e69d8076cd"
      },
      "execution_count": 43,
      "outputs": [
        {
          "output_type": "stream",
          "name": "stdout",
          "text": [
            "\"Hello, World!\" originates from the 1978 book \"The C Programming Language\" by Brian Kernighan and Dennis Ritchie, often used as a simple program to illustrate basic syntax in programming.\n"
          ]
        }
      ]
    },
    {
      "cell_type": "markdown",
      "source": [
        "###Simple Weather Agent Code\n"
      ],
      "metadata": {
        "id": "r7mPcUGmloPd"
      }
    },
    {
      "cell_type": "markdown",
      "source": [
        "A \"Weather Agent\" that streams real-time weather updates for multiple locations using latitude, longitude, and weather APIs."
      ],
      "metadata": {
        "id": "Mf-E44MO7HPS"
      }
    },
    {
      "cell_type": "markdown",
      "source": [
        "* A weather API key from [tomorrow.io](https://) set via WEATHER_API_KEY\n",
        "* A geocoding API key from [geocode.maps.co](https://) set via GEO_API_KEY"
      ],
      "metadata": {
        "id": "X9NwFI4A5zRD"
      }
    },
    {
      "cell_type": "code",
      "source": [
        "import os\n",
        "import asyncio\n",
        "from dataclasses import dataclass\n",
        "from typing import Any, Dict\n",
        "\n",
        "from httpx import AsyncClient\n",
        "from pydantic import BaseModel\n",
        "from pydantic_ai import Agent, RunContext\n",
        "\n",
        "# Define dependencies for the agent\n",
        "@dataclass\n",
        "class Deps:\n",
        "    client: AsyncClient\n",
        "    weather_api_key: str | None\n",
        "    geo_api_key: str | None\n",
        "\n",
        "# Create the weather agent\n",
        "weather_agent = Agent(\n",
        "    model='openai:gpt-4o',\n",
        "    system_prompt='Be concise, reply with one sentence.',\n",
        "    deps_type=Deps,\n",
        "    retries=2,\n",
        ")\n",
        "\n",
        "@weather_agent.tool\n",
        "async def get_lat_lng(ctx: RunContext[Deps], location: str) -> Dict[str, float]:\n",
        "    \"\"\"Get latitude and longitude for a given location.\"\"\"\n",
        "    if not ctx.deps.geo_api_key:\n",
        "        return {'lat': 51.1, 'lng': -0.1}  # Dummy response for testing\n",
        "\n",
        "    params = {'q': location, 'api_key': ctx.deps.geo_api_key}\n",
        "    response = await ctx.deps.client.get('https://geocode.maps.co/search', params=params)\n",
        "    response.raise_for_status()\n",
        "\n",
        "    data = response.json()\n",
        "    if data:\n",
        "        return {'lat': data[0]['lat'], 'lng': data[0]['lon']}\n",
        "    raise ValueError('Could not find the location')\n",
        "\n",
        "@weather_agent.tool\n",
        "async def get_weather(ctx: RunContext[Deps], lat: float, lng: float) -> Dict[str, Any]:\n",
        "    \"\"\"Get weather information for given latitude and longitude.\"\"\"\n",
        "    if not ctx.deps.weather_api_key:\n",
        "        return {'temperature': '21 °C', 'description': 'Sunny'}  # Dummy response for testing\n",
        "\n",
        "    params = {\n",
        "        'apikey': ctx.deps.weather_api_key,\n",
        "        'location': f'{lat},{lng}',\n",
        "        'units': 'metric',\n",
        "    }\n",
        "\n",
        "    response = await ctx.deps.client.get('https://api.tomorrow.io/v4/weather/realtime', params=params)\n",
        "    response.raise_for_status()\n",
        "\n",
        "    values = response.json()['data']['values']\n",
        "\n",
        "    # Weather code mapping\n",
        "    code_lookup = {\n",
        "        1000: 'Clear, Sunny',\n",
        "        1001: 'Cloudy',\n",
        "        4001: 'Rain',\n",
        "        5000: 'Snow',\n",
        "        # Add more codes as needed...\n",
        "    }\n",
        "\n",
        "    return {\n",
        "        'temperature': f'{values[\"temperatureApparent\"]:0.0f}°C',\n",
        "        'description': code_lookup.get(values['weatherCode'], 'Unknown'),\n",
        "    }\n"
      ],
      "metadata": {
        "id": "YI4ITnS0lpW2"
      },
      "execution_count": 44,
      "outputs": []
    },
    {
      "cell_type": "markdown",
      "source": [
        "###Example Usage"
      ],
      "metadata": {
        "id": "osPkhoDp5H0F"
      }
    },
    {
      "cell_type": "code",
      "source": [
        "async def main():\n",
        "    async with AsyncClient() as client:\n",
        "        weather_api_key = userdata.get('WEATHER_API_KEY')\n",
        "        geo_api_key = userdata.get('GEO_API_KEY')\n",
        "\n",
        "        deps = Deps(client=client, weather_api_key=weather_api_key, geo_api_key=geo_api_key)\n",
        "\n",
        "        result = await weather_agent.run('What is the weather like in Delhi?', deps=deps)\n",
        "        print('Response:', result.data)\n",
        "\n",
        "asyncio.run(main())"
      ],
      "metadata": {
        "colab": {
          "base_uri": "https://localhost:8080/"
        },
        "id": "muvEQbIZ4fjL",
        "outputId": "960874ca-c1bf-4fee-f588-0596b09f809a"
      },
      "execution_count": 45,
      "outputs": [
        {
          "output_type": "stream",
          "name": "stdout",
          "text": [
            "Response: The weather in Delhi is currently clear and sunny with a temperature of 25°C.\n"
          ]
        }
      ]
    },
    {
      "cell_type": "markdown",
      "source": [
        "###Bank support Agent\n",
        "Small but complete example of using PydanticAI to build a support agent for a bank."
      ],
      "metadata": {
        "id": "7TcMC1Z7nAwl"
      }
    },
    {
      "cell_type": "code",
      "source": [
        "from dataclasses import dataclass\n",
        "from pydantic import BaseModel, Field\n",
        "from pydantic_ai import Agent, RunContext\n",
        "\n",
        "class FakeDatabase:\n",
        "    \"\"\"A mock database for demonstration purposes.\"\"\"\n",
        "\n",
        "    @classmethod\n",
        "    async def get_customer_name(cls, id: int) -> str | None:\n",
        "        return 'John' if id == 123 else None\n",
        "\n",
        "    @classmethod\n",
        "    async def get_customer_balance(cls, id: int) -> float:\n",
        "        return 123.45 if id == 123 else None\n",
        "\n",
        "@dataclass\n",
        "class SupportDependencies:\n",
        "    customer_id: int\n",
        "    db: FakeDatabase\n",
        "\n",
        "class SupportResult(BaseModel):\n",
        "    support_advice: str = Field(description='Advice returned to the customer')\n",
        "    block_card: bool = Field(description='Whether to block their card')\n",
        "    risk: int = Field(description='Risk level of query', ge=0, le=10)\n",
        "\n",
        "# Create the support agent\n",
        "support_agent = Agent(\n",
        "    model='openai:gpt-4o',\n",
        "    deps_type=SupportDependencies,\n",
        "    result_type=SupportResult,\n",
        "    system_prompt=(\n",
        "        'You are a bank support agent. Provide customer support '\n",
        "        'and assess the risk level of their query. Use the customer\\'s name in your response.'\n",
        "    ),\n",
        ")\n",
        "\n",
        "@support_agent.system_prompt\n",
        "async def add_customer_name(ctx: RunContext[SupportDependencies]) -> str:\n",
        "    customer_name = await ctx.deps.db.get_customer_name(ctx.deps.customer_id)\n",
        "    return f\"The customer's name is {customer_name!r}\"\n",
        "\n",
        "@support_agent.tool\n",
        "async def get_balance(ctx: RunContext[SupportDependencies]) -> str:\n",
        "    \"\"\"Returns the customer's current account balance.\"\"\"\n",
        "    balance = await ctx.deps.db.get_customer_balance(ctx.deps.customer_id)\n",
        "    return f'${balance:.2f}'\n"
      ],
      "metadata": {
        "id": "WhxpGz1ynDr2"
      },
      "execution_count": 46,
      "outputs": []
    },
    {
      "cell_type": "markdown",
      "source": [
        "# Example usage\n"
      ],
      "metadata": {
        "id": "GVI3Oahms_BY"
      }
    },
    {
      "cell_type": "code",
      "source": [
        "# Example usage\n",
        "deps = SupportDependencies(customer_id=123, db=FakeDatabase())\n",
        "balance_result = support_agent.run_sync('What is my balance?', deps=deps)\n",
        "print(balance_result.data)\n",
        "\n",
        "loss_result = support_agent.run_sync('I just lost my card!', deps=deps)\n",
        "print(loss_result.data)"
      ],
      "metadata": {
        "colab": {
          "base_uri": "https://localhost:8080/"
        },
        "id": "YAkYxJhPs9bz",
        "outputId": "bb4291d6-31be-46dc-f4bf-f2137f80c062"
      },
      "execution_count": 47,
      "outputs": [
        {
          "output_type": "stream",
          "name": "stdout",
          "text": [
            "support_advice='Hello John, your current account balance is $123.45. If you have any further questions, feel free to ask!' block_card=False risk=0\n",
            "support_advice=\"John, I'm sorry to hear that you've lost your card. We're taking steps to secure your account while we assist you.\" block_card=True risk=8\n"
          ]
        }
      ]
    }
  ]
}
