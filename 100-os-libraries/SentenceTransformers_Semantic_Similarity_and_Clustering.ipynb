{
  "nbformat": 4,
  "nbformat_minor": 0,
  "metadata": {
    "colab": {
      "provenance": []
    },
    "kernelspec": {
      "name": "python3",
      "display_name": "Python 3"
    },
    "language_info": {
      "name": "python"
    }
  },
  "cells": [
    {
      "cell_type": "markdown",
      "source": [
        "<img src=\"https://drive.google.com/uc?export=view&id=1wYSMgJtARFdvTt5g7E20mE4NmwUFUuog\" width=\"200\">\n",
        "\n",
        "[![Build Fast with AI](https://img.shields.io/badge/BuildFastWithAI-GenAI%20Bootcamp-blue?style=for-the-badge&logo=artificial-intelligence)](https://www.buildfastwithai.com/genai-course)\n",
        "[![EduChain GitHub](https://img.shields.io/github/stars/satvik314/educhain?style=for-the-badge&logo=github&color=gold)](https://github.com/satvik314/educhain)\n",
        "\n",
        "[![Open In Colab](https://colab.research.google.com/assets/colab-badge.svg)](https://colab.research.google.com/drive/1-10CxKQNK0-O40b_f4cAN5TAvGiO1v2U?usp=sharing)\n",
        "## Master Generative AI in 6 Weeks\n",
        "**What You'll Learn:**\n",
        "- Build with Latest LLMs\n",
        "- Create Custom AI Apps\n",
        "- Learn from Industry Experts\n",
        "- Join Innovation Community\n",
        "Transform your AI ideas into reality through hands-on projects and expert mentorship.\n",
        "[Start Your Journey](https://www.buildfastwithai.com/genai-course)\n",
        "*Empowering the Next Generation of AI Innovators"
      ],
      "metadata": {
        "id": "UC2Ozo5E9kNl"
      }
    },
    {
      "cell_type": "markdown",
      "source": [
        "## ⚙️💡  **SentenceTransformers: Semantic Similarity and Clustering**  \n",
        "SentenceTransformers is an open-source framework for generating high-quality sentence embeddings, supporting tasks like semantic similarity, clustering, multilingual applications, and more. It provides an easy-to-use API for generating dense vector representations of sentences and integrating them into machine learning workflows.  \n",
        "\n"
      ],
      "metadata": {
        "id": "D37W4muf9nNl"
      }
    },
    {
      "cell_type": "markdown",
      "source": [
        "###**Import Necessary Libraries**"
      ],
      "metadata": {
        "id": "BpZ_Dahk95Vd"
      }
    },
    {
      "cell_type": "code",
      "source": [
        "!pip install lexRank"
      ],
      "metadata": {
        "id": "9XyjcIir-nbq"
      },
      "execution_count": null,
      "outputs": []
    },
    {
      "cell_type": "code",
      "source": [
        "import nltk\n",
        "nltk.download('punkt_tab')"
      ],
      "metadata": {
        "id": "gIh51cSl_sOf"
      },
      "execution_count": null,
      "outputs": []
    },
    {
      "cell_type": "markdown",
      "source": [
        "###**Text-Summarization**"
      ],
      "metadata": {
        "id": "M1vv9p28A_U3"
      }
    },
    {
      "cell_type": "code",
      "source": [
        "import nltk\n",
        "import numpy as np\n",
        "import lexrank\n",
        "import networkx as nx\n",
        "\n",
        "from sentence_transformers import SentenceTransformer"
      ],
      "metadata": {
        "id": "wZbfDcMY94NO"
      },
      "execution_count": null,
      "outputs": []
    },
    {
      "cell_type": "markdown",
      "source": [
        "### **Load Pre-trained Sentence Transformer Model**"
      ],
      "metadata": {
        "id": "J-ecrtb5BRRi"
      }
    },
    {
      "cell_type": "code",
      "source": [
        "model = SentenceTransformer(\"all-MiniLM-L6-v2\")"
      ],
      "metadata": {
        "id": "mvnb2g1n_bqA"
      },
      "execution_count": null,
      "outputs": []
    },
    {
      "cell_type": "markdown",
      "source": [
        "### **Sentence Tokenization**"
      ],
      "metadata": {
        "id": "mwu9HevFBoYl"
      }
    },
    {
      "cell_type": "code",
      "source": [
        "document = \"\"\"\n",
        "New York City (NYC), often called simply New York, is the most populous city in the United States. With an estimated 2019 population of 8,336,817 distributed over about 302.6 square miles (784 km2), New York City is also the most densely populated major city in the United States. Located at the southern tip of the U.S. state of New York, the city is the center of the New York metropolitan area, the largest metropolitan area in the world by urban landmass. With almost 20 million people in its metropolitan statistical area and approximately 23 million in its combined statistical area, it is one of the world's most populous megacities. New York City has been described as the cultural, financial, and media capital of the world, significantly influencing commerce, entertainment, research, technology, education, politics, tourism, art, fashion, and sports. Home to the headquarters of the United Nations, New York is an important center for international diplomacy.\n",
        "\n",
        "Situated on one of the world's largest natural harbors, New York City is composed of five boroughs, each of which is a county of the State of New York. The five boroughs—Brooklyn, Queens, Manhattan, the Bronx, and Staten Island—were consolidated into a single city in 1898. The city and its metropolitan area constitute the premier gateway for legal immigration to the United States. As many as 800 languages are spoken in New York, making it the most linguistically diverse city in the world. New York is home to more than 3.2 million residents born outside the United States, the largest foreign-born population of any city in the world as of 2016. As of 2019, the New York metropolitan area is estimated to produce a gross metropolitan product (GMP) of $2.0 trillion. If the New York metropolitan area were a sovereign state, it would have the eighth-largest economy in the world. New York is home to the highest number of billionaires of any city in the world.\n",
        "\n",
        "New York City traces its origins to a trading post founded by colonists from the Dutch Republic in 1624 on Lower Manhattan; the post was named New Amsterdam in 1626. The city and its surroundings came under English control in 1664 and were renamed New York after King Charles II of England granted the lands to his brother, the Duke of York. The city was regained by the Dutch in July 1673 and was subsequently renamed New Orange for one year and three months; the city has been continuously named New York since November 1674. New York City was the capital of the United States from 1785 until 1790, and has been the largest U.S. city since 1790. The Statue of Liberty greeted millions of immigrants as they came to the U.S. by ship in the late 19th and early 20th centuries, and is a symbol of the U.S. and its ideals of liberty and peace. In the 21st century, New York has emerged as a global node of creativity, entrepreneurship, and environmental sustainability, and as a symbol of freedom and cultural diversity. In 2019, New York was voted the greatest city in the world per a survey of over 30,000 people from 48 cities worldwide, citing its cultural diversity.\n",
        "\n",
        "Many districts and landmarks in New York City are well known, including three of the world's ten most visited tourist attractions in 2013. A record 62.8 million tourists visited New York City in 2017. Times Square is the brightly illuminated hub of the Broadway Theater District, one of the world's busiest pedestrian intersections, and a major center of the world's entertainment industry. Many of the city's landmarks, skyscrapers, and parks are known around the world. Manhattan's real estate market is among the most expensive in the world. Providing continuous 24/7 service and contributing to the nickname The City that Never Sleeps, the New York City Subway is the largest single-operator rapid transit system worldwide, with 472 rail stations. The city has over 120 colleges and universities, including Columbia University, New York University, Rockefeller University, and the City University of New York system, which is the largest urban public university system in the United States. Anchored by Wall Street in the Financial District of Lower Manhattan, New York City has been called both the world's leading financial center and the most financially powerful city in the world, and is home to the world's two largest stock exchanges by total market capitalization, the New York Stock Exchange and NASDAQ.\n",
        "\"\"\"\n",
        "\n",
        "sentences = nltk.sent_tokenize(document)\n",
        "print(\"Num sentences:\", len(sentences))\n"
      ],
      "metadata": {
        "colab": {
          "base_uri": "https://localhost:8080/"
        },
        "id": "o6K8j65x-Fj3",
        "outputId": "dce6c1e4-dd20-48d9-bd79-00bfdf49b83b"
      },
      "execution_count": null,
      "outputs": [
        {
          "output_type": "stream",
          "name": "stdout",
          "text": [
            "Num sentences: 29\n"
          ]
        }
      ]
    },
    {
      "cell_type": "markdown",
      "source": [
        "### **Summary Generation**"
      ],
      "metadata": {
        "id": "c_GWwEp7BdNl"
      }
    },
    {
      "cell_type": "code",
      "source": [
        "embeddings = model.encode(sentences)\n",
        "\n",
        "from sklearn.metrics.pairwise import cosine_similarity\n",
        "similarity_scores = cosine_similarity(embeddings)\n",
        "\n",
        "graph = nx.Graph()\n",
        "for i in range(len(sentences)):\n",
        "    for j in range(i + 1, len(sentences)):\n",
        "        graph.add_edge(i, j, weight=similarity_scores[i][j])\n",
        "\n",
        "pagerank_scores = nx.pagerank(graph, weight='weight')\n",
        "\n",
        "sorted_indices = sorted(pagerank_scores, key=pagerank_scores.get, reverse=True)\n",
        "\n",
        "print(\"\\n\\nSummary:\")\n",
        "for idx in sorted_indices[:5]:\n",
        "    print(sentences[idx].strip())"
      ],
      "metadata": {
        "colab": {
          "base_uri": "https://localhost:8080/"
        },
        "id": "6MRGOi5h_olh",
        "outputId": "5ac51c4f-895d-40b4-ef0d-b597ce001ba5"
      },
      "execution_count": null,
      "outputs": [
        {
          "output_type": "stream",
          "name": "stdout",
          "text": [
            "\n",
            "\n",
            "Summary:\n",
            "New York City (NYC), often called simply New York, is the most populous city in the United States.\n",
            "In 2019, New York was voted the greatest city in the world per a survey of over 30,000 people from 48 cities worldwide, citing its cultural diversity.\n",
            "Located at the southern tip of the U.S. state of New York, the city is the center of the New York metropolitan area, the largest metropolitan area in the world by urban landmass.\n",
            "With an estimated 2019 population of 8,336,817 distributed over about 302.6 square miles (784 km2), New York City is also the most densely populated major city in the United States.\n",
            "New York City was the capital of the United States from 1785 until 1790, and has been the largest U.S. city since 1790.\n"
          ]
        }
      ]
    },
    {
      "cell_type": "markdown",
      "source": [
        "### **Define sentences**\n"
      ],
      "metadata": {
        "id": "WVOnqAV9B8zi"
      }
    },
    {
      "cell_type": "code",
      "source": [
        "sentences = [\n",
        "    \"The weather is lovely today.\",\n",
        "    \"It's so sunny outside!\",\n",
        "    \"He drove to the stadium.\",\n",
        "]\n"
      ],
      "metadata": {
        "id": "kvrvOFE9_4we"
      },
      "execution_count": null,
      "outputs": []
    },
    {
      "cell_type": "markdown",
      "source": [
        "###**Generate embeddings**"
      ],
      "metadata": {
        "id": "1eVAl3jSCCAX"
      }
    },
    {
      "cell_type": "code",
      "source": [
        "embeddings = model.encode(sentences)\n",
        "print(embeddings.shape)"
      ],
      "metadata": {
        "colab": {
          "base_uri": "https://localhost:8080/"
        },
        "id": "wcBfb7-eB5_z",
        "outputId": "dca8de05-ed79-43b3-9fce-aabad3daf056"
      },
      "execution_count": null,
      "outputs": [
        {
          "output_type": "stream",
          "name": "stdout",
          "text": [
            "(3, 384)\n"
          ]
        }
      ]
    },
    {
      "cell_type": "markdown",
      "source": [
        "###**Question Answering (QA)**"
      ],
      "metadata": {
        "id": "XL-25QC8CvZ0"
      }
    },
    {
      "cell_type": "code",
      "source": [
        "question = \"What is the capital of France?\"\n",
        "possible_answers = [\"Paris is the capital of France.\", \"Berlin is the capital of Germany.\", \"Madrid is the capital of Spain.\"]\n",
        "\n",
        "question_embedding = model.encode(question)\n",
        "answer_embeddings = model.encode(possible_answers)\n",
        "\n",
        "similarities = cosine_similarity([question_embedding], answer_embeddings)\n",
        "\n",
        "best_answer_idx = similarities.argmax()\n",
        "print(f\"Best answer: {possible_answers[best_answer_idx]}\")"
      ],
      "metadata": {
        "colab": {
          "base_uri": "https://localhost:8080/"
        },
        "id": "rw7s3YLuB71o",
        "outputId": "d753f0c9-a545-4ccf-f28c-493ef7144a9f"
      },
      "execution_count": null,
      "outputs": [
        {
          "output_type": "stream",
          "name": "stdout",
          "text": [
            "Best answer: Paris is the capital of France.\n"
          ]
        }
      ]
    },
    {
      "cell_type": "markdown",
      "source": [
        "##**Clustering Sentences**"
      ],
      "metadata": {
        "id": "h-6iMeciC1Hq"
      }
    },
    {
      "cell_type": "code",
      "source": [
        "from sklearn.cluster import KMeans\n",
        "\n",
        "sentences = [\"I love ice cream.\", \"Ice cream is delicious.\", \"I enjoy pizza.\", \"Pizza is my favorite.\"]\n",
        "\n",
        "embeddings = model.encode(sentences)\n",
        "\n",
        "num_clusters = 2\n",
        "kmeans = KMeans(n_clusters=num_clusters, random_state=42)\n",
        "kmeans.fit(embeddings)\n",
        "\n",
        "print(kmeans.labels_)\n"
      ],
      "metadata": {
        "colab": {
          "base_uri": "https://localhost:8080/"
        },
        "id": "o0x4YiNVCtYK",
        "outputId": "2368fb92-90d1-4d4c-a340-b00a61434a48"
      },
      "execution_count": null,
      "outputs": [
        {
          "output_type": "stream",
          "name": "stdout",
          "text": [
            "[0 0 1 1]\n"
          ]
        }
      ]
    },
    {
      "cell_type": "markdown",
      "source": [
        "###**Text Retrieval**"
      ],
      "metadata": {
        "id": "aheJClLQDDv9"
      }
    },
    {
      "cell_type": "code",
      "source": [
        "documents = [\"The quick brown fox jumps over the lazy dog.\", \"A fox is a small carnivorous mammal.\", \"Dogs are loyal animals.\"]\n",
        "query = \"What is a fox?\"\n",
        "\n",
        "document_embeddings = model.encode(documents)\n",
        "query_embedding = model.encode(query)\n",
        "\n",
        "similarities = cosine_similarity([query_embedding], document_embeddings)\n",
        "\n",
        "best_document_idx = similarities.argmax()\n",
        "print(f\"Best document: {documents[best_document_idx]}\")\n"
      ],
      "metadata": {
        "colab": {
          "base_uri": "https://localhost:8080/"
        },
        "id": "wQ6q2lZ-C8eQ",
        "outputId": "3d84c14c-0be9-47f6-c3ff-616bcd5e16b3"
      },
      "execution_count": null,
      "outputs": [
        {
          "output_type": "stream",
          "name": "stdout",
          "text": [
            "Best document: A fox is a small carnivorous mammal.\n"
          ]
        }
      ]
    },
    {
      "cell_type": "markdown",
      "source": [
        "###**Semantic Textual Similarity (STS)**"
      ],
      "metadata": {
        "id": "FBi74d-sDTJ4"
      }
    },
    {
      "cell_type": "code",
      "source": [
        "sentence1 = \"I love reading books.\"\n",
        "sentence2 = \"I enjoy reading novels.\"\n",
        "\n",
        "embedding1 = model.encode(sentence1)\n",
        "embedding2 = model.encode(sentence2)\n",
        "\n",
        "from sklearn.metrics.pairwise import cosine_similarity\n",
        "similarity = cosine_similarity([embedding1], [embedding2])\n",
        "print(f\"Similarity: {similarity[0][0]}\")\n"
      ],
      "metadata": {
        "colab": {
          "base_uri": "https://localhost:8080/"
        },
        "id": "JD1fJh0YDIK2",
        "outputId": "8a4e81bc-3952-4fbe-f76d-d229ab507459"
      },
      "execution_count": null,
      "outputs": [
        {
          "output_type": "stream",
          "name": "stdout",
          "text": [
            "Similarity: 0.8445740342140198\n"
          ]
        }
      ]
    },
    {
      "cell_type": "markdown",
      "source": [
        "###**Multilingual Sentence Embeddings**"
      ],
      "metadata": {
        "id": "NUDZMtgNDr01"
      }
    },
    {
      "cell_type": "code",
      "source": [
        "model = SentenceTransformer('paraphrase-multilingual-MiniLM-L12-v2')"
      ],
      "metadata": {
        "id": "tHUyxQ1yDpgx"
      },
      "execution_count": null,
      "outputs": []
    },
    {
      "cell_type": "code",
      "source": [
        "\n",
        "sentences = [\"I love programming.\", \"Me encanta programar.\", \"J'aime programmer.\"]\n",
        "\n",
        "embeddings = model.encode(sentences)\n",
        "\n",
        "print(embeddings)\n"
      ],
      "metadata": {
        "colab": {
          "base_uri": "https://localhost:8080/"
        },
        "id": "ck4F-h31DU_h",
        "outputId": "5135842b-93b9-4ace-9030-524f20576d07"
      },
      "execution_count": null,
      "outputs": [
        {
          "output_type": "stream",
          "name": "stdout",
          "text": [
            "[[-0.05543914 -0.3513671   0.00649267 ... -0.10116981  0.02381411\n",
            "  -0.40183926]\n",
            " [ 0.0334341  -0.36394286 -0.06097874 ... -0.06607401 -0.08265898\n",
            "  -0.33055204]\n",
            " [-0.0154567  -0.3298188  -0.03119758 ... -0.01760292  0.16235837\n",
            "  -0.41454193]]\n"
          ]
        }
      ]
    }
  ]
}
