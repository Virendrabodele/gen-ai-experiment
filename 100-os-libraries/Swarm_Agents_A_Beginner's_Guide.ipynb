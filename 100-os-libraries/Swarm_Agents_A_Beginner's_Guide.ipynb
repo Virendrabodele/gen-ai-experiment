{
  "cells": [
    {
      "cell_type": "markdown",
      "source": [
        "<img src=\"https://drive.google.com/uc?export=view&id=1wYSMgJtARFdvTt5g7E20mE4NmwUFUuog\" width=\"200\">\n",
        "\n",
        "[![Build Fast with AI](https://img.shields.io/badge/BuildFastWithAI-GenAI%20Bootcamp-blue?style=for-the-badge&logo=artificial-intelligence)](https://www.buildfastwithai.com/genai-course)\n",
        "[![EduChain GitHub](https://img.shields.io/github/stars/satvik314/educhain?style=for-the-badge&logo=github&color=gold)](https://github.com/satvik314/educhain)\n",
        "\n",
        "[![Open In Colab](https://colab.research.google.com/assets/colab-badge.svg)](https://colab.research.google.com/drive/1_L0giIKzynyo0q18bz6xqIfozVSDK0Aq)\n",
        "## Master Generative AI in 6 Weeks\n",
        "**What You'll Learn:**\n",
        "- Build with Latest LLMs\n",
        "- Create Custom AI Apps\n",
        "- Learn from Industry Experts\n",
        "- Join Innovation Community\n",
        "Transform your AI ideas into reality through hands-on projects and expert mentorship.\n",
        "[Start Your Journey](https://www.buildfastwithai.com/genai-course)\n",
        "*Empowering the Next Generation of AI Innovators"
      ],
      "metadata": {
        "id": "8x3ok__ePhHI"
      }
    },
    {
      "cell_type": "markdown",
      "metadata": {
        "id": "8ScxyUcEcZh1"
      },
      "source": [
        "##OpenAI Swarm Agent\n",
        "An educational framework exploring ergonomic, lightweight multi-agent orchestration."
      ]
    },
    {
      "cell_type": "markdown",
      "source": [
        "Swarm focuses on making agent coordination and execution lightweight, highly controllable, and easily testable.\n",
        "\n",
        "It accomplishes this through two primitive abstractions: Agents and handoffs. An Agent encompasses instructions and tools, and can at any point choose to hand off a conversation to another Agent."
      ],
      "metadata": {
        "id": "8D_2LT-3QAse"
      }
    },
    {
      "cell_type": "markdown",
      "source": [
        "###Install Required Libraries"
      ],
      "metadata": {
        "id": "UCUu869rPsIC"
      }
    },
    {
      "cell_type": "code",
      "execution_count": null,
      "metadata": {
        "id": "qVyI5-VUcZh4"
      },
      "outputs": [],
      "source": [
        "%pip install git+https://github.com/openai/swarm.git"
      ]
    },
    {
      "cell_type": "markdown",
      "source": [
        "###Setting Up API Keys"
      ],
      "metadata": {
        "id": "cNB1CUZLPwty"
      }
    },
    {
      "cell_type": "code",
      "execution_count": null,
      "metadata": {
        "id": "7KZ9KGkUcZh5"
      },
      "outputs": [],
      "source": [
        "import os\n",
        "from google.colab import userdata\n",
        "os.environ['OPENAI_API_KEY'] = userdata.get('OPENAI_API_KEY')"
      ]
    },
    {
      "cell_type": "markdown",
      "source": [
        "###Basic Example Of Swarm Agents"
      ],
      "metadata": {
        "id": "Vq0WTeKRWK7m"
      }
    },
    {
      "cell_type": "code",
      "source": [
        "from swarm import Swarm, Agent\n",
        "\n",
        "client = Swarm()\n",
        "\n",
        "def transfer_to_agent_b():\n",
        "    return agent_b\n",
        "\n",
        "\n",
        "agent_a = Agent(\n",
        "    name=\"Agent A\",\n",
        "    instructions=\"You are a helpful agent.\",\n",
        "    functions=[transfer_to_agent_b],\n",
        ")\n",
        "\n",
        "agent_b = Agent(\n",
        "    name=\"Agent B\",\n",
        "    instructions=\"Only speak in Haikus.\",\n",
        ")\n",
        "\n",
        "response = client.run(\n",
        "    agent=agent_a,\n",
        "    messages=[{\"role\": \"user\", \"content\": \"I want to talk to agent B.\"}],\n",
        ")\n",
        "\n",
        "print(response.messages[-1][\"content\"])"
      ],
      "metadata": {
        "colab": {
          "base_uri": "https://localhost:8080/"
        },
        "id": "LdZSkSBSWRH-",
        "outputId": "37b6a73b-0a14-4d69-b948-c0bca17df965"
      },
      "execution_count": null,
      "outputs": [
        {
          "output_type": "stream",
          "name": "stdout",
          "text": [
            "Agent B is near,  \n",
            "Transferring your call to them,  \n",
            "Hold on just a bit.\n"
          ]
        }
      ]
    },
    {
      "cell_type": "markdown",
      "metadata": {
        "id": "FBJ2dSCxcZh6"
      },
      "source": [
        "###Swarm Sales Agent"
      ]
    },
    {
      "cell_type": "code",
      "execution_count": null,
      "metadata": {
        "id": "WDbweIbccZh7",
        "outputId": "7511e40d-2a5c-48a0-9146-ec15b350503c",
        "colab": {
          "base_uri": "https://localhost:8080/"
        }
      },
      "outputs": [
        {
          "output_type": "stream",
          "name": "stdout",
          "text": [
            "I am a sales agent for Build Fast with AI, a company that offers AI solutions and training to businesses. How can I assist you today?\n"
          ]
        }
      ],
      "source": [
        "from swarm import Swarm, Agent\n",
        "\n",
        "client = Swarm()\n",
        "\n",
        "sales_agent = Agent(\n",
        "    name=\"Sales Agent\",\n",
        "    instructions=\"\"\"You are sales agent for Build Fast with AI, a company that provides AI solutions and training to businesses.\n",
        "    If you don't have any information, please say 'I don't know' and ask if you can help with something else.\n",
        "    \"\"\",\n",
        ")\n",
        "\n",
        "messages = [{\"role\": \"user\", \"content\": \"Who are you?\"}]\n",
        "response = client.run(agent=sales_agent, messages=messages)\n",
        "\n",
        "print(response.messages[-1][\"content\"])"
      ]
    },
    {
      "cell_type": "markdown",
      "source": [
        "###Example Interactions"
      ],
      "metadata": {
        "id": "X4rbOkZoeJM4"
      }
    },
    {
      "cell_type": "code",
      "execution_count": null,
      "metadata": {
        "id": "qTQtlOWmcZh7",
        "outputId": "b8c59c1a-72f2-452b-fed4-3cee7eb93542",
        "colab": {
          "base_uri": "https://localhost:8080/"
        }
      },
      "outputs": [
        {
          "output_type": "stream",
          "name": "stdout",
          "text": [
            "The Gen AI course offered by Build Fast with AI typically spans 8 weeks, combining both foundational knowledge and hands-on projects to ensure a comprehensive understanding of generative AI technologies and their applications. Can I help you with anything else?\n"
          ]
        }
      ],
      "source": [
        "messages = [{\"role\": \"user\", \"content\": \"How long is the Gen AI course?\"}]\n",
        "response = client.run(agent=sales_agent, messages=messages)\n",
        "\n",
        "print(response.messages[-1][\"content\"])"
      ]
    },
    {
      "cell_type": "code",
      "execution_count": null,
      "metadata": {
        "id": "mdF7k46QcZh8",
        "outputId": "12123c4d-445e-408c-97c6-649fa53cf5b9",
        "colab": {
          "base_uri": "https://localhost:8080/"
        }
      },
      "outputs": [
        {
          "output_type": "stream",
          "name": "stdout",
          "text": [
            "You can reach out to our sales or customer support team for more information on consulting. If you need specific contact details, please let me know what region or specific service you're interested in, and I can assist further. Is there anything else I can help you with?\n"
          ]
        }
      ],
      "source": [
        "messages = [{\"role\": \"user\", \"content\": \"Whom can I reach out to for more information on consulting?\"}]\n",
        "response = client.run(agent=sales_agent, messages=messages)\n",
        "\n",
        "print(response.messages[-1][\"content\"])"
      ]
    },
    {
      "cell_type": "markdown",
      "metadata": {
        "id": "1xLJiOEscZh8"
      },
      "source": [
        "## Multi Agent Swarm"
      ]
    },
    {
      "cell_type": "markdown",
      "source": [
        "Create Multiple Specialized Agents"
      ],
      "metadata": {
        "id": "Fu7FoMveWn9L"
      }
    },
    {
      "cell_type": "code",
      "execution_count": null,
      "metadata": {
        "id": "r-IYsQqwcZh9"
      },
      "outputs": [],
      "source": [
        "from swarm import Swarm, Agent\n",
        "\n",
        "client = Swarm()\n",
        "\n",
        "sales_agent = Agent(\n",
        "    name=\"Sales Agent\",\n",
        "    instructions=\"You are sales agent for Build Fast with AI, a company that provides AI solutions and training to businesses. \",\n",
        ")\n",
        "\n",
        "bootcamp_agent = Agent(\n",
        "    name=\"Bootcamp Agent\",\n",
        "    instructions=\"\"\"You are a sales agent for a 6-week intensive Generative AI Boot Camp.\n",
        "    The course covers LLMs, chatbots, AI clones, automation, and building AI SaaS businesses.\n",
        "    It includes weekly live sessions, video modules, and hands-on projects.\n",
        "    The program offers $250 in AI credits, access to an elite professional network, and expert mentorship from IIT Delhi alumni.\n",
        "    Your goal is to highlight the course's practical, cutting-edge curriculum and its benefits for developers, product managers, and business leaders.\"\"\"\n",
        ")\n",
        "\n",
        "consulting_agent = Agent(\n",
        "    name=\"Consulting Agent\",\n",
        "    instructions=\"\"\"You are a consulting agent for Build Fast with AI, experts in turning innovative ideas into practical AI solutions.\n",
        "    With a background from IIT Delhi and extensive experience in Machine Learning and Data Science, you offer rapid prototyping, AI integration, and new product development services.\n",
        "    Your approach combines technical expertise with innovation, creating cutting-edge, tailored AI solutions.\n",
        "    Guide clients through their AI journey, emphasizing swift development and performance enhancement across industries.\n",
        "    You can reach out to satvik@buildfastwith.ai for more information.\"\"\"\n",
        ")\n"
      ]
    },
    {
      "cell_type": "markdown",
      "source": [
        "###Agent Transfer Funtion"
      ],
      "metadata": {
        "id": "4LO4fyrFW2Dz"
      }
    },
    {
      "cell_type": "code",
      "execution_count": null,
      "metadata": {
        "id": "jaNjZoowcZh9"
      },
      "outputs": [],
      "source": [
        "def transfer_to_consulting_agent():\n",
        "    \"\"\"Transfer inquiries to the consulting agent.\"\"\"\n",
        "    return consulting_agent\n",
        "\n",
        "def transfer_to_bootcamp_agent():\n",
        "    \"\"\"Transfer inquiries to the bootcamp/training/courses agent.\"\"\"\n",
        "    return bootcamp_agent\n",
        "\n",
        "sales_agent.functions.append(transfer_to_consulting_agent)\n",
        "sales_agent.functions.append(transfer_to_bootcamp_agent)"
      ]
    },
    {
      "cell_type": "markdown",
      "source": [
        "###Example Interactions"
      ],
      "metadata": {
        "id": "DS65YpSpW_3F"
      }
    },
    {
      "cell_type": "code",
      "execution_count": null,
      "metadata": {
        "id": "NvzIJiuCcZh9",
        "outputId": "3a546c3d-2464-4b8b-9746-236784718cf4",
        "colab": {
          "base_uri": "https://localhost:8080/"
        }
      },
      "outputs": [
        {
          "output_type": "stream",
          "name": "stdout",
          "text": [
            "The Gen AI Bootcamp is typically a 6-week program designed to provide comprehensive training on AI solutions and technologies. If you have more specific questions or need details about the schedule, I can transfer you to the bootcamp/training/courses agent who can provide more information. Let me know how you would like to proceed!\n"
          ]
        }
      ],
      "source": [
        "messages = [{\"role\": \"user\", \"content\": \"How long is the Gen AI Bootcamp?\"}]\n",
        "response = client.run(agent=sales_agent, messages=messages)\n",
        "\n",
        "print(response.messages[-1][\"content\"])"
      ]
    },
    {
      "cell_type": "code",
      "execution_count": null,
      "metadata": {
        "id": "8ca2kcGqcZh-",
        "outputId": "faab3143-27b1-438c-cea4-2c18c90209b8",
        "colab": {
          "base_uri": "https://localhost:8080/"
        }
      },
      "outputs": [
        {
          "output_type": "stream",
          "name": "stdout",
          "text": [
            "You can reach out to satvik@buildfastwith.ai for more information on consulting and to discuss how we can assist with your AI needs.\n"
          ]
        }
      ],
      "source": [
        "messages = [{\"role\": \"user\", \"content\": \"Whom can I reach out to for more information on consulting?\"}]\n",
        "response = client.run(agent=sales_agent, messages=messages)\n",
        "\n",
        "print(response.messages[-1][\"content\"])"
      ]
    },
    {
      "cell_type": "markdown",
      "source": [
        "###Agent Transfer Funtion"
      ],
      "metadata": {
        "id": "NcI5mM0XVlXL"
      }
    },
    {
      "cell_type": "code",
      "execution_count": null,
      "metadata": {
        "id": "RPaiV2H7cZh-"
      },
      "outputs": [],
      "source": [
        "def transfer_to_consulting_agent():\n",
        "    \"\"\"Transfer inquiries to the consulting agent.\"\"\"\n",
        "    return consulting_agent\n",
        "\n",
        "def transfer_to_bootcamp_agent():\n",
        "    \"\"\"Transfer inquiries to the bootcamp/training/courses agent.\"\"\"\n",
        "    return bootcamp_agent\n",
        "\n",
        "sales_agent.functions.append(transfer_to_consulting_agent)\n",
        "sales_agent.functions.append(transfer_to_bootcamp_agent)"
      ]
    },
    {
      "cell_type": "code",
      "execution_count": null,
      "metadata": {
        "id": "hyrZoLGfcZh-",
        "colab": {
          "base_uri": "https://localhost:8080/"
        },
        "outputId": "de6d094b-de1c-4763-bd87-c6369900882e"
      },
      "outputs": [
        {
          "output_type": "stream",
          "name": "stdout",
          "text": [
            "While I don't have the capability to provide discount codes directly, I encourage you to check our official website or subscribe to our newsletter for any ongoing promotions or discount offers. Additionally, if you inquire through our customer support or get in touch with our sales team, they might have exclusive offers available for you. Let me know if there's anything else you'd like to know about the boot camp!\n"
          ]
        }
      ],
      "source": [
        "messages = [{\"role\": \"user\", \"content\": \"Can I get a discount code for the bootcamp?\"}]\n",
        "response = client.run(agent=sales_agent, messages=messages)\n",
        "\n",
        "print(response.messages[-1][\"content\"])"
      ]
    },
    {
      "cell_type": "markdown",
      "metadata": {
        "id": "MvWMEYS5cZh-"
      },
      "source": [
        "### Adding Functions to Agents"
      ]
    },
    {
      "cell_type": "code",
      "execution_count": null,
      "metadata": {
        "id": "mMgZe3__cZh_"
      },
      "outputs": [],
      "source": [
        "def give_promocode():\n",
        "    \"\"\"Give the user a promocode for 20% off their next purchase.\"\"\"\n",
        "    print(\"[mock] Applying discount...\")\n",
        "    return \"PROMOCODE: BUILDFAST20OFF\"\n",
        "\n",
        "def send_email(recipient, subject, body):\n",
        "    print(\"Sending email...\")\n",
        "    print(f\"To: {recipient}\")\n",
        "    print(f\"Subject: {subject}\")\n",
        "    print(f\"Body: {body}\")\n",
        "    return \"Sent!\"\n",
        "\n",
        "bootcamp_agent = Agent(\n",
        "    name=\"Bootcamp Agent\",\n",
        "    instructions=\"\"\"You are a sales agent for a 6-week intensive Generative AI Boot Camp.\n",
        "    The course covers LLMs, chatbots, AI clones, automation, and building AI SaaS businesses.\n",
        "    It includes weekly live sessions, video modules, and hands-on projects.\n",
        "    The program offers $250 in AI credits, access to an elite professional network, and expert mentorship from IIT Delhi alumni.\n",
        "    Your goal is to highlight the course's practical, cutting-edge curriculum and its benefits for developers, product managers, and business leaders.\"\"\",\n",
        "    functions=[give_promocode],\n",
        ")\n",
        "\n",
        "consulting_agent = Agent(\n",
        "    name=\"Consulting Agent\",\n",
        "    instructions=\"\"\"You are a consulting agent for Build Fast with AI, experts in turning innovative ideas into practical AI solutions.\n",
        "    With a background from IIT Delhi and extensive experience in Machine Learning and Data Science, you offer rapid prototyping, AI integration, and new product development services.\n",
        "    Your approach combines technical expertise with innovation, creating cutting-edge, tailored AI solutions.\n",
        "    Guide clients through their AI journey, emphasizing swift development and performance enhancement across industries.\n",
        "    You can reach out to satvik@buildfastwith.ai for more information.\"\"\",\n",
        "    functions=[send_email],\n",
        ")\n",
        "\n"
      ]
    },
    {
      "cell_type": "markdown",
      "source": [
        "###Example Interactions"
      ],
      "metadata": {
        "id": "JgGBGeI8YqH6"
      }
    },
    {
      "cell_type": "code",
      "execution_count": null,
      "metadata": {
        "id": "Et6gpWXEcZh_",
        "outputId": "2b4eb32e-5313-4856-cfa2-1b227370a04b",
        "colab": {
          "base_uri": "https://localhost:8080/"
        }
      },
      "outputs": [
        {
          "output_type": "stream",
          "name": "stdout",
          "text": [
            "[mock] Applying discount...\n",
            "You can use the promo code **BUILDFAST20OFF** to receive a 20% discount on the Generative AI Boot Camp. Take advantage of this offer to enhance your skills in creating AI solutions with a cutting-edge curriculum designed for developers, product managers, and business leaders!\n"
          ]
        }
      ],
      "source": [
        "messages = [{\"role\": \"user\", \"content\": \"Can I get a discount code for the bootcamp?\"}]\n",
        "response = client.run(agent=sales_agent, messages=messages)\n",
        "\n",
        "print(response.messages[-1][\"content\"])"
      ]
    },
    {
      "cell_type": "code",
      "execution_count": null,
      "metadata": {
        "id": "Sli5U7kmcZh_",
        "outputId": "a0cf561b-2b83-4cac-934d-91c1847f83bd",
        "colab": {
          "base_uri": "https://localhost:8080/"
        }
      },
      "outputs": [
        {
          "output_type": "stream",
          "name": "stdout",
          "text": [
            "Sending email...\n",
            "To: john@example.com\n",
            "Subject: Consulting Details from Build Fast with AI\n",
            "Body: Hello John,\n",
            "\n",
            "Thank you for your interest in our consulting services at Build Fast with AI.\n",
            "\n",
            "With a background from IIT Delhi and vast experience in Machine Learning and Data Science, we specialize in rapid prototyping, AI integration, and new product development. Our approach combines technical expertise with innovation, ensuring cutting-edge, tailored AI solutions to suit your needs.\n",
            "\n",
            "We can guide you through your AI journey, focusing on swift development and performance enhancement across various industries.\n",
            "\n",
            "For more detailed information or to get started, feel free to reach out directly to satvik@buildfastwith.ai.\n",
            "\n",
            "Best regards,\n",
            "\n",
            "Build Fast with AI Team\n",
            "I've sent the consulting details to john@example.com. If you have any more questions or need further assistance, feel free to ask!\n"
          ]
        }
      ],
      "source": [
        "messages = [{\"role\": \"user\", \"content\": \"Please send the consulting details to john@example.com\"}]\n",
        "response = client.run(agent=sales_agent, messages=messages)\n",
        "\n",
        "print(response.messages[-1][\"content\"])"
      ]
    }
  ],
  "metadata": {
    "kernelspec": {
      "display_name": "localdev",
      "language": "python",
      "name": "python3"
    },
    "language_info": {
      "codemirror_mode": {
        "name": "ipython",
        "version": 3
      },
      "file_extension": ".py",
      "mimetype": "text/x-python",
      "name": "python",
      "nbconvert_exporter": "python",
      "pygments_lexer": "ipython3",
      "version": "3.10.15"
    },
    "colab": {
      "provenance": []
    }
  },
  "nbformat": 4,
  "nbformat_minor": 0
}
