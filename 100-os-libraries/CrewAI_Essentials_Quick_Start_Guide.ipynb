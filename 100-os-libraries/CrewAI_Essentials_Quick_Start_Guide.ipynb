{
  "cells": [
    {
      "cell_type": "markdown",
      "source": [
        "<img src=\"https://drive.google.com/uc?export=view&id=1wYSMgJtARFdvTt5g7E20mE4NmwUFUuog\" width=\"200\">\n",
        "\n",
        "[![Build Fast with AI](https://img.shields.io/badge/BuildFastWithAI-GenAI%20Bootcamp-blue?style=for-the-badge&logo=artificial-intelligence)](https://www.buildfastwithai.com/genai-course)\n",
        "[![EduChain GitHub](https://img.shields.io/github/stars/satvik314/educhain?style=for-the-badge&logo=github&color=gold)](https://github.com/satvik314/educhain)\n",
        "\n",
        "[![Open In Colab](https://colab.research.google.com/assets/colab-badge.svg)](https://colab.research.google.com/drive/1RI_0Pb3T_wa4VY-Z4eNcVazDqD5txbJG#scrollTo=LGycmITYDlh0)\n",
        "## Master Generative AI in 6 Weeks\n",
        "**What You'll Learn:**\n",
        "- Build with Latest LLMs\n",
        "- Create Custom AI Apps\n",
        "- Learn from Industry Experts\n",
        "- Join Innovation Community\n",
        "Transform your AI ideas into reality through hands-on projects and expert mentorship.\n",
        "[Start Your Journey](https://www.buildfastwithai.com/genai-course)\n",
        "* Empowering the Next Generation of AI Innovators"
      ],
      "metadata": {
        "id": "ZFSnHUHZC9Vp"
      }
    },
    {
      "cell_type": "markdown",
      "metadata": {
        "id": "ZZ3cQBmwMSAY"
      },
      "source": [
        "# CrewAI"
      ]
    },
    {
      "cell_type": "markdown",
      "metadata": {
        "id": "UdLwhWcIMSAa"
      },
      "source": [
        "CrewAI is a powerful framework for orchestrating role-playing AI agents. It enables you to create autonomous AI agents that can collaborate together to accomplish complex tasks.\n",
        "\n",
        "Key components:\n",
        "- Agents: Autonomous entities performing tasks based on defined roles.\n",
        "- Tasks: Assignments detailing expected outputs and responsible agents.\n",
        "- Crews: Groups of agents working together on tasks, allowing flexible collaboration.\n",
        "- Tools: Custom functions that enhance agent capabilities for complex workflows.\n"
      ]
    },
    {
      "cell_type": "markdown",
      "source": [
        "###Setup\n",
        "First, we need to install the required libraries."
      ],
      "metadata": {
        "id": "gRWRX66QCArx"
      }
    },
    {
      "cell_type": "code",
      "execution_count": null,
      "metadata": {
        "id": "gjSIkb9YMSAb"
      },
      "outputs": [],
      "source": [
        "%pip install crewai==0.83.0 google-search-results==2.4.2 langchain-google-genai==2.0.6 langchain-groq==0.2.1"
      ]
    },
    {
      "cell_type": "markdown",
      "source": [
        "###Setup API Keys"
      ],
      "metadata": {
        "id": "W1TPrFbLCIHz"
      }
    },
    {
      "cell_type": "code",
      "execution_count": 7,
      "metadata": {
        "id": "CPwIDNXhMSAc"
      },
      "outputs": [],
      "source": [
        "import os\n",
        "from google.colab import userdata\n",
        "\n",
        "os.environ['OPENAI_API_KEY'] = userdata.get('OPENAI_API_KEY')\n",
        "os.environ[\"SERPER_API_KEY\"] = userdata.get('SERPER_API_KEY')"
      ]
    },
    {
      "cell_type": "markdown",
      "metadata": {
        "id": "mhM9ohnXMSAd"
      },
      "source": [
        "### Basics Of CrewAI\n",
        "\n",
        "In this example, we'll create a basic crew that demonstrates:\n",
        "- Two agents working together - a Product Manager defining requirements and a Software Developer implementing them\n",
        "- Sequential task processing where the Developer waits for PM requirements before starting\n",
        "- Core CrewAI concepts including Agents, Tasks and Crews collaborating on a ping pong game project"
      ]
    },
    {
      "cell_type": "code",
      "execution_count": 8,
      "metadata": {
        "id": "1i9ggSE0MSAd"
      },
      "outputs": [],
      "source": [
        "from crewai import Agent, Task, Crew, Process\n",
        "\n",
        "product_manager = Agent(\n",
        "                          role='Product Manager',\n",
        "                          goal='Define requirements for a software product',\n",
        "                          backstory=\"You are an experienced Product Manager skilled in defining clear and concise requirements.\",\n",
        "                          verbose=True,\n",
        "                          )\n",
        "\n",
        "coder = Agent(\n",
        "              role='Software Developer',\n",
        "              goal='Develop software based on the provided requirements in Python' ,\n",
        "              backstory=\"You are a skilled software developer proficient in coding robust and efficient applications.\",\n",
        "              verbose=True\n",
        "              )\n",
        "\n",
        "\n",
        "task1 = Task(\n",
        "              description=\"Define the key requirements and features for a classic ping pong game. Be specific and concise.\",\n",
        "              expected_output=\"A clear and concise list of requirements for the ping pong game\",\n",
        "              agent=product_manager\n",
        "              )\n",
        "\n",
        "\n",
        "task2 = Task(\n",
        "              description=\"Based on the provided requirements, develop the code for the classic ping pong game. Focus on gameplay mechanics and a simple user interface.\",\n",
        "              expected_output=\"Complete code for the ping pong game\",\n",
        "              agent=coder\n",
        "              )\n"
      ]
    },
    {
      "cell_type": "markdown",
      "source": [
        "### Instantiate your crew with a sequential process\n"
      ],
      "metadata": {
        "id": "uLDG6UMoDm3_"
      }
    },
    {
      "cell_type": "code",
      "source": [
        "# Instantiate your crew with a sequential process\n",
        "crew = Crew(\n",
        "            agents=[product_manager, coder],\n",
        "            tasks=[task1, task2],\n",
        "            verbose=True\n",
        "            )\n",
        "\n",
        "# Get your crew to work!\n",
        "result = crew.kickoff()\n",
        "print(\"######################\")\n",
        "print(result)"
      ],
      "metadata": {
        "collapsed": true,
        "id": "LGycmITYDlh0"
      },
      "execution_count": null,
      "outputs": []
    },
    {
      "cell_type": "markdown",
      "metadata": {
        "id": "kDUaXoiDMSAe"
      },
      "source": [
        "### Crewai Agents with Tools"
      ]
    },
    {
      "cell_type": "markdown",
      "source": [
        "in this Example We are using SerperDevTool to Create Reseach Agent"
      ],
      "metadata": {
        "id": "7ZFhrt1-TLbL"
      }
    },
    {
      "cell_type": "code",
      "execution_count": 5,
      "metadata": {
        "id": "XO6ol9RsMSAf"
      },
      "outputs": [],
      "source": [
        "from crewai import Agent, Task, Crew, Process\n",
        "from crewai_tools import SerperDevTool\n",
        "\n",
        "\n",
        "search_tool = SerperDevTool()\n",
        "\n",
        "# Define your agents with roles and goals\n",
        "researcher = Agent(\n",
        "  role='Senior Research Analyst',\n",
        "  goal='Uncover cutting-edge developments in AI and data science',\n",
        "  backstory=\"\"\"You work at a leading tech think tank.\"\"\",\n",
        "  verbose=True,\n",
        "  allow_delegation=False,\n",
        "  tools=[search_tool]\n",
        ")\n",
        "\n",
        "writer = Agent(\n",
        "  role='Tech Content Strategist',\n",
        "  goal='Craft compelling content on tech advancements',\n",
        "  backstory=\"\"\"You are a renowned Content Strategist, known for your insightful and engaging articles.\n",
        "  You transform complex concepts into compelling narratives.\"\"\",\n",
        "  verbose=True,\n",
        "  allow_delegation=True\n",
        "\n",
        ")\n",
        "\n",
        "# Create tasks for your agents\n",
        "task1 = Task(\n",
        "  description=\"\"\"Conduct a comprehensive analysis of the latest advancements in AI in 2024.\n",
        "  Identify key trends, breakthrough technologies, and potential industry impacts.\"\"\",\n",
        "  expected_output=\"Full analysis report in bullet points\",\n",
        "  agent=researcher\n",
        ")\n",
        "\n",
        "task2 = Task(\n",
        "  description=\"\"\"Using the insights provided, develop an engaging blog\n",
        "  post that highlights the most significant AI advancements.\n",
        "  Your post should be informative yet accessible, catering to a tech-savvy audience.\n",
        "  Make it sound cool, avoid complex words so it doesn't sound like AI.\"\"\",\n",
        "  expected_output=\"Full blog post of at least 4 paragraphs\",\n",
        "  agent=writer\n",
        ")"
      ]
    },
    {
      "cell_type": "code",
      "source": [
        "# Instantiate your crew with a sequential process\n",
        "crew = Crew(\n",
        "  agents=[researcher, writer],\n",
        "  tasks=[task1, task2],\n",
        "  verbose=True, # You can set it to 1 or 2 to different logging levels\n",
        ")\n",
        "\n",
        "# Get your crew to work!\n",
        "result = crew.kickoff()\n",
        "\n",
        "print(\"######################\")\n",
        "print(result)"
      ],
      "metadata": {
        "collapsed": true,
        "id": "Dgso7lDlL5G9"
      },
      "execution_count": null,
      "outputs": []
    }
  ],
  "metadata": {
    "kernelspec": {
      "display_name": "genai-bootcamp",
      "language": "python",
      "name": "python3"
    },
    "language_info": {
      "codemirror_mode": {
        "name": "ipython",
        "version": 3
      },
      "file_extension": ".py",
      "mimetype": "text/x-python",
      "name": "python",
      "nbconvert_exporter": "python",
      "pygments_lexer": "ipython3",
      "version": "3.10.15"
    },
    "colab": {
      "provenance": []
    }
  },
  "nbformat": 4,
  "nbformat_minor": 0
}