{
  "nbformat": 4,
  "nbformat_minor": 0,
  "metadata": {
    "colab": {
      "provenance": []
    },
    "kernelspec": {
      "name": "python3",
      "display_name": "Python 3"
    },
    "language_info": {
      "name": "python"
    }
  },
  "cells": [
    {
      "cell_type": "markdown",
      "source": [
        "<img src=\"https://drive.google.com/uc?export=view&id=1wYSMgJtARFdvTt5g7E20mE4NmwUFUuog\" width=\"200\">\n",
        "\n",
        "[![Build Fast with AI](https://img.shields.io/badge/BuildFastWithAI-GenAI%20Bootcamp-blue?style=for-the-badge&logo=artificial-intelligence)](https://www.buildfastwithai.com/genai-course)\n",
        "[![EduChain GitHub](https://img.shields.io/github/stars/satvik314/educhain?style=for-the-badge&logo=github&color=gold)](https://github.com/satvik314/educhain)\n",
        "\n",
        "[![Open In Colab](https://colab.research.google.com/assets/colab-badge.svg)](https://colab.research.google.com/drive/1OrvuMyKZ54ewDyxk4D6RfHn8O-aohB_9?usp=sharing)\n",
        "## Master Generative AI in 6 Weeks\n",
        "**What You'll Learn:**\n",
        "- Build with Latest LLMs\n",
        "- Create Custom AI Apps\n",
        "- Learn from Industry Experts\n",
        "- Join Innovation Community\n",
        "Transform your AI ideas into reality through hands-on projects and expert mentorship.\n",
        "[Start Your Journey](https://www.buildfastwithai.com/genai-course)\n",
        "*Empowering the Next Generation of AI Innovators"
      ],
      "metadata": {
        "id": "ivU3F4MIX3ha"
      }
    },
    {
      "cell_type": "markdown",
      "source": [
        "## ⚡ Weaviate: The AI-Native Vector Database\n",
        "\n",
        "Weaviate is an open-source **vector database** designed to simplify the development and scaling of AI applications. 🚀 It enables developers to build and manage AI-driven solutions efficiently by providing a robust platform for storing and querying vector data.\n",
        "\n",
        "### 🔑 **Key Features**:\n",
        "- 🧠 **AI-Native Architecture**: Optimized for AI applications, Weaviate integrates seamlessly with machine learning models and frameworks.\n",
        "- 🔍 **Hybrid Search Capabilities**: Supports both vector and keyword search for semantic understanding and precise retrieval.\n",
        "- 📈 **Scalability and Flexibility**: Offers horizontal scalability to handle large datasets and high query loads efficiently.\n",
        "- ⚡ **Real-Time Data Processing**: Enables real-time data ingestion and querying to ensure up-to-date information.\n",
        "- 🧩 **Modular Design**: Customizable and extensible to suit various use cases and data types."
      ],
      "metadata": {
        "id": "wEFKoXQ4X4uD"
      }
    },
    {
      "cell_type": "markdown",
      "source": [
        "### **Installing Weaviate Client**"
      ],
      "metadata": {
        "id": "C_z8RUkSX45P"
      }
    },
    {
      "cell_type": "code",
      "execution_count": null,
      "metadata": {
        "id": "7YF6Hlm3Q0G-"
      },
      "outputs": [],
      "source": [
        "!pip install -U weaviate-client"
      ]
    },
    {
      "cell_type": "markdown",
      "source": [
        "### **Setting Up API Keys**"
      ],
      "metadata": {
        "id": "_dE4wW0dX51x"
      }
    },
    {
      "cell_type": "code",
      "source": [
        "from google.colab import userdata\n",
        "\n",
        "WCD_URL=userdata.get('WCD_URL')\n",
        "WCD_API_KEY=userdata.get('WCD_API_KEY')\n",
        "OPENAI_API_KEY=userdata.get('OPENAI_API_KEY')\n",
        "cohere_api_key=userdata.get('COHERE_API_KEY')"
      ],
      "metadata": {
        "id": "37AFr9SxSaTv"
      },
      "execution_count": null,
      "outputs": []
    },
    {
      "cell_type": "markdown",
      "source": [
        "###**Connect to Weaviate**"
      ],
      "metadata": {
        "id": "5Hx4-W2eX6bj"
      }
    },
    {
      "cell_type": "code",
      "source": [
        "import weaviate\n",
        "from weaviate.classes.init import Auth\n",
        "import os\n",
        "\n",
        "wcd_url = WCD_URL\n",
        "wcd_api_key =WCD_API_KEY\n",
        "\n",
        "client = weaviate.connect_to_weaviate_cloud(\n",
        "    cluster_url=wcd_url,\n",
        "    auth_credentials=Auth.api_key(wcd_api_key),\n",
        ")\n",
        "\n",
        "print(client.is_ready())\n",
        "client.close()"
      ],
      "metadata": {
        "colab": {
          "base_uri": "https://localhost:8080/"
        },
        "id": "rK4_XMnWS3po",
        "outputId": "a931fb86-123e-46e9-847b-297fc8050bd3"
      },
      "execution_count": null,
      "outputs": [
        {
          "output_type": "stream",
          "name": "stdout",
          "text": [
            "True\n"
          ]
        }
      ]
    },
    {
      "cell_type": "markdown",
      "source": [
        "###**Populate the database**"
      ],
      "metadata": {
        "id": "U5Tiuiz8X875"
      }
    },
    {
      "cell_type": "markdown",
      "source": [
        "###**Define a collection**"
      ],
      "metadata": {
        "id": "YHKUic-ReTGB"
      }
    },
    {
      "cell_type": "code",
      "source": [
        "from weaviate.classes.config import Configure\n",
        "\n",
        "client = weaviate.connect_to_weaviate_cloud(\n",
        "    cluster_url=wcd_url,\n",
        "    auth_credentials=Auth.api_key(wcd_api_key),\n",
        ")\n",
        "\n",
        "questions = client.collections.create(\n",
        "    name=\"Question\",\n",
        "    vectorizer_config=Configure.Vectorizer.text2vec_cohere(),\n",
        "    generative_config=Configure.Generative.cohere()\n",
        ")\n",
        "\n",
        "client.close()"
      ],
      "metadata": {
        "id": "ml8Qi4XqS6pA"
      },
      "execution_count": null,
      "outputs": []
    },
    {
      "cell_type": "code",
      "source": [
        "import requests, json, os\n",
        "\n",
        "\n",
        "client = weaviate.connect_to_weaviate_cloud(\n",
        "    cluster_url=wcd_url,\n",
        "    auth_credentials=Auth.api_key(wcd_api_key),\n",
        "    headers={\"X-Cohere-Api-Key\": cohere_api_key},\n",
        ")\n"
      ],
      "metadata": {
        "id": "62VP2x6bTNzc"
      },
      "execution_count": null,
      "outputs": []
    },
    {
      "cell_type": "markdown",
      "source": [
        "### **Fetching and Loading Data**"
      ],
      "metadata": {
        "id": "8lR5mJ6TYCLB"
      }
    },
    {
      "cell_type": "code",
      "source": [
        "\n",
        "resp = requests.get(\n",
        "    \"https://raw.githubusercontent.com/weaviate-tutorials/quickstart/main/data/jeopardy_tiny.json\"\n",
        ")\n",
        "data = json.loads(resp.text)\n"
      ],
      "metadata": {
        "id": "mPA_s7fHTiVk"
      },
      "execution_count": null,
      "outputs": []
    },
    {
      "cell_type": "markdown",
      "source": [
        "###**Add objects**"
      ],
      "metadata": {
        "id": "Ozd6H2fGYC79"
      }
    },
    {
      "cell_type": "code",
      "source": [
        "questions = client.collections.get(\"Question\")\n",
        "\n",
        "with questions.batch.dynamic() as batch:\n",
        "    for d in data:\n",
        "        batch.add_object({\n",
        "            \"answer\": d[\"Answer\"],\n",
        "            \"question\": d[\"Question\"],\n",
        "            \"category\": d[\"Category\"],\n",
        "        })\n",
        "\n",
        "client.close()"
      ],
      "metadata": {
        "id": "1Pnmq3JwTjyb"
      },
      "execution_count": null,
      "outputs": []
    },
    {
      "cell_type": "markdown",
      "source": [
        "###**Semantic search**"
      ],
      "metadata": {
        "id": "aANROoFKYE8W"
      }
    },
    {
      "cell_type": "code",
      "source": [
        "client = weaviate.connect_to_weaviate_cloud(\n",
        "    cluster_url=wcd_url,\n",
        "    auth_credentials=Auth.api_key(wcd_api_key),\n",
        "    headers={\"X-Cohere-Api-Key\": cohere_api_key},\n",
        ")\n",
        "\n",
        "\n",
        "questions = client.collections.get(\"Question\")\n",
        "\n",
        "response = questions.query.near_text(\n",
        "    query=\"biology\",\n",
        "    limit=2\n",
        ")\n",
        "\n",
        "for obj in response.objects:\n",
        "    print(json.dumps(obj.properties, indent=2))\n",
        "\n",
        "client.close()"
      ],
      "metadata": {
        "colab": {
          "base_uri": "https://localhost:8080/"
        },
        "id": "Hc_XkMiDVZLl",
        "outputId": "6ac6c2f8-ff12-4378-eb9e-8a894bdddcf3",
        "collapsed": true
      },
      "execution_count": null,
      "outputs": [
        {
          "output_type": "stream",
          "name": "stdout",
          "text": [
            "{\n",
            "  \"answer\": \"Liver\",\n",
            "  \"question\": \"This organ removes excess glucose from the blood & stores it as glycogen\",\n",
            "  \"category\": \"SCIENCE\"\n",
            "}\n",
            "{\n",
            "  \"answer\": \"Liver\",\n",
            "  \"question\": \"This organ removes excess glucose from the blood & stores it as glycogen\",\n",
            "  \"category\": \"SCIENCE\"\n",
            "}\n"
          ]
        }
      ]
    },
    {
      "cell_type": "markdown",
      "source": [
        "###**Retrieval augmented generation**"
      ],
      "metadata": {
        "id": "KGVtMA_iYIUH"
      }
    },
    {
      "cell_type": "code",
      "source": [
        "client = weaviate.connect_to_weaviate_cloud(\n",
        "    cluster_url=wcd_url,\n",
        "    auth_credentials=Auth.api_key(wcd_api_key),\n",
        "    headers={\"X-Cohere-Api-Key\": cohere_api_key},\n",
        ")\n",
        "\n",
        "questions = client.collections.get(\"Question\")\n",
        "\n",
        "response = questions.generate.near_text(\n",
        "    query=\"biology\",\n",
        "    limit=2,\n",
        "    grouped_task=\"Write a tweet with emojis about these facts.\"\n",
        ")\n",
        "\n",
        "print(response.generated)\n",
        "\n",
        "client.close()"
      ],
      "metadata": {
        "colab": {
          "base_uri": "https://localhost:8080/"
        },
        "id": "TAZ1DAZjVrl1",
        "outputId": "dfb6b607-1f27-43a9-d7d4-af797a19d258"
      },
      "execution_count": null,
      "outputs": [
        {
          "output_type": "stream",
          "name": "stdout",
          "text": [
            "Did you know your liver💪 does double duty by removing excess glucose🍾 from your blood and storing it as glycogen🧪? It's a glucose superhero! #FunFacts 🤓+💪\n"
          ]
        }
      ]
    }
  ]
}