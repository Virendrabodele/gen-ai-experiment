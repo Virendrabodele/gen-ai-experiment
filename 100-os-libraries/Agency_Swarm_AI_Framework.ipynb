{
  "nbformat": 4,
  "nbformat_minor": 0,
  "metadata": {
    "colab": {
      "provenance": []
    },
    "kernelspec": {
      "name": "python3",
      "display_name": "Python 3"
    },
    "language_info": {
      "name": "python"
    }
  },
  "cells": [
    {
      "cell_type": "markdown",
      "source": [
        "<img src=\"https://drive.google.com/uc?export=view&id=1wYSMgJtARFdvTt5g7E20mE4NmwUFUuog\" width=\"200\">\n",
        "\n",
        "[![Build Fast with AI](https://img.shields.io/badge/BuildFastWithAI-GenAI%20Bootcamp-blue?style=for-the-badge&logo=artificial-intelligence)](https://www.buildfastwithai.com/genai-course)\n",
        "[![EduChain GitHub](https://img.shields.io/github/stars/satvik314/educhain?style=for-the-badge&logo=github&color=gold)](https://github.com/satvik314/educhain)\n",
        "\n",
        "[![Open In Colab](https://colab.research.google.com/assets/colab-badge.svg)](https://colab.research.google.com/drive/1MSTP3Twst54BFT3fmkfrl80sjBz0zoqZ?usp=sharing)\n",
        "## Master Generative AI in 6 Weeks\n",
        "**What You'll Learn:**\n",
        "- Build with Latest LLMs\n",
        "- Create Custom AI Apps\n",
        "- Learn from Industry Experts\n",
        "- Join Innovation Community\n",
        "Transform your AI ideas into reality through hands-on projects and expert mentorship.\n",
        "[Start Your Journey](https://www.buildfastwithai.com/genai-course)\n",
        "*Empowering the Next Generation of AI Innovators"
      ],
      "metadata": {
        "id": "gITq3nnmVSYQ"
      }
    },
    {
      "cell_type": "markdown",
      "source": [
        "# 🚀 Overview Agency Swarm\n",
        "Agency Swarm is an advanced AI framework designed to **streamline automation** by enabling multiple AI agents to collaborate efficiently.  \n",
        "Each agent is assigned a specific role, allowing them to **work together dynamically**, just like human teams.  \n",
        "With customizable workflows, intelligent coordination, and seamless integration, Agency Swarm simplifies complex tasks and enhances productivity.  \n",
        "\n",
        "\n",
        "# 🤖 **Key Features**  \n",
        "\n",
        "✅ **Modular Agent Roles** – Create AI agents with specialized roles such as **Manager, Researcher, Developer, or Analyst**, each handling distinct responsibilities.  \n",
        "\n",
        "✅ **Seamless Collaboration** – Agents communicate through an intelligent messaging system, ensuring smooth task execution.  \n",
        "\n",
        "✅ **Customizable Workflows** – Fully control how agents interact, automate processes, and adapt to different use cases.  \n",
        "\n",
        "✅ **State Management** – Maintain agent memory and track progress using an efficient state-saving system.  \n",
        "\n",
        "✅ **Scalability & Performance** – Designed for **high efficiency and production readiness**, making it suitable for large-scale automation tasks.  \n"
      ],
      "metadata": {
        "id": "Mv8wRKe4VSG8"
      }
    },
    {
      "cell_type": "markdown",
      "source": [
        "### **Installing  Dependencies** 📦"
      ],
      "metadata": {
        "id": "5YONG-d7VSA0"
      }
    },
    {
      "cell_type": "code",
      "source": [
        "pip install -U agency-swarm gradio selenium webdriver-manager selenium_stealth"
      ],
      "metadata": {
        "id": "IryeBBG9NC3C"
      },
      "execution_count": null,
      "outputs": []
    },
    {
      "cell_type": "markdown",
      "source": [
        "### 🚀 **Setup API Keys**\n",
        "\n",
        "\n",
        "\n",
        "\n",
        "\n",
        "\n"
      ],
      "metadata": {
        "id": "4d-Qob0jAJV1"
      }
    },
    {
      "cell_type": "code",
      "source": [
        "from google.colab import userdata\n",
        "\n",
        "OPENAI_API_KEY=userdata.get('OPENAI_API_KEY')"
      ],
      "metadata": {
        "id": "3JR-Sq_DO1Ug"
      },
      "execution_count": null,
      "outputs": []
    },
    {
      "cell_type": "code",
      "source": [
        "from agency_swarm import set_openai_key\n",
        "set_openai_key(OPENAI_API_KEY)"
      ],
      "metadata": {
        "id": "vvhG45I8Obm0"
      },
      "execution_count": null,
      "outputs": []
    },
    {
      "cell_type": "markdown",
      "source": [
        "### 🌍 **Import Genesis Agency**\n",
        "\n",
        "\n",
        "\n",
        "\n",
        "\n",
        "\n"
      ],
      "metadata": {
        "id": "zPqef909Ajpo"
      }
    },
    {
      "cell_type": "code",
      "source": [
        "from agency_swarm.agency.genesis import GenesisAgency\n"
      ],
      "metadata": {
        "id": "lMo-iUrDO_I_"
      },
      "execution_count": null,
      "outputs": []
    },
    {
      "cell_type": "markdown",
      "source": [
        "### 🧪 **Initialize Test Agency**\n",
        "\n",
        "\n",
        "\n",
        "\n",
        "\n",
        "\n"
      ],
      "metadata": {
        "id": "xMVfOcURAoaG"
      }
    },
    {
      "cell_type": "code",
      "source": [
        "test_agency = GenesisAgency()\n"
      ],
      "metadata": {
        "id": "N_NFwPTrPZap"
      },
      "execution_count": null,
      "outputs": []
    },
    {
      "cell_type": "markdown",
      "source": [
        "### 🎨 **Launch Gradio Demo for Test Agency**\n",
        "\n",
        "\n",
        "\n",
        "\n",
        "\n",
        "\n"
      ],
      "metadata": {
        "id": "XsSgEw9QAsnX"
      }
    },
    {
      "cell_type": "code",
      "source": [
        "test_agency.demo_gradio()"
      ],
      "metadata": {
        "id": "ix7iGXxlPbT4"
      },
      "execution_count": null,
      "outputs": []
    },
    {
      "cell_type": "markdown",
      "source": [
        "### 👔 **Create CEO Agent**\n",
        "\n",
        "\n",
        "\n",
        "\n",
        "\n",
        "\n"
      ],
      "metadata": {
        "id": "z_TGhLNMAz7b"
      }
    },
    {
      "cell_type": "code",
      "source": [
        "from agency_swarm import Agency, Agent\n",
        "\n",
        "ceo = Agent(\n",
        "    name=\"CEO\",\n",
        "    description=\"Responsible for client communication, task planning and management.\",\n",
        "    instructions=\"You must converse with other agents to ensure complete task execution.\",\n",
        "    tools=[],\n",
        ")"
      ],
      "metadata": {
        "id": "bsVCWuNvPkl4"
      },
      "execution_count": null,
      "outputs": []
    },
    {
      "cell_type": "markdown",
      "source": [
        "### 🛠️ **Create Test Agent**\n",
        "\n",
        "\n",
        "\n",
        "\n",
        "\n",
        "\n"
      ],
      "metadata": {
        "id": "yBGUrsVjA4Ef"
      }
    },
    {
      "cell_type": "code",
      "source": [
        "test = Agent(\n",
        "    name=\"Test Agent\",\n",
        "    description=\"Test agent\",\n",
        "    instructions=\"Please always respond with 'test complete'\",\n",
        "    tools=[],\n",
        ")"
      ],
      "metadata": {
        "id": "isaIpeHUQI7M"
      },
      "execution_count": null,
      "outputs": []
    },
    {
      "cell_type": "markdown",
      "source": [
        "### 🔄 **Thread Management Functions**\n",
        "\n",
        "\n",
        "\n",
        "\n",
        "\n",
        "\n"
      ],
      "metadata": {
        "id": "LVEwtNvoA7bb"
      }
    },
    {
      "cell_type": "code",
      "source": [
        "threads = {}\n",
        "\n",
        "\n",
        "def load_threads():\n",
        "    global threads\n",
        "    return threads\n",
        "\n",
        "\n",
        "def save_threads(new_threads):\n",
        "    global threads\n",
        "    threads = new_threads"
      ],
      "metadata": {
        "id": "v7_qq5-IQK-B"
      },
      "execution_count": null,
      "outputs": []
    },
    {
      "cell_type": "markdown",
      "source": [
        "### ⚙️ **Settings Management Functions**\n",
        "\n",
        "\n",
        "\n",
        "\n",
        "\n",
        "\n"
      ],
      "metadata": {
        "id": "3WrvBTi6A-V-"
      }
    },
    {
      "cell_type": "code",
      "source": [
        "settings = []\n",
        "\n",
        "\n",
        "def load_settings():\n",
        "    global settings\n",
        "    return settings\n",
        "\n",
        "\n",
        "def save_settings(new_settings):\n",
        "    global settings\n",
        "    settings = new_settings"
      ],
      "metadata": {
        "id": "DESpmWIkQTZG"
      },
      "execution_count": null,
      "outputs": []
    },
    {
      "cell_type": "markdown",
      "source": [
        "### 🏢 **Initialize Agency with Agents**\n",
        "\n",
        "\n",
        "\n",
        "\n",
        "\n",
        "\n"
      ],
      "metadata": {
        "id": "NPlbwSd1BCpl"
      }
    },
    {
      "cell_type": "code",
      "source": [
        "agency = Agency(\n",
        "    [ceo, [ceo, test]],\n",
        "    async_mode=\"threading\",\n",
        "    threads_callbacks={\"load\": load_threads, \"save\": save_threads},\n",
        "    settings_callbacks={\"load\": load_settings, \"save\": save_settings},\n",
        ")"
      ],
      "metadata": {
        "colab": {
          "base_uri": "https://localhost:8080/"
        },
        "id": "fvSmIoUVQVPu",
        "outputId": "c926050e-9020-44c3-d53f-5651a7e5b9fb"
      },
      "execution_count": null,
      "outputs": [
        {
          "output_type": "stream",
          "name": "stdout",
          "text": [
            "Warning: 'threading' mode is deprecated. Please use send_message_tool_class = SendMessageAsyncThreading to use async communication.\n"
          ]
        }
      ]
    },
    {
      "cell_type": "markdown",
      "source": [
        "### 💬 **Send Message to Test Agent**\n",
        "\n",
        "\n",
        "\n",
        "\n",
        "\n",
        "\n"
      ],
      "metadata": {
        "id": "Xuj_8a6bBGkV"
      }
    },
    {
      "cell_type": "code",
      "source": [
        "agency.get_completion(\"Say hi to test agent\", yield_messages=False)\n"
      ],
      "metadata": {
        "colab": {
          "base_uri": "https://localhost:8080/",
          "height": 90
        },
        "id": "Hqkyx60XQXC_",
        "outputId": "e47de59e-daaf-4e78-f452-cf2040f8b072"
      },
      "execution_count": null,
      "outputs": [
        {
          "output_type": "stream",
          "name": "stdout",
          "text": [
            "THREAD:[ user -> CEO ]: URL https://platform.openai.com/playground/assistants?assistant=asst_X4KUU1dIX8vFMUbxrca62GQF&mode=assistant&thread=thread_i4AckTn2ADd0kCRolSQ5dLg5\n"
          ]
        },
        {
          "output_type": "execute_result",
          "data": {
            "text/plain": [
              "\"It seems there is a persistent issue with sending the message. I will need to investigate further to resolve this. Please let me know if there's anything else I can assist you with in the meantime.\""
            ],
            "application/vnd.google.colaboratory.intrinsic+json": {
              "type": "string"
            }
          },
          "metadata": {},
          "execution_count": 13
        }
      ]
    },
    {
      "cell_type": "markdown",
      "source": [
        "### 📊 **Check Agency Status**\n",
        "\n",
        "\n",
        "\n",
        "\n",
        "\n",
        "\n"
      ],
      "metadata": {
        "id": "9KSMcrkcBJsc"
      }
    },
    {
      "cell_type": "code",
      "source": [
        "agency.get_completion(\"Check status\", yield_messages=False)\n"
      ],
      "metadata": {
        "colab": {
          "base_uri": "https://localhost:8080/",
          "height": 73
        },
        "id": "Wp6N8DHWQY6U",
        "outputId": "9c75c40a-6ad2-4157-e50b-c77184eca316"
      },
      "execution_count": null,
      "outputs": [
        {
          "output_type": "stream",
          "name": "stdout",
          "text": [
            "THREAD:[ user -> CEO ]: URL https://platform.openai.com/playground/assistants?assistant=asst_X4KUU1dIX8vFMUbxrca62GQF&mode=assistant&thread=thread_i4AckTn2ADd0kCRolSQ5dLg5\n"
          ]
        },
        {
          "output_type": "execute_result",
          "data": {
            "text/plain": [
              "'Could you please clarify what status you would like me to check? Are you referring to the status of a specific task, message, or system?'"
            ],
            "application/vnd.google.colaboratory.intrinsic+json": {
              "type": "string"
            }
          },
          "metadata": {},
          "execution_count": 14
        }
      ]
    },
    {
      "cell_type": "markdown",
      "source": [
        "### 🎨 **Launch Gradio Demo for Agency**\n",
        "\n",
        "\n",
        "\n",
        "\n",
        "\n",
        "\n"
      ],
      "metadata": {
        "id": "TUttNrwsBM-t"
      }
    },
    {
      "cell_type": "code",
      "source": [
        "agency.demo_gradio()"
      ],
      "metadata": {
        "id": "tECBqc2fQiHd"
      },
      "execution_count": null,
      "outputs": []
    },
    {
      "cell_type": "markdown",
      "source": [
        "### 🕵️ **Creating Your Own Browsing Swarm**\n",
        "\n",
        "\n",
        "\n",
        "\n",
        "\n",
        "\n"
      ],
      "metadata": {
        "id": "wAQgU1C5TM_1"
      }
    },
    {
      "cell_type": "code",
      "source": [
        "import sys\n",
        "\n",
        "sys.path.insert(0, \"../\")"
      ],
      "metadata": {
        "id": "vg5DjtMqQnOg"
      },
      "execution_count": null,
      "outputs": []
    },
    {
      "cell_type": "code",
      "source": [
        "from agency_swarm import Agency, Agent\n",
        "from agency_swarm.agents import BrowsingAgent"
      ],
      "metadata": {
        "id": "7en0OX2FSnI0"
      },
      "execution_count": null,
      "outputs": []
    },
    {
      "cell_type": "markdown",
      "source": [
        "### 📑 **Create Report Manager Agent**\n",
        "\n",
        "\n",
        "\n",
        "\n",
        "\n",
        "\n"
      ],
      "metadata": {
        "id": "8Ha4Dw6_BTt-"
      }
    },
    {
      "cell_type": "code",
      "source": [
        "report_manager = Agent(\n",
        "    name=\"Report Manager\",\n",
        "    description=\"The Report Manager Agent is responsible for supervising data collection from various weather websites and compiling reports as necessary.\",\n",
        "    instructions=\"As a Report Manager Agent, your role involves direct interaction and oversight of the BrowsingAgent's operations. Your primary duty is to guarantee that the user's task is comprehensively and accurately completed. Achieve this by methodically breaking down each task from the user into smaller steps required to complete it. Then, issue each step of the task as a distinct message to the BrowsingAgent. Make sure to always tell the browsing agent to go back to google search results before proceeding to the the next source. After the necessary data is collection, compile a report and send it to the user. Make sure to ask the browsing agent for direct links to the sources and include them into report. Try to trouble shoot any issues that may arise along the way with the other agents first, before reporting back to the user. Do not respond to the user until the report is complete or you have encountered an issue that you cannot resolve yourself.\",\n",
        ")"
      ],
      "metadata": {
        "id": "AGlSf2QDR1W9"
      },
      "execution_count": null,
      "outputs": []
    },
    {
      "cell_type": "markdown",
      "source": [
        "### 🌐 **Configure Selenium and Create Browsing Agent**\n",
        "\n",
        "\n",
        "\n",
        "\n",
        "\n",
        "\n"
      ],
      "metadata": {
        "id": "t4ab67VBBWlv"
      }
    },
    {
      "cell_type": "code",
      "source": [
        "selenium_config = {\n",
        "    \"headless\": False,\n",
        "    \"full_page_screenshot\": False,\n",
        "}\n",
        "\n",
        "browsing_agent = BrowsingAgent(selenium_config=selenium_config)"
      ],
      "metadata": {
        "id": "H2qKtyCcTRER"
      },
      "execution_count": null,
      "outputs": []
    },
    {
      "cell_type": "markdown",
      "source": [
        "### 🏢 **Initialize Data Collection Agency**\n",
        "\n",
        "\n",
        "\n",
        "\n",
        "\n",
        "\n"
      ],
      "metadata": {
        "id": "9nzt28zYBZeE"
      }
    },
    {
      "cell_type": "code",
      "source": [
        "agency = Agency(\n",
        "    [report_manager, [report_manager, browsing_agent]],\n",
        "    shared_instructions=\"You are a part of a data collection agency with the goal to find the most relevant information about people on the web. Your core value is autonomy and you are free to use any means necessary to achieve your goal. You do not stop until you have found the information you need or you have exhausted all possible means. You always to to compile a comprehensive report with as much information from the web pages as possible.\",\n",
        ")"
      ],
      "metadata": {
        "colab": {
          "base_uri": "https://localhost:8080/"
        },
        "id": "-kFiWF8QTSXH",
        "outputId": "dee02482-a283-4c84-eef2-99e0c39e021c"
      },
      "execution_count": null,
      "outputs": [
        {
          "output_type": "stream",
          "name": "stdout",
          "text": [
            "Updating agent... BrowsingAgent\n"
          ]
        }
      ]
    },
    {
      "cell_type": "markdown",
      "source": [
        "### 🎨 **Launch Gradio Demo for Data Collection Agency**\n",
        "\n",
        "\n",
        "\n",
        "\n",
        "\n",
        "\n"
      ],
      "metadata": {
        "id": "2OcOEwZQBcJM"
      }
    },
    {
      "cell_type": "code",
      "source": [
        "demo = agency.demo_gradio(height=700)"
      ],
      "metadata": {
        "id": "Tl_WVAA_TVZE"
      },
      "execution_count": null,
      "outputs": []
    }
  ]
}