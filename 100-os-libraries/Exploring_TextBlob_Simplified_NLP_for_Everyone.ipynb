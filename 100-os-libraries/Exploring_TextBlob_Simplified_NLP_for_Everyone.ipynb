{
  "nbformat": 4,
  "nbformat_minor": 0,
  "metadata": {
    "colab": {
      "provenance": []
    },
    "kernelspec": {
      "name": "python3",
      "display_name": "Python 3"
    },
    "language_info": {
      "name": "python"
    }
  },
  "cells": [
    {
      "cell_type": "markdown",
      "source": [
        "<img src=\"https://drive.google.com/uc?export=view&id=1wYSMgJtARFdvTt5g7E20mE4NmwUFUuog\" width=\"200\">\n",
        "\n",
        "[![Build Fast with AI](https://img.shields.io/badge/BuildFastWithAI-GenAI%20Bootcamp-blue?style=for-the-badge&logo=artificial-intelligence)](https://www.buildfastwithai.com/genai-course)\n",
        "[![EduChain GitHub](https://img.shields.io/github/stars/satvik314/educhain?style=for-the-badge&logo=github&color=gold)](https://github.com/satvik314/educhain)\n",
        "\n",
        "[![Open In Colab](https://colab.research.google.com/assets/colab-badge.svg)](https://colab.research.google.com/drive/1y7OBmGb7V5vBHkVBIDR8ZsrtQmRymcp8#scrollTo=0fq6C4OXHkX9)\n",
        "## Master Generative AI in 6 Weeks\n",
        "**What You'll Learn:**\n",
        "- Build with Latest LLMs\n",
        "- Create Custom AI Apps\n",
        "- Learn from Industry Experts\n",
        "- Join Innovation Community\n",
        "Transform your AI ideas into reality through hands-on projects and expert mentorship.\n",
        "[Start Your Journey](https://www.buildfastwithai.com/genai-course)\n",
        "*Empowering the Next Generation of AI Innovators"
      ],
      "metadata": {
        "id": "UBL4_pYfG58a"
      }
    },
    {
      "cell_type": "markdown",
      "source": [
        "# ⚡ **TextBlob: Simplified NLP for Everyone**\n",
        "\n",
        "\n",
        "TextBlob is a powerful Python library that provides an intuitive API for performing\n",
        "Natural Language Processing (NLP) tasks. Designed for simplicity, it enables users\n",
        "to perform tasks like sentiment analysis, POS tagging, translation, lemmatization,\n",
        "and more with minimal code.\n",
        "\n",
        "Key Features:\n",
        "- Text Preprocessing: Tokenization, N-grams, and spelling correction.\n",
        "- Sentiment Analysis: Analyze polarity and subjectivity of text.\n",
        "- Translation and Language Detection: Translate text to/from multiple languages.\n",
        "- Text Classification: Build and test Naive Bayes classifiers.\n",
        "- Easy to Use: Ideal for beginners and developers with its clean API.\n"
      ],
      "metadata": {
        "id": "ek2MhZBYG_1X"
      }
    },
    {
      "cell_type": "markdown",
      "source": [
        "###**Setup and Installation**\n",
        "\n"
      ],
      "metadata": {
        "id": "0fq6C4OXHkX9"
      }
    },
    {
      "cell_type": "code",
      "execution_count": null,
      "metadata": {
        "id": "AU6mzz3AFN6v"
      },
      "outputs": [],
      "source": [
        "!pip install -q textblob"
      ]
    },
    {
      "cell_type": "code",
      "source": [
        "!python -m textblob.download_corpora"
      ],
      "metadata": {
        "id": "2Qs0HF-LOIJi"
      },
      "execution_count": null,
      "outputs": []
    },
    {
      "cell_type": "code",
      "source": [
        "import nltk\n",
        "nltk.download('punkt_tab')\n",
        "nltk.download('averaged_perceptron_tagger_eng')"
      ],
      "metadata": {
        "id": "N6EMkMJkOSbB"
      },
      "execution_count": null,
      "outputs": []
    },
    {
      "cell_type": "code",
      "source": [
        "from textblob import TextBlob\n",
        "from textblob import Word\n",
        "from textblob.classifiers import NaiveBayesClassifier"
      ],
      "metadata": {
        "id": "N0D8OxYtNqk1"
      },
      "execution_count": null,
      "outputs": []
    },
    {
      "cell_type": "markdown",
      "source": [
        "###**Creating and Manipulating TextBlob Objects**"
      ],
      "metadata": {
        "id": "BtVoKXoWHqjZ"
      }
    },
    {
      "cell_type": "code",
      "source": [
        "text = \"TextBlob is a great library for NLP. It makes text processing simple!\"\n",
        "blob = TextBlob(text)\n",
        "print(\"Original Text:\", blob.string)\n",
        "print(\"Uppercase Text:\", blob.upper())"
      ],
      "metadata": {
        "colab": {
          "base_uri": "https://localhost:8080/"
        },
        "id": "LYkoyoSXN5kL",
        "outputId": "ae2efc73-e30a-4fca-d93f-90f85f968d0a"
      },
      "execution_count": null,
      "outputs": [
        {
          "output_type": "stream",
          "name": "stdout",
          "text": [
            "Original Text: TextBlob is a great library for NLP. It makes text processing simple!\n",
            "Uppercase Text: TEXTBLOB IS A GREAT LIBRARY FOR NLP. IT MAKES TEXT PROCESSING SIMPLE!\n"
          ]
        }
      ]
    },
    {
      "cell_type": "markdown",
      "source": [
        "### **Tokenization**"
      ],
      "metadata": {
        "id": "gbVQH8yxH11M"
      }
    },
    {
      "cell_type": "code",
      "source": [
        "\n",
        "print(\"Sentences:\", blob.sentences)\n",
        "print(\"Words:\", blob.words)"
      ],
      "metadata": {
        "colab": {
          "base_uri": "https://localhost:8080/"
        },
        "id": "QIzyQ_MLN8kn",
        "outputId": "f83750c2-fd46-4822-cb66-d872dd480ad0"
      },
      "execution_count": null,
      "outputs": [
        {
          "output_type": "stream",
          "name": "stdout",
          "text": [
            "Sentences: [Sentence(\"TextBlob is a great library for NLP.\"), Sentence(\"It makes text processing simple!\")]\n",
            "Words: ['TextBlob', 'is', 'a', 'great', 'library', 'for', 'NLP', 'It', 'makes', 'text', 'processing', 'simple']\n"
          ]
        }
      ]
    },
    {
      "cell_type": "markdown",
      "source": [
        "###**Part-of-Speech (POS) Tagging**"
      ],
      "metadata": {
        "id": "oTOWCdNiH7KK"
      }
    },
    {
      "cell_type": "code",
      "source": [
        "print(\"POS Tags:\", blob.tags)"
      ],
      "metadata": {
        "colab": {
          "base_uri": "https://localhost:8080/"
        },
        "id": "9g-NrVB4N-xH",
        "outputId": "b2f0f035-1e42-4742-903e-7cd3055950b5"
      },
      "execution_count": null,
      "outputs": [
        {
          "output_type": "stream",
          "name": "stdout",
          "text": [
            "POS Tags: [('TextBlob', 'NNP'), ('is', 'VBZ'), ('a', 'DT'), ('great', 'JJ'), ('library', 'NN'), ('for', 'IN'), ('NLP', 'NNP'), ('It', 'PRP'), ('makes', 'VBZ'), ('text', 'JJ'), ('processing', 'VBG'), ('simple', 'NN')]\n"
          ]
        }
      ]
    },
    {
      "cell_type": "markdown",
      "source": [
        "###**Sentiment Analysis**"
      ],
      "metadata": {
        "id": "FPAwslJ2H_Yp"
      }
    },
    {
      "cell_type": "code",
      "source": [
        "print(\"Sentiment:\", blob.sentiment)\n",
        "print(\"Polarity:\", blob.sentiment.polarity)\n",
        "print(\"Subjectivity:\", blob.sentiment.subjectivity)"
      ],
      "metadata": {
        "colab": {
          "base_uri": "https://localhost:8080/"
        },
        "id": "ag_q5THbOY10",
        "outputId": "86d20756-fd76-412a-f4df-2937d1072f17"
      },
      "execution_count": null,
      "outputs": [
        {
          "output_type": "stream",
          "name": "stdout",
          "text": [
            "Sentiment: Sentiment(polarity=0.4, subjectivity=0.5535714285714286)\n",
            "Polarity: 0.4\n",
            "Subjectivity: 0.5535714285714286\n"
          ]
        }
      ]
    },
    {
      "cell_type": "markdown",
      "source": [
        "###**Word Inflection and Lemmatization**"
      ],
      "metadata": {
        "id": "c-PgB3T-ID48"
      }
    },
    {
      "cell_type": "code",
      "source": [
        "from textblob import TextBlob, Word\n",
        "\n",
        "# Pluralize and Singularize words\n",
        "print(\"Plural of 'apple':\", Word(\"apple\").pluralize())\n",
        "print(\"Singular of 'oranges':\", Word(\"oranges\").singularize())\n",
        "\n",
        "# Lemmatization\n",
        "word = Word(\"running\")\n",
        "print(\"Lemma of 'running':\", word.lemmatize(\"v\"))  # Lemmatize as a verb\n"
      ],
      "metadata": {
        "colab": {
          "base_uri": "https://localhost:8080/"
        },
        "id": "yvPvADwjO5Ad",
        "outputId": "928c30fe-8584-4825-9b3e-a6ce5b9e3ed6"
      },
      "execution_count": null,
      "outputs": [
        {
          "output_type": "stream",
          "name": "stdout",
          "text": [
            "Plural of 'apple': apples\n",
            "Singular of 'oranges': orange\n",
            "Lemma of 'running': run\n"
          ]
        }
      ]
    },
    {
      "cell_type": "markdown",
      "source": [
        "###**Spelling Correction**"
      ],
      "metadata": {
        "id": "qQCPicO6IIiP"
      }
    },
    {
      "cell_type": "code",
      "source": [
        "blob = TextBlob(\"I havv bad spellng.\")\n",
        "print(\"Corrected Text:\", blob.correct())"
      ],
      "metadata": {
        "colab": {
          "base_uri": "https://localhost:8080/"
        },
        "id": "OuQpwWuqO8aU",
        "outputId": "5b5403b9-e641-4fed-ff2f-6ea3850c2516"
      },
      "execution_count": null,
      "outputs": [
        {
          "output_type": "stream",
          "name": "stdout",
          "text": [
            "Corrected Text: I have bad spelling.\n"
          ]
        }
      ]
    },
    {
      "cell_type": "markdown",
      "source": [
        "### **N-grams**"
      ],
      "metadata": {
        "id": "INXD09XJINFA"
      }
    },
    {
      "cell_type": "code",
      "source": [
        "print(\"Bigrams:\", blob.ngrams(n=2))"
      ],
      "metadata": {
        "colab": {
          "base_uri": "https://localhost:8080/"
        },
        "id": "glPq63VKPNI0",
        "outputId": "581f9ac1-36af-49c6-fc3c-de2b46b8795a"
      },
      "execution_count": null,
      "outputs": [
        {
          "output_type": "stream",
          "name": "stdout",
          "text": [
            "Bigrams: [WordList(['I', 'havv']), WordList(['havv', 'bad']), WordList(['bad', 'spellng'])]\n"
          ]
        }
      ]
    },
    {
      "cell_type": "markdown",
      "source": [
        "###**Definitions**"
      ],
      "metadata": {
        "id": "SaW5pc1jIQwy"
      }
    },
    {
      "cell_type": "code",
      "source": [
        "Word(\"blog\").definitions"
      ],
      "metadata": {
        "colab": {
          "base_uri": "https://localhost:8080/"
        },
        "id": "EdgF7NepPPpc",
        "outputId": "694de283-3710-4d14-eeab-ab3e6c5fd84b"
      },
      "execution_count": null,
      "outputs": [
        {
          "output_type": "execute_result",
          "data": {
            "text/plain": [
              "['a shared on-line journal where people can post diary entries about their personal experiences and hobbies',\n",
              " 'read, write, or edit a shared on-line journal']"
            ]
          },
          "metadata": {},
          "execution_count": 24
        }
      ]
    },
    {
      "cell_type": "markdown",
      "source": [
        "###**Text Classification (Naive Bayes Classifier)**"
      ],
      "metadata": {
        "id": "OwktkhO0IW1T"
      }
    },
    {
      "cell_type": "code",
      "source": [
        "train = [\n",
        "    ('I love this movie.', 'pos'),\n",
        "    ('This is an amazing place!', 'pos'),\n",
        "    ('I feel very good about these things.', 'pos'),\n",
        "    ('This is my best work.', 'pos'),\n",
        "    ('What an awesome view', 'pos'),\n",
        "    ('I do not like this restaurant', 'neg'),\n",
        "    ('I am tired of this stuff.', 'neg'),\n",
        "    (\"I can't deal with this.\", 'neg'),\n",
        "    ('He is my sworn enemy!', 'neg'),\n",
        "    ('My boss is horrible.', 'neg')\n",
        "]\n",
        "\n",
        "classifier = NaiveBayesClassifier(train)\n",
        "print(\"Classification:\", classifier.classify(\"I feel awesome today!\"))\n",
        "\n",
        "test = [\n",
        "    ('The day is good.', 'pos'),\n",
        "    ('I hate this place.', 'neg')\n",
        "]\n",
        "print(\"Accuracy:\", classifier.accuracy(test))\n"
      ],
      "metadata": {
        "colab": {
          "base_uri": "https://localhost:8080/"
        },
        "id": "a3TjynapPRwc",
        "outputId": "2bceb40a-ad16-4935-a148-5389ab1d8af9"
      },
      "execution_count": null,
      "outputs": [
        {
          "output_type": "stream",
          "name": "stdout",
          "text": [
            "Classification: pos\n",
            "Accuracy: 1.0\n"
          ]
        }
      ]
    },
    {
      "cell_type": "markdown",
      "source": [
        "##**Synsets**"
      ],
      "metadata": {
        "id": "IgVg2hWvIbNK"
      }
    },
    {
      "cell_type": "code",
      "source": [
        "word = Word(\"phone\")\n",
        "word.synsets"
      ],
      "metadata": {
        "colab": {
          "base_uri": "https://localhost:8080/"
        },
        "id": "hu8WaSurPZrR",
        "outputId": "857fc353-629b-4f60-8865-0e1d21a40ba2"
      },
      "execution_count": null,
      "outputs": [
        {
          "output_type": "execute_result",
          "data": {
            "text/plain": [
              "[Synset('telephone.n.01'),\n",
              " Synset('phone.n.02'),\n",
              " Synset('earphone.n.01'),\n",
              " Synset('call.v.03')]"
            ]
          },
          "metadata": {},
          "execution_count": 25
        }
      ]
    },
    {
      "cell_type": "markdown",
      "source": [
        "###**Summarization**"
      ],
      "metadata": {
        "id": "i57K-Y1gIl62"
      }
    },
    {
      "cell_type": "code",
      "source": [
        "from textblob import TextBlob\n",
        "\n",
        "def summarize_text(text, num_sentences=2):\n",
        "    blob = TextBlob(text)\n",
        "    sentences = blob.sentences\n",
        "    sorted_sentences = sorted(sentences, key=lambda s: s.sentiment.polarity, reverse=True)\n",
        "    summary = \" \".join(str(sentence) for sentence in sorted_sentences[:num_sentences])\n",
        "    return summary"
      ],
      "metadata": {
        "id": "a0CWW6LYP7lp"
      },
      "execution_count": null,
      "outputs": []
    },
    {
      "cell_type": "code",
      "source": [
        "\n",
        "text = \"\"\"\n",
        "TextBlob is an amazing library for Natural Language Processing. It provides easy-to-use APIs for common NLP tasks.\n",
        "Using TextBlob, you can perform sentiment analysis, part-of-speech tagging, and even machine translation.\n",
        "It simplifies text processing for developers and researchers. TextBlob is particularly helpful for beginners in NLP.\n",
        "\"\"\"\n",
        "summary = summarize_text(text, num_sentences=2)\n",
        "print(\"Summary:\", summary)\n"
      ],
      "metadata": {
        "colab": {
          "base_uri": "https://localhost:8080/"
        },
        "id": "ZPsc0fIpQMaZ",
        "outputId": "1e7cf822-94a7-4e7b-d4db-451268c08ce4"
      },
      "execution_count": null,
      "outputs": [
        {
          "output_type": "stream",
          "name": "stdout",
          "text": [
            "Summary: \n",
            "TextBlob is an amazing library for Natural Language Processing. TextBlob is particularly helpful for beginners in NLP.\n"
          ]
        }
      ]
    }
  ]
}