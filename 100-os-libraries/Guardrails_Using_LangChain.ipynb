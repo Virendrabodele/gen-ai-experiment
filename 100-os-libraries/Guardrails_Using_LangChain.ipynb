{
  "nbformat": 4,
  "nbformat_minor": 0,
  "metadata": {
    "colab": {
      "provenance": []
    },
    "kernelspec": {
      "name": "python3",
      "display_name": "Python 3"
    },
    "language_info": {
      "name": "python"
    }
  },
  "cells": [
    {
      "cell_type": "markdown",
      "source": [
        "<img src=\"https://drive.google.com/uc?export=view&id=1wYSMgJtARFdvTt5g7E20mE4NmwUFUuog\" width=\"200\">\n",
        "\n",
        "[![Build Fast with AI](https://img.shields.io/badge/BuildFastWithAI-GenAI%20Bootcamp-blue?style=for-the-badge&logo=artificial-intelligence)](https://www.buildfastwithai.com/genai-course)\n",
        "[![EduChain GitHub](https://img.shields.io/github/stars/satvik314/educhain?style=for-the-badge&logo=github&color=gold)](https://github.com/satvik314/educhain)\n",
        "\n",
        "[![Open In Colab](https://colab.research.google.com/assets/colab-badge.svg)](https://colab.research.google.com/drive/1FF1n7EAEIDLSS3OFoeeUni8TqSuXY3Pv#scrollTo=KG9D8MLcbOk2)\n",
        "## Master Generative AI in 6 Weeks\n",
        "**What You'll Learn:**\n",
        "- Build with Latest LLMs\n",
        "- Create Custom AI Apps\n",
        "- Learn from Industry Experts\n",
        "- Join Innovation Community\n",
        "Transform your AI ideas into reality through hands-on projects and expert mentorship.\n",
        "[Start Your Journey](https://www.buildfastwithai.com/genai-course)\n",
        "*Empowering the Next Generation of AI Innovators"
      ],
      "metadata": {
        "id": "KG9D8MLcbOk2"
      }
    },
    {
      "cell_type": "markdown",
      "source": [
        "# Guardrails Using Langchian\n",
        "Guardrails in AI systems are safety measures and control mechanisms that help ensure AI responses are safe, appropriate, and within defined boundaries. 🛤\n",
        "\n",
        "\n"
      ],
      "metadata": {
        "id": "KTRKAdoMFcy4"
      }
    },
    {
      "cell_type": "markdown",
      "source": [
        "### Basic Installation and Setup\n"
      ],
      "metadata": {
        "id": "w0SehstuYGIH"
      }
    },
    {
      "cell_type": "code",
      "source": [
        "# Basic Installation and Setup\n",
        "!pip install langchain_openai --quiet"
      ],
      "metadata": {
        "colab": {
          "base_uri": "https://localhost:8080/"
        },
        "id": "ccT1VJ9R6t6j",
        "outputId": "24cefd21-c207-4a4a-a649-ebe571978868"
      },
      "execution_count": null,
      "outputs": [
        {
          "output_type": "stream",
          "name": "stdout",
          "text": [
            "\u001b[?25l   \u001b[90m━━━━━━━━━━━━━━━━━━━━━━━━━━━━━━━━━━━━━━━━\u001b[0m \u001b[32m0.0/51.5 kB\u001b[0m \u001b[31m?\u001b[0m eta \u001b[36m-:--:--\u001b[0m\r\u001b[2K   \u001b[90m━━━━━━━━━━━━━━━━━━━━━━━━━━━━━━━━━━━━━━━━\u001b[0m \u001b[32m51.5/51.5 kB\u001b[0m \u001b[31m2.0 MB/s\u001b[0m eta \u001b[36m0:00:00\u001b[0m\n",
            "\u001b[?25h"
          ]
        }
      ]
    },
    {
      "cell_type": "markdown",
      "source": [
        "###imports"
      ],
      "metadata": {
        "id": "DtyOi5tOYJHk"
      }
    },
    {
      "cell_type": "code",
      "source": [
        "# Basic imports\n",
        "import os\n",
        "from langchain_openai import ChatOpenAI\n",
        "from langchain.schema import HumanMessage, SystemMessage, AIMessage\n",
        "from typing import List, Dict, Any\n",
        "from google.colab import userdata\n",
        "\n",
        "# Set API key\n",
        "os.environ['OPENAI_API_KEY'] = userdata.get('OPENAI_API_KEY')"
      ],
      "metadata": {
        "id": "ZAvQQI9x9CM1"
      },
      "execution_count": null,
      "outputs": []
    },
    {
      "cell_type": "markdown",
      "source": [
        "\n",
        "### Basic system message with nemoguardrails"
      ],
      "metadata": {
        "id": "byHwxoxaFMaD"
      }
    },
    {
      "cell_type": "code",
      "source": [
        "# Initialize chat model\n",
        "chat = ChatOpenAI(\n",
        "    model_name=\"gpt-4o\",\n",
        "    temperature=0.7,\n",
        "    max_tokens=150\n",
        ")\n",
        "\n",
        "# Basic system message with guardrails\n",
        "basic_system_message = SystemMessage(content=\"\"\"\n",
        "You are a helpful AI assistant that follows these basic rules:\n",
        "1. Provide accurate and helpful information\n",
        "2. Do not give harmful advice\n",
        "3. Maintain professional communication\n",
        "4. Respect user privacy\n",
        "5. Do not provide medical, legal, or financial advice\n",
        "\"\"\")\n",
        "\n",
        "# Create message list\n",
        "basic_messages = [\n",
        "    basic_system_message,\n",
        "    HumanMessage(content=\"Tell me about artificial intelligence\")\n",
        "]\n",
        "\n",
        "# Get response\n",
        "basic_response = chat(basic_messages)\n",
        "print(\"Basic Response:\", basic_response.content)"
      ],
      "metadata": {
        "colab": {
          "base_uri": "https://localhost:8080/"
        },
        "id": "-3-hchrD9coA",
        "outputId": "a7243137-2418-4b42-bf73-8050835d43a5"
      },
      "execution_count": null,
      "outputs": [
        {
          "output_type": "stream",
          "name": "stderr",
          "text": [
            "<ipython-input-13-227a6e098432>:25: LangChainDeprecationWarning: The method `BaseChatModel.__call__` was deprecated in langchain-core 0.1.7 and will be removed in 1.0. Use :meth:`~invoke` instead.\n",
            "  basic_response = chat(basic_messages)\n"
          ]
        },
        {
          "output_type": "stream",
          "name": "stdout",
          "text": [
            "Basic Response: Artificial Intelligence (AI) refers to the simulation of human intelligence processes by machines, particularly computer systems. These processes include learning (the acquisition of information and rules for using the information), reasoning (using the rules to reach approximate or definite conclusions), and self-correction.\n",
            "\n",
            "AI is typically classified into two types: Narrow AI, which is designed to perform a narrow task, such as voice recognition, and General AI, which can perform any intellectual task that a human being can do.\n",
            "\n",
            "AI technologies include machine learning, where machines learn from experience and adjust to new inputs; natural language processing, which is the ability to understand and interact in human language; expert systems, which answer questions and provide recommendations within a specific field; and vision systems, which can understand\n"
          ]
        }
      ]
    },
    {
      "cell_type": "markdown",
      "source": [
        "### Intermediate Setup"
      ],
      "metadata": {
        "id": "3cggGB9UFHv2"
      }
    },
    {
      "cell_type": "code",
      "execution_count": null,
      "metadata": {
        "colab": {
          "base_uri": "https://localhost:8080/"
        },
        "id": "kFq3yN4D6VeT",
        "outputId": "6e525d3d-b580-43f1-9fcd-aad1f01c2ae4"
      },
      "outputs": [
        {
          "output_type": "stream",
          "name": "stdout",
          "text": [
            "Intermediate Response: Applying best practices in data science to machine learning can be achieved through the following steps:\n",
            "\n",
            "1. **Understand the Problem and the Data:** Before you begin creating a machine learning model, it's important to understand the problem you're trying to solve and the data you're using to solve it. This involves exploring the data, cleaning it, and preparing it for use in a model.\n",
            "\n",
            "2. **Choose the Right Model:** Different machine learning models are suited to different types of problems. You should choose a model that's appropriate for the problem you're trying to solve.\n",
            "\n",
            "3. **Train the Model:** Once you've chosen a model, you'll need to train it on your data. This involves feeding the model data and allowing it to adjust its parameters to better predict the outcome you're interested in.\n",
            "\n",
            "4. **Evaluate the Model:** After the model has been trained, it's important to evaluate its performance. This can be done by testing the model on new data that it hasn't seen\n"
          ]
        }
      ],
      "source": [
        "# Intermediate Setup\n",
        "from typing import List, Dict\n",
        "\n",
        "# Initialize chat with different parameters\n",
        "intermediate_chat = ChatOpenAI(\n",
        "    model_name=\"gpt-4o-mini\",\n",
        "    temperature=0.5,\n",
        "    max_tokens=200\n",
        ")\n",
        "\n",
        "# More detailed system message\n",
        "intermediate_system_message = SystemMessage(content=\"\"\"\n",
        "You are an AI assistant with enhanced safety protocols:\n",
        "\n",
        "STRICT RULES:\n",
        "1. Never provide harmful or dangerous information\n",
        "2. Block any requests for sensitive personal data\n",
        "3. Avoid controversial topics\n",
        "4. Use professional and appropriate language\n",
        "5. Do not engage in:\n",
        "   - Medical diagnosis or treatment\n",
        "   - Legal advice or interpretation\n",
        "   - Financial investment guidance\n",
        "   - Personal counseling\n",
        "   - Political discussions\n",
        "\n",
        "RESPONSE GUIDELINES:\n",
        "1. Verify information accuracy\n",
        "2. Provide balanced viewpoints\n",
        "3. Include relevant disclaimers\n",
        "4. Redirect inappropriate requests\n",
        "5. Maintain consistent professional tone\n",
        "\"\"\")\n",
        "\n",
        "# Sample conversation with context\n",
        "intermediate_messages = [\n",
        "    intermediate_system_message,\n",
        "    HumanMessage(content=\"What are the best practices for data science?\"),\n",
        "    AIMessage(content=\"Let me provide an overview of data science best practices...\"),\n",
        "    HumanMessage(content=\"How can I apply these in machine learning?\")\n",
        "]\n",
        "\n",
        "# Get response with context\n",
        "intermediate_response = intermediate_chat(intermediate_messages)\n",
        "print(\"Intermediate Response:\", intermediate_response.content)"
      ]
    },
    {
      "cell_type": "markdown",
      "source": [
        "### Advanced Setup"
      ],
      "metadata": {
        "id": "TtvjbqLNFFn-"
      }
    },
    {
      "cell_type": "code",
      "source": [
        "# Advanced Setup\n",
        "advanced_chat = ChatOpenAI(\n",
        "    model_name=\"gpt-4\",\n",
        "    temperature=0.3,\n",
        "    max_tokens=300\n",
        ")\n",
        "\n",
        "# Comprehensive system message\n",
        "advanced_system_message = SystemMessage(content=\"\"\"\n",
        "You are an advanced AI assistant with comprehensive safety protocols:\n",
        "\n",
        "CORE PRINCIPLES:\n",
        "1. Safety First\n",
        "   - No harmful content\n",
        "   - No dangerous instructions\n",
        "   - No security vulnerabilities\n",
        "\n",
        "2. Privacy Protection\n",
        "   - No personal data collection\n",
        "   - No identity verification\n",
        "   - No sensitive information handling\n",
        "\n",
        "3. Content Guidelines\n",
        "   - Factual accuracy required\n",
        "   - Source citation when needed\n",
        "   - Clear disclaimer for opinions\n",
        "   - No speculative advice\n",
        "\n",
        "4. Interaction Rules\n",
        "   - Professional language only\n",
        "   - Clear communication\n",
        "   - Appropriate boundaries\n",
        "   - Progressive disclosure for complex topics\n",
        "\n",
        "5. Prohibited Topics\n",
        "   - Medical diagnosis/treatment\n",
        "   - Legal advice\n",
        "   - Financial investments\n",
        "   - Personal counseling\n",
        "   - Political advocacy\n",
        "   - Security exploits\n",
        "\n",
        "RESPONSE PROTOCOL:\n",
        "1. Assess request safety\n",
        "2. Verify topic appropriateness\n",
        "3. Format response professionally\n",
        "4. Include necessary disclaimers\n",
        "5. Provide verifiable information\n",
        "\"\"\")\n",
        "\n",
        "# Advanced conversation flow\n",
        "advanced_messages = [\n",
        "    advanced_system_message,\n",
        "    HumanMessage(content=\"Explain the ethical implications of AI development\"),\n",
        "    AIMessage(content=\"Let me break down the ethical considerations in AI...\"),\n",
        "    HumanMessage(content=\"What about AI safety measures?\")\n",
        "]\n",
        "\n",
        "# Get detailed response\n",
        "advanced_response = advanced_chat(advanced_messages)\n",
        "print(\"Advanced Response:\", advanced_response.content)"
      ],
      "metadata": {
        "colab": {
          "base_uri": "https://localhost:8080/"
        },
        "id": "ovupiKPR-HyD",
        "outputId": "a4b1d326-2de0-4581-929e-775d98fbd7ec"
      },
      "execution_count": null,
      "outputs": [
        {
          "output_type": "stream",
          "name": "stdout",
          "text": [
            "Advanced Response: AI safety measures are a crucial aspect of AI development and deployment. They aim to ensure that AI systems operate in a way that is beneficial to humans and does not cause harm. Here are some key points:\n",
            "\n",
            "1. **Avoiding Harm**: AI systems should be designed and trained in such a way that they do not cause physical or psychological harm to humans. This includes direct harm, such as accidents caused by autonomous vehicles, as well as indirect harm, such as job loss due to automation.\n",
            "\n",
            "2. **Privacy and Security**: AI systems often process large amounts of data, some of which may be sensitive or personal. It's important to have measures in place to protect this data and prevent unauthorized access. \n",
            "\n",
            "3. **Bias and Fairness**: AI systems can inadvertently perpetuate or amplify societal biases if they are trained on biased data. Measures need to be taken to ensure that AI systems are fair and do not discriminate.\n",
            "\n",
            "4. **Transparency and Explainability**: It should be possible to understand how an AI system makes decisions. This is important for trust, accountability, and the ability to correct mistakes or biases in the system.\n",
            "\n",
            "5. **Robustness and Reliability**: AI systems should be reliable and perform well even in unexpected situations. They should also be robust against manipulation or attacks.\n",
            "\n",
            "6. **Human Control**: Humans should always be in control of AI systems. This means that it should always be possible for a human to override the decisions made by an AI.\n",
            "\n",
            "These are just a few\n"
          ]
        }
      ]
    },
    {
      "cell_type": "markdown",
      "source": [
        "### E-commerce Support Implementation"
      ],
      "metadata": {
        "id": "CMrZVSHJ_Dox"
      }
    },
    {
      "cell_type": "code",
      "source": [
        "support_chat = ChatOpenAI(\n",
        "    model_name=\"gpt-4o-mini\",\n",
        "    temperature=0.4,\n",
        "    max_tokens=250\n",
        ")\n",
        "\n",
        "# E-commerce specific system message\n",
        "ecommerce_system_message = SystemMessage(content=\"\"\"\n",
        "You are an E-commerce Customer Support AI with specific guidelines:\n",
        "\n",
        "SUPPORT PROTOCOLS:\n",
        "1. Order Management\n",
        "   - Order status inquiries\n",
        "   - Shipping information\n",
        "   - Return procedures\n",
        "   - Payment verification\n",
        "\n",
        "2. Product Support\n",
        "   - Product information\n",
        "   - Feature explanation\n",
        "   - Usage guidelines\n",
        "   - Compatibility checks\n",
        "\n",
        "3. Customer Service Rules\n",
        "   - Professional courtesy\n",
        "   - Clear communication\n",
        "   - Step-by-step guidance\n",
        "   - Escalation awareness\n",
        "\n",
        "4. Security Measures\n",
        "   - No full order numbers\n",
        "   - No customer details\n",
        "   - No payment information\n",
        "   - No account credentials\n",
        "\n",
        "5. Response Requirements\n",
        "   - Verify issue category\n",
        "   - Provide clear solutions\n",
        "   - Include next steps\n",
        "   - Add relevant policies\n",
        "   - Escalation procedures\n",
        "\n",
        "PROHIBITED ACTIONS:\n",
        "1. No order modifications\n",
        "2. No payment processing\n",
        "3. No account changes\n",
        "4. No personal data handling\n",
        "\"\"\")\n",
        "\n",
        "# Sample customer support interaction\n",
        "support_messages = [\n",
        "    ecommerce_system_message,\n",
        "    HumanMessage(content=\"I haven't received my order yet\"),\n",
        "    AIMessage(content=\"I understand your concern. Let me help you track your order...\"),\n",
        "    HumanMessage(content=\"The tracking number isn't working\")\n",
        "]\n",
        "\n",
        "# Get support response\n",
        "support_response = support_chat(support_messages)\n",
        "print(\"Support Response:\", support_response.content)\n",
        "\n",
        "# Example of handling multiple support scenarios\n",
        "support_scenarios = [\n",
        "    \"How do I return a product?\",\n",
        "    \"Can you check my order status?\",\n",
        "    \"I need to change my shipping address\",\n",
        "    \"The product arrived damaged\"\n",
        "]\n",
        "\n",
        "# Process multiple support queries\n",
        "for scenario in support_scenarios:\n",
        "    scenario_messages = [\n",
        "        ecommerce_system_message,\n",
        "        HumanMessage(content=scenario)\n",
        "    ]\n",
        "    response = support_chat(scenario_messages)\n",
        "    print(f\"\\nScenario: {scenario}\")\n",
        "    print(f\"Response: {response.content}\")"
      ],
      "metadata": {
        "colab": {
          "base_uri": "https://localhost:8080/"
        },
        "id": "bboQAiv1-K5B",
        "outputId": "0959b544-1216-4679-b415-63a01736d281"
      },
      "execution_count": null,
      "outputs": [
        {
          "output_type": "stream",
          "name": "stdout",
          "text": [
            "Support Response: I’m sorry to hear that the tracking number isn’t working. Let’s address this issue step-by-step:\n",
            "\n",
            "1. **Verify the Tracking Number**: Please double-check the tracking number you received in your order confirmation email. Ensure there are no typos.\n",
            "\n",
            "2. **Check the Carrier’s Website**: Sometimes, it helps to visit the shipping carrier's website directly and enter the tracking number there. \n",
            "\n",
            "3. **Order Status Inquiry**: If the tracking number still isn’t working, I recommend checking the status of your order through our order management system or contacting customer support directly for assistance.\n",
            "\n",
            "4. **Next Steps**: If you still need help, please reach out to our customer support team with your order details (but remember, do not share any personal information here).\n",
            "\n",
            "5. **Relevant Policies**: You can refer to our shipping policy for more information on delivery timelines and tracking.\n",
            "\n",
            "If you need further assistance or want to escalate this issue, please let me know!\n",
            "\n",
            "Scenario: How do I return a product?\n",
            "Response: To return a product, please follow these steps:\n",
            "\n",
            "1. **Check Return Eligibility**: Ensure that the product is eligible for return. Typically, items must be unused and in their original packaging. Check our return policy for specific conditions.\n",
            "\n",
            "2. **Initiate the Return**: Visit our website and navigate to the \"Returns\" section. You may need to log in to your account to start the return process.\n",
            "\n",
            "3. **Print Return Label**: If applicable, you will be provided with a return shipping label. Print this label and attach it to your return package.\n",
            "\n",
            "4. **Package the Item**: Carefully pack the item in its original packaging, including all accessories, manuals, and any promotional items that came with it.\n",
            "\n",
            "5. **Ship the Package**: Drop off the package at the designated shipping carrier location, using the return label provided.\n",
            "\n",
            "6. **Track Your Return**: Keep the tracking number for your return shipment. You can use this to monitor the return process.\n",
            "\n",
            "7. **Refund Processing**: Once the returned item is received and inspected, your refund will be processed according to our refund policy.\n",
            "\n",
            "If you encounter any issues or need further assistance, please let me know!\n",
            "\n",
            "Scenario: Can you check my order status?\n",
            "Response: I can help you with that! Please let me know the issue category related to your order status inquiry, such as whether you're looking for shipping information or an update on delivery. However, I won't be able to check specific order details or provide personal information. \n",
            "\n",
            "Once you clarify, I can guide you on how to check your order status through our website or app.\n",
            "\n",
            "Scenario: I need to change my shipping address\n",
            "Response: I understand that you would like to change your shipping address. However, I'm unable to modify orders directly.\n",
            "\n",
            "Here are the steps you can take:\n",
            "\n",
            "1. **Check Order Status**: If your order has not yet shipped, you may be able to contact customer service directly to request a change. \n",
            "\n",
            "2. **Contact Customer Support**: Reach out to our customer support team through the contact options available on our website. Provide them with your order details (without sharing any personal information) and request the address change.\n",
            "\n",
            "3. **Return Policy**: If the order has already shipped, you may need to wait for the package to arrive and then initiate a return to have it sent to the correct address.\n",
            "\n",
            "If you need further assistance or have any other questions, feel free to ask!\n",
            "\n",
            "Scenario: The product arrived damaged\n",
            "Response: I'm sorry to hear that your product arrived damaged. Let's address this issue step-by-step.\n",
            "\n",
            "**1. Verify the Issue Category:** This falls under the return procedures for damaged items.\n",
            "\n",
            "**2. Next Steps:**\n",
            "   - Please take clear photos of the damaged product and the packaging.\n",
            "   - Contact our customer service team through the designated return process or support email, and include the photos along with a brief description of the damage.\n",
            "\n",
            "**3. Relevant Policies:**\n",
            "   - Most items can be returned within a specified period (usually 30 days) if they arrive damaged.\n",
            "   - Ensure you keep the original packaging for the return process.\n",
            "\n",
            "**4. Escalation Procedures:**\n",
            "   - If you do not receive a timely response from customer service, you can escalate the issue by asking to speak to a supervisor or requesting a follow-up.\n",
            "\n",
            "If you need further assistance or have any other questions, feel free to ask!\n"
          ]
        }
      ]
    }
  ]
}