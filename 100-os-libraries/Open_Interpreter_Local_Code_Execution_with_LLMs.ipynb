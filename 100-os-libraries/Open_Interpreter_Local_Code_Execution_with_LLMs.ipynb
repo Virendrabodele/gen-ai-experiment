{
  "nbformat": 4,
  "nbformat_minor": 0,
  "metadata": {
    "colab": {
      "provenance": []
    },
    "kernelspec": {
      "name": "python3",
      "display_name": "Python 3"
    },
    "language_info": {
      "name": "python"
    },
    "widgets": {
      "application/vnd.jupyter.widget-state+json": {
        "db098d803cb44dfab0b6a1533354587a": {
          "model_module": "@jupyter-widgets/output",
          "model_name": "OutputModel",
          "model_module_version": "1.0.0",
          "state": {
            "_dom_classes": [],
            "_model_module": "@jupyter-widgets/output",
            "_model_module_version": "1.0.0",
            "_model_name": "OutputModel",
            "_view_count": null,
            "_view_module": "@jupyter-widgets/output",
            "_view_module_version": "1.0.0",
            "_view_name": "OutputView",
            "layout": "IPY_MODEL_410e40fcfe4c4a59a9051e3f4611f095",
            "msg_id": "",
            "outputs": [
              {
                "output_type": "display_data",
                "data": {
                  "text/plain": "\n\u001b[48;2;39;39;34m                                                                                                                   \u001b[0m\n\u001b[48;2;39;39;34m \u001b[0m\u001b[48;2;39;39;34m \u001b[0m\u001b[38;2;248;248;242;48;2;39;40;34mprint\u001b[0m\u001b[38;2;248;248;242;48;2;39;40;34m(\u001b[0m\u001b[38;2;230;219;116;48;2;39;40;34m'\u001b[0m\u001b[38;2;230;219;116;48;2;39;40;34mHello, World!\u001b[0m\u001b[38;2;230;219;116;48;2;39;40;34m'\u001b[0m\u001b[38;2;248;248;242;48;2;39;40;34m)\u001b[0m\u001b[48;2;39;40;34m                                                                                         \u001b[0m\u001b[48;2;39;39;34m \u001b[0m\u001b[48;2;39;39;34m \u001b[0m\n\u001b[48;2;39;39;34m                                                                                                                   \u001b[0m\n\u001b[38;2;255;255;255;48;2;59;59;55m                                                                                                                   \u001b[0m\n\u001b[38;2;255;255;255;48;2;59;59;55m \u001b[0m\u001b[38;2;255;255;255;48;2;59;59;55m \u001b[0m\u001b[38;2;255;255;255;48;2;59;59;55mHello, World!\u001b[0m\u001b[38;2;255;255;255;48;2;59;59;55m                                                                                                  \u001b[0m\u001b[38;2;255;255;255;48;2;59;59;55m \u001b[0m\u001b[38;2;255;255;255;48;2;59;59;55m \u001b[0m\n\u001b[38;2;255;255;255;48;2;59;59;55m                                                                                                                   \u001b[0m\n",
                  "text/html": "<pre style=\"white-space:pre;overflow-x:auto;line-height:normal;font-family:Menlo,'DejaVu Sans Mono',consolas,'Courier New',monospace\">\n<span style=\"background-color: #272722\">                                                                                                                   </span>\n<span style=\"background-color: #272722\">  </span><span style=\"color: #f8f8f2; text-decoration-color: #f8f8f2; background-color: #272822\">print(</span><span style=\"color: #e6db74; text-decoration-color: #e6db74; background-color: #272822\">'Hello, World!'</span><span style=\"color: #f8f8f2; text-decoration-color: #f8f8f2; background-color: #272822\">)</span><span style=\"background-color: #272822\">                                                                                         </span><span style=\"background-color: #272722\">  </span>\n<span style=\"background-color: #272722\">                                                                                                                   </span>\n<span style=\"color: #ffffff; text-decoration-color: #ffffff; background-color: #3b3b37\">                                                                                                                   </span>\n<span style=\"color: #ffffff; text-decoration-color: #ffffff; background-color: #3b3b37\">  Hello, World!                                                                                                    </span>\n<span style=\"color: #ffffff; text-decoration-color: #ffffff; background-color: #3b3b37\">                                                                                                                   </span>\n</pre>\n"
                },
                "metadata": {}
              }
            ]
          }
        },
        "410e40fcfe4c4a59a9051e3f4611f095": {
          "model_module": "@jupyter-widgets/base",
          "model_name": "LayoutModel",
          "model_module_version": "1.2.0",
          "state": {
            "_model_module": "@jupyter-widgets/base",
            "_model_module_version": "1.2.0",
            "_model_name": "LayoutModel",
            "_view_count": null,
            "_view_module": "@jupyter-widgets/base",
            "_view_module_version": "1.2.0",
            "_view_name": "LayoutView",
            "align_content": null,
            "align_items": null,
            "align_self": null,
            "border": null,
            "bottom": null,
            "display": null,
            "flex": null,
            "flex_flow": null,
            "grid_area": null,
            "grid_auto_columns": null,
            "grid_auto_flow": null,
            "grid_auto_rows": null,
            "grid_column": null,
            "grid_gap": null,
            "grid_row": null,
            "grid_template_areas": null,
            "grid_template_columns": null,
            "grid_template_rows": null,
            "height": null,
            "justify_content": null,
            "justify_items": null,
            "left": null,
            "margin": null,
            "max_height": null,
            "max_width": null,
            "min_height": null,
            "min_width": null,
            "object_fit": null,
            "object_position": null,
            "order": null,
            "overflow": null,
            "overflow_x": null,
            "overflow_y": null,
            "padding": null,
            "right": null,
            "top": null,
            "visibility": null,
            "width": null
          }
        },
        "37fefcbe7980499bb09d52fe13b31fb9": {
          "model_module": "@jupyter-widgets/output",
          "model_name": "OutputModel",
          "model_module_version": "1.0.0",
          "state": {
            "_dom_classes": [],
            "_model_module": "@jupyter-widgets/output",
            "_model_module_version": "1.0.0",
            "_model_name": "OutputModel",
            "_view_count": null,
            "_view_module": "@jupyter-widgets/output",
            "_view_module_version": "1.0.0",
            "_view_name": "OutputView",
            "layout": "IPY_MODEL_ff5d3e33b4ce483c92386ac315a883ed",
            "msg_id": "",
            "outputs": [
              {
                "output_type": "display_data",
                "data": {
                  "text/plain": "                                                                                                                   \n  Hello, World!                                                                                                    \n                                                                                                                   \n  I just printed \"Hello, World!\" using Python. If there's anything else you'd like to do, feel free to ask!        \n                                                                                                                   \n",
                  "text/html": "<pre style=\"white-space:pre;overflow-x:auto;line-height:normal;font-family:Menlo,'DejaVu Sans Mono',consolas,'Courier New',monospace\">                                                                                                                   \n  Hello, World!                                                                                                    \n                                                                                                                   \n  I just printed \"Hello, World!\" using Python. If there's anything else you'd like to do, feel free to ask!        \n                                                                                                                   \n</pre>\n"
                },
                "metadata": {}
              }
            ]
          }
        },
        "ff5d3e33b4ce483c92386ac315a883ed": {
          "model_module": "@jupyter-widgets/base",
          "model_name": "LayoutModel",
          "model_module_version": "1.2.0",
          "state": {
            "_model_module": "@jupyter-widgets/base",
            "_model_module_version": "1.2.0",
            "_model_name": "LayoutModel",
            "_view_count": null,
            "_view_module": "@jupyter-widgets/base",
            "_view_module_version": "1.2.0",
            "_view_name": "LayoutView",
            "align_content": null,
            "align_items": null,
            "align_self": null,
            "border": null,
            "bottom": null,
            "display": null,
            "flex": null,
            "flex_flow": null,
            "grid_area": null,
            "grid_auto_columns": null,
            "grid_auto_flow": null,
            "grid_auto_rows": null,
            "grid_column": null,
            "grid_gap": null,
            "grid_row": null,
            "grid_template_areas": null,
            "grid_template_columns": null,
            "grid_template_rows": null,
            "height": null,
            "justify_content": null,
            "justify_items": null,
            "left": null,
            "margin": null,
            "max_height": null,
            "max_width": null,
            "min_height": null,
            "min_width": null,
            "object_fit": null,
            "object_position": null,
            "order": null,
            "overflow": null,
            "overflow_x": null,
            "overflow_y": null,
            "padding": null,
            "right": null,
            "top": null,
            "visibility": null,
            "width": null
          }
        },
        "eeac78bcac5b465d8942e1ddea6390cc": {
          "model_module": "@jupyter-widgets/output",
          "model_name": "OutputModel",
          "model_module_version": "1.0.0",
          "state": {
            "_dom_classes": [],
            "_model_module": "@jupyter-widgets/output",
            "_model_module_version": "1.0.0",
            "_model_name": "OutputModel",
            "_view_count": null,
            "_view_module": "@jupyter-widgets/output",
            "_view_module_version": "1.0.0",
            "_view_name": "OutputView",
            "layout": "IPY_MODEL_f653f22123144dc2a1e7c7b3541f1f69",
            "msg_id": "",
            "outputs": [
              {
                "output_type": "display_data",
                "data": {
                  "text/plain": "                                                                                                                   \n  Sure. Let's solve the equation step by step:                                                                     \n                                                                                                                   \n  The equation is:                                                                                                 \n                                                                                                                   \n  [ 10x + 14 = \\frac{21}{3} ]                                                                                      \n                                                                                                                   \n  First, simplify the right side:                                                                                  \n                                                                                                                   \n  [ \\frac{21}{3} = 7 ]                                                                                             \n                                                                                                                   \n  Now, the equation becomes:                                                                                       \n                                                                                                                   \n  [ 10x + 14 = 7 ]                                                                                                 \n                                                                                                                   \n  To solve for (x), perform the following steps:                                                                   \n                                                                                                                   \n  \u001b[1;33m 1 \u001b[0mSubtract 14 from both sides to isolate the term with (x).                                                     \n  \u001b[1;33m 2 \u001b[0mDivide both sides by 10 to solve for (x).                                                                     \n                                                                                                                   \n  I will calculate it now.                                                                                         \n                                                                                                                   \n",
                  "text/html": "<pre style=\"white-space:pre;overflow-x:auto;line-height:normal;font-family:Menlo,'DejaVu Sans Mono',consolas,'Courier New',monospace\">                                                                                                                   \n  Sure. Let's solve the equation step by step:                                                                     \n                                                                                                                   \n  The equation is:                                                                                                 \n                                                                                                                   \n  [ 10x + 14 = \\frac{21}{3} ]                                                                                      \n                                                                                                                   \n  First, simplify the right side:                                                                                  \n                                                                                                                   \n  [ \\frac{21}{3} = 7 ]                                                                                             \n                                                                                                                   \n  Now, the equation becomes:                                                                                       \n                                                                                                                   \n  [ 10x + 14 = 7 ]                                                                                                 \n                                                                                                                   \n  To solve for (x), perform the following steps:                                                                   \n                                                                                                                   \n  <span style=\"color: #808000; text-decoration-color: #808000; font-weight: bold\"> 1 </span>Subtract 14 from both sides to isolate the term with (x).                                                     \n  <span style=\"color: #808000; text-decoration-color: #808000; font-weight: bold\"> 2 </span>Divide both sides by 10 to solve for (x).                                                                     \n                                                                                                                   \n  I will calculate it now.                                                                                         \n                                                                                                                   \n</pre>\n"
                },
                "metadata": {}
              }
            ]
          }
        },
        "f653f22123144dc2a1e7c7b3541f1f69": {
          "model_module": "@jupyter-widgets/base",
          "model_name": "LayoutModel",
          "model_module_version": "1.2.0",
          "state": {
            "_model_module": "@jupyter-widgets/base",
            "_model_module_version": "1.2.0",
            "_model_name": "LayoutModel",
            "_view_count": null,
            "_view_module": "@jupyter-widgets/base",
            "_view_module_version": "1.2.0",
            "_view_name": "LayoutView",
            "align_content": null,
            "align_items": null,
            "align_self": null,
            "border": null,
            "bottom": null,
            "display": null,
            "flex": null,
            "flex_flow": null,
            "grid_area": null,
            "grid_auto_columns": null,
            "grid_auto_flow": null,
            "grid_auto_rows": null,
            "grid_column": null,
            "grid_gap": null,
            "grid_row": null,
            "grid_template_areas": null,
            "grid_template_columns": null,
            "grid_template_rows": null,
            "height": null,
            "justify_content": null,
            "justify_items": null,
            "left": null,
            "margin": null,
            "max_height": null,
            "max_width": null,
            "min_height": null,
            "min_width": null,
            "object_fit": null,
            "object_position": null,
            "order": null,
            "overflow": null,
            "overflow_x": null,
            "overflow_y": null,
            "padding": null,
            "right": null,
            "top": null,
            "visibility": null,
            "width": null
          }
        },
        "86df8faf534c4eb0a623fb46b9f6e4b4": {
          "model_module": "@jupyter-widgets/output",
          "model_name": "OutputModel",
          "model_module_version": "1.0.0",
          "state": {
            "_dom_classes": [],
            "_model_module": "@jupyter-widgets/output",
            "_model_module_version": "1.0.0",
            "_model_name": "OutputModel",
            "_view_count": null,
            "_view_module": "@jupyter-widgets/output",
            "_view_module_version": "1.0.0",
            "_view_name": "OutputView",
            "layout": "IPY_MODEL_69d4a02ddbd945daa47c600d5158d62d",
            "msg_id": "",
            "outputs": [
              {
                "output_type": "display_data",
                "data": {
                  "text/plain": "\n\u001b[48;2;39;39;34m                                                                                                                   \u001b[0m\n\u001b[48;2;39;39;34m \u001b[0m\u001b[48;2;39;39;34m \u001b[0m\u001b[38;2;248;248;242;48;2;39;40;34mx\u001b[0m\u001b[38;2;248;248;242;48;2;39;40;34m \u001b[0m\u001b[38;2;255;70;137;48;2;39;40;34m=\u001b[0m\u001b[38;2;248;248;242;48;2;39;40;34m \u001b[0m\u001b[38;2;248;248;242;48;2;39;40;34msymbols\u001b[0m\u001b[38;2;248;248;242;48;2;39;40;34m(\u001b[0m\u001b[38;2;230;219;116;48;2;39;40;34m'\u001b[0m\u001b[38;2;230;219;116;48;2;39;40;34mx\u001b[0m\u001b[38;2;230;219;116;48;2;39;40;34m'\u001b[0m\u001b[38;2;248;248;242;48;2;39;40;34m)\u001b[0m\u001b[48;2;39;40;34m                                                                                               \u001b[0m\u001b[48;2;39;39;34m \u001b[0m\u001b[48;2;39;39;34m \u001b[0m\n\u001b[48;2;39;39;34m \u001b[0m\u001b[48;2;39;39;34m \u001b[0m\u001b[38;2;248;248;242;48;2;39;40;34mequation\u001b[0m\u001b[38;2;248;248;242;48;2;39;40;34m \u001b[0m\u001b[38;2;255;70;137;48;2;39;40;34m=\u001b[0m\u001b[38;2;248;248;242;48;2;39;40;34m \u001b[0m\u001b[38;2;248;248;242;48;2;39;40;34mEq\u001b[0m\u001b[38;2;248;248;242;48;2;39;40;34m(\u001b[0m\u001b[38;2;174;129;255;48;2;39;40;34m10\u001b[0m\u001b[38;2;255;70;137;48;2;39;40;34m*\u001b[0m\u001b[38;2;248;248;242;48;2;39;40;34mx\u001b[0m\u001b[38;2;248;248;242;48;2;39;40;34m \u001b[0m\u001b[38;2;255;70;137;48;2;39;40;34m+\u001b[0m\u001b[38;2;248;248;242;48;2;39;40;34m \u001b[0m\u001b[38;2;174;129;255;48;2;39;40;34m14\u001b[0m\u001b[38;2;248;248;242;48;2;39;40;34m,\u001b[0m\u001b[38;2;248;248;242;48;2;39;40;34m \u001b[0m\u001b[38;2;174;129;255;48;2;39;40;34m7\u001b[0m\u001b[38;2;248;248;242;48;2;39;40;34m)\u001b[0m\u001b[48;2;39;40;34m                                                                                    \u001b[0m\u001b[48;2;39;39;34m \u001b[0m\u001b[48;2;39;39;34m \u001b[0m\n\u001b[48;2;39;39;34m \u001b[0m\u001b[48;2;39;39;34m \u001b[0m\u001b[38;2;248;248;242;48;2;39;40;34msolution\u001b[0m\u001b[38;2;248;248;242;48;2;39;40;34m \u001b[0m\u001b[38;2;255;70;137;48;2;39;40;34m=\u001b[0m\u001b[38;2;248;248;242;48;2;39;40;34m \u001b[0m\u001b[38;2;248;248;242;48;2;39;40;34msolve\u001b[0m\u001b[38;2;248;248;242;48;2;39;40;34m(\u001b[0m\u001b[38;2;248;248;242;48;2;39;40;34mequation\u001b[0m\u001b[38;2;248;248;242;48;2;39;40;34m,\u001b[0m\u001b[38;2;248;248;242;48;2;39;40;34m \u001b[0m\u001b[38;2;248;248;242;48;2;39;40;34mx\u001b[0m\u001b[38;2;248;248;242;48;2;39;40;34m)\u001b[0m\u001b[48;2;39;40;34m                                                                                  \u001b[0m\u001b[48;2;39;39;34m \u001b[0m\u001b[48;2;39;39;34m \u001b[0m\n\u001b[48;2;39;39;34m \u001b[0m\u001b[48;2;39;39;34m \u001b[0m\u001b[38;2;248;248;242;48;2;39;40;34msolution\u001b[0m\u001b[48;2;39;40;34m                                                                                                       \u001b[0m\u001b[48;2;39;39;34m \u001b[0m\u001b[48;2;39;39;34m \u001b[0m\n\u001b[48;2;39;39;34m                                                                                                                   \u001b[0m\n\u001b[38;2;255;255;255;48;2;59;59;55m                                                                                                                   \u001b[0m\n\u001b[38;2;255;255;255;48;2;59;59;55m \u001b[0m\u001b[38;2;255;255;255;48;2;59;59;55m \u001b[0m\u001b[38;2;255;255;255;48;2;59;59;55m[-7/10]\u001b[0m\u001b[38;2;255;255;255;48;2;59;59;55m                                                                                                        \u001b[0m\u001b[38;2;255;255;255;48;2;59;59;55m \u001b[0m\u001b[38;2;255;255;255;48;2;59;59;55m \u001b[0m\n\u001b[38;2;255;255;255;48;2;59;59;55m                                                                                                                   \u001b[0m\n",
                  "text/html": "<pre style=\"white-space:pre;overflow-x:auto;line-height:normal;font-family:Menlo,'DejaVu Sans Mono',consolas,'Courier New',monospace\">\n<span style=\"background-color: #272722\">                                                                                                                   </span>\n<span style=\"background-color: #272722\">  </span><span style=\"color: #f8f8f2; text-decoration-color: #f8f8f2; background-color: #272822\">x </span><span style=\"color: #ff4689; text-decoration-color: #ff4689; background-color: #272822\">=</span><span style=\"color: #f8f8f2; text-decoration-color: #f8f8f2; background-color: #272822\"> symbols(</span><span style=\"color: #e6db74; text-decoration-color: #e6db74; background-color: #272822\">'x'</span><span style=\"color: #f8f8f2; text-decoration-color: #f8f8f2; background-color: #272822\">)</span><span style=\"background-color: #272822\">                                                                                               </span><span style=\"background-color: #272722\">  </span>\n<span style=\"background-color: #272722\">  </span><span style=\"color: #f8f8f2; text-decoration-color: #f8f8f2; background-color: #272822\">equation </span><span style=\"color: #ff4689; text-decoration-color: #ff4689; background-color: #272822\">=</span><span style=\"color: #f8f8f2; text-decoration-color: #f8f8f2; background-color: #272822\"> Eq(</span><span style=\"color: #ae81ff; text-decoration-color: #ae81ff; background-color: #272822\">10</span><span style=\"color: #ff4689; text-decoration-color: #ff4689; background-color: #272822\">*</span><span style=\"color: #f8f8f2; text-decoration-color: #f8f8f2; background-color: #272822\">x </span><span style=\"color: #ff4689; text-decoration-color: #ff4689; background-color: #272822\">+</span><span style=\"color: #f8f8f2; text-decoration-color: #f8f8f2; background-color: #272822\"> </span><span style=\"color: #ae81ff; text-decoration-color: #ae81ff; background-color: #272822\">14</span><span style=\"color: #f8f8f2; text-decoration-color: #f8f8f2; background-color: #272822\">, </span><span style=\"color: #ae81ff; text-decoration-color: #ae81ff; background-color: #272822\">7</span><span style=\"color: #f8f8f2; text-decoration-color: #f8f8f2; background-color: #272822\">)</span><span style=\"background-color: #272822\">                                                                                    </span><span style=\"background-color: #272722\">  </span>\n<span style=\"background-color: #272722\">  </span><span style=\"color: #f8f8f2; text-decoration-color: #f8f8f2; background-color: #272822\">solution </span><span style=\"color: #ff4689; text-decoration-color: #ff4689; background-color: #272822\">=</span><span style=\"color: #f8f8f2; text-decoration-color: #f8f8f2; background-color: #272822\"> solve(equation, x)</span><span style=\"background-color: #272822\">                                                                                  </span><span style=\"background-color: #272722\">  </span>\n<span style=\"background-color: #272722\">  </span><span style=\"color: #f8f8f2; text-decoration-color: #f8f8f2; background-color: #272822\">solution</span><span style=\"background-color: #272822\">                                                                                                       </span><span style=\"background-color: #272722\">  </span>\n<span style=\"background-color: #272722\">                                                                                                                   </span>\n<span style=\"color: #ffffff; text-decoration-color: #ffffff; background-color: #3b3b37\">                                                                                                                   </span>\n<span style=\"color: #ffffff; text-decoration-color: #ffffff; background-color: #3b3b37\">  [-7/10]                                                                                                          </span>\n<span style=\"color: #ffffff; text-decoration-color: #ffffff; background-color: #3b3b37\">                                                                                                                   </span>\n</pre>\n"
                },
                "metadata": {}
              }
            ]
          }
        },
        "69d4a02ddbd945daa47c600d5158d62d": {
          "model_module": "@jupyter-widgets/base",
          "model_name": "LayoutModel",
          "model_module_version": "1.2.0",
          "state": {
            "_model_module": "@jupyter-widgets/base",
            "_model_module_version": "1.2.0",
            "_model_name": "LayoutModel",
            "_view_count": null,
            "_view_module": "@jupyter-widgets/base",
            "_view_module_version": "1.2.0",
            "_view_name": "LayoutView",
            "align_content": null,
            "align_items": null,
            "align_self": null,
            "border": null,
            "bottom": null,
            "display": null,
            "flex": null,
            "flex_flow": null,
            "grid_area": null,
            "grid_auto_columns": null,
            "grid_auto_flow": null,
            "grid_auto_rows": null,
            "grid_column": null,
            "grid_gap": null,
            "grid_row": null,
            "grid_template_areas": null,
            "grid_template_columns": null,
            "grid_template_rows": null,
            "height": null,
            "justify_content": null,
            "justify_items": null,
            "left": null,
            "margin": null,
            "max_height": null,
            "max_width": null,
            "min_height": null,
            "min_width": null,
            "object_fit": null,
            "object_position": null,
            "order": null,
            "overflow": null,
            "overflow_x": null,
            "overflow_y": null,
            "padding": null,
            "right": null,
            "top": null,
            "visibility": null,
            "width": null
          }
        },
        "2780448d90824cd19c8d067b1890d2f9": {
          "model_module": "@jupyter-widgets/output",
          "model_name": "OutputModel",
          "model_module_version": "1.0.0",
          "state": {
            "_dom_classes": [],
            "_model_module": "@jupyter-widgets/output",
            "_model_module_version": "1.0.0",
            "_model_name": "OutputModel",
            "_view_count": null,
            "_view_module": "@jupyter-widgets/output",
            "_view_module_version": "1.0.0",
            "_view_name": "OutputView",
            "layout": "IPY_MODEL_ed298b5b868246589b09e17185a4a7ae",
            "msg_id": "",
            "outputs": [
              {
                "output_type": "display_data",
                "data": {
                  "text/plain": "                                                                                                                   \n  The solution to the equation (10x + 14 = \\frac{21}{3}) is (x = -\\frac{7}{10}) or (x = -0.7).                     \n                                                                                                                   \n  If you have any more questions or need further assistance, feel free to ask!                                     \n                                                                                                                   \n",
                  "text/html": "<pre style=\"white-space:pre;overflow-x:auto;line-height:normal;font-family:Menlo,'DejaVu Sans Mono',consolas,'Courier New',monospace\">                                                                                                                   \n  The solution to the equation (10x + 14 = \\frac{21}{3}) is (x = -\\frac{7}{10}) or (x = -0.7).                     \n                                                                                                                   \n  If you have any more questions or need further assistance, feel free to ask!                                     \n                                                                                                                   \n</pre>\n"
                },
                "metadata": {}
              }
            ]
          }
        },
        "ed298b5b868246589b09e17185a4a7ae": {
          "model_module": "@jupyter-widgets/base",
          "model_name": "LayoutModel",
          "model_module_version": "1.2.0",
          "state": {
            "_model_module": "@jupyter-widgets/base",
            "_model_module_version": "1.2.0",
            "_model_name": "LayoutModel",
            "_view_count": null,
            "_view_module": "@jupyter-widgets/base",
            "_view_module_version": "1.2.0",
            "_view_name": "LayoutView",
            "align_content": null,
            "align_items": null,
            "align_self": null,
            "border": null,
            "bottom": null,
            "display": null,
            "flex": null,
            "flex_flow": null,
            "grid_area": null,
            "grid_auto_columns": null,
            "grid_auto_flow": null,
            "grid_auto_rows": null,
            "grid_column": null,
            "grid_gap": null,
            "grid_row": null,
            "grid_template_areas": null,
            "grid_template_columns": null,
            "grid_template_rows": null,
            "height": null,
            "justify_content": null,
            "justify_items": null,
            "left": null,
            "margin": null,
            "max_height": null,
            "max_width": null,
            "min_height": null,
            "min_width": null,
            "object_fit": null,
            "object_position": null,
            "order": null,
            "overflow": null,
            "overflow_x": null,
            "overflow_y": null,
            "padding": null,
            "right": null,
            "top": null,
            "visibility": null,
            "width": null
          }
        },
        "02b8d83a5dad40c3a220d2af77e0fefd": {
          "model_module": "@jupyter-widgets/output",
          "model_name": "OutputModel",
          "model_module_version": "1.0.0",
          "state": {
            "_dom_classes": [],
            "_model_module": "@jupyter-widgets/output",
            "_model_module_version": "1.0.0",
            "_model_name": "OutputModel",
            "_view_count": null,
            "_view_module": "@jupyter-widgets/output",
            "_view_module_version": "1.0.0",
            "_view_name": "OutputView",
            "layout": "IPY_MODEL_f9b79152b15046ffabe35e48e0b2f7be",
            "msg_id": "",
            "outputs": [
              {
                "output_type": "display_data",
                "data": {
                  "text/plain": "                                                                                                                   \n  Goodbye! If you need any more help in the future, feel free to reach out. Have a great day! 😊                   \n                                                                                                                   \n",
                  "text/html": "<pre style=\"white-space:pre;overflow-x:auto;line-height:normal;font-family:Menlo,'DejaVu Sans Mono',consolas,'Courier New',monospace\">                                                                                                                   \n  Goodbye! If you need any more help in the future, feel free to reach out. Have a great day! 😊                   \n                                                                                                                   \n</pre>\n"
                },
                "metadata": {}
              }
            ]
          }
        },
        "f9b79152b15046ffabe35e48e0b2f7be": {
          "model_module": "@jupyter-widgets/base",
          "model_name": "LayoutModel",
          "model_module_version": "1.2.0",
          "state": {
            "_model_module": "@jupyter-widgets/base",
            "_model_module_version": "1.2.0",
            "_model_name": "LayoutModel",
            "_view_count": null,
            "_view_module": "@jupyter-widgets/base",
            "_view_module_version": "1.2.0",
            "_view_name": "LayoutView",
            "align_content": null,
            "align_items": null,
            "align_self": null,
            "border": null,
            "bottom": null,
            "display": null,
            "flex": null,
            "flex_flow": null,
            "grid_area": null,
            "grid_auto_columns": null,
            "grid_auto_flow": null,
            "grid_auto_rows": null,
            "grid_column": null,
            "grid_gap": null,
            "grid_row": null,
            "grid_template_areas": null,
            "grid_template_columns": null,
            "grid_template_rows": null,
            "height": null,
            "justify_content": null,
            "justify_items": null,
            "left": null,
            "margin": null,
            "max_height": null,
            "max_width": null,
            "min_height": null,
            "min_width": null,
            "object_fit": null,
            "object_position": null,
            "order": null,
            "overflow": null,
            "overflow_x": null,
            "overflow_y": null,
            "padding": null,
            "right": null,
            "top": null,
            "visibility": null,
            "width": null
          }
        },
        "ea08b971229243c39fb8603795419dbb": {
          "model_module": "@jupyter-widgets/output",
          "model_name": "OutputModel",
          "model_module_version": "1.0.0",
          "state": {
            "_dom_classes": [],
            "_model_module": "@jupyter-widgets/output",
            "_model_module_version": "1.0.0",
            "_model_name": "OutputModel",
            "_view_count": null,
            "_view_module": "@jupyter-widgets/output",
            "_view_module_version": "1.0.0",
            "_view_name": "OutputView",
            "layout": "IPY_MODEL_48c684eff2e041e7895bcd262b995b3c",
            "msg_id": "",
            "outputs": [
              {
                "output_type": "display_data",
                "data": {
                  "text/plain": "\n\u001b[48;2;39;39;34m                                                                                                                   \u001b[0m\n\u001b[48;2;39;39;34m \u001b[0m\u001b[48;2;39;39;34m \u001b[0m\u001b[38;2;255;70;137;48;2;39;40;34mimport\u001b[0m\u001b[38;2;248;248;242;48;2;39;40;34m \u001b[0m\u001b[38;2;248;248;242;48;2;39;40;34mrequests\u001b[0m\u001b[48;2;39;40;34m                                                                                                \u001b[0m\u001b[48;2;39;39;34m \u001b[0m\u001b[48;2;39;39;34m \u001b[0m\n\u001b[48;2;39;39;34m \u001b[0m\u001b[48;2;39;39;34m \u001b[0m\u001b[38;2;255;70;137;48;2;39;40;34mfrom\u001b[0m\u001b[38;2;248;248;242;48;2;39;40;34m \u001b[0m\u001b[38;2;248;248;242;48;2;39;40;34mbs4\u001b[0m\u001b[38;2;248;248;242;48;2;39;40;34m \u001b[0m\u001b[38;2;255;70;137;48;2;39;40;34mimport\u001b[0m\u001b[38;2;248;248;242;48;2;39;40;34m \u001b[0m\u001b[38;2;248;248;242;48;2;39;40;34mBeautifulSoup\u001b[0m\u001b[48;2;39;40;34m                                                                                  \u001b[0m\u001b[48;2;39;39;34m \u001b[0m\u001b[48;2;39;39;34m \u001b[0m\n\u001b[48;2;39;39;34m \u001b[0m\u001b[48;2;39;39;34m \u001b[0m\u001b[48;2;39;40;34m                                                                                                               \u001b[0m\u001b[48;2;39;39;34m \u001b[0m\u001b[48;2;39;39;34m \u001b[0m\n\u001b[48;2;39;39;34m \u001b[0m\u001b[48;2;39;39;34m \u001b[0m\u001b[38;2;149;144;119;48;2;39;40;34m# URL of the BBC News website\u001b[0m\u001b[48;2;39;40;34m                                                                                  \u001b[0m\u001b[48;2;39;39;34m \u001b[0m\u001b[48;2;39;39;34m \u001b[0m\n\u001b[48;2;39;39;34m \u001b[0m\u001b[48;2;39;39;34m \u001b[0m\u001b[38;2;248;248;242;48;2;39;40;34murl\u001b[0m\u001b[38;2;248;248;242;48;2;39;40;34m \u001b[0m\u001b[38;2;255;70;137;48;2;39;40;34m=\u001b[0m\u001b[38;2;248;248;242;48;2;39;40;34m \u001b[0m\u001b[38;2;230;219;116;48;2;39;40;34m'\u001b[0m\u001b[38;2;230;219;116;48;2;39;40;34mhttps://www.bbc.com/news\u001b[0m\u001b[38;2;230;219;116;48;2;39;40;34m'\u001b[0m\u001b[48;2;39;40;34m                                                                               \u001b[0m\u001b[48;2;39;39;34m \u001b[0m\u001b[48;2;39;39;34m \u001b[0m\n\u001b[48;2;39;39;34m \u001b[0m\u001b[48;2;39;39;34m \u001b[0m\u001b[48;2;39;40;34m                                                                                                               \u001b[0m\u001b[48;2;39;39;34m \u001b[0m\u001b[48;2;39;39;34m \u001b[0m\n\u001b[48;2;39;39;34m \u001b[0m\u001b[48;2;39;39;34m \u001b[0m\u001b[38;2;149;144;119;48;2;39;40;34m# Send a GET request\u001b[0m\u001b[48;2;39;40;34m                                                                                           \u001b[0m\u001b[48;2;39;39;34m \u001b[0m\u001b[48;2;39;39;34m \u001b[0m\n\u001b[48;2;39;39;34m \u001b[0m\u001b[48;2;39;39;34m \u001b[0m\u001b[38;2;248;248;242;48;2;39;40;34mresponse\u001b[0m\u001b[38;2;248;248;242;48;2;39;40;34m \u001b[0m\u001b[38;2;255;70;137;48;2;39;40;34m=\u001b[0m\u001b[38;2;248;248;242;48;2;39;40;34m \u001b[0m\u001b[38;2;248;248;242;48;2;39;40;34mrequests\u001b[0m\u001b[38;2;255;70;137;48;2;39;40;34m.\u001b[0m\u001b[38;2;248;248;242;48;2;39;40;34mget\u001b[0m\u001b[38;2;248;248;242;48;2;39;40;34m(\u001b[0m\u001b[38;2;248;248;242;48;2;39;40;34murl\u001b[0m\u001b[38;2;248;248;242;48;2;39;40;34m)\u001b[0m\u001b[48;2;39;40;34m                                                                                   \u001b[0m\u001b[48;2;39;39;34m \u001b[0m\u001b[48;2;39;39;34m \u001b[0m\n\u001b[48;2;39;39;34m \u001b[0m\u001b[48;2;39;39;34m \u001b[0m\u001b[48;2;39;40;34m                                                                                                               \u001b[0m\u001b[48;2;39;39;34m \u001b[0m\u001b[48;2;39;39;34m \u001b[0m\n\u001b[48;2;39;39;34m \u001b[0m\u001b[48;2;39;39;34m \u001b[0m\u001b[38;2;149;144;119;48;2;39;40;34m# Parse the HTML content of the page\u001b[0m\u001b[48;2;39;40;34m                                                                           \u001b[0m\u001b[48;2;39;39;34m \u001b[0m\u001b[48;2;39;39;34m \u001b[0m\n\u001b[48;2;39;39;34m \u001b[0m\u001b[48;2;39;39;34m \u001b[0m\u001b[38;2;248;248;242;48;2;39;40;34msoup\u001b[0m\u001b[38;2;248;248;242;48;2;39;40;34m \u001b[0m\u001b[38;2;255;70;137;48;2;39;40;34m=\u001b[0m\u001b[38;2;248;248;242;48;2;39;40;34m \u001b[0m\u001b[38;2;248;248;242;48;2;39;40;34mBeautifulSoup\u001b[0m\u001b[38;2;248;248;242;48;2;39;40;34m(\u001b[0m\u001b[38;2;248;248;242;48;2;39;40;34mresponse\u001b[0m\u001b[38;2;255;70;137;48;2;39;40;34m.\u001b[0m\u001b[38;2;248;248;242;48;2;39;40;34mcontent\u001b[0m\u001b[38;2;248;248;242;48;2;39;40;34m,\u001b[0m\u001b[38;2;248;248;242;48;2;39;40;34m \u001b[0m\u001b[38;2;230;219;116;48;2;39;40;34m'\u001b[0m\u001b[38;2;230;219;116;48;2;39;40;34mhtml.parser\u001b[0m\u001b[38;2;230;219;116;48;2;39;40;34m'\u001b[0m\u001b[38;2;248;248;242;48;2;39;40;34m)\u001b[0m\u001b[48;2;39;40;34m                                                          \u001b[0m\u001b[48;2;39;39;34m \u001b[0m\u001b[48;2;39;39;34m \u001b[0m\n\u001b[48;2;39;39;34m \u001b[0m\u001b[48;2;39;39;34m \u001b[0m\u001b[48;2;39;40;34m                                                                                                               \u001b[0m\u001b[48;2;39;39;34m \u001b[0m\u001b[48;2;39;39;34m \u001b[0m\n\u001b[48;2;39;39;34m \u001b[0m\u001b[48;2;39;39;34m \u001b[0m\u001b[38;2;149;144;119;48;2;39;40;34m# Find all headline elements\u001b[0m\u001b[48;2;39;40;34m                                                                                   \u001b[0m\u001b[48;2;39;39;34m \u001b[0m\u001b[48;2;39;39;34m \u001b[0m\n\u001b[48;2;39;39;34m \u001b[0m\u001b[48;2;39;39;34m \u001b[0m\u001b[38;2;248;248;242;48;2;39;40;34mheadlines\u001b[0m\u001b[38;2;248;248;242;48;2;39;40;34m \u001b[0m\u001b[38;2;255;70;137;48;2;39;40;34m=\u001b[0m\u001b[38;2;248;248;242;48;2;39;40;34m \u001b[0m\u001b[38;2;248;248;242;48;2;39;40;34msoup\u001b[0m\u001b[38;2;255;70;137;48;2;39;40;34m.\u001b[0m\u001b[38;2;248;248;242;48;2;39;40;34mfind_all\u001b[0m\u001b[38;2;248;248;242;48;2;39;40;34m(\u001b[0m\u001b[38;2;248;248;242;48;2;39;40;34mclass_\u001b[0m\u001b[38;2;255;70;137;48;2;39;40;34m=\u001b[0m\u001b[38;2;230;219;116;48;2;39;40;34m'\u001b[0m\u001b[38;2;230;219;116;48;2;39;40;34mgs-c-promo-heading__title gel-paragon-bold nw-o-link-split__text\u001b[0m\u001b[38;2;230;219;116;48;2;39;40;34m'\u001b[0m\u001b[38;2;248;248;242;48;2;39;40;34m)\u001b[0m\u001b[48;2;39;40;34m           \u001b[0m\u001b[48;2;39;39;34m \u001b[0m\u001b[48;2;39;39;34m \u001b[0m\n\u001b[48;2;39;39;34m \u001b[0m\u001b[48;2;39;39;34m \u001b[0m\u001b[48;2;39;40;34m                                                                                                               \u001b[0m\u001b[48;2;39;39;34m \u001b[0m\u001b[48;2;39;39;34m \u001b[0m\n\u001b[48;2;39;39;34m \u001b[0m\u001b[48;2;39;39;34m \u001b[0m\u001b[38;2;149;144;119;48;2;39;40;34m# Extract the text of the last 10 headlines\u001b[0m\u001b[48;2;39;40;34m                                                                    \u001b[0m\u001b[48;2;39;39;34m \u001b[0m\u001b[48;2;39;39;34m \u001b[0m\n\u001b[48;2;39;39;34m \u001b[0m\u001b[48;2;39;39;34m \u001b[0m\u001b[38;2;248;248;242;48;2;39;40;34mlast_10_headlines\u001b[0m\u001b[38;2;248;248;242;48;2;39;40;34m \u001b[0m\u001b[38;2;255;70;137;48;2;39;40;34m=\u001b[0m\u001b[38;2;248;248;242;48;2;39;40;34m \u001b[0m\u001b[38;2;248;248;242;48;2;39;40;34m[\u001b[0m\u001b[38;2;248;248;242;48;2;39;40;34mheadline\u001b[0m\u001b[38;2;255;70;137;48;2;39;40;34m.\u001b[0m\u001b[38;2;248;248;242;48;2;39;40;34mget_text\u001b[0m\u001b[38;2;248;248;242;48;2;39;40;34m(\u001b[0m\u001b[38;2;248;248;242;48;2;39;40;34m)\u001b[0m\u001b[38;2;248;248;242;48;2;39;40;34m \u001b[0m\u001b[38;2;102;217;239;48;2;39;40;34mfor\u001b[0m\u001b[38;2;248;248;242;48;2;39;40;34m \u001b[0m\u001b[38;2;248;248;242;48;2;39;40;34mheadline\u001b[0m\u001b[38;2;248;248;242;48;2;39;40;34m \u001b[0m\u001b[38;2;255;70;137;48;2;39;40;34min\u001b[0m\u001b[38;2;248;248;242;48;2;39;40;34m \u001b[0m\u001b[38;2;248;248;242;48;2;39;40;34mheadlines\u001b[0m\u001b[38;2;248;248;242;48;2;39;40;34m[\u001b[0m\u001b[38;2;248;248;242;48;2;39;40;34m:\u001b[0m\u001b[38;2;174;129;255;48;2;39;40;34m10\u001b[0m\u001b[38;2;248;248;242;48;2;39;40;34m]\u001b[0m\u001b[38;2;248;248;242;48;2;39;40;34m]\u001b[0m\u001b[48;2;39;40;34m                                       \u001b[0m\u001b[48;2;39;39;34m \u001b[0m\u001b[48;2;39;39;34m \u001b[0m\n\u001b[48;2;39;39;34m \u001b[0m\u001b[48;2;39;39;34m \u001b[0m\u001b[38;2;248;248;242;48;2;39;40;34mlast_10_headlines\u001b[0m\u001b[48;2;39;40;34m                                                                                              \u001b[0m\u001b[48;2;39;39;34m \u001b[0m\u001b[48;2;39;39;34m \u001b[0m\n\u001b[48;2;39;39;34m                                                                                                                   \u001b[0m\n\u001b[38;2;255;255;255;48;2;59;59;55m                                                                                                                   \u001b[0m\n\u001b[38;2;255;255;255;48;2;59;59;55m \u001b[0m\u001b[38;2;255;255;255;48;2;59;59;55m \u001b[0m\u001b[38;2;255;255;255;48;2;59;59;55m[]\u001b[0m\u001b[38;2;255;255;255;48;2;59;59;55m                                                                                                             \u001b[0m\u001b[38;2;255;255;255;48;2;59;59;55m \u001b[0m\u001b[38;2;255;255;255;48;2;59;59;55m \u001b[0m\n\u001b[38;2;255;255;255;48;2;59;59;55m                                                                                                                   \u001b[0m\n",
                  "text/html": "<pre style=\"white-space:pre;overflow-x:auto;line-height:normal;font-family:Menlo,'DejaVu Sans Mono',consolas,'Courier New',monospace\">\n<span style=\"background-color: #272722\">                                                                                                                   </span>\n<span style=\"background-color: #272722\">  </span><span style=\"color: #ff4689; text-decoration-color: #ff4689; background-color: #272822\">import</span><span style=\"color: #f8f8f2; text-decoration-color: #f8f8f2; background-color: #272822\"> requests</span><span style=\"background-color: #272822\">                                                                                                </span><span style=\"background-color: #272722\">  </span>\n<span style=\"background-color: #272722\">  </span><span style=\"color: #ff4689; text-decoration-color: #ff4689; background-color: #272822\">from</span><span style=\"color: #f8f8f2; text-decoration-color: #f8f8f2; background-color: #272822\"> bs4 </span><span style=\"color: #ff4689; text-decoration-color: #ff4689; background-color: #272822\">import</span><span style=\"color: #f8f8f2; text-decoration-color: #f8f8f2; background-color: #272822\"> BeautifulSoup</span><span style=\"background-color: #272822\">                                                                                  </span><span style=\"background-color: #272722\">  </span>\n<span style=\"background-color: #272722\">  </span><span style=\"background-color: #272822\">                                                                                                               </span><span style=\"background-color: #272722\">  </span>\n<span style=\"background-color: #272722\">  </span><span style=\"color: #959077; text-decoration-color: #959077; background-color: #272822\"># URL of the BBC News website</span><span style=\"background-color: #272822\">                                                                                  </span><span style=\"background-color: #272722\">  </span>\n<span style=\"background-color: #272722\">  </span><span style=\"color: #f8f8f2; text-decoration-color: #f8f8f2; background-color: #272822\">url </span><span style=\"color: #ff4689; text-decoration-color: #ff4689; background-color: #272822\">=</span><span style=\"color: #f8f8f2; text-decoration-color: #f8f8f2; background-color: #272822\"> </span><span style=\"color: #e6db74; text-decoration-color: #e6db74; background-color: #272822\">'https://www.bbc.com/news'</span><span style=\"background-color: #272822\">                                                                               </span><span style=\"background-color: #272722\">  </span>\n<span style=\"background-color: #272722\">  </span><span style=\"background-color: #272822\">                                                                                                               </span><span style=\"background-color: #272722\">  </span>\n<span style=\"background-color: #272722\">  </span><span style=\"color: #959077; text-decoration-color: #959077; background-color: #272822\"># Send a GET request</span><span style=\"background-color: #272822\">                                                                                           </span><span style=\"background-color: #272722\">  </span>\n<span style=\"background-color: #272722\">  </span><span style=\"color: #f8f8f2; text-decoration-color: #f8f8f2; background-color: #272822\">response </span><span style=\"color: #ff4689; text-decoration-color: #ff4689; background-color: #272822\">=</span><span style=\"color: #f8f8f2; text-decoration-color: #f8f8f2; background-color: #272822\"> requests</span><span style=\"color: #ff4689; text-decoration-color: #ff4689; background-color: #272822\">.</span><span style=\"color: #f8f8f2; text-decoration-color: #f8f8f2; background-color: #272822\">get(url)</span><span style=\"background-color: #272822\">                                                                                   </span><span style=\"background-color: #272722\">  </span>\n<span style=\"background-color: #272722\">  </span><span style=\"background-color: #272822\">                                                                                                               </span><span style=\"background-color: #272722\">  </span>\n<span style=\"background-color: #272722\">  </span><span style=\"color: #959077; text-decoration-color: #959077; background-color: #272822\"># Parse the HTML content of the page</span><span style=\"background-color: #272822\">                                                                           </span><span style=\"background-color: #272722\">  </span>\n<span style=\"background-color: #272722\">  </span><span style=\"color: #f8f8f2; text-decoration-color: #f8f8f2; background-color: #272822\">soup </span><span style=\"color: #ff4689; text-decoration-color: #ff4689; background-color: #272822\">=</span><span style=\"color: #f8f8f2; text-decoration-color: #f8f8f2; background-color: #272822\"> BeautifulSoup(response</span><span style=\"color: #ff4689; text-decoration-color: #ff4689; background-color: #272822\">.</span><span style=\"color: #f8f8f2; text-decoration-color: #f8f8f2; background-color: #272822\">content, </span><span style=\"color: #e6db74; text-decoration-color: #e6db74; background-color: #272822\">'html.parser'</span><span style=\"color: #f8f8f2; text-decoration-color: #f8f8f2; background-color: #272822\">)</span><span style=\"background-color: #272822\">                                                          </span><span style=\"background-color: #272722\">  </span>\n<span style=\"background-color: #272722\">  </span><span style=\"background-color: #272822\">                                                                                                               </span><span style=\"background-color: #272722\">  </span>\n<span style=\"background-color: #272722\">  </span><span style=\"color: #959077; text-decoration-color: #959077; background-color: #272822\"># Find all headline elements</span><span style=\"background-color: #272822\">                                                                                   </span><span style=\"background-color: #272722\">  </span>\n<span style=\"background-color: #272722\">  </span><span style=\"color: #f8f8f2; text-decoration-color: #f8f8f2; background-color: #272822\">headlines </span><span style=\"color: #ff4689; text-decoration-color: #ff4689; background-color: #272822\">=</span><span style=\"color: #f8f8f2; text-decoration-color: #f8f8f2; background-color: #272822\"> soup</span><span style=\"color: #ff4689; text-decoration-color: #ff4689; background-color: #272822\">.</span><span style=\"color: #f8f8f2; text-decoration-color: #f8f8f2; background-color: #272822\">find_all(class_</span><span style=\"color: #ff4689; text-decoration-color: #ff4689; background-color: #272822\">=</span><span style=\"color: #e6db74; text-decoration-color: #e6db74; background-color: #272822\">'gs-c-promo-heading__title gel-paragon-bold nw-o-link-split__text'</span><span style=\"color: #f8f8f2; text-decoration-color: #f8f8f2; background-color: #272822\">)</span><span style=\"background-color: #272822\">           </span><span style=\"background-color: #272722\">  </span>\n<span style=\"background-color: #272722\">  </span><span style=\"background-color: #272822\">                                                                                                               </span><span style=\"background-color: #272722\">  </span>\n<span style=\"background-color: #272722\">  </span><span style=\"color: #959077; text-decoration-color: #959077; background-color: #272822\"># Extract the text of the last 10 headlines</span><span style=\"background-color: #272822\">                                                                    </span><span style=\"background-color: #272722\">  </span>\n<span style=\"background-color: #272722\">  </span><span style=\"color: #f8f8f2; text-decoration-color: #f8f8f2; background-color: #272822\">last_10_headlines </span><span style=\"color: #ff4689; text-decoration-color: #ff4689; background-color: #272822\">=</span><span style=\"color: #f8f8f2; text-decoration-color: #f8f8f2; background-color: #272822\"> [headline</span><span style=\"color: #ff4689; text-decoration-color: #ff4689; background-color: #272822\">.</span><span style=\"color: #f8f8f2; text-decoration-color: #f8f8f2; background-color: #272822\">get_text() </span><span style=\"color: #66d9ef; text-decoration-color: #66d9ef; background-color: #272822\">for</span><span style=\"color: #f8f8f2; text-decoration-color: #f8f8f2; background-color: #272822\"> headline </span><span style=\"color: #ff4689; text-decoration-color: #ff4689; background-color: #272822\">in</span><span style=\"color: #f8f8f2; text-decoration-color: #f8f8f2; background-color: #272822\"> headlines[:</span><span style=\"color: #ae81ff; text-decoration-color: #ae81ff; background-color: #272822\">10</span><span style=\"color: #f8f8f2; text-decoration-color: #f8f8f2; background-color: #272822\">]]</span><span style=\"background-color: #272822\">                                       </span><span style=\"background-color: #272722\">  </span>\n<span style=\"background-color: #272722\">  </span><span style=\"color: #f8f8f2; text-decoration-color: #f8f8f2; background-color: #272822\">last_10_headlines</span><span style=\"background-color: #272822\">                                                                                              </span><span style=\"background-color: #272722\">  </span>\n<span style=\"background-color: #272722\">                                                                                                                   </span>\n<span style=\"color: #ffffff; text-decoration-color: #ffffff; background-color: #3b3b37\">                                                                                                                   </span>\n<span style=\"color: #ffffff; text-decoration-color: #ffffff; background-color: #3b3b37\">  []                                                                                                               </span>\n<span style=\"color: #ffffff; text-decoration-color: #ffffff; background-color: #3b3b37\">                                                                                                                   </span>\n</pre>\n"
                },
                "metadata": {}
              }
            ]
          }
        },
        "48c684eff2e041e7895bcd262b995b3c": {
          "model_module": "@jupyter-widgets/base",
          "model_name": "LayoutModel",
          "model_module_version": "1.2.0",
          "state": {
            "_model_module": "@jupyter-widgets/base",
            "_model_module_version": "1.2.0",
            "_model_name": "LayoutModel",
            "_view_count": null,
            "_view_module": "@jupyter-widgets/base",
            "_view_module_version": "1.2.0",
            "_view_name": "LayoutView",
            "align_content": null,
            "align_items": null,
            "align_self": null,
            "border": null,
            "bottom": null,
            "display": null,
            "flex": null,
            "flex_flow": null,
            "grid_area": null,
            "grid_auto_columns": null,
            "grid_auto_flow": null,
            "grid_auto_rows": null,
            "grid_column": null,
            "grid_gap": null,
            "grid_row": null,
            "grid_template_areas": null,
            "grid_template_columns": null,
            "grid_template_rows": null,
            "height": null,
            "justify_content": null,
            "justify_items": null,
            "left": null,
            "margin": null,
            "max_height": null,
            "max_width": null,
            "min_height": null,
            "min_width": null,
            "object_fit": null,
            "object_position": null,
            "order": null,
            "overflow": null,
            "overflow_x": null,
            "overflow_y": null,
            "padding": null,
            "right": null,
            "top": null,
            "visibility": null,
            "width": null
          }
        },
        "668bdfa4a70640eaaf27e3cac036468f": {
          "model_module": "@jupyter-widgets/output",
          "model_name": "OutputModel",
          "model_module_version": "1.0.0",
          "state": {
            "_dom_classes": [],
            "_model_module": "@jupyter-widgets/output",
            "_model_module_version": "1.0.0",
            "_model_name": "OutputModel",
            "_view_count": null,
            "_view_module": "@jupyter-widgets/output",
            "_view_module_version": "1.0.0",
            "_view_name": "OutputView",
            "layout": "IPY_MODEL_50a37a4c9111476a87491a83d10e4b7f",
            "msg_id": "",
            "outputs": [
              {
                "output_type": "display_data",
                "data": {
                  "text/plain": "                                                                                                                   \n  It seems that we weren't able to extract headlines from the BBC News website using the current method. BBC       \n  News' website structure or the class names might have changed or could be protected against scraping.            \n                                                                                                                   \n  Let's try another approach using an RSS feed, which should be more stable for gathering headlines. I'll do that  \n  next.                                                                                                            \n                                                                                                                   \n",
                  "text/html": "<pre style=\"white-space:pre;overflow-x:auto;line-height:normal;font-family:Menlo,'DejaVu Sans Mono',consolas,'Courier New',monospace\">                                                                                                                   \n  It seems that we weren't able to extract headlines from the BBC News website using the current method. BBC       \n  News' website structure or the class names might have changed or could be protected against scraping.            \n                                                                                                                   \n  Let's try another approach using an RSS feed, which should be more stable for gathering headlines. I'll do that  \n  next.                                                                                                            \n                                                                                                                   \n</pre>\n"
                },
                "metadata": {}
              }
            ]
          }
        },
        "50a37a4c9111476a87491a83d10e4b7f": {
          "model_module": "@jupyter-widgets/base",
          "model_name": "LayoutModel",
          "model_module_version": "1.2.0",
          "state": {
            "_model_module": "@jupyter-widgets/base",
            "_model_module_version": "1.2.0",
            "_model_name": "LayoutModel",
            "_view_count": null,
            "_view_module": "@jupyter-widgets/base",
            "_view_module_version": "1.2.0",
            "_view_name": "LayoutView",
            "align_content": null,
            "align_items": null,
            "align_self": null,
            "border": null,
            "bottom": null,
            "display": null,
            "flex": null,
            "flex_flow": null,
            "grid_area": null,
            "grid_auto_columns": null,
            "grid_auto_flow": null,
            "grid_auto_rows": null,
            "grid_column": null,
            "grid_gap": null,
            "grid_row": null,
            "grid_template_areas": null,
            "grid_template_columns": null,
            "grid_template_rows": null,
            "height": null,
            "justify_content": null,
            "justify_items": null,
            "left": null,
            "margin": null,
            "max_height": null,
            "max_width": null,
            "min_height": null,
            "min_width": null,
            "object_fit": null,
            "object_position": null,
            "order": null,
            "overflow": null,
            "overflow_x": null,
            "overflow_y": null,
            "padding": null,
            "right": null,
            "top": null,
            "visibility": null,
            "width": null
          }
        },
        "71f8f2c2a4c7445ca4675249bf04ae41": {
          "model_module": "@jupyter-widgets/output",
          "model_name": "OutputModel",
          "model_module_version": "1.0.0",
          "state": {
            "_dom_classes": [],
            "_model_module": "@jupyter-widgets/output",
            "_model_module_version": "1.0.0",
            "_model_name": "OutputModel",
            "_view_count": null,
            "_view_module": "@jupyter-widgets/output",
            "_view_module_version": "1.0.0",
            "_view_name": "OutputView",
            "layout": "IPY_MODEL_b2ea5f02cebc40879dea9570f02c5939",
            "msg_id": "",
            "outputs": [
              {
                "output_type": "display_data",
                "data": {
                  "text/plain": "\n\u001b[48;2;39;39;34m                                                                                                                   \u001b[0m\n\u001b[48;2;39;39;34m \u001b[0m\u001b[48;2;39;39;34m \u001b[0m\u001b[38;2;255;70;137;48;2;39;40;34mimport\u001b[0m\u001b[38;2;248;248;242;48;2;39;40;34m \u001b[0m\u001b[38;2;248;248;242;48;2;39;40;34mfeedparser\u001b[0m\u001b[48;2;39;40;34m                                                                                              \u001b[0m\u001b[48;2;39;39;34m \u001b[0m\u001b[48;2;39;39;34m \u001b[0m\n\u001b[48;2;39;39;34m \u001b[0m\u001b[48;2;39;39;34m \u001b[0m\u001b[48;2;39;40;34m                                                                                                               \u001b[0m\u001b[48;2;39;39;34m \u001b[0m\u001b[48;2;39;39;34m \u001b[0m\n\u001b[48;2;39;39;34m \u001b[0m\u001b[48;2;39;39;34m \u001b[0m\u001b[38;2;149;144;119;48;2;39;40;34m# URL of the BBC News RSS feed\u001b[0m\u001b[48;2;39;40;34m                                                                                 \u001b[0m\u001b[48;2;39;39;34m \u001b[0m\u001b[48;2;39;39;34m \u001b[0m\n\u001b[48;2;39;39;34m \u001b[0m\u001b[48;2;39;39;34m \u001b[0m\u001b[38;2;248;248;242;48;2;39;40;34mrss_url\u001b[0m\u001b[38;2;248;248;242;48;2;39;40;34m \u001b[0m\u001b[38;2;255;70;137;48;2;39;40;34m=\u001b[0m\u001b[38;2;248;248;242;48;2;39;40;34m \u001b[0m\u001b[38;2;230;219;116;48;2;39;40;34m'\u001b[0m\u001b[38;2;230;219;116;48;2;39;40;34mhttp://feeds.bbci.co.uk/news/rss.xml\u001b[0m\u001b[38;2;230;219;116;48;2;39;40;34m'\u001b[0m\u001b[48;2;39;40;34m                                                               \u001b[0m\u001b[48;2;39;39;34m \u001b[0m\u001b[48;2;39;39;34m \u001b[0m\n\u001b[48;2;39;39;34m \u001b[0m\u001b[48;2;39;39;34m \u001b[0m\u001b[48;2;39;40;34m                                                                                                               \u001b[0m\u001b[48;2;39;39;34m \u001b[0m\u001b[48;2;39;39;34m \u001b[0m\n\u001b[48;2;39;39;34m \u001b[0m\u001b[48;2;39;39;34m \u001b[0m\u001b[38;2;149;144;119;48;2;39;40;34m# Parse the RSS feed\u001b[0m\u001b[48;2;39;40;34m                                                                                           \u001b[0m\u001b[48;2;39;39;34m \u001b[0m\u001b[48;2;39;39;34m \u001b[0m\n\u001b[48;2;39;39;34m \u001b[0m\u001b[48;2;39;39;34m \u001b[0m\u001b[38;2;248;248;242;48;2;39;40;34mfeed\u001b[0m\u001b[38;2;248;248;242;48;2;39;40;34m \u001b[0m\u001b[38;2;255;70;137;48;2;39;40;34m=\u001b[0m\u001b[38;2;248;248;242;48;2;39;40;34m \u001b[0m\u001b[38;2;248;248;242;48;2;39;40;34mfeedparser\u001b[0m\u001b[38;2;255;70;137;48;2;39;40;34m.\u001b[0m\u001b[38;2;248;248;242;48;2;39;40;34mparse\u001b[0m\u001b[38;2;248;248;242;48;2;39;40;34m(\u001b[0m\u001b[38;2;248;248;242;48;2;39;40;34mrss_url\u001b[0m\u001b[38;2;248;248;242;48;2;39;40;34m)\u001b[0m\u001b[48;2;39;40;34m                                                                               \u001b[0m\u001b[48;2;39;39;34m \u001b[0m\u001b[48;2;39;39;34m \u001b[0m\n\u001b[48;2;39;39;34m \u001b[0m\u001b[48;2;39;39;34m \u001b[0m\u001b[48;2;39;40;34m                                                                                                               \u001b[0m\u001b[48;2;39;39;34m \u001b[0m\u001b[48;2;39;39;34m \u001b[0m\n\u001b[48;2;39;39;34m \u001b[0m\u001b[48;2;39;39;34m \u001b[0m\u001b[38;2;149;144;119;48;2;39;40;34m# Extract the last 10 headlines\u001b[0m\u001b[48;2;39;40;34m                                                                                \u001b[0m\u001b[48;2;39;39;34m \u001b[0m\u001b[48;2;39;39;34m \u001b[0m\n\u001b[48;2;39;39;34m \u001b[0m\u001b[48;2;39;39;34m \u001b[0m\u001b[38;2;248;248;242;48;2;39;40;34mlast_10_headlines\u001b[0m\u001b[38;2;248;248;242;48;2;39;40;34m \u001b[0m\u001b[38;2;255;70;137;48;2;39;40;34m=\u001b[0m\u001b[38;2;248;248;242;48;2;39;40;34m \u001b[0m\u001b[38;2;248;248;242;48;2;39;40;34m[\u001b[0m\u001b[38;2;248;248;242;48;2;39;40;34mentry\u001b[0m\u001b[38;2;248;248;242;48;2;39;40;34m[\u001b[0m\u001b[38;2;230;219;116;48;2;39;40;34m'\u001b[0m\u001b[38;2;230;219;116;48;2;39;40;34mtitle\u001b[0m\u001b[38;2;230;219;116;48;2;39;40;34m'\u001b[0m\u001b[38;2;248;248;242;48;2;39;40;34m]\u001b[0m\u001b[38;2;248;248;242;48;2;39;40;34m \u001b[0m\u001b[38;2;102;217;239;48;2;39;40;34mfor\u001b[0m\u001b[38;2;248;248;242;48;2;39;40;34m \u001b[0m\u001b[38;2;248;248;242;48;2;39;40;34mentry\u001b[0m\u001b[38;2;248;248;242;48;2;39;40;34m \u001b[0m\u001b[38;2;255;70;137;48;2;39;40;34min\u001b[0m\u001b[38;2;248;248;242;48;2;39;40;34m \u001b[0m\u001b[38;2;248;248;242;48;2;39;40;34mfeed\u001b[0m\u001b[38;2;255;70;137;48;2;39;40;34m.\u001b[0m\u001b[38;2;248;248;242;48;2;39;40;34mentries\u001b[0m\u001b[38;2;248;248;242;48;2;39;40;34m[\u001b[0m\u001b[38;2;248;248;242;48;2;39;40;34m:\u001b[0m\u001b[38;2;174;129;255;48;2;39;40;34m10\u001b[0m\u001b[38;2;248;248;242;48;2;39;40;34m]\u001b[0m\u001b[38;2;248;248;242;48;2;39;40;34m]\u001b[0m\u001b[48;2;39;40;34m                                            \u001b[0m\u001b[48;2;39;39;34m \u001b[0m\u001b[48;2;39;39;34m \u001b[0m\n\u001b[48;2;39;39;34m \u001b[0m\u001b[48;2;39;39;34m \u001b[0m\u001b[38;2;248;248;242;48;2;39;40;34mlast_10_headlines\u001b[0m\u001b[48;2;39;40;34m                                                                                              \u001b[0m\u001b[48;2;39;39;34m \u001b[0m\u001b[48;2;39;39;34m \u001b[0m\n\u001b[48;2;39;39;34m                                                                                                                   \u001b[0m\n\u001b[38;2;255;255;255;48;2;59;59;55m                                                                                                                   \u001b[0m\n\u001b[38;2;255;255;255;48;2;59;59;55m \u001b[0m\u001b[38;2;255;255;255;48;2;59;59;55m \u001b[0m\u001b[38;2;255;255;255;48;2;59;59;55m---------------------------------------------------------------------------\u001b[0m\u001b[38;2;255;255;255;48;2;59;59;55m                                    \u001b[0m\u001b[38;2;255;255;255;48;2;59;59;55m \u001b[0m\u001b[38;2;255;255;255;48;2;59;59;55m \u001b[0m\n\u001b[38;2;255;255;255;48;2;59;59;55m \u001b[0m\u001b[38;2;255;255;255;48;2;59;59;55m \u001b[0m\u001b[38;2;255;255;255;48;2;59;59;55mModuleNotFoundError                       Traceback (most recent call last)\u001b[0m\u001b[38;2;255;255;255;48;2;59;59;55m                                    \u001b[0m\u001b[38;2;255;255;255;48;2;59;59;55m \u001b[0m\u001b[38;2;255;255;255;48;2;59;59;55m \u001b[0m\n\u001b[38;2;255;255;255;48;2;59;59;55m \u001b[0m\u001b[38;2;255;255;255;48;2;59;59;55m \u001b[0m\u001b[38;2;255;255;255;48;2;59;59;55m/tmp/ipykernel_725/309142451.py in <cell line: 2>()\u001b[0m\u001b[38;2;255;255;255;48;2;59;59;55m                                                            \u001b[0m\u001b[38;2;255;255;255;48;2;59;59;55m \u001b[0m\u001b[38;2;255;255;255;48;2;59;59;55m \u001b[0m\n\u001b[38;2;255;255;255;48;2;59;59;55m \u001b[0m\u001b[38;2;255;255;255;48;2;59;59;55m \u001b[0m\u001b[38;2;255;255;255;48;2;59;59;55m      1 print('##active_line1##')\u001b[0m\u001b[38;2;255;255;255;48;2;59;59;55m                                                                              \u001b[0m\u001b[38;2;255;255;255;48;2;59;59;55m \u001b[0m\u001b[38;2;255;255;255;48;2;59;59;55m \u001b[0m\n\u001b[38;2;255;255;255;48;2;59;59;55m \u001b[0m\u001b[38;2;255;255;255;48;2;59;59;55m \u001b[0m\u001b[38;2;255;255;255;48;2;59;59;55m----> 2 import feedparser\u001b[0m\u001b[38;2;255;255;255;48;2;59;59;55m                                                                                      \u001b[0m\u001b[38;2;255;255;255;48;2;59;59;55m \u001b[0m\u001b[38;2;255;255;255;48;2;59;59;55m \u001b[0m\n\u001b[38;2;255;255;255;48;2;59;59;55m \u001b[0m\u001b[38;2;255;255;255;48;2;59;59;55m \u001b[0m\u001b[38;2;255;255;255;48;2;59;59;55m      3 print('##active_line2##')\u001b[0m\u001b[38;2;255;255;255;48;2;59;59;55m                                                                              \u001b[0m\u001b[38;2;255;255;255;48;2;59;59;55m \u001b[0m\u001b[38;2;255;255;255;48;2;59;59;55m \u001b[0m\n\u001b[38;2;255;255;255;48;2;59;59;55m \u001b[0m\u001b[38;2;255;255;255;48;2;59;59;55m \u001b[0m\u001b[38;2;255;255;255;48;2;59;59;55m      4 pass\u001b[0m\u001b[38;2;255;255;255;48;2;59;59;55m                                                                                                   \u001b[0m\u001b[38;2;255;255;255;48;2;59;59;55m \u001b[0m\u001b[38;2;255;255;255;48;2;59;59;55m \u001b[0m\n\u001b[38;2;255;255;255;48;2;59;59;55m \u001b[0m\u001b[38;2;255;255;255;48;2;59;59;55m \u001b[0m\u001b[38;2;255;255;255;48;2;59;59;55m      5 print('##active_line3##')\u001b[0m\u001b[38;2;255;255;255;48;2;59;59;55m                                                                              \u001b[0m\u001b[38;2;255;255;255;48;2;59;59;55m \u001b[0m\u001b[38;2;255;255;255;48;2;59;59;55m \u001b[0m\n\u001b[38;2;255;255;255;48;2;59;59;55m \u001b[0m\u001b[38;2;255;255;255;48;2;59;59;55m \u001b[0m\u001b[38;2;255;255;255;48;2;59;59;55m                                                                                                               \u001b[0m\u001b[38;2;255;255;255;48;2;59;59;55m \u001b[0m\u001b[38;2;255;255;255;48;2;59;59;55m \u001b[0m\n\u001b[38;2;255;255;255;48;2;59;59;55m \u001b[0m\u001b[38;2;255;255;255;48;2;59;59;55m \u001b[0m\u001b[38;2;255;255;255;48;2;59;59;55mModuleNotFoundError: No module named 'feedparser'\u001b[0m\u001b[38;2;255;255;255;48;2;59;59;55m                                                              \u001b[0m\u001b[38;2;255;255;255;48;2;59;59;55m \u001b[0m\u001b[38;2;255;255;255;48;2;59;59;55m \u001b[0m\n\u001b[38;2;255;255;255;48;2;59;59;55m \u001b[0m\u001b[38;2;255;255;255;48;2;59;59;55m \u001b[0m\u001b[38;2;255;255;255;48;2;59;59;55m                                                                                                               \u001b[0m\u001b[38;2;255;255;255;48;2;59;59;55m \u001b[0m\u001b[38;2;255;255;255;48;2;59;59;55m \u001b[0m\n\u001b[38;2;255;255;255;48;2;59;59;55m \u001b[0m\u001b[38;2;255;255;255;48;2;59;59;55m \u001b[0m\u001b[38;2;255;255;255;48;2;59;59;55m---------------------------------------------------------------------------\u001b[0m\u001b[38;2;255;255;255;48;2;59;59;55m                                    \u001b[0m\u001b[38;2;255;255;255;48;2;59;59;55m \u001b[0m\u001b[38;2;255;255;255;48;2;59;59;55m \u001b[0m\n\u001b[38;2;255;255;255;48;2;59;59;55m \u001b[0m\u001b[38;2;255;255;255;48;2;59;59;55m \u001b[0m\u001b[38;2;255;255;255;48;2;59;59;55mNOTE: If your import is failing due to a missing package, you can\u001b[0m\u001b[38;2;255;255;255;48;2;59;59;55m                                              \u001b[0m\u001b[38;2;255;255;255;48;2;59;59;55m \u001b[0m\u001b[38;2;255;255;255;48;2;59;59;55m \u001b[0m\n\u001b[38;2;255;255;255;48;2;59;59;55m \u001b[0m\u001b[38;2;255;255;255;48;2;59;59;55m \u001b[0m\u001b[38;2;255;255;255;48;2;59;59;55mmanually install dependencies using either !pip or !apt.\u001b[0m\u001b[38;2;255;255;255;48;2;59;59;55m                                                       \u001b[0m\u001b[38;2;255;255;255;48;2;59;59;55m \u001b[0m\u001b[38;2;255;255;255;48;2;59;59;55m \u001b[0m\n\u001b[38;2;255;255;255;48;2;59;59;55m \u001b[0m\u001b[38;2;255;255;255;48;2;59;59;55m \u001b[0m\u001b[38;2;255;255;255;48;2;59;59;55m                                                                                                               \u001b[0m\u001b[38;2;255;255;255;48;2;59;59;55m \u001b[0m\u001b[38;2;255;255;255;48;2;59;59;55m \u001b[0m\n\u001b[38;2;255;255;255;48;2;59;59;55m \u001b[0m\u001b[38;2;255;255;255;48;2;59;59;55m \u001b[0m\u001b[38;2;255;255;255;48;2;59;59;55mTo view examples of installing some common dependencies, click the\u001b[0m\u001b[38;2;255;255;255;48;2;59;59;55m                                             \u001b[0m\u001b[38;2;255;255;255;48;2;59;59;55m \u001b[0m\u001b[38;2;255;255;255;48;2;59;59;55m \u001b[0m\n\u001b[38;2;255;255;255;48;2;59;59;55m \u001b[0m\u001b[38;2;255;255;255;48;2;59;59;55m \u001b[0m\u001b[38;2;255;255;255;48;2;59;59;55m\"Open Examples\" button below.\u001b[0m\u001b[38;2;255;255;255;48;2;59;59;55m                                                                                  \u001b[0m\u001b[38;2;255;255;255;48;2;59;59;55m \u001b[0m\u001b[38;2;255;255;255;48;2;59;59;55m \u001b[0m\n\u001b[38;2;255;255;255;48;2;59;59;55m \u001b[0m\u001b[38;2;255;255;255;48;2;59;59;55m \u001b[0m\u001b[38;2;255;255;255;48;2;59;59;55m---------------------------------------------------------------------------\u001b[0m\u001b[38;2;255;255;255;48;2;59;59;55m                                    \u001b[0m\u001b[38;2;255;255;255;48;2;59;59;55m \u001b[0m\u001b[38;2;255;255;255;48;2;59;59;55m \u001b[0m\n\u001b[38;2;255;255;255;48;2;59;59;55m                                                                                                                   \u001b[0m\n",
                  "text/html": "<pre style=\"white-space:pre;overflow-x:auto;line-height:normal;font-family:Menlo,'DejaVu Sans Mono',consolas,'Courier New',monospace\">\n<span style=\"background-color: #272722\">                                                                                                                   </span>\n<span style=\"background-color: #272722\">  </span><span style=\"color: #ff4689; text-decoration-color: #ff4689; background-color: #272822\">import</span><span style=\"color: #f8f8f2; text-decoration-color: #f8f8f2; background-color: #272822\"> feedparser</span><span style=\"background-color: #272822\">                                                                                              </span><span style=\"background-color: #272722\">  </span>\n<span style=\"background-color: #272722\">  </span><span style=\"background-color: #272822\">                                                                                                               </span><span style=\"background-color: #272722\">  </span>\n<span style=\"background-color: #272722\">  </span><span style=\"color: #959077; text-decoration-color: #959077; background-color: #272822\"># URL of the BBC News RSS feed</span><span style=\"background-color: #272822\">                                                                                 </span><span style=\"background-color: #272722\">  </span>\n<span style=\"background-color: #272722\">  </span><span style=\"color: #f8f8f2; text-decoration-color: #f8f8f2; background-color: #272822\">rss_url </span><span style=\"color: #ff4689; text-decoration-color: #ff4689; background-color: #272822\">=</span><span style=\"color: #f8f8f2; text-decoration-color: #f8f8f2; background-color: #272822\"> </span><span style=\"color: #e6db74; text-decoration-color: #e6db74; background-color: #272822\">'http://feeds.bbci.co.uk/news/rss.xml'</span><span style=\"background-color: #272822\">                                                               </span><span style=\"background-color: #272722\">  </span>\n<span style=\"background-color: #272722\">  </span><span style=\"background-color: #272822\">                                                                                                               </span><span style=\"background-color: #272722\">  </span>\n<span style=\"background-color: #272722\">  </span><span style=\"color: #959077; text-decoration-color: #959077; background-color: #272822\"># Parse the RSS feed</span><span style=\"background-color: #272822\">                                                                                           </span><span style=\"background-color: #272722\">  </span>\n<span style=\"background-color: #272722\">  </span><span style=\"color: #f8f8f2; text-decoration-color: #f8f8f2; background-color: #272822\">feed </span><span style=\"color: #ff4689; text-decoration-color: #ff4689; background-color: #272822\">=</span><span style=\"color: #f8f8f2; text-decoration-color: #f8f8f2; background-color: #272822\"> feedparser</span><span style=\"color: #ff4689; text-decoration-color: #ff4689; background-color: #272822\">.</span><span style=\"color: #f8f8f2; text-decoration-color: #f8f8f2; background-color: #272822\">parse(rss_url)</span><span style=\"background-color: #272822\">                                                                               </span><span style=\"background-color: #272722\">  </span>\n<span style=\"background-color: #272722\">  </span><span style=\"background-color: #272822\">                                                                                                               </span><span style=\"background-color: #272722\">  </span>\n<span style=\"background-color: #272722\">  </span><span style=\"color: #959077; text-decoration-color: #959077; background-color: #272822\"># Extract the last 10 headlines</span><span style=\"background-color: #272822\">                                                                                </span><span style=\"background-color: #272722\">  </span>\n<span style=\"background-color: #272722\">  </span><span style=\"color: #f8f8f2; text-decoration-color: #f8f8f2; background-color: #272822\">last_10_headlines </span><span style=\"color: #ff4689; text-decoration-color: #ff4689; background-color: #272822\">=</span><span style=\"color: #f8f8f2; text-decoration-color: #f8f8f2; background-color: #272822\"> [entry[</span><span style=\"color: #e6db74; text-decoration-color: #e6db74; background-color: #272822\">'title'</span><span style=\"color: #f8f8f2; text-decoration-color: #f8f8f2; background-color: #272822\">] </span><span style=\"color: #66d9ef; text-decoration-color: #66d9ef; background-color: #272822\">for</span><span style=\"color: #f8f8f2; text-decoration-color: #f8f8f2; background-color: #272822\"> entry </span><span style=\"color: #ff4689; text-decoration-color: #ff4689; background-color: #272822\">in</span><span style=\"color: #f8f8f2; text-decoration-color: #f8f8f2; background-color: #272822\"> feed</span><span style=\"color: #ff4689; text-decoration-color: #ff4689; background-color: #272822\">.</span><span style=\"color: #f8f8f2; text-decoration-color: #f8f8f2; background-color: #272822\">entries[:</span><span style=\"color: #ae81ff; text-decoration-color: #ae81ff; background-color: #272822\">10</span><span style=\"color: #f8f8f2; text-decoration-color: #f8f8f2; background-color: #272822\">]]</span><span style=\"background-color: #272822\">                                            </span><span style=\"background-color: #272722\">  </span>\n<span style=\"background-color: #272722\">  </span><span style=\"color: #f8f8f2; text-decoration-color: #f8f8f2; background-color: #272822\">last_10_headlines</span><span style=\"background-color: #272822\">                                                                                              </span><span style=\"background-color: #272722\">  </span>\n<span style=\"background-color: #272722\">                                                                                                                   </span>\n<span style=\"color: #ffffff; text-decoration-color: #ffffff; background-color: #3b3b37\">                                                                                                                   </span>\n<span style=\"color: #ffffff; text-decoration-color: #ffffff; background-color: #3b3b37\">  ---------------------------------------------------------------------------                                      </span>\n<span style=\"color: #ffffff; text-decoration-color: #ffffff; background-color: #3b3b37\">  ModuleNotFoundError                       Traceback (most recent call last)                                      </span>\n<span style=\"color: #ffffff; text-decoration-color: #ffffff; background-color: #3b3b37\">  /tmp/ipykernel_725/309142451.py in &lt;cell line: 2&gt;()                                                              </span>\n<span style=\"color: #ffffff; text-decoration-color: #ffffff; background-color: #3b3b37\">        1 print('##active_line1##')                                                                                </span>\n<span style=\"color: #ffffff; text-decoration-color: #ffffff; background-color: #3b3b37\">  ----&gt; 2 import feedparser                                                                                        </span>\n<span style=\"color: #ffffff; text-decoration-color: #ffffff; background-color: #3b3b37\">        3 print('##active_line2##')                                                                                </span>\n<span style=\"color: #ffffff; text-decoration-color: #ffffff; background-color: #3b3b37\">        4 pass                                                                                                     </span>\n<span style=\"color: #ffffff; text-decoration-color: #ffffff; background-color: #3b3b37\">        5 print('##active_line3##')                                                                                </span>\n<span style=\"color: #ffffff; text-decoration-color: #ffffff; background-color: #3b3b37\">                                                                                                                   </span>\n<span style=\"color: #ffffff; text-decoration-color: #ffffff; background-color: #3b3b37\">  ModuleNotFoundError: No module named 'feedparser'                                                                </span>\n<span style=\"color: #ffffff; text-decoration-color: #ffffff; background-color: #3b3b37\">                                                                                                                   </span>\n<span style=\"color: #ffffff; text-decoration-color: #ffffff; background-color: #3b3b37\">  ---------------------------------------------------------------------------                                      </span>\n<span style=\"color: #ffffff; text-decoration-color: #ffffff; background-color: #3b3b37\">  NOTE: If your import is failing due to a missing package, you can                                                </span>\n<span style=\"color: #ffffff; text-decoration-color: #ffffff; background-color: #3b3b37\">  manually install dependencies using either !pip or !apt.                                                         </span>\n<span style=\"color: #ffffff; text-decoration-color: #ffffff; background-color: #3b3b37\">                                                                                                                   </span>\n<span style=\"color: #ffffff; text-decoration-color: #ffffff; background-color: #3b3b37\">  To view examples of installing some common dependencies, click the                                               </span>\n<span style=\"color: #ffffff; text-decoration-color: #ffffff; background-color: #3b3b37\">  \"Open Examples\" button below.                                                                                    </span>\n<span style=\"color: #ffffff; text-decoration-color: #ffffff; background-color: #3b3b37\">  ---------------------------------------------------------------------------                                      </span>\n<span style=\"color: #ffffff; text-decoration-color: #ffffff; background-color: #3b3b37\">                                                                                                                   </span>\n</pre>\n"
                },
                "metadata": {}
              }
            ]
          }
        },
        "b2ea5f02cebc40879dea9570f02c5939": {
          "model_module": "@jupyter-widgets/base",
          "model_name": "LayoutModel",
          "model_module_version": "1.2.0",
          "state": {
            "_model_module": "@jupyter-widgets/base",
            "_model_module_version": "1.2.0",
            "_model_name": "LayoutModel",
            "_view_count": null,
            "_view_module": "@jupyter-widgets/base",
            "_view_module_version": "1.2.0",
            "_view_name": "LayoutView",
            "align_content": null,
            "align_items": null,
            "align_self": null,
            "border": null,
            "bottom": null,
            "display": null,
            "flex": null,
            "flex_flow": null,
            "grid_area": null,
            "grid_auto_columns": null,
            "grid_auto_flow": null,
            "grid_auto_rows": null,
            "grid_column": null,
            "grid_gap": null,
            "grid_row": null,
            "grid_template_areas": null,
            "grid_template_columns": null,
            "grid_template_rows": null,
            "height": null,
            "justify_content": null,
            "justify_items": null,
            "left": null,
            "margin": null,
            "max_height": null,
            "max_width": null,
            "min_height": null,
            "min_width": null,
            "object_fit": null,
            "object_position": null,
            "order": null,
            "overflow": null,
            "overflow_x": null,
            "overflow_y": null,
            "padding": null,
            "right": null,
            "top": null,
            "visibility": null,
            "width": null
          }
        },
        "6188d9550d4342f9934c13ebad42958c": {
          "model_module": "@jupyter-widgets/output",
          "model_name": "OutputModel",
          "model_module_version": "1.0.0",
          "state": {
            "_dom_classes": [],
            "_model_module": "@jupyter-widgets/output",
            "_model_module_version": "1.0.0",
            "_model_name": "OutputModel",
            "_view_count": null,
            "_view_module": "@jupyter-widgets/output",
            "_view_module_version": "1.0.0",
            "_view_name": "OutputView",
            "layout": "IPY_MODEL_6ee66ca02e464ca98a5a90f2b0ac3340",
            "msg_id": "",
            "outputs": [
              {
                "output_type": "display_data",
                "data": {
                  "text/plain": "\n\u001b[48;2;39;39;34m                                                                                                                   \u001b[0m\n\u001b[48;2;39;39;34m \u001b[0m\u001b[48;2;39;39;34m \u001b[0m\u001b[38;2;248;248;242;48;2;39;40;34mpip\u001b[0m\u001b[38;2;248;248;242;48;2;39;40;34m \u001b[0m\u001b[38;2;248;248;242;48;2;39;40;34minstall\u001b[0m\u001b[38;2;248;248;242;48;2;39;40;34m \u001b[0m\u001b[38;2;248;248;242;48;2;39;40;34mfeedparser\u001b[0m\u001b[48;2;39;40;34m                                                                                         \u001b[0m\u001b[48;2;39;39;34m \u001b[0m\u001b[48;2;39;39;34m \u001b[0m\n\u001b[48;2;39;39;34m                                                                                                                   \u001b[0m\n\u001b[38;2;255;255;255;48;2;59;59;55m                                                                                                                   \u001b[0m\n\u001b[38;2;255;255;255;48;2;59;59;55m \u001b[0m\u001b[38;2;255;255;255;48;2;59;59;55m \u001b[0m\u001b[38;2;255;255;255;48;2;59;59;55mCollecting feedparser\u001b[0m\u001b[38;2;255;255;255;48;2;59;59;55m                                                                                          \u001b[0m\u001b[38;2;255;255;255;48;2;59;59;55m \u001b[0m\u001b[38;2;255;255;255;48;2;59;59;55m \u001b[0m\n\u001b[38;2;255;255;255;48;2;59;59;55m \u001b[0m\u001b[38;2;255;255;255;48;2;59;59;55m \u001b[0m\u001b[38;2;255;255;255;48;2;59;59;55m  Downloading feedparser-6.0.11-py3-none-any.whl.metadata (2.4 kB)\u001b[0m\u001b[38;2;255;255;255;48;2;59;59;55m                                             \u001b[0m\u001b[38;2;255;255;255;48;2;59;59;55m \u001b[0m\u001b[38;2;255;255;255;48;2;59;59;55m \u001b[0m\n\u001b[38;2;255;255;255;48;2;59;59;55m \u001b[0m\u001b[38;2;255;255;255;48;2;59;59;55m \u001b[0m\u001b[38;2;255;255;255;48;2;59;59;55mCollecting sgmllib3k (from feedparser)\u001b[0m\u001b[38;2;255;255;255;48;2;59;59;55m                                                                         \u001b[0m\u001b[38;2;255;255;255;48;2;59;59;55m \u001b[0m\u001b[38;2;255;255;255;48;2;59;59;55m \u001b[0m\n\u001b[38;2;255;255;255;48;2;59;59;55m \u001b[0m\u001b[38;2;255;255;255;48;2;59;59;55m \u001b[0m\u001b[38;2;255;255;255;48;2;59;59;55m  Downloading sgmllib3k-1.0.0.tar.gz (5.8 kB)\u001b[0m\u001b[38;2;255;255;255;48;2;59;59;55m                                                                  \u001b[0m\u001b[38;2;255;255;255;48;2;59;59;55m \u001b[0m\u001b[38;2;255;255;255;48;2;59;59;55m \u001b[0m\n\u001b[38;2;255;255;255;48;2;59;59;55m \u001b[0m\u001b[38;2;255;255;255;48;2;59;59;55m \u001b[0m\u001b[38;2;255;255;255;48;2;59;59;55m  Preparing metadata (setup.py): started\u001b[0m\u001b[38;2;255;255;255;48;2;59;59;55m                                                                       \u001b[0m\u001b[38;2;255;255;255;48;2;59;59;55m \u001b[0m\u001b[38;2;255;255;255;48;2;59;59;55m \u001b[0m\n\u001b[38;2;255;255;255;48;2;59;59;55m \u001b[0m\u001b[38;2;255;255;255;48;2;59;59;55m \u001b[0m\u001b[38;2;255;255;255;48;2;59;59;55m  Preparing metadata (setup.py): finished with status 'done'\u001b[0m\u001b[38;2;255;255;255;48;2;59;59;55m                                                   \u001b[0m\u001b[38;2;255;255;255;48;2;59;59;55m \u001b[0m\u001b[38;2;255;255;255;48;2;59;59;55m \u001b[0m\n\u001b[38;2;255;255;255;48;2;59;59;55m \u001b[0m\u001b[38;2;255;255;255;48;2;59;59;55m \u001b[0m\u001b[38;2;255;255;255;48;2;59;59;55mDownloading feedparser-6.0.11-py3-none-any.whl (81 kB)\u001b[0m\u001b[38;2;255;255;255;48;2;59;59;55m                                                         \u001b[0m\u001b[38;2;255;255;255;48;2;59;59;55m \u001b[0m\u001b[38;2;255;255;255;48;2;59;59;55m \u001b[0m\n\u001b[38;2;255;255;255;48;2;59;59;55m \u001b[0m\u001b[38;2;255;255;255;48;2;59;59;55m \u001b[0m\u001b[38;2;255;255;255;48;2;59;59;55m\u001b[?25l   \u001b[90m━━━━━━━━━━━━━━━━━━━━━━━━━━━━━━━━━━━━━━━━\u001b[0m \u001b[32m0.0/81.3 kB\u001b[0m \u001b[31m?\u001b[0m eta \u001b[36m-:--:--\u001b[0m\u001b[0m\u001b[38;2;255;255;255;48;2;59;59;55m         \u001b[0m\u001b[38;2;255;255;255;48;2;59;59;55m \u001b[0m\u001b[38;2;255;255;255;48;2;59;59;55m \u001b[0m\n\u001b[38;2;255;255;255;48;2;59;59;55m \u001b[0m\u001b[38;2;255;255;255;48;2;59;59;55m \u001b[0m\u001b[38;2;255;255;255;48;2;59;59;55m\u001b[2K   \u001b[91m━━━━━━━━━━━━━━━━━━━━━━━━━━━━━━━━━━━\u001b[0m\u001b[90m╺\u001b[0m\u001b[90m━━━━\u001b[0m \u001b[32m71.7/81.3 kB\u001b[0m \u001b[31m2.5 MB/s\u001b[0m eta\u001b[0m\u001b[38;2;255;255;255;48;2;59;59;55m    \u001b[0m\u001b[38;2;255;255;255;48;2;59;59;55m \u001b[0m\u001b[38;2;255;255;255;48;2;59;59;55m \u001b[0m\n\u001b[38;2;255;255;255;48;2;59;59;55m \u001b[0m\u001b[38;2;255;255;255;48;2;59;59;55m \u001b[0m\u001b[38;2;255;255;255;48;2;59;59;55m\u001b[36m0:00:01\u001b[0m\u001b[0m\u001b[38;2;255;255;255;48;2;59;59;55m                                                                                                 \u001b[0m\u001b[38;2;255;255;255;48;2;59;59;55m \u001b[0m\u001b[38;2;255;255;255;48;2;59;59;55m \u001b[0m\n\u001b[38;2;255;255;255;48;2;59;59;55m \u001b[0m\u001b[38;2;255;255;255;48;2;59;59;55m \u001b[0m\u001b[38;2;255;255;255;48;2;59;59;55m\u001b[2K   \u001b[90m━━━━━━━━━━━━━━━━━━━━━━━━━━━━━━━━━━━━━━━━\u001b[0m \u001b[32m81.3/81.3 kB\u001b[0m \u001b[31m2.0 MB/s\u001b[0m eta \u001b[36m0:00:00\u001b[0m\u001b[0m\u001b[38;2;255;255;255;48;2;59;59;55m   \u001b[0m\u001b[38;2;255;255;255;48;2;59;59;55m \u001b[0m\u001b[38;2;255;255;255;48;2;59;59;55m \u001b[0m\n\u001b[38;2;255;255;255;48;2;59;59;55m \u001b[0m\u001b[38;2;255;255;255;48;2;59;59;55m \u001b[0m\u001b[38;2;255;255;255;48;2;59;59;55m\u001b[?25hBuilding wheels for collected packages: sgmllib3k\u001b[0m\u001b[38;2;255;255;255;48;2;59;59;55m                                                         \u001b[0m\u001b[38;2;255;255;255;48;2;59;59;55m \u001b[0m\u001b[38;2;255;255;255;48;2;59;59;55m \u001b[0m\n\u001b[38;2;255;255;255;48;2;59;59;55m \u001b[0m\u001b[38;2;255;255;255;48;2;59;59;55m \u001b[0m\u001b[38;2;255;255;255;48;2;59;59;55m  Building wheel for sgmllib3k (setup.py): started\u001b[0m\u001b[38;2;255;255;255;48;2;59;59;55m                                                             \u001b[0m\u001b[38;2;255;255;255;48;2;59;59;55m \u001b[0m\u001b[38;2;255;255;255;48;2;59;59;55m \u001b[0m\n\u001b[38;2;255;255;255;48;2;59;59;55m \u001b[0m\u001b[38;2;255;255;255;48;2;59;59;55m \u001b[0m\u001b[38;2;255;255;255;48;2;59;59;55m  Building wheel for sgmllib3k (setup.py): finished with status 'done'\u001b[0m\u001b[38;2;255;255;255;48;2;59;59;55m                                         \u001b[0m\u001b[38;2;255;255;255;48;2;59;59;55m \u001b[0m\u001b[38;2;255;255;255;48;2;59;59;55m \u001b[0m\n\u001b[38;2;255;255;255;48;2;59;59;55m \u001b[0m\u001b[38;2;255;255;255;48;2;59;59;55m \u001b[0m\u001b[38;2;255;255;255;48;2;59;59;55m  Created wheel for sgmllib3k: filename=sgmllib3k-1.0.0-py3-none-any.whl size=6047 \u001b[0m\u001b[38;2;255;255;255;48;2;59;59;55m                            \u001b[0m\u001b[38;2;255;255;255;48;2;59;59;55m \u001b[0m\u001b[38;2;255;255;255;48;2;59;59;55m \u001b[0m\n\u001b[38;2;255;255;255;48;2;59;59;55m \u001b[0m\u001b[38;2;255;255;255;48;2;59;59;55m \u001b[0m\u001b[38;2;255;255;255;48;2;59;59;55msha256=323310ce035489776c50b4ff27765653dc92939673b16427e8ccb078fe1c3d19\u001b[0m\u001b[38;2;255;255;255;48;2;59;59;55m                                        \u001b[0m\u001b[38;2;255;255;255;48;2;59;59;55m \u001b[0m\u001b[38;2;255;255;255;48;2;59;59;55m \u001b[0m\n\u001b[38;2;255;255;255;48;2;59;59;55m \u001b[0m\u001b[38;2;255;255;255;48;2;59;59;55m \u001b[0m\u001b[38;2;255;255;255;48;2;59;59;55m  Stored in directory: /root/.cache/pip/wheels/f0/69/93/a47e9d621be168e9e33c7ce60524393c0b92ae83cf6c6e89c5\u001b[0m\u001b[38;2;255;255;255;48;2;59;59;55m     \u001b[0m\u001b[38;2;255;255;255;48;2;59;59;55m \u001b[0m\u001b[38;2;255;255;255;48;2;59;59;55m \u001b[0m\n\u001b[38;2;255;255;255;48;2;59;59;55m \u001b[0m\u001b[38;2;255;255;255;48;2;59;59;55m \u001b[0m\u001b[38;2;255;255;255;48;2;59;59;55mSuccessfully built sgmllib3k\u001b[0m\u001b[38;2;255;255;255;48;2;59;59;55m                                                                                   \u001b[0m\u001b[38;2;255;255;255;48;2;59;59;55m \u001b[0m\u001b[38;2;255;255;255;48;2;59;59;55m \u001b[0m\n\u001b[38;2;255;255;255;48;2;59;59;55m \u001b[0m\u001b[38;2;255;255;255;48;2;59;59;55m \u001b[0m\u001b[38;2;255;255;255;48;2;59;59;55mInstalling collected packages: sgmllib3k, feedparser\u001b[0m\u001b[38;2;255;255;255;48;2;59;59;55m                                                           \u001b[0m\u001b[38;2;255;255;255;48;2;59;59;55m \u001b[0m\u001b[38;2;255;255;255;48;2;59;59;55m \u001b[0m\n\u001b[38;2;255;255;255;48;2;59;59;55m \u001b[0m\u001b[38;2;255;255;255;48;2;59;59;55m \u001b[0m\u001b[38;2;255;255;255;48;2;59;59;55mSuccessfully installed feedparser-6.0.11 sgmllib3k-1.0.0\u001b[0m\u001b[38;2;255;255;255;48;2;59;59;55m                                                       \u001b[0m\u001b[38;2;255;255;255;48;2;59;59;55m \u001b[0m\u001b[38;2;255;255;255;48;2;59;59;55m \u001b[0m\n\u001b[38;2;255;255;255;48;2;59;59;55m                                                                                                                   \u001b[0m\n",
                  "text/html": "<pre style=\"white-space:pre;overflow-x:auto;line-height:normal;font-family:Menlo,'DejaVu Sans Mono',consolas,'Courier New',monospace\">\n<span style=\"background-color: #272722\">                                                                                                                   </span>\n<span style=\"background-color: #272722\">  </span><span style=\"color: #f8f8f2; text-decoration-color: #f8f8f2; background-color: #272822\">pip install feedparser</span><span style=\"background-color: #272822\">                                                                                         </span><span style=\"background-color: #272722\">  </span>\n<span style=\"background-color: #272722\">                                                                                                                   </span>\n<span style=\"color: #ffffff; text-decoration-color: #ffffff; background-color: #3b3b37\">                                                                                                                   </span>\n<span style=\"color: #ffffff; text-decoration-color: #ffffff; background-color: #3b3b37\">  Collecting feedparser                                                                                            </span>\n<span style=\"color: #ffffff; text-decoration-color: #ffffff; background-color: #3b3b37\">    Downloading feedparser-6.0.11-py3-none-any.whl.metadata (2.4 kB)                                               </span>\n<span style=\"color: #ffffff; text-decoration-color: #ffffff; background-color: #3b3b37\">  Collecting sgmllib3k (from feedparser)                                                                           </span>\n<span style=\"color: #ffffff; text-decoration-color: #ffffff; background-color: #3b3b37\">    Downloading sgmllib3k-1.0.0.tar.gz (5.8 kB)                                                                    </span>\n<span style=\"color: #ffffff; text-decoration-color: #ffffff; background-color: #3b3b37\">    Preparing metadata (setup.py): started                                                                         </span>\n<span style=\"color: #ffffff; text-decoration-color: #ffffff; background-color: #3b3b37\">    Preparing metadata (setup.py): finished with status 'done'                                                     </span>\n<span style=\"color: #ffffff; text-decoration-color: #ffffff; background-color: #3b3b37\">  Downloading feedparser-6.0.11-py3-none-any.whl (81 kB)                                                           </span>\n<span style=\"color: #ffffff; text-decoration-color: #ffffff; background-color: #3b3b37\">  \u001b[?25l   \u001b[90m━━━━━━━━━━━━━━━━━━━━━━━━━━━━━━━━━━━━━━━━\u001b[0m \u001b[32m0.0/81.3 kB\u001b[0m \u001b[31m?\u001b[0m eta \u001b[36m-:--:--\u001b[0m           </span>\n<span style=\"color: #ffffff; text-decoration-color: #ffffff; background-color: #3b3b37\">  \u001b[2K   \u001b[91m━━━━━━━━━━━━━━━━━━━━━━━━━━━━━━━━━━━\u001b[0m\u001b[90m╺\u001b[0m\u001b[90m━━━━\u001b[0m \u001b[32m71.7/81.3 kB\u001b[0m \u001b[31m2.5 MB/s\u001b[0m eta      </span>\n<span style=\"color: #ffffff; text-decoration-color: #ffffff; background-color: #3b3b37\">  \u001b[36m0:00:01\u001b[0m                                                                                                   </span>\n<span style=\"color: #ffffff; text-decoration-color: #ffffff; background-color: #3b3b37\">  \u001b[2K   \u001b[90m━━━━━━━━━━━━━━━━━━━━━━━━━━━━━━━━━━━━━━━━\u001b[0m \u001b[32m81.3/81.3 kB\u001b[0m \u001b[31m2.0 MB/s\u001b[0m eta \u001b[36m0:00:00\u001b[0m     </span>\n<span style=\"color: #ffffff; text-decoration-color: #ffffff; background-color: #3b3b37\">  \u001b[?25hBuilding wheels for collected packages: sgmllib3k                                                           </span>\n<span style=\"color: #ffffff; text-decoration-color: #ffffff; background-color: #3b3b37\">    Building wheel for sgmllib3k (setup.py): started                                                               </span>\n<span style=\"color: #ffffff; text-decoration-color: #ffffff; background-color: #3b3b37\">    Building wheel for sgmllib3k (setup.py): finished with status 'done'                                           </span>\n<span style=\"color: #ffffff; text-decoration-color: #ffffff; background-color: #3b3b37\">    Created wheel for sgmllib3k: filename=sgmllib3k-1.0.0-py3-none-any.whl size=6047                               </span>\n<span style=\"color: #ffffff; text-decoration-color: #ffffff; background-color: #3b3b37\">  sha256=323310ce035489776c50b4ff27765653dc92939673b16427e8ccb078fe1c3d19                                          </span>\n<span style=\"color: #ffffff; text-decoration-color: #ffffff; background-color: #3b3b37\">    Stored in directory: /root/.cache/pip/wheels/f0/69/93/a47e9d621be168e9e33c7ce60524393c0b92ae83cf6c6e89c5       </span>\n<span style=\"color: #ffffff; text-decoration-color: #ffffff; background-color: #3b3b37\">  Successfully built sgmllib3k                                                                                     </span>\n<span style=\"color: #ffffff; text-decoration-color: #ffffff; background-color: #3b3b37\">  Installing collected packages: sgmllib3k, feedparser                                                             </span>\n<span style=\"color: #ffffff; text-decoration-color: #ffffff; background-color: #3b3b37\">  Successfully installed feedparser-6.0.11 sgmllib3k-1.0.0                                                         </span>\n<span style=\"color: #ffffff; text-decoration-color: #ffffff; background-color: #3b3b37\">                                                                                                                   </span>\n</pre>\n"
                },
                "metadata": {}
              }
            ]
          }
        },
        "6ee66ca02e464ca98a5a90f2b0ac3340": {
          "model_module": "@jupyter-widgets/base",
          "model_name": "LayoutModel",
          "model_module_version": "1.2.0",
          "state": {
            "_model_module": "@jupyter-widgets/base",
            "_model_module_version": "1.2.0",
            "_model_name": "LayoutModel",
            "_view_count": null,
            "_view_module": "@jupyter-widgets/base",
            "_view_module_version": "1.2.0",
            "_view_name": "LayoutView",
            "align_content": null,
            "align_items": null,
            "align_self": null,
            "border": null,
            "bottom": null,
            "display": null,
            "flex": null,
            "flex_flow": null,
            "grid_area": null,
            "grid_auto_columns": null,
            "grid_auto_flow": null,
            "grid_auto_rows": null,
            "grid_column": null,
            "grid_gap": null,
            "grid_row": null,
            "grid_template_areas": null,
            "grid_template_columns": null,
            "grid_template_rows": null,
            "height": null,
            "justify_content": null,
            "justify_items": null,
            "left": null,
            "margin": null,
            "max_height": null,
            "max_width": null,
            "min_height": null,
            "min_width": null,
            "object_fit": null,
            "object_position": null,
            "order": null,
            "overflow": null,
            "overflow_x": null,
            "overflow_y": null,
            "padding": null,
            "right": null,
            "top": null,
            "visibility": null,
            "width": null
          }
        },
        "81977f0790ca4e5fb13242ef62ee4ea9": {
          "model_module": "@jupyter-widgets/output",
          "model_name": "OutputModel",
          "model_module_version": "1.0.0",
          "state": {
            "_dom_classes": [],
            "_model_module": "@jupyter-widgets/output",
            "_model_module_version": "1.0.0",
            "_model_name": "OutputModel",
            "_view_count": null,
            "_view_module": "@jupyter-widgets/output",
            "_view_module_version": "1.0.0",
            "_view_name": "OutputView",
            "layout": "IPY_MODEL_655f557edd0a4d95998a913bd68045d0",
            "msg_id": "",
            "outputs": [
              {
                "output_type": "display_data",
                "data": {
                  "text/plain": "\n\u001b[48;2;39;39;34m                                                                                                                   \u001b[0m\n\u001b[48;2;39;39;34m \u001b[0m\u001b[48;2;39;39;34m \u001b[0m\u001b[38;2;255;70;137;48;2;39;40;34mimport\u001b[0m\u001b[38;2;248;248;242;48;2;39;40;34m \u001b[0m\u001b[38;2;248;248;242;48;2;39;40;34mfeedparser\u001b[0m\u001b[48;2;39;40;34m                                                                                              \u001b[0m\u001b[48;2;39;39;34m \u001b[0m\u001b[48;2;39;39;34m \u001b[0m\n\u001b[48;2;39;39;34m \u001b[0m\u001b[48;2;39;39;34m \u001b[0m\u001b[48;2;39;40;34m                                                                                                               \u001b[0m\u001b[48;2;39;39;34m \u001b[0m\u001b[48;2;39;39;34m \u001b[0m\n\u001b[48;2;39;39;34m \u001b[0m\u001b[48;2;39;39;34m \u001b[0m\u001b[38;2;149;144;119;48;2;39;40;34m# URL of the BBC News RSS feed\u001b[0m\u001b[48;2;39;40;34m                                                                                 \u001b[0m\u001b[48;2;39;39;34m \u001b[0m\u001b[48;2;39;39;34m \u001b[0m\n\u001b[48;2;39;39;34m \u001b[0m\u001b[48;2;39;39;34m \u001b[0m\u001b[38;2;248;248;242;48;2;39;40;34mrss_url\u001b[0m\u001b[38;2;248;248;242;48;2;39;40;34m \u001b[0m\u001b[38;2;255;70;137;48;2;39;40;34m=\u001b[0m\u001b[38;2;248;248;242;48;2;39;40;34m \u001b[0m\u001b[38;2;230;219;116;48;2;39;40;34m'\u001b[0m\u001b[38;2;230;219;116;48;2;39;40;34mhttp://feeds.bbci.co.uk/news/rss.xml\u001b[0m\u001b[38;2;230;219;116;48;2;39;40;34m'\u001b[0m\u001b[48;2;39;40;34m                                                               \u001b[0m\u001b[48;2;39;39;34m \u001b[0m\u001b[48;2;39;39;34m \u001b[0m\n\u001b[48;2;39;39;34m \u001b[0m\u001b[48;2;39;39;34m \u001b[0m\u001b[48;2;39;40;34m                                                                                                               \u001b[0m\u001b[48;2;39;39;34m \u001b[0m\u001b[48;2;39;39;34m \u001b[0m\n\u001b[48;2;39;39;34m \u001b[0m\u001b[48;2;39;39;34m \u001b[0m\u001b[38;2;149;144;119;48;2;39;40;34m# Parse the RSS feed\u001b[0m\u001b[48;2;39;40;34m                                                                                           \u001b[0m\u001b[48;2;39;39;34m \u001b[0m\u001b[48;2;39;39;34m \u001b[0m\n\u001b[48;2;39;39;34m \u001b[0m\u001b[48;2;39;39;34m \u001b[0m\u001b[38;2;248;248;242;48;2;39;40;34mfeed\u001b[0m\u001b[38;2;248;248;242;48;2;39;40;34m \u001b[0m\u001b[38;2;255;70;137;48;2;39;40;34m=\u001b[0m\u001b[38;2;248;248;242;48;2;39;40;34m \u001b[0m\u001b[38;2;248;248;242;48;2;39;40;34mfeedparser\u001b[0m\u001b[38;2;255;70;137;48;2;39;40;34m.\u001b[0m\u001b[38;2;248;248;242;48;2;39;40;34mparse\u001b[0m\u001b[38;2;248;248;242;48;2;39;40;34m(\u001b[0m\u001b[38;2;248;248;242;48;2;39;40;34mrss_url\u001b[0m\u001b[38;2;248;248;242;48;2;39;40;34m)\u001b[0m\u001b[48;2;39;40;34m                                                                               \u001b[0m\u001b[48;2;39;39;34m \u001b[0m\u001b[48;2;39;39;34m \u001b[0m\n\u001b[48;2;39;39;34m \u001b[0m\u001b[48;2;39;39;34m \u001b[0m\u001b[48;2;39;40;34m                                                                                                               \u001b[0m\u001b[48;2;39;39;34m \u001b[0m\u001b[48;2;39;39;34m \u001b[0m\n\u001b[48;2;39;39;34m \u001b[0m\u001b[48;2;39;39;34m \u001b[0m\u001b[38;2;149;144;119;48;2;39;40;34m# Extract the last 10 headlines\u001b[0m\u001b[48;2;39;40;34m                                                                                \u001b[0m\u001b[48;2;39;39;34m \u001b[0m\u001b[48;2;39;39;34m \u001b[0m\n\u001b[48;2;39;39;34m \u001b[0m\u001b[48;2;39;39;34m \u001b[0m\u001b[38;2;248;248;242;48;2;39;40;34mlast_10_headlines\u001b[0m\u001b[38;2;248;248;242;48;2;39;40;34m \u001b[0m\u001b[38;2;255;70;137;48;2;39;40;34m=\u001b[0m\u001b[38;2;248;248;242;48;2;39;40;34m \u001b[0m\u001b[38;2;248;248;242;48;2;39;40;34m[\u001b[0m\u001b[38;2;248;248;242;48;2;39;40;34mentry\u001b[0m\u001b[38;2;248;248;242;48;2;39;40;34m[\u001b[0m\u001b[38;2;230;219;116;48;2;39;40;34m'\u001b[0m\u001b[38;2;230;219;116;48;2;39;40;34mtitle\u001b[0m\u001b[38;2;230;219;116;48;2;39;40;34m'\u001b[0m\u001b[38;2;248;248;242;48;2;39;40;34m]\u001b[0m\u001b[38;2;248;248;242;48;2;39;40;34m \u001b[0m\u001b[38;2;102;217;239;48;2;39;40;34mfor\u001b[0m\u001b[38;2;248;248;242;48;2;39;40;34m \u001b[0m\u001b[38;2;248;248;242;48;2;39;40;34mentry\u001b[0m\u001b[38;2;248;248;242;48;2;39;40;34m \u001b[0m\u001b[38;2;255;70;137;48;2;39;40;34min\u001b[0m\u001b[38;2;248;248;242;48;2;39;40;34m \u001b[0m\u001b[38;2;248;248;242;48;2;39;40;34mfeed\u001b[0m\u001b[38;2;255;70;137;48;2;39;40;34m.\u001b[0m\u001b[38;2;248;248;242;48;2;39;40;34mentries\u001b[0m\u001b[38;2;248;248;242;48;2;39;40;34m[\u001b[0m\u001b[38;2;248;248;242;48;2;39;40;34m:\u001b[0m\u001b[38;2;174;129;255;48;2;39;40;34m10\u001b[0m\u001b[38;2;248;248;242;48;2;39;40;34m]\u001b[0m\u001b[38;2;248;248;242;48;2;39;40;34m]\u001b[0m\u001b[48;2;39;40;34m                                            \u001b[0m\u001b[48;2;39;39;34m \u001b[0m\u001b[48;2;39;39;34m \u001b[0m\n\u001b[48;2;39;39;34m \u001b[0m\u001b[48;2;39;39;34m \u001b[0m\u001b[38;2;248;248;242;48;2;39;40;34mlast_10_headlines\u001b[0m\u001b[48;2;39;40;34m                                                                                              \u001b[0m\u001b[48;2;39;39;34m \u001b[0m\u001b[48;2;39;39;34m \u001b[0m\n\u001b[48;2;39;39;34m                                                                                                                   \u001b[0m\n\u001b[38;2;255;255;255;48;2;59;59;55m                                                                                                                   \u001b[0m\n\u001b[38;2;255;255;255;48;2;59;59;55m \u001b[0m\u001b[38;2;255;255;255;48;2;59;59;55m \u001b[0m\u001b[38;2;255;255;255;48;2;59;59;55m[\"Russia warns against 'hypotheses' after Azerbaijan Airlines crash\",\u001b[0m\u001b[38;2;255;255;255;48;2;59;59;55m                                          \u001b[0m\u001b[38;2;255;255;255;48;2;59;59;55m \u001b[0m\u001b[38;2;255;255;255;48;2;59;59;55m \u001b[0m\n\u001b[38;2;255;255;255;48;2;59;59;55m \u001b[0m\u001b[38;2;255;255;255;48;2;59;59;55m \u001b[0m\u001b[38;2;255;255;255;48;2;59;59;55m \"Assad loyalists kill 14 in clash with Syria's new ruling forces\",\u001b[0m\u001b[38;2;255;255;255;48;2;59;59;55m                                            \u001b[0m\u001b[38;2;255;255;255;48;2;59;59;55m \u001b[0m\u001b[38;2;255;255;255;48;2;59;59;55m \u001b[0m\n\u001b[38;2;255;255;255;48;2;59;59;55m \u001b[0m\u001b[38;2;255;255;255;48;2;59;59;55m \u001b[0m\u001b[38;2;255;255;255;48;2;59;59;55m \"20 years on: 'My boat was metres from the shore when the Boxing Day tsunami hit'\",\u001b[0m\u001b[38;2;255;255;255;48;2;59;59;55m                           \u001b[0m\u001b[38;2;255;255;255;48;2;59;59;55m \u001b[0m\u001b[38;2;255;255;255;48;2;59;59;55m \u001b[0m\n\u001b[38;2;255;255;255;48;2;59;59;55m \u001b[0m\u001b[38;2;255;255;255;48;2;59;59;55m \u001b[0m\u001b[38;2;255;255;255;48;2;59;59;55m \"Gavin and Stacey grabs TV's biggest Christmas Day audience in 16 years\",\u001b[0m\u001b[38;2;255;255;255;48;2;59;59;55m                                     \u001b[0m\u001b[38;2;255;255;255;48;2;59;59;55m \u001b[0m\u001b[38;2;255;255;255;48;2;59;59;55m \u001b[0m\n\u001b[38;2;255;255;255;48;2;59;59;55m \u001b[0m\u001b[38;2;255;255;255;48;2;59;59;55m \u001b[0m\u001b[38;2;255;255;255;48;2;59;59;55m 'The retro hobby that can help boost your happiness (say scientists)',\u001b[0m\u001b[38;2;255;255;255;48;2;59;59;55m                                        \u001b[0m\u001b[38;2;255;255;255;48;2;59;59;55m \u001b[0m\u001b[38;2;255;255;255;48;2;59;59;55m \u001b[0m\n\u001b[38;2;255;255;255;48;2;59;59;55m \u001b[0m\u001b[38;2;255;255;255;48;2;59;59;55m \u001b[0m\u001b[38;2;255;255;255;48;2;59;59;55m 'Quiz of the Year, Part 1: How much do you remember about 2024?',\u001b[0m\u001b[38;2;255;255;255;48;2;59;59;55m                                             \u001b[0m\u001b[38;2;255;255;255;48;2;59;59;55m \u001b[0m\u001b[38;2;255;255;255;48;2;59;59;55m \u001b[0m\n\u001b[38;2;255;255;255;48;2;59;59;55m \u001b[0m\u001b[38;2;255;255;255;48;2;59;59;55m \u001b[0m\u001b[38;2;255;255;255;48;2;59;59;55m 'Boxing Day bargain hunters shunning shopping centres and high streets',\u001b[0m\u001b[38;2;255;255;255;48;2;59;59;55m                                      \u001b[0m\u001b[38;2;255;255;255;48;2;59;59;55m \u001b[0m\u001b[38;2;255;255;255;48;2;59;59;55m \u001b[0m\n\u001b[38;2;255;255;255;48;2;59;59;55m \u001b[0m\u001b[38;2;255;255;255;48;2;59;59;55m \u001b[0m\u001b[38;2;255;255;255;48;2;59;59;55m 'Two women dead and two hurt in suspected stabbing at flat on Christmas Day',\u001b[0m\u001b[38;2;255;255;255;48;2;59;59;55m                                 \u001b[0m\u001b[38;2;255;255;255;48;2;59;59;55m \u001b[0m\u001b[38;2;255;255;255;48;2;59;59;55m \u001b[0m\n\u001b[38;2;255;255;255;48;2;59;59;55m \u001b[0m\u001b[38;2;255;255;255;48;2;59;59;55m \u001b[0m\u001b[38;2;255;255;255;48;2;59;59;55m 'Chief scout calls for workers to get volunteering leave',\u001b[0m\u001b[38;2;255;255;255;48;2;59;59;55m                                                    \u001b[0m\u001b[38;2;255;255;255;48;2;59;59;55m \u001b[0m\u001b[38;2;255;255;255;48;2;59;59;55m \u001b[0m\n\u001b[38;2;255;255;255;48;2;59;59;55m \u001b[0m\u001b[38;2;255;255;255;48;2;59;59;55m \u001b[0m\u001b[38;2;255;255;255;48;2;59;59;55m 'Five Gaza journalists killed in Israeli strike targeting armed group']\u001b[0m\u001b[38;2;255;255;255;48;2;59;59;55m                                       \u001b[0m\u001b[38;2;255;255;255;48;2;59;59;55m \u001b[0m\u001b[38;2;255;255;255;48;2;59;59;55m \u001b[0m\n\u001b[38;2;255;255;255;48;2;59;59;55m                                                                                                                   \u001b[0m\n",
                  "text/html": "<pre style=\"white-space:pre;overflow-x:auto;line-height:normal;font-family:Menlo,'DejaVu Sans Mono',consolas,'Courier New',monospace\">\n<span style=\"background-color: #272722\">                                                                                                                   </span>\n<span style=\"background-color: #272722\">  </span><span style=\"color: #ff4689; text-decoration-color: #ff4689; background-color: #272822\">import</span><span style=\"color: #f8f8f2; text-decoration-color: #f8f8f2; background-color: #272822\"> feedparser</span><span style=\"background-color: #272822\">                                                                                              </span><span style=\"background-color: #272722\">  </span>\n<span style=\"background-color: #272722\">  </span><span style=\"background-color: #272822\">                                                                                                               </span><span style=\"background-color: #272722\">  </span>\n<span style=\"background-color: #272722\">  </span><span style=\"color: #959077; text-decoration-color: #959077; background-color: #272822\"># URL of the BBC News RSS feed</span><span style=\"background-color: #272822\">                                                                                 </span><span style=\"background-color: #272722\">  </span>\n<span style=\"background-color: #272722\">  </span><span style=\"color: #f8f8f2; text-decoration-color: #f8f8f2; background-color: #272822\">rss_url </span><span style=\"color: #ff4689; text-decoration-color: #ff4689; background-color: #272822\">=</span><span style=\"color: #f8f8f2; text-decoration-color: #f8f8f2; background-color: #272822\"> </span><span style=\"color: #e6db74; text-decoration-color: #e6db74; background-color: #272822\">'http://feeds.bbci.co.uk/news/rss.xml'</span><span style=\"background-color: #272822\">                                                               </span><span style=\"background-color: #272722\">  </span>\n<span style=\"background-color: #272722\">  </span><span style=\"background-color: #272822\">                                                                                                               </span><span style=\"background-color: #272722\">  </span>\n<span style=\"background-color: #272722\">  </span><span style=\"color: #959077; text-decoration-color: #959077; background-color: #272822\"># Parse the RSS feed</span><span style=\"background-color: #272822\">                                                                                           </span><span style=\"background-color: #272722\">  </span>\n<span style=\"background-color: #272722\">  </span><span style=\"color: #f8f8f2; text-decoration-color: #f8f8f2; background-color: #272822\">feed </span><span style=\"color: #ff4689; text-decoration-color: #ff4689; background-color: #272822\">=</span><span style=\"color: #f8f8f2; text-decoration-color: #f8f8f2; background-color: #272822\"> feedparser</span><span style=\"color: #ff4689; text-decoration-color: #ff4689; background-color: #272822\">.</span><span style=\"color: #f8f8f2; text-decoration-color: #f8f8f2; background-color: #272822\">parse(rss_url)</span><span style=\"background-color: #272822\">                                                                               </span><span style=\"background-color: #272722\">  </span>\n<span style=\"background-color: #272722\">  </span><span style=\"background-color: #272822\">                                                                                                               </span><span style=\"background-color: #272722\">  </span>\n<span style=\"background-color: #272722\">  </span><span style=\"color: #959077; text-decoration-color: #959077; background-color: #272822\"># Extract the last 10 headlines</span><span style=\"background-color: #272822\">                                                                                </span><span style=\"background-color: #272722\">  </span>\n<span style=\"background-color: #272722\">  </span><span style=\"color: #f8f8f2; text-decoration-color: #f8f8f2; background-color: #272822\">last_10_headlines </span><span style=\"color: #ff4689; text-decoration-color: #ff4689; background-color: #272822\">=</span><span style=\"color: #f8f8f2; text-decoration-color: #f8f8f2; background-color: #272822\"> [entry[</span><span style=\"color: #e6db74; text-decoration-color: #e6db74; background-color: #272822\">'title'</span><span style=\"color: #f8f8f2; text-decoration-color: #f8f8f2; background-color: #272822\">] </span><span style=\"color: #66d9ef; text-decoration-color: #66d9ef; background-color: #272822\">for</span><span style=\"color: #f8f8f2; text-decoration-color: #f8f8f2; background-color: #272822\"> entry </span><span style=\"color: #ff4689; text-decoration-color: #ff4689; background-color: #272822\">in</span><span style=\"color: #f8f8f2; text-decoration-color: #f8f8f2; background-color: #272822\"> feed</span><span style=\"color: #ff4689; text-decoration-color: #ff4689; background-color: #272822\">.</span><span style=\"color: #f8f8f2; text-decoration-color: #f8f8f2; background-color: #272822\">entries[:</span><span style=\"color: #ae81ff; text-decoration-color: #ae81ff; background-color: #272822\">10</span><span style=\"color: #f8f8f2; text-decoration-color: #f8f8f2; background-color: #272822\">]]</span><span style=\"background-color: #272822\">                                            </span><span style=\"background-color: #272722\">  </span>\n<span style=\"background-color: #272722\">  </span><span style=\"color: #f8f8f2; text-decoration-color: #f8f8f2; background-color: #272822\">last_10_headlines</span><span style=\"background-color: #272822\">                                                                                              </span><span style=\"background-color: #272722\">  </span>\n<span style=\"background-color: #272722\">                                                                                                                   </span>\n<span style=\"color: #ffffff; text-decoration-color: #ffffff; background-color: #3b3b37\">                                                                                                                   </span>\n<span style=\"color: #ffffff; text-decoration-color: #ffffff; background-color: #3b3b37\">  [\"Russia warns against 'hypotheses' after Azerbaijan Airlines crash\",                                            </span>\n<span style=\"color: #ffffff; text-decoration-color: #ffffff; background-color: #3b3b37\">   \"Assad loyalists kill 14 in clash with Syria's new ruling forces\",                                              </span>\n<span style=\"color: #ffffff; text-decoration-color: #ffffff; background-color: #3b3b37\">   \"20 years on: 'My boat was metres from the shore when the Boxing Day tsunami hit'\",                             </span>\n<span style=\"color: #ffffff; text-decoration-color: #ffffff; background-color: #3b3b37\">   \"Gavin and Stacey grabs TV's biggest Christmas Day audience in 16 years\",                                       </span>\n<span style=\"color: #ffffff; text-decoration-color: #ffffff; background-color: #3b3b37\">   'The retro hobby that can help boost your happiness (say scientists)',                                          </span>\n<span style=\"color: #ffffff; text-decoration-color: #ffffff; background-color: #3b3b37\">   'Quiz of the Year, Part 1: How much do you remember about 2024?',                                               </span>\n<span style=\"color: #ffffff; text-decoration-color: #ffffff; background-color: #3b3b37\">   'Boxing Day bargain hunters shunning shopping centres and high streets',                                        </span>\n<span style=\"color: #ffffff; text-decoration-color: #ffffff; background-color: #3b3b37\">   'Two women dead and two hurt in suspected stabbing at flat on Christmas Day',                                   </span>\n<span style=\"color: #ffffff; text-decoration-color: #ffffff; background-color: #3b3b37\">   'Chief scout calls for workers to get volunteering leave',                                                      </span>\n<span style=\"color: #ffffff; text-decoration-color: #ffffff; background-color: #3b3b37\">   'Five Gaza journalists killed in Israeli strike targeting armed group']                                         </span>\n<span style=\"color: #ffffff; text-decoration-color: #ffffff; background-color: #3b3b37\">                                                                                                                   </span>\n</pre>\n"
                },
                "metadata": {}
              }
            ]
          }
        },
        "655f557edd0a4d95998a913bd68045d0": {
          "model_module": "@jupyter-widgets/base",
          "model_name": "LayoutModel",
          "model_module_version": "1.2.0",
          "state": {
            "_model_module": "@jupyter-widgets/base",
            "_model_module_version": "1.2.0",
            "_model_name": "LayoutModel",
            "_view_count": null,
            "_view_module": "@jupyter-widgets/base",
            "_view_module_version": "1.2.0",
            "_view_name": "LayoutView",
            "align_content": null,
            "align_items": null,
            "align_self": null,
            "border": null,
            "bottom": null,
            "display": null,
            "flex": null,
            "flex_flow": null,
            "grid_area": null,
            "grid_auto_columns": null,
            "grid_auto_flow": null,
            "grid_auto_rows": null,
            "grid_column": null,
            "grid_gap": null,
            "grid_row": null,
            "grid_template_areas": null,
            "grid_template_columns": null,
            "grid_template_rows": null,
            "height": null,
            "justify_content": null,
            "justify_items": null,
            "left": null,
            "margin": null,
            "max_height": null,
            "max_width": null,
            "min_height": null,
            "min_width": null,
            "object_fit": null,
            "object_position": null,
            "order": null,
            "overflow": null,
            "overflow_x": null,
            "overflow_y": null,
            "padding": null,
            "right": null,
            "top": null,
            "visibility": null,
            "width": null
          }
        },
        "e4a21c5a0216409fb1e806ed4a0de8c9": {
          "model_module": "@jupyter-widgets/output",
          "model_name": "OutputModel",
          "model_module_version": "1.0.0",
          "state": {
            "_dom_classes": [],
            "_model_module": "@jupyter-widgets/output",
            "_model_module_version": "1.0.0",
            "_model_name": "OutputModel",
            "_view_count": null,
            "_view_module": "@jupyter-widgets/output",
            "_view_module_version": "1.0.0",
            "_view_name": "OutputView",
            "layout": "IPY_MODEL_9749d004f7774c9099ab4da3d22b716f",
            "msg_id": "",
            "outputs": [
              {
                "output_type": "display_data",
                "data": {
                  "text/plain": "                                                                                                                   \n  Here are the last 10 BBC News headlines:                                                                         \n                                                                                                                   \n  \u001b[1;33m  1 \u001b[0mRussia warns against 'hypotheses' after Azerbaijan Airlines crash                                            \n  \u001b[1;33m  2 \u001b[0mAssad loyalists kill 14 in clash with Syria's new ruling forces                                              \n  \u001b[1;33m  3 \u001b[0m20 years on: 'My boat was metres from the shore when the Boxing Day tsunami hit'                             \n  \u001b[1;33m  4 \u001b[0mGavin and Stacey grabs TV's biggest Christmas Day audience in 16 years                                       \n  \u001b[1;33m  5 \u001b[0mThe retro hobby that can help boost your happiness (say scientists)                                          \n  \u001b[1;33m  6 \u001b[0mQuiz of the Year, Part 1: How much do you remember about 2024?                                               \n  \u001b[1;33m  7 \u001b[0mBoxing Day bargain hunters shunning shopping centres and high streets                                        \n  \u001b[1;33m  8 \u001b[0mTwo women dead and two hurt in suspected stabbing at flat on Christmas Day                                   \n  \u001b[1;33m  9 \u001b[0mChief scout calls for workers to get volunteering leave                                                      \n  \u001b[1;33m 10 \u001b[0mFive Gaza journalists killed in Israeli strike targeting armed group                                         \n                                                                                                                   \n  If you need more information or have other questions, feel free to ask!                                          \n                                                                                                                   \n",
                  "text/html": "<pre style=\"white-space:pre;overflow-x:auto;line-height:normal;font-family:Menlo,'DejaVu Sans Mono',consolas,'Courier New',monospace\">                                                                                                                   \n  Here are the last 10 BBC News headlines:                                                                         \n                                                                                                                   \n  <span style=\"color: #808000; text-decoration-color: #808000; font-weight: bold\">  1 </span>Russia warns against 'hypotheses' after Azerbaijan Airlines crash                                            \n  <span style=\"color: #808000; text-decoration-color: #808000; font-weight: bold\">  2 </span>Assad loyalists kill 14 in clash with Syria's new ruling forces                                              \n  <span style=\"color: #808000; text-decoration-color: #808000; font-weight: bold\">  3 </span>20 years on: 'My boat was metres from the shore when the Boxing Day tsunami hit'                             \n  <span style=\"color: #808000; text-decoration-color: #808000; font-weight: bold\">  4 </span>Gavin and Stacey grabs TV's biggest Christmas Day audience in 16 years                                       \n  <span style=\"color: #808000; text-decoration-color: #808000; font-weight: bold\">  5 </span>The retro hobby that can help boost your happiness (say scientists)                                          \n  <span style=\"color: #808000; text-decoration-color: #808000; font-weight: bold\">  6 </span>Quiz of the Year, Part 1: How much do you remember about 2024?                                               \n  <span style=\"color: #808000; text-decoration-color: #808000; font-weight: bold\">  7 </span>Boxing Day bargain hunters shunning shopping centres and high streets                                        \n  <span style=\"color: #808000; text-decoration-color: #808000; font-weight: bold\">  8 </span>Two women dead and two hurt in suspected stabbing at flat on Christmas Day                                   \n  <span style=\"color: #808000; text-decoration-color: #808000; font-weight: bold\">  9 </span>Chief scout calls for workers to get volunteering leave                                                      \n  <span style=\"color: #808000; text-decoration-color: #808000; font-weight: bold\"> 10 </span>Five Gaza journalists killed in Israeli strike targeting armed group                                         \n                                                                                                                   \n  If you need more information or have other questions, feel free to ask!                                          \n                                                                                                                   \n</pre>\n"
                },
                "metadata": {}
              }
            ]
          }
        },
        "9749d004f7774c9099ab4da3d22b716f": {
          "model_module": "@jupyter-widgets/base",
          "model_name": "LayoutModel",
          "model_module_version": "1.2.0",
          "state": {
            "_model_module": "@jupyter-widgets/base",
            "_model_module_version": "1.2.0",
            "_model_name": "LayoutModel",
            "_view_count": null,
            "_view_module": "@jupyter-widgets/base",
            "_view_module_version": "1.2.0",
            "_view_name": "LayoutView",
            "align_content": null,
            "align_items": null,
            "align_self": null,
            "border": null,
            "bottom": null,
            "display": null,
            "flex": null,
            "flex_flow": null,
            "grid_area": null,
            "grid_auto_columns": null,
            "grid_auto_flow": null,
            "grid_auto_rows": null,
            "grid_column": null,
            "grid_gap": null,
            "grid_row": null,
            "grid_template_areas": null,
            "grid_template_columns": null,
            "grid_template_rows": null,
            "height": null,
            "justify_content": null,
            "justify_items": null,
            "left": null,
            "margin": null,
            "max_height": null,
            "max_width": null,
            "min_height": null,
            "min_width": null,
            "object_fit": null,
            "object_position": null,
            "order": null,
            "overflow": null,
            "overflow_x": null,
            "overflow_y": null,
            "padding": null,
            "right": null,
            "top": null,
            "visibility": null,
            "width": null
          }
        },
        "af23de14ef81459486c7cf0e10db9c45": {
          "model_module": "@jupyter-widgets/output",
          "model_name": "OutputModel",
          "model_module_version": "1.0.0",
          "state": {
            "_dom_classes": [],
            "_model_module": "@jupyter-widgets/output",
            "_model_module_version": "1.0.0",
            "_model_name": "OutputModel",
            "_view_count": null,
            "_view_module": "@jupyter-widgets/output",
            "_view_module_version": "1.0.0",
            "_view_name": "OutputView",
            "layout": "IPY_MODEL_afe92441d06a49079e049483dcde2e03",
            "msg_id": "",
            "outputs": [
              {
                "output_type": "display_data",
                "data": {
                  "text/plain": "                                                                                                                   \n  Goodbye! Feel free to return if you have more questions in the future. Have a great day! 😊                      \n                                                                                                                   \n",
                  "text/html": "<pre style=\"white-space:pre;overflow-x:auto;line-height:normal;font-family:Menlo,'DejaVu Sans Mono',consolas,'Courier New',monospace\">                                                                                                                   \n  Goodbye! Feel free to return if you have more questions in the future. Have a great day! 😊                      \n                                                                                                                   \n</pre>\n"
                },
                "metadata": {}
              }
            ]
          }
        },
        "afe92441d06a49079e049483dcde2e03": {
          "model_module": "@jupyter-widgets/base",
          "model_name": "LayoutModel",
          "model_module_version": "1.2.0",
          "state": {
            "_model_module": "@jupyter-widgets/base",
            "_model_module_version": "1.2.0",
            "_model_name": "LayoutModel",
            "_view_count": null,
            "_view_module": "@jupyter-widgets/base",
            "_view_module_version": "1.2.0",
            "_view_name": "LayoutView",
            "align_content": null,
            "align_items": null,
            "align_self": null,
            "border": null,
            "bottom": null,
            "display": null,
            "flex": null,
            "flex_flow": null,
            "grid_area": null,
            "grid_auto_columns": null,
            "grid_auto_flow": null,
            "grid_auto_rows": null,
            "grid_column": null,
            "grid_gap": null,
            "grid_row": null,
            "grid_template_areas": null,
            "grid_template_columns": null,
            "grid_template_rows": null,
            "height": null,
            "justify_content": null,
            "justify_items": null,
            "left": null,
            "margin": null,
            "max_height": null,
            "max_width": null,
            "min_height": null,
            "min_width": null,
            "object_fit": null,
            "object_position": null,
            "order": null,
            "overflow": null,
            "overflow_x": null,
            "overflow_y": null,
            "padding": null,
            "right": null,
            "top": null,
            "visibility": null,
            "width": null
          }
        },
        "7aea950210f94544b90c13f8c0e1eb38": {
          "model_module": "@jupyter-widgets/output",
          "model_name": "OutputModel",
          "model_module_version": "1.0.0",
          "state": {
            "_dom_classes": [],
            "_model_module": "@jupyter-widgets/output",
            "_model_module_version": "1.0.0",
            "_model_name": "OutputModel",
            "_view_count": null,
            "_view_module": "@jupyter-widgets/output",
            "_view_module_version": "1.0.0",
            "_view_name": "OutputView",
            "layout": "IPY_MODEL_1c2a13e7e1f847c7ae5a1b0db18d7db0",
            "msg_id": "",
            "outputs": [
              {
                "output_type": "display_data",
                "data": {
                  "text/plain": "\n\u001b[48;2;39;39;34m                                                                                                                   \u001b[0m\n\u001b[48;2;39;39;34m \u001b[0m\u001b[48;2;39;39;34m \u001b[0m\u001b[38;2;248;248;242;48;2;39;40;34mmkdir\u001b[0m\u001b[38;2;248;248;242;48;2;39;40;34m \u001b[0m\u001b[38;2;248;248;242;48;2;39;40;34m-p\u001b[0m\u001b[38;2;248;248;242;48;2;39;40;34m \u001b[0m\u001b[38;2;248;248;242;48;2;39;40;34mdocuments\u001b[0m\u001b[48;2;39;40;34m                                                                                             \u001b[0m\u001b[48;2;39;39;34m \u001b[0m\u001b[48;2;39;39;34m \u001b[0m\n\u001b[48;2;39;39;34m                                                                                                                   \u001b[0m\n\n",
                  "text/html": "<pre style=\"white-space:pre;overflow-x:auto;line-height:normal;font-family:Menlo,'DejaVu Sans Mono',consolas,'Courier New',monospace\">\n<span style=\"background-color: #272722\">                                                                                                                   </span>\n<span style=\"background-color: #272722\">  </span><span style=\"color: #f8f8f2; text-decoration-color: #f8f8f2; background-color: #272822\">mkdir -p documents</span><span style=\"background-color: #272822\">                                                                                             </span><span style=\"background-color: #272722\">  </span>\n<span style=\"background-color: #272722\">                                                                                                                   </span>\n\n</pre>\n"
                },
                "metadata": {}
              }
            ]
          }
        },
        "1c2a13e7e1f847c7ae5a1b0db18d7db0": {
          "model_module": "@jupyter-widgets/base",
          "model_name": "LayoutModel",
          "model_module_version": "1.2.0",
          "state": {
            "_model_module": "@jupyter-widgets/base",
            "_model_module_version": "1.2.0",
            "_model_name": "LayoutModel",
            "_view_count": null,
            "_view_module": "@jupyter-widgets/base",
            "_view_module_version": "1.2.0",
            "_view_name": "LayoutView",
            "align_content": null,
            "align_items": null,
            "align_self": null,
            "border": null,
            "bottom": null,
            "display": null,
            "flex": null,
            "flex_flow": null,
            "grid_area": null,
            "grid_auto_columns": null,
            "grid_auto_flow": null,
            "grid_auto_rows": null,
            "grid_column": null,
            "grid_gap": null,
            "grid_row": null,
            "grid_template_areas": null,
            "grid_template_columns": null,
            "grid_template_rows": null,
            "height": null,
            "justify_content": null,
            "justify_items": null,
            "left": null,
            "margin": null,
            "max_height": null,
            "max_width": null,
            "min_height": null,
            "min_width": null,
            "object_fit": null,
            "object_position": null,
            "order": null,
            "overflow": null,
            "overflow_x": null,
            "overflow_y": null,
            "padding": null,
            "right": null,
            "top": null,
            "visibility": null,
            "width": null
          }
        },
        "e0571ba7bbf34c7abd6c7f119317a1ec": {
          "model_module": "@jupyter-widgets/output",
          "model_name": "OutputModel",
          "model_module_version": "1.0.0",
          "state": {
            "_dom_classes": [],
            "_model_module": "@jupyter-widgets/output",
            "_model_module_version": "1.0.0",
            "_model_name": "OutputModel",
            "_view_count": null,
            "_view_module": "@jupyter-widgets/output",
            "_view_module_version": "1.0.0",
            "_view_name": "OutputView",
            "layout": "IPY_MODEL_c9aea95693dd4325a6b47ef62a9a8a83",
            "msg_id": "",
            "outputs": [
              {
                "output_type": "display_data",
                "data": {
                  "text/plain": "\n\u001b[48;2;39;39;34m                                                                                                                   \u001b[0m\n\u001b[48;2;39;39;34m \u001b[0m\u001b[48;2;39;39;34m \u001b[0m\u001b[38;2;255;70;137;48;2;39;40;34mfrom\u001b[0m\u001b[38;2;248;248;242;48;2;39;40;34m \u001b[0m\u001b[38;2;248;248;242;48;2;39;40;34mdocx\u001b[0m\u001b[38;2;248;248;242;48;2;39;40;34m \u001b[0m\u001b[38;2;255;70;137;48;2;39;40;34mimport\u001b[0m\u001b[38;2;248;248;242;48;2;39;40;34m \u001b[0m\u001b[38;2;248;248;242;48;2;39;40;34mDocument\u001b[0m\u001b[48;2;39;40;34m                                                                                      \u001b[0m\u001b[48;2;39;39;34m \u001b[0m\u001b[48;2;39;39;34m \u001b[0m\n\u001b[48;2;39;39;34m \u001b[0m\u001b[48;2;39;39;34m \u001b[0m\u001b[38;2;255;70;137;48;2;39;40;34mimport\u001b[0m\u001b[38;2;248;248;242;48;2;39;40;34m \u001b[0m\u001b[38;2;248;248;242;48;2;39;40;34mos\u001b[0m\u001b[48;2;39;40;34m                                                                                                      \u001b[0m\u001b[48;2;39;39;34m \u001b[0m\u001b[48;2;39;39;34m \u001b[0m\n\u001b[48;2;39;39;34m \u001b[0m\u001b[48;2;39;39;34m \u001b[0m\u001b[48;2;39;40;34m                                                                                                               \u001b[0m\u001b[48;2;39;39;34m \u001b[0m\u001b[48;2;39;39;34m \u001b[0m\n\u001b[48;2;39;39;34m \u001b[0m\u001b[48;2;39;39;34m \u001b[0m\u001b[38;2;149;144;119;48;2;39;40;34m# Define the path\u001b[0m\u001b[48;2;39;40;34m                                                                                              \u001b[0m\u001b[48;2;39;39;34m \u001b[0m\u001b[48;2;39;39;34m \u001b[0m\n\u001b[48;2;39;39;34m \u001b[0m\u001b[48;2;39;39;34m \u001b[0m\u001b[38;2;248;248;242;48;2;39;40;34mfolder_path\u001b[0m\u001b[38;2;248;248;242;48;2;39;40;34m \u001b[0m\u001b[38;2;255;70;137;48;2;39;40;34m=\u001b[0m\u001b[38;2;248;248;242;48;2;39;40;34m \u001b[0m\u001b[38;2;230;219;116;48;2;39;40;34m'\u001b[0m\u001b[38;2;230;219;116;48;2;39;40;34mdocuments\u001b[0m\u001b[38;2;230;219;116;48;2;39;40;34m'\u001b[0m\u001b[48;2;39;40;34m                                                                                      \u001b[0m\u001b[48;2;39;39;34m \u001b[0m\u001b[48;2;39;39;34m \u001b[0m\n\u001b[48;2;39;39;34m \u001b[0m\u001b[48;2;39;39;34m \u001b[0m\u001b[48;2;39;40;34m                                                                                                               \u001b[0m\u001b[48;2;39;39;34m \u001b[0m\u001b[48;2;39;39;34m \u001b[0m\n\u001b[48;2;39;39;34m \u001b[0m\u001b[48;2;39;39;34m \u001b[0m\u001b[38;2;149;144;119;48;2;39;40;34m# Sentences about machine learning\u001b[0m\u001b[48;2;39;40;34m                                                                             \u001b[0m\u001b[48;2;39;39;34m \u001b[0m\u001b[48;2;39;39;34m \u001b[0m\n\u001b[48;2;39;39;34m \u001b[0m\u001b[48;2;39;39;34m \u001b[0m\u001b[38;2;248;248;242;48;2;39;40;34msentences\u001b[0m\u001b[38;2;248;248;242;48;2;39;40;34m \u001b[0m\u001b[38;2;255;70;137;48;2;39;40;34m=\u001b[0m\u001b[38;2;248;248;242;48;2;39;40;34m \u001b[0m\u001b[38;2;248;248;242;48;2;39;40;34m[\u001b[0m\u001b[48;2;39;40;34m                                                                                                  \u001b[0m\u001b[48;2;39;39;34m \u001b[0m\u001b[48;2;39;39;34m \u001b[0m\n\u001b[48;2;39;39;34m \u001b[0m\u001b[48;2;39;39;34m \u001b[0m\u001b[38;2;248;248;242;48;2;39;40;34m    \u001b[0m\u001b[38;2;230;219;116;48;2;39;40;34m\"\u001b[0m\u001b[38;2;230;219;116;48;2;39;40;34mMachine learning is a field of artificial intelligence.\u001b[0m\u001b[38;2;230;219;116;48;2;39;40;34m\"\u001b[0m\u001b[38;2;248;248;242;48;2;39;40;34m,\u001b[0m\u001b[48;2;39;40;34m                                                 \u001b[0m\u001b[48;2;39;39;34m \u001b[0m\u001b[48;2;39;39;34m \u001b[0m\n\u001b[48;2;39;39;34m \u001b[0m\u001b[48;2;39;39;34m \u001b[0m\u001b[38;2;248;248;242;48;2;39;40;34m    \u001b[0m\u001b[38;2;230;219;116;48;2;39;40;34m\"\u001b[0m\u001b[38;2;230;219;116;48;2;39;40;34mIt allows computers to learn from data.\u001b[0m\u001b[38;2;230;219;116;48;2;39;40;34m\"\u001b[0m\u001b[38;2;248;248;242;48;2;39;40;34m,\u001b[0m\u001b[48;2;39;40;34m                                                                 \u001b[0m\u001b[48;2;39;39;34m \u001b[0m\u001b[48;2;39;39;34m \u001b[0m\n\u001b[48;2;39;39;34m \u001b[0m\u001b[48;2;39;39;34m \u001b[0m\u001b[38;2;248;248;242;48;2;39;40;34m    \u001b[0m\u001b[38;2;230;219;116;48;2;39;40;34m\"\u001b[0m\u001b[38;2;230;219;116;48;2;39;40;34mMachine learning is used in various applications.\u001b[0m\u001b[38;2;230;219;116;48;2;39;40;34m\"\u001b[0m\u001b[38;2;248;248;242;48;2;39;40;34m,\u001b[0m\u001b[48;2;39;40;34m                                                       \u001b[0m\u001b[48;2;39;39;34m \u001b[0m\u001b[48;2;39;39;34m \u001b[0m\n\u001b[48;2;39;39;34m \u001b[0m\u001b[48;2;39;39;34m \u001b[0m\u001b[38;2;248;248;242;48;2;39;40;34m    \u001b[0m\u001b[38;2;230;219;116;48;2;39;40;34m\"\u001b[0m\u001b[38;2;230;219;116;48;2;39;40;34mIt involves algorithms that improve automatically.\u001b[0m\u001b[38;2;230;219;116;48;2;39;40;34m\"\u001b[0m\u001b[38;2;248;248;242;48;2;39;40;34m,\u001b[0m\u001b[48;2;39;40;34m                                                      \u001b[0m\u001b[48;2;39;39;34m \u001b[0m\u001b[48;2;39;39;34m \u001b[0m\n\u001b[48;2;39;39;34m \u001b[0m\u001b[48;2;39;39;34m \u001b[0m\u001b[38;2;248;248;242;48;2;39;40;34m    \u001b[0m\u001b[38;2;230;219;116;48;2;39;40;34m\"\u001b[0m\u001b[38;2;230;219;116;48;2;39;40;34mDeep learning is a subset of machine learning.\u001b[0m\u001b[38;2;230;219;116;48;2;39;40;34m\"\u001b[0m\u001b[48;2;39;40;34m                                                           \u001b[0m\u001b[48;2;39;39;34m \u001b[0m\u001b[48;2;39;39;34m \u001b[0m\n\u001b[48;2;39;39;34m \u001b[0m\u001b[48;2;39;39;34m \u001b[0m\u001b[38;2;248;248;242;48;2;39;40;34m]\u001b[0m\u001b[48;2;39;40;34m                                                                                                              \u001b[0m\u001b[48;2;39;39;34m \u001b[0m\u001b[48;2;39;39;34m \u001b[0m\n\u001b[48;2;39;39;34m \u001b[0m\u001b[48;2;39;39;34m \u001b[0m\u001b[48;2;39;40;34m                                                                                                               \u001b[0m\u001b[48;2;39;39;34m \u001b[0m\u001b[48;2;39;39;34m \u001b[0m\n\u001b[48;2;39;39;34m \u001b[0m\u001b[48;2;39;39;34m \u001b[0m\u001b[38;2;149;144;119;48;2;39;40;34m# Create five .docx files with sentences about machine learning\u001b[0m\u001b[48;2;39;40;34m                                                \u001b[0m\u001b[48;2;39;39;34m \u001b[0m\u001b[48;2;39;39;34m \u001b[0m\n\u001b[48;2;39;39;34m \u001b[0m\u001b[48;2;39;39;34m \u001b[0m\u001b[38;2;102;217;239;48;2;39;40;34mfor\u001b[0m\u001b[38;2;248;248;242;48;2;39;40;34m \u001b[0m\u001b[38;2;248;248;242;48;2;39;40;34mi\u001b[0m\u001b[38;2;248;248;242;48;2;39;40;34m \u001b[0m\u001b[38;2;255;70;137;48;2;39;40;34min\u001b[0m\u001b[38;2;248;248;242;48;2;39;40;34m \u001b[0m\u001b[38;2;248;248;242;48;2;39;40;34mrange\u001b[0m\u001b[38;2;248;248;242;48;2;39;40;34m(\u001b[0m\u001b[38;2;174;129;255;48;2;39;40;34m5\u001b[0m\u001b[38;2;248;248;242;48;2;39;40;34m)\u001b[0m\u001b[38;2;248;248;242;48;2;39;40;34m:\u001b[0m\u001b[48;2;39;40;34m                                                                                             \u001b[0m\u001b[48;2;39;39;34m \u001b[0m\u001b[48;2;39;39;34m \u001b[0m\n\u001b[48;2;39;39;34m \u001b[0m\u001b[48;2;39;39;34m \u001b[0m\u001b[38;2;248;248;242;48;2;39;40;34m    \u001b[0m\u001b[38;2;248;248;242;48;2;39;40;34mdoc\u001b[0m\u001b[38;2;248;248;242;48;2;39;40;34m \u001b[0m\u001b[38;2;255;70;137;48;2;39;40;34m=\u001b[0m\u001b[38;2;248;248;242;48;2;39;40;34m \u001b[0m\u001b[38;2;248;248;242;48;2;39;40;34mDocument\u001b[0m\u001b[38;2;248;248;242;48;2;39;40;34m(\u001b[0m\u001b[38;2;248;248;242;48;2;39;40;34m)\u001b[0m\u001b[48;2;39;40;34m                                                                                           \u001b[0m\u001b[48;2;39;39;34m \u001b[0m\u001b[48;2;39;39;34m \u001b[0m\n\u001b[48;2;39;39;34m \u001b[0m\u001b[48;2;39;39;34m \u001b[0m\u001b[38;2;248;248;242;48;2;39;40;34m    \u001b[0m\u001b[38;2;248;248;242;48;2;39;40;34mdoc\u001b[0m\u001b[38;2;255;70;137;48;2;39;40;34m.\u001b[0m\u001b[38;2;248;248;242;48;2;39;40;34madd_paragraph\u001b[0m\u001b[38;2;248;248;242;48;2;39;40;34m(\u001b[0m\u001b[38;2;248;248;242;48;2;39;40;34msentences\u001b[0m\u001b[38;2;248;248;242;48;2;39;40;34m[\u001b[0m\u001b[38;2;248;248;242;48;2;39;40;34mi\u001b[0m\u001b[38;2;248;248;242;48;2;39;40;34m]\u001b[0m\u001b[38;2;248;248;242;48;2;39;40;34m)\u001b[0m\u001b[48;2;39;40;34m                                                                            \u001b[0m\u001b[48;2;39;39;34m \u001b[0m\u001b[48;2;39;39;34m \u001b[0m\n\u001b[48;2;39;39;34m \u001b[0m\u001b[48;2;39;39;34m \u001b[0m\u001b[38;2;248;248;242;48;2;39;40;34m    \u001b[0m\u001b[38;2;248;248;242;48;2;39;40;34mfile_path\u001b[0m\u001b[38;2;248;248;242;48;2;39;40;34m \u001b[0m\u001b[38;2;255;70;137;48;2;39;40;34m=\u001b[0m\u001b[38;2;248;248;242;48;2;39;40;34m \u001b[0m\u001b[38;2;248;248;242;48;2;39;40;34mos\u001b[0m\u001b[38;2;255;70;137;48;2;39;40;34m.\u001b[0m\u001b[38;2;248;248;242;48;2;39;40;34mpath\u001b[0m\u001b[38;2;255;70;137;48;2;39;40;34m.\u001b[0m\u001b[38;2;248;248;242;48;2;39;40;34mjoin\u001b[0m\u001b[38;2;248;248;242;48;2;39;40;34m(\u001b[0m\u001b[38;2;248;248;242;48;2;39;40;34mfolder_path\u001b[0m\u001b[38;2;248;248;242;48;2;39;40;34m,\u001b[0m\u001b[38;2;248;248;242;48;2;39;40;34m \u001b[0m\u001b[38;2;230;219;116;48;2;39;40;34mf\u001b[0m\u001b[38;2;230;219;116;48;2;39;40;34m'\u001b[0m\u001b[38;2;230;219;116;48;2;39;40;34mdocument_\u001b[0m\u001b[38;2;230;219;116;48;2;39;40;34m{\u001b[0m\u001b[38;2;248;248;242;48;2;39;40;34mi\u001b[0m\u001b[38;2;255;70;137;48;2;39;40;34m+\u001b[0m\u001b[38;2;174;129;255;48;2;39;40;34m1\u001b[0m\u001b[38;2;230;219;116;48;2;39;40;34m}\u001b[0m\u001b[38;2;230;219;116;48;2;39;40;34m.docx\u001b[0m\u001b[38;2;230;219;116;48;2;39;40;34m'\u001b[0m\u001b[38;2;248;248;242;48;2;39;40;34m)\u001b[0m\u001b[48;2;39;40;34m                                              \u001b[0m\u001b[48;2;39;39;34m \u001b[0m\u001b[48;2;39;39;34m \u001b[0m\n\u001b[48;2;39;39;34m \u001b[0m\u001b[48;2;39;39;34m \u001b[0m\u001b[38;2;248;248;242;48;2;39;40;34m    \u001b[0m\u001b[38;2;248;248;242;48;2;39;40;34mdoc\u001b[0m\u001b[38;2;255;70;137;48;2;39;40;34m.\u001b[0m\u001b[38;2;248;248;242;48;2;39;40;34msave\u001b[0m\u001b[38;2;248;248;242;48;2;39;40;34m(\u001b[0m\u001b[38;2;248;248;242;48;2;39;40;34mfile_path\u001b[0m\u001b[38;2;248;248;242;48;2;39;40;34m)\u001b[0m\u001b[48;2;39;40;34m                                                                                        \u001b[0m\u001b[48;2;39;39;34m \u001b[0m\u001b[48;2;39;39;34m \u001b[0m\n\u001b[48;2;39;39;34m                                                                                                                   \u001b[0m\n\u001b[38;2;255;255;255;48;2;59;59;55m                                                                                                                   \u001b[0m\n\u001b[38;2;255;255;255;48;2;59;59;55m \u001b[0m\u001b[38;2;255;255;255;48;2;59;59;55m \u001b[0m\u001b[38;2;255;255;255;48;2;59;59;55m---------------------------------------------------------------------------\u001b[0m\u001b[38;2;255;255;255;48;2;59;59;55m                                    \u001b[0m\u001b[38;2;255;255;255;48;2;59;59;55m \u001b[0m\u001b[38;2;255;255;255;48;2;59;59;55m \u001b[0m\n\u001b[38;2;255;255;255;48;2;59;59;55m \u001b[0m\u001b[38;2;255;255;255;48;2;59;59;55m \u001b[0m\u001b[38;2;255;255;255;48;2;59;59;55mModuleNotFoundError                       Traceback (most recent call last)\u001b[0m\u001b[38;2;255;255;255;48;2;59;59;55m                                    \u001b[0m\u001b[38;2;255;255;255;48;2;59;59;55m \u001b[0m\u001b[38;2;255;255;255;48;2;59;59;55m \u001b[0m\n\u001b[38;2;255;255;255;48;2;59;59;55m \u001b[0m\u001b[38;2;255;255;255;48;2;59;59;55m \u001b[0m\u001b[38;2;255;255;255;48;2;59;59;55m/tmp/ipykernel_725/1981697529.py in <cell line: 2>()\u001b[0m\u001b[38;2;255;255;255;48;2;59;59;55m                                                           \u001b[0m\u001b[38;2;255;255;255;48;2;59;59;55m \u001b[0m\u001b[38;2;255;255;255;48;2;59;59;55m \u001b[0m\n\u001b[38;2;255;255;255;48;2;59;59;55m \u001b[0m\u001b[38;2;255;255;255;48;2;59;59;55m \u001b[0m\u001b[38;2;255;255;255;48;2;59;59;55m      1 print('##active_line1##')\u001b[0m\u001b[38;2;255;255;255;48;2;59;59;55m                                                                              \u001b[0m\u001b[38;2;255;255;255;48;2;59;59;55m \u001b[0m\u001b[38;2;255;255;255;48;2;59;59;55m \u001b[0m\n\u001b[38;2;255;255;255;48;2;59;59;55m \u001b[0m\u001b[38;2;255;255;255;48;2;59;59;55m \u001b[0m\u001b[38;2;255;255;255;48;2;59;59;55m----> 2 from docx import Document\u001b[0m\u001b[38;2;255;255;255;48;2;59;59;55m                                                                              \u001b[0m\u001b[38;2;255;255;255;48;2;59;59;55m \u001b[0m\u001b[38;2;255;255;255;48;2;59;59;55m \u001b[0m\n\u001b[38;2;255;255;255;48;2;59;59;55m \u001b[0m\u001b[38;2;255;255;255;48;2;59;59;55m \u001b[0m\u001b[38;2;255;255;255;48;2;59;59;55m      3 print('##active_line2##')\u001b[0m\u001b[38;2;255;255;255;48;2;59;59;55m                                                                              \u001b[0m\u001b[38;2;255;255;255;48;2;59;59;55m \u001b[0m\u001b[38;2;255;255;255;48;2;59;59;55m \u001b[0m\n\u001b[38;2;255;255;255;48;2;59;59;55m \u001b[0m\u001b[38;2;255;255;255;48;2;59;59;55m \u001b[0m\u001b[38;2;255;255;255;48;2;59;59;55m      4 import os\u001b[0m\u001b[38;2;255;255;255;48;2;59;59;55m                                                                                              \u001b[0m\u001b[38;2;255;255;255;48;2;59;59;55m \u001b[0m\u001b[38;2;255;255;255;48;2;59;59;55m \u001b[0m\n\u001b[38;2;255;255;255;48;2;59;59;55m \u001b[0m\u001b[38;2;255;255;255;48;2;59;59;55m \u001b[0m\u001b[38;2;255;255;255;48;2;59;59;55m      5 print('##active_line3##')\u001b[0m\u001b[38;2;255;255;255;48;2;59;59;55m                                                                              \u001b[0m\u001b[38;2;255;255;255;48;2;59;59;55m \u001b[0m\u001b[38;2;255;255;255;48;2;59;59;55m \u001b[0m\n\u001b[38;2;255;255;255;48;2;59;59;55m \u001b[0m\u001b[38;2;255;255;255;48;2;59;59;55m \u001b[0m\u001b[38;2;255;255;255;48;2;59;59;55m                                                                                                               \u001b[0m\u001b[38;2;255;255;255;48;2;59;59;55m \u001b[0m\u001b[38;2;255;255;255;48;2;59;59;55m \u001b[0m\n\u001b[38;2;255;255;255;48;2;59;59;55m \u001b[0m\u001b[38;2;255;255;255;48;2;59;59;55m \u001b[0m\u001b[38;2;255;255;255;48;2;59;59;55mModuleNotFoundError: No module named 'docx'\u001b[0m\u001b[38;2;255;255;255;48;2;59;59;55m                                                                    \u001b[0m\u001b[38;2;255;255;255;48;2;59;59;55m \u001b[0m\u001b[38;2;255;255;255;48;2;59;59;55m \u001b[0m\n\u001b[38;2;255;255;255;48;2;59;59;55m \u001b[0m\u001b[38;2;255;255;255;48;2;59;59;55m \u001b[0m\u001b[38;2;255;255;255;48;2;59;59;55m                                                                                                               \u001b[0m\u001b[38;2;255;255;255;48;2;59;59;55m \u001b[0m\u001b[38;2;255;255;255;48;2;59;59;55m \u001b[0m\n\u001b[38;2;255;255;255;48;2;59;59;55m \u001b[0m\u001b[38;2;255;255;255;48;2;59;59;55m \u001b[0m\u001b[38;2;255;255;255;48;2;59;59;55m---------------------------------------------------------------------------\u001b[0m\u001b[38;2;255;255;255;48;2;59;59;55m                                    \u001b[0m\u001b[38;2;255;255;255;48;2;59;59;55m \u001b[0m\u001b[38;2;255;255;255;48;2;59;59;55m \u001b[0m\n\u001b[38;2;255;255;255;48;2;59;59;55m \u001b[0m\u001b[38;2;255;255;255;48;2;59;59;55m \u001b[0m\u001b[38;2;255;255;255;48;2;59;59;55mNOTE: If your import is failing due to a missing package, you can\u001b[0m\u001b[38;2;255;255;255;48;2;59;59;55m                                              \u001b[0m\u001b[38;2;255;255;255;48;2;59;59;55m \u001b[0m\u001b[38;2;255;255;255;48;2;59;59;55m \u001b[0m\n\u001b[38;2;255;255;255;48;2;59;59;55m \u001b[0m\u001b[38;2;255;255;255;48;2;59;59;55m \u001b[0m\u001b[38;2;255;255;255;48;2;59;59;55mmanually install dependencies using either !pip or !apt.\u001b[0m\u001b[38;2;255;255;255;48;2;59;59;55m                                                       \u001b[0m\u001b[38;2;255;255;255;48;2;59;59;55m \u001b[0m\u001b[38;2;255;255;255;48;2;59;59;55m \u001b[0m\n\u001b[38;2;255;255;255;48;2;59;59;55m \u001b[0m\u001b[38;2;255;255;255;48;2;59;59;55m \u001b[0m\u001b[38;2;255;255;255;48;2;59;59;55m                                                                                                               \u001b[0m\u001b[38;2;255;255;255;48;2;59;59;55m \u001b[0m\u001b[38;2;255;255;255;48;2;59;59;55m \u001b[0m\n\u001b[38;2;255;255;255;48;2;59;59;55m \u001b[0m\u001b[38;2;255;255;255;48;2;59;59;55m \u001b[0m\u001b[38;2;255;255;255;48;2;59;59;55mTo view examples of installing some common dependencies, click the\u001b[0m\u001b[38;2;255;255;255;48;2;59;59;55m                                             \u001b[0m\u001b[38;2;255;255;255;48;2;59;59;55m \u001b[0m\u001b[38;2;255;255;255;48;2;59;59;55m \u001b[0m\n\u001b[38;2;255;255;255;48;2;59;59;55m \u001b[0m\u001b[38;2;255;255;255;48;2;59;59;55m \u001b[0m\u001b[38;2;255;255;255;48;2;59;59;55m\"Open Examples\" button below.\u001b[0m\u001b[38;2;255;255;255;48;2;59;59;55m                                                                                  \u001b[0m\u001b[38;2;255;255;255;48;2;59;59;55m \u001b[0m\u001b[38;2;255;255;255;48;2;59;59;55m \u001b[0m\n\u001b[38;2;255;255;255;48;2;59;59;55m \u001b[0m\u001b[38;2;255;255;255;48;2;59;59;55m \u001b[0m\u001b[38;2;255;255;255;48;2;59;59;55m---------------------------------------------------------------------------\u001b[0m\u001b[38;2;255;255;255;48;2;59;59;55m                                    \u001b[0m\u001b[38;2;255;255;255;48;2;59;59;55m \u001b[0m\u001b[38;2;255;255;255;48;2;59;59;55m \u001b[0m\n\u001b[38;2;255;255;255;48;2;59;59;55m                                                                                                                   \u001b[0m\n",
                  "text/html": "<pre style=\"white-space:pre;overflow-x:auto;line-height:normal;font-family:Menlo,'DejaVu Sans Mono',consolas,'Courier New',monospace\">\n<span style=\"background-color: #272722\">                                                                                                                   </span>\n<span style=\"background-color: #272722\">  </span><span style=\"color: #ff4689; text-decoration-color: #ff4689; background-color: #272822\">from</span><span style=\"color: #f8f8f2; text-decoration-color: #f8f8f2; background-color: #272822\"> docx </span><span style=\"color: #ff4689; text-decoration-color: #ff4689; background-color: #272822\">import</span><span style=\"color: #f8f8f2; text-decoration-color: #f8f8f2; background-color: #272822\"> Document</span><span style=\"background-color: #272822\">                                                                                      </span><span style=\"background-color: #272722\">  </span>\n<span style=\"background-color: #272722\">  </span><span style=\"color: #ff4689; text-decoration-color: #ff4689; background-color: #272822\">import</span><span style=\"color: #f8f8f2; text-decoration-color: #f8f8f2; background-color: #272822\"> os</span><span style=\"background-color: #272822\">                                                                                                      </span><span style=\"background-color: #272722\">  </span>\n<span style=\"background-color: #272722\">  </span><span style=\"background-color: #272822\">                                                                                                               </span><span style=\"background-color: #272722\">  </span>\n<span style=\"background-color: #272722\">  </span><span style=\"color: #959077; text-decoration-color: #959077; background-color: #272822\"># Define the path</span><span style=\"background-color: #272822\">                                                                                              </span><span style=\"background-color: #272722\">  </span>\n<span style=\"background-color: #272722\">  </span><span style=\"color: #f8f8f2; text-decoration-color: #f8f8f2; background-color: #272822\">folder_path </span><span style=\"color: #ff4689; text-decoration-color: #ff4689; background-color: #272822\">=</span><span style=\"color: #f8f8f2; text-decoration-color: #f8f8f2; background-color: #272822\"> </span><span style=\"color: #e6db74; text-decoration-color: #e6db74; background-color: #272822\">'documents'</span><span style=\"background-color: #272822\">                                                                                      </span><span style=\"background-color: #272722\">  </span>\n<span style=\"background-color: #272722\">  </span><span style=\"background-color: #272822\">                                                                                                               </span><span style=\"background-color: #272722\">  </span>\n<span style=\"background-color: #272722\">  </span><span style=\"color: #959077; text-decoration-color: #959077; background-color: #272822\"># Sentences about machine learning</span><span style=\"background-color: #272822\">                                                                             </span><span style=\"background-color: #272722\">  </span>\n<span style=\"background-color: #272722\">  </span><span style=\"color: #f8f8f2; text-decoration-color: #f8f8f2; background-color: #272822\">sentences </span><span style=\"color: #ff4689; text-decoration-color: #ff4689; background-color: #272822\">=</span><span style=\"color: #f8f8f2; text-decoration-color: #f8f8f2; background-color: #272822\"> [</span><span style=\"background-color: #272822\">                                                                                                  </span><span style=\"background-color: #272722\">  </span>\n<span style=\"background-color: #272722\">  </span><span style=\"color: #f8f8f2; text-decoration-color: #f8f8f2; background-color: #272822\">    </span><span style=\"color: #e6db74; text-decoration-color: #e6db74; background-color: #272822\">\"Machine learning is a field of artificial intelligence.\"</span><span style=\"color: #f8f8f2; text-decoration-color: #f8f8f2; background-color: #272822\">,</span><span style=\"background-color: #272822\">                                                 </span><span style=\"background-color: #272722\">  </span>\n<span style=\"background-color: #272722\">  </span><span style=\"color: #f8f8f2; text-decoration-color: #f8f8f2; background-color: #272822\">    </span><span style=\"color: #e6db74; text-decoration-color: #e6db74; background-color: #272822\">\"It allows computers to learn from data.\"</span><span style=\"color: #f8f8f2; text-decoration-color: #f8f8f2; background-color: #272822\">,</span><span style=\"background-color: #272822\">                                                                 </span><span style=\"background-color: #272722\">  </span>\n<span style=\"background-color: #272722\">  </span><span style=\"color: #f8f8f2; text-decoration-color: #f8f8f2; background-color: #272822\">    </span><span style=\"color: #e6db74; text-decoration-color: #e6db74; background-color: #272822\">\"Machine learning is used in various applications.\"</span><span style=\"color: #f8f8f2; text-decoration-color: #f8f8f2; background-color: #272822\">,</span><span style=\"background-color: #272822\">                                                       </span><span style=\"background-color: #272722\">  </span>\n<span style=\"background-color: #272722\">  </span><span style=\"color: #f8f8f2; text-decoration-color: #f8f8f2; background-color: #272822\">    </span><span style=\"color: #e6db74; text-decoration-color: #e6db74; background-color: #272822\">\"It involves algorithms that improve automatically.\"</span><span style=\"color: #f8f8f2; text-decoration-color: #f8f8f2; background-color: #272822\">,</span><span style=\"background-color: #272822\">                                                      </span><span style=\"background-color: #272722\">  </span>\n<span style=\"background-color: #272722\">  </span><span style=\"color: #f8f8f2; text-decoration-color: #f8f8f2; background-color: #272822\">    </span><span style=\"color: #e6db74; text-decoration-color: #e6db74; background-color: #272822\">\"Deep learning is a subset of machine learning.\"</span><span style=\"background-color: #272822\">                                                           </span><span style=\"background-color: #272722\">  </span>\n<span style=\"background-color: #272722\">  </span><span style=\"color: #f8f8f2; text-decoration-color: #f8f8f2; background-color: #272822\">]</span><span style=\"background-color: #272822\">                                                                                                              </span><span style=\"background-color: #272722\">  </span>\n<span style=\"background-color: #272722\">  </span><span style=\"background-color: #272822\">                                                                                                               </span><span style=\"background-color: #272722\">  </span>\n<span style=\"background-color: #272722\">  </span><span style=\"color: #959077; text-decoration-color: #959077; background-color: #272822\"># Create five .docx files with sentences about machine learning</span><span style=\"background-color: #272822\">                                                </span><span style=\"background-color: #272722\">  </span>\n<span style=\"background-color: #272722\">  </span><span style=\"color: #66d9ef; text-decoration-color: #66d9ef; background-color: #272822\">for</span><span style=\"color: #f8f8f2; text-decoration-color: #f8f8f2; background-color: #272822\"> i </span><span style=\"color: #ff4689; text-decoration-color: #ff4689; background-color: #272822\">in</span><span style=\"color: #f8f8f2; text-decoration-color: #f8f8f2; background-color: #272822\"> range(</span><span style=\"color: #ae81ff; text-decoration-color: #ae81ff; background-color: #272822\">5</span><span style=\"color: #f8f8f2; text-decoration-color: #f8f8f2; background-color: #272822\">):</span><span style=\"background-color: #272822\">                                                                                             </span><span style=\"background-color: #272722\">  </span>\n<span style=\"background-color: #272722\">  </span><span style=\"color: #f8f8f2; text-decoration-color: #f8f8f2; background-color: #272822\">    doc </span><span style=\"color: #ff4689; text-decoration-color: #ff4689; background-color: #272822\">=</span><span style=\"color: #f8f8f2; text-decoration-color: #f8f8f2; background-color: #272822\"> Document()</span><span style=\"background-color: #272822\">                                                                                           </span><span style=\"background-color: #272722\">  </span>\n<span style=\"background-color: #272722\">  </span><span style=\"color: #f8f8f2; text-decoration-color: #f8f8f2; background-color: #272822\">    doc</span><span style=\"color: #ff4689; text-decoration-color: #ff4689; background-color: #272822\">.</span><span style=\"color: #f8f8f2; text-decoration-color: #f8f8f2; background-color: #272822\">add_paragraph(sentences[i])</span><span style=\"background-color: #272822\">                                                                            </span><span style=\"background-color: #272722\">  </span>\n<span style=\"background-color: #272722\">  </span><span style=\"color: #f8f8f2; text-decoration-color: #f8f8f2; background-color: #272822\">    file_path </span><span style=\"color: #ff4689; text-decoration-color: #ff4689; background-color: #272822\">=</span><span style=\"color: #f8f8f2; text-decoration-color: #f8f8f2; background-color: #272822\"> os</span><span style=\"color: #ff4689; text-decoration-color: #ff4689; background-color: #272822\">.</span><span style=\"color: #f8f8f2; text-decoration-color: #f8f8f2; background-color: #272822\">path</span><span style=\"color: #ff4689; text-decoration-color: #ff4689; background-color: #272822\">.</span><span style=\"color: #f8f8f2; text-decoration-color: #f8f8f2; background-color: #272822\">join(folder_path, </span><span style=\"color: #e6db74; text-decoration-color: #e6db74; background-color: #272822\">f'document_{</span><span style=\"color: #f8f8f2; text-decoration-color: #f8f8f2; background-color: #272822\">i</span><span style=\"color: #ff4689; text-decoration-color: #ff4689; background-color: #272822\">+</span><span style=\"color: #ae81ff; text-decoration-color: #ae81ff; background-color: #272822\">1</span><span style=\"color: #e6db74; text-decoration-color: #e6db74; background-color: #272822\">}.docx'</span><span style=\"color: #f8f8f2; text-decoration-color: #f8f8f2; background-color: #272822\">)</span><span style=\"background-color: #272822\">                                              </span><span style=\"background-color: #272722\">  </span>\n<span style=\"background-color: #272722\">  </span><span style=\"color: #f8f8f2; text-decoration-color: #f8f8f2; background-color: #272822\">    doc</span><span style=\"color: #ff4689; text-decoration-color: #ff4689; background-color: #272822\">.</span><span style=\"color: #f8f8f2; text-decoration-color: #f8f8f2; background-color: #272822\">save(file_path)</span><span style=\"background-color: #272822\">                                                                                        </span><span style=\"background-color: #272722\">  </span>\n<span style=\"background-color: #272722\">                                                                                                                   </span>\n<span style=\"color: #ffffff; text-decoration-color: #ffffff; background-color: #3b3b37\">                                                                                                                   </span>\n<span style=\"color: #ffffff; text-decoration-color: #ffffff; background-color: #3b3b37\">  ---------------------------------------------------------------------------                                      </span>\n<span style=\"color: #ffffff; text-decoration-color: #ffffff; background-color: #3b3b37\">  ModuleNotFoundError                       Traceback (most recent call last)                                      </span>\n<span style=\"color: #ffffff; text-decoration-color: #ffffff; background-color: #3b3b37\">  /tmp/ipykernel_725/1981697529.py in &lt;cell line: 2&gt;()                                                             </span>\n<span style=\"color: #ffffff; text-decoration-color: #ffffff; background-color: #3b3b37\">        1 print('##active_line1##')                                                                                </span>\n<span style=\"color: #ffffff; text-decoration-color: #ffffff; background-color: #3b3b37\">  ----&gt; 2 from docx import Document                                                                                </span>\n<span style=\"color: #ffffff; text-decoration-color: #ffffff; background-color: #3b3b37\">        3 print('##active_line2##')                                                                                </span>\n<span style=\"color: #ffffff; text-decoration-color: #ffffff; background-color: #3b3b37\">        4 import os                                                                                                </span>\n<span style=\"color: #ffffff; text-decoration-color: #ffffff; background-color: #3b3b37\">        5 print('##active_line3##')                                                                                </span>\n<span style=\"color: #ffffff; text-decoration-color: #ffffff; background-color: #3b3b37\">                                                                                                                   </span>\n<span style=\"color: #ffffff; text-decoration-color: #ffffff; background-color: #3b3b37\">  ModuleNotFoundError: No module named 'docx'                                                                      </span>\n<span style=\"color: #ffffff; text-decoration-color: #ffffff; background-color: #3b3b37\">                                                                                                                   </span>\n<span style=\"color: #ffffff; text-decoration-color: #ffffff; background-color: #3b3b37\">  ---------------------------------------------------------------------------                                      </span>\n<span style=\"color: #ffffff; text-decoration-color: #ffffff; background-color: #3b3b37\">  NOTE: If your import is failing due to a missing package, you can                                                </span>\n<span style=\"color: #ffffff; text-decoration-color: #ffffff; background-color: #3b3b37\">  manually install dependencies using either !pip or !apt.                                                         </span>\n<span style=\"color: #ffffff; text-decoration-color: #ffffff; background-color: #3b3b37\">                                                                                                                   </span>\n<span style=\"color: #ffffff; text-decoration-color: #ffffff; background-color: #3b3b37\">  To view examples of installing some common dependencies, click the                                               </span>\n<span style=\"color: #ffffff; text-decoration-color: #ffffff; background-color: #3b3b37\">  \"Open Examples\" button below.                                                                                    </span>\n<span style=\"color: #ffffff; text-decoration-color: #ffffff; background-color: #3b3b37\">  ---------------------------------------------------------------------------                                      </span>\n<span style=\"color: #ffffff; text-decoration-color: #ffffff; background-color: #3b3b37\">                                                                                                                   </span>\n</pre>\n"
                },
                "metadata": {}
              }
            ]
          }
        },
        "c9aea95693dd4325a6b47ef62a9a8a83": {
          "model_module": "@jupyter-widgets/base",
          "model_name": "LayoutModel",
          "model_module_version": "1.2.0",
          "state": {
            "_model_module": "@jupyter-widgets/base",
            "_model_module_version": "1.2.0",
            "_model_name": "LayoutModel",
            "_view_count": null,
            "_view_module": "@jupyter-widgets/base",
            "_view_module_version": "1.2.0",
            "_view_name": "LayoutView",
            "align_content": null,
            "align_items": null,
            "align_self": null,
            "border": null,
            "bottom": null,
            "display": null,
            "flex": null,
            "flex_flow": null,
            "grid_area": null,
            "grid_auto_columns": null,
            "grid_auto_flow": null,
            "grid_auto_rows": null,
            "grid_column": null,
            "grid_gap": null,
            "grid_row": null,
            "grid_template_areas": null,
            "grid_template_columns": null,
            "grid_template_rows": null,
            "height": null,
            "justify_content": null,
            "justify_items": null,
            "left": null,
            "margin": null,
            "max_height": null,
            "max_width": null,
            "min_height": null,
            "min_width": null,
            "object_fit": null,
            "object_position": null,
            "order": null,
            "overflow": null,
            "overflow_x": null,
            "overflow_y": null,
            "padding": null,
            "right": null,
            "top": null,
            "visibility": null,
            "width": null
          }
        },
        "f78f5b3b74f647959217b49934d988a3": {
          "model_module": "@jupyter-widgets/output",
          "model_name": "OutputModel",
          "model_module_version": "1.0.0",
          "state": {
            "_dom_classes": [],
            "_model_module": "@jupyter-widgets/output",
            "_model_module_version": "1.0.0",
            "_model_name": "OutputModel",
            "_view_count": null,
            "_view_module": "@jupyter-widgets/output",
            "_view_module_version": "1.0.0",
            "_view_name": "OutputView",
            "layout": "IPY_MODEL_fd8a950992a04f25809448160c2891db",
            "msg_id": "",
            "outputs": [
              {
                "output_type": "display_data",
                "data": {
                  "text/plain": "\n\u001b[48;2;39;39;34m                                                                                                                   \u001b[0m\n\u001b[48;2;39;39;34m \u001b[0m\u001b[48;2;39;39;34m \u001b[0m\u001b[38;2;248;248;242;48;2;39;40;34mpip\u001b[0m\u001b[38;2;248;248;242;48;2;39;40;34m \u001b[0m\u001b[38;2;248;248;242;48;2;39;40;34minstall\u001b[0m\u001b[38;2;248;248;242;48;2;39;40;34m \u001b[0m\u001b[38;2;248;248;242;48;2;39;40;34mpython-docx\u001b[0m\u001b[48;2;39;40;34m                                                                                        \u001b[0m\u001b[48;2;39;39;34m \u001b[0m\u001b[48;2;39;39;34m \u001b[0m\n\u001b[48;2;39;39;34m                                                                                                                   \u001b[0m\n\u001b[38;2;255;255;255;48;2;59;59;55m                                                                                                                   \u001b[0m\n\u001b[38;2;255;255;255;48;2;59;59;55m \u001b[0m\u001b[38;2;255;255;255;48;2;59;59;55m \u001b[0m\u001b[38;2;255;255;255;48;2;59;59;55mCollecting python-docx\u001b[0m\u001b[38;2;255;255;255;48;2;59;59;55m                                                                                         \u001b[0m\u001b[38;2;255;255;255;48;2;59;59;55m \u001b[0m\u001b[38;2;255;255;255;48;2;59;59;55m \u001b[0m\n\u001b[38;2;255;255;255;48;2;59;59;55m \u001b[0m\u001b[38;2;255;255;255;48;2;59;59;55m \u001b[0m\u001b[38;2;255;255;255;48;2;59;59;55m  Downloading python_docx-1.1.2-py3-none-any.whl.metadata (2.0 kB)\u001b[0m\u001b[38;2;255;255;255;48;2;59;59;55m                                             \u001b[0m\u001b[38;2;255;255;255;48;2;59;59;55m \u001b[0m\u001b[38;2;255;255;255;48;2;59;59;55m \u001b[0m\n\u001b[38;2;255;255;255;48;2;59;59;55m \u001b[0m\u001b[38;2;255;255;255;48;2;59;59;55m \u001b[0m\u001b[38;2;255;255;255;48;2;59;59;55mRequirement already satisfied: lxml>=3.1.0 in /usr/local/lib/python3.10/dist-packages (from python-docx) \u001b[0m\u001b[38;2;255;255;255;48;2;59;59;55m      \u001b[0m\u001b[38;2;255;255;255;48;2;59;59;55m \u001b[0m\u001b[38;2;255;255;255;48;2;59;59;55m \u001b[0m\n\u001b[38;2;255;255;255;48;2;59;59;55m \u001b[0m\u001b[38;2;255;255;255;48;2;59;59;55m \u001b[0m\u001b[38;2;255;255;255;48;2;59;59;55m(5.3.0)\u001b[0m\u001b[38;2;255;255;255;48;2;59;59;55m                                                                                                        \u001b[0m\u001b[38;2;255;255;255;48;2;59;59;55m \u001b[0m\u001b[38;2;255;255;255;48;2;59;59;55m \u001b[0m\n\u001b[38;2;255;255;255;48;2;59;59;55m \u001b[0m\u001b[38;2;255;255;255;48;2;59;59;55m \u001b[0m\u001b[38;2;255;255;255;48;2;59;59;55mRequirement already satisfied: typing-extensions>=4.9.0 in /usr/local/lib/python3.10/dist-packages (from \u001b[0m\u001b[38;2;255;255;255;48;2;59;59;55m      \u001b[0m\u001b[38;2;255;255;255;48;2;59;59;55m \u001b[0m\u001b[38;2;255;255;255;48;2;59;59;55m \u001b[0m\n\u001b[38;2;255;255;255;48;2;59;59;55m \u001b[0m\u001b[38;2;255;255;255;48;2;59;59;55m \u001b[0m\u001b[38;2;255;255;255;48;2;59;59;55mpython-docx) (4.12.2)\u001b[0m\u001b[38;2;255;255;255;48;2;59;59;55m                                                                                          \u001b[0m\u001b[38;2;255;255;255;48;2;59;59;55m \u001b[0m\u001b[38;2;255;255;255;48;2;59;59;55m \u001b[0m\n\u001b[38;2;255;255;255;48;2;59;59;55m \u001b[0m\u001b[38;2;255;255;255;48;2;59;59;55m \u001b[0m\u001b[38;2;255;255;255;48;2;59;59;55mDownloading python_docx-1.1.2-py3-none-any.whl (244 kB)\u001b[0m\u001b[38;2;255;255;255;48;2;59;59;55m                                                        \u001b[0m\u001b[38;2;255;255;255;48;2;59;59;55m \u001b[0m\u001b[38;2;255;255;255;48;2;59;59;55m \u001b[0m\n\u001b[38;2;255;255;255;48;2;59;59;55m \u001b[0m\u001b[38;2;255;255;255;48;2;59;59;55m \u001b[0m\u001b[38;2;255;255;255;48;2;59;59;55m\u001b[?25l   \u001b[90m━━━━━━━━━━━━━━━━━━━━━━━━━━━━━━━━━━━━━━━━\u001b[0m \u001b[32m0.0/244.3 kB\u001b[0m \u001b[31m?\u001b[0m eta \u001b[36m-:--:--\u001b[0m\u001b[0m\u001b[38;2;255;255;255;48;2;59;59;55m        \u001b[0m\u001b[38;2;255;255;255;48;2;59;59;55m \u001b[0m\u001b[38;2;255;255;255;48;2;59;59;55m \u001b[0m\n\u001b[38;2;255;255;255;48;2;59;59;55m \u001b[0m\u001b[38;2;255;255;255;48;2;59;59;55m \u001b[0m\u001b[38;2;255;255;255;48;2;59;59;55m\u001b[2K   \u001b[91m━━━━━━━━━━━━━━━━━━━━\u001b[0m\u001b[90m╺\u001b[0m\u001b[90m━━━━━━━━━━━━━━━━━━━\u001b[0m \u001b[32m122.9/244.3 kB\u001b[0m \u001b[31m3.6 MB/s\u001b[0m eta\u001b[0m\u001b[38;2;255;255;255;48;2;59;59;55m  \u001b[0m\u001b[38;2;255;255;255;48;2;59;59;55m \u001b[0m\u001b[38;2;255;255;255;48;2;59;59;55m \u001b[0m\n\u001b[38;2;255;255;255;48;2;59;59;55m \u001b[0m\u001b[38;2;255;255;255;48;2;59;59;55m \u001b[0m\u001b[38;2;255;255;255;48;2;59;59;55m\u001b[36m0:00:01\u001b[0m\u001b[0m\u001b[38;2;255;255;255;48;2;59;59;55m                                                                                                 \u001b[0m\u001b[38;2;255;255;255;48;2;59;59;55m \u001b[0m\u001b[38;2;255;255;255;48;2;59;59;55m \u001b[0m\n\u001b[38;2;255;255;255;48;2;59;59;55m \u001b[0m\u001b[38;2;255;255;255;48;2;59;59;55m \u001b[0m\u001b[38;2;255;255;255;48;2;59;59;55m\u001b[2K   \u001b[90m━━━━━━━━━━━━━━━━━━━━━━━━━━━━━━━━━━━━━━━━\u001b[0m \u001b[32m244.3/244.3 kB\u001b[0m \u001b[31m3.8 MB/s\u001b[0m eta \u001b[36m0:00:00\u001b[0m\u001b[0m\u001b[38;2;255;255;255;48;2;59;59;55m \u001b[0m\u001b[38;2;255;255;255;48;2;59;59;55m \u001b[0m\u001b[38;2;255;255;255;48;2;59;59;55m \u001b[0m\n\u001b[38;2;255;255;255;48;2;59;59;55m \u001b[0m\u001b[38;2;255;255;255;48;2;59;59;55m \u001b[0m\u001b[38;2;255;255;255;48;2;59;59;55m\u001b[?25hInstalling collected packages: python-docx\u001b[0m\u001b[38;2;255;255;255;48;2;59;59;55m                                                                \u001b[0m\u001b[38;2;255;255;255;48;2;59;59;55m \u001b[0m\u001b[38;2;255;255;255;48;2;59;59;55m \u001b[0m\n\u001b[38;2;255;255;255;48;2;59;59;55m \u001b[0m\u001b[38;2;255;255;255;48;2;59;59;55m \u001b[0m\u001b[38;2;255;255;255;48;2;59;59;55mSuccessfully installed python-docx-1.1.2\u001b[0m\u001b[38;2;255;255;255;48;2;59;59;55m                                                                       \u001b[0m\u001b[38;2;255;255;255;48;2;59;59;55m \u001b[0m\u001b[38;2;255;255;255;48;2;59;59;55m \u001b[0m\n\u001b[38;2;255;255;255;48;2;59;59;55m                                                                                                                   \u001b[0m\n",
                  "text/html": "<pre style=\"white-space:pre;overflow-x:auto;line-height:normal;font-family:Menlo,'DejaVu Sans Mono',consolas,'Courier New',monospace\">\n<span style=\"background-color: #272722\">                                                                                                                   </span>\n<span style=\"background-color: #272722\">  </span><span style=\"color: #f8f8f2; text-decoration-color: #f8f8f2; background-color: #272822\">pip install python-docx</span><span style=\"background-color: #272822\">                                                                                        </span><span style=\"background-color: #272722\">  </span>\n<span style=\"background-color: #272722\">                                                                                                                   </span>\n<span style=\"color: #ffffff; text-decoration-color: #ffffff; background-color: #3b3b37\">                                                                                                                   </span>\n<span style=\"color: #ffffff; text-decoration-color: #ffffff; background-color: #3b3b37\">  Collecting python-docx                                                                                           </span>\n<span style=\"color: #ffffff; text-decoration-color: #ffffff; background-color: #3b3b37\">    Downloading python_docx-1.1.2-py3-none-any.whl.metadata (2.0 kB)                                               </span>\n<span style=\"color: #ffffff; text-decoration-color: #ffffff; background-color: #3b3b37\">  Requirement already satisfied: lxml&gt;=3.1.0 in /usr/local/lib/python3.10/dist-packages (from python-docx)         </span>\n<span style=\"color: #ffffff; text-decoration-color: #ffffff; background-color: #3b3b37\">  (5.3.0)                                                                                                          </span>\n<span style=\"color: #ffffff; text-decoration-color: #ffffff; background-color: #3b3b37\">  Requirement already satisfied: typing-extensions&gt;=4.9.0 in /usr/local/lib/python3.10/dist-packages (from         </span>\n<span style=\"color: #ffffff; text-decoration-color: #ffffff; background-color: #3b3b37\">  python-docx) (4.12.2)                                                                                            </span>\n<span style=\"color: #ffffff; text-decoration-color: #ffffff; background-color: #3b3b37\">  Downloading python_docx-1.1.2-py3-none-any.whl (244 kB)                                                          </span>\n<span style=\"color: #ffffff; text-decoration-color: #ffffff; background-color: #3b3b37\">  \u001b[?25l   \u001b[90m━━━━━━━━━━━━━━━━━━━━━━━━━━━━━━━━━━━━━━━━\u001b[0m \u001b[32m0.0/244.3 kB\u001b[0m \u001b[31m?\u001b[0m eta \u001b[36m-:--:--\u001b[0m          </span>\n<span style=\"color: #ffffff; text-decoration-color: #ffffff; background-color: #3b3b37\">  \u001b[2K   \u001b[91m━━━━━━━━━━━━━━━━━━━━\u001b[0m\u001b[90m╺\u001b[0m\u001b[90m━━━━━━━━━━━━━━━━━━━\u001b[0m \u001b[32m122.9/244.3 kB\u001b[0m \u001b[31m3.6 MB/s\u001b[0m eta    </span>\n<span style=\"color: #ffffff; text-decoration-color: #ffffff; background-color: #3b3b37\">  \u001b[36m0:00:01\u001b[0m                                                                                                   </span>\n<span style=\"color: #ffffff; text-decoration-color: #ffffff; background-color: #3b3b37\">  \u001b[2K   \u001b[90m━━━━━━━━━━━━━━━━━━━━━━━━━━━━━━━━━━━━━━━━\u001b[0m \u001b[32m244.3/244.3 kB\u001b[0m \u001b[31m3.8 MB/s\u001b[0m eta \u001b[36m0:00:00\u001b[0m   </span>\n<span style=\"color: #ffffff; text-decoration-color: #ffffff; background-color: #3b3b37\">  \u001b[?25hInstalling collected packages: python-docx                                                                  </span>\n<span style=\"color: #ffffff; text-decoration-color: #ffffff; background-color: #3b3b37\">  Successfully installed python-docx-1.1.2                                                                         </span>\n<span style=\"color: #ffffff; text-decoration-color: #ffffff; background-color: #3b3b37\">                                                                                                                   </span>\n</pre>\n"
                },
                "metadata": {}
              }
            ]
          }
        },
        "fd8a950992a04f25809448160c2891db": {
          "model_module": "@jupyter-widgets/base",
          "model_name": "LayoutModel",
          "model_module_version": "1.2.0",
          "state": {
            "_model_module": "@jupyter-widgets/base",
            "_model_module_version": "1.2.0",
            "_model_name": "LayoutModel",
            "_view_count": null,
            "_view_module": "@jupyter-widgets/base",
            "_view_module_version": "1.2.0",
            "_view_name": "LayoutView",
            "align_content": null,
            "align_items": null,
            "align_self": null,
            "border": null,
            "bottom": null,
            "display": null,
            "flex": null,
            "flex_flow": null,
            "grid_area": null,
            "grid_auto_columns": null,
            "grid_auto_flow": null,
            "grid_auto_rows": null,
            "grid_column": null,
            "grid_gap": null,
            "grid_row": null,
            "grid_template_areas": null,
            "grid_template_columns": null,
            "grid_template_rows": null,
            "height": null,
            "justify_content": null,
            "justify_items": null,
            "left": null,
            "margin": null,
            "max_height": null,
            "max_width": null,
            "min_height": null,
            "min_width": null,
            "object_fit": null,
            "object_position": null,
            "order": null,
            "overflow": null,
            "overflow_x": null,
            "overflow_y": null,
            "padding": null,
            "right": null,
            "top": null,
            "visibility": null,
            "width": null
          }
        },
        "75f3b38a58a14f29af6e55e7ebc1ba0b": {
          "model_module": "@jupyter-widgets/output",
          "model_name": "OutputModel",
          "model_module_version": "1.0.0",
          "state": {
            "_dom_classes": [],
            "_model_module": "@jupyter-widgets/output",
            "_model_module_version": "1.0.0",
            "_model_name": "OutputModel",
            "_view_count": null,
            "_view_module": "@jupyter-widgets/output",
            "_view_module_version": "1.0.0",
            "_view_name": "OutputView",
            "layout": "IPY_MODEL_d8a125c8149342a78da8db1609271dcc",
            "msg_id": "",
            "outputs": [
              {
                "output_type": "display_data",
                "data": {
                  "text/plain": "\n\u001b[48;2;39;39;34m                                                                                                                   \u001b[0m\n\u001b[48;2;39;39;34m \u001b[0m\u001b[48;2;39;39;34m \u001b[0m\u001b[38;2;255;70;137;48;2;39;40;34mfrom\u001b[0m\u001b[38;2;248;248;242;48;2;39;40;34m \u001b[0m\u001b[38;2;248;248;242;48;2;39;40;34mdocx\u001b[0m\u001b[38;2;248;248;242;48;2;39;40;34m \u001b[0m\u001b[38;2;255;70;137;48;2;39;40;34mimport\u001b[0m\u001b[38;2;248;248;242;48;2;39;40;34m \u001b[0m\u001b[38;2;248;248;242;48;2;39;40;34mDocument\u001b[0m\u001b[48;2;39;40;34m                                                                                      \u001b[0m\u001b[48;2;39;39;34m \u001b[0m\u001b[48;2;39;39;34m \u001b[0m\n\u001b[48;2;39;39;34m \u001b[0m\u001b[48;2;39;39;34m \u001b[0m\u001b[38;2;255;70;137;48;2;39;40;34mimport\u001b[0m\u001b[38;2;248;248;242;48;2;39;40;34m \u001b[0m\u001b[38;2;248;248;242;48;2;39;40;34mos\u001b[0m\u001b[48;2;39;40;34m                                                                                                      \u001b[0m\u001b[48;2;39;39;34m \u001b[0m\u001b[48;2;39;39;34m \u001b[0m\n\u001b[48;2;39;39;34m \u001b[0m\u001b[48;2;39;39;34m \u001b[0m\u001b[48;2;39;40;34m                                                                                                               \u001b[0m\u001b[48;2;39;39;34m \u001b[0m\u001b[48;2;39;39;34m \u001b[0m\n\u001b[48;2;39;39;34m \u001b[0m\u001b[48;2;39;39;34m \u001b[0m\u001b[38;2;149;144;119;48;2;39;40;34m# Define the path\u001b[0m\u001b[48;2;39;40;34m                                                                                              \u001b[0m\u001b[48;2;39;39;34m \u001b[0m\u001b[48;2;39;39;34m \u001b[0m\n\u001b[48;2;39;39;34m \u001b[0m\u001b[48;2;39;39;34m \u001b[0m\u001b[38;2;248;248;242;48;2;39;40;34mfolder_path\u001b[0m\u001b[38;2;248;248;242;48;2;39;40;34m \u001b[0m\u001b[38;2;255;70;137;48;2;39;40;34m=\u001b[0m\u001b[38;2;248;248;242;48;2;39;40;34m \u001b[0m\u001b[38;2;230;219;116;48;2;39;40;34m'\u001b[0m\u001b[38;2;230;219;116;48;2;39;40;34mdocuments\u001b[0m\u001b[38;2;230;219;116;48;2;39;40;34m'\u001b[0m\u001b[48;2;39;40;34m                                                                                      \u001b[0m\u001b[48;2;39;39;34m \u001b[0m\u001b[48;2;39;39;34m \u001b[0m\n\u001b[48;2;39;39;34m \u001b[0m\u001b[48;2;39;39;34m \u001b[0m\u001b[48;2;39;40;34m                                                                                                               \u001b[0m\u001b[48;2;39;39;34m \u001b[0m\u001b[48;2;39;39;34m \u001b[0m\n\u001b[48;2;39;39;34m \u001b[0m\u001b[48;2;39;39;34m \u001b[0m\u001b[38;2;149;144;119;48;2;39;40;34m# Sentences about machine learning\u001b[0m\u001b[48;2;39;40;34m                                                                             \u001b[0m\u001b[48;2;39;39;34m \u001b[0m\u001b[48;2;39;39;34m \u001b[0m\n\u001b[48;2;39;39;34m \u001b[0m\u001b[48;2;39;39;34m \u001b[0m\u001b[38;2;248;248;242;48;2;39;40;34msentences\u001b[0m\u001b[38;2;248;248;242;48;2;39;40;34m \u001b[0m\u001b[38;2;255;70;137;48;2;39;40;34m=\u001b[0m\u001b[38;2;248;248;242;48;2;39;40;34m \u001b[0m\u001b[38;2;248;248;242;48;2;39;40;34m[\u001b[0m\u001b[48;2;39;40;34m                                                                                                  \u001b[0m\u001b[48;2;39;39;34m \u001b[0m\u001b[48;2;39;39;34m \u001b[0m\n\u001b[48;2;39;39;34m \u001b[0m\u001b[48;2;39;39;34m \u001b[0m\u001b[38;2;248;248;242;48;2;39;40;34m    \u001b[0m\u001b[38;2;230;219;116;48;2;39;40;34m\"\u001b[0m\u001b[38;2;230;219;116;48;2;39;40;34mMachine learning is a field of artificial intelligence.\u001b[0m\u001b[38;2;230;219;116;48;2;39;40;34m\"\u001b[0m\u001b[38;2;248;248;242;48;2;39;40;34m,\u001b[0m\u001b[48;2;39;40;34m                                                 \u001b[0m\u001b[48;2;39;39;34m \u001b[0m\u001b[48;2;39;39;34m \u001b[0m\n\u001b[48;2;39;39;34m \u001b[0m\u001b[48;2;39;39;34m \u001b[0m\u001b[38;2;248;248;242;48;2;39;40;34m    \u001b[0m\u001b[38;2;230;219;116;48;2;39;40;34m\"\u001b[0m\u001b[38;2;230;219;116;48;2;39;40;34mIt allows computers to learn from data.\u001b[0m\u001b[38;2;230;219;116;48;2;39;40;34m\"\u001b[0m\u001b[38;2;248;248;242;48;2;39;40;34m,\u001b[0m\u001b[48;2;39;40;34m                                                                 \u001b[0m\u001b[48;2;39;39;34m \u001b[0m\u001b[48;2;39;39;34m \u001b[0m\n\u001b[48;2;39;39;34m \u001b[0m\u001b[48;2;39;39;34m \u001b[0m\u001b[38;2;248;248;242;48;2;39;40;34m    \u001b[0m\u001b[38;2;230;219;116;48;2;39;40;34m\"\u001b[0m\u001b[38;2;230;219;116;48;2;39;40;34mMachine learning is used in various applications.\u001b[0m\u001b[38;2;230;219;116;48;2;39;40;34m\"\u001b[0m\u001b[38;2;248;248;242;48;2;39;40;34m,\u001b[0m\u001b[48;2;39;40;34m                                                       \u001b[0m\u001b[48;2;39;39;34m \u001b[0m\u001b[48;2;39;39;34m \u001b[0m\n\u001b[48;2;39;39;34m \u001b[0m\u001b[48;2;39;39;34m \u001b[0m\u001b[38;2;248;248;242;48;2;39;40;34m    \u001b[0m\u001b[38;2;230;219;116;48;2;39;40;34m\"\u001b[0m\u001b[38;2;230;219;116;48;2;39;40;34mIt involves algorithms that improve automatically.\u001b[0m\u001b[38;2;230;219;116;48;2;39;40;34m\"\u001b[0m\u001b[38;2;248;248;242;48;2;39;40;34m,\u001b[0m\u001b[48;2;39;40;34m                                                      \u001b[0m\u001b[48;2;39;39;34m \u001b[0m\u001b[48;2;39;39;34m \u001b[0m\n\u001b[48;2;39;39;34m \u001b[0m\u001b[48;2;39;39;34m \u001b[0m\u001b[38;2;248;248;242;48;2;39;40;34m    \u001b[0m\u001b[38;2;230;219;116;48;2;39;40;34m\"\u001b[0m\u001b[38;2;230;219;116;48;2;39;40;34mDeep learning is a subset of machine learning.\u001b[0m\u001b[38;2;230;219;116;48;2;39;40;34m\"\u001b[0m\u001b[48;2;39;40;34m                                                           \u001b[0m\u001b[48;2;39;39;34m \u001b[0m\u001b[48;2;39;39;34m \u001b[0m\n\u001b[48;2;39;39;34m \u001b[0m\u001b[48;2;39;39;34m \u001b[0m\u001b[38;2;248;248;242;48;2;39;40;34m]\u001b[0m\u001b[48;2;39;40;34m                                                                                                              \u001b[0m\u001b[48;2;39;39;34m \u001b[0m\u001b[48;2;39;39;34m \u001b[0m\n\u001b[48;2;39;39;34m \u001b[0m\u001b[48;2;39;39;34m \u001b[0m\u001b[48;2;39;40;34m                                                                                                               \u001b[0m\u001b[48;2;39;39;34m \u001b[0m\u001b[48;2;39;39;34m \u001b[0m\n\u001b[48;2;39;39;34m \u001b[0m\u001b[48;2;39;39;34m \u001b[0m\u001b[38;2;149;144;119;48;2;39;40;34m# Create five .docx files with sentences about machine learning\u001b[0m\u001b[48;2;39;40;34m                                                \u001b[0m\u001b[48;2;39;39;34m \u001b[0m\u001b[48;2;39;39;34m \u001b[0m\n\u001b[48;2;39;39;34m \u001b[0m\u001b[48;2;39;39;34m \u001b[0m\u001b[38;2;102;217;239;48;2;39;40;34mfor\u001b[0m\u001b[38;2;248;248;242;48;2;39;40;34m \u001b[0m\u001b[38;2;248;248;242;48;2;39;40;34mi\u001b[0m\u001b[38;2;248;248;242;48;2;39;40;34m \u001b[0m\u001b[38;2;255;70;137;48;2;39;40;34min\u001b[0m\u001b[38;2;248;248;242;48;2;39;40;34m \u001b[0m\u001b[38;2;248;248;242;48;2;39;40;34mrange\u001b[0m\u001b[38;2;248;248;242;48;2;39;40;34m(\u001b[0m\u001b[38;2;174;129;255;48;2;39;40;34m5\u001b[0m\u001b[38;2;248;248;242;48;2;39;40;34m)\u001b[0m\u001b[38;2;248;248;242;48;2;39;40;34m:\u001b[0m\u001b[48;2;39;40;34m                                                                                             \u001b[0m\u001b[48;2;39;39;34m \u001b[0m\u001b[48;2;39;39;34m \u001b[0m\n\u001b[48;2;39;39;34m \u001b[0m\u001b[48;2;39;39;34m \u001b[0m\u001b[38;2;248;248;242;48;2;39;40;34m    \u001b[0m\u001b[38;2;248;248;242;48;2;39;40;34mdoc\u001b[0m\u001b[38;2;248;248;242;48;2;39;40;34m \u001b[0m\u001b[38;2;255;70;137;48;2;39;40;34m=\u001b[0m\u001b[38;2;248;248;242;48;2;39;40;34m \u001b[0m\u001b[38;2;248;248;242;48;2;39;40;34mDocument\u001b[0m\u001b[38;2;248;248;242;48;2;39;40;34m(\u001b[0m\u001b[38;2;248;248;242;48;2;39;40;34m)\u001b[0m\u001b[48;2;39;40;34m                                                                                           \u001b[0m\u001b[48;2;39;39;34m \u001b[0m\u001b[48;2;39;39;34m \u001b[0m\n\u001b[48;2;39;39;34m \u001b[0m\u001b[48;2;39;39;34m \u001b[0m\u001b[38;2;248;248;242;48;2;39;40;34m    \u001b[0m\u001b[38;2;248;248;242;48;2;39;40;34mdoc\u001b[0m\u001b[38;2;255;70;137;48;2;39;40;34m.\u001b[0m\u001b[38;2;248;248;242;48;2;39;40;34madd_paragraph\u001b[0m\u001b[38;2;248;248;242;48;2;39;40;34m(\u001b[0m\u001b[38;2;248;248;242;48;2;39;40;34msentences\u001b[0m\u001b[38;2;248;248;242;48;2;39;40;34m[\u001b[0m\u001b[38;2;248;248;242;48;2;39;40;34mi\u001b[0m\u001b[38;2;248;248;242;48;2;39;40;34m]\u001b[0m\u001b[38;2;248;248;242;48;2;39;40;34m)\u001b[0m\u001b[48;2;39;40;34m                                                                            \u001b[0m\u001b[48;2;39;39;34m \u001b[0m\u001b[48;2;39;39;34m \u001b[0m\n\u001b[48;2;39;39;34m \u001b[0m\u001b[48;2;39;39;34m \u001b[0m\u001b[38;2;248;248;242;48;2;39;40;34m    \u001b[0m\u001b[38;2;248;248;242;48;2;39;40;34mfile_path\u001b[0m\u001b[38;2;248;248;242;48;2;39;40;34m \u001b[0m\u001b[38;2;255;70;137;48;2;39;40;34m=\u001b[0m\u001b[38;2;248;248;242;48;2;39;40;34m \u001b[0m\u001b[38;2;248;248;242;48;2;39;40;34mos\u001b[0m\u001b[38;2;255;70;137;48;2;39;40;34m.\u001b[0m\u001b[38;2;248;248;242;48;2;39;40;34mpath\u001b[0m\u001b[38;2;255;70;137;48;2;39;40;34m.\u001b[0m\u001b[38;2;248;248;242;48;2;39;40;34mjoin\u001b[0m\u001b[38;2;248;248;242;48;2;39;40;34m(\u001b[0m\u001b[38;2;248;248;242;48;2;39;40;34mfolder_path\u001b[0m\u001b[38;2;248;248;242;48;2;39;40;34m,\u001b[0m\u001b[38;2;248;248;242;48;2;39;40;34m \u001b[0m\u001b[38;2;230;219;116;48;2;39;40;34mf\u001b[0m\u001b[38;2;230;219;116;48;2;39;40;34m'\u001b[0m\u001b[38;2;230;219;116;48;2;39;40;34mdocument_\u001b[0m\u001b[38;2;230;219;116;48;2;39;40;34m{\u001b[0m\u001b[38;2;248;248;242;48;2;39;40;34mi\u001b[0m\u001b[38;2;255;70;137;48;2;39;40;34m+\u001b[0m\u001b[38;2;174;129;255;48;2;39;40;34m1\u001b[0m\u001b[38;2;230;219;116;48;2;39;40;34m}\u001b[0m\u001b[38;2;230;219;116;48;2;39;40;34m.docx\u001b[0m\u001b[38;2;230;219;116;48;2;39;40;34m'\u001b[0m\u001b[38;2;248;248;242;48;2;39;40;34m)\u001b[0m\u001b[48;2;39;40;34m                                              \u001b[0m\u001b[48;2;39;39;34m \u001b[0m\u001b[48;2;39;39;34m \u001b[0m\n\u001b[48;2;39;39;34m \u001b[0m\u001b[48;2;39;39;34m \u001b[0m\u001b[38;2;248;248;242;48;2;39;40;34m    \u001b[0m\u001b[38;2;248;248;242;48;2;39;40;34mdoc\u001b[0m\u001b[38;2;255;70;137;48;2;39;40;34m.\u001b[0m\u001b[38;2;248;248;242;48;2;39;40;34msave\u001b[0m\u001b[38;2;248;248;242;48;2;39;40;34m(\u001b[0m\u001b[38;2;248;248;242;48;2;39;40;34mfile_path\u001b[0m\u001b[38;2;248;248;242;48;2;39;40;34m)\u001b[0m\u001b[48;2;39;40;34m                                                                                        \u001b[0m\u001b[48;2;39;39;34m \u001b[0m\u001b[48;2;39;39;34m \u001b[0m\n\u001b[48;2;39;39;34m                                                                                                                   \u001b[0m\n\n",
                  "text/html": "<pre style=\"white-space:pre;overflow-x:auto;line-height:normal;font-family:Menlo,'DejaVu Sans Mono',consolas,'Courier New',monospace\">\n<span style=\"background-color: #272722\">                                                                                                                   </span>\n<span style=\"background-color: #272722\">  </span><span style=\"color: #ff4689; text-decoration-color: #ff4689; background-color: #272822\">from</span><span style=\"color: #f8f8f2; text-decoration-color: #f8f8f2; background-color: #272822\"> docx </span><span style=\"color: #ff4689; text-decoration-color: #ff4689; background-color: #272822\">import</span><span style=\"color: #f8f8f2; text-decoration-color: #f8f8f2; background-color: #272822\"> Document</span><span style=\"background-color: #272822\">                                                                                      </span><span style=\"background-color: #272722\">  </span>\n<span style=\"background-color: #272722\">  </span><span style=\"color: #ff4689; text-decoration-color: #ff4689; background-color: #272822\">import</span><span style=\"color: #f8f8f2; text-decoration-color: #f8f8f2; background-color: #272822\"> os</span><span style=\"background-color: #272822\">                                                                                                      </span><span style=\"background-color: #272722\">  </span>\n<span style=\"background-color: #272722\">  </span><span style=\"background-color: #272822\">                                                                                                               </span><span style=\"background-color: #272722\">  </span>\n<span style=\"background-color: #272722\">  </span><span style=\"color: #959077; text-decoration-color: #959077; background-color: #272822\"># Define the path</span><span style=\"background-color: #272822\">                                                                                              </span><span style=\"background-color: #272722\">  </span>\n<span style=\"background-color: #272722\">  </span><span style=\"color: #f8f8f2; text-decoration-color: #f8f8f2; background-color: #272822\">folder_path </span><span style=\"color: #ff4689; text-decoration-color: #ff4689; background-color: #272822\">=</span><span style=\"color: #f8f8f2; text-decoration-color: #f8f8f2; background-color: #272822\"> </span><span style=\"color: #e6db74; text-decoration-color: #e6db74; background-color: #272822\">'documents'</span><span style=\"background-color: #272822\">                                                                                      </span><span style=\"background-color: #272722\">  </span>\n<span style=\"background-color: #272722\">  </span><span style=\"background-color: #272822\">                                                                                                               </span><span style=\"background-color: #272722\">  </span>\n<span style=\"background-color: #272722\">  </span><span style=\"color: #959077; text-decoration-color: #959077; background-color: #272822\"># Sentences about machine learning</span><span style=\"background-color: #272822\">                                                                             </span><span style=\"background-color: #272722\">  </span>\n<span style=\"background-color: #272722\">  </span><span style=\"color: #f8f8f2; text-decoration-color: #f8f8f2; background-color: #272822\">sentences </span><span style=\"color: #ff4689; text-decoration-color: #ff4689; background-color: #272822\">=</span><span style=\"color: #f8f8f2; text-decoration-color: #f8f8f2; background-color: #272822\"> [</span><span style=\"background-color: #272822\">                                                                                                  </span><span style=\"background-color: #272722\">  </span>\n<span style=\"background-color: #272722\">  </span><span style=\"color: #f8f8f2; text-decoration-color: #f8f8f2; background-color: #272822\">    </span><span style=\"color: #e6db74; text-decoration-color: #e6db74; background-color: #272822\">\"Machine learning is a field of artificial intelligence.\"</span><span style=\"color: #f8f8f2; text-decoration-color: #f8f8f2; background-color: #272822\">,</span><span style=\"background-color: #272822\">                                                 </span><span style=\"background-color: #272722\">  </span>\n<span style=\"background-color: #272722\">  </span><span style=\"color: #f8f8f2; text-decoration-color: #f8f8f2; background-color: #272822\">    </span><span style=\"color: #e6db74; text-decoration-color: #e6db74; background-color: #272822\">\"It allows computers to learn from data.\"</span><span style=\"color: #f8f8f2; text-decoration-color: #f8f8f2; background-color: #272822\">,</span><span style=\"background-color: #272822\">                                                                 </span><span style=\"background-color: #272722\">  </span>\n<span style=\"background-color: #272722\">  </span><span style=\"color: #f8f8f2; text-decoration-color: #f8f8f2; background-color: #272822\">    </span><span style=\"color: #e6db74; text-decoration-color: #e6db74; background-color: #272822\">\"Machine learning is used in various applications.\"</span><span style=\"color: #f8f8f2; text-decoration-color: #f8f8f2; background-color: #272822\">,</span><span style=\"background-color: #272822\">                                                       </span><span style=\"background-color: #272722\">  </span>\n<span style=\"background-color: #272722\">  </span><span style=\"color: #f8f8f2; text-decoration-color: #f8f8f2; background-color: #272822\">    </span><span style=\"color: #e6db74; text-decoration-color: #e6db74; background-color: #272822\">\"It involves algorithms that improve automatically.\"</span><span style=\"color: #f8f8f2; text-decoration-color: #f8f8f2; background-color: #272822\">,</span><span style=\"background-color: #272822\">                                                      </span><span style=\"background-color: #272722\">  </span>\n<span style=\"background-color: #272722\">  </span><span style=\"color: #f8f8f2; text-decoration-color: #f8f8f2; background-color: #272822\">    </span><span style=\"color: #e6db74; text-decoration-color: #e6db74; background-color: #272822\">\"Deep learning is a subset of machine learning.\"</span><span style=\"background-color: #272822\">                                                           </span><span style=\"background-color: #272722\">  </span>\n<span style=\"background-color: #272722\">  </span><span style=\"color: #f8f8f2; text-decoration-color: #f8f8f2; background-color: #272822\">]</span><span style=\"background-color: #272822\">                                                                                                              </span><span style=\"background-color: #272722\">  </span>\n<span style=\"background-color: #272722\">  </span><span style=\"background-color: #272822\">                                                                                                               </span><span style=\"background-color: #272722\">  </span>\n<span style=\"background-color: #272722\">  </span><span style=\"color: #959077; text-decoration-color: #959077; background-color: #272822\"># Create five .docx files with sentences about machine learning</span><span style=\"background-color: #272822\">                                                </span><span style=\"background-color: #272722\">  </span>\n<span style=\"background-color: #272722\">  </span><span style=\"color: #66d9ef; text-decoration-color: #66d9ef; background-color: #272822\">for</span><span style=\"color: #f8f8f2; text-decoration-color: #f8f8f2; background-color: #272822\"> i </span><span style=\"color: #ff4689; text-decoration-color: #ff4689; background-color: #272822\">in</span><span style=\"color: #f8f8f2; text-decoration-color: #f8f8f2; background-color: #272822\"> range(</span><span style=\"color: #ae81ff; text-decoration-color: #ae81ff; background-color: #272822\">5</span><span style=\"color: #f8f8f2; text-decoration-color: #f8f8f2; background-color: #272822\">):</span><span style=\"background-color: #272822\">                                                                                             </span><span style=\"background-color: #272722\">  </span>\n<span style=\"background-color: #272722\">  </span><span style=\"color: #f8f8f2; text-decoration-color: #f8f8f2; background-color: #272822\">    doc </span><span style=\"color: #ff4689; text-decoration-color: #ff4689; background-color: #272822\">=</span><span style=\"color: #f8f8f2; text-decoration-color: #f8f8f2; background-color: #272822\"> Document()</span><span style=\"background-color: #272822\">                                                                                           </span><span style=\"background-color: #272722\">  </span>\n<span style=\"background-color: #272722\">  </span><span style=\"color: #f8f8f2; text-decoration-color: #f8f8f2; background-color: #272822\">    doc</span><span style=\"color: #ff4689; text-decoration-color: #ff4689; background-color: #272822\">.</span><span style=\"color: #f8f8f2; text-decoration-color: #f8f8f2; background-color: #272822\">add_paragraph(sentences[i])</span><span style=\"background-color: #272822\">                                                                            </span><span style=\"background-color: #272722\">  </span>\n<span style=\"background-color: #272722\">  </span><span style=\"color: #f8f8f2; text-decoration-color: #f8f8f2; background-color: #272822\">    file_path </span><span style=\"color: #ff4689; text-decoration-color: #ff4689; background-color: #272822\">=</span><span style=\"color: #f8f8f2; text-decoration-color: #f8f8f2; background-color: #272822\"> os</span><span style=\"color: #ff4689; text-decoration-color: #ff4689; background-color: #272822\">.</span><span style=\"color: #f8f8f2; text-decoration-color: #f8f8f2; background-color: #272822\">path</span><span style=\"color: #ff4689; text-decoration-color: #ff4689; background-color: #272822\">.</span><span style=\"color: #f8f8f2; text-decoration-color: #f8f8f2; background-color: #272822\">join(folder_path, </span><span style=\"color: #e6db74; text-decoration-color: #e6db74; background-color: #272822\">f'document_{</span><span style=\"color: #f8f8f2; text-decoration-color: #f8f8f2; background-color: #272822\">i</span><span style=\"color: #ff4689; text-decoration-color: #ff4689; background-color: #272822\">+</span><span style=\"color: #ae81ff; text-decoration-color: #ae81ff; background-color: #272822\">1</span><span style=\"color: #e6db74; text-decoration-color: #e6db74; background-color: #272822\">}.docx'</span><span style=\"color: #f8f8f2; text-decoration-color: #f8f8f2; background-color: #272822\">)</span><span style=\"background-color: #272822\">                                              </span><span style=\"background-color: #272722\">  </span>\n<span style=\"background-color: #272722\">  </span><span style=\"color: #f8f8f2; text-decoration-color: #f8f8f2; background-color: #272822\">    doc</span><span style=\"color: #ff4689; text-decoration-color: #ff4689; background-color: #272822\">.</span><span style=\"color: #f8f8f2; text-decoration-color: #f8f8f2; background-color: #272822\">save(file_path)</span><span style=\"background-color: #272822\">                                                                                        </span><span style=\"background-color: #272722\">  </span>\n<span style=\"background-color: #272722\">                                                                                                                   </span>\n\n</pre>\n"
                },
                "metadata": {}
              }
            ]
          }
        },
        "d8a125c8149342a78da8db1609271dcc": {
          "model_module": "@jupyter-widgets/base",
          "model_name": "LayoutModel",
          "model_module_version": "1.2.0",
          "state": {
            "_model_module": "@jupyter-widgets/base",
            "_model_module_version": "1.2.0",
            "_model_name": "LayoutModel",
            "_view_count": null,
            "_view_module": "@jupyter-widgets/base",
            "_view_module_version": "1.2.0",
            "_view_name": "LayoutView",
            "align_content": null,
            "align_items": null,
            "align_self": null,
            "border": null,
            "bottom": null,
            "display": null,
            "flex": null,
            "flex_flow": null,
            "grid_area": null,
            "grid_auto_columns": null,
            "grid_auto_flow": null,
            "grid_auto_rows": null,
            "grid_column": null,
            "grid_gap": null,
            "grid_row": null,
            "grid_template_areas": null,
            "grid_template_columns": null,
            "grid_template_rows": null,
            "height": null,
            "justify_content": null,
            "justify_items": null,
            "left": null,
            "margin": null,
            "max_height": null,
            "max_width": null,
            "min_height": null,
            "min_width": null,
            "object_fit": null,
            "object_position": null,
            "order": null,
            "overflow": null,
            "overflow_x": null,
            "overflow_y": null,
            "padding": null,
            "right": null,
            "top": null,
            "visibility": null,
            "width": null
          }
        },
        "45bbdcf20bb4442f837b266c60fab0dc": {
          "model_module": "@jupyter-widgets/output",
          "model_name": "OutputModel",
          "model_module_version": "1.0.0",
          "state": {
            "_dom_classes": [],
            "_model_module": "@jupyter-widgets/output",
            "_model_module_version": "1.0.0",
            "_model_name": "OutputModel",
            "_view_count": null,
            "_view_module": "@jupyter-widgets/output",
            "_view_module_version": "1.0.0",
            "_view_name": "OutputView",
            "layout": "IPY_MODEL_bace56065f924f5aa6f205563f7df872",
            "msg_id": "",
            "outputs": [
              {
                "output_type": "display_data",
                "data": {
                  "text/plain": "                                                                                                                   \n  I have created a folder named \u001b[1;36;40mdocuments\u001b[0m and placed five \u001b[1;36;40m.docx\u001b[0m files inside it. Each file contains a sentence     \n  about machine learning. Here are the sentences added:                                                            \n                                                                                                                   \n  \u001b[1;33m 1 \u001b[0m\"Machine learning is a field of artificial intelligence.\"                                                     \n  \u001b[1;33m 2 \u001b[0m\"It allows computers to learn from data.\"                                                                     \n  \u001b[1;33m 3 \u001b[0m\"Machine learning is used in various applications.\"                                                           \n  \u001b[1;33m 4 \u001b[0m\"It involves algorithms that improve automatically.\"                                                          \n  \u001b[1;33m 5 \u001b[0m\"Deep learning is a subset of machine learning.\"                                                              \n                                                                                                                   \n  If you have any other requests, feel free to ask!                                                                \n                                                                                                                   \n",
                  "text/html": "<pre style=\"white-space:pre;overflow-x:auto;line-height:normal;font-family:Menlo,'DejaVu Sans Mono',consolas,'Courier New',monospace\">                                                                                                                   \n  I have created a folder named <span style=\"color: #008080; text-decoration-color: #008080; background-color: #000000; font-weight: bold\">documents</span> and placed five <span style=\"color: #008080; text-decoration-color: #008080; background-color: #000000; font-weight: bold\">.docx</span> files inside it. Each file contains a sentence     \n  about machine learning. Here are the sentences added:                                                            \n                                                                                                                   \n  <span style=\"color: #808000; text-decoration-color: #808000; font-weight: bold\"> 1 </span>\"Machine learning is a field of artificial intelligence.\"                                                     \n  <span style=\"color: #808000; text-decoration-color: #808000; font-weight: bold\"> 2 </span>\"It allows computers to learn from data.\"                                                                     \n  <span style=\"color: #808000; text-decoration-color: #808000; font-weight: bold\"> 3 </span>\"Machine learning is used in various applications.\"                                                           \n  <span style=\"color: #808000; text-decoration-color: #808000; font-weight: bold\"> 4 </span>\"It involves algorithms that improve automatically.\"                                                          \n  <span style=\"color: #808000; text-decoration-color: #808000; font-weight: bold\"> 5 </span>\"Deep learning is a subset of machine learning.\"                                                              \n                                                                                                                   \n  If you have any other requests, feel free to ask!                                                                \n                                                                                                                   \n</pre>\n"
                },
                "metadata": {}
              }
            ]
          }
        },
        "bace56065f924f5aa6f205563f7df872": {
          "model_module": "@jupyter-widgets/base",
          "model_name": "LayoutModel",
          "model_module_version": "1.2.0",
          "state": {
            "_model_module": "@jupyter-widgets/base",
            "_model_module_version": "1.2.0",
            "_model_name": "LayoutModel",
            "_view_count": null,
            "_view_module": "@jupyter-widgets/base",
            "_view_module_version": "1.2.0",
            "_view_name": "LayoutView",
            "align_content": null,
            "align_items": null,
            "align_self": null,
            "border": null,
            "bottom": null,
            "display": null,
            "flex": null,
            "flex_flow": null,
            "grid_area": null,
            "grid_auto_columns": null,
            "grid_auto_flow": null,
            "grid_auto_rows": null,
            "grid_column": null,
            "grid_gap": null,
            "grid_row": null,
            "grid_template_areas": null,
            "grid_template_columns": null,
            "grid_template_rows": null,
            "height": null,
            "justify_content": null,
            "justify_items": null,
            "left": null,
            "margin": null,
            "max_height": null,
            "max_width": null,
            "min_height": null,
            "min_width": null,
            "object_fit": null,
            "object_position": null,
            "order": null,
            "overflow": null,
            "overflow_x": null,
            "overflow_y": null,
            "padding": null,
            "right": null,
            "top": null,
            "visibility": null,
            "width": null
          }
        },
        "f22da4d33c014f4381097d6f270821d6": {
          "model_module": "@jupyter-widgets/output",
          "model_name": "OutputModel",
          "model_module_version": "1.0.0",
          "state": {
            "_dom_classes": [],
            "_model_module": "@jupyter-widgets/output",
            "_model_module_version": "1.0.0",
            "_model_name": "OutputModel",
            "_view_count": null,
            "_view_module": "@jupyter-widgets/output",
            "_view_module_version": "1.0.0",
            "_view_name": "OutputView",
            "layout": "IPY_MODEL_77eee63e800b4892813d206993e24eed",
            "msg_id": "",
            "outputs": [
              {
                "output_type": "display_data",
                "data": {
                  "text/plain": "                                                                                                                   \n  To replace \"Machine Learning\" with \"AI\" in all \u001b[1;36;40m.docx\u001b[0m files within your 'documents' folder, we'll follow these    \n  steps:                                                                                                           \n                                                                                                                   \n  \u001b[1;33m 1 \u001b[0mList all \u001b[1;36;40m.docx\u001b[0m files in the 'documents' folder.                                                               \n  \u001b[1;33m 2 \u001b[0mFor each file, open the document.                                                                             \n  \u001b[1;33m 3 \u001b[0mPerform the text replacement.                                                                                 \n  \u001b[1;33m 4 \u001b[0mSave the modified document.                                                                                   \n                                                                                                                   \n  Let's start by listing all the \u001b[1;36;40m.docx\u001b[0m files in your 'documents' directory.                                        \n                                                                                                                   \n",
                  "text/html": "<pre style=\"white-space:pre;overflow-x:auto;line-height:normal;font-family:Menlo,'DejaVu Sans Mono',consolas,'Courier New',monospace\">                                                                                                                   \n  To replace \"Machine Learning\" with \"AI\" in all <span style=\"color: #008080; text-decoration-color: #008080; background-color: #000000; font-weight: bold\">.docx</span> files within your 'documents' folder, we'll follow these    \n  steps:                                                                                                           \n                                                                                                                   \n  <span style=\"color: #808000; text-decoration-color: #808000; font-weight: bold\"> 1 </span>List all <span style=\"color: #008080; text-decoration-color: #008080; background-color: #000000; font-weight: bold\">.docx</span> files in the 'documents' folder.                                                               \n  <span style=\"color: #808000; text-decoration-color: #808000; font-weight: bold\"> 2 </span>For each file, open the document.                                                                             \n  <span style=\"color: #808000; text-decoration-color: #808000; font-weight: bold\"> 3 </span>Perform the text replacement.                                                                                 \n  <span style=\"color: #808000; text-decoration-color: #808000; font-weight: bold\"> 4 </span>Save the modified document.                                                                                   \n                                                                                                                   \n  Let's start by listing all the <span style=\"color: #008080; text-decoration-color: #008080; background-color: #000000; font-weight: bold\">.docx</span> files in your 'documents' directory.                                        \n                                                                                                                   \n</pre>\n"
                },
                "metadata": {}
              }
            ]
          }
        },
        "77eee63e800b4892813d206993e24eed": {
          "model_module": "@jupyter-widgets/base",
          "model_name": "LayoutModel",
          "model_module_version": "1.2.0",
          "state": {
            "_model_module": "@jupyter-widgets/base",
            "_model_module_version": "1.2.0",
            "_model_name": "LayoutModel",
            "_view_count": null,
            "_view_module": "@jupyter-widgets/base",
            "_view_module_version": "1.2.0",
            "_view_name": "LayoutView",
            "align_content": null,
            "align_items": null,
            "align_self": null,
            "border": null,
            "bottom": null,
            "display": null,
            "flex": null,
            "flex_flow": null,
            "grid_area": null,
            "grid_auto_columns": null,
            "grid_auto_flow": null,
            "grid_auto_rows": null,
            "grid_column": null,
            "grid_gap": null,
            "grid_row": null,
            "grid_template_areas": null,
            "grid_template_columns": null,
            "grid_template_rows": null,
            "height": null,
            "justify_content": null,
            "justify_items": null,
            "left": null,
            "margin": null,
            "max_height": null,
            "max_width": null,
            "min_height": null,
            "min_width": null,
            "object_fit": null,
            "object_position": null,
            "order": null,
            "overflow": null,
            "overflow_x": null,
            "overflow_y": null,
            "padding": null,
            "right": null,
            "top": null,
            "visibility": null,
            "width": null
          }
        },
        "143756ce357947708c5590dcc5ff8698": {
          "model_module": "@jupyter-widgets/output",
          "model_name": "OutputModel",
          "model_module_version": "1.0.0",
          "state": {
            "_dom_classes": [],
            "_model_module": "@jupyter-widgets/output",
            "_model_module_version": "1.0.0",
            "_model_name": "OutputModel",
            "_view_count": null,
            "_view_module": "@jupyter-widgets/output",
            "_view_module_version": "1.0.0",
            "_view_name": "OutputView",
            "layout": "IPY_MODEL_71a5e253f5444e59b7e79a0133fc9333",
            "msg_id": "",
            "outputs": [
              {
                "output_type": "display_data",
                "data": {
                  "text/plain": "\n\u001b[48;2;39;39;34m                                                                                                                   \u001b[0m\n\u001b[48;2;39;39;34m \u001b[0m\u001b[48;2;39;39;34m \u001b[0m\u001b[38;2;248;248;242;48;2;39;40;34mfind\u001b[0m\u001b[38;2;248;248;242;48;2;39;40;34m \u001b[0m\u001b[38;2;248;248;242;48;2;39;40;34mdocuments\u001b[0m\u001b[38;2;248;248;242;48;2;39;40;34m \u001b[0m\u001b[38;2;248;248;242;48;2;39;40;34m-type\u001b[0m\u001b[38;2;248;248;242;48;2;39;40;34m \u001b[0m\u001b[38;2;248;248;242;48;2;39;40;34mf\u001b[0m\u001b[38;2;248;248;242;48;2;39;40;34m \u001b[0m\u001b[38;2;248;248;242;48;2;39;40;34m-name\u001b[0m\u001b[38;2;248;248;242;48;2;39;40;34m \u001b[0m\u001b[38;2;230;219;116;48;2;39;40;34m'*.docx'\u001b[0m\u001b[48;2;39;40;34m                                                                          \u001b[0m\u001b[48;2;39;39;34m \u001b[0m\u001b[48;2;39;39;34m \u001b[0m\n\u001b[48;2;39;39;34m                                                                                                                   \u001b[0m\n\u001b[38;2;255;255;255;48;2;59;59;55m                                                                                                                   \u001b[0m\n\u001b[38;2;255;255;255;48;2;59;59;55m \u001b[0m\u001b[38;2;255;255;255;48;2;59;59;55m \u001b[0m\u001b[38;2;255;255;255;48;2;59;59;55mdocuments/document_3.docx\u001b[0m\u001b[38;2;255;255;255;48;2;59;59;55m                                                                                      \u001b[0m\u001b[38;2;255;255;255;48;2;59;59;55m \u001b[0m\u001b[38;2;255;255;255;48;2;59;59;55m \u001b[0m\n\u001b[38;2;255;255;255;48;2;59;59;55m \u001b[0m\u001b[38;2;255;255;255;48;2;59;59;55m \u001b[0m\u001b[38;2;255;255;255;48;2;59;59;55mdocuments/document_4.docx\u001b[0m\u001b[38;2;255;255;255;48;2;59;59;55m                                                                                      \u001b[0m\u001b[38;2;255;255;255;48;2;59;59;55m \u001b[0m\u001b[38;2;255;255;255;48;2;59;59;55m \u001b[0m\n\u001b[38;2;255;255;255;48;2;59;59;55m \u001b[0m\u001b[38;2;255;255;255;48;2;59;59;55m \u001b[0m\u001b[38;2;255;255;255;48;2;59;59;55mdocuments/document_2.docx\u001b[0m\u001b[38;2;255;255;255;48;2;59;59;55m                                                                                      \u001b[0m\u001b[38;2;255;255;255;48;2;59;59;55m \u001b[0m\u001b[38;2;255;255;255;48;2;59;59;55m \u001b[0m\n\u001b[38;2;255;255;255;48;2;59;59;55m \u001b[0m\u001b[38;2;255;255;255;48;2;59;59;55m \u001b[0m\u001b[38;2;255;255;255;48;2;59;59;55mdocuments/document_5.docx\u001b[0m\u001b[38;2;255;255;255;48;2;59;59;55m                                                                                      \u001b[0m\u001b[38;2;255;255;255;48;2;59;59;55m \u001b[0m\u001b[38;2;255;255;255;48;2;59;59;55m \u001b[0m\n\u001b[38;2;255;255;255;48;2;59;59;55m \u001b[0m\u001b[38;2;255;255;255;48;2;59;59;55m \u001b[0m\u001b[38;2;255;255;255;48;2;59;59;55mdocuments/document_1.docx\u001b[0m\u001b[38;2;255;255;255;48;2;59;59;55m                                                                                      \u001b[0m\u001b[38;2;255;255;255;48;2;59;59;55m \u001b[0m\u001b[38;2;255;255;255;48;2;59;59;55m \u001b[0m\n\u001b[38;2;255;255;255;48;2;59;59;55m                                                                                                                   \u001b[0m\n",
                  "text/html": "<pre style=\"white-space:pre;overflow-x:auto;line-height:normal;font-family:Menlo,'DejaVu Sans Mono',consolas,'Courier New',monospace\">\n<span style=\"background-color: #272722\">                                                                                                                   </span>\n<span style=\"background-color: #272722\">  </span><span style=\"color: #f8f8f2; text-decoration-color: #f8f8f2; background-color: #272822\">find documents -type f -name </span><span style=\"color: #e6db74; text-decoration-color: #e6db74; background-color: #272822\">'*.docx'</span><span style=\"background-color: #272822\">                                                                          </span><span style=\"background-color: #272722\">  </span>\n<span style=\"background-color: #272722\">                                                                                                                   </span>\n<span style=\"color: #ffffff; text-decoration-color: #ffffff; background-color: #3b3b37\">                                                                                                                   </span>\n<span style=\"color: #ffffff; text-decoration-color: #ffffff; background-color: #3b3b37\">  documents/document_3.docx                                                                                        </span>\n<span style=\"color: #ffffff; text-decoration-color: #ffffff; background-color: #3b3b37\">  documents/document_4.docx                                                                                        </span>\n<span style=\"color: #ffffff; text-decoration-color: #ffffff; background-color: #3b3b37\">  documents/document_2.docx                                                                                        </span>\n<span style=\"color: #ffffff; text-decoration-color: #ffffff; background-color: #3b3b37\">  documents/document_5.docx                                                                                        </span>\n<span style=\"color: #ffffff; text-decoration-color: #ffffff; background-color: #3b3b37\">  documents/document_1.docx                                                                                        </span>\n<span style=\"color: #ffffff; text-decoration-color: #ffffff; background-color: #3b3b37\">                                                                                                                   </span>\n</pre>\n"
                },
                "metadata": {}
              }
            ]
          }
        },
        "71a5e253f5444e59b7e79a0133fc9333": {
          "model_module": "@jupyter-widgets/base",
          "model_name": "LayoutModel",
          "model_module_version": "1.2.0",
          "state": {
            "_model_module": "@jupyter-widgets/base",
            "_model_module_version": "1.2.0",
            "_model_name": "LayoutModel",
            "_view_count": null,
            "_view_module": "@jupyter-widgets/base",
            "_view_module_version": "1.2.0",
            "_view_name": "LayoutView",
            "align_content": null,
            "align_items": null,
            "align_self": null,
            "border": null,
            "bottom": null,
            "display": null,
            "flex": null,
            "flex_flow": null,
            "grid_area": null,
            "grid_auto_columns": null,
            "grid_auto_flow": null,
            "grid_auto_rows": null,
            "grid_column": null,
            "grid_gap": null,
            "grid_row": null,
            "grid_template_areas": null,
            "grid_template_columns": null,
            "grid_template_rows": null,
            "height": null,
            "justify_content": null,
            "justify_items": null,
            "left": null,
            "margin": null,
            "max_height": null,
            "max_width": null,
            "min_height": null,
            "min_width": null,
            "object_fit": null,
            "object_position": null,
            "order": null,
            "overflow": null,
            "overflow_x": null,
            "overflow_y": null,
            "padding": null,
            "right": null,
            "top": null,
            "visibility": null,
            "width": null
          }
        },
        "f6a766163a2246e5a61dde050c83ae8d": {
          "model_module": "@jupyter-widgets/output",
          "model_name": "OutputModel",
          "model_module_version": "1.0.0",
          "state": {
            "_dom_classes": [],
            "_model_module": "@jupyter-widgets/output",
            "_model_module_version": "1.0.0",
            "_model_name": "OutputModel",
            "_view_count": null,
            "_view_module": "@jupyter-widgets/output",
            "_view_module_version": "1.0.0",
            "_view_name": "OutputView",
            "layout": "IPY_MODEL_cebecf4e654746519de6af0f51686a99",
            "msg_id": "",
            "outputs": [
              {
                "output_type": "display_data",
                "data": {
                  "text/plain": "                                                                                                                   \n  Here are the \u001b[1;36;40m.docx\u001b[0m files in your 'documents' folder:                                                             \n                                                                                                                   \n  \u001b[1;33m • \u001b[0mdocuments/document_1.docx                                                                                     \n  \u001b[1;33m • \u001b[0mdocuments/document_2.docx                                                                                     \n  \u001b[1;33m • \u001b[0mdocuments/document_3.docx                                                                                     \n  \u001b[1;33m • \u001b[0mdocuments/document_4.docx                                                                                     \n  \u001b[1;33m • \u001b[0mdocuments/document_5.docx                                                                                     \n                                                                                                                   \n  Next, we'll process each of these files to replace \"Machine Learning\" with \"AI\". Let's perform the replacement   \n  for one file first, and then continue with the rest. I'll start by replacing the text in                         \n  \u001b[1;36;40mdocuments/document_1.docx\u001b[0m.                                                                                       \n                                                                                                                   \n",
                  "text/html": "<pre style=\"white-space:pre;overflow-x:auto;line-height:normal;font-family:Menlo,'DejaVu Sans Mono',consolas,'Courier New',monospace\">                                                                                                                   \n  Here are the <span style=\"color: #008080; text-decoration-color: #008080; background-color: #000000; font-weight: bold\">.docx</span> files in your 'documents' folder:                                                             \n                                                                                                                   \n  <span style=\"color: #808000; text-decoration-color: #808000; font-weight: bold\"> • </span>documents/document_1.docx                                                                                     \n  <span style=\"color: #808000; text-decoration-color: #808000; font-weight: bold\"> • </span>documents/document_2.docx                                                                                     \n  <span style=\"color: #808000; text-decoration-color: #808000; font-weight: bold\"> • </span>documents/document_3.docx                                                                                     \n  <span style=\"color: #808000; text-decoration-color: #808000; font-weight: bold\"> • </span>documents/document_4.docx                                                                                     \n  <span style=\"color: #808000; text-decoration-color: #808000; font-weight: bold\"> • </span>documents/document_5.docx                                                                                     \n                                                                                                                   \n  Next, we'll process each of these files to replace \"Machine Learning\" with \"AI\". Let's perform the replacement   \n  for one file first, and then continue with the rest. I'll start by replacing the text in                         \n  <span style=\"color: #008080; text-decoration-color: #008080; background-color: #000000; font-weight: bold\">documents/document_1.docx</span>.                                                                                       \n                                                                                                                   \n</pre>\n"
                },
                "metadata": {}
              }
            ]
          }
        },
        "cebecf4e654746519de6af0f51686a99": {
          "model_module": "@jupyter-widgets/base",
          "model_name": "LayoutModel",
          "model_module_version": "1.2.0",
          "state": {
            "_model_module": "@jupyter-widgets/base",
            "_model_module_version": "1.2.0",
            "_model_name": "LayoutModel",
            "_view_count": null,
            "_view_module": "@jupyter-widgets/base",
            "_view_module_version": "1.2.0",
            "_view_name": "LayoutView",
            "align_content": null,
            "align_items": null,
            "align_self": null,
            "border": null,
            "bottom": null,
            "display": null,
            "flex": null,
            "flex_flow": null,
            "grid_area": null,
            "grid_auto_columns": null,
            "grid_auto_flow": null,
            "grid_auto_rows": null,
            "grid_column": null,
            "grid_gap": null,
            "grid_row": null,
            "grid_template_areas": null,
            "grid_template_columns": null,
            "grid_template_rows": null,
            "height": null,
            "justify_content": null,
            "justify_items": null,
            "left": null,
            "margin": null,
            "max_height": null,
            "max_width": null,
            "min_height": null,
            "min_width": null,
            "object_fit": null,
            "object_position": null,
            "order": null,
            "overflow": null,
            "overflow_x": null,
            "overflow_y": null,
            "padding": null,
            "right": null,
            "top": null,
            "visibility": null,
            "width": null
          }
        },
        "ca8610b53f9243bcb1076dcda5e1007e": {
          "model_module": "@jupyter-widgets/output",
          "model_name": "OutputModel",
          "model_module_version": "1.0.0",
          "state": {
            "_dom_classes": [],
            "_model_module": "@jupyter-widgets/output",
            "_model_module_version": "1.0.0",
            "_model_name": "OutputModel",
            "_view_count": null,
            "_view_module": "@jupyter-widgets/output",
            "_view_module_version": "1.0.0",
            "_view_name": "OutputView",
            "layout": "IPY_MODEL_1e1f8c21f0f24d9281dd4414a2ad4310",
            "msg_id": "",
            "outputs": [
              {
                "output_type": "display_data",
                "data": {
                  "text/plain": "\n\u001b[48;2;39;39;34m                                                                                                                   \u001b[0m\n\u001b[48;2;39;39;34m \u001b[0m\u001b[48;2;39;39;34m \u001b[0m\u001b[38;2;255;70;137;48;2;39;40;34mfrom\u001b[0m\u001b[38;2;248;248;242;48;2;39;40;34m \u001b[0m\u001b[38;2;248;248;242;48;2;39;40;34mdocx\u001b[0m\u001b[38;2;248;248;242;48;2;39;40;34m \u001b[0m\u001b[38;2;255;70;137;48;2;39;40;34mimport\u001b[0m\u001b[38;2;248;248;242;48;2;39;40;34m \u001b[0m\u001b[38;2;248;248;242;48;2;39;40;34mDocument\u001b[0m\u001b[48;2;39;40;34m                                                                                      \u001b[0m\u001b[48;2;39;39;34m \u001b[0m\u001b[48;2;39;39;34m \u001b[0m\n\u001b[48;2;39;39;34m \u001b[0m\u001b[48;2;39;39;34m \u001b[0m\u001b[48;2;39;40;34m                                                                                                               \u001b[0m\u001b[48;2;39;39;34m \u001b[0m\u001b[48;2;39;39;34m \u001b[0m\n\u001b[48;2;39;39;34m \u001b[0m\u001b[48;2;39;39;34m \u001b[0m\u001b[38;2;102;217;239;48;2;39;40;34mdef\u001b[0m\u001b[38;2;248;248;242;48;2;39;40;34m \u001b[0m\u001b[38;2;166;226;46;48;2;39;40;34mreplace_text_in_docx\u001b[0m\u001b[38;2;248;248;242;48;2;39;40;34m(\u001b[0m\u001b[38;2;248;248;242;48;2;39;40;34mfile_path\u001b[0m\u001b[38;2;248;248;242;48;2;39;40;34m,\u001b[0m\u001b[38;2;248;248;242;48;2;39;40;34m \u001b[0m\u001b[38;2;248;248;242;48;2;39;40;34mold_text\u001b[0m\u001b[38;2;248;248;242;48;2;39;40;34m,\u001b[0m\u001b[38;2;248;248;242;48;2;39;40;34m \u001b[0m\u001b[38;2;248;248;242;48;2;39;40;34mnew_text\u001b[0m\u001b[38;2;248;248;242;48;2;39;40;34m)\u001b[0m\u001b[38;2;248;248;242;48;2;39;40;34m:\u001b[0m\u001b[48;2;39;40;34m                                                       \u001b[0m\u001b[48;2;39;39;34m \u001b[0m\u001b[48;2;39;39;34m \u001b[0m\n\u001b[48;2;39;39;34m \u001b[0m\u001b[48;2;39;39;34m \u001b[0m\u001b[38;2;248;248;242;48;2;39;40;34m    \u001b[0m\u001b[38;2;248;248;242;48;2;39;40;34mdoc\u001b[0m\u001b[38;2;248;248;242;48;2;39;40;34m \u001b[0m\u001b[38;2;255;70;137;48;2;39;40;34m=\u001b[0m\u001b[38;2;248;248;242;48;2;39;40;34m \u001b[0m\u001b[38;2;248;248;242;48;2;39;40;34mDocument\u001b[0m\u001b[38;2;248;248;242;48;2;39;40;34m(\u001b[0m\u001b[38;2;248;248;242;48;2;39;40;34mfile_path\u001b[0m\u001b[38;2;248;248;242;48;2;39;40;34m)\u001b[0m\u001b[48;2;39;40;34m                                                                                  \u001b[0m\u001b[48;2;39;39;34m \u001b[0m\u001b[48;2;39;39;34m \u001b[0m\n\u001b[48;2;39;39;34m \u001b[0m\u001b[48;2;39;39;34m \u001b[0m\u001b[38;2;248;248;242;48;2;39;40;34m    \u001b[0m\u001b[38;2;102;217;239;48;2;39;40;34mfor\u001b[0m\u001b[38;2;248;248;242;48;2;39;40;34m \u001b[0m\u001b[38;2;248;248;242;48;2;39;40;34mparagraph\u001b[0m\u001b[38;2;248;248;242;48;2;39;40;34m \u001b[0m\u001b[38;2;255;70;137;48;2;39;40;34min\u001b[0m\u001b[38;2;248;248;242;48;2;39;40;34m \u001b[0m\u001b[38;2;248;248;242;48;2;39;40;34mdoc\u001b[0m\u001b[38;2;255;70;137;48;2;39;40;34m.\u001b[0m\u001b[38;2;248;248;242;48;2;39;40;34mparagraphs\u001b[0m\u001b[38;2;248;248;242;48;2;39;40;34m:\u001b[0m\u001b[48;2;39;40;34m                                                                           \u001b[0m\u001b[48;2;39;39;34m \u001b[0m\u001b[48;2;39;39;34m \u001b[0m\n\u001b[48;2;39;39;34m \u001b[0m\u001b[48;2;39;39;34m \u001b[0m\u001b[38;2;248;248;242;48;2;39;40;34m        \u001b[0m\u001b[38;2;102;217;239;48;2;39;40;34mif\u001b[0m\u001b[38;2;248;248;242;48;2;39;40;34m \u001b[0m\u001b[38;2;248;248;242;48;2;39;40;34mold_text\u001b[0m\u001b[38;2;248;248;242;48;2;39;40;34m \u001b[0m\u001b[38;2;255;70;137;48;2;39;40;34min\u001b[0m\u001b[38;2;248;248;242;48;2;39;40;34m \u001b[0m\u001b[38;2;248;248;242;48;2;39;40;34mparagraph\u001b[0m\u001b[38;2;255;70;137;48;2;39;40;34m.\u001b[0m\u001b[38;2;248;248;242;48;2;39;40;34mtext\u001b[0m\u001b[38;2;248;248;242;48;2;39;40;34m:\u001b[0m\u001b[48;2;39;40;34m                                                                         \u001b[0m\u001b[48;2;39;39;34m \u001b[0m\u001b[48;2;39;39;34m \u001b[0m\n\u001b[48;2;39;39;34m \u001b[0m\u001b[48;2;39;39;34m \u001b[0m\u001b[38;2;248;248;242;48;2;39;40;34m            \u001b[0m\u001b[38;2;248;248;242;48;2;39;40;34mparagraph\u001b[0m\u001b[38;2;255;70;137;48;2;39;40;34m.\u001b[0m\u001b[38;2;248;248;242;48;2;39;40;34mtext\u001b[0m\u001b[38;2;248;248;242;48;2;39;40;34m \u001b[0m\u001b[38;2;255;70;137;48;2;39;40;34m=\u001b[0m\u001b[38;2;248;248;242;48;2;39;40;34m \u001b[0m\u001b[38;2;248;248;242;48;2;39;40;34mparagraph\u001b[0m\u001b[38;2;255;70;137;48;2;39;40;34m.\u001b[0m\u001b[38;2;248;248;242;48;2;39;40;34mtext\u001b[0m\u001b[38;2;255;70;137;48;2;39;40;34m.\u001b[0m\u001b[38;2;248;248;242;48;2;39;40;34mreplace\u001b[0m\u001b[38;2;248;248;242;48;2;39;40;34m(\u001b[0m\u001b[38;2;248;248;242;48;2;39;40;34mold_text\u001b[0m\u001b[38;2;248;248;242;48;2;39;40;34m,\u001b[0m\u001b[38;2;248;248;242;48;2;39;40;34m \u001b[0m\u001b[38;2;248;248;242;48;2;39;40;34mnew_text\u001b[0m\u001b[38;2;248;248;242;48;2;39;40;34m)\u001b[0m\u001b[48;2;39;40;34m                                        \u001b[0m\u001b[48;2;39;39;34m \u001b[0m\u001b[48;2;39;39;34m \u001b[0m\n\u001b[48;2;39;39;34m \u001b[0m\u001b[48;2;39;39;34m \u001b[0m\u001b[38;2;248;248;242;48;2;39;40;34m    \u001b[0m\u001b[48;2;39;40;34m                                                                                                           \u001b[0m\u001b[48;2;39;39;34m \u001b[0m\u001b[48;2;39;39;34m \u001b[0m\n\u001b[48;2;39;39;34m \u001b[0m\u001b[48;2;39;39;34m \u001b[0m\u001b[38;2;248;248;242;48;2;39;40;34m    \u001b[0m\u001b[38;2;248;248;242;48;2;39;40;34mdoc\u001b[0m\u001b[38;2;255;70;137;48;2;39;40;34m.\u001b[0m\u001b[38;2;248;248;242;48;2;39;40;34msave\u001b[0m\u001b[38;2;248;248;242;48;2;39;40;34m(\u001b[0m\u001b[38;2;248;248;242;48;2;39;40;34mfile_path\u001b[0m\u001b[38;2;248;248;242;48;2;39;40;34m)\u001b[0m\u001b[48;2;39;40;34m                                                                                        \u001b[0m\u001b[48;2;39;39;34m \u001b[0m\u001b[48;2;39;39;34m \u001b[0m\n\u001b[48;2;39;39;34m \u001b[0m\u001b[48;2;39;39;34m \u001b[0m\u001b[48;2;39;40;34m                                                                                                               \u001b[0m\u001b[48;2;39;39;34m \u001b[0m\u001b[48;2;39;39;34m \u001b[0m\n\u001b[48;2;39;39;34m \u001b[0m\u001b[48;2;39;39;34m \u001b[0m\u001b[38;2;248;248;242;48;2;39;40;34mreplace_text_in_docx\u001b[0m\u001b[38;2;248;248;242;48;2;39;40;34m(\u001b[0m\u001b[38;2;230;219;116;48;2;39;40;34m'\u001b[0m\u001b[38;2;230;219;116;48;2;39;40;34mdocuments/document_1.docx\u001b[0m\u001b[38;2;230;219;116;48;2;39;40;34m'\u001b[0m\u001b[38;2;248;248;242;48;2;39;40;34m,\u001b[0m\u001b[38;2;248;248;242;48;2;39;40;34m \u001b[0m\u001b[38;2;230;219;116;48;2;39;40;34m'\u001b[0m\u001b[38;2;230;219;116;48;2;39;40;34mMachine Learning\u001b[0m\u001b[38;2;230;219;116;48;2;39;40;34m'\u001b[0m\u001b[38;2;248;248;242;48;2;39;40;34m,\u001b[0m\u001b[38;2;248;248;242;48;2;39;40;34m \u001b[0m\u001b[38;2;230;219;116;48;2;39;40;34m'\u001b[0m\u001b[38;2;230;219;116;48;2;39;40;34mAI\u001b[0m\u001b[38;2;230;219;116;48;2;39;40;34m'\u001b[0m\u001b[38;2;248;248;242;48;2;39;40;34m)\u001b[0m\u001b[48;2;39;40;34m                                    \u001b[0m\u001b[48;2;39;39;34m \u001b[0m\u001b[48;2;39;39;34m \u001b[0m\n\u001b[48;2;39;39;34m \u001b[0m\u001b[48;2;39;39;34m \u001b[0m\u001b[38;2;248;248;242;48;2;39;40;34mprint\u001b[0m\u001b[38;2;248;248;242;48;2;39;40;34m(\u001b[0m\u001b[38;2;230;219;116;48;2;39;40;34m'\u001b[0m\u001b[38;2;230;219;116;48;2;39;40;34mReplacing text in document_1.docx completed.\u001b[0m\u001b[38;2;230;219;116;48;2;39;40;34m'\u001b[0m\u001b[38;2;248;248;242;48;2;39;40;34m)\u001b[0m\u001b[48;2;39;40;34m                                                          \u001b[0m\u001b[48;2;39;39;34m \u001b[0m\u001b[48;2;39;39;34m \u001b[0m\n\u001b[48;2;39;39;34m                                                                                                                   \u001b[0m\n\u001b[38;2;255;255;255;48;2;59;59;55m                                                                                                                   \u001b[0m\n\u001b[38;2;255;255;255;48;2;59;59;55m \u001b[0m\u001b[38;2;255;255;255;48;2;59;59;55m \u001b[0m\u001b[38;2;255;255;255;48;2;59;59;55mReplacing text in document_1.docx completed.\u001b[0m\u001b[38;2;255;255;255;48;2;59;59;55m                                                                   \u001b[0m\u001b[38;2;255;255;255;48;2;59;59;55m \u001b[0m\u001b[38;2;255;255;255;48;2;59;59;55m \u001b[0m\n\u001b[38;2;255;255;255;48;2;59;59;55m                                                                                                                   \u001b[0m\n",
                  "text/html": "<pre style=\"white-space:pre;overflow-x:auto;line-height:normal;font-family:Menlo,'DejaVu Sans Mono',consolas,'Courier New',monospace\">\n<span style=\"background-color: #272722\">                                                                                                                   </span>\n<span style=\"background-color: #272722\">  </span><span style=\"color: #ff4689; text-decoration-color: #ff4689; background-color: #272822\">from</span><span style=\"color: #f8f8f2; text-decoration-color: #f8f8f2; background-color: #272822\"> docx </span><span style=\"color: #ff4689; text-decoration-color: #ff4689; background-color: #272822\">import</span><span style=\"color: #f8f8f2; text-decoration-color: #f8f8f2; background-color: #272822\"> Document</span><span style=\"background-color: #272822\">                                                                                      </span><span style=\"background-color: #272722\">  </span>\n<span style=\"background-color: #272722\">  </span><span style=\"background-color: #272822\">                                                                                                               </span><span style=\"background-color: #272722\">  </span>\n<span style=\"background-color: #272722\">  </span><span style=\"color: #66d9ef; text-decoration-color: #66d9ef; background-color: #272822\">def</span><span style=\"color: #f8f8f2; text-decoration-color: #f8f8f2; background-color: #272822\"> </span><span style=\"color: #a6e22e; text-decoration-color: #a6e22e; background-color: #272822\">replace_text_in_docx</span><span style=\"color: #f8f8f2; text-decoration-color: #f8f8f2; background-color: #272822\">(file_path, old_text, new_text):</span><span style=\"background-color: #272822\">                                                       </span><span style=\"background-color: #272722\">  </span>\n<span style=\"background-color: #272722\">  </span><span style=\"color: #f8f8f2; text-decoration-color: #f8f8f2; background-color: #272822\">    doc </span><span style=\"color: #ff4689; text-decoration-color: #ff4689; background-color: #272822\">=</span><span style=\"color: #f8f8f2; text-decoration-color: #f8f8f2; background-color: #272822\"> Document(file_path)</span><span style=\"background-color: #272822\">                                                                                  </span><span style=\"background-color: #272722\">  </span>\n<span style=\"background-color: #272722\">  </span><span style=\"color: #f8f8f2; text-decoration-color: #f8f8f2; background-color: #272822\">    </span><span style=\"color: #66d9ef; text-decoration-color: #66d9ef; background-color: #272822\">for</span><span style=\"color: #f8f8f2; text-decoration-color: #f8f8f2; background-color: #272822\"> paragraph </span><span style=\"color: #ff4689; text-decoration-color: #ff4689; background-color: #272822\">in</span><span style=\"color: #f8f8f2; text-decoration-color: #f8f8f2; background-color: #272822\"> doc</span><span style=\"color: #ff4689; text-decoration-color: #ff4689; background-color: #272822\">.</span><span style=\"color: #f8f8f2; text-decoration-color: #f8f8f2; background-color: #272822\">paragraphs:</span><span style=\"background-color: #272822\">                                                                           </span><span style=\"background-color: #272722\">  </span>\n<span style=\"background-color: #272722\">  </span><span style=\"color: #f8f8f2; text-decoration-color: #f8f8f2; background-color: #272822\">        </span><span style=\"color: #66d9ef; text-decoration-color: #66d9ef; background-color: #272822\">if</span><span style=\"color: #f8f8f2; text-decoration-color: #f8f8f2; background-color: #272822\"> old_text </span><span style=\"color: #ff4689; text-decoration-color: #ff4689; background-color: #272822\">in</span><span style=\"color: #f8f8f2; text-decoration-color: #f8f8f2; background-color: #272822\"> paragraph</span><span style=\"color: #ff4689; text-decoration-color: #ff4689; background-color: #272822\">.</span><span style=\"color: #f8f8f2; text-decoration-color: #f8f8f2; background-color: #272822\">text:</span><span style=\"background-color: #272822\">                                                                         </span><span style=\"background-color: #272722\">  </span>\n<span style=\"background-color: #272722\">  </span><span style=\"color: #f8f8f2; text-decoration-color: #f8f8f2; background-color: #272822\">            paragraph</span><span style=\"color: #ff4689; text-decoration-color: #ff4689; background-color: #272822\">.</span><span style=\"color: #f8f8f2; text-decoration-color: #f8f8f2; background-color: #272822\">text </span><span style=\"color: #ff4689; text-decoration-color: #ff4689; background-color: #272822\">=</span><span style=\"color: #f8f8f2; text-decoration-color: #f8f8f2; background-color: #272822\"> paragraph</span><span style=\"color: #ff4689; text-decoration-color: #ff4689; background-color: #272822\">.</span><span style=\"color: #f8f8f2; text-decoration-color: #f8f8f2; background-color: #272822\">text</span><span style=\"color: #ff4689; text-decoration-color: #ff4689; background-color: #272822\">.</span><span style=\"color: #f8f8f2; text-decoration-color: #f8f8f2; background-color: #272822\">replace(old_text, new_text)</span><span style=\"background-color: #272822\">                                        </span><span style=\"background-color: #272722\">  </span>\n<span style=\"background-color: #272722\">  </span><span style=\"color: #f8f8f2; text-decoration-color: #f8f8f2; background-color: #272822\">    </span><span style=\"background-color: #272822\">                                                                                                           </span><span style=\"background-color: #272722\">  </span>\n<span style=\"background-color: #272722\">  </span><span style=\"color: #f8f8f2; text-decoration-color: #f8f8f2; background-color: #272822\">    doc</span><span style=\"color: #ff4689; text-decoration-color: #ff4689; background-color: #272822\">.</span><span style=\"color: #f8f8f2; text-decoration-color: #f8f8f2; background-color: #272822\">save(file_path)</span><span style=\"background-color: #272822\">                                                                                        </span><span style=\"background-color: #272722\">  </span>\n<span style=\"background-color: #272722\">  </span><span style=\"background-color: #272822\">                                                                                                               </span><span style=\"background-color: #272722\">  </span>\n<span style=\"background-color: #272722\">  </span><span style=\"color: #f8f8f2; text-decoration-color: #f8f8f2; background-color: #272822\">replace_text_in_docx(</span><span style=\"color: #e6db74; text-decoration-color: #e6db74; background-color: #272822\">'documents/document_1.docx'</span><span style=\"color: #f8f8f2; text-decoration-color: #f8f8f2; background-color: #272822\">, </span><span style=\"color: #e6db74; text-decoration-color: #e6db74; background-color: #272822\">'Machine Learning'</span><span style=\"color: #f8f8f2; text-decoration-color: #f8f8f2; background-color: #272822\">, </span><span style=\"color: #e6db74; text-decoration-color: #e6db74; background-color: #272822\">'AI'</span><span style=\"color: #f8f8f2; text-decoration-color: #f8f8f2; background-color: #272822\">)</span><span style=\"background-color: #272822\">                                    </span><span style=\"background-color: #272722\">  </span>\n<span style=\"background-color: #272722\">  </span><span style=\"color: #f8f8f2; text-decoration-color: #f8f8f2; background-color: #272822\">print(</span><span style=\"color: #e6db74; text-decoration-color: #e6db74; background-color: #272822\">'Replacing text in document_1.docx completed.'</span><span style=\"color: #f8f8f2; text-decoration-color: #f8f8f2; background-color: #272822\">)</span><span style=\"background-color: #272822\">                                                          </span><span style=\"background-color: #272722\">  </span>\n<span style=\"background-color: #272722\">                                                                                                                   </span>\n<span style=\"color: #ffffff; text-decoration-color: #ffffff; background-color: #3b3b37\">                                                                                                                   </span>\n<span style=\"color: #ffffff; text-decoration-color: #ffffff; background-color: #3b3b37\">  Replacing text in document_1.docx completed.                                                                     </span>\n<span style=\"color: #ffffff; text-decoration-color: #ffffff; background-color: #3b3b37\">                                                                                                                   </span>\n</pre>\n"
                },
                "metadata": {}
              }
            ]
          }
        },
        "1e1f8c21f0f24d9281dd4414a2ad4310": {
          "model_module": "@jupyter-widgets/base",
          "model_name": "LayoutModel",
          "model_module_version": "1.2.0",
          "state": {
            "_model_module": "@jupyter-widgets/base",
            "_model_module_version": "1.2.0",
            "_model_name": "LayoutModel",
            "_view_count": null,
            "_view_module": "@jupyter-widgets/base",
            "_view_module_version": "1.2.0",
            "_view_name": "LayoutView",
            "align_content": null,
            "align_items": null,
            "align_self": null,
            "border": null,
            "bottom": null,
            "display": null,
            "flex": null,
            "flex_flow": null,
            "grid_area": null,
            "grid_auto_columns": null,
            "grid_auto_flow": null,
            "grid_auto_rows": null,
            "grid_column": null,
            "grid_gap": null,
            "grid_row": null,
            "grid_template_areas": null,
            "grid_template_columns": null,
            "grid_template_rows": null,
            "height": null,
            "justify_content": null,
            "justify_items": null,
            "left": null,
            "margin": null,
            "max_height": null,
            "max_width": null,
            "min_height": null,
            "min_width": null,
            "object_fit": null,
            "object_position": null,
            "order": null,
            "overflow": null,
            "overflow_x": null,
            "overflow_y": null,
            "padding": null,
            "right": null,
            "top": null,
            "visibility": null,
            "width": null
          }
        },
        "e18a1bb41a854778aa29b1161f22d660": {
          "model_module": "@jupyter-widgets/output",
          "model_name": "OutputModel",
          "model_module_version": "1.0.0",
          "state": {
            "_dom_classes": [],
            "_model_module": "@jupyter-widgets/output",
            "_model_module_version": "1.0.0",
            "_model_name": "OutputModel",
            "_view_count": null,
            "_view_module": "@jupyter-widgets/output",
            "_view_module_version": "1.0.0",
            "_view_name": "OutputView",
            "layout": "IPY_MODEL_b2f5e2959dc54c7c8968af73b7e502b5",
            "msg_id": "",
            "outputs": [
              {
                "output_type": "display_data",
                "data": {
                  "text/plain": "                                                                                                                   \n  The replacement of \"Machine Learning\" with \"AI\" in \u001b[1;36;40mdocuments/document_1.docx\u001b[0m is completed.                       \n                                                                                                                   \n  Now, I'll proceed to apply the same change to the remaining \u001b[1;36;40m.docx\u001b[0m files in the 'documents' folder.               \n                                                                                                                   \n",
                  "text/html": "<pre style=\"white-space:pre;overflow-x:auto;line-height:normal;font-family:Menlo,'DejaVu Sans Mono',consolas,'Courier New',monospace\">                                                                                                                   \n  The replacement of \"Machine Learning\" with \"AI\" in <span style=\"color: #008080; text-decoration-color: #008080; background-color: #000000; font-weight: bold\">documents/document_1.docx</span> is completed.                       \n                                                                                                                   \n  Now, I'll proceed to apply the same change to the remaining <span style=\"color: #008080; text-decoration-color: #008080; background-color: #000000; font-weight: bold\">.docx</span> files in the 'documents' folder.               \n                                                                                                                   \n</pre>\n"
                },
                "metadata": {}
              }
            ]
          }
        },
        "b2f5e2959dc54c7c8968af73b7e502b5": {
          "model_module": "@jupyter-widgets/base",
          "model_name": "LayoutModel",
          "model_module_version": "1.2.0",
          "state": {
            "_model_module": "@jupyter-widgets/base",
            "_model_module_version": "1.2.0",
            "_model_name": "LayoutModel",
            "_view_count": null,
            "_view_module": "@jupyter-widgets/base",
            "_view_module_version": "1.2.0",
            "_view_name": "LayoutView",
            "align_content": null,
            "align_items": null,
            "align_self": null,
            "border": null,
            "bottom": null,
            "display": null,
            "flex": null,
            "flex_flow": null,
            "grid_area": null,
            "grid_auto_columns": null,
            "grid_auto_flow": null,
            "grid_auto_rows": null,
            "grid_column": null,
            "grid_gap": null,
            "grid_row": null,
            "grid_template_areas": null,
            "grid_template_columns": null,
            "grid_template_rows": null,
            "height": null,
            "justify_content": null,
            "justify_items": null,
            "left": null,
            "margin": null,
            "max_height": null,
            "max_width": null,
            "min_height": null,
            "min_width": null,
            "object_fit": null,
            "object_position": null,
            "order": null,
            "overflow": null,
            "overflow_x": null,
            "overflow_y": null,
            "padding": null,
            "right": null,
            "top": null,
            "visibility": null,
            "width": null
          }
        },
        "8594b4bcee13447bbc13325e56689aa6": {
          "model_module": "@jupyter-widgets/output",
          "model_name": "OutputModel",
          "model_module_version": "1.0.0",
          "state": {
            "_dom_classes": [],
            "_model_module": "@jupyter-widgets/output",
            "_model_module_version": "1.0.0",
            "_model_name": "OutputModel",
            "_view_count": null,
            "_view_module": "@jupyter-widgets/output",
            "_view_module_version": "1.0.0",
            "_view_name": "OutputView",
            "layout": "IPY_MODEL_de832405f6ac462f86fd774b6963ff8f",
            "msg_id": "",
            "outputs": [
              {
                "output_type": "display_data",
                "data": {
                  "text/plain": "\n\u001b[48;2;39;39;34m                                                                                                                   \u001b[0m\n\u001b[48;2;39;39;34m \u001b[0m\u001b[48;2;39;39;34m \u001b[0m\u001b[38;2;248;248;242;48;2;39;40;34mreplace_text_in_docx\u001b[0m\u001b[38;2;248;248;242;48;2;39;40;34m(\u001b[0m\u001b[38;2;230;219;116;48;2;39;40;34m'\u001b[0m\u001b[38;2;230;219;116;48;2;39;40;34mdocuments/document_2.docx\u001b[0m\u001b[38;2;230;219;116;48;2;39;40;34m'\u001b[0m\u001b[38;2;248;248;242;48;2;39;40;34m,\u001b[0m\u001b[38;2;248;248;242;48;2;39;40;34m \u001b[0m\u001b[38;2;230;219;116;48;2;39;40;34m'\u001b[0m\u001b[38;2;230;219;116;48;2;39;40;34mMachine Learning\u001b[0m\u001b[38;2;230;219;116;48;2;39;40;34m'\u001b[0m\u001b[38;2;248;248;242;48;2;39;40;34m,\u001b[0m\u001b[38;2;248;248;242;48;2;39;40;34m \u001b[0m\u001b[38;2;230;219;116;48;2;39;40;34m'\u001b[0m\u001b[38;2;230;219;116;48;2;39;40;34mAI\u001b[0m\u001b[38;2;230;219;116;48;2;39;40;34m'\u001b[0m\u001b[38;2;248;248;242;48;2;39;40;34m)\u001b[0m\u001b[48;2;39;40;34m                                    \u001b[0m\u001b[48;2;39;39;34m \u001b[0m\u001b[48;2;39;39;34m \u001b[0m\n\u001b[48;2;39;39;34m \u001b[0m\u001b[48;2;39;39;34m \u001b[0m\u001b[38;2;248;248;242;48;2;39;40;34mprint\u001b[0m\u001b[38;2;248;248;242;48;2;39;40;34m(\u001b[0m\u001b[38;2;230;219;116;48;2;39;40;34m'\u001b[0m\u001b[38;2;230;219;116;48;2;39;40;34mReplacing text in document_2.docx completed.\u001b[0m\u001b[38;2;230;219;116;48;2;39;40;34m'\u001b[0m\u001b[38;2;248;248;242;48;2;39;40;34m)\u001b[0m\u001b[48;2;39;40;34m                                                          \u001b[0m\u001b[48;2;39;39;34m \u001b[0m\u001b[48;2;39;39;34m \u001b[0m\n\u001b[48;2;39;39;34m                                                                                                                   \u001b[0m\n\u001b[38;2;255;255;255;48;2;59;59;55m                                                                                                                   \u001b[0m\n\u001b[38;2;255;255;255;48;2;59;59;55m \u001b[0m\u001b[38;2;255;255;255;48;2;59;59;55m \u001b[0m\u001b[38;2;255;255;255;48;2;59;59;55mReplacing text in document_2.docx completed.\u001b[0m\u001b[38;2;255;255;255;48;2;59;59;55m                                                                   \u001b[0m\u001b[38;2;255;255;255;48;2;59;59;55m \u001b[0m\u001b[38;2;255;255;255;48;2;59;59;55m \u001b[0m\n\u001b[38;2;255;255;255;48;2;59;59;55m                                                                                                                   \u001b[0m\n",
                  "text/html": "<pre style=\"white-space:pre;overflow-x:auto;line-height:normal;font-family:Menlo,'DejaVu Sans Mono',consolas,'Courier New',monospace\">\n<span style=\"background-color: #272722\">                                                                                                                   </span>\n<span style=\"background-color: #272722\">  </span><span style=\"color: #f8f8f2; text-decoration-color: #f8f8f2; background-color: #272822\">replace_text_in_docx(</span><span style=\"color: #e6db74; text-decoration-color: #e6db74; background-color: #272822\">'documents/document_2.docx'</span><span style=\"color: #f8f8f2; text-decoration-color: #f8f8f2; background-color: #272822\">, </span><span style=\"color: #e6db74; text-decoration-color: #e6db74; background-color: #272822\">'Machine Learning'</span><span style=\"color: #f8f8f2; text-decoration-color: #f8f8f2; background-color: #272822\">, </span><span style=\"color: #e6db74; text-decoration-color: #e6db74; background-color: #272822\">'AI'</span><span style=\"color: #f8f8f2; text-decoration-color: #f8f8f2; background-color: #272822\">)</span><span style=\"background-color: #272822\">                                    </span><span style=\"background-color: #272722\">  </span>\n<span style=\"background-color: #272722\">  </span><span style=\"color: #f8f8f2; text-decoration-color: #f8f8f2; background-color: #272822\">print(</span><span style=\"color: #e6db74; text-decoration-color: #e6db74; background-color: #272822\">'Replacing text in document_2.docx completed.'</span><span style=\"color: #f8f8f2; text-decoration-color: #f8f8f2; background-color: #272822\">)</span><span style=\"background-color: #272822\">                                                          </span><span style=\"background-color: #272722\">  </span>\n<span style=\"background-color: #272722\">                                                                                                                   </span>\n<span style=\"color: #ffffff; text-decoration-color: #ffffff; background-color: #3b3b37\">                                                                                                                   </span>\n<span style=\"color: #ffffff; text-decoration-color: #ffffff; background-color: #3b3b37\">  Replacing text in document_2.docx completed.                                                                     </span>\n<span style=\"color: #ffffff; text-decoration-color: #ffffff; background-color: #3b3b37\">                                                                                                                   </span>\n</pre>\n"
                },
                "metadata": {}
              }
            ]
          }
        },
        "de832405f6ac462f86fd774b6963ff8f": {
          "model_module": "@jupyter-widgets/base",
          "model_name": "LayoutModel",
          "model_module_version": "1.2.0",
          "state": {
            "_model_module": "@jupyter-widgets/base",
            "_model_module_version": "1.2.0",
            "_model_name": "LayoutModel",
            "_view_count": null,
            "_view_module": "@jupyter-widgets/base",
            "_view_module_version": "1.2.0",
            "_view_name": "LayoutView",
            "align_content": null,
            "align_items": null,
            "align_self": null,
            "border": null,
            "bottom": null,
            "display": null,
            "flex": null,
            "flex_flow": null,
            "grid_area": null,
            "grid_auto_columns": null,
            "grid_auto_flow": null,
            "grid_auto_rows": null,
            "grid_column": null,
            "grid_gap": null,
            "grid_row": null,
            "grid_template_areas": null,
            "grid_template_columns": null,
            "grid_template_rows": null,
            "height": null,
            "justify_content": null,
            "justify_items": null,
            "left": null,
            "margin": null,
            "max_height": null,
            "max_width": null,
            "min_height": null,
            "min_width": null,
            "object_fit": null,
            "object_position": null,
            "order": null,
            "overflow": null,
            "overflow_x": null,
            "overflow_y": null,
            "padding": null,
            "right": null,
            "top": null,
            "visibility": null,
            "width": null
          }
        },
        "711f7c7ae78b41beb35f4c2aa55a20f4": {
          "model_module": "@jupyter-widgets/output",
          "model_name": "OutputModel",
          "model_module_version": "1.0.0",
          "state": {
            "_dom_classes": [],
            "_model_module": "@jupyter-widgets/output",
            "_model_module_version": "1.0.0",
            "_model_name": "OutputModel",
            "_view_count": null,
            "_view_module": "@jupyter-widgets/output",
            "_view_module_version": "1.0.0",
            "_view_name": "OutputView",
            "layout": "IPY_MODEL_1aa9442b97284fcbb4a803eaddd1ef62",
            "msg_id": "",
            "outputs": [
              {
                "output_type": "display_data",
                "data": {
                  "text/plain": "\n\u001b[48;2;39;39;34m                                                                                                                   \u001b[0m\n\u001b[48;2;39;39;34m \u001b[0m\u001b[48;2;39;39;34m \u001b[0m\u001b[38;2;248;248;242;48;2;39;40;34mreplace_text_in_docx\u001b[0m\u001b[38;2;248;248;242;48;2;39;40;34m(\u001b[0m\u001b[38;2;230;219;116;48;2;39;40;34m'\u001b[0m\u001b[38;2;230;219;116;48;2;39;40;34mdocuments/document_3.docx\u001b[0m\u001b[38;2;230;219;116;48;2;39;40;34m'\u001b[0m\u001b[38;2;248;248;242;48;2;39;40;34m,\u001b[0m\u001b[38;2;248;248;242;48;2;39;40;34m \u001b[0m\u001b[38;2;230;219;116;48;2;39;40;34m'\u001b[0m\u001b[38;2;230;219;116;48;2;39;40;34mMachine Learning\u001b[0m\u001b[38;2;230;219;116;48;2;39;40;34m'\u001b[0m\u001b[38;2;248;248;242;48;2;39;40;34m,\u001b[0m\u001b[38;2;248;248;242;48;2;39;40;34m \u001b[0m\u001b[38;2;230;219;116;48;2;39;40;34m'\u001b[0m\u001b[38;2;230;219;116;48;2;39;40;34mAI\u001b[0m\u001b[38;2;230;219;116;48;2;39;40;34m'\u001b[0m\u001b[38;2;248;248;242;48;2;39;40;34m)\u001b[0m\u001b[48;2;39;40;34m                                    \u001b[0m\u001b[48;2;39;39;34m \u001b[0m\u001b[48;2;39;39;34m \u001b[0m\n\u001b[48;2;39;39;34m \u001b[0m\u001b[48;2;39;39;34m \u001b[0m\u001b[38;2;248;248;242;48;2;39;40;34mprint\u001b[0m\u001b[38;2;248;248;242;48;2;39;40;34m(\u001b[0m\u001b[38;2;230;219;116;48;2;39;40;34m'\u001b[0m\u001b[38;2;230;219;116;48;2;39;40;34mReplacing text in document_3.docx completed.\u001b[0m\u001b[38;2;230;219;116;48;2;39;40;34m'\u001b[0m\u001b[38;2;248;248;242;48;2;39;40;34m)\u001b[0m\u001b[48;2;39;40;34m                                                          \u001b[0m\u001b[48;2;39;39;34m \u001b[0m\u001b[48;2;39;39;34m \u001b[0m\n\u001b[48;2;39;39;34m                                                                                                                   \u001b[0m\n\u001b[38;2;255;255;255;48;2;59;59;55m                                                                                                                   \u001b[0m\n\u001b[38;2;255;255;255;48;2;59;59;55m \u001b[0m\u001b[38;2;255;255;255;48;2;59;59;55m \u001b[0m\u001b[38;2;255;255;255;48;2;59;59;55mReplacing text in document_3.docx completed.\u001b[0m\u001b[38;2;255;255;255;48;2;59;59;55m                                                                   \u001b[0m\u001b[38;2;255;255;255;48;2;59;59;55m \u001b[0m\u001b[38;2;255;255;255;48;2;59;59;55m \u001b[0m\n\u001b[38;2;255;255;255;48;2;59;59;55m                                                                                                                   \u001b[0m\n",
                  "text/html": "<pre style=\"white-space:pre;overflow-x:auto;line-height:normal;font-family:Menlo,'DejaVu Sans Mono',consolas,'Courier New',monospace\">\n<span style=\"background-color: #272722\">                                                                                                                   </span>\n<span style=\"background-color: #272722\">  </span><span style=\"color: #f8f8f2; text-decoration-color: #f8f8f2; background-color: #272822\">replace_text_in_docx(</span><span style=\"color: #e6db74; text-decoration-color: #e6db74; background-color: #272822\">'documents/document_3.docx'</span><span style=\"color: #f8f8f2; text-decoration-color: #f8f8f2; background-color: #272822\">, </span><span style=\"color: #e6db74; text-decoration-color: #e6db74; background-color: #272822\">'Machine Learning'</span><span style=\"color: #f8f8f2; text-decoration-color: #f8f8f2; background-color: #272822\">, </span><span style=\"color: #e6db74; text-decoration-color: #e6db74; background-color: #272822\">'AI'</span><span style=\"color: #f8f8f2; text-decoration-color: #f8f8f2; background-color: #272822\">)</span><span style=\"background-color: #272822\">                                    </span><span style=\"background-color: #272722\">  </span>\n<span style=\"background-color: #272722\">  </span><span style=\"color: #f8f8f2; text-decoration-color: #f8f8f2; background-color: #272822\">print(</span><span style=\"color: #e6db74; text-decoration-color: #e6db74; background-color: #272822\">'Replacing text in document_3.docx completed.'</span><span style=\"color: #f8f8f2; text-decoration-color: #f8f8f2; background-color: #272822\">)</span><span style=\"background-color: #272822\">                                                          </span><span style=\"background-color: #272722\">  </span>\n<span style=\"background-color: #272722\">                                                                                                                   </span>\n<span style=\"color: #ffffff; text-decoration-color: #ffffff; background-color: #3b3b37\">                                                                                                                   </span>\n<span style=\"color: #ffffff; text-decoration-color: #ffffff; background-color: #3b3b37\">  Replacing text in document_3.docx completed.                                                                     </span>\n<span style=\"color: #ffffff; text-decoration-color: #ffffff; background-color: #3b3b37\">                                                                                                                   </span>\n</pre>\n"
                },
                "metadata": {}
              }
            ]
          }
        },
        "1aa9442b97284fcbb4a803eaddd1ef62": {
          "model_module": "@jupyter-widgets/base",
          "model_name": "LayoutModel",
          "model_module_version": "1.2.0",
          "state": {
            "_model_module": "@jupyter-widgets/base",
            "_model_module_version": "1.2.0",
            "_model_name": "LayoutModel",
            "_view_count": null,
            "_view_module": "@jupyter-widgets/base",
            "_view_module_version": "1.2.0",
            "_view_name": "LayoutView",
            "align_content": null,
            "align_items": null,
            "align_self": null,
            "border": null,
            "bottom": null,
            "display": null,
            "flex": null,
            "flex_flow": null,
            "grid_area": null,
            "grid_auto_columns": null,
            "grid_auto_flow": null,
            "grid_auto_rows": null,
            "grid_column": null,
            "grid_gap": null,
            "grid_row": null,
            "grid_template_areas": null,
            "grid_template_columns": null,
            "grid_template_rows": null,
            "height": null,
            "justify_content": null,
            "justify_items": null,
            "left": null,
            "margin": null,
            "max_height": null,
            "max_width": null,
            "min_height": null,
            "min_width": null,
            "object_fit": null,
            "object_position": null,
            "order": null,
            "overflow": null,
            "overflow_x": null,
            "overflow_y": null,
            "padding": null,
            "right": null,
            "top": null,
            "visibility": null,
            "width": null
          }
        },
        "ab28f278000341fcb3f20b9fc9d2b282": {
          "model_module": "@jupyter-widgets/output",
          "model_name": "OutputModel",
          "model_module_version": "1.0.0",
          "state": {
            "_dom_classes": [],
            "_model_module": "@jupyter-widgets/output",
            "_model_module_version": "1.0.0",
            "_model_name": "OutputModel",
            "_view_count": null,
            "_view_module": "@jupyter-widgets/output",
            "_view_module_version": "1.0.0",
            "_view_name": "OutputView",
            "layout": "IPY_MODEL_8337560a2445410cbf4d55e73959243d",
            "msg_id": "",
            "outputs": [
              {
                "output_type": "display_data",
                "data": {
                  "text/plain": "\n\u001b[48;2;39;39;34m                                                                                                                   \u001b[0m\n\u001b[48;2;39;39;34m \u001b[0m\u001b[48;2;39;39;34m \u001b[0m\u001b[38;2;248;248;242;48;2;39;40;34mreplace_text_in_docx\u001b[0m\u001b[38;2;248;248;242;48;2;39;40;34m(\u001b[0m\u001b[38;2;230;219;116;48;2;39;40;34m'\u001b[0m\u001b[38;2;230;219;116;48;2;39;40;34mdocuments/document_4.docx\u001b[0m\u001b[38;2;230;219;116;48;2;39;40;34m'\u001b[0m\u001b[38;2;248;248;242;48;2;39;40;34m,\u001b[0m\u001b[38;2;248;248;242;48;2;39;40;34m \u001b[0m\u001b[38;2;230;219;116;48;2;39;40;34m'\u001b[0m\u001b[38;2;230;219;116;48;2;39;40;34mMachine Learning\u001b[0m\u001b[38;2;230;219;116;48;2;39;40;34m'\u001b[0m\u001b[38;2;248;248;242;48;2;39;40;34m,\u001b[0m\u001b[38;2;248;248;242;48;2;39;40;34m \u001b[0m\u001b[38;2;230;219;116;48;2;39;40;34m'\u001b[0m\u001b[38;2;230;219;116;48;2;39;40;34mAI\u001b[0m\u001b[38;2;230;219;116;48;2;39;40;34m'\u001b[0m\u001b[38;2;248;248;242;48;2;39;40;34m)\u001b[0m\u001b[48;2;39;40;34m                                    \u001b[0m\u001b[48;2;39;39;34m \u001b[0m\u001b[48;2;39;39;34m \u001b[0m\n\u001b[48;2;39;39;34m \u001b[0m\u001b[48;2;39;39;34m \u001b[0m\u001b[38;2;248;248;242;48;2;39;40;34mprint\u001b[0m\u001b[38;2;248;248;242;48;2;39;40;34m(\u001b[0m\u001b[38;2;230;219;116;48;2;39;40;34m'\u001b[0m\u001b[38;2;230;219;116;48;2;39;40;34mReplacing text in document_4.docx completed.\u001b[0m\u001b[38;2;230;219;116;48;2;39;40;34m'\u001b[0m\u001b[38;2;248;248;242;48;2;39;40;34m)\u001b[0m\u001b[48;2;39;40;34m                                                          \u001b[0m\u001b[48;2;39;39;34m \u001b[0m\u001b[48;2;39;39;34m \u001b[0m\n\u001b[48;2;39;39;34m                                                                                                                   \u001b[0m\n\u001b[38;2;255;255;255;48;2;59;59;55m                                                                                                                   \u001b[0m\n\u001b[38;2;255;255;255;48;2;59;59;55m \u001b[0m\u001b[38;2;255;255;255;48;2;59;59;55m \u001b[0m\u001b[38;2;255;255;255;48;2;59;59;55mReplacing text in document_4.docx completed.\u001b[0m\u001b[38;2;255;255;255;48;2;59;59;55m                                                                   \u001b[0m\u001b[38;2;255;255;255;48;2;59;59;55m \u001b[0m\u001b[38;2;255;255;255;48;2;59;59;55m \u001b[0m\n\u001b[38;2;255;255;255;48;2;59;59;55m                                                                                                                   \u001b[0m\n",
                  "text/html": "<pre style=\"white-space:pre;overflow-x:auto;line-height:normal;font-family:Menlo,'DejaVu Sans Mono',consolas,'Courier New',monospace\">\n<span style=\"background-color: #272722\">                                                                                                                   </span>\n<span style=\"background-color: #272722\">  </span><span style=\"color: #f8f8f2; text-decoration-color: #f8f8f2; background-color: #272822\">replace_text_in_docx(</span><span style=\"color: #e6db74; text-decoration-color: #e6db74; background-color: #272822\">'documents/document_4.docx'</span><span style=\"color: #f8f8f2; text-decoration-color: #f8f8f2; background-color: #272822\">, </span><span style=\"color: #e6db74; text-decoration-color: #e6db74; background-color: #272822\">'Machine Learning'</span><span style=\"color: #f8f8f2; text-decoration-color: #f8f8f2; background-color: #272822\">, </span><span style=\"color: #e6db74; text-decoration-color: #e6db74; background-color: #272822\">'AI'</span><span style=\"color: #f8f8f2; text-decoration-color: #f8f8f2; background-color: #272822\">)</span><span style=\"background-color: #272822\">                                    </span><span style=\"background-color: #272722\">  </span>\n<span style=\"background-color: #272722\">  </span><span style=\"color: #f8f8f2; text-decoration-color: #f8f8f2; background-color: #272822\">print(</span><span style=\"color: #e6db74; text-decoration-color: #e6db74; background-color: #272822\">'Replacing text in document_4.docx completed.'</span><span style=\"color: #f8f8f2; text-decoration-color: #f8f8f2; background-color: #272822\">)</span><span style=\"background-color: #272822\">                                                          </span><span style=\"background-color: #272722\">  </span>\n<span style=\"background-color: #272722\">                                                                                                                   </span>\n<span style=\"color: #ffffff; text-decoration-color: #ffffff; background-color: #3b3b37\">                                                                                                                   </span>\n<span style=\"color: #ffffff; text-decoration-color: #ffffff; background-color: #3b3b37\">  Replacing text in document_4.docx completed.                                                                     </span>\n<span style=\"color: #ffffff; text-decoration-color: #ffffff; background-color: #3b3b37\">                                                                                                                   </span>\n</pre>\n"
                },
                "metadata": {}
              }
            ]
          }
        },
        "8337560a2445410cbf4d55e73959243d": {
          "model_module": "@jupyter-widgets/base",
          "model_name": "LayoutModel",
          "model_module_version": "1.2.0",
          "state": {
            "_model_module": "@jupyter-widgets/base",
            "_model_module_version": "1.2.0",
            "_model_name": "LayoutModel",
            "_view_count": null,
            "_view_module": "@jupyter-widgets/base",
            "_view_module_version": "1.2.0",
            "_view_name": "LayoutView",
            "align_content": null,
            "align_items": null,
            "align_self": null,
            "border": null,
            "bottom": null,
            "display": null,
            "flex": null,
            "flex_flow": null,
            "grid_area": null,
            "grid_auto_columns": null,
            "grid_auto_flow": null,
            "grid_auto_rows": null,
            "grid_column": null,
            "grid_gap": null,
            "grid_row": null,
            "grid_template_areas": null,
            "grid_template_columns": null,
            "grid_template_rows": null,
            "height": null,
            "justify_content": null,
            "justify_items": null,
            "left": null,
            "margin": null,
            "max_height": null,
            "max_width": null,
            "min_height": null,
            "min_width": null,
            "object_fit": null,
            "object_position": null,
            "order": null,
            "overflow": null,
            "overflow_x": null,
            "overflow_y": null,
            "padding": null,
            "right": null,
            "top": null,
            "visibility": null,
            "width": null
          }
        },
        "6e47c48a4546485cbe37512136551e52": {
          "model_module": "@jupyter-widgets/output",
          "model_name": "OutputModel",
          "model_module_version": "1.0.0",
          "state": {
            "_dom_classes": [],
            "_model_module": "@jupyter-widgets/output",
            "_model_module_version": "1.0.0",
            "_model_name": "OutputModel",
            "_view_count": null,
            "_view_module": "@jupyter-widgets/output",
            "_view_module_version": "1.0.0",
            "_view_name": "OutputView",
            "layout": "IPY_MODEL_d2c47e854370406f9f38ab33383cbcfe",
            "msg_id": "",
            "outputs": [
              {
                "output_type": "display_data",
                "data": {
                  "text/plain": "\n\u001b[48;2;39;39;34m                                                                                                                   \u001b[0m\n\u001b[48;2;39;39;34m \u001b[0m\u001b[48;2;39;39;34m \u001b[0m\u001b[38;2;248;248;242;48;2;39;40;34mreplace_text_in_docx\u001b[0m\u001b[38;2;248;248;242;48;2;39;40;34m(\u001b[0m\u001b[38;2;230;219;116;48;2;39;40;34m'\u001b[0m\u001b[38;2;230;219;116;48;2;39;40;34mdocuments/document_5.docx\u001b[0m\u001b[38;2;230;219;116;48;2;39;40;34m'\u001b[0m\u001b[38;2;248;248;242;48;2;39;40;34m,\u001b[0m\u001b[38;2;248;248;242;48;2;39;40;34m \u001b[0m\u001b[38;2;230;219;116;48;2;39;40;34m'\u001b[0m\u001b[38;2;230;219;116;48;2;39;40;34mMachine Learning\u001b[0m\u001b[38;2;230;219;116;48;2;39;40;34m'\u001b[0m\u001b[38;2;248;248;242;48;2;39;40;34m,\u001b[0m\u001b[38;2;248;248;242;48;2;39;40;34m \u001b[0m\u001b[38;2;230;219;116;48;2;39;40;34m'\u001b[0m\u001b[38;2;230;219;116;48;2;39;40;34mAI\u001b[0m\u001b[38;2;230;219;116;48;2;39;40;34m'\u001b[0m\u001b[38;2;248;248;242;48;2;39;40;34m)\u001b[0m\u001b[48;2;39;40;34m                                    \u001b[0m\u001b[48;2;39;39;34m \u001b[0m\u001b[48;2;39;39;34m \u001b[0m\n\u001b[48;2;39;39;34m \u001b[0m\u001b[48;2;39;39;34m \u001b[0m\u001b[38;2;248;248;242;48;2;39;40;34mprint\u001b[0m\u001b[38;2;248;248;242;48;2;39;40;34m(\u001b[0m\u001b[38;2;230;219;116;48;2;39;40;34m'\u001b[0m\u001b[38;2;230;219;116;48;2;39;40;34mReplacing text in document_5.docx completed.\u001b[0m\u001b[38;2;230;219;116;48;2;39;40;34m'\u001b[0m\u001b[38;2;248;248;242;48;2;39;40;34m)\u001b[0m\u001b[48;2;39;40;34m                                                          \u001b[0m\u001b[48;2;39;39;34m \u001b[0m\u001b[48;2;39;39;34m \u001b[0m\n\u001b[48;2;39;39;34m                                                                                                                   \u001b[0m\n\u001b[38;2;255;255;255;48;2;59;59;55m                                                                                                                   \u001b[0m\n\u001b[38;2;255;255;255;48;2;59;59;55m \u001b[0m\u001b[38;2;255;255;255;48;2;59;59;55m \u001b[0m\u001b[38;2;255;255;255;48;2;59;59;55mReplacing text in document_5.docx completed.\u001b[0m\u001b[38;2;255;255;255;48;2;59;59;55m                                                                   \u001b[0m\u001b[38;2;255;255;255;48;2;59;59;55m \u001b[0m\u001b[38;2;255;255;255;48;2;59;59;55m \u001b[0m\n\u001b[38;2;255;255;255;48;2;59;59;55m                                                                                                                   \u001b[0m\n",
                  "text/html": "<pre style=\"white-space:pre;overflow-x:auto;line-height:normal;font-family:Menlo,'DejaVu Sans Mono',consolas,'Courier New',monospace\">\n<span style=\"background-color: #272722\">                                                                                                                   </span>\n<span style=\"background-color: #272722\">  </span><span style=\"color: #f8f8f2; text-decoration-color: #f8f8f2; background-color: #272822\">replace_text_in_docx(</span><span style=\"color: #e6db74; text-decoration-color: #e6db74; background-color: #272822\">'documents/document_5.docx'</span><span style=\"color: #f8f8f2; text-decoration-color: #f8f8f2; background-color: #272822\">, </span><span style=\"color: #e6db74; text-decoration-color: #e6db74; background-color: #272822\">'Machine Learning'</span><span style=\"color: #f8f8f2; text-decoration-color: #f8f8f2; background-color: #272822\">, </span><span style=\"color: #e6db74; text-decoration-color: #e6db74; background-color: #272822\">'AI'</span><span style=\"color: #f8f8f2; text-decoration-color: #f8f8f2; background-color: #272822\">)</span><span style=\"background-color: #272822\">                                    </span><span style=\"background-color: #272722\">  </span>\n<span style=\"background-color: #272722\">  </span><span style=\"color: #f8f8f2; text-decoration-color: #f8f8f2; background-color: #272822\">print(</span><span style=\"color: #e6db74; text-decoration-color: #e6db74; background-color: #272822\">'Replacing text in document_5.docx completed.'</span><span style=\"color: #f8f8f2; text-decoration-color: #f8f8f2; background-color: #272822\">)</span><span style=\"background-color: #272822\">                                                          </span><span style=\"background-color: #272722\">  </span>\n<span style=\"background-color: #272722\">                                                                                                                   </span>\n<span style=\"color: #ffffff; text-decoration-color: #ffffff; background-color: #3b3b37\">                                                                                                                   </span>\n<span style=\"color: #ffffff; text-decoration-color: #ffffff; background-color: #3b3b37\">  Replacing text in document_5.docx completed.                                                                     </span>\n<span style=\"color: #ffffff; text-decoration-color: #ffffff; background-color: #3b3b37\">                                                                                                                   </span>\n</pre>\n"
                },
                "metadata": {}
              }
            ]
          }
        },
        "d2c47e854370406f9f38ab33383cbcfe": {
          "model_module": "@jupyter-widgets/base",
          "model_name": "LayoutModel",
          "model_module_version": "1.2.0",
          "state": {
            "_model_module": "@jupyter-widgets/base",
            "_model_module_version": "1.2.0",
            "_model_name": "LayoutModel",
            "_view_count": null,
            "_view_module": "@jupyter-widgets/base",
            "_view_module_version": "1.2.0",
            "_view_name": "LayoutView",
            "align_content": null,
            "align_items": null,
            "align_self": null,
            "border": null,
            "bottom": null,
            "display": null,
            "flex": null,
            "flex_flow": null,
            "grid_area": null,
            "grid_auto_columns": null,
            "grid_auto_flow": null,
            "grid_auto_rows": null,
            "grid_column": null,
            "grid_gap": null,
            "grid_row": null,
            "grid_template_areas": null,
            "grid_template_columns": null,
            "grid_template_rows": null,
            "height": null,
            "justify_content": null,
            "justify_items": null,
            "left": null,
            "margin": null,
            "max_height": null,
            "max_width": null,
            "min_height": null,
            "min_width": null,
            "object_fit": null,
            "object_position": null,
            "order": null,
            "overflow": null,
            "overflow_x": null,
            "overflow_y": null,
            "padding": null,
            "right": null,
            "top": null,
            "visibility": null,
            "width": null
          }
        },
        "084d055b9c854a9e835b01beb9f6b0eb": {
          "model_module": "@jupyter-widgets/output",
          "model_name": "OutputModel",
          "model_module_version": "1.0.0",
          "state": {
            "_dom_classes": [],
            "_model_module": "@jupyter-widgets/output",
            "_model_module_version": "1.0.0",
            "_model_name": "OutputModel",
            "_view_count": null,
            "_view_module": "@jupyter-widgets/output",
            "_view_module_version": "1.0.0",
            "_view_name": "OutputView",
            "layout": "IPY_MODEL_9d99d05e6bca406c9404ad0de2c29f72",
            "msg_id": "",
            "outputs": [
              {
                "output_type": "display_data",
                "data": {
                  "text/plain": "                                                                                                                   \n  All occurrences of \"Machine Learning\" have been successfully replaced with \"AI\" in the \u001b[1;36;40m.docx\u001b[0m files within your   \n  'documents' folder. If you have any more requests or need further assistance, feel free to ask!                  \n                                                                                                                   \n",
                  "text/html": "<pre style=\"white-space:pre;overflow-x:auto;line-height:normal;font-family:Menlo,'DejaVu Sans Mono',consolas,'Courier New',monospace\">                                                                                                                   \n  All occurrences of \"Machine Learning\" have been successfully replaced with \"AI\" in the <span style=\"color: #008080; text-decoration-color: #008080; background-color: #000000; font-weight: bold\">.docx</span> files within your   \n  'documents' folder. If you have any more requests or need further assistance, feel free to ask!                  \n                                                                                                                   \n</pre>\n"
                },
                "metadata": {}
              }
            ]
          }
        },
        "9d99d05e6bca406c9404ad0de2c29f72": {
          "model_module": "@jupyter-widgets/base",
          "model_name": "LayoutModel",
          "model_module_version": "1.2.0",
          "state": {
            "_model_module": "@jupyter-widgets/base",
            "_model_module_version": "1.2.0",
            "_model_name": "LayoutModel",
            "_view_count": null,
            "_view_module": "@jupyter-widgets/base",
            "_view_module_version": "1.2.0",
            "_view_name": "LayoutView",
            "align_content": null,
            "align_items": null,
            "align_self": null,
            "border": null,
            "bottom": null,
            "display": null,
            "flex": null,
            "flex_flow": null,
            "grid_area": null,
            "grid_auto_columns": null,
            "grid_auto_flow": null,
            "grid_auto_rows": null,
            "grid_column": null,
            "grid_gap": null,
            "grid_row": null,
            "grid_template_areas": null,
            "grid_template_columns": null,
            "grid_template_rows": null,
            "height": null,
            "justify_content": null,
            "justify_items": null,
            "left": null,
            "margin": null,
            "max_height": null,
            "max_width": null,
            "min_height": null,
            "min_width": null,
            "object_fit": null,
            "object_position": null,
            "order": null,
            "overflow": null,
            "overflow_x": null,
            "overflow_y": null,
            "padding": null,
            "right": null,
            "top": null,
            "visibility": null,
            "width": null
          }
        },
        "b6577f68bc474e69ad81267d1baf0959": {
          "model_module": "@jupyter-widgets/output",
          "model_name": "OutputModel",
          "model_module_version": "1.0.0",
          "state": {
            "_dom_classes": [],
            "_model_module": "@jupyter-widgets/output",
            "_model_module_version": "1.0.0",
            "_model_name": "OutputModel",
            "_view_count": null,
            "_view_module": "@jupyter-widgets/output",
            "_view_module_version": "1.0.0",
            "_view_name": "OutputView",
            "layout": "IPY_MODEL_f2ee284c06aa47479221a956f8fbe435",
            "msg_id": "",
            "outputs": [
              {
                "output_type": "display_data",
                "data": {
                  "text/plain": "                                                                                                                   \n  The replacements were made directly within the original files, so there are no separate files that need to be    \n  renamed or old ones that need to be deleted. The \u001b[1;36;40m.docx\u001b[0m files in the 'documents' folder have already been         \n  updated in place with the changes.                                                                               \n                                                                                                                   \n  If there's anything else you would like to do with these files, please let me know!                              \n                                                                                                                   \n",
                  "text/html": "<pre style=\"white-space:pre;overflow-x:auto;line-height:normal;font-family:Menlo,'DejaVu Sans Mono',consolas,'Courier New',monospace\">                                                                                                                   \n  The replacements were made directly within the original files, so there are no separate files that need to be    \n  renamed or old ones that need to be deleted. The <span style=\"color: #008080; text-decoration-color: #008080; background-color: #000000; font-weight: bold\">.docx</span> files in the 'documents' folder have already been         \n  updated in place with the changes.                                                                               \n                                                                                                                   \n  If there's anything else you would like to do with these files, please let me know!                              \n                                                                                                                   \n</pre>\n"
                },
                "metadata": {}
              }
            ]
          }
        },
        "f2ee284c06aa47479221a956f8fbe435": {
          "model_module": "@jupyter-widgets/base",
          "model_name": "LayoutModel",
          "model_module_version": "1.2.0",
          "state": {
            "_model_module": "@jupyter-widgets/base",
            "_model_module_version": "1.2.0",
            "_model_name": "LayoutModel",
            "_view_count": null,
            "_view_module": "@jupyter-widgets/base",
            "_view_module_version": "1.2.0",
            "_view_name": "LayoutView",
            "align_content": null,
            "align_items": null,
            "align_self": null,
            "border": null,
            "bottom": null,
            "display": null,
            "flex": null,
            "flex_flow": null,
            "grid_area": null,
            "grid_auto_columns": null,
            "grid_auto_flow": null,
            "grid_auto_rows": null,
            "grid_column": null,
            "grid_gap": null,
            "grid_row": null,
            "grid_template_areas": null,
            "grid_template_columns": null,
            "grid_template_rows": null,
            "height": null,
            "justify_content": null,
            "justify_items": null,
            "left": null,
            "margin": null,
            "max_height": null,
            "max_width": null,
            "min_height": null,
            "min_width": null,
            "object_fit": null,
            "object_position": null,
            "order": null,
            "overflow": null,
            "overflow_x": null,
            "overflow_y": null,
            "padding": null,
            "right": null,
            "top": null,
            "visibility": null,
            "width": null
          }
        }
      }
    }
  },
  "cells": [
    {
      "cell_type": "markdown",
      "source": [
        "<img src=\"https://drive.google.com/uc?export=view&id=1wYSMgJtARFdvTt5g7E20mE4NmwUFUuog\" width=\"200\">\n",
        "\n",
        "[![Build Fast with AI](https://img.shields.io/badge/BuildFastWithAI-GenAI%20Bootcamp-blue?style=for-the-badge&logo=artificial-intelligence)](https://www.buildfastwithai.com/genai-course)\n",
        "[![EduChain GitHub](https://img.shields.io/github/stars/satvik314/educhain?style=for-the-badge&logo=github&color=gold)](https://github.com/satvik314/educhain)\n",
        "\n",
        "[![Open In Colab](https://colab.research.google.com/assets/colab-badge.svg)](https://colab.research.google.com/drive/147_F01zAxVK4NOf8YhMz8_KeZ7UlUbvb?usp=sharing)\n",
        "## Master Generative AI in 6 Weeks\n",
        "**What You'll Learn:**\n",
        "- Build with Latest LLMs\n",
        "- Create Custom AI Apps\n",
        "- Learn from Industry Experts\n",
        "- Join Innovation Community\n",
        "Transform your AI ideas into reality through hands-on projects and expert mentorship.\n",
        "[Start Your Journey](https://www.buildfastwithai.com/genai-course)\n",
        "*Empowering the Next Generation of AI Innovators"
      ],
      "metadata": {
        "id": "jlMA0c1xwyMv"
      }
    },
    {
      "cell_type": "markdown",
      "source": [
        "##🚀 **Open Interpreter**\n",
        "Open Interpreter is an open-source framework that enables large language models (LLMs) to execute code locally. It provides a natural language interface, allowing users to interact with their computer's capabilities through conversational commands. Open Interpreter supports tasks such as creating and editing media files, controlling web browsers for research, and analyzing large datasets. It offers features like extensibility with plugins, real-time execution, and seamless integration with various programming languages"
      ],
      "metadata": {
        "id": "vpGawSFkXcuV"
      }
    },
    {
      "cell_type": "markdown",
      "source": [
        "###**Setup and Installation**\n"
      ],
      "metadata": {
        "id": "gkICEBhNXgME"
      }
    },
    {
      "cell_type": "code",
      "execution_count": null,
      "metadata": {
        "id": "CEZz0YIwtrKd"
      },
      "outputs": [],
      "source": [
        "!pip install open-interpreter"
      ]
    },
    {
      "cell_type": "markdown",
      "source": [
        "### **Setup the API Key**\n"
      ],
      "metadata": {
        "id": "RTJoWMuKZNjv"
      }
    },
    {
      "cell_type": "code",
      "source": [
        "from interpreter import interpreter\n",
        "from google.colab import userdata\n",
        "import os\n",
        "\n",
        "os.environ['OPENAI_API_KEY']=userdata.get('OPENAI_API_KEY')\n",
        "OPENAI_API=os.getenv('OPENAI_API_KEY')\n",
        "# Paste your OpenAI API key below.\n",
        "interpreter.llm.api_key = OPENAI_API"
      ],
      "metadata": {
        "id": "EJIOnuIsRkLy"
      },
      "execution_count": null,
      "outputs": []
    },
    {
      "cell_type": "code",
      "source": [
        "interpreter.auto_run = True"
      ],
      "metadata": {
        "id": "5b84b3_BSpxE"
      },
      "execution_count": null,
      "outputs": []
    },
    {
      "cell_type": "markdown",
      "source": [
        "### **Hello, World!**"
      ],
      "metadata": {
        "id": "0ALDWAujZpXn"
      }
    },
    {
      "cell_type": "code",
      "source": [
        "interpreter.chat(\"Please print hello world.\")"
      ],
      "metadata": {
        "colab": {
          "base_uri": "https://localhost:8080/",
          "height": 384,
          "referenced_widgets": [
            "db098d803cb44dfab0b6a1533354587a",
            "410e40fcfe4c4a59a9051e3f4611f095",
            "37fefcbe7980499bb09d52fe13b31fb9",
            "ff5d3e33b4ce483c92386ac315a883ed"
          ]
        },
        "id": "khyqbDJ1U-hx",
        "outputId": "2acd2868-6191-4ccf-ddd9-3f776f16002f"
      },
      "execution_count": null,
      "outputs": [
        {
          "output_type": "display_data",
          "data": {
            "text/plain": [
              "Output()"
            ],
            "application/vnd.jupyter.widget-view+json": {
              "version_major": 2,
              "version_minor": 0,
              "model_id": "db098d803cb44dfab0b6a1533354587a"
            }
          },
          "metadata": {}
        },
        {
          "output_type": "display_data",
          "data": {
            "text/plain": [],
            "text/html": [
              "<pre style=\"white-space:pre;overflow-x:auto;line-height:normal;font-family:Menlo,'DejaVu Sans Mono',consolas,'Courier New',monospace\"></pre>\n"
            ]
          },
          "metadata": {}
        },
        {
          "output_type": "display_data",
          "data": {
            "text/plain": [
              "Output()"
            ],
            "application/vnd.jupyter.widget-view+json": {
              "version_major": 2,
              "version_minor": 0,
              "model_id": "37fefcbe7980499bb09d52fe13b31fb9"
            }
          },
          "metadata": {}
        },
        {
          "output_type": "display_data",
          "data": {
            "text/plain": [],
            "text/html": [
              "<pre style=\"white-space:pre;overflow-x:auto;line-height:normal;font-family:Menlo,'DejaVu Sans Mono',consolas,'Courier New',monospace\"></pre>\n"
            ]
          },
          "metadata": {}
        },
        {
          "output_type": "execute_result",
          "data": {
            "text/plain": [
              "[{'role': 'assistant',\n",
              "  'type': 'code',\n",
              "  'format': 'python',\n",
              "  'content': \"print('Hello, World!')\"},\n",
              " {'role': 'computer',\n",
              "  'type': 'console',\n",
              "  'format': 'output',\n",
              "  'content': 'Hello, World!\\n'},\n",
              " {'role': 'assistant',\n",
              "  'type': 'message',\n",
              "  'content': 'Hello, World!\\n\\nI just printed \"Hello, World!\" using Python. If there\\'s anything else you\\'d like to do, feel free to ask!'}]"
            ]
          },
          "metadata": {},
          "execution_count": 3
        }
      ]
    },
    {
      "cell_type": "markdown",
      "source": [
        "### **Math**"
      ],
      "metadata": {
        "id": "txxP-mADZs16"
      }
    },
    {
      "cell_type": "code",
      "source": [
        "interpreter.chat()"
      ],
      "metadata": {
        "colab": {
          "base_uri": "https://localhost:8080/",
          "height": 764,
          "referenced_widgets": [
            "eeac78bcac5b465d8942e1ddea6390cc",
            "f653f22123144dc2a1e7c7b3541f1f69",
            "86df8faf534c4eb0a623fb46b9f6e4b4",
            "69d4a02ddbd945daa47c600d5158d62d",
            "2780448d90824cd19c8d067b1890d2f9",
            "ed298b5b868246589b09e17185a4a7ae",
            "02b8d83a5dad40c3a220d2af77e0fefd",
            "f9b79152b15046ffabe35e48e0b2f7be"
          ]
        },
        "outputId": "b42af781-ab23-4bce-b21d-fdcceddeff36",
        "id": "vTh30EslT1gv"
      },
      "execution_count": null,
      "outputs": [
        {
          "name": "stdout",
          "output_type": "stream",
          "text": [
            "> Can you solve this equation? 10x + 14 = 21 / 3\n"
          ]
        },
        {
          "output_type": "display_data",
          "data": {
            "text/plain": [
              "Output()"
            ],
            "application/vnd.jupyter.widget-view+json": {
              "version_major": 2,
              "version_minor": 0,
              "model_id": "eeac78bcac5b465d8942e1ddea6390cc"
            }
          },
          "metadata": {}
        },
        {
          "output_type": "display_data",
          "data": {
            "text/plain": [],
            "text/html": [
              "<pre style=\"white-space:pre;overflow-x:auto;line-height:normal;font-family:Menlo,'DejaVu Sans Mono',consolas,'Courier New',monospace\"></pre>\n"
            ]
          },
          "metadata": {}
        },
        {
          "output_type": "display_data",
          "data": {
            "text/plain": [
              "Output()"
            ],
            "application/vnd.jupyter.widget-view+json": {
              "version_major": 2,
              "version_minor": 0,
              "model_id": "86df8faf534c4eb0a623fb46b9f6e4b4"
            }
          },
          "metadata": {}
        },
        {
          "output_type": "display_data",
          "data": {
            "text/plain": [],
            "text/html": [
              "<pre style=\"white-space:pre;overflow-x:auto;line-height:normal;font-family:Menlo,'DejaVu Sans Mono',consolas,'Courier New',monospace\"></pre>\n"
            ]
          },
          "metadata": {}
        },
        {
          "output_type": "display_data",
          "data": {
            "text/plain": [
              "Output()"
            ],
            "application/vnd.jupyter.widget-view+json": {
              "version_major": 2,
              "version_minor": 0,
              "model_id": "2780448d90824cd19c8d067b1890d2f9"
            }
          },
          "metadata": {}
        },
        {
          "output_type": "display_data",
          "data": {
            "text/plain": [],
            "text/html": [
              "<pre style=\"white-space:pre;overflow-x:auto;line-height:normal;font-family:Menlo,'DejaVu Sans Mono',consolas,'Courier New',monospace\"></pre>\n"
            ]
          },
          "metadata": {}
        },
        {
          "name": "stdout",
          "output_type": "stream",
          "text": [
            "> exit\n"
          ]
        },
        {
          "output_type": "display_data",
          "data": {
            "text/plain": [
              "Output()"
            ],
            "application/vnd.jupyter.widget-view+json": {
              "version_major": 2,
              "version_minor": 0,
              "model_id": "02b8d83a5dad40c3a220d2af77e0fefd"
            }
          },
          "metadata": {}
        },
        {
          "output_type": "display_data",
          "data": {
            "text/plain": [],
            "text/html": [
              "<pre style=\"white-space:pre;overflow-x:auto;line-height:normal;font-family:Menlo,'DejaVu Sans Mono',consolas,'Courier New',monospace\"></pre>\n"
            ]
          },
          "metadata": {}
        }
      ]
    },
    {
      "cell_type": "markdown",
      "source": [
        "### **Web Browsing**"
      ],
      "metadata": {
        "id": "msIqQKrNZxeu"
      }
    },
    {
      "cell_type": "code",
      "source": [
        "interpreter.chat()"
      ],
      "metadata": {
        "colab": {
          "base_uri": "https://localhost:8080/",
          "height": 1000,
          "referenced_widgets": [
            "ea08b971229243c39fb8603795419dbb",
            "48c684eff2e041e7895bcd262b995b3c",
            "668bdfa4a70640eaaf27e3cac036468f",
            "50a37a4c9111476a87491a83d10e4b7f",
            "71f8f2c2a4c7445ca4675249bf04ae41",
            "b2ea5f02cebc40879dea9570f02c5939",
            "6188d9550d4342f9934c13ebad42958c",
            "6ee66ca02e464ca98a5a90f2b0ac3340",
            "81977f0790ca4e5fb13242ef62ee4ea9",
            "655f557edd0a4d95998a913bd68045d0",
            "e4a21c5a0216409fb1e806ed4a0de8c9",
            "9749d004f7774c9099ab4da3d22b716f",
            "af23de14ef81459486c7cf0e10db9c45",
            "afe92441d06a49079e049483dcde2e03"
          ]
        },
        "outputId": "030e987f-1a5f-4feb-f815-d8a56714178f",
        "id": "K2d5cJeOUQw4"
      },
      "execution_count": null,
      "outputs": [
        {
          "name": "stdout",
          "output_type": "stream",
          "text": [
            ">  What are the last 10 BBC news headlines?\n"
          ]
        },
        {
          "output_type": "display_data",
          "data": {
            "text/plain": [
              "Output()"
            ],
            "application/vnd.jupyter.widget-view+json": {
              "version_major": 2,
              "version_minor": 0,
              "model_id": "ea08b971229243c39fb8603795419dbb"
            }
          },
          "metadata": {}
        },
        {
          "output_type": "display_data",
          "data": {
            "text/plain": [],
            "text/html": [
              "<pre style=\"white-space:pre;overflow-x:auto;line-height:normal;font-family:Menlo,'DejaVu Sans Mono',consolas,'Courier New',monospace\"></pre>\n"
            ]
          },
          "metadata": {}
        },
        {
          "output_type": "display_data",
          "data": {
            "text/plain": [
              "Output()"
            ],
            "application/vnd.jupyter.widget-view+json": {
              "version_major": 2,
              "version_minor": 0,
              "model_id": "668bdfa4a70640eaaf27e3cac036468f"
            }
          },
          "metadata": {}
        },
        {
          "output_type": "display_data",
          "data": {
            "text/plain": [],
            "text/html": [
              "<pre style=\"white-space:pre;overflow-x:auto;line-height:normal;font-family:Menlo,'DejaVu Sans Mono',consolas,'Courier New',monospace\"></pre>\n"
            ]
          },
          "metadata": {}
        },
        {
          "output_type": "display_data",
          "data": {
            "text/plain": [
              "Output()"
            ],
            "application/vnd.jupyter.widget-view+json": {
              "version_major": 2,
              "version_minor": 0,
              "model_id": "71f8f2c2a4c7445ca4675249bf04ae41"
            }
          },
          "metadata": {}
        },
        {
          "output_type": "display_data",
          "data": {
            "text/plain": [],
            "text/html": [
              "<pre style=\"white-space:pre;overflow-x:auto;line-height:normal;font-family:Menlo,'DejaVu Sans Mono',consolas,'Courier New',monospace\"></pre>\n"
            ]
          },
          "metadata": {}
        },
        {
          "output_type": "display_data",
          "data": {
            "text/plain": [
              "Output()"
            ],
            "application/vnd.jupyter.widget-view+json": {
              "version_major": 2,
              "version_minor": 0,
              "model_id": "6188d9550d4342f9934c13ebad42958c"
            }
          },
          "metadata": {}
        },
        {
          "output_type": "display_data",
          "data": {
            "text/plain": [],
            "text/html": [
              "<pre style=\"white-space:pre;overflow-x:auto;line-height:normal;font-family:Menlo,'DejaVu Sans Mono',consolas,'Courier New',monospace\"></pre>\n"
            ]
          },
          "metadata": {}
        },
        {
          "output_type": "display_data",
          "data": {
            "text/plain": [
              "Output()"
            ],
            "application/vnd.jupyter.widget-view+json": {
              "version_major": 2,
              "version_minor": 0,
              "model_id": "81977f0790ca4e5fb13242ef62ee4ea9"
            }
          },
          "metadata": {}
        },
        {
          "output_type": "display_data",
          "data": {
            "text/plain": [],
            "text/html": [
              "<pre style=\"white-space:pre;overflow-x:auto;line-height:normal;font-family:Menlo,'DejaVu Sans Mono',consolas,'Courier New',monospace\"></pre>\n"
            ]
          },
          "metadata": {}
        },
        {
          "output_type": "display_data",
          "data": {
            "text/plain": [
              "Output()"
            ],
            "application/vnd.jupyter.widget-view+json": {
              "version_major": 2,
              "version_minor": 0,
              "model_id": "e4a21c5a0216409fb1e806ed4a0de8c9"
            }
          },
          "metadata": {}
        },
        {
          "output_type": "display_data",
          "data": {
            "text/plain": [],
            "text/html": [
              "<pre style=\"white-space:pre;overflow-x:auto;line-height:normal;font-family:Menlo,'DejaVu Sans Mono',consolas,'Courier New',monospace\"></pre>\n"
            ]
          },
          "metadata": {}
        },
        {
          "name": "stdout",
          "output_type": "stream",
          "text": [
            "> exit\n"
          ]
        },
        {
          "output_type": "display_data",
          "data": {
            "text/plain": [
              "Output()"
            ],
            "application/vnd.jupyter.widget-view+json": {
              "version_major": 2,
              "version_minor": 0,
              "model_id": "af23de14ef81459486c7cf0e10db9c45"
            }
          },
          "metadata": {}
        },
        {
          "output_type": "display_data",
          "data": {
            "text/plain": [],
            "text/html": [
              "<pre style=\"white-space:pre;overflow-x:auto;line-height:normal;font-family:Menlo,'DejaVu Sans Mono',consolas,'Courier New',monospace\"></pre>\n"
            ]
          },
          "metadata": {}
        }
      ]
    },
    {
      "cell_type": "markdown",
      "source": [
        "###**Reset Memory**"
      ],
      "metadata": {
        "id": "WFq_6YWzaD5a"
      }
    },
    {
      "cell_type": "code",
      "source": [
        "interpreter.messages = []"
      ],
      "metadata": {
        "id": "Z8v31OxRV1sf"
      },
      "execution_count": null,
      "outputs": []
    },
    {
      "cell_type": "markdown",
      "source": [
        "###**Create documents**"
      ],
      "metadata": {
        "id": "5msdFzBmaP0Y"
      }
    },
    {
      "cell_type": "code",
      "source": [
        "interpreter.messages = [] # Reset the chat\n",
        "interpreter.chat(\"\"\"Can you make a folder called documents and put five .docx files in it\n",
        "and write a sentence about machine learning in each of them?\"\"\") # Pass a message directly into chat"
      ],
      "metadata": {
        "id": "iuDq7YH8WCDf",
        "colab": {
          "base_uri": "https://localhost:8080/",
          "height": 1000,
          "referenced_widgets": [
            "7aea950210f94544b90c13f8c0e1eb38",
            "1c2a13e7e1f847c7ae5a1b0db18d7db0",
            "e0571ba7bbf34c7abd6c7f119317a1ec",
            "c9aea95693dd4325a6b47ef62a9a8a83",
            "f78f5b3b74f647959217b49934d988a3",
            "fd8a950992a04f25809448160c2891db",
            "75f3b38a58a14f29af6e55e7ebc1ba0b",
            "d8a125c8149342a78da8db1609271dcc",
            "45bbdcf20bb4442f837b266c60fab0dc",
            "bace56065f924f5aa6f205563f7df872"
          ]
        },
        "outputId": "b7c61f6a-94b8-410a-cd57-1bc8b8507aaa"
      },
      "execution_count": null,
      "outputs": [
        {
          "output_type": "display_data",
          "data": {
            "text/plain": [
              "Output()"
            ],
            "application/vnd.jupyter.widget-view+json": {
              "version_major": 2,
              "version_minor": 0,
              "model_id": "7aea950210f94544b90c13f8c0e1eb38"
            }
          },
          "metadata": {}
        },
        {
          "output_type": "display_data",
          "data": {
            "text/plain": [],
            "text/html": [
              "<pre style=\"white-space:pre;overflow-x:auto;line-height:normal;font-family:Menlo,'DejaVu Sans Mono',consolas,'Courier New',monospace\"></pre>\n"
            ]
          },
          "metadata": {}
        },
        {
          "output_type": "display_data",
          "data": {
            "text/plain": [
              "Output()"
            ],
            "application/vnd.jupyter.widget-view+json": {
              "version_major": 2,
              "version_minor": 0,
              "model_id": "e0571ba7bbf34c7abd6c7f119317a1ec"
            }
          },
          "metadata": {}
        },
        {
          "output_type": "display_data",
          "data": {
            "text/plain": [],
            "text/html": [
              "<pre style=\"white-space:pre;overflow-x:auto;line-height:normal;font-family:Menlo,'DejaVu Sans Mono',consolas,'Courier New',monospace\"></pre>\n"
            ]
          },
          "metadata": {}
        },
        {
          "output_type": "display_data",
          "data": {
            "text/plain": [
              "Output()"
            ],
            "application/vnd.jupyter.widget-view+json": {
              "version_major": 2,
              "version_minor": 0,
              "model_id": "f78f5b3b74f647959217b49934d988a3"
            }
          },
          "metadata": {}
        },
        {
          "output_type": "display_data",
          "data": {
            "text/plain": [],
            "text/html": [
              "<pre style=\"white-space:pre;overflow-x:auto;line-height:normal;font-family:Menlo,'DejaVu Sans Mono',consolas,'Courier New',monospace\"></pre>\n"
            ]
          },
          "metadata": {}
        },
        {
          "output_type": "display_data",
          "data": {
            "text/plain": [
              "Output()"
            ],
            "application/vnd.jupyter.widget-view+json": {
              "version_major": 2,
              "version_minor": 0,
              "model_id": "75f3b38a58a14f29af6e55e7ebc1ba0b"
            }
          },
          "metadata": {}
        },
        {
          "output_type": "display_data",
          "data": {
            "text/plain": [],
            "text/html": [
              "<pre style=\"white-space:pre;overflow-x:auto;line-height:normal;font-family:Menlo,'DejaVu Sans Mono',consolas,'Courier New',monospace\"></pre>\n"
            ]
          },
          "metadata": {}
        },
        {
          "output_type": "display_data",
          "data": {
            "text/plain": [
              "Output()"
            ],
            "application/vnd.jupyter.widget-view+json": {
              "version_major": 2,
              "version_minor": 0,
              "model_id": "45bbdcf20bb4442f837b266c60fab0dc"
            }
          },
          "metadata": {}
        },
        {
          "output_type": "display_data",
          "data": {
            "text/plain": [],
            "text/html": [
              "<pre style=\"white-space:pre;overflow-x:auto;line-height:normal;font-family:Menlo,'DejaVu Sans Mono',consolas,'Courier New',monospace\"></pre>\n"
            ]
          },
          "metadata": {}
        },
        {
          "output_type": "execute_result",
          "data": {
            "text/plain": [
              "[{'role': 'assistant',\n",
              "  'type': 'code',\n",
              "  'format': 'shell',\n",
              "  'content': 'mkdir -p documents'},\n",
              " {'role': 'computer', 'type': 'console', 'format': 'output', 'content': '\\n'},\n",
              " {'role': 'assistant',\n",
              "  'type': 'code',\n",
              "  'format': 'python',\n",
              "  'content': 'from docx import Document\\nimport os\\n\\n# Define the path\\nfolder_path = \\'documents\\'\\n\\n# Sentences about machine learning\\nsentences = [\\n    \"Machine learning is a field of artificial intelligence.\",\\n    \"It allows computers to learn from data.\",\\n    \"Machine learning is used in various applications.\",\\n    \"It involves algorithms that improve automatically.\",\\n    \"Deep learning is a subset of machine learning.\"\\n]\\n\\n# Create five .docx files with sentences about machine learning\\nfor i in range(5):\\n    doc = Document()\\n    doc.add_paragraph(sentences[i])\\n    file_path = os.path.join(folder_path, f\\'document_{i+1}.docx\\')\\n    doc.save(file_path)'},\n",
              " {'role': 'computer',\n",
              "  'type': 'console',\n",
              "  'format': 'output',\n",
              "  'content': '---------------------------------------------------------------------------\\nModuleNotFoundError                       Traceback (most recent call last)\\n/tmp/ipykernel_725/1981697529.py in <cell line: 2>()\\n      1 print(\\'##active_line1##\\')\\n----> 2 from docx import Document\\n      3 print(\\'##active_line2##\\')\\n      4 import os\\n      5 print(\\'##active_line3##\\')\\n\\nModuleNotFoundError: No module named \\'docx\\'\\n\\n---------------------------------------------------------------------------\\nNOTE: If your import is failing due to a missing package, you can\\nmanually install dependencies using either !pip or !apt.\\n\\nTo view examples of installing some common dependencies, click the\\n\"Open Examples\" button below.\\n---------------------------------------------------------------------------\\n'},\n",
              " {'role': 'assistant',\n",
              "  'type': 'code',\n",
              "  'format': 'shell',\n",
              "  'content': 'pip install python-docx'},\n",
              " {'role': 'computer',\n",
              "  'type': 'console',\n",
              "  'format': 'output',\n",
              "  'content': '\\nCollecting python-docx\\n  Downloading python_docx-1.1.2-py3-none-any.whl.metadata (2.0 kB)\\nRequirement already satisfied: lxml>=3.1.0 in /usr/local/lib/python3.10/dist-packages (from python-docx) (5.3.0)\\nRequirement already satisfied: typing-extensions>=4.9.0 in /usr/local/lib/python3.10/dist-packages (from python-docx) (4.12.2)\\nDownloading python_docx-1.1.2-py3-none-any.whl (244 kB)\\n\\x1b[?25l   \\x1b[90m━━━━━━━━━━━━━━━━━━━━━━━━━━━━━━━━━━━━━━━━\\x1b[0m \\x1b[32m0.0/244.3 kB\\x1b[0m \\x1b[31m?\\x1b[0m eta \\x1b[36m-:--:--\\x1b[0m\\n\\x1b[2K   \\x1b[91m━━━━━━━━━━━━━━━━━━━━\\x1b[0m\\x1b[90m╺\\x1b[0m\\x1b[90m━━━━━━━━━━━━━━━━━━━\\x1b[0m \\x1b[32m122.9/244.3 kB\\x1b[0m \\x1b[31m3.6 MB/s\\x1b[0m eta \\x1b[36m0:00:01\\x1b[0m\\n\\x1b[2K   \\x1b[90m━━━━━━━━━━━━━━━━━━━━━━━━━━━━━━━━━━━━━━━━\\x1b[0m \\x1b[32m244.3/244.3 kB\\x1b[0m \\x1b[31m3.8 MB/s\\x1b[0m eta \\x1b[36m0:00:00\\x1b[0m\\n\\x1b[?25hInstalling collected packages: python-docx\\nSuccessfully installed python-docx-1.1.2\\n'},\n",
              " {'role': 'assistant',\n",
              "  'type': 'code',\n",
              "  'format': 'python',\n",
              "  'content': 'from docx import Document\\nimport os\\n\\n# Define the path\\nfolder_path = \\'documents\\'\\n\\n# Sentences about machine learning\\nsentences = [\\n    \"Machine learning is a field of artificial intelligence.\",\\n    \"It allows computers to learn from data.\",\\n    \"Machine learning is used in various applications.\",\\n    \"It involves algorithms that improve automatically.\",\\n    \"Deep learning is a subset of machine learning.\"\\n]\\n\\n# Create five .docx files with sentences about machine learning\\nfor i in range(5):\\n    doc = Document()\\n    doc.add_paragraph(sentences[i])\\n    file_path = os.path.join(folder_path, f\\'document_{i+1}.docx\\')\\n    doc.save(file_path)'},\n",
              " {'role': 'computer', 'type': 'console', 'format': 'output', 'content': ''},\n",
              " {'role': 'assistant',\n",
              "  'type': 'message',\n",
              "  'content': 'I have created a folder named `documents` and placed five `.docx` files inside it. Each file contains a sentence about machine learning. Here are the sentences added:\\n\\n1. \"Machine learning is a field of artificial intelligence.\"\\n2. \"It allows computers to learn from data.\"\\n3. \"Machine learning is used in various applications.\"\\n4. \"It involves algorithms that improve automatically.\"\\n5. \"Deep learning is a subset of machine learning.\"\\n\\nIf you have any other requests, feel free to ask!'}]"
            ]
          },
          "metadata": {},
          "execution_count": 8
        }
      ]
    },
    {
      "cell_type": "markdown",
      "source": [
        "## **Edit all documents in a folder**"
      ],
      "metadata": {
        "id": "KrMaUhv7aTTW"
      }
    },
    {
      "cell_type": "code",
      "source": [
        "interpreter.messages = []\n",
        "interpreter.chat(\"\"\"Go through all the .docx files in my 'documents' folder\n",
        "and replace every occurrence of 'Machine Learning' with 'AI'.\"\"\")"
      ],
      "metadata": {
        "id": "RvsrugVNWIYi",
        "colab": {
          "base_uri": "https://localhost:8080/",
          "height": 1000,
          "referenced_widgets": [
            "f22da4d33c014f4381097d6f270821d6",
            "77eee63e800b4892813d206993e24eed",
            "143756ce357947708c5590dcc5ff8698",
            "71a5e253f5444e59b7e79a0133fc9333",
            "f6a766163a2246e5a61dde050c83ae8d",
            "cebecf4e654746519de6af0f51686a99",
            "ca8610b53f9243bcb1076dcda5e1007e",
            "1e1f8c21f0f24d9281dd4414a2ad4310",
            "e18a1bb41a854778aa29b1161f22d660",
            "b2f5e2959dc54c7c8968af73b7e502b5",
            "8594b4bcee13447bbc13325e56689aa6",
            "de832405f6ac462f86fd774b6963ff8f",
            "711f7c7ae78b41beb35f4c2aa55a20f4",
            "1aa9442b97284fcbb4a803eaddd1ef62",
            "ab28f278000341fcb3f20b9fc9d2b282",
            "8337560a2445410cbf4d55e73959243d",
            "6e47c48a4546485cbe37512136551e52",
            "d2c47e854370406f9f38ab33383cbcfe",
            "084d055b9c854a9e835b01beb9f6b0eb",
            "9d99d05e6bca406c9404ad0de2c29f72"
          ]
        },
        "outputId": "9c67718f-9206-4d60-b610-afea590217f9"
      },
      "execution_count": null,
      "outputs": [
        {
          "output_type": "display_data",
          "data": {
            "text/plain": [
              "Output()"
            ],
            "application/vnd.jupyter.widget-view+json": {
              "version_major": 2,
              "version_minor": 0,
              "model_id": "f22da4d33c014f4381097d6f270821d6"
            }
          },
          "metadata": {}
        },
        {
          "output_type": "display_data",
          "data": {
            "text/plain": [],
            "text/html": [
              "<pre style=\"white-space:pre;overflow-x:auto;line-height:normal;font-family:Menlo,'DejaVu Sans Mono',consolas,'Courier New',monospace\"></pre>\n"
            ]
          },
          "metadata": {}
        },
        {
          "output_type": "display_data",
          "data": {
            "text/plain": [
              "Output()"
            ],
            "application/vnd.jupyter.widget-view+json": {
              "version_major": 2,
              "version_minor": 0,
              "model_id": "143756ce357947708c5590dcc5ff8698"
            }
          },
          "metadata": {}
        },
        {
          "output_type": "display_data",
          "data": {
            "text/plain": [],
            "text/html": [
              "<pre style=\"white-space:pre;overflow-x:auto;line-height:normal;font-family:Menlo,'DejaVu Sans Mono',consolas,'Courier New',monospace\"></pre>\n"
            ]
          },
          "metadata": {}
        },
        {
          "output_type": "display_data",
          "data": {
            "text/plain": [
              "Output()"
            ],
            "application/vnd.jupyter.widget-view+json": {
              "version_major": 2,
              "version_minor": 0,
              "model_id": "f6a766163a2246e5a61dde050c83ae8d"
            }
          },
          "metadata": {}
        },
        {
          "output_type": "display_data",
          "data": {
            "text/plain": [],
            "text/html": [
              "<pre style=\"white-space:pre;overflow-x:auto;line-height:normal;font-family:Menlo,'DejaVu Sans Mono',consolas,'Courier New',monospace\"></pre>\n"
            ]
          },
          "metadata": {}
        },
        {
          "output_type": "display_data",
          "data": {
            "text/plain": [
              "Output()"
            ],
            "application/vnd.jupyter.widget-view+json": {
              "version_major": 2,
              "version_minor": 0,
              "model_id": "ca8610b53f9243bcb1076dcda5e1007e"
            }
          },
          "metadata": {}
        },
        {
          "output_type": "display_data",
          "data": {
            "text/plain": [],
            "text/html": [
              "<pre style=\"white-space:pre;overflow-x:auto;line-height:normal;font-family:Menlo,'DejaVu Sans Mono',consolas,'Courier New',monospace\"></pre>\n"
            ]
          },
          "metadata": {}
        },
        {
          "output_type": "display_data",
          "data": {
            "text/plain": [
              "Output()"
            ],
            "application/vnd.jupyter.widget-view+json": {
              "version_major": 2,
              "version_minor": 0,
              "model_id": "e18a1bb41a854778aa29b1161f22d660"
            }
          },
          "metadata": {}
        },
        {
          "output_type": "display_data",
          "data": {
            "text/plain": [],
            "text/html": [
              "<pre style=\"white-space:pre;overflow-x:auto;line-height:normal;font-family:Menlo,'DejaVu Sans Mono',consolas,'Courier New',monospace\"></pre>\n"
            ]
          },
          "metadata": {}
        },
        {
          "output_type": "display_data",
          "data": {
            "text/plain": [
              "Output()"
            ],
            "application/vnd.jupyter.widget-view+json": {
              "version_major": 2,
              "version_minor": 0,
              "model_id": "8594b4bcee13447bbc13325e56689aa6"
            }
          },
          "metadata": {}
        },
        {
          "output_type": "display_data",
          "data": {
            "text/plain": [],
            "text/html": [
              "<pre style=\"white-space:pre;overflow-x:auto;line-height:normal;font-family:Menlo,'DejaVu Sans Mono',consolas,'Courier New',monospace\"></pre>\n"
            ]
          },
          "metadata": {}
        },
        {
          "output_type": "display_data",
          "data": {
            "text/plain": [
              "Output()"
            ],
            "application/vnd.jupyter.widget-view+json": {
              "version_major": 2,
              "version_minor": 0,
              "model_id": "711f7c7ae78b41beb35f4c2aa55a20f4"
            }
          },
          "metadata": {}
        },
        {
          "output_type": "display_data",
          "data": {
            "text/plain": [],
            "text/html": [
              "<pre style=\"white-space:pre;overflow-x:auto;line-height:normal;font-family:Menlo,'DejaVu Sans Mono',consolas,'Courier New',monospace\"></pre>\n"
            ]
          },
          "metadata": {}
        },
        {
          "output_type": "display_data",
          "data": {
            "text/plain": [
              "Output()"
            ],
            "application/vnd.jupyter.widget-view+json": {
              "version_major": 2,
              "version_minor": 0,
              "model_id": "ab28f278000341fcb3f20b9fc9d2b282"
            }
          },
          "metadata": {}
        },
        {
          "output_type": "display_data",
          "data": {
            "text/plain": [],
            "text/html": [
              "<pre style=\"white-space:pre;overflow-x:auto;line-height:normal;font-family:Menlo,'DejaVu Sans Mono',consolas,'Courier New',monospace\"></pre>\n"
            ]
          },
          "metadata": {}
        },
        {
          "output_type": "display_data",
          "data": {
            "text/plain": [
              "Output()"
            ],
            "application/vnd.jupyter.widget-view+json": {
              "version_major": 2,
              "version_minor": 0,
              "model_id": "6e47c48a4546485cbe37512136551e52"
            }
          },
          "metadata": {}
        },
        {
          "output_type": "display_data",
          "data": {
            "text/plain": [],
            "text/html": [
              "<pre style=\"white-space:pre;overflow-x:auto;line-height:normal;font-family:Menlo,'DejaVu Sans Mono',consolas,'Courier New',monospace\"></pre>\n"
            ]
          },
          "metadata": {}
        },
        {
          "output_type": "display_data",
          "data": {
            "text/plain": [
              "Output()"
            ],
            "application/vnd.jupyter.widget-view+json": {
              "version_major": 2,
              "version_minor": 0,
              "model_id": "084d055b9c854a9e835b01beb9f6b0eb"
            }
          },
          "metadata": {}
        },
        {
          "output_type": "display_data",
          "data": {
            "text/plain": [],
            "text/html": [
              "<pre style=\"white-space:pre;overflow-x:auto;line-height:normal;font-family:Menlo,'DejaVu Sans Mono',consolas,'Courier New',monospace\"></pre>\n"
            ]
          },
          "metadata": {}
        },
        {
          "output_type": "execute_result",
          "data": {
            "text/plain": [
              "[{'role': 'assistant',\n",
              "  'type': 'message',\n",
              "  'content': 'To replace \"Machine Learning\" with \"AI\" in all `.docx` files within your \\'documents\\' folder, we\\'ll follow these steps:\\n\\n1. List all `.docx` files in the \\'documents\\' folder.\\n2. For each file, open the document.\\n3. Perform the text replacement.\\n4. Save the modified document.\\n\\nLet\\'s start by listing all the `.docx` files in your \\'documents\\' directory.'},\n",
              " {'role': 'assistant',\n",
              "  'type': 'code',\n",
              "  'format': 'shell',\n",
              "  'content': \"find documents -type f -name '*.docx'\"},\n",
              " {'role': 'computer',\n",
              "  'type': 'console',\n",
              "  'format': 'output',\n",
              "  'content': '\\ndocuments/document_3.docx\\ndocuments/document_4.docx\\ndocuments/document_2.docx\\ndocuments/document_5.docx\\ndocuments/document_1.docx\\n'},\n",
              " {'role': 'assistant',\n",
              "  'type': 'message',\n",
              "  'content': 'Here are the `.docx` files in your \\'documents\\' folder:\\n\\n- documents/document_1.docx\\n- documents/document_2.docx\\n- documents/document_3.docx\\n- documents/document_4.docx\\n- documents/document_5.docx\\n\\nNext, we\\'ll process each of these files to replace \"Machine Learning\" with \"AI\". Let\\'s perform the replacement for one file first, and then continue with the rest. I\\'ll start by replacing the text in `documents/document_1.docx`.'},\n",
              " {'role': 'assistant',\n",
              "  'type': 'code',\n",
              "  'format': 'python',\n",
              "  'content': \"from docx import Document\\n\\ndef replace_text_in_docx(file_path, old_text, new_text):\\n    doc = Document(file_path)\\n    for paragraph in doc.paragraphs:\\n        if old_text in paragraph.text:\\n            paragraph.text = paragraph.text.replace(old_text, new_text)\\n    \\n    doc.save(file_path)\\n\\nreplace_text_in_docx('documents/document_1.docx', 'Machine Learning', 'AI')\\nprint('Replacing text in document_1.docx completed.')\"},\n",
              " {'role': 'computer',\n",
              "  'type': 'console',\n",
              "  'format': 'output',\n",
              "  'content': 'Replacing text in document_1.docx completed.\\n'},\n",
              " {'role': 'assistant',\n",
              "  'type': 'message',\n",
              "  'content': 'The replacement of \"Machine Learning\" with \"AI\" in `documents/document_1.docx` is completed.\\n\\nNow, I\\'ll proceed to apply the same change to the remaining `.docx` files in the \\'documents\\' folder.'},\n",
              " {'role': 'assistant',\n",
              "  'type': 'code',\n",
              "  'format': 'python',\n",
              "  'content': \"replace_text_in_docx('documents/document_2.docx', 'Machine Learning', 'AI')\\nprint('Replacing text in document_2.docx completed.')\"},\n",
              " {'role': 'computer',\n",
              "  'type': 'console',\n",
              "  'format': 'output',\n",
              "  'content': 'Replacing text in document_2.docx completed.\\n'},\n",
              " {'role': 'assistant',\n",
              "  'type': 'code',\n",
              "  'format': 'python',\n",
              "  'content': \"replace_text_in_docx('documents/document_3.docx', 'Machine Learning', 'AI')\\nprint('Replacing text in document_3.docx completed.')\"},\n",
              " {'role': 'computer',\n",
              "  'type': 'console',\n",
              "  'format': 'output',\n",
              "  'content': 'Replacing text in document_3.docx completed.\\n'},\n",
              " {'role': 'assistant',\n",
              "  'type': 'code',\n",
              "  'format': 'python',\n",
              "  'content': \"replace_text_in_docx('documents/document_4.docx', 'Machine Learning', 'AI')\\nprint('Replacing text in document_4.docx completed.')\"},\n",
              " {'role': 'computer',\n",
              "  'type': 'console',\n",
              "  'format': 'output',\n",
              "  'content': 'Replacing text in document_4.docx completed.\\n'},\n",
              " {'role': 'assistant',\n",
              "  'type': 'code',\n",
              "  'format': 'python',\n",
              "  'content': \"replace_text_in_docx('documents/document_5.docx', 'Machine Learning', 'AI')\\nprint('Replacing text in document_5.docx completed.')\"},\n",
              " {'role': 'computer',\n",
              "  'type': 'console',\n",
              "  'format': 'output',\n",
              "  'content': 'Replacing text in document_5.docx completed.\\n'},\n",
              " {'role': 'assistant',\n",
              "  'type': 'message',\n",
              "  'content': 'All occurrences of \"Machine Learning\" have been successfully replaced with \"AI\" in the `.docx` files within your \\'documents\\' folder. If you have any more requests or need further assistance, feel free to ask!'}]"
            ]
          },
          "metadata": {},
          "execution_count": 9
        }
      ]
    },
    {
      "cell_type": "code",
      "source": [
        "# If you don't run interpreter.messages = [], it will remember your conversation.\n",
        "interpreter.chat(\"I wanted to replace the files, so please delete the old ones and rename the new ones\")"
      ],
      "metadata": {
        "id": "HqV8QGdjWW0b",
        "colab": {
          "base_uri": "https://localhost:8080/",
          "height": 198,
          "referenced_widgets": [
            "b6577f68bc474e69ad81267d1baf0959",
            "f2ee284c06aa47479221a956f8fbe435"
          ]
        },
        "outputId": "346baed9-b850-46e8-b748-3e98224f7edf"
      },
      "execution_count": null,
      "outputs": [
        {
          "output_type": "display_data",
          "data": {
            "text/plain": [
              "Output()"
            ],
            "application/vnd.jupyter.widget-view+json": {
              "version_major": 2,
              "version_minor": 0,
              "model_id": "b6577f68bc474e69ad81267d1baf0959"
            }
          },
          "metadata": {}
        },
        {
          "output_type": "display_data",
          "data": {
            "text/plain": [],
            "text/html": [
              "<pre style=\"white-space:pre;overflow-x:auto;line-height:normal;font-family:Menlo,'DejaVu Sans Mono',consolas,'Courier New',monospace\"></pre>\n"
            ]
          },
          "metadata": {}
        },
        {
          "output_type": "execute_result",
          "data": {
            "text/plain": [
              "[{'role': 'assistant',\n",
              "  'type': 'message',\n",
              "  'content': \"The replacements were made directly within the original files, so there are no separate files that need to be renamed or old ones that need to be deleted. The `.docx` files in the 'documents' folder have already been updated in place with the changes.\\n\\nIf there's anything else you would like to do with these files, please let me know!\"}]"
            ]
          },
          "metadata": {},
          "execution_count": 10
        }
      ]
    }
  ]
}