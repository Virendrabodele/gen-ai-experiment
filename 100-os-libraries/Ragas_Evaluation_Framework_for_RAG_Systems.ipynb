{
  "nbformat": 4,
  "nbformat_minor": 0,
  "metadata": {
    "colab": {
      "provenance": []
    },
    "kernelspec": {
      "name": "python3",
      "display_name": "Python 3"
    },
    "language_info": {
      "name": "python"
    },
    "widgets": {
      "application/vnd.jupyter.widget-state+json": {
        "339922e6124e42699c5960c96537b56b": {
          "model_module": "@jupyter-widgets/controls",
          "model_name": "HBoxModel",
          "model_module_version": "1.5.0",
          "state": {
            "_dom_classes": [],
            "_model_module": "@jupyter-widgets/controls",
            "_model_module_version": "1.5.0",
            "_model_name": "HBoxModel",
            "_view_count": null,
            "_view_module": "@jupyter-widgets/controls",
            "_view_module_version": "1.5.0",
            "_view_name": "HBoxView",
            "box_style": "",
            "children": [
              "IPY_MODEL_7ced3db5e7da414d9a76a0c89f8a87e3",
              "IPY_MODEL_fe8e026c021f49c98d9709159348b4f3",
              "IPY_MODEL_0c387f2ec3ab4f77af3cffdf9710044d"
            ],
            "layout": "IPY_MODEL_1d8a5de548fa47e6be3c828853a47eae"
          }
        },
        "7ced3db5e7da414d9a76a0c89f8a87e3": {
          "model_module": "@jupyter-widgets/controls",
          "model_name": "HTMLModel",
          "model_module_version": "1.5.0",
          "state": {
            "_dom_classes": [],
            "_model_module": "@jupyter-widgets/controls",
            "_model_module_version": "1.5.0",
            "_model_name": "HTMLModel",
            "_view_count": null,
            "_view_module": "@jupyter-widgets/controls",
            "_view_module_version": "1.5.0",
            "_view_name": "HTMLView",
            "description": "",
            "description_tooltip": null,
            "layout": "IPY_MODEL_3dcc1c71dc0c47caa1b003ca8a2025bb",
            "placeholder": "​",
            "style": "IPY_MODEL_07ca19603de74179a24e5f214ac18148",
            "value": "Evaluating: 100%"
          }
        },
        "fe8e026c021f49c98d9709159348b4f3": {
          "model_module": "@jupyter-widgets/controls",
          "model_name": "FloatProgressModel",
          "model_module_version": "1.5.0",
          "state": {
            "_dom_classes": [],
            "_model_module": "@jupyter-widgets/controls",
            "_model_module_version": "1.5.0",
            "_model_name": "FloatProgressModel",
            "_view_count": null,
            "_view_module": "@jupyter-widgets/controls",
            "_view_module_version": "1.5.0",
            "_view_name": "ProgressView",
            "bar_style": "success",
            "description": "",
            "description_tooltip": null,
            "layout": "IPY_MODEL_6b38a225f1304c8bbdcb00eb3eb373bf",
            "max": 15,
            "min": 0,
            "orientation": "horizontal",
            "style": "IPY_MODEL_d280632c09a54cd291872f226f0dc118",
            "value": 15
          }
        },
        "0c387f2ec3ab4f77af3cffdf9710044d": {
          "model_module": "@jupyter-widgets/controls",
          "model_name": "HTMLModel",
          "model_module_version": "1.5.0",
          "state": {
            "_dom_classes": [],
            "_model_module": "@jupyter-widgets/controls",
            "_model_module_version": "1.5.0",
            "_model_name": "HTMLModel",
            "_view_count": null,
            "_view_module": "@jupyter-widgets/controls",
            "_view_module_version": "1.5.0",
            "_view_name": "HTMLView",
            "description": "",
            "description_tooltip": null,
            "layout": "IPY_MODEL_0d0e79ea73134ada845a120165cb261a",
            "placeholder": "​",
            "style": "IPY_MODEL_6b73d3bbdcc048749d0a75b380894ddd",
            "value": " 15/15 [00:16&lt;00:00,  1.56s/it]"
          }
        },
        "1d8a5de548fa47e6be3c828853a47eae": {
          "model_module": "@jupyter-widgets/base",
          "model_name": "LayoutModel",
          "model_module_version": "1.2.0",
          "state": {
            "_model_module": "@jupyter-widgets/base",
            "_model_module_version": "1.2.0",
            "_model_name": "LayoutModel",
            "_view_count": null,
            "_view_module": "@jupyter-widgets/base",
            "_view_module_version": "1.2.0",
            "_view_name": "LayoutView",
            "align_content": null,
            "align_items": null,
            "align_self": null,
            "border": null,
            "bottom": null,
            "display": null,
            "flex": null,
            "flex_flow": null,
            "grid_area": null,
            "grid_auto_columns": null,
            "grid_auto_flow": null,
            "grid_auto_rows": null,
            "grid_column": null,
            "grid_gap": null,
            "grid_row": null,
            "grid_template_areas": null,
            "grid_template_columns": null,
            "grid_template_rows": null,
            "height": null,
            "justify_content": null,
            "justify_items": null,
            "left": null,
            "margin": null,
            "max_height": null,
            "max_width": null,
            "min_height": null,
            "min_width": null,
            "object_fit": null,
            "object_position": null,
            "order": null,
            "overflow": null,
            "overflow_x": null,
            "overflow_y": null,
            "padding": null,
            "right": null,
            "top": null,
            "visibility": null,
            "width": null
          }
        },
        "3dcc1c71dc0c47caa1b003ca8a2025bb": {
          "model_module": "@jupyter-widgets/base",
          "model_name": "LayoutModel",
          "model_module_version": "1.2.0",
          "state": {
            "_model_module": "@jupyter-widgets/base",
            "_model_module_version": "1.2.0",
            "_model_name": "LayoutModel",
            "_view_count": null,
            "_view_module": "@jupyter-widgets/base",
            "_view_module_version": "1.2.0",
            "_view_name": "LayoutView",
            "align_content": null,
            "align_items": null,
            "align_self": null,
            "border": null,
            "bottom": null,
            "display": null,
            "flex": null,
            "flex_flow": null,
            "grid_area": null,
            "grid_auto_columns": null,
            "grid_auto_flow": null,
            "grid_auto_rows": null,
            "grid_column": null,
            "grid_gap": null,
            "grid_row": null,
            "grid_template_areas": null,
            "grid_template_columns": null,
            "grid_template_rows": null,
            "height": null,
            "justify_content": null,
            "justify_items": null,
            "left": null,
            "margin": null,
            "max_height": null,
            "max_width": null,
            "min_height": null,
            "min_width": null,
            "object_fit": null,
            "object_position": null,
            "order": null,
            "overflow": null,
            "overflow_x": null,
            "overflow_y": null,
            "padding": null,
            "right": null,
            "top": null,
            "visibility": null,
            "width": null
          }
        },
        "07ca19603de74179a24e5f214ac18148": {
          "model_module": "@jupyter-widgets/controls",
          "model_name": "DescriptionStyleModel",
          "model_module_version": "1.5.0",
          "state": {
            "_model_module": "@jupyter-widgets/controls",
            "_model_module_version": "1.5.0",
            "_model_name": "DescriptionStyleModel",
            "_view_count": null,
            "_view_module": "@jupyter-widgets/base",
            "_view_module_version": "1.2.0",
            "_view_name": "StyleView",
            "description_width": ""
          }
        },
        "6b38a225f1304c8bbdcb00eb3eb373bf": {
          "model_module": "@jupyter-widgets/base",
          "model_name": "LayoutModel",
          "model_module_version": "1.2.0",
          "state": {
            "_model_module": "@jupyter-widgets/base",
            "_model_module_version": "1.2.0",
            "_model_name": "LayoutModel",
            "_view_count": null,
            "_view_module": "@jupyter-widgets/base",
            "_view_module_version": "1.2.0",
            "_view_name": "LayoutView",
            "align_content": null,
            "align_items": null,
            "align_self": null,
            "border": null,
            "bottom": null,
            "display": null,
            "flex": null,
            "flex_flow": null,
            "grid_area": null,
            "grid_auto_columns": null,
            "grid_auto_flow": null,
            "grid_auto_rows": null,
            "grid_column": null,
            "grid_gap": null,
            "grid_row": null,
            "grid_template_areas": null,
            "grid_template_columns": null,
            "grid_template_rows": null,
            "height": null,
            "justify_content": null,
            "justify_items": null,
            "left": null,
            "margin": null,
            "max_height": null,
            "max_width": null,
            "min_height": null,
            "min_width": null,
            "object_fit": null,
            "object_position": null,
            "order": null,
            "overflow": null,
            "overflow_x": null,
            "overflow_y": null,
            "padding": null,
            "right": null,
            "top": null,
            "visibility": null,
            "width": null
          }
        },
        "d280632c09a54cd291872f226f0dc118": {
          "model_module": "@jupyter-widgets/controls",
          "model_name": "ProgressStyleModel",
          "model_module_version": "1.5.0",
          "state": {
            "_model_module": "@jupyter-widgets/controls",
            "_model_module_version": "1.5.0",
            "_model_name": "ProgressStyleModel",
            "_view_count": null,
            "_view_module": "@jupyter-widgets/base",
            "_view_module_version": "1.2.0",
            "_view_name": "StyleView",
            "bar_color": null,
            "description_width": ""
          }
        },
        "0d0e79ea73134ada845a120165cb261a": {
          "model_module": "@jupyter-widgets/base",
          "model_name": "LayoutModel",
          "model_module_version": "1.2.0",
          "state": {
            "_model_module": "@jupyter-widgets/base",
            "_model_module_version": "1.2.0",
            "_model_name": "LayoutModel",
            "_view_count": null,
            "_view_module": "@jupyter-widgets/base",
            "_view_module_version": "1.2.0",
            "_view_name": "LayoutView",
            "align_content": null,
            "align_items": null,
            "align_self": null,
            "border": null,
            "bottom": null,
            "display": null,
            "flex": null,
            "flex_flow": null,
            "grid_area": null,
            "grid_auto_columns": null,
            "grid_auto_flow": null,
            "grid_auto_rows": null,
            "grid_column": null,
            "grid_gap": null,
            "grid_row": null,
            "grid_template_areas": null,
            "grid_template_columns": null,
            "grid_template_rows": null,
            "height": null,
            "justify_content": null,
            "justify_items": null,
            "left": null,
            "margin": null,
            "max_height": null,
            "max_width": null,
            "min_height": null,
            "min_width": null,
            "object_fit": null,
            "object_position": null,
            "order": null,
            "overflow": null,
            "overflow_x": null,
            "overflow_y": null,
            "padding": null,
            "right": null,
            "top": null,
            "visibility": null,
            "width": null
          }
        },
        "6b73d3bbdcc048749d0a75b380894ddd": {
          "model_module": "@jupyter-widgets/controls",
          "model_name": "DescriptionStyleModel",
          "model_module_version": "1.5.0",
          "state": {
            "_model_module": "@jupyter-widgets/controls",
            "_model_module_version": "1.5.0",
            "_model_name": "DescriptionStyleModel",
            "_view_count": null,
            "_view_module": "@jupyter-widgets/base",
            "_view_module_version": "1.2.0",
            "_view_name": "StyleView",
            "description_width": ""
          }
        },
        "87d127ca5692459ebf2a31f5ffe249ad": {
          "model_module": "@jupyter-widgets/controls",
          "model_name": "HBoxModel",
          "model_module_version": "1.5.0",
          "state": {
            "_dom_classes": [],
            "_model_module": "@jupyter-widgets/controls",
            "_model_module_version": "1.5.0",
            "_model_name": "HBoxModel",
            "_view_count": null,
            "_view_module": "@jupyter-widgets/controls",
            "_view_module_version": "1.5.0",
            "_view_name": "HBoxView",
            "box_style": "",
            "children": [
              "IPY_MODEL_34944168a26e4ad9b74dccae1ff7b34e",
              "IPY_MODEL_baa9e0afebb74be48584c2bcd0f4ba12",
              "IPY_MODEL_5bc7da1bb7d44ec9aa8acbcafed62d2f"
            ],
            "layout": "IPY_MODEL_a3bb6b4f1ca44e418a986956ab6d0f4c"
          }
        },
        "34944168a26e4ad9b74dccae1ff7b34e": {
          "model_module": "@jupyter-widgets/controls",
          "model_name": "HTMLModel",
          "model_module_version": "1.5.0",
          "state": {
            "_dom_classes": [],
            "_model_module": "@jupyter-widgets/controls",
            "_model_module_version": "1.5.0",
            "_model_name": "HTMLModel",
            "_view_count": null,
            "_view_module": "@jupyter-widgets/controls",
            "_view_module_version": "1.5.0",
            "_view_name": "HTMLView",
            "description": "",
            "description_tooltip": null,
            "layout": "IPY_MODEL_d16bf240f8f54506bb2e8d0233de720d",
            "placeholder": "​",
            "style": "IPY_MODEL_48aa41a7ae954994a3aa689af4fe3f54",
            "value": "Evaluating: 100%"
          }
        },
        "baa9e0afebb74be48584c2bcd0f4ba12": {
          "model_module": "@jupyter-widgets/controls",
          "model_name": "FloatProgressModel",
          "model_module_version": "1.5.0",
          "state": {
            "_dom_classes": [],
            "_model_module": "@jupyter-widgets/controls",
            "_model_module_version": "1.5.0",
            "_model_name": "FloatProgressModel",
            "_view_count": null,
            "_view_module": "@jupyter-widgets/controls",
            "_view_module_version": "1.5.0",
            "_view_name": "ProgressView",
            "bar_style": "success",
            "description": "",
            "description_tooltip": null,
            "layout": "IPY_MODEL_b5ddf4faf7ca434a821555eddf7eb21c",
            "max": 50,
            "min": 0,
            "orientation": "horizontal",
            "style": "IPY_MODEL_aa35f2be21f748c28d1237b4d7d9cf9a",
            "value": 50
          }
        },
        "5bc7da1bb7d44ec9aa8acbcafed62d2f": {
          "model_module": "@jupyter-widgets/controls",
          "model_name": "HTMLModel",
          "model_module_version": "1.5.0",
          "state": {
            "_dom_classes": [],
            "_model_module": "@jupyter-widgets/controls",
            "_model_module_version": "1.5.0",
            "_model_name": "HTMLModel",
            "_view_count": null,
            "_view_module": "@jupyter-widgets/controls",
            "_view_module_version": "1.5.0",
            "_view_name": "HTMLView",
            "description": "",
            "description_tooltip": null,
            "layout": "IPY_MODEL_32bb768abeb74badba3d370e37d1e6d9",
            "placeholder": "​",
            "style": "IPY_MODEL_c118624769eb47cda169b408ad460923",
            "value": " 50/50 [00:05&lt;00:00, 12.14it/s]"
          }
        },
        "a3bb6b4f1ca44e418a986956ab6d0f4c": {
          "model_module": "@jupyter-widgets/base",
          "model_name": "LayoutModel",
          "model_module_version": "1.2.0",
          "state": {
            "_model_module": "@jupyter-widgets/base",
            "_model_module_version": "1.2.0",
            "_model_name": "LayoutModel",
            "_view_count": null,
            "_view_module": "@jupyter-widgets/base",
            "_view_module_version": "1.2.0",
            "_view_name": "LayoutView",
            "align_content": null,
            "align_items": null,
            "align_self": null,
            "border": null,
            "bottom": null,
            "display": null,
            "flex": null,
            "flex_flow": null,
            "grid_area": null,
            "grid_auto_columns": null,
            "grid_auto_flow": null,
            "grid_auto_rows": null,
            "grid_column": null,
            "grid_gap": null,
            "grid_row": null,
            "grid_template_areas": null,
            "grid_template_columns": null,
            "grid_template_rows": null,
            "height": null,
            "justify_content": null,
            "justify_items": null,
            "left": null,
            "margin": null,
            "max_height": null,
            "max_width": null,
            "min_height": null,
            "min_width": null,
            "object_fit": null,
            "object_position": null,
            "order": null,
            "overflow": null,
            "overflow_x": null,
            "overflow_y": null,
            "padding": null,
            "right": null,
            "top": null,
            "visibility": null,
            "width": null
          }
        },
        "d16bf240f8f54506bb2e8d0233de720d": {
          "model_module": "@jupyter-widgets/base",
          "model_name": "LayoutModel",
          "model_module_version": "1.2.0",
          "state": {
            "_model_module": "@jupyter-widgets/base",
            "_model_module_version": "1.2.0",
            "_model_name": "LayoutModel",
            "_view_count": null,
            "_view_module": "@jupyter-widgets/base",
            "_view_module_version": "1.2.0",
            "_view_name": "LayoutView",
            "align_content": null,
            "align_items": null,
            "align_self": null,
            "border": null,
            "bottom": null,
            "display": null,
            "flex": null,
            "flex_flow": null,
            "grid_area": null,
            "grid_auto_columns": null,
            "grid_auto_flow": null,
            "grid_auto_rows": null,
            "grid_column": null,
            "grid_gap": null,
            "grid_row": null,
            "grid_template_areas": null,
            "grid_template_columns": null,
            "grid_template_rows": null,
            "height": null,
            "justify_content": null,
            "justify_items": null,
            "left": null,
            "margin": null,
            "max_height": null,
            "max_width": null,
            "min_height": null,
            "min_width": null,
            "object_fit": null,
            "object_position": null,
            "order": null,
            "overflow": null,
            "overflow_x": null,
            "overflow_y": null,
            "padding": null,
            "right": null,
            "top": null,
            "visibility": null,
            "width": null
          }
        },
        "48aa41a7ae954994a3aa689af4fe3f54": {
          "model_module": "@jupyter-widgets/controls",
          "model_name": "DescriptionStyleModel",
          "model_module_version": "1.5.0",
          "state": {
            "_model_module": "@jupyter-widgets/controls",
            "_model_module_version": "1.5.0",
            "_model_name": "DescriptionStyleModel",
            "_view_count": null,
            "_view_module": "@jupyter-widgets/base",
            "_view_module_version": "1.2.0",
            "_view_name": "StyleView",
            "description_width": ""
          }
        },
        "b5ddf4faf7ca434a821555eddf7eb21c": {
          "model_module": "@jupyter-widgets/base",
          "model_name": "LayoutModel",
          "model_module_version": "1.2.0",
          "state": {
            "_model_module": "@jupyter-widgets/base",
            "_model_module_version": "1.2.0",
            "_model_name": "LayoutModel",
            "_view_count": null,
            "_view_module": "@jupyter-widgets/base",
            "_view_module_version": "1.2.0",
            "_view_name": "LayoutView",
            "align_content": null,
            "align_items": null,
            "align_self": null,
            "border": null,
            "bottom": null,
            "display": null,
            "flex": null,
            "flex_flow": null,
            "grid_area": null,
            "grid_auto_columns": null,
            "grid_auto_flow": null,
            "grid_auto_rows": null,
            "grid_column": null,
            "grid_gap": null,
            "grid_row": null,
            "grid_template_areas": null,
            "grid_template_columns": null,
            "grid_template_rows": null,
            "height": null,
            "justify_content": null,
            "justify_items": null,
            "left": null,
            "margin": null,
            "max_height": null,
            "max_width": null,
            "min_height": null,
            "min_width": null,
            "object_fit": null,
            "object_position": null,
            "order": null,
            "overflow": null,
            "overflow_x": null,
            "overflow_y": null,
            "padding": null,
            "right": null,
            "top": null,
            "visibility": null,
            "width": null
          }
        },
        "aa35f2be21f748c28d1237b4d7d9cf9a": {
          "model_module": "@jupyter-widgets/controls",
          "model_name": "ProgressStyleModel",
          "model_module_version": "1.5.0",
          "state": {
            "_model_module": "@jupyter-widgets/controls",
            "_model_module_version": "1.5.0",
            "_model_name": "ProgressStyleModel",
            "_view_count": null,
            "_view_module": "@jupyter-widgets/base",
            "_view_module_version": "1.2.0",
            "_view_name": "StyleView",
            "bar_color": null,
            "description_width": ""
          }
        },
        "32bb768abeb74badba3d370e37d1e6d9": {
          "model_module": "@jupyter-widgets/base",
          "model_name": "LayoutModel",
          "model_module_version": "1.2.0",
          "state": {
            "_model_module": "@jupyter-widgets/base",
            "_model_module_version": "1.2.0",
            "_model_name": "LayoutModel",
            "_view_count": null,
            "_view_module": "@jupyter-widgets/base",
            "_view_module_version": "1.2.0",
            "_view_name": "LayoutView",
            "align_content": null,
            "align_items": null,
            "align_self": null,
            "border": null,
            "bottom": null,
            "display": null,
            "flex": null,
            "flex_flow": null,
            "grid_area": null,
            "grid_auto_columns": null,
            "grid_auto_flow": null,
            "grid_auto_rows": null,
            "grid_column": null,
            "grid_gap": null,
            "grid_row": null,
            "grid_template_areas": null,
            "grid_template_columns": null,
            "grid_template_rows": null,
            "height": null,
            "justify_content": null,
            "justify_items": null,
            "left": null,
            "margin": null,
            "max_height": null,
            "max_width": null,
            "min_height": null,
            "min_width": null,
            "object_fit": null,
            "object_position": null,
            "order": null,
            "overflow": null,
            "overflow_x": null,
            "overflow_y": null,
            "padding": null,
            "right": null,
            "top": null,
            "visibility": null,
            "width": null
          }
        },
        "c118624769eb47cda169b408ad460923": {
          "model_module": "@jupyter-widgets/controls",
          "model_name": "DescriptionStyleModel",
          "model_module_version": "1.5.0",
          "state": {
            "_model_module": "@jupyter-widgets/controls",
            "_model_module_version": "1.5.0",
            "_model_name": "DescriptionStyleModel",
            "_view_count": null,
            "_view_module": "@jupyter-widgets/base",
            "_view_module_version": "1.2.0",
            "_view_name": "StyleView",
            "description_width": ""
          }
        }
      }
    }
  },
  "cells": [
    {
      "cell_type": "markdown",
      "source": [
        "<img src=\"https://drive.google.com/uc?export=view&id=1wYSMgJtARFdvTt5g7E20mE4NmwUFUuog\" width=\"200\">\n",
        "\n",
        "[![Build Fast with AI](https://img.shields.io/badge/BuildFastWithAI-GenAI%20Bootcamp-blue?style=for-the-badge&logo=artificial-intelligence)](https://www.buildfastwithai.com/genai-course)\n",
        "[![EduChain GitHub](https://img.shields.io/github/stars/satvik314/educhain?style=for-the-badge&logo=github&color=gold)](https://github.com/satvik314/educhain)\n",
        "\n",
        "[![Open In Colab](https://colab.research.google.com/assets/colab-badge.svg)](https://colab.research.google.com/drive/1sy5nKIdTpy16VbYQzn3BvhDhfb5D1uyL?usp=sharing)\n",
        "## Master Generative AI in 6 Weeks\n",
        "**What You'll Learn:**\n",
        "- Build with Latest LLMs\n",
        "- Create Custom AI Apps\n",
        "- Learn from Industry Experts\n",
        "- Join Innovation Community\n",
        "Transform your AI ideas into reality through hands-on projects and expert mentorship.\n",
        "[Start Your Journey](https://www.buildfastwithai.com/genai-course)\n",
        "*Empowering the Next Generation of AI Innovators"
      ],
      "metadata": {
        "id": "HeyCgqTHZzft"
      }
    },
    {
      "cell_type": "markdown",
      "source": [
        "# Ragas: Evaluation Framework for RAG Systems\n",
        "\n",
        "[Ragas](https://github.com/explodinggradients/ragas) is an open-source evaluation framework for retrieval-augmented generation (RAG) systems. It provides tools to assess the quality of RAG workflows by analyzing their retrieval and generation components. Ragas supports metrics like precision, recall, and response coherence, helping developers improve their systems. Designed for flexibility, it integrates easily with popular RAG setups and workflows.\n"
      ],
      "metadata": {
        "id": "tMQ-4pk9aF9b"
      }
    },
    {
      "cell_type": "markdown",
      "source": [
        "###**Setup and Installation**\n",
        "\n"
      ],
      "metadata": {
        "id": "fa0WmWv-Z4Eg"
      }
    },
    {
      "cell_type": "code",
      "source": [
        "pip install ragas sacrebleu langchain-openai"
      ],
      "metadata": {
        "id": "x-sVsBXDRJh8"
      },
      "execution_count": null,
      "outputs": []
    },
    {
      "cell_type": "code",
      "source": [
        "pip install git+https://github.com/explodinggradients/ragas.git\n"
      ],
      "metadata": {
        "id": "hnsNiviFVQi1"
      },
      "execution_count": null,
      "outputs": []
    },
    {
      "cell_type": "markdown",
      "source": [
        "###**Setup Keys**"
      ],
      "metadata": {
        "id": "oVMxRvduaIJH"
      }
    },
    {
      "cell_type": "code",
      "source": [
        "from google.colab import userdata\n",
        "import os\n",
        "\n",
        "os.environ['OPENAI_API_KEY']=userdata.get('OPENAI_API_KEY')"
      ],
      "metadata": {
        "id": "scZ4bM_uUiok"
      },
      "execution_count": null,
      "outputs": []
    },
    {
      "cell_type": "markdown",
      "source": [
        "##**Building a simple Q&A application**"
      ],
      "metadata": {
        "id": "jALc3UgmaXb2"
      }
    },
    {
      "cell_type": "code",
      "source": [
        "import os\n",
        "from dotenv import load_dotenv\n",
        "from langchain_core.documents import Document\n",
        "\n",
        "load_dotenv()\n",
        "\n",
        "content_list = [\n",
        "    \"Andrew Ng is the CEO of Landing AI and is known for his pioneering work in deep learning. He is also widely recognized for democratizing AI education through platforms like Coursera.\",\n",
        "    \"Sam Altman is the CEO of OpenAI and has played a key role in advancing AI research and development. He is a strong advocate for creating safe and beneficial AI technologies.\",\n",
        "    \"Demis Hassabis is the CEO of DeepMind and is celebrated for his innovative approach to artificial intelligence. He gained prominence for developing systems that can master complex games like AlphaGo.\",\n",
        "    \"Sundar Pichai is the CEO of Google and Alphabet Inc., and he is praised for leading innovation across Google's vast product ecosystem. His leadership has significantly enhanced user experiences on a global scale.\",\n",
        "    \"Arvind Krishna is the CEO of IBM and is recognized for transforming the company towards cloud computing and AI solutions. He focuses on providing cutting-edge technologies to address modern business challenges.\",\n",
        "]\n",
        "\n",
        "langchain_documents = []\n",
        "\n",
        "for content in content_list:\n",
        "    langchain_documents.append(\n",
        "        Document(\n",
        "            page_content=content,\n",
        "        )\n",
        "    )"
      ],
      "metadata": {
        "id": "zOpDkuchVljW"
      },
      "execution_count": null,
      "outputs": []
    },
    {
      "cell_type": "markdown",
      "source": [
        "### **LangChain Vector Store with OpenAI Embeddings**\n"
      ],
      "metadata": {
        "id": "mWmjwzBnaslJ"
      }
    },
    {
      "cell_type": "code",
      "source": [
        "from langchain_openai.embeddings import OpenAIEmbeddings\n",
        "from langchain_core.vectorstores import InMemoryVectorStore\n",
        "\n",
        "embeddings = OpenAIEmbeddings(model=\"text-embedding-3-small\")\n",
        "vector_store = InMemoryVectorStore(embeddings)\n",
        "\n",
        "_ = vector_store.add_documents(langchain_documents)"
      ],
      "metadata": {
        "id": "SYAj2XRJWAwp"
      },
      "execution_count": null,
      "outputs": []
    },
    {
      "cell_type": "markdown",
      "source": [
        "### **Retriever Configuration with Vector Store**\n"
      ],
      "metadata": {
        "id": "_Y6se77QatRP"
      }
    },
    {
      "cell_type": "code",
      "source": [
        "retriever = vector_store.as_retriever(search_kwargs={\"k\": 1})"
      ],
      "metadata": {
        "id": "EOGvpbLAVJ3M"
      },
      "execution_count": null,
      "outputs": []
    },
    {
      "cell_type": "code",
      "source": [
        "from langchain_openai import ChatOpenAI\n",
        "\n",
        "llm = ChatOpenAI(model=\"gpt-4o-mini\")"
      ],
      "metadata": {
        "id": "LD1qpB82WJwa"
      },
      "execution_count": null,
      "outputs": []
    },
    {
      "cell_type": "markdown",
      "source": [
        "### **Creating QA Chain with ChatPromptTemplate**\n"
      ],
      "metadata": {
        "id": "eU4Co-oZa3lQ"
      }
    },
    {
      "cell_type": "code",
      "source": [
        "from langchain_core.prompts import ChatPromptTemplate\n",
        "from langchain_core.output_parsers import StrOutputParser\n",
        "\n",
        "\n",
        "template = \"\"\"Answer the question based only on the following context:\n",
        "{context}\n",
        "\n",
        "Question: {query}\n",
        "\"\"\"\n",
        "prompt = ChatPromptTemplate.from_template(template)\n",
        "\n",
        "qa_chain = prompt | llm | StrOutputParser()"
      ],
      "metadata": {
        "id": "IipJKsvOWMcN"
      },
      "execution_count": null,
      "outputs": []
    },
    {
      "cell_type": "markdown",
      "source": [
        "### **Query Processing with Relevant Documents**\n"
      ],
      "metadata": {
        "id": "UBRJ2EnOa8Ll"
      }
    },
    {
      "cell_type": "code",
      "source": [
        "def format_docs(relevant_docs):\n",
        "    return \"\\n\".join(doc.page_content for doc in relevant_docs)\n",
        "\n",
        "\n",
        "query = \"Who is the CEO of OpenAI?\"\n",
        "\n",
        "relevant_docs = retriever.invoke(query)\n",
        "qa_chain.invoke({\"context\": format_docs(relevant_docs), \"query\": query})"
      ],
      "metadata": {
        "colab": {
          "base_uri": "https://localhost:8080/",
          "height": 36
        },
        "id": "k8gUObN7WOqp",
        "outputId": "48d8b17f-0a09-490f-b46c-1825d24a08bc"
      },
      "execution_count": null,
      "outputs": [
        {
          "output_type": "execute_result",
          "data": {
            "text/plain": [
              "'The CEO of OpenAI is Sam Altman.'"
            ],
            "application/vnd.google.colaboratory.intrinsic+json": {
              "type": "string"
            }
          },
          "metadata": {},
          "execution_count": 11
        }
      ]
    },
    {
      "cell_type": "markdown",
      "source": [
        "### **Sample Queries and Expected Responses**\n"
      ],
      "metadata": {
        "id": "f_FGCE9Ra_rZ"
      }
    },
    {
      "cell_type": "code",
      "source": [
        "sample_queries = [\n",
        "    \"Which CEO is widely recognized for democratizing AI education through platforms like Coursera?\",\n",
        "    \"Who is Sam Altman?\",\n",
        "    \"Who is Demis Hassabis and how did he gained prominence?\",\n",
        "    \"Who is the CEO of Google and Alphabet Inc., praised for leading innovation across Google's product ecosystem?\",\n",
        "    \"How did Arvind Krishna transformed IBM?\",\n",
        "]\n",
        "\n",
        "expected_responses = [\n",
        "    \"Andrew Ng is the CEO of Landing AI and is widely recognized for democratizing AI education through platforms like Coursera.\",\n",
        "    \"Sam Altman is the CEO of OpenAI and has played a key role in advancing AI research and development. He strongly advocates for creating safe and beneficial AI technologies.\",\n",
        "    \"Demis Hassabis is the CEO of DeepMind and is celebrated for his innovative approach to artificial intelligence. He gained prominence for developing systems like AlphaGo that can master complex games.\",\n",
        "    \"Sundar Pichai is the CEO of Google and Alphabet Inc., praised for leading innovation across Google's vast product ecosystem. His leadership has significantly enhanced user experiences globally.\",\n",
        "    \"Arvind Krishna is the CEO of IBM and has transformed the company towards cloud computing and AI solutions. He focuses on delivering cutting-edge technologies to address modern business challenges.\",\n",
        "]"
      ],
      "metadata": {
        "id": "RpmNmCymWQbg"
      },
      "execution_count": null,
      "outputs": []
    },
    {
      "cell_type": "markdown",
      "source": [
        "### **Creating Evaluation Dataset for RAGAS**\n"
      ],
      "metadata": {
        "id": "XIYoXJlebDE5"
      }
    },
    {
      "cell_type": "code",
      "source": [
        "from ragas import EvaluationDataset\n",
        "\n",
        "\n",
        "dataset = []\n",
        "\n",
        "for query, reference in zip(sample_queries, expected_responses):\n",
        "    relevant_docs = retriever.invoke(query)\n",
        "    response = qa_chain.invoke({\"context\": format_docs(relevant_docs), \"query\": query})\n",
        "    dataset.append(\n",
        "        {\n",
        "            \"user_input\": query,\n",
        "            \"retrieved_contexts\": [rdoc.page_content for rdoc in relevant_docs],\n",
        "            \"response\": response,\n",
        "            \"reference\": reference,\n",
        "        }\n",
        "    )\n",
        "\n",
        "evaluation_dataset = EvaluationDataset.from_list(dataset)"
      ],
      "metadata": {
        "id": "3jOhverMWSf-"
      },
      "execution_count": null,
      "outputs": []
    },
    {
      "cell_type": "markdown",
      "source": [
        "### **Evaluating Model with RAGAS Metrics**\n"
      ],
      "metadata": {
        "id": "QVh6przLbGj-"
      }
    },
    {
      "cell_type": "code",
      "source": [
        "from ragas import evaluate\n",
        "from ragas.llms import LangchainLLMWrapper\n",
        "from ragas.metrics import LLMContextRecall, Faithfulness, FactualCorrectness\n",
        "\n",
        "evaluator_llm = LangchainLLMWrapper(llm)\n",
        "\n",
        "result = evaluate(\n",
        "    dataset=evaluation_dataset,\n",
        "    metrics=[LLMContextRecall(), Faithfulness(), FactualCorrectness()],\n",
        "    llm=evaluator_llm,\n",
        ")\n",
        "\n",
        "result"
      ],
      "metadata": {
        "colab": {
          "base_uri": "https://localhost:8080/",
          "height": 66,
          "referenced_widgets": [
            "339922e6124e42699c5960c96537b56b",
            "7ced3db5e7da414d9a76a0c89f8a87e3",
            "fe8e026c021f49c98d9709159348b4f3",
            "0c387f2ec3ab4f77af3cffdf9710044d",
            "1d8a5de548fa47e6be3c828853a47eae",
            "3dcc1c71dc0c47caa1b003ca8a2025bb",
            "07ca19603de74179a24e5f214ac18148",
            "6b38a225f1304c8bbdcb00eb3eb373bf",
            "d280632c09a54cd291872f226f0dc118",
            "0d0e79ea73134ada845a120165cb261a",
            "6b73d3bbdcc048749d0a75b380894ddd"
          ]
        },
        "id": "huGLLcUmWWce",
        "outputId": "cf1a746d-1169-4608-9c12-63c5362579e5"
      },
      "execution_count": null,
      "outputs": [
        {
          "output_type": "display_data",
          "data": {
            "text/plain": [
              "Evaluating:   0%|          | 0/15 [00:00<?, ?it/s]"
            ],
            "application/vnd.jupyter.widget-view+json": {
              "version_major": 2,
              "version_minor": 0,
              "model_id": "339922e6124e42699c5960c96537b56b"
            }
          },
          "metadata": {}
        },
        {
          "output_type": "execute_result",
          "data": {
            "text/plain": [
              "{'context_recall': 1.0000, 'faithfulness': 0.9500, 'factual_correctness': 0.9140}"
            ]
          },
          "metadata": {},
          "execution_count": 14
        }
      ]
    },
    {
      "cell_type": "markdown",
      "source": [
        "##**Evaluate a simple LLM application**"
      ],
      "metadata": {
        "id": "RE8oXGqsbQBI"
      }
    },
    {
      "cell_type": "code",
      "source": [
        "from ragas.llms import LangchainLLMWrapper\n",
        "from ragas.embeddings import LangchainEmbeddingsWrapper\n",
        "from langchain_openai import ChatOpenAI\n",
        "from langchain_openai import OpenAIEmbeddings\n",
        "evaluator_llm = LangchainLLMWrapper(ChatOpenAI(model=\"gpt-4o\"))\n",
        "evaluator_embeddings = LangchainEmbeddingsWrapper(OpenAIEmbeddings())"
      ],
      "metadata": {
        "id": "CbNcI5rIYViZ"
      },
      "execution_count": null,
      "outputs": []
    },
    {
      "cell_type": "markdown",
      "source": [
        "### **Evaluating Summary Accuracy with AspectCritic**"
      ],
      "metadata": {
        "id": "xffJ3nAebVkV"
      }
    },
    {
      "cell_type": "code",
      "source": [
        "from ragas import SingleTurnSample\n",
        "from ragas.metrics import AspectCritic\n",
        "\n",
        "test_data = {\n",
        "    \"user_input\": \"summarise given text\\nThe company reported an 8% rise in Q3 2024, driven by strong performance in the Asian market. Sales in this region have significantly contributed to the overall growth. Analysts attribute this success to strategic marketing and product localization. The positive trend in the Asian market is expected to continue into the next quarter.\",\n",
        "    \"response\": \"The company experienced an 8% increase in Q3 2024, largely due to effective marketing strategies and product adaptation, with expectations of continued growth in the coming quarter.\",\n",
        "}\n",
        "\n",
        "metric = AspectCritic(name=\"summary_accuracy\",llm=evaluator_llm, definition=\"Verify if the summary is accurate.\")\n",
        "test_data = SingleTurnSample(**test_data)\n",
        "await metric.single_turn_ascore(test_data)"
      ],
      "metadata": {
        "colab": {
          "base_uri": "https://localhost:8080/"
        },
        "id": "pq9KNWGHWZyg",
        "outputId": "4a1a2372-e432-4b9a-d28c-1d9836a0ba64"
      },
      "execution_count": null,
      "outputs": [
        {
          "output_type": "execute_result",
          "data": {
            "text/plain": [
              "1"
            ]
          },
          "metadata": {},
          "execution_count": 20
        }
      ]
    },
    {
      "cell_type": "markdown",
      "source": [
        "### **Load Dataset**\n"
      ],
      "metadata": {
        "id": "xYF5fa7fbcza"
      }
    },
    {
      "cell_type": "code",
      "source": [
        "from datasets import load_dataset\n",
        "from ragas import EvaluationDataset\n",
        "eval_dataset = load_dataset(\"explodinggradients/earning_report_summary\",split=\"train\")\n",
        "eval_dataset = EvaluationDataset.from_hf_dataset(eval_dataset)\n",
        "print(\"Features in dataset:\", eval_dataset.features())\n",
        "print(\"Total samples in dataset:\", len(eval_dataset))"
      ],
      "metadata": {
        "colab": {
          "base_uri": "https://localhost:8080/"
        },
        "id": "8qkM8O8wXrai",
        "outputId": "071d6829-94ab-4ffb-ff9b-8d2098816e1a"
      },
      "execution_count": null,
      "outputs": [
        {
          "output_type": "stream",
          "name": "stdout",
          "text": [
            "Features in dataset: ['user_input', 'response']\n",
            "Total samples in dataset: 50\n"
          ]
        }
      ]
    },
    {
      "cell_type": "markdown",
      "source": [
        "### **Evaluate Dataset and Display Results**\n"
      ],
      "metadata": {
        "id": "kwtw1a3xbkot"
      }
    },
    {
      "cell_type": "code",
      "source": [
        "results = evaluate(eval_dataset, metrics=[metric])\n",
        "results"
      ],
      "metadata": {
        "colab": {
          "base_uri": "https://localhost:8080/",
          "height": 66,
          "referenced_widgets": [
            "87d127ca5692459ebf2a31f5ffe249ad",
            "34944168a26e4ad9b74dccae1ff7b34e",
            "baa9e0afebb74be48584c2bcd0f4ba12",
            "5bc7da1bb7d44ec9aa8acbcafed62d2f",
            "a3bb6b4f1ca44e418a986956ab6d0f4c",
            "d16bf240f8f54506bb2e8d0233de720d",
            "48aa41a7ae954994a3aa689af4fe3f54",
            "b5ddf4faf7ca434a821555eddf7eb21c",
            "aa35f2be21f748c28d1237b4d7d9cf9a",
            "32bb768abeb74badba3d370e37d1e6d9",
            "c118624769eb47cda169b408ad460923"
          ]
        },
        "id": "ZceS7XBcYelP",
        "outputId": "06d94194-608d-4bc6-f681-55cbbd292e69"
      },
      "execution_count": null,
      "outputs": [
        {
          "output_type": "display_data",
          "data": {
            "text/plain": [
              "Evaluating:   0%|          | 0/50 [00:00<?, ?it/s]"
            ],
            "application/vnd.jupyter.widget-view+json": {
              "version_major": 2,
              "version_minor": 0,
              "model_id": "87d127ca5692459ebf2a31f5ffe249ad"
            }
          },
          "metadata": {}
        },
        {
          "output_type": "execute_result",
          "data": {
            "text/plain": [
              "{'summary_accuracy': 0.9800}"
            ]
          },
          "metadata": {},
          "execution_count": 23
        }
      ]
    },
    {
      "cell_type": "markdown",
      "source": [
        "### **Convert Results to Pandas DataFrame**\n"
      ],
      "metadata": {
        "id": "zBPbYdl_bgom"
      }
    },
    {
      "cell_type": "code",
      "source": [
        "results.to_pandas()\n"
      ],
      "metadata": {
        "colab": {
          "base_uri": "https://localhost:8080/",
          "height": 1000
        },
        "id": "fMVljarAYmlY",
        "outputId": "f5f77565-83dc-4027-c1ec-731c9f7334c1"
      },
      "execution_count": null,
      "outputs": [
        {
          "output_type": "execute_result",
          "data": {
            "text/plain": [
              "                                           user_input  \\\n",
              "0   summarise given text\\nThe Q2 earnings report r...   \n",
              "1   summarise given text\\nIn 2023, North American ...   \n",
              "2   summarise given text\\nIn 2022, European expans...   \n",
              "3   summarise given text\\nSupply chain challenges ...   \n",
              "4   summarise given text\\nIn Q2 2023, the company ...   \n",
              "5   summarise given text\\nIn 2023, marketing campa...   \n",
              "6   summarise given text\\nThe company's internatio...   \n",
              "7   summarise given text\\nIn 2024, companies are i...   \n",
              "8   summarise given text\\nIn 2023, logistics inves...   \n",
              "9   summarise given text\\nIn 2023, the company exp...   \n",
              "10  summarise given text\\nThe company reported a 5...   \n",
              "11  summarise given text\\nThe company reported a s...   \n",
              "12  summarise given text\\nThe global market has ex...   \n",
              "13  summarise given text\\nThe logistics industry i...   \n",
              "14  summarise given text\\nThe company reported an ...   \n",
              "15  summarise given text\\nIn 2022, the Asian marke...   \n",
              "16  summarise given text\\nThe global market has wi...   \n",
              "17  summarise given text\\nThe company reported a 1...   \n",
              "18  summarise given text\\nThe company's revenue sa...   \n",
              "19  summarise given text\\nThe Marketing team is st...   \n",
              "20  summarise given text\\nIn 2023, the global mark...   \n",
              "21  summarise given text\\nIn 2022, there was an 8%...   \n",
              "22  summarise given text\\nIn 2022, the global mark...   \n",
              "23  summarise given text\\nIn 2022, the European ma...   \n",
              "24  summarise given text\\nIn 2022, companies opera...   \n",
              "25  summarise given text\\nIn 2023, the European ma...   \n",
              "26  summarise given text\\nThe global market is poi...   \n",
              "27  summarise given text\\nThe company reported a s...   \n",
              "28  summarise given text\\nThe logistics industry i...   \n",
              "29  summarise given text\\nThe company is facing a ...   \n",
              "30  summarise given text\\nThe company is projectin...   \n",
              "31  summarise given text\\nIn 2023, the Asian marke...   \n",
              "32  summarise given text\\nThe global market has wi...   \n",
              "33  summarise given text\\nIn 2022, there was an 8%...   \n",
              "34  summarise given text\\nIn 2023, companies opera...   \n",
              "35  summarise given text\\nSales in Latin America e...   \n",
              "36  summarise given text\\nIn 2022, the company exp...   \n",
              "37  summarise given text\\nIn Q3 2024, the company ...   \n",
              "38  summarise given text\\nThe logistics sector is ...   \n",
              "39  summarise given text\\nIn 2022, North America e...   \n",
              "40  summarise given text\\nIn 2022, the company exp...   \n",
              "41  summarise given text\\nThe company is preparing...   \n",
              "42  summarise given text\\nThe European market is p...   \n",
              "43  summarise given text\\nThe logistics sector in ...   \n",
              "44  summarise given text\\nIn North America, compan...   \n",
              "45  summarise given text\\nIn 2023, the company exp...   \n",
              "46  summarise given text\\nIn Q3 2024, the company ...   \n",
              "47  summarise given text\\nThe European market expe...   \n",
              "48  summarise given text\\nIn 2022, Sales in North ...   \n",
              "49  summarise given text\\nThe logistics sector exp...   \n",
              "\n",
              "                                             response  summary_accuracy  \n",
              "0   The Q2 earnings report showed a 15% revenue in...                 1  \n",
              "1   Companies are strategizing to adapt to market ...                 1  \n",
              "2   Many companies experienced a notable 15% growt...                 1  \n",
              "3   Supply chain challenges in North America, caus...                 1  \n",
              "4   The company experienced a notable increase in ...                 1  \n",
              "5   In 2023, marketing campaigns in North America ...                 1  \n",
              "6   The company's international expansion strategy...                 1  \n",
              "7   Companies are using data analytics to customiz...                 1  \n",
              "8   Driven by technological and infrastructural ad...                 1  \n",
              "9   The company faced challenges due to competitio...                 1  \n",
              "10  The company faced challenges in the European m...                 1  \n",
              "11  The company's significant profit in Q3 2024, d...                 1  \n",
              "12  The recent downturn has raised concerns among ...                 0  \n",
              "13  The industry is expected to grow by 20% in 202...                 1  \n",
              "14  The company experienced an 8% increase in Q3 2...                 1  \n",
              "15  In 2022, the Asian market experienced a signif...                 1  \n",
              "16  The global market experienced a 10% increase i...                 1  \n",
              "17  The company experienced significant growth due...                 1  \n",
              "18  The company's financial success was significan...                 1  \n",
              "19  The team is strategizing to address the challe...                 1  \n",
              "20  In 2023, the global market saw a 5% sales decr...                 1  \n",
              "21  Economic factors led to increased expenses, pr...                 1  \n",
              "22  In 2022, a remarkable 20% growth significantly...                 1  \n",
              "23  In 2022, the European market experienced a 5% ...                 1  \n",
              "24  In 2022, companies in Latin America faced a 15...                 1  \n",
              "25  In 2023, the European market experienced a 15%...                 1  \n",
              "26  A significant shift is expected with a 20% gro...                 1  \n",
              "27  The company's 8% rise in 2022 was driven by ex...                 1  \n",
              "28  The logistics industry is expected to face a 5...                 1  \n",
              "29  The company is anticipating a difficult year d...                 1  \n",
              "30  The company's growth is fueled by strategic in...                 1  \n",
              "31  In 2023, the Asian market experienced a 10% in...                 1  \n",
              "32  The global market experienced an 8% rise in Q1...                 1  \n",
              "33  Expenses increased across various sectors in L...                 1  \n",
              "34  In 2023, companies in Latin America faced a 15...                 1  \n",
              "35  Sales in Latin America saw a remarkable 20% gr...                 1  \n",
              "36  In 2022, the company faced a 5% revenue decrea...                 1  \n",
              "37  In Q3 2024, the company reported a 15% decline...                 1  \n",
              "38  The sector is set for major expansion due to r...                 1  \n",
              "39  A significant economic boost was observed due ...                 1  \n",
              "40  The company's financial success was significan...                 1  \n",
              "41  The company is planning to address a projected...                 1  \n",
              "42  The European market's projected 8% rise in 202...                 1  \n",
              "43  The logistics sector in Latin America is proje...                 1  \n",
              "44  In North America, companies report a 5% decrea...                 1  \n",
              "45  In 2023, the company faced a 5% revenue decrea...                 1  \n",
              "46  In Q3 2024, the company reported an 8% rise in...                 1  \n",
              "47  The European market's 5% decrease in Q3 2024 h...                 1  \n",
              "48  A remarkable increase was achieved through str...                 1  \n",
              "49  The logistics sector underwent a major transfo...                 1  "
            ],
            "text/html": [
              "\n",
              "  <div id=\"df-610b443e-5607-445d-aeed-1d97fdff2588\" class=\"colab-df-container\">\n",
              "    <div>\n",
              "<style scoped>\n",
              "    .dataframe tbody tr th:only-of-type {\n",
              "        vertical-align: middle;\n",
              "    }\n",
              "\n",
              "    .dataframe tbody tr th {\n",
              "        vertical-align: top;\n",
              "    }\n",
              "\n",
              "    .dataframe thead th {\n",
              "        text-align: right;\n",
              "    }\n",
              "</style>\n",
              "<table border=\"1\" class=\"dataframe\">\n",
              "  <thead>\n",
              "    <tr style=\"text-align: right;\">\n",
              "      <th></th>\n",
              "      <th>user_input</th>\n",
              "      <th>response</th>\n",
              "      <th>summary_accuracy</th>\n",
              "    </tr>\n",
              "  </thead>\n",
              "  <tbody>\n",
              "    <tr>\n",
              "      <th>0</th>\n",
              "      <td>summarise given text\\nThe Q2 earnings report r...</td>\n",
              "      <td>The Q2 earnings report showed a 15% revenue in...</td>\n",
              "      <td>1</td>\n",
              "    </tr>\n",
              "    <tr>\n",
              "      <th>1</th>\n",
              "      <td>summarise given text\\nIn 2023, North American ...</td>\n",
              "      <td>Companies are strategizing to adapt to market ...</td>\n",
              "      <td>1</td>\n",
              "    </tr>\n",
              "    <tr>\n",
              "      <th>2</th>\n",
              "      <td>summarise given text\\nIn 2022, European expans...</td>\n",
              "      <td>Many companies experienced a notable 15% growt...</td>\n",
              "      <td>1</td>\n",
              "    </tr>\n",
              "    <tr>\n",
              "      <th>3</th>\n",
              "      <td>summarise given text\\nSupply chain challenges ...</td>\n",
              "      <td>Supply chain challenges in North America, caus...</td>\n",
              "      <td>1</td>\n",
              "    </tr>\n",
              "    <tr>\n",
              "      <th>4</th>\n",
              "      <td>summarise given text\\nIn Q2 2023, the company ...</td>\n",
              "      <td>The company experienced a notable increase in ...</td>\n",
              "      <td>1</td>\n",
              "    </tr>\n",
              "    <tr>\n",
              "      <th>5</th>\n",
              "      <td>summarise given text\\nIn 2023, marketing campa...</td>\n",
              "      <td>In 2023, marketing campaigns in North America ...</td>\n",
              "      <td>1</td>\n",
              "    </tr>\n",
              "    <tr>\n",
              "      <th>6</th>\n",
              "      <td>summarise given text\\nThe company's internatio...</td>\n",
              "      <td>The company's international expansion strategy...</td>\n",
              "      <td>1</td>\n",
              "    </tr>\n",
              "    <tr>\n",
              "      <th>7</th>\n",
              "      <td>summarise given text\\nIn 2024, companies are i...</td>\n",
              "      <td>Companies are using data analytics to customiz...</td>\n",
              "      <td>1</td>\n",
              "    </tr>\n",
              "    <tr>\n",
              "      <th>8</th>\n",
              "      <td>summarise given text\\nIn 2023, logistics inves...</td>\n",
              "      <td>Driven by technological and infrastructural ad...</td>\n",
              "      <td>1</td>\n",
              "    </tr>\n",
              "    <tr>\n",
              "      <th>9</th>\n",
              "      <td>summarise given text\\nIn 2023, the company exp...</td>\n",
              "      <td>The company faced challenges due to competitio...</td>\n",
              "      <td>1</td>\n",
              "    </tr>\n",
              "    <tr>\n",
              "      <th>10</th>\n",
              "      <td>summarise given text\\nThe company reported a 5...</td>\n",
              "      <td>The company faced challenges in the European m...</td>\n",
              "      <td>1</td>\n",
              "    </tr>\n",
              "    <tr>\n",
              "      <th>11</th>\n",
              "      <td>summarise given text\\nThe company reported a s...</td>\n",
              "      <td>The company's significant profit in Q3 2024, d...</td>\n",
              "      <td>1</td>\n",
              "    </tr>\n",
              "    <tr>\n",
              "      <th>12</th>\n",
              "      <td>summarise given text\\nThe global market has ex...</td>\n",
              "      <td>The recent downturn has raised concerns among ...</td>\n",
              "      <td>0</td>\n",
              "    </tr>\n",
              "    <tr>\n",
              "      <th>13</th>\n",
              "      <td>summarise given text\\nThe logistics industry i...</td>\n",
              "      <td>The industry is expected to grow by 20% in 202...</td>\n",
              "      <td>1</td>\n",
              "    </tr>\n",
              "    <tr>\n",
              "      <th>14</th>\n",
              "      <td>summarise given text\\nThe company reported an ...</td>\n",
              "      <td>The company experienced an 8% increase in Q3 2...</td>\n",
              "      <td>1</td>\n",
              "    </tr>\n",
              "    <tr>\n",
              "      <th>15</th>\n",
              "      <td>summarise given text\\nIn 2022, the Asian marke...</td>\n",
              "      <td>In 2022, the Asian market experienced a signif...</td>\n",
              "      <td>1</td>\n",
              "    </tr>\n",
              "    <tr>\n",
              "      <th>16</th>\n",
              "      <td>summarise given text\\nThe global market has wi...</td>\n",
              "      <td>The global market experienced a 10% increase i...</td>\n",
              "      <td>1</td>\n",
              "    </tr>\n",
              "    <tr>\n",
              "      <th>17</th>\n",
              "      <td>summarise given text\\nThe company reported a 1...</td>\n",
              "      <td>The company experienced significant growth due...</td>\n",
              "      <td>1</td>\n",
              "    </tr>\n",
              "    <tr>\n",
              "      <th>18</th>\n",
              "      <td>summarise given text\\nThe company's revenue sa...</td>\n",
              "      <td>The company's financial success was significan...</td>\n",
              "      <td>1</td>\n",
              "    </tr>\n",
              "    <tr>\n",
              "      <th>19</th>\n",
              "      <td>summarise given text\\nThe Marketing team is st...</td>\n",
              "      <td>The team is strategizing to address the challe...</td>\n",
              "      <td>1</td>\n",
              "    </tr>\n",
              "    <tr>\n",
              "      <th>20</th>\n",
              "      <td>summarise given text\\nIn 2023, the global mark...</td>\n",
              "      <td>In 2023, the global market saw a 5% sales decr...</td>\n",
              "      <td>1</td>\n",
              "    </tr>\n",
              "    <tr>\n",
              "      <th>21</th>\n",
              "      <td>summarise given text\\nIn 2022, there was an 8%...</td>\n",
              "      <td>Economic factors led to increased expenses, pr...</td>\n",
              "      <td>1</td>\n",
              "    </tr>\n",
              "    <tr>\n",
              "      <th>22</th>\n",
              "      <td>summarise given text\\nIn 2022, the global mark...</td>\n",
              "      <td>In 2022, a remarkable 20% growth significantly...</td>\n",
              "      <td>1</td>\n",
              "    </tr>\n",
              "    <tr>\n",
              "      <th>23</th>\n",
              "      <td>summarise given text\\nIn 2022, the European ma...</td>\n",
              "      <td>In 2022, the European market experienced a 5% ...</td>\n",
              "      <td>1</td>\n",
              "    </tr>\n",
              "    <tr>\n",
              "      <th>24</th>\n",
              "      <td>summarise given text\\nIn 2022, companies opera...</td>\n",
              "      <td>In 2022, companies in Latin America faced a 15...</td>\n",
              "      <td>1</td>\n",
              "    </tr>\n",
              "    <tr>\n",
              "      <th>25</th>\n",
              "      <td>summarise given text\\nIn 2023, the European ma...</td>\n",
              "      <td>In 2023, the European market experienced a 15%...</td>\n",
              "      <td>1</td>\n",
              "    </tr>\n",
              "    <tr>\n",
              "      <th>26</th>\n",
              "      <td>summarise given text\\nThe global market is poi...</td>\n",
              "      <td>A significant shift is expected with a 20% gro...</td>\n",
              "      <td>1</td>\n",
              "    </tr>\n",
              "    <tr>\n",
              "      <th>27</th>\n",
              "      <td>summarise given text\\nThe company reported a s...</td>\n",
              "      <td>The company's 8% rise in 2022 was driven by ex...</td>\n",
              "      <td>1</td>\n",
              "    </tr>\n",
              "    <tr>\n",
              "      <th>28</th>\n",
              "      <td>summarise given text\\nThe logistics industry i...</td>\n",
              "      <td>The logistics industry is expected to face a 5...</td>\n",
              "      <td>1</td>\n",
              "    </tr>\n",
              "    <tr>\n",
              "      <th>29</th>\n",
              "      <td>summarise given text\\nThe company is facing a ...</td>\n",
              "      <td>The company is anticipating a difficult year d...</td>\n",
              "      <td>1</td>\n",
              "    </tr>\n",
              "    <tr>\n",
              "      <th>30</th>\n",
              "      <td>summarise given text\\nThe company is projectin...</td>\n",
              "      <td>The company's growth is fueled by strategic in...</td>\n",
              "      <td>1</td>\n",
              "    </tr>\n",
              "    <tr>\n",
              "      <th>31</th>\n",
              "      <td>summarise given text\\nIn 2023, the Asian marke...</td>\n",
              "      <td>In 2023, the Asian market experienced a 10% in...</td>\n",
              "      <td>1</td>\n",
              "    </tr>\n",
              "    <tr>\n",
              "      <th>32</th>\n",
              "      <td>summarise given text\\nThe global market has wi...</td>\n",
              "      <td>The global market experienced an 8% rise in Q1...</td>\n",
              "      <td>1</td>\n",
              "    </tr>\n",
              "    <tr>\n",
              "      <th>33</th>\n",
              "      <td>summarise given text\\nIn 2022, there was an 8%...</td>\n",
              "      <td>Expenses increased across various sectors in L...</td>\n",
              "      <td>1</td>\n",
              "    </tr>\n",
              "    <tr>\n",
              "      <th>34</th>\n",
              "      <td>summarise given text\\nIn 2023, companies opera...</td>\n",
              "      <td>In 2023, companies in Latin America faced a 15...</td>\n",
              "      <td>1</td>\n",
              "    </tr>\n",
              "    <tr>\n",
              "      <th>35</th>\n",
              "      <td>summarise given text\\nSales in Latin America e...</td>\n",
              "      <td>Sales in Latin America saw a remarkable 20% gr...</td>\n",
              "      <td>1</td>\n",
              "    </tr>\n",
              "    <tr>\n",
              "      <th>36</th>\n",
              "      <td>summarise given text\\nIn 2022, the company exp...</td>\n",
              "      <td>In 2022, the company faced a 5% revenue decrea...</td>\n",
              "      <td>1</td>\n",
              "    </tr>\n",
              "    <tr>\n",
              "      <th>37</th>\n",
              "      <td>summarise given text\\nIn Q3 2024, the company ...</td>\n",
              "      <td>In Q3 2024, the company reported a 15% decline...</td>\n",
              "      <td>1</td>\n",
              "    </tr>\n",
              "    <tr>\n",
              "      <th>38</th>\n",
              "      <td>summarise given text\\nThe logistics sector is ...</td>\n",
              "      <td>The sector is set for major expansion due to r...</td>\n",
              "      <td>1</td>\n",
              "    </tr>\n",
              "    <tr>\n",
              "      <th>39</th>\n",
              "      <td>summarise given text\\nIn 2022, North America e...</td>\n",
              "      <td>A significant economic boost was observed due ...</td>\n",
              "      <td>1</td>\n",
              "    </tr>\n",
              "    <tr>\n",
              "      <th>40</th>\n",
              "      <td>summarise given text\\nIn 2022, the company exp...</td>\n",
              "      <td>The company's financial success was significan...</td>\n",
              "      <td>1</td>\n",
              "    </tr>\n",
              "    <tr>\n",
              "      <th>41</th>\n",
              "      <td>summarise given text\\nThe company is preparing...</td>\n",
              "      <td>The company is planning to address a projected...</td>\n",
              "      <td>1</td>\n",
              "    </tr>\n",
              "    <tr>\n",
              "      <th>42</th>\n",
              "      <td>summarise given text\\nThe European market is p...</td>\n",
              "      <td>The European market's projected 8% rise in 202...</td>\n",
              "      <td>1</td>\n",
              "    </tr>\n",
              "    <tr>\n",
              "      <th>43</th>\n",
              "      <td>summarise given text\\nThe logistics sector in ...</td>\n",
              "      <td>The logistics sector in Latin America is proje...</td>\n",
              "      <td>1</td>\n",
              "    </tr>\n",
              "    <tr>\n",
              "      <th>44</th>\n",
              "      <td>summarise given text\\nIn North America, compan...</td>\n",
              "      <td>In North America, companies report a 5% decrea...</td>\n",
              "      <td>1</td>\n",
              "    </tr>\n",
              "    <tr>\n",
              "      <th>45</th>\n",
              "      <td>summarise given text\\nIn 2023, the company exp...</td>\n",
              "      <td>In 2023, the company faced a 5% revenue decrea...</td>\n",
              "      <td>1</td>\n",
              "    </tr>\n",
              "    <tr>\n",
              "      <th>46</th>\n",
              "      <td>summarise given text\\nIn Q3 2024, the company ...</td>\n",
              "      <td>In Q3 2024, the company reported an 8% rise in...</td>\n",
              "      <td>1</td>\n",
              "    </tr>\n",
              "    <tr>\n",
              "      <th>47</th>\n",
              "      <td>summarise given text\\nThe European market expe...</td>\n",
              "      <td>The European market's 5% decrease in Q3 2024 h...</td>\n",
              "      <td>1</td>\n",
              "    </tr>\n",
              "    <tr>\n",
              "      <th>48</th>\n",
              "      <td>summarise given text\\nIn 2022, Sales in North ...</td>\n",
              "      <td>A remarkable increase was achieved through str...</td>\n",
              "      <td>1</td>\n",
              "    </tr>\n",
              "    <tr>\n",
              "      <th>49</th>\n",
              "      <td>summarise given text\\nThe logistics sector exp...</td>\n",
              "      <td>The logistics sector underwent a major transfo...</td>\n",
              "      <td>1</td>\n",
              "    </tr>\n",
              "  </tbody>\n",
              "</table>\n",
              "</div>\n",
              "    <div class=\"colab-df-buttons\">\n",
              "\n",
              "  <div class=\"colab-df-container\">\n",
              "    <button class=\"colab-df-convert\" onclick=\"convertToInteractive('df-610b443e-5607-445d-aeed-1d97fdff2588')\"\n",
              "            title=\"Convert this dataframe to an interactive table.\"\n",
              "            style=\"display:none;\">\n",
              "\n",
              "  <svg xmlns=\"http://www.w3.org/2000/svg\" height=\"24px\" viewBox=\"0 -960 960 960\">\n",
              "    <path d=\"M120-120v-720h720v720H120Zm60-500h600v-160H180v160Zm220 220h160v-160H400v160Zm0 220h160v-160H400v160ZM180-400h160v-160H180v160Zm440 0h160v-160H620v160ZM180-180h160v-160H180v160Zm440 0h160v-160H620v160Z\"/>\n",
              "  </svg>\n",
              "    </button>\n",
              "\n",
              "  <style>\n",
              "    .colab-df-container {\n",
              "      display:flex;\n",
              "      gap: 12px;\n",
              "    }\n",
              "\n",
              "    .colab-df-convert {\n",
              "      background-color: #E8F0FE;\n",
              "      border: none;\n",
              "      border-radius: 50%;\n",
              "      cursor: pointer;\n",
              "      display: none;\n",
              "      fill: #1967D2;\n",
              "      height: 32px;\n",
              "      padding: 0 0 0 0;\n",
              "      width: 32px;\n",
              "    }\n",
              "\n",
              "    .colab-df-convert:hover {\n",
              "      background-color: #E2EBFA;\n",
              "      box-shadow: 0px 1px 2px rgba(60, 64, 67, 0.3), 0px 1px 3px 1px rgba(60, 64, 67, 0.15);\n",
              "      fill: #174EA6;\n",
              "    }\n",
              "\n",
              "    .colab-df-buttons div {\n",
              "      margin-bottom: 4px;\n",
              "    }\n",
              "\n",
              "    [theme=dark] .colab-df-convert {\n",
              "      background-color: #3B4455;\n",
              "      fill: #D2E3FC;\n",
              "    }\n",
              "\n",
              "    [theme=dark] .colab-df-convert:hover {\n",
              "      background-color: #434B5C;\n",
              "      box-shadow: 0px 1px 3px 1px rgba(0, 0, 0, 0.15);\n",
              "      filter: drop-shadow(0px 1px 2px rgba(0, 0, 0, 0.3));\n",
              "      fill: #FFFFFF;\n",
              "    }\n",
              "  </style>\n",
              "\n",
              "    <script>\n",
              "      const buttonEl =\n",
              "        document.querySelector('#df-610b443e-5607-445d-aeed-1d97fdff2588 button.colab-df-convert');\n",
              "      buttonEl.style.display =\n",
              "        google.colab.kernel.accessAllowed ? 'block' : 'none';\n",
              "\n",
              "      async function convertToInteractive(key) {\n",
              "        const element = document.querySelector('#df-610b443e-5607-445d-aeed-1d97fdff2588');\n",
              "        const dataTable =\n",
              "          await google.colab.kernel.invokeFunction('convertToInteractive',\n",
              "                                                    [key], {});\n",
              "        if (!dataTable) return;\n",
              "\n",
              "        const docLinkHtml = 'Like what you see? Visit the ' +\n",
              "          '<a target=\"_blank\" href=https://colab.research.google.com/notebooks/data_table.ipynb>data table notebook</a>'\n",
              "          + ' to learn more about interactive tables.';\n",
              "        element.innerHTML = '';\n",
              "        dataTable['output_type'] = 'display_data';\n",
              "        await google.colab.output.renderOutput(dataTable, element);\n",
              "        const docLink = document.createElement('div');\n",
              "        docLink.innerHTML = docLinkHtml;\n",
              "        element.appendChild(docLink);\n",
              "      }\n",
              "    </script>\n",
              "  </div>\n",
              "\n",
              "\n",
              "<div id=\"df-9f160776-d96b-4dd7-929e-0de697bbd243\">\n",
              "  <button class=\"colab-df-quickchart\" onclick=\"quickchart('df-9f160776-d96b-4dd7-929e-0de697bbd243')\"\n",
              "            title=\"Suggest charts\"\n",
              "            style=\"display:none;\">\n",
              "\n",
              "<svg xmlns=\"http://www.w3.org/2000/svg\" height=\"24px\"viewBox=\"0 0 24 24\"\n",
              "     width=\"24px\">\n",
              "    <g>\n",
              "        <path d=\"M19 3H5c-1.1 0-2 .9-2 2v14c0 1.1.9 2 2 2h14c1.1 0 2-.9 2-2V5c0-1.1-.9-2-2-2zM9 17H7v-7h2v7zm4 0h-2V7h2v10zm4 0h-2v-4h2v4z\"/>\n",
              "    </g>\n",
              "</svg>\n",
              "  </button>\n",
              "\n",
              "<style>\n",
              "  .colab-df-quickchart {\n",
              "      --bg-color: #E8F0FE;\n",
              "      --fill-color: #1967D2;\n",
              "      --hover-bg-color: #E2EBFA;\n",
              "      --hover-fill-color: #174EA6;\n",
              "      --disabled-fill-color: #AAA;\n",
              "      --disabled-bg-color: #DDD;\n",
              "  }\n",
              "\n",
              "  [theme=dark] .colab-df-quickchart {\n",
              "      --bg-color: #3B4455;\n",
              "      --fill-color: #D2E3FC;\n",
              "      --hover-bg-color: #434B5C;\n",
              "      --hover-fill-color: #FFFFFF;\n",
              "      --disabled-bg-color: #3B4455;\n",
              "      --disabled-fill-color: #666;\n",
              "  }\n",
              "\n",
              "  .colab-df-quickchart {\n",
              "    background-color: var(--bg-color);\n",
              "    border: none;\n",
              "    border-radius: 50%;\n",
              "    cursor: pointer;\n",
              "    display: none;\n",
              "    fill: var(--fill-color);\n",
              "    height: 32px;\n",
              "    padding: 0;\n",
              "    width: 32px;\n",
              "  }\n",
              "\n",
              "  .colab-df-quickchart:hover {\n",
              "    background-color: var(--hover-bg-color);\n",
              "    box-shadow: 0 1px 2px rgba(60, 64, 67, 0.3), 0 1px 3px 1px rgba(60, 64, 67, 0.15);\n",
              "    fill: var(--button-hover-fill-color);\n",
              "  }\n",
              "\n",
              "  .colab-df-quickchart-complete:disabled,\n",
              "  .colab-df-quickchart-complete:disabled:hover {\n",
              "    background-color: var(--disabled-bg-color);\n",
              "    fill: var(--disabled-fill-color);\n",
              "    box-shadow: none;\n",
              "  }\n",
              "\n",
              "  .colab-df-spinner {\n",
              "    border: 2px solid var(--fill-color);\n",
              "    border-color: transparent;\n",
              "    border-bottom-color: var(--fill-color);\n",
              "    animation:\n",
              "      spin 1s steps(1) infinite;\n",
              "  }\n",
              "\n",
              "  @keyframes spin {\n",
              "    0% {\n",
              "      border-color: transparent;\n",
              "      border-bottom-color: var(--fill-color);\n",
              "      border-left-color: var(--fill-color);\n",
              "    }\n",
              "    20% {\n",
              "      border-color: transparent;\n",
              "      border-left-color: var(--fill-color);\n",
              "      border-top-color: var(--fill-color);\n",
              "    }\n",
              "    30% {\n",
              "      border-color: transparent;\n",
              "      border-left-color: var(--fill-color);\n",
              "      border-top-color: var(--fill-color);\n",
              "      border-right-color: var(--fill-color);\n",
              "    }\n",
              "    40% {\n",
              "      border-color: transparent;\n",
              "      border-right-color: var(--fill-color);\n",
              "      border-top-color: var(--fill-color);\n",
              "    }\n",
              "    60% {\n",
              "      border-color: transparent;\n",
              "      border-right-color: var(--fill-color);\n",
              "    }\n",
              "    80% {\n",
              "      border-color: transparent;\n",
              "      border-right-color: var(--fill-color);\n",
              "      border-bottom-color: var(--fill-color);\n",
              "    }\n",
              "    90% {\n",
              "      border-color: transparent;\n",
              "      border-bottom-color: var(--fill-color);\n",
              "    }\n",
              "  }\n",
              "</style>\n",
              "\n",
              "  <script>\n",
              "    async function quickchart(key) {\n",
              "      const quickchartButtonEl =\n",
              "        document.querySelector('#' + key + ' button');\n",
              "      quickchartButtonEl.disabled = true;  // To prevent multiple clicks.\n",
              "      quickchartButtonEl.classList.add('colab-df-spinner');\n",
              "      try {\n",
              "        const charts = await google.colab.kernel.invokeFunction(\n",
              "            'suggestCharts', [key], {});\n",
              "      } catch (error) {\n",
              "        console.error('Error during call to suggestCharts:', error);\n",
              "      }\n",
              "      quickchartButtonEl.classList.remove('colab-df-spinner');\n",
              "      quickchartButtonEl.classList.add('colab-df-quickchart-complete');\n",
              "    }\n",
              "    (() => {\n",
              "      let quickchartButtonEl =\n",
              "        document.querySelector('#df-9f160776-d96b-4dd7-929e-0de697bbd243 button');\n",
              "      quickchartButtonEl.style.display =\n",
              "        google.colab.kernel.accessAllowed ? 'block' : 'none';\n",
              "    })();\n",
              "  </script>\n",
              "</div>\n",
              "\n",
              "    </div>\n",
              "  </div>\n"
            ],
            "application/vnd.google.colaboratory.intrinsic+json": {
              "type": "dataframe",
              "summary": "{\n  \"name\": \"results\",\n  \"rows\": 50,\n  \"fields\": [\n    {\n      \"column\": \"user_input\",\n      \"properties\": {\n        \"dtype\": \"string\",\n        \"num_unique_values\": 50,\n        \"samples\": [\n          \"summarise given text\\nThe logistics industry in North America is projected to experience a 20% growth in 2024. This surge is attributed to advancements in technology and increased demand for efficient supply chain solutions. Companies are investing heavily in infrastructure to capitalize on this growth. As a result, the region is poised to become a leader in global logistics innovation.\",\n          \"summarise given text\\nIn 2022, North America experienced a significant economic boost with a 10% increase in profit. This growth was attributed to strategic investments and market expansion. Companies across various sectors reported higher earnings, contributing to the overall profit surge. The 10% increase in 2022 marked a pivotal year for North America's economic landscape.\",\n          \"summarise given text\\nThe company is projecting a 10% increase in revenue for 2024, driven by strong performance in North America. This growth is attributed to strategic investments and expanding market presence in the region. Analysts are optimistic about the company's ability to sustain this momentum. The focus on innovation and customer engagement is expected to further bolster revenue figures.\"\n        ],\n        \"semantic_type\": \"\",\n        \"description\": \"\"\n      }\n    },\n    {\n      \"column\": \"response\",\n      \"properties\": {\n        \"dtype\": \"string\",\n        \"num_unique_values\": 50,\n        \"samples\": [\n          \"The industry is expected to grow by 20% in 2024 due to technological advancements and a higher demand for efficient supply chain solutions, with companies investing in infrastructure to lead in global innovation.\",\n          \"A significant economic boost was observed due to strategic investments and market expansion, with companies across various sectors reporting higher earnings, marking a pivotal year for the region's economic landscape.\",\n          \"The company's growth is fueled by strategic investments and market expansion, with analysts optimistic about sustaining momentum through innovation and customer engagement.\"\n        ],\n        \"semantic_type\": \"\",\n        \"description\": \"\"\n      }\n    },\n    {\n      \"column\": \"summary_accuracy\",\n      \"properties\": {\n        \"dtype\": \"number\",\n        \"std\": 0,\n        \"min\": 0,\n        \"max\": 1,\n        \"num_unique_values\": 2,\n        \"samples\": [\n          0,\n          1\n        ],\n        \"semantic_type\": \"\",\n        \"description\": \"\"\n      }\n    }\n  ]\n}"
            }
          },
          "metadata": {},
          "execution_count": 24
        }
      ]
    },
    {
      "cell_type": "code",
      "source": [
        "import os\n",
        "os.environ[\"RAGAS_APP_TOKEN\"] = userdata.get('RAGAS_API_KEY')"
      ],
      "metadata": {
        "id": "xBcabaaaYrWu"
      },
      "execution_count": null,
      "outputs": []
    },
    {
      "cell_type": "code",
      "source": [
        "results.upload()\n"
      ],
      "metadata": {
        "colab": {
          "base_uri": "https://localhost:8080/",
          "height": 53
        },
        "id": "ynIJ4A9WZHh6",
        "outputId": "a81a0865-e752-4149-bbea-f773b891f4d8"
      },
      "execution_count": null,
      "outputs": [
        {
          "output_type": "stream",
          "name": "stdout",
          "text": [
            "Evaluation results uploaded! View at https://app.ragas.io/dashboard/alignment/evaluation/77f55e23-b57c-4336-bf95-379ef4ba080b\n"
          ]
        },
        {
          "output_type": "execute_result",
          "data": {
            "text/plain": [
              "'https://app.ragas.io/dashboard/alignment/evaluation/77f55e23-b57c-4336-bf95-379ef4ba080b'"
            ],
            "application/vnd.google.colaboratory.intrinsic+json": {
              "type": "string"
            }
          },
          "metadata": {},
          "execution_count": 26
        }
      ]
    }
  ]
}