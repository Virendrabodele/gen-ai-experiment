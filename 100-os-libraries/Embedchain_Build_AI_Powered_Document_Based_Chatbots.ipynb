{
  "nbformat": 4,
  "nbformat_minor": 0,
  "metadata": {
    "colab": {
      "provenance": []
    },
    "kernelspec": {
      "name": "python3",
      "display_name": "Python 3"
    },
    "language_info": {
      "name": "python"
    }
  },
  "cells": [
    {
      "cell_type": "markdown",
      "source": [
        "<img src=\"https://drive.google.com/uc?export=view&id=1wYSMgJtARFdvTt5g7E20mE4NmwUFUuog\" width=\"200\">\n",
        "\n",
        "[![Build Fast with AI](https://img.shields.io/badge/BuildFastWithAI-GenAI%20Bootcamp-blue?style=for-the-badge&logo=artificial-intelligence)](https://www.buildfastwithai.com/genai-course)\n",
        "[![EduChain GitHub](https://img.shields.io/github/stars/satvik314/educhain?style=for-the-badge&logo=github&color=gold)](https://github.com/satvik314/educhain)\n",
        "\n",
        "[![Open In Colab](https://colab.research.google.com/assets/colab-badge.svg)](https://colab.research.google.com/drive/1JIhHJ3FOZvPmZlLuyN0nvgAp_PnYUbPe?usp=sharing)\n",
        "## Master Generative AI in 6 Weeks\n",
        "**What You'll Learn:**\n",
        "- Build with Latest LLMs\n",
        "- Create Custom AI Apps\n",
        "- Learn from Industry Experts\n",
        "- Join Innovation Community\n",
        "Transform your AI ideas into reality through hands-on projects and expert mentorship.\n",
        "[Start Your Journey](https://www.buildfastwithai.com/genai-course)\n",
        "*Empowering the Next Generation of AI Innovators"
      ],
      "metadata": {
        "id": "U3U4bhyTeQV4"
      }
    },
    {
      "cell_type": "markdown",
      "source": [
        "## Embedchain: Build AI-Powered Document-Based Chatbots 🤖💬\n",
        "\n",
        "Embedchain is an open-source framework designed to help developers quickly build AI-powered chatbots that can retrieve and interact with various data sources. Whether it’s a website, PDF, or knowledge base, Embedchain integrates your data with powerful language models to create seamless and intelligent chat interfaces. 🌐⚡\n",
        "\n",
        "### Key Features:\n",
        "- **Easy Setup 🛠️**: Integrates various data sources like websites, PDFs, and more with minimal setup, enabling quick deployment of AI bots. 🚀\n",
        "- **Versatile Data Sources 📚**: Supports multiple types of data inputs including text, websites, documents, and other resources. 📄🔗\n",
        "- **Real-time Querying 💬**: Users can ask questions based on the integrated data, and the bot will provide responses using advanced LLMs. 🧠💡\n",
        "- **Customizable Configurations 🔧**: Easily customize the bot’s functionality and integrate it with a variety of APIs and external services. 🔌\n"
      ],
      "metadata": {
        "id": "qJiPxsPCeQHD"
      }
    },
    {
      "cell_type": "markdown",
      "source": [
        "###**Setup and Installation**"
      ],
      "metadata": {
        "id": "FNoEJMHeePA5"
      }
    },
    {
      "cell_type": "code",
      "execution_count": null,
      "metadata": {
        "id": "u44_n_0_QJkz"
      },
      "outputs": [],
      "source": [
        "!pip install embedchain chromadb"
      ]
    },
    {
      "cell_type": "markdown",
      "source": [
        "###**ChromaDB with Embedchain**"
      ],
      "metadata": {
        "id": "nzhZaa-nh-Dn"
      }
    },
    {
      "cell_type": "code",
      "source": [
        "from google.colab import userdata\n",
        "import os\n",
        "\n",
        "openai_api_key = userdata.get('OPENAI_API_KEY')\n",
        "os.environ[\"OPENAI_API_KEY\"] = openai_api_key\n",
        "os.environ[\"COHERE_API_KEY\"] = userdata.get('COHERE_API_KEY')"
      ],
      "metadata": {
        "id": "dqWKrsIkQhzU"
      },
      "execution_count": null,
      "outputs": []
    },
    {
      "cell_type": "markdown",
      "source": [
        "###**Create embedchain app and define your config**"
      ],
      "metadata": {
        "id": "912AfK1FhgxN"
      }
    },
    {
      "cell_type": "code",
      "source": [
        "from embedchain import App\n",
        "\n",
        "app = App.from_config(config={\n",
        "     \"vectordb\": {\n",
        "        \"provider\": \"chroma\",\n",
        "        \"config\": {\n",
        "            \"collection_name\": \"my-collection\",\n",
        "            \"allow_reset\": True\n",
        "        }\n",
        "     }\n",
        "})\n"
      ],
      "metadata": {
        "id": "48G1F4NJWfuN"
      },
      "execution_count": null,
      "outputs": []
    },
    {
      "cell_type": "markdown",
      "source": [
        "###**Adding a Data Source to Embedchain**"
      ],
      "metadata": {
        "id": "VcV_Iznlhtzg"
      }
    },
    {
      "cell_type": "code",
      "source": [
        "app.add(\"https://www.forbes.com/profile/elon-musk\")\n"
      ],
      "metadata": {
        "colab": {
          "base_uri": "https://localhost:8080/",
          "height": 53
        },
        "id": "hgq3LMz7Wwl2",
        "outputId": "1c9dfa7d-0fc2-44e0-8594-0180bd7f810d"
      },
      "execution_count": null,
      "outputs": [
        {
          "output_type": "stream",
          "name": "stderr",
          "text": [
            "Inserting batches in chromadb: 100%|██████████| 1/1 [00:01<00:00,  1.69s/it]\n"
          ]
        },
        {
          "output_type": "execute_result",
          "data": {
            "text/plain": [
              "'8cf46026cabf9b05394a2658bd1fe890'"
            ],
            "application/vnd.google.colaboratory.intrinsic+json": {
              "type": "string"
            }
          },
          "metadata": {},
          "execution_count": 3
        }
      ]
    },
    {
      "cell_type": "markdown",
      "source": [
        "###**Querying Data from Embedchain**"
      ],
      "metadata": {
        "id": "M2L2jCr3iJKb"
      }
    },
    {
      "cell_type": "code",
      "source": [
        "while(True):\n",
        "    question = input(\"Enter question: \")\n",
        "    if question in ['q', 'exit', 'quit']:\n",
        "        break\n",
        "    answer = app.query(question)\n",
        "    print(answer)"
      ],
      "metadata": {
        "colab": {
          "base_uri": "https://localhost:8080/"
        },
        "id": "7BIaxkn_XqEU",
        "outputId": "7c66025e-0c89-4092-9dc2-0d6145dca1e2"
      },
      "execution_count": null,
      "outputs": [
        {
          "name": "stdout",
          "output_type": "stream",
          "text": [
            "Enter question: Who is Elon musk\n"
          ]
        },
        {
          "output_type": "stream",
          "name": "stderr",
          "text": [
            "WARNING:embedchain.embedchain:Starting from v0.1.125 the return type of query method will be changed to tuple containing `answer`.\n"
          ]
        },
        {
          "name": "stdout",
          "output_type": "stream",
          "text": [
            "Elon Musk is a prominent entrepreneur and business magnate known for cofounding several influential companies, including Tesla, SpaceX, and xAI. He serves as the CEO of Tesla, which specializes in electric vehicles, and SpaceX, a company focused on aerospace manufacturing and space transport services. Musk has a significant stake in both companies, with a notable ownership percentage in Tesla. He is also recognized for his acquisition of Twitter, which he rebranded as X. Musk is known for his innovative approach to technology and business, as well as his interest in addressing global challenges such as population decline. He has a diverse background, having taught himself coding at a young age and holding degrees from the University of Pennsylvania. Musk is a father of 11 children and resides in Austin, Texas.\n",
            "Enter question: Source of Wealth\n"
          ]
        },
        {
          "output_type": "stream",
          "name": "stderr",
          "text": [
            "WARNING:embedchain.embedchain:Starting from v0.1.125 the return type of query method will be changed to tuple containing `answer`.\n"
          ]
        },
        {
          "name": "stdout",
          "output_type": "stream",
          "text": [
            "Elon Musk's wealth primarily stems from his significant stakes in several high-profile companies, including Tesla, SpaceX, and xAI. He co-founded Tesla, an electric car manufacturer, and SpaceX, a rocket production company, both of which have contributed substantially to his net worth. Additionally, his involvement in the artificial intelligence startup xAI has further diversified his portfolio.\n",
            "Enter question: What is his estimated net worth?\n"
          ]
        },
        {
          "output_type": "stream",
          "name": "stderr",
          "text": [
            "WARNING:embedchain.embedchain:Starting from v0.1.125 the return type of query method will be changed to tuple containing `answer`.\n"
          ]
        },
        {
          "name": "stdout",
          "output_type": "stream",
          "text": [
            "Elon Musk's estimated net worth is $421.6 billion as of February 2, 2025.\n",
            "Enter question: exit\n"
          ]
        }
      ]
    },
    {
      "cell_type": "code",
      "source": [
        "print(app.query(\"How many companies does Elon Musk run? Name those\"))"
      ],
      "metadata": {
        "colab": {
          "base_uri": "https://localhost:8080/"
        },
        "id": "UltVWDCRaQho",
        "outputId": "b1c50d69-d578-4dc2-efec-651f9dfc559d"
      },
      "execution_count": null,
      "outputs": [
        {
          "output_type": "stream",
          "name": "stderr",
          "text": [
            "WARNING:embedchain.embedchain:Starting from v0.1.125 the return type of query method will be changed to tuple containing `answer`.\n"
          ]
        },
        {
          "output_type": "stream",
          "name": "stdout",
          "text": [
            "Elon Musk is associated with several companies, having cofounded seven in total. The notable ones include:\n",
            "\n",
            "1. Tesla - an electric car manufacturer.\n",
            "2. SpaceX - a rocket production company.\n",
            "3. xAI - an artificial intelligence startup.\n",
            "4. Twitter (renamed X) - a social media platform.\n",
            "\n",
            "These companies reflect his diverse interests in technology, transportation, and artificial intelligence.\n"
          ]
        }
      ]
    },
    {
      "cell_type": "markdown",
      "source": [
        "###**Adding URL to Embedchain App**"
      ],
      "metadata": {
        "id": "9-qOq127iqmh"
      }
    },
    {
      "cell_type": "code",
      "source": [
        "app.add(\"docs_site\", \"https://docs.embedchain.ai/\")"
      ],
      "metadata": {
        "colab": {
          "base_uri": "https://localhost:8080/",
          "height": 125
        },
        "id": "NpaGX_j2aZ4J",
        "outputId": "745246da-205d-4f44-a5d8-0a27b55402cd"
      },
      "execution_count": null,
      "outputs": [
        {
          "output_type": "stream",
          "name": "stderr",
          "text": [
            "WARNING:embedchain.embedchain:Starting from version v0.0.40, Embedchain can automatically detect the data type. So, in the `add` method, the argument order has changed. You no longer need to specify 'docs_site' for the `source` argument. So the code snippet will be `.add(\"https://docs.embedchain.ai/\", \"docs_site\")`\n",
            "WARNING:embedchain.embedchain:Embedchain is swapping the arguments for you. This functionality might be deprecated in the future, so please adjust your code.\n",
            "WARNING:root:min_chunk_size 0 should be greater than chunk_overlap 50, otherwise it is redundant.\n",
            "Inserting batches in chromadb: 100%|██████████| 2/2 [00:04<00:00,  2.09s/it]\n"
          ]
        },
        {
          "output_type": "execute_result",
          "data": {
            "text/plain": [
              "'ebc8c5c14047c62e57b27286759adbed'"
            ],
            "application/vnd.google.colaboratory.intrinsic+json": {
              "type": "string"
            }
          },
          "metadata": {},
          "execution_count": 6
        }
      ]
    },
    {
      "cell_type": "markdown",
      "source": [
        "###**Displaying Answer as Markdown**"
      ],
      "metadata": {
        "id": "T5crpKyeix7G"
      }
    },
    {
      "cell_type": "code",
      "source": [
        "from IPython.display import Markdown\n",
        "\n",
        "markdown_answer = Markdown(answer)\n",
        "display(markdown_answer)"
      ],
      "metadata": {
        "colab": {
          "base_uri": "https://localhost:8080/",
          "height": 46
        },
        "id": "tNnkKJhAatcj",
        "outputId": "98450ad6-b0c6-4b69-ef29-4040e8e86032"
      },
      "execution_count": null,
      "outputs": [
        {
          "output_type": "display_data",
          "data": {
            "text/plain": [
              "<IPython.core.display.Markdown object>"
            ],
            "text/markdown": "Elon Musk's estimated net worth is $421.6 billion as of February 2, 2025."
          },
          "metadata": {}
        }
      ]
    },
    {
      "cell_type": "markdown",
      "source": [
        "###**Cohere with Embedchain**"
      ],
      "metadata": {
        "id": "F4bkE4Wfi27Y"
      }
    },
    {
      "cell_type": "code",
      "source": [
        "app = App.from_config(config={\n",
        "    \"llm\": {\n",
        "        \"provider\": \"cohere\",\n",
        "        \"config\": {\n",
        "            \"model\": \"gptd-instruct-tft\",\n",
        "            \"temperature\": 0.5,\n",
        "            \"max_tokens\": 1000,\n",
        "            \"top_p\": 1,\n",
        "            \"stream\": False\n",
        "        }\n",
        "    },\n",
        "    \"vectordb\": {\n",
        "        \"provider\": \"chroma\",\n",
        "        \"config\": {\n",
        "            \"collection_name\": \"my_cohere_app_collection\",\n",
        "            \"allow_reset\": True\n",
        "        }\n",
        "    }\n",
        "})"
      ],
      "metadata": {
        "id": "q-M4U98ffQ_z"
      },
      "execution_count": null,
      "outputs": []
    },
    {
      "cell_type": "markdown",
      "source": [
        "###**Adding PDF File to EmbedChain**"
      ],
      "metadata": {
        "id": "BOCIdTZcjMUf"
      }
    },
    {
      "cell_type": "code",
      "source": [
        "app.add(\"pdf_file\", \"https://navalmanack.s3.amazonaws.com/Eric-Jorgenson_The-Almanack-of-Naval-Ravikant_Final.pdf\")"
      ],
      "metadata": {
        "colab": {
          "base_uri": "https://localhost:8080/",
          "height": 108
        },
        "id": "fo7dYqI_bKkQ",
        "outputId": "0d061ffb-7bb1-402c-f525-5a653ac300b3"
      },
      "execution_count": null,
      "outputs": [
        {
          "output_type": "stream",
          "name": "stderr",
          "text": [
            "WARNING:embedchain.embedchain:Starting from version v0.0.40, Embedchain can automatically detect the data type. So, in the `add` method, the argument order has changed. You no longer need to specify 'pdf_file' for the `source` argument. So the code snippet will be `.add(\"https://navalmanack.s3.amazonaws.com/Eric-Jorgenson_The-Almanack-of-Naval-Ravikant_Final.pdf\", \"pdf_file\")`\n",
            "WARNING:embedchain.embedchain:Embedchain is swapping the arguments for you. This functionality might be deprecated in the future, so please adjust your code.\n",
            "Inserting batches in chromadb: 100%|██████████| 4/4 [00:09<00:00,  2.44s/it]\n"
          ]
        },
        {
          "output_type": "execute_result",
          "data": {
            "text/plain": [
              "'2e063779c95f8ecd1b2b02a1292e03a9'"
            ],
            "application/vnd.google.colaboratory.intrinsic+json": {
              "type": "string"
            }
          },
          "metadata": {},
          "execution_count": 33
        }
      ]
    },
    {
      "cell_type": "markdown",
      "source": [
        "###**Querying the EmbedChain App in a Loop**"
      ],
      "metadata": {
        "id": "U-ihldf1jRgt"
      }
    },
    {
      "cell_type": "code",
      "source": [
        "while(True):\n",
        "    question = input(\"Enter question: \")\n",
        "    if question in ['q', 'exit', 'quit']:\n",
        "        break\n",
        "    answer = app.query(question)\n",
        "    print(answer)\n"
      ],
      "metadata": {
        "colab": {
          "base_uri": "https://localhost:8080/"
        },
        "id": "W5TFUcmkf2A_",
        "outputId": "0075efb9-954d-4209-a026-fa315f3f7738"
      },
      "execution_count": null,
      "outputs": [
        {
          "name": "stdout",
          "output_type": "stream",
          "text": [
            "Enter question: TIMELINE OF NAVAL RAVIKANT\n"
          ]
        },
        {
          "output_type": "stream",
          "name": "stderr",
          "text": [
            "WARNING:embedchain.embedchain:Starting from v0.1.125 the return type of query method will be changed to tuple containing `answer`.\n"
          ]
        },
        {
          "name": "stdout",
          "output_type": "stream",
          "text": [
            "Naval Ravikant, a prominent figure in the tech industry, has had a remarkable journey, starting from his birth in 1974 in Delhi, India. His early life included a move to Queens, New York, at age 9 and attending Stuyvesant High School at 14.\n",
            "\n",
            "Ravikant's educational background includes a degree in Computer Science and Economics from Dartmouth, which he completed in 1995. His entrepreneurial spirit emerged early, as he founded Epinions at the age of 25 in 1999. After a stint as a Venture Partner at August Capital, he went on to establish Vast.com, a classified ad marketplace, in 2003.\n",
            "\n",
            "The year 2005 marked a turning point in his career when he gained the nickname \"Radioactive Mud\" in Silicon Valley. He then founded Hit Forge, a VC fund, and launched the VentureHacks blog in 2007. AngelList, a significant platform for startups and investors, was introduced by him in 2010, the same year he invested in Uber.\n",
            "\n",
            "Naval's influence extended to policy advocacy, as he lobbied Congress for the JOBS Act in 2012. His contributions to the tech and investment world were recognized in 2018 when he was named \"Angel Investor of the Year\" at the age of 43.\n",
            "Enter question: exit\n"
          ]
        }
      ]
    }
  ]
}