{
  "nbformat": 4,
  "nbformat_minor": 0,
  "metadata": {
    "colab": {
      "provenance": []
    },
    "kernelspec": {
      "name": "python3",
      "display_name": "Python 3"
    },
    "language_info": {
      "name": "python"
    }
  },
  "cells": [
    {
      "cell_type": "markdown",
      "source": [
        "<img src=\"https://drive.google.com/uc?export=view&id=1wYSMgJtARFdvTt5g7E20mE4NmwUFUuog\" width=\"200\">\n",
        "\n",
        "[![Build Fast with AI](https://img.shields.io/badge/BuildFastWithAI-GenAI%20Bootcamp-blue?style=for-the-badge&logo=artificial-intelligence)](https://www.buildfastwithai.com/genai-course)\n",
        "[![EduChain GitHub](https://img.shields.io/github/stars/satvik314/educhain?style=for-the-badge&logo=github&color=gold)](https://github.com/satvik314/educhain)\n",
        "\n",
        "[![Open In Colab](https://colab.research.google.com/assets/colab-badge.svg)](https://colab.research.google.com/drive/1iLK4oqazJ1hU64qb3TMO9_GCbJ7cDzmS?usp=sharing)\n",
        "## Master Generative AI in 6 Weeks\n",
        "**What You'll Learn:**\n",
        "- Build with Latest LLMs\n",
        "- Create Custom AI Apps\n",
        "- Learn from Industry Experts\n",
        "- Join Innovation Community\n",
        "Transform your AI ideas into reality through hands-on projects and expert mentorship.\n",
        "[Start Your Journey](https://www.buildfastwithai.com/genai-course)\n",
        "*Empowering the Next Generation of AI Innovators"
      ],
      "metadata": {
        "id": "j_2KIg5WXb38"
      }
    },
    {
      "cell_type": "markdown",
      "source": [
        "# 📌 **Neon_DB_Serverless_PGVector**\n",
        "**Neon** is an **open-source, serverless PostgreSQL database** with features like **autoscaling, branching, and vector support (`pgvector`)**. It is ideal for **AI applications, real-time analytics, and scalable cloud databases**.\n",
        "\n",
        "## 🚀 **Key Features**\n",
        "✅ **Open Source** - Fully transparent and free to use  \n",
        "✅ **Serverless** - No need to manage infrastructure  \n",
        "✅ **Autoscaling** - Automatically adjusts resources  \n",
        "✅ **Branching** - Instant database cloning for testing  \n",
        "✅ **Vector Search (`pgvector`)** - Ideal for AI and embeddings  \n",
        "✅ **Compatible with PostgreSQL** - Works with all PostgreSQL tools  "
      ],
      "metadata": {
        "id": "1Bt8jXAvYQVw"
      }
    },
    {
      "cell_type": "markdown",
      "source": [
        "### **🔌 Connect to Neon PostgreSQL**"
      ],
      "metadata": {
        "id": "L87skiGeXbMk"
      }
    },
    {
      "cell_type": "code",
      "source": [
        "import os\n",
        "import psycopg2\n",
        "from google.colab import userdata\n",
        "\n",
        "connection_string = userdata.get('NEON_URL')\n",
        "\n",
        "connection = psycopg2.connect(connection_string)\n",
        "\n",
        "cursor = connection.cursor()"
      ],
      "metadata": {
        "id": "0mL5I9uYU5hZ"
      },
      "execution_count": null,
      "outputs": []
    },
    {
      "cell_type": "markdown",
      "source": [
        "### **✅ Test Neon PostgreSQL Connection**\n",
        "\n",
        "\n",
        "\n",
        "\n",
        "\n",
        "\n"
      ],
      "metadata": {
        "id": "Qta5OR3SZB6e"
      }
    },
    {
      "cell_type": "code",
      "source": [
        "cursor.execute(\"SELECT 1;\")\n",
        "result = cursor.fetchone()\n",
        "\n",
        "if result == (1,):\n",
        "    print(\"Your database connection was successful!\")\n",
        "else:\n",
        "    print(\"Your connection failed.\")"
      ],
      "metadata": {
        "colab": {
          "base_uri": "https://localhost:8080/"
        },
        "id": "7mGNgSgsVJ_B",
        "outputId": "743d9b0b-858d-4d84-b064-eccfe32a388b"
      },
      "execution_count": null,
      "outputs": [
        {
          "output_type": "stream",
          "name": "stdout",
          "text": [
            "Your database connection was successful!\n"
          ]
        }
      ]
    },
    {
      "cell_type": "markdown",
      "source": [
        "### **📦 Install pgvector Extension in Neon DB**\n",
        "\n",
        "\n",
        "\n",
        "\n",
        "\n",
        "\n"
      ],
      "metadata": {
        "id": "zmw63k4rZKHJ"
      }
    },
    {
      "cell_type": "code",
      "source": [
        "cursor.execute(\"CREATE EXTENSION IF NOT EXISTS vector;\")\n"
      ],
      "metadata": {
        "id": "gsc8hXitVakm"
      },
      "execution_count": null,
      "outputs": []
    },
    {
      "cell_type": "markdown",
      "source": [
        "### **🗄️ Create Table & Insert Vector Data**\n",
        "\n",
        "\n",
        "\n",
        "\n",
        "\n",
        "\n"
      ],
      "metadata": {
        "id": "gciYKmS7ZPPR"
      }
    },
    {
      "cell_type": "code",
      "source": [
        "create_table_sql = '''\n",
        "CREATE TABLE items (\n",
        "  id BIGSERIAL PRIMARY KEY,\n",
        "  embedding VECTOR(3)\n",
        ");\n",
        "'''\n",
        "\n",
        "insert_data_sql = '''\n",
        "INSERT INTO items (embedding) VALUES ('[1,2,3]'), ('[4,5,6]'), ('[7,8,9]');\n",
        "'''\n",
        "\n",
        "cursor.execute(create_table_sql)\n",
        "cursor.execute(insert_data_sql)\n",
        "\n",
        "connection.commit()"
      ],
      "metadata": {
        "id": "a4_1_7MMVdJo"
      },
      "execution_count": null,
      "outputs": []
    },
    {
      "cell_type": "markdown",
      "source": [
        "### **🔍 Perform Vector Similarity Search**\n",
        "\n"
      ],
      "metadata": {
        "id": "M1X_8INUZVOe"
      }
    },
    {
      "cell_type": "code",
      "source": [
        "cursor.execute(\"SELECT * FROM items ORDER BY embedding <-> '[3,1,2]' LIMIT 3;\")\n",
        "all_data = cursor.fetchall()\n",
        "print(all_data)"
      ],
      "metadata": {
        "colab": {
          "base_uri": "https://localhost:8080/"
        },
        "id": "IUP2SdauVerY",
        "outputId": "d225fb49-94ea-4001-ad0a-31205ade563e"
      },
      "execution_count": null,
      "outputs": [
        {
          "output_type": "stream",
          "name": "stdout",
          "text": [
            "[(1, '[1,2,3]'), (2, '[4,5,6]'), (3, '[7,8,9]')]\n"
          ]
        }
      ]
    },
    {
      "cell_type": "markdown",
      "source": [
        "###**Interactive To-Do List App With Neon DB 📝**"
      ],
      "metadata": {
        "id": "QXcnyCiNgABI"
      }
    },
    {
      "cell_type": "code",
      "source": [
        "conn = psycopg2.connect(connection_string)\n",
        "cursor = conn.cursor()"
      ],
      "metadata": {
        "id": "_9tmFI2kZqMe"
      },
      "execution_count": null,
      "outputs": []
    },
    {
      "cell_type": "markdown",
      "source": [
        "### **1️⃣ Setup Database 🗄️**  \n"
      ],
      "metadata": {
        "id": "NIf2wX45gFNo"
      }
    },
    {
      "cell_type": "code",
      "source": [
        "cursor.execute(\"\"\"\n",
        "    CREATE TABLE IF NOT EXISTS tasks (\n",
        "        id SERIAL PRIMARY KEY,\n",
        "        task TEXT NOT NULL,\n",
        "        completed BOOLEAN DEFAULT FALSE\n",
        "    )\n",
        "\"\"\")\n",
        "conn.commit()"
      ],
      "metadata": {
        "id": "MLF78tvUVgWA"
      },
      "execution_count": null,
      "outputs": []
    },
    {
      "cell_type": "markdown",
      "source": [
        "### **2️⃣ Add a New Task ➕**  \n"
      ],
      "metadata": {
        "id": "CdljOgj3gHZM"
      }
    },
    {
      "cell_type": "code",
      "source": [
        "def add_task(task):\n",
        "    cursor.execute(\"INSERT INTO tasks (task) VALUES (%s)\", (task,))\n",
        "    conn.commit()\n",
        "    print(\"✅ Task added!\")\n"
      ],
      "metadata": {
        "id": "S3-fbGbPZo3r"
      },
      "execution_count": null,
      "outputs": []
    },
    {
      "cell_type": "markdown",
      "source": [
        "### **3️⃣ View All Tasks 📜**  \n"
      ],
      "metadata": {
        "id": "cDF-5f-6gJH-"
      }
    },
    {
      "cell_type": "code",
      "source": [
        "def view_tasks():\n",
        "    cursor.execute(\"SELECT id, task, completed FROM tasks\")\n",
        "    tasks = cursor.fetchall()\n",
        "    print(\"\\n📋 To-Do List:\")\n",
        "    for task in tasks:\n",
        "        status = \"✅\" if task[2] else \"❌\"\n",
        "        print(f\"{task[0]}. {task[1]} {status}\")\n"
      ],
      "metadata": {
        "id": "I_aRUDPzZ3N7"
      },
      "execution_count": null,
      "outputs": []
    },
    {
      "cell_type": "markdown",
      "source": [
        "### **4️⃣ Delete a Task ❌**  \n"
      ],
      "metadata": {
        "id": "upr9i-MRgUF1"
      }
    },
    {
      "cell_type": "code",
      "source": [
        "def delete_task(task_id):\n",
        "    cursor.execute(\"DELETE FROM tasks WHERE id = %s\", (task_id,))\n",
        "    conn.commit()\n",
        "    print(\"🗑️ Task deleted!\")\n"
      ],
      "metadata": {
        "id": "3FBZpnZPZ5cG"
      },
      "execution_count": null,
      "outputs": []
    },
    {
      "cell_type": "code",
      "source": [
        "while True:\n",
        "    print(\"\\n1. Add Task  2. View Tasks  3. Delete Task  4. Exit\")\n",
        "    choice = input(\"Choose an option: \")\n",
        "\n",
        "    if choice == \"1\":\n",
        "        task = input(\"Enter task: \")\n",
        "        add_task(task)\n",
        "    elif choice == \"2\":\n",
        "        view_tasks()\n",
        "    elif choice == \"3\":\n",
        "        task_id = input(\"Enter task ID to delete: \")\n",
        "        delete_task(task_id)\n",
        "    elif choice == \"4\":\n",
        "        break\n",
        "    else:\n",
        "        print(\"❌ Invalid choice!\")\n",
        "cursor.close()\n",
        "conn.close()\n",
        "print(\"✅ Database connection closed.\")"
      ],
      "metadata": {
        "colab": {
          "base_uri": "https://localhost:8080/"
        },
        "id": "ZmraztlZZ7LY",
        "outputId": "278494e4-05fe-441f-f992-f97e3907a815"
      },
      "execution_count": null,
      "outputs": [
        {
          "output_type": "stream",
          "name": "stdout",
          "text": [
            "\n",
            "1. Add Task  2. View Tasks  3. Delete Task  4. Exit\n",
            "Choose an option: 1\n",
            "Enter task: Meeting at 7pm\n",
            "✅ Task added!\n",
            "\n",
            "1. Add Task  2. View Tasks  3. Delete Task  4. Exit\n",
            "Choose an option: 2\n",
            "\n",
            "📋 To-Do List:\n",
            "1. Meeting at 7pm ❌\n",
            "\n",
            "1. Add Task  2. View Tasks  3. Delete Task  4. Exit\n",
            "Choose an option: 3\n",
            "Enter task ID to delete: 1\n",
            "🗑️ Task deleted!\n",
            "\n",
            "1. Add Task  2. View Tasks  3. Delete Task  4. Exit\n",
            "Choose an option: 2\n",
            "\n",
            "📋 To-Do List:\n",
            "\n",
            "1. Add Task  2. View Tasks  3. Delete Task  4. Exit\n",
            "Choose an option: 4\n",
            "✅ Database connection closed.\n"
          ]
        }
      ]
    },
    {
      "cell_type": "markdown",
      "source": [
        "# **💬 OpenAI Chatbot with NeonDB for Chat History 🗄️**\n"
      ],
      "metadata": {
        "id": "GFd4pzQNgkhT"
      }
    },
    {
      "cell_type": "code",
      "source": [
        "from google.colab import userdata\n",
        "from openai import OpenAI\n",
        "\n",
        "OPENAI_API_KEY=userdata.get('OPENAI_API_KEY')"
      ],
      "metadata": {
        "id": "QxMdbGlTcA8b"
      },
      "execution_count": null,
      "outputs": []
    },
    {
      "cell_type": "code",
      "source": [
        "import psycopg2\n",
        "from openai import OpenAI\n",
        "\n",
        "conn = psycopg2.connect(connection_string)\n",
        "conn.autocommit = True\n",
        "cursor = conn.cursor()\n",
        "\n",
        "cursor.execute(\"\"\"\n",
        "    CREATE TABLE IF NOT EXISTS chat_history (\n",
        "        id SERIAL PRIMARY KEY,\n",
        "        user_message TEXT NOT NULL,\n",
        "        bot_response TEXT NOT NULL,\n",
        "        created_at TIMESTAMP DEFAULT CURRENT_TIMESTAMP\n",
        "    )\n",
        "\"\"\")\n",
        "\n",
        "client = OpenAI(api_key=OPENAI_API_KEY)\n",
        "\n",
        "def get_chat_history(limit=5):\n",
        "    \"\"\"Retrieve the last 'limit' messages for context.\"\"\"\n",
        "    cursor.execute(f\"SELECT user_message, bot_response FROM chat_history ORDER BY created_at DESC LIMIT {limit};\")\n",
        "    return cursor.fetchall()[::-1]\n",
        "\n",
        "def chat_with_gpt(user_input):\n",
        "    chat_history = get_chat_history(limit=5)\n",
        "\n",
        "    messages = [{\"role\": \"system\", \"content\": \"You are a helpful assistant with memory. Remember past user inputs.\"}]\n",
        "\n",
        "    for user_msg, bot_msg in chat_history:\n",
        "        messages.append({\"role\": \"user\", \"content\": user_msg})\n",
        "        messages.append({\"role\": \"assistant\", \"content\": bot_msg})\n",
        "\n",
        "    messages.append({\"role\": \"user\", \"content\": user_input})\n",
        "\n",
        "    response = client.chat.completions.create(\n",
        "        model=\"gpt-4o-mini\",\n",
        "        messages=messages\n",
        "    )\n",
        "\n",
        "    bot_response = response.choices[0].message.content\n",
        "\n",
        "    cursor.execute(\n",
        "        \"INSERT INTO chat_history (user_message, bot_response) VALUES (%s, %s)\",\n",
        "        (user_input, bot_response),\n",
        "    )\n",
        "\n",
        "    return bot_response\n",
        "\n",
        "while True:\n",
        "    user_message = input(\"You: \")\n",
        "    if user_message.lower() in [\"exit\", \"quit\"]:\n",
        "        print(\"Goodbye!\")\n",
        "        break\n",
        "\n",
        "    bot_response = chat_with_gpt(user_message)\n",
        "    print(f\"GPT-4o: {bot_response}\")\n",
        "\n",
        "cursor.close()\n",
        "conn.close()\n",
        "print(\"✅ Database connection closed.\")\n"
      ],
      "metadata": {
        "id": "hKzaAnQlaiTe"
      },
      "execution_count": null,
      "outputs": []
    }
  ]
}