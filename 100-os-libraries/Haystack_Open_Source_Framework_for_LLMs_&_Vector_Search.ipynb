{
  "nbformat": 4,
  "nbformat_minor": 0,
  "metadata": {
    "colab": {
      "provenance": []
    },
    "kernelspec": {
      "name": "python3",
      "display_name": "Python 3"
    },
    "language_info": {
      "name": "python"
    },
    "widgets": {
      "application/vnd.jupyter.widget-state+json": {
        "d6480cdbb1ad41afbd4cd3489bc02c10": {
          "model_module": "@jupyter-widgets/controls",
          "model_name": "HBoxModel",
          "model_module_version": "1.5.0",
          "state": {
            "_dom_classes": [],
            "_model_module": "@jupyter-widgets/controls",
            "_model_module_version": "1.5.0",
            "_model_name": "HBoxModel",
            "_view_count": null,
            "_view_module": "@jupyter-widgets/controls",
            "_view_module_version": "1.5.0",
            "_view_name": "HBoxView",
            "box_style": "",
            "children": [
              "IPY_MODEL_cdc61f70ea2840cba79d3867877aef1d",
              "IPY_MODEL_e7960b6313264100aeabde78595fd8b0",
              "IPY_MODEL_78216f80cc6f4f21999f24b226f58254"
            ],
            "layout": "IPY_MODEL_eb72379133964758b77019d5c9811164"
          }
        },
        "cdc61f70ea2840cba79d3867877aef1d": {
          "model_module": "@jupyter-widgets/controls",
          "model_name": "HTMLModel",
          "model_module_version": "1.5.0",
          "state": {
            "_dom_classes": [],
            "_model_module": "@jupyter-widgets/controls",
            "_model_module_version": "1.5.0",
            "_model_name": "HTMLModel",
            "_view_count": null,
            "_view_module": "@jupyter-widgets/controls",
            "_view_module_version": "1.5.0",
            "_view_name": "HTMLView",
            "description": "",
            "description_tooltip": null,
            "layout": "IPY_MODEL_1e2cb3fe07104dc5a363c3273d6b734f",
            "placeholder": "​",
            "style": "IPY_MODEL_1ef290a6611d441abbd5568259a1ee53",
            "value": "README.md: 100%"
          }
        },
        "e7960b6313264100aeabde78595fd8b0": {
          "model_module": "@jupyter-widgets/controls",
          "model_name": "FloatProgressModel",
          "model_module_version": "1.5.0",
          "state": {
            "_dom_classes": [],
            "_model_module": "@jupyter-widgets/controls",
            "_model_module_version": "1.5.0",
            "_model_name": "FloatProgressModel",
            "_view_count": null,
            "_view_module": "@jupyter-widgets/controls",
            "_view_module_version": "1.5.0",
            "_view_name": "ProgressView",
            "bar_style": "success",
            "description": "",
            "description_tooltip": null,
            "layout": "IPY_MODEL_1aca646d1f324ea5b38dafe153ce0c81",
            "max": 46,
            "min": 0,
            "orientation": "horizontal",
            "style": "IPY_MODEL_1cd9b88a3fc14b9d8fd2a1074e2c6f75",
            "value": 46
          }
        },
        "78216f80cc6f4f21999f24b226f58254": {
          "model_module": "@jupyter-widgets/controls",
          "model_name": "HTMLModel",
          "model_module_version": "1.5.0",
          "state": {
            "_dom_classes": [],
            "_model_module": "@jupyter-widgets/controls",
            "_model_module_version": "1.5.0",
            "_model_name": "HTMLModel",
            "_view_count": null,
            "_view_module": "@jupyter-widgets/controls",
            "_view_module_version": "1.5.0",
            "_view_name": "HTMLView",
            "description": "",
            "description_tooltip": null,
            "layout": "IPY_MODEL_9c8c3923ce184d639f3c5c0a598491c0",
            "placeholder": "​",
            "style": "IPY_MODEL_116c51df94a344888f91e32386a62f0c",
            "value": " 46.0/46.0 [00:00&lt;00:00, 909B/s]"
          }
        },
        "eb72379133964758b77019d5c9811164": {
          "model_module": "@jupyter-widgets/base",
          "model_name": "LayoutModel",
          "model_module_version": "1.2.0",
          "state": {
            "_model_module": "@jupyter-widgets/base",
            "_model_module_version": "1.2.0",
            "_model_name": "LayoutModel",
            "_view_count": null,
            "_view_module": "@jupyter-widgets/base",
            "_view_module_version": "1.2.0",
            "_view_name": "LayoutView",
            "align_content": null,
            "align_items": null,
            "align_self": null,
            "border": null,
            "bottom": null,
            "display": null,
            "flex": null,
            "flex_flow": null,
            "grid_area": null,
            "grid_auto_columns": null,
            "grid_auto_flow": null,
            "grid_auto_rows": null,
            "grid_column": null,
            "grid_gap": null,
            "grid_row": null,
            "grid_template_areas": null,
            "grid_template_columns": null,
            "grid_template_rows": null,
            "height": null,
            "justify_content": null,
            "justify_items": null,
            "left": null,
            "margin": null,
            "max_height": null,
            "max_width": null,
            "min_height": null,
            "min_width": null,
            "object_fit": null,
            "object_position": null,
            "order": null,
            "overflow": null,
            "overflow_x": null,
            "overflow_y": null,
            "padding": null,
            "right": null,
            "top": null,
            "visibility": null,
            "width": null
          }
        },
        "1e2cb3fe07104dc5a363c3273d6b734f": {
          "model_module": "@jupyter-widgets/base",
          "model_name": "LayoutModel",
          "model_module_version": "1.2.0",
          "state": {
            "_model_module": "@jupyter-widgets/base",
            "_model_module_version": "1.2.0",
            "_model_name": "LayoutModel",
            "_view_count": null,
            "_view_module": "@jupyter-widgets/base",
            "_view_module_version": "1.2.0",
            "_view_name": "LayoutView",
            "align_content": null,
            "align_items": null,
            "align_self": null,
            "border": null,
            "bottom": null,
            "display": null,
            "flex": null,
            "flex_flow": null,
            "grid_area": null,
            "grid_auto_columns": null,
            "grid_auto_flow": null,
            "grid_auto_rows": null,
            "grid_column": null,
            "grid_gap": null,
            "grid_row": null,
            "grid_template_areas": null,
            "grid_template_columns": null,
            "grid_template_rows": null,
            "height": null,
            "justify_content": null,
            "justify_items": null,
            "left": null,
            "margin": null,
            "max_height": null,
            "max_width": null,
            "min_height": null,
            "min_width": null,
            "object_fit": null,
            "object_position": null,
            "order": null,
            "overflow": null,
            "overflow_x": null,
            "overflow_y": null,
            "padding": null,
            "right": null,
            "top": null,
            "visibility": null,
            "width": null
          }
        },
        "1ef290a6611d441abbd5568259a1ee53": {
          "model_module": "@jupyter-widgets/controls",
          "model_name": "DescriptionStyleModel",
          "model_module_version": "1.5.0",
          "state": {
            "_model_module": "@jupyter-widgets/controls",
            "_model_module_version": "1.5.0",
            "_model_name": "DescriptionStyleModel",
            "_view_count": null,
            "_view_module": "@jupyter-widgets/base",
            "_view_module_version": "1.2.0",
            "_view_name": "StyleView",
            "description_width": ""
          }
        },
        "1aca646d1f324ea5b38dafe153ce0c81": {
          "model_module": "@jupyter-widgets/base",
          "model_name": "LayoutModel",
          "model_module_version": "1.2.0",
          "state": {
            "_model_module": "@jupyter-widgets/base",
            "_model_module_version": "1.2.0",
            "_model_name": "LayoutModel",
            "_view_count": null,
            "_view_module": "@jupyter-widgets/base",
            "_view_module_version": "1.2.0",
            "_view_name": "LayoutView",
            "align_content": null,
            "align_items": null,
            "align_self": null,
            "border": null,
            "bottom": null,
            "display": null,
            "flex": null,
            "flex_flow": null,
            "grid_area": null,
            "grid_auto_columns": null,
            "grid_auto_flow": null,
            "grid_auto_rows": null,
            "grid_column": null,
            "grid_gap": null,
            "grid_row": null,
            "grid_template_areas": null,
            "grid_template_columns": null,
            "grid_template_rows": null,
            "height": null,
            "justify_content": null,
            "justify_items": null,
            "left": null,
            "margin": null,
            "max_height": null,
            "max_width": null,
            "min_height": null,
            "min_width": null,
            "object_fit": null,
            "object_position": null,
            "order": null,
            "overflow": null,
            "overflow_x": null,
            "overflow_y": null,
            "padding": null,
            "right": null,
            "top": null,
            "visibility": null,
            "width": null
          }
        },
        "1cd9b88a3fc14b9d8fd2a1074e2c6f75": {
          "model_module": "@jupyter-widgets/controls",
          "model_name": "ProgressStyleModel",
          "model_module_version": "1.5.0",
          "state": {
            "_model_module": "@jupyter-widgets/controls",
            "_model_module_version": "1.5.0",
            "_model_name": "ProgressStyleModel",
            "_view_count": null,
            "_view_module": "@jupyter-widgets/base",
            "_view_module_version": "1.2.0",
            "_view_name": "StyleView",
            "bar_color": null,
            "description_width": ""
          }
        },
        "9c8c3923ce184d639f3c5c0a598491c0": {
          "model_module": "@jupyter-widgets/base",
          "model_name": "LayoutModel",
          "model_module_version": "1.2.0",
          "state": {
            "_model_module": "@jupyter-widgets/base",
            "_model_module_version": "1.2.0",
            "_model_name": "LayoutModel",
            "_view_count": null,
            "_view_module": "@jupyter-widgets/base",
            "_view_module_version": "1.2.0",
            "_view_name": "LayoutView",
            "align_content": null,
            "align_items": null,
            "align_self": null,
            "border": null,
            "bottom": null,
            "display": null,
            "flex": null,
            "flex_flow": null,
            "grid_area": null,
            "grid_auto_columns": null,
            "grid_auto_flow": null,
            "grid_auto_rows": null,
            "grid_column": null,
            "grid_gap": null,
            "grid_row": null,
            "grid_template_areas": null,
            "grid_template_columns": null,
            "grid_template_rows": null,
            "height": null,
            "justify_content": null,
            "justify_items": null,
            "left": null,
            "margin": null,
            "max_height": null,
            "max_width": null,
            "min_height": null,
            "min_width": null,
            "object_fit": null,
            "object_position": null,
            "order": null,
            "overflow": null,
            "overflow_x": null,
            "overflow_y": null,
            "padding": null,
            "right": null,
            "top": null,
            "visibility": null,
            "width": null
          }
        },
        "116c51df94a344888f91e32386a62f0c": {
          "model_module": "@jupyter-widgets/controls",
          "model_name": "DescriptionStyleModel",
          "model_module_version": "1.5.0",
          "state": {
            "_model_module": "@jupyter-widgets/controls",
            "_model_module_version": "1.5.0",
            "_model_name": "DescriptionStyleModel",
            "_view_count": null,
            "_view_module": "@jupyter-widgets/base",
            "_view_module_version": "1.2.0",
            "_view_name": "StyleView",
            "description_width": ""
          }
        },
        "7e380bbd571d4a92823b575bd1e51600": {
          "model_module": "@jupyter-widgets/controls",
          "model_name": "HBoxModel",
          "model_module_version": "1.5.0",
          "state": {
            "_dom_classes": [],
            "_model_module": "@jupyter-widgets/controls",
            "_model_module_version": "1.5.0",
            "_model_name": "HBoxModel",
            "_view_count": null,
            "_view_module": "@jupyter-widgets/controls",
            "_view_module_version": "1.5.0",
            "_view_name": "HBoxView",
            "box_style": "",
            "children": [
              "IPY_MODEL_c8066b33b0824dbf81ed4a16ea313e53",
              "IPY_MODEL_3c4bad00ce3b43d19f59e4c4224b02c7",
              "IPY_MODEL_fa3149c1a02148b8adaf61e5613006aa"
            ],
            "layout": "IPY_MODEL_7fb17930d1fb42d4bc2592c96f99e0f4"
          }
        },
        "c8066b33b0824dbf81ed4a16ea313e53": {
          "model_module": "@jupyter-widgets/controls",
          "model_name": "HTMLModel",
          "model_module_version": "1.5.0",
          "state": {
            "_dom_classes": [],
            "_model_module": "@jupyter-widgets/controls",
            "_model_module_version": "1.5.0",
            "_model_name": "HTMLModel",
            "_view_count": null,
            "_view_module": "@jupyter-widgets/controls",
            "_view_module_version": "1.5.0",
            "_view_name": "HTMLView",
            "description": "",
            "description_tooltip": null,
            "layout": "IPY_MODEL_da930634fdb745f79ce55ff9f8947b5d",
            "placeholder": "​",
            "style": "IPY_MODEL_7f8d24bf428a4395bb3565cc8d8d8553",
            "value": "(…)-00000-of-00001-4077bd623d55100a.parquet: 100%"
          }
        },
        "3c4bad00ce3b43d19f59e4c4224b02c7": {
          "model_module": "@jupyter-widgets/controls",
          "model_name": "FloatProgressModel",
          "model_module_version": "1.5.0",
          "state": {
            "_dom_classes": [],
            "_model_module": "@jupyter-widgets/controls",
            "_model_module_version": "1.5.0",
            "_model_name": "FloatProgressModel",
            "_view_count": null,
            "_view_module": "@jupyter-widgets/controls",
            "_view_module_version": "1.5.0",
            "_view_name": "ProgressView",
            "bar_style": "success",
            "description": "",
            "description_tooltip": null,
            "layout": "IPY_MODEL_d0930186cbcd4a5983433ad7e799dcd0",
            "max": 118915,
            "min": 0,
            "orientation": "horizontal",
            "style": "IPY_MODEL_2f73155eaf6547eca98b56c681bf50f6",
            "value": 118915
          }
        },
        "fa3149c1a02148b8adaf61e5613006aa": {
          "model_module": "@jupyter-widgets/controls",
          "model_name": "HTMLModel",
          "model_module_version": "1.5.0",
          "state": {
            "_dom_classes": [],
            "_model_module": "@jupyter-widgets/controls",
            "_model_module_version": "1.5.0",
            "_model_name": "HTMLModel",
            "_view_count": null,
            "_view_module": "@jupyter-widgets/controls",
            "_view_module_version": "1.5.0",
            "_view_name": "HTMLView",
            "description": "",
            "description_tooltip": null,
            "layout": "IPY_MODEL_b1f6ee3d0b82451eb3efab4c983bf878",
            "placeholder": "​",
            "style": "IPY_MODEL_3d15bc3696dc4a84bdb4030af9b16217",
            "value": " 119k/119k [00:00&lt;00:00, 938kB/s]"
          }
        },
        "7fb17930d1fb42d4bc2592c96f99e0f4": {
          "model_module": "@jupyter-widgets/base",
          "model_name": "LayoutModel",
          "model_module_version": "1.2.0",
          "state": {
            "_model_module": "@jupyter-widgets/base",
            "_model_module_version": "1.2.0",
            "_model_name": "LayoutModel",
            "_view_count": null,
            "_view_module": "@jupyter-widgets/base",
            "_view_module_version": "1.2.0",
            "_view_name": "LayoutView",
            "align_content": null,
            "align_items": null,
            "align_self": null,
            "border": null,
            "bottom": null,
            "display": null,
            "flex": null,
            "flex_flow": null,
            "grid_area": null,
            "grid_auto_columns": null,
            "grid_auto_flow": null,
            "grid_auto_rows": null,
            "grid_column": null,
            "grid_gap": null,
            "grid_row": null,
            "grid_template_areas": null,
            "grid_template_columns": null,
            "grid_template_rows": null,
            "height": null,
            "justify_content": null,
            "justify_items": null,
            "left": null,
            "margin": null,
            "max_height": null,
            "max_width": null,
            "min_height": null,
            "min_width": null,
            "object_fit": null,
            "object_position": null,
            "order": null,
            "overflow": null,
            "overflow_x": null,
            "overflow_y": null,
            "padding": null,
            "right": null,
            "top": null,
            "visibility": null,
            "width": null
          }
        },
        "da930634fdb745f79ce55ff9f8947b5d": {
          "model_module": "@jupyter-widgets/base",
          "model_name": "LayoutModel",
          "model_module_version": "1.2.0",
          "state": {
            "_model_module": "@jupyter-widgets/base",
            "_model_module_version": "1.2.0",
            "_model_name": "LayoutModel",
            "_view_count": null,
            "_view_module": "@jupyter-widgets/base",
            "_view_module_version": "1.2.0",
            "_view_name": "LayoutView",
            "align_content": null,
            "align_items": null,
            "align_self": null,
            "border": null,
            "bottom": null,
            "display": null,
            "flex": null,
            "flex_flow": null,
            "grid_area": null,
            "grid_auto_columns": null,
            "grid_auto_flow": null,
            "grid_auto_rows": null,
            "grid_column": null,
            "grid_gap": null,
            "grid_row": null,
            "grid_template_areas": null,
            "grid_template_columns": null,
            "grid_template_rows": null,
            "height": null,
            "justify_content": null,
            "justify_items": null,
            "left": null,
            "margin": null,
            "max_height": null,
            "max_width": null,
            "min_height": null,
            "min_width": null,
            "object_fit": null,
            "object_position": null,
            "order": null,
            "overflow": null,
            "overflow_x": null,
            "overflow_y": null,
            "padding": null,
            "right": null,
            "top": null,
            "visibility": null,
            "width": null
          }
        },
        "7f8d24bf428a4395bb3565cc8d8d8553": {
          "model_module": "@jupyter-widgets/controls",
          "model_name": "DescriptionStyleModel",
          "model_module_version": "1.5.0",
          "state": {
            "_model_module": "@jupyter-widgets/controls",
            "_model_module_version": "1.5.0",
            "_model_name": "DescriptionStyleModel",
            "_view_count": null,
            "_view_module": "@jupyter-widgets/base",
            "_view_module_version": "1.2.0",
            "_view_name": "StyleView",
            "description_width": ""
          }
        },
        "d0930186cbcd4a5983433ad7e799dcd0": {
          "model_module": "@jupyter-widgets/base",
          "model_name": "LayoutModel",
          "model_module_version": "1.2.0",
          "state": {
            "_model_module": "@jupyter-widgets/base",
            "_model_module_version": "1.2.0",
            "_model_name": "LayoutModel",
            "_view_count": null,
            "_view_module": "@jupyter-widgets/base",
            "_view_module_version": "1.2.0",
            "_view_name": "LayoutView",
            "align_content": null,
            "align_items": null,
            "align_self": null,
            "border": null,
            "bottom": null,
            "display": null,
            "flex": null,
            "flex_flow": null,
            "grid_area": null,
            "grid_auto_columns": null,
            "grid_auto_flow": null,
            "grid_auto_rows": null,
            "grid_column": null,
            "grid_gap": null,
            "grid_row": null,
            "grid_template_areas": null,
            "grid_template_columns": null,
            "grid_template_rows": null,
            "height": null,
            "justify_content": null,
            "justify_items": null,
            "left": null,
            "margin": null,
            "max_height": null,
            "max_width": null,
            "min_height": null,
            "min_width": null,
            "object_fit": null,
            "object_position": null,
            "order": null,
            "overflow": null,
            "overflow_x": null,
            "overflow_y": null,
            "padding": null,
            "right": null,
            "top": null,
            "visibility": null,
            "width": null
          }
        },
        "2f73155eaf6547eca98b56c681bf50f6": {
          "model_module": "@jupyter-widgets/controls",
          "model_name": "ProgressStyleModel",
          "model_module_version": "1.5.0",
          "state": {
            "_model_module": "@jupyter-widgets/controls",
            "_model_module_version": "1.5.0",
            "_model_name": "ProgressStyleModel",
            "_view_count": null,
            "_view_module": "@jupyter-widgets/base",
            "_view_module_version": "1.2.0",
            "_view_name": "StyleView",
            "bar_color": null,
            "description_width": ""
          }
        },
        "b1f6ee3d0b82451eb3efab4c983bf878": {
          "model_module": "@jupyter-widgets/base",
          "model_name": "LayoutModel",
          "model_module_version": "1.2.0",
          "state": {
            "_model_module": "@jupyter-widgets/base",
            "_model_module_version": "1.2.0",
            "_model_name": "LayoutModel",
            "_view_count": null,
            "_view_module": "@jupyter-widgets/base",
            "_view_module_version": "1.2.0",
            "_view_name": "LayoutView",
            "align_content": null,
            "align_items": null,
            "align_self": null,
            "border": null,
            "bottom": null,
            "display": null,
            "flex": null,
            "flex_flow": null,
            "grid_area": null,
            "grid_auto_columns": null,
            "grid_auto_flow": null,
            "grid_auto_rows": null,
            "grid_column": null,
            "grid_gap": null,
            "grid_row": null,
            "grid_template_areas": null,
            "grid_template_columns": null,
            "grid_template_rows": null,
            "height": null,
            "justify_content": null,
            "justify_items": null,
            "left": null,
            "margin": null,
            "max_height": null,
            "max_width": null,
            "min_height": null,
            "min_width": null,
            "object_fit": null,
            "object_position": null,
            "order": null,
            "overflow": null,
            "overflow_x": null,
            "overflow_y": null,
            "padding": null,
            "right": null,
            "top": null,
            "visibility": null,
            "width": null
          }
        },
        "3d15bc3696dc4a84bdb4030af9b16217": {
          "model_module": "@jupyter-widgets/controls",
          "model_name": "DescriptionStyleModel",
          "model_module_version": "1.5.0",
          "state": {
            "_model_module": "@jupyter-widgets/controls",
            "_model_module_version": "1.5.0",
            "_model_name": "DescriptionStyleModel",
            "_view_count": null,
            "_view_module": "@jupyter-widgets/base",
            "_view_module_version": "1.2.0",
            "_view_name": "StyleView",
            "description_width": ""
          }
        },
        "15ecc6e5b9c14d0b90157097f88a18f8": {
          "model_module": "@jupyter-widgets/controls",
          "model_name": "HBoxModel",
          "model_module_version": "1.5.0",
          "state": {
            "_dom_classes": [],
            "_model_module": "@jupyter-widgets/controls",
            "_model_module_version": "1.5.0",
            "_model_name": "HBoxModel",
            "_view_count": null,
            "_view_module": "@jupyter-widgets/controls",
            "_view_module_version": "1.5.0",
            "_view_name": "HBoxView",
            "box_style": "",
            "children": [
              "IPY_MODEL_3dcbd399ea774acfb5c3169acb9a1a39",
              "IPY_MODEL_7b24d93328ce4f65b20d0a9f24bf31c5",
              "IPY_MODEL_b82975cc18f6412e984a95d5d0ebcc54"
            ],
            "layout": "IPY_MODEL_7134849782504a97a2415a7bff1430c0"
          }
        },
        "3dcbd399ea774acfb5c3169acb9a1a39": {
          "model_module": "@jupyter-widgets/controls",
          "model_name": "HTMLModel",
          "model_module_version": "1.5.0",
          "state": {
            "_dom_classes": [],
            "_model_module": "@jupyter-widgets/controls",
            "_model_module_version": "1.5.0",
            "_model_name": "HTMLModel",
            "_view_count": null,
            "_view_module": "@jupyter-widgets/controls",
            "_view_module_version": "1.5.0",
            "_view_name": "HTMLView",
            "description": "",
            "description_tooltip": null,
            "layout": "IPY_MODEL_6a30f246f1244d5e8cec35be3c287f34",
            "placeholder": "​",
            "style": "IPY_MODEL_906fdb5e447b40928330258c6f5cc72b",
            "value": "Generating train split: 100%"
          }
        },
        "7b24d93328ce4f65b20d0a9f24bf31c5": {
          "model_module": "@jupyter-widgets/controls",
          "model_name": "FloatProgressModel",
          "model_module_version": "1.5.0",
          "state": {
            "_dom_classes": [],
            "_model_module": "@jupyter-widgets/controls",
            "_model_module_version": "1.5.0",
            "_model_name": "FloatProgressModel",
            "_view_count": null,
            "_view_module": "@jupyter-widgets/controls",
            "_view_module_version": "1.5.0",
            "_view_name": "ProgressView",
            "bar_style": "success",
            "description": "",
            "description_tooltip": null,
            "layout": "IPY_MODEL_6c0c1aebafcf432c9dcfdd201c6f287c",
            "max": 151,
            "min": 0,
            "orientation": "horizontal",
            "style": "IPY_MODEL_e1b797daed314578837a533428139da0",
            "value": 151
          }
        },
        "b82975cc18f6412e984a95d5d0ebcc54": {
          "model_module": "@jupyter-widgets/controls",
          "model_name": "HTMLModel",
          "model_module_version": "1.5.0",
          "state": {
            "_dom_classes": [],
            "_model_module": "@jupyter-widgets/controls",
            "_model_module_version": "1.5.0",
            "_model_name": "HTMLModel",
            "_view_count": null,
            "_view_module": "@jupyter-widgets/controls",
            "_view_module_version": "1.5.0",
            "_view_name": "HTMLView",
            "description": "",
            "description_tooltip": null,
            "layout": "IPY_MODEL_902bba7aa0564a81b3f381ea7970e637",
            "placeholder": "​",
            "style": "IPY_MODEL_237469a4c81843058aa2b629c6a87071",
            "value": " 151/151 [00:00&lt;00:00, 997.50 examples/s]"
          }
        },
        "7134849782504a97a2415a7bff1430c0": {
          "model_module": "@jupyter-widgets/base",
          "model_name": "LayoutModel",
          "model_module_version": "1.2.0",
          "state": {
            "_model_module": "@jupyter-widgets/base",
            "_model_module_version": "1.2.0",
            "_model_name": "LayoutModel",
            "_view_count": null,
            "_view_module": "@jupyter-widgets/base",
            "_view_module_version": "1.2.0",
            "_view_name": "LayoutView",
            "align_content": null,
            "align_items": null,
            "align_self": null,
            "border": null,
            "bottom": null,
            "display": null,
            "flex": null,
            "flex_flow": null,
            "grid_area": null,
            "grid_auto_columns": null,
            "grid_auto_flow": null,
            "grid_auto_rows": null,
            "grid_column": null,
            "grid_gap": null,
            "grid_row": null,
            "grid_template_areas": null,
            "grid_template_columns": null,
            "grid_template_rows": null,
            "height": null,
            "justify_content": null,
            "justify_items": null,
            "left": null,
            "margin": null,
            "max_height": null,
            "max_width": null,
            "min_height": null,
            "min_width": null,
            "object_fit": null,
            "object_position": null,
            "order": null,
            "overflow": null,
            "overflow_x": null,
            "overflow_y": null,
            "padding": null,
            "right": null,
            "top": null,
            "visibility": null,
            "width": null
          }
        },
        "6a30f246f1244d5e8cec35be3c287f34": {
          "model_module": "@jupyter-widgets/base",
          "model_name": "LayoutModel",
          "model_module_version": "1.2.0",
          "state": {
            "_model_module": "@jupyter-widgets/base",
            "_model_module_version": "1.2.0",
            "_model_name": "LayoutModel",
            "_view_count": null,
            "_view_module": "@jupyter-widgets/base",
            "_view_module_version": "1.2.0",
            "_view_name": "LayoutView",
            "align_content": null,
            "align_items": null,
            "align_self": null,
            "border": null,
            "bottom": null,
            "display": null,
            "flex": null,
            "flex_flow": null,
            "grid_area": null,
            "grid_auto_columns": null,
            "grid_auto_flow": null,
            "grid_auto_rows": null,
            "grid_column": null,
            "grid_gap": null,
            "grid_row": null,
            "grid_template_areas": null,
            "grid_template_columns": null,
            "grid_template_rows": null,
            "height": null,
            "justify_content": null,
            "justify_items": null,
            "left": null,
            "margin": null,
            "max_height": null,
            "max_width": null,
            "min_height": null,
            "min_width": null,
            "object_fit": null,
            "object_position": null,
            "order": null,
            "overflow": null,
            "overflow_x": null,
            "overflow_y": null,
            "padding": null,
            "right": null,
            "top": null,
            "visibility": null,
            "width": null
          }
        },
        "906fdb5e447b40928330258c6f5cc72b": {
          "model_module": "@jupyter-widgets/controls",
          "model_name": "DescriptionStyleModel",
          "model_module_version": "1.5.0",
          "state": {
            "_model_module": "@jupyter-widgets/controls",
            "_model_module_version": "1.5.0",
            "_model_name": "DescriptionStyleModel",
            "_view_count": null,
            "_view_module": "@jupyter-widgets/base",
            "_view_module_version": "1.2.0",
            "_view_name": "StyleView",
            "description_width": ""
          }
        },
        "6c0c1aebafcf432c9dcfdd201c6f287c": {
          "model_module": "@jupyter-widgets/base",
          "model_name": "LayoutModel",
          "model_module_version": "1.2.0",
          "state": {
            "_model_module": "@jupyter-widgets/base",
            "_model_module_version": "1.2.0",
            "_model_name": "LayoutModel",
            "_view_count": null,
            "_view_module": "@jupyter-widgets/base",
            "_view_module_version": "1.2.0",
            "_view_name": "LayoutView",
            "align_content": null,
            "align_items": null,
            "align_self": null,
            "border": null,
            "bottom": null,
            "display": null,
            "flex": null,
            "flex_flow": null,
            "grid_area": null,
            "grid_auto_columns": null,
            "grid_auto_flow": null,
            "grid_auto_rows": null,
            "grid_column": null,
            "grid_gap": null,
            "grid_row": null,
            "grid_template_areas": null,
            "grid_template_columns": null,
            "grid_template_rows": null,
            "height": null,
            "justify_content": null,
            "justify_items": null,
            "left": null,
            "margin": null,
            "max_height": null,
            "max_width": null,
            "min_height": null,
            "min_width": null,
            "object_fit": null,
            "object_position": null,
            "order": null,
            "overflow": null,
            "overflow_x": null,
            "overflow_y": null,
            "padding": null,
            "right": null,
            "top": null,
            "visibility": null,
            "width": null
          }
        },
        "e1b797daed314578837a533428139da0": {
          "model_module": "@jupyter-widgets/controls",
          "model_name": "ProgressStyleModel",
          "model_module_version": "1.5.0",
          "state": {
            "_model_module": "@jupyter-widgets/controls",
            "_model_module_version": "1.5.0",
            "_model_name": "ProgressStyleModel",
            "_view_count": null,
            "_view_module": "@jupyter-widgets/base",
            "_view_module_version": "1.2.0",
            "_view_name": "StyleView",
            "bar_color": null,
            "description_width": ""
          }
        },
        "902bba7aa0564a81b3f381ea7970e637": {
          "model_module": "@jupyter-widgets/base",
          "model_name": "LayoutModel",
          "model_module_version": "1.2.0",
          "state": {
            "_model_module": "@jupyter-widgets/base",
            "_model_module_version": "1.2.0",
            "_model_name": "LayoutModel",
            "_view_count": null,
            "_view_module": "@jupyter-widgets/base",
            "_view_module_version": "1.2.0",
            "_view_name": "LayoutView",
            "align_content": null,
            "align_items": null,
            "align_self": null,
            "border": null,
            "bottom": null,
            "display": null,
            "flex": null,
            "flex_flow": null,
            "grid_area": null,
            "grid_auto_columns": null,
            "grid_auto_flow": null,
            "grid_auto_rows": null,
            "grid_column": null,
            "grid_gap": null,
            "grid_row": null,
            "grid_template_areas": null,
            "grid_template_columns": null,
            "grid_template_rows": null,
            "height": null,
            "justify_content": null,
            "justify_items": null,
            "left": null,
            "margin": null,
            "max_height": null,
            "max_width": null,
            "min_height": null,
            "min_width": null,
            "object_fit": null,
            "object_position": null,
            "order": null,
            "overflow": null,
            "overflow_x": null,
            "overflow_y": null,
            "padding": null,
            "right": null,
            "top": null,
            "visibility": null,
            "width": null
          }
        },
        "237469a4c81843058aa2b629c6a87071": {
          "model_module": "@jupyter-widgets/controls",
          "model_name": "DescriptionStyleModel",
          "model_module_version": "1.5.0",
          "state": {
            "_model_module": "@jupyter-widgets/controls",
            "_model_module_version": "1.5.0",
            "_model_name": "DescriptionStyleModel",
            "_view_count": null,
            "_view_module": "@jupyter-widgets/base",
            "_view_module_version": "1.2.0",
            "_view_name": "StyleView",
            "description_width": ""
          }
        }
      }
    }
  },
  "cells": [
    {
      "cell_type": "markdown",
      "source": [
        "<img src=\"https://drive.google.com/uc?export=view&id=1wYSMgJtARFdvTt5g7E20mE4NmwUFUuog\" width=\"200\">\n",
        "\n",
        "[![Build Fast with AI](https://img.shields.io/badge/BuildFastWithAI-GenAI%20Bootcamp-blue?style=for-the-badge&logo=artificial-intelligence)](https://www.buildfastwithai.com/genai-course)\n",
        "[![EduChain GitHub](https://img.shields.io/github/stars/satvik314/educhain?style=for-the-badge&logo=github&color=gold)](https://github.com/satvik314/educhain)\n",
        "\n",
        "[![Open In Colab](https://colab.research.google.com/assets/colab-badge.svg)](https://colab.research.google.com/drive/1G3Jrl6IUlrZ6WDSqsF27PWnKX6Xl841Q#scrollTo=9Elqy-4zuoR-)\n",
        "## Master Generative AI in 6 Weeks\n",
        "**What You'll Learn:**\n",
        "- Build with Latest LLMs\n",
        "- Create Custom AI Apps\n",
        "- Learn from Industry Experts\n",
        "- Join Innovation Community\n",
        "Transform your AI ideas into reality through hands-on projects and expert mentorship.\n",
        "[Start Your Journey](https://www.buildfastwithai.com/genai-course)\n",
        "*Empowering the Next Generation of AI Innovators"
      ],
      "metadata": {
        "id": "4vr1cU2flmkK"
      }
    },
    {
      "cell_type": "markdown",
      "source": [
        "## 🛠️✨ **Haystack: Open Source NLP Framework by deepset**  \n",
        "Haystack is an end-to-end framework that enables developers to build customizable, production-ready applications powered by Large Language Models (LLMs), Transformer models, and vector search. It supports tasks such as retrieval-augmented generation (RAG), question answering, semantic search, and conversational agents.\n"
      ],
      "metadata": {
        "id": "du4hNJKOummB"
      }
    },
    {
      "cell_type": "markdown",
      "source": [
        "###**Setup and Installation**\n",
        "\n",
        "**Install Required Libraries**\n"
      ],
      "metadata": {
        "id": "9Elqy-4zuoR-"
      }
    },
    {
      "cell_type": "code",
      "execution_count": null,
      "metadata": {
        "id": "kuV1c80DVuJj"
      },
      "outputs": [],
      "source": [
        "!pip install git+https://github.com/deepset-ai/haystack.git@main#egg=haystack-ai haystack-ai datasets"
      ]
    },
    {
      "cell_type": "markdown",
      "source": [
        "###**Configure OpenAI API**"
      ],
      "metadata": {
        "id": "UTBbn_mNuvep"
      }
    },
    {
      "cell_type": "code",
      "source": [
        "import os\n",
        "from getpass import getpass\n",
        "from google.colab import userdata\n",
        "userdata.get('OPENAI_API_KEY')\n",
        "\n",
        "\n",
        "if \"OPENAI_API_KEY\" not in os.environ:\n",
        "    os.environ[\"OPENAI_API_KEY\"] = userdata.get('OPENAI_API_KEY')\n"
      ],
      "metadata": {
        "id": "WKgThM5_mDUh"
      },
      "execution_count": null,
      "outputs": []
    },
    {
      "cell_type": "markdown",
      "source": [
        "###**Conversational RAG using Memory**"
      ],
      "metadata": {
        "id": "vGPlUlAxu1Nq"
      }
    },
    {
      "cell_type": "code",
      "source": [
        "from haystack import Document\n",
        "from haystack.components.retrievers.in_memory import InMemoryBM25Retriever\n",
        "from haystack.document_stores.in_memory import InMemoryDocumentStore\n",
        "from datasets import load_dataset\n",
        "\n",
        "dataset = load_dataset(\"bilgeyucel/seven-wonders\", split=\"train\")\n",
        "docs = [Document(content=doc[\"content\"], meta=doc[\"meta\"]) for doc in dataset]\n",
        "\n",
        "document_store = InMemoryDocumentStore()\n",
        "document_store.write_documents(documents=docs)"
      ],
      "metadata": {
        "colab": {
          "base_uri": "https://localhost:8080/",
          "height": 258,
          "referenced_widgets": [
            "d6480cdbb1ad41afbd4cd3489bc02c10",
            "cdc61f70ea2840cba79d3867877aef1d",
            "e7960b6313264100aeabde78595fd8b0",
            "78216f80cc6f4f21999f24b226f58254",
            "eb72379133964758b77019d5c9811164",
            "1e2cb3fe07104dc5a363c3273d6b734f",
            "1ef290a6611d441abbd5568259a1ee53",
            "1aca646d1f324ea5b38dafe153ce0c81",
            "1cd9b88a3fc14b9d8fd2a1074e2c6f75",
            "9c8c3923ce184d639f3c5c0a598491c0",
            "116c51df94a344888f91e32386a62f0c",
            "7e380bbd571d4a92823b575bd1e51600",
            "c8066b33b0824dbf81ed4a16ea313e53",
            "3c4bad00ce3b43d19f59e4c4224b02c7",
            "fa3149c1a02148b8adaf61e5613006aa",
            "7fb17930d1fb42d4bc2592c96f99e0f4",
            "da930634fdb745f79ce55ff9f8947b5d",
            "7f8d24bf428a4395bb3565cc8d8d8553",
            "d0930186cbcd4a5983433ad7e799dcd0",
            "2f73155eaf6547eca98b56c681bf50f6",
            "b1f6ee3d0b82451eb3efab4c983bf878",
            "3d15bc3696dc4a84bdb4030af9b16217",
            "15ecc6e5b9c14d0b90157097f88a18f8",
            "3dcbd399ea774acfb5c3169acb9a1a39",
            "7b24d93328ce4f65b20d0a9f24bf31c5",
            "b82975cc18f6412e984a95d5d0ebcc54",
            "7134849782504a97a2415a7bff1430c0",
            "6a30f246f1244d5e8cec35be3c287f34",
            "906fdb5e447b40928330258c6f5cc72b",
            "6c0c1aebafcf432c9dcfdd201c6f287c",
            "e1b797daed314578837a533428139da0",
            "902bba7aa0564a81b3f381ea7970e637",
            "237469a4c81843058aa2b629c6a87071"
          ]
        },
        "id": "cp5pV85UmTG5",
        "outputId": "3db09c7c-05e7-491b-e0f1-95ad68e78190"
      },
      "execution_count": null,
      "outputs": [
        {
          "output_type": "stream",
          "name": "stderr",
          "text": [
            "/usr/local/lib/python3.10/dist-packages/huggingface_hub/utils/_auth.py:94: UserWarning: \n",
            "The secret `HF_TOKEN` does not exist in your Colab secrets.\n",
            "To authenticate with the Hugging Face Hub, create a token in your settings tab (https://huggingface.co/settings/tokens), set it as secret in your Google Colab and restart your session.\n",
            "You will be able to reuse this secret in all of your notebooks.\n",
            "Please note that authentication is recommended but still optional to access public models or datasets.\n",
            "  warnings.warn(\n"
          ]
        },
        {
          "output_type": "display_data",
          "data": {
            "text/plain": [
              "README.md:   0%|          | 0.00/46.0 [00:00<?, ?B/s]"
            ],
            "application/vnd.jupyter.widget-view+json": {
              "version_major": 2,
              "version_minor": 0,
              "model_id": "d6480cdbb1ad41afbd4cd3489bc02c10"
            }
          },
          "metadata": {}
        },
        {
          "output_type": "display_data",
          "data": {
            "text/plain": [
              "(…)-00000-of-00001-4077bd623d55100a.parquet:   0%|          | 0.00/119k [00:00<?, ?B/s]"
            ],
            "application/vnd.jupyter.widget-view+json": {
              "version_major": 2,
              "version_minor": 0,
              "model_id": "7e380bbd571d4a92823b575bd1e51600"
            }
          },
          "metadata": {}
        },
        {
          "output_type": "display_data",
          "data": {
            "text/plain": [
              "Generating train split:   0%|          | 0/151 [00:00<?, ? examples/s]"
            ],
            "application/vnd.jupyter.widget-view+json": {
              "version_major": 2,
              "version_minor": 0,
              "model_id": "15ecc6e5b9c14d0b90157097f88a18f8"
            }
          },
          "metadata": {}
        },
        {
          "output_type": "execute_result",
          "data": {
            "text/plain": [
              "151"
            ]
          },
          "metadata": {},
          "execution_count": 3
        }
      ]
    },
    {
      "cell_type": "markdown",
      "source": [
        "###**Create DocumentStore and Index Documents**\n"
      ],
      "metadata": {
        "id": "L-NV3elyvMrY"
      }
    },
    {
      "cell_type": "code",
      "source": [
        "from haystack_experimental.chat_message_stores.in_memory import InMemoryChatMessageStore\n",
        "from haystack_experimental.components.retrievers import ChatMessageRetriever\n",
        "from haystack_experimental.components.writers import ChatMessageWriter\n",
        "\n",
        "# Memory components\n",
        "memory_store = InMemoryChatMessageStore()\n",
        "memory_retriever = ChatMessageRetriever(memory_store)\n",
        "memory_writer = ChatMessageWriter(memory_store)"
      ],
      "metadata": {
        "id": "eWBOvnldoARH"
      },
      "execution_count": null,
      "outputs": []
    },
    {
      "cell_type": "markdown",
      "source": [
        "###**Prompt Template for RAG with Memory**"
      ],
      "metadata": {
        "id": "Z_VpUxVPvUwX"
      }
    },
    {
      "cell_type": "code",
      "source": [
        "from haystack.dataclasses import ChatMessage\n",
        "\n",
        "system_message = ChatMessage.from_system(\"You are a helpful AI assistant using provided supporting documents and conversation history to assist humans\")\n",
        "\n",
        "user_message_template =\"\"\"Given the conversation history and the provided supporting documents, give a brief answer to the question.\n",
        "Note that supporting documents are not part of the conversation. If question can't be answered from supporting documents, say so.\n",
        "\n",
        "    Conversation history:\n",
        "    {% for memory in memories %}\n",
        "        {{ memory.text }}\n",
        "    {% endfor %}\n",
        "\n",
        "    Supporting documents:\n",
        "    {% for doc in documents %}\n",
        "        {{ doc.content }}\n",
        "    {% endfor %}\n",
        "\n",
        "    \\nQuestion: {{query}}\n",
        "    \\nAnswer:\n",
        "\"\"\"\n",
        "user_message = ChatMessage.from_user(user_message_template)"
      ],
      "metadata": {
        "id": "Dh5Dd52UoHr-"
      },
      "execution_count": null,
      "outputs": []
    },
    {
      "cell_type": "markdown",
      "source": [
        "###**Build the Pipeline**"
      ],
      "metadata": {
        "id": "E29zaxNwvjFt"
      }
    },
    {
      "cell_type": "code",
      "source": [
        "from itertools import chain\n",
        "from typing import Any\n",
        "\n",
        "from haystack import component\n",
        "from haystack.core.component.types import Variadic\n",
        "\n",
        "\n",
        "@component\n",
        "class ListJoiner:\n",
        "    def __init__(self, _type: Any):\n",
        "        component.set_output_types(self, values=_type)\n",
        "\n",
        "    def run(self, values: Variadic[Any]):\n",
        "        result = list(chain(*values))\n",
        "        return {\"values\": result}\n"
      ],
      "metadata": {
        "id": "Aqyp8C2MoP1Y"
      },
      "execution_count": null,
      "outputs": []
    },
    {
      "cell_type": "code",
      "source": [
        "from typing import List\n",
        "from haystack import Pipeline\n",
        "from haystack.components.builders import ChatPromptBuilder, PromptBuilder\n",
        "from haystack.components.generators.chat import OpenAIChatGenerator\n",
        "from haystack.components.generators import OpenAIGenerator\n",
        "from haystack.components.converters import OutputAdapter\n",
        "\n",
        "pipeline = Pipeline()\n",
        "\n",
        "# components for RAG\n",
        "pipeline.add_component(\"retriever\", InMemoryBM25Retriever(document_store=document_store, top_k=3))\n",
        "pipeline.add_component(\"prompt_builder\", ChatPromptBuilder(variables=[\"query\", \"documents\", \"memories\"], required_variables=[\"query\", \"documents\", \"memories\"]))\n",
        "pipeline.add_component(\"llm\", OpenAIChatGenerator())\n",
        "\n",
        "# components for memory\n",
        "pipeline.add_component(\"memory_retriever\", memory_retriever)\n",
        "pipeline.add_component(\"memory_writer\", memory_writer)\n",
        "pipeline.add_component(\"memory_joiner\", ListJoiner(List[ChatMessage]))\n",
        "\n",
        "# connections for RAG\n",
        "pipeline.connect(\"retriever.documents\", \"prompt_builder.documents\")\n",
        "pipeline.connect(\"prompt_builder.prompt\", \"llm.messages\")\n",
        "pipeline.connect(\"llm.replies\", \"memory_joiner\")\n",
        "\n",
        "# connections for memory\n",
        "pipeline.connect(\"memory_joiner\", \"memory_writer\")\n",
        "pipeline.connect(\"memory_retriever\", \"prompt_builder.memories\")"
      ],
      "metadata": {
        "colab": {
          "base_uri": "https://localhost:8080/"
        },
        "id": "1i9HLl1YoT4W",
        "outputId": "415725d6-796e-48b0-c263-2006f6d005e2"
      },
      "execution_count": null,
      "outputs": [
        {
          "output_type": "execute_result",
          "data": {
            "text/plain": [
              "<haystack.core.pipeline.pipeline.Pipeline object at 0x7f28bcd9a4d0>\n",
              "🚅 Components\n",
              "  - retriever: InMemoryBM25Retriever\n",
              "  - prompt_builder: ChatPromptBuilder\n",
              "  - llm: OpenAIChatGenerator\n",
              "  - memory_retriever: ChatMessageRetriever\n",
              "  - memory_writer: ChatMessageWriter\n",
              "  - memory_joiner: ListJoiner\n",
              "🛤️ Connections\n",
              "  - retriever.documents -> prompt_builder.documents (List[Document])\n",
              "  - prompt_builder.prompt -> llm.messages (List[ChatMessage])\n",
              "  - llm.replies -> memory_joiner.values (List[ChatMessage])\n",
              "  - memory_retriever.messages -> prompt_builder.memories (List[ChatMessage])\n",
              "  - memory_joiner.values -> memory_writer.messages (List[ChatMessage])"
            ]
          },
          "metadata": {},
          "execution_count": 7
        }
      ]
    },
    {
      "cell_type": "markdown",
      "source": [
        "###**Visualize the pipeline**"
      ],
      "metadata": {
        "id": "w45ALX63vsf7"
      }
    },
    {
      "cell_type": "code",
      "source": [
        "pipeline.show()"
      ],
      "metadata": {
        "colab": {
          "base_uri": "https://localhost:8080/",
          "height": 1000
        },
        "id": "W3Z6SvkDoXq_",
        "outputId": "ab4881d3-2f54-4225-cb8a-e0d746e419a0"
      },
      "execution_count": null,
      "outputs": [
        {
          "output_type": "display_data",
          "data": {
            "image/png": "[encoded data removed]",
            "text/plain": [
              "<IPython.core.display.Image object>"
            ]
          },
          "metadata": {}
        }
      ]
    },
    {
      "cell_type": "markdown",
      "source": [
        "###**Run the Pipeline**"
      ],
      "metadata": {
        "id": "3Xf8D_6_vxzo"
      }
    },
    {
      "cell_type": "code",
      "source": [
        "while True:\n",
        "  messages = [system_message, user_message]\n",
        "  question = input(\"Enter your question or Q to exit.\\n \")\n",
        "  if question == \"Q\":\n",
        "    break\n",
        "\n",
        "  res = pipeline.run(data={\"retriever\": {\"query\": question},\n",
        "                             \"prompt_builder\": {\"template\": messages, \"query\": question},\n",
        "                             \"memory_joiner\": {\"values\": [ChatMessage.from_user(question)]}},\n",
        "                             include_outputs_from=[\"llm\"])\n",
        "  assistant_resp = res['llm']['replies'][0]\n",
        "  print(f\" {assistant_resp.text}\")  # Use text property instead of content"
      ],
      "metadata": {
        "colab": {
          "base_uri": "https://localhost:8080/"
        },
        "id": "eC1lkqoKocDl",
        "outputId": "b81c4286-59c0-4563-f035-16eac51233ff"
      },
      "execution_count": null,
      "outputs": [
        {
          "name": "stdout",
          "output_type": "stream",
          "text": [
            "Enter your question or Q to exit.\n",
            " q\n",
            " I'm sorry, but I cannot provide an answer as there is no relevant supporting document or conversation history provided.\n",
            "Enter your question or Q to exit.\n",
            " Q\n"
          ]
        }
      ]
    },
    {
      "cell_type": "markdown",
      "source": [
        "###**Chat With Your SQL Database**"
      ],
      "metadata": {
        "id": "qtJRtkXwv0fq"
      }
    },
    {
      "cell_type": "code",
      "source": [
        "from urllib.request import urlretrieve\n",
        "from zipfile import ZipFile\n",
        "import pandas as pd\n",
        "\n",
        "url = \"https://archive.ics.uci.edu/static/public/445/absenteeism+at+work.zip\"\n",
        "\n",
        "# download the file\n",
        "urlretrieve(url, \"Absenteeism_at_work_AAA.zip\")\n",
        "\n",
        "print(\"Extracting the Absenteeism at work dataset...\")\n",
        "# Extract the CSV file\n",
        "with ZipFile(\"Absenteeism_at_work_AAA.zip\", 'r') as zf:\n",
        "    zf.extractall()\n",
        "\n",
        "# Check the extracted CSV file name (in this case, it's \"Absenteeism_at_work.csv\")\n",
        "csv_file_name = \"Absenteeism_at_work.csv\"\n",
        "\n",
        "print(\"Cleaning up the Absenteeism at work dataset...\")\n",
        "# Data clean up\n",
        "df = pd.read_csv(csv_file_name, sep=\";\")\n",
        "df.columns = df.columns.str.replace(' ', '_')\n",
        "df.columns = df.columns.str.replace('/', '_')"
      ],
      "metadata": {
        "colab": {
          "base_uri": "https://localhost:8080/"
        },
        "id": "OQ5YBS1GofMZ",
        "outputId": "8b0dec5e-4a5d-483b-bef0-53835383f1b7"
      },
      "execution_count": null,
      "outputs": [
        {
          "output_type": "stream",
          "name": "stdout",
          "text": [
            "Extracting the Absenteeism at work dataset...\n",
            "Cleaning up the Absenteeism at work dataset...\n"
          ]
        }
      ]
    },
    {
      "cell_type": "code",
      "source": [
        "columns = df.columns.to_list()\n",
        "columns = ', '.join(columns)\n",
        "columns"
      ],
      "metadata": {
        "colab": {
          "base_uri": "https://localhost:8080/",
          "height": 71
        },
        "id": "3-GUOGIZrl-s",
        "outputId": "5ca3aa29-6198-4eac-f3d7-7ed8588236c5"
      },
      "execution_count": null,
      "outputs": [
        {
          "output_type": "execute_result",
          "data": {
            "text/plain": [
              "'ID, Reason_for_absence, Month_of_absence, Day_of_the_week, Seasons, Transportation_expense, Distance_from_Residence_to_Work, Service_time, Age, Work_load_Average_day_, Hit_target, Disciplinary_failure, Education, Son, Social_drinker, Social_smoker, Pet, Weight, Height, Body_mass_index, Absenteeism_time_in_hours'"
            ],
            "application/vnd.google.colaboratory.intrinsic+json": {
              "type": "string"
            }
          },
          "metadata": {},
          "execution_count": 11
        }
      ]
    },
    {
      "cell_type": "markdown",
      "source": [
        "###**Create a SQL Query Component**\n"
      ],
      "metadata": {
        "id": "EIOj6EtRwAtI"
      }
    },
    {
      "cell_type": "code",
      "source": [
        "import sqlite3\n",
        "\n",
        "connection = sqlite3.connect('absenteeism.db')\n",
        "print(\"Opened database successfully\");\n",
        "\n",
        "connection.execute('''CREATE TABLE IF NOT EXISTS absenteeism (ID integer,\n",
        "                        Reason_for_absence integer,\n",
        "                        Month_of_absence integer,\n",
        "                        Day_of_the_week integer,\n",
        "                        Seasons integer,\n",
        "                        Transportation_expense integer,\n",
        "                        Distance_from_Residence_to_Work integer,\n",
        "                        Service_time integer,\n",
        "                        Age integer,\n",
        "                        Work_load_Average_day_ integer,\n",
        "                        Hit_target integer,\n",
        "                        Disciplinary_failure integer,\n",
        "                        Education integer,\n",
        "                        Son integer,\n",
        "                        Social_drinker integer,\n",
        "                        Social_smoker integer,\n",
        "                        Pet integer,\n",
        "                        Weight integer,\n",
        "                        Height integer,\n",
        "                        Body_mass_index integer,\n",
        "                        Absenteeism_time_in_hours integer);''')\n",
        "connection.commit()"
      ],
      "metadata": {
        "colab": {
          "base_uri": "https://localhost:8080/"
        },
        "id": "NLO2Agejrqfc",
        "outputId": "d72bcd12-71e9-4377-a982-6bcbe5acff4f"
      },
      "execution_count": null,
      "outputs": [
        {
          "output_type": "stream",
          "name": "stdout",
          "text": [
            "Opened database successfully\n"
          ]
        }
      ]
    },
    {
      "cell_type": "code",
      "source": [
        "df.to_sql('absenteeism', connection, if_exists='replace', index = False)"
      ],
      "metadata": {
        "colab": {
          "base_uri": "https://localhost:8080/"
        },
        "id": "R-TKUpKuskN4",
        "outputId": "29f9a546-787f-4a06-ae91-9383a4c2ac15"
      },
      "execution_count": null,
      "outputs": [
        {
          "output_type": "execute_result",
          "data": {
            "text/plain": [
              "740"
            ]
          },
          "metadata": {},
          "execution_count": 13
        }
      ]
    },
    {
      "cell_type": "code",
      "source": [
        "connection.close()\n"
      ],
      "metadata": {
        "id": "2wi0dM_EsngM"
      },
      "execution_count": null,
      "outputs": []
    },
    {
      "cell_type": "code",
      "source": [
        "@component\n",
        "class SQLQuery:\n",
        "\n",
        "    def __init__(self, sql_database: str):\n",
        "      self.connection = sqlite3.connect(sql_database, check_same_thread=False)\n",
        "\n",
        "    @component.output_types(results=List[str], queries=List[str])\n",
        "    def run(self, queries: List[str]):\n",
        "        results = []\n",
        "        for query in queries:\n",
        "          result = pd.read_sql(query, self.connection)\n",
        "          results.append(f\"{result}\")\n",
        "        return {\"results\": results, \"queries\": queries}"
      ],
      "metadata": {
        "id": "3La6CHEnspje"
      },
      "execution_count": null,
      "outputs": []
    },
    {
      "cell_type": "markdown",
      "source": [
        "###**Try the SQLQuery Component**"
      ],
      "metadata": {
        "id": "RR9Cdf2DwHJL"
      }
    },
    {
      "cell_type": "code",
      "source": [
        "sql_query = SQLQuery('absenteeism.db')\n"
      ],
      "metadata": {
        "id": "rl5WvRxLssdO"
      },
      "execution_count": null,
      "outputs": []
    },
    {
      "cell_type": "code",
      "source": [
        "\n",
        "result = sql_query.run(queries=['SELECT Age, SUM(Absenteeism_time_in_hours) as Total_Absenteeism_Hours FROM absenteeism WHERE Disciplinary_failure = 0 GROUP BY Age ORDER BY Total_Absenteeism_Hours DESC LIMIT 3;'])\n",
        "print(result[\"results\"][0])\n"
      ],
      "metadata": {
        "colab": {
          "base_uri": "https://localhost:8080/"
        },
        "id": "7qudTuxpsur2",
        "outputId": "d0f0a326-3248-4f70-8e22-bfdd2589c8f2"
      },
      "execution_count": null,
      "outputs": [
        {
          "output_type": "stream",
          "name": "stdout",
          "text": [
            "   Age  Total_Absenteeism_Hours\n",
            "0   28                      651\n",
            "1   33                      538\n",
            "2   38                      482\n"
          ]
        }
      ]
    },
    {
      "cell_type": "markdown",
      "source": [
        "###**Query A SQL Database with Natural Language**\n"
      ],
      "metadata": {
        "id": "3JjMLvLNwXuO"
      }
    },
    {
      "cell_type": "code",
      "source": [
        "from haystack import Pipeline\n",
        "from haystack.components.builders import PromptBuilder\n",
        "from haystack.components.generators.openai import OpenAIGenerator\n",
        "\n",
        "prompt = PromptBuilder(template=\"\"\"Please generate an SQL query. The query should answer the following Question: {{question}};\n",
        "            The query is to be answered for the table is called 'absenteeism' with the following\n",
        "            Columns: {{columns}};\n",
        "            Answer:\"\"\")\n",
        "sql_query = SQLQuery('absenteeism.db')\n",
        "llm = OpenAIGenerator(model=\"gpt-4\")\n",
        "\n",
        "sql_pipeline = Pipeline()\n",
        "sql_pipeline.add_component(\"prompt\", prompt)\n",
        "sql_pipeline.add_component(\"llm\", llm)\n",
        "sql_pipeline.add_component(\"sql_querier\", sql_query)\n",
        "\n",
        "sql_pipeline.connect(\"prompt\", \"llm\")\n",
        "sql_pipeline.connect(\"llm.replies\", \"sql_querier.queries\")\n",
        "\n",
        "# If you want to draw the pipeline, uncomment below 👇\n",
        "sql_pipeline.show()\n"
      ],
      "metadata": {
        "colab": {
          "base_uri": "https://localhost:8080/",
          "height": 1000
        },
        "id": "rPh6JQiMsw57",
        "outputId": "60c685d9-2aab-4c67-f019-aa69fa2785fe"
      },
      "execution_count": null,
      "outputs": [
        {
          "output_type": "display_data",
          "data": {
            "image/png": "[encoded data removed]",
            "text/plain": [
              "<IPython.core.display.Image object>"
            ]
          },
          "metadata": {}
        }
      ]
    },
    {
      "cell_type": "code",
      "source": [
        "result = sql_pipeline.run({\"prompt\": {\"question\": \"On which days of the week does the average absenteeism time exceed 4 hours?\",\n",
        "                            \"columns\": columns}})\n",
        "\n",
        "print(result[\"sql_querier\"][\"results\"][0])"
      ],
      "metadata": {
        "colab": {
          "base_uri": "https://localhost:8080/"
        },
        "id": "1bU2qVYSs198",
        "outputId": "2b2e8f8e-1cec-4b6c-bfe9-d56190d88b4f"
      },
      "execution_count": null,
      "outputs": [
        {
          "output_type": "stream",
          "name": "stdout",
          "text": [
            "   Day_of_the_week  Average_Absenteeism\n",
            "0                2             9.248447\n",
            "1                3             7.980519\n",
            "2                4             7.147436\n",
            "3                5             4.424000\n",
            "4                6             5.125000\n"
          ]
        }
      ]
    },
    {
      "cell_type": "code",
      "source": [
        "from haystack import Pipeline\n",
        "from haystack.components.builders import PromptBuilder\n",
        "from haystack.components.generators.openai import OpenAIGenerator\n",
        "from haystack.components.routers import ConditionalRouter\n",
        "\n",
        "prompt = PromptBuilder(template=\"\"\"Please generate an SQL query. The query should answer the following Question: {{question}};\n",
        "            If the question cannot be answered given the provided table and columns, return 'no_answer'\n",
        "            The query is to be answered for the table is called 'absenteeism' with the following\n",
        "            Columns: {{columns}};\n",
        "            Answer:\"\"\")\n",
        "\n",
        "llm = OpenAIGenerator(model=\"gpt-4\")\n",
        "sql_query = SQLQuery('absenteeism.db')\n",
        "\n",
        "routes = [\n",
        "     {\n",
        "        \"condition\": \"{{'no_answer' not in replies[0]}}\",\n",
        "        \"output\": \"{{replies}}\",\n",
        "        \"output_name\": \"sql\",\n",
        "        \"output_type\": List[str],\n",
        "    },\n",
        "    {\n",
        "        \"condition\": \"{{'no_answer' in replies[0]}}\",\n",
        "        \"output\": \"{{question}}\",\n",
        "        \"output_name\": \"go_to_fallback\",\n",
        "        \"output_type\": str,\n",
        "    },\n",
        "]\n",
        "\n",
        "router = ConditionalRouter(routes)\n",
        "\n",
        "fallback_prompt = PromptBuilder(template=\"\"\"User entered a query that cannot be answerwed with the given table.\n",
        "                                            The query was: {{question}} and the table had columns: {{columns}}.\n",
        "                                            Let the user know why the question cannot be answered\"\"\")\n",
        "fallback_llm = OpenAIGenerator(model=\"gpt-4\")\n",
        "\n",
        "conditional_sql_pipeline = Pipeline()\n",
        "conditional_sql_pipeline.add_component(\"prompt\", prompt)\n",
        "conditional_sql_pipeline.add_component(\"llm\", llm)\n",
        "conditional_sql_pipeline.add_component(\"router\", router)\n",
        "conditional_sql_pipeline.add_component(\"fallback_prompt\", fallback_prompt)\n",
        "conditional_sql_pipeline.add_component(\"fallback_llm\", fallback_llm)\n",
        "conditional_sql_pipeline.add_component(\"sql_querier\", sql_query)\n",
        "\n",
        "conditional_sql_pipeline.connect(\"prompt\", \"llm\")\n",
        "conditional_sql_pipeline.connect(\"llm.replies\", \"router.replies\")\n",
        "conditional_sql_pipeline.connect(\"router.sql\", \"sql_querier.queries\")\n",
        "conditional_sql_pipeline.connect(\"router.go_to_fallback\", \"fallback_prompt.question\")\n",
        "conditional_sql_pipeline.connect(\"fallback_prompt\", \"fallback_llm\")\n",
        "\n",
        "#if you want to draw the pipeline, uncomment below 👇\n",
        "\n",
        "#conditional_sql_pipeline.show()"
      ],
      "metadata": {
        "colab": {
          "base_uri": "https://localhost:8080/"
        },
        "id": "Bamf9MMYs6JG",
        "outputId": "d556a36d-0d46-49e8-c423-269c1915bdb2"
      },
      "execution_count": null,
      "outputs": [
        {
          "output_type": "execute_result",
          "data": {
            "text/plain": [
              "<haystack.core.pipeline.pipeline.Pipeline object at 0x7d6fefd27100>\n",
              "🚅 Components\n",
              "  - prompt: PromptBuilder\n",
              "  - llm: OpenAIGenerator\n",
              "  - router: ConditionalRouter\n",
              "  - fallback_prompt: PromptBuilder\n",
              "  - fallback_llm: OpenAIGenerator\n",
              "  - sql_querier: SQLQuery\n",
              "🛤️ Connections\n",
              "  - prompt.prompt -> llm.prompt (str)\n",
              "  - llm.replies -> router.replies (List[str])\n",
              "  - router.sql -> sql_querier.queries (List[str])\n",
              "  - router.go_to_fallback -> fallback_prompt.question (str)\n",
              "  - fallback_prompt.prompt -> fallback_llm.prompt (str)"
            ]
          },
          "metadata": {},
          "execution_count": 36
        }
      ]
    },
    {
      "cell_type": "code",
      "source": [
        "\n",
        "question = \"When is my birthday?\"\n",
        "result = conditional_sql_pipeline.run({\"prompt\": {\"question\": question,\n",
        "                                                  \"columns\": columns},\n",
        "                                       \"router\": {\"question\": question},\n",
        "                                       \"fallback_prompt\": {\"columns\": columns}})\n",
        "if 'sql_querier' in result:\n",
        "  print(result['sql_querier']['results'][0])\n",
        "elif 'fallback_llm' in result:\n",
        "  print(result['fallback_llm']['replies'][0])\n"
      ],
      "metadata": {
        "colab": {
          "base_uri": "https://localhost:8080/"
        },
        "id": "7Sk97YsytDDS",
        "outputId": "6f268816-2bdb-4e69-c50c-fd0251493668"
      },
      "execution_count": null,
      "outputs": [
        {
          "output_type": "stream",
          "name": "stdout",
          "text": [
            "The question cannot be answered as your personal data, such as your birthday, is not contained or relevant in the given table. The table is only about absence from work data, and it does not include individual-specific personal data. Please provide a relevant query to get an appropriate output from this data.\n"
          ]
        }
      ]
    },
    {
      "cell_type": "markdown",
      "source": [
        "###**Function Calling to Query a SQL Database**\n"
      ],
      "metadata": {
        "id": "_n6_Xe1qwkMs"
      }
    },
    {
      "cell_type": "code",
      "source": [
        "\n",
        "sql_query = SQLQuery('absenteeism.db')\n",
        "\n",
        "def sql_query_func(queries: List[str]):\n",
        "    try:\n",
        "      result = sql_query.run(queries)\n",
        "      return {\"reply\": result[\"results\"][0]}\n",
        "\n",
        "    except Exception as e:\n",
        "      reply = f\"\"\"There was an error running the SQL Query = {queries}\n",
        "              The error is {e},\n",
        "              You should probably try again.\n",
        "              \"\"\"\n",
        "      return {\"reply\": reply}\n"
      ],
      "metadata": {
        "id": "hmTXpxhNtHJR"
      },
      "execution_count": null,
      "outputs": []
    },
    {
      "cell_type": "markdown",
      "source": [
        "###**Define Tools**"
      ],
      "metadata": {
        "id": "xTDq56Zwwp_l"
      }
    },
    {
      "cell_type": "code",
      "source": [
        "tools = [\n",
        "    {\n",
        "        \"type\": \"function\",\n",
        "        \"function\": {\n",
        "            \"name\": \"sql_query_func\",\n",
        "            \"description\": f\"This a tool useful to query a SQL table called 'absenteeism' with the following Columns: {columns}\",\n",
        "            \"parameters\": {\n",
        "                \"type\": \"object\",\n",
        "                \"properties\": {\n",
        "                    \"queries\": {\n",
        "                        \"type\": \"array\",\n",
        "                        \"description\": \"The query to use in the search. Infer this from the user's message. It should be a question or a statement\",\n",
        "                        \"items\": {\n",
        "                            \"type\": \"string\",\n",
        "                        }\n",
        "                    }\n",
        "                },\n",
        "                \"required\": [\"question\"],\n",
        "            },\n",
        "        },\n",
        "    }\n",
        "]"
      ],
      "metadata": {
        "id": "W0svIp3YtOnd"
      },
      "execution_count": null,
      "outputs": []
    },
    {
      "cell_type": "markdown",
      "source": [
        "###**Try The Tool**"
      ],
      "metadata": {
        "id": "pjQE08Lawvn0"
      }
    },
    {
      "cell_type": "code",
      "source": [
        "from haystack.dataclasses import ChatMessage\n",
        "from haystack.components.generators.chat import OpenAIChatGenerator\n",
        "from haystack.components.generators.utils import print_streaming_chunk\n",
        "\n",
        "messages = [\n",
        "    ChatMessage.from_system(\n",
        "        \"You are a helpful and knowledgeable agent who has access to an SQL database which has a table called 'absenteeism'\"\n",
        "    ),\n",
        "    ChatMessage.from_user(\"On which days of the week does the average absenteeism time exceed 4 hours??\"),\n",
        "]\n",
        "\n",
        "chat_generator = OpenAIChatGenerator(model=\"gpt-4\", streaming_callback=print_streaming_chunk)\n",
        "response = chat_generator.run(messages=messages, generation_kwargs={\"tools\": tools})\n",
        "print(response)\n"
      ],
      "metadata": {
        "colab": {
          "base_uri": "https://localhost:8080/"
        },
        "id": "7s8SQRRJtRcC",
        "outputId": "95a79905-9027-4201-943d-d7c322282b66"
      },
      "execution_count": null,
      "outputs": [
        {
          "output_type": "stream",
          "name": "stdout",
          "text": [
            "{'replies': [ChatMessage(_role=<ChatRole.ASSISTANT: 'assistant'>, _content=[TextContent(text='[{\"index\": 0, \"id\": \"call_esv4XqKQf8p5XZMfs07F64LE\", \"function\": {\"arguments\": \"{\\\\n  \\\\\"queries\\\\\": [\\\\\"SELECT Day_of_the_week, AVG(Absenteeism_time_in_hours) as Average_Absenteeism FROM absenteeism GROUP BY Day_of_the_week HAVING Average_Absenteeism > 4\\\\\"]\\\\n}\", \"name\": \"sql_query_func\"}, \"type\": \"function\"}]')], _name=None, _meta={'model': 'gpt-4-0613', 'index': 0, 'finish_reason': 'tool_calls', 'usage': {}})]}\n"
          ]
        }
      ]
    },
    {
      "cell_type": "code",
      "source": [
        "from haystack.dataclasses import ChatMessage\n",
        "from haystack.components.generators.chat import OpenAIChatGenerator\n",
        "from haystack.components.generators.utils import print_streaming_chunk\n",
        "\n",
        "messages = [\n",
        "    ChatMessage.from_system(\n",
        "        \"You are a helpful and knowledgeable agent who has access to an SQL database which has a table called 'absenteeism'\"\n",
        "    ),\n",
        "    ChatMessage.from_user(\"On which days of the week does the average absenteeism time exceed 4 hours??\"),\n",
        "]\n",
        "\n",
        "chat_generator = OpenAIChatGenerator(model=\"gpt-4\", streaming_callback=print_streaming_chunk)\n",
        "response = chat_generator.run(messages=messages, generation_kwargs={\"tools\": tools})\n",
        "print(response)\n"
      ],
      "metadata": {
        "colab": {
          "base_uri": "https://localhost:8080/"
        },
        "id": "0xnNlj-XtUgX",
        "outputId": "a1e7ac25-33a6-48e0-89bf-79cbfb50c443"
      },
      "execution_count": null,
      "outputs": [
        {
          "output_type": "stream",
          "name": "stdout",
          "text": [
            "{'replies': [ChatMessage(_role=<ChatRole.ASSISTANT: 'assistant'>, _content=[TextContent(text='[{\"index\": 0, \"id\": \"call_0mHJF8cXRVBq6lVAQpJNUZeR\", \"function\": {\"arguments\": \"{\\\\n  \\\\\"queries\\\\\": [\\\\\"SELECT Day_of_the_week, AVG(Absenteeism_time_in_hours) as Average_absenteeism FROM absenteeism GROUP BY Day_of_the_week HAVING AVG(Absenteeism_time_in_hours) > 4\\\\\"]\\\\n}\", \"name\": \"sql_query_func\"}, \"type\": \"function\"}]')], _name=None, _meta={'model': 'gpt-4-0613', 'index': 0, 'finish_reason': 'tool_calls', 'usage': {}})]}\n"
          ]
        }
      ]
    }
  ]
}