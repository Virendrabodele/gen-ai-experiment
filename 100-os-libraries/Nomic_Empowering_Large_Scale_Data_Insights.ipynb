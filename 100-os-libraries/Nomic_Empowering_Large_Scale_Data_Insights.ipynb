{
  "nbformat": 4,
  "nbformat_minor": 0,
  "metadata": {
    "colab": {
      "provenance": []
    },
    "kernelspec": {
      "name": "python3",
      "display_name": "Python 3"
    },
    "language_info": {
      "name": "python"
    }
  },
  "cells": [
    {
      "cell_type": "markdown",
      "source": [
        "<img src=\"https://drive.google.com/uc?export=view&id=1wYSMgJtARFdvTt5g7E20mE4NmwUFUuog\" width=\"200\">\n",
        "\n",
        "[![Build Fast with AI](https://img.shields.io/badge/BuildFastWithAI-GenAI%20Bootcamp-blue?style=for-the-badge&logo=artificial-intelligence)](https://www.buildfastwithai.com/genai-course)\n",
        "[![EduChain GitHub](https://img.shields.io/github/stars/satvik314/educhain?style=for-the-badge&logo=github&color=gold)](https://github.com/satvik314/educhain)\n",
        "\n",
        "[![Open In Colab](https://colab.research.google.com/assets/colab-badge.svg)](https://colab.research.google.com/drive/1I6md-4crUiK8gR4HZ73RoclUSetDgfYC?usp=sharingZ)\n",
        "## Master Generative AI in 6 Weeks\n",
        "**What You'll Learn:**\n",
        "- Build with Latest LLMs\n",
        "- Create Custom AI Apps\n",
        "- Learn from Industry Experts\n",
        "- Join Innovation Community\n",
        "Transform your AI ideas into reality through hands-on projects and expert mentorship.\n",
        "[Start Your Journey](https://www.buildfastwithai.com/genai-course)\n",
        "*Empowering the Next Generation of AI Innovators"
      ],
      "metadata": {
        "id": "5p10BHcx_kSX"
      }
    },
    {
      "cell_type": "markdown",
      "source": [
        "# 🌟 **Nomic: Empowering Large-Scale Data Insights**\n",
        "\n",
        "Nomic is an open-source platform designed to help you **analyze, structure, and interact with large-scale datasets** across various modalities, including text, images, embeddings, audio, and video. 🚀\n",
        "\n",
        "## ✨ **Key Features of Nomic Atlas**:\n",
        "- 📁 **Data Organization**: Efficiently manage and organize diverse data types, such as text, images, and embeddings.\n",
        "- 🌐 **Interactive Visualization**: Create shareable maps to explore complex data relationships with ease.\n",
        "- 🔍 **Advanced Search**: Perform semantic searches across millions of data points to uncover patterns and insights.\n",
        "- 🧹 **Data Cleaning and Tagging**: Tag, clean, and deduplicate datasets to ensure data quality.\n"
      ],
      "metadata": {
        "id": "s6ZW1rxoUElE"
      }
    },
    {
      "cell_type": "markdown",
      "source": [
        "###**Setup and Installation**"
      ],
      "metadata": {
        "id": "lIZoEpsBPaEY"
      }
    },
    {
      "cell_type": "code",
      "execution_count": null,
      "metadata": {
        "id": "N8COSlVc9CSI"
      },
      "outputs": [],
      "source": [
        "pip install nomic datasets"
      ]
    },
    {
      "cell_type": "markdown",
      "source": [
        "### **Login to Nomic**\n"
      ],
      "metadata": {
        "id": "cn5nuEnRWIdv"
      }
    },
    {
      "cell_type": "code",
      "source": [
        "!nomic login"
      ],
      "metadata": {
        "id": "3F-V8NMhJdBb"
      },
      "execution_count": null,
      "outputs": []
    },
    {
      "cell_type": "markdown",
      "source": [
        "### **Setup Secrets**"
      ],
      "metadata": {
        "id": "8oKAk0CdWmUd"
      }
    },
    {
      "cell_type": "code",
      "source": [
        "from google.colab import userdata\n",
        "\n",
        "Token=userdata.get('nomic_token')"
      ],
      "metadata": {
        "id": "-eK2IAW2LLm3"
      },
      "execution_count": null,
      "outputs": []
    },
    {
      "cell_type": "markdown",
      "source": [
        "### **Login to Nomic with Token**"
      ],
      "metadata": {
        "id": "jkliz_ZFXc23"
      }
    },
    {
      "cell_type": "code",
      "source": [
        "import nomic\n",
        "nomic.cli.login(\n",
        "    token=Token,\n",
        ")\n"
      ],
      "metadata": {
        "id": "yrn4-RR4Jka-"
      },
      "execution_count": null,
      "outputs": []
    },
    {
      "cell_type": "markdown",
      "source": [
        "### **Import Required Libraries**\n",
        "\n",
        "\n",
        "\n",
        "\n",
        "\n",
        "\n"
      ],
      "metadata": {
        "id": "P6xdVRC-XilT"
      }
    },
    {
      "cell_type": "code",
      "source": [
        "from nomic import atlas, embed\n",
        "import numpy as np\n",
        "from datasets import load_dataset"
      ],
      "metadata": {
        "id": "kXwKWc6hHVM6"
      },
      "execution_count": null,
      "outputs": []
    },
    {
      "cell_type": "markdown",
      "source": [
        "### **📚 Load AG News Dataset**\n",
        "\n",
        "\n",
        "\n",
        "\n",
        "\n",
        "\n"
      ],
      "metadata": {
        "id": "ZoScg5F1Xmrd"
      }
    },
    {
      "cell_type": "code",
      "source": [
        "dataset = load_dataset('ag_news')['train']\n"
      ],
      "metadata": {
        "id": "90xoB2q_ItCu"
      },
      "execution_count": null,
      "outputs": []
    },
    {
      "cell_type": "markdown",
      "source": [
        "### **📊 Select a Subset of the Dataset**\n",
        "\n",
        "\n",
        "\n",
        "\n",
        "\n",
        "\n"
      ],
      "metadata": {
        "id": "6qYlfPUSXqcJ"
      }
    },
    {
      "cell_type": "code",
      "source": [
        "max_documents = 10000\n",
        "subset_idxs = np.random.choice(len(dataset), size=max_documents, replace=True).tolist()\n",
        "documents = [dataset[i] for i in subset_idxs]\n"
      ],
      "metadata": {
        "id": "gJsA9AHJI2Rn"
      },
      "execution_count": null,
      "outputs": []
    },
    {
      "cell_type": "markdown",
      "source": [
        "### **🛠️ Define Functions for Token Usage and Embedding Generation**\n",
        "\n",
        "\n",
        "\n",
        "\n",
        "\n",
        "\n"
      ],
      "metadata": {
        "id": "yOkxskCfXvBz"
      }
    },
    {
      "cell_type": "code",
      "source": [
        "usages = []\n",
        "\n",
        "def print_total_tokens(usages):\n",
        "    return sum([usage['total_tokens'] for usage in usages])\n"
      ],
      "metadata": {
        "id": "OOtdrQm6I9DX"
      },
      "execution_count": null,
      "outputs": []
    },
    {
      "cell_type": "code",
      "source": [
        "def generate_embeddings(documents):\n",
        "    batch_size = 256\n",
        "    document_embeddings = []\n",
        "\n",
        "    batch = []\n",
        "    for idx, doc in enumerate(documents):\n",
        "        batch.append(doc['text'])\n",
        "        if (idx + 1) % batch_size == 0 or idx == len(documents):\n",
        "            batch_embeddings = embed.text(texts=batch, model='nomic-embed-text-v1')\n",
        "            usages.append(batch_embeddings['usage'])\n",
        "            for item in batch_embeddings['embeddings']:\n",
        "                document_embeddings.append(item)\n",
        "            print(usages[-1], print_total_tokens(usages))\n",
        "\n",
        "            batch = []\n",
        "\n",
        "    document_embeddings = np.array(document_embeddings)\n",
        "    return document_embeddings\n"
      ],
      "metadata": {
        "id": "v_NHkfXfI_4r"
      },
      "execution_count": null,
      "outputs": []
    },
    {
      "cell_type": "code",
      "source": [
        "document_embeddings = generate_embeddings(documents)\n",
        "print(document_embeddings.shape)\n"
      ],
      "metadata": {
        "id": "PdCU1gr2JDxj"
      },
      "execution_count": null,
      "outputs": []
    },
    {
      "cell_type": "markdown",
      "source": [
        "### **🗺️ Create Atlas Map for AG News Dataset (Random Subset of 100K Documents)**\n"
      ],
      "metadata": {
        "id": "6PZqX3CxX_9t"
      }
    },
    {
      "cell_type": "code",
      "source": [
        "from nomic import atlas\n",
        "import pandas\n",
        "\n",
        "news_articles = pandas.read_csv(\n",
        "    'https://raw.githubusercontent.com/nomic-ai/maps/main/data/ag_news_25k.csv'\n",
        ")\n",
        "\n",
        "atlas.map_data(\n",
        "    data=news_articles,\n",
        "    indexed_field='text',\n",
        "    identifier=\"Example-text-dataset-news\"\n",
        ")"
      ],
      "metadata": {
        "colab": {
          "base_uri": "https://localhost:8080/",
          "height": 275
        },
        "id": "17qHXW_cQgkh",
        "outputId": "9a7818e3-0992-4b74-86db-22fca9aa61e9"
      },
      "execution_count": null,
      "outputs": [
        {
          "output_type": "stream",
          "name": "stderr",
          "text": [
            "\u001b[32m2025-01-28 19:00:08.579\u001b[0m | \u001b[33m\u001b[1mWARNING \u001b[0m | \u001b[36mnomic.atlas\u001b[0m:\u001b[36mmap_data\u001b[0m:\u001b[36m133\u001b[0m - \u001b[33m\u001b[1mAn ID field was not specified in your data so one was generated for you in insertion order.\u001b[0m\n",
            "\u001b[32m2025-01-28 19:00:08.995\u001b[0m | \u001b[1mINFO    \u001b[0m | \u001b[36mnomic.dataset\u001b[0m:\u001b[36m_create_project\u001b[0m:\u001b[36m867\u001b[0m - \u001b[1mOrganization name: `mukeshofficial685`\u001b[0m\n",
            "\u001b[32m2025-01-28 19:00:09.334\u001b[0m | \u001b[1mINFO    \u001b[0m | \u001b[36mnomic.dataset\u001b[0m:\u001b[36m_create_project\u001b[0m:\u001b[36m895\u001b[0m - \u001b[1mCreating dataset `example-text-dataset-news`\u001b[0m\n",
            "\u001b[32m2025-01-28 19:00:09.433\u001b[0m | \u001b[1mINFO    \u001b[0m | \u001b[36mnomic.atlas\u001b[0m:\u001b[36mmap_data\u001b[0m:\u001b[36m145\u001b[0m - \u001b[1mUploading data to Atlas.\u001b[0m\n",
            "100%|██████████| 5/5 [00:02<00:00,  2.48it/s]\n",
            "\u001b[32m2025-01-28 19:00:11.601\u001b[0m | \u001b[1mINFO    \u001b[0m | \u001b[36mnomic.dataset\u001b[0m:\u001b[36m_add_data\u001b[0m:\u001b[36m1714\u001b[0m - \u001b[1mUpload succeeded.\u001b[0m\n",
            "\u001b[32m2025-01-28 19:00:11.603\u001b[0m | \u001b[1mINFO    \u001b[0m | \u001b[36mnomic.atlas\u001b[0m:\u001b[36mmap_data\u001b[0m:\u001b[36m163\u001b[0m - \u001b[1m`mukeshofficial685/example-text-dataset-news`: Data upload succeeded to dataset`\u001b[0m\n",
            "\u001b[32m2025-01-28 19:00:12.199\u001b[0m | \u001b[1mINFO    \u001b[0m | \u001b[36mnomic.dataset\u001b[0m:\u001b[36mcreate_index\u001b[0m:\u001b[36m1301\u001b[0m - \u001b[1mCreated map `Example-text-dataset-news` in dataset `mukeshofficial685/example-text-dataset-news`: https://atlas.nomic.ai/data/mukeshofficial685/example-text-dataset-news\u001b[0m\n"
          ]
        },
        {
          "output_type": "execute_result",
          "data": {
            "text/plain": [
              "AtlasDataset: <{'id': 'a80fd73c-3e0a-4f02-b16d-163c6a625d6d', 'owner': '87a627a5-1f70-4ccb-b87d-5e856668f0b0', 'project_name': 'example-text-dataset-news', 'creator': 'google-oauth2|101788316087780699309', 'description': '', 'is_public': True, 'is_public_to_org': True, 'project_fields': ['id', 'text', 'label', 'id_'], 'unique_id_field': 'id_', 'modality': 'text', 'total_datums_in_project': 25000, 'created_timestamp': '2025-01-28T19:00:09.066612+00:00', 'slug': 'example-text-dataset-news', 'connector_name': None, 'organization_slug': 'mukeshofficial685', 'organization_name': 'mukeshofficial685', 'creator_nickname': 'mukeshofficial685', 'creator_picture': 'https://lh3.googleusercontent.com/a/ACg8ocKDrn-g7M2xOloycwoSK65y6pC9Lp1PY2ih2ZcMAae2LTP1Uxs=s96-c', 'og_image': 'https://atlas-content-production.s3.amazonaws.com/projects/a80fd73c-3e0a-4f02-b16d-163c6a625d6d/og-map.png', 'atlas_indices': [{'id': '08c89612-4526-429d-9355-fecb2f02fe4e', 'project_id': 'a80fd73c-3e0a-4f02-b16d-163c6a625d6d', 'index_name': 'Example-text-dataset-news', 'indexed_field': 'text', 'created_timestamp': '2025-01-28T19:00:11.849709+00:00', 'updated_timestamp': '2025-01-28T19:00:11.849709+00:00', 'atoms': ['charchunk', 'document'], 'colorable_fields': ['id', 'label'], 'embedders': [{'id': 'da2ca8a4-9f11-4fed-aef9-03d161e8a933', 'atlas_index_id': '08c89612-4526-429d-9355-fecb2f02fe4e', 'ready': False, 'model_name': 'nomic-embed-text-v1.5', 'hyperparameters': {'norm': 'both', 'batch_size': 20, 'polymerize_by': 'charchunk', 'dataset_buffer_size': 1000}}], 'nearest_neighbor_indices': [{'id': '27bf178f-3965-46d9-aeba-2c8f75175f84', 'index_name': 'NomicOrganize', 'ready': False, 'hyperparameters': {'M': 16, 'space': 'l2', 'ef_construction': 100}, 'atom_strategies': ['document']}], 'projections': [{'id': '02463a67-d54e-4eeb-9331-b885ad3986ed', 'projection_name': 'NomicProject', 'ready': False, 'hyperparameters': {'M': 16, 'rho': 0.1, 'model': 'nomic-project-v2', 'spread': 1, 'n_noise': None, 'min_dist': 0.4, 'n_epochs': 50, 'n_neighbors': 15, 'n_init_epochs': 20, 'local_neighborhood_size': 64}, 'atom_strategies': ['document'], 'created_timestamp': '2025-01-28T19:00:11.849709+00:00', 'updated_timestamp': '2025-01-28T19:00:11.849709+00:00', 'thumbnail': 'https://atlas-content-production.s3.amazonaws.com/projects/a80fd73c-3e0a-4f02-b16d-163c6a625d6d/02463a67-d54e-4eeb-9331-b885ad3986ed/map.png', 'og_image': 'https://atlas-content-production.s3.amazonaws.com/projects/a80fd73c-3e0a-4f02-b16d-163c6a625d6d/02463a67-d54e-4eeb-9331-b885ad3986ed/og-map.png'}]}], 'insert_update_delete_lock': True, 'access_role': 'ADMIN', 'permissions': {'dataset:administration:read': True, 'dataset:administration:write': True, 'dataset:metadata:read': True, 'dataset:metadata:write': True, 'dataset:data:read': True, 'dataset:data:write': True, 'dataset:data:add': True, 'dataset:data:delete': True, 'dataset:resource:create': True, 'dataset:resource:delete': True, 'dataset:members:read': True, 'dataset:members:write': True, 'dataset:tags:read': True, 'dataset:tags:write': True}, 'schema': '/////2gBAAAQAAAAAAAKAA4ABgAFAAgACgAAAAABBAAQAAAAAAAKAAwAAAAEAAgACgAAAGAAAAAEAAAAAQAAAAwAAAAIAAwABAAIAAgAAAA0AAAABAAAACQAAABhODBmZDczYy0zZTBhLTRmMDItYjE2ZC0xNjNjNmE2MjVkNmQAAAAACgAAAHByb2plY3RfaWQAAAQAAACgAAAAYAAAACwAAAAEAAAAgP///wAAAQUQAAAAFAAAAAQAAAAAAAAAAwAAAGlkXwCo////pP///wAAAQIQAAAAGAAAAAQAAAAAAAAABQAAAGxhYmVsAAAAmP///wAAAAEgAAAA1P///wAAAQUQAAAAHAAAAAQAAAAAAAAABAAAAHRleHQAAAAABAAEAAQAAAAQABQACAAGAAcADAAAABAAEAAAAAAAAQIQAAAAHAAAAAQAAAAAAAAAAgAAAGlkAAAIAAwACAAHAAgAAAAAAAABIAAAAAAAAAA=', 'connector_details': None, 'maps': []}>"
            ],
            "text/html": [
              "\n",
              "            <strong><a href=\"https://atlas.nomic.ai/data/project/a80fd73c-3e0a-4f02-b16d-163c6a625d6d\">example-text-dataset-news</strong></a>\n",
              "            <br>\n",
              "             25000 datums inserted.\n",
              "            <br>\n",
              "            1 index built.\n",
              "            <br><strong>Projections</strong>\n",
              "<ul>\n",
              "<li>Example-text-dataset-news. Status Embedding. <a target=\"_blank\" href=\"https://atlas.nomic.ai/data/mukeshofficial685/example-text-dataset-news/map\">view online</a></li></ul>"
            ]
          },
          "metadata": {},
          "execution_count": 35
        }
      ]
    },
    {
      "cell_type": "markdown",
      "source": [
        "### **🗺️ Generate Atlas Map for AG News Dataset (Consistent Subset of 100K Documents)**\n"
      ],
      "metadata": {
        "id": "pfD2tg_ZajLS"
      }
    },
    {
      "cell_type": "code",
      "source": [
        "from nomic import atlas\n",
        "import numpy as np\n",
        "from datasets import load_dataset\n",
        "\n",
        "dataset = load_dataset('ag_news')['train']\n",
        "\n",
        "max_documents = 100000\n",
        "subset_idxs = np.random.choice(len(dataset), size=max_documents, replace=False).tolist()\n",
        "documents = [dataset[i] for i in subset_idxs]\n",
        "\n",
        "project = atlas.map_data(data=documents,\n",
        "                          indexed_field='text',\n",
        "                          identifier='News 100k Example',\n",
        "                          description='News 100k Example from the ag_news dataset hosted on huggingface.'\n",
        "                          )\n",
        "print(project.maps)"
      ],
      "metadata": {
        "colab": {
          "base_uri": "https://localhost:8080/"
        },
        "id": "4VKO_PXcSIkN",
        "outputId": "33f8d5e1-8289-41b7-d36e-40ea54318c74"
      },
      "execution_count": null,
      "outputs": [
        {
          "output_type": "stream",
          "name": "stderr",
          "text": [
            "\u001b[32m2025-01-28 19:02:03.632\u001b[0m | \u001b[33m\u001b[1mWARNING \u001b[0m | \u001b[36mnomic.atlas\u001b[0m:\u001b[36mmap_data\u001b[0m:\u001b[36m133\u001b[0m - \u001b[33m\u001b[1mAn ID field was not specified in your data so one was generated for you in insertion order.\u001b[0m\n",
            "\u001b[32m2025-01-28 19:02:03.984\u001b[0m | \u001b[1mINFO    \u001b[0m | \u001b[36mnomic.dataset\u001b[0m:\u001b[36m_create_project\u001b[0m:\u001b[36m867\u001b[0m - \u001b[1mOrganization name: `mukeshofficial685`\u001b[0m\n",
            "\u001b[32m2025-01-28 19:02:04.310\u001b[0m | \u001b[1mINFO    \u001b[0m | \u001b[36mnomic.dataset\u001b[0m:\u001b[36m_create_project\u001b[0m:\u001b[36m895\u001b[0m - \u001b[1mCreating dataset `news-100k-example`\u001b[0m\n",
            "\u001b[32m2025-01-28 19:02:04.405\u001b[0m | \u001b[1mINFO    \u001b[0m | \u001b[36mnomic.atlas\u001b[0m:\u001b[36mmap_data\u001b[0m:\u001b[36m145\u001b[0m - \u001b[1mUploading data to Atlas.\u001b[0m\n",
            "100%|██████████| 20/20 [00:04<00:00,  4.05it/s]\n",
            "\u001b[32m2025-01-28 19:02:09.453\u001b[0m | \u001b[1mINFO    \u001b[0m | \u001b[36mnomic.dataset\u001b[0m:\u001b[36m_add_data\u001b[0m:\u001b[36m1714\u001b[0m - \u001b[1mUpload succeeded.\u001b[0m\n",
            "\u001b[32m2025-01-28 19:02:09.461\u001b[0m | \u001b[1mINFO    \u001b[0m | \u001b[36mnomic.atlas\u001b[0m:\u001b[36mmap_data\u001b[0m:\u001b[36m163\u001b[0m - \u001b[1m`mukeshofficial685/news-100k-example`: Data upload succeeded to dataset`\u001b[0m\n",
            "\u001b[32m2025-01-28 19:02:10.199\u001b[0m | \u001b[1mINFO    \u001b[0m | \u001b[36mnomic.dataset\u001b[0m:\u001b[36mcreate_index\u001b[0m:\u001b[36m1301\u001b[0m - \u001b[1mCreated map `News 100k Example` in dataset `mukeshofficial685/news-100k-example`: https://atlas.nomic.ai/data/mukeshofficial685/news-100k-example\u001b[0m\n"
          ]
        },
        {
          "output_type": "stream",
          "name": "stdout",
          "text": [
            "[News 100k Example: https://atlas.nomic.ai/data/mukeshofficial685/news-100k-example]\n"
          ]
        }
      ]
    },
    {
      "cell_type": "markdown",
      "source": [
        "### **🧠 Topic Extraction**\n",
        "\n",
        "\n",
        "\n",
        "\n",
        "\n",
        "\n"
      ],
      "metadata": {
        "id": "-P8jobPnarR0"
      }
    },
    {
      "cell_type": "code",
      "source": [
        "import numpy as np\n",
        "from nomic import atlas\n",
        "from pprint import pprint\n",
        "from nomic import AtlasDataset\n",
        "from datasets import load_dataset\n",
        "\n",
        "dataset = load_dataset('ag_news')['train']\n",
        "\n",
        "max_documents = 10000\n",
        "subset_idxs = np.random.choice(len(dataset), size=max_documents, replace=False).tolist()\n",
        "documents = [dataset[i] for i in subset_idxs]\n",
        "\n",
        "project = atlas.map_data(data=documents,\n",
        "                         indexed_field='text',\n",
        "                         identifier='News 10k For Topic Extraction',\n",
        "                         description='News 10k For Topic Extraction')\n",
        "\n",
        "with project.wait_for_dataset_lock():\n",
        "    pprint(project.maps[0].topics.group_by_topic(topic_depth=1)[0])"
      ],
      "metadata": {
        "id": "zaSMZPHSY1MF"
      },
      "execution_count": null,
      "outputs": []
    },
    {
      "cell_type": "markdown",
      "source": [
        "### **🌍 Create Atlas Map for English-German Translations**\n",
        "\n",
        "\n",
        "\n",
        "\n",
        "\n",
        "\n"
      ],
      "metadata": {
        "id": "tCDeSZV7YdPo"
      }
    },
    {
      "cell_type": "code",
      "source": [
        "from nomic import atlas\n",
        "from datasets import load_dataset\n",
        "\n",
        "dataset = load_dataset(\"bbaaaa/iwslt14-de-en\", split=\"train\")\n",
        "\n",
        "max_documents = 50_000\n",
        "selected = dataset[:max_documents][\"translation\"]\n",
        "\n",
        "documents = []\n",
        "for doc in selected:\n",
        "    en_data = {\"text\": doc[\"en\"], \"en\": doc[\"en\"], \"de\": doc[\"de\"], \"language\": \"en\"}\n",
        "    de_data = {\"text\": doc[\"de\"], \"en\": doc[\"en\"], \"de\": doc[\"de\"], \"language\": \"de\"}\n",
        "    documents.append(en_data)\n",
        "    documents.append(de_data)\n",
        "project = atlas.map_data(data=documents,\n",
        "                          indexed_field='text',\n",
        "                          identifier='English-German 50k Translations',\n",
        "                          description='50k Examples from the iwslt14-de-en dataset hosted on huggingface.',\n",
        "                          embedding_model='gte-multilingual-base',\n",
        "                          )\n",
        "print(project.maps)"
      ],
      "metadata": {
        "id": "T5AR_kIVSpg-"
      },
      "execution_count": null,
      "outputs": []
    }
  ]
}