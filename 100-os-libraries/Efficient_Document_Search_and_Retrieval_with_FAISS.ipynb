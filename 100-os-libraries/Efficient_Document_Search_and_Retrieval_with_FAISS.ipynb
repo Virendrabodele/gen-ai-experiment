{
  "nbformat": 4,
  "nbformat_minor": 0,
  "metadata": {
    "colab": {
      "provenance": []
    },
    "kernelspec": {
      "name": "python3",
      "display_name": "Python 3"
    },
    "language_info": {
      "name": "python"
    }
  },
  "cells": [
    {
      "cell_type": "markdown",
      "source": [
        "<img src=\"https://drive.google.com/uc?export=view&id=1wYSMgJtARFdvTt5g7E20mE4NmwUFUuog\" width=\"200\">\n",
        "\n",
        "[![Build Fast with AI](https://img.shields.io/badge/BuildFastWithAI-GenAI%20Bootcamp-blue?style=for-the-badge&logo=artificial-intelligence)](https://www.buildfastwithai.com/genai-course)\n",
        "[![EduChain GitHub](https://img.shields.io/github/stars/satvik314/educhain?style=for-the-badge&logo=github&color=gold)](https://github.com/satvik314/educhain)\n",
        "\n",
        "[![Open In Colab](https://colab.research.google.com/assets/colab-badge.svg)](https://colab.research.google.com/drive/1FT4vu-qmBPZik5kuu0ENH8LDZcA6Gd3g?usp=sharing)\n",
        "## Master Generative AI in 6 Weeks\n",
        "**What You'll Learn:**\n",
        "- Build with Latest LLMs\n",
        "- Create Custom AI Apps\n",
        "- Learn from Industry Experts\n",
        "- Join Innovation Community\n",
        "Transform your AI ideas into reality through hands-on projects and expert mentorship.\n",
        "[Start Your Journey](https://www.buildfastwithai.com/genai-course)\n",
        "*Empowering the Next Generation of AI Innovators"
      ],
      "metadata": {
        "id": "vg5mJNBlj4L4"
      }
    },
    {
      "cell_type": "markdown",
      "source": [
        "\n",
        "## 🧠 FAISS: Efficient Similarity Search and Clustering Library\n",
        "\n",
        "FAISS (Facebook AI Similarity Search) is an open-source library for **efficient similarity search and clustering of dense vectors**, enabling fast retrieval and storage of large-scale vector data. 🚀\n",
        "\n",
        "🔑 **Key Features**:\n",
        "- ⚡ High-performance vector search and clustering algorithms.\n",
        "- 📊 Scalable to billions of vectors, even those too large to fit into memory.\n",
        "- 💻 Optimized for both CPU and GPU, making it ideal for large-scale applications.\n"
      ],
      "metadata": {
        "id": "h9-5PsILj4CT"
      }
    },
    {
      "cell_type": "markdown",
      "source": [
        "###**Setup and Installation**"
      ],
      "metadata": {
        "id": "pZQTHMlbj33Y"
      }
    },
    {
      "cell_type": "code",
      "execution_count": null,
      "metadata": {
        "id": "xTCfxBNPggeP"
      },
      "outputs": [],
      "source": [
        "!pip install -qU langchain-community faiss-cpu langchain_openai"
      ]
    },
    {
      "cell_type": "code",
      "source": [
        "from google.colab import userdata\n",
        "import os\n",
        "\n",
        "os.environ[\"OPENAI_API_KEY\"] = userdata.get('OPENAI_API_KEY')\n",
        "\n",
        "from langchain_openai import OpenAIEmbeddings\n",
        "\n",
        "embeddings = OpenAIEmbeddings(model=\"text-embedding-3-large\")\n"
      ],
      "metadata": {
        "id": "LSY3IY0rg2vT"
      },
      "execution_count": null,
      "outputs": []
    },
    {
      "cell_type": "markdown",
      "source": [
        "### **Create Vector Store with FAISS**\n"
      ],
      "metadata": {
        "id": "C4P0DUizlncM"
      }
    },
    {
      "cell_type": "code",
      "source": [
        "import faiss\n",
        "from langchain_community.docstore.in_memory import InMemoryDocstore\n",
        "from langchain_community.vectorstores import FAISS\n",
        "\n",
        "index = faiss.IndexFlatL2(len(embeddings.embed_query(\"hello world\")))\n",
        "\n",
        "vector_store = FAISS(\n",
        "    embedding_function=embeddings,\n",
        "    index=index,\n",
        "    docstore=InMemoryDocstore(),\n",
        "    index_to_docstore_id={},\n",
        ")"
      ],
      "metadata": {
        "id": "x5TWI9h-ivf9"
      },
      "execution_count": null,
      "outputs": []
    },
    {
      "cell_type": "markdown",
      "source": [
        "### **Add Documents to Vector Store**\n"
      ],
      "metadata": {
        "id": "efqdaEhtlQ42"
      }
    },
    {
      "cell_type": "code",
      "source": [
        "from uuid import uuid4\n",
        "\n",
        "from langchain_core.documents import Document\n",
        "\n",
        "document_1 = Document(\n",
        "    page_content=\"I had chocalate chip pancakes and scrambled eggs for breakfast this morning.\",\n",
        "    metadata={\"source\": \"tweet\"},\n",
        ")\n",
        "\n",
        "document_2 = Document(\n",
        "    page_content=\"The weather forecast for tomorrow is cloudy and overcast, with a high of 62 degrees.\",\n",
        "    metadata={\"source\": \"news\"},\n",
        ")\n",
        "\n",
        "document_3 = Document(\n",
        "    page_content=\"Building an exciting new project with LangChain - come check it out!\",\n",
        "    metadata={\"source\": \"tweet\"},\n",
        ")\n",
        "\n",
        "document_4 = Document(\n",
        "    page_content=\"Robbers broke into the city bank and stole $1 million in cash.\",\n",
        "    metadata={\"source\": \"news\"},\n",
        ")\n",
        "\n",
        "document_5 = Document(\n",
        "    page_content=\"Wow! That was an amazing movie. I can't wait to see it again.\",\n",
        "    metadata={\"source\": \"tweet\"},\n",
        ")\n",
        "\n",
        "document_6 = Document(\n",
        "    page_content=\"Is the new iPhone worth the price? Read this review to find out.\",\n",
        "    metadata={\"source\": \"website\"},\n",
        ")\n",
        "\n",
        "document_7 = Document(\n",
        "    page_content=\"The top 10 soccer players in the world right now.\",\n",
        "    metadata={\"source\": \"website\"},\n",
        ")\n",
        "\n",
        "document_8 = Document(\n",
        "    page_content=\"LangGraph is the best framework for building stateful, agentic applications!\",\n",
        "    metadata={\"source\": \"tweet\"},\n",
        ")\n",
        "\n",
        "document_9 = Document(\n",
        "    page_content=\"The stock market is down 500 points today due to fears of a recession.\",\n",
        "    metadata={\"source\": \"news\"},\n",
        ")\n",
        "\n",
        "document_10 = Document(\n",
        "    page_content=\"I have a bad feeling I am going to get deleted :(\",\n",
        "    metadata={\"source\": \"tweet\"},\n",
        ")\n",
        "\n",
        "documents = [\n",
        "    document_1,\n",
        "    document_2,\n",
        "    document_3,\n",
        "    document_4,\n",
        "    document_5,\n",
        "    document_6,\n",
        "    document_7,\n",
        "    document_8,\n",
        "    document_9,\n",
        "    document_10,\n",
        "]\n",
        "uuids = [str(uuid4()) for _ in range(len(documents))]\n",
        "\n",
        "vector_store.add_documents(documents=documents, ids=uuids)"
      ],
      "metadata": {
        "colab": {
          "base_uri": "https://localhost:8080/"
        },
        "id": "7upJCnfBjAAC",
        "outputId": "c5425e15-5e27-4473-ec1c-215f6393552a"
      },
      "execution_count": null,
      "outputs": [
        {
          "output_type": "execute_result",
          "data": {
            "text/plain": [
              "['394b6f0e-0713-49b2-99ce-678cfec60d1a',\n",
              " 'f0c32d8d-a40e-46ca-b3e6-b4eed9320df8',\n",
              " '8346a614-6190-43fc-b6bd-9f9caf22a146',\n",
              " '48ed56b8-9f15-4d8a-ae43-21e110f04848',\n",
              " 'ae1838cd-31ca-4d1e-b197-5b5bdffac3a9',\n",
              " 'babaee1c-f03b-49b1-9b4e-cfa59df0cd20',\n",
              " 'c32049f1-252b-4917-9ce0-940ac44d370e',\n",
              " '1de2c16d-f022-49b5-8f17-5cd5df420ce4',\n",
              " '4370d7b2-4b86-4a08-9d1f-5dbe94300598',\n",
              " '82ee146f-894e-4eab-b060-40902e28dca2']"
            ]
          },
          "metadata": {},
          "execution_count": 8
        }
      ]
    },
    {
      "cell_type": "markdown",
      "source": [
        "### **Delete Document from Vector Store**\n"
      ],
      "metadata": {
        "id": "IZoTCIrqlx1b"
      }
    },
    {
      "cell_type": "code",
      "source": [
        "vector_store.delete(ids=[uuids[-1]])"
      ],
      "metadata": {
        "colab": {
          "base_uri": "https://localhost:8080/"
        },
        "id": "fL0ICRZ6jD5f",
        "outputId": "a8d5d3f7-1894-4c47-ffe8-8c0bddec8dc0"
      },
      "execution_count": null,
      "outputs": [
        {
          "output_type": "execute_result",
          "data": {
            "text/plain": [
              "True"
            ]
          },
          "metadata": {},
          "execution_count": 9
        }
      ]
    },
    {
      "cell_type": "markdown",
      "source": [
        "### **Direct Query with Similarity Search**\n"
      ],
      "metadata": {
        "id": "ScLKZH7ml6CR"
      }
    },
    {
      "cell_type": "code",
      "source": [
        "results = vector_store.similarity_search(\n",
        "    \"LangChain provides abstractions to make working with LLMs easy\",\n",
        "    k=2,\n",
        "    filter={\"source\": \"tweet\"},\n",
        ")\n",
        "for res in results:\n",
        "    print(f\"* {res.page_content} [{res.metadata}]\")"
      ],
      "metadata": {
        "colab": {
          "base_uri": "https://localhost:8080/"
        },
        "id": "X6urmCq1jGix",
        "outputId": "694199ca-7b76-479f-ee1e-e69e3a7337a8"
      },
      "execution_count": null,
      "outputs": [
        {
          "output_type": "stream",
          "name": "stdout",
          "text": [
            "* Building an exciting new project with LangChain - come check it out! [{'source': 'tweet'}]\n",
            "* LangGraph is the best framework for building stateful, agentic applications! [{'source': 'tweet'}]\n"
          ]
        }
      ]
    },
    {
      "cell_type": "markdown",
      "source": [
        "### **Similarity Search with Score**\n"
      ],
      "metadata": {
        "id": "tjjjfQhnmAYb"
      }
    },
    {
      "cell_type": "code",
      "source": [
        "results = vector_store.similarity_search_with_score(\n",
        "    \"Will it be hot tomorrow?\", k=1, filter={\"source\": \"news\"}\n",
        ")\n",
        "for res, score in results:\n",
        "    print(f\"* [SIM={score:3f}] {res.page_content} [{res.metadata}]\")"
      ],
      "metadata": {
        "colab": {
          "base_uri": "https://localhost:8080/"
        },
        "id": "Dijwy99ojIe4",
        "outputId": "d39cdebd-1820-4875-f444-c4f0d0deb118"
      },
      "execution_count": null,
      "outputs": [
        {
          "output_type": "stream",
          "name": "stdout",
          "text": [
            "* [SIM=0.893661] The weather forecast for tomorrow is cloudy and overcast, with a high of 62 degrees. [{'source': 'news'}]\n"
          ]
        }
      ]
    },
    {
      "cell_type": "markdown",
      "source": [
        "###**Query by turning into retriever**"
      ],
      "metadata": {
        "id": "GxUI0sqKmFWu"
      }
    },
    {
      "cell_type": "code",
      "source": [
        "retriever = vector_store.as_retriever(search_type=\"mmr\", search_kwargs={\"k\": 1})\n",
        "retriever.invoke(\"Stealing from the bank is a crime\", filter={\"source\": \"news\"})"
      ],
      "metadata": {
        "colab": {
          "base_uri": "https://localhost:8080/"
        },
        "id": "Y3TsDR5tji2E",
        "outputId": "61dbeedd-0208-4845-bd09-88a3ea8fc02a"
      },
      "execution_count": null,
      "outputs": [
        {
          "output_type": "execute_result",
          "data": {
            "text/plain": [
              "[Document(id='48ed56b8-9f15-4d8a-ae43-21e110f04848', metadata={'source': 'news'}, page_content='Robbers broke into the city bank and stole $1 million in cash.')]"
            ]
          },
          "metadata": {},
          "execution_count": 12
        }
      ]
    },
    {
      "cell_type": "markdown",
      "source": [
        "###**Saving and loading**"
      ],
      "metadata": {
        "id": "6UM6vpzOmJur"
      }
    },
    {
      "cell_type": "code",
      "source": [
        "vector_store.save_local(\"faiss_index\")\n",
        "\n",
        "new_vector_store = FAISS.load_local(\n",
        "    \"faiss_index\", embeddings, allow_dangerous_deserialization=True\n",
        ")\n",
        "\n",
        "docs = new_vector_store.similarity_search(\"qux\")"
      ],
      "metadata": {
        "id": "mm8Fo6gkjk3y"
      },
      "execution_count": null,
      "outputs": []
    },
    {
      "cell_type": "code",
      "source": [
        "docs[0]"
      ],
      "metadata": {
        "colab": {
          "base_uri": "https://localhost:8080/"
        },
        "id": "_6i1qiWzjm3i",
        "outputId": "f6c5cc73-bf3d-4501-c32f-2a57b193fcf4"
      },
      "execution_count": null,
      "outputs": [
        {
          "output_type": "execute_result",
          "data": {
            "text/plain": [
              "Document(id='8346a614-6190-43fc-b6bd-9f9caf22a146', metadata={'source': 'tweet'}, page_content='Building an exciting new project with LangChain - come check it out!')"
            ]
          },
          "metadata": {},
          "execution_count": 14
        }
      ]
    },
    {
      "cell_type": "markdown",
      "source": [
        "###**Merging**"
      ],
      "metadata": {
        "id": "W9B0mA8QmOpT"
      }
    },
    {
      "cell_type": "code",
      "source": [
        "db1 = FAISS.from_texts([\"foo\"], embeddings)\n",
        "db2 = FAISS.from_texts([\"bar\"], embeddings)\n",
        "\n",
        "db1.docstore._dict"
      ],
      "metadata": {
        "colab": {
          "base_uri": "https://localhost:8080/"
        },
        "id": "YHtl9gDxjofZ",
        "outputId": "63af85e9-0aa9-4c98-bed5-ad1a0705cc6d"
      },
      "execution_count": null,
      "outputs": [
        {
          "output_type": "execute_result",
          "data": {
            "text/plain": [
              "{'ec568d45-3e04-4045-a187-3a3c10ca3e1a': Document(id='ec568d45-3e04-4045-a187-3a3c10ca3e1a', metadata={}, page_content='foo')}"
            ]
          },
          "metadata": {},
          "execution_count": 15
        }
      ]
    },
    {
      "cell_type": "code",
      "source": [
        "db2.docstore._dict"
      ],
      "metadata": {
        "colab": {
          "base_uri": "https://localhost:8080/"
        },
        "id": "yk_iyBsPjqC8",
        "outputId": "13eb6778-a988-4ee8-8ab1-b87d4abfce69"
      },
      "execution_count": null,
      "outputs": [
        {
          "output_type": "execute_result",
          "data": {
            "text/plain": [
              "{'c742a0fa-ad17-443f-8bd0-332eb7e25572': Document(id='c742a0fa-ad17-443f-8bd0-332eb7e25572', metadata={}, page_content='bar')}"
            ]
          },
          "metadata": {},
          "execution_count": 16
        }
      ]
    },
    {
      "cell_type": "code",
      "source": [
        "db1.merge_from(db2)"
      ],
      "metadata": {
        "id": "ogpwwkgwjrft"
      },
      "execution_count": null,
      "outputs": []
    },
    {
      "cell_type": "code",
      "source": [
        "db1.docstore._dict"
      ],
      "metadata": {
        "colab": {
          "base_uri": "https://localhost:8080/"
        },
        "id": "mo7Ir-t_jsrL",
        "outputId": "254f6961-01d2-44b4-ce77-da7d2183e1cc"
      },
      "execution_count": null,
      "outputs": [
        {
          "output_type": "execute_result",
          "data": {
            "text/plain": [
              "{'ec568d45-3e04-4045-a187-3a3c10ca3e1a': Document(id='ec568d45-3e04-4045-a187-3a3c10ca3e1a', metadata={}, page_content='foo'),\n",
              " 'c742a0fa-ad17-443f-8bd0-332eb7e25572': Document(id='c742a0fa-ad17-443f-8bd0-332eb7e25572', metadata={}, page_content='bar')}"
            ]
          },
          "metadata": {},
          "execution_count": 18
        }
      ]
    }
  ]
}