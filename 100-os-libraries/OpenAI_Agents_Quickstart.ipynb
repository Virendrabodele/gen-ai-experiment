{
  "nbformat": 4,
  "nbformat_minor": 0,
  "metadata": {
    "colab": {
      "provenance": []
    },
    "kernelspec": {
      "name": "python3",
      "display_name": "Python 3"
    },
    "language_info": {
      "name": "python"
    }
  },
  "cells": [
    {
      "cell_type": "markdown",
      "source": [
        "<img src=\"https://drive.google.com/uc?export=view&id=1wYSMgJtARFdvTt5g7E20mE4NmwUFUuog\" width=\"200\">\n",
        "\n",
        "[![Build Fast with AI](https://img.shields.io/badge/BuildFastWithAI-GenAI%20Bootcamp-blue?style=for-the-badge&logo=artificial-intelligence)](https://www.buildfastwithai.com/genai-course)\n",
        "[![EduChain GitHub](https://img.shields.io/github/stars/satvik314/educhain?style=for-the-badge&logo=github&color=gold)](https://github.com/satvik314/educhain)\n",
        "\n",
        "[![Open In Colab](https://colab.research.google.com/assets/colab-badge.svg)](https://colab.research.google.com/drive/1CkwDS6IEFRm_DXjJ9lXpTBhKOycKcLfN?usp=sharing)\n",
        "## Master Generative AI in 8 Weeks\n",
        "**What You'll Learn:**\n",
        "- Build with Latest LLMs\n",
        "- Create Custom AI Apps\n",
        "- Learn from Industry Experts\n",
        "- Join Innovation Community\n",
        "Transform your AI ideas into reality through hands-on projects and expert mentorship.\n",
        "[Start Your Journey](https://www.buildfastwithai.com/genai-course)\n",
        "*Empowering the Next Generation of AI Innovators"
      ],
      "metadata": {
        "id": "_rys0n-vomM0"
      }
    },
    {
      "cell_type": "markdown",
      "source": [
        "# 🛠️ OpenAI Agents Overview  \n",
        "\n",
        "The **OpenAI Agents Python Library** enables AI-driven automation and multi-agent collaboration for tasks like **customer support, task delegation, and knowledge retrieval**.  \n",
        "\n",
        "## 🚀 **Key Features**  \n",
        "- 🤖 **Multi-Agent System** – Create AI agents with specialized roles.  \n",
        "- 🔗 **Handoff & Delegation** – Agents transfer tasks seamlessly.  \n",
        "- 🛠️ **Tool & API Integration** – Call functions and external services.  \n",
        "- 📚 **Context Awareness** – Maintain memory across conversations.  \n",
        "- 🚦 **Triage & Decision Making** – Route requests to the right agent.  \n",
        "\n",
        "Ideal for **automated workflows, chatbots, and AI assistants**! 🚀"
      ],
      "metadata": {
        "id": "ThNeigQdon9I"
      }
    },
    {
      "cell_type": "markdown",
      "source": [
        "### **Installing  Dependencies** 📦"
      ],
      "metadata": {
        "id": "T_IerPKsooF4"
      }
    },
    {
      "cell_type": "code",
      "execution_count": null,
      "metadata": {
        "id": "Hty8FHKXoZy0"
      },
      "outputs": [],
      "source": [
        "pip install openai-agents"
      ]
    },
    {
      "cell_type": "markdown",
      "source": [
        "### 🚀 **Setup API Key**"
      ],
      "metadata": {
        "id": "o1jCYBcNwHl8"
      }
    },
    {
      "cell_type": "code",
      "source": [
        "from google.colab import userdata\n",
        "import os\n",
        "\n",
        "os.environ['OPENAI_API_KEY']=userdata.get('OPENAI_API_KEY')"
      ],
      "metadata": {
        "id": "nzTMtnlwopub"
      },
      "execution_count": null,
      "outputs": []
    },
    {
      "cell_type": "markdown",
      "source": [
        "### **🔄 Running an AI Agent with OpenAI Agents**"
      ],
      "metadata": {
        "id": "ZGaC8QJlpL0A"
      }
    },
    {
      "cell_type": "code",
      "source": [
        "from agents import Agent, Runner\n",
        "import asyncio\n",
        "\n",
        "agent = Agent(name=\"Assistant\", instructions=\"You are a helpful assistant\")\n",
        "\n",
        "result = await Runner.run(agent, \"Write a haiku about recursion in programming.\")\n",
        "print(result.final_output)"
      ],
      "metadata": {
        "colab": {
          "base_uri": "https://localhost:8080/"
        },
        "id": "sFLaVP7jpMHJ",
        "outputId": "0e6849de-cb6c-4f80-bd66-44e270a21782"
      },
      "execution_count": null,
      "outputs": [
        {
          "output_type": "stream",
          "name": "stdout",
          "text": [
            "Code calls upon code,  \n",
            "Loops echo through silent depths—  \n",
            "Endless mirrors shine.\n"
          ]
        }
      ]
    },
    {
      "cell_type": "markdown",
      "source": [
        "### **🔄 Agent Handoff Mechanism**"
      ],
      "metadata": {
        "id": "18_I-244pqD-"
      }
    },
    {
      "cell_type": "code",
      "source": [
        "from agents import Agent, Runner\n",
        "import asyncio\n",
        "import nest_asyncio\n",
        "nest_asyncio.apply()\n",
        "\n",
        "spanish_agent = Agent(\n",
        "    name=\"Spanish agent\",\n",
        "    instructions=\"You only speak Spanish.\",\n",
        ")\n",
        "\n",
        "english_agent = Agent(\n",
        "    name=\"English agent\",\n",
        "    instructions=\"You only speak English\",\n",
        ")\n",
        "\n",
        "triage_agent = Agent(\n",
        "    name=\"Triage agent\",\n",
        "    instructions=\"Handoff to the appropriate agent based on the language of the request.\",\n",
        "    handoffs=[spanish_agent, english_agent],\n",
        ")\n",
        "\n",
        "\n",
        "async def main():\n",
        "    result = await Runner.run(triage_agent, input=\"Hola, ¿cómo estás?\")\n",
        "    print(result.final_output)\n",
        "\n",
        "\n",
        "\n",
        "if __name__ == \"__main__\":\n",
        "    asyncio.run(main())"
      ],
      "metadata": {
        "colab": {
          "base_uri": "https://localhost:8080/"
        },
        "id": "7f4YXO0ipR1c",
        "outputId": "1ee3f290-9fd2-4abc-acab-76be68ea0738"
      },
      "execution_count": null,
      "outputs": [
        {
          "output_type": "stream",
          "name": "stdout",
          "text": [
            "¡Hola! Estoy bien, gracias. ¿Y tú, cómo estás?\n"
          ]
        }
      ]
    },
    {
      "cell_type": "markdown",
      "source": [
        "### **📞 Function Calling in OpenAI Agents**"
      ],
      "metadata": {
        "id": "vaU0orjdqR8X"
      }
    },
    {
      "cell_type": "code",
      "source": [
        "import asyncio\n",
        "\n",
        "from agents import Agent, Runner, function_tool\n",
        "\n",
        "\n",
        "@function_tool\n",
        "def get_weather(city: str) -> str:\n",
        "    return f\"The weather in {city} is sunny.\"\n",
        "\n",
        "\n",
        "agent = Agent(\n",
        "    name=\"Hello world\",\n",
        "    instructions=\"You are a helpful agent.\",\n",
        "    tools=[get_weather],\n",
        ")\n",
        "\n",
        "\n",
        "async def main():\n",
        "    result = await Runner.run(agent, input=\"What's the weather in Tokyo?\")\n",
        "    print(result.final_output)\n",
        "\n",
        "\n",
        "\n",
        "if __name__ == \"__main__\":\n",
        "    asyncio.run(main())"
      ],
      "metadata": {
        "colab": {
          "base_uri": "https://localhost:8080/"
        },
        "id": "uOfT1IGxqKWa",
        "outputId": "a16bb277-314c-44e3-81f8-8993a15c462f"
      },
      "execution_count": null,
      "outputs": [
        {
          "output_type": "stream",
          "name": "stdout",
          "text": [
            "The weather in Tokyo is sunny.\n"
          ]
        }
      ]
    },
    {
      "cell_type": "markdown",
      "source": [
        "### **📶 Streaming Responses in OpenAI Agents**"
      ],
      "metadata": {
        "id": "UEo07lYPqdz7"
      }
    },
    {
      "cell_type": "code",
      "source": [
        "import asyncio\n",
        "\n",
        "from openai.types.responses import ResponseTextDeltaEvent\n",
        "\n",
        "from agents import Agent, Runner\n",
        "\n",
        "\n",
        "async def main():\n",
        "    agent = Agent(\n",
        "        name=\"Joker\",\n",
        "        instructions=\"You are a helpful assistant.\",\n",
        "    )\n",
        "\n",
        "    result = Runner.run_streamed(agent, input=\"Please tell me 5 jokes.\")\n",
        "    async for event in result.stream_events():\n",
        "        if event.type == \"raw_response_event\" and isinstance(event.data, ResponseTextDeltaEvent):\n",
        "            print(event.data.delta, end=\"\", flush=True)\n",
        "\n",
        "\n",
        "if __name__ == \"__main__\":\n",
        "    asyncio.run(main())"
      ],
      "metadata": {
        "colab": {
          "base_uri": "https://localhost:8080/"
        },
        "id": "ueS6aXEvsDkU",
        "outputId": "c52c1b7b-cb3f-409a-fd04-600a54843c77"
      },
      "execution_count": null,
      "outputs": [
        {
          "output_type": "stream",
          "name": "stdout",
          "text": [
            "Sure, here are five jokes for you:\n",
            "\n",
            "1. Why don't scientists trust atoms?\n",
            "   - Because they make up everything!\n",
            "\n",
            "2. Why did the scarecrow win an award?\n",
            "   - Because he was outstanding in his field!\n",
            "\n",
            "3. Parallel lines have so much in common.\n",
            "   - It's a shame they'll never meet.\n",
            "\n",
            "4. What do you call a fake noodle?\n",
            "   - An impasta!\n",
            "\n",
            "5. How do you organize a space party?\n",
            "   - You planet!"
          ]
        }
      ]
    },
    {
      "cell_type": "markdown",
      "source": [
        "### **⚙️ Dynamic System Prompt in OpenAI Agents**"
      ],
      "metadata": {
        "id": "lOYifWo8sqrg"
      }
    },
    {
      "cell_type": "code",
      "source": [
        "import asyncio\n",
        "import random\n",
        "from typing import Literal\n",
        "\n",
        "from agents import Agent, RunContextWrapper, Runner\n",
        "\n",
        "\n",
        "class CustomContext:\n",
        "    def __init__(self, style: Literal[\"haiku\", \"pirate\", \"robot\"]):\n",
        "        self.style = style\n",
        "\n",
        "\n",
        "def custom_instructions(\n",
        "    run_context: RunContextWrapper[CustomContext], agent: Agent[CustomContext]\n",
        ") -> str:\n",
        "    context = run_context.context\n",
        "    if context.style == \"haiku\":\n",
        "        return \"Only respond in haikus.\"\n",
        "    elif context.style == \"pirate\":\n",
        "        return \"Respond as a pirate.\"\n",
        "    else:\n",
        "        return \"Respond as a robot and say 'beep boop' a lot.\"\n",
        "\n",
        "\n",
        "agent = Agent(\n",
        "    name=\"Chat agent\",\n",
        "    instructions=custom_instructions,\n",
        ")\n",
        "\n",
        "\n",
        "async def main():\n",
        "    choice: Literal[\"haiku\", \"pirate\", \"robot\"] = random.choice([\"haiku\", \"pirate\", \"robot\"])\n",
        "    context = CustomContext(style=choice)\n",
        "    print(f\"Using style: {choice}\\n\")\n",
        "\n",
        "    user_message = \"Tell me a joke.\"\n",
        "    print(f\"User: {user_message}\")\n",
        "    result = await Runner.run(agent, user_message, context=context)\n",
        "\n",
        "    print(f\"Assistant: {result.final_output}\")\n",
        "\n",
        "\n",
        "if __name__ == \"__main__\":\n",
        "    asyncio.run(main())"
      ],
      "metadata": {
        "colab": {
          "base_uri": "https://localhost:8080/"
        },
        "id": "8uEFm60RsplV",
        "outputId": "0526a0a0-e083-473d-84c2-05dcfa6b2cda"
      },
      "execution_count": null,
      "outputs": [
        {
          "output_type": "stream",
          "name": "stdout",
          "text": [
            "Using style: haiku\n",
            "\n",
            "User: Tell me a joke.\n",
            "Assistant: An ant on a hill,  \n",
            "whispers to a passing shoe,  \n",
            "\"Slow down, I just ate!\"\n"
          ]
        }
      ]
    },
    {
      "cell_type": "markdown",
      "source": [
        "### **🌍 Web Search Tool in OpenAI Agents**"
      ],
      "metadata": {
        "id": "UHGzIee5sgIT"
      }
    },
    {
      "cell_type": "code",
      "source": [
        "import asyncio\n",
        "\n",
        "from agents import Agent, Runner, WebSearchTool, trace\n",
        "\n",
        "\n",
        "async def main():\n",
        "    agent = Agent(\n",
        "        name=\"Web searcher\",\n",
        "        instructions=\"You are a helpful agent.\",\n",
        "        tools=[WebSearchTool(user_location={\"type\": \"approximate\", \"city\": \"New York\"})],\n",
        "    )\n",
        "\n",
        "    with trace(\"Web search example\"):\n",
        "        result = await Runner.run(\n",
        "            agent,\n",
        "            \"search the web for 'openai recent updates' and give me 1 interesting update in a sentence.\",\n",
        "        )\n",
        "        print(result.final_output)\n",
        "\n",
        "\n",
        "\n",
        "if __name__ == \"__main__\":\n",
        "    asyncio.run(main())"
      ],
      "metadata": {
        "colab": {
          "base_uri": "https://localhost:8080/"
        },
        "id": "bPm3LER1srE7",
        "outputId": "8604006f-261e-4dc3-dc10-d1e60794f49d"
      },
      "execution_count": null,
      "outputs": [
        {
          "output_type": "stream",
          "name": "stdout",
          "text": [
            "OpenAI has introduced GPT-4.5, its largest model to date, enhancing pattern recognition and connection drawing capabilities. ([axios.com](https://www.axios.com/2025/02/27/chatgpt-45-model-openai-reasoning?utm_source=chatgpt.com)) \n"
          ]
        }
      ]
    },
    {
      "cell_type": "markdown",
      "source": [
        "### **🔄 Import Necessary Modules**"
      ],
      "metadata": {
        "id": "jDEd_BD5w5ro"
      }
    },
    {
      "cell_type": "code",
      "source": [
        "\n",
        "from __future__ import annotations as _annotations\n",
        "import nest_asyncio\n",
        "nest_asyncio.apply()\n",
        "import asyncio\n",
        "import random\n",
        "import uuid\n",
        "\n",
        "from pydantic import BaseModel\n",
        "\n",
        "from agents import (\n",
        "    Agent,\n",
        "    HandoffOutputItem,\n",
        "    ItemHelpers,\n",
        "    MessageOutputItem,\n",
        "    RunContextWrapper,\n",
        "    Runner,\n",
        "    ToolCallItem,\n",
        "    ToolCallOutputItem,\n",
        "    TResponseInputItem,\n",
        "    function_tool,\n",
        "    handoff,\n",
        "    trace,\n",
        ")\n",
        "from agents.extensions.handoff_prompt import RECOMMENDED_PROMPT_PREFIX"
      ],
      "metadata": {
        "id": "MMtWV3Ttw9v8"
      },
      "execution_count": null,
      "outputs": []
    },
    {
      "cell_type": "markdown",
      "source": [
        "### **📌 Define Context Model**"
      ],
      "metadata": {
        "id": "N0q8iNSww4YY"
      }
    },
    {
      "cell_type": "code",
      "source": [
        "\n",
        "class AirlineAgentContext(BaseModel):\n",
        "    passenger_name: str | None = None\n",
        "    confirmation_number: str | None = None\n",
        "    seat_number: str | None = None\n",
        "    flight_number: str | None = None"
      ],
      "metadata": {
        "id": "3PERWgApxEUN"
      },
      "execution_count": null,
      "outputs": []
    },
    {
      "cell_type": "markdown",
      "source": [
        "### **🛠️ Define Tools for Agents**"
      ],
      "metadata": {
        "id": "hUVHkgWwxILY"
      }
    },
    {
      "cell_type": "code",
      "source": [
        "@function_tool(\n",
        "    name_override=\"faq_lookup_tool\", description_override=\"Lookup frequently asked questions.\"\n",
        ")\n",
        "async def faq_lookup_tool(question: str) -> str:\n",
        "    if \"bag\" in question or \"baggage\" in question:\n",
        "        return (\n",
        "            \"You are allowed to bring one bag on the plane. \"\n",
        "            \"It must be under 50 pounds and 22 inches x 14 inches x 9 inches.\"\n",
        "        )\n",
        "    elif \"seats\" in question or \"plane\" in question:\n",
        "        return (\n",
        "            \"There are 120 seats on the plane. \"\n",
        "            \"There are 22 business class seats and 98 economy seats. \"\n",
        "            \"Exit rows are rows 4 and 16. \"\n",
        "            \"Rows 5-8 are Economy Plus, with extra legroom. \"\n",
        "        )\n",
        "    elif \"wifi\" in question:\n",
        "        return \"We have free wifi on the plane, join Airline-Wifi\"\n",
        "    return \"I'm sorry, I don't know the answer to that question.\""
      ],
      "metadata": {
        "id": "dUWXMFePxOJ5"
      },
      "execution_count": null,
      "outputs": []
    },
    {
      "cell_type": "markdown",
      "source": [
        "### **📝 Tool to Update Seat Information**"
      ],
      "metadata": {
        "id": "R-F2Xv_OxRJq"
      }
    },
    {
      "cell_type": "code",
      "source": [
        "@function_tool\n",
        "async def update_seat(\n",
        "    context: RunContextWrapper[AirlineAgentContext], confirmation_number: str, new_seat: str\n",
        ") -> str:\n",
        "    \"\"\"\n",
        "    Update the seat for a given confirmation number.\n",
        "\n",
        "    Args:\n",
        "        confirmation_number: The confirmation number for the flight.\n",
        "        new_seat: The new seat to update to.\n",
        "    \"\"\"\n",
        "    context.context.confirmation_number = confirmation_number\n",
        "    context.context.seat_number = new_seat\n",
        "    assert context.context.flight_number is not None, \"Flight number is required\"\n",
        "    return f\"Updated seat to {new_seat} for confirmation number {confirmation_number}\""
      ],
      "metadata": {
        "id": "r1CqrU8ixUdO"
      },
      "execution_count": null,
      "outputs": []
    },
    {
      "cell_type": "markdown",
      "source": [
        "### **🔄 Hook for Seat Booking Handoff**"
      ],
      "metadata": {
        "id": "dmnR3Ek9xWz5"
      }
    },
    {
      "cell_type": "code",
      "source": [
        "async def on_seat_booking_handoff(context: RunContextWrapper[AirlineAgentContext]) -> None:\n",
        "    flight_number = f\"FLT-{random.randint(100, 999)}\"\n",
        "    context.context.flight_number = flight_number"
      ],
      "metadata": {
        "id": "0ImRNpd4xaaQ"
      },
      "execution_count": null,
      "outputs": []
    },
    {
      "cell_type": "markdown",
      "source": [
        "### **🤖 Define FAQ Agent**"
      ],
      "metadata": {
        "id": "9TebT11nxisi"
      }
    },
    {
      "cell_type": "code",
      "source": [
        "faq_agent = Agent[AirlineAgentContext](\n",
        "    name=\"FAQ Agent\",\n",
        "    handoff_description=\"A helpful agent that can answer questions about the airline.\",\n",
        "    instructions=f\"\"\"{RECOMMENDED_PROMPT_PREFIX}\n",
        "    You are an FAQ agent. If you are speaking to a customer, you probably were transferred to from the triage agent.\n",
        "    Use the following routine to support the customer.\n",
        "    # Routine\n",
        "    1. Identify the last question asked by the customer.\n",
        "    2. Use the faq lookup tool to answer the question. Do not rely on your own knowledge.\n",
        "    3. If you cannot answer the question, transfer back to the triage agent.\"\"\",\n",
        "    tools=[faq_lookup_tool],\n",
        ")"
      ],
      "metadata": {
        "id": "eE37sl28xlNc"
      },
      "execution_count": null,
      "outputs": []
    },
    {
      "cell_type": "markdown",
      "source": [
        "### **🪑 Define Seat Booking Agent**"
      ],
      "metadata": {
        "id": "Iq1Gx9J6yBBD"
      }
    },
    {
      "cell_type": "code",
      "source": [
        "seat_booking_agent = Agent[AirlineAgentContext](\n",
        "    name=\"Seat Booking Agent\",\n",
        "    handoff_description=\"A helpful agent that can update a seat on a flight.\",\n",
        "    instructions=f\"\"\"{RECOMMENDED_PROMPT_PREFIX}\n",
        "    You are a seat booking agent. If you are speaking to a customer, you probably were transferred to from the triage agent.\n",
        "    Use the following routine to support the customer.\n",
        "    # Routine\n",
        "    1. Ask for their confirmation number.\n",
        "    2. Ask the customer what their desired seat number is.\n",
        "    3. Use the update seat tool to update the seat on the flight.\n",
        "    If the customer asks a question that is not related to the routine, transfer back to the triage agent. \"\"\",\n",
        "    tools=[update_seat],\n",
        ")"
      ],
      "metadata": {
        "id": "W2I8zH0axoX0"
      },
      "execution_count": null,
      "outputs": []
    },
    {
      "cell_type": "markdown",
      "source": [
        "### **📊 Define Triage Agent**"
      ],
      "metadata": {
        "id": "rIcmvPQ9yEp7"
      }
    },
    {
      "cell_type": "code",
      "source": [
        "triage_agent = Agent[AirlineAgentContext](\n",
        "    name=\"Triage Agent\",\n",
        "    handoff_description=\"A triage agent that can delegate a customer's request to the appropriate agent.\",\n",
        "    instructions=(\n",
        "        f\"{RECOMMENDED_PROMPT_PREFIX} \"\n",
        "        \"You are a helpful triaging agent. You can use your tools to delegate questions to other appropriate agents.\"\n",
        "    ),\n",
        "    handoffs=[\n",
        "        faq_agent,\n",
        "        handoff(agent=seat_booking_agent, on_handoff=on_seat_booking_handoff),\n",
        "    ],\n",
        ")\n",
        "\n",
        "faq_agent.handoffs.append(triage_agent)\n",
        "seat_booking_agent.handoffs.append(triage_agent)"
      ],
      "metadata": {
        "id": "LUIpRQL-yL93"
      },
      "execution_count": null,
      "outputs": []
    },
    {
      "cell_type": "markdown",
      "source": [
        "### **🚀 Run the Customer Service Simulation**"
      ],
      "metadata": {
        "id": "geYg2g9KySqw"
      }
    },
    {
      "cell_type": "code",
      "source": [
        "async def main():\n",
        "    current_agent: Agent[AirlineAgentContext] = triage_agent\n",
        "    input_items: list[TResponseInputItem] = []\n",
        "    context = AirlineAgentContext()\n",
        "\n",
        "    conversation_id = uuid.uuid4().hex[:16]\n",
        "\n",
        "    while True:\n",
        "        user_input = input(\"Enter your message: \")\n",
        "\n",
        "        # Check if the user wants to exit\n",
        "        if user_input.lower() in [\"bye\", \"exit\", \"quit\"]:\n",
        "            print(\"Goodbye! Ending the chat.\")\n",
        "            break\n",
        "\n",
        "        with trace(\"Customer service\", group_id=conversation_id):\n",
        "            input_items.append({\"content\": user_input, \"role\": \"user\"})\n",
        "            result = await Runner.run(current_agent, input_items, context=context)\n",
        "\n",
        "            for new_item in result.new_items:\n",
        "                agent_name = new_item.agent.name\n",
        "                if isinstance(new_item, MessageOutputItem):\n",
        "                    print(f\"{agent_name}: {ItemHelpers.text_message_output(new_item)}\")\n",
        "                elif isinstance(new_item, HandoffOutputItem):\n",
        "                    print(\n",
        "                        f\"Handed off from {new_item.source_agent.name} to {new_item.target_agent.name}\"\n",
        "                    )\n",
        "                elif isinstance(new_item, ToolCallItem):\n",
        "                    print(f\"{agent_name}: Calling a tool\")\n",
        "                elif isinstance(new_item, ToolCallOutputItem):\n",
        "                    print(f\"{agent_name}: Tool call output: {new_item.output}\")\n",
        "                else:\n",
        "                    print(f\"{agent_name}: Skipping item: {new_item.__class__.__name__}\")\n",
        "\n",
        "            input_items = result.to_input_list()\n",
        "            current_agent = result.last_agent"
      ],
      "metadata": {
        "id": "AkxfzBPWyYin"
      },
      "execution_count": null,
      "outputs": []
    },
    {
      "cell_type": "markdown",
      "source": [
        "### **🏁 Start the Async Event Loop**"
      ],
      "metadata": {
        "id": "ULX3RXV7yaZ6"
      }
    },
    {
      "cell_type": "code",
      "source": [
        "if __name__ == \"__main__\":\n",
        "    asyncio.run(main())"
      ],
      "metadata": {
        "id": "MzWuZwwDydOn",
        "outputId": "a9614c93-df30-44d7-b68e-1afb61f84069",
        "colab": {
          "base_uri": "https://localhost:8080/"
        }
      },
      "execution_count": null,
      "outputs": [
        {
          "output_type": "stream",
          "name": "stdout",
          "text": [
            "Enter your message: Does the plane have WiFi?\n",
            "Triage Agent: Skipping item: HandoffCallItem\n",
            "Handed off from Triage Agent to FAQ Agent\n",
            "FAQ Agent: Calling a tool\n",
            "FAQ Agent: Tool call output: There are 120 seats on the plane. There are 22 business class seats and 98 economy seats. Exit rows are rows 4 and 16. Rows 5-8 are Economy Plus, with extra legroom. \n",
            "FAQ Agent: Skipping item: HandoffCallItem\n",
            "Handed off from FAQ Agent to Triage Agent\n",
            "Triage Agent: I can't provide that information directly, but you can check with the airline's FAQ section on their website or contact their customer service for the most accurate details about in-flight Wi-Fi.\n",
            "Enter your message: exit\n",
            "Goodbye! Ending the chat.\n"
          ]
        }
      ]
    }
  ]
}