{
  "nbformat": 4,
  "nbformat_minor": 0,
  "metadata": {
    "colab": {
      "provenance": []
    },
    "kernelspec": {
      "name": "python3",
      "display_name": "Python 3"
    },
    "language_info": {
      "name": "python"
    }
  },
  "cells": [
    {
      "cell_type": "markdown",
      "source": [
        "<img src=\"https://drive.google.com/uc?export=view&id=1wYSMgJtARFdvTt5g7E20mE4NmwUFUuog\" width=\"200\">\n",
        "\n",
        "[![Build Fast with AI](https://img.shields.io/badge/BuildFastWithAI-GenAI%20Bootcamp-blue?style=for-the-badge&logo=artificial-intelligence)](https://www.buildfastwithai.com/genai-course)\n",
        "[![EduChain GitHub](https://img.shields.io/github/stars/satvik314/educhain?style=for-the-badge&logo=github&color=gold)](https://github.com/satvik314/educhain)\n",
        "\n",
        "[![Open In Colab](https://colab.research.google.com/assets/colab-badge.svg)](https://colab.research.google.com/drive/1yYm2GSy7KVtYOFKpw486wVCRoxYYuSXk?usp=sharing)\n",
        "## Master Generative AI in 6 Weeks\n",
        "**What You'll Learn:**\n",
        "- Build with Latest LLMs\n",
        "- Create Custom AI Apps\n",
        "- Learn from Industry Experts\n",
        "- Join Innovation Community\n",
        "Transform your AI ideas into reality through hands-on projects and expert mentorship.\n",
        "[Start Your Journey](https://www.buildfastwithai.com/genai-course)\n",
        "*Empowering the Next Generation of AI Innovators"
      ],
      "metadata": {
        "id": "aDgyqecv6ggv"
      }
    },
    {
      "cell_type": "markdown",
      "source": [
        "# 🛠️✨ **E2B (Execution to Bot)**  \n",
        "E2B is a powerful Python library designed to seamlessly integrate **execution environments** with **language models**, enabling tasks like **code execution**, **data analysis**, and **automated problem-solving**. With E2B, you can:\n",
        "\n",
        "- 💻 **Run Python code** securely in a controlled environment (sandbox).\n",
        "- 🤖 **Generate Python code** from natural language instructions.\n",
        "- ⚙️ **Automate workflows** by executing complex code and processing data with the help of language models.\n",
        "- 📊 **Visualize data** and perform **advanced analytics** with ease.\n",
        "\n",
        "E2B allows developers and data scientists to combine the power of **language models** with a **robust execution environment**, improving efficiency and simplifying tasks like code generation, execution, and data analysis. 🚀\n"
      ],
      "metadata": {
        "id": "tJM3XhSa65Ux"
      }
    },
    {
      "cell_type": "markdown",
      "source": [
        "## **LangChain + Function Calling + E2B Code Interpreter Integration**\n",
        "\n",
        "\n",
        "\n",
        "\n",
        "\n"
      ],
      "metadata": {
        "id": "nNLf-TBD_0wi"
      }
    },
    {
      "cell_type": "markdown",
      "source": [
        "### **Install Required Libraries**\n"
      ],
      "metadata": {
        "id": "5a5ow3ae-1Kp"
      }
    },
    {
      "cell_type": "code",
      "execution_count": null,
      "metadata": {
        "id": "mVSszrZNmIYg"
      },
      "outputs": [],
      "source": [
        "%pip install e2b_code_interpreter==1.0.0 langchain langchainhub langchain-openai"
      ]
    },
    {
      "cell_type": "markdown",
      "source": [
        "###**Configure OpenAI API**"
      ],
      "metadata": {
        "id": "iqLcHEsF_SR-"
      }
    },
    {
      "cell_type": "code",
      "source": [
        "import os\n",
        "from google.colab import userdata\n",
        "os.environ['OPENAI_API_KEY'] = userdata.get('OPENAI_API_KEY')\n",
        "OPENAIKEY=os.getenv('OPENAI_API_KEY')\n",
        "os.environ['E2B_API_KEY'] = userdata.get('E2B_API_KEY')\n",
        "E2BKEY=os.getenv('E2B_API_KEY')"
      ],
      "metadata": {
        "id": "Q-ONiwX92lCT"
      },
      "execution_count": 2,
      "outputs": []
    },
    {
      "cell_type": "markdown",
      "source": [
        "### **Define Code Interpreter Tool Class for Langchain Integration**"
      ],
      "metadata": {
        "id": "pm_WB7nw_xTU"
      }
    },
    {
      "cell_type": "code",
      "source": [
        "import os\n",
        "import json\n",
        "\n",
        "from typing import Any, List\n",
        "from langchain_core.tools import Tool\n",
        "from pydantic.v1 import BaseModel, Field\n",
        "from e2b_code_interpreter import Sandbox\n",
        "from langchain_core.messages import BaseMessage, ToolMessage\n",
        "from langchain.agents.output_parsers.tools import (\n",
        "    ToolAgentAction,\n",
        ")\n",
        "\n",
        "\n",
        "class LangchainCodeInterpreterToolInput(BaseModel):\n",
        "    code: str = Field(description=\"Python code to execute.\")\n",
        "\n",
        "\n",
        "class CodeInterpreterFunctionTool:\n",
        "    \"\"\"\n",
        "    This class calls arbitrary code against a Python Jupyter notebook.\n",
        "    It requires an E2B_API_KEY to create a sandbox.\n",
        "    \"\"\"\n",
        "\n",
        "    tool_name: str = \"code_interpreter\"\n",
        "\n",
        "    def __init__(self):\n",
        "\n",
        "        if \"E2B_API_KEY\" not in os.environ:\n",
        "            raise Exception(\n",
        "                \"Code Interpreter tool called while E2B_API_KEY environment variable is not set.\"\n",
        "            )\n",
        "        self.code_interpreter = Sandbox()\n",
        "\n",
        "    def call(self, parameters: dict, **kwargs: Any):\n",
        "        code = parameters.get(\"code\", \"\")\n",
        "        print(f\"***Code Interpreting...\\n{code}\\n====\")\n",
        "        execution = self.code_interpreter.run_code(code)\n",
        "        return {\n",
        "            \"results\": execution.results,\n",
        "            \"stdout\": execution.logs.stdout,\n",
        "            \"stderr\": execution.logs.stderr,\n",
        "            \"error\": execution.error,\n",
        "        }\n",
        "\n",
        "    def close(self):\n",
        "        self.code_interpreter.kill()\n",
        "\n",
        "    def langchain_call(self, code: str):\n",
        "        return self.call({\"code\": code})\n",
        "\n",
        "    def to_langchain_tool(self) -> Tool:\n",
        "        tool = Tool(\n",
        "            name=self.tool_name,\n",
        "            description=\"Execute python code in a Jupyter notebook cell and returns any rich data (eg charts), stdout, stderr, and error.\",\n",
        "            func=self.langchain_call,\n",
        "        )\n",
        "        tool.args_schema = LangchainCodeInterpreterToolInput\n",
        "        return tool\n",
        "\n",
        "    @staticmethod\n",
        "    def format_to_tool_message(\n",
        "        agent_action: ToolAgentAction,\n",
        "        observation: dict,\n",
        "    ) -> List[BaseMessage]:\n",
        "        \"\"\"\n",
        "        Format the output of the CodeInterpreter tool to be returned as a ToolMessage.\n",
        "        \"\"\"\n",
        "        new_messages = list(agent_action.message_log)\n",
        "\n",
        "        content = json.dumps(\n",
        "            {k: v for k, v in observation.items() if k not in (\"results\")}, indent=2\n",
        "        )\n",
        "        new_messages.append(\n",
        "            ToolMessage(content=content, tool_call_id=agent_action.tool_call_id)\n",
        "        )\n",
        "\n",
        "        return new_messages"
      ],
      "metadata": {
        "id": "OAjKAodn4YGQ"
      },
      "execution_count": 3,
      "outputs": []
    },
    {
      "cell_type": "markdown",
      "source": [
        "###Import Required Libraries"
      ],
      "metadata": {
        "id": "FFqnO8pgaWmX"
      }
    },
    {
      "cell_type": "code",
      "source": [
        "from typing import List, Sequence, Tuple\n",
        "from langchain_core.prompts import ChatPromptTemplate\n",
        "from langchain.agents import AgentExecutor\n",
        "from langchain_openai import ChatOpenAI\n",
        "from langchain_core.messages import BaseMessage\n",
        "from langchain_core.runnables import RunnablePassthrough\n",
        "from langchain.agents.output_parsers.tools import (\n",
        "    ToolAgentAction,\n",
        "    ToolsAgentOutputParser,\n",
        ")"
      ],
      "metadata": {
        "id": "1us-05iZ4elR"
      },
      "execution_count": 4,
      "outputs": []
    },
    {
      "cell_type": "markdown",
      "source": [
        "#### **Format Intermediate Steps to Tool Messages for LangChain Integration**"
      ],
      "metadata": {
        "id": "5ISOYroBAbfT"
      }
    },
    {
      "cell_type": "code",
      "source": [
        "def format_to_tool_messages(\n",
        "    intermediate_steps: Sequence[Tuple[ToolAgentAction, dict]],\n",
        ") -> List[BaseMessage]:\n",
        "    messages = []\n",
        "    for agent_action, observation in intermediate_steps:\n",
        "        if agent_action.tool == CodeInterpreterFunctionTool.tool_name:\n",
        "            new_messages = CodeInterpreterFunctionTool.format_to_tool_message(\n",
        "                agent_action,\n",
        "                observation,\n",
        "            )\n",
        "            messages.extend([new for new in new_messages if new not in messages])\n",
        "        else:\n",
        "            # Handle other tools\n",
        "            print(\"Not handling tool: \", agent_action.tool)\n",
        "\n",
        "    return messages"
      ],
      "metadata": {
        "id": "tHDni1hn4jCX"
      },
      "execution_count": 5,
      "outputs": []
    },
    {
      "cell_type": "markdown",
      "source": [
        "### **Pick Your Favorite LLM 🤖**\n",
        "\n"
      ],
      "metadata": {
        "id": "lBg1Sox9Ao8N"
      }
    },
    {
      "cell_type": "code",
      "source": [
        "llm = ChatOpenAI(model=\"gpt-4o-mini\", temperature=0)"
      ],
      "metadata": {
        "id": "IFkaldev4l2D"
      },
      "execution_count": 16,
      "outputs": []
    },
    {
      "cell_type": "markdown",
      "source": [
        "### **Initialize the Code Interpreter Tool 🛠️**"
      ],
      "metadata": {
        "id": "wrC7YO_JAs_p"
      }
    },
    {
      "cell_type": "code",
      "source": [
        "code_interpreter = CodeInterpreterFunctionTool()\n",
        "code_interpreter_tool = code_interpreter.to_langchain_tool()\n",
        "tools = [code_interpreter_tool]"
      ],
      "metadata": {
        "id": "WcFj1JpR4olF"
      },
      "execution_count": 17,
      "outputs": []
    },
    {
      "cell_type": "markdown",
      "source": [
        "### **Define the Prompt ✍️**\n"
      ],
      "metadata": {
        "id": "iqpbWBqlA2v1"
      }
    },
    {
      "cell_type": "code",
      "source": [
        "prompt = ChatPromptTemplate.from_messages(\n",
        "    [(\"human\", \"{input}\"), (\"placeholder\", \"{agent_scratchpad}\")]\n",
        ")\n"
      ],
      "metadata": {
        "id": "liRrO2OI4qfn"
      },
      "execution_count": 18,
      "outputs": []
    },
    {
      "cell_type": "markdown",
      "source": [
        "###**Define the agent**"
      ],
      "metadata": {
        "id": "7telH9WIA7i0"
      }
    },
    {
      "cell_type": "code",
      "source": [
        "agent = (\n",
        "    RunnablePassthrough.assign(\n",
        "        agent_scratchpad=lambda x: format_to_tool_messages(x[\"intermediate_steps\"])\n",
        "    )\n",
        "    | prompt\n",
        "    | llm.bind_tools(tools)\n",
        "    | ToolsAgentOutputParser()\n",
        ")\n",
        "\n",
        "agent_executor = AgentExecutor(\n",
        "    agent=agent,\n",
        "    tools=tools,\n",
        "    verbose=True,\n",
        "    return_intermediate_steps=True,\n",
        ")"
      ],
      "metadata": {
        "id": "EG0l6AN64stk"
      },
      "execution_count": 19,
      "outputs": []
    },
    {
      "cell_type": "markdown",
      "source": [
        "### **Invoke Agent Executor and Retrieve Results 📊**\n",
        "\n"
      ],
      "metadata": {
        "id": "kBjjgNoDBWwW"
      }
    },
    {
      "cell_type": "code",
      "source": [
        "result = agent_executor.invoke({\"input\": \"plot and show sinus\"})\n",
        "\n",
        "\n",
        "result[\"intermediate_steps\"][0][1][\"results\"][0]"
      ],
      "metadata": {
        "colab": {
          "base_uri": "https://localhost:8080/",
          "height": 1000
        },
        "id": "VQsDyFdi4u_F",
        "outputId": "3378802a-de21-4abb-f776-4ff6be8a6b9f"
      },
      "execution_count": 20,
      "outputs": [
        {
          "output_type": "stream",
          "name": "stdout",
          "text": [
            "\n",
            "\n",
            "\u001b[1m> Entering new AgentExecutor chain...\u001b[0m\n",
            "\u001b[32;1m\u001b[1;3m\n",
            "Invoking: `code_interpreter` with `{'code': \"import numpy as np\\nimport matplotlib.pyplot as plt\\n\\n# Generate x values\\nx = np.linspace(0, 2 * np.pi, 100)\\n# Calculate the sine of x\\ny = np.sin(x)\\n\\n# Create the plot\\nplt.figure(figsize=(10, 5))\\nplt.plot(x, y, label='sin(x)', color='blue')\\nplt.title('Sine Function')\\nplt.xlabel('x (radians)')\\nplt.ylabel('sin(x)')\\nplt.axhline(0, color='black',linewidth=0.5, ls='--')\\nplt.axvline(0, color='black',linewidth=0.5, ls='--')\\nplt.grid(color = 'gray', linestyle = '--', linewidth = 0.5)\\nplt.legend()\\nplt.show()\"}`\n",
            "\n",
            "\n",
            "\u001b[0m***Code Interpreting...\n",
            "import numpy as np\n",
            "import matplotlib.pyplot as plt\n",
            "\n",
            "# Generate x values\n",
            "x = np.linspace(0, 2 * np.pi, 100)\n",
            "# Calculate the sine of x\n",
            "y = np.sin(x)\n",
            "\n",
            "# Create the plot\n",
            "plt.figure(figsize=(10, 5))\n",
            "plt.plot(x, y, label='sin(x)', color='blue')\n",
            "plt.title('Sine Function')\n",
            "plt.xlabel('x (radians)')\n",
            "plt.ylabel('sin(x)')\n",
            "plt.axhline(0, color='black',linewidth=0.5, ls='--')\n",
            "plt.axvline(0, color='black',linewidth=0.5, ls='--')\n",
            "plt.grid(color = 'gray', linestyle = '--', linewidth = 0.5)\n",
            "plt.legend()\n",
            "plt.show()\n",
            "====\n",
            "\u001b[36;1m\u001b[1;3m{'results': [Result(<Figure size 1000x500 with 1 Axes>)], 'stdout': [], 'stderr': [], 'error': None}\u001b[0m\u001b[32;1m\u001b[1;3mThe sine function plot has been generated successfully. However, I cannot display the plot directly here. You can run the provided code in your local Python environment to visualize the sine function. \n",
            "\n",
            "Here's the code again for your convenience:\n",
            "\n",
            "```python\n",
            "import numpy as np\n",
            "import matplotlib.pyplot as plt\n",
            "\n",
            "# Generate x values\n",
            "x = np.linspace(0, 2 * np.pi, 100)\n",
            "# Calculate the sine of x\n",
            "y = np.sin(x)\n",
            "\n",
            "# Create the plot\n",
            "plt.figure(figsize=(10, 5))\n",
            "plt.plot(x, y, label='sin(x)', color='blue')\n",
            "plt.title('Sine Function')\n",
            "plt.xlabel('x (radians)')\n",
            "plt.ylabel('sin(x)')\n",
            "plt.axhline(0, color='black',linewidth=0.5, ls='--')\n",
            "plt.axvline(0, color='black',linewidth=0.5, ls='--')\n",
            "plt.grid(color = 'gray', linestyle = '--', linewidth = 0.5)\n",
            "plt.legend()\n",
            "plt.show()\n",
            "```\n",
            "\n",
            "This will create a plot of the sine function from 0 to \\(2\\pi\\).\u001b[0m\n",
            "\n",
            "\u001b[1m> Finished chain.\u001b[0m\n"
          ]
        },
        {
          "output_type": "execute_result",
          "data": {
            "text/plain": [
              "Result(<Figure size 1000x500 with 1 Axes>)"
            ],
            "image/png": "[encoded data removed]"
          },
          "metadata": {},
          "execution_count": 20
        }
      ]
    },
    {
      "cell_type": "markdown",
      "source": [
        "## **Code Interpreting with GPT-4o 🤖💻**\n",
        "\n",
        "\n",
        "\n",
        "\n",
        "\n"
      ],
      "metadata": {
        "id": "D0NthZ0oBf7z"
      }
    },
    {
      "cell_type": "code",
      "source": [
        "import os\n",
        "\n",
        "SYSTEM_PROMPT = \"\"\"\n",
        "## your job & context\n",
        "you are a python data scientist. you are given tasks to complete and you run python code to solve them.\n",
        "You DO NOT MAKE SYNTAX MISTAKES OR FORGET ANY IMPORTS\n",
        "- the python code runs in jupyter notebook.\n",
        "- every time you call `execute_python` tool, the python code is executed in a separate cell. it's okay to multiple calls to `execute_python`.\n",
        "- display visualizations using matplotlib or any other visualization library directly in the notebook. don't worry about saving the visualizations to a file.\n",
        "- you have access to the internet and can make api requests.\n",
        "- you also have access to the filesystem and can read/write files.\n",
        "- you can install any pip package (if it exists) if you need to but the usual packages for data analysis are already preinstalled.\n",
        "- you can run any python code you want, everything is running in a secure sandbox environment.\n",
        "\"\"\"\n",
        "\n",
        "tools = [\n",
        "    {\n",
        "        \"type\": \"function\",\n",
        "        \"function\": {\n",
        "          \"name\": \"execute_python\",\n",
        "          \"description\": \"Execute python code in a Jupyter notebook cell and returns any result, stdout, stderr, display_data, and error.\",\n",
        "          \"parameters\": {\n",
        "              \"type\": \"object\",\n",
        "              \"properties\": {\n",
        "                  \"code\": {\n",
        "                      \"type\": \"string\",\n",
        "                      \"description\": \"The python code to execute in a single cell.\"\n",
        "                  }\n",
        "              },\n",
        "              \"required\": [\"code\"]\n",
        "          }\n",
        "        },\n",
        "    }\n",
        "]"
      ],
      "metadata": {
        "id": "A0hVLLyt43Ee"
      },
      "execution_count": 12,
      "outputs": []
    },
    {
      "cell_type": "markdown",
      "source": [
        "### **Code Interpretation Function with E2B Code Interpreter 🔍**\n",
        "\n",
        "\n",
        "\n",
        "\n",
        "\n"
      ],
      "metadata": {
        "id": "tXzPQ3i8BlmI"
      }
    },
    {
      "cell_type": "code",
      "source": [
        "def code_interpret(e2b_code_interpreter, code):\n",
        "  print(\"Running code interpreter...\")\n",
        "  exec = e2b_code_interpreter.run_code(code,\n",
        "  on_stderr=lambda stderr: print(\"[Code Interpreter]\", stderr),\n",
        "  on_stdout=lambda stdout: print(\"[Code Interpreter]\", stdout))\n",
        "\n",
        "  if exec.error:\n",
        "    print(\"[Code Interpreter ERROR]\", exec.error)\n",
        "  else:\n",
        "    return exec.results"
      ],
      "metadata": {
        "id": "ON-UzBiP5cZr"
      },
      "execution_count": 13,
      "outputs": []
    },
    {
      "cell_type": "code",
      "source": [
        "from openai import OpenAI\n",
        "import json\n",
        "\n",
        "client = OpenAI(api_key=OPENAIKEY)\n",
        "\n",
        "def chat(e2b_code_interpreter, user_message, base64_image = None, ):\n",
        "  print(f\"\\n{'='*50}\\nUser Message: {user_message}\\n{'='*50}\")\n",
        "\n",
        "  messages = [\n",
        "      {\n",
        "          \"role\": \"system\",\n",
        "          \"content\": SYSTEM_PROMPT,\n",
        "      },\n",
        "  ]\n",
        "\n",
        "  if base64_image is not None:\n",
        "    messages.append(\n",
        "        {\n",
        "          \"role\": \"user\",\n",
        "          \"content\": [\n",
        "            {\n",
        "              \"type\": \"text\",\n",
        "              \"text\": user_message,\n",
        "            },\n",
        "            {\n",
        "              \"type\": \"image_url\",\n",
        "              \"image_url\": {\n",
        "                \"url\": f\"data:image/jpeg;base64,{base64_image}\"\n",
        "              }\n",
        "            }\n",
        "          ]\n",
        "        }\n",
        "    )\n",
        "  else:\n",
        "    messages.append(\n",
        "        {\"role\": \"user\", \"content\": user_message},\n",
        "    )\n",
        "\n",
        "  response = client.chat.completions.create(\n",
        "    model=\"gpt-4o\",\n",
        "    messages=messages,\n",
        "    tools=tools,\n",
        "    tool_choice=\"auto\"\n",
        "  )\n",
        "  for choice in response.choices:\n",
        "    if choice.message.tool_calls and len(choice.message.tool_calls) > 0:\n",
        "      for tool_call in choice.message.tool_calls:\n",
        "        if tool_call.function.name == \"execute_python\":\n",
        "          if isinstance(tool_call.function.arguments, dict) and \"code\" in tool_call.function.arguments:\n",
        "            code = tool_call.function.arguments[\"code\"]\n",
        "          else:\n",
        "            code = json.loads(tool_call.function.arguments)[\"code\"]\n",
        "\n",
        "            print(\"CODE TO RUN\")\n",
        "            print(code)\n",
        "            code_interpreter_results = code_interpret(e2b_code_interpreter, code)\n",
        "            return code_interpreter_results\n",
        "    else:\n",
        "      print(\"Answer:\", choice.message.content)"
      ],
      "metadata": {
        "id": "fgYzfz5E6BqR"
      },
      "execution_count": 14,
      "outputs": []
    },
    {
      "cell_type": "markdown",
      "source": [
        "### **Generate and Visualize Chart Using GPT-4o and E2B Code Interpreter 📊🤖**"
      ],
      "metadata": {
        "id": "JniqsejWB6FZ"
      }
    },
    {
      "cell_type": "code",
      "source": [
        "from e2b_code_interpreter import Sandbox\n",
        "code_interpreter = Sandbox(api_key=E2BKEY)\n",
        "\n",
        "# 1. Ask GPT-4o to generate chart\n",
        "code_interpreter_results = chat(\n",
        "  code_interpreter,\n",
        "  \"Plot a chart visualizing the height distribution of men based on the data you know\",\n",
        ")\n",
        "print(code_interpreter_results)\n",
        "plot1 = code_interpreter_results[0]\n",
        "\n",
        "plot1"
      ],
      "metadata": {
        "colab": {
          "base_uri": "https://localhost:8080/",
          "height": 1000
        },
        "id": "l_N_fP0D5xDn",
        "outputId": "407e3078-a282-4c66-830a-692b2a98b482"
      },
      "execution_count": 15,
      "outputs": [
        {
          "output_type": "stream",
          "name": "stdout",
          "text": [
            "\n",
            "==================================================\n",
            "User Message: Plot a chart visualizing the height distribution of men based on the data you know\n",
            "==================================================\n",
            "CODE TO RUN\n",
            "import numpy as np\n",
            "import matplotlib.pyplot as plt\n",
            "import seaborn as sns\n",
            "\n",
            "# Generating synthetic data for men's height\n",
            "np.random.seed(0)  # Seed for reproducibility\n",
            "mean_height = 175  # Mean height in cm\n",
            "std_dev = 10  # Standard deviation in cm\n",
            "num_samples = 1000  # Number of samples\n",
            "\n",
            "# Generate normal distribution\n",
            "heights = np.random.normal(mean_height, std_dev, num_samples)\n",
            "\n",
            "# Plot the distribution using seaborn\n",
            "plt.figure(figsize=(10, 6))\n",
            "sns.histplot(heights, bins=30, kde=True, color='blue', edgecolor='black')\n",
            "plt.title('Height Distribution of Men')\n",
            "plt.xlabel('Height (cm)')\n",
            "plt.ylabel('Frequency')\n",
            "plt.grid(True)\n",
            "plt.show()\n",
            "Running code interpreter...\n",
            "[Result(<Figure size 1000x600 with 1 Axes>)]\n"
          ]
        },
        {
          "output_type": "execute_result",
          "data": {
            "text/plain": [
              "Result(<Figure size 1000x600 with 1 Axes>)"
            ],
            "image/png": "[encoded data removed]"
          },
          "metadata": {},
          "execution_count": 15
        }
      ]
    }
  ]
}