{
  "nbformat": 4,
  "nbformat_minor": 0,
  "metadata": {
    "colab": {
      "provenance": []
    },
    "kernelspec": {
      "name": "python3",
      "display_name": "Python 3"
    },
    "language_info": {
      "name": "python"
    }
  },
  "cells": [
    {
      "cell_type": "markdown",
      "source": [
        "<img src=\"https://drive.google.com/uc?export=view&id=1wYSMgJtARFdvTt5g7E20mE4NmwUFUuog\" width=\"200\">\n",
        "\n",
        "[![Build Fast with AI](https://img.shields.io/badge/BuildFastWithAI-GenAI%20Bootcamp-blue?style=for-the-badge&logo=artificial-intelligence)](https://www.buildfastwithai.com/genai-course)\n",
        "[![EduChain GitHub](https://img.shields.io/github/stars/satvik314/educhain?style=for-the-badge&logo=github&color=gold)](https://github.com/satvik314/educhain)\n",
        "\n",
        "[![Open In Colab](https://colab.research.google.com/assets/colab-badge.svg)](https://colab.research.google.com/drive/12gEWNaSN2dQq81ATYLQVBIRAp5GTg0Xr?usp=chrome_ntp)\n",
        "## Master Generative AI in 6 Weeks\n",
        "**What You'll Learn:**\n",
        "- Build with Latest LLMs\n",
        "- Create Custom AI Apps\n",
        "- Learn from Industry Experts\n",
        "- Join Innovation Community\n",
        "Transform your AI ideas into reality through hands-on projects and expert mentorship.\n",
        "[Start Your Journey](https://www.buildfastwithai.com/genai-course)\n",
        "*Empowering the Next Generation of AI Innovators"
      ],
      "metadata": {
        "id": "G-tohZRggNEa"
      }
    },
    {
      "cell_type": "markdown",
      "source": [
        "##🛠️✨ **Composio: AI-Driven App Integration Platform**  \n",
        "🤖🚀 **Composio** is a cutting-edge platform that seamlessly integrates 200+ apps with AI agents to boost their functionality and interactivity.  \n",
        "\n",
        "### 🌟 Key Features:  \n",
        "🔗 **200+ Integrations**: Work with GitHub, Notion, Slack, Gmail, and more.  \n",
        "🧠 **AI Framework Compatibility**: Supports OpenAI, LangChain, LlamaIndex, Claude, and others.  \n",
        "🔒 **Managed Authentication**: Built-in support for OAuth, API Keys, JWT, and more.  \n",
        "🔧 **Customizable & Extensible**: Easily add tools, frameworks, and protocols.  \n",
        "\n",
        "🎯 **Build AI-powered agents with Composio effortlessly—focus on innovation, not integration!**"
      ],
      "metadata": {
        "id": "4M5fl4ZegT0e"
      }
    },
    {
      "cell_type": "markdown",
      "source": [
        "##Setup and Installation\n",
        "\n",
        "Install Required Libraries\n",
        "\n",
        "\n"
      ],
      "metadata": {
        "id": "iqrDRjeqguJT"
      }
    },
    {
      "cell_type": "code",
      "source": [
        "!pip install composio_core composio_openai langchain_openai composio_langchain httpx==0.27.2"
      ],
      "metadata": {
        "id": "7cXpT8eNqr7K"
      },
      "execution_count": null,
      "outputs": []
    },
    {
      "cell_type": "markdown",
      "source": [
        "####**Execute the below code, open the provided link in a new tab, enter the authentication code, and then connect GitHub.**"
      ],
      "metadata": {
        "id": "3B9Of7zGrA_R"
      }
    },
    {
      "cell_type": "code",
      "source": [
        "!composio login"
      ],
      "metadata": {
        "id": "VleyLHYTq0v9"
      },
      "execution_count": null,
      "outputs": []
    },
    {
      "cell_type": "markdown",
      "source": [
        "###**Configure API's**"
      ],
      "metadata": {
        "id": "Z3w-T0J-rdNC"
      }
    },
    {
      "cell_type": "code",
      "source": [
        "import os\n",
        "from google.colab import userdata\n",
        "os.environ['OPENAI_API_KEY'] = userdata.get('OPENAI_API_KEY')\n",
        "os.environ['COMPOSIO_API_KEY'] = userdata.get('COMPOSIO_API_KEY')"
      ],
      "metadata": {
        "id": "7Cjy52Wyq_vR"
      },
      "execution_count": null,
      "outputs": []
    },
    {
      "cell_type": "markdown",
      "source": [
        "\n",
        "## Star a GitHub Repo using Composio\n",
        "\n",
        "Let's use Composio to create an AI Agent that can star a Github Repo.\n"
      ],
      "metadata": {
        "id": "sfpKooBhrvQ5"
      }
    },
    {
      "cell_type": "code",
      "source": [
        "from openai import OpenAI\n",
        "from composio_openai import ComposioToolSet, App, Action\n",
        "\n",
        "OPENAIKEY=os.getenv('OPENAI_API_KEY')\n",
        "\n",
        "openai_client = OpenAI(\n",
        "    api_key=OPENAIKEY\n",
        ")\n",
        "\n",
        "# Initialise the Composio Tool Set\n",
        "\n",
        "composio_tool_set = ComposioToolSet()\n",
        "\n",
        "# Get GitHub tools that are pre-configured\n",
        "actions = composio_tool_set.get_actions(\n",
        "    actions=[Action.GITHUB_STAR_A_REPOSITORY_FOR_THE_AUTHENTICATED_USER]\n",
        ")\n",
        "\n",
        "my_task = \"Star a repo satvik314/educhain on GitHub\"\n",
        "\n",
        "# Setup openai assistant\n",
        "assistant_instruction = \"You are a super intelligent personal assistant\"\n",
        "\n",
        "assistant = openai_client.beta.assistants.create(\n",
        "    name=\"Personal Assistant\",\n",
        "    instructions=assistant_instruction,\n",
        "    model=\"gpt-4-turbo\",\n",
        "    tools=actions,\n",
        ")\n",
        "\n",
        "# create a thread\n",
        "thread = openai_client.beta.threads.create()\n",
        "\n",
        "message = openai_client.beta.threads.messages.create(\n",
        "    thread_id=thread.id,\n",
        "    role=\"user\",\n",
        "    content=my_task\n",
        ")\n",
        "\n",
        "# Execute Agent with integrations\n",
        "run = openai_client.beta.threads.runs.create(\n",
        "    thread_id=thread.id,\n",
        "    assistant_id=assistant.id\n",
        ")\n",
        "\n",
        "\n",
        "# Execute Function calls\n",
        "response_after_tool_calls = composio_tool_set.wait_and_handle_assistant_tool_calls(\n",
        "    client=openai_client,\n",
        "    run=run,\n",
        "    thread=thread,\n",
        ")\n",
        "\n",
        "print(response_after_tool_calls)"
      ],
      "metadata": {
        "id": "K1NNVWuYriKI"
      },
      "execution_count": null,
      "outputs": []
    },
    {
      "cell_type": "markdown",
      "source": [
        "## Fetching Real-Time Weather with OpenWeatherMap and Composio\n",
        "###**Import Necessary Libraries**"
      ],
      "metadata": {
        "id": "6lgUTwj5s3YZ"
      }
    },
    {
      "cell_type": "code",
      "source": [
        "from langchain.agents import create_openai_functions_agent, AgentExecutor\n",
        "from langchain import hub\n",
        "from langchain_openai import ChatOpenAI\n",
        "from composio_langchain import ComposioToolSet, Action, App"
      ],
      "metadata": {
        "id": "fjHqg1gar-CN"
      },
      "execution_count": null,
      "outputs": []
    },
    {
      "cell_type": "markdown",
      "source": [
        "###**Setting Up the Agent with OpenWeatherMap Integration**"
      ],
      "metadata": {
        "id": "SmwadqXGtdY6"
      }
    },
    {
      "cell_type": "code",
      "source": [
        "llm = ChatOpenAI()\n",
        "prompt = hub.pull(\"hwchase17/openai-functions-agent\")\n",
        "\n",
        "composio_toolset = ComposioToolSet(api_key=os.getenv('COMPOSIO_API_KEY')) #Get the api key from composio website\n",
        "tools = composio_toolset.get_tools(actions=['WEATHERMAP_WEATHER'])\n",
        "\n",
        "agent = create_openai_functions_agent(llm, tools, prompt)\n",
        "agent_executor = AgentExecutor(agent=agent, tools=tools, verbose=True)"
      ],
      "metadata": {
        "id": "3Dby01sWtCYF"
      },
      "execution_count": null,
      "outputs": []
    },
    {
      "cell_type": "markdown",
      "source": [
        "###**Retrieving Current Weather Information Using OpenWeatherMap API**"
      ],
      "metadata": {
        "id": "dQjbt1p_tweU"
      }
    },
    {
      "cell_type": "code",
      "source": [
        "task = \"Retrieve current weather information for Bengaluru IN using the OpenWeatherMap API. Include temperature, humidity, wind speed, and weather conditions in your response.\"\n",
        "result = agent_executor.invoke({\"input\": task})\n",
        "print(result)"
      ],
      "metadata": {
        "id": "7CIzmBoYtkG9"
      },
      "execution_count": null,
      "outputs": []
    },
    {
      "cell_type": "markdown",
      "source": [
        "\n",
        "### Fetching Hacker News Front Page Stories Using Composio"
      ],
      "metadata": {
        "id": "2pu6zIj0uPh8"
      }
    },
    {
      "cell_type": "code",
      "source": [
        "from langchain.agents import create_openai_functions_agent, AgentExecutor\n",
        "from langchain import hub\n",
        "from langchain_openai import ChatOpenAI\n",
        "from composio_langchain import ComposioToolSet, Action, App\n",
        "\n",
        "# Initialize language model\n",
        "llm = ChatOpenAI()\n",
        "\n",
        "# Pull the prompt from the hub\n",
        "prompt = hub.pull(\"hwchase17/openai-functions-agent\")\n",
        "\n",
        "# Initialize Composio toolset with your API key\n",
        "composio_toolset = ComposioToolSet(api_key=os.getenv('COMPOSIO_API_KEY')) #Get the api key from composio website\n",
        "\n",
        "# Get the tools for the specified action\n",
        "tools = composio_toolset.get_tools(actions=['HACKERNEWS_GET_FRONTPAGE'])\n",
        "\n",
        "# Create the agent using the language model, tools, and prompt\n",
        "agent = create_openai_functions_agent(llm, tools, prompt)\n",
        "\n",
        "# Create an executor for the agent\n",
        "agent_executor = AgentExecutor(agent=agent, tools=tools, verbose=True)\n",
        "\n",
        "# Define the task to fetch the front page stories\n",
        "task = \"Fetch the current top stories from Hacker News front page.\"\n",
        "\n",
        "# Invoke the agent with the task\n",
        "result = agent_executor.invoke({\"input\": task})\n",
        "\n",
        "# Print the result\n",
        "print(result)\n"
      ],
      "metadata": {
        "id": "exJnemZ8t2fZ"
      },
      "execution_count": null,
      "outputs": []
    },
    {
      "cell_type": "markdown",
      "source": [
        "### Scraping Webpage Contents Using Composio"
      ],
      "metadata": {
        "id": "64I3Nuawuj1z"
      }
    },
    {
      "cell_type": "code",
      "source": [
        "from langchain.agents import create_openai_functions_agent, AgentExecutor\n",
        "from langchain import hub\n",
        "from langchain_openai import ChatOpenAI\n",
        "from composio_langchain import ComposioToolSet, Action, App\n",
        "\n",
        "# Initialize the language model\n",
        "llm = ChatOpenAI()\n",
        "\n",
        "# Pull the prompt from the hub\n",
        "prompt = hub.pull(\"hwchase17/openai-functions-agent\")\n",
        "\n",
        "# Initialize the ComposioToolSet with your API key\n",
        "composio_toolset = ComposioToolSet(api_key=os.getenv('COMPOSIO_API_KEY')) #Get the api key from composio website\n",
        "\n",
        "# Get the tools needed for web scraping\n",
        "tools = composio_toolset.get_tools(actions=['WEBTOOL_SCRAPE_WEBSITE_CONTENT'])\n",
        "\n",
        "# Create the agent using the language model, tools, and prompt\n",
        "agent = create_openai_functions_agent(llm, tools, prompt)\n",
        "\n",
        "# Initialize the agent executor\n",
        "agent_executor = AgentExecutor(agent=agent, tools=tools, verbose=True)\n",
        "\n",
        "# Define the task for scraping\n",
        "task = \"Visit the website https://webscraper.io/test-sites/e-commerce/allinone/ and extract the product information. For each product, provide the name, price, and description in a structured format like a table or list.\"\n",
        "\n",
        "# Invoke the agent executor with the task\n",
        "result = agent_executor.invoke({\"input\": task})\n",
        "\n",
        "# Print the result\n",
        "print(result)\n"
      ],
      "metadata": {
        "id": "MhjYRzhJuVJN"
      },
      "execution_count": null,
      "outputs": []
    }
  ]
}