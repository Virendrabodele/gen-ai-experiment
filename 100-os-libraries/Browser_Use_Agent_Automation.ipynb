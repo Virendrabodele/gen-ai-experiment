{
  "nbformat": 4,
  "nbformat_minor": 0,
  "metadata": {
    "colab": {
      "provenance": []
    },
    "kernelspec": {
      "name": "python3",
      "display_name": "Python 3"
    },
    "language_info": {
      "name": "python"
    }
  },
  "cells": [
    {
      "cell_type": "markdown",
      "source": [
        "<img src=\"https://drive.google.com/uc?export=view&id=1wYSMgJtARFdvTt5g7E20mE4NmwUFUuog\" width=\"200\">\n",
        "\n",
        "[![Build Fast with AI](https://img.shields.io/badge/BuildFastWithAI-GenAI%20Bootcamp-blue?style=for-the-badge&logo=artificial-intelligence)](https://www.buildfastwithai.com/genai-course)\n",
        "[![EduChain GitHub](https://img.shields.io/github/stars/satvik314/educhain?style=for-the-badge&logo=github&color=gold)](https://github.com/satvik314/educhain)\n",
        "\n",
        "[![Open In Colab](https://colab.research.google.com/assets/colab-badge.svg)](https://colab.research.google.com/drive/12TOxopyRs1xfFg8nb542U9wTehSLouzL#scrollTo=EDJ18EXZ5BUZ)\n",
        "## Master Generative AI in 6 Weeks\n",
        "**What You'll Learn:**\n",
        "- Build with Latest LLMs\n",
        "- Create Custom AI Apps\n",
        "- Learn from Industry Experts\n",
        "- Join Innovation Community\n",
        "Transform your AI ideas into reality through hands-on projects and expert mentorship.\n",
        "[Start Your Journey](https://www.buildfastwithai.com/genai-course)\n",
        "*Empowering the Next Generation of AI Innovators"
      ],
      "metadata": {
        "id": "QVW-o_IAxHLZ"
      }
    },
    {
      "cell_type": "markdown",
      "source": [
        "# 🚀 **Browser Use Agent Automation** ⚡\n",
        "\n",
        "**Browser-Use** enables developers to easily integrate AI agents with web browsers, enhancing automation and web interactions. From AI-driven browsing tasks to advanced automation workflows. 🛠️🌐\n",
        "\n",
        "## 📊 **Key Features**\n",
        "\n",
        "✅ **Seamless AI Integration** – Easily connect AI agents to web browsers for smarter web interactions  \n",
        "💻 **Web UI** – User-friendly interface for running AI agents directly in the browser  \n",
        "🌍 **Instant Browser Automation** – Use the hosted version for quick automation without complex setup  \n",
        "🤖 **AI-Powered Tasks** – Automate repetitive tasks and extract data from web pages using AI agents  \n",
        "🔐 **Security and Privacy** – Ensure safe interaction between AI agents and websites with built-in safeguards  \n"
      ],
      "metadata": {
        "id": "Ux1_HzCpxHCA"
      }
    },
    {
      "cell_type": "markdown",
      "source": [
        "### **🚀 Installation & Setup**  \n",
        "\n",
        "\n",
        "\n",
        "\n",
        "\n",
        "\n"
      ],
      "metadata": {
        "id": "uPvfk-7UxG2Y"
      }
    },
    {
      "cell_type": "code",
      "execution_count": null,
      "metadata": {
        "id": "Hc9ntg2EVfQt"
      },
      "outputs": [],
      "source": [
        "%pip install -U langgraph langchain_google_genai langchain_community langgraph-checkpoint-postgres  openai langchain_groq"
      ]
    },
    {
      "cell_type": "code",
      "source": [
        "%%capture --no-stderr\n",
        "%pip install --upgrade --quiet  playwright > /dev/null\n",
        "%pip install --upgrade --quiet  lxml browser-use langchain_openai"
      ],
      "metadata": {
        "id": "6RKjKtYexGNo"
      },
      "execution_count": 2,
      "outputs": []
    },
    {
      "cell_type": "code",
      "source": [
        "!playwright install"
      ],
      "metadata": {
        "id": "OKgDDd2yzxg9",
        "colab": {
          "base_uri": "https://localhost:8080/"
        },
        "outputId": "bb20f1a3-65ea-4059-bf0d-7192aeec499b"
      },
      "execution_count": 3,
      "outputs": [
        {
          "output_type": "stream",
          "name": "stdout",
          "text": [
            "Downloading Chromium 133.0.6943.16 (playwright build v1155)\u001b[2m from https://cdn.playwright.dev/dbazure/download/playwright/builds/chromium/1155/chromium-linux.zip\u001b[22m\n",
            "\u001b[1G163.5 MiB [] 0% 0.0s\u001b[0K\u001b[1G163.5 MiB [] 0% 47.7s\u001b[0K\u001b[1G163.5 MiB [] 0% 22.4s\u001b[0K\u001b[1G163.5 MiB [] 0% 15.1s\u001b[0K\u001b[1G163.5 MiB [] 0% 11.0s\u001b[0K\u001b[1G163.5 MiB [] 0% 8.6s\u001b[0K\u001b[1G163.5 MiB [] 1% 8.0s\u001b[0K\u001b[1G163.5 MiB [] 1% 7.1s\u001b[0K\u001b[1G163.5 MiB [] 2% 6.3s\u001b[0K\u001b[1G163.5 MiB [] 2% 5.9s\u001b[0K\u001b[1G163.5 MiB [] 2% 5.5s\u001b[0K\u001b[1G163.5 MiB [] 3% 5.0s\u001b[0K\u001b[1G163.5 MiB [] 4% 4.7s\u001b[0K\u001b[1G163.5 MiB [] 4% 4.6s\u001b[0K\u001b[1G163.5 MiB [] 4% 4.7s\u001b[0K\u001b[1G163.5 MiB [] 5% 4.8s\u001b[0K\u001b[1G163.5 MiB [] 5% 4.7s\u001b[0K\u001b[1G163.5 MiB [] 5% 4.9s\u001b[0K\u001b[1G163.5 MiB [] 6% 4.8s\u001b[0K\u001b[1G163.5 MiB [] 6% 4.9s\u001b[0K\u001b[1G163.5 MiB [] 7% 4.5s\u001b[0K\u001b[1G163.5 MiB [] 8% 4.5s\u001b[0K\u001b[1G163.5 MiB [] 8% 4.3s\u001b[0K\u001b[1G163.5 MiB [] 9% 4.2s\u001b[0K\u001b[1G163.5 MiB [] 9% 4.1s\u001b[0K\u001b[1G163.5 MiB [] 10% 3.9s\u001b[0K\u001b[1G163.5 MiB [] 10% 4.0s\u001b[0K\u001b[1G163.5 MiB [] 11% 4.0s\u001b[0K\u001b[1G163.5 MiB [] 12% 3.9s\u001b[0K\u001b[1G163.5 MiB [] 12% 3.8s\u001b[0K\u001b[1G163.5 MiB [] 13% 3.6s\u001b[0K\u001b[1G163.5 MiB [] 14% 3.6s\u001b[0K\u001b[1G163.5 MiB [] 15% 3.6s\u001b[0K\u001b[1G163.5 MiB [] 15% 3.5s\u001b[0K\u001b[1G163.5 MiB [] 16% 3.5s\u001b[0K\u001b[1G163.5 MiB [] 16% 3.4s\u001b[0K\u001b[1G163.5 MiB [] 17% 3.3s\u001b[0K\u001b[1G163.5 MiB [] 18% 3.3s\u001b[0K\u001b[1G163.5 MiB [] 19% 3.2s\u001b[0K\u001b[1G163.5 MiB [] 19% 3.1s\u001b[0K\u001b[1G163.5 MiB [] 20% 3.1s\u001b[0K\u001b[1G163.5 MiB [] 20% 3.2s\u001b[0K\u001b[1G163.5 MiB [] 21% 3.2s\u001b[0K\u001b[1G163.5 MiB [] 21% 3.3s\u001b[0K\u001b[1G163.5 MiB [] 21% 3.4s\u001b[0K\u001b[1G163.5 MiB [] 22% 3.3s\u001b[0K\u001b[1G163.5 MiB [] 23% 3.2s\u001b[0K\u001b[1G163.5 MiB [] 24% 3.1s\u001b[0K\u001b[1G163.5 MiB [] 24% 3.0s\u001b[0K\u001b[1G163.5 MiB [] 25% 2.9s\u001b[0K\u001b[1G163.5 MiB [] 26% 2.8s\u001b[0K\u001b[1G163.5 MiB [] 27% 2.8s\u001b[0K\u001b[1G163.5 MiB [] 28% 2.7s\u001b[0K\u001b[1G163.5 MiB [] 28% 2.6s\u001b[0K\u001b[1G163.5 MiB [] 29% 2.6s\u001b[0K\u001b[1G163.5 MiB [] 30% 2.5s\u001b[0K\u001b[1G163.5 MiB [] 31% 2.5s\u001b[0K\u001b[1G163.5 MiB [] 32% 2.4s\u001b[0K\u001b[1G163.5 MiB [] 33% 2.3s\u001b[0K\u001b[1G163.5 MiB [] 34% 2.3s\u001b[0K\u001b[1G163.5 MiB [] 34% 2.2s\u001b[0K\u001b[1G163.5 MiB [] 35% 2.2s\u001b[0K\u001b[1G163.5 MiB [] 36% 2.2s\u001b[0K\u001b[1G163.5 MiB [] 37% 2.1s\u001b[0K\u001b[1G163.5 MiB [] 38% 2.0s\u001b[0K\u001b[1G163.5 MiB [] 40% 1.9s\u001b[0K\u001b[1G163.5 MiB [] 41% 1.8s\u001b[0K\u001b[1G163.5 MiB [] 42% 1.8s\u001b[0K\u001b[1G163.5 MiB [] 44% 1.7s\u001b[0K\u001b[1G163.5 MiB [] 45% 1.6s\u001b[0K\u001b[1G163.5 MiB [] 47% 1.5s\u001b[0K\u001b[1G163.5 MiB [] 48% 1.5s\u001b[0K\u001b[1G163.5 MiB [] 50% 1.4s\u001b[0K\u001b[1G163.5 MiB [] 51% 1.3s\u001b[0K\u001b[1G163.5 MiB [] 53% 1.2s\u001b[0K\u001b[1G163.5 MiB [] 54% 1.2s\u001b[0K\u001b[1G163.5 MiB [] 55% 1.2s\u001b[0K\u001b[1G163.5 MiB [] 57% 1.1s\u001b[0K\u001b[1G163.5 MiB [] 58% 1.0s\u001b[0K\u001b[1G163.5 MiB [] 59% 1.0s\u001b[0K\u001b[1G163.5 MiB [] 60% 1.0s\u001b[0K\u001b[1G163.5 MiB [] 61% 1.0s\u001b[0K\u001b[1G163.5 MiB [] 62% 0.9s\u001b[0K\u001b[1G163.5 MiB [] 63% 0.9s\u001b[0K\u001b[1G163.5 MiB [] 64% 0.9s\u001b[0K\u001b[1G163.5 MiB [] 65% 0.8s\u001b[0K\u001b[1G163.5 MiB [] 66% 0.8s\u001b[0K\u001b[1G163.5 MiB [] 67% 0.8s\u001b[0K\u001b[1G163.5 MiB [] 68% 0.8s\u001b[0K\u001b[1G163.5 MiB [] 69% 0.8s\u001b[0K\u001b[1G163.5 MiB [] 70% 0.8s\u001b[0K\u001b[1G163.5 MiB [] 71% 0.7s\u001b[0K\u001b[1G163.5 MiB [] 72% 0.7s\u001b[0K\u001b[1G163.5 MiB [] 73% 0.7s\u001b[0K\u001b[1G163.5 MiB [] 74% 0.7s\u001b[0K\u001b[1G163.5 MiB [] 75% 0.6s\u001b[0K\u001b[1G163.5 MiB [] 76% 0.6s\u001b[0K\u001b[1G163.5 MiB [] 77% 0.6s\u001b[0K\u001b[1G163.5 MiB [] 78% 0.6s\u001b[0K\u001b[1G163.5 MiB [] 79% 0.5s\u001b[0K\u001b[1G163.5 MiB [] 80% 0.5s\u001b[0K\u001b[1G163.5 MiB [] 81% 0.5s\u001b[0K\u001b[1G163.5 MiB [] 82% 0.5s\u001b[0K\u001b[1G163.5 MiB [] 82% 0.4s\u001b[0K\u001b[1G163.5 MiB [] 83% 0.4s\u001b[0K\u001b[1G163.5 MiB [] 84% 0.4s\u001b[0K\u001b[1G163.5 MiB [] 85% 0.4s\u001b[0K\u001b[1G163.5 MiB [] 86% 0.4s\u001b[0K\u001b[1G163.5 MiB [] 86% 0.3s\u001b[0K\u001b[1G163.5 MiB [] 87% 0.3s\u001b[0K\u001b[1G163.5 MiB [] 88% 0.3s\u001b[0K\u001b[1G163.5 MiB [] 89% 0.3s\u001b[0K\u001b[1G163.5 MiB [] 90% 0.2s\u001b[0K\u001b[1G163.5 MiB [] 91% 0.2s\u001b[0K\u001b[1G163.5 MiB [] 92% 0.2s\u001b[0K\u001b[1G163.5 MiB [] 93% 0.2s\u001b[0K\u001b[1G163.5 MiB [] 94% 0.1s\u001b[0K\u001b[1G163.5 MiB [] 95% 0.1s\u001b[0K\u001b[1G163.5 MiB [] 96% 0.1s\u001b[0K\u001b[1G163.5 MiB [] 97% 0.1s\u001b[0K\u001b[1G163.5 MiB [] 98% 0.0s\u001b[0K\u001b[1G163.5 MiB [] 99% 0.0s\u001b[0K\u001b[1G163.5 MiB [] 100% 0.0s\u001b[0K\n",
            "Chromium 133.0.6943.16 (playwright build v1155) downloaded to /root/.cache/ms-playwright/chromium-1155\n",
            "Downloading Chromium Headless Shell 133.0.6943.16 (playwright build v1155)\u001b[2m from https://cdn.playwright.dev/dbazure/download/playwright/builds/chromium/1155/chromium-headless-shell-linux.zip\u001b[22m\n",
            "\u001b[1G99.9 MiB [] 0% 0.0s\u001b[0K\u001b[1G99.9 MiB [] 0% 26.6s\u001b[0K\u001b[1G99.9 MiB [] 0% 17.6s\u001b[0K\u001b[1G99.9 MiB [] 0% 16.2s\u001b[0K\u001b[1G99.9 MiB [] 0% 16.3s\u001b[0K\u001b[1G99.9 MiB [] 0% 12.0s\u001b[0K\u001b[1G99.9 MiB [] 0% 13.3s\u001b[0K\u001b[1G99.9 MiB [] 1% 9.8s\u001b[0K\u001b[1G99.9 MiB [] 1% 9.7s\u001b[0K\u001b[1G99.9 MiB [] 1% 9.6s\u001b[0K\u001b[1G99.9 MiB [] 2% 9.2s\u001b[0K\u001b[1G99.9 MiB [] 2% 9.1s\u001b[0K\u001b[1G99.9 MiB [] 2% 9.0s\u001b[0K\u001b[1G99.9 MiB [] 2% 8.7s\u001b[0K\u001b[1G99.9 MiB [] 3% 8.7s\u001b[0K\u001b[1G99.9 MiB [] 3% 8.9s\u001b[0K\u001b[1G99.9 MiB [] 3% 8.5s\u001b[0K\u001b[1G99.9 MiB [] 3% 8.6s\u001b[0K\u001b[1G99.9 MiB [] 4% 8.6s\u001b[0K\u001b[1G99.9 MiB [] 4% 8.2s\u001b[0K\u001b[1G99.9 MiB [] 5% 7.7s\u001b[0K\u001b[1G99.9 MiB [] 5% 7.3s\u001b[0K\u001b[1G99.9 MiB [] 5% 7.1s\u001b[0K\u001b[1G99.9 MiB [] 6% 7.1s\u001b[0K\u001b[1G99.9 MiB [] 6% 7.0s\u001b[0K\u001b[1G99.9 MiB [] 6% 6.7s\u001b[0K\u001b[1G99.9 MiB [] 7% 6.6s\u001b[0K\u001b[1G99.9 MiB [] 7% 6.7s\u001b[0K\u001b[1G99.9 MiB [] 7% 6.5s\u001b[0K\u001b[1G99.9 MiB [] 8% 6.5s\u001b[0K\u001b[1G99.9 MiB [] 8% 6.4s\u001b[0K\u001b[1G99.9 MiB [] 9% 6.3s\u001b[0K\u001b[1G99.9 MiB [] 9% 6.2s\u001b[0K\u001b[1G99.9 MiB [] 9% 6.3s\u001b[0K\u001b[1G99.9 MiB [] 9% 6.4s\u001b[0K\u001b[1G99.9 MiB [] 10% 6.4s\u001b[0K\u001b[1G99.9 MiB [] 10% 6.3s\u001b[0K\u001b[1G99.9 MiB [] 11% 6.0s\u001b[0K\u001b[1G99.9 MiB [] 11% 5.9s\u001b[0K\u001b[1G99.9 MiB [] 12% 5.6s\u001b[0K\u001b[1G99.9 MiB [] 12% 5.7s\u001b[0K\u001b[1G99.9 MiB [] 12% 5.8s\u001b[0K\u001b[1G99.9 MiB [] 13% 5.7s\u001b[0K\u001b[1G99.9 MiB [] 13% 5.5s\u001b[0K\u001b[1G99.9 MiB [] 14% 5.5s\u001b[0K\u001b[1G99.9 MiB [] 14% 5.4s\u001b[0K\u001b[1G99.9 MiB [] 15% 5.4s\u001b[0K\u001b[1G99.9 MiB [] 15% 5.3s\u001b[0K\u001b[1G99.9 MiB [] 15% 5.4s\u001b[0K\u001b[1G99.9 MiB [] 15% 5.5s\u001b[0K\u001b[1G99.9 MiB [] 16% 5.4s\u001b[0K\u001b[1G99.9 MiB [] 17% 5.3s\u001b[0K\u001b[1G99.9 MiB [] 18% 5.2s\u001b[0K\u001b[1G99.9 MiB [] 18% 5.1s\u001b[0K\u001b[1G99.9 MiB [] 19% 5.0s\u001b[0K\u001b[1G99.9 MiB [] 19% 5.1s\u001b[0K\u001b[1G99.9 MiB [] 19% 5.0s\u001b[0K\u001b[1G99.9 MiB [] 20% 5.0s\u001b[0K\u001b[1G99.9 MiB [] 20% 4.9s\u001b[0K\u001b[1G99.9 MiB [] 20% 4.8s\u001b[0K\u001b[1G99.9 MiB [] 21% 4.7s\u001b[0K\u001b[1G99.9 MiB [] 22% 4.7s\u001b[0K\u001b[1G99.9 MiB [] 22% 4.6s\u001b[0K\u001b[1G99.9 MiB [] 23% 4.4s\u001b[0K\u001b[1G99.9 MiB [] 24% 4.2s\u001b[0K\u001b[1G99.9 MiB [] 25% 4.2s\u001b[0K\u001b[1G99.9 MiB [] 25% 4.1s\u001b[0K\u001b[1G99.9 MiB [] 27% 3.9s\u001b[0K\u001b[1G99.9 MiB [] 27% 3.8s\u001b[0K\u001b[1G99.9 MiB [] 28% 3.7s\u001b[0K\u001b[1G99.9 MiB [] 29% 3.6s\u001b[0K\u001b[1G99.9 MiB [] 30% 3.6s\u001b[0K\u001b[1G99.9 MiB [] 30% 3.5s\u001b[0K\u001b[1G99.9 MiB [] 31% 3.3s\u001b[0K\u001b[1G99.9 MiB [] 32% 3.2s\u001b[0K\u001b[1G99.9 MiB [] 33% 3.1s\u001b[0K\u001b[1G99.9 MiB [] 35% 3.0s\u001b[0K\u001b[1G99.9 MiB [] 36% 2.9s\u001b[0K\u001b[1G99.9 MiB [] 37% 2.9s\u001b[0K\u001b[1G99.9 MiB [] 37% 2.8s\u001b[0K\u001b[1G99.9 MiB [] 38% 2.7s\u001b[0K\u001b[1G99.9 MiB [] 39% 2.6s\u001b[0K\u001b[1G99.9 MiB [] 40% 2.6s\u001b[0K\u001b[1G99.9 MiB [] 41% 2.5s\u001b[0K\u001b[1G99.9 MiB [] 42% 2.5s\u001b[0K\u001b[1G99.9 MiB [] 43% 2.4s\u001b[0K\u001b[1G99.9 MiB [] 43% 2.3s\u001b[0K\u001b[1G99.9 MiB [] 45% 2.3s\u001b[0K\u001b[1G99.9 MiB [] 46% 2.2s\u001b[0K\u001b[1G99.9 MiB [] 47% 2.1s\u001b[0K\u001b[1G99.9 MiB [] 48% 2.0s\u001b[0K\u001b[1G99.9 MiB [] 49% 2.0s\u001b[0K\u001b[1G99.9 MiB [] 50% 1.9s\u001b[0K\u001b[1G99.9 MiB [] 51% 1.8s\u001b[0K\u001b[1G99.9 MiB [] 52% 1.8s\u001b[0K\u001b[1G99.9 MiB [] 53% 1.7s\u001b[0K\u001b[1G99.9 MiB [] 54% 1.7s\u001b[0K\u001b[1G99.9 MiB [] 55% 1.6s\u001b[0K\u001b[1G99.9 MiB [] 56% 1.6s\u001b[0K\u001b[1G99.9 MiB [] 57% 1.5s\u001b[0K\u001b[1G99.9 MiB [] 58% 1.5s\u001b[0K\u001b[1G99.9 MiB [] 59% 1.4s\u001b[0K\u001b[1G99.9 MiB [] 60% 1.4s\u001b[0K\u001b[1G99.9 MiB [] 61% 1.4s\u001b[0K\u001b[1G99.9 MiB [] 63% 1.3s\u001b[0K\u001b[1G99.9 MiB [] 64% 1.2s\u001b[0K\u001b[1G99.9 MiB [] 65% 1.2s\u001b[0K\u001b[1G99.9 MiB [] 66% 1.2s\u001b[0K\u001b[1G99.9 MiB [] 66% 1.1s\u001b[0K\u001b[1G99.9 MiB [] 68% 1.1s\u001b[0K\u001b[1G99.9 MiB [] 69% 1.1s\u001b[0K\u001b[1G99.9 MiB [] 69% 1.0s\u001b[0K\u001b[1G99.9 MiB [] 70% 1.0s\u001b[0K\u001b[1G99.9 MiB [] 71% 1.0s\u001b[0K\u001b[1G99.9 MiB [] 72% 0.9s\u001b[0K\u001b[1G99.9 MiB [] 73% 0.9s\u001b[0K\u001b[1G99.9 MiB [] 74% 0.9s\u001b[0K\u001b[1G99.9 MiB [] 75% 0.8s\u001b[0K\u001b[1G99.9 MiB [] 76% 0.8s\u001b[0K\u001b[1G99.9 MiB [] 77% 0.8s\u001b[0K\u001b[1G99.9 MiB [] 77% 0.7s\u001b[0K\u001b[1G99.9 MiB [] 78% 0.7s\u001b[0K\u001b[1G99.9 MiB [] 79% 0.7s\u001b[0K\u001b[1G99.9 MiB [] 80% 0.7s\u001b[0K\u001b[1G99.9 MiB [] 81% 0.6s\u001b[0K\u001b[1G99.9 MiB [] 82% 0.6s\u001b[0K\u001b[1G99.9 MiB [] 83% 0.6s\u001b[0K\u001b[1G99.9 MiB [] 84% 0.5s\u001b[0K\u001b[1G99.9 MiB [] 85% 0.5s\u001b[0K\u001b[1G99.9 MiB [] 86% 0.5s\u001b[0K\u001b[1G99.9 MiB [] 87% 0.4s\u001b[0K\u001b[1G99.9 MiB [] 88% 0.4s\u001b[0K\u001b[1G99.9 MiB [] 89% 0.4s\u001b[0K\u001b[1G99.9 MiB [] 89% 0.3s\u001b[0K\u001b[1G99.9 MiB [] 90% 0.3s\u001b[0K\u001b[1G99.9 MiB [] 91% 0.3s\u001b[0K\u001b[1G99.9 MiB [] 92% 0.3s\u001b[0K\u001b[1G99.9 MiB [] 92% 0.2s\u001b[0K\u001b[1G99.9 MiB [] 93% 0.2s\u001b[0K\u001b[1G99.9 MiB [] 94% 0.2s\u001b[0K\u001b[1G99.9 MiB [] 95% 0.2s\u001b[0K\u001b[1G99.9 MiB [] 95% 0.1s\u001b[0K\u001b[1G99.9 MiB [] 96% 0.1s\u001b[0K\u001b[1G99.9 MiB [] 97% 0.1s\u001b[0K\u001b[1G99.9 MiB [] 98% 0.1s\u001b[0K\u001b[1G99.9 MiB [] 98% 0.0s\u001b[0K\u001b[1G99.9 MiB [] 99% 0.0s\u001b[0K\u001b[1G99.9 MiB [] 100% 0.0s\u001b[0K\n",
            "Chromium Headless Shell 133.0.6943.16 (playwright build v1155) downloaded to /root/.cache/ms-playwright/chromium_headless_shell-1155\n",
            "Downloading Firefox 134.0 (playwright build v1471)\u001b[2m from https://cdn.playwright.dev/dbazure/download/playwright/builds/firefox/1471/firefox-ubuntu-22.04.zip\u001b[22m\n",
            "\u001b[1G88.7 MiB [] 0% 0.0s\u001b[0K\u001b[1G88.7 MiB [] 0% 27.2s\u001b[0K\u001b[1G88.7 MiB [] 0% 12.0s\u001b[0K\u001b[1G88.7 MiB [] 0% 7.1s\u001b[0K\u001b[1G88.7 MiB [] 1% 3.8s\u001b[0K\u001b[1G88.7 MiB [] 3% 2.6s\u001b[0K\u001b[1G88.7 MiB [] 4% 2.1s\u001b[0K\u001b[1G88.7 MiB [] 6% 1.8s\u001b[0K\u001b[1G88.7 MiB [] 8% 1.5s\u001b[0K\u001b[1G88.7 MiB [] 9% 1.3s\u001b[0K\u001b[1G88.7 MiB [] 11% 1.4s\u001b[0K\u001b[1G88.7 MiB [] 12% 1.3s\u001b[0K\u001b[1G88.7 MiB [] 13% 1.3s\u001b[0K\u001b[1G88.7 MiB [] 15% 1.3s\u001b[0K\u001b[1G88.7 MiB [] 16% 1.2s\u001b[0K\u001b[1G88.7 MiB [] 18% 1.1s\u001b[0K\u001b[1G88.7 MiB [] 19% 1.1s\u001b[0K\u001b[1G88.7 MiB [] 21% 1.1s\u001b[0K\u001b[1G88.7 MiB [] 23% 1.0s\u001b[0K\u001b[1G88.7 MiB [] 25% 1.0s\u001b[0K\u001b[1G88.7 MiB [] 27% 0.9s\u001b[0K\u001b[1G88.7 MiB [] 29% 0.9s\u001b[0K\u001b[1G88.7 MiB [] 31% 0.8s\u001b[0K\u001b[1G88.7 MiB [] 33% 0.8s\u001b[0K\u001b[1G88.7 MiB [] 35% 0.8s\u001b[0K\u001b[1G88.7 MiB [] 36% 0.7s\u001b[0K\u001b[1G88.7 MiB [] 37% 0.7s\u001b[0K\u001b[1G88.7 MiB [] 39% 0.7s\u001b[0K\u001b[1G88.7 MiB [] 42% 0.6s\u001b[0K\u001b[1G88.7 MiB [] 42% 0.7s\u001b[0K\u001b[1G88.7 MiB [] 44% 0.6s\u001b[0K\u001b[1G88.7 MiB [] 46% 0.6s\u001b[0K\u001b[1G88.7 MiB [] 49% 0.6s\u001b[0K\u001b[1G88.7 MiB [] 51% 0.5s\u001b[0K\u001b[1G88.7 MiB [] 53% 0.5s\u001b[0K\u001b[1G88.7 MiB [] 55% 0.5s\u001b[0K\u001b[1G88.7 MiB [] 57% 0.4s\u001b[0K\u001b[1G88.7 MiB [] 59% 0.4s\u001b[0K\u001b[1G88.7 MiB [] 62% 0.4s\u001b[0K\u001b[1G88.7 MiB [] 64% 0.4s\u001b[0K\u001b[1G88.7 MiB [] 66% 0.3s\u001b[0K\u001b[1G88.7 MiB [] 68% 0.3s\u001b[0K\u001b[1G88.7 MiB [] 70% 0.3s\u001b[0K\u001b[1G88.7 MiB [] 73% 0.3s\u001b[0K\u001b[1G88.7 MiB [] 74% 0.2s\u001b[0K\u001b[1G88.7 MiB [] 77% 0.2s\u001b[0K\u001b[1G88.7 MiB [] 79% 0.2s\u001b[0K\u001b[1G88.7 MiB [] 82% 0.2s\u001b[0K\u001b[1G88.7 MiB [] 83% 0.2s\u001b[0K\u001b[1G88.7 MiB [] 86% 0.1s\u001b[0K\u001b[1G88.7 MiB [] 88% 0.1s\u001b[0K\u001b[1G88.7 MiB [] 90% 0.1s\u001b[0K\u001b[1G88.7 MiB [] 93% 0.1s\u001b[0K\u001b[1G88.7 MiB [] 95% 0.0s\u001b[0K\u001b[1G88.7 MiB [] 99% 0.0s\u001b[0K\u001b[1G88.7 MiB [] 100% 0.0s\u001b[0K\n",
            "Firefox 134.0 (playwright build v1471) downloaded to /root/.cache/ms-playwright/firefox-1471\n",
            "Downloading Webkit 18.2 (playwright build v2123)\u001b[2m from https://cdn.playwright.dev/dbazure/download/playwright/builds/webkit/2123/webkit-ubuntu-22.04.zip\u001b[22m\n",
            "\u001b[1G89.2 MiB [] 0% 0.0s\u001b[0K\u001b[1G89.2 MiB [] 0% 28.8s\u001b[0K\u001b[1G89.2 MiB [] 0% 14.5s\u001b[0K\u001b[1G89.2 MiB [] 0% 9.4s\u001b[0K\u001b[1G89.2 MiB [] 1% 5.2s\u001b[0K\u001b[1G89.2 MiB [] 2% 3.1s\u001b[0K\u001b[1G89.2 MiB [] 4% 2.3s\u001b[0K\u001b[1G89.2 MiB [] 5% 1.9s\u001b[0K\u001b[1G89.2 MiB [] 7% 1.6s\u001b[0K\u001b[1G89.2 MiB [] 9% 1.4s\u001b[0K\u001b[1G89.2 MiB [] 11% 1.3s\u001b[0K\u001b[1G89.2 MiB [] 11% 1.4s\u001b[0K\u001b[1G89.2 MiB [] 12% 1.3s\u001b[0K\u001b[1G89.2 MiB [] 14% 1.2s\u001b[0K\u001b[1G89.2 MiB [] 15% 1.2s\u001b[0K\u001b[1G89.2 MiB [] 17% 1.2s\u001b[0K\u001b[1G89.2 MiB [] 18% 1.2s\u001b[0K\u001b[1G89.2 MiB [] 20% 1.1s\u001b[0K\u001b[1G89.2 MiB [] 22% 1.1s\u001b[0K\u001b[1G89.2 MiB [] 23% 1.1s\u001b[0K\u001b[1G89.2 MiB [] 24% 1.1s\u001b[0K\u001b[1G89.2 MiB [] 25% 1.0s\u001b[0K\u001b[1G89.2 MiB [] 27% 1.0s\u001b[0K\u001b[1G89.2 MiB [] 29% 0.9s\u001b[0K\u001b[1G89.2 MiB [] 32% 0.9s\u001b[0K\u001b[1G89.2 MiB [] 34% 0.8s\u001b[0K\u001b[1G89.2 MiB [] 36% 0.8s\u001b[0K\u001b[1G89.2 MiB [] 38% 0.7s\u001b[0K\u001b[1G89.2 MiB [] 40% 0.7s\u001b[0K\u001b[1G89.2 MiB [] 42% 0.7s\u001b[0K\u001b[1G89.2 MiB [] 44% 0.6s\u001b[0K\u001b[1G89.2 MiB [] 47% 0.6s\u001b[0K\u001b[1G89.2 MiB [] 49% 0.6s\u001b[0K\u001b[1G89.2 MiB [] 52% 0.5s\u001b[0K\u001b[1G89.2 MiB [] 54% 0.5s\u001b[0K\u001b[1G89.2 MiB [] 56% 0.5s\u001b[0K\u001b[1G89.2 MiB [] 58% 0.4s\u001b[0K\u001b[1G89.2 MiB [] 60% 0.4s\u001b[0K\u001b[1G89.2 MiB [] 62% 0.4s\u001b[0K\u001b[1G89.2 MiB [] 65% 0.4s\u001b[0K\u001b[1G89.2 MiB [] 67% 0.3s\u001b[0K\u001b[1G89.2 MiB [] 69% 0.3s\u001b[0K\u001b[1G89.2 MiB [] 71% 0.3s\u001b[0K\u001b[1G89.2 MiB [] 74% 0.3s\u001b[0K\u001b[1G89.2 MiB [] 75% 0.2s\u001b[0K\u001b[1G89.2 MiB [] 77% 0.2s\u001b[0K\u001b[1G89.2 MiB [] 79% 0.2s\u001b[0K\u001b[1G89.2 MiB [] 81% 0.2s\u001b[0K\u001b[1G89.2 MiB [] 83% 0.2s\u001b[0K\u001b[1G89.2 MiB [] 84% 0.2s\u001b[0K\u001b[1G89.2 MiB [] 85% 0.1s\u001b[0K\u001b[1G89.2 MiB [] 87% 0.1s\u001b[0K\u001b[1G89.2 MiB [] 88% 0.1s\u001b[0K\u001b[1G89.2 MiB [] 90% 0.1s\u001b[0K\u001b[1G89.2 MiB [] 91% 0.1s\u001b[0K\u001b[1G89.2 MiB [] 93% 0.1s\u001b[0K\u001b[1G89.2 MiB [] 94% 0.1s\u001b[0K\u001b[1G89.2 MiB [] 96% 0.0s\u001b[0K\u001b[1G89.2 MiB [] 98% 0.0s\u001b[0K\u001b[1G89.2 MiB [] 100% 0.0s\u001b[0K\n",
            "Webkit 18.2 (playwright build v2123) downloaded to /root/.cache/ms-playwright/webkit-2123\n",
            "Downloading FFMPEG playwright build v1011\u001b[2m from https://cdn.playwright.dev/dbazure/download/playwright/builds/ffmpeg/1011/ffmpeg-linux.zip\u001b[22m\n",
            "\u001b[1G2.3 MiB [] 0% 0.0s\u001b[0K\u001b[1G2.3 MiB [] 2% 0.7s\u001b[0K\u001b[1G2.3 MiB [] 10% 0.3s\u001b[0K\u001b[1G2.3 MiB [] 22% 0.2s\u001b[0K\u001b[1G2.3 MiB [] 44% 0.1s\u001b[0K\u001b[1G2.3 MiB [] 89% 0.0s\u001b[0K\u001b[1G2.3 MiB [] 100% 0.0s\u001b[0K\n",
            "FFMPEG playwright build v1011 downloaded to /root/.cache/ms-playwright/ffmpeg-1011\n",
            "Playwright Host validation warning: \n",
            "╔══════════════════════════════════════════════════════╗\n",
            "║ Host system is missing dependencies to run browsers. ║\n",
            "║ Missing libraries:                                   ║\n",
            "║     libgtk-4.so.1                                    ║\n",
            "║     libgraphene-1.0.so.0                             ║\n",
            "║     libwoff2dec.so.1.0.2                             ║\n",
            "║     libgstgl-1.0.so.0                                ║\n",
            "║     libgstcodecparsers-1.0.so.0                      ║\n",
            "║     libavif.so.13                                    ║\n",
            "║     libharfbuzz-icu.so.0                             ║\n",
            "║     libenchant-2.so.2                                ║\n",
            "║     libsecret-1.so.0                                 ║\n",
            "║     libhyphen.so.0                                   ║\n",
            "║     libmanette-0.2.so.0                              ║\n",
            "╚══════════════════════════════════════════════════════╝\n",
            "    at validateDependenciesLinux (/usr/local/lib/python3.11/dist-packages/playwright/driver/package/lib/server/registry/dependencies.js:216:9)\n",
            "\u001b[90m    at process.processTicksAndRejections (node:internal/process/task_queues:105:5)\u001b[39m\n",
            "    at async Registry._validateHostRequirements (/usr/local/lib/python3.11/dist-packages/playwright/driver/package/lib/server/registry/index.js:865:43)\n",
            "    at async Registry._validateHostRequirementsForExecutableIfNeeded (/usr/local/lib/python3.11/dist-packages/playwright/driver/package/lib/server/registry/index.js:963:7)\n",
            "    at async Registry.validateHostRequirementsForExecutablesIfNeeded (/usr/local/lib/python3.11/dist-packages/playwright/driver/package/lib/server/registry/index.js:952:43)\n",
            "    at async t.<anonymous> (/usr/local/lib/python3.11/dist-packages/playwright/driver/package/lib/cli/program.js:122:7)\n"
          ]
        }
      ]
    },
    {
      "cell_type": "code",
      "source": [
        "!pip install \"anyio<4\""
      ],
      "metadata": {
        "id": "c22h0vpez15c"
      },
      "execution_count": null,
      "outputs": []
    },
    {
      "cell_type": "code",
      "source": [
        "import nest_asyncio\n",
        "\n",
        "nest_asyncio.apply()"
      ],
      "metadata": {
        "id": "Qu-ugnzfz3-p"
      },
      "execution_count": 5,
      "outputs": []
    },
    {
      "cell_type": "markdown",
      "source": [
        "### **API Key Setup 🔑✨**\n",
        "\n",
        "\n",
        "\n",
        "\n",
        "\n",
        "\n"
      ],
      "metadata": {
        "id": "meq9Pp606Jcp"
      }
    },
    {
      "cell_type": "code",
      "source": [
        "from langchain_openai import ChatOpenAI\n",
        "from google.colab import userdata\n",
        "import os\n",
        "\n",
        "\n",
        "os.environ['OPENAI_API_KEY'] = userdata.get('OPENAI_API_KEY')\n",
        "llm = ChatOpenAI(model=\"gpt-4o-mini\", temperature=0, api_key=userdata.get('OPENAI_API_KEY'))"
      ],
      "metadata": {
        "id": "8FXfsNSKz6PW"
      },
      "execution_count": 6,
      "outputs": []
    },
    {
      "cell_type": "code",
      "source": [
        "llm.invoke(\"hi\")"
      ],
      "metadata": {
        "colab": {
          "base_uri": "https://localhost:8080/"
        },
        "id": "PbBRAOlnz8H6",
        "outputId": "d98ff5b1-5d48-4b07-c00d-c62f589510b0"
      },
      "execution_count": 7,
      "outputs": [
        {
          "output_type": "execute_result",
          "data": {
            "text/plain": [
              "AIMessage(content='Hello! How can I assist you today?', additional_kwargs={'refusal': None}, response_metadata={'token_usage': {'completion_tokens': 10, 'prompt_tokens': 8, 'total_tokens': 18, 'completion_tokens_details': {'accepted_prediction_tokens': 0, 'audio_tokens': 0, 'reasoning_tokens': 0, 'rejected_prediction_tokens': 0}, 'prompt_tokens_details': {'audio_tokens': 0, 'cached_tokens': 0}}, 'model_name': 'gpt-4o-mini-2024-07-18', 'system_fingerprint': 'fp_13eed4fce1', 'finish_reason': 'stop', 'logprobs': None}, id='run-90516c70-78d4-4449-8920-8719470b2ac0-0', usage_metadata={'input_tokens': 8, 'output_tokens': 10, 'total_tokens': 18, 'input_token_details': {'audio': 0, 'cache_read': 0}, 'output_token_details': {'audio': 0, 'reasoning': 0}})"
            ]
          },
          "metadata": {},
          "execution_count": 7
        }
      ]
    },
    {
      "cell_type": "markdown",
      "source": [
        "### **Browser-Use Agent with OpenAI 🤖🌐**\n",
        "\n",
        "\n",
        "\n",
        "\n",
        "\n",
        "\n"
      ],
      "metadata": {
        "id": "R5k37lXy6Rcf"
      }
    },
    {
      "cell_type": "code",
      "source": [
        "from browser_use import Agent, Browser\n",
        "from browser_use import BrowserConfig\n",
        "from langchain_openai import ChatOpenAI\n",
        "import asyncio\n",
        "\n",
        "config = BrowserConfig(\n",
        "    headless=True,\n",
        ")\n",
        "\n",
        "browser = Browser(config=config)\n",
        "\n",
        "async def main():\n",
        "    agent = Agent(\n",
        "        task=\"What is Langgraph\",\n",
        "        llm=llm,\n",
        "        browser=browser,\n",
        "        generate_gif=False\n",
        "    )\n",
        "\n",
        "\n",
        "    result = await agent.run()\n",
        "\n",
        "    for action in result.action_results():\n",
        "      print(action.extracted_content,end=\"\\r\",flush=True)\n",
        "      print(\"\\n\\n\")\n",
        "\n",
        "    await browser.close()\n",
        "\n",
        "asyncio.run(main())"
      ],
      "metadata": {
        "id": "p6-DCFE93F_Q"
      },
      "execution_count": null,
      "outputs": []
    },
    {
      "cell_type": "markdown",
      "source": [
        "### **Browser Automation with LangChain and Playwright 🤖🌍**\n",
        "\n",
        "\n",
        "\n",
        "\n",
        "\n",
        "\n"
      ],
      "metadata": {
        "id": "_RRW4By66iLv"
      }
    },
    {
      "cell_type": "code",
      "source": [
        "from browser_use import Agent, Browser\n",
        "from playwright.async_api import BrowserContext\n",
        "from browser_use import BrowserConfig\n",
        "from langchain_openai import ChatOpenAI\n",
        "import asyncio\n",
        "\n",
        "\n",
        "config = BrowserConfig(\n",
        "    headless=True,\n",
        "\n",
        ")\n",
        "\n",
        "browser = Browser(config=config)\n",
        "\n",
        "agent = Agent(\n",
        "      task=\"what is langchain\",\n",
        "      llm=llm,\n",
        "      browser=browser,\n",
        "      generate_gif = False\n",
        "  )\n",
        "\n",
        "result = await agent.run()\n",
        "print(result)\n",
        "\n",
        "await browser.close()"
      ],
      "metadata": {
        "colab": {
          "base_uri": "https://localhost:8080/"
        },
        "id": "DpznTY4uz-ql",
        "outputId": "aa979234-5587-4412-d511-e302d116411e"
      },
      "execution_count": 9,
      "outputs": [
        {
          "output_type": "stream",
          "name": "stdout",
          "text": [
            "AgentHistoryList(all_results=[ActionResult(is_done=False, extracted_content='🔍  Searched for \"what is LangChain\" in Google', error=None, include_in_memory=True), ActionResult(is_done=True, extracted_content='LangChain is a composable framework to build applications with large language models (LLMs). It provides tools for AI developers to connect language models with external data sources and is open-source with community support.', error=None, include_in_memory=False)], all_model_outputs=[{'search_google': {'query': 'what is LangChain'}, 'interacted_element': None}, {'done': {'text': 'LangChain is a composable framework to build applications with large language models (LLMs). It provides tools for AI developers to connect language models with external data sources and is open-source with community support.'}, 'interacted_element': None}])\n"
          ]
        }
      ]
    },
    {
      "cell_type": "markdown",
      "source": [
        "### **Extracting Action Results from Browser Agent 🧠💻**\n",
        "\n",
        "\n",
        "\n",
        "\n",
        "\n",
        "\n"
      ],
      "metadata": {
        "id": "r1gPMeDy6mC2"
      }
    },
    {
      "cell_type": "code",
      "source": [
        "for action in result.action_results():\n",
        "  if action.is_done:\n",
        "    print(action.extracted_content)"
      ],
      "metadata": {
        "colab": {
          "base_uri": "https://localhost:8080/"
        },
        "id": "BruMdEQg3f3f",
        "outputId": "08147d4a-23fb-404e-c822-972d28d1405c"
      },
      "execution_count": 10,
      "outputs": [
        {
          "output_type": "stream",
          "name": "stdout",
          "text": [
            "LangChain is a composable framework to build applications with large language models (LLMs). It provides tools for AI developers to connect language models with external data sources and is open-source with community support.\n"
          ]
        }
      ]
    },
    {
      "cell_type": "markdown",
      "source": [
        "### **Running Browser Agent with Task Query 🤖🌐**\n",
        "\n",
        "\n",
        "\n",
        "\n",
        "\n",
        "\n"
      ],
      "metadata": {
        "id": "iEJ9zN146qRA"
      }
    },
    {
      "cell_type": "code",
      "source": [
        "agent = Agent(\n",
        "      task=\"what is buildfastwithai\",\n",
        "      llm=llm,\n",
        "      browser=browser,\n",
        "      generate_gif = False\n",
        "  )\n",
        "\n",
        "result = await agent.run()\n",
        "print(result)\n",
        "\n",
        "await browser.close()"
      ],
      "metadata": {
        "colab": {
          "base_uri": "https://localhost:8080/"
        },
        "id": "aDB-iFR64MSu",
        "outputId": "91eacd04-f69c-4593-acc3-2edbbd8cc7fc"
      },
      "execution_count": 11,
      "outputs": [
        {
          "output_type": "stream",
          "name": "stdout",
          "text": [
            "AgentHistoryList(all_results=[ActionResult(is_done=False, extracted_content='🔍  Searched for \"buildfastwithai\" in Google', error=None, include_in_memory=True), ActionResult(is_done=False, extracted_content='📄  Extracted from page\\n: ```json\\n{\\n  \"BuildFastWithAI\": {\\n    \"Purpose\": \"Build Fast with AI helps professionals and businesses rapidly implement Generative AI through practical, hands-on education and consulting.\",\\n    \"Services\": [\\n      \"Gen AI Bootcamp\",\\n      \"Free Workshops\",\\n      \"AI Corporate Consultancy\"\\n    ],\\n    \"FoundedBy\": \"IIT Delhi alumni\",\\n    \"Links\": {\\n      \"Website\": \"https://buildfastwithai.com\",\\n      \"YouTube\": \"https://www.youtube.com/@buildfastwithai\",\\n      \"LinkedIn\": \"https://in.linkedin.com/company/build-fast-with-ai\",\\n      \"Instagram\": \"https://www.instagram.com/buildfastwithai/\",\\n      \"Twitter\": \"https://x.com/buildfastwithai\",\\n      \"Meetup\": \"https://www.meetup.com/build-fast-with-ai-meetup-group/\",\\n      \"GitHub\": \"https://github.com/buildfastwithai\",\\n      \"Internshala\": \"https://internshala.com/company/build-fast-with-ai-1722357042\"\\n    }\\n  }\\n}\\n```\\n', error=None, include_in_memory=True), ActionResult(is_done=True, extracted_content='Build Fast with AI helps professionals and businesses rapidly implement Generative AI through practical, hands-on education and consulting. Services include Gen AI Bootcamp, Free Workshops, and AI Corporate Consultancy. Founded by IIT Delhi alumni. Relevant links: Website - https://buildfastwithai.com, YouTube - https://www.youtube.com/@buildfastwithai, LinkedIn - https://in.linkedin.com/company/build-fast-with-ai, Instagram - https://www.instagram.com/buildfastwithai/, Twitter - https://x.com/buildfastwithai, Meetup - https://www.meetup.com/build-fast-with-ai-meetup-group/, GitHub - https://github.com/buildfastwithai, Internshala - https://internshala.com/company/build-fast-with-ai-1722357042.', error=None, include_in_memory=False)], all_model_outputs=[{'search_google': {'query': 'buildfastwithai'}, 'interacted_element': None}, {'extract_content': {'goal': \"Retrieve detailed information about 'Build Fast with AI', including its purpose, services, and any relevant links.\"}, 'interacted_element': None}, {'done': {'text': 'Build Fast with AI helps professionals and businesses rapidly implement Generative AI through practical, hands-on education and consulting. Services include Gen AI Bootcamp, Free Workshops, and AI Corporate Consultancy. Founded by IIT Delhi alumni. Relevant links: Website - https://buildfastwithai.com, YouTube - https://www.youtube.com/@buildfastwithai, LinkedIn - https://in.linkedin.com/company/build-fast-with-ai, Instagram - https://www.instagram.com/buildfastwithai/, Twitter - https://x.com/buildfastwithai, Meetup - https://www.meetup.com/build-fast-with-ai-meetup-group/, GitHub - https://github.com/buildfastwithai, Internshala - https://internshala.com/company/build-fast-with-ai-1722357042.'}, 'interacted_element': None}])\n"
          ]
        }
      ]
    },
    {
      "cell_type": "markdown",
      "source": [
        "### **Extracting Completed Action Results 📝✅**\n",
        "\n",
        "\n",
        "\n",
        "\n",
        "\n",
        "\n"
      ],
      "metadata": {
        "id": "DEfkNmoJ6vXC"
      }
    },
    {
      "cell_type": "code",
      "source": [
        "for action in result.action_results():\n",
        "  if action.is_done:\n",
        "    print(action.extracted_content)"
      ],
      "metadata": {
        "colab": {
          "base_uri": "https://localhost:8080/"
        },
        "id": "a1QdYmup4sgh",
        "outputId": "8f7a7150-316e-4e57-d066-712876a58f37"
      },
      "execution_count": 12,
      "outputs": [
        {
          "output_type": "stream",
          "name": "stdout",
          "text": [
            "Build Fast with AI helps professionals and businesses rapidly implement Generative AI through practical, hands-on education and consulting. Services include Gen AI Bootcamp, Free Workshops, and AI Corporate Consultancy. Founded by IIT Delhi alumni. Relevant links: Website - https://buildfastwithai.com, YouTube - https://www.youtube.com/@buildfastwithai, LinkedIn - https://in.linkedin.com/company/build-fast-with-ai, Instagram - https://www.instagram.com/buildfastwithai/, Twitter - https://x.com/buildfastwithai, Meetup - https://www.meetup.com/build-fast-with-ai-meetup-group/, GitHub - https://github.com/buildfastwithai, Internshala - https://internshala.com/company/build-fast-with-ai-1722357042.\n"
          ]
        }
      ]
    },
    {
      "cell_type": "markdown",
      "source": [
        "### **Integrating Gemini with Browser-Use 🤖🌐**\n",
        "\n",
        "\n",
        "\n",
        "\n",
        "\n",
        "\n"
      ],
      "metadata": {
        "id": "ax4KZeAO8Vo8"
      }
    },
    {
      "cell_type": "code",
      "source": [
        "from langchain_google_genai import ChatGoogleGenerativeAI\n",
        "from google.colab import userdata\n",
        "import os\n",
        "\n",
        "llm = ChatGoogleGenerativeAI(model=\"gemini-2.0-flash\", temperature=0, google_api_key=userdata.get('GOOGLE_API_KEY'))"
      ],
      "metadata": {
        "id": "hIfb0HGy6ySS"
      },
      "execution_count": 13,
      "outputs": []
    },
    {
      "cell_type": "markdown",
      "source": [
        "### **Running Browser Agent with Gemini for News Headlines 📰🤖**"
      ],
      "metadata": {
        "id": "iTCm_A-W9AYv"
      }
    },
    {
      "cell_type": "code",
      "source": [
        "agent = Agent(\n",
        "      task=\"Find me the top 5 news headlines.\",\n",
        "      llm=llm,\n",
        "      browser=browser,\n",
        "      generate_gif = False\n",
        "  )\n",
        "\n",
        "result = await agent.run()\n",
        "print(result)\n",
        "\n",
        "await browser.close()"
      ],
      "metadata": {
        "colab": {
          "base_uri": "https://localhost:8080/"
        },
        "id": "54_IMeOc7YcG",
        "outputId": "c88e3de8-d86f-4f68-a719-25a18b40d0fd"
      },
      "execution_count": 18,
      "outputs": [
        {
          "output_type": "stream",
          "name": "stdout",
          "text": [
            "AgentHistoryList(all_results=[ActionResult(is_done=False, extracted_content='🔍  Searched for \"top 5 news headlines\" in Google', error=None, include_in_memory=True), ActionResult(is_done=False, extracted_content='📄  Extracted from page\\n: ```json\\n{\\n  \"news_headlines\": [\\n    \"U.S. News & World Report: Top News\",\\n    \"CNN: Breaking News, Latest News and Videos\",\\n    \"Fox News - Breaking News Updates | Latest News Headlines ...\",\\n    \"NPR: U.S. and World News Headlines\",\\n    \"NBC News - Breaking News & Top Stories - Latest World, US ...\"\\n  ]\\n}\\n```\\n', error=None, include_in_memory=True), ActionResult(is_done=True, extracted_content='The top 5 news headlines are:\\n1. U.S. News & World Report: Top News\\n2. CNN: Breaking News, Latest News and Videos\\n3. Fox News - Breaking News Updates | Latest News Headlines ...\\n4. NPR: U.S. and World News Headlines\\n5. NBC News - Breaking News & Top Stories - Latest World, US ...', error=None, include_in_memory=False)], all_model_outputs=[{'search_google': {'query': 'top 5 news headlines'}, 'interacted_element': None}, {'extract_content': {'goal': 'Extract the top 5 news headlines from the search results.'}, 'interacted_element': None}, {'done': {'text': 'The top 5 news headlines are:\\n1. U.S. News & World Report: Top News\\n2. CNN: Breaking News, Latest News and Videos\\n3. Fox News - Breaking News Updates | Latest News Headlines ...\\n4. NPR: U.S. and World News Headlines\\n5. NBC News - Breaking News & Top Stories - Latest World, US ...'}, 'interacted_element': None}])\n"
          ]
        }
      ]
    },
    {
      "cell_type": "code",
      "source": [
        "for action in result.action_results():\n",
        "  if action.is_done:\n",
        "    print(action.extracted_content)"
      ],
      "metadata": {
        "colab": {
          "base_uri": "https://localhost:8080/"
        },
        "id": "ralAJ_Mk8ktZ",
        "outputId": "b79ec6ff-639b-4808-ba51-756f9639e861"
      },
      "execution_count": 19,
      "outputs": [
        {
          "output_type": "stream",
          "name": "stdout",
          "text": [
            "The top 5 news headlines are:\n",
            "1. U.S. News & World Report: Top News\n",
            "2. CNN: Breaking News, Latest News and Videos\n",
            "3. Fox News - Breaking News Updates | Latest News Headlines ...\n",
            "4. NPR: U.S. and World News Headlines\n",
            "5. NBC News - Breaking News & Top Stories - Latest World, US ...\n"
          ]
        }
      ]
    }
  ]
}