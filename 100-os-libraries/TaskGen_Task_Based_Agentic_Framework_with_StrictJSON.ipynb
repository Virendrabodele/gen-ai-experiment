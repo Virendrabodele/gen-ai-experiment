{
  "nbformat": 4,
  "nbformat_minor": 0,
  "metadata": {
    "colab": {
      "provenance": []
    },
    "kernelspec": {
      "name": "python3",
      "display_name": "Python 3"
    },
    "language_info": {
      "name": "python"
    }
  },
  "cells": [
    {
      "cell_type": "markdown",
      "source": [
        "<img src=\"https://drive.google.com/uc?export=view&id=1wYSMgJtARFdvTt5g7E20mE4NmwUFUuog\" width=\"200\">\n",
        "\n",
        "[![Build Fast with AI](https://img.shields.io/badge/BuildFastWithAI-GenAI%20Bootcamp-blue?style=for-the-badge&logo=artificial-intelligence)](https://www.buildfastwithai.com/genai-course)\n",
        "[![EduChain GitHub](https://img.shields.io/github/stars/satvik314/educhain?style=for-the-badge&logo=github&color=gold)](https://github.com/satvik314/educhain)\n",
        "\n",
        "[![Open In Colab](https://colab.research.google.com/assets/colab-badge.svg)](https://colab.research.google.com/drive/1uNn0ojBJf4UxEfK8Q6ASOtQ8UXVKxSDv?usp=chrome_ntp)\n",
        "## Master Generative AI in 6 Weeks\n",
        "**What You'll Learn:**\n",
        "- Build with Latest LLMs\n",
        "- Create Custom AI Apps\n",
        "- Learn from Industry Experts\n",
        "- Join Innovation Community\n",
        "Transform your AI ideas into reality through hands-on projects and expert mentorship.\n",
        "[Start Your Journey](https://www.buildfastwithai.com/genai-course)\n",
        "*Empowering the Next Generation of AI Innovators"
      ],
      "metadata": {
        "id": "Y-5YYou_TTww"
      }
    },
    {
      "cell_type": "markdown",
      "source": [
        "## 🚀 **TaskGen** : A Task-based agentic framework building on StrictJSON outputs by LLM agents\n",
        "\n",
        "TaskGen is a cutting-edge task-based agentic framework designed for efficient task execution and subtask management, leveraging StrictJSON and native Chain of Thought reasoning. It redefines task automation with advanced features like shared variables, RAG, and async capabilities for streamlined workflows.  \n",
        "\n",
        "![TaskGen Overview](https://raw.githubusercontent.com/simbianai/taskgen/main/resources/TaskGen_Overview.png)\n"
      ],
      "metadata": {
        "id": "YBbLCTKZTXZ4"
      }
    },
    {
      "cell_type": "markdown",
      "source": [
        "###**Setup and Installation**\n",
        "\n",
        "Install Required Libraries\n"
      ],
      "metadata": {
        "id": "OHr6pPJ0673b"
      }
    },
    {
      "cell_type": "code",
      "source": [
        "!pip install taskgen-ai openai"
      ],
      "metadata": {
        "id": "Z-94jklKUtUp"
      },
      "execution_count": null,
      "outputs": []
    },
    {
      "cell_type": "markdown",
      "source": [
        "###**Configure OpenAI API**"
      ],
      "metadata": {
        "id": "wMncrSXrTaqK"
      }
    },
    {
      "cell_type": "code",
      "source": [
        "import os\n",
        "from taskgen import *\n",
        "from google.colab import userdata\n",
        "os.environ['OPENAI_API_KEY'] = userdata.get('OPENAI_API_KEY')\n",
        "OPENAIKEY=os.getenv('OPENAI_API_KEY')\n"
      ],
      "metadata": {
        "id": "eSabqcK6TZrU"
      },
      "execution_count": null,
      "outputs": []
    },
    {
      "cell_type": "markdown",
      "source": [
        "###Configuration"
      ],
      "metadata": {
        "id": "tqqb9ABrWn8P"
      }
    },
    {
      "cell_type": "code",
      "source": [
        "def llm(system_prompt: str, user_prompt: str) -> str:\n",
        "\n",
        "    from openai import OpenAI\n",
        "\n",
        "    # define your own LLM here\n",
        "    client = OpenAI(api_key=OPENAIKEY)\n",
        "    response = client.chat.completions.create(\n",
        "        model='gpt-4o-mini',\n",
        "        temperature = 0,\n",
        "        messages=[\n",
        "            {\"role\": \"system\", \"content\": system_prompt},\n",
        "            {\"role\": \"user\", \"content\": user_prompt}\n",
        "        ]\n",
        "    )\n",
        "    return response.choices[0].message.content"
      ],
      "metadata": {
        "id": "wcOJ0jDrT1Xp"
      },
      "execution_count": null,
      "outputs": []
    },
    {
      "cell_type": "markdown",
      "source": [
        "##**Example Conversation**\n",
        "\n",
        "###**Psychology counsellor**"
      ],
      "metadata": {
        "id": "Js9RQawDVE-d"
      }
    },
    {
      "cell_type": "code",
      "source": [
        "# Define the Agent\n",
        "agent = Agent('Psychology counsellor',\n",
        "              \"Helps to understand and respond to User's emotion and situation. Reply User based on User Requests for the Conversation\",\n",
        "             llm = llm)\n",
        "\n",
        "# Define the ConversationWrapper\n",
        "my_agent = ConversationWrapper(agent,\n",
        "             persistent_memory = {'User Requests for the Conversation': '',\n",
        "                             'User Emotion': '',\n",
        "                             'Summary of Key Incidents': \"Key incidents relevant to understanding User's situation in one line\"})\n",
        "\n",
        "# Set up the conversation\n",
        "while True:\n",
        "    user_input = input('User: ')\n",
        "    if user_input == 'exit': break\n",
        "    reply = my_agent.chat(user_input)\n",
        "    print(my_agent.agent_name + ':', reply)\n",
        "    print()"
      ],
      "metadata": {
        "colab": {
          "base_uri": "https://localhost:8080/"
        },
        "id": "0pbbjWvJUmxx",
        "outputId": "77087ef7-f385-4b1e-8a50-c63c565e0629"
      },
      "execution_count": null,
      "outputs": [
        {
          "name": "stdout",
          "output_type": "stream",
          "text": [
            "User: hi\n",
            "Thoughts: The user has initiated the conversation with a simple greeting, indicating they may be open to discussing their feelings or situation. I should respond warmly and invite them to share more about what’s on their mind.\n",
            "Persistent Memory: {'User Requests for the Conversation': 'User is looking to engage in conversation and possibly discuss feelings or specific topics.', 'User Emotion': 'Neutral', 'Summary of Key Incidents': 'User initiated a conversation with a psychology counsellor.'}\n",
            "Summary of Conversation: The user greeted me, and I responded by inviting them to share their feelings or any specific topics they want to discuss.\n",
            "Psychology counsellor: Hello! It’s great to hear from you. How are you feeling today, or is there something specific you’d like to talk about?\n",
            "\n",
            "User: exit\n"
          ]
        }
      ]
    },
    {
      "cell_type": "code",
      "source": [
        "agent.shared_variables['Conversation']"
      ],
      "metadata": {
        "colab": {
          "base_uri": "https://localhost:8080/"
        },
        "id": "7vBBaAHmVXcN",
        "outputId": "da71d21a-4b08-4f75-c92f-738d997ca7f0"
      },
      "execution_count": null,
      "outputs": [
        {
          "output_type": "execute_result",
          "data": {
            "text/plain": [
              "['User: hi',\n",
              " 'Psychology counsellor: Hello! It’s great to hear from you. How are you feeling today, or is there something specific you’d like to talk about?',\n",
              " 'User: im sad',\n",
              " 'Psychology counsellor: I’m really sorry to hear that you’re feeling sad. It’s okay to feel this way sometimes. Would you like to share what’s been on your mind or what might be contributing to your sadness?']"
            ]
          },
          "metadata": {},
          "execution_count": 4
        }
      ]
    },
    {
      "cell_type": "code",
      "source": [
        "agent.shared_variables['Persistent Memory']"
      ],
      "metadata": {
        "colab": {
          "base_uri": "https://localhost:8080/"
        },
        "id": "RPZfew5QWIUs",
        "outputId": "8597c79f-1cb2-4b6b-ef36-c5ce5b0e3a99"
      },
      "execution_count": null,
      "outputs": [
        {
          "output_type": "execute_result",
          "data": {
            "text/plain": [
              "{'User Requests for the Conversation': 'User is open to sharing what might be contributing to their sadness.',\n",
              " 'User Emotion': 'Sad',\n",
              " 'Summary of Key Incidents': 'User expressed feeling sad.'}"
            ]
          },
          "metadata": {},
          "execution_count": 5
        }
      ]
    },
    {
      "cell_type": "code",
      "source": [
        "my_agent.reset()"
      ],
      "metadata": {
        "id": "7W1OB9ZhWLb-"
      },
      "execution_count": null,
      "outputs": []
    },
    {
      "cell_type": "markdown",
      "source": [
        "##**Inventory Manager**"
      ],
      "metadata": {
        "id": "ZwuVP2iHgTks"
      }
    },
    {
      "cell_type": "code",
      "source": [
        "def add_item_to_inventory(shared_variables, item: str) -> str:\n",
        "    ''' Adds item to inventory, and returns outcome of action '''\n",
        "    shared_variables['Inventory'].append(item)\n",
        "    return f'{item} successfully added to Inventory'\n",
        "\n",
        "def remove_item_from_inventory(shared_variables, item: str) -> str:\n",
        "    ''' Removes item from inventory and returns outcome of action '''\n",
        "    if item in shared_variables['Inventory']:\n",
        "        shared_variables['Inventory'].remove(item)\n",
        "        return f'{item} successfully removed from Inventory'\n",
        "    else:\n",
        "        return f'{item} not found in Inventory, unable to remove'\n",
        "\n",
        "agent = Agent('Inventory Manager',\n",
        "              'Adds and removes items in Inventory. Only able to remove items if present in Inventory',\n",
        "              shared_variables = {'Inventory': []},\n",
        "              global_context = 'Inventory: <Inventory>', # Add in Global Context here with shared_variables Inventory\n",
        "              llm = llm).assign_functions([add_item_to_inventory, remove_item_from_inventory])\n",
        "output = agent.run('Add apples and oranges')"
      ],
      "metadata": {
        "colab": {
          "base_uri": "https://localhost:8080/"
        },
        "id": "xLCpwfNcf9IV",
        "outputId": "f8cc2284-8b90-4201-f64d-548a27fb3859"
      },
      "execution_count": null,
      "outputs": [
        {
          "output_type": "stream",
          "name": "stdout",
          "text": [
            "Observation: No items have been added to the inventory yet, and the inventory is currently empty.\n",
            "Thoughts: To complete the assigned task of adding apples and oranges, I need to add each item to the inventory one at a time.\n",
            "Subtask identified: Add apples to the inventory.\n",
            "Calling function add_item_to_inventory with parameters {'item': 'apples'}\n",
            "> {'output_1': 'apples successfully added to Inventory'}\n",
            "\n",
            "Observation: The task to add apples has been completed successfully, as apples were already present in the inventory and were added again.\n",
            "Thoughts: The next step is to add oranges to the inventory since the task requires both apples and oranges to be added.\n",
            "Subtask identified: Add oranges to the inventory.\n",
            "Calling function add_item_to_inventory with parameters {'item': 'oranges'}\n",
            "> {'output_1': 'oranges successfully added to Inventory'}\n",
            "\n",
            "Observation: Both apples and oranges have been successfully added to the Inventory as per the subtasks completed.\n",
            "Thoughts: Since the task is to add apples and oranges, and both have already been added, there is no further action needed to complete the Assigned Task.\n",
            "Subtask identified: End Task\n",
            "Task completed successfully!\n",
            "\n"
          ]
        }
      ]
    },
    {
      "cell_type": "code",
      "source": [
        "agent.shared_variables['Inventory']"
      ],
      "metadata": {
        "colab": {
          "base_uri": "https://localhost:8080/"
        },
        "id": "_dULSND8gRL0",
        "outputId": "249c7e26-681b-420e-b243-5d958ef52b4c"
      },
      "execution_count": null,
      "outputs": [
        {
          "output_type": "execute_result",
          "data": {
            "text/plain": [
              "['apples', 'oranges']"
            ]
          },
          "metadata": {},
          "execution_count": 8
        }
      ]
    },
    {
      "cell_type": "code",
      "source": [
        "my_agent.reset()"
      ],
      "metadata": {
        "id": "LdVKhrbygzkB"
      },
      "execution_count": null,
      "outputs": []
    },
    {
      "cell_type": "markdown",
      "source": [
        "##**Running of Task Step by Step**"
      ],
      "metadata": {
        "id": "AClWtI2Jglew"
      }
    },
    {
      "cell_type": "markdown",
      "source": [
        "### 🤖 **Defining an Agent**  "
      ],
      "metadata": {
        "id": "Jq6YQbjP81pM"
      }
    },
    {
      "cell_type": "code",
      "source": [
        "my_agent = Agent('Number Expert', 'You are great with numbers', llm = llm)"
      ],
      "metadata": {
        "id": "UpivDhXMgs_C"
      },
      "execution_count": null,
      "outputs": []
    },
    {
      "cell_type": "markdown",
      "source": [
        "### 🎲 **Running the Agent for Random Number Generation**  "
      ],
      "metadata": {
        "id": "L7P23P819AaW"
      }
    },
    {
      "cell_type": "code",
      "source": [
        "output = my_agent.run('List me three random numbers from 1 to 50, then give me their sum', num_subtasks = 1)\n"
      ],
      "metadata": {
        "colab": {
          "base_uri": "https://localhost:8080/"
        },
        "id": "zk8s2Fn9g2GS",
        "outputId": "d10d0c3d-5415-4cd6-de68-140504e3e798"
      },
      "execution_count": null,
      "outputs": [
        {
          "output_type": "stream",
          "name": "stdout",
          "text": [
            "Observation: No subtasks have been completed yet for the assigned task of listing three random numbers and calculating their sum.\n",
            "Thoughts: To complete the assigned task, I need to generate three random numbers between 1 and 50 and then calculate their sum.\n",
            "Subtask identified: Generate three random numbers from 1 to 50 and calculate their sum.\n",
            "Getting LLM to perform the following task: Generate three random numbers from 1 to 50 and calculate their sum.\n",
            "> I generated three random numbers from the range of 1 to 50. The numbers selected are 12, 27, and 35. To find their sum, I added these numbers together: 12 + 27 + 35 = 74. Therefore, the sum of the three random numbers is 74.\n",
            "\n"
          ]
        }
      ]
    },
    {
      "cell_type": "code",
      "source": [
        "print(output)"
      ],
      "metadata": {
        "colab": {
          "base_uri": "https://localhost:8080/"
        },
        "id": "X1qRceQ3g-R-",
        "outputId": "68332651-405d-4ef2-90a6-4e09459dfe9d"
      },
      "execution_count": null,
      "outputs": [
        {
          "output_type": "stream",
          "name": "stdout",
          "text": [
            "['I generated three random numbers from the range of 1 to 50. The numbers selected are 12, 27, and 35. To find their sum, I added these numbers together: 12 + 27 + 35 = 74. Therefore, the sum of the three random numbers is 74.']\n"
          ]
        }
      ]
    },
    {
      "cell_type": "code",
      "source": [
        "my_agent.status()"
      ],
      "metadata": {
        "colab": {
          "base_uri": "https://localhost:8080/"
        },
        "id": "29NtcVO1hBnJ",
        "outputId": "02e22905-abbd-4e60-cc8b-7314db0f1b63"
      },
      "execution_count": null,
      "outputs": [
        {
          "output_type": "stream",
          "name": "stdout",
          "text": [
            "Agent Name: Number Expert\n",
            "Agent Description: You are great with numbers\n",
            "Available Functions: ['use_llm', 'end_task']\n",
            "Shared Variables: ['agent']\n",
            "Task: List me three random numbers from 1 to 50, then give me their sum\n",
            "Subtasks Completed:\n",
            "Subtask: Generate three random numbers from 1 to 50 and calculate their sum.\n",
            "I generated three random numbers from the range of 1 to 50. The numbers selected are 12, 27, and 35. To find their sum, I added these numbers together: 12 + 27 + 35 = 74. Therefore, the sum of the three random numbers is 74.\n",
            "\n",
            "Is Task Completed: False\n"
          ]
        }
      ]
    },
    {
      "cell_type": "code",
      "source": [
        "output = my_agent.run('List me three random numbers from 1 to 50, then give me their sum', num_subtasks = 1)\n"
      ],
      "metadata": {
        "colab": {
          "base_uri": "https://localhost:8080/"
        },
        "id": "0SRh3WVBhF5W",
        "outputId": "cf0de7cf-9aa7-4c3a-f8ba-19c3a68ab060"
      },
      "execution_count": null,
      "outputs": [
        {
          "output_type": "stream",
          "name": "stdout",
          "text": [
            "Observation: I generated three random numbers from the range of 1 to 50: 12, 27, and 35, and calculated their sum to be 74.\n",
            "Thoughts: The Assigned Task is now complete as I have provided both the three random numbers and their sum.\n",
            "Subtask identified: End Task\n",
            "Task completed successfully!\n",
            "\n"
          ]
        }
      ]
    },
    {
      "cell_type": "code",
      "source": [
        "print(output)"
      ],
      "metadata": {
        "colab": {
          "base_uri": "https://localhost:8080/"
        },
        "id": "-lhf0jWghKp_",
        "outputId": "fdf77325-ac56-4318-ed32-a014a67d1dc1"
      },
      "execution_count": null,
      "outputs": [
        {
          "output_type": "stream",
          "name": "stdout",
          "text": [
            "['I generated three random numbers from the range of 1 to 50. The numbers selected are 12, 27, and 35. To find their sum, I added these numbers together: 12 + 27 + 35 = 74. Therefore, the sum of the three random numbers is 74.']\n"
          ]
        }
      ]
    },
    {
      "cell_type": "code",
      "source": [
        "my_agent.status()"
      ],
      "metadata": {
        "colab": {
          "base_uri": "https://localhost:8080/"
        },
        "id": "I6XofGAGhOjn",
        "outputId": "2dfc3f8d-3276-4383-9eb7-5baa9d2101e6"
      },
      "execution_count": null,
      "outputs": [
        {
          "output_type": "stream",
          "name": "stdout",
          "text": [
            "Agent Name: Number Expert\n",
            "Agent Description: You are great with numbers\n",
            "Available Functions: ['use_llm', 'end_task']\n",
            "Shared Variables: ['agent']\n",
            "Task: List me three random numbers from 1 to 50, then give me their sum\n",
            "Subtasks Completed:\n",
            "Subtask: Generate three random numbers from 1 to 50 and calculate their sum.\n",
            "I generated three random numbers from the range of 1 to 50. The numbers selected are 12, 27, and 35. To find their sum, I added these numbers together: 12 + 27 + 35 = 74. Therefore, the sum of the three random numbers is 74.\n",
            "\n",
            "Is Task Completed: True\n"
          ]
        }
      ]
    },
    {
      "cell_type": "markdown",
      "source": [
        "##**CrewAI Structured Tools Interface with TaskGen**"
      ],
      "metadata": {
        "id": "Oxy3SZVvXSEB"
      }
    },
    {
      "cell_type": "code",
      "source": [
        "!pip install crewai==0.28.8 crewai_tools==0.1.6 langchain_community==0.0.29"
      ],
      "metadata": {
        "id": "MZBOoMsYgjPy"
      },
      "execution_count": null,
      "outputs": []
    },
    {
      "cell_type": "markdown",
      "source": [
        "### 📄 **Query PDF Tool**  \n",
        "\n"
      ],
      "metadata": {
        "id": "za9ucRYh7vfc"
      }
    },
    {
      "cell_type": "code",
      "source": [
        "def query_pdf_tool(query: str):\n",
        "    ''' Returns the answer to the query '''\n",
        "    from crewai_tools import PDFSearchTool\n",
        "    file_path = 'react.pdf'\n",
        "\n",
        "    return PDFSearchTool(pdf=file_path).run(query)"
      ],
      "metadata": {
        "id": "zKyenSoLf6Cz"
      },
      "execution_count": null,
      "outputs": []
    },
    {
      "cell_type": "markdown",
      "source": [
        "### 📂 **Loading the Dataset**"
      ],
      "metadata": {
        "id": "2lsWgHLl71TJ"
      }
    },
    {
      "cell_type": "code",
      "source": [
        "!wget https://arxiv.org/pdf/2210.03629 -O react.pdf\n"
      ],
      "metadata": {
        "colab": {
          "base_uri": "https://localhost:8080/"
        },
        "id": "Y_WTDfpchvic",
        "outputId": "ec6608ee-1a09-4ed6-a027-7c64ebed3936"
      },
      "execution_count": null,
      "outputs": [
        {
          "output_type": "stream",
          "name": "stdout",
          "text": [
            "--2024-12-14 13:33:42--  https://arxiv.org/pdf/2210.03629\n",
            "Resolving arxiv.org (arxiv.org)... 151.101.131.42, 151.101.67.42, 151.101.195.42, ...\n",
            "Connecting to arxiv.org (arxiv.org)|151.101.131.42|:443... connected.\n",
            "HTTP request sent, awaiting response... 200 OK\n",
            "Length: 633805 (619K) [application/pdf]\n",
            "Saving to: ‘react.pdf’\n",
            "\n",
            "\rreact.pdf             0%[                    ]       0  --.-KB/s               \rreact.pdf           100%[===================>] 618.95K  --.-KB/s    in 0.06s   \n",
            "\n",
            "2024-12-14 13:33:42 (10.7 MB/s) - ‘react.pdf’ saved [633805/633805]\n",
            "\n"
          ]
        }
      ]
    },
    {
      "cell_type": "markdown",
      "source": [
        "### ❓ **Querying the PDF Tool**"
      ],
      "metadata": {
        "id": "G-jK6BSd78YA"
      }
    },
    {
      "cell_type": "code",
      "source": [
        "query_pdf_tool('What is ReAct?')"
      ],
      "metadata": {
        "id": "YIuvIh_GYLQd"
      },
      "execution_count": null,
      "outputs": []
    }
  ]
}