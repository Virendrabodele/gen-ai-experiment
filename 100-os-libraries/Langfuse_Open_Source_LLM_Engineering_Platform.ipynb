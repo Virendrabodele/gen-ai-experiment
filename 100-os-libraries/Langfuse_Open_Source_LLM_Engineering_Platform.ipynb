{
  "nbformat": 4,
  "nbformat_minor": 0,
  "metadata": {
    "colab": {
      "provenance": []
    },
    "kernelspec": {
      "name": "python3",
      "display_name": "Python 3"
    },
    "language_info": {
      "name": "python"
    }
  },
  "cells": [
    {
      "cell_type": "markdown",
      "source": [
        "<img src=\"https://drive.google.com/uc?export=view&id=1wYSMgJtARFdvTt5g7E20mE4NmwUFUuog\" width=\"200\">\n",
        "\n",
        "[![Build Fast with AI](https://img.shields.io/badge/BuildFastWithAI-GenAI%20Bootcamp-blue?style=for-the-badge&logo=artificial-intelligence)](https://www.buildfastwithai.com/genai-course)\n",
        "[![EduChain GitHub](https://img.shields.io/github/stars/satvik314/educhain?style=for-the-badge&logo=github&color=gold)](https://github.com/satvik314/educhain)\n",
        "\n",
        "[![Open In Colab](https://colab.research.google.com/assets/colab-badge.svg)](https://colab.research.google.com/drive/1RfwJu531djZirKT9eygw-djgn8KnMqAr?usp=sharing)\n",
        "## Master Generative AI in 6 Weeks\n",
        "**What You'll Learn:**\n",
        "- Build with Latest LLMs\n",
        "- Create Custom AI Apps\n",
        "- Learn from Industry Experts\n",
        "- Join Innovation Community\n",
        "Transform your AI ideas into reality through hands-on projects and expert mentorship.\n",
        "[Start Your Journey](https://www.buildfastwithai.com/genai-course)\n",
        "*Empowering the Next Generation of AI Innovators"
      ],
      "metadata": {
        "id": "wScpvD717olo"
      }
    },
    {
      "cell_type": "markdown",
      "source": [
        "## 🌟 Langfuse: Open Source LLM Engineering Platform\n",
        "\n",
        "Langfuse is an open-source platform designed to enhance the development and debugging of **Large Language Model (LLM)** applications. 🛠️\n",
        "\n",
        "\n",
        "✨ Key Features:\n",
        "- Tools for **tracing**, **prompt management**, and **evaluation**.\n",
        "- Provides deep insights into model behavior and performance 📊.\n",
        "- Helps ensure consistent, high-quality outputs from your LLMs ✅.\n"
      ],
      "metadata": {
        "id": "c2zcu1pX7pVq"
      }
    },
    {
      "cell_type": "markdown",
      "source": [
        "###**Setup and Installation**"
      ],
      "metadata": {
        "id": "B2AqDDpm7phl"
      }
    },
    {
      "cell_type": "code",
      "source": [
        "!pip install langfuse langchain langchain-openai"
      ],
      "metadata": {
        "id": "2xX1egGUpSe_"
      },
      "execution_count": null,
      "outputs": []
    },
    {
      "cell_type": "markdown",
      "source": [
        "###Import API Keys\n",
        "\n",
        "\n",
        "*   get keys for your project from https://cloud.langfuse.com\n",
        "\n",
        "\n",
        "\n"
      ],
      "metadata": {
        "id": "KRzvVZhrnBdh"
      }
    },
    {
      "cell_type": "code",
      "execution_count": null,
      "metadata": {
        "id": "11Zs4pkxOuKq"
      },
      "outputs": [],
      "source": [
        "import os\n",
        "from google.colab import userdata\n",
        "\n",
        "os.environ[\"LANGFUSE_PUBLIC_KEY\"] =userdata.get('LANGFUSE_PUBLIC_KEY')\n",
        "os.environ[\"LANGFUSE_SECRET_KEY\"] =userdata.get('LANGFUSE_SECRET_KEY')\n",
        "\n",
        "os.environ[\"OPENAI_API_KEY\"] = userdata.get('OPENAI_API_KEY')"
      ]
    },
    {
      "cell_type": "markdown",
      "source": [
        "###Define Langfuse"
      ],
      "metadata": {
        "id": "cRoyS_U1nOK1"
      }
    },
    {
      "cell_type": "code",
      "source": [
        "from langfuse import Langfuse\n",
        "import openai\n",
        "\n",
        "langfuse = Langfuse()"
      ],
      "metadata": {
        "id": "vhcsbv8wpFgf"
      },
      "execution_count": null,
      "outputs": []
    },
    {
      "cell_type": "markdown",
      "source": [
        "###**Add prompt to Langfuse Prompt Management**"
      ],
      "metadata": {
        "id": "Lghlpd8M72nl"
      }
    },
    {
      "cell_type": "code",
      "source": [
        "langfuse.create_prompt(\n",
        "    name=\"story_summarization\",\n",
        "    prompt=\"Extract the key information from this text and return it in JSON format. Use the following schema: {{json_schema}}\",\n",
        "    config={\n",
        "        \"model\":\"gpt-3.5-turbo-1106\",\n",
        "        \"temperature\": 0,\n",
        "        \"json_schema\":{\n",
        "            \"main_character\": \"string (name of protagonist)\",\n",
        "            \"key_content\": \"string (1 sentence)\",\n",
        "            \"keywords\": \"array of strings\",\n",
        "            \"genre\": \"string (genre of story)\",\n",
        "            \"critic_review_comment\": \"string (write similar to a new york times critic)\",\n",
        "            \"critic_score\": \"number (between 0 bad and 10 exceptional)\"\n",
        "        }\n",
        "    },\n",
        "    labels=[\"production\"]\n",
        ");"
      ],
      "metadata": {
        "id": "0m97HyMHqON6"
      },
      "execution_count": null,
      "outputs": []
    },
    {
      "cell_type": "markdown",
      "source": [
        "###**Get current prompt version from Langfuse**\n"
      ],
      "metadata": {
        "id": "bw1rYKRN78Dj"
      }
    },
    {
      "cell_type": "code",
      "source": [
        "prompt = langfuse.get_prompt(\"story_summarization\")"
      ],
      "metadata": {
        "id": "cTJFOwJqqd_Z"
      },
      "execution_count": null,
      "outputs": []
    },
    {
      "cell_type": "code",
      "source": [
        "prompt.compile(json_schema=\"TEST SCHEMA\")"
      ],
      "metadata": {
        "colab": {
          "base_uri": "https://localhost:8080/",
          "height": 36
        },
        "id": "PiNqJQWIq6-7",
        "outputId": "bab0d415-8a2c-4fec-8e4d-8d04b42af7ad"
      },
      "execution_count": null,
      "outputs": [
        {
          "output_type": "execute_result",
          "data": {
            "text/plain": [
              "'Extract the key information from this text and return it in JSON format. Use the following schema: TEST SCHEMA'"
            ],
            "application/vnd.google.colaboratory.intrinsic+json": {
              "type": "string"
            }
          },
          "metadata": {},
          "execution_count": 15
        }
      ]
    },
    {
      "cell_type": "code",
      "source": [
        "prompt.config"
      ],
      "metadata": {
        "colab": {
          "base_uri": "https://localhost:8080/"
        },
        "id": "XqfjTTy-q9Ze",
        "outputId": "9b16d18f-6e9d-4847-8193-40af78eb9582"
      },
      "execution_count": null,
      "outputs": [
        {
          "output_type": "execute_result",
          "data": {
            "text/plain": [
              "{'model': 'gpt-3.5-turbo-1106',\n",
              " 'temperature': 0,\n",
              " 'json_schema': {'main_character': 'string (name of protagonist)',\n",
              "  'key_content': 'string (1 sentence)',\n",
              "  'keywords': 'array of strings',\n",
              "  'genre': 'string (genre of story)',\n",
              "  'critic_review_comment': 'string (write similar to a new york times critic)',\n",
              "  'critic_score': 'number (between 0 bad and 10 exceptional)'}}"
            ]
          },
          "metadata": {},
          "execution_count": 16
        }
      ]
    },
    {
      "cell_type": "markdown",
      "source": [
        "###**Create example function**"
      ],
      "metadata": {
        "id": "1TIqkLiv8C-_"
      }
    },
    {
      "cell_type": "code",
      "source": [
        "from langfuse.openai import OpenAI\n",
        "client = OpenAI()"
      ],
      "metadata": {
        "id": "HguRc35Jq_vA"
      },
      "execution_count": null,
      "outputs": []
    },
    {
      "cell_type": "code",
      "source": [
        "import json\n",
        "\n",
        "def summarize_story(story):\n",
        "  # Stringify the JSON schema\n",
        "  json_schema_str = ', '.join([f\"'{key}': {value}\" for key, value in prompt.config[\"json_schema\"].items()])\n",
        "\n",
        "  # Compile prompt with stringified version of json schema\n",
        "  system_message = prompt.compile(json_schema=json_schema_str)\n",
        "\n",
        "  # Format as OpenAI messages\n",
        "  messages = [\n",
        "      {\"role\":\"system\",\"content\": system_message},\n",
        "      {\"role\":\"user\",\"content\":story}\n",
        "  ]\n",
        "\n",
        "  # Get additional config\n",
        "  model = prompt.config[\"model\"]\n",
        "  temperature = prompt.config[\"temperature\"]\n",
        "\n",
        "  # Execute LLM call\n",
        "  res = client.chat.completions.create(\n",
        "    model = model,\n",
        "    temperature = temperature,\n",
        "    messages = messages,\n",
        "    response_format = { \"type\": \"json_object\" },\n",
        "    langfuse_prompt = prompt # capture used prompt version in trace\n",
        "  )\n",
        "\n",
        "  # Parse response as JSON\n",
        "  res = json.loads(res.choices[0].message.content)\n",
        "\n",
        "  return res"
      ],
      "metadata": {
        "id": "59J0lKL7rLqM"
      },
      "execution_count": null,
      "outputs": []
    },
    {
      "cell_type": "markdown",
      "source": [
        "###**Execute it**"
      ],
      "metadata": {
        "id": "5Bm9Bqmd8IDt"
      }
    },
    {
      "cell_type": "code",
      "source": [
        "STORY = \"\"\"\n",
        "In a bustling city where the nighttime glittered with neon signs and the rush never calmed, lived a lonely cat named Whisper. Amidst the ceaseless clatter, Whisper discovered an abandoned hat one day. To her enigmatic surprise, this was no ordinary accessory; it had the unusual power to make her invisible to any onlooker.\n",
        "Whisper, now carrying a peculiar power, started a journey that was unexpected. She became a benevolent spirit to the less fortunate, the homeless people who equally shared the cold nights with her. Nights that were once barren turned miraculous as warm meals mysteriously appeared to those who needed them most. No one could see her, yet her actions spoke volumes, turning her into an unsung hero in the hidden corners of the city.\n",
        "As she carried on with her mysterious deed, she found an unanticipated reward. Joy started to kindle in her heart, born not from the invisibility, but from the result of her actions; the growing smiles on the faces of those she surreptitiously helped. Whisper might have remained unnoticed to the world, but amidst her secret kindness, she discovered her true happiness.\n",
        "\"\"\""
      ],
      "metadata": {
        "id": "A2DC09snrNVv"
      },
      "execution_count": null,
      "outputs": []
    },
    {
      "cell_type": "code",
      "source": [
        "summary = summarize_story(STORY)"
      ],
      "metadata": {
        "id": "gt6GY3YdrPmq"
      },
      "execution_count": null,
      "outputs": []
    },
    {
      "cell_type": "code",
      "source": [
        "summary"
      ],
      "metadata": {
        "colab": {
          "base_uri": "https://localhost:8080/"
        },
        "id": "flnTDL6PrRPv",
        "outputId": "1d3635a3-acac-4bcf-97fe-99c5edbc029f"
      },
      "execution_count": null,
      "outputs": [
        {
          "output_type": "execute_result",
          "data": {
            "text/plain": [
              "{'main_character': 'Whisper',\n",
              " 'key_content': 'Whisper, a lonely cat, discovers an abandoned hat with the power to make her invisible and uses it to help the less fortunate, finding true happiness in her secret kindness.',\n",
              " 'keywords': ['Whisper',\n",
              "  'lonely cat',\n",
              "  'abandoned hat',\n",
              "  'invisible',\n",
              "  'less fortunate',\n",
              "  'true happiness'],\n",
              " 'genre': 'Fantasy',\n",
              " 'critic_review_comment': \"Whisper's heartwarming journey through the bustling city, using her newfound power to bring joy to the less fortunate, is a touching tale of selflessness and discovery.\",\n",
              " 'critic_score': 9}"
            ]
          },
          "metadata": {},
          "execution_count": 22
        }
      ]
    },
    {
      "cell_type": "markdown",
      "source": [
        "###**Langfuse Prompt Management with Langchain**"
      ],
      "metadata": {
        "id": "IVRYnKK7LS7d"
      }
    },
    {
      "cell_type": "code",
      "source": [
        "from langfuse import Langfuse\n",
        "from langfuse.callback import CallbackHandler\n",
        "\n",
        "# Initialize Langfuse client (prompt management)\n",
        "langfuse = Langfuse()\n",
        "\n",
        "# Initialize Langfuse CallbackHandler for Langchain (tracing)\n",
        "langfuse_callback_handler = CallbackHandler()\n",
        "\n",
        "# Optional, verify that Langfuse is configured correctly\n",
        "assert langfuse.auth_check()\n",
        "assert langfuse_callback_handler.auth_check()"
      ],
      "metadata": {
        "id": "ZM4RL3jt-bgp"
      },
      "execution_count": null,
      "outputs": []
    },
    {
      "cell_type": "markdown",
      "source": [
        "###**Add prompt to Langfuse Prompt Management**"
      ],
      "metadata": {
        "id": "XZQkZGKmK3dJ"
      }
    },
    {
      "cell_type": "code",
      "source": [
        "langfuse.create_prompt(\n",
        "    name=\"event-planner\",\n",
        "    prompt=\n",
        "    \"Plan an event titled {{Event Name}}. The event will be about: {{Event Description}}. \"\n",
        "    \"The event will be held in {{Location}} on {{Date}}. \"\n",
        "    \"Consider the following factors: audience, budget, venue, catering options, and entertainment. \"\n",
        "    \"Provide a detailed plan including potential vendors and logistics.\",\n",
        "    config={\n",
        "        \"model\":\"gpt-4o\",\n",
        "        \"temperature\": 0,\n",
        "    },\n",
        "    labels=[\"production\"]\n",
        ");"
      ],
      "metadata": {
        "id": "UmyPN4bRGxv7"
      },
      "execution_count": null,
      "outputs": []
    },
    {
      "cell_type": "markdown",
      "source": [
        "###**Get current prompt version from Langfuse**"
      ],
      "metadata": {
        "id": "IZw3AMDjK_vB"
      }
    },
    {
      "cell_type": "code",
      "source": [
        "langfuse_prompt = langfuse.get_prompt(\"event-planner\")"
      ],
      "metadata": {
        "id": "_ZhDCPFSGz4f"
      },
      "execution_count": null,
      "outputs": []
    },
    {
      "cell_type": "code",
      "source": [
        "print(langfuse_prompt.prompt)"
      ],
      "metadata": {
        "colab": {
          "base_uri": "https://localhost:8080/"
        },
        "id": "P3USuqTFG4X7",
        "outputId": "4143d871-3cea-4987-f797-a70f2495c106"
      },
      "execution_count": null,
      "outputs": [
        {
          "output_type": "stream",
          "name": "stdout",
          "text": [
            "Plan an event titled {{Event Name}}. The event will be about: {{Event Description}}. The event will be held in {{Location}} on {{Date}}. Consider the following factors: audience, budget, venue, catering options, and entertainment. Provide a detailed plan including potential vendors and logistics.\n"
          ]
        }
      ]
    },
    {
      "cell_type": "markdown",
      "source": [
        "###**Transform into Langchain PromptTemplate**"
      ],
      "metadata": {
        "id": "yFyvyoUNLEk6"
      }
    },
    {
      "cell_type": "code",
      "source": [
        "from langchain_core.prompts import ChatPromptTemplate\n",
        "\n",
        "langchain_prompt = ChatPromptTemplate.from_template(\n",
        "        langfuse_prompt.get_langchain_prompt(),\n",
        "        metadata={\"langfuse_prompt\": langfuse_prompt},\n",
        "    )"
      ],
      "metadata": {
        "id": "qliyPYDFG76-"
      },
      "execution_count": null,
      "outputs": []
    },
    {
      "cell_type": "code",
      "source": [
        "model = langfuse_prompt.config[\"model\"]\n",
        "temperature = str(langfuse_prompt.config[\"temperature\"])\n",
        "print(f\"Prompt model configurations\\nModel: {model}\\nTemperature: {temperature}\")"
      ],
      "metadata": {
        "colab": {
          "base_uri": "https://localhost:8080/"
        },
        "id": "dKhC-_UYKbme",
        "outputId": "b465c92f-b12e-4401-eb24-87e7eebf007e"
      },
      "execution_count": null,
      "outputs": [
        {
          "output_type": "stream",
          "name": "stdout",
          "text": [
            "Prompt model configurations\n",
            "Model: gpt-3.5-turbo-1106\n",
            "Temperature: 0\n"
          ]
        }
      ]
    },
    {
      "cell_type": "markdown",
      "source": [
        "###**Create Langchain chain based on prompt**"
      ],
      "metadata": {
        "id": "9WN8Z5EDLIqE"
      }
    },
    {
      "cell_type": "code",
      "source": [
        "from langchain_openai import ChatOpenAI\n",
        "\n",
        "model = ChatOpenAI(model=model, temperature=temperature)\n",
        "\n",
        "chain = langchain_prompt | model"
      ],
      "metadata": {
        "id": "3JcsdLhoKdnJ"
      },
      "execution_count": null,
      "outputs": []
    },
    {
      "cell_type": "markdown",
      "source": [
        "###**Invoke chain**"
      ],
      "metadata": {
        "id": "QVD6uQNMLN_V"
      }
    },
    {
      "cell_type": "code",
      "source": [
        "example_input = {\n",
        "    \"Event Name\": \"Wedding\",\n",
        "    \"Event Description\": \"The wedding of Julia and Alex, a charming couple who share a love for art and nature. This special day will celebrate their journey together with a blend of traditional and contemporary elements, reflecting their unique personalities.\",\n",
        "    \"Location\": \"Central Park, New York City\",\n",
        "    \"Date\": \"June 5, 2024\"\n",
        "}"
      ],
      "metadata": {
        "id": "LlNE9A-mKgV3"
      },
      "execution_count": null,
      "outputs": []
    },
    {
      "cell_type": "code",
      "source": [
        "response = chain.invoke(input=example_input,config={\"callbacks\":[langfuse_callback_handler]})\n",
        "\n",
        "print(response.content)"
      ],
      "metadata": {
        "colab": {
          "base_uri": "https://localhost:8080/"
        },
        "id": "4xk9JF0LKieh",
        "outputId": "776a2775-2ddf-41e9-d713-c4f7b5e8e6c8"
      },
      "execution_count": null,
      "outputs": [
        {
          "output_type": "stream",
          "name": "stdout",
          "text": [
            "Event Name: Central Park Summer Music Festival\n",
            "Event Description: The Central Park Summer Music Festival is a free outdoor concert event featuring a diverse lineup of musical performances, food vendors, and family-friendly activities. The festival aims to bring together people of all ages and backgrounds to enjoy a day of music and community in the heart of New York City.\n",
            "\n",
            "Audience: The event is open to the public and is expected to attract a diverse audience of music lovers, families, and tourists visiting the city.\n",
            "\n",
            "Budget: The event will have a moderate budget, with a focus on securing top musical acts and providing a variety of food and beverage options for attendees.\n",
            "\n",
            "Venue: Central Park, New York City. The festival will take place in a designated area within the park, with a stage for performances and ample space for vendors and activities.\n",
            "\n",
            "Catering Options: The festival will feature a mix of food vendors offering a range of cuisines, including local favorites and international flavors. Additionally, there will be beverage stations offering non-alcoholic options for all ages.\n",
            "\n",
            "Entertainment: The festival will showcase a diverse lineup of musical acts, including local bands, solo artists, and headlining performers. In addition to live music, there will be interactive activities for families, such as face painting, arts and crafts, and games.\n",
            "\n",
            "Potential Vendors:\n",
            "- Food vendors: Local food trucks and restaurants offering a variety of cuisines, including BBQ, tacos, pizza, and ice cream.\n",
            "- Beverage vendors: Local beverage companies providing a selection of non-alcoholic drinks, including lemonade, iced tea, and soda.\n",
            "- Musical acts: Booking local bands and solo artists, as well as headlining performers from various genres to appeal to a wide audience.\n",
            "- Event production: Hiring a production company to provide sound, lighting, and stage setup for the performances.\n",
            "\n",
            "Logistics:\n",
            "- Permitting: Securing the necessary permits and permissions from the city of New York for the event to take place in Central Park.\n",
            "- Security: Hiring security personnel to ensure the safety of attendees and manage crowd control.\n",
            "- Waste management: Arranging for waste disposal and recycling services to keep the event area clean and environmentally friendly.\n",
            "- Promotion: Marketing the event through social media, local publications, and partnerships with community organizations to reach a wide audience.\n",
            "\n",
            "Overall, the Central Park Summer Music Festival will be a fun and inclusive event that celebrates the diversity and vibrancy of New York City's music and culture. With a focus on providing a memorable experience for attendees, the festival will offer a mix of entertainment, food, and activities for all to enjoy.\n"
          ]
        }
      ]
    }
  ]
}