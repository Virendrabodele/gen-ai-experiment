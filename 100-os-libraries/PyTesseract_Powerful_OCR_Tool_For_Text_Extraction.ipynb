{
  "nbformat": 4,
  "nbformat_minor": 0,
  "metadata": {
    "colab": {
      "provenance": []
    },
    "kernelspec": {
      "name": "python3",
      "display_name": "Python 3"
    },
    "language_info": {
      "name": "python"
    }
  },
  "cells": [
    {
      "cell_type": "markdown",
      "source": [
        "<img src=\"https://drive.google.com/uc?export=view&id=1wYSMgJtARFdvTt5g7E20mE4NmwUFUuog\" width=\"200\">\n",
        "\n",
        "[![Build Fast with AI](https://img.shields.io/badge/BuildFastWithAI-GenAI%20Bootcamp-blue?style=for-the-badge&logo=artificial-intelligence)](https://www.buildfastwithai.com/genai-course)\n",
        "[![EduChain GitHub](https://img.shields.io/github/stars/satvik314/educhain?style=for-the-badge&logo=github&color=gold)](https://github.com/satvik314/educhain)\n",
        "\n",
        "[![Open In Colab](https://colab.research.google.com/assets/colab-badge.svg)](https://colab.research.google.com/drive/1vDTraJ9FlNOWLHE0hmJ3Zmf_FQ2WDLZi?usp=sharing)\n",
        "## Master Generative AI in 6 Weeks\n",
        "**What You'll Learn:**\n",
        "- Build with Latest LLMs\n",
        "- Create Custom AI Apps\n",
        "- Learn from Industry Experts\n",
        "- Join Innovation Community\n",
        "Transform your AI ideas into reality through hands-on projects and expert mentorship.\n",
        "[Start Your Journey](https://www.buildfastwithai.com/genai-course)\n",
        "*Empowering the Next Generation of AI Innovators"
      ],
      "metadata": {
        "id": "2LaayH0KZ5DB"
      }
    },
    {
      "cell_type": "markdown",
      "source": [
        "## ⚡ PyTesseract: Powerful OCR Tool for Text Extraction\n",
        "\n",
        "PyTesseract is an open-source Python wrapper for **Tesseract OCR** that allows easy text extraction from images, enabling seamless document parsing and automation. 🚀\n",
        "\n",
        "### 🔑 **Key Features**:\n",
        "- 🧩 Supports a wide variety of image formats, including PNG, JPG, TIFF, and more.\n",
        "- 🌍 Multi-language support for text extraction, with over 100 languages available.\n",
        "- ✏️ Performs OCR on scanned documents, handwritten notes, and recipe images.\n",
        "- 📈 Simple integration with other AI tools and frameworks, like **GenAI**, for automated content generation.\n",
        "\n",
        "### 🔗 **How to Use with GenAI**:\n",
        "- Combine **PyTesseract's** OCR capabilities with **GenAI** to extract text from images and generate summaries, translations, or insights using language models in one seamless workflow.\n"
      ],
      "metadata": {
        "id": "SfTJwxP_Z4kZ"
      }
    },
    {
      "cell_type": "markdown",
      "source": [
        "###**Setup and Installation**"
      ],
      "metadata": {
        "id": "1WZ8VFnAZ43Y"
      }
    },
    {
      "cell_type": "code",
      "execution_count": null,
      "metadata": {
        "id": "kmgW-FsqOGe5"
      },
      "outputs": [],
      "source": [
        "!pip install pytesseract Pillow requests\n",
        "!sudo apt-get install tesseract-ocr\n",
        "!pip install pdf2image\n",
        "!sudo apt-get install -y poppler-utils"
      ]
    },
    {
      "cell_type": "markdown",
      "source": [
        "### **Importing Required Libraries for PyTesseract OCR**\n"
      ],
      "metadata": {
        "id": "r1xaYT-FbnEN"
      }
    },
    {
      "cell_type": "code",
      "source": [
        "import requests\n",
        "from PIL import Image\n",
        "import pytesseract\n",
        "from pdf2image import convert_from_path\n"
      ],
      "metadata": {
        "id": "Kj1F9SgLP9q1"
      },
      "execution_count": null,
      "outputs": []
    },
    {
      "cell_type": "markdown",
      "source": [
        "### **Function to Download an Image 🖼️**\n"
      ],
      "metadata": {
        "id": "uePrLmc0b0IU"
      }
    },
    {
      "cell_type": "code",
      "source": [
        "def download_image(url, save_as):\n",
        "    response = requests.get(url)\n",
        "    if response.status_code == 200:\n",
        "        with open(save_as, 'wb') as file:\n",
        "            file.write(response.content)\n",
        "        print(f\"Image downloaded: {save_as}\")\n",
        "    else:\n",
        "        print(f\"Failed to download image from {url}\")\n"
      ],
      "metadata": {
        "id": "ByQGXHOZP_Ww"
      },
      "execution_count": null,
      "outputs": []
    },
    {
      "cell_type": "markdown",
      "source": [
        "### **Function to Extract Text from an Image using PyTesseract 📄**\n"
      ],
      "metadata": {
        "id": "ntpPZABdb44Q"
      }
    },
    {
      "cell_type": "code",
      "source": [
        "def extract_text_from_image(image_path, lang='eng'):\n",
        "    image = Image.open(image_path)\n",
        "    text = pytesseract.image_to_string(image, lang=lang)\n",
        "    return text"
      ],
      "metadata": {
        "id": "TKWvfCt9Pred"
      },
      "execution_count": null,
      "outputs": []
    },
    {
      "cell_type": "markdown",
      "source": [
        "### **Basic Recipe Extraction 🍲**\n",
        "\n",
        "\n",
        "\n",
        "\n",
        "\n",
        "\n"
      ],
      "metadata": {
        "id": "Mt2i_3ZaQHnf"
      }
    },
    {
      "cell_type": "code",
      "source": [
        "image_url = \"https://images.saymedia-content.com/.image/t_share/MTc0NjE4NDM3OTk2MzI0ODA5/how-to-write-original-food-recipes-10-tips-for-making-your-recipes-easy-to-follow.gif\"\n",
        "image_name = \"recipe_english.jpg\"\n",
        "\n",
        "download_image(image_url, image_name)\n"
      ],
      "metadata": {
        "colab": {
          "base_uri": "https://localhost:8080/"
        },
        "id": "kFT6GUeSP6dN",
        "outputId": "03f33a80-1fcb-455e-df75-2e8639be0a99"
      },
      "execution_count": null,
      "outputs": [
        {
          "output_type": "stream",
          "name": "stdout",
          "text": [
            "Image downloaded: recipe_english.jpg\n"
          ]
        }
      ]
    },
    {
      "cell_type": "markdown",
      "source": [
        "### **Extracting Recipe Text from Image 📜**\n",
        "\n"
      ],
      "metadata": {
        "id": "xWtYktOIiLKp"
      }
    },
    {
      "cell_type": "code",
      "source": [
        "recipe_text = extract_text_from_image(image_name)\n",
        "print(\"Extracted Recipe:\\n\", recipe_text)"
      ],
      "metadata": {
        "id": "Q9qcjTW4actT"
      },
      "execution_count": null,
      "outputs": []
    },
    {
      "cell_type": "markdown",
      "source": [
        "### **Preprocessing Image for Better OCR Accuracy 🛠️**"
      ],
      "metadata": {
        "id": "y82QmkRIiQ5y"
      }
    },
    {
      "cell_type": "code",
      "source": [
        "from PIL import ImageEnhance, ImageFilter\n",
        "\n",
        "def preprocess_image(image_path):\n",
        "    image = Image.open(image_path).convert('L')  # Convert to grayscale\n",
        "    image = image.filter(ImageFilter.SHARPEN)   # Sharpen the image\n",
        "    enhancer = ImageEnhance.Contrast(image)\n",
        "    image = enhancer.enhance(2)  # Increase contrast\n",
        "    return image\n",
        "\n",
        "# Preprocess and Extract Text\n",
        "preprocessed_image = preprocess_image(image_name)\n",
        "preprocessed_image.save(\"processed_recipe.jpg\")\n",
        "text_from_processed = pytesseract.image_to_string(preprocessed_image)\n",
        "print(\"Extracted Text from Preprocessed Image:\\n\", text_from_processed)\n"
      ],
      "metadata": {
        "id": "Q8y1eCBmaD0C"
      },
      "execution_count": null,
      "outputs": []
    },
    {
      "cell_type": "markdown",
      "source": [
        "### **Downloading a PDF from a URL 📥**"
      ],
      "metadata": {
        "id": "wbCDyztOiZVo"
      }
    },
    {
      "cell_type": "code",
      "source": [
        "import requests\n",
        "\n",
        "url = 'https://www.sldttc.org/allpdf/21583473018.pdf'\n",
        "response = requests.get(url)\n",
        "with open('sample.pdf', 'wb') as f:\n",
        "    f.write(response.content)\n"
      ],
      "metadata": {
        "id": "AJH7tZWpVX7L"
      },
      "execution_count": null,
      "outputs": []
    },
    {
      "cell_type": "markdown",
      "source": [
        "### **Convert PDF to Images 🖼️**"
      ],
      "metadata": {
        "id": "w11Z_ldEjSmo"
      }
    },
    {
      "cell_type": "code",
      "source": [
        "images = convert_from_path('sample.pdf')\n"
      ],
      "metadata": {
        "id": "FqMWs3VwUJp7"
      },
      "execution_count": null,
      "outputs": []
    },
    {
      "cell_type": "markdown",
      "source": [
        "### **Extract Text from PDF Images using OCR 📝**"
      ],
      "metadata": {
        "id": "XhJOuP2sjYL0"
      }
    },
    {
      "cell_type": "code",
      "source": [
        "text = ''\n",
        "for image in images:\n",
        "    text += pytesseract.image_to_string(image)\n",
        "print(text)"
      ],
      "metadata": {
        "id": "29mNXRUoVbQX"
      },
      "execution_count": null,
      "outputs": []
    },
    {
      "cell_type": "markdown",
      "source": [
        "### **Display Image 🖼️**\n"
      ],
      "metadata": {
        "id": "wCaah1-Kh6Uy"
      }
    },
    {
      "cell_type": "code",
      "source": [
        "from IPython.display import Image, display\n",
        "\n",
        "display(Image(url=image_url))"
      ],
      "metadata": {
        "colab": {
          "base_uri": "https://localhost:8080/",
          "height": 823
        },
        "outputId": "f20b1fe2-f34d-468f-d4c1-dacccebdafae",
        "id": "nGjmKWjbh0rC"
      },
      "execution_count": null,
      "outputs": [
        {
          "output_type": "display_data",
          "data": {
            "text/html": [
              "<img src=\"https://images.saymedia-content.com/.image/t_share/MTc0NjE4NDM3OTk2MzI0ODA5/how-to-write-original-food-recipes-10-tips-for-making-your-recipes-easy-to-follow.gif\"/>"
            ],
            "text/plain": [
              "<IPython.core.display.Image object>"
            ]
          },
          "metadata": {}
        }
      ]
    },
    {
      "cell_type": "markdown",
      "source": [
        "### **Summarizing Text using Gemini✍️**\n"
      ],
      "metadata": {
        "id": "KVngpgLrjg4N"
      }
    },
    {
      "cell_type": "code",
      "source": [
        "import google.generativeai as genai\n",
        "from google.colab import userdata\n",
        "\n",
        "GOOGLE_API_KEY = userdata.get('GOOGLE_API_KEY')\n",
        "\n",
        "genai.configure(api_key=GOOGLE_API_KEY)\n",
        "model = genai.GenerativeModel(\"gemini-1.5-flash\")\n",
        "\n",
        "response = model.generate_content(f\"Summarize the following content:\\n\\n{text}\")\n",
        "\n",
        "print(\"Summary:\")\n",
        "print(response.text)"
      ],
      "metadata": {
        "colab": {
          "base_uri": "https://localhost:8080/",
          "height": 89
        },
        "id": "62lyFuyxWUzm",
        "outputId": "6beee125-ad01-4267-c0c4-8ecce733acfc"
      },
      "execution_count": null,
      "outputs": [
        {
          "output_type": "stream",
          "name": "stdout",
          "text": [
            "Summary:\n",
            "This document summarizes a meta-analysis by Kuncel, Hezlett, and Ones (2001), and subsequent research, on the predictive validity of the GRE General Test.  The analysis, using data from over 80,000 students, found the GRE to be a strong predictor of various criteria for graduate school success, including first-year GPA, overall GPA, comprehensive exam scores, publication citations, faculty ratings, degree attainment, and research productivity.  The GRE's predictive validity surpassed that of undergraduate GPA and letters of recommendation.  While GRE Subject Tests showed even stronger predictive power, the General Test, including its Analytical Writing section (AW), provided unique and valuable information not captured by other measures.  The AW section specifically correlates positively with other writing samples, demonstrating its construct validity and adding to the overall predictive power of the GRE.  The document concludes that the GRE General Test is a valuable tool in graduate admissions.\n",
            "\n"
          ]
        }
      ]
    },
    {
      "cell_type": "markdown",
      "source": [
        "###**Translating Text with Gemini AI 🌍**"
      ],
      "metadata": {
        "id": "59St0qKBjwcI"
      }
    },
    {
      "cell_type": "code",
      "source": [
        "response = model.generate_content(f\"Summarize the following content:\\n\\n{text}\")\n",
        "summary = response.text\n",
        "\n",
        "translation_response = model.generate_content(f\"Translate the following text to French:\\n\\n{summary}\")\n",
        "print(\"Translated Summary (French):\")\n",
        "print(translation_response.text)"
      ],
      "metadata": {
        "colab": {
          "base_uri": "https://localhost:8080/",
          "height": 89
        },
        "id": "e6oPDAs8XO0Q",
        "outputId": "2c9007ca-fcde-4ebb-fc39-bb167f8dc4de"
      },
      "execution_count": null,
      "outputs": [
        {
          "output_type": "stream",
          "name": "stdout",
          "text": [
            "Translated Summary (French):\n",
            "Ce document résume les recherches sur la validité prédictive du test général du Graduate Record Examinations (GRE). Une méta-analyse de Kuncel, Hezlett et Ones (2001) portant sur plus de 80 000 étudiants répartis sur 1753 échantillons a révélé que le test général du GRE était un puissant prédicteur de divers critères de réussite aux études supérieures, notamment la moyenne pondérée (GPA), le nombre de citations des publications, les évaluations des professeurs et l'obtention du diplôme. Il a surpassé la moyenne pondérée des études de premier cycle et les lettres de recommandation en termes de pouvoir prédictif, bien que les tests spécifiques du GRE se soient avérés des prédicteurs encore plus puissants. De plus, l'analyse a montré que la section d'écriture analytique (AW) fournit des informations uniques et précieuses non captées par les sections verbale et quantitative, corrélant bien avec d'autres échantillons d'écriture. Globalement, le document conclut que le test général du GRE est un outil précieux pour les admissions en études supérieures.\n",
            "\n"
          ]
        }
      ]
    }
  ]
}