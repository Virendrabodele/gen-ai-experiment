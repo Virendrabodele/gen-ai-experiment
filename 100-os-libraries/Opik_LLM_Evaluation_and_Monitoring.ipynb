{
  "nbformat": 4,
  "nbformat_minor": 0,
  "metadata": {
    "colab": {
      "provenance": []
    },
    "kernelspec": {
      "name": "python3",
      "display_name": "Python 3"
    },
    "language_info": {
      "name": "python"
    }
  },
  "cells": [
    {
      "cell_type": "markdown",
      "source": [
        "<img src=\"https://drive.google.com/uc?export=view&id=1wYSMgJtARFdvTt5g7E20mE4NmwUFUuog\" width=\"200\">\n",
        "\n",
        "[![Build Fast with AI](https://img.shields.io/badge/BuildFastWithAI-GenAI%20Bootcamp-blue?style=for-the-badge&logo=artificial-intelligence)](https://www.buildfastwithai.com/genai-course)\n",
        "[![EduChain GitHub](https://img.shields.io/github/stars/satvik314/educhain?style=for-the-badge&logo=github&color=gold)](https://github.com/satvik314/educhain)\n",
        "\n",
        "[![Open In Colab](https://colab.research.google.com/assets/colab-badge.svg)](https://colab.research.google.com/drive/1VlXJ95hI059s585YG_cZ4-3cTE8kSgMI?usp=sharing)\n",
        "## Master Generative AI in 6 Weeks\n",
        "**What You'll Learn:**\n",
        "- Build with Latest LLMs\n",
        "- Create Custom AI Apps\n",
        "- Learn from Industry Experts\n",
        "- Join Innovation Community\n",
        "Transform your AI ideas into reality through hands-on projects and expert mentorship.\n",
        "[Start Your Journey](https://www.buildfastwithai.com/genai-course)\n",
        "*Empowering the Next Generation of AI Innovators"
      ],
      "metadata": {
        "id": "-vG3nKY-aGg_"
      }
    },
    {
      "cell_type": "markdown",
      "source": [
        "##**Opik: LLM Evaluation and Monitoring**\n",
        "it is an open-source platform developed by Comet to evaluate, test, and monitor Large Language Model (LLM) applications. It offers features such as tracing, evaluation, and production monitoring to enhance the performance and reliability of LLM-powered systems\n",
        "Key Features:\n",
        "\n",
        "Tracing: Track all LLM calls and traces during development and production.\n",
        "\n",
        "Evaluation: Automate the evaluation process of your LLM application using datasets and experiments.\n",
        "\n",
        "Production Monitoring: Log all production traces and review feedback scores, trace counts, and tokens over time."
      ],
      "metadata": {
        "id": "NVEohD14aGWc"
      }
    },
    {
      "cell_type": "markdown",
      "source": [
        "###**Setup and Installation**\n",
        "\n"
      ],
      "metadata": {
        "id": "JB61SyfLaGFf"
      }
    },
    {
      "cell_type": "code",
      "execution_count": null,
      "metadata": {
        "id": "8HILBD9zBuK2"
      },
      "outputs": [],
      "source": [
        "%pip install --upgrade opik openai"
      ]
    },
    {
      "cell_type": "code",
      "source": [
        "import opik\n",
        "\n",
        "opik.configure(use_local=False)"
      ],
      "metadata": {
        "id": "pWHM6wkDV5-p"
      },
      "execution_count": null,
      "outputs": []
    },
    {
      "cell_type": "markdown",
      "source": [
        "## **Preparing our environment**"
      ],
      "metadata": {
        "id": "TCOLIZQba8bh"
      }
    },
    {
      "cell_type": "code",
      "source": [
        "from google.colab import userdata\n",
        "import os\n",
        "import getpass\n",
        "\n",
        "os.environ[\"OPENAI_API_KEY\"] = userdata.get(\"OPENAI_API_KEY\")\n",
        "\n",
        "if \"OPENAI_API_KEY\" not in os.environ:\n",
        "    os.environ[\"OPENAI_API_KEY\"] = getpass.getpass(\"Enter your OpenAI API key: \")\n"
      ],
      "metadata": {
        "id": "URPzASvUWcJp"
      },
      "execution_count": null,
      "outputs": []
    },
    {
      "cell_type": "markdown",
      "source": [
        "###**Logging traces**"
      ],
      "metadata": {
        "id": "rzzDpgyubHEo"
      }
    },
    {
      "cell_type": "code",
      "source": [
        "from opik.integrations.openai import track_openai\n",
        "from openai import OpenAI\n",
        "\n",
        "os.environ[\"OPIK_PROJECT_NAME\"] = \"openai-integration-demo\"\n",
        "\n",
        "client = OpenAI()\n",
        "openai_client = track_openai(client)"
      ],
      "metadata": {
        "id": "lGEhXOfiXB1C"
      },
      "execution_count": null,
      "outputs": []
    },
    {
      "cell_type": "code",
      "source": [
        "prompt = \"\"\"\n",
        "Write a short two sentence story about Opik.\n",
        "\"\"\"\n",
        "\n",
        "completion = openai_client.chat.completions.create(\n",
        "    model=\"gpt-4o\", messages=[{\"role\": \"user\", \"content\": prompt}]\n",
        ")\n",
        "\n",
        "print(completion.choices[0].message.content)"
      ],
      "metadata": {
        "colab": {
          "base_uri": "https://localhost:8080/"
        },
        "id": "IHauv3jHXHjc",
        "outputId": "8750f625-c4ec-4608-bc01-6f8473fb58df"
      },
      "execution_count": null,
      "outputs": [
        {
          "output_type": "stream",
          "name": "stdout",
          "text": [
            "Opik was a mischievous kitten who loved to explore and play in the garden all day long. One day, he got his paws on a bird feather and proudly brought it to his humans as a gift.\n"
          ]
        }
      ]
    },
    {
      "cell_type": "markdown",
      "source": [
        "## **Using it with the `track` decorator**"
      ],
      "metadata": {
        "id": "dYvJWm3dbNtN"
      }
    },
    {
      "cell_type": "code",
      "source": [
        "from opik import track\n",
        "from opik.integrations.openai import track_openai\n",
        "from openai import OpenAI\n",
        "\n",
        "os.environ[\"OPIK_PROJECT_NAME\"] = \"openai-integration-demo\"\n",
        "\n",
        "client = OpenAI()\n",
        "openai_client = track_openai(client)\n",
        "\n",
        "\n",
        "@track\n",
        "def generate_story(prompt):\n",
        "    res = openai_client.chat.completions.create(\n",
        "        model=\"gpt-4o\", messages=[{\"role\": \"user\", \"content\": prompt}]\n",
        "    )\n",
        "    return res.choices[0].message.content\n",
        "\n",
        "\n",
        "@track\n",
        "def generate_topic():\n",
        "    prompt = \"Generate a topic for a story about Opik.\"\n",
        "    res = openai_client.chat.completions.create(\n",
        "        model=\"gpt-4o\", messages=[{\"role\": \"user\", \"content\": prompt}]\n",
        "    )\n",
        "    return res.choices[0].message.content\n",
        "\n",
        "\n",
        "@track\n",
        "def generate_opik_story():\n",
        "    topic = generate_topic()\n",
        "    story = generate_story(topic)\n",
        "    return story\n",
        "\n",
        "\n",
        "generate_opik_story()"
      ],
      "metadata": {
        "colab": {
          "base_uri": "https://localhost:8080/",
          "height": 209
        },
        "id": "_BpAr42kXKdh",
        "outputId": "1b15918d-3526-4487-8e37-49a8783d7bd7"
      },
      "execution_count": null,
      "outputs": [
        {
          "output_type": "stream",
          "name": "stderr",
          "text": [
            "OPIK: Started logging traces to the \"openai-integration-demo\" project at https://www.comet.com/opik/mukeshaofficial/redirect/projects?name=openai-integration-demo.\n"
          ]
        },
        {
          "output_type": "execute_result",
          "data": {
            "text/plain": [
              "\"Opik was a young boy with a wild imagination and a thirst for adventure. He loved to roam the forests near his village, seeking out hidden treasures and unknown mysteries. One day, while exploring a dense thicket, he stumbled upon a shimmering feather that glowed with an otherworldly light.\\n\\nIntrigued by the feather's magical aura, Opik knew he had to uncover its origins and harness its power. He embarked on a quest to find the Golden Feather's source, guided by ancient legends and mysterious whispers from the wind.\\n\\nThrough perilous jungles and treacherous mountains, Opik faced trials and challenges that tested his courage and determination. But with the help of loyal friends and newfound allies, he pressed on, fueled by his unwavering belief in the feather's significance.\\n\\nAs he neared the fabled Golden Feather's resting place, Opik discovered that its magic held the key to unlocking the secrets of the universe and restoring balance to the realms. With a heart full of hope and a mind brimming with knowledge, he reached out and grasped the feather, feeling its power surge through him.\\n\\nIn that moment, Opik knew that his quest was far from over. The Golden Feather had chosen him to be its guardian and protector, entrusting him with the task of preserving its magic for generations to come.\\n\\nAnd so, Opik set out on a new adventure, guided by the Golden Feather's light and fueled by the spirit of discovery that burned within him. Together, they would explore the depths of the unknown and unlock the mysteries of existence, forging a legacy that would last for eternity. The tale of Opik's Quest for the Golden Feather had only just begun.\""
            ],
            "application/vnd.google.colaboratory.intrinsic+json": {
              "type": "string"
            }
          },
          "metadata": {},
          "execution_count": 16
        }
      ]
    },
    {
      "cell_type": "markdown",
      "source": [
        "##**🧑‍⚖️ LLM as a Judge metrics**"
      ],
      "metadata": {
        "id": "2DgnswZ0bR6F"
      }
    },
    {
      "cell_type": "code",
      "source": [
        "from opik.evaluation.metrics import Hallucination\n",
        "\n",
        "metric = Hallucination()\n",
        "score = metric.score(\n",
        "    input=\"What is the capital of France?\",\n",
        "    output=\"Paris\",\n",
        "    context=[\"France is a country in Europe.\"]\n",
        ")\n",
        "print(score)"
      ],
      "metadata": {
        "colab": {
          "base_uri": "https://localhost:8080/"
        },
        "id": "goZcbVT8YYb8",
        "outputId": "82df8ff9-a21c-4b75-c1b3-d597d4847df8"
      },
      "execution_count": null,
      "outputs": [
        {
          "output_type": "stream",
          "name": "stdout",
          "text": [
            "ScoreResult(name='hallucination_metric', value=0.0, reason=\"['The OUTPUT is a well-established fact and aligns with general knowledge.', 'Although the CONTEXT does not explicitly state Paris is the capital, it does not contradict the general knowledge provided in the OUTPUT.', 'Paris is the known capital of France, and no new information inconsistent with the CONTEXT is introduced.']\", metadata=None, scoring_failed=False)\n"
          ]
        }
      ]
    },
    {
      "cell_type": "markdown",
      "source": [
        "##**Answer Relevance**"
      ],
      "metadata": {
        "id": "-TrUVJgbb2nk"
      }
    },
    {
      "cell_type": "code",
      "source": [
        "from opik.evaluation.metrics import AnswerRelevance\n",
        "\n",
        "metric = AnswerRelevance()\n",
        "\n",
        "metric.score(\n",
        "    input=\"What is the capital of France?\",\n",
        "    output=\"The capital of France is Paris. It is famous for its iconic Eiffel Tower and rich cultural heritage.\",\n",
        "    context=[\"France is a country in Western Europe. Its capital is Paris, which is known for landmarks like the Eiffel Tower.\"],\n",
        ")"
      ],
      "metadata": {
        "colab": {
          "base_uri": "https://localhost:8080/"
        },
        "id": "C8R5S4ClZDEc",
        "outputId": "f4b86c31-b894-4806-d5bc-3b11bfe5d797"
      },
      "execution_count": null,
      "outputs": [
        {
          "output_type": "execute_result",
          "data": {
            "text/plain": [
              "ScoreResult(name='answer_relevance_metric', value=0.95, reason=\"The answer directly and accurately identifies Paris as the capital of France, which is the central focus of the user's question. Additionally, it provides relevant context about Paris's cultural landmarks, such as the Eiffel Tower, which aligns with the context provided. The response is highly relevant and informative, with a slight additional detail preventing a perfect score.\", metadata=None, scoring_failed=False)"
            ]
          },
          "metadata": {},
          "execution_count": 21
        }
      ]
    },
    {
      "cell_type": "markdown",
      "source": [
        "##**Context Precision**"
      ],
      "metadata": {
        "id": "C5F9pH_tb-I1"
      }
    },
    {
      "cell_type": "code",
      "source": [
        "from opik.evaluation.metrics import ContextPrecision\n",
        "\n",
        "metric = ContextPrecision()\n",
        "\n",
        "metric.score(\n",
        "    input=\"What is the capital of France?\",\n",
        "    output=\"The capital of France is Paris. It is famous for its iconic Eiffel Tower and rich cultural heritage.\",\n",
        "    expected_output=\"Paris\",\n",
        "    context=[\"France is a country in Western Europe. Its capital is Paris, which is known for landmarks like the Eiffel Tower.\"],\n",
        ")"
      ],
      "metadata": {
        "colab": {
          "base_uri": "https://localhost:8080/"
        },
        "id": "COTSlXZabsgB",
        "outputId": "aaad27bd-8151-43ad-abb3-4a1a96c654b7"
      },
      "execution_count": null,
      "outputs": [
        {
          "output_type": "execute_result",
          "data": {
            "text/plain": [
              "ScoreResult(name='context_precision_metric', value=0.8, reason=\"The LLM's answer correctly states that the capital of France is Paris. It includes additional relevant context about Paris, such as its landmarks and cultural significance, which aligns well with the context provided. However, it slightly extends beyond the expected output's succinctness, which was simply 'Paris.' Therefore, while the answer provides accurate and contextually relevant information, it isn't as concise as the expected output, justifying a score slightly below perfect.\", metadata=None, scoring_failed=False)"
            ]
          },
          "metadata": {},
          "execution_count": 22
        }
      ]
    }
  ]
}