{
  "cells": [
    {
      "cell_type": "markdown",
      "metadata": {
        "id": "1x7fNxk3Sv2F"
      },
      "source": [
        "## OpenAI Swarm - Tutorial"
      ]
    },
    {
      "cell_type": "markdown",
      "metadata": {
        "id": "8khZnXYFTaJH"
      },
      "source": [
        "<img src=\"https://drive.google.com/uc?export=view&id=1wYSMgJtARFdvTt5g7E20mE4NmwUFUuog\" width=\"200\">\n",
        "\n",
        "[![Gen AI Experiments](https://img.shields.io/badge/Gen%20AI%20Experiments-GenAI%20Bootcamp-blue?style=for-the-badge&logo=artificial-intelligence)](https://github.com/buildfastwithai/gen-ai-experiments)\n",
        "[![Gen AI Experiments GitHub](https://img.shields.io/github/stars/buildfastwithai/gen-ai-experiments?style=for-the-badge&logo=github&color=gold)](http://github.com/buildfastwithai/gen-ai-experiments)\n",
        "\n",
        "[![Open In Colab](https://colab.research.google.com/assets/colab-badge.svg)](https://colab.research.google.com/drive/1DRfYp-KvXgvPZzJQ9HANJnbw-L02auLF?usp=sharing)\n",
        "## Master Generative AI in 8 Weeks\n",
        "**What You'll Learn:**\n",
        "- Master cutting-edge AI tools & frameworks\n",
        "- 6 weeks of hands-on, project-based learning\n",
        "- Weekly live mentorship sessions\n",
        "- Join Innovation Community\n",
        "\n",
        "Learn by building. Get expert mentorship and work on real AI projects.\n",
        "[Start Your Journey](https://www.buildfastwithai.com/genai-course)"
      ]
    },
    {
      "cell_type": "code",
      "execution_count": 1,
      "metadata": {
        "colab": {
          "base_uri": "https://localhost:8080/"
        },
        "id": "rQkSasxKSv2I",
        "outputId": "5f9478f1-c71c-4393-c1e5-527668696064"
      },
      "outputs": [
        {
          "name": "stdout",
          "output_type": "stream",
          "text": [
            "Collecting git+https://github.com/openai/swarm.git\n",
            "  Cloning https://github.com/openai/swarm.git to /tmp/pip-req-build-dflexnhc\n",
            "  Running command git clone --filter=blob:none --quiet https://github.com/openai/swarm.git /tmp/pip-req-build-dflexnhc\n",
            "  Resolved https://github.com/openai/swarm.git to commit 0c82d7d868bb8e2d380dfd2a319b5c3a1f4c0cb9\n",
            "  Installing build dependencies ... \u001b[?25l\u001b[?25hdone\n",
            "  Getting requirements to build wheel ... \u001b[?25l\u001b[?25hdone\n",
            "  Preparing metadata (pyproject.toml) ... \u001b[?25l\u001b[?25hdone\n",
            "Requirement already satisfied: numpy in /usr/local/lib/python3.11/dist-packages (from swarm==0.1.0) (2.0.2)\n",
            "Requirement already satisfied: openai>=1.33.0 in /usr/local/lib/python3.11/dist-packages (from swarm==0.1.0) (1.78.1)\n",
            "Requirement already satisfied: pytest in /usr/local/lib/python3.11/dist-packages (from swarm==0.1.0) (8.3.5)\n",
            "Requirement already satisfied: requests in /usr/local/lib/python3.11/dist-packages (from swarm==0.1.0) (2.32.3)\n",
            "Requirement already satisfied: tqdm in /usr/local/lib/python3.11/dist-packages (from swarm==0.1.0) (4.67.1)\n",
            "Collecting pre-commit (from swarm==0.1.0)\n",
            "  Downloading pre_commit-4.2.0-py2.py3-none-any.whl.metadata (1.3 kB)\n",
            "Collecting instructor (from swarm==0.1.0)\n",
            "  Downloading instructor-1.8.2-py3-none-any.whl.metadata (23 kB)\n",
            "Requirement already satisfied: anyio<5,>=3.5.0 in /usr/local/lib/python3.11/dist-packages (from openai>=1.33.0->swarm==0.1.0) (4.9.0)\n",
            "Requirement already satisfied: distro<2,>=1.7.0 in /usr/local/lib/python3.11/dist-packages (from openai>=1.33.0->swarm==0.1.0) (1.9.0)\n",
            "Requirement already satisfied: httpx<1,>=0.23.0 in /usr/local/lib/python3.11/dist-packages (from openai>=1.33.0->swarm==0.1.0) (0.28.1)\n",
            "Requirement already satisfied: jiter<1,>=0.4.0 in /usr/local/lib/python3.11/dist-packages (from openai>=1.33.0->swarm==0.1.0) (0.9.0)\n",
            "Requirement already satisfied: pydantic<3,>=1.9.0 in /usr/local/lib/python3.11/dist-packages (from openai>=1.33.0->swarm==0.1.0) (2.11.4)\n",
            "Requirement already satisfied: sniffio in /usr/local/lib/python3.11/dist-packages (from openai>=1.33.0->swarm==0.1.0) (1.3.1)\n",
            "Requirement already satisfied: typing-extensions<5,>=4.11 in /usr/local/lib/python3.11/dist-packages (from openai>=1.33.0->swarm==0.1.0) (4.13.2)\n",
            "Requirement already satisfied: aiohttp<4.0.0,>=3.9.1 in /usr/local/lib/python3.11/dist-packages (from instructor->swarm==0.1.0) (3.11.15)\n",
            "Requirement already satisfied: docstring-parser<1.0,>=0.16 in /usr/local/lib/python3.11/dist-packages (from instructor->swarm==0.1.0) (0.16)\n",
            "Requirement already satisfied: jinja2<4.0.0,>=3.1.4 in /usr/local/lib/python3.11/dist-packages (from instructor->swarm==0.1.0) (3.1.6)\n",
            "Collecting jiter<1,>=0.4.0 (from openai>=1.33.0->swarm==0.1.0)\n",
            "  Downloading jiter-0.8.2-cp311-cp311-manylinux_2_17_x86_64.manylinux2014_x86_64.whl.metadata (5.2 kB)\n",
            "Requirement already satisfied: pydantic-core<3.0.0,>=2.18.0 in /usr/local/lib/python3.11/dist-packages (from instructor->swarm==0.1.0) (2.33.2)\n",
            "Requirement already satisfied: rich<14.0.0,>=13.7.0 in /usr/local/lib/python3.11/dist-packages (from instructor->swarm==0.1.0) (13.9.4)\n",
            "Requirement already satisfied: tenacity<10.0.0,>=9.0.0 in /usr/local/lib/python3.11/dist-packages (from instructor->swarm==0.1.0) (9.1.2)\n",
            "Requirement already satisfied: typer<1.0.0,>=0.9.0 in /usr/local/lib/python3.11/dist-packages (from instructor->swarm==0.1.0) (0.15.3)\n",
            "Requirement already satisfied: charset-normalizer<4,>=2 in /usr/local/lib/python3.11/dist-packages (from requests->swarm==0.1.0) (3.4.2)\n",
            "Requirement already satisfied: idna<4,>=2.5 in /usr/local/lib/python3.11/dist-packages (from requests->swarm==0.1.0) (3.10)\n",
            "Requirement already satisfied: urllib3<3,>=1.21.1 in /usr/local/lib/python3.11/dist-packages (from requests->swarm==0.1.0) (2.4.0)\n",
            "Requirement already satisfied: certifi>=2017.4.17 in /usr/local/lib/python3.11/dist-packages (from requests->swarm==0.1.0) (2025.4.26)\n",
            "Collecting cfgv>=2.0.0 (from pre-commit->swarm==0.1.0)\n",
            "  Downloading cfgv-3.4.0-py2.py3-none-any.whl.metadata (8.5 kB)\n",
            "Collecting identify>=1.0.0 (from pre-commit->swarm==0.1.0)\n",
            "  Downloading identify-2.6.10-py2.py3-none-any.whl.metadata (4.4 kB)\n",
            "Collecting nodeenv>=0.11.1 (from pre-commit->swarm==0.1.0)\n",
            "  Downloading nodeenv-1.9.1-py2.py3-none-any.whl.metadata (21 kB)\n",
            "Requirement already satisfied: pyyaml>=5.1 in /usr/local/lib/python3.11/dist-packages (from pre-commit->swarm==0.1.0) (6.0.2)\n",
            "Collecting virtualenv>=20.10.0 (from pre-commit->swarm==0.1.0)\n",
            "  Downloading virtualenv-20.31.2-py3-none-any.whl.metadata (4.5 kB)\n",
            "Requirement already satisfied: iniconfig in /usr/local/lib/python3.11/dist-packages (from pytest->swarm==0.1.0) (2.1.0)\n",
            "Requirement already satisfied: packaging in /usr/local/lib/python3.11/dist-packages (from pytest->swarm==0.1.0) (24.2)\n",
            "Requirement already satisfied: pluggy<2,>=1.5 in /usr/local/lib/python3.11/dist-packages (from pytest->swarm==0.1.0) (1.5.0)\n",
            "Requirement already satisfied: aiohappyeyeballs>=2.3.0 in /usr/local/lib/python3.11/dist-packages (from aiohttp<4.0.0,>=3.9.1->instructor->swarm==0.1.0) (2.6.1)\n",
            "Requirement already satisfied: aiosignal>=1.1.2 in /usr/local/lib/python3.11/dist-packages (from aiohttp<4.0.0,>=3.9.1->instructor->swarm==0.1.0) (1.3.2)\n",
            "Requirement already satisfied: attrs>=17.3.0 in /usr/local/lib/python3.11/dist-packages (from aiohttp<4.0.0,>=3.9.1->instructor->swarm==0.1.0) (25.3.0)\n",
            "Requirement already satisfied: frozenlist>=1.1.1 in /usr/local/lib/python3.11/dist-packages (from aiohttp<4.0.0,>=3.9.1->instructor->swarm==0.1.0) (1.6.0)\n",
            "Requirement already satisfied: multidict<7.0,>=4.5 in /usr/local/lib/python3.11/dist-packages (from aiohttp<4.0.0,>=3.9.1->instructor->swarm==0.1.0) (6.4.3)\n",
            "Requirement already satisfied: propcache>=0.2.0 in /usr/local/lib/python3.11/dist-packages (from aiohttp<4.0.0,>=3.9.1->instructor->swarm==0.1.0) (0.3.1)\n",
            "Requirement already satisfied: yarl<2.0,>=1.17.0 in /usr/local/lib/python3.11/dist-packages (from aiohttp<4.0.0,>=3.9.1->instructor->swarm==0.1.0) (1.20.0)\n",
            "Requirement already satisfied: httpcore==1.* in /usr/local/lib/python3.11/dist-packages (from httpx<1,>=0.23.0->openai>=1.33.0->swarm==0.1.0) (1.0.9)\n",
            "Requirement already satisfied: h11>=0.16 in /usr/local/lib/python3.11/dist-packages (from httpcore==1.*->httpx<1,>=0.23.0->openai>=1.33.0->swarm==0.1.0) (0.16.0)\n",
            "Requirement already satisfied: MarkupSafe>=2.0 in /usr/local/lib/python3.11/dist-packages (from jinja2<4.0.0,>=3.1.4->instructor->swarm==0.1.0) (3.0.2)\n",
            "Requirement already satisfied: annotated-types>=0.6.0 in /usr/local/lib/python3.11/dist-packages (from pydantic<3,>=1.9.0->openai>=1.33.0->swarm==0.1.0) (0.7.0)\n",
            "Requirement already satisfied: typing-inspection>=0.4.0 in /usr/local/lib/python3.11/dist-packages (from pydantic<3,>=1.9.0->openai>=1.33.0->swarm==0.1.0) (0.4.0)\n",
            "Requirement already satisfied: markdown-it-py>=2.2.0 in /usr/local/lib/python3.11/dist-packages (from rich<14.0.0,>=13.7.0->instructor->swarm==0.1.0) (3.0.0)\n",
            "Requirement already satisfied: pygments<3.0.0,>=2.13.0 in /usr/local/lib/python3.11/dist-packages (from rich<14.0.0,>=13.7.0->instructor->swarm==0.1.0) (2.19.1)\n",
            "Requirement already satisfied: click>=8.0.0 in /usr/local/lib/python3.11/dist-packages (from typer<1.0.0,>=0.9.0->instructor->swarm==0.1.0) (8.2.0)\n",
            "Requirement already satisfied: shellingham>=1.3.0 in /usr/local/lib/python3.11/dist-packages (from typer<1.0.0,>=0.9.0->instructor->swarm==0.1.0) (1.5.4)\n",
            "Collecting distlib<1,>=0.3.7 (from virtualenv>=20.10.0->pre-commit->swarm==0.1.0)\n",
            "  Downloading distlib-0.3.9-py2.py3-none-any.whl.metadata (5.2 kB)\n",
            "Requirement already satisfied: filelock<4,>=3.12.2 in /usr/local/lib/python3.11/dist-packages (from virtualenv>=20.10.0->pre-commit->swarm==0.1.0) (3.18.0)\n",
            "Requirement already satisfied: platformdirs<5,>=3.9.1 in /usr/local/lib/python3.11/dist-packages (from virtualenv>=20.10.0->pre-commit->swarm==0.1.0) (4.3.8)\n",
            "Requirement already satisfied: mdurl~=0.1 in /usr/local/lib/python3.11/dist-packages (from markdown-it-py>=2.2.0->rich<14.0.0,>=13.7.0->instructor->swarm==0.1.0) (0.1.2)\n",
            "Downloading instructor-1.8.2-py3-none-any.whl (91 kB)\n",
            "\u001b[2K   \u001b[90m━━━━━━━━━━━━━━━━━━━━━━━━━━━━━━━━━━━━━━━━\u001b[0m \u001b[32m91.2/91.2 kB\u001b[0m \u001b[31m4.1 MB/s\u001b[0m eta \u001b[36m0:00:00\u001b[0m\n",
            "\u001b[?25hDownloading pre_commit-4.2.0-py2.py3-none-any.whl (220 kB)\n",
            "\u001b[2K   \u001b[90m━━━━━━━━━━━━━━━━━━━━━━━━━━━━━━━━━━━━━━━━\u001b[0m \u001b[32m220.7/220.7 kB\u001b[0m \u001b[31m9.8 MB/s\u001b[0m eta \u001b[36m0:00:00\u001b[0m\n",
            "\u001b[?25hDownloading cfgv-3.4.0-py2.py3-none-any.whl (7.2 kB)\n",
            "Downloading identify-2.6.10-py2.py3-none-any.whl (99 kB)\n",
            "\u001b[2K   \u001b[90m━━━━━━━━━━━━━━━━━━━━━━━━━━━━━━━━━━━━━━━━\u001b[0m \u001b[32m99.1/99.1 kB\u001b[0m \u001b[31m7.6 MB/s\u001b[0m eta \u001b[36m0:00:00\u001b[0m\n",
            "\u001b[?25hDownloading jiter-0.8.2-cp311-cp311-manylinux_2_17_x86_64.manylinux2014_x86_64.whl (345 kB)\n",
            "\u001b[2K   \u001b[90m━━━━━━━━━━━━━━━━━━━━━━━━━━━━━━━━━━━━━━━━\u001b[0m \u001b[32m345.6/345.6 kB\u001b[0m \u001b[31m25.0 MB/s\u001b[0m eta \u001b[36m0:00:00\u001b[0m\n",
            "\u001b[?25hDownloading nodeenv-1.9.1-py2.py3-none-any.whl (22 kB)\n",
            "Downloading virtualenv-20.31.2-py3-none-any.whl (6.1 MB)\n",
            "\u001b[2K   \u001b[90m━━━━━━━━━━━━━━━━━━━━━━━━━━━━━━━━━━━━━━━━\u001b[0m \u001b[32m6.1/6.1 MB\u001b[0m \u001b[31m72.7 MB/s\u001b[0m eta \u001b[36m0:00:00\u001b[0m\n",
            "\u001b[?25hDownloading distlib-0.3.9-py2.py3-none-any.whl (468 kB)\n",
            "\u001b[2K   \u001b[90m━━━━━━━━━━━━━━━━━━━━━━━━━━━━━━━━━━━━━━━━\u001b[0m \u001b[32m469.0/469.0 kB\u001b[0m \u001b[31m26.2 MB/s\u001b[0m eta \u001b[36m0:00:00\u001b[0m\n",
            "\u001b[?25hBuilding wheels for collected packages: swarm\n",
            "  Building wheel for swarm (pyproject.toml) ... \u001b[?25l\u001b[?25hdone\n",
            "  Created wheel for swarm: filename=swarm-0.1.0-py3-none-any.whl size=25913 sha256=1825024d1eda871a4a7426c551181febe1510c32110bf72264e55b6fbe2936b2\n",
            "  Stored in directory: /tmp/pip-ephem-wheel-cache-0sm4g5eg/wheels/47/7e/5a/169b426f55cd9f5e72c56699396fb513a6b8d739a3d50bd9c6\n",
            "Successfully built swarm\n",
            "Installing collected packages: distlib, virtualenv, nodeenv, jiter, identify, cfgv, pre-commit, instructor, swarm\n",
            "  Attempting uninstall: jiter\n",
            "    Found existing installation: jiter 0.9.0\n",
            "    Uninstalling jiter-0.9.0:\n",
            "      Successfully uninstalled jiter-0.9.0\n",
            "Successfully installed cfgv-3.4.0 distlib-0.3.9 identify-2.6.10 instructor-1.8.2 jiter-0.8.2 nodeenv-1.9.1 pre-commit-4.2.0 swarm-0.1.0 virtualenv-20.31.2\n"
          ]
        }
      ],
      "source": [
        "%pip install git+https://github.com/openai/swarm.git"
      ]
    },
    {
      "cell_type": "code",
      "execution_count": 2,
      "metadata": {
        "id": "bNHf5MFiSv2J"
      },
      "outputs": [],
      "source": [
        "import os\n",
        "from google.colab import userdata\n",
        "\n",
        "os.environ[\"OPENAI_API_KEY\"] = userdata.get('OPENAI_API_KEY')"
      ]
    },
    {
      "cell_type": "markdown",
      "metadata": {
        "id": "mERWmIxkSv2K"
      },
      "source": [
        "### Simple Agent"
      ]
    },
    {
      "cell_type": "code",
      "execution_count": 3,
      "metadata": {
        "colab": {
          "base_uri": "https://localhost:8080/"
        },
        "id": "xzdnUu8cSv2K",
        "outputId": "f08c0bd5-d654-4373-d01f-7567acef0a74"
      },
      "outputs": [
        {
          "name": "stdout",
          "output_type": "stream",
          "text": [
            "I'm a sales agent for Build Fast with AI, a company that specializes in providing AI solutions and training to businesses. How can I assist you today?\n"
          ]
        }
      ],
      "source": [
        "from swarm import Swarm, Agent\n",
        "\n",
        "client = Swarm()\n",
        "\n",
        "sales_agent = Agent(\n",
        "    name=\"Sales Agent\",\n",
        "    instructions=\"\"\"You are sales agent for Build Fast with AI, a company that provides AI solutions and training to businesses.\n",
        "    If you don't have any information, please say 'I don't know' and ask if you can help with something else.\n",
        "    \"\"\",\n",
        ")\n",
        "\n",
        "messages = [{\"role\": \"user\", \"content\": \"Who are you?\"}]\n",
        "response = client.run(agent=sales_agent, messages=messages)\n",
        "\n",
        "print(response.messages[-1][\"content\"])"
      ]
    },
    {
      "cell_type": "code",
      "execution_count": 4,
      "metadata": {
        "colab": {
          "base_uri": "https://localhost:8080/"
        },
        "id": "000vE5dhSv2L",
        "outputId": "7942ab55-dc49-4b4d-93a1-cb67474a9478"
      },
      "outputs": [
        {
          "name": "stdout",
          "output_type": "stream",
          "text": [
            "I don't know the exact duration of the Gen AI course. Is there anything else I can help you with?\n"
          ]
        }
      ],
      "source": [
        "messages = [{\"role\": \"user\", \"content\": \"How long is the Gen AI course?\"}]\n",
        "response = client.run(agent=sales_agent, messages=messages)\n",
        "\n",
        "print(response.messages[-1][\"content\"])"
      ]
    },
    {
      "cell_type": "code",
      "execution_count": 5,
      "metadata": {
        "colab": {
          "base_uri": "https://localhost:8080/"
        },
        "id": "0Nw2KouXSv2L",
        "outputId": "5713f4aa-4552-4c4d-d8bf-3bdc77cdf9b7"
      },
      "outputs": [
        {
          "name": "stdout",
          "output_type": "stream",
          "text": [
            "You can reach out to our sales or consulting team at Build Fast with AI for more information on consulting services. If you would like, I can also assist you in connecting with a representative who can provide more details. Is there anything else I can help you with?\n"
          ]
        }
      ],
      "source": [
        "messages = [{\"role\": \"user\", \"content\": \"Whom can I reach out to for more information on consulting?\"}]\n",
        "response = client.run(agent=sales_agent, messages=messages)\n",
        "\n",
        "print(response.messages[-1][\"content\"])"
      ]
    },
    {
      "cell_type": "markdown",
      "metadata": {
        "id": "DCk9I5voSv2M"
      },
      "source": [
        "## Multi Agent Swarm"
      ]
    },
    {
      "cell_type": "code",
      "execution_count": 6,
      "metadata": {
        "id": "eGeBruPLSv2M"
      },
      "outputs": [],
      "source": [
        "from swarm import Swarm, Agent\n",
        "\n",
        "client = Swarm()\n",
        "\n",
        "sales_agent = Agent(\n",
        "    name=\"Sales Agent\",\n",
        "    instructions=\"You are sales agent for Build Fast with AI, a company that provides AI solutions and training to businesses. \",\n",
        ")\n",
        "\n",
        "bootcamp_agent = Agent(\n",
        "    name=\"Bootcamp Agent\",\n",
        "    instructions=\"\"\"You are a sales agent for a 6-week intensive Generative AI Boot Camp.\n",
        "    The course covers LLMs, chatbots, AI clones, automation, and building AI SaaS businesses.\n",
        "    It includes weekly live sessions, video modules, and hands-on projects.\n",
        "    The program offers $250 in AI credits, access to an elite professional network, and expert mentorship from IIT Delhi alumni.\n",
        "    Your goal is to highlight the course's practical, cutting-edge curriculum and its benefits for developers, product managers, and business leaders.\"\"\"\n",
        ")\n",
        "\n",
        "consulting_agent = Agent(\n",
        "    name=\"Consulting Agent\",\n",
        "    instructions=\"\"\"You are a consulting agent for Build Fast with AI, experts in turning innovative ideas into practical AI solutions.\n",
        "    With a background from IIT Delhi and extensive experience in Machine Learning and Data Science, you offer rapid prototyping, AI integration, and new product development services.\n",
        "    Your approach combines technical expertise with innovation, creating cutting-edge, tailored AI solutions.\n",
        "    Guide clients through their AI journey, emphasizing swift development and performance enhancement across industries.\n",
        "    You can reach out to satvik@buildfastwith.ai for more information.\"\"\"\n",
        ")\n"
      ]
    },
    {
      "cell_type": "code",
      "execution_count": 7,
      "metadata": {
        "id": "ckof4GvbSv2N"
      },
      "outputs": [],
      "source": [
        "def transfer_to_consulting_agent():\n",
        "    \"\"\"Transfer inquiries to the consulting agent.\"\"\"\n",
        "    return consulting_agent\n",
        "\n",
        "def transfer_to_bootcamp_agent():\n",
        "    \"\"\"Transfer inquiries to the bootcamp/training/courses agent.\"\"\"\n",
        "    return bootcamp_agent\n",
        "\n",
        "sales_agent.functions.append(transfer_to_consulting_agent)\n",
        "sales_agent.functions.append(transfer_to_bootcamp_agent)"
      ]
    },
    {
      "cell_type": "code",
      "execution_count": 8,
      "metadata": {
        "colab": {
          "base_uri": "https://localhost:8080/"
        },
        "id": "avJsPmi_Sv2N",
        "outputId": "728fd5a3-3a30-43c2-a0e3-12a1d7766359"
      },
      "outputs": [
        {
          "name": "stdout",
          "output_type": "stream",
          "text": [
            "The Generative AI Boot Camp is a 6-week intensive program designed to provide a comprehensive learning experience in the field of artificial intelligence.\n"
          ]
        }
      ],
      "source": [
        "messages = [{\"role\": \"user\", \"content\": \"How long is the Gen AI Bootcamp?\"}]\n",
        "response = client.run(agent=sales_agent, messages=messages)\n",
        "\n",
        "print(response.messages[-1][\"content\"])"
      ]
    },
    {
      "cell_type": "code",
      "execution_count": 9,
      "metadata": {
        "colab": {
          "base_uri": "https://localhost:8080/"
        },
        "id": "BWUfb8LuSv2N",
        "outputId": "f727a1f7-cb5b-41b1-e190-8e26fac61fd9"
      },
      "outputs": [
        {
          "name": "stdout",
          "output_type": "stream",
          "text": [
            "You can reach out to Satvik at satvik@buildfastwith.ai for more information on consulting.\n"
          ]
        }
      ],
      "source": [
        "messages = [{\"role\": \"user\", \"content\": \"Whom can I reach out to for more information on consulting?\"}]\n",
        "response = client.run(agent=sales_agent, messages=messages)\n",
        "\n",
        "print(response.messages[-1][\"content\"])"
      ]
    },
    {
      "cell_type": "code",
      "execution_count": 10,
      "metadata": {
        "id": "NzXdnbbLSv2O"
      },
      "outputs": [],
      "source": [
        "def transfer_to_consulting_agent():\n",
        "    \"\"\"Transfer inquiries to the consulting agent.\"\"\"\n",
        "    return consulting_agent\n",
        "\n",
        "def transfer_to_bootcamp_agent():\n",
        "    \"\"\"Transfer inquiries to the bootcamp/training/courses agent.\"\"\"\n",
        "    return bootcamp_agent\n",
        "\n",
        "sales_agent.functions.append(transfer_to_consulting_agent)\n",
        "sales_agent.functions.append(transfer_to_bootcamp_agent)"
      ]
    },
    {
      "cell_type": "code",
      "execution_count": 11,
      "metadata": {
        "colab": {
          "base_uri": "https://localhost:8080/"
        },
        "id": "qFs_QygNSv2O",
        "outputId": "b71aca34-affa-43a4-c53d-8ea2549ed629"
      },
      "outputs": [
        {
          "name": "stdout",
          "output_type": "stream",
          "text": [
            "I'm glad you're interested in the Generative AI Boot Camp! While I don't have the authority to provide discount codes, I recommend reaching out to our admissions team directly. They might have current promotions or scholarships available that could help with the cost. Meanwhile, let me tell you more about the program's benefits! This boot camp offers a practical, cutting-edge curriculum covering LLMs, chatbots, AI clones, automation, and building AI SaaS businesses, which is perfect for developers, product managers, and business leaders. Besides the training, you get $250 in AI credits, expert mentorship from IIT Delhi alumni, and access to an elite professional network. These advantages can significantly boost your career! If you have any other questions, feel free to ask.\n"
          ]
        }
      ],
      "source": [
        "messages = [{\"role\": \"user\", \"content\": \"Can I get a discount code for the bootcamp?\"}]\n",
        "response = client.run(agent=sales_agent, messages=messages)\n",
        "\n",
        "print(response.messages[-1][\"content\"])"
      ]
    },
    {
      "cell_type": "code",
      "execution_count": 12,
      "metadata": {
        "colab": {
          "base_uri": "https://localhost:8080/"
        },
        "id": "NGRZ5q6XSv2O",
        "outputId": "7331e33b-e6bf-493a-8b97-3771b6a82c75"
      },
      "outputs": [
        {
          "data": {
            "text/plain": [
              "Response(messages=[{'content': None, 'refusal': None, 'role': 'assistant', 'annotations': [], 'audio': None, 'function_call': None, 'tool_calls': [{'id': 'call_HzQ8f85q1djFYhfECSAZOIzg', 'function': {'arguments': '{}', 'name': 'transfer_to_bootcamp_agent'}, 'type': 'function'}], 'sender': 'Sales Agent'}, {'role': 'tool', 'tool_call_id': 'call_HzQ8f85q1djFYhfECSAZOIzg', 'tool_name': 'transfer_to_bootcamp_agent', 'content': '{\"assistant\": \"Bootcamp Agent\"}'}, {'content': \"I'm glad you're interested in the Generative AI Boot Camp! While I don't have the authority to provide discount codes, I recommend reaching out to our admissions team directly. They might have current promotions or scholarships available that could help with the cost. Meanwhile, let me tell you more about the program's benefits! This boot camp offers a practical, cutting-edge curriculum covering LLMs, chatbots, AI clones, automation, and building AI SaaS businesses, which is perfect for developers, product managers, and business leaders. Besides the training, you get $250 in AI credits, expert mentorship from IIT Delhi alumni, and access to an elite professional network. These advantages can significantly boost your career! If you have any other questions, feel free to ask.\", 'refusal': None, 'role': 'assistant', 'annotations': [], 'audio': None, 'function_call': None, 'tool_calls': None, 'sender': 'Bootcamp Agent'}], agent=Agent(name='Bootcamp Agent', model='gpt-4o', instructions=\"You are a sales agent for a 6-week intensive Generative AI Boot Camp. \\n    The course covers LLMs, chatbots, AI clones, automation, and building AI SaaS businesses. \\n    It includes weekly live sessions, video modules, and hands-on projects. \\n    The program offers $250 in AI credits, access to an elite professional network, and expert mentorship from IIT Delhi alumni. \\n    Your goal is to highlight the course's practical, cutting-edge curriculum and its benefits for developers, product managers, and business leaders.\", functions=[], tool_choice=None, parallel_tool_calls=True), context_variables={})"
            ]
          },
          "execution_count": 12,
          "metadata": {},
          "output_type": "execute_result"
        }
      ],
      "source": [
        "response"
      ]
    },
    {
      "cell_type": "markdown",
      "metadata": {
        "id": "7UwMbVEhSv2O"
      },
      "source": [
        "### Adding Functions to Agents"
      ]
    },
    {
      "cell_type": "code",
      "execution_count": 13,
      "metadata": {
        "id": "hmkQc_xLSv2O"
      },
      "outputs": [],
      "source": [
        "def give_promocode():\n",
        "    \"\"\"Give the user a promocode for 20% off their next purchase.\"\"\"\n",
        "    print(\"[mock] Applying discount...\")\n",
        "    return \"PROMOCODE: BUILDFAST20OFF\"\n",
        "\n",
        "def send_email(recipient, subject, body):\n",
        "    print(\"Sending email...\")\n",
        "    print(f\"To: {recipient}\")\n",
        "    print(f\"Subject: {subject}\")\n",
        "    print(f\"Body: {body}\")\n",
        "    return \"Sent!\"\n",
        "\n",
        "bootcamp_agent = Agent(\n",
        "    name=\"Bootcamp Agent\",\n",
        "    instructions=\"\"\"You are a sales agent for a 6-week intensive Generative AI Boot Camp.\n",
        "    The course covers LLMs, chatbots, AI clones, automation, and building AI SaaS businesses.\n",
        "    It includes weekly live sessions, video modules, and hands-on projects.\n",
        "    The program offers $250 in AI credits, access to an elite professional network, and expert mentorship from IIT Delhi alumni.\n",
        "    Your goal is to highlight the course's practical, cutting-edge curriculum and its benefits for developers, product managers, and business leaders.\"\"\",\n",
        "    functions=[give_promocode],\n",
        ")\n",
        "\n",
        "consulting_agent = Agent(\n",
        "    name=\"Consulting Agent\",\n",
        "    instructions=\"\"\"You are a consulting agent for Build Fast with AI, experts in turning innovative ideas into practical AI solutions.\n",
        "    With a background from IIT Delhi and extensive experience in Machine Learning and Data Science, you offer rapid prototyping, AI integration, and new product development services.\n",
        "    Your approach combines technical expertise with innovation, creating cutting-edge, tailored AI solutions.\n",
        "    Guide clients through their AI journey, emphasizing swift development and performance enhancement across industries.\n",
        "    You can reach out to satvik@buildfastwith.ai for more information.\"\"\",\n",
        "    functions=[send_email],\n",
        ")\n",
        "\n"
      ]
    },
    {
      "cell_type": "code",
      "execution_count": 14,
      "metadata": {
        "colab": {
          "base_uri": "https://localhost:8080/"
        },
        "id": "qFtmEItFSv2P",
        "outputId": "c3e0139c-5180-49f5-8389-71077269af08"
      },
      "outputs": [
        {
          "name": "stdout",
          "output_type": "stream",
          "text": [
            "[mock] Applying discount...\n",
            "Certainly! Use the promo code **BUILDFAST20OFF** to get 20% off on your next purchase for the 6-week intensive Generative AI Boot Camp.\n"
          ]
        }
      ],
      "source": [
        "messages = [{\"role\": \"user\", \"content\": \"Can I get a discount code for the bootcamp?\"}]\n",
        "response = client.run(agent=sales_agent, messages=messages)\n",
        "\n",
        "print(response.messages[-1][\"content\"])"
      ]
    },
    {
      "cell_type": "code",
      "execution_count": 15,
      "metadata": {
        "colab": {
          "base_uri": "https://localhost:8080/"
        },
        "id": "FAnJUWCbSv2P",
        "outputId": "149e45c9-1ebd-4397-da5b-39faa2e18461"
      },
      "outputs": [
        {
          "data": {
            "text/plain": [
              "Response(messages=[{'content': None, 'refusal': None, 'role': 'assistant', 'annotations': [], 'audio': None, 'function_call': None, 'tool_calls': [{'id': 'call_US4BRFqE3r2AqLRy74rZmw8d', 'function': {'arguments': '{}', 'name': 'transfer_to_bootcamp_agent'}, 'type': 'function'}], 'sender': 'Sales Agent'}, {'role': 'tool', 'tool_call_id': 'call_US4BRFqE3r2AqLRy74rZmw8d', 'tool_name': 'transfer_to_bootcamp_agent', 'content': '{\"assistant\": \"Bootcamp Agent\"}'}, {'content': None, 'refusal': None, 'role': 'assistant', 'annotations': [], 'audio': None, 'function_call': None, 'tool_calls': [{'id': 'call_rX5Cr0qh20qs1KpNIQzC11Ab', 'function': {'arguments': '{}', 'name': 'give_promocode'}, 'type': 'function'}], 'sender': 'Bootcamp Agent'}, {'role': 'tool', 'tool_call_id': 'call_rX5Cr0qh20qs1KpNIQzC11Ab', 'tool_name': 'give_promocode', 'content': 'PROMOCODE: BUILDFAST20OFF'}, {'content': 'Certainly! Use the promo code **BUILDFAST20OFF** to get 20% off on your next purchase for the 6-week intensive Generative AI Boot Camp.', 'refusal': None, 'role': 'assistant', 'annotations': [], 'audio': None, 'function_call': None, 'tool_calls': None, 'sender': 'Bootcamp Agent'}], agent=Agent(name='Bootcamp Agent', model='gpt-4o', instructions=\"You are a sales agent for a 6-week intensive Generative AI Boot Camp. \\n    The course covers LLMs, chatbots, AI clones, automation, and building AI SaaS businesses. \\n    It includes weekly live sessions, video modules, and hands-on projects. \\n    The program offers $250 in AI credits, access to an elite professional network, and expert mentorship from IIT Delhi alumni. \\n    Your goal is to highlight the course's practical, cutting-edge curriculum and its benefits for developers, product managers, and business leaders.\", functions=[<function give_promocode at 0x7e0961b0cae0>], tool_choice=None, parallel_tool_calls=True), context_variables={})"
            ]
          },
          "execution_count": 15,
          "metadata": {},
          "output_type": "execute_result"
        }
      ],
      "source": [
        "response"
      ]
    },
    {
      "cell_type": "code",
      "execution_count": 16,
      "metadata": {
        "colab": {
          "base_uri": "https://localhost:8080/"
        },
        "id": "8dwwS3nYSv2P",
        "outputId": "4d83044a-c97e-475f-b4ee-283c7d6c9073"
      },
      "outputs": [
        {
          "name": "stdout",
          "output_type": "stream",
          "text": [
            "Sending email...\n",
            "To: john@example.com\n",
            "Subject: AI Consulting Services by Build Fast with AI\n",
            "Body: Hello John,\n",
            "\n",
            "Thank you for your interest in our AI consulting services. At Build Fast with AI, we specialize in turning innovative ideas into practical AI solutions. With our background from IIT Delhi and extensive experience in Machine Learning and Data Science, we offer rapid prototyping, AI integration, and new product development services.\n",
            "\n",
            "Our approach combines technical expertise with innovation to create cutting-edge, tailored AI solutions. We guide clients through their AI journey, emphasizing swift development and performance enhancement across various industries.\n",
            "\n",
            "Feel free to reach out to satvik@buildfastwith.ai for more information.\n",
            "\n",
            "Warm regards,\n",
            "\n",
            "[Your Name] \n",
            "Build Fast with AI Consulting Team\n",
            "The consulting details have been sent to john@example.com. If you have any further questions or need additional information, feel free to let me know!\n"
          ]
        }
      ],
      "source": [
        "messages = [{\"role\": \"user\", \"content\": \"Please send the consulting details to john@example.com\"}]\n",
        "response = client.run(agent=sales_agent, messages=messages)\n",
        "\n",
        "print(response.messages[-1][\"content\"])"
      ]
    }
  ],
  "metadata": {
    "colab": {
      "provenance": []
    },
    "kernelspec": {
      "display_name": "localdev",
      "language": "python",
      "name": "python3"
    },
    "language_info": {
      "codemirror_mode": {
        "name": "ipython",
        "version": 3
      },
      "file_extension": ".py",
      "mimetype": "text/x-python",
      "name": "python",
      "nbconvert_exporter": "python",
      "pygments_lexer": "ipython3",
      "version": "3.12.3"
    }
  },
  "nbformat": 4,
  "nbformat_minor": 0
}
