{
  "cells": [
    {
      "cell_type": "markdown",
      "metadata": {
        "id": "2GVn7IjYw64D"
      },
      "source": [
        "<img src=\"https://drive.google.com/uc?export=view&id=1wYSMgJtARFdvTt5g7E20mE4NmwUFUuog\" width=\"200\">\n",
        "\n",
        "[![Gen AI Experiments](https://img.shields.io/badge/Gen%20AI%20Experiments-GenAI%20Bootcamp-blue?style=for-the-badge&logo=artificial-intelligence)](https://github.com/buildfastwithai/gen-ai-experiments)\n",
        "[![Gen AI Experiments GitHub](https://img.shields.io/github/stars/buildfastwithai/gen-ai-experiments?style=for-the-badge&logo=github&color=gold)](http://github.com/buildfastwithai/gen-ai-experiments)\n",
        "\n",
        "[![Open In Colab](https://colab.research.google.com/assets/colab-badge.svg)](https://colab.research.google.com/drive/1JeQmZWZoWCrmQQg5-8FFQtAvYNvFQKuU?usp=sharing)\n",
        "## Master Generative AI in 8 Weeks\n",
        "**What You'll Learn:**\n",
        "- Master cutting-edge AI tools & frameworks\n",
        "- 6 weeks of hands-on, project-based learning\n",
        "- Weekly live mentorship sessions\n",
        "- Join Innovation Community\n",
        "\n",
        "Learn by building. Get expert mentorship and work on real AI projects.\n",
        "[Start Your Journey](https://www.buildfastwithai.com/genai-course)"
      ]
    },
    {
      "cell_type": "markdown",
      "metadata": {
        "id": "wd0NBUxQuO1B"
      },
      "source": [
        "##Step-by-Step Guide to Building AI Agent Teams with CrewAI\n"
      ]
    },
    {
      "cell_type": "markdown",
      "metadata": {
        "id": "9xmXLD-cuRGq"
      },
      "source": [
        "###Introduction\n",
        "CrewAI is a powerful framework that allows you to create, coordinate and deploy teams of AI agents that work together to accomplish complex tasks. This guide will walk you through the process of creating your own AI agent teams, even if you have minimal coding experience."
      ]
    },
    {
      "cell_type": "markdown",
      "metadata": {
        "id": "0hCUOI1-J2Zd"
      },
      "source": [
        "###install Required Libraries"
      ]
    },
    {
      "cell_type": "code",
      "execution_count": null,
      "metadata": {
        "id": "hHeuSCq_uVy2"
      },
      "outputs": [],
      "source": [
        "!pip install -qU crewai langchain_openai 'crewai[tools]' google-search-results"
      ]
    },
    {
      "cell_type": "markdown",
      "metadata": {
        "id": "wdVKINDtL1Ls"
      },
      "source": [
        "###Getting Your API Keys\n",
        "**Serper API Key**\n",
        "\n",
        "* Visit https://serper.dev/api-key\n",
        "* Sign up for an account or log in\n",
        "* Navigate to the API dashboard\n",
        "* Generate your API key\n",
        "* Copy the key and use in your Colab Notebook\n",
        "\n",
        "**Google Gemini API Key**\n",
        "\n",
        "* Visit https://aistudio.google.com/\n",
        " Sign in with your Google account\n",
        "* Navigate to \"API Keys\" in the settings menu\n",
        "* Click \"Create API Key\"\n",
        "* Copy your new API key And use in Colab Notebook\n"
      ]
    },
    {
      "cell_type": "code",
      "execution_count": null,
      "metadata": {
        "id": "46WooK1suaPQ"
      },
      "outputs": [],
      "source": [
        "import os\n",
        "from google.colab import userdata\n",
        "# os.environ[\"OPENAI_API_KEY\"] = userdata.get('OPENAI_API_KEY')\n",
        "os.environ[\"GEMINI_API_KEY\"] = userdata.get('GEMINI_API_KEY')\n",
        "os.environ[\"SERPER_API_KEY\"] = userdata.get('SERPER_API_KEY')"
      ]
    },
    {
      "cell_type": "markdown",
      "metadata": {
        "id": "IfLfg_dtKBFB"
      },
      "source": [
        "###Initialize Models"
      ]
    },
    {
      "cell_type": "code",
      "execution_count": null,
      "metadata": {
        "id": "whOXjfQRueMV"
      },
      "outputs": [],
      "source": [
        "from langchain_openai import ChatOpenAI\n",
        "from crewai import LLM\n",
        "\n",
        "Gemini = LLM(\n",
        "    model=\"gemini/gemini-2.0-flash\",)\n",
        "\n",
        "\n",
        "#gpt4o = ChatOpenAI(model = \"gpt-4o\")"
      ]
    },
    {
      "cell_type": "markdown",
      "metadata": {
        "id": "OGO9Gr0mAJpu"
      },
      "source": [
        "### Stock Market Agent 🧳\n"
      ]
    },
    {
      "cell_type": "code",
      "execution_count": null,
      "metadata": {
        "id": "Zm9_pd42ujm9"
      },
      "outputs": [],
      "source": [
        "from crewai import Agent, Task, Crew, Process\n",
        "from crewai_tools import SerperDevTool\n",
        "\n",
        "# Initialize tools\n",
        "search_tool = SerperDevTool()\n",
        "\n",
        "def create_stock_market_agent(stock_symbol):\n",
        "    # Define the Stock Market Agent\n",
        "    stock_agent = Agent(\n",
        "        role=\"Financial Analyst\",\n",
        "        goal=f\"Analyze the stock market for {stock_symbol}\",\n",
        "        backstory=\"A financial expert trained to analyze markets and provide actionable investment insights\",\n",
        "        verbose=True,\n",
        "        tools=[search_tool],\n",
        "        llm=Gemini\n",
        "    )\n",
        "\n",
        "    # Define the Market Trend Analyst\n",
        "    trend_analyst = Agent(\n",
        "        role=\"Market Trend Analyst\",\n",
        "        goal=f\"Analyze broader market trends affecting {stock_symbol}\",\n",
        "        backstory=\"A seasoned market analyst specializing in sector analysis, market trends, and competitive landscape evaluation\",\n",
        "        verbose=True,\n",
        "        tools=[search_tool],\n",
        "        llm=Gemini\n",
        "    )\n",
        "\n",
        "    # Define the Stock Analysis Task\n",
        "    stock_task = Task(\n",
        "        description=f\"Analyze the performance and trends of {stock_symbol} and provide investment recommendations\",\n",
        "        expected_output=f\"A detailed analysis of {stock_symbol} including trends, risks, and recommendations.\",\n",
        "        agent=stock_agent\n",
        "    )\n",
        "\n",
        "    # Define the Market Analysis Task\n",
        "    market_task = Task(\n",
        "        description=f\"Analyze sector trends, market conditions, and competitive landscape affecting {stock_symbol}. Include macroeconomic factors and sector-specific catalysts.\",\n",
        "        expected_output=f\"A comprehensive market analysis including sector trends, competitive position, and market factors affecting {stock_symbol}.\",\n",
        "        agent=trend_analyst\n",
        "    )\n",
        "\n",
        "    # Create and Run the Crew\n",
        "    crew = Crew(\n",
        "        agents=[stock_agent, trend_analyst],\n",
        "        tasks=[stock_task, market_task],\n",
        "        verbose=True,\n",
        "        process=Process.sequential\n",
        "    )\n",
        "\n",
        "    result = crew.kickoff(inputs={\"stock_symbol\": stock_symbol})\n",
        "    return result"
      ]
    },
    {
      "cell_type": "markdown",
      "metadata": {
        "id": "dn-xzy89utDY"
      },
      "source": [
        "### Execute the agent\n"
      ]
    },
    {
      "cell_type": "code",
      "execution_count": null,
      "metadata": {
        "id": "CsM7G9QXunWB"
      },
      "outputs": [],
      "source": [
        "stock_symbol = input(\"Enter the stock symbol (e.g., AAPL, TSLA): \")\n",
        "stock_result = create_stock_market_agent(stock_symbol)\n",
        "print(\"Stock Market Analysis:\")\n",
        "print(stock_result)"
      ]
    }
  ],
  "metadata": {
    "colab": {
      "provenance": []
    },
    "kernelspec": {
      "display_name": "Python 3",
      "name": "python3"
    },
    "language_info": {
      "name": "python"
    }
  },
  "nbformat": 4,
  "nbformat_minor": 0
}
