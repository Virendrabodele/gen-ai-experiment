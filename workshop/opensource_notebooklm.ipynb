{
  "cells": [
    {
      "cell_type": "markdown",
      "metadata": {
        "id": "P_qB6oej7KCP"
      },
      "source": [
        "<img src=\"https://drive.google.com/uc?export=view&id=1wYSMgJtARFdvTt5g7E20mE4NmwUFUuog\" width=\"200\">\n",
        "\n",
        "[![Gen AI Experiments](https://img.shields.io/badge/Gen%20AI%20Experiments-GenAI%20Bootcamp-blue?style=for-the-badge&logo=artificial-intelligence)](https://github.com/buildfastwithai/gen-ai-experiments)\n",
        "[![Gen AI Experiments GitHub](https://img.shields.io/github/stars/buildfastwithai/gen-ai-experiments?style=for-the-badge&logo=github&color=gold)](http://github.com/buildfastwithai/gen-ai-experiments)\n",
        "\n",
        "[![Open In Colab](https://colab.research.google.com/assets/colab-badge.svg)](https://colab.research.google.com/drive/18qHCKLPhWujqelUvp8opSjmkUtXqGiC4?usp=sharingg)\n",
        "## Master Generative AI in 8 Weeks\n",
        "**What You'll Learn:**\n",
        "- Master cutting-edge AI tools & frameworks\n",
        "- 6 weeks of hands-on, project-based learning\n",
        "- Weekly live mentorship sessions\n",
        "- Join Innovation Community\n",
        "\n",
        "Learn by building. Get expert mentorship and work on real AI projects.\n",
        "[Start Your Journey](https://www.buildfastwithai.com/genai-course)"
      ]
    },
    {
      "cell_type": "markdown",
      "metadata": {
        "id": "QNXyjixrwiTj"
      },
      "source": [
        "## Open Source Implementation of NotebookLM\n",
        "\n",
        "- Open source alternative to Google's NotebookLM\n",
        "- Uses Deepseek-V3 for language understanding and generation\n",
        "- Integrates PlayHT for text-to-speech capabilities\n",
        "- Demonstrates interactive notebook-based AI assistance\n",
        "\n"
      ]
    },
    {
      "cell_type": "markdown",
      "metadata": {
        "id": "iWkvJYD-xVlr"
      },
      "source": [
        "Notebook by [Build Fast with AI](https://www.buildfastwithai.com/genai-course)"
      ]
    },
    {
      "cell_type": "markdown",
      "metadata": {
        "id": "1pla2sBzt2vJ"
      },
      "source": [
        "###Install Requirements"
      ]
    },
    {
      "cell_type": "code",
      "execution_count": null,
      "metadata": {
        "colab": {
          "base_uri": "https://localhost:8080/"
        },
        "id": "SnKUkFDXthcO",
        "outputId": "d81db2d4-0770-4756-972f-14e946da507b"
      },
      "outputs": [
        {
          "name": "stdout",
          "output_type": "stream",
          "text": [
            "\u001b[?25l   \u001b[90m━━━━━━━━━━━━━━━━━━━━━━━━━━━━━━━━━━━━━━━━\u001b[0m \u001b[32m0.0/54.7 kB\u001b[0m \u001b[31m?\u001b[0m eta \u001b[36m-:--:--\u001b[0m\r\u001b[2K   \u001b[90m━━━━━━━━━━━━━━━━━━━━━━━━━━━━━━━━━━━━━━━━\u001b[0m \u001b[32m54.7/54.7 kB\u001b[0m \u001b[31m1.7 MB/s\u001b[0m eta \u001b[36m0:00:00\u001b[0m\n",
            "\u001b[?25h\u001b[?25l   \u001b[90m━━━━━━━━━━━━━━━━━━━━━━━━━━━━━━━━━━━━━━━━\u001b[0m \u001b[32m0.0/413.0 kB\u001b[0m \u001b[31m?\u001b[0m eta \u001b[36m-:--:--\u001b[0m\r\u001b[2K   \u001b[91m━━━━━━━━━━━━━━━━━━━━━━━━━━━━━━━━━━━━━━━\u001b[0m\u001b[91m╸\u001b[0m \u001b[32m409.6/413.0 kB\u001b[0m \u001b[31m15.2 MB/s\u001b[0m eta \u001b[36m0:00:01\u001b[0m\r\u001b[2K   \u001b[90m━━━━━━━━━━━━━━━━━━━━━━━━━━━━━━━━━━━━━━━━\u001b[0m \u001b[32m413.0/413.0 kB\u001b[0m \u001b[31m7.7 MB/s\u001b[0m eta \u001b[36m0:00:00\u001b[0m\n",
            "\u001b[?25h\u001b[?25l   \u001b[90m━━━━━━━━━━━━━━━━━━━━━━━━━━━━━━━━━━━━━━━━\u001b[0m \u001b[32m0.0/1.2 MB\u001b[0m \u001b[31m?\u001b[0m eta \u001b[36m-:--:--\u001b[0m\r\u001b[2K   \u001b[91m━━━━━━━━━━━━━━━━━━━━━━━━━━━━━━━━━━━━━━━\u001b[0m\u001b[91m╸\u001b[0m \u001b[32m1.2/1.2 MB\u001b[0m \u001b[31m79.1 MB/s\u001b[0m eta \u001b[36m0:00:01\u001b[0m\r\u001b[2K   \u001b[90m━━━━━━━━━━━━━━━━━━━━━━━━━━━━━━━━━━━━━━━━\u001b[0m \u001b[32m1.2/1.2 MB\u001b[0m \u001b[31m24.5 MB/s\u001b[0m eta \u001b[36m0:00:00\u001b[0m\n",
            "\u001b[?25h"
          ]
        }
      ],
      "source": [
        "!pip install -qU fal-client langchain-openai"
      ]
    },
    {
      "cell_type": "markdown",
      "metadata": {
        "id": "Ee7evciTt5Yq"
      },
      "source": [
        "###Import API Keys"
      ]
    },
    {
      "cell_type": "code",
      "execution_count": null,
      "metadata": {
        "id": "pBBXMSTKucUE"
      },
      "outputs": [],
      "source": [
        "import os\n",
        "from google.colab import userdata\n",
        "\n",
        "os.environ[\"FAL_KEY\"] = userdata.get('FAL_KEY')\n",
        "os.environ[\"OPENROUTER_API_KEY\"] = userdata.get('OPENROUTER_API_KEY')"
      ]
    },
    {
      "cell_type": "markdown",
      "metadata": {
        "id": "wnrYBPKjt-28"
      },
      "source": [
        "###Generate Podcast Text"
      ]
    },
    {
      "cell_type": "code",
      "execution_count": null,
      "metadata": {
        "id": "2nnzdQQDqH8z"
      },
      "outputs": [],
      "source": [
        "from langchain.prompts import ChatPromptTemplate\n",
        "from langchain_openai import ChatOpenAI\n",
        "\n",
        "def generate_podcast_transcript(topic):\n",
        "    # Modify this template as per your requirement!\n",
        "    podcast_template = ChatPromptTemplate.from_template(\"\"\"\n",
        "      Create an engaging conversation between two speakers discussing the topic: {topic}\n",
        "\n",
        "      Requirements:\n",
        "      - Generate exactly 5 back-and-forth exchanges\n",
        "      - Make it natural and conversational\n",
        "      - Include specific details about the {topic}\n",
        "      - Each line should start with either \"Speaker 1:\" or \"Speaker 2:\"\n",
        "\n",
        "      Here's an example of the format (but create NEW content about {topic}, don't copy this example):\n",
        "      Speaker 1: [First speaker's line]\n",
        "      Speaker 2: [Second speaker's line]\n",
        "\n",
        "      The response of the each speaker should be at most 20 words. The conversation has to be insightful, engaging, explanatory, deep diving and educational.\n",
        "\n",
        "      It should be in the style of a podcast where one speaker slightly is more knowledgeable than the other.\n",
        "\n",
        "      You are allowed to write only in the below format. Just give the output in the below format in a single string. No additional delimiters.\n",
        "\n",
        "      The content should be explanatory, deep diving and educational.\n",
        "\n",
        "      Speaker 1: Hey, did you catch the game last night?\n",
        "      Speaker 2: Of course! What a match—it had me on the edge of my seat.\n",
        "      Speaker 1: Same here! That last-minute goal was unreal. Who's your MVP?\n",
        "      Speaker 2: Gotta be the goalie. Those saves were unbelievable.\n",
        "\n",
        "\n",
        "      Remember: Create completely new dialogue about {topic}, don't use the above example.\n",
        "      \"\"\")\n",
        "\n",
        "    # Initialize the ChatOpenAI model\n",
        "    llm = ChatOpenAI(\n",
        "        model=\"deepseek/deepseek-chat\",\n",
        "        openai_api_key=os.getenv(\"OPENROUTER_API_KEY\"),\n",
        "        openai_api_base=\"https://openrouter.ai/api/v1\"\n",
        "    )\n",
        "\n",
        "    # Create the chain\n",
        "    chain = podcast_template | llm\n",
        "\n",
        "    response = chain.invoke({\"topic\": topic})\n",
        "    return response.content"
      ]
    },
    {
      "cell_type": "markdown",
      "metadata": {
        "id": "-9Mda2VeuBx4"
      },
      "source": [
        "###Usage"
      ]
    },
    {
      "cell_type": "code",
      "execution_count": null,
      "metadata": {
        "colab": {
          "base_uri": "https://localhost:8080/"
        },
        "id": "bEVhAuW1txhR",
        "outputId": "10695e7c-0819-43af-f18b-9bc80b931747"
      },
      "outputs": [
        {
          "name": "stdout",
          "output_type": "stream",
          "text": [
            "Speaker 1: So, have you heard about Quantum Random Walks? They’re like classical random walks but with quantum weirdness.  \n",
            "Speaker 2: Yeah! Instead of fixed paths, particles can explore multiple routes simultaneously, right?  \n",
            "Speaker 1: Exactly! Thanks to superposition, the quantum walker spreads faster than classical ones.  \n",
            "Speaker 2: That’s fascinating! So, they’re used in quantum algorithms for speedups, like in search problems?  \n",
            "Speaker 1: Precisely! Quantum walks power algorithms like Grover’s and even model complex quantum systems.\n"
          ]
        }
      ],
      "source": [
        "response = generate_podcast_transcript(\"Quantum Random Walks\")\n",
        "print(response)"
      ]
    },
    {
      "cell_type": "markdown",
      "metadata": {
        "id": "gBYYACcMuFMX"
      },
      "source": [
        "###Generate Podcast Audio"
      ]
    },
    {
      "cell_type": "code",
      "execution_count": null,
      "metadata": {
        "id": "ocPp1ws8wU-9"
      },
      "outputs": [],
      "source": [
        "import fal_client\n",
        "\n",
        "def generate_podcast(topic):\n",
        "    print(f\"\\n🎙️ Generating podcast transcript about: {topic}\")\n",
        "    print(\"-\" * 50)\n",
        "\n",
        "    # Get transcript first using generate_podcast_transcript\n",
        "    transcript_result = generate_podcast_transcript(topic)\n",
        "\n",
        "    print(\"\\n✍️ Generated transcript:\")\n",
        "    print(\"-\" * 50)\n",
        "    print(transcript_result)\n",
        "\n",
        "    print(\"\\n🔊 Converting transcript to audio...\")\n",
        "    print(\"-\" * 50)\n",
        "\n",
        "    # Progress callback for fal-client\n",
        "    def on_queue_update(update):\n",
        "        if isinstance(update, fal_client.InProgress):\n",
        "            for log in update.logs:\n",
        "                print(f\"🎵 {log['message']}\")\n",
        "\n",
        "    # Generate audio using fal-client\n",
        "    try:\n",
        "        result = fal_client.subscribe(\n",
        "            \"fal-ai/playai/tts/dialog\",\n",
        "            {\n",
        "                \"input\": transcript_result,\n",
        "                \"voices\": [\n",
        "                    {\n",
        "                        \"voice\": \"Jennifer (English (US)/American)\",\n",
        "                        \"turn_prefix\": \"Speaker 1: \"\n",
        "                    },\n",
        "                    {\n",
        "                        \"voice\": \"Dexter (English (US)/American)\",\n",
        "                        \"turn_prefix\": \"Speaker 2: \"\n",
        "                    }\n",
        "                ]\n",
        "            },\n",
        "            with_logs=True,\n",
        "            on_queue_update=on_queue_update,\n",
        "        )\n",
        "\n",
        "        print(\"\\n✅ Audio generation complete!\")\n",
        "        print(f\"🔗 Audio URL: {result['audio']['url']}\")\n",
        "\n",
        "        return {\n",
        "            \"conversation\": transcript_result,\n",
        "            \"audio_url\": result['audio']['url']\n",
        "        }\n",
        "\n",
        "    except Exception as e:\n",
        "        print(f\"\\n❌ Error generating audio: {str(e)}\")\n",
        "        return {\n",
        "            \"conversation\": transcript_result,\n",
        "            \"audio_url\": None,\n",
        "            \"error\": str(e)\n",
        "        }"
      ]
    },
    {
      "cell_type": "markdown",
      "metadata": {
        "id": "heHxjokmuJow"
      },
      "source": [
        "###Usage"
      ]
    },
    {
      "cell_type": "code",
      "execution_count": null,
      "metadata": {
        "colab": {
          "base_uri": "https://localhost:8080/"
        },
        "id": "Q3k81CQJwYjU",
        "outputId": "01424a75-2497-4a07-a865-3811720511e5"
      },
      "outputs": [
        {
          "name": "stdout",
          "output_type": "stream",
          "text": [
            "\n",
            "🎙️ Generating podcast transcript about: Quantum Random Walks\n",
            "--------------------------------------------------\n",
            "\n",
            "✍️ Generated transcript:\n",
            "--------------------------------------------------\n",
            "Speaker 1: Have you heard about Quantum Random Walks? They’re fascinating!  \n",
            "Speaker 2: Yes! They’re like classical random walks but with quantum mechanics, right?  \n",
            "Speaker 1: Exactly! Instead of fixed steps, quantum particles explore multiple paths simultaneously.  \n",
            "Speaker 2: That’s superposition, isn’t it? How does it differ from classical paths?  \n",
            "Speaker 1: Classical walks spread linearly, but quantum walks spread quadratically due to interference.  \n",
            "Speaker 2: So they’re way more efficient for algorithms, like searching databases?  \n",
            "Speaker 1: Precisely! They’re revolutionizing fields like cryptography and optimization.\n",
            "\n",
            "🔊 Converting transcript to audio...\n",
            "--------------------------------------------------\n",
            "\n",
            "✅ Audio generation complete!\n",
            "🔗 Audio URL: https://v3.fal.media/files/tiger/3mTbTfo2ZuGgMr44aEym8_81e6dedd-4a07-4563-b758-fc0ff53cc1e5.mp3\n"
          ]
        },
        {
          "data": {
            "text/plain": [
              "{'conversation': 'Speaker 1: Have you heard about Quantum Random Walks? They’re fascinating!  \\nSpeaker 2: Yes! They’re like classical random walks but with quantum mechanics, right?  \\nSpeaker 1: Exactly! Instead of fixed steps, quantum particles explore multiple paths simultaneously.  \\nSpeaker 2: That’s superposition, isn’t it? How does it differ from classical paths?  \\nSpeaker 1: Classical walks spread linearly, but quantum walks spread quadratically due to interference.  \\nSpeaker 2: So they’re way more efficient for algorithms, like searching databases?  \\nSpeaker 1: Precisely! They’re revolutionizing fields like cryptography and optimization.',\n",
              " 'audio_url': 'https://v3.fal.media/files/tiger/3mTbTfo2ZuGgMr44aEym8_81e6dedd-4a07-4563-b758-fc0ff53cc1e5.mp3'}"
            ]
          },
          "execution_count": 9,
          "metadata": {},
          "output_type": "execute_result"
        }
      ],
      "source": [
        "generate_podcast(\"Quantum Random Walks\")"
      ]
    }
  ],
  "metadata": {
    "colab": {
      "provenance": []
    },
    "kernelspec": {
      "display_name": "Python 3",
      "name": "python3"
    },
    "language_info": {
      "name": "python"
    }
  },
  "nbformat": 4,
  "nbformat_minor": 0
}
