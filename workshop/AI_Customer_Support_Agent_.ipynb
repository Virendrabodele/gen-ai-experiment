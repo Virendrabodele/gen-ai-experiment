{
  "cells": [
    {
      "cell_type": "markdown",
      "metadata": {
        "id": "7cM0VYvlxC4T"
      },
      "source": [
        "<img src=\"https://drive.google.com/uc?export=view&id=1wYSMgJtARFdvTt5g7E20mE4NmwUFUuog\" width=\"200\">\n",
        "\n",
        "[![Gen AI Experiments](https://img.shields.io/badge/Gen%20AI%20Experiments-GenAI%20Bootcamp-blue?style=for-the-badge&logo=artificial-intelligence)](https://github.com/buildfastwithai/gen-ai-experiments)\n",
        "[![Gen AI Experiments GitHub](https://img.shields.io/github/stars/buildfastwithai/gen-ai-experiments?style=for-the-badge&logo=github&color=gold)](http://github.com/buildfastwithai/gen-ai-experiments)\n",
        "\n",
        "[![Open In Colab](https://colab.research.google.com/assets/colab-badge.svg)](https://colab.research.google.com/drive/1ie2t3YaOHiPyuxpgb6DjchE_lCPnCJwN?usp=sharing)\n"
      ]
    },
    {
      "cell_type": "markdown",
      "metadata": {},
      "source": [
        "## Master Generative AI in 8 Weeks\n",
        "**What You'll Learn:**\n",
        "- Master cutting-edge AI tools & frameworks\n",
        "- 6 weeks of hands-on, project-based learning\n",
        "- Weekly live mentorship sessions\n",
        "- Join Innovation Community\n",
        "\n",
        "Learn by building. Get expert mentorship and work on real AI projects.\n",
        "[Start Your Journey](https://www.buildfastwithai.com/genai-course)"
      ]
    },
    {
      "cell_type": "markdown",
      "metadata": {
        "id": "wd0NBUxQuO1B"
      },
      "source": [
        "##Step-by-Step Guide to Building AI Agent Teams with CrewAI\n"
      ]
    },
    {
      "cell_type": "markdown",
      "metadata": {
        "id": "9xmXLD-cuRGq"
      },
      "source": [
        "###Introduction\n",
        "CrewAI is a powerful framework that allows you to create, coordinate and deploy teams of AI agents that work together to accomplish complex tasks. This guide will walk you through the process of creating your own AI agent teams, even if you have minimal coding experience."
      ]
    },
    {
      "cell_type": "markdown",
      "metadata": {
        "id": "0hCUOI1-J2Zd"
      },
      "source": [
        "###install Required Libraries"
      ]
    },
    {
      "cell_type": "code",
      "execution_count": null,
      "metadata": {
        "id": "hHeuSCq_uVy2"
      },
      "outputs": [],
      "source": [
        "!pip install -qU crewai langchain_openai 'crewai[tools]' google-search-results"
      ]
    },
    {
      "cell_type": "markdown",
      "metadata": {
        "id": "wdVKINDtL1Ls"
      },
      "source": [
        "###Getting Your API Keys\n",
        "**Serper API Key**\n",
        "\n",
        "* Visit https://serper.dev/api-key\n",
        "* Sign up for an account or log in\n",
        "* Navigate to the API dashboard\n",
        "* Generate your API key\n",
        "* Copy the key and use in your Colab Notebook\n",
        "\n",
        "**Google Gemini API Key**\n",
        "\n",
        "* Visit https://aistudio.google.com/\n",
        " Sign in with your Google account\n",
        "* Navigate to \"API Keys\" in the settings menu\n",
        "* Click \"Create API Key\"\n",
        "* Copy your new API key And use in Colab Notebook\n"
      ]
    },
    {
      "cell_type": "code",
      "execution_count": null,
      "metadata": {
        "id": "46WooK1suaPQ"
      },
      "outputs": [],
      "source": [
        "import os\n",
        "from google.colab import userdata\n",
        "# os.environ[\"OPENAI_API_KEY\"] = userdata.get('OPENAI_API_KEY')\n",
        "os.environ[\"GEMINI_API_KEY\"] = userdata.get('GEMINI_API_KEY')\n",
        "os.environ[\"SERPER_API_KEY\"] = userdata.get('SERPER_API_KEY')"
      ]
    },
    {
      "cell_type": "markdown",
      "metadata": {
        "id": "IfLfg_dtKBFB"
      },
      "source": [
        "###Initialize Models"
      ]
    },
    {
      "cell_type": "code",
      "execution_count": null,
      "metadata": {
        "id": "whOXjfQRueMV"
      },
      "outputs": [],
      "source": [
        "from langchain_openai import ChatOpenAI\n",
        "from crewai import LLM\n",
        "\n",
        "Gemini = LLM(\n",
        "    model=\"gemini/gemini-2.0-flash\",)\n",
        "\n",
        "\n",
        "#gpt4o = ChatOpenAI(model = \"gpt-4o\")"
      ]
    },
    {
      "cell_type": "markdown",
      "metadata": {
        "id": "OGO9Gr0mAJpu"
      },
      "source": [
        "### AI Customer Support Agent 🧳\n"
      ]
    },
    {
      "cell_type": "code",
      "execution_count": null,
      "metadata": {
        "id": "Zm9_pd42ujm9"
      },
      "outputs": [],
      "source": [
        "from crewai import Agent, Task, Crew, Process\n",
        "from crewai_tools import SerperDevTool, ScrapeWebsiteTool\n",
        "from langchain_openai import ChatOpenAI\n",
        "from crewai import LLM\n",
        "\n",
        "# Initialize tools\n",
        "search_tool = SerperDevTool()\n",
        "scrape_tool = ScrapeWebsiteTool()\n",
        "tools = [search_tool, scrape_tool]\n",
        "\n",
        "def create_customer_support_system(customer_query, product_name, knowledge_base_url):\n",
        "    \"\"\"\n",
        "    Creates and runs a customer support system with multiple specialized agents\n",
        "    to handle customer inquiries.\n",
        "\n",
        "    Args:\n",
        "        customer_query (str): The customer's support request or question\n",
        "        product_name (str): Name of the product customer is inquiring about\n",
        "        knowledge_base_url (str): URL to the product's knowledge base/documentation\n",
        "\n",
        "    Returns:\n",
        "        str: A comprehensive support response\n",
        "    \"\"\"\n",
        "    # Define the Query Classifier Agent\n",
        "    classifier_agent = Agent(\n",
        "        role=\"Support Query Classifier\",\n",
        "        goal=\"Accurately classify customer support queries by type and priority\",\n",
        "        backstory=\"An expert in customer support triage with the ability to identify query type, urgency, and required expertise.\",\n",
        "        verbose=True,\n",
        "        tools=tools,\n",
        "        llm=Gemini\n",
        "    )\n",
        "\n",
        "    # Define the Technical Support Agent\n",
        "    technical_agent = Agent(\n",
        "        role=\"Technical Support Specialist\",\n",
        "        goal=f\"Provide accurate technical solutions for {product_name} issues\",\n",
        "        backstory=f\"A senior engineer with deep knowledge of {product_name}'s architecture and common technical issues. Known for explaining complex solutions in simple terms.\",\n",
        "        verbose=True,\n",
        "        tools=tools,\n",
        "        llm=Gemini\n",
        "    )\n",
        "\n",
        "    # Define the Customer Relations Agent\n",
        "    customer_agent = Agent(\n",
        "        role=\"Customer Relations Manager\",\n",
        "        goal=\"Ensure customer satisfaction and provide empathetic communication\",\n",
        "        backstory=\"A customer service expert specialized in creating positive customer experiences, with expertise in communication psychology and conflict resolution.\",\n",
        "        verbose=True,\n",
        "        tools=tools,\n",
        "        llm=Gemini\n",
        "    )\n",
        "\n",
        "    # Define the Tasks\n",
        "\n",
        "    # Task 1: Classify the query\n",
        "    classification_task = Task(\n",
        "        description=f\"Analyze this customer query: '{customer_query}' about product '{product_name}'. \" +\n",
        "                   \"Classify it by type (technical issue, billing question, feature request, etc.), \" +\n",
        "                   \"determine priority level (low, medium, high, urgent), and identify what expertise is needed to resolve it.\",\n",
        "        expected_output=\"A detailed classification with query type, priority level, required expertise, and recommended next steps.\",\n",
        "        agent=classifier_agent\n",
        "    )\n",
        "\n",
        "    # Task 2: Technical solution research\n",
        "    technical_task = Task(\n",
        "        description=f\"Research and provide a solution for this query: '{customer_query}' about '{product_name}'. \" +\n",
        "                   f\"Use the knowledge base at {knowledge_base_url} and search for relevant documentation. \" +\n",
        "                   \"Provide step-by-step troubleshooting instructions with screenshots or diagrams if helpful.\",\n",
        "        expected_output=\"A comprehensive technical solution with step-by-step instructions that completely resolves the customer's issue.\",\n",
        "        agent=technical_agent\n",
        "    )\n",
        "\n",
        "    # Task 3: Craft the final response\n",
        "    response_task = Task(\n",
        "        description=f\"Using the technical solution provided, craft a friendly, empathetic response to '{customer_query}'. \" +\n",
        "                  \"The response should be professional but warm, easy to understand, and should anticipate follow-up questions. \" +\n",
        "                  \"Include appropriate reassurances and clear next steps if the issue requires additional support.\",\n",
        "        expected_output=\"A complete customer-ready response that balances technical accuracy with customer care principles.\",\n",
        "        agent=customer_agent\n",
        "    )\n",
        "\n",
        "    # Create and Run the Crew\n",
        "    support_crew = Crew(\n",
        "        agents=[classifier_agent, technical_agent, customer_agent],\n",
        "        tasks=[classification_task, technical_task, response_task],\n",
        "        verbose=True,\n",
        "        process=Process.sequential\n",
        "    )\n",
        "\n",
        "    result = support_crew.kickoff(\n",
        "        inputs={\n",
        "            \"customer_query\": customer_query,\n",
        "            \"product_name\": product_name,\n",
        "            \"knowledge_base_url\": knowledge_base_url\n",
        "        }\n",
        "    )\n",
        "\n",
        "    return result"
      ]
    },
    {
      "cell_type": "markdown",
      "metadata": {
        "id": "dn-xzy89utDY"
      },
      "source": [
        "### Execute the agent\n"
      ]
    },
    {
      "cell_type": "code",
      "execution_count": null,
      "metadata": {
        "id": "CsM7G9QXunWB"
      },
      "outputs": [],
      "source": [
        "print(\"AI Customer Support System\")\n",
        "print(\"==========================\")\n",
        "\n",
        "product_name = input(\"Enter product name: \")\n",
        "knowledge_base_url = input(\"Enter knowledge base URL: \")\n",
        "print(\"\\nWhat issue is the customer experiencing?\")\n",
        "customer_query = input(\"> \")\n",
        "\n",
        "print(\"\\nProcessing support request...\\n\")\n",
        "support_response = create_customer_support_system(customer_query, product_name, knowledge_base_url)\n",
        "\n",
        "print(\"\\nCustomer Support Response:\")\n",
        "print(\"==========================\")\n",
        "print(support_response)"
      ]
    }
  ],
  "metadata": {
    "colab": {
      "provenance": []
    },
    "kernelspec": {
      "display_name": "Python 3",
      "name": "python3"
    },
    "language_info": {
      "name": "python"
    }
  },
  "nbformat": 4,
  "nbformat_minor": 0
}
