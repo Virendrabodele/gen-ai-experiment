{
  "cells": [
    {
      "cell_type": "markdown",
      "metadata": {
        "id": "OKjAUuPbxV_k"
      },
      "source": [
        "<img src=\"https://drive.google.com/uc?export=view&id=1wYSMgJtARFdvTt5g7E20mE4NmwUFUuog\" width=\"200\">\n",
        "\n",
        "[![Gen AI Experiments](https://img.shields.io/badge/Gen%20AI%20Experiments-GenAI%20Bootcamp-blue?style=for-the-badge&logo=artificial-intelligence)](https://github.com/buildfastwithai/gen-ai-experiments)\n",
        "[![Gen AI Experiments GitHub](https://img.shields.io/github/stars/buildfastwithai/gen-ai-experiments?style=for-the-badge&logo=github&color=gold)](http://github.com/buildfastwithai/gen-ai-experiments)\n",
        "\n",
        "[![Open In Colab](https://colab.research.google.com/assets/colab-badge.svg)](https://colab.research.google.com/drive/1jEdw6BV6BQ6m8zs_uGPGubLvHRplauC8?usp=sharing)\n"
      ]
    },
    {
      "cell_type": "markdown",
      "metadata": {},
      "source": [
        "## Master Generative AI in 8 Weeks\n",
        "**What You'll Learn:**\n",
        "- Master cutting-edge AI tools & frameworks\n",
        "- 6 weeks of hands-on, project-based learning\n",
        "- Weekly live mentorship sessions\n",
        "- Join Innovation Community\n",
        "\n",
        "Learn by building. Get expert mentorship and work on real AI projects.\n",
        "[Start Your Journey](https://www.buildfastwithai.com/genai-course)"
      ]
    },
    {
      "cell_type": "markdown",
      "metadata": {
        "id": "wd0NBUxQuO1B"
      },
      "source": [
        "##Step-by-Step Guide to Building AI Agent Teams with CrewAI\n"
      ]
    },
    {
      "cell_type": "markdown",
      "metadata": {
        "id": "9xmXLD-cuRGq"
      },
      "source": [
        "###Introduction\n",
        "CrewAI is a powerful framework that allows you to create, coordinate and deploy teams of AI agents that work together to accomplish complex tasks. This guide will walk you through the process of creating your own AI agent teams, even if you have minimal coding experience."
      ]
    },
    {
      "cell_type": "markdown",
      "metadata": {
        "id": "0hCUOI1-J2Zd"
      },
      "source": [
        "###install Required Libraries"
      ]
    },
    {
      "cell_type": "code",
      "execution_count": null,
      "metadata": {
        "colab": {
          "base_uri": "https://localhost:8080/"
        },
        "id": "hHeuSCq_uVy2",
        "outputId": "45318d91-d0fa-4b0a-b934-bbf70456ceb8"
      },
      "outputs": [
        {
          "name": "stdout",
          "output_type": "stream",
          "text": [
            "  Preparing metadata (setup.py) ... \u001b[?25l\u001b[?25hdone\n",
            "\u001b[2K     \u001b[90m━━━━━━━━━━━━━━━━━━━━━━━━━━━━━━━━━━━━━━━━\u001b[0m \u001b[32m42.5/42.5 kB\u001b[0m \u001b[31m1.8 MB/s\u001b[0m eta \u001b[36m0:00:00\u001b[0m\n",
            "\u001b[2K     \u001b[90m━━━━━━━━━━━━━━━━━━━━━━━━━━━━━━━━━━━━━━━━\u001b[0m \u001b[32m67.3/67.3 kB\u001b[0m \u001b[31m3.4 MB/s\u001b[0m eta \u001b[36m0:00:00\u001b[0m\n",
            "\u001b[?25h  Installing build dependencies ... \u001b[?25l\u001b[?25hdone\n",
            "  Getting requirements to build wheel ... \u001b[?25l\u001b[?25hdone\n",
            "  Preparing metadata (pyproject.toml) ... \u001b[?25l\u001b[?25hdone\n",
            "\u001b[2K     \u001b[90m━━━━━━━━━━━━━━━━━━━━━━━━━━━━━━━━━━━━━━━━\u001b[0m \u001b[32m48.2/48.2 kB\u001b[0m \u001b[31m3.0 MB/s\u001b[0m eta \u001b[36m0:00:00\u001b[0m\n",
            "\u001b[2K   \u001b[90m━━━━━━━━━━━━━━━━━━━━━━━━━━━━━━━━━━━━━━━━\u001b[0m \u001b[32m240.2/240.2 kB\u001b[0m \u001b[31m10.2 MB/s\u001b[0m eta \u001b[36m0:00:00\u001b[0m\n",
            "\u001b[2K   \u001b[90m━━━━━━━━━━━━━━━━━━━━━━━━━━━━━━━━━━━━━━━━\u001b[0m \u001b[32m6.7/6.7 MB\u001b[0m \u001b[31m84.7 MB/s\u001b[0m eta \u001b[36m0:00:00\u001b[0m\n",
            "\u001b[2K   \u001b[90m━━━━━━━━━━━━━━━━━━━━━━━━━━━━━━━━━━━━━━━━\u001b[0m \u001b[32m134.0/134.0 kB\u001b[0m \u001b[31m9.4 MB/s\u001b[0m eta \u001b[36m0:00:00\u001b[0m\n",
            "\u001b[2K   \u001b[90m━━━━━━━━━━━━━━━━━━━━━━━━━━━━━━━━━━━━━━━━\u001b[0m \u001b[32m2.4/2.4 MB\u001b[0m \u001b[31m65.2 MB/s\u001b[0m eta \u001b[36m0:00:00\u001b[0m\n",
            "\u001b[2K   \u001b[90m━━━━━━━━━━━━━━━━━━━━━━━━━━━━━━━━━━━━━━━━\u001b[0m \u001b[32m545.9/545.9 kB\u001b[0m \u001b[31m34.0 MB/s\u001b[0m eta \u001b[36m0:00:00\u001b[0m\n",
            "\u001b[2K   \u001b[90m━━━━━━━━━━━━━━━━━━━━━━━━━━━━━━━━━━━━━━━━\u001b[0m \u001b[32m71.4/71.4 kB\u001b[0m \u001b[31m5.1 MB/s\u001b[0m eta \u001b[36m0:00:00\u001b[0m\n",
            "\u001b[2K   \u001b[90m━━━━━━━━━━━━━━━━━━━━━━━━━━━━━━━━━━━━━━━━\u001b[0m \u001b[32m65.0/65.0 kB\u001b[0m \u001b[31m3.9 MB/s\u001b[0m eta \u001b[36m0:00:00\u001b[0m\n",
            "\u001b[2K   \u001b[90m━━━━━━━━━━━━━━━━━━━━━━━━━━━━━━━━━━━━━━━━\u001b[0m \u001b[32m55.9/55.9 kB\u001b[0m \u001b[31m4.1 MB/s\u001b[0m eta \u001b[36m0:00:00\u001b[0m\n",
            "\u001b[2K   \u001b[90m━━━━━━━━━━━━━━━━━━━━━━━━━━━━━━━━━━━━━━━━\u001b[0m \u001b[32m118.7/118.7 kB\u001b[0m \u001b[31m9.7 MB/s\u001b[0m eta \u001b[36m0:00:00\u001b[0m\n",
            "\u001b[2K   \u001b[90m━━━━━━━━━━━━━━━━━━━━━━━━━━━━━━━━━━━━━━━━\u001b[0m \u001b[32m177.4/177.4 kB\u001b[0m \u001b[31m13.5 MB/s\u001b[0m eta \u001b[36m0:00:00\u001b[0m\n",
            "\u001b[2K   \u001b[90m━━━━━━━━━━━━━━━━━━━━━━━━━━━━━━━━━━━━━━━━\u001b[0m \u001b[32m59.5/59.5 kB\u001b[0m \u001b[31m3.9 MB/s\u001b[0m eta \u001b[36m0:00:00\u001b[0m\n",
            "\u001b[2K   \u001b[90m━━━━━━━━━━━━━━━━━━━━━━━━━━━━━━━━━━━━━━━━\u001b[0m \u001b[32m5.6/5.6 MB\u001b[0m \u001b[31m85.1 MB/s\u001b[0m eta \u001b[36m0:00:00\u001b[0m\n",
            "\u001b[2K   \u001b[90m━━━━━━━━━━━━━━━━━━━━━━━━━━━━━━━━━━━━━━━━\u001b[0m \u001b[32m756.0/756.0 kB\u001b[0m \u001b[31m41.9 MB/s\u001b[0m eta \u001b[36m0:00:00\u001b[0m\n",
            "\u001b[2K   \u001b[90m━━━━━━━━━━━━━━━━━━━━━━━━━━━━━━━━━━━━━━━━\u001b[0m \u001b[32m236.0/236.0 kB\u001b[0m \u001b[31m16.3 MB/s\u001b[0m eta \u001b[36m0:00:00\u001b[0m\n",
            "\u001b[2K   \u001b[90m━━━━━━━━━━━━━━━━━━━━━━━━━━━━━━━━━━━━━━━━\u001b[0m \u001b[32m16.4/16.4 MB\u001b[0m \u001b[31m86.7 MB/s\u001b[0m eta \u001b[36m0:00:00\u001b[0m\n",
            "\u001b[2K   \u001b[90m━━━━━━━━━━━━━━━━━━━━━━━━━━━━━━━━━━━━━━━━\u001b[0m \u001b[32m278.6/278.6 kB\u001b[0m \u001b[31m19.1 MB/s\u001b[0m eta \u001b[36m0:00:00\u001b[0m\n",
            "\u001b[2K   \u001b[90m━━━━━━━━━━━━━━━━━━━━━━━━━━━━━━━━━━━━━━━━\u001b[0m \u001b[32m147.8/147.8 kB\u001b[0m \u001b[31m11.4 MB/s\u001b[0m eta \u001b[36m0:00:00\u001b[0m\n",
            "\u001b[2K   \u001b[90m━━━━━━━━━━━━━━━━━━━━━━━━━━━━━━━━━━━━━━━━\u001b[0m \u001b[32m211.4/211.4 kB\u001b[0m \u001b[31m15.0 MB/s\u001b[0m eta \u001b[36m0:00:00\u001b[0m\n",
            "\u001b[2K   \u001b[90m━━━━━━━━━━━━━━━━━━━━━━━━━━━━━━━━━━━━━━━━\u001b[0m \u001b[32m50.9/50.9 kB\u001b[0m \u001b[31m3.8 MB/s\u001b[0m eta \u001b[36m0:00:00\u001b[0m\n",
            "\u001b[2K   \u001b[90m━━━━━━━━━━━━━━━━━━━━━━━━━━━━━━━━━━━━━━━━\u001b[0m \u001b[32m628.3/628.3 kB\u001b[0m \u001b[31m34.4 MB/s\u001b[0m eta \u001b[36m0:00:00\u001b[0m\n",
            "\u001b[2K   \u001b[90m━━━━━━━━━━━━━━━━━━━━━━━━━━━━━━━━━━━━━━━━\u001b[0m \u001b[32m1.1/1.1 MB\u001b[0m \u001b[31m45.7 MB/s\u001b[0m eta \u001b[36m0:00:00\u001b[0m\n",
            "\u001b[2K   \u001b[90m━━━━━━━━━━━━━━━━━━━━━━━━━━━━━━━━━━━━━━━━\u001b[0m \u001b[32m94.8/94.8 kB\u001b[0m \u001b[31m6.6 MB/s\u001b[0m eta \u001b[36m0:00:00\u001b[0m\n",
            "\u001b[2K   \u001b[90m━━━━━━━━━━━━━━━━━━━━━━━━━━━━━━━━━━━━━━━━\u001b[0m \u001b[32m76.4/76.4 kB\u001b[0m \u001b[31m5.5 MB/s\u001b[0m eta \u001b[36m0:00:00\u001b[0m\n",
            "\u001b[2K   \u001b[90m━━━━━━━━━━━━━━━━━━━━━━━━━━━━━━━━━━━━━━━━\u001b[0m \u001b[32m2.0/2.0 MB\u001b[0m \u001b[31m69.1 MB/s\u001b[0m eta \u001b[36m0:00:00\u001b[0m\n",
            "\u001b[2K   \u001b[90m━━━━━━━━━━━━━━━━━━━━━━━━━━━━━━━━━━━━━━━━\u001b[0m \u001b[32m32.3/32.3 MB\u001b[0m \u001b[31m26.6 MB/s\u001b[0m eta \u001b[36m0:00:00\u001b[0m\n",
            "\u001b[2K   \u001b[90m━━━━━━━━━━━━━━━━━━━━━━━━━━━━━━━━━━━━━━━━\u001b[0m \u001b[32m38.4/38.4 MB\u001b[0m \u001b[31m21.8 MB/s\u001b[0m eta \u001b[36m0:00:00\u001b[0m\n",
            "\u001b[2K   \u001b[90m━━━━━━━━━━━━━━━━━━━━━━━━━━━━━━━━━━━━━━━━\u001b[0m \u001b[32m311.8/311.8 kB\u001b[0m \u001b[31m19.7 MB/s\u001b[0m eta \u001b[36m0:00:00\u001b[0m\n",
            "\u001b[2K   \u001b[90m━━━━━━━━━━━━━━━━━━━━━━━━━━━━━━━━━━━━━━━━\u001b[0m \u001b[32m101.6/101.6 kB\u001b[0m \u001b[31m7.2 MB/s\u001b[0m eta \u001b[36m0:00:00\u001b[0m\n",
            "\u001b[2K   \u001b[90m━━━━━━━━━━━━━━━━━━━━━━━━━━━━━━━━━━━━━━━━\u001b[0m \u001b[32m13.3/13.3 MB\u001b[0m \u001b[31m62.1 MB/s\u001b[0m eta \u001b[36m0:00:00\u001b[0m\n",
            "\u001b[2K   \u001b[90m━━━━━━━━━━━━━━━━━━━━━━━━━━━━━━━━━━━━━━━━\u001b[0m \u001b[32m74.7/74.7 kB\u001b[0m \u001b[31m5.3 MB/s\u001b[0m eta \u001b[36m0:00:00\u001b[0m\n",
            "\u001b[2K   \u001b[90m━━━━━━━━━━━━━━━━━━━━━━━━━━━━━━━━━━━━━━━━\u001b[0m \u001b[32m2.9/2.9 MB\u001b[0m \u001b[31m52.6 MB/s\u001b[0m eta \u001b[36m0:00:00\u001b[0m\n",
            "\u001b[2K   \u001b[90m━━━━━━━━━━━━━━━━━━━━━━━━━━━━━━━━━━━━━━━━\u001b[0m \u001b[32m5.7/5.7 MB\u001b[0m \u001b[31m64.8 MB/s\u001b[0m eta \u001b[36m0:00:00\u001b[0m\n",
            "\u001b[2K   \u001b[90m━━━━━━━━━━━━━━━━━━━━━━━━━━━━━━━━━━━━━━━━\u001b[0m \u001b[32m57.6/57.6 kB\u001b[0m \u001b[31m4.6 MB/s\u001b[0m eta \u001b[36m0:00:00\u001b[0m\n",
            "\u001b[2K   \u001b[90m━━━━━━━━━━━━━━━━━━━━━━━━━━━━━━━━━━━━━━━━\u001b[0m \u001b[32m3.0/3.0 MB\u001b[0m \u001b[31m58.8 MB/s\u001b[0m eta \u001b[36m0:00:00\u001b[0m\n",
            "\u001b[2K   \u001b[90m━━━━━━━━━━━━━━━━━━━━━━━━━━━━━━━━━━━━━━━━\u001b[0m \u001b[32m62.3/62.3 kB\u001b[0m \u001b[31m4.5 MB/s\u001b[0m eta \u001b[36m0:00:00\u001b[0m\n",
            "\u001b[2K   \u001b[90m━━━━━━━━━━━━━━━━━━━━━━━━━━━━━━━━━━━━━━━━\u001b[0m \u001b[32m233.6/233.6 kB\u001b[0m \u001b[31m14.2 MB/s\u001b[0m eta \u001b[36m0:00:00\u001b[0m\n",
            "\u001b[2K   \u001b[90m━━━━━━━━━━━━━━━━━━━━━━━━━━━━━━━━━━━━━━━━\u001b[0m \u001b[32m252.9/252.9 kB\u001b[0m \u001b[31m14.5 MB/s\u001b[0m eta \u001b[36m0:00:00\u001b[0m\n",
            "\u001b[2K   \u001b[90m━━━━━━━━━━━━━━━━━━━━━━━━━━━━━━━━━━━━━━━━\u001b[0m \u001b[32m131.6/131.6 kB\u001b[0m \u001b[31m6.7 MB/s\u001b[0m eta \u001b[36m0:00:00\u001b[0m\n",
            "\u001b[2K   \u001b[90m━━━━━━━━━━━━━━━━━━━━━━━━━━━━━━━━━━━━━━━━\u001b[0m \u001b[32m459.8/459.8 kB\u001b[0m \u001b[31m26.4 MB/s\u001b[0m eta \u001b[36m0:00:00\u001b[0m\n",
            "\u001b[2K   \u001b[90m━━━━━━━━━━━━━━━━━━━━━━━━━━━━━━━━━━━━━━━━\u001b[0m \u001b[32m1.6/1.6 MB\u001b[0m \u001b[31m50.4 MB/s\u001b[0m eta \u001b[36m0:00:00\u001b[0m\n",
            "\u001b[2K   \u001b[90m━━━━━━━━━━━━━━━━━━━━━━━━━━━━━━━━━━━━━━━━\u001b[0m \u001b[32m45.1/45.1 kB\u001b[0m \u001b[31m3.2 MB/s\u001b[0m eta \u001b[36m0:00:00\u001b[0m\n",
            "\u001b[2K   \u001b[90m━━━━━━━━━━━━━━━━━━━━━━━━━━━━━━━━━━━━━━━━\u001b[0m \u001b[32m2.5/2.5 MB\u001b[0m \u001b[31m44.8 MB/s\u001b[0m eta \u001b[36m0:00:00\u001b[0m\n",
            "\u001b[2K   \u001b[90m━━━━━━━━━━━━━━━━━━━━━━━━━━━━━━━━━━━━━━━━\u001b[0m \u001b[32m94.6/94.6 kB\u001b[0m \u001b[31m7.6 MB/s\u001b[0m eta \u001b[36m0:00:00\u001b[0m\n",
            "\u001b[2K   \u001b[90m━━━━━━━━━━━━━━━━━━━━━━━━━━━━━━━━━━━━━━━━\u001b[0m \u001b[32m319.7/319.7 kB\u001b[0m \u001b[31m17.6 MB/s\u001b[0m eta \u001b[36m0:00:00\u001b[0m\n",
            "\u001b[2K   \u001b[90m━━━━━━━━━━━━━━━━━━━━━━━━━━━━━━━━━━━━━━━━\u001b[0m \u001b[32m300.7/300.7 kB\u001b[0m \u001b[31m20.4 MB/s\u001b[0m eta \u001b[36m0:00:00\u001b[0m\n",
            "\u001b[2K   \u001b[90m━━━━━━━━━━━━━━━━━━━━━━━━━━━━━━━━━━━━━━━━\u001b[0m \u001b[32m71.1/71.1 kB\u001b[0m \u001b[31m2.7 MB/s\u001b[0m eta \u001b[36m0:00:00\u001b[0m\n",
            "\u001b[2K   \u001b[90m━━━━━━━━━━━━━━━━━━━━━━━━━━━━━━━━━━━━━━━━\u001b[0m \u001b[32m71.5/71.5 kB\u001b[0m \u001b[31m5.4 MB/s\u001b[0m eta \u001b[36m0:00:00\u001b[0m\n",
            "\u001b[2K   \u001b[90m━━━━━━━━━━━━━━━━━━━━━━━━━━━━━━━━━━━━━━━━\u001b[0m \u001b[32m4.0/4.0 MB\u001b[0m \u001b[31m56.0 MB/s\u001b[0m eta \u001b[36m0:00:00\u001b[0m\n",
            "\u001b[2K   \u001b[90m━━━━━━━━━━━━━━━━━━━━━━━━━━━━━━━━━━━━━━━━\u001b[0m \u001b[32m452.6/452.6 kB\u001b[0m \u001b[31m28.0 MB/s\u001b[0m eta \u001b[36m0:00:00\u001b[0m\n",
            "\u001b[2K   \u001b[90m━━━━━━━━━━━━━━━━━━━━━━━━━━━━━━━━━━━━━━━━\u001b[0m \u001b[32m46.0/46.0 kB\u001b[0m \u001b[31m2.9 MB/s\u001b[0m eta \u001b[36m0:00:00\u001b[0m\n",
            "\u001b[2K   \u001b[90m━━━━━━━━━━━━━━━━━━━━━━━━━━━━━━━━━━━━━━━━\u001b[0m \u001b[32m3.3/3.3 MB\u001b[0m \u001b[31m55.4 MB/s\u001b[0m eta \u001b[36m0:00:00\u001b[0m\n",
            "\u001b[2K   \u001b[90m━━━━━━━━━━━━━━━━━━━━━━━━━━━━━━━━━━━━━━━━\u001b[0m \u001b[32m86.8/86.8 kB\u001b[0m \u001b[31m5.8 MB/s\u001b[0m eta \u001b[36m0:00:00\u001b[0m\n",
            "\u001b[2K   \u001b[90m━━━━━━━━━━━━━━━━━━━━━━━━━━━━━━━━━━━━━━━━\u001b[0m \u001b[32m209.2/209.2 kB\u001b[0m \u001b[31m14.5 MB/s\u001b[0m eta \u001b[36m0:00:00\u001b[0m\n",
            "\u001b[2K   \u001b[90m━━━━━━━━━━━━━━━━━━━━━━━━━━━━━━━━━━━━━━━━\u001b[0m \u001b[32m508.0/508.0 kB\u001b[0m \u001b[31m23.5 MB/s\u001b[0m eta \u001b[36m0:00:00\u001b[0m\n",
            "\u001b[2K   \u001b[90m━━━━━━━━━━━━━━━━━━━━━━━━━━━━━━━━━━━━━━━━\u001b[0m \u001b[32m306.6/306.6 kB\u001b[0m \u001b[31m18.2 MB/s\u001b[0m eta \u001b[36m0:00:00\u001b[0m\n",
            "\u001b[2K   \u001b[90m━━━━━━━━━━━━━━━━━━━━━━━━━━━━━━━━━━━━━━━━\u001b[0m \u001b[32m78.5/78.5 kB\u001b[0m \u001b[31m5.7 MB/s\u001b[0m eta \u001b[36m0:00:00\u001b[0m\n",
            "\u001b[2K   \u001b[90m━━━━━━━━━━━━━━━━━━━━━━━━━━━━━━━━━━━━━━━━\u001b[0m \u001b[32m2.5/2.5 MB\u001b[0m \u001b[31m55.9 MB/s\u001b[0m eta \u001b[36m0:00:00\u001b[0m\n",
            "\u001b[2K   \u001b[90m━━━━━━━━━━━━━━━━━━━━━━━━━━━━━━━━━━━━━━━━\u001b[0m \u001b[32m50.9/50.9 kB\u001b[0m \u001b[31m3.3 MB/s\u001b[0m eta \u001b[36m0:00:00\u001b[0m\n",
            "\u001b[?25h  Building wheel for google-search-results (setup.py) ... \u001b[?25l\u001b[?25hdone\n",
            "  Building wheel for pypika (pyproject.toml) ... \u001b[?25l\u001b[?25hdone\n",
            "\u001b[31mERROR: pip's dependency resolver does not currently take into account all the packages that are installed. This behaviour is the source of the following dependency conflicts.\n",
            "transformers 4.48.3 requires tokenizers<0.22,>=0.21, but you have tokenizers 0.20.3 which is incompatible.\u001b[0m\u001b[31m\n",
            "\u001b[0m"
          ]
        }
      ],
      "source": [
        "!pip install -qU crewai langchain_openai 'crewai[tools]' google-search-results"
      ]
    },
    {
      "cell_type": "markdown",
      "metadata": {
        "id": "wdVKINDtL1Ls"
      },
      "source": [
        "###Getting Your API Keys\n",
        "**Serper API Key**\n",
        "\n",
        "* Visit https://serper.dev/api-key\n",
        "* Sign up for an account or log in\n",
        "* Navigate to the API dashboard\n",
        "* Generate your API key\n",
        "* Copy the key and use in your Colab Notebook\n",
        "\n",
        "**Google Gemini API Key**\n",
        "\n",
        "* Visit https://aistudio.google.com/\n",
        " Sign in with your Google account\n",
        "* Navigate to \"API Keys\" in the settings menu\n",
        "* Click \"Create API Key\"\n",
        "* Copy your new API key And use in Colab Notebook\n"
      ]
    },
    {
      "cell_type": "code",
      "execution_count": null,
      "metadata": {
        "id": "46WooK1suaPQ"
      },
      "outputs": [],
      "source": [
        "import os\n",
        "from google.colab import userdata\n",
        "# os.environ[\"OPENAI_API_KEY\"] = userdata.get('OPENAI_API_KEY')\n",
        "os.environ[\"GEMINI_API_KEY\"] = userdata.get('GEMINI_API_KEY')\n",
        "os.environ[\"SERPER_API_KEY\"] = userdata.get('SERPER_API_KEY')"
      ]
    },
    {
      "cell_type": "markdown",
      "metadata": {
        "id": "IfLfg_dtKBFB"
      },
      "source": [
        "###Initialize Models"
      ]
    },
    {
      "cell_type": "code",
      "execution_count": null,
      "metadata": {
        "id": "whOXjfQRueMV"
      },
      "outputs": [],
      "source": [
        "from langchain_openai import ChatOpenAI\n",
        "from crewai import LLM\n",
        "\n",
        "Gemini = LLM(\n",
        "    model=\"gemini/gemini-2.0-flash\",)\n",
        "\n",
        "\n",
        "#gpt4o = ChatOpenAI(model = \"gpt-4o\")"
      ]
    },
    {
      "cell_type": "markdown",
      "metadata": {
        "id": "OGO9Gr0mAJpu"
      },
      "source": [
        "### AI Web Scraping Agent 🔍"
      ]
    },
    {
      "cell_type": "code",
      "execution_count": null,
      "metadata": {
        "id": "Zm9_pd42ujm9"
      },
      "outputs": [],
      "source": [
        "from crewai import Agent, Task, Crew, Process\n",
        "from crewai_tools import SerperDevTool\n",
        "\n",
        "# Initialize tools\n",
        "search_tool = SerperDevTool()\n",
        "\n",
        "def create_web_scraping_agent(url, target_data):\n",
        "    # Define the Web Scraping Agent\n",
        "    scraping_agent = Agent(\n",
        "        role=\"Data Collector\",\n",
        "        goal=f\"Collect and analyze {target_data} from {url}\",\n",
        "        backstory=\"An expert data analyst trained to gather and process web information efficiently\",\n",
        "        verbose=True,\n",
        "        tools=[search_tool],\n",
        "        llm=Gemini\n",
        "    )\n",
        "\n",
        "    # Define the Data Processing Agent\n",
        "    processing_agent = Agent(\n",
        "        role=\"Data Processor\",\n",
        "        goal=f\"Process and structure the collected {target_data}\",\n",
        "        backstory=\"A data processing specialist who organizes and formats collected information into useful insights\",\n",
        "        verbose=True,\n",
        "        tools=[search_tool],\n",
        "        llm=Gemini\n",
        "    )\n",
        "\n",
        "    # Define the Data Collection Task\n",
        "    scraping_task = Task(\n",
        "        description=f\"Search and collect {target_data} related to {url}\",\n",
        "        expected_output=f\"Raw collected data about {target_data} from {url}\",\n",
        "        agent=scraping_agent\n",
        "    )\n",
        "\n",
        "    # Define the Data Processing Task\n",
        "    processing_task = Task(\n",
        "        description=f\"Process and structure the collected {target_data} into a clear format\",\n",
        "        expected_output=f\"A structured and cleaned summary of {target_data}\",\n",
        "        agent=processing_agent\n",
        "    )\n",
        "\n",
        "    # Create and Run the Crew\n",
        "    crew = Crew(\n",
        "        agents=[scraping_agent, processing_agent],\n",
        "        tasks=[scraping_task, processing_task],\n",
        "        verbose=True,\n",
        "        process=Process.sequential\n",
        "    )\n",
        "\n",
        "    result = crew.kickoff(inputs={\"url\": url, \"target_data\": target_data})\n",
        "    return result"
      ]
    },
    {
      "cell_type": "markdown",
      "metadata": {
        "id": "dn-xzy89utDY"
      },
      "source": [
        "### Execute the agent\n"
      ]
    },
    {
      "cell_type": "code",
      "execution_count": null,
      "metadata": {
        "colab": {
          "base_uri": "https://localhost:8080/"
        },
        "id": "CsM7G9QXunWB",
        "outputId": "a75b5c69-89c2-400b-c21d-cd70be70cd5e"
      },
      "outputs": [
        {
          "name": "stdout",
          "output_type": "stream",
          "text": [
            "Enter the website URL to scrape: https://www.buildfastwithai.com/genai-course\n",
            "Enter the type of data to extract (e.g., product prices, news headlines): genai bootcamp inforamtion\n"
          ]
        },
        {
          "name": "stderr",
          "output_type": "stream",
          "text": [
            "WARNING:opentelemetry.trace:Overriding of current TracerProvider is not allowed\n"
          ]
        },
        {
          "name": "stdout",
          "output_type": "stream",
          "text": [
            "\u001b[1m\u001b[95m# Agent:\u001b[00m \u001b[1m\u001b[92mData Collector\u001b[00m\n",
            "\u001b[95m## Task:\u001b[00m \u001b[92mSearch and collect genai bootcamp inforamtion related to https://www.buildfastwithai.com/genai-course\u001b[00m\n",
            "\n",
            "\n",
            "\u001b[1m\u001b[95m# Agent:\u001b[00m \u001b[1m\u001b[92mData Collector\u001b[00m\n",
            "\u001b[95m## Using tool:\u001b[00m \u001b[92mSearch the internet with Serper\u001b[00m\n",
            "\u001b[95m## Tool Input:\u001b[00m \u001b[92m\n",
            "\"{\\\"search_query\\\": \\\"genai bootcamp buildfastwithai.com\\\"}\"\u001b[00m\n",
            "\u001b[95m## Tool Output:\u001b[00m \u001b[92m\n",
            "{'searchParameters': {'q': 'genai bootcamp buildfastwithai.com', 'type': 'search', 'num': 10, 'engine': 'google'}, 'organic': [{'title': \"Build Fast with AI's Gen AI Launch Pad 2025\", 'link': 'https://www.buildfastwithai.com/genai-course', 'snippet': \"I'm Satvik, an IIT Delhi alumnus and AI expert who has trained 15,000+ people. Join our meticulously crafted 8-week bootcamp to go from zero to pro, learning by ...\", 'position': 1}, {'title': 'Gen AI Bootcamp Info Session: Zero to Pro in 6 weeks', 'link': 'https://www.buildfastwithai.com/events/gen-ai-bootcamp', 'snippet': 'Your launchpad to building the next big AI startup in just 6 weeks! Join our bootcamp to transform from an AI enthusiast to a SaaS founder. Gen AI Bootcamp ...', 'position': 2}, {'title': 'Build Fast with AI - X', 'link': 'https://x.com/BuildFastWithAI/status/1891745831675625614', 'snippet': 'Learn Generative AI by Building! Join our 6-week hands-on Bootcamp at Build Fast with AI and master AI through real-world projects.', 'position': 3}, {'title': 'Build Fast with AI | Generative AI (@buildfastwithai) - Instagram', 'link': 'https://www.instagram.com/buildfastwithai/', 'snippet': 'Your go-to destination for all things AI! Gen AI Bootcamp | FREE Workshops, AI Corporate Consultancy. Visit our website below.', 'position': 4}, {'title': 'Build Fast with AI (@BuildFastWithAI) / X', 'link': 'https://x.com/buildfastwithai?lang=en', 'snippet': \"Join 'Build Fast with AI' to harness AI power with courses, workshops, and a vibrant community. Learn, share, and innovate swiftly. Turn AI dreams into reality.\", 'position': 5}, {'title': \"Gen AI is 'too hard'? That's what they want you to believe ... - Instagram\", 'link': 'https://www.instagram.com/buildfastwithai/p/DGNrjsES1nR/', 'snippet': \"Week 7 & 8: Capstone Project & Launch Join 2025's most transformative AI bootcamp. Limited spots available - don't let another year pass by ...\", 'position': 6}, {'title': 'Build Fast with AI on LinkedIn', 'link': 'https://www.linkedin.com/posts/build-fast-with-ai_buildfastwithai-generativeai-learningbydoing-activity-7265602009532116993-y_PG', 'snippet': 'Celebrating wins from our Gen AI Bootcamp! Super excited to share that Shrikant Ambekar, one of our current cohort…', 'position': 7}, {'title': 'Ready to take your GenAI expertise to the next level? Join us at…', 'link': 'https://www.linkedin.com/posts/blairfleming_ready-to-take-your-genai-expertise-to-the-activity-7291112025974308865-Km5e', 'snippet': 'From a #GenAI bootcamp to a multicloud masterclass, level up your skills with immersive hands-on training ahead of #CloudWorld! https://lnkd ...', 'position': 8}, {'title': 'Build Fast with AI on X: \"   That\\'s a wrap on Cohort 7 of our Gen AI ...', 'link': 'https://twitter.com/BuildFastWithAI/status/1858046664600125913', 'snippet': \"That's a wrap on Cohort 7 of our Gen AI Bootcamp, and what a journey it's been! 6 weeks ago: Just starting with AI.\", 'position': 9}, {'title': 'Create Your Own AI Podcast Generator in Minutes 🎙️ - YouTube', 'link': 'https://www.youtube.com/watch?v=EOLtrsHVjSI', 'snippet': 'Join the waitlist for our bootcamp: buildfastwithai.com/genai-course Latest cohort March 08th | 8 Week Bootcamp --- ⏱️ Timestamps: 00 ...', 'position': 10}], 'credits': 1}\u001b[00m\n",
            "\n",
            "\n",
            "\u001b[1m\u001b[95m# Agent:\u001b[00m \u001b[1m\u001b[92mData Collector\u001b[00m\n",
            "\u001b[95m## Using tool:\u001b[00m \u001b[92mSearch the internet with Serper\u001b[00m\n",
            "\u001b[95m## Tool Input:\u001b[00m \u001b[92m\n",
            "\"{\\\"search_query\\\": \\\"I'm Satvik, an IIT Delhi alumnus and AI expert who has trained 15,000+ people. Join our meticulously crafted 8-week bootcamp to go from zero to pro, learning by ... buildfastwithai.com/genai-course\\\"}\"\u001b[00m\n",
            "\u001b[95m## Tool Output:\u001b[00m \u001b[92m\n",
            "{'searchParameters': {'q': \"I'm Satvik, an IIT Delhi alumnus and AI expert who has trained 15,000+ people. Join our meticulously crafted 8-week bootcamp to go from zero to pro, learning by ... buildfastwithai.com/genai-course\", 'type': 'search', 'num': 10, 'engine': 'google'}, 'organic': [{'title': \"Build Fast with AI's Gen AI Launch Pad 2025\", 'link': 'https://www.buildfastwithai.com/genai-course', 'snippet': \"I'm Satvik, an IIT Delhi alumnus and AI expert who has trained 15,000+ people. Join our meticulously crafted 8-week bootcamp to go from zero to pro ...\", 'position': 1}, {'title': 'Satvik Paramkusham on LinkedIn: Exactly 1 year ago today, I started ...', 'link': 'https://www.linkedin.com/posts/satvik-paramkusham_exactly-1-year-ago-today-i-started-my-activity-7294687016351408128-xy-T', 'snippet': 'Exactly 1 year ago today, I started my first boot camp on Generative AI. It was my effort to help people get started with their 0-1 ...', 'position': 2}, {'title': 'Satvik Paramkusham on LinkedIn: #buildfastwithai #10daysofbfwai ...', 'link': 'https://www.linkedin.com/posts/satvik-paramkusham_buildfastwithai-10daysofbfwai-generativeai-activity-7274050090627948544-ZcYr', 'snippet': '10 Days of Build Fast with AI! This has been an incredible year for us at Build Fast with AI. From conducting workshops for 15,000+ people ...', 'position': 3}, {'title': 'Is it worth doing 2 years data science course in IIT or doing a ... - Quora', 'link': 'https://www.quora.com/Is-it-worth-doing-2-years-data-science-course-in-IIT-or-doing-a-6-month-data-science-course', 'snippet': 'If you want to start a career in data science you have to gain the necessary skills and latest trends to keep up with the current happenings.', 'position': 4}, {'title': 'GenAI course offered by IIT Delhi : 6 months : Worth it ? : r/IITDelhi', 'link': 'https://www.reddit.com/r/IITDelhi/comments/1huq5p4/genai_course_offered_by_iit_delhi_6_months_worth/', 'snippet': 'IIT Delhi is offering this 6 months online course in GenAI. Anyone who has enrolled or has past experience in how it was and will a non-programmer be able to ...', 'position': 5}, {'title': 'Live Q&A: How 4 Bootcamp Alumni Broke Into AI Careers - YouTube', 'link': 'https://www.youtube.com/watch?v=cxZB6p2RNqM', 'snippet': \"In this Live Q&A, we'll be joined by four bootcamp alumni @springboard , @codingtemple , @NYCDataScienceAcademy , and @gnrlassembly who are ...\", 'position': 6}, {'title': 'I want to do an executive M.Tech in data science and machine ...', 'link': 'https://www.quora.com/I-want-to-do-an-executive-M-Tech-in-data-science-and-machine-learning-from-IIT-What-should-I-do', 'snippet': 'Data science is a vast field and combines various subject matters like machine learning, artificial intelligence, statistics, mathematics, and ...', 'position': 7}, {'title': 'Explore IIT Delhi AI And Machine Learning For Industry Course', 'link': 'https://timespro.com/executive-education/iit-delhi-ai-and-machine-learning-for-industry', 'snippet': 'Here are the curriculum details of the IIT Delhi AI and ML course. Module 0: Practical Python for Industry Professionals. Foundations of Python Programming ( ...', 'position': 8}, {'title': 'Calling All AI/ML, Quant and Trading Enthusiasts ... - Instagram', 'link': 'https://www.instagram.com/aries.iitd/p/DBN7rldT9w0/', 'snippet': 'Are you ready to explore the growing world of Artificial Intelligence? Join ARIES, the AI Society at IIT Delhi, and discover the future of ...', 'position': 9}], 'credits': 1}\u001b[00m\n",
            "\n",
            "\n",
            "\u001b[1m\u001b[95m# Agent:\u001b[00m \u001b[1m\u001b[92mData Collector\u001b[00m\n",
            "\u001b[95m## Using tool:\u001b[00m \u001b[92mSearch the internet with Serper\u001b[00m\n",
            "\u001b[95m## Tool Input:\u001b[00m \u001b[92m\n",
            "\"{\\\"search_query\\\": \\\"Build Fast with AI GenAI Bootcamp reviews testimonials\\\"}\"\u001b[00m\n",
            "\u001b[95m## Tool Output:\u001b[00m \u001b[92m\n",
            "{'searchParameters': {'q': 'Build Fast with AI GenAI Bootcamp reviews testimonials', 'type': 'search', 'num': 10, 'engine': 'google'}, 'organic': [{'title': 'Is a Six Month AI Bootcamp Worth It? : r/learnmachinelearning - Reddit', 'link': 'https://www.reddit.com/r/learnmachinelearning/comments/1dcbb7u/is_a_six_month_ai_bootcamp_worth_it/', 'snippet': \"I was talked into joining a 6 month long AI boot camp that costs $400 a month and starts in July. I paid a down payment of $1k. It's a significant expense.\", 'position': 1, 'sitelinks': [{'title': '3.5 major bootcamps pivoting to Gen AI courses (Codesmith ...', 'link': 'https://www.reddit.com/r/codingbootcamp/comments/1ggvdbo/in_a_last_hope_to_survive_bootcamps_are_going_all/'}, {'title': 'Transforming My Life with Generative AI: A 14-Month Review', 'link': 'https://www.reddit.com/r/ChatGPTCoding/comments/1ans8ve/transforming_my_life_with_generative_ai_a_14month/'}, {'title': 'Best AI PM Courses - 2024 : r/ProductManagement', 'link': 'https://www.reddit.com/r/ProductManagement/comments/1cqpqir/best_ai_pm_courses_2024/'}, {'title': 'Beneficial ML/AI Bootcamps : r/learnmachinelearning', 'link': 'https://www.reddit.com/r/learnmachinelearning/comments/14u9g0x/beneficial_mlai_bootcamps/'}]}, {'title': 'Build Fast with AI', 'link': 'https://buildfastwithai.com/', 'snippet': 'As a non-technical co-founder I had taken this course in the 1st cohort and it was very good, gave a comprehensive overview of all the important aspects of ...', 'position': 2}, {'title': 'AI Beginners Bootcamp Testimonial - Dallas Downey - YouTube', 'link': 'https://www.youtube.com/watch?v=VWGE_nuhrYo', 'snippet': 'Big thanks to Dallas for sharing his experience with the AI Beginners Bootcamp. His takeaway - Learning AI is not about becoming a ...', 'position': 3}, {'title': 'Are GrowthSchool AI programs worth it? - Quora', 'link': 'https://www.quora.com/Are-GrowthSchool-AI-programs-worth-it', 'snippet': 'Below is my personal experience: First of all, positive reviews are solicited. I attended 1 workshop, and he asked us to write reviews TWICE in a 3-hr workshop.', 'position': 4, 'sitelinks': [{'title': \"Has anyone taken the Simplilearn/Purdue University's “Generative ...\", 'link': 'https://www.quora.com/Has-anyone-taken-the-Simplilearn-Purdue-University-s-Generative-AI-for-Business-transformation-course-How-helpful-was-it'}, {'title': \"What's your review of the Caltech AI and Machine Learning ... - Quora\", 'link': 'https://www.quora.com/Whats-your-review-of-the-Caltech-AI-and-Machine-Learning-bootcamp'}, {'title': 'What is your review of Caltech UI UX Bootcamp? - Quora', 'link': 'https://www.quora.com/What-is-your-review-of-Caltech-UI-UX-Bootcamp'}, {'title': 'What are the best AI bootcamps for beginners with no background ...', 'link': 'https://www.quora.com/What-are-the-best-AI-bootcamps-for-beginners-with-no-background-knowledge'}]}, {'title': '49 Generative AI Bootcamps - Course Report', 'link': 'https://www.coursereport.com/subjects/generative-ai', 'snippet': 'Says: Very immersive and dedicated curriculum teaching the basics right off the bat, all the way to advanced in 6 months! This bootcamp taught me everything I ...', 'position': 5}, {'title': 'The AI Engineering Bootcamp by \"Dr. Greg\" Loughnane ... - Maven', 'link': 'https://maven.com/aimakerspace/ai-eng-bootcamp', 'snippet': 'AIM has perfected learning through building. I truly enjoyed every moment of this course. \"You\\'re gonna suffer but you\\'re gonna be happy about it\" from Harry ...', 'position': 6}, {'title': 'Top 10 AI Coding Bootcamps in 2025', 'link': 'https://www.nucamp.co/blog/homepage-nucamp-2025-top-10-ai-coding-bootcamps-in-2025', 'snippet': 'Discover the top AI coding bootcamps of 2025 to boost your skills and career potential in artificial intelligence.', 'position': 7}, {'title': 'Gen AI Boot Camp, Parts 1 and 2 | Working With Snowflake Cortex ...', 'link': 'https://www.youtube.com/watch?v=punK7CLS3Sg', 'snippet': 'This video combines the content from both parts of the Gen AI boot camp offered during BUILD 2024 ... fast and accurate answers. Cortex ...', 'position': 8}, {'title': \"Fast.ai's Deep Learning Course Honest Review— is it Worth it?\", 'link': 'https://jakekrajewski.medium.com/fast-ais-deep-learning-course-is-it-worth-it-9a6a2769c699', 'snippet': 'Fast.ai has one of the best, most densely informative courses out there, and for the price: FREE, you absolutely cannot beat the value Jeremy Howard and the ...', 'position': 9}], 'peopleAlsoAsk': [{'question': 'Are AI boot camps worth it?', 'snippet': 'Many believe that a college degree is the only way to obtain a job in artificial intelligence, but that is far from the truth. Depending on your goals, preferences, and learning needs a bootcamp can be the most worthwhile endeavor you embark on to become an artificial intelligence professional.', 'title': 'Are AI Bootcamps Worth It? - Noble Desktop', 'link': 'https://www.nobledesktop.com/learn/ai/are-ai-bootcamps-worth-it'}, {'question': 'What is the best AI bootcamp?', 'snippet': 'TOP PICKS FOR BOOTCAMPS\\\\U2014AI (ARTIFICIAL INTELLIGENCE)\\nArizona State University, Arizona. ...\\nColumbia University, New York. ...\\nMichigan State University, Michigan. ...\\nNorthwestern University, Illinois. ...\\nOhio State University, Ohio. ...\\nRice University, Texas. ...\\nRutgers University, New Jersey. ...\\nSouthern Methodist University, Texas.', 'title': 'Top Picks for Bootcamps—AI (Artificial Intelligence)', 'link': 'https://www.princetonreview.com/bootcamps/best-ai-bootcamps'}, {'question': 'Is it worth learning generative AI on Reddit?', 'snippet': \"Well you can do it all now! There are no excuses! Though I haven't achieved millionaire status (yet!), the journey with generative AI has been incredibly rewarding. It has significantly boosted my confidence, expanded my knowledge in coding, and deepened my understanding of digital ecosystems.\", 'title': 'Transforming My Life with Generative AI: A 14-Month Review - Reddit', 'link': 'https://www.reddit.com/r/ChatGPTCoding/comments/1ans8ve/transforming_my_life_with_generative_ai_a_14month/'}, {'question': 'Are web dev bootcamps worth it?', 'snippet': 'With bootcamps, students can pay less money and spend less time skill-building compared to traditional education pathways and still be able to snag a job at a top company. Many coding bootcamps also boast that more than 90% of job-eligible graduates land a job within a year of graduating.', 'title': 'Is a coding bootcamp worth it? | Fortune Education', 'link': 'https://fortune.com/education/articles/is-a-coding-bootcamp-worth-it/'}], 'relatedSearches': [{'query': 'Build fast with ai genai bootcamp reviews testimonials youtube'}, {'query': 'Build fast with ai genai bootcamp reviews testimonials reddit'}, {'query': 'Build fast with ai genai bootcamp reviews testimonials quora'}, {'query': 'Build fast with ai genai bootcamp reviews testimonials pdf'}, {'query': 'AI bootcamp with job placement'}, {'query': 'AI Bootcamp free'}, {'query': 'AI bootcamp for beginners'}, {'query': 'Best AI bootcamp'}], 'credits': 1}\n",
            "\n",
            "\n",
            "You ONLY have access to the following tools, and should NEVER make up tools that are not listed here:\n",
            "\n",
            "Tool Name: Search the internet with Serper\n",
            "Tool Arguments: {'search_query': {'description': 'Mandatory search query you want to use to search the internet', 'type': 'str'}}\n",
            "Tool Description: A tool that can be used to search the internet with a search_query. Supports different search types: 'search' (default), 'news'\n",
            "\n",
            "IMPORTANT: Use the following format in your response:\n",
            "\n",
            "```\n",
            "Thought: you should always think about what to do\n",
            "Action: the action to take, only one name of [Search the internet with Serper], just the name, exactly as it's written.\n",
            "Action Input: the input to the action, just a simple JSON object, enclosed in curly braces, using \" to wrap keys and values.\n",
            "Observation: the result of the action\n",
            "```\n",
            "\n",
            "Once all necessary information is gathered, return the following format:\n",
            "\n",
            "```\n",
            "Thought: I now know the final answer\n",
            "Final Answer: the final answer to the original input question\n",
            "```\u001b[00m\n",
            "\n",
            "\n",
            "\u001b[1m\u001b[95m# Agent:\u001b[00m \u001b[1m\u001b[92mData Collector\u001b[00m\n",
            "\u001b[95m## Final Answer:\u001b[00m \u001b[92m\n",
            "Build Fast with AI offers a GenAI bootcamp. It is run by Satvik, an IIT Delhi alumnus and AI expert who has trained over 15,000 people. The bootcamp appears to have had different durations, with mentions of both 6-week and 8-week formats. The bootcamp aims to take participants from \"zero to pro\" in Generative AI. The website for the bootcamp is buildfastwithai.com/genai-course.\n",
            "```\u001b[00m\n",
            "\n",
            "\n",
            "\u001b[1m\u001b[95m# Agent:\u001b[00m \u001b[1m\u001b[92mData Processor\u001b[00m\n",
            "\u001b[95m## Task:\u001b[00m \u001b[92mProcess and structure the collected genai bootcamp inforamtion into a clear format\u001b[00m\n",
            "\n",
            "\n",
            "\u001b[1m\u001b[95m# Agent:\u001b[00m \u001b[1m\u001b[92mData Processor\u001b[00m\n",
            "\u001b[95m## Using tool:\u001b[00m \u001b[92mSearch the internet with Serper\u001b[00m\n",
            "\u001b[95m## Tool Input:\u001b[00m \u001b[92m\n",
            "\"{\\\"search_query\\\": \\\"Build Fast with AI GenAI bootcamp curriculum duration schedule\\\"}\"\u001b[00m\n",
            "\u001b[95m## Tool Output:\u001b[00m \u001b[92m\n",
            "{'searchParameters': {'q': 'Build Fast with AI GenAI bootcamp curriculum duration schedule', 'type': 'search', 'num': 10, 'engine': 'google'}, 'organic': [{'title': 'Build Fast with AI', 'link': 'https://buildfastwithai.com/', 'snippet': \"Join our intensive bootcamp where you'll learn to build and deploy cutting-edge AI applications. From LLMs to RAG, from prototypes to production - we've got you ...\", 'position': 1}, {'title': \"Build Fast with AI's Gen AI Launch Pad 2025\", 'link': 'https://www.buildfastwithai.com/genai-course', 'snippet': \"I'm Satvik, an IIT Delhi alumnus and AI expert who has trained 15,000+ people. Join our meticulously crafted 8-week bootcamp to go from zero to pro, learning by ...\", 'position': 2}, {'title': 'Gen AI Bootcamp - AgileFever: #1 Leading Online Professional ...', 'link': 'https://www.agilefever.com/artificial-intelligence/gen-ai-bootcamp/', 'snippet': 'The Gen AI Bootcamp is a 50-hour training powered by the latest curriculum, recall quizzes, lab assessments, and more. This course is carefully curated to help ...', 'position': 3}, {'title': 'Generative AI Project Bootcamp - AI Academy', 'link': 'https://www.ai-academy.com/courses/generative-ai-project-bootcamp', 'snippet': 'Each Bootcamp cohort includes five live sessions to deepen your understanding. 17+ hours of ...', 'position': 4}, {'title': 'GenAI Bootcamp for Professionals: Master AI Skills - Interview Kickstart', 'link': 'https://interviewkickstart.com/blogs/articles/gen-ai-bootcamp-professionals', 'snippet': 'The GenAI Bootcamp typically takes a few months to complete, with flexible schedules to accommodate working professionals. Q4. What are the ...', 'position': 5}, {'title': 'Build Fast with AI - LinkedIn', 'link': 'https://in.linkedin.com/company/build-fast-with-ai', 'snippet': 'We offer a wide range of courses, workshops, and hands-on sessions designed to foster creativity, collaboration, and rapid prototyping. Our community of AI ...', 'position': 6}, {'title': 'Intro to GenAI - Thank you for the request - Le Wagon', 'link': 'https://info.lewagon.com/intro-to-generativeai-course', 'snippet': 'In just 30 hours, immerse yourself in the world of generative AI. Master effective prompt writing, boost productivity, and elevate your creativity and design ...', 'position': 7}, {'title': '2025 Bootcamp: Generative AI, LLM Apps, AI Agents, Cursor AI', 'link': 'https://www.udemy.com/course/bootcamp-generative-artificial-intelligence-and-llm-app-development/?srsltid=AfmBOoomaKX-En8cY48JbKjh-mT3T6XPodn9xD930tlrmidB9TkEuDeT', 'snippet': \"This Online Bootcamp is a compact and accelerated version of our 400-hour in-person master's program. It has four parts:.\", 'position': 8, 'sitelinks': [{'title': \"What You'll Learn\", 'link': 'https://www.udemy.com/course/bootcamp-generative-artificial-intelligence-and-llm-app-development/#:~:text=What%20you%27ll%20learn'}, {'title': 'Course Content', 'link': 'https://www.udemy.com/course/bootcamp-generative-artificial-intelligence-and-llm-app-development/#:~:text=Course%20content'}, {'title': 'Program Presentation', 'link': 'https://www.udemy.com/course/bootcamp-generative-artificial-intelligence-and-llm-app-development/#:~:text=sections-,Program%20presentation'}]}, {'title': '8-week experiential developer bootcamp for AI-acceleration', 'link': 'https://www.slalombuild.com/8-week-experiential-developer-bootcamp', 'snippet': 'Curriculum overview · Week 1: Generative AI cannonball! · Week 2: Introduction to GenAI · Week 3: Prompt engineering deep-dive · Week 4: Model fine-tuning · Week 5: ...', 'position': 9}, {'title': 'AI & Machine Learning Bootcamp - Learn GenAI, NLP, & More', 'link': 'https://www.fullstackacademy.com/programs/ai-machine-learning-bootcamp', 'snippet': \"This immersive program covers theoretical knowledge and practical skill-building in 26 weeks, helping you to become a confident practitioner. You'll build ...\", 'position': 10, 'sitelinks': [{'title': 'Start Date', 'link': 'https://www.fullstackacademy.com/programs/ai-machine-learning-bootcamp#:~:text=START%20DATE'}, {'title': 'Ai Bootcamp Tuition And...', 'link': 'https://www.fullstackacademy.com/programs/ai-machine-learning-bootcamp#:~:text=AI%20Bootcamp%20Tuition%20and%20Payment%20Options'}, {'title': 'Upcoming Dates', 'link': 'https://www.fullstackacademy.com/programs/ai-machine-learning-bootcamp#:~:text=Upcoming%20Dates'}]}], 'credits': 1}\u001b[00m\n",
            "\n",
            "\n",
            "\u001b[1m\u001b[95m# Agent:\u001b[00m \u001b[1m\u001b[92mData Processor\u001b[00m\n",
            "\u001b[95m## Using tool:\u001b[00m \u001b[92mSearch the internet with Serper\u001b[00m\n",
            "\u001b[95m## Tool Input:\u001b[00m \u001b[92m\n",
            "\"{\\\"search_query\\\": \\\"buildfastwithai.com/genai-course\\\"}\"\u001b[00m\n",
            "\u001b[95m## Tool Output:\u001b[00m \u001b[92m\n",
            "{'searchParameters': {'q': 'buildfastwithai.com/genai-course', 'type': 'search', 'num': 10, 'engine': 'google'}, 'organic': [{'title': \"Build Fast with AI's Gen AI Launch Pad 2025\", 'link': 'https://www.buildfastwithai.com/genai-course', 'snippet': 'Great course to start your journey into GenAI. Currently playing the role of Agility Coach in Commonwealth Bank but this course is for anyone who wants to learn ...', 'position': 1}, {'title': 'Build Fast with AI', 'link': 'https://buildfastwithai.com/', 'snippet': 'Great course to start your journey into GenAI. Currently playing the role of Agility Coach in Commonwealth Bank but this course is for anyone who wants to learn ...', 'position': 2, 'sitelinks': [{'title': 'GenAI Course', 'link': 'https://www.buildfastwithai.com/genai-course'}, {'title': 'Free AI Resources', 'link': 'https://www.buildfastwithai.com/resources'}, {'title': 'Past Events', 'link': 'https://www.buildfastwithai.com/events'}, {'title': 'Refund Policy', 'link': 'https://www.buildfastwithai.com/refund-policy'}]}, {'title': 'Gen AI 2024 Half-yearly Rewind - Build Fast with AI', 'link': 'https://www.buildfastwithai.com/resources/info/gen-ai-2024-half-yearly-rewind', 'snippet': 'Building GenAI Intuition: Develop a strong understanding of the fundamentals of GenAI and how it is rapidly transforming various industries. Future Predictions: ...', 'position': 3}, {'title': 'Free AI Resources - Build Fast with AI', 'link': 'https://www.buildfastwithai.com/resources', 'snippet': 'Introducing the Generative AI Launchpad, a course designed for beginners to learn the core concepts of generative AI and build applications. Satvik emphasized ...', 'position': 4}, {'title': 'Generative AI Crash Course - Info Session - Build Fast with AI', 'link': 'https://www.buildfastwithai.com/events/generative-ai-crash-course-info-session', 'snippet': 'Dive into the world of Generative AI with our comprehensive, hands-on course. Build practical AI applications from scratch and develop industry-sought skills.', 'position': 5}, {'title': 'Get, Set, Go with Gen AI! - Build Fast with AI', 'link': 'https://www.buildfastwithai.com/events/get-set-go-with-gen-ai', 'snippet': 'Want to ride the generative AI wave but feeling lost at sea? Join our weekly session to learn how to build powerful AI applications and navigate the exciting ...', 'position': 6}, {'title': 'Build Fast with AI (@BuildFastWithAI) / X', 'link': 'https://x.com/buildfastwithai', 'snippet': \"Join 'Build Fast with AI' to harness AI power with courses, workshops, and a vibrant community. Learn, share, and innovate swiftly. Turn AI dreams into reality.\", 'position': 7}, {'title': 'Build Fast with AI | Generative AI (@buildfastwithai) - Instagram', 'link': 'https://www.instagram.com/buildfastwithai/', 'snippet': 'Your go-to destination for all things AI! Gen AI Bootcamp | FREE Workshops, AI Corporate Consultancy. Visit our website below.', 'position': 8}, {'title': 'Build Fast with AI - X', 'link': 'https://x.com/BuildFastWithAI/status/1891745831675625614', 'snippet': 'Learn Generative AI by Building! Join our 6-week hands-on Bootcamp at Build Fast with AI and master AI through real-world projects.', 'position': 9}, {'title': 'Create Your Own AI Podcast Generator - Build Fast with AI', 'link': 'https://buildfastwithai.com/blogs/create-your-own-ai-podcast-generator', 'snippet': 'Join Waitlist for Our Course: A comprehensive 8-week Generative AI course starting on March 8th at www.buildfastwithai.com/genai-course ...', 'position': 10}], 'credits': 1}\u001b[00m\n",
            "\n",
            "\n",
            "\u001b[1m\u001b[95m# Agent:\u001b[00m \u001b[1m\u001b[92mData Processor\u001b[00m\n",
            "\u001b[95m## Final Answer:\u001b[00m \u001b[92m\n",
            "Build Fast with AI offers a GenAI bootcamp, also known as \"Gen AI Launch Pad 2025\". It is run by Satvik, an IIT Delhi alumnus and AI expert who has trained over 15,000 people. The bootcamp is an 8-week program designed to take participants from \"zero to pro\" in Generative AI. The website for the bootcamp is buildfastwithai.com/genai-course. The bootcamp focuses on building and deploying cutting-edge AI applications, including LLMs and RAG, from prototypes to production.\u001b[00m\n",
            "\n",
            "\n",
            "Web Scraping Results:\n",
            "Build Fast with AI offers a GenAI bootcamp, also known as \"Gen AI Launch Pad 2025\". It is run by Satvik, an IIT Delhi alumnus and AI expert who has trained over 15,000 people. The bootcamp is an 8-week program designed to take participants from \"zero to pro\" in Generative AI. The website for the bootcamp is buildfastwithai.com/genai-course. The bootcamp focuses on building and deploying cutting-edge AI applications, including LLMs and RAG, from prototypes to production.\n"
          ]
        }
      ],
      "source": [
        "url = input(\"Enter the website URL to scrape: \")\n",
        "target_data = input(\"Enter the type of data to extract (e.g., product prices, news headlines): \")\n",
        "scraping_result = create_web_scraping_agent(url, target_data)\n",
        "print(\"Web Scraping Results:\")\n",
        "print(scraping_result)"
      ]
    }
  ],
  "metadata": {
    "colab": {
      "provenance": []
    },
    "kernelspec": {
      "display_name": "Python 3",
      "name": "python3"
    },
    "language_info": {
      "name": "python"
    }
  },
  "nbformat": 4,
  "nbformat_minor": 0
}
