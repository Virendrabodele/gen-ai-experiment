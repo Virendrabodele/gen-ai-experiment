{
  "cells": [
    {
      "cell_type": "markdown",
      "metadata": {},
      "source": [
        "<img src=\"https://drive.google.com/uc?export=view&id=1wYSMgJtARFdvTt5g7E20mE4NmwUFUuog\" width=\"200\">\n",
        "\n",
        "[![Gen AI Experiments](https://img.shields.io/badge/Gen%20AI%20Experiments-GenAI%20Bootcamp-blue?style=for-the-badge&logo=artificial-intelligence)](https://github.com/buildfastwithai/gen-ai-experiments)\n",
        "[![Gen AI Experiments GitHub](https://img.shields.io/github/stars/buildfastwithai/gen-ai-experiments?style=for-the-badge&logo=github&color=gold)](http://github.com/buildfastwithai/gen-ai-experiments)\n",
        "\n",
        "[![Open In Colab](https://colab.research.google.com/assets/colab-badge.svg)](https://colab.research.google.com/drive/16NmZ-1jRNWLBjhUrm2z58FRy3KEpanIZ?usp=sharing)\n",
        "## Master Generative AI in 8 Weeks\n",
        "**What You'll Learn:**\n",
        "- Master cutting-edge AI tools & frameworks\n",
        "- 6 weeks of hands-on, project-based learning\n",
        "- Weekly live mentorship sessions\n",
        "- Join Innovation Community\n",
        "\n",
        "Learn by building. Get expert mentorship and work on real AI projects.\n",
        "[Start Your Journey](https://www.buildfastwithai.com/genai-course)"
      ]
    },
    {
      "cell_type": "markdown",
      "metadata": {
        "id": "mj-rREKmgGlP"
      },
      "source": [
        "## Research Agent Using AI"
      ]
    },
    {
      "cell_type": "code",
      "execution_count": null,
      "metadata": {
        "id": "38y92zyHMilX"
      },
      "outputs": [],
      "source": [
        "!pip install -qU agno google-search-results"
      ]
    },
    {
      "cell_type": "code",
      "execution_count": null,
      "metadata": {
        "id": "5iXcA8o7MuWw"
      },
      "outputs": [],
      "source": [
        "import os\n",
        "from google.colab import userdata\n",
        "\n",
        "os.environ[\"OPENAI_API_KEY\"] = userdata.get(\"OPENAI_API_KEY\")\n",
        "os.environ[\"GOOGLE_API_KEY\"] = userdata.get(\"GEMINI_API_KEY\")\n",
        "os.environ[\"SERP_API_KEY\"] = userdata.get(\"SERPAPI_API_KEY\")"
      ]
    },
    {
      "cell_type": "code",
      "execution_count": null,
      "metadata": {
        "id": "gBx81Gb6RPmC"
      },
      "outputs": [],
      "source": [
        "from agno.agent import Agent\n",
        "from agno.models.google import Gemini\n",
        "\n",
        "agent = Agent(\n",
        "    model=Gemini(id=\"gemini-2.0-flash\"),\n",
        ")\n",
        "agent.print_response(\"Write a report on NVDA\", stream=True, show_full_reasoning=True, stream_intermediate_steps=True)"
      ]
    },
    {
      "cell_type": "markdown",
      "metadata": {
        "id": "eLhzJ8pUOxEP"
      },
      "source": [
        "## Market Research Agent with Mutliple Tools"
      ]
    },
    {
      "cell_type": "code",
      "execution_count": null,
      "metadata": {
        "colab": {
          "base_uri": "https://localhost:8080/",
          "height": 1000,
          "referenced_widgets": [
            "fed5fc2b992a411bae611fcd772f4082",
            "cc65301b15454701b5cd5dfaaf927fec"
          ]
        },
        "id": "AQFgNw1HOZI1",
        "outputId": "f4b17001-405e-475c-fb33-7505019026d5"
      },
      "outputs": [
        {
          "data": {
            "application/vnd.jupyter.widget-view+json": {
              "model_id": "fed5fc2b992a411bae611fcd772f4082",
              "version_major": 2,
              "version_minor": 0
            },
            "text/plain": [
              "Output()"
            ]
          },
          "metadata": {},
          "output_type": "display_data"
        },
        {
          "data": {
            "text/html": [
              "<pre style=\"white-space:pre;overflow-x:auto;line-height:normal;font-family:Menlo,'DejaVu Sans Mono',consolas,'Courier New',monospace\"></pre>\n"
            ],
            "text/plain": []
          },
          "metadata": {},
          "output_type": "display_data"
        }
      ],
      "source": [
        "from agno.agent import Agent\n",
        "from agno.models.google import Gemini\n",
        "from agno.tools.reasoning import ReasoningTools\n",
        "from agno.tools.yfinance import YFinanceTools\n",
        "\n",
        "agent = Agent(\n",
        "    model=Gemini(id=\"gemini-2.0-flash\"),\n",
        "    tools=[\n",
        "        ReasoningTools(add_instructions=True),\n",
        "        YFinanceTools(stock_price=True, analyst_recommendations=True, company_info=True, company_news=True),\n",
        "    ],\n",
        "    instructions=[\n",
        "        \"Use tables to display data\",\n",
        "        \"Only output the report, no other text\",\n",
        "        \"The analysis should be at least 1000 words\",\n",
        "    ],\n",
        "    markdown=True,\n",
        ")\n",
        "agent.print_response(\"Write a report on NVDA\", stream=True, show_full_reasoning=True, stream_intermediate_steps=True)"
      ]
    },
    {
      "cell_type": "markdown",
      "metadata": {
        "id": "9P2hjUHhN3n_"
      },
      "source": [
        "### Google Grounding"
      ]
    },
    {
      "cell_type": "code",
      "execution_count": null,
      "metadata": {
        "id": "kM0J0peIMoj-"
      },
      "outputs": [],
      "source": [
        "from agno.agent import Agent\n",
        "from agno.models.google import Gemini\n",
        "\n",
        "agent = Agent(\n",
        "    model=Gemini(\n",
        "                id=\"gemini-2.0-flash\",\n",
        "                #  id = \"gemini-2.5-pro-preview-03-25\",\n",
        "                 grounding=True\n",
        "                ),\n",
        "    add_datetime_to_instructions=True,\n",
        ")\n",
        "agent.print_response(\n",
        "    \"Give me the latest details on Tariffs?\", stream=True, markdown=True\n",
        ")"
      ]
    },
    {
      "cell_type": "code",
      "execution_count": null,
      "metadata": {
        "id": "nqsS0CMGNtes"
      },
      "outputs": [],
      "source": [
        "from agno.agent import Agent\n",
        "from agno.models.google import Gemini\n",
        "\n",
        "agent = Agent(\n",
        "    model=Gemini(\n",
        "                id=\"gemini-2.0-flash\",\n",
        "                #  id = \"gemini-2.5-pro-preview-03-25\",\n",
        "                 grounding=True),\n",
        "    add_datetime_to_instructions=True,\n",
        ")\n",
        "agent.print_response(\n",
        "    \"Give me the latest details on Tariffs?\", stream=True, markdown=True\n",
        ")"
      ]
    },
    {
      "cell_type": "markdown",
      "metadata": {
        "id": "aAQGOtSqQy9L"
      },
      "source": [
        "### Slides Creator Agent\n"
      ]
    },
    {
      "cell_type": "code",
      "execution_count": null,
      "metadata": {
        "id": "gg1tO_BfQ2W6"
      },
      "outputs": [],
      "source": [
        "from agno.agent import Agent\n",
        "from agno.models.google import Gemini\n",
        "\n",
        "agent = Agent(\n",
        "    model=Gemini(\n",
        "                id=\"gemini-2.0-flash\",\n",
        "                #  id = \"gemini-2.5-pro-preview-03-25\",\n",
        "                 grounding=True),\n",
        "    add_datetime_to_instructions=True,\n",
        ")\n",
        "agent.print_response(\n",
        "    \"Give me the latest details on Tariffs?\", stream=True, markdown=True\n",
        ")"
      ]
    },
    {
      "cell_type": "markdown",
      "metadata": {
        "id": "V9ZCuc7lROAJ"
      },
      "source": [
        "Whenever I ask you to create slides on a topic or tool, Make sure to include at least 2-3 slides. The first slide should be on definition or overview, then dive into features or use cases.\n",
        "\n",
        "Each slide should contain a 2-3 short sentence definition/intro followed by 3-4 bullet points. Bullet points shouldn't be very long - concise and straight to the point."
      ]
    },
    {
      "cell_type": "code",
      "execution_count": null,
      "metadata": {
        "id": "_pI2nf5fQ2Ps"
      },
      "outputs": [],
      "source": [
        "from agno.agent import Agent\n",
        "from agno.models.google import Gemini\n",
        "\n",
        "agent = Agent(\n",
        "        model=Gemini(\n",
        "            id=\"gemini-2.0-flash\",\n",
        "            grounding=True\n",
        "        ),\n",
        "        add_datetime_to_instructions=True,\n",
        "    )\n",
        "\n",
        "def create_slides_agent(topic):\n",
        "    prompt_template = \"\"\"\n",
        "    Whenever I ask you to create slides on a topic or tool, Make sure to include at least 2-3 slides.\n",
        "\n",
        "    The first slide should establish the need the topic or tool.\n",
        "\n",
        "    The second slide should be on definition or overview, then dive into features or use cases.\n",
        "\n",
        "    Each slide should contain a 2-3 short sentence definition/intro followed by 3-4 bullet points. Bullet points shouldn't be very long - concise and straight to the point.\n",
        "\n",
        "    Create slides on the following topic: {}\n",
        "    \"\"\".format(topic)\n",
        "\n",
        "    response = agent.run(prompt_template)\n",
        "    return response\n",
        "\n"
      ]
    },
    {
      "cell_type": "code",
      "execution_count": null,
      "metadata": {
        "collapsed": true,
        "id": "cNkU38tmYSbt"
      },
      "outputs": [],
      "source": [
        "# Example Usage:\n",
        "topic = \"Introduction to MCP (Model Context Protocol)\"\n",
        "response = create_slides_agent(topic)\n",
        "print(response.content)"
      ]
    },
    {
      "cell_type": "code",
      "execution_count": null,
      "metadata": {
        "collapsed": true,
        "id": "a7c3XYySVB34"
      },
      "outputs": [],
      "source": [
        "# Example Usage:\n",
        "topic = \"Introduction to MCP (Model Context Protocol)\"\n",
        "response = create_slides_agent(topic)\n",
        "print(response.content)"
      ]
    },
    {
      "cell_type": "code",
      "execution_count": null,
      "metadata": {
        "collapsed": true,
        "id": "v-02B4WLVwOA"
      },
      "outputs": [],
      "source": [
        "# Example Usage:\n",
        "topic = \"Introduction to Ollama\"\n",
        "response = create_slides_agent(topic)\n",
        "print(response.content)"
      ]
    },
    {
      "cell_type": "code",
      "execution_count": null,
      "metadata": {
        "id": "IiMDDAQXnRxt"
      },
      "outputs": [],
      "source": [
        "\n",
        "topics = [\n",
        "    \"Introduction to MCP (Model Context Protocol)\",\n",
        "    \"Schedule Meeting with Claude + Google MCP\",\n",
        "    \"Create your MCP Server in Python\",\n",
        "    \"Browser Use - Introduction - Agents that can browse Internet\",\n",
        "    \"Book Flights with AI  using Browser Use Agent\",\n",
        "    \"What are Realtime Agents?\",\n",
        "    \"Gemini Live Overview\",\n",
        "    \"Voice Chatbot with GPT-4o-realtime\",\n",
        "    \"App: Talk to your Data - play.ai\",\n",
        "    \"What are local models?\",\n",
        "    \"Running models from Huggingface\",\n",
        "    \"Introduction to Ollama\",\n",
        "    \"Using local models using API with Ollama\",\n",
        "    \"App: ChatGPT without Internet! using Ollama\",\n",
        "    \"Introduction to AI ans Security (Observability, Evaluation, Guardrails)\",\n",
        "    \"Observability - Opik\",\n",
        "    \"Evaluation of Gen AI Systems - Giskard, RAGAS\",\n",
        "    \"Guardrails AI\"\n",
        "]\n",
        "\n",
        "for topic in topics:\n",
        "    response = create_slides_agent(topic)\n",
        "    print(f\"## {topic}\\n\")  # Print the topic as a heading\n",
        "    print(response.content)  # Print the response content\n",
        "    print(\"---\\n\")"
      ]
    },
    {
      "cell_type": "markdown",
      "metadata": {
        "id": "gToWayqOgu7g"
      },
      "source": [
        "### Social Media Content Agent"
      ]
    },
    {
      "cell_type": "code",
      "execution_count": null,
      "metadata": {
        "id": "co1rGo0kgun7"
      },
      "outputs": [],
      "source": [
        "from agno.agent import Agent\n",
        "from agno.models.google import Gemini\n",
        "\n",
        "def create_linkedin_post_agent(topic):\n",
        "    prompt_template = \"\"\"\n",
        "    # You are a content writer for Satvik Paramkusham, Founder of Build Fast with AI.\n",
        "\n",
        "    Write a LinkedIn post on the topic: {}\n",
        "\n",
        "    The post should follow Satvik's distinctive writing style, which includes:\n",
        "\n",
        "    1. Opening with an attention-grabbing statement, often using emojis like 🚀, 🤯, or 🔥\n",
        "    2. Using short, impactful paragraphs with 1-3 sentences each\n",
        "    3. Including numbered or bulleted points (often with emoji numbers like 1️⃣, 2️⃣, 3️⃣)\n",
        "    4. Adding technical details and insights that showcase expertise\n",
        "    5. Often using the wavy line emoji (〰️) as bullet points within numbered sections\n",
        "    6. Including personal reflections or experiences when relevant\n",
        "    # 7. Ending with a call to action, often related to Build Fast with AI's courses or workshops\n",
        "    8. Using hashtags at the end\n",
        "\n",
        "    Make the post informative, enthusiastic, and engaging - focusing on practical applications of AI technology.\n",
        "    \"\"\".format(topic)\n",
        "\n",
        "    agent = Agent(\n",
        "        model=Gemini(\n",
        "            id=\"gemini-2.0-flash\",\n",
        "            grounding=True\n",
        "        ),\n",
        "        add_datetime_to_instructions=True,\n",
        "    )\n",
        "\n",
        "    response = agent.run(prompt_template)\n",
        "    return response"
      ]
    },
    {
      "cell_type": "code",
      "execution_count": null,
      "metadata": {
        "id": "p0N23uymgukR"
      },
      "outputs": [],
      "source": [
        "response = create_linkedin_post_agent(\"Llama 4 Models\")\n",
        "print(response.content)"
      ]
    },
    {
      "cell_type": "markdown",
      "metadata": {
        "id": "wQR_McU2oHHn"
      },
      "source": [
        "### Composio Tools"
      ]
    },
    {
      "cell_type": "code",
      "execution_count": null,
      "metadata": {
        "id": "JsR1rlpboG8l"
      },
      "outputs": [],
      "source": [
        "# Install Composio LangChain package\n",
        "!pip install -qU composio-agno"
      ]
    },
    {
      "cell_type": "code",
      "execution_count": null,
      "metadata": {
        "id": "8DGjsO70oKYE"
      },
      "outputs": [],
      "source": [
        "import os\n",
        "from google.colab import userdata\n",
        "\n",
        "os.environ[\"OPENAI_API_KEY\"] = userdata.get('OPENAI_API_KEY')\n",
        "os.environ[\"COMPOSIO_API_KEY\"] = userdata.get('COMPOSIO_API_KEY')"
      ]
    },
    {
      "cell_type": "code",
      "execution_count": null,
      "metadata": {
        "id": "WF-rxX8B6_lv"
      },
      "outputs": [],
      "source": [
        "from agno.agent import Agent\n",
        "from composio_agno import ComposioToolSet, Action, App\n",
        "\n",
        "# toolset = ComposioToolSet()\n",
        "\n",
        "# tools = toolset.get_tools(apps=[App.GOOGLETASKS])\n",
        "\n",
        "composio_toolset = ComposioToolSet(entity_id=\"default\")\n",
        "\n",
        "tools = composio_toolset.get_tools(apps=[App.GOOGLETASKS])"
      ]
    },
    {
      "cell_type": "code",
      "execution_count": null,
      "metadata": {
        "id": "PuU-6MaXAHQp"
      },
      "outputs": [],
      "source": [
        "# Create a chat completion request to decide on the action\n",
        "agent = Agent(model=Gemini(id=\"gemini-2.0-flash\"),\n",
        "              tools=tools,\n",
        "              show_tool_calls=True)\n",
        "\n",
        "agent.print_response(\"Add 'Make YT video' task to google tasks \")"
      ]
    },
    {
      "cell_type": "code",
      "execution_count": null,
      "metadata": {
        "id": "2MIgeVKSHZy0"
      },
      "outputs": [],
      "source": [
        "response = agent.run(\"Add Apply to Google SWE Role task to google tasks under My Tasks \")"
      ]
    },
    {
      "cell_type": "code",
      "execution_count": null,
      "metadata": {
        "id": "JY8Af27ZH5OC"
      },
      "outputs": [],
      "source": [
        "print(response.content)"
      ]
    },
    {
      "cell_type": "code",
      "execution_count": null,
      "metadata": {
        "id": "q59lGgyn6_gk"
      },
      "outputs": [],
      "source": [
        "tools = composio_toolset.get_tools(actions=['TWITTER_BOOKMARKS_BY_USER'])\n",
        "\n",
        "# Create a chat completion request to decide on the action\n",
        "agent = Agent(model=Gemini(id=\"gemini-2.0-flash\"),\n",
        "              tools=tools,\n",
        "              show_tool_calls=True)\n",
        "\n",
        "agent.print_response(\"Get my latest twitter bookmarks\")"
      ]
    },
    {
      "cell_type": "markdown",
      "metadata": {
        "id": "iSQwofKLP2db"
      },
      "source": [
        "###Using Structured Outputs"
      ]
    },
    {
      "cell_type": "code",
      "execution_count": null,
      "metadata": {
        "id": "FO-nfqmlP6qT"
      },
      "outputs": [],
      "source": [
        "from typing import List\n",
        "\n",
        "from agno.agent import Agent, RunResponse  # noqa\n",
        "from agno.models.google import Gemini\n",
        "from pydantic import BaseModel, Field\n",
        "from rich.pretty import pprint  # noqa\n",
        "\n",
        "\n",
        "class MovieScript(BaseModel):\n",
        "    setting: str = Field(\n",
        "        ..., description=\"Provide a nice setting for a blockbuster movie.\"\n",
        "    )\n",
        "    ending: str = Field(\n",
        "        ...,\n",
        "        description=\"Ending of the movie. If not available, provide a happy ending.\",\n",
        "    )\n",
        "    genre: str = Field(\n",
        "        ...,\n",
        "        description=\"Genre of the movie. If not available, select action, thriller or romantic comedy.\",\n",
        "    )\n",
        "    name: str = Field(..., description=\"Give a name to this movie\")\n",
        "    characters: List[str] = Field(..., description=\"Name of characters for this movie.\")\n",
        "    storyline: str = Field(\n",
        "        ..., description=\"3 sentence storyline for the movie. Make it exciting!\"\n",
        "    )\n",
        "\n",
        "\n",
        "structured_output_agent = Agent(\n",
        "    model=Gemini(id=\"gemini-2.0-flash\"),\n",
        "    description=\"You help users organise tasks.\",\n",
        "    response_model=TaskOutput,\n",
        ")\n",
        "\n",
        "structured_output_agent.print_response(\"New York\")"
      ]
    }
  ],
  "metadata": {
    "colab": {
      "provenance": []
    },
    "kernelspec": {
      "display_name": "Python 3",
      "name": "python3"
    },
    "language_info": {
      "name": "python"
    }
  },
  "nbformat": 4,
  "nbformat_minor": 0
}
