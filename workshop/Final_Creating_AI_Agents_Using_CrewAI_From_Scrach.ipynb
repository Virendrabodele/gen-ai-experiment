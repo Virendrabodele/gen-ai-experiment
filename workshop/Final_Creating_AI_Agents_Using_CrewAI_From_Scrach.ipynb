{
  "cells": [
    {
      "cell_type": "markdown",
      "metadata": {
        "id": "yeAZohjaxm5q"
      },
      "source": [
        "<img src=\"https://drive.google.com/uc?export=view&id=1wYSMgJtARFdvTt5g7E20mE4NmwUFUuog\" width=\"200\">\n",
        "\n",
        "[![Gen AI Experiments](https://img.shields.io/badge/Gen%20AI%20Experiments-GenAI%20Bootcamp-blue?style=for-the-badge&logo=artificial-intelligence)](https://github.com/buildfastwithai/gen-ai-experiments)\n",
        "[![Gen AI Experiments GitHub](https://img.shields.io/github/stars/buildfastwithai/gen-ai-experiments?style=for-the-badge&logo=github&color=gold)](http://github.com/buildfastwithai/gen-ai-experiments)\n",
        "\n",
        "[![Open In Colab](https://colab.research.google.com/assets/colab-badge.svg)](https://colab.research.google.com/drive/1HeWOqDP4V8_NLlK4HmFmKuuPuuhJfkg8?usp=sharing)\n",
        "## Master Generative AI in 8 Weeks\n",
        "**What You'll Learn:**\n",
        "- Master cutting-edge AI tools & frameworks\n",
        "- 6 weeks of hands-on, project-based learning\n",
        "- Weekly live mentorship sessions\n",
        "- Join Innovation Community\n",
        "\n",
        "Learn by building. Get expert mentorship and work on real AI projects.\n",
        "[Start Your Journey](https://www.buildfastwithai.com/genai-course)"
      ]
    },
    {
      "cell_type": "markdown",
      "metadata": {
        "id": "3SywyCG8tLQe"
      },
      "source": [
        "#Step-by-Step Guide to Building AI Agents with CrewAI"
      ]
    },
    {
      "cell_type": "markdown",
      "metadata": {
        "id": "svpBP5n1tUFT"
      },
      "source": [
        "###Introduction\n",
        "This guide will help you create AI agents using CrewAI in Google Colab, even if you have no prior coding experience.\n",
        "\n",
        "Follow the steps carefully, and you will be able to define, customize, and run your own AI agents."
      ]
    },
    {
      "cell_type": "markdown",
      "metadata": {
        "id": "mJprlsoLtY6p"
      },
      "source": [
        "###Step 1: Install required libraries\n"
      ]
    },
    {
      "cell_type": "code",
      "execution_count": null,
      "metadata": {
        "id": "VtS80tqZpabz"
      },
      "outputs": [],
      "source": [
        "# Install required libraries to use AI agents\n",
        "!pip install crewai langchain_openai 'crewai[tools]' google-search-results"
      ]
    },
    {
      "cell_type": "markdown",
      "metadata": {
        "id": "ngJQkUHgt0cI"
      },
      "source": [
        "###Step 2: Import Necessary Libraries & Configure API Keys"
      ]
    },
    {
      "cell_type": "markdown",
      "metadata": {
        "id": "B4YmPVAxnXgX"
      },
      "source": [
        "####Getting Your API Keys\n",
        "**Serper API Key**\n",
        "\n",
        "* Visit https://serper.dev/api-key\n",
        "* Sign up for an account or log in\n",
        "* Navigate to the API dashboard\n",
        "* Generate your API key\n",
        "* Copy the key and use in your Colab Notebook\n",
        "\n",
        "**Google Gemini API Key**\n",
        "\n",
        "* Visit https://aistudio.google.com/\n",
        " Sign in with your Google account\n",
        "* Navigate to \"Get API Keys\" in the settings menu\n",
        "* Click \"Create API Key\"\n",
        "* Copy your new API key And use in Colab Notebook\n"
      ]
    },
    {
      "cell_type": "markdown",
      "metadata": {
        "id": "vPzTKlhFCm_f"
      },
      "source": [
        "**How to Configure API Keys On Google Colab**\n",
        "* Click on the key icon in the left sidebar\n",
        "* Select \"Add new Secret\"\n",
        "* Add your API keys with appropriate names: GEMINI_API_KEY, SERPER_API_KEY\n"
      ]
    },
    {
      "cell_type": "code",
      "execution_count": null,
      "metadata": {
        "id": "TX9ztP_5t1Ex"
      },
      "outputs": [],
      "source": [
        "# Import CrewAI and other required libraries to use AI agents\n",
        "from crewai import Agent, Task, Crew, Process\n",
        "import os\n",
        "from google.colab import userdata\n",
        "\n",
        "os.environ[\"GEMINI_API_KEY\"] = userdata.get('GEMINI_API_KEY')\n",
        "os.environ[\"SERPER_API_KEY\"] = userdata.get('SERPER_API_KEY')\n",
        "# os.environ[\"OPENAI_API_KEY\"] = userdata.get('OPENAI_API_KEY') # You can use Openai api key to use Openai Models"
      ]
    },
    {
      "cell_type": "markdown",
      "metadata": {
        "id": "639Ut9I5t7lM"
      },
      "source": [
        "###Step 3: Define Your LLM Model"
      ]
    },
    {
      "cell_type": "markdown",
      "metadata": {
        "id": "9iPiyCN4zMfp"
      },
      "source": [
        "* Select Your Primary LLM : Default is Gemini\n",
        "* Choose which AI models you want to power your agents:"
      ]
    },
    {
      "cell_type": "code",
      "execution_count": null,
      "metadata": {
        "id": "EJ8Ld-zct8WP"
      },
      "outputs": [],
      "source": [
        "from langchain_openai import ChatOpenAI\n",
        "from crewai import LLM\n",
        "\n",
        "Gemini = LLM(model=\"gemini/gemini-2.0-flash\")\n",
        "\n",
        "#gpt4o = ChatOpenAI(model=\"gpt-4o\")  # Use OpenAI's GPT-4 model if you have your api keys setup"
      ]
    },
    {
      "cell_type": "markdown",
      "metadata": {
        "id": "UOvRsXJWuMyC"
      },
      "source": [
        "###Step 4: Initialize Tools"
      ]
    },
    {
      "cell_type": "markdown",
      "metadata": {
        "id": "3DByu-mzztQR"
      },
      "source": [
        "* Initialize Search and Scraping Tools\n",
        "\n",
        "* Tools give your agents capabilities to interact with the outside world:"
      ]
    },
    {
      "cell_type": "code",
      "execution_count": null,
      "metadata": {
        "id": "srsX4rQhuNoy"
      },
      "outputs": [],
      "source": [
        "from crewai_tools import SerperDevTool, ScrapeWebsiteTool\n",
        "\n",
        "search_tool = SerperDevTool()  # For web searches\n",
        "scrape_website_tool = ScrapeWebsiteTool()  # For scraping websites\n",
        "tools = [search_tool, scrape_website_tool]"
      ]
    },
    {
      "cell_type": "markdown",
      "metadata": {
        "id": "I7cnX6Taumal"
      },
      "source": [
        "###Step 5: Defining Agents"
      ]
    },
    {
      "cell_type": "markdown",
      "metadata": {
        "id": "RQvUjvTVz1vP"
      },
      "source": [
        "Agents are the core workers in your AI team. Each agent should have:\n",
        "\n",
        "* A specific role\n",
        "* Clear goals\n",
        "* A compelling backstory to guide their behavior\n",
        "* Assigned tools and capabilities"
      ]
    },
    {
      "cell_type": "code",
      "execution_count": null,
      "metadata": {
        "id": "t9cSJuLZunNa"
      },
      "outputs": [],
      "source": [
        "def create_custom_crew(query_param1, query_param2):\n",
        "    \"\"\"\n",
        "    Creates and runs a crew with custom agents that work together\n",
        "    to accomplish specified tasks.\n",
        "\n",
        "    Args:\n",
        "        query_param1 (str): First custom parameter description\n",
        "        query_param2 (str): Second custom parameter description\n",
        "\n",
        "    Returns:\n",
        "        str: Result of the crew's work\n",
        "    \"\"\"\n",
        "    # ===============================================\n",
        "    # DEFINE YOUR AGENTS\n",
        "    # ===============================================\n",
        "\n",
        "    # First Agent Template\n",
        "    first_agent = Agent(\n",
        "        role=\"Enter agent role\",  # Example: \"Research Analyst\", \"Marketing Specialist\", etc.\n",
        "        goal=\"Enter agent goal\",  # Example: \"Find accurate information on specific topics\"\n",
        "        backstory=\"Enter agent backstory\",  # Example: \"Experienced researcher with a background in data analysis\"\n",
        "        verbose=True,  # Set to False in production for less output\n",
        "        tools=[search_tool],  # Add tools your agent needs\n",
        "        llm=Gemini  # Assign appropriate model\n",
        "    )\n",
        "\n",
        "    # Second Agent Template\n",
        "    second_agent = Agent(\n",
        "        role=\"Enter agent role\",  # Example: \"Content Creator\", \"Data Scientist\", etc.\n",
        "        goal=\"Enter agent goal\",  # Example: \"Create engaging content based on research findings\"\n",
        "        backstory=\"Enter agent backstory\",  # Example: \"Creative writer with 10 years experience in technical writing\"\n",
        "        verbose=True,\n",
        "        tools=[search_tool],  # Customize tools as needed\n",
        "        llm=Gemini\n",
        "    )\n",
        "\n",
        "# Add more agents as needed following the same patter"
      ]
    },
    {
      "cell_type": "markdown",
      "metadata": {
        "id": "-hKA85WLusf5"
      },
      "source": [
        "###Step 6: Defining Tasks"
      ]
    },
    {
      "cell_type": "markdown",
      "metadata": {
        "id": "wk6ag6qwZ9pi"
      },
      "source": [
        "Tasks define what each agent needs to accomplish. Be specific about:\n",
        "\n",
        "* The exact work required\n",
        "* The expected output format\n",
        "* Which agent is responsible\n",
        "* Whether human input is needed during execution"
      ]
    },
    {
      "cell_type": "code",
      "execution_count": null,
      "metadata": {
        "id": "IA6iRyDCutPA"
      },
      "outputs": [],
      "source": [
        "# ===============================================\n",
        "# DEFINE YOUR TASKS\n",
        "# ===============================================\n",
        "\n",
        "# First Task Template\n",
        "first_task = Task(\n",
        "description=f\"Enter task description. Use parameters like {query_param1} where needed.\",\n",
        "expected_output=\"Describe what output should look like\",  # Example: \"A detailed report with key findings\"\n",
        "agent=first_agent,\n",
        "# Leave context empty for the first task: context=[]\n",
        ")\n",
        "\n",
        "# Second Task Template\n",
        "second_task = Task(\n",
        "description=f\"Enter task description. Reference parameter {query_param2} and possibly use results from previous tasks.\",\n",
        "expected_output=\"Describe what output should look like\",  # Example: \"A creative solution based on analysis\"\n",
        "agent=second_agent,\n",
        "context=[first_task]  # Add previous tasks that provide context\n",
        ")\n",
        "\n",
        "# Add more tasks as needed following the same pattern"
      ]
    },
    {
      "cell_type": "markdown",
      "metadata": {
        "id": "5CyOTFleuwwD"
      },
      "source": [
        "###Step 7: Creating Crew"
      ]
    },
    {
      "cell_type": "markdown",
      "metadata": {
        "id": "cZX1ZgWYaRvQ"
      },
      "source": [
        "* The Crew organizes how your agents work together:\n"
      ]
    },
    {
      "cell_type": "code",
      "execution_count": null,
      "metadata": {
        "id": "sUbFNghQuxYt"
      },
      "outputs": [],
      "source": [
        "# CREATE AND RUN THE CREW\n",
        "    # ===============================================\n",
        "\n",
        "# Create Crew\n",
        "crew = Crew(\n",
        "agents=[first_agent, second_agent],  # Add all your agents here\n",
        "tasks=[first_task, second_task],  # Add all your tasks here\n",
        "verbose=True,  # Set to False in production\n",
        "process=Process.sequential  # Or Process.hierarchical based on your needs\n",
        ")\n",
        "\n",
        "# Run Crew\n",
        "result = crew.kickoff(inputs={\n",
        "\"param1\": query_param1,\n",
        "\"param2\": query_param2\n",
        "# Add more parameters as needed\n",
        "})\n",
        "\n",
        "return result"
      ]
    },
    {
      "cell_type": "markdown",
      "metadata": {
        "id": "uOOd25Ixyzuf"
      },
      "source": [
        "### Execute the crew\n"
      ]
    },
    {
      "cell_type": "code",
      "execution_count": null,
      "metadata": {
        "id": "wtsxeDLmH5sX"
      },
      "outputs": [],
      "source": [
        "print(\"Custom Crew Execution\")\n",
        "print(\"=====================\")\n",
        "\n",
        "# Get user inputs\n",
        "param1 = input(\"Enter first parameter: \")\n",
        "param2 = input(\"Enter second parameter: \")\n",
        "\n",
        "print(\"\\nExecuting your custom crew...\\n\")\n",
        "result = create_custom_crew(param1, param2)\n",
        "\n",
        "print(\"Crew Execution Result:\")\n",
        "print(\"=====================\")\n",
        "print(result)"
      ]
    },
    {
      "cell_type": "markdown",
      "metadata": {
        "id": "Z0J5z9XWiNFQ"
      },
      "source": [
        "\n",
        "\n",
        "---\n",
        "\n"
      ]
    },
    {
      "cell_type": "markdown",
      "metadata": {
        "id": "3Pd6M9qtH6m9"
      },
      "source": [
        "##Recipe Generator Agent Example\n"
      ]
    },
    {
      "cell_type": "markdown",
      "metadata": {
        "id": "2NwVhHIAIC3n"
      },
      "source": [
        "###Step 1: Import Required Libraries & API Keys\n"
      ]
    },
    {
      "cell_type": "code",
      "execution_count": null,
      "metadata": {
        "id": "rx0n-gOoH-nv"
      },
      "outputs": [],
      "source": [
        "from crewai import Agent, Task, Crew, Process\n",
        "from crewai_tools import SerperDevTool\n",
        "from langchain_openai import ChatOpenAI\n",
        "from crewai import LLM\n",
        "import os\n",
        "from google.colab import userdata\n",
        "\n",
        "# os.environ[\"OPENAI_API_KEY\"] = userdata.get('OPENAI_API_KEY') # You can use Openai api key to use Openai Models\n",
        "os.environ[\"GEMINI_API_KEY\"] = userdata.get('GEMINI_API_KEY')\n",
        "os.environ[\"SERPER_API_KEY\"] = userdata.get('SERPER_API_KEY')"
      ]
    },
    {
      "cell_type": "markdown",
      "metadata": {
        "id": "hUaPzXo_IIXM"
      },
      "source": [
        "###Step 2: Initialize Models and Tools\n"
      ]
    },
    {
      "cell_type": "code",
      "execution_count": null,
      "metadata": {
        "id": "i2JfwVwSIJJh"
      },
      "outputs": [],
      "source": [
        "# Initialize models\n",
        "Gemini = LLM(model=\"gemini/gemini-2.0-flash\")\n",
        "# gpt4o = ChatOpenAI(model=\"gpt-4o\")\n",
        "\n",
        "# Initialize tools\n",
        "search_tool = SerperDevTool()"
      ]
    },
    {
      "cell_type": "markdown",
      "metadata": {
        "id": "cDnh8YjCINke"
      },
      "source": [
        "###Step 3: Create the Main Function\n"
      ]
    },
    {
      "cell_type": "code",
      "execution_count": null,
      "metadata": {
        "id": "DQGbN-dFIOMn"
      },
      "outputs": [],
      "source": [
        "def create_recipe_crew(ingredients, dietary_restrictions):\n",
        "    \"\"\"\n",
        "    Creates and runs a crew with Recipe Generator and Nutritionist agents\n",
        "    to create recipes based on available ingredients and dietary restrictions.\n",
        "\n",
        "    Args:\n",
        "        ingredients (str): List of available ingredients\n",
        "        dietary_restrictions (str): Any dietary restrictions or preferences\n",
        "\n",
        "    Returns:\n",
        "        str: A recipe recommendation with nutritional analysis\n",
        "    \"\"\"\n",
        "    # Define the Recipe Generator Agent\n",
        "    recipe_agent = Agent(\n",
        "        role=\"Recipe Chef\",\n",
        "        goal=\"Create delicious recipes using available ingredients\",\n",
        "        backstory=\"Culinary expert creating dishes with limited ingredients\",\n",
        "        verbose=True,\n",
        "        tools=[search_tool],\n",
        "        llm=Gemini\n",
        "    )\n",
        "\n",
        "    # Define the Nutritionist Agent\n",
        "    nutritionist_agent = Agent(\n",
        "        role=\"Culinary Nutritionist\",\n",
        "        goal=\"Provide nutritional analysis for recipes\",\n",
        "        backstory=\"Dietitian specializing in balanced meals\",\n",
        "        verbose=True,\n",
        "        tools=[search_tool],\n",
        "        llm=Gemini\n",
        "    )\n",
        "\n",
        "    # Define the Recipe Creation Task\n",
        "    recipe_task = Task(\n",
        "        description=f\"Create a recipe using: {ingredients}. Respect dietary restrictions: {dietary_restrictions}.\",\n",
        "        expected_output=\"Complete recipe with ingredients and instructions.\",\n",
        "        agent=recipe_agent\n",
        "    )\n",
        "\n",
        "    # Define the Nutritional Analysis Task\n",
        "    nutrition_task = Task(\n",
        "        description=f\"Analyze nutritional content of the recipe. Consider restrictions: {dietary_restrictions}.\",\n",
        "        expected_output=\"Nutritional breakdown with optimization suggestions.\",\n",
        "        agent=nutritionist_agent,\n",
        "        context=[recipe_task]\n",
        "    )\n",
        "\n",
        "    # Create and Run the Crew\n",
        "    crew = Crew(\n",
        "        agents=[recipe_agent, nutritionist_agent],\n",
        "        tasks=[recipe_task, nutrition_task],\n",
        "        verbose=True,\n",
        "        process=Process.sequential\n",
        "    )\n",
        "\n",
        "    result = crew.kickoff(inputs={\n",
        "        \"ingredients\": ingredients,\n",
        "        \"dietary_restrictions\": dietary_restrictions\n",
        "    })\n",
        "    return result"
      ]
    },
    {
      "cell_type": "markdown",
      "metadata": {
        "id": "P1psWKH7IYVm"
      },
      "source": [
        "###Step 4: Add User Interaction Logic\n"
      ]
    },
    {
      "cell_type": "code",
      "execution_count": null,
      "metadata": {
        "id": "BZvBmDTCIZC9"
      },
      "outputs": [],
      "source": [
        "print(\"Recipe Generator\")\n",
        "print(\"===============\")\n",
        "\n",
        "ingredients = input(\"Enter available ingredients (comma separated): \")\n",
        "dietary_restrictions = input(\"Enter any dietary restrictions: \")\n",
        "\n",
        "print(\"\\nGenerating your recipe...\\n\")\n",
        "recipe_result = create_recipe_crew(ingredients, dietary_restrictions)\n",
        "\n",
        "print(\"Your Recipe with Nutritional Analysis:\")\n",
        "print(\"====================================\")\n",
        "print(recipe_result)"
      ]
    }
  ],
  "metadata": {
    "colab": {
      "provenance": []
    },
    "kernelspec": {
      "display_name": "Python 3",
      "name": "python3"
    },
    "language_info": {
      "name": "python"
    }
  },
  "nbformat": 4,
  "nbformat_minor": 0
}
