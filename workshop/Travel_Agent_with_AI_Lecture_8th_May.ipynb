{
  "cells": [
    {
      "cell_type": "markdown",
      "metadata": {
        "id": "M7_l-AP9en8q"
      },
      "source": [
        "<img src=\"https://drive.google.com/uc?export=view&id=1wYSMgJtARFdvTt5g7E20mE4NmwUFUuog\" width=\"200\">\n",
        "\n",
        "[![Gen AI Experiments](https://img.shields.io/badge/Gen%20AI%20Experiments-GenAI%20Bootcamp-blue?style=for-the-badge&logo=artificial-intelligence)](https://github.com/buildfastwithai/gen-ai-experiments)\n",
        "[![Gen AI Experiments GitHub](https://img.shields.io/github/stars/buildfastwithai/gen-ai-experiments?style=for-the-badge&logo=github&color=gold)](http://github.com/buildfastwithai/gen-ai-experiments)\n",
        "\n",
        "[![Open In Colab](https://colab.research.google.com/assets/colab-badge.svg)](https://colab.research.google.com/drive/1RxJl7nptpbJkT5CkxDsYlG-nlj7QJrvb?usp=sharing)\n",
        "## Master Generative AI in 8 Weeks\n",
        "**What You'll Learn:**\n",
        "- Master cutting-edge AI tools & frameworks\n",
        "- 6 weeks of hands-on, project-based learning\n",
        "- Weekly live mentorship sessions\n",
        "- Join Innovation Community\n",
        "\n",
        "Learn by building. Get expert mentorship and work on real AI projects.\n",
        "[Start Your Journey](https://www.buildfastwithai.com/genai-course)"
      ]
    },
    {
      "cell_type": "markdown",
      "metadata": {
        "id": "nIVlbAV5NhOW"
      },
      "source": [
        "# Travel Agent with AI Notebook\n",
        "\n",
        "This notebook demonstrates how to build an AI-powered travel planning assistant using the phidata library. It leverages OpenAI's GPT-4 model and DuckDuckGo search to create detailed travel itineraries, provide destination recommendations, and answer travel-related questions.\n"
      ]
    },
    {
      "cell_type": "markdown",
      "metadata": {
        "id": "1g93JoFzYCYC"
      },
      "source": [
        "###install Requirements"
      ]
    },
    {
      "cell_type": "code",
      "execution_count": null,
      "metadata": {
        "colab": {
          "base_uri": "https://localhost:8080/"
        },
        "collapsed": true,
        "id": "wUHhtLPLNhOZ",
        "outputId": "4521d2d5-35e3-4235-e9f8-1297945d0c76"
      },
      "outputs": [
        {
          "name": "stdout",
          "output_type": "stream",
          "text": [
            "Requirement already satisfied: agno in /usr/local/lib/python3.11/dist-packages (1.4.5)\n",
            "Requirement already satisfied: openai in /usr/local/lib/python3.11/dist-packages (1.77.0)\n",
            "Requirement already satisfied: google-generativeai in /usr/local/lib/python3.11/dist-packages (0.8.5)\n",
            "Requirement already satisfied: duckduckgo-search in /usr/local/lib/python3.11/dist-packages (8.0.1)\n",
            "Requirement already satisfied: groq in /usr/local/lib/python3.11/dist-packages (0.24.0)\n",
            "Collecting wikipedia\n",
            "  Downloading wikipedia-1.4.0.tar.gz (27 kB)\n",
            "  Preparing metadata (setup.py) ... \u001b[?25l\u001b[?25hdone\n",
            "Requirement already satisfied: docstring-parser in /usr/local/lib/python3.11/dist-packages (from agno) (0.16)\n",
            "Requirement already satisfied: gitpython in /usr/local/lib/python3.11/dist-packages (from agno) (3.1.44)\n",
            "Requirement already satisfied: httpx in /usr/local/lib/python3.11/dist-packages (from agno) (0.28.1)\n",
            "Requirement already satisfied: pydantic-settings in /usr/local/lib/python3.11/dist-packages (from agno) (2.9.1)\n",
            "Requirement already satisfied: pydantic in /usr/local/lib/python3.11/dist-packages (from agno) (2.11.4)\n",
            "Requirement already satisfied: python-dotenv in /usr/local/lib/python3.11/dist-packages (from agno) (1.1.0)\n",
            "Requirement already satisfied: python-multipart in /usr/local/lib/python3.11/dist-packages (from agno) (0.0.20)\n",
            "Requirement already satisfied: pyyaml in /usr/local/lib/python3.11/dist-packages (from agno) (6.0.2)\n",
            "Requirement already satisfied: rich in /usr/local/lib/python3.11/dist-packages (from agno) (13.9.4)\n",
            "Requirement already satisfied: tomli in /usr/local/lib/python3.11/dist-packages (from agno) (2.2.1)\n",
            "Requirement already satisfied: typer in /usr/local/lib/python3.11/dist-packages (from agno) (0.15.3)\n",
            "Requirement already satisfied: typing-extensions in /usr/local/lib/python3.11/dist-packages (from agno) (4.13.2)\n",
            "Requirement already satisfied: anyio<5,>=3.5.0 in /usr/local/lib/python3.11/dist-packages (from openai) (4.9.0)\n",
            "Requirement already satisfied: distro<2,>=1.7.0 in /usr/local/lib/python3.11/dist-packages (from openai) (1.9.0)\n",
            "Requirement already satisfied: jiter<1,>=0.4.0 in /usr/local/lib/python3.11/dist-packages (from openai) (0.9.0)\n",
            "Requirement already satisfied: sniffio in /usr/local/lib/python3.11/dist-packages (from openai) (1.3.1)\n",
            "Requirement already satisfied: tqdm>4 in /usr/local/lib/python3.11/dist-packages (from openai) (4.67.1)\n",
            "Requirement already satisfied: google-ai-generativelanguage==0.6.15 in /usr/local/lib/python3.11/dist-packages (from google-generativeai) (0.6.15)\n",
            "Requirement already satisfied: google-api-core in /usr/local/lib/python3.11/dist-packages (from google-generativeai) (2.24.2)\n",
            "Requirement already satisfied: google-api-python-client in /usr/local/lib/python3.11/dist-packages (from google-generativeai) (2.169.0)\n",
            "Requirement already satisfied: google-auth>=2.15.0 in /usr/local/lib/python3.11/dist-packages (from google-generativeai) (2.38.0)\n",
            "Requirement already satisfied: protobuf in /usr/local/lib/python3.11/dist-packages (from google-generativeai) (5.29.4)\n",
            "Requirement already satisfied: proto-plus<2.0.0dev,>=1.22.3 in /usr/local/lib/python3.11/dist-packages (from google-ai-generativelanguage==0.6.15->google-generativeai) (1.26.1)\n",
            "Requirement already satisfied: click>=8.1.8 in /usr/local/lib/python3.11/dist-packages (from duckduckgo-search) (8.1.8)\n",
            "Requirement already satisfied: primp>=0.15.0 in /usr/local/lib/python3.11/dist-packages (from duckduckgo-search) (0.15.0)\n",
            "Requirement already satisfied: lxml>=5.3.0 in /usr/local/lib/python3.11/dist-packages (from duckduckgo-search) (5.4.0)\n",
            "Requirement already satisfied: beautifulsoup4 in /usr/local/lib/python3.11/dist-packages (from wikipedia) (4.13.4)\n",
            "Requirement already satisfied: requests<3.0.0,>=2.0.0 in /usr/local/lib/python3.11/dist-packages (from wikipedia) (2.32.3)\n",
            "Requirement already satisfied: idna>=2.8 in /usr/local/lib/python3.11/dist-packages (from anyio<5,>=3.5.0->openai) (3.10)\n",
            "Requirement already satisfied: googleapis-common-protos<2.0.0,>=1.56.2 in /usr/local/lib/python3.11/dist-packages (from google-api-core->google-generativeai) (1.70.0)\n",
            "Requirement already satisfied: cachetools<6.0,>=2.0.0 in /usr/local/lib/python3.11/dist-packages (from google-auth>=2.15.0->google-generativeai) (5.5.2)\n",
            "Requirement already satisfied: pyasn1-modules>=0.2.1 in /usr/local/lib/python3.11/dist-packages (from google-auth>=2.15.0->google-generativeai) (0.4.2)\n",
            "Requirement already satisfied: rsa<5,>=3.1.4 in /usr/local/lib/python3.11/dist-packages (from google-auth>=2.15.0->google-generativeai) (4.9.1)\n",
            "Requirement already satisfied: certifi in /usr/local/lib/python3.11/dist-packages (from httpx->agno) (2025.4.26)\n",
            "Requirement already satisfied: httpcore==1.* in /usr/local/lib/python3.11/dist-packages (from httpx->agno) (1.0.9)\n",
            "Requirement already satisfied: h11>=0.16 in /usr/local/lib/python3.11/dist-packages (from httpcore==1.*->httpx->agno) (0.16.0)\n",
            "Requirement already satisfied: annotated-types>=0.6.0 in /usr/local/lib/python3.11/dist-packages (from pydantic->agno) (0.7.0)\n",
            "Requirement already satisfied: pydantic-core==2.33.2 in /usr/local/lib/python3.11/dist-packages (from pydantic->agno) (2.33.2)\n",
            "Requirement already satisfied: typing-inspection>=0.4.0 in /usr/local/lib/python3.11/dist-packages (from pydantic->agno) (0.4.0)\n",
            "Requirement already satisfied: charset-normalizer<4,>=2 in /usr/local/lib/python3.11/dist-packages (from requests<3.0.0,>=2.0.0->wikipedia) (3.4.1)\n",
            "Requirement already satisfied: urllib3<3,>=1.21.1 in /usr/local/lib/python3.11/dist-packages (from requests<3.0.0,>=2.0.0->wikipedia) (2.4.0)\n",
            "Requirement already satisfied: soupsieve>1.2 in /usr/local/lib/python3.11/dist-packages (from beautifulsoup4->wikipedia) (2.7)\n",
            "Requirement already satisfied: gitdb<5,>=4.0.1 in /usr/local/lib/python3.11/dist-packages (from gitpython->agno) (4.0.12)\n",
            "Requirement already satisfied: httplib2<1.0.0,>=0.19.0 in /usr/local/lib/python3.11/dist-packages (from google-api-python-client->google-generativeai) (0.22.0)\n",
            "Requirement already satisfied: google-auth-httplib2<1.0.0,>=0.2.0 in /usr/local/lib/python3.11/dist-packages (from google-api-python-client->google-generativeai) (0.2.0)\n",
            "Requirement already satisfied: uritemplate<5,>=3.0.1 in /usr/local/lib/python3.11/dist-packages (from google-api-python-client->google-generativeai) (4.1.1)\n",
            "Requirement already satisfied: markdown-it-py>=2.2.0 in /usr/local/lib/python3.11/dist-packages (from rich->agno) (3.0.0)\n",
            "Requirement already satisfied: pygments<3.0.0,>=2.13.0 in /usr/local/lib/python3.11/dist-packages (from rich->agno) (2.19.1)\n",
            "Requirement already satisfied: shellingham>=1.3.0 in /usr/local/lib/python3.11/dist-packages (from typer->agno) (1.5.4)\n",
            "Requirement already satisfied: smmap<6,>=3.0.1 in /usr/local/lib/python3.11/dist-packages (from gitdb<5,>=4.0.1->gitpython->agno) (5.0.2)\n",
            "Requirement already satisfied: grpcio<2.0dev,>=1.33.2 in /usr/local/lib/python3.11/dist-packages (from google-api-core[grpc]!=2.0.*,!=2.1.*,!=2.10.*,!=2.2.*,!=2.3.*,!=2.4.*,!=2.5.*,!=2.6.*,!=2.7.*,!=2.8.*,!=2.9.*,<3.0.0dev,>=1.34.1->google-ai-generativelanguage==0.6.15->google-generativeai) (1.71.0)\n",
            "Requirement already satisfied: grpcio-status<2.0.dev0,>=1.33.2 in /usr/local/lib/python3.11/dist-packages (from google-api-core[grpc]!=2.0.*,!=2.1.*,!=2.10.*,!=2.2.*,!=2.3.*,!=2.4.*,!=2.5.*,!=2.6.*,!=2.7.*,!=2.8.*,!=2.9.*,<3.0.0dev,>=1.34.1->google-ai-generativelanguage==0.6.15->google-generativeai) (1.71.0)\n",
            "Requirement already satisfied: pyparsing!=3.0.0,!=3.0.1,!=3.0.2,!=3.0.3,<4,>=2.4.2 in /usr/local/lib/python3.11/dist-packages (from httplib2<1.0.0,>=0.19.0->google-api-python-client->google-generativeai) (3.2.3)\n",
            "Requirement already satisfied: mdurl~=0.1 in /usr/local/lib/python3.11/dist-packages (from markdown-it-py>=2.2.0->rich->agno) (0.1.2)\n",
            "Requirement already satisfied: pyasn1<0.7.0,>=0.6.1 in /usr/local/lib/python3.11/dist-packages (from pyasn1-modules>=0.2.1->google-auth>=2.15.0->google-generativeai) (0.6.1)\n",
            "Building wheels for collected packages: wikipedia\n",
            "  Building wheel for wikipedia (setup.py) ... \u001b[?25l\u001b[?25hdone\n",
            "  Created wheel for wikipedia: filename=wikipedia-1.4.0-py3-none-any.whl size=11678 sha256=9b34fb9f524c232e542d44bcc869b86286108e412945461a8c52f444c7302fe1\n",
            "  Stored in directory: /root/.cache/pip/wheels/8f/ab/cb/45ccc40522d3a1c41e1d2ad53b8f33a62f394011ec38cd71c6\n",
            "Successfully built wikipedia\n",
            "Installing collected packages: wikipedia\n",
            "Successfully installed wikipedia-1.4.0\n"
          ]
        }
      ],
      "source": [
        "%pip install -U agno openai google-generativeai duckduckgo-search groq wikipedia"
      ]
    },
    {
      "cell_type": "markdown",
      "metadata": {
        "id": "cg8Q3bMxYIE2"
      },
      "source": [
        "###Setup API Keys"
      ]
    },
    {
      "cell_type": "code",
      "execution_count": null,
      "metadata": {
        "id": "9UW7fOIjNhOa"
      },
      "outputs": [],
      "source": [
        "import os\n",
        "from google.colab import userdata\n",
        "\n",
        "os.environ[\"OPENAI_API_KEY\"] = userdata.get('OPENAI_API_KEY')\n",
        "os.environ[\"GROQ_API_KEY\"] = userdata.get('GROQ_API_KEY')\n",
        "os.environ[\"GOOGLE_API_KEY\"] = userdata.get('GOOGLE_API_KEY')"
      ]
    },
    {
      "cell_type": "markdown",
      "metadata": {
        "id": "zBOdu5PaYPM3"
      },
      "source": [
        "###Example with OpenAI"
      ]
    },
    {
      "cell_type": "code",
      "execution_count": null,
      "metadata": {
        "colab": {
          "base_uri": "https://localhost:8080/",
          "height": 1000,
          "referenced_widgets": [
            "e32eddec8f2f446bb133b261dc77447b",
            "00dd26b160e043b3a7f03c3f5b3d3c4c"
          ]
        },
        "id": "w0PryIjpNhOb",
        "outputId": "a352a911-5a3a-4c7c-8b4c-99eaf3a10e14"
      },
      "outputs": [],
      "source": [
        "from agno.agent import Agent\n",
        "from agno.models.openai import OpenAIChat\n",
        "from agno.tools.duckduckgo import DuckDuckGoTools\n",
        "\n",
        "# Define the travel planner agent\n",
        "travel_agent = Agent(\n",
        "    model=OpenAIChat(id=\"gpt-4o\"),  # Use GPT-4o from OpenAI\n",
        "    tools=[DuckDuckGoTools()],      # DuckDuckGo for web searches\n",
        "    instructions=[\n",
        "        \"You are a travel planning assistant. Help users plan their trips by:\",\n",
        "        \"1. Researching destinations and providing up-to-date information\",\n",
        "        \"2. Finding popular attractions and activities\",\n",
        "        \"3. Suggesting accommodations based on preferences\",\n",
        "        \"4. Providing local transportation options\",\n",
        "        \"5. Giving budget estimates and travel tips\",\n",
        "        \"Always verify information is current before making recommendations\",\n",
        "        \"Use markdown to format responses clearly with headings and lists\"\n",
        "    ],\n",
        "    show_tool_calls=True,  # Display tool call details for transparency\n",
        "    markdown=True          # Enable markdown formatting for responses\n",
        ")\n",
        "\n",
        "def generate_travel_plan(destination: str, duration: int):\n",
        "    prompt = f\"\"\"\n",
        "    Create a detailed travel plan for {destination} for {duration} days.\n",
        "    Include:\n",
        "    - **Best time to visit**: Optimal seasons or months\n",
        "    - **Top attractions and activities**: Must-visit sites and experiences\n",
        "    - **Recommended hotels**: Options in budget, mid-range, and luxury categories\n",
        "    - **Local transportation options and tips**: Public transport, rentals, etc.\n",
        "    - **Estimated daily budget breakdown**: Costs for food, transport, activities\n",
        "    \"\"\"\n",
        "    response = travel_agent.print_response(prompt, stream=True)\n",
        "    return response\n",
        "\n",
        "# Example usage\n",
        "if __name__ == \"__main__\":\n",
        "    travel_plan = generate_travel_plan(\"Paris\", 5)\n",
        "    print(travel_plan)"
      ]
    },
    {
      "cell_type": "markdown",
      "metadata": {
        "id": "M4CNJf_rYL-W"
      },
      "source": [
        "###Example Using Groq"
      ]
    },
    {
      "cell_type": "code",
      "execution_count": null,
      "metadata": {
        "id": "N4WP1nlmNhOc"
      },
      "outputs": [],
      "source": [
        "from agno.agent import Agent\n",
        "from agno.models.groq import Groq\n",
        "from agno.tools.duckduckgo import DuckDuckGoTools\n",
        "\n",
        "# Create travel agent\n",
        "travel_agent = Agent(\n",
        "    name=\"Travel Planner\",\n",
        "    model=Groq(id=\"llama-3.3-70b-versatile\"),  # Use Groq's LLaMA 3.1 70B model\n",
        "    tools=[DuckDuckGoTools()],                 # DuckDuckGo for web searches\n",
        "    instructions=[\n",
        "        \"You are a travel planning assistant. Help users plan their trips by:\",\n",
        "        \"1. Researching destinations and providing up-to-date information using DuckDuckGoTools\",\n",
        "        \"2. Finding popular attractions and activities based on recent data\",\n",
        "        \"3. Suggesting accommodations based on user preferences and price ranges\",\n",
        "        \"4. Providing local transportation options and practical tips\",\n",
        "        \"5. Giving budget estimates and travel tips for cost-effective planning\",\n",
        "        \"Always verify information is current using tools before making recommendations\",\n",
        "        \"Format responses in markdown with clear headings and lists for readability\"\n",
        "    ],\n",
        "    show_tool_calls=True,  # Display tool call details\n",
        "    markdown=True          # Enable markdown formatting\n",
        ")\n",
        "\n",
        "def generate_travel_plan(destination: str, duration: int):\n",
        "    prompt = f\"\"\"\n",
        "    Create a detailed travel plan for {destination} for {duration} days.\n",
        "    Include:\n",
        "    - **Best time to visit**: Optimal seasons or months with weather considerations\n",
        "    - **Top attractions and activities**: Must-visit sites and unique experiences\n",
        "    - **Recommended hotels**: Options in budget, mid-range, and luxury categories\n",
        "    - **Local transportation options and tips**: Public transport, rentals, and navigation advice\n",
        "    - **Estimated daily budget breakdown**: Costs for food, transport, activities, excluding accommodation\n",
        "    \"\"\"\n",
        "    response = travel_agent.print_response(prompt, stream=True, markdown=True)\n",
        "    return response"
      ]
    },
    {
      "cell_type": "code",
      "execution_count": null,
      "metadata": {
        "colab": {
          "base_uri": "https://localhost:8080/",
          "height": 1000,
          "referenced_widgets": [
            "c3ac5f7a383c43358d5357fe67843d94",
            "2fcad36f08094bc39a5db9bda0c3be1b"
          ]
        },
        "id": "Una-0KrCNhOc",
        "outputId": "0211eda3-6aee-4218-873a-c5bdf3d045fa"
      },
      "outputs": [],
      "source": [
        "# Example usage\n",
        "\n",
        "travel_plan = generate_travel_plan(\"Tokyo\", 7)\n",
        "print(travel_plan)"
      ]
    },
    {
      "cell_type": "markdown",
      "metadata": {
        "id": "FJb99ooMYVaQ"
      },
      "source": [
        "###Example With Gemini"
      ]
    },
    {
      "cell_type": "code",
      "execution_count": null,
      "metadata": {
        "id": "s9-IlmRdNhOd"
      },
      "outputs": [],
      "source": [
        "from agno.agent import Agent\n",
        "from agno.models.google import Gemini\n",
        "from agno.tools.duckduckgo import DuckDuckGoTools\n",
        "from agno.tools.wikipedia import WikipediaTools\n",
        "\n",
        "# Initialize family-friendly travel agent\n",
        "family_travel_agent = Agent(\n",
        "    name=\"Family Travel Planner\",\n",
        "    model=Gemini(id=\"gemini-1.5-pro\"),  # Use Gemini 1.5 Pro model\n",
        "    tools=[DuckDuckGoTools(), WikipediaTools()],  # Tools for web and cultural research\n",
        "    instructions=[\n",
        "        \"You are a family-friendly travel planning assistant. Help users plan trips suitable for families with children by:\",\n",
        "        \"1. Researching destinations using DuckDuckGoTools for up-to-date, family-oriented information\",\n",
        "        \"2. Recommending attractions and activities suitable for kids (e.g., theme parks, museums with interactive exhibits)\",\n",
        "        \"3. Suggesting family-friendly accommodations (e.g., hotels with kids’ clubs, spacious rooms)\",\n",
        "        \"4. Providing safe, convenient transportation options (e.g., public transport, car rentals with child seats)\",\n",
        "        \"5. Estimating daily budgets with family-specific costs (e.g., kid-friendly meals, activity fees)\",\n",
        "        \"Use Wikipedia to provide cultural or historical context for destinations to enrich the travel experience\",\n",
        "        \"Always verify information is current using tools and prioritize family safety and enjoyment\",\n",
        "        \"Format responses in markdown with clear headings, lists, and family travel tips\"\n",
        "    ],\n",
        "    show_tool_calls=True,  # Display tool call details\n",
        "    markdown=True          # Enable markdown formatting\n",
        ")\n",
        "\n",
        "def generate_family_travel_plan(destination: str, duration: int):\n",
        "    prompt = f\"\"\"\n",
        "    Create a detailed family-friendly travel plan for {destination} for {duration} days.\n",
        "    Include:\n",
        "    - **Best time to visit**: Seasons or months ideal for family travel (e.g., mild weather, school holidays)\n",
        "    - **Family-friendly attractions and activities**: Kid-oriented sites and experiences (e.g., zoos, interactive museums)\n",
        "    - **Family-friendly accommodations**: Options in budget, mid-range, and luxury categories with amenities for kids\n",
        "    - **Safe transportation options and tips**: Family-friendly transport (e.g., trains, rentals with car seats)\n",
        "    - **Estimated daily budget breakdown**: Costs for food, transport, activities (excluding accommodation), including kid-specific expenses\n",
        "    - **Cultural context**: Brief historical or cultural insights from Wikipedia to engage families\n",
        "    \"\"\"\n",
        "    response = family_travel_agent.print_response(prompt, stream=True, markdown=True)\n",
        "    return response"
      ]
    },
    {
      "cell_type": "code",
      "execution_count": null,
      "metadata": {
        "colab": {
          "base_uri": "https://localhost:8080/",
          "height": 1000,
          "referenced_widgets": [
            "d96d53e0aa684cd1bb691e399142c81c",
            "87d9552eebac4dfdbb4170f041d0d647"
          ]
        },
        "collapsed": true,
        "id": "PY6ri3BpVouM",
        "outputId": "952851bb-438e-471c-b60f-694fb7c3d7b3"
      },
      "outputs": [],
      "source": [
        "# Example usage\n",
        "family_travel_plan = generate_family_travel_plan(\"Delhi\", 4)\n",
        "print(family_travel_plan)"
      ]
    },
    {
      "cell_type": "markdown",
      "metadata": {
        "id": "wHy_uazZWi-j"
      },
      "source": [
        "## Travel Agent with Reasoning\n",
        "\n",
        "Let's enhance our travel agent with reasoning capabilities. This will help it make better recommendations and provide more thoughtful analysis."
      ]
    },
    {
      "cell_type": "code",
      "execution_count": null,
      "metadata": {
        "id": "ZPkfdhnpWixC"
      },
      "outputs": [],
      "source": [
        "from agno.agent import Agent\n",
        "from agno.models.openai import OpenAIChat\n",
        "from agno.tools.duckduckgo import DuckDuckGoTools\n",
        "from agno.tools.reasoning import ReasoningTools\n",
        "\n",
        "# Create travel agent with reasoning\n",
        "reasoning_travel_agent = Agent(\n",
        "    name=\"Travel Planner with Reasoning\",\n",
        "    model=OpenAIChat(id=\"gpt-4o\"),\n",
        "    tools=[\n",
        "        DuckDuckGoTools(),\n",
        "        ReasoningTools(add_instructions=True)\n",
        "    ],\n",
        "    instructions=[\n",
        "        \"You are a travel planning assistant with reasoning capabilities.\",\n",
        "        \"Help users plan their trips by researching and analyzing options.\",\n",
        "        \"Consider factors like weather, local events, and traveler preferences.\",\n",
        "        \"Use reasoning to explain why certain recommendations are made.\",\n",
        "        \"Always verify information is current before making recommendations.\"\n",
        "    ],\n",
        "    show_tool_calls=True,\n",
        "    markdown=True\n",
        ")\n",
        "\n",
        "def generate_reasoned_travel_plan(destination: str, duration: int, preferences: str):\n",
        "    prompt = f\"\"\"\n",
        "    Create a detailed travel plan for {destination} for {duration} days.\n",
        "    The traveler has these preferences: {preferences}\n",
        "\n",
        "    Include:\n",
        "    - Analysis of the best time to visit based on weather and events\n",
        "    - Curated attractions and activities that match the preferences\n",
        "    - Recommended hotels that align with the traveler's style\n",
        "    - Transportation options with pros and cons\n",
        "    - Budget considerations and money-saving tips\n",
        "\n",
        "    Use reasoning to explain your recommendations.\n",
        "    \"\"\"\n",
        "    return reasoning_travel_agent.print_response(prompt, stream=True, show_full_reasoning=True)"
      ]
    },
    {
      "cell_type": "code",
      "execution_count": null,
      "metadata": {
        "colab": {
          "base_uri": "https://localhost:8080/",
          "height": 1000,
          "referenced_widgets": [
            "c5577b84bc1c4b57aadd132f4b425325",
            "fb7cccddb3924f189e999ff899b32cc3"
          ]
        },
        "id": "IzknRjydWoFo",
        "outputId": "48f4a360-6201-403c-be18-735108a5da5a"
      },
      "outputs": [
        {
          "data": {
            "application/vnd.jupyter.widget-view+json": {
              "model_id": "c5577b84bc1c4b57aadd132f4b425325",
              "version_major": 2,
              "version_minor": 0
            },
            "text/plain": [
              "Output()"
            ]
          },
          "metadata": {},
          "output_type": "display_data"
        },
        {
          "data": {
            "text/html": [
              "<pre style=\"white-space:pre;overflow-x:auto;line-height:normal;font-family:Menlo,'DejaVu Sans Mono',consolas,'Courier New',monospace\"></pre>\n"
            ],
            "text/plain": []
          },
          "metadata": {},
          "output_type": "display_data"
        }
      ],
      "source": [
        "generate_reasoned_travel_plan(\n",
        "    \"San Francisco, CA\",\n",
        "    3,\n",
        "    \"Enjoys food, architecture, and outdoor activities. Prefers boutique hotels. Medium budget.\"\n",
        ")"
      ]
    },
    {
      "cell_type": "markdown",
      "metadata": {
        "id": "vIxXVJ45XtzW"
      },
      "source": [
        "## Interactive Travel Assistant\n",
        "\n",
        "Finally, let's create an interactive travel assistant that can maintain context throughout a conversation."
      ]
    },
    {
      "cell_type": "code",
      "execution_count": null,
      "metadata": {
        "id": "N7dm2afGXtqv"
      },
      "outputs": [],
      "source": [
        "from agno.agent import Agent\n",
        "from agno.models.openai import OpenAIChat\n",
        "from agno.tools.duckduckgo import DuckDuckGoTools\n",
        "\n",
        "# Create an interactive travel assistant with memory\n",
        "interactive_travel_assistant = Agent(\n",
        "    name=\"Interactive Travel Assistant\",\n",
        "    model=OpenAIChat(id=\"gpt-4o\"),\n",
        "    tools=[DuckDuckGoTools()],\n",
        "    instructions=[\n",
        "        \"You are an interactive travel assistant that helps users plan their trips.\",\n",
        "        \"Maintain context throughout the conversation and remember user preferences.\",\n",
        "        \"Ask clarifying questions when needed to provide better recommendations.\",\n",
        "        \"Be conversational and friendly while providing accurate travel information.\"\n",
        "    ],\n",
        "    show_tool_calls=True,\n",
        "    markdown=True\n",
        ")\n",
        "\n",
        "# Function to interact with the travel assistant\n",
        "def chat_with_travel_assistant(message):\n",
        "    return interactive_travel_assistant.print_response(message, stream=True)"
      ]
    },
    {
      "cell_type": "code",
      "execution_count": null,
      "metadata": {
        "colab": {
          "base_uri": "https://localhost:8080/",
          "height": 578,
          "referenced_widgets": [
            "074e699fe8234340be43ce18286b7899",
            "0820288379b842c2ae3c98a1c2079268"
          ]
        },
        "id": "yqgtjAfRXxI4",
        "outputId": "a81f4bf2-8d4d-4d36-f152-d33175ed2a16"
      },
      "outputs": [
        {
          "data": {
            "application/vnd.jupyter.widget-view+json": {
              "model_id": "074e699fe8234340be43ce18286b7899",
              "version_major": 2,
              "version_minor": 0
            },
            "text/plain": [
              "Output()"
            ]
          },
          "metadata": {},
          "output_type": "display_data"
        },
        {
          "data": {
            "text/html": [
              "<pre style=\"white-space:pre;overflow-x:auto;line-height:normal;font-family:Menlo,'DejaVu Sans Mono',consolas,'Courier New',monospace\"></pre>\n"
            ],
            "text/plain": []
          },
          "metadata": {},
          "output_type": "display_data"
        }
      ],
      "source": [
        "# Start a conversation with the travel assistant\n",
        "chat_with_travel_assistant(\"I'm planning a trip to Greece in June. What islands would you recommend?\")"
      ]
    },
    {
      "cell_type": "code",
      "execution_count": null,
      "metadata": {
        "colab": {
          "base_uri": "https://localhost:8080/",
          "height": 248,
          "referenced_widgets": [
            "d226518765084b58bb6c7d9769eb0d0f",
            "a0575e03dd48434e9dadad152ebb9c7e"
          ]
        },
        "id": "0xwhPEZDXztM",
        "outputId": "cdfe3147-a491-4232-86bd-b1d6b0976ff7"
      },
      "outputs": [
        {
          "data": {
            "application/vnd.jupyter.widget-view+json": {
              "model_id": "d226518765084b58bb6c7d9769eb0d0f",
              "version_major": 2,
              "version_minor": 0
            },
            "text/plain": [
              "Output()"
            ]
          },
          "metadata": {},
          "output_type": "display_data"
        },
        {
          "data": {
            "text/html": [
              "<pre style=\"white-space:pre;overflow-x:auto;line-height:normal;font-family:Menlo,'DejaVu Sans Mono',consolas,'Courier New',monospace\"></pre>\n"
            ],
            "text/plain": []
          },
          "metadata": {},
          "output_type": "display_data"
        }
      ],
      "source": [
        "# Continue the conversation (the assistant will remember previous context)\n",
        "chat_with_travel_assistant(\"I'm interested in beautiful beaches and good food. I'll be traveling for 10 days.\")"
      ]
    },
    {
      "cell_type": "code",
      "execution_count": null,
      "metadata": {
        "colab": {
          "base_uri": "https://localhost:8080/",
          "height": 232,
          "referenced_widgets": [
            "c8c69e25648047ee9528b944cfec9627",
            "e3d321a70a2d45819571e6799aca7c66"
          ]
        },
        "id": "DiE3s4xyX1rv",
        "outputId": "3ec5c4da-9879-4b6a-ac62-b809ec11c8df"
      },
      "outputs": [
        {
          "data": {
            "application/vnd.jupyter.widget-view+json": {
              "model_id": "c8c69e25648047ee9528b944cfec9627",
              "version_major": 2,
              "version_minor": 0
            },
            "text/plain": [
              "Output()"
            ]
          },
          "metadata": {},
          "output_type": "display_data"
        },
        {
          "data": {
            "text/html": [
              "<pre style=\"white-space:pre;overflow-x:auto;line-height:normal;font-family:Menlo,'DejaVu Sans Mono',consolas,'Courier New',monospace\"></pre>\n"
            ],
            "text/plain": []
          },
          "metadata": {},
          "output_type": "display_data"
        }
      ],
      "source": [
        "# Ask about specific details\n",
        "chat_with_travel_assistant(\"What's the best way to get around between the islands?\")"
      ]
    }
  ],
  "metadata": {
    "colab": {
      "provenance": []
    },
    "kernelspec": {
      "display_name": "localdev",
      "language": "python",
      "name": "python3"
    },
    "language_info": {
      "codemirror_mode": {
        "name": "ipython",
        "version": 3
      },
      "file_extension": ".py",
      "mimetype": "text/x-python",
      "name": "python",
      "nbconvert_exporter": "python",
      "pygments_lexer": "ipython3",
      "version": "3.10.15"
    }
  },
  "nbformat": 4,
  "nbformat_minor": 0
}
