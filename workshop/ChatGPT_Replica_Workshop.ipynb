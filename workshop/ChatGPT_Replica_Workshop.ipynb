{
  "cells": [
    {
      "cell_type": "markdown",
      "metadata": {
        "id": "im5KIw-NGAM5"
      },
      "source": [
        "<img src=\"https://drive.google.com/uc?export=view&id=1wYSMgJtARFdvTt5g7E20mE4NmwUFUuog\" width=\"200\">\n",
        "\n",
        "[![Gen AI Experiments](https://img.shields.io/badge/Gen%20AI%20Experiments-GenAI%20Bootcamp-blue?style=for-the-badge&logo=artificial-intelligence)](https://github.com/buildfastwithai/gen-ai-experiments)\n",
        "[![Gen AI Experiments GitHub](https://img.shields.io/github/stars/buildfastwithai/gen-ai-experiments?style=for-the-badge&logo=github&color=gold)](http://github.com/buildfastwithai/gen-ai-experiments)\n",
        "\n",
        "[![Open In Colab](https://colab.research.google.com/assets/colab-badge.svg)](https://colab.research.google.com/drive/1V6DsQ8I1a3noufNWTSOPYn__Fqdw6v-D?usp=sharing)\n",
        "## Master Generative AI in 8 Weeks\n",
        "**What You'll Learn:**\n",
        "- Master cutting-edge AI tools & frameworks\n",
        "- 6 weeks of hands-on, project-based learning\n",
        "- Weekly live mentorship sessions\n",
        "- Join Innovation Community\n",
        "\n",
        "Learn by building. Get expert mentorship and work on real AI projects.\n",
        "[Start Your Journey](https://www.buildfastwithai.com/genai-course)"
      ]
    },
    {
      "cell_type": "markdown",
      "metadata": {
        "id": "Jd-sh-8ySTM2"
      },
      "source": [
        "## Installing libraries\n",
        "\n",
        "\n",
        "Installing essential Python libraries who allows you to work with LLMs."
      ]
    },
    {
      "cell_type": "code",
      "execution_count": null,
      "metadata": {
        "colab": {
          "base_uri": "https://localhost:8080/"
        },
        "id": "La0JvboxmdD7",
        "outputId": "e83c34b2-86a9-4dfc-9ee5-e5250a4b3c5b"
      },
      "outputs": [
        {
          "name": "stdout",
          "output_type": "stream",
          "text": [
            "\u001b[?25l   \u001b[90m━━━━━━━━━━━━━━━━━━━━━━━━━━━━━━━━━━━━━━━━\u001b[0m \u001b[32m0.0/60.9 kB\u001b[0m \u001b[31m?\u001b[0m eta \u001b[36m-:--:--\u001b[0m\r\u001b[2K   \u001b[90m━━━━━━━━━━━━━━━━━━━━━━━━━━━━━━━━━━━━━━━━\u001b[0m \u001b[32m60.9/60.9 kB\u001b[0m \u001b[31m2.7 MB/s\u001b[0m eta \u001b[36m0:00:00\u001b[0m\n",
            "\u001b[?25h\u001b[?25l   \u001b[90m━━━━━━━━━━━━━━━━━━━━━━━━━━━━━━━━━━━━━━━━\u001b[0m \u001b[32m0.0/580.2 kB\u001b[0m \u001b[31m?\u001b[0m eta \u001b[36m-:--:--\u001b[0m\r\u001b[2K   \u001b[91m━━━━━━━━━━━━━━━━━━━━━━━━━━━━━━━━━━━━━━━\u001b[0m\u001b[91m╸\u001b[0m \u001b[32m573.4/580.2 kB\u001b[0m \u001b[31m26.1 MB/s\u001b[0m eta \u001b[36m0:00:01\u001b[0m\r\u001b[2K   \u001b[90m━━━━━━━━━━━━━━━━━━━━━━━━━━━━━━━━━━━━━━━━\u001b[0m \u001b[32m580.2/580.2 kB\u001b[0m \u001b[31m13.7 MB/s\u001b[0m eta \u001b[36m0:00:00\u001b[0m\n",
            "\u001b[?25h\u001b[?25l   \u001b[90m━━━━━━━━━━━━━━━━━━━━━━━━━━━━━━━━━━━━━━━━\u001b[0m \u001b[32m0.0/1.2 MB\u001b[0m \u001b[31m?\u001b[0m eta \u001b[36m-:--:--\u001b[0m\r\u001b[2K   \u001b[91m━━━━━━━━━━━━━━━━━━━━━━━━━━━━━━━━━━━━━━━\u001b[0m\u001b[91m╸\u001b[0m \u001b[32m1.2/1.2 MB\u001b[0m \u001b[31m86.7 MB/s\u001b[0m eta \u001b[36m0:00:01\u001b[0m\r\u001b[2K   \u001b[90m━━━━━━━━━━━━━━━━━━━━━━━━━━━━━━━━━━━━━━━━\u001b[0m \u001b[32m1.2/1.2 MB\u001b[0m \u001b[31m31.1 MB/s\u001b[0m eta \u001b[36m0:00:00\u001b[0m\n",
            "\u001b[?25h"
          ]
        }
      ],
      "source": [
        "!pip install -qU langchain-openai"
      ]
    },
    {
      "cell_type": "markdown",
      "metadata": {
        "id": "URfJBVwtq4Dp"
      },
      "source": [
        "\n",
        "### Storing API keys\n",
        "\n",
        "API keys allow you access LLMs by the providers (OpenAI, Google, Anthropic, etc). In this lecture, we will be using OpenAI models (gpt-3.5-turbo, gpt4) and Google's LLMs (Gemini models)\n",
        "\n",
        "- OpenAI API key: https://platform.openai.com/account/api-keys\n",
        "- Google API key: https://aistudio.google.com (FREE)\n",
        "\n"
      ]
    },
    {
      "cell_type": "code",
      "execution_count": null,
      "metadata": {
        "id": "qx_d9XJFm77k"
      },
      "outputs": [],
      "source": [
        "import os\n",
        "from google.colab import userdata\n",
        "\n",
        "# Set up API keys for OpenAI and Google\n",
        "\n",
        "os.environ['OPENAI_API_KEY'] = userdata.get('OPENAI_API_KEY')"
      ]
    },
    {
      "cell_type": "markdown",
      "metadata": {
        "id": "14mklUIFrP5A"
      },
      "source": [
        "### Using LLM to run a query using API\n",
        "\n",
        "In this code, you will understand how to send a prompt to an LLM via an API."
      ]
    },
    {
      "cell_type": "code",
      "execution_count": null,
      "metadata": {
        "id": "OBteLVmqnOCd"
      },
      "outputs": [],
      "source": [
        "# Import ChatOpenAI module\n",
        "from langchain_openai import ChatOpenAI\n",
        "\n",
        "# Initialize OpenAI's GPT-4o model\n",
        "gpt4o_model = ChatOpenAI(model_name = \"gpt-4o-mini\")"
      ]
    },
    {
      "cell_type": "code",
      "execution_count": null,
      "metadata": {
        "colab": {
          "base_uri": "https://localhost:8080/"
        },
        "id": "pGkOcqFCdYCU",
        "outputId": "cf4fb653-8f4e-4714-fdaf-c2e7dc54a9e8"
      },
      "outputs": [
        {
          "data": {
            "text/plain": [
              "AIMessage(content=\"Hello! I'm just a computer program, so I don't have feelings, but I'm here and ready to help you. How can I assist you today?\", additional_kwargs={'refusal': None}, response_metadata={'token_usage': {'completion_tokens': 31, 'prompt_tokens': 13, 'total_tokens': 44, 'completion_tokens_details': {'accepted_prediction_tokens': 0, 'audio_tokens': 0, 'reasoning_tokens': 0, 'rejected_prediction_tokens': 0}, 'prompt_tokens_details': {'audio_tokens': 0, 'cached_tokens': 0}}, 'model_name': 'gpt-4o-mini-2024-07-18', 'system_fingerprint': 'fp_b8bc95a0ac', 'id': 'chatcmpl-BDChezgLmTKW3SXRGkkxD8xJH5iQ0', 'finish_reason': 'stop', 'logprobs': None}, id='run-af04f77f-2150-4ce7-a519-c6193c8e6476-0', usage_metadata={'input_tokens': 13, 'output_tokens': 31, 'total_tokens': 44, 'input_token_details': {'audio': 0, 'cache_read': 0}, 'output_token_details': {'audio': 0, 'reasoning': 0}})"
            ]
          },
          "execution_count": 5,
          "metadata": {},
          "output_type": "execute_result"
        }
      ],
      "source": [
        "gpt4o_model.invoke(\"Hello, how are you?\")"
      ]
    },
    {
      "cell_type": "code",
      "execution_count": null,
      "metadata": {
        "colab": {
          "base_uri": "https://localhost:8080/"
        },
        "id": "GiGYMiICpo9L",
        "outputId": "3e1b905e-667b-4cb2-ec64-e41c581f3087"
      },
      "outputs": [
        {
          "name": "stdout",
          "output_type": "stream",
          "text": [
            "Absolutely! I’d be happy to help you learn about artificial intelligence (AI). Here are some key areas you might want to explore:\n",
            "\n",
            "### 1. **Understanding the Basics**\n",
            "   - **Definition:** AI is the simulation of human intelligence processes by machines, especially computer systems. \n",
            "   - **Types of AI:** \n",
            "     - **Narrow AI:** Specialized for specific tasks (e.g., voice assistants).\n",
            "     - **General AI:** Hypothetical AI that can perform any intellectual task that a human can do.\n",
            "\n",
            "### 2. **Key Concepts in AI**\n",
            "   - **Machine Learning (ML):** A subset of AI that allows systems to learn from data.\n",
            "     - **Supervised Learning:** Learning from labeled data.\n",
            "     - **Unsupervised Learning:** Finding patterns in unlabeled data.\n",
            "     - **Reinforcement Learning:** Learning by trial and error to achieve a goal.\n",
            "   - **Deep Learning:** A subset of ML that uses neural networks with many layers (deep architectures).\n",
            "\n",
            "### 3. **Essential Tools and Libraries**\n",
            "   - **Programming Languages:** Python is the most popular language for AI.\n",
            "   - **Libraries**:\n",
            "     - Scikit-Learn: For basic ML algorithms.\n",
            "     - TensorFlow and PyTorch: For deep learning.\n",
            "     - Keras: A high-level neural networks API.\n",
            "\n",
            "### 4. **AI Applications**\n",
            "   - **Natural Language Processing (NLP):** Understanding and generating human language (e.g., chatbots).\n",
            "   - **Computer Vision:** Analyzing and interpreting visual data (e.g., image recognition).\n",
            "   - **Robotics:** Creating intelligent machines that can perform tasks autonomously.\n",
            "\n",
            "### 5. **Learning Resources**\n",
            "   - **Online Courses:** \n",
            "     - Coursera, Udacity, and edX offer courses on AI and ML.\n",
            "   - **Books:**\n",
            "     - \"Artificial Intelligence: A Modern Approach\" by Stuart Russell and Peter Norvig.\n",
            "     - \"Deep Learning\" by Ian Goodfellow, Yoshua Bengio, and Aaron Courville.\n",
            "   - **Tutorials and Documentation:** Both TensorFlow and PyTorch have extensive online documentation.\n",
            "\n",
            "### 6. **Hands-On Practice**\n",
            "   - **Projects:** Try building a simple project (e.g., a chatbot or an image classifier) to apply what you've learned.\n",
            "   - **Kaggle:** Participate in competitions and access datasets to practice your skills.\n",
            "\n",
            "### 7. **Stay Updated**\n",
            "AI is a fast-evolving field. Follow AI research papers, blogs, and news to stay informed about the latest advancements.\n",
            "\n",
            "### Getting Started\n",
            "1. Choose a beginner-friendly programming language like Python.\n",
            "2. Start with basic statistics and mathematics (linear algebra, calculus, probability).\n",
            "3. Dive into machine learning concepts and gradually explore deep learning.\n",
            "\n",
            "Feel free to ask questions about any specific topic or area you want to focus on!\n"
          ]
        }
      ],
      "source": [
        "# Example of using the GPT-4o model\n",
        "response = gpt4o_model.invoke(\"can you teach me AI\")\n",
        "\n",
        "# Display the output\n",
        "print(response.content)"
      ]
    },
    {
      "cell_type": "code",
      "execution_count": null,
      "metadata": {
        "id": "lqzgj0Px-oCH"
      },
      "outputs": [],
      "source": [
        "# Example of using the GPT-4o model\n",
        "response = gpt4o_model.invoke(\"\")\n",
        "\n",
        "# Display the output\n",
        "print(response.content)"
      ]
    },
    {
      "cell_type": "markdown",
      "metadata": {
        "id": "rBQLmMA--v9a"
      },
      "source": [
        "### Using Open Source models using Groq"
      ]
    },
    {
      "cell_type": "code",
      "execution_count": null,
      "metadata": {
        "colab": {
          "base_uri": "https://localhost:8080/"
        },
        "id": "1_vxgBZD-vwI",
        "outputId": "d369f9bb-1249-42cf-bb61-624ad2be46fa"
      },
      "outputs": [
        {
          "name": "stdout",
          "output_type": "stream",
          "text": [
            "\u001b[?25l   \u001b[90m━━━━━━━━━━━━━━━━━━━━━━━━━━━━━━━━━━━━━━━━\u001b[0m \u001b[32m0.0/124.9 kB\u001b[0m \u001b[31m?\u001b[0m eta \u001b[36m-:--:--\u001b[0m\r\u001b[2K   \u001b[90m━━━━━━━━━━━━━━━━━━━━━━━━━━━━━━━━━━━━━━━━\u001b[0m \u001b[32m124.9/124.9 kB\u001b[0m \u001b[31m3.5 MB/s\u001b[0m eta \u001b[36m0:00:00\u001b[0m\n",
            "\u001b[?25h"
          ]
        }
      ],
      "source": [
        "# Installing libraries\n",
        "\n",
        "!pip install -qU langchain-groq"
      ]
    },
    {
      "cell_type": "markdown",
      "metadata": {
        "id": "JY3N1Hg6_wJg"
      },
      "source": [
        "Get Groq API key: https://console.groq.com/keys (FREE)"
      ]
    },
    {
      "cell_type": "code",
      "execution_count": null,
      "metadata": {
        "id": "li6emBOb-vtB"
      },
      "outputs": [],
      "source": [
        "# Storing API keys\n",
        "\n",
        "os.environ['GROQ_API_KEY'] = userdata.get('GROQ_API_KEY')"
      ]
    },
    {
      "cell_type": "code",
      "execution_count": null,
      "metadata": {
        "colab": {
          "base_uri": "https://localhost:8080/"
        },
        "id": "y4PuTw_T-vp5",
        "outputId": "6b4dc85d-19f5-410a-c8e6-4302d88c117e"
      },
      "outputs": [
        {
          "name": "stdout",
          "output_type": "stream",
          "text": [
            "I'm an artificial intelligence model known as Llama. Llama stands for \"Large Language Model Meta AI.\"\n"
          ]
        }
      ],
      "source": [
        "from langchain_groq import ChatGroq\n",
        "\n",
        "llm = ChatGroq(model_name=\"llama-3.3-70b-versatile\")\n",
        "\n",
        "response = llm.invoke(\"Who are you, bruh?\")\n",
        "print(response.content)"
      ]
    },
    {
      "cell_type": "code",
      "execution_count": null,
      "metadata": {
        "colab": {
          "base_uri": "https://localhost:8080/"
        },
        "id": "hUIjemIoUdYB",
        "outputId": "34cf8223-2149-4819-cec2-25a9393ead14"
      },
      "outputs": [
        {
          "name": "stdout",
          "output_type": "stream",
          "text": [
            "The Evolution Theory, also known as the Theory of Evolution through Natural Selection, is a fundamental concept in biology that explains how living organisms have changed and diversified over time. The theory was first proposed by Charles Darwin in his book \"On the Origin of Species\" in 1859.\n",
            "\n",
            "**Key Components of the Evolution Theory:**\n",
            "\n",
            "1. **Descent with Modification**: All living organisms share a common ancestor and have evolved over time through the process of modification of existing traits.\n",
            "2. **Variation**: All populations exhibit genetic variation, which is the raw material for evolution.\n",
            "3. **Heritability**: The traits of an organism are determined by its genetic makeup, which is passed on from one generation to the next.\n",
            "4. **Adaptation**: Organisms that are better adapted to their environment are more likely to survive and reproduce, passing on their advantageous traits to their offspring.\n",
            "5. **Natural Selection**: The process by which the best-adapted individuals in a population are more likely to survive and reproduce, leading to the evolution of the population over time.\n",
            "\n",
            "**How Evolution Works:**\n",
            "\n",
            "1. **Genetic Variation**: Genetic mutations, gene flow, and genetic recombination introduce new traits into a population.\n",
            "2. **Environmental Pressure**: The environment presents challenges and opportunities that affect the survival and reproduction of individuals with different traits.\n",
            "3. **Selection**: Individuals with traits that are better suited to the environment are more likely to survive and reproduce, while those with less suitable traits are more likely to die off or fail to reproduce.\n",
            "4. **Accumulation of Adaptations**: Over time, the population becomes increasingly adapted to its environment as the advantageous traits become more common.\n",
            "5. **Speciation**: As populations become reproductively isolated from one another, they can evolve into distinct species.\n",
            "\n",
            "**Evidence for Evolution:**\n",
            "\n",
            "1. **Fossil Record**: The fossil record shows a clear pattern of gradual changes in life forms over time.\n",
            "2. **Comparative Anatomy**: The study of comparative anatomy reveals similarities and homologies between different species.\n",
            "3. **Molecular Biology**: The study of DNA and proteins has confirmed the relatedness of different species and provided evidence for evolutionary relationships.\n",
            "4. **Biogeography**: The geographic distribution of species can be explained by their evolutionary history.\n",
            "5. **Observed Evolutionary Changes**: Many examples of evolutionary changes have been observed in natural populations, such as the evolution of antibiotic resistance in bacteria.\n",
            "\n",
            "**Types of Evolution:**\n",
            "\n",
            "1. **Microevolution**: Small-scale evolutionary changes that occur within a population over a relatively short period.\n",
            "2. **Macroevolution**: Large-scale evolutionary changes that occur over a longer period, resulting in the formation of new species or higher taxonomic groups.\n",
            "3. **Co-evolution**: The evolution of two or more species that are closely interacting, such as predator and prey or host and parasite.\n",
            "\n",
            "**Implications of the Evolution Theory:**\n",
            "\n",
            "1. **Understanding Biodiversity**: The Evolution Theory provides a framework for understanding the diversity of life on Earth.\n",
            "2. **Conservation Biology**: The theory informs conservation efforts by highlighting the importance of preserving genetic diversity and evolutionary processes.\n",
            "3. **Medicine and Public Health**: The Evolution Theory has important implications for the development of new treatments and the management of diseases.\n",
            "4. **Agriculture**: The theory has applications in agriculture, such as the development of new crop varieties and the management of pests and diseases.\n",
            "\n",
            "In conclusion, the Evolution Theory is a fundamental concept in biology that explains the diversity of life on Earth. It provides a framework for understanding the processes that have shaped the history of life, and it has important implications for many fields, including conservation biology, medicine, and agriculture.\n"
          ]
        }
      ],
      "source": [
        "response = llm.invoke(\"Explain Evolution Theory\")\n",
        "print(response.content)"
      ]
    },
    {
      "cell_type": "code",
      "execution_count": null,
      "metadata": {
        "id": "poy4Qo3hFrzg"
      },
      "outputs": [],
      "source": [
        "# Let's try a Deepseek Model\n",
        "\n",
        "## ??"
      ]
    },
    {
      "cell_type": "code",
      "execution_count": null,
      "metadata": {
        "id": "L_F0U0d5Giv7"
      },
      "outputs": [],
      "source": [
        "llm.invoke(\"Act as a therapist, be kind, give short response. I am feeling lonely. \")"
      ]
    }
  ],
  "metadata": {
    "colab": {
      "provenance": []
    },
    "kernelspec": {
      "display_name": "Python 3",
      "name": "python3"
    },
    "language_info": {
      "name": "python"
    }
  },
  "nbformat": 4,
  "nbformat_minor": 0
}
