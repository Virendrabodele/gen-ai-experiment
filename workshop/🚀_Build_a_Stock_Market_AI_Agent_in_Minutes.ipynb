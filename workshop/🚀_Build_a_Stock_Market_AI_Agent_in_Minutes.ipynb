{
  "cells": [
    {
      "cell_type": "markdown",
      "metadata": {
        "id": "qcaHsQdXma9a"
      },
      "source": [
        "# Financial Analysis with LLMs\n",
        "\n",
        "This notebook demonstrates how to leverage Large Language Models (LLMs) and financial data APIs to perform financial analysis. We'll be using:\n",
        "\n",
        "1. OpenAI's GPT model for natural language processing and analysis\n",
        "2. Yahoo Finance API for retrieving real-time financial data\n",
        "3. LangChain for creating a seamless integration between the LLM and financial data\n",
        "\n",
        "Throughout this notebook, we'll explore how to:\n",
        "\n",
        "- Set up the necessary environment and dependencies\n",
        "- Initialize and use an LLM for financial queries\n",
        "- Connect the LLM to real-time financial data using Yahoo Finance\n",
        "- Create an agent that can answer complex financial questions by combining LLM capabilities with live market data\n",
        "\n",
        "Let's dive in and explore the intersection of AI and finance!\n"
      ]
    },
    {
      "cell_type": "code",
      "execution_count": null,
      "metadata": {
        "id": "YKTuI2xkma9c"
      },
      "outputs": [],
      "source": [
        "import warnings\n",
        "warnings.filterwarnings('ignore')"
      ]
    },
    {
      "cell_type": "code",
      "execution_count": null,
      "metadata": {
        "id": "n4rrYNTvma9d"
      },
      "outputs": [],
      "source": [
        "%pip install openai  langchain langchain-openai yfinance agno"
      ]
    },
    {
      "cell_type": "code",
      "execution_count": null,
      "metadata": {
        "id": "ZHwPkyNema9d"
      },
      "outputs": [],
      "source": [
        "import os\n",
        "from google.colab import userdata\n",
        "\n",
        "os.environ['OPENAI_API_KEY'] = userdata.get(\"OPENAI_API_KEY\")"
      ]
    },
    {
      "cell_type": "code",
      "execution_count": null,
      "metadata": {
        "id": "e1uTUd93ma9d"
      },
      "outputs": [],
      "source": [
        "from langchain_openai import ChatOpenAI\n",
        "\n",
        "llm = ChatOpenAI(model=\"gpt-4o\")"
      ]
    },
    {
      "cell_type": "code",
      "execution_count": null,
      "metadata": {
        "id": "YHVsdP-zma9e",
        "outputId": "78d21e34-1513-4f9e-d002-389c36ea7eec"
      },
      "outputs": [
        {
          "data": {
            "text/plain": [
              "AIMessage(content=\"I'm unable to provide real-time stock prices or any live data, including the current stock price of Apple. To find the most up-to-date stock price, you can check financial news websites, stock market apps, or a financial service like Bloomberg or Yahoo Finance.\", additional_kwargs={'refusal': None}, response_metadata={'token_usage': {'completion_tokens': 53, 'prompt_tokens': 15, 'total_tokens': 68, 'completion_tokens_details': {'accepted_prediction_tokens': 0, 'audio_tokens': 0, 'reasoning_tokens': 0, 'rejected_prediction_tokens': 0}, 'prompt_tokens_details': {'audio_tokens': 0, 'cached_tokens': 0}}, 'model_name': 'gpt-4o-2024-08-06', 'system_fingerprint': 'fp_eb9dce56a8', 'finish_reason': 'stop', 'logprobs': None}, id='run-914f0f6c-2b60-4c54-8265-7a1ed893057c-0', usage_metadata={'input_tokens': 15, 'output_tokens': 53, 'total_tokens': 68, 'input_token_details': {'audio': 0, 'cache_read': 0}, 'output_token_details': {'audio': 0, 'reasoning': 0}})"
            ]
          },
          "execution_count": 46,
          "metadata": {},
          "output_type": "execute_result"
        }
      ],
      "source": [
        "llm.invoke(\"What is the stock price of Apple?\")"
      ]
    },
    {
      "cell_type": "markdown",
      "metadata": {
        "id": "CfRi3KNyma9f"
      },
      "source": [
        "### Connecting LLMs to Financial Data"
      ]
    },
    {
      "cell_type": "markdown",
      "metadata": {
        "id": "B2dfsbv7ma9f"
      },
      "source": [
        "Using Yahoo Finance API"
      ]
    },
    {
      "cell_type": "code",
      "execution_count": null,
      "metadata": {
        "id": "Nv-t3gPoma9g"
      },
      "outputs": [],
      "source": [
        "import yfinance as yf\n",
        "from langchain.agents import AgentType, Tool, initialize_agent\n",
        "from langchain_openai import ChatOpenAI\n",
        "\n",
        "# Initialize the language model\n",
        "llm = ChatOpenAI(temperature=0)\n",
        "\n",
        "# Define the function to get stock price\n",
        "def get_stock_price(symbol):\n",
        "    ticker = yf.Ticker(symbol)\n",
        "    todays_data = ticker.history(period='1d')\n",
        "    return f\"The current stock price of {symbol} is ${todays_data['Close'].iloc[-1]:.2f}\"\n",
        "\n",
        "# Create a tool for the agent to use\n",
        "tools = [\n",
        "    Tool(\n",
        "        name=\"StockPrice\",\n",
        "        func=get_stock_price,\n",
        "        description=\"Useful for getting the stock price of a company. The input should be the stock symbol of the company.\"\n",
        "    )\n",
        "]"
      ]
    },
    {
      "cell_type": "code",
      "execution_count": null,
      "metadata": {
        "id": "huolTmjIma9g",
        "outputId": "701ec9c5-84ca-41ed-9e6f-b30ea7b88e7e"
      },
      "outputs": [
        {
          "name": "stdout",
          "output_type": "stream",
          "text": [
            "\n",
            "\n",
            "\u001b[1m> Entering new AgentExecutor chain...\u001b[0m\n",
            "\u001b[32;1m\u001b[1;3mI should use the StockPrice tool to get the current stock price of Apple.\n",
            "Action: StockPrice\n",
            "Action Input: AAPL\u001b[0m\n",
            "Observation: \u001b[36;1m\u001b[1;3mThe current stock price of AAPL is $239.47\u001b[0m\n",
            "Thought:\u001b[32;1m\u001b[1;3mI need to provide the answer to the original question.\n",
            "Final Answer: The current stock price of Apple is $239.47.\u001b[0m\n",
            "\n",
            "\u001b[1m> Finished chain.\u001b[0m\n",
            "{'input': \"What's the current stock price of Apple?\", 'output': 'The current stock price of Apple is $239.47.'}\n"
          ]
        }
      ],
      "source": [
        "# Initialize the agent\n",
        "agent = initialize_agent(\n",
        "    tools,\n",
        "    llm,\n",
        "    agent=AgentType.ZERO_SHOT_REACT_DESCRIPTION,\n",
        "    verbose=True)\n",
        "\n",
        "# Example usage\n",
        "query = \"What's the current stock price of Apple?\"\n",
        "response = agent.invoke(query)\n",
        "print(response)"
      ]
    },
    {
      "cell_type": "code",
      "execution_count": null,
      "metadata": {
        "id": "NRQSEPh9ma9h"
      },
      "outputs": [],
      "source": [
        "from langchain_core.tools import tool, StructuredTool\n",
        "from datetime import date\n",
        "\n",
        "@tool\n",
        "def get_stock_price(symbol):\n",
        "    \"\"\"Use this tool to get the stock price of a company. The input should be the stock symbol of the company.\"\"\"\n",
        "    ticker = yf.Ticker(symbol)\n",
        "    todays_data = ticker.history(period='1d')\n",
        "    return f\"The current stock price of {symbol} is ${todays_data['Close'].iloc[-1]:.2f}\""
      ]
    },
    {
      "cell_type": "code",
      "execution_count": null,
      "metadata": {
        "id": "5CpwwQgrma9h"
      },
      "outputs": [],
      "source": [
        "from langchain.agents import AgentExecutor, create_tool_calling_agent\n",
        "from langchain.prompts import ChatPromptTemplate\n",
        "from langchain_core.prompts import MessagesPlaceholder\n",
        "from langchain import hub\n",
        "\n",
        "tools = [get_stock_price]\n",
        "\n",
        "prompt = ChatPromptTemplate.from_messages(\n",
        "    [\n",
        "        (\n",
        "            \"system\",\n",
        "            \"You are a helpful assistant. Try to answer user query using available tools.\",\n",
        "        ),\n",
        "        MessagesPlaceholder(variable_name=\"messages\"),\n",
        "        MessagesPlaceholder(variable_name=\"agent_scratchpad\"),\n",
        "    ]\n",
        ")\n",
        "\n",
        "llm = ChatOpenAI(model = \"gpt-4o-mini\")\n",
        "\n",
        "finance_agent = create_tool_calling_agent(llm, tools, prompt)\n",
        "\n",
        "finance_agent_executor = AgentExecutor(agent=finance_agent, tools=tools, verbose=True)"
      ]
    },
    {
      "cell_type": "code",
      "execution_count": null,
      "metadata": {
        "id": "7bz94-Yima9h",
        "outputId": "646bb129-7d2a-49e3-8ef8-a721b27c4366"
      },
      "outputs": [
        {
          "name": "stdout",
          "output_type": "stream",
          "text": [
            "\n",
            "\n",
            "\u001b[1m> Entering new AgentExecutor chain...\u001b[0m\n",
            "\u001b[32;1m\u001b[1;3m\n",
            "Invoking: `get_stock_price` with `{'symbol': 'AAPL'}`\n",
            "\n",
            "\n",
            "\u001b[0m\u001b[36;1m\u001b[1;3mThe current stock price of AAPL is $239.21\u001b[0m\u001b[32;1m\u001b[1;3mThe current stock price of Apple (AAPL) is $239.21.\u001b[0m\n",
            "\n",
            "\u001b[1m> Finished chain.\u001b[0m\n"
          ]
        },
        {
          "data": {
            "text/plain": [
              "{'messages': [HumanMessage(content='What is the stock price of Apple?', additional_kwargs={}, response_metadata={})],\n",
              " 'output': 'The current stock price of Apple (AAPL) is $239.21.'}"
            ]
          },
          "execution_count": 51,
          "metadata": {},
          "output_type": "execute_result"
        }
      ],
      "source": [
        "from langchain_core.messages import HumanMessage\n",
        "\n",
        "response = finance_agent_executor.invoke({\"messages\": [HumanMessage(content=\"What is the stock price of Apple?\")]})\n",
        "response\n"
      ]
    },
    {
      "cell_type": "code",
      "execution_count": null,
      "metadata": {
        "id": "ra0sasoTma9i"
      },
      "outputs": [],
      "source": [
        "response = finance_agent_executor.invoke({\"messages\": [HumanMessage(content=\"What is the last dividend date of Apple?\")]})\n",
        "response"
      ]
    },
    {
      "cell_type": "markdown",
      "metadata": {
        "id": "s9E1I9nQma9i"
      },
      "source": [
        "Adding Stock Market Analysis Tools"
      ]
    },
    {
      "cell_type": "code",
      "execution_count": null,
      "metadata": {
        "id": "JjTWGo30ma9i"
      },
      "outputs": [],
      "source": [
        "from langchain_core.tools import tool, StructuredTool\n",
        "from datetime import date\n",
        "\n",
        "@tool\n",
        "def company_information(ticker: str) -> dict:\n",
        "    \"\"\"Use this tool to retrieve company information like address, industry, sector, company officers, business summary, website,\n",
        "       marketCap, current price, ebitda, total debt, total revenue, debt-to-equity, etc.\"\"\"\n",
        "\n",
        "    ticker_obj = yf.Ticker(ticker)\n",
        "    ticker_info = ticker_obj.get_info()\n",
        "\n",
        "    return ticker_info\n",
        "\n",
        "@tool\n",
        "def last_dividend_and_earnings_date(ticker: str) -> dict:\n",
        "    \"\"\"\n",
        "    Use this tool to retrieve company's last dividend date and earnings release dates.\n",
        "    It does not provide information about historical dividend yields.\n",
        "    \"\"\"\n",
        "    ticker_obj = yf.Ticker(ticker)\n",
        "\n",
        "    return ticker_obj.get_calendar()\n",
        "\n",
        "@tool\n",
        "def summary_of_mutual_fund_holders(ticker: str) -> dict:\n",
        "    \"\"\"\n",
        "    Use this tool to retrieve company's top mutual fund holders.\n",
        "    It also returns their percentage of share, stock count and value of holdings.\n",
        "    \"\"\"\n",
        "    ticker_obj = yf.Ticker(ticker)\n",
        "    mf_holders = ticker_obj.get_mutualfund_holders()\n",
        "\n",
        "    return mf_holders.to_dict(orient=\"records\")\n",
        "\n",
        "@tool\n",
        "def summary_of_institutional_holders(ticker: str) -> dict:\n",
        "    \"\"\"\n",
        "    Use this tool to retrieve company's top institutional holders.\n",
        "    It also returns their percentage of share, stock count and value of holdings.\n",
        "    \"\"\"\n",
        "    ticker_obj = yf.Ticker(ticker)\n",
        "    inst_holders = ticker_obj.get_institutional_holders()\n",
        "\n",
        "    return inst_holders.to_dict(orient=\"records\")\n",
        "\n",
        "@tool\n",
        "def stock_grade_updrages_downgrades(ticker: str) -> dict:\n",
        "    \"\"\"\n",
        "    Use this to retrieve grade ratings upgrades and downgrades details of particular stock.\n",
        "    It'll provide name of firms along with 'To Grade' and 'From Grade' details. Grade date is also provided.\n",
        "    \"\"\"\n",
        "    ticker_obj = yf.Ticker(ticker)\n",
        "\n",
        "    curr_year = date.today().year\n",
        "\n",
        "    upgrades_downgrades = ticker_obj.get_upgrades_downgrades()\n",
        "    upgrades_downgrades = upgrades_downgrades.loc[upgrades_downgrades.index > f\"{curr_year}-01-01\"]\n",
        "    upgrades_downgrades = upgrades_downgrades[upgrades_downgrades[\"Action\"].isin([\"up\", \"down\"])]\n",
        "\n",
        "    return upgrades_downgrades.to_dict(orient=\"records\")\n",
        "\n",
        "@tool\n",
        "def stock_splits_history(ticker: str) -> dict:\n",
        "    \"\"\"\n",
        "    Use this tool to retrieve company's historical stock splits data.\n",
        "    \"\"\"\n",
        "    ticker_obj = yf.Ticker(ticker)\n",
        "    hist_splits = ticker_obj.get_splits()\n",
        "\n",
        "    return hist_splits.to_dict()\n",
        "\n",
        "@tool\n",
        "def stock_news(ticker: str) -> dict:\n",
        "    \"\"\"\n",
        "    Use this to retrieve latest news articles discussing particular stock ticker.\n",
        "    \"\"\"\n",
        "    ticker_obj = yf.Ticker(ticker)\n",
        "\n",
        "    return ticker_obj.get_news()"
      ]
    },
    {
      "cell_type": "code",
      "execution_count": null,
      "metadata": {
        "id": "kMs-Zk5ema9i"
      },
      "outputs": [],
      "source": [
        "tools = [\n",
        "    company_information,\n",
        "    last_dividend_and_earnings_date,\n",
        "    stock_splits_history,\n",
        "    summary_of_mutual_fund_holders,\n",
        "    summary_of_institutional_holders,\n",
        "    stock_grade_updrages_downgrades,\n",
        "    stock_news,\n",
        "    get_stock_price\n",
        "]\n",
        "\n",
        "\n",
        "finance_agent = create_tool_calling_agent(llm, tools, prompt)\n",
        "\n",
        "finance_agent_executor = AgentExecutor(agent=finance_agent, tools=tools, verbose=True)"
      ]
    },
    {
      "cell_type": "code",
      "execution_count": null,
      "metadata": {
        "id": "I7-HLkgIma9i",
        "outputId": "d45a4230-7dcb-4309-8e47-52753e35f1fb"
      },
      "outputs": [
        {
          "name": "stdout",
          "output_type": "stream",
          "text": [
            "\n",
            "\n",
            "\u001b[1m> Entering new AgentExecutor chain...\u001b[0m\n",
            "\u001b[32;1m\u001b[1;3m\n",
            "Invoking: `last_dividend_and_earnings_date` with `{'ticker': 'AAPL'}`\n",
            "\n",
            "\n",
            "\u001b[0m\u001b[33;1m\u001b[1;3m{'Dividend Date': datetime.date(2025, 2, 13), 'Ex-Dividend Date': datetime.date(2025, 2, 10), 'Earnings Date': [datetime.date(2025, 4, 30), datetime.date(2025, 5, 5)], 'Earnings High': 1.67, 'Earnings Low': 1.5, 'Earnings Average': 1.61721, 'Revenue High': 95903397000, 'Revenue Low': 89370000000, 'Revenue Average': 94063213870}\u001b[0m\u001b[32;1m\u001b[1;3mThe last dividend date for Apple (AAPL) is February 13, 2025. The ex-dividend date is February 10, 2025.\u001b[0m\n",
            "\n",
            "\u001b[1m> Finished chain.\u001b[0m\n"
          ]
        },
        {
          "data": {
            "text/plain": [
              "{'messages': [HumanMessage(content='What is the last dividend date of Apple?', additional_kwargs={}, response_metadata={})],\n",
              " 'output': 'The last dividend date for Apple (AAPL) is February 13, 2025. The ex-dividend date is February 10, 2025.'}"
            ]
          },
          "execution_count": 54,
          "metadata": {},
          "output_type": "execute_result"
        }
      ],
      "source": [
        "response = finance_agent_executor.invoke({\"messages\": [HumanMessage(content=\"What is the last dividend date of Apple?\")]})\n",
        "response"
      ]
    },
    {
      "cell_type": "code",
      "execution_count": null,
      "metadata": {
        "id": "kB2XyJ9rma9i",
        "outputId": "2c3a0d21-bde8-439e-b6e2-328e5a713bf7"
      },
      "outputs": [
        {
          "name": "stdout",
          "output_type": "stream",
          "text": [
            "\n",
            "\n",
            "\u001b[1m> Entering new AgentExecutor chain...\u001b[0m\n",
            "\u001b[32;1m\u001b[1;3m\n",
            "Invoking: `stock_news` with `{'ticker': 'AAPL'}`\n",
            "\n",
            "\n",
            "\u001b[0m\u001b[36;1m\u001b[1;3m[{'id': '4e4a6c3f-be05-4a45-b937-e33993468f01', 'content': {'id': '4e4a6c3f-be05-4a45-b937-e33993468f01', 'contentType': 'STORY', 'title': 'Big Tech antitrust fights face a new uncertainty: Trump', 'description': '', 'summary': \"Alphabet’s Google is among the Silicon Valley giants hoping for a reprieve from the new antitrust enforcers in Donald Trump's new administration.\", 'pubDate': '2025-03-07T09:00:11Z', 'displayTime': '2025-03-07T09:00:11Z', 'isHosted': True, 'bypassModal': False, 'previewUrl': None, 'thumbnail': {'originalUrl': 'https://s.yimg.com/os/creatr-uploaded-images/2025-03/a6841950-fae3-11ef-a7c8-41e9dcf6b5e1', 'originalWidth': 3241, 'originalHeight': 2161, 'caption': '', 'resolutions': [{'url': 'https://s.yimg.com/uu/api/res/1.2/ZLGpo3qKF.oUzPzQ_ACowQ--~B/aD0yMTYxO3c9MzI0MTthcHBpZD15dGFjaHlvbg--/https://s.yimg.com/os/creatr-uploaded-images/2025-03/a6841950-fae3-11ef-a7c8-41e9dcf6b5e1', 'width': 3241, 'height': 2161, 'tag': 'original'}, {'url': 'https://s.yimg.com/uu/api/res/1.2/xdbzE0QBMWOTiDY8gzcttg--~B/Zmk9c3RyaW07aD0xMjg7dz0xNzA7YXBwaWQ9eXRhY2h5b24-/https://s.yimg.com/os/creatr-uploaded-images/2025-03/a6841950-fae3-11ef-a7c8-41e9dcf6b5e1', 'width': 170, 'height': 128, 'tag': '170x128'}]}, 'provider': {'displayName': 'Yahoo Finance', 'url': 'http://finance.yahoo.com/'}, 'canonicalUrl': {'url': 'https://finance.yahoo.com/news/big-tech-antitrust-fights-face-a-new-uncertainty-trump-090011456.html', 'site': 'finance', 'region': 'US', 'lang': 'en-US'}, 'clickThroughUrl': {'url': 'https://finance.yahoo.com/news/big-tech-antitrust-fights-face-a-new-uncertainty-trump-090011456.html', 'site': 'finance', 'region': 'US', 'lang': 'en-US'}, 'metadata': {'editorsPick': True}, 'finance': {'premiumFinance': {'isPremiumNews': False, 'isPremiumFreeNews': False}}, 'storyline': {'storylineItems': [{'content': {'id': '9f0ebfe1-d7cf-3940-b1db-6fbcd2341b8e', 'contentType': 'VIDEO', 'isHosted': True, 'title': \"Mag 7 vs. the Terrific 10: China's tech stocks outperform\", 'thumbnail': {'originalUrl': 'https://s.yimg.com/os/creatr-uploaded-images/2025-03/e3fb28f0-fad9-11ef-afaf-36005f164fc4', 'originalWidth': 6460, 'originalHeight': 3637, 'caption': '', 'resolutions': None}, 'provider': {'displayName': 'Yahoo Finance Video', 'sourceId': 'video.yahoofinance.com'}, 'previewUrl': None, 'providerContentUrl': '', 'canonicalUrl': {'url': 'https://finance.yahoo.com/video/mag-7-vs-terrific-10-233000127.html'}, 'clickThroughUrl': {'url': 'https://finance.yahoo.com/video/mag-7-vs-terrific-10-233000127.html'}}}, {'content': {'id': '5a9a51c4-2d75-3779-a1d1-1dfdcec16021', 'contentType': 'VIDEO', 'isHosted': True, 'title': \"How Apple's updated product lineup will boost revenue in 2025\", 'thumbnail': {'originalUrl': 'https://s.yimg.com/os/creatr-uploaded-images/2025-03/1b1d0e70-faad-11ef-bbde-a983db4c7091', 'originalWidth': 2478, 'originalHeight': 1395, 'caption': '', 'resolutions': None}, 'provider': {'displayName': 'Yahoo Finance Video', 'sourceId': 'video.yahoofinance.com'}, 'previewUrl': None, 'providerContentUrl': '', 'canonicalUrl': {'url': 'https://finance.yahoo.com/video/apples-updated-product-lineup-boost-174204898.html'}, 'clickThroughUrl': {'url': 'https://finance.yahoo.com/video/apples-updated-product-lineup-boost-174204898.html'}}}]}}}, {'id': '4205eaa9-f620-3a0b-a81a-0e82c7c9fd0b', 'content': {'id': '4205eaa9-f620-3a0b-a81a-0e82c7c9fd0b', 'contentType': 'STORY', 'title': 'Magnificent Seven Stocks: Amazon, Meta, Nvidia, Tesla Slide', 'description': '', 'summary': 'Dubbed the Magnificent Seven stocks, Apple, Microsoft, Google parent Alphabet, Amazon.com, Nvidia, Meta Platforms and Tesla lived up to their name in 2024 with solid gains. Through the first two months of 2025, however, performance for these mega-cap stocks has been mostly negative thus far.', 'pubDate': '2025-03-07T15:46:42Z', 'displayTime': '2025-03-07T15:46:42Z', 'isHosted': False, 'bypassModal': False, 'previewUrl': 'https://finance.yahoo.com/m/4205eaa9-f620-3a0b-a81a-0e82c7c9fd0b/magnificent-seven-stocks-.html', 'thumbnail': {'originalUrl': 'https://media.zenfs.com/en/ibd.com/0682fdd5dad13df00d702863d79378a1', 'originalWidth': 1000, 'originalHeight': 563, 'caption': '', 'resolutions': [{'url': 'https://s.yimg.com/uu/api/res/1.2/dH2T4UlHg7A40njz2aVZLw--~B/aD01NjM7dz0xMDAwO2FwcGlkPXl0YWNoeW9u/https://media.zenfs.com/en/ibd.com/0682fdd5dad13df00d702863d79378a1', 'width': 1000, 'height': 563, 'tag': 'original'}, {'url': 'https://s.yimg.com/uu/api/res/1.2/uNyO8ptuWsHDEOneeaLn9A--~B/Zmk9c3RyaW07aD0xMjg7dz0xNzA7YXBwaWQ9eXRhY2h5b24-/https://media.zenfs.com/en/ibd.com/0682fdd5dad13df00d702863d79378a1', 'width': 170, 'height': 128, 'tag': '170x128'}]}, 'provider': {'displayName': \"Investor's Business Daily\", 'url': 'http://www.investors.com/'}, 'canonicalUrl': {'url': 'https://www.investors.com/research/magnificent-seven-stocks-march-2025/?src=A00220&yptr=yahoo', 'site': 'finance', 'region': 'US', 'lang': 'en-US'}, 'clickThroughUrl': None, 'metadata': {'editorsPick': False}, 'finance': {'premiumFinance': {'isPremiumNews': False, 'isPremiumFreeNews': False}}, 'storyline': None}}, {'id': 'ba45841b-68c6-3a9c-9240-1364bf125b75', 'content': {'id': 'ba45841b-68c6-3a9c-9240-1364bf125b75', 'contentType': 'STORY', 'title': 'Apple Secures Local Content Certifications in Indonesia but Faces Additional Regulatory Hurdles', 'description': '', 'summary': 'Apple secures local content certificates for 20 products in Indonesia, including the iPhone 16.', 'pubDate': '2025-03-07T15:37:55Z', 'displayTime': '2025-03-07T15:37:55Z', 'isHosted': True, 'bypassModal': False, 'previewUrl': None, 'thumbnail': {'originalUrl': 'https://media.zenfs.com/en/us.finance.gurufocus/b3bdeaa8bbcaaef7d764d6a0b08ff6b8', 'originalWidth': 550, 'originalHeight': 475, 'caption': '', 'resolutions': [{'url': 'https://s.yimg.com/uu/api/res/1.2/0y.fLTbHepNRlzX9490YSQ--~B/aD00NzU7dz01NTA7YXBwaWQ9eXRhY2h5b24-/https://media.zenfs.com/en/us.finance.gurufocus/b3bdeaa8bbcaaef7d764d6a0b08ff6b8', 'width': 550, 'height': 475, 'tag': 'original'}, {'url': 'https://s.yimg.com/uu/api/res/1.2/qyu.XK0O5AdUbWxEPL2_KA--~B/Zmk9c3RyaW07aD0xMjg7dz0xNzA7YXBwaWQ9eXRhY2h5b24-/https://media.zenfs.com/en/us.finance.gurufocus/b3bdeaa8bbcaaef7d764d6a0b08ff6b8', 'width': 170, 'height': 128, 'tag': '170x128'}]}, 'provider': {'displayName': 'GuruFocus.com', 'url': 'http://www.gurufocus.com/'}, 'canonicalUrl': {'url': 'https://finance.yahoo.com/news/apple-secures-local-content-certifications-153755274.html', 'site': 'finance', 'region': 'US', 'lang': 'en-US'}, 'clickThroughUrl': {'url': 'https://finance.yahoo.com/news/apple-secures-local-content-certifications-153755274.html', 'site': 'finance', 'region': 'US', 'lang': 'en-US'}, 'metadata': {'editorsPick': False}, 'finance': {'premiumFinance': {'isPremiumNews': False, 'isPremiumFreeNews': False}}, 'storyline': None}}, {'id': '8d2d9c5b-25c6-36e8-ad4a-7813aec135c5', 'content': {'id': '8d2d9c5b-25c6-36e8-ad4a-7813aec135c5', 'contentType': 'STORY', 'title': 'Is Apple Inc. (AAPL) Among the Best Warren Buffett Stock to Buy Right Now?', 'description': '', 'summary': 'We recently compiled a list of the 10 Best Warren Buffett Stocks to Buy Right Now. In this article, we are going to take a look at where Apple Inc. (NASDAQ:AAPL) stands against the other Warren Buffett Stocks. Warren Buffett is one of the most successful investors the world has known. Additionally, he is arguably one […]', 'pubDate': '2025-03-07T15:18:08Z', 'displayTime': '2025-03-07T15:18:08Z', 'isHosted': True, 'bypassModal': False, 'previewUrl': None, 'thumbnail': {'originalUrl': 'https://media.zenfs.com/en/insidermonkey.com/61c363b6d566f2e9989d12b08155c301', 'originalWidth': 1456, 'originalHeight': 816, 'caption': '10 Best Warren Buffett Stocks to Buy Right Now', 'resolutions': [{'url': 'https://s.yimg.com/uu/api/res/1.2/hFMxfnk5_TVA3EWDLRZrXQ--~B/aD04MTY7dz0xNDU2O2FwcGlkPXl0YWNoeW9u/https://media.zenfs.com/en/insidermonkey.com/61c363b6d566f2e9989d12b08155c301', 'width': 1456, 'height': 816, 'tag': 'original'}, {'url': 'https://s.yimg.com/uu/api/res/1.2/k0G3PWVzg7KqjN3R0WRxiA--~B/Zmk9c3RyaW07aD0xMjg7dz0xNzA7YXBwaWQ9eXRhY2h5b24-/https://media.zenfs.com/en/insidermonkey.com/61c363b6d566f2e9989d12b08155c301', 'width': 170, 'height': 128, 'tag': '170x128'}]}, 'provider': {'displayName': 'Insider Monkey', 'url': 'http://www.insidermonkey.com'}, 'canonicalUrl': {'url': 'https://finance.yahoo.com/news/apple-inc-aapl-among-best-151808362.html', 'site': 'finance', 'region': 'US', 'lang': 'en-US'}, 'clickThroughUrl': {'url': 'https://finance.yahoo.com/news/apple-inc-aapl-among-best-151808362.html', 'site': 'finance', 'region': 'US', 'lang': 'en-US'}, 'metadata': {'editorsPick': False}, 'finance': {'premiumFinance': {'isPremiumNews': False, 'isPremiumFreeNews': False}}, 'storyline': None}}, {'id': 'b664e553-2eed-3a49-941f-50a412147730', 'content': {'id': 'b664e553-2eed-3a49-941f-50a412147730', 'contentType': 'STORY', 'title': 'The Mag 7 Stocks Are No Longer Magnificent. Where the Charts Say They Go Next.', 'description': '', 'summary': 'The good news for the tech heavyweights is that the stocks look due for a bounce. Here’s the technical case for buying the Mag 7.', 'pubDate': '2025-03-07T14:54:00Z', 'displayTime': '2025-03-07T14:54:00Z', 'isHosted': False, 'bypassModal': False, 'previewUrl': 'https://finance.yahoo.com/m/b664e553-2eed-3a49-941f-50a412147730/the-mag-7-stocks-are-no.html', 'thumbnail': {'originalUrl': 'https://media.zenfs.com/en/Barrons.com/699617e957ac635da58d90c882e1e076', 'originalWidth': 1280, 'originalHeight': 640, 'caption': '', 'resolutions': [{'url': 'https://s.yimg.com/uu/api/res/1.2/BLpT22bwCbuw1MZpAIMsAA--~B/aD02NDA7dz0xMjgwO2FwcGlkPXl0YWNoeW9u/https://media.zenfs.com/en/Barrons.com/699617e957ac635da58d90c882e1e076', 'width': 1280, 'height': 640, 'tag': 'original'}, {'url': 'https://s.yimg.com/uu/api/res/1.2/ge_EVQeyBksh2WDGJQ527w--~B/Zmk9c3RyaW07aD0xMjg7dz0xNzA7YXBwaWQ9eXRhY2h5b24-/https://media.zenfs.com/en/Barrons.com/699617e957ac635da58d90c882e1e076', 'width': 170, 'height': 128, 'tag': '170x128'}]}, 'provider': {'displayName': 'Barrons.com', 'url': 'http://www.barrons.com/'}, 'canonicalUrl': {'url': 'https://www.barrons.com/articles/tesla-nvidia-mag-7-stock-price-charts-12d68ae4?siteid=yhoof2&yptr=yahoo', 'site': 'finance', 'region': 'US', 'lang': 'en-US'}, 'clickThroughUrl': None, 'metadata': {'editorsPick': False}, 'finance': {'premiumFinance': {'isPremiumNews': False, 'isPremiumFreeNews': False}}, 'storyline': None}}, {'id': '159cdb7f-4560-331f-addf-13dbeb11da2b', 'content': {'id': '159cdb7f-4560-331f-addf-13dbeb11da2b', 'contentType': 'STORY', 'title': 'Broadcom Shares Jump as AI Growth Fuels Upbeat Forecast', 'description': '', 'summary': '(Bloomberg) -- Broadcom Inc. shares jumped after the chip supplier for Apple Inc. and other big tech companies gave an upbeat forecast, reassuring investors that spending on artificial intelligence computing remains healthy.Most Read from BloombergTrump Administration Plans to Eliminate Dozens of Housing OfficesNJ College to Merge With State School After Financial StressRepublican Mayor Braces for Tariffs: ‘We Didn’t Budget for This’How Upzoning in Cambridge Broke the YIMBY MoldNYC’s Finances Ar', 'pubDate': '2025-03-07T14:38:06Z', 'displayTime': '2025-03-07T14:38:06Z', 'isHosted': True, 'bypassModal': False, 'previewUrl': None, 'thumbnail': {'originalUrl': 'https://media.zenfs.com/en/bloomberg_technology_68/0eb39eda9fc489068e3fe871b5df3086', 'originalWidth': 2000, 'originalHeight': 1333, 'caption': '', 'resolutions': [{'url': 'https://s.yimg.com/uu/api/res/1.2/f.E32EfD9q.zmrkuQH5CQw--~B/aD0xMzMzO3c9MjAwMDthcHBpZD15dGFjaHlvbg--/https://media.zenfs.com/en/bloomberg_technology_68/0eb39eda9fc489068e3fe871b5df3086', 'width': 2000, 'height': 1333, 'tag': 'original'}, {'url': 'https://s.yimg.com/uu/api/res/1.2/OAjT1WwDG4PuF17FWW5hjQ--~B/Zmk9c3RyaW07aD0xMjg7dz0xNzA7YXBwaWQ9eXRhY2h5b24-/https://media.zenfs.com/en/bloomberg_technology_68/0eb39eda9fc489068e3fe871b5df3086', 'width': 170, 'height': 128, 'tag': '170x128'}]}, 'provider': {'displayName': 'Bloomberg', 'url': 'https://www.bloomberg.com/'}, 'canonicalUrl': {'url': 'https://finance.yahoo.com/news/broadcom-rallies-ai-growth-fuels-234003847.html', 'site': 'finance', 'region': 'US', 'lang': 'en-US'}, 'clickThroughUrl': {'url': 'https://finance.yahoo.com/news/broadcom-rallies-ai-growth-fuels-234003847.html', 'site': 'finance', 'region': 'US', 'lang': 'en-US'}, 'metadata': {'editorsPick': False}, 'finance': {'premiumFinance': {'isPremiumNews': False, 'isPremiumFreeNews': False}}, 'storyline': None}}, {'id': 'ebbe99cd-6748-3dae-af2f-4ec9bbf7d075', 'content': {'id': 'ebbe99cd-6748-3dae-af2f-4ec9bbf7d075', 'contentType': 'STORY', 'title': 'Major Breakthrough: New Certificates Propel Apple iPhone 16 into Indonesia', 'description': '', 'summary': 'Apple Certifies 20 Products, Paving the Way for iPhone 16 in Indonesia', 'pubDate': '2025-03-07T14:31:05Z', 'displayTime': '2025-03-07T14:31:05Z', 'isHosted': True, 'bypassModal': False, 'previewUrl': None, 'thumbnail': {'originalUrl': 'https://media.zenfs.com/en/us.finance.gurufocus/cff49c930470c65bf9b8fbfe84bc37e9', 'originalWidth': 550, 'originalHeight': 366, 'caption': '', 'resolutions': [{'url': 'https://s.yimg.com/uu/api/res/1.2/j5DyIUO4SKmmIiPZup79SA--~B/aD0zNjY7dz01NTA7YXBwaWQ9eXRhY2h5b24-/https://media.zenfs.com/en/us.finance.gurufocus/cff49c930470c65bf9b8fbfe84bc37e9', 'width': 550, 'height': 366, 'tag': 'original'}, {'url': 'https://s.yimg.com/uu/api/res/1.2/N97PQBrvZuipXGVeuqmxvg--~B/Zmk9c3RyaW07aD0xMjg7dz0xNzA7YXBwaWQ9eXRhY2h5b24-/https://media.zenfs.com/en/us.finance.gurufocus/cff49c930470c65bf9b8fbfe84bc37e9', 'width': 170, 'height': 128, 'tag': '170x128'}]}, 'provider': {'displayName': 'GuruFocus.com', 'url': 'http://www.gurufocus.com/'}, 'canonicalUrl': {'url': 'https://finance.yahoo.com/news/major-breakthrough-certificates-propel-apple-143105383.html', 'site': 'finance', 'region': 'US', 'lang': 'en-US'}, 'clickThroughUrl': {'url': 'https://finance.yahoo.com/news/major-breakthrough-certificates-propel-apple-143105383.html', 'site': 'finance', 'region': 'US', 'lang': 'en-US'}, 'metadata': {'editorsPick': False}, 'finance': {'premiumFinance': {'isPremiumNews': False, 'isPremiumFreeNews': False}}, 'storyline': None}}, {'id': 'b583e54f-4415-3097-8a4e-3f117fff0a06', 'content': {'id': 'b583e54f-4415-3097-8a4e-3f117fff0a06', 'contentType': 'STORY', 'title': 'In Rotten Market, Top Funds Harvest Apple Stock — And 10 Others', 'description': '', 'summary': 'The best mutual funds bet big on Apple stock, Meta, Robinhood, Walmart and seven others while Nasdaq turns bearish.', 'pubDate': '2025-03-07T13:00:56Z', 'displayTime': '2025-03-07T13:00:56Z', 'isHosted': False, 'bypassModal': False, 'previewUrl': 'https://finance.yahoo.com/m/b583e54f-4415-3097-8a4e-3f117fff0a06/in-rotten-market-top-funds.html', 'thumbnail': {'originalUrl': 'https://media.zenfs.com/en/ibd.com/d516233f9f402a6bd2d95ffaccbb8234', 'originalWidth': 1000, 'originalHeight': 563, 'caption': '', 'resolutions': [{'url': 'https://s.yimg.com/uu/api/res/1.2/LzIvM1Q.RDVXeKuGqEJKzw--~B/aD01NjM7dz0xMDAwO2FwcGlkPXl0YWNoeW9u/https://media.zenfs.com/en/ibd.com/d516233f9f402a6bd2d95ffaccbb8234', 'width': 1000, 'height': 563, 'tag': 'original'}, {'url': 'https://s.yimg.com/uu/api/res/1.2/MTRQro0lJPJGdEbe..F6Ng--~B/Zmk9c3RyaW07aD0xMjg7dz0xNzA7YXBwaWQ9eXRhY2h5b24-/https://media.zenfs.com/en/ibd.com/d516233f9f402a6bd2d95ffaccbb8234', 'width': 170, 'height': 128, 'tag': '170x128'}]}, 'provider': {'displayName': \"Investor's Business Daily\", 'url': 'http://www.investors.com/'}, 'canonicalUrl': {'url': 'https://www.investors.com/etfs-and-funds/mutual-funds/apple-stock-meta-robinhood-walmart-lead-new-buys-by-best-mutual-funds/?src=A00220&yptr=yahoo', 'site': 'finance', 'region': 'US', 'lang': 'en-US'}, 'clickThroughUrl': None, 'metadata': {'editorsPick': False}, 'finance': {'premiumFinance': {'isPremiumNews': False, 'isPremiumFreeNews': False}}, 'storyline': None}}, {'id': '24ce405f-30a8-34c1-91e3-cbf519528b33', 'content': {'id': '24ce405f-30a8-34c1-91e3-cbf519528b33', 'contentType': 'STORY', 'title': \"Apple's iPhone 16 Still on Hold in Indonesia Despite Key Certification Win\", 'description': '', 'summary': 'Apple clears a regulatory hurdle in Indonesia but must obtain more permits before selling its latest devices', 'pubDate': '2025-03-07T12:10:31Z', 'displayTime': '2025-03-07T12:10:31Z', 'isHosted': True, 'bypassModal': False, 'previewUrl': None, 'thumbnail': {'originalUrl': 'https://media.zenfs.com/en/us.finance.gurufocus/b3bdeaa8bbcaaef7d764d6a0b08ff6b8', 'originalWidth': 550, 'originalHeight': 475, 'caption': '', 'resolutions': [{'url': 'https://s.yimg.com/uu/api/res/1.2/0y.fLTbHepNRlzX9490YSQ--~B/aD00NzU7dz01NTA7YXBwaWQ9eXRhY2h5b24-/https://media.zenfs.com/en/us.finance.gurufocus/b3bdeaa8bbcaaef7d764d6a0b08ff6b8', 'width': 550, 'height': 475, 'tag': 'original'}, {'url': 'https://s.yimg.com/uu/api/res/1.2/qyu.XK0O5AdUbWxEPL2_KA--~B/Zmk9c3RyaW07aD0xMjg7dz0xNzA7YXBwaWQ9eXRhY2h5b24-/https://media.zenfs.com/en/us.finance.gurufocus/b3bdeaa8bbcaaef7d764d6a0b08ff6b8', 'width': 170, 'height': 128, 'tag': '170x128'}]}, 'provider': {'displayName': 'GuruFocus.com', 'url': 'http://www.gurufocus.com/'}, 'canonicalUrl': {'url': 'https://finance.yahoo.com/news/apples-iphone-16-still-hold-121031601.html', 'site': 'finance', 'region': 'US', 'lang': 'en-US'}, 'clickThroughUrl': {'url': 'https://finance.yahoo.com/news/apples-iphone-16-still-hold-121031601.html', 'site': 'finance', 'region': 'US', 'lang': 'en-US'}, 'metadata': {'editorsPick': False}, 'finance': {'premiumFinance': {'isPremiumNews': False, 'isPremiumFreeNews': False}}, 'storyline': None}}, {'id': '29ad0e80-3ec5-3908-8d9a-e25e4abf19b5', 'content': {'id': '29ad0e80-3ec5-3908-8d9a-e25e4abf19b5', 'contentType': 'STORY', 'title': 'Cloud AI Today - Cirrascale Launches Inference Cloud For Scalable AI Integration', 'description': '', 'summary': 'Cirrascale Cloud Services has introduced an Inference Cloud powered by the Qualcomm AI Inference Suite, enabling businesses to deploy AI models and applications efficiently with a single click. This new offering addresses the increasing demand for generative AI, providing scalable AI solutions from the cloud. The suite supports a variety of AI workloads including large language models. With cost-effective access through API interfaces, companies can integrate AI capabilities into applications...', 'pubDate': '2025-03-07T12:07:45Z', 'displayTime': '2025-03-07T12:07:45Z', 'isHosted': True, 'bypassModal': False, 'previewUrl': None, 'thumbnail': {'originalUrl': 'https://media.zenfs.com/en/simply_wall_st__316/a5d5a89dd6ab73bc7694c99b9023ec2d', 'originalWidth': 1194, 'originalHeight': 432, 'caption': '', 'resolutions': [{'url': 'https://s.yimg.com/uu/api/res/1.2/eFZZVJx6QdqQsl5Qimg4Rw--~B/aD00MzI7dz0xMTk0O2FwcGlkPXl0YWNoeW9u/https://media.zenfs.com/en/simply_wall_st__316/a5d5a89dd6ab73bc7694c99b9023ec2d', 'width': 1194, 'height': 432, 'tag': 'original'}, {'url': 'https://s.yimg.com/uu/api/res/1.2/u_qGKy4_SqrXf8ApF.x2Vw--~B/Zmk9c3RyaW07aD0xMjg7dz0xNzA7YXBwaWQ9eXRhY2h5b24-/https://media.zenfs.com/en/simply_wall_st__316/a5d5a89dd6ab73bc7694c99b9023ec2d', 'width': 170, 'height': 128, 'tag': '170x128'}]}, 'provider': {'displayName': 'Simply Wall St.', 'url': 'https://simplywall.st/'}, 'canonicalUrl': {'url': 'https://finance.yahoo.com/news/cloud-ai-today-cirrascale-launches-120745946.html', 'site': 'finance', 'region': 'US', 'lang': 'en-US'}, 'clickThroughUrl': {'url': 'https://finance.yahoo.com/news/cloud-ai-today-cirrascale-launches-120745946.html', 'site': 'finance', 'region': 'US', 'lang': 'en-US'}, 'metadata': {'editorsPick': False}, 'finance': {'premiumFinance': {'isPremiumNews': False, 'isPremiumFreeNews': False}}, 'storyline': None}}]\u001b[0m\u001b[32;1m\u001b[1;3mHere are some of the latest news articles about Apple:\n",
            "\n",
            "1. **Title:** [Big Tech antitrust fights face a new uncertainty: Trump](https://finance.yahoo.com/news/big-tech-antitrust-fights-face-a-new-uncertainty-trump-090011456.html)\n",
            "   - **Summary:** Alphabet’s Google is among the Silicon Valley giants hoping for a reprieve from the new antitrust enforcers in Donald Trump's new administration.\n",
            "   - **Published On:** March 7, 2025\n",
            "   - **Source:** Yahoo Finance\n",
            "\n",
            "2. **Title:** [Apple Secures Local Content Certifications in Indonesia but Faces Additional Regulatory Hurdles](https://finance.yahoo.com/news/apple-secures-local-content-certifications-153755274.html)\n",
            "   - **Summary:** Apple secures local content certificates for 20 products in Indonesia, including the iPhone 16.\n",
            "   - **Published On:** March 7, 2025\n",
            "   - **Source:** GuruFocus.com\n",
            "\n",
            "3. **Title:** [Is Apple Inc. (AAPL) Among the Best Warren Buffett Stock to Buy Right Now?](https://finance.yahoo.com/news/apple-inc-aapl-among-best-151808362.html)\n",
            "   - **Summary:** An analysis of where Apple Inc. stands against other Warren Buffett stocks.\n",
            "   - **Published On:** March 7, 2025\n",
            "   - **Source:** Insider Monkey\n",
            "\n",
            "4. **Title:** [Broadcom Shares Jump as AI Growth Fuels Upbeat Forecast](https://finance.yahoo.com/news/broadcom-rallies-ai-growth-fuels-234003847.html)\n",
            "   - **Summary:** Broadcom Inc. shares jumped after the chip supplier for Apple gave an upbeat forecast regarding artificial intelligence computing.\n",
            "   - **Published On:** March 7, 2025\n",
            "   - **Source:** Bloomberg\n",
            "\n",
            "5. **Title:** [In Rotten Market, Top Funds Harvest Apple Stock — And 10 Others](https://www.investors.com/etfs-and-funds/mutual-funds/apple-stock-meta-robinhood-walmart-lead-new-buys-by-best-mutual-funds/?src=A00220&yptr=yahoo)\n",
            "   - **Summary:** The best mutual funds are betting big on Apple stock while the Nasdaq turns bearish.\n",
            "   - **Published On:** March 7, 2025\n",
            "   - **Source:** Investor's Business Daily\n",
            "\n",
            "These articles cover various topics including antitrust issues, product certifications, investment analyses, and market performance.\u001b[0m\n",
            "\n",
            "\u001b[1m> Finished chain.\u001b[0m\n"
          ]
        },
        {
          "data": {
            "text/plain": [
              "{'messages': [HumanMessage(content='What is the latest news about Apple?', additional_kwargs={}, response_metadata={})],\n",
              " 'output': \"Here are some of the latest news articles about Apple:\\n\\n1. **Title:** [Big Tech antitrust fights face a new uncertainty: Trump](https://finance.yahoo.com/news/big-tech-antitrust-fights-face-a-new-uncertainty-trump-090011456.html)\\n   - **Summary:** Alphabet’s Google is among the Silicon Valley giants hoping for a reprieve from the new antitrust enforcers in Donald Trump's new administration.\\n   - **Published On:** March 7, 2025\\n   - **Source:** Yahoo Finance\\n\\n2. **Title:** [Apple Secures Local Content Certifications in Indonesia but Faces Additional Regulatory Hurdles](https://finance.yahoo.com/news/apple-secures-local-content-certifications-153755274.html)\\n   - **Summary:** Apple secures local content certificates for 20 products in Indonesia, including the iPhone 16.\\n   - **Published On:** March 7, 2025\\n   - **Source:** GuruFocus.com\\n\\n3. **Title:** [Is Apple Inc. (AAPL) Among the Best Warren Buffett Stock to Buy Right Now?](https://finance.yahoo.com/news/apple-inc-aapl-among-best-151808362.html)\\n   - **Summary:** An analysis of where Apple Inc. stands against other Warren Buffett stocks.\\n   - **Published On:** March 7, 2025\\n   - **Source:** Insider Monkey\\n\\n4. **Title:** [Broadcom Shares Jump as AI Growth Fuels Upbeat Forecast](https://finance.yahoo.com/news/broadcom-rallies-ai-growth-fuels-234003847.html)\\n   - **Summary:** Broadcom Inc. shares jumped after the chip supplier for Apple gave an upbeat forecast regarding artificial intelligence computing.\\n   - **Published On:** March 7, 2025\\n   - **Source:** Bloomberg\\n\\n5. **Title:** [In Rotten Market, Top Funds Harvest Apple Stock — And 10 Others](https://www.investors.com/etfs-and-funds/mutual-funds/apple-stock-meta-robinhood-walmart-lead-new-buys-by-best-mutual-funds/?src=A00220&yptr=yahoo)\\n   - **Summary:** The best mutual funds are betting big on Apple stock while the Nasdaq turns bearish.\\n   - **Published On:** March 7, 2025\\n   - **Source:** Investor's Business Daily\\n\\nThese articles cover various topics including antitrust issues, product certifications, investment analyses, and market performance.\"}"
            ]
          },
          "execution_count": 55,
          "metadata": {},
          "output_type": "execute_result"
        }
      ],
      "source": [
        "response = finance_agent_executor.invoke({\"messages\": [HumanMessage(content=\"What is the latest news about Apple?\")]})\n",
        "response"
      ]
    },
    {
      "cell_type": "code",
      "execution_count": null,
      "metadata": {
        "id": "MCkMjdjjma9i",
        "outputId": "3b9b48b0-4104-4bdf-898e-bd3d8377a364"
      },
      "outputs": [
        {
          "name": "stdout",
          "output_type": "stream",
          "text": [
            "\n",
            "\n",
            "\u001b[1m> Entering new AgentExecutor chain...\u001b[0m\n",
            "\u001b[32;1m\u001b[1;3m\n",
            "Invoking: `company_information` with `{'ticker': 'NVDA'}`\n",
            "\n",
            "\n",
            "\u001b[0m\u001b[36;1m\u001b[1;3m{'address1': '2788 San Tomas Expressway', 'city': 'Santa Clara', 'state': 'CA', 'zip': '95051', 'country': 'United States', 'phone': '(408) 486-2000', 'website': 'https://www.nvidia.com', 'industry': 'Semiconductors', 'industryKey': 'semiconductors', 'industryDisp': 'Semiconductors', 'sector': 'Technology', 'sectorKey': 'technology', 'sectorDisp': 'Technology', 'longBusinessSummary': \"NVIDIA Corporation, a computing infrastructure company, provides graphics and compute and networking solutions in the United States, Singapore, Taiwan, China, Hong Kong, and internationally. The Compute & Networking segment comprises Data Center computing platforms and end-to-end networking platforms, including Quantum for InfiniBand and Spectrum for Ethernet; NVIDIA DRIVE automated-driving platform and automotive development agreements; Jetson robotics and other embedded platforms; NVIDIA AI Enterprise and other software; and DGX Cloud software and services. The Graphics segment offers GeForce GPUs for gaming and PCs, the GeForce NOW game streaming service and related infrastructure, and solutions for gaming platforms; Quadro/NVIDIA RTX GPUs for enterprise workstation graphics; virtual GPU or vGPU software for cloud-based visual and virtual computing; automotive platforms for infotainment systems; and Omniverse software for building and operating industrial AI and digital twin applications. The company's products are used in gaming, professional visualization, data center, and automotive markets. It sells its products to original equipment manufacturers, original device manufacturers, system integrators and distributors, independent software vendors, cloud service providers, consumer internet companies, add-in board manufacturers, distributors, automotive manufacturers and tier-1 automotive suppliers, and other ecosystem participants. NVIDIA Corporation was incorporated in 1993 and is headquartered in Santa Clara, California.\", 'fullTimeEmployees': 36000, 'companyOfficers': [{'maxAge': 1, 'name': 'Mr. Jen-Hsun  Huang', 'age': 61, 'title': 'Co-Founder, CEO, President & Director', 'yearBorn': 1963, 'fiscalYear': 2024, 'totalPay': 7491487, 'exercisedValue': 217327152, 'unexercisedValue': 0}, {'maxAge': 1, 'name': 'Ms. Colette M. Kress', 'age': 57, 'title': 'Executive VP & CFO', 'yearBorn': 1967, 'fiscalYear': 2024, 'totalPay': 1510765, 'exercisedValue': 0, 'unexercisedValue': 0}, {'maxAge': 1, 'name': 'Ms. Debora  Shoquist', 'age': 69, 'title': 'Executive Vice President of Operations', 'yearBorn': 1955, 'fiscalYear': 2024, 'totalPay': 1371266, 'exercisedValue': 0, 'unexercisedValue': 0}, {'maxAge': 1, 'name': 'Mr. Timothy S. Teter J.D.', 'age': 57, 'title': 'Executive VP, General Counsel & Secretary', 'yearBorn': 1967, 'fiscalYear': 2024, 'totalPay': 1360939, 'exercisedValue': 0, 'unexercisedValue': 0}, {'maxAge': 1, 'name': 'Mr. Ajay K. Puri', 'age': 69, 'title': 'Executive Vice President of Worldwide Field Operations', 'yearBorn': 1955, 'fiscalYear': 2024, 'totalPay': 2295097, 'exercisedValue': 0, 'unexercisedValue': 0}, {'maxAge': 1, 'name': 'Mr. Chris A. Malachowsky', 'title': 'Co-Founder', 'fiscalYear': 2024, 'totalPay': 320000, 'exercisedValue': 0, 'unexercisedValue': 0}, {'maxAge': 1, 'name': 'Mr. Donald F. Robertson Jr.', 'age': 55, 'title': 'VP & Chief Accounting Officer', 'yearBorn': 1969, 'fiscalYear': 2024, 'exercisedValue': 0, 'unexercisedValue': 0}, {'maxAge': 1, 'name': 'Prof. William J. Dally Ph.D.', 'age': 63, 'title': 'Chief Scientist & Senior VP of Research', 'yearBorn': 1961, 'fiscalYear': 2024, 'exercisedValue': 0, 'unexercisedValue': 0}, {'maxAge': 1, 'name': 'Ms. Mylene  Mangalindan', 'title': 'VP of Corporate Communications', 'fiscalYear': 2024, 'exercisedValue': 0, 'unexercisedValue': 0}, {'maxAge': 1, 'name': 'Mr. Tommy  Lee', 'title': 'Senior Vice President of Systems Engineering & Application', 'fiscalYear': 2024, 'exercisedValue': 0, 'unexercisedValue': 0}], 'auditRisk': 9, 'boardRisk': 10, 'compensationRisk': 3, 'shareHolderRightsRisk': 6, 'overallRisk': 8, 'governanceEpochDate': 1740787200, 'compensationAsOfEpochDate': 1735603200, 'irWebsite': 'http://phx.corporate-ir.net/phoenix.zhtml?c=116466&p=irol-IRHome', 'executiveTeam': [], 'maxAge': 86400, 'priceHint': 2, 'previousClose': 110.57, 'open': 111.18, 'dayLow': 109.5119, 'dayHigh': 113.48, 'regularMarketPreviousClose': 110.57, 'regularMarketOpen': 111.18, 'regularMarketDayLow': 109.5119, 'regularMarketDayHigh': 113.48, 'dividendRate': 0.04, 'dividendYield': 0.04, 'exDividendDate': 1741737600, 'payoutRatio': 0.0116, 'fiveYearAvgDividendYield': 0.08, 'beta': 1.765, 'trailingPE': 37.53061, 'forwardPE': 26.781553, 'volume': 121202643, 'regularMarketVolume': 121205277, 'averageVolume': 258929520, 'averageVolume10days': 331943950, 'averageDailyVolume10Day': 331943950, 'bid': 110.31, 'ask': 110.42, 'bidSize': 1, 'askSize': 3, 'marketCap': 2692295688192, 'fiftyTwoWeekLow': 75.606, 'fiftyTwoWeekHigh': 153.13, 'priceToSalesTrailing12Months': 20.635769, 'fiftyDayAverage': 132.2484, 'twoHundredDayAverage': 127.171074, 'trailingAnnualDividendRate': 0.034, 'trailingAnnualDividendYield': 0.00030749754, 'currency': 'USD', 'tradeable': False, 'enterpriseValue': 2664967962624, 'profitMargins': 0.55848, 'floatShares': 23413996000, 'sharesOutstanding': 24399998976, 'sharesShort': 241662760, 'sharesShortPriorMonth': 287064263, 'sharesShortPreviousMonthDate': 1736899200, 'dateShortInterest': 1739491200, 'sharesPercentSharesOut': 0.0099, 'heldPercentInsiders': 0.04467, 'heldPercentInstitutions': 0.67464995, 'shortRatio': 0.84, 'shortPercentOfFloat': 0.010299999, 'impliedSharesOutstanding': 26723201024, 'bookValue': 3.241, 'priceToBook': 34.045048, 'lastFiscalYearEnd': 1737849600, 'nextFiscalYearEnd': 1769385600, 'mostRecentQuarter': 1737849600, 'earningsQuarterlyGrowth': 0.798, 'netIncomeToCommon': 72879996928, 'trailingEps': 2.94, 'forwardEps': 4.12, 'lastSplitFactor': '10:1', 'lastSplitDate': 1717977600, 'enterpriseToRevenue': 20.422, 'enterpriseToEbitda': 31.986, '52WeekChange': 0.26325285, 'SandP52WeekChange': 0.1199975, 'lastDividendValue': 0.01, 'lastDividendDate': 1733356800, 'quoteType': 'EQUITY', 'currentPrice': 110.365, 'targetHighPrice': 220.0, 'targetLowPrice': 130.0, 'targetMeanPrice': 172.22018, 'targetMedianPrice': 175.0, 'recommendationMean': 1.33333, 'recommendationKey': 'strong_buy', 'numberOfAnalystOpinions': 56, 'totalCash': 43209998336, 'totalCashPerShare': 1.771, 'ebitda': 83316998144, 'totalDebt': 10270000128, 'quickRatio': 3.672, 'currentRatio': 4.44, 'totalRevenue': 130497003520, 'debtToEquity': 12.946, 'revenuePerShare': 5.314, 'returnOnAssets': 0.57417, 'returnOnEquity': 1.1917701, 'grossProfits': 97858002944, 'freeCashflow': 44169748480, 'operatingCashflow': 64089001984, 'earningsGrowth': 0.836, 'revenueGrowth': 0.779, 'grossMargins': 0.74988997, 'ebitdaMargins': 0.63846, 'operatingMargins': 0.61107, 'financialCurrency': 'USD', 'symbol': 'NVDA', 'language': 'en-US', 'region': 'US', 'typeDisp': 'Equity', 'quoteSourceName': 'Nasdaq Real Time Price', 'triggerable': True, 'customPriceAlertConfidence': 'HIGH', 'regularMarketChangePercent': -0.20800665, 'regularMarketPrice': 110.34, 'corporateActions': [{'header': 'Dividend', 'message': 'NVDA announced a cash dividend of 0.01 with an ex-date of Mar. 12, 2025', 'meta': {'eventType': 'DIVIDEND', 'dateEpochMs': 1741755600000, 'amount': '0.01'}}], 'regularMarketTime': 1741364230, 'exchange': 'NMS', 'messageBoardId': 'finmb_32307', 'exchangeTimezoneName': 'America/New_York', 'exchangeTimezoneShortName': 'EST', 'gmtOffSetMilliseconds': -18000000, 'market': 'us_market', 'esgPopulated': False, 'shortName': 'NVIDIA Corporation', 'longName': 'NVIDIA Corporation', 'marketState': 'REGULAR', 'hasPrePostMarketData': True, 'firstTradeDateMilliseconds': 917015400000, 'regularMarketChange': -0.23000336, 'regularMarketDayRange': '109.5119 - 113.48', 'fullExchangeName': 'NasdaqGS', 'averageDailyVolume3Month': 258929520, 'fiftyTwoWeekLowChange': 34.733994, 'fiftyTwoWeekLowChangePercent': 0.45940787, 'fiftyTwoWeekRange': '75.606 - 153.13', 'fiftyTwoWeekHighChange': -42.79001, 'fiftyTwoWeekHighChangePercent': -0.2794358, 'fiftyTwoWeekChangePercent': 26.325285, 'dividendDate': 1743552000, 'earningsTimestamp': 1748462400, 'earningsTimestampStart': 1748462400, 'earningsTimestampEnd': 1748462400, 'earningsCallTimestampStart': 1740607200, 'earningsCallTimestampEnd': 1740607200, 'isEarningsDateEstimate': False, 'epsTrailingTwelveMonths': 2.94, 'epsForward': 4.12, 'epsCurrentYear': 4.49607, 'priceEpsCurrentYear': 24.541433, 'fiftyDayAverageChange': -21.908401, 'fiftyDayAverageChangePercent': -0.16566099, 'twoHundredDayAverageChange': -16.831078, 'twoHundredDayAverageChangePercent': -0.1323499, 'sourceInterval': 15, 'exchangeDataDelayedBy': 0, 'prevName': 'Usual Stablecoin', 'nameChangeDate': '2025-03-06', 'averageAnalystRating': '1.3 - Strong Buy', 'cryptoTradeable': False, 'displayName': 'NVIDIA', 'trailingPegRatio': 1.0815}\u001b[0m\u001b[32;1m\u001b[1;3mFor Nvidia (NVDA), the financial metrics are as follows:\n",
            "\n",
            "- **EBITDA**: $83,316,998,144\n",
            "- **Total Debt**: $10,270,000,128\n",
            "- **Total Revenue**: $130,497,003,520\n",
            "- **Debt-to-Equity Ratio**: 12.946\n",
            "\n",
            "If you need further information, feel free to ask!\u001b[0m\n",
            "\n",
            "\u001b[1m> Finished chain.\u001b[0m\n"
          ]
        },
        {
          "data": {
            "text/plain": [
              "{'messages': [HumanMessage(content='What are ebitda, total debt, total revenue and debt-to-equity for Nvidia stock?', additional_kwargs={}, response_metadata={})],\n",
              " 'output': 'For Nvidia (NVDA), the financial metrics are as follows:\\n\\n- **EBITDA**: $83,316,998,144\\n- **Total Debt**: $10,270,000,128\\n- **Total Revenue**: $130,497,003,520\\n- **Debt-to-Equity Ratio**: 12.946\\n\\nIf you need further information, feel free to ask!'}"
            ]
          },
          "execution_count": 56,
          "metadata": {},
          "output_type": "execute_result"
        }
      ],
      "source": [
        "response = finance_agent_executor.invoke({\"messages\": [HumanMessage(content=\"What are ebitda, total debt, total revenue and debt-to-equity for Nvidia stock?\")]})\n",
        "response"
      ]
    },
    {
      "cell_type": "code",
      "execution_count": null,
      "metadata": {
        "id": "fvm4GJGdma9j"
      },
      "outputs": [],
      "source": [
        "response = finance_agent_executor.invoke({\"messages\": [HumanMessage(content=\"Given the current market trends is it good to invest in Nvidia\")]})\n",
        "response"
      ]
    },
    {
      "cell_type": "markdown",
      "metadata": {
        "id": "Qti6pnQaPzmR"
      },
      "source": [
        "# Stock Maket Agnet with Agno\n",
        "\n",
        "-  AI & Finance: A Perfect Match 🤝\n",
        "-  In this notebook, we'll explore how AI can revolutionize investing by analyzing stock trends.\n",
        "\n",
        "\n"
      ]
    },
    {
      "cell_type": "code",
      "source": [
        "%pip install agno duckduckgo-search yfinance openai matplotlib google-search-results openai"
      ],
      "metadata": {
        "id": "xajYsJ3Xh_nL"
      },
      "execution_count": null,
      "outputs": []
    },
    {
      "cell_type": "code",
      "execution_count": null,
      "metadata": {
        "id": "2ASYZ2KbPzmW"
      },
      "outputs": [],
      "source": [
        "import os\n",
        "from google.colab import userdata\n",
        "\n",
        "os.environ['OPENAI_API_KEY'] = userdata.get(\"OPENAI_API_KEY\")"
      ]
    },
    {
      "cell_type": "markdown",
      "source": [
        "###Import AI Tools\n"
      ],
      "metadata": {
        "id": "NeXIoQvHxZT8"
      }
    },
    {
      "cell_type": "code",
      "source": [
        "from agno.agent import Agent\n",
        "from agno.models.openai import OpenAIChat\n",
        "from agno.tools.duckduckgo import DuckDuckGoTools\n",
        "from agno.tools.yfinance import YFinanceTools\n",
        "import matplotlib.pyplot as plt\n",
        "import matplotlib.pyplot as plt\n",
        "import seaborn as sns\n",
        "import pandas as pd"
      ],
      "metadata": {
        "id": "Ra9G5LkFxZCk"
      },
      "execution_count": null,
      "outputs": []
    },
    {
      "cell_type": "markdown",
      "source": [
        "### Create AI Agents :- Uses Yahoo Finance Tool\n",
        "- Web Agent searches the internet, Finance Agent pulls stock data"
      ],
      "metadata": {
        "id": "RBjXEBrZxiqr"
      }
    },
    {
      "cell_type": "code",
      "source": [
        "web_agent = Agent(\n",
        "    name=\"Web Agent\",\n",
        "    role=\"Search the web for information\",\n",
        "    model=OpenAIChat(id=\"gpt-4o\"),\n",
        "    tools=[DuckDuckGoTools()],\n",
        "    markdown=True,\n",
        ")\n",
        "\n",
        "finance_agent = Agent(\n",
        "    name=\"Finance Agent\",\n",
        "    role=\"Get financial data\",\n",
        "    model=OpenAIChat(id=\"gpt-4o\"),\n",
        "    tools=[YFinanceTools(stock_price=True, company_info=True)],\n",
        "    instructions=[\"Always use tables to display data\"],\n",
        "    markdown=True,\n",
        ")\n",
        "\n",
        "team = Agent(team=[web_agent, finance_agent], markdown=True)"
      ],
      "metadata": {
        "id": "I1dz3DLoxhPw"
      },
      "execution_count": null,
      "outputs": []
    },
    {
      "cell_type": "markdown",
      "source": [
        "### Analyze Tech Sector Trends\n"
      ],
      "metadata": {
        "id": "VlV1bLloxhB-"
      }
    },
    {
      "cell_type": "code",
      "source": [
        "query = \"\"\"\n",
        "Analyze the performance of the tech sector over the last 6 months using these stocks: AAPL, MSFT, GOOGL.\n",
        "Include:\n",
        "1. Average price change across these stocks\n",
        "2. Key events or trends from the web affecting the sector\n",
        "\"\"\"\n",
        "response = team.print_response(query, stream=True)"
      ],
      "metadata": {
        "colab": {
          "base_uri": "https://localhost:8080/",
          "height": 842,
          "referenced_widgets": [
            "5933294cff8249f8a540681883165877",
            "1db0d3bf8db844398946b2614b4973a3"
          ]
        },
        "id": "A4WlNIoFxq5P",
        "outputId": "1855f9e5-0c00-4065-b421-fc934fce4d1a"
      },
      "execution_count": null,
      "outputs": [
        {
          "output_type": "display_data",
          "data": {
            "text/plain": [
              "Output()"
            ],
            "application/vnd.jupyter.widget-view+json": {
              "version_major": 2,
              "version_minor": 0,
              "model_id": "5933294cff8249f8a540681883165877"
            }
          },
          "metadata": {}
        },
        {
          "output_type": "display_data",
          "data": {
            "text/plain": [],
            "text/html": [
              "<pre style=\"white-space:pre;overflow-x:auto;line-height:normal;font-family:Menlo,'DejaVu Sans Mono',consolas,'Courier New',monospace\"></pre>\n"
            ]
          },
          "metadata": {}
        }
      ]
    },
    {
      "cell_type": "markdown",
      "source": [
        "### Screen Stocks by Risk\n"
      ],
      "metadata": {
        "id": "z6R2z_VV3sPM"
      }
    },
    {
      "cell_type": "code",
      "source": [
        "query = \"\"\"\n",
        "I’m a moderate-risk investor. Suggest 3 stocks to consider for a 5-year investment.\n",
        "Include:\n",
        "1. Recent performance (6 months)\n",
        "2. Why they fit moderate risk (e.g., stability, growth potential)\n",
        "\"\"\"\n",
        "response = team.print_response(query, stream=True)"
      ],
      "metadata": {
        "colab": {
          "base_uri": "https://localhost:8080/",
          "height": 1000,
          "referenced_widgets": [
            "448e54b0ef9a49379d6fd5f6aaa228a6",
            "2c5b4d9225564fcabdaf8eeee0d35222"
          ]
        },
        "id": "huWqaqfJ3rb1",
        "outputId": "e169ef8e-1375-4a65-eea4-532f425d9bb6"
      },
      "execution_count": null,
      "outputs": [
        {
          "output_type": "display_data",
          "data": {
            "text/plain": [
              "Output()"
            ],
            "application/vnd.jupyter.widget-view+json": {
              "version_major": 2,
              "version_minor": 0,
              "model_id": "448e54b0ef9a49379d6fd5f6aaa228a6"
            }
          },
          "metadata": {}
        },
        {
          "output_type": "display_data",
          "data": {
            "text/plain": [],
            "text/html": [
              "<pre style=\"white-space:pre;overflow-x:auto;line-height:normal;font-family:Menlo,'DejaVu Sans Mono',consolas,'Courier New',monospace\"></pre>\n"
            ]
          },
          "metadata": {}
        }
      ]
    },
    {
      "cell_type": "markdown",
      "source": [
        "### Define and Test Portfolio\n"
      ],
      "metadata": {
        "id": "UTt_PSDR4BWg"
      }
    },
    {
      "cell_type": "code",
      "source": [
        "portfolio = \"\"\"\n",
        "Portfolio:\n",
        "1. NVDA (NVIDIA): 40 shares\n",
        "2. KO (Coca-Cola): 60 shares\n",
        "3. SPY (S&P 500 ETF): 20 shares\n",
        "\n",
        "Stress-test this portfolio:\n",
        "1. How did these stocks perform in the last market downturn (e.g., early 2023)?\n",
        "2. What’s the risk level of this mix?\n",
        "3. Suggestions to make it safer for a 5-year moderate-risk plan?\n",
        "\"\"\"\n",
        "response = team.print_response(portfolio, stream=True)"
      ],
      "metadata": {
        "colab": {
          "base_uri": "https://localhost:8080/",
          "height": 1000,
          "referenced_widgets": [
            "dbdd97097c05447596886e300108087e",
            "4c2abd2afa0a40feac9287c15a758995"
          ]
        },
        "id": "0x_34TC_4Alh",
        "outputId": "24e0b43b-455d-47f0-c487-4b01b3b29444"
      },
      "execution_count": null,
      "outputs": [
        {
          "output_type": "display_data",
          "data": {
            "text/plain": [
              "Output()"
            ],
            "application/vnd.jupyter.widget-view+json": {
              "version_major": 2,
              "version_minor": 0,
              "model_id": "dbdd97097c05447596886e300108087e"
            }
          },
          "metadata": {}
        },
        {
          "output_type": "display_data",
          "data": {
            "text/plain": [],
            "text/html": [
              "<pre style=\"white-space:pre;overflow-x:auto;line-height:normal;font-family:Menlo,'DejaVu Sans Mono',consolas,'Courier New',monospace\"></pre>\n"
            ]
          },
          "metadata": {}
        }
      ]
    }
  ],
  "metadata": {
    "kernelspec": {
      "display_name": "myenv",
      "language": "python",
      "name": "python3"
    },
    "language_info": {
      "codemirror_mode": {
        "name": "ipython",
        "version": 3
      },
      "file_extension": ".py",
      "mimetype": "text/x-python",
      "name": "python",
      "nbconvert_exporter": "python",
      "pygments_lexer": "ipython3",
      "version": "3.11.11"
    },
    "colab": {
      "provenance": []
    }
  },
  "nbformat": 4,
  "nbformat_minor": 0
}